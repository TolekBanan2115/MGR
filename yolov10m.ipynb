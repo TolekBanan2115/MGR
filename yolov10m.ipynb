{
 "cells": [
  {
   "cell_type": "code",
   "execution_count": 1,
   "id": "d45c0da7-72f8-4f5e-ba70-7d79a4a522cf",
   "metadata": {},
   "outputs": [],
   "source": [
    "from ultralytics import YOLO\n",
    "import os\n",
    "import tensorboard\n",
    "import torch"
   ]
  },
  {
   "cell_type": "code",
   "execution_count": 2,
   "id": "92d6d0f3-9493-4a2c-9c8d-3d5ec5110c4a",
   "metadata": {},
   "outputs": [
    {
     "name": "stdout",
     "output_type": "stream",
     "text": [
      " Volume in drive F is superszybkissd\n",
      " Volume Serial Number is 98A2-EE81\n",
      "\n",
      " Directory of f:\\PRACA_MAGISTERSKA\\UCZENIE_MODELI\\yolov10m\n",
      "\n",
      "16.06.2025  14:58    <DIR>          .\n",
      "23.06.2025  14:58    <DIR>          ..\n",
      "21.03.2025  02:56    <DIR>          .ipynb_checkpoints\n",
      "21.03.2025  02:56               150 data.yaml\n",
      "15.04.2025  09:38    <DIR>          predictions\n",
      "06.03.2025  02:25    <DIR>          runs\n",
      "06.03.2025  02:25         5˙613˙764 yolo11n.pt\n",
      "16.06.2025  14:58           919˙391 yolov10m.ipynb\n",
      "26.02.2025  13:18        33˙643˙667 yolov10m.pt\n",
      "               4 File(s)     40˙176˙972 bytes\n",
      "               5 Dir(s)  81˙525˙301˙248 bytes free\n"
     ]
    }
   ],
   "source": [
    "ls"
   ]
  },
  {
   "cell_type": "code",
   "execution_count": 4,
   "id": "1236cc0c-eac3-4693-8c4b-c7272ebf210b",
   "metadata": {},
   "outputs": [
    {
     "name": "stdout",
     "output_type": "stream",
     "text": [
      "The tensorboard extension is already loaded. To reload it, use:\n",
      "  %reload_ext tensorboard\n"
     ]
    },
    {
     "data": {
      "text/html": [
       "\n",
       "      <iframe id=\"tensorboard-frame-3913cea4c5730b2e\" width=\"100%\" height=\"800\" frameborder=\"0\">\n",
       "      </iframe>\n",
       "      <script>\n",
       "        (function() {\n",
       "          const frame = document.getElementById(\"tensorboard-frame-3913cea4c5730b2e\");\n",
       "          const url = new URL(\"/\", window.location);\n",
       "          const port = 6006;\n",
       "          if (port) {\n",
       "            url.port = port;\n",
       "          }\n",
       "          frame.src = url;\n",
       "        })();\n",
       "      </script>\n",
       "    "
      ],
      "text/plain": [
       "<IPython.core.display.HTML object>"
      ]
     },
     "metadata": {},
     "output_type": "display_data"
    }
   ],
   "source": [
    "%load_ext tensorboard\n",
    "%tensorboard --logdir runs/detect"
   ]
  },
  {
   "cell_type": "code",
   "execution_count": 4,
   "id": "d01d6854-8c36-44b1-8280-7399ea1e20e3",
   "metadata": {
    "scrolled": true
   },
   "outputs": [
    {
     "name": "stdout",
     "output_type": "stream",
     "text": [
      "YOLOv10m summary: 288 layers, 16,576,768 parameters, 0 gradients, 64.5 GFLOPs\n",
      "New https://pypi.org/project/ultralytics/8.3.108 available  Update with 'pip install -U ultralytics'\n",
      "Ultralytics 8.3.82  Python-3.11.11 torch-2.5.1 CUDA:0 (NVIDIA GeForce RTX 3060, 12288MiB)\n",
      "\u001b[34m\u001b[1mengine\\trainer: \u001b[0mtask=detect, mode=train, model=yolov10m.pt, data=data.yaml, epochs=300, time=None, patience=50, batch=-1, imgsz=640, save=True, save_period=10, cache=False, device=0, workers=8, project=None, name=dataset-v2-finetune-1, exist_ok=False, pretrained=True, optimizer=auto, verbose=True, seed=0, deterministic=True, single_cls=False, rect=False, cos_lr=False, close_mosaic=10, resume=False, amp=True, fraction=1.0, profile=False, freeze=10, multi_scale=False, overlap_mask=True, mask_ratio=4, dropout=0.0, val=True, split=val, save_json=False, save_hybrid=False, conf=None, iou=0.7, max_det=300, half=False, dnn=False, plots=True, source=None, vid_stride=1, stream_buffer=False, visualize=False, augment=False, agnostic_nms=False, classes=None, retina_masks=False, embed=None, show=False, save_frames=False, save_txt=False, save_conf=False, save_crop=False, show_labels=True, show_conf=True, show_boxes=True, line_width=None, format=torchscript, keras=False, optimize=False, int8=False, dynamic=False, simplify=True, opset=None, workspace=None, nms=False, lr0=0.01, lrf=0.01, momentum=0.937, weight_decay=0.0005, warmup_epochs=3.0, warmup_momentum=0.8, warmup_bias_lr=0.1, box=7.5, cls=0.5, dfl=1.5, pose=12.0, kobj=1.0, nbs=64, hsv_h=0.015, hsv_s=0.7, hsv_v=0.4, degrees=0.0, translate=0.1, scale=0.5, shear=0.0, perspective=0.0, flipud=0.0, fliplr=0.5, bgr=0.0, mosaic=1.0, mixup=0.0, copy_paste=0.0, copy_paste_mode=flip, auto_augment=randaugment, erasing=0.4, crop_fraction=1.0, cfg=None, tracker=botsort.yaml, save_dir=runs\\detect\\dataset-v2-finetune-1\n",
      "Overriding model.yaml nc=80 with nc=4\n",
      "\n",
      "                   from  n    params  module                                       arguments                     \n",
      "  0                  -1  1      1392  ultralytics.nn.modules.conv.Conv             [3, 48, 3, 2]                 \n",
      "  1                  -1  1     41664  ultralytics.nn.modules.conv.Conv             [48, 96, 3, 2]                \n",
      "  2                  -1  2    111360  ultralytics.nn.modules.block.C2f             [96, 96, 2, True]             \n",
      "  3                  -1  1    166272  ultralytics.nn.modules.conv.Conv             [96, 192, 3, 2]               \n",
      "  4                  -1  4    813312  ultralytics.nn.modules.block.C2f             [192, 192, 4, True]           \n",
      "  5                  -1  1     78720  ultralytics.nn.modules.block.SCDown          [192, 384, 3, 2]              \n",
      "  6                  -1  4   3248640  ultralytics.nn.modules.block.C2f             [384, 384, 4, True]           \n",
      "  7                  -1  1    228672  ultralytics.nn.modules.block.SCDown          [384, 576, 3, 2]              \n",
      "  8                  -1  2   1689984  ultralytics.nn.modules.block.C2fCIB          [576, 576, 2, True]           \n",
      "  9                  -1  1    831168  ultralytics.nn.modules.block.SPPF            [576, 576, 5]                 \n",
      " 10                  -1  1   1253088  ultralytics.nn.modules.block.PSA             [576, 576]                    \n",
      " 11                  -1  1         0  torch.nn.modules.upsampling.Upsample         [None, 2, 'nearest']          \n",
      " 12             [-1, 6]  1         0  ultralytics.nn.modules.conv.Concat           [1]                           \n",
      " 13                  -1  2   1993728  ultralytics.nn.modules.block.C2f             [960, 384, 2]                 \n",
      " 14                  -1  1         0  torch.nn.modules.upsampling.Upsample         [None, 2, 'nearest']          \n",
      " 15             [-1, 4]  1         0  ultralytics.nn.modules.conv.Concat           [1]                           \n",
      " 16                  -1  2    517632  ultralytics.nn.modules.block.C2f             [576, 192, 2]                 \n",
      " 17                  -1  1    332160  ultralytics.nn.modules.conv.Conv             [192, 192, 3, 2]              \n",
      " 18            [-1, 13]  1         0  ultralytics.nn.modules.conv.Concat           [1]                           \n",
      " 19                  -1  2    831744  ultralytics.nn.modules.block.C2fCIB          [576, 384, 2, True]           \n",
      " 20                  -1  1    152448  ultralytics.nn.modules.block.SCDown          [384, 384, 3, 2]              \n",
      " 21            [-1, 10]  1         0  ultralytics.nn.modules.conv.Concat           [1]                           \n",
      " 22                  -1  2   1911168  ultralytics.nn.modules.block.C2fCIB          [960, 576, 2, True]           \n",
      " 23        [16, 19, 22]  1   2285608  ultralytics.nn.modules.head.v10Detect        [4, [192, 384, 576]]          \n",
      "YOLOv10m summary: 288 layers, 16,488,760 parameters, 16,488,744 gradients, 64.0 GFLOPs\n",
      "\n",
      "Transferred 787/799 items from pretrained weights\n",
      "\u001b[34m\u001b[1mTensorBoard: \u001b[0mStart with 'tensorboard --logdir runs\\detect\\dataset-v2-finetune-1', view at http://localhost:6006/\n",
      "Freezing layer 'model.0.conv.weight'\n",
      "Freezing layer 'model.0.bn.weight'\n",
      "Freezing layer 'model.0.bn.bias'\n",
      "Freezing layer 'model.1.conv.weight'\n",
      "Freezing layer 'model.1.bn.weight'\n",
      "Freezing layer 'model.1.bn.bias'\n",
      "Freezing layer 'model.2.cv1.conv.weight'\n",
      "Freezing layer 'model.2.cv1.bn.weight'\n",
      "Freezing layer 'model.2.cv1.bn.bias'\n",
      "Freezing layer 'model.2.cv2.conv.weight'\n",
      "Freezing layer 'model.2.cv2.bn.weight'\n",
      "Freezing layer 'model.2.cv2.bn.bias'\n",
      "Freezing layer 'model.2.m.0.cv1.conv.weight'\n",
      "Freezing layer 'model.2.m.0.cv1.bn.weight'\n",
      "Freezing layer 'model.2.m.0.cv1.bn.bias'\n",
      "Freezing layer 'model.2.m.0.cv2.conv.weight'\n",
      "Freezing layer 'model.2.m.0.cv2.bn.weight'\n",
      "Freezing layer 'model.2.m.0.cv2.bn.bias'\n",
      "Freezing layer 'model.2.m.1.cv1.conv.weight'\n",
      "Freezing layer 'model.2.m.1.cv1.bn.weight'\n",
      "Freezing layer 'model.2.m.1.cv1.bn.bias'\n",
      "Freezing layer 'model.2.m.1.cv2.conv.weight'\n",
      "Freezing layer 'model.2.m.1.cv2.bn.weight'\n",
      "Freezing layer 'model.2.m.1.cv2.bn.bias'\n",
      "Freezing layer 'model.3.conv.weight'\n",
      "Freezing layer 'model.3.bn.weight'\n",
      "Freezing layer 'model.3.bn.bias'\n",
      "Freezing layer 'model.4.cv1.conv.weight'\n",
      "Freezing layer 'model.4.cv1.bn.weight'\n",
      "Freezing layer 'model.4.cv1.bn.bias'\n",
      "Freezing layer 'model.4.cv2.conv.weight'\n",
      "Freezing layer 'model.4.cv2.bn.weight'\n",
      "Freezing layer 'model.4.cv2.bn.bias'\n",
      "Freezing layer 'model.4.m.0.cv1.conv.weight'\n",
      "Freezing layer 'model.4.m.0.cv1.bn.weight'\n",
      "Freezing layer 'model.4.m.0.cv1.bn.bias'\n",
      "Freezing layer 'model.4.m.0.cv2.conv.weight'\n",
      "Freezing layer 'model.4.m.0.cv2.bn.weight'\n",
      "Freezing layer 'model.4.m.0.cv2.bn.bias'\n",
      "Freezing layer 'model.4.m.1.cv1.conv.weight'\n",
      "Freezing layer 'model.4.m.1.cv1.bn.weight'\n",
      "Freezing layer 'model.4.m.1.cv1.bn.bias'\n",
      "Freezing layer 'model.4.m.1.cv2.conv.weight'\n",
      "Freezing layer 'model.4.m.1.cv2.bn.weight'\n",
      "Freezing layer 'model.4.m.1.cv2.bn.bias'\n",
      "Freezing layer 'model.4.m.2.cv1.conv.weight'\n",
      "Freezing layer 'model.4.m.2.cv1.bn.weight'\n",
      "Freezing layer 'model.4.m.2.cv1.bn.bias'\n",
      "Freezing layer 'model.4.m.2.cv2.conv.weight'\n",
      "Freezing layer 'model.4.m.2.cv2.bn.weight'\n",
      "Freezing layer 'model.4.m.2.cv2.bn.bias'\n",
      "Freezing layer 'model.4.m.3.cv1.conv.weight'\n",
      "Freezing layer 'model.4.m.3.cv1.bn.weight'\n",
      "Freezing layer 'model.4.m.3.cv1.bn.bias'\n",
      "Freezing layer 'model.4.m.3.cv2.conv.weight'\n",
      "Freezing layer 'model.4.m.3.cv2.bn.weight'\n",
      "Freezing layer 'model.4.m.3.cv2.bn.bias'\n",
      "Freezing layer 'model.5.cv1.conv.weight'\n",
      "Freezing layer 'model.5.cv1.bn.weight'\n",
      "Freezing layer 'model.5.cv1.bn.bias'\n",
      "Freezing layer 'model.5.cv2.conv.weight'\n",
      "Freezing layer 'model.5.cv2.bn.weight'\n",
      "Freezing layer 'model.5.cv2.bn.bias'\n",
      "Freezing layer 'model.6.cv1.conv.weight'\n",
      "Freezing layer 'model.6.cv1.bn.weight'\n",
      "Freezing layer 'model.6.cv1.bn.bias'\n",
      "Freezing layer 'model.6.cv2.conv.weight'\n",
      "Freezing layer 'model.6.cv2.bn.weight'\n",
      "Freezing layer 'model.6.cv2.bn.bias'\n",
      "Freezing layer 'model.6.m.0.cv1.conv.weight'\n",
      "Freezing layer 'model.6.m.0.cv1.bn.weight'\n",
      "Freezing layer 'model.6.m.0.cv1.bn.bias'\n",
      "Freezing layer 'model.6.m.0.cv2.conv.weight'\n",
      "Freezing layer 'model.6.m.0.cv2.bn.weight'\n",
      "Freezing layer 'model.6.m.0.cv2.bn.bias'\n",
      "Freezing layer 'model.6.m.1.cv1.conv.weight'\n",
      "Freezing layer 'model.6.m.1.cv1.bn.weight'\n",
      "Freezing layer 'model.6.m.1.cv1.bn.bias'\n",
      "Freezing layer 'model.6.m.1.cv2.conv.weight'\n",
      "Freezing layer 'model.6.m.1.cv2.bn.weight'\n",
      "Freezing layer 'model.6.m.1.cv2.bn.bias'\n",
      "Freezing layer 'model.6.m.2.cv1.conv.weight'\n",
      "Freezing layer 'model.6.m.2.cv1.bn.weight'\n",
      "Freezing layer 'model.6.m.2.cv1.bn.bias'\n",
      "Freezing layer 'model.6.m.2.cv2.conv.weight'\n",
      "Freezing layer 'model.6.m.2.cv2.bn.weight'\n",
      "Freezing layer 'model.6.m.2.cv2.bn.bias'\n",
      "Freezing layer 'model.6.m.3.cv1.conv.weight'\n",
      "Freezing layer 'model.6.m.3.cv1.bn.weight'\n",
      "Freezing layer 'model.6.m.3.cv1.bn.bias'\n",
      "Freezing layer 'model.6.m.3.cv2.conv.weight'\n",
      "Freezing layer 'model.6.m.3.cv2.bn.weight'\n",
      "Freezing layer 'model.6.m.3.cv2.bn.bias'\n",
      "Freezing layer 'model.7.cv1.conv.weight'\n",
      "Freezing layer 'model.7.cv1.bn.weight'\n",
      "Freezing layer 'model.7.cv1.bn.bias'\n",
      "Freezing layer 'model.7.cv2.conv.weight'\n",
      "Freezing layer 'model.7.cv2.bn.weight'\n",
      "Freezing layer 'model.7.cv2.bn.bias'\n",
      "Freezing layer 'model.8.cv1.conv.weight'\n",
      "Freezing layer 'model.8.cv1.bn.weight'\n",
      "Freezing layer 'model.8.cv1.bn.bias'\n",
      "Freezing layer 'model.8.cv2.conv.weight'\n",
      "Freezing layer 'model.8.cv2.bn.weight'\n",
      "Freezing layer 'model.8.cv2.bn.bias'\n",
      "Freezing layer 'model.8.m.0.cv1.0.conv.weight'\n",
      "Freezing layer 'model.8.m.0.cv1.0.bn.weight'\n",
      "Freezing layer 'model.8.m.0.cv1.0.bn.bias'\n",
      "Freezing layer 'model.8.m.0.cv1.1.conv.weight'\n",
      "Freezing layer 'model.8.m.0.cv1.1.bn.weight'\n",
      "Freezing layer 'model.8.m.0.cv1.1.bn.bias'\n",
      "Freezing layer 'model.8.m.0.cv1.2.conv.weight'\n",
      "Freezing layer 'model.8.m.0.cv1.2.bn.weight'\n",
      "Freezing layer 'model.8.m.0.cv1.2.bn.bias'\n",
      "Freezing layer 'model.8.m.0.cv1.3.conv.weight'\n",
      "Freezing layer 'model.8.m.0.cv1.3.bn.weight'\n",
      "Freezing layer 'model.8.m.0.cv1.3.bn.bias'\n",
      "Freezing layer 'model.8.m.0.cv1.4.conv.weight'\n",
      "Freezing layer 'model.8.m.0.cv1.4.bn.weight'\n",
      "Freezing layer 'model.8.m.0.cv1.4.bn.bias'\n",
      "Freezing layer 'model.8.m.1.cv1.0.conv.weight'\n",
      "Freezing layer 'model.8.m.1.cv1.0.bn.weight'\n",
      "Freezing layer 'model.8.m.1.cv1.0.bn.bias'\n",
      "Freezing layer 'model.8.m.1.cv1.1.conv.weight'\n",
      "Freezing layer 'model.8.m.1.cv1.1.bn.weight'\n",
      "Freezing layer 'model.8.m.1.cv1.1.bn.bias'\n",
      "Freezing layer 'model.8.m.1.cv1.2.conv.weight'\n",
      "Freezing layer 'model.8.m.1.cv1.2.bn.weight'\n",
      "Freezing layer 'model.8.m.1.cv1.2.bn.bias'\n",
      "Freezing layer 'model.8.m.1.cv1.3.conv.weight'\n",
      "Freezing layer 'model.8.m.1.cv1.3.bn.weight'\n",
      "Freezing layer 'model.8.m.1.cv1.3.bn.bias'\n",
      "Freezing layer 'model.8.m.1.cv1.4.conv.weight'\n",
      "Freezing layer 'model.8.m.1.cv1.4.bn.weight'\n",
      "Freezing layer 'model.8.m.1.cv1.4.bn.bias'\n",
      "Freezing layer 'model.9.cv1.conv.weight'\n",
      "Freezing layer 'model.9.cv1.bn.weight'\n",
      "Freezing layer 'model.9.cv1.bn.bias'\n",
      "Freezing layer 'model.9.cv2.conv.weight'\n",
      "Freezing layer 'model.9.cv2.bn.weight'\n",
      "Freezing layer 'model.9.cv2.bn.bias'\n",
      "Freezing layer 'model.23.dfl.conv.weight'\n",
      "\u001b[34m\u001b[1mAMP: \u001b[0mrunning Automatic Mixed Precision (AMP) checks...\n",
      "\u001b[34m\u001b[1mAMP: \u001b[0mchecks passed \n"
     ]
    },
    {
     "name": "stderr",
     "output_type": "stream",
     "text": [
      "\u001b[34m\u001b[1mtrain: \u001b[0mScanning F:\\PRACA_MAGISTERSKA\\DATASETS\\MAGISTERKA-V2\\labels\\train.cache... 2036 images, 436 backgrounds, 0 corru\u001b[0m\n"
     ]
    },
    {
     "name": "stdout",
     "output_type": "stream",
     "text": [
      "\u001b[34m\u001b[1mAutoBatch: \u001b[0mComputing optimal batch size for imgsz=640 at 60.0% CUDA memory utilization.\n",
      "\u001b[34m\u001b[1mAutoBatch: \u001b[0mCUDA:0 (NVIDIA GeForce RTX 3060) 12.00G total, 0.16G reserved, 0.16G allocated, 11.68G free\n",
      "      Params      GFLOPs  GPU_mem (GB)  forward (ms) backward (ms)                   input                  output\n",
      "    16488760       63.99         1.053         104.2           nan        (1, 3, 640, 640)                    list\n",
      "    16488760         128         1.944         166.3           nan        (2, 3, 640, 640)                    list\n",
      "    16488760       255.9         3.248         66.63           nan        (4, 3, 640, 640)                    list\n",
      "    16488760       511.9         6.034         80.19           nan        (8, 3, 640, 640)                    list\n",
      "    16488760        1024        10.924         150.8           nan       (16, 3, 640, 640)                    list\n",
      "\u001b[34m\u001b[1mAutoBatch: \u001b[0mUsing batch-size 10 for CUDA:0 7.59G/12.00G (63%) \n"
     ]
    },
    {
     "name": "stderr",
     "output_type": "stream",
     "text": [
      "\u001b[34m\u001b[1mtrain: \u001b[0mScanning F:\\PRACA_MAGISTERSKA\\DATASETS\\MAGISTERKA-V2\\labels\\train.cache... 2036 images, 436 backgrounds, 0 corru\u001b[0m\n",
      "\u001b[34m\u001b[1mval: \u001b[0mScanning F:\\PRACA_MAGISTERSKA\\DATASETS\\MAGISTERKA-V2\\labels\\val.cache... 679 images, 154 backgrounds, 0 corrupt: 1\u001b[0m\n"
     ]
    },
    {
     "name": "stdout",
     "output_type": "stream",
     "text": [
      "Plotting labels to runs\\detect\\dataset-v2-finetune-1\\labels.jpg... \n",
      "\u001b[34m\u001b[1moptimizer:\u001b[0m 'optimizer=auto' found, ignoring 'lr0=0.01' and 'momentum=0.937' and determining best 'optimizer', 'lr0' and 'momentum' automatically... \n",
      "\u001b[34m\u001b[1moptimizer:\u001b[0m AdamW(lr=0.00125, momentum=0.9) with parameter groups 129 weight(decay=0.0), 142 weight(decay=0.00046875), 141 bias(decay=0.0)\n",
      "\u001b[34m\u001b[1mTensorBoard: \u001b[0mmodel graph visualization added \n",
      "Image sizes 640 train, 640 val\n",
      "Using 6 dataloader workers\n",
      "Logging results to \u001b[1mruns\\detect\\dataset-v2-finetune-1\u001b[0m\n",
      "Starting training for 300 epochs...\n",
      "\n",
      "      Epoch    GPU_mem   box_loss   cls_loss   dfl_loss  Instances       Size\n"
     ]
    },
    {
     "name": "stderr",
     "output_type": "stream",
     "text": [
      "      1/300      2.92G       3.33      3.858      2.851         87        640: 100%|██████████| 204/204 [00:59<00:00,  \n",
      "                 Class     Images  Instances      Box(P          R      mAP50  mAP50-95): 100%|██████████| 34/34 [00:08"
     ]
    },
    {
     "name": "stdout",
     "output_type": "stream",
     "text": [
      "                   all        679       3388      0.808      0.816      0.875        0.5\n"
     ]
    },
    {
     "name": "stderr",
     "output_type": "stream",
     "text": [
      "\n"
     ]
    },
    {
     "name": "stdout",
     "output_type": "stream",
     "text": [
      "\n",
      "      Epoch    GPU_mem   box_loss   cls_loss   dfl_loss  Instances       Size\n"
     ]
    },
    {
     "name": "stderr",
     "output_type": "stream",
     "text": [
      "      2/300      2.85G      3.137      2.058      2.679         29        640: 100%|██████████| 204/204 [00:52<00:00,  \n",
      "                 Class     Images  Instances      Box(P          R      mAP50  mAP50-95): 100%|██████████| 34/34 [00:08"
     ]
    },
    {
     "name": "stdout",
     "output_type": "stream",
     "text": [
      "                   all        679       3388      0.831      0.837      0.898      0.512\n"
     ]
    },
    {
     "name": "stderr",
     "output_type": "stream",
     "text": [
      "\n"
     ]
    },
    {
     "name": "stdout",
     "output_type": "stream",
     "text": [
      "\n",
      "      Epoch    GPU_mem   box_loss   cls_loss   dfl_loss  Instances       Size\n"
     ]
    },
    {
     "name": "stderr",
     "output_type": "stream",
     "text": [
      "      3/300      2.76G      3.067      1.933      2.645         56        640: 100%|██████████| 204/204 [00:51<00:00,  \n",
      "                 Class     Images  Instances      Box(P          R      mAP50  mAP50-95): 100%|██████████| 34/34 [00:08"
     ]
    },
    {
     "name": "stdout",
     "output_type": "stream",
     "text": [
      "                   all        679       3388      0.858      0.827        0.9      0.526\n"
     ]
    },
    {
     "name": "stderr",
     "output_type": "stream",
     "text": [
      "\n"
     ]
    },
    {
     "name": "stdout",
     "output_type": "stream",
     "text": [
      "\n",
      "      Epoch    GPU_mem   box_loss   cls_loss   dfl_loss  Instances       Size\n"
     ]
    },
    {
     "name": "stderr",
     "output_type": "stream",
     "text": [
      "      4/300      2.73G      3.061      1.855      2.633         51        640: 100%|██████████| 204/204 [00:51<00:00,  \n",
      "                 Class     Images  Instances      Box(P          R      mAP50  mAP50-95): 100%|██████████| 34/34 [00:08"
     ]
    },
    {
     "name": "stdout",
     "output_type": "stream",
     "text": [
      "                   all        679       3388      0.877       0.85       0.92      0.542\n"
     ]
    },
    {
     "name": "stderr",
     "output_type": "stream",
     "text": [
      "\n"
     ]
    },
    {
     "name": "stdout",
     "output_type": "stream",
     "text": [
      "\n",
      "      Epoch    GPU_mem   box_loss   cls_loss   dfl_loss  Instances       Size\n"
     ]
    },
    {
     "name": "stderr",
     "output_type": "stream",
     "text": [
      "      5/300      2.81G      2.989      1.765      2.584         43        640: 100%|██████████| 204/204 [00:51<00:00,  \n",
      "                 Class     Images  Instances      Box(P          R      mAP50  mAP50-95): 100%|██████████| 34/34 [00:08"
     ]
    },
    {
     "name": "stdout",
     "output_type": "stream",
     "text": [
      "                   all        679       3388      0.866      0.859      0.923      0.555\n"
     ]
    },
    {
     "name": "stderr",
     "output_type": "stream",
     "text": [
      "\n"
     ]
    },
    {
     "name": "stdout",
     "output_type": "stream",
     "text": [
      "\n",
      "      Epoch    GPU_mem   box_loss   cls_loss   dfl_loss  Instances       Size\n"
     ]
    },
    {
     "name": "stderr",
     "output_type": "stream",
     "text": [
      "      6/300      2.77G      2.938       1.64      2.556         43        640: 100%|██████████| 204/204 [00:51<00:00,  \n",
      "                 Class     Images  Instances      Box(P          R      mAP50  mAP50-95): 100%|██████████| 34/34 [00:08"
     ]
    },
    {
     "name": "stdout",
     "output_type": "stream",
     "text": [
      "                   all        679       3388      0.882      0.872      0.934      0.566\n"
     ]
    },
    {
     "name": "stderr",
     "output_type": "stream",
     "text": [
      "\n"
     ]
    },
    {
     "name": "stdout",
     "output_type": "stream",
     "text": [
      "\n",
      "      Epoch    GPU_mem   box_loss   cls_loss   dfl_loss  Instances       Size\n"
     ]
    },
    {
     "name": "stderr",
     "output_type": "stream",
     "text": [
      "      7/300      2.74G      2.864      1.582      2.521         89        640: 100%|██████████| 204/204 [00:51<00:00,  \n",
      "                 Class     Images  Instances      Box(P          R      mAP50  mAP50-95): 100%|██████████| 34/34 [00:08"
     ]
    },
    {
     "name": "stdout",
     "output_type": "stream",
     "text": [
      "                   all        679       3388      0.885      0.882      0.937      0.572\n"
     ]
    },
    {
     "name": "stderr",
     "output_type": "stream",
     "text": [
      "\n"
     ]
    },
    {
     "name": "stdout",
     "output_type": "stream",
     "text": [
      "\n",
      "      Epoch    GPU_mem   box_loss   cls_loss   dfl_loss  Instances       Size\n"
     ]
    },
    {
     "name": "stderr",
     "output_type": "stream",
     "text": [
      "      8/300      2.84G      2.862      1.578      2.515         74        640: 100%|██████████| 204/204 [00:51<00:00,  \n",
      "                 Class     Images  Instances      Box(P          R      mAP50  mAP50-95): 100%|██████████| 34/34 [00:08"
     ]
    },
    {
     "name": "stdout",
     "output_type": "stream",
     "text": [
      "                   all        679       3388      0.881      0.884      0.938      0.569\n"
     ]
    },
    {
     "name": "stderr",
     "output_type": "stream",
     "text": [
      "\n"
     ]
    },
    {
     "name": "stdout",
     "output_type": "stream",
     "text": [
      "\n",
      "      Epoch    GPU_mem   box_loss   cls_loss   dfl_loss  Instances       Size\n"
     ]
    },
    {
     "name": "stderr",
     "output_type": "stream",
     "text": [
      "      9/300      2.77G      2.798       1.51      2.488         47        640: 100%|██████████| 204/204 [00:51<00:00,  \n",
      "                 Class     Images  Instances      Box(P          R      mAP50  mAP50-95): 100%|██████████| 34/34 [00:08"
     ]
    },
    {
     "name": "stdout",
     "output_type": "stream",
     "text": [
      "                   all        679       3388      0.893      0.895      0.943      0.583\n"
     ]
    },
    {
     "name": "stderr",
     "output_type": "stream",
     "text": [
      "\n"
     ]
    },
    {
     "name": "stdout",
     "output_type": "stream",
     "text": [
      "\n",
      "      Epoch    GPU_mem   box_loss   cls_loss   dfl_loss  Instances       Size\n"
     ]
    },
    {
     "name": "stderr",
     "output_type": "stream",
     "text": [
      "     10/300       2.8G      2.772      1.485      2.472         43        640: 100%|██████████| 204/204 [00:51<00:00,  \n",
      "                 Class     Images  Instances      Box(P          R      mAP50  mAP50-95): 100%|██████████| 34/34 [00:08"
     ]
    },
    {
     "name": "stdout",
     "output_type": "stream",
     "text": [
      "                   all        679       3388       0.91      0.866      0.945      0.589\n"
     ]
    },
    {
     "name": "stderr",
     "output_type": "stream",
     "text": [
      "\n"
     ]
    },
    {
     "name": "stdout",
     "output_type": "stream",
     "text": [
      "\n",
      "      Epoch    GPU_mem   box_loss   cls_loss   dfl_loss  Instances       Size\n"
     ]
    },
    {
     "name": "stderr",
     "output_type": "stream",
     "text": [
      "     11/300      2.79G      2.749      1.467      2.437         61        640: 100%|██████████| 204/204 [00:51<00:00,  \n",
      "                 Class     Images  Instances      Box(P          R      mAP50  mAP50-95): 100%|██████████| 34/34 [00:08"
     ]
    },
    {
     "name": "stdout",
     "output_type": "stream",
     "text": [
      "                   all        679       3388      0.922       0.88      0.947       0.59\n"
     ]
    },
    {
     "name": "stderr",
     "output_type": "stream",
     "text": [
      "\n"
     ]
    },
    {
     "name": "stdout",
     "output_type": "stream",
     "text": [
      "\n",
      "      Epoch    GPU_mem   box_loss   cls_loss   dfl_loss  Instances       Size\n"
     ]
    },
    {
     "name": "stderr",
     "output_type": "stream",
     "text": [
      "     12/300       2.8G      2.738      1.419      2.414         70        640: 100%|██████████| 204/204 [00:51<00:00,  \n",
      "                 Class     Images  Instances      Box(P          R      mAP50  mAP50-95): 100%|██████████| 34/34 [00:08"
     ]
    },
    {
     "name": "stdout",
     "output_type": "stream",
     "text": [
      "                   all        679       3388      0.913      0.878      0.942      0.593\n"
     ]
    },
    {
     "name": "stderr",
     "output_type": "stream",
     "text": [
      "\n"
     ]
    },
    {
     "name": "stdout",
     "output_type": "stream",
     "text": [
      "\n",
      "      Epoch    GPU_mem   box_loss   cls_loss   dfl_loss  Instances       Size\n"
     ]
    },
    {
     "name": "stderr",
     "output_type": "stream",
     "text": [
      "     13/300      2.75G      2.714       1.42      2.417         58        640: 100%|██████████| 204/204 [00:51<00:00,  \n",
      "                 Class     Images  Instances      Box(P          R      mAP50  mAP50-95): 100%|██████████| 34/34 [00:08"
     ]
    },
    {
     "name": "stdout",
     "output_type": "stream",
     "text": [
      "                   all        679       3388      0.901      0.885      0.948       0.59\n"
     ]
    },
    {
     "name": "stderr",
     "output_type": "stream",
     "text": [
      "\n"
     ]
    },
    {
     "name": "stdout",
     "output_type": "stream",
     "text": [
      "\n",
      "      Epoch    GPU_mem   box_loss   cls_loss   dfl_loss  Instances       Size\n"
     ]
    },
    {
     "name": "stderr",
     "output_type": "stream",
     "text": [
      "     14/300      2.76G      2.699      1.403      2.415         31        640: 100%|██████████| 204/204 [00:51<00:00,  \n",
      "                 Class     Images  Instances      Box(P          R      mAP50  mAP50-95): 100%|██████████| 34/34 [00:08"
     ]
    },
    {
     "name": "stdout",
     "output_type": "stream",
     "text": [
      "                   all        679       3388      0.914      0.892      0.953      0.605\n"
     ]
    },
    {
     "name": "stderr",
     "output_type": "stream",
     "text": [
      "\n"
     ]
    },
    {
     "name": "stdout",
     "output_type": "stream",
     "text": [
      "\n",
      "      Epoch    GPU_mem   box_loss   cls_loss   dfl_loss  Instances       Size\n"
     ]
    },
    {
     "name": "stderr",
     "output_type": "stream",
     "text": [
      "     15/300      2.77G       2.68      1.385      2.399         53        640: 100%|██████████| 204/204 [00:52<00:00,  \n",
      "                 Class     Images  Instances      Box(P          R      mAP50  mAP50-95): 100%|██████████| 34/34 [00:07"
     ]
    },
    {
     "name": "stdout",
     "output_type": "stream",
     "text": [
      "                   all        679       3388      0.913      0.885       0.95      0.597\n"
     ]
    },
    {
     "name": "stderr",
     "output_type": "stream",
     "text": [
      "\n"
     ]
    },
    {
     "name": "stdout",
     "output_type": "stream",
     "text": [
      "\n",
      "      Epoch    GPU_mem   box_loss   cls_loss   dfl_loss  Instances       Size\n"
     ]
    },
    {
     "name": "stderr",
     "output_type": "stream",
     "text": [
      "     16/300      2.76G      2.654      1.352      2.399         45        640: 100%|██████████| 204/204 [00:50<00:00,  \n",
      "                 Class     Images  Instances      Box(P          R      mAP50  mAP50-95): 100%|██████████| 34/34 [00:07"
     ]
    },
    {
     "name": "stdout",
     "output_type": "stream",
     "text": [
      "                   all        679       3388      0.918       0.89      0.951        0.6\n"
     ]
    },
    {
     "name": "stderr",
     "output_type": "stream",
     "text": [
      "\n"
     ]
    },
    {
     "name": "stdout",
     "output_type": "stream",
     "text": [
      "\n",
      "      Epoch    GPU_mem   box_loss   cls_loss   dfl_loss  Instances       Size\n"
     ]
    },
    {
     "name": "stderr",
     "output_type": "stream",
     "text": [
      "     17/300      2.74G      2.603      1.318      2.367         48        640: 100%|██████████| 204/204 [00:50<00:00,  \n",
      "                 Class     Images  Instances      Box(P          R      mAP50  mAP50-95): 100%|██████████| 34/34 [00:07"
     ]
    },
    {
     "name": "stdout",
     "output_type": "stream",
     "text": [
      "                   all        679       3388      0.936      0.879      0.951      0.601\n"
     ]
    },
    {
     "name": "stderr",
     "output_type": "stream",
     "text": [
      "\n"
     ]
    },
    {
     "name": "stdout",
     "output_type": "stream",
     "text": [
      "\n",
      "      Epoch    GPU_mem   box_loss   cls_loss   dfl_loss  Instances       Size\n"
     ]
    },
    {
     "name": "stderr",
     "output_type": "stream",
     "text": [
      "     18/300      2.75G       2.65      1.324      2.378         37        640: 100%|██████████| 204/204 [00:50<00:00,  \n",
      "                 Class     Images  Instances      Box(P          R      mAP50  mAP50-95): 100%|██████████| 34/34 [00:07"
     ]
    },
    {
     "name": "stdout",
     "output_type": "stream",
     "text": [
      "                   all        679       3388      0.921      0.901      0.959      0.614\n"
     ]
    },
    {
     "name": "stderr",
     "output_type": "stream",
     "text": [
      "\n"
     ]
    },
    {
     "name": "stdout",
     "output_type": "stream",
     "text": [
      "\n",
      "      Epoch    GPU_mem   box_loss   cls_loss   dfl_loss  Instances       Size\n"
     ]
    },
    {
     "name": "stderr",
     "output_type": "stream",
     "text": [
      "     19/300      2.76G      2.602      1.315      2.372         74        640: 100%|██████████| 204/204 [00:50<00:00,  \n",
      "                 Class     Images  Instances      Box(P          R      mAP50  mAP50-95): 100%|██████████| 34/34 [00:07"
     ]
    },
    {
     "name": "stdout",
     "output_type": "stream",
     "text": [
      "                   all        679       3388      0.934      0.884      0.952      0.604\n"
     ]
    },
    {
     "name": "stderr",
     "output_type": "stream",
     "text": [
      "\n"
     ]
    },
    {
     "name": "stdout",
     "output_type": "stream",
     "text": [
      "\n",
      "      Epoch    GPU_mem   box_loss   cls_loss   dfl_loss  Instances       Size\n"
     ]
    },
    {
     "name": "stderr",
     "output_type": "stream",
     "text": [
      "     20/300      2.87G        2.6      1.302      2.352         18        640: 100%|██████████| 204/204 [00:50<00:00,  \n",
      "                 Class     Images  Instances      Box(P          R      mAP50  mAP50-95): 100%|██████████| 34/34 [00:07"
     ]
    },
    {
     "name": "stdout",
     "output_type": "stream",
     "text": [
      "                   all        679       3388      0.926      0.909      0.957      0.613\n"
     ]
    },
    {
     "name": "stderr",
     "output_type": "stream",
     "text": [
      "\n"
     ]
    },
    {
     "name": "stdout",
     "output_type": "stream",
     "text": [
      "\n",
      "      Epoch    GPU_mem   box_loss   cls_loss   dfl_loss  Instances       Size\n"
     ]
    },
    {
     "name": "stderr",
     "output_type": "stream",
     "text": [
      "     21/300      2.72G      2.556      1.292      2.341         58        640: 100%|██████████| 204/204 [00:50<00:00,  \n",
      "                 Class     Images  Instances      Box(P          R      mAP50  mAP50-95): 100%|██████████| 34/34 [00:07"
     ]
    },
    {
     "name": "stdout",
     "output_type": "stream",
     "text": [
      "                   all        679       3388      0.936      0.886      0.956      0.609\n"
     ]
    },
    {
     "name": "stderr",
     "output_type": "stream",
     "text": [
      "\n"
     ]
    },
    {
     "name": "stdout",
     "output_type": "stream",
     "text": [
      "\n",
      "      Epoch    GPU_mem   box_loss   cls_loss   dfl_loss  Instances       Size\n"
     ]
    },
    {
     "name": "stderr",
     "output_type": "stream",
     "text": [
      "     22/300      2.74G      2.575      1.294      2.363         46        640: 100%|██████████| 204/204 [00:50<00:00,  \n",
      "                 Class     Images  Instances      Box(P          R      mAP50  mAP50-95): 100%|██████████| 34/34 [00:07"
     ]
    },
    {
     "name": "stdout",
     "output_type": "stream",
     "text": [
      "                   all        679       3388       0.92      0.897      0.957      0.611\n"
     ]
    },
    {
     "name": "stderr",
     "output_type": "stream",
     "text": [
      "\n"
     ]
    },
    {
     "name": "stdout",
     "output_type": "stream",
     "text": [
      "\n",
      "      Epoch    GPU_mem   box_loss   cls_loss   dfl_loss  Instances       Size\n"
     ]
    },
    {
     "name": "stderr",
     "output_type": "stream",
     "text": [
      "     23/300      2.89G      2.566      1.274      2.332         32        640: 100%|██████████| 204/204 [00:50<00:00,  \n",
      "                 Class     Images  Instances      Box(P          R      mAP50  mAP50-95): 100%|██████████| 34/34 [00:07"
     ]
    },
    {
     "name": "stdout",
     "output_type": "stream",
     "text": [
      "                   all        679       3388      0.926      0.894      0.957      0.617\n"
     ]
    },
    {
     "name": "stderr",
     "output_type": "stream",
     "text": [
      "\n"
     ]
    },
    {
     "name": "stdout",
     "output_type": "stream",
     "text": [
      "\n",
      "      Epoch    GPU_mem   box_loss   cls_loss   dfl_loss  Instances       Size\n"
     ]
    },
    {
     "name": "stderr",
     "output_type": "stream",
     "text": [
      "     24/300      2.78G      2.571      1.276      2.339         65        640: 100%|██████████| 204/204 [00:50<00:00,  \n",
      "                 Class     Images  Instances      Box(P          R      mAP50  mAP50-95): 100%|██████████| 34/34 [00:07"
     ]
    },
    {
     "name": "stdout",
     "output_type": "stream",
     "text": [
      "                   all        679       3388      0.926      0.896      0.959      0.616\n"
     ]
    },
    {
     "name": "stderr",
     "output_type": "stream",
     "text": [
      "\n"
     ]
    },
    {
     "name": "stdout",
     "output_type": "stream",
     "text": [
      "\n",
      "      Epoch    GPU_mem   box_loss   cls_loss   dfl_loss  Instances       Size\n"
     ]
    },
    {
     "name": "stderr",
     "output_type": "stream",
     "text": [
      "     25/300      2.75G      2.517      1.252      2.316         59        640: 100%|██████████| 204/204 [00:50<00:00,  \n",
      "                 Class     Images  Instances      Box(P          R      mAP50  mAP50-95): 100%|██████████| 34/34 [00:07"
     ]
    },
    {
     "name": "stdout",
     "output_type": "stream",
     "text": [
      "                   all        679       3388      0.941      0.885      0.958      0.615\n"
     ]
    },
    {
     "name": "stderr",
     "output_type": "stream",
     "text": [
      "\n"
     ]
    },
    {
     "name": "stdout",
     "output_type": "stream",
     "text": [
      "\n",
      "      Epoch    GPU_mem   box_loss   cls_loss   dfl_loss  Instances       Size\n"
     ]
    },
    {
     "name": "stderr",
     "output_type": "stream",
     "text": [
      "     26/300      2.74G      2.506      1.219      2.314         37        640: 100%|██████████| 204/204 [00:50<00:00,  \n",
      "                 Class     Images  Instances      Box(P          R      mAP50  mAP50-95): 100%|██████████| 34/34 [00:07"
     ]
    },
    {
     "name": "stdout",
     "output_type": "stream",
     "text": [
      "                   all        679       3388      0.929      0.895      0.957      0.617\n"
     ]
    },
    {
     "name": "stderr",
     "output_type": "stream",
     "text": [
      "\n"
     ]
    },
    {
     "name": "stdout",
     "output_type": "stream",
     "text": [
      "\n",
      "      Epoch    GPU_mem   box_loss   cls_loss   dfl_loss  Instances       Size\n"
     ]
    },
    {
     "name": "stderr",
     "output_type": "stream",
     "text": [
      "     27/300      2.74G      2.482       1.23      2.304         91        640: 100%|██████████| 204/204 [00:50<00:00,  \n",
      "                 Class     Images  Instances      Box(P          R      mAP50  mAP50-95): 100%|██████████| 34/34 [00:07"
     ]
    },
    {
     "name": "stdout",
     "output_type": "stream",
     "text": [
      "                   all        679       3388      0.927      0.907       0.96      0.622\n"
     ]
    },
    {
     "name": "stderr",
     "output_type": "stream",
     "text": [
      "\n"
     ]
    },
    {
     "name": "stdout",
     "output_type": "stream",
     "text": [
      "\n",
      "      Epoch    GPU_mem   box_loss   cls_loss   dfl_loss  Instances       Size\n"
     ]
    },
    {
     "name": "stderr",
     "output_type": "stream",
     "text": [
      "     28/300      2.74G      2.496      1.207      2.292         56        640: 100%|██████████| 204/204 [00:50<00:00,  \n",
      "                 Class     Images  Instances      Box(P          R      mAP50  mAP50-95): 100%|██████████| 34/34 [00:07"
     ]
    },
    {
     "name": "stdout",
     "output_type": "stream",
     "text": [
      "                   all        679       3388      0.932      0.903      0.961       0.62\n"
     ]
    },
    {
     "name": "stderr",
     "output_type": "stream",
     "text": [
      "\n"
     ]
    },
    {
     "name": "stdout",
     "output_type": "stream",
     "text": [
      "\n",
      "      Epoch    GPU_mem   box_loss   cls_loss   dfl_loss  Instances       Size\n"
     ]
    },
    {
     "name": "stderr",
     "output_type": "stream",
     "text": [
      "     29/300      2.75G      2.509      1.208       2.29         57        640: 100%|██████████| 204/204 [00:50<00:00,  \n",
      "                 Class     Images  Instances      Box(P          R      mAP50  mAP50-95): 100%|██████████| 34/34 [00:08"
     ]
    },
    {
     "name": "stdout",
     "output_type": "stream",
     "text": [
      "                   all        679       3388       0.92      0.917       0.96       0.62\n"
     ]
    },
    {
     "name": "stderr",
     "output_type": "stream",
     "text": [
      "\n"
     ]
    },
    {
     "name": "stdout",
     "output_type": "stream",
     "text": [
      "\n",
      "      Epoch    GPU_mem   box_loss   cls_loss   dfl_loss  Instances       Size\n"
     ]
    },
    {
     "name": "stderr",
     "output_type": "stream",
     "text": [
      "     30/300      2.76G      2.471      1.191      2.293         55        640: 100%|██████████| 204/204 [00:50<00:00,  \n",
      "                 Class     Images  Instances      Box(P          R      mAP50  mAP50-95): 100%|██████████| 34/34 [00:07"
     ]
    },
    {
     "name": "stdout",
     "output_type": "stream",
     "text": [
      "                   all        679       3388      0.915      0.914      0.958      0.623\n"
     ]
    },
    {
     "name": "stderr",
     "output_type": "stream",
     "text": [
      "\n"
     ]
    },
    {
     "name": "stdout",
     "output_type": "stream",
     "text": [
      "\n",
      "      Epoch    GPU_mem   box_loss   cls_loss   dfl_loss  Instances       Size\n"
     ]
    },
    {
     "name": "stderr",
     "output_type": "stream",
     "text": [
      "     31/300      2.83G      2.438      1.167      2.269         51        640: 100%|██████████| 204/204 [00:50<00:00,  \n",
      "                 Class     Images  Instances      Box(P          R      mAP50  mAP50-95): 100%|██████████| 34/34 [00:07"
     ]
    },
    {
     "name": "stdout",
     "output_type": "stream",
     "text": [
      "                   all        679       3388      0.931      0.906      0.962      0.622\n"
     ]
    },
    {
     "name": "stderr",
     "output_type": "stream",
     "text": [
      "\n"
     ]
    },
    {
     "name": "stdout",
     "output_type": "stream",
     "text": [
      "\n",
      "      Epoch    GPU_mem   box_loss   cls_loss   dfl_loss  Instances       Size\n"
     ]
    },
    {
     "name": "stderr",
     "output_type": "stream",
     "text": [
      "     32/300      2.77G      2.439      1.166      2.277         26        640: 100%|██████████| 204/204 [00:50<00:00,  \n",
      "                 Class     Images  Instances      Box(P          R      mAP50  mAP50-95): 100%|██████████| 34/34 [00:07"
     ]
    },
    {
     "name": "stdout",
     "output_type": "stream",
     "text": [
      "                   all        679       3388      0.926      0.907      0.959       0.61\n"
     ]
    },
    {
     "name": "stderr",
     "output_type": "stream",
     "text": [
      "\n"
     ]
    },
    {
     "name": "stdout",
     "output_type": "stream",
     "text": [
      "\n",
      "      Epoch    GPU_mem   box_loss   cls_loss   dfl_loss  Instances       Size\n"
     ]
    },
    {
     "name": "stderr",
     "output_type": "stream",
     "text": [
      "     33/300      2.91G      2.431      1.177      2.266         40        640: 100%|██████████| 204/204 [00:50<00:00,  \n",
      "                 Class     Images  Instances      Box(P          R      mAP50  mAP50-95): 100%|██████████| 34/34 [00:07"
     ]
    },
    {
     "name": "stdout",
     "output_type": "stream",
     "text": [
      "                   all        679       3388      0.927      0.904      0.962      0.622\n"
     ]
    },
    {
     "name": "stderr",
     "output_type": "stream",
     "text": [
      "\n"
     ]
    },
    {
     "name": "stdout",
     "output_type": "stream",
     "text": [
      "\n",
      "      Epoch    GPU_mem   box_loss   cls_loss   dfl_loss  Instances       Size\n"
     ]
    },
    {
     "name": "stderr",
     "output_type": "stream",
     "text": [
      "     34/300      2.78G      2.403      1.155      2.269         56        640: 100%|██████████| 204/204 [00:50<00:00,  \n",
      "                 Class     Images  Instances      Box(P          R      mAP50  mAP50-95): 100%|██████████| 34/34 [00:07"
     ]
    },
    {
     "name": "stdout",
     "output_type": "stream",
     "text": [
      "                   all        679       3388      0.937      0.904      0.963      0.625\n"
     ]
    },
    {
     "name": "stderr",
     "output_type": "stream",
     "text": [
      "\n"
     ]
    },
    {
     "name": "stdout",
     "output_type": "stream",
     "text": [
      "\n",
      "      Epoch    GPU_mem   box_loss   cls_loss   dfl_loss  Instances       Size\n"
     ]
    },
    {
     "name": "stderr",
     "output_type": "stream",
     "text": [
      "     35/300      2.76G      2.407      1.161      2.274         62        640: 100%|██████████| 204/204 [00:50<00:00,  \n",
      "                 Class     Images  Instances      Box(P          R      mAP50  mAP50-95): 100%|██████████| 34/34 [00:07"
     ]
    },
    {
     "name": "stdout",
     "output_type": "stream",
     "text": [
      "                   all        679       3388      0.932      0.901      0.961      0.621\n"
     ]
    },
    {
     "name": "stderr",
     "output_type": "stream",
     "text": [
      "\n"
     ]
    },
    {
     "name": "stdout",
     "output_type": "stream",
     "text": [
      "\n",
      "      Epoch    GPU_mem   box_loss   cls_loss   dfl_loss  Instances       Size\n"
     ]
    },
    {
     "name": "stderr",
     "output_type": "stream",
     "text": [
      "     36/300      2.78G      2.391      1.166       2.25         25        640: 100%|██████████| 204/204 [00:50<00:00,  \n",
      "                 Class     Images  Instances      Box(P          R      mAP50  mAP50-95): 100%|██████████| 34/34 [00:07"
     ]
    },
    {
     "name": "stdout",
     "output_type": "stream",
     "text": [
      "                   all        679       3388      0.931        0.9      0.959       0.62\n"
     ]
    },
    {
     "name": "stderr",
     "output_type": "stream",
     "text": [
      "\n"
     ]
    },
    {
     "name": "stdout",
     "output_type": "stream",
     "text": [
      "\n",
      "      Epoch    GPU_mem   box_loss   cls_loss   dfl_loss  Instances       Size\n"
     ]
    },
    {
     "name": "stderr",
     "output_type": "stream",
     "text": [
      "     37/300      2.72G       2.39      1.155      2.235         71        640: 100%|██████████| 204/204 [00:50<00:00,  \n",
      "                 Class     Images  Instances      Box(P          R      mAP50  mAP50-95): 100%|██████████| 34/34 [00:07"
     ]
    },
    {
     "name": "stdout",
     "output_type": "stream",
     "text": [
      "                   all        679       3388      0.919      0.908      0.961      0.623\n"
     ]
    },
    {
     "name": "stderr",
     "output_type": "stream",
     "text": [
      "\n"
     ]
    },
    {
     "name": "stdout",
     "output_type": "stream",
     "text": [
      "\n",
      "      Epoch    GPU_mem   box_loss   cls_loss   dfl_loss  Instances       Size\n"
     ]
    },
    {
     "name": "stderr",
     "output_type": "stream",
     "text": [
      "     38/300      2.75G      2.375       1.13      2.243         71        640: 100%|██████████| 204/204 [00:50<00:00,  \n",
      "                 Class     Images  Instances      Box(P          R      mAP50  mAP50-95): 100%|██████████| 34/34 [00:07"
     ]
    },
    {
     "name": "stdout",
     "output_type": "stream",
     "text": [
      "                   all        679       3388      0.928      0.902      0.963      0.624\n"
     ]
    },
    {
     "name": "stderr",
     "output_type": "stream",
     "text": [
      "\n"
     ]
    },
    {
     "name": "stdout",
     "output_type": "stream",
     "text": [
      "\n",
      "      Epoch    GPU_mem   box_loss   cls_loss   dfl_loss  Instances       Size\n"
     ]
    },
    {
     "name": "stderr",
     "output_type": "stream",
     "text": [
      "     39/300      2.76G      2.353      1.121      2.226         50        640: 100%|██████████| 204/204 [00:50<00:00,  \n",
      "                 Class     Images  Instances      Box(P          R      mAP50  mAP50-95): 100%|██████████| 34/34 [00:07"
     ]
    },
    {
     "name": "stdout",
     "output_type": "stream",
     "text": [
      "                   all        679       3388      0.947      0.895      0.963      0.627\n"
     ]
    },
    {
     "name": "stderr",
     "output_type": "stream",
     "text": [
      "\n"
     ]
    },
    {
     "name": "stdout",
     "output_type": "stream",
     "text": [
      "\n",
      "      Epoch    GPU_mem   box_loss   cls_loss   dfl_loss  Instances       Size\n"
     ]
    },
    {
     "name": "stderr",
     "output_type": "stream",
     "text": [
      "     40/300      2.83G      2.382      1.139      2.234         37        640: 100%|██████████| 204/204 [00:49<00:00,  \n",
      "                 Class     Images  Instances      Box(P          R      mAP50  mAP50-95): 100%|██████████| 34/34 [00:07"
     ]
    },
    {
     "name": "stdout",
     "output_type": "stream",
     "text": [
      "                   all        679       3388       0.93      0.905      0.963      0.619\n"
     ]
    },
    {
     "name": "stderr",
     "output_type": "stream",
     "text": [
      "\n"
     ]
    },
    {
     "name": "stdout",
     "output_type": "stream",
     "text": [
      "\n",
      "      Epoch    GPU_mem   box_loss   cls_loss   dfl_loss  Instances       Size\n"
     ]
    },
    {
     "name": "stderr",
     "output_type": "stream",
     "text": [
      "     41/300      2.89G      2.362      1.114      2.199         35        640: 100%|██████████| 204/204 [00:50<00:00,  \n",
      "                 Class     Images  Instances      Box(P          R      mAP50  mAP50-95): 100%|██████████| 34/34 [00:07"
     ]
    },
    {
     "name": "stdout",
     "output_type": "stream",
     "text": [
      "                   all        679       3388      0.944      0.904      0.964      0.625\n"
     ]
    },
    {
     "name": "stderr",
     "output_type": "stream",
     "text": [
      "\n"
     ]
    },
    {
     "name": "stdout",
     "output_type": "stream",
     "text": [
      "\n",
      "      Epoch    GPU_mem   box_loss   cls_loss   dfl_loss  Instances       Size\n"
     ]
    },
    {
     "name": "stderr",
     "output_type": "stream",
     "text": [
      "     42/300      2.78G       2.34      1.104      2.215         68        640: 100%|██████████| 204/204 [00:50<00:00,  \n",
      "                 Class     Images  Instances      Box(P          R      mAP50  mAP50-95): 100%|██████████| 34/34 [00:07"
     ]
    },
    {
     "name": "stdout",
     "output_type": "stream",
     "text": [
      "                   all        679       3388      0.939      0.908      0.965      0.621\n"
     ]
    },
    {
     "name": "stderr",
     "output_type": "stream",
     "text": [
      "\n"
     ]
    },
    {
     "name": "stdout",
     "output_type": "stream",
     "text": [
      "\n",
      "      Epoch    GPU_mem   box_loss   cls_loss   dfl_loss  Instances       Size\n"
     ]
    },
    {
     "name": "stderr",
     "output_type": "stream",
     "text": [
      "     43/300      2.74G      2.332      1.091      2.217         64        640: 100%|██████████| 204/204 [00:50<00:00,  \n",
      "                 Class     Images  Instances      Box(P          R      mAP50  mAP50-95): 100%|██████████| 34/34 [00:07"
     ]
    },
    {
     "name": "stdout",
     "output_type": "stream",
     "text": [
      "                   all        679       3388      0.935       0.91      0.964       0.63\n"
     ]
    },
    {
     "name": "stderr",
     "output_type": "stream",
     "text": [
      "\n"
     ]
    },
    {
     "name": "stdout",
     "output_type": "stream",
     "text": [
      "\n",
      "      Epoch    GPU_mem   box_loss   cls_loss   dfl_loss  Instances       Size\n"
     ]
    },
    {
     "name": "stderr",
     "output_type": "stream",
     "text": [
      "     44/300      2.86G      2.336      1.088      2.216         37        640: 100%|██████████| 204/204 [00:50<00:00,  \n",
      "                 Class     Images  Instances      Box(P          R      mAP50  mAP50-95): 100%|██████████| 34/34 [00:07"
     ]
    },
    {
     "name": "stdout",
     "output_type": "stream",
     "text": [
      "                   all        679       3388      0.923      0.922      0.964      0.624\n"
     ]
    },
    {
     "name": "stderr",
     "output_type": "stream",
     "text": [
      "\n"
     ]
    },
    {
     "name": "stdout",
     "output_type": "stream",
     "text": [
      "\n",
      "      Epoch    GPU_mem   box_loss   cls_loss   dfl_loss  Instances       Size\n"
     ]
    },
    {
     "name": "stderr",
     "output_type": "stream",
     "text": [
      "     45/300      2.78G      2.326      1.092      2.226         54        640: 100%|██████████| 204/204 [00:50<00:00,  \n",
      "                 Class     Images  Instances      Box(P          R      mAP50  mAP50-95): 100%|██████████| 34/34 [00:07"
     ]
    },
    {
     "name": "stdout",
     "output_type": "stream",
     "text": [
      "                   all        679       3388      0.932      0.909      0.964      0.628\n"
     ]
    },
    {
     "name": "stderr",
     "output_type": "stream",
     "text": [
      "\n"
     ]
    },
    {
     "name": "stdout",
     "output_type": "stream",
     "text": [
      "\n",
      "      Epoch    GPU_mem   box_loss   cls_loss   dfl_loss  Instances       Size\n"
     ]
    },
    {
     "name": "stderr",
     "output_type": "stream",
     "text": [
      "     46/300      2.78G      2.312      1.095      2.206         87        640: 100%|██████████| 204/204 [00:50<00:00,  \n",
      "                 Class     Images  Instances      Box(P          R      mAP50  mAP50-95): 100%|██████████| 34/34 [00:07"
     ]
    },
    {
     "name": "stdout",
     "output_type": "stream",
     "text": [
      "                   all        679       3388      0.937      0.906      0.962      0.626\n"
     ]
    },
    {
     "name": "stderr",
     "output_type": "stream",
     "text": [
      "\n"
     ]
    },
    {
     "name": "stdout",
     "output_type": "stream",
     "text": [
      "\n",
      "      Epoch    GPU_mem   box_loss   cls_loss   dfl_loss  Instances       Size\n"
     ]
    },
    {
     "name": "stderr",
     "output_type": "stream",
     "text": [
      "     47/300      2.77G      2.308      1.073      2.194         71        640: 100%|██████████| 204/204 [00:50<00:00,  \n",
      "                 Class     Images  Instances      Box(P          R      mAP50  mAP50-95): 100%|██████████| 34/34 [00:07"
     ]
    },
    {
     "name": "stdout",
     "output_type": "stream",
     "text": [
      "                   all        679       3388      0.945      0.898       0.96      0.625\n"
     ]
    },
    {
     "name": "stderr",
     "output_type": "stream",
     "text": [
      "\n"
     ]
    },
    {
     "name": "stdout",
     "output_type": "stream",
     "text": [
      "\n",
      "      Epoch    GPU_mem   box_loss   cls_loss   dfl_loss  Instances       Size\n"
     ]
    },
    {
     "name": "stderr",
     "output_type": "stream",
     "text": [
      "     48/300      2.78G      2.286      1.064      2.184         30        640: 100%|██████████| 204/204 [00:50<00:00,  \n",
      "                 Class     Images  Instances      Box(P          R      mAP50  mAP50-95): 100%|██████████| 34/34 [00:07"
     ]
    },
    {
     "name": "stdout",
     "output_type": "stream",
     "text": [
      "                   all        679       3388      0.931      0.911      0.964       0.63\n"
     ]
    },
    {
     "name": "stderr",
     "output_type": "stream",
     "text": [
      "\n"
     ]
    },
    {
     "name": "stdout",
     "output_type": "stream",
     "text": [
      "\n",
      "      Epoch    GPU_mem   box_loss   cls_loss   dfl_loss  Instances       Size\n"
     ]
    },
    {
     "name": "stderr",
     "output_type": "stream",
     "text": [
      "     49/300      2.76G       2.28      1.062      2.182         62        640: 100%|██████████| 204/204 [00:50<00:00,  \n",
      "                 Class     Images  Instances      Box(P          R      mAP50  mAP50-95): 100%|██████████| 34/34 [00:07"
     ]
    },
    {
     "name": "stdout",
     "output_type": "stream",
     "text": [
      "                   all        679       3388      0.927      0.911      0.961      0.628\n"
     ]
    },
    {
     "name": "stderr",
     "output_type": "stream",
     "text": [
      "\n"
     ]
    },
    {
     "name": "stdout",
     "output_type": "stream",
     "text": [
      "\n",
      "      Epoch    GPU_mem   box_loss   cls_loss   dfl_loss  Instances       Size\n"
     ]
    },
    {
     "name": "stderr",
     "output_type": "stream",
     "text": [
      "     50/300      2.75G      2.268       1.05      2.183         24        640: 100%|██████████| 204/204 [00:50<00:00,  \n",
      "                 Class     Images  Instances      Box(P          R      mAP50  mAP50-95): 100%|██████████| 34/34 [00:07"
     ]
    },
    {
     "name": "stdout",
     "output_type": "stream",
     "text": [
      "                   all        679       3388      0.942      0.908      0.966      0.635\n"
     ]
    },
    {
     "name": "stderr",
     "output_type": "stream",
     "text": [
      "\n"
     ]
    },
    {
     "name": "stdout",
     "output_type": "stream",
     "text": [
      "\n",
      "      Epoch    GPU_mem   box_loss   cls_loss   dfl_loss  Instances       Size\n"
     ]
    },
    {
     "name": "stderr",
     "output_type": "stream",
     "text": [
      "     51/300      2.78G      2.263      1.055      2.162         35        640: 100%|██████████| 204/204 [00:50<00:00,  \n",
      "                 Class     Images  Instances      Box(P          R      mAP50  mAP50-95): 100%|██████████| 34/34 [00:07"
     ]
    },
    {
     "name": "stdout",
     "output_type": "stream",
     "text": [
      "                   all        679       3388       0.93      0.913      0.964      0.625\n"
     ]
    },
    {
     "name": "stderr",
     "output_type": "stream",
     "text": [
      "\n"
     ]
    },
    {
     "name": "stdout",
     "output_type": "stream",
     "text": [
      "\n",
      "      Epoch    GPU_mem   box_loss   cls_loss   dfl_loss  Instances       Size\n"
     ]
    },
    {
     "name": "stderr",
     "output_type": "stream",
     "text": [
      "     52/300      2.74G      2.236      1.026      2.174         36        640: 100%|██████████| 204/204 [00:50<00:00,  \n",
      "                 Class     Images  Instances      Box(P          R      mAP50  mAP50-95): 100%|██████████| 34/34 [00:07"
     ]
    },
    {
     "name": "stdout",
     "output_type": "stream",
     "text": [
      "                   all        679       3388      0.939      0.911      0.964      0.624\n"
     ]
    },
    {
     "name": "stderr",
     "output_type": "stream",
     "text": [
      "\n"
     ]
    },
    {
     "name": "stdout",
     "output_type": "stream",
     "text": [
      "\n",
      "      Epoch    GPU_mem   box_loss   cls_loss   dfl_loss  Instances       Size\n"
     ]
    },
    {
     "name": "stderr",
     "output_type": "stream",
     "text": [
      "     53/300      2.86G      2.239      1.035      2.182         47        640: 100%|██████████| 204/204 [00:50<00:00,  \n",
      "                 Class     Images  Instances      Box(P          R      mAP50  mAP50-95): 100%|██████████| 34/34 [00:07"
     ]
    },
    {
     "name": "stdout",
     "output_type": "stream",
     "text": [
      "                   all        679       3388      0.937      0.904      0.963      0.626\n"
     ]
    },
    {
     "name": "stderr",
     "output_type": "stream",
     "text": [
      "\n"
     ]
    },
    {
     "name": "stdout",
     "output_type": "stream",
     "text": [
      "\n",
      "      Epoch    GPU_mem   box_loss   cls_loss   dfl_loss  Instances       Size\n"
     ]
    },
    {
     "name": "stderr",
     "output_type": "stream",
     "text": [
      "     54/300       2.8G      2.253      1.037      2.162         49        640: 100%|██████████| 204/204 [00:50<00:00,  \n",
      "                 Class     Images  Instances      Box(P          R      mAP50  mAP50-95): 100%|██████████| 34/34 [00:07"
     ]
    },
    {
     "name": "stdout",
     "output_type": "stream",
     "text": [
      "                   all        679       3388      0.936       0.91      0.964      0.625\n"
     ]
    },
    {
     "name": "stderr",
     "output_type": "stream",
     "text": [
      "\n"
     ]
    },
    {
     "name": "stdout",
     "output_type": "stream",
     "text": [
      "\n",
      "      Epoch    GPU_mem   box_loss   cls_loss   dfl_loss  Instances       Size\n"
     ]
    },
    {
     "name": "stderr",
     "output_type": "stream",
     "text": [
      "     55/300       2.8G      2.247      1.038      2.174         58        640: 100%|██████████| 204/204 [00:50<00:00,  \n",
      "                 Class     Images  Instances      Box(P          R      mAP50  mAP50-95): 100%|██████████| 34/34 [00:07"
     ]
    },
    {
     "name": "stdout",
     "output_type": "stream",
     "text": [
      "                   all        679       3388      0.935      0.909      0.964      0.627\n"
     ]
    },
    {
     "name": "stderr",
     "output_type": "stream",
     "text": [
      "\n"
     ]
    },
    {
     "name": "stdout",
     "output_type": "stream",
     "text": [
      "\n",
      "      Epoch    GPU_mem   box_loss   cls_loss   dfl_loss  Instances       Size\n"
     ]
    },
    {
     "name": "stderr",
     "output_type": "stream",
     "text": [
      "     56/300      2.83G      2.195      1.017      2.132         60        640: 100%|██████████| 204/204 [00:50<00:00,  \n",
      "                 Class     Images  Instances      Box(P          R      mAP50  mAP50-95): 100%|██████████| 34/34 [00:07"
     ]
    },
    {
     "name": "stdout",
     "output_type": "stream",
     "text": [
      "                   all        679       3388      0.949      0.896      0.964      0.629\n"
     ]
    },
    {
     "name": "stderr",
     "output_type": "stream",
     "text": [
      "\n"
     ]
    },
    {
     "name": "stdout",
     "output_type": "stream",
     "text": [
      "\n",
      "      Epoch    GPU_mem   box_loss   cls_loss   dfl_loss  Instances       Size\n"
     ]
    },
    {
     "name": "stderr",
     "output_type": "stream",
     "text": [
      "     57/300      2.88G      2.217      1.021      2.157         58        640: 100%|██████████| 204/204 [00:50<00:00,  \n",
      "                 Class     Images  Instances      Box(P          R      mAP50  mAP50-95): 100%|██████████| 34/34 [00:07"
     ]
    },
    {
     "name": "stdout",
     "output_type": "stream",
     "text": [
      "                   all        679       3388      0.938      0.914      0.965      0.629\n"
     ]
    },
    {
     "name": "stderr",
     "output_type": "stream",
     "text": [
      "\n"
     ]
    },
    {
     "name": "stdout",
     "output_type": "stream",
     "text": [
      "\n",
      "      Epoch    GPU_mem   box_loss   cls_loss   dfl_loss  Instances       Size\n"
     ]
    },
    {
     "name": "stderr",
     "output_type": "stream",
     "text": [
      "     58/300      2.72G      2.231      1.036      2.177         71        640: 100%|██████████| 204/204 [00:50<00:00,  \n",
      "                 Class     Images  Instances      Box(P          R      mAP50  mAP50-95): 100%|██████████| 34/34 [00:07"
     ]
    },
    {
     "name": "stdout",
     "output_type": "stream",
     "text": [
      "                   all        679       3388      0.944      0.907      0.965       0.63\n"
     ]
    },
    {
     "name": "stderr",
     "output_type": "stream",
     "text": [
      "\n"
     ]
    },
    {
     "name": "stdout",
     "output_type": "stream",
     "text": [
      "\n",
      "      Epoch    GPU_mem   box_loss   cls_loss   dfl_loss  Instances       Size\n"
     ]
    },
    {
     "name": "stderr",
     "output_type": "stream",
     "text": [
      "     59/300      2.78G      2.198     0.9994      2.154         44        640: 100%|██████████| 204/204 [00:50<00:00,  \n",
      "                 Class     Images  Instances      Box(P          R      mAP50  mAP50-95): 100%|██████████| 34/34 [00:08"
     ]
    },
    {
     "name": "stdout",
     "output_type": "stream",
     "text": [
      "                   all        679       3388      0.933      0.916      0.967      0.631\n"
     ]
    },
    {
     "name": "stderr",
     "output_type": "stream",
     "text": [
      "\n"
     ]
    },
    {
     "name": "stdout",
     "output_type": "stream",
     "text": [
      "\n",
      "      Epoch    GPU_mem   box_loss   cls_loss   dfl_loss  Instances       Size\n"
     ]
    },
    {
     "name": "stderr",
     "output_type": "stream",
     "text": [
      "     60/300       2.8G      2.203      1.019      2.141         76        640: 100%|██████████| 204/204 [00:50<00:00,  \n",
      "                 Class     Images  Instances      Box(P          R      mAP50  mAP50-95): 100%|██████████| 34/34 [00:07"
     ]
    },
    {
     "name": "stdout",
     "output_type": "stream",
     "text": [
      "                   all        679       3388      0.942      0.913      0.966       0.63\n"
     ]
    },
    {
     "name": "stderr",
     "output_type": "stream",
     "text": [
      "\n"
     ]
    },
    {
     "name": "stdout",
     "output_type": "stream",
     "text": [
      "\n",
      "      Epoch    GPU_mem   box_loss   cls_loss   dfl_loss  Instances       Size\n"
     ]
    },
    {
     "name": "stderr",
     "output_type": "stream",
     "text": [
      "     61/300      2.76G      2.189      1.004      2.159         62        640: 100%|██████████| 204/204 [00:50<00:00,  \n",
      "                 Class     Images  Instances      Box(P          R      mAP50  mAP50-95): 100%|██████████| 34/34 [00:07"
     ]
    },
    {
     "name": "stdout",
     "output_type": "stream",
     "text": [
      "                   all        679       3388      0.939      0.908      0.966      0.633\n"
     ]
    },
    {
     "name": "stderr",
     "output_type": "stream",
     "text": [
      "\n"
     ]
    },
    {
     "name": "stdout",
     "output_type": "stream",
     "text": [
      "\n",
      "      Epoch    GPU_mem   box_loss   cls_loss   dfl_loss  Instances       Size\n"
     ]
    },
    {
     "name": "stderr",
     "output_type": "stream",
     "text": [
      "     62/300      2.81G      2.197     0.9956      2.131         54        640: 100%|██████████| 204/204 [00:50<00:00,  \n",
      "                 Class     Images  Instances      Box(P          R      mAP50  mAP50-95): 100%|██████████| 34/34 [00:07"
     ]
    },
    {
     "name": "stdout",
     "output_type": "stream",
     "text": [
      "                   all        679       3388      0.939       0.92      0.968      0.634\n"
     ]
    },
    {
     "name": "stderr",
     "output_type": "stream",
     "text": [
      "\n"
     ]
    },
    {
     "name": "stdout",
     "output_type": "stream",
     "text": [
      "\n",
      "      Epoch    GPU_mem   box_loss   cls_loss   dfl_loss  Instances       Size\n"
     ]
    },
    {
     "name": "stderr",
     "output_type": "stream",
     "text": [
      "     63/300      2.89G      2.179      1.011      2.135         35        640: 100%|██████████| 204/204 [00:50<00:00,  \n",
      "                 Class     Images  Instances      Box(P          R      mAP50  mAP50-95): 100%|██████████| 34/34 [00:07"
     ]
    },
    {
     "name": "stdout",
     "output_type": "stream",
     "text": [
      "                   all        679       3388      0.943      0.915      0.968      0.631\n"
     ]
    },
    {
     "name": "stderr",
     "output_type": "stream",
     "text": [
      "\n"
     ]
    },
    {
     "name": "stdout",
     "output_type": "stream",
     "text": [
      "\n",
      "      Epoch    GPU_mem   box_loss   cls_loss   dfl_loss  Instances       Size\n"
     ]
    },
    {
     "name": "stderr",
     "output_type": "stream",
     "text": [
      "     64/300      2.74G      2.188       1.01      2.143         75        640: 100%|██████████| 204/204 [00:50<00:00,  \n",
      "                 Class     Images  Instances      Box(P          R      mAP50  mAP50-95): 100%|██████████| 34/34 [00:07"
     ]
    },
    {
     "name": "stdout",
     "output_type": "stream",
     "text": [
      "                   all        679       3388      0.936      0.916      0.966      0.633\n"
     ]
    },
    {
     "name": "stderr",
     "output_type": "stream",
     "text": [
      "\n"
     ]
    },
    {
     "name": "stdout",
     "output_type": "stream",
     "text": [
      "\n",
      "      Epoch    GPU_mem   box_loss   cls_loss   dfl_loss  Instances       Size\n"
     ]
    },
    {
     "name": "stderr",
     "output_type": "stream",
     "text": [
      "     65/300      2.82G      2.192     0.9985      2.135         53        640: 100%|██████████| 204/204 [00:50<00:00,  \n",
      "                 Class     Images  Instances      Box(P          R      mAP50  mAP50-95): 100%|██████████| 34/34 [00:07"
     ]
    },
    {
     "name": "stdout",
     "output_type": "stream",
     "text": [
      "                   all        679       3388      0.941       0.91      0.965      0.632\n"
     ]
    },
    {
     "name": "stderr",
     "output_type": "stream",
     "text": [
      "\n"
     ]
    },
    {
     "name": "stdout",
     "output_type": "stream",
     "text": [
      "\n",
      "      Epoch    GPU_mem   box_loss   cls_loss   dfl_loss  Instances       Size\n"
     ]
    },
    {
     "name": "stderr",
     "output_type": "stream",
     "text": [
      "     66/300      2.79G      2.146     0.9833      2.113         43        640: 100%|██████████| 204/204 [00:50<00:00,  \n",
      "                 Class     Images  Instances      Box(P          R      mAP50  mAP50-95): 100%|██████████| 34/34 [00:08"
     ]
    },
    {
     "name": "stdout",
     "output_type": "stream",
     "text": [
      "                   all        679       3388       0.95      0.905      0.965      0.629\n"
     ]
    },
    {
     "name": "stderr",
     "output_type": "stream",
     "text": [
      "\n"
     ]
    },
    {
     "name": "stdout",
     "output_type": "stream",
     "text": [
      "\n",
      "      Epoch    GPU_mem   box_loss   cls_loss   dfl_loss  Instances       Size\n"
     ]
    },
    {
     "name": "stderr",
     "output_type": "stream",
     "text": [
      "     67/300      2.79G      2.164     0.9979      2.141         49        640: 100%|██████████| 204/204 [00:50<00:00,  \n",
      "                 Class     Images  Instances      Box(P          R      mAP50  mAP50-95): 100%|██████████| 34/34 [00:07"
     ]
    },
    {
     "name": "stdout",
     "output_type": "stream",
     "text": [
      "                   all        679       3388      0.932      0.917      0.963      0.635\n"
     ]
    },
    {
     "name": "stderr",
     "output_type": "stream",
     "text": [
      "\n"
     ]
    },
    {
     "name": "stdout",
     "output_type": "stream",
     "text": [
      "\n",
      "      Epoch    GPU_mem   box_loss   cls_loss   dfl_loss  Instances       Size\n"
     ]
    },
    {
     "name": "stderr",
     "output_type": "stream",
     "text": [
      "     68/300      2.89G      2.138     0.9785      2.108         50        640: 100%|██████████| 204/204 [00:50<00:00,  \n",
      "                 Class     Images  Instances      Box(P          R      mAP50  mAP50-95): 100%|██████████| 34/34 [00:07"
     ]
    },
    {
     "name": "stdout",
     "output_type": "stream",
     "text": [
      "                   all        679       3388      0.934      0.916      0.965      0.631\n"
     ]
    },
    {
     "name": "stderr",
     "output_type": "stream",
     "text": [
      "\n"
     ]
    },
    {
     "name": "stdout",
     "output_type": "stream",
     "text": [
      "\n",
      "      Epoch    GPU_mem   box_loss   cls_loss   dfl_loss  Instances       Size\n"
     ]
    },
    {
     "name": "stderr",
     "output_type": "stream",
     "text": [
      "     69/300      2.77G       2.15     0.9915       2.12         35        640: 100%|██████████| 204/204 [00:50<00:00,  \n",
      "                 Class     Images  Instances      Box(P          R      mAP50  mAP50-95): 100%|██████████| 34/34 [00:07"
     ]
    },
    {
     "name": "stdout",
     "output_type": "stream",
     "text": [
      "                   all        679       3388      0.945      0.914      0.965      0.633\n"
     ]
    },
    {
     "name": "stderr",
     "output_type": "stream",
     "text": [
      "\n"
     ]
    },
    {
     "name": "stdout",
     "output_type": "stream",
     "text": [
      "\n",
      "      Epoch    GPU_mem   box_loss   cls_loss   dfl_loss  Instances       Size\n"
     ]
    },
    {
     "name": "stderr",
     "output_type": "stream",
     "text": [
      "     70/300      2.75G      2.128     0.9752      2.126         39        640: 100%|██████████| 204/204 [00:50<00:00,  \n",
      "                 Class     Images  Instances      Box(P          R      mAP50  mAP50-95): 100%|██████████| 34/34 [00:07"
     ]
    },
    {
     "name": "stdout",
     "output_type": "stream",
     "text": [
      "                   all        679       3388      0.934      0.924      0.967      0.629\n"
     ]
    },
    {
     "name": "stderr",
     "output_type": "stream",
     "text": [
      "\n"
     ]
    },
    {
     "name": "stdout",
     "output_type": "stream",
     "text": [
      "\n",
      "      Epoch    GPU_mem   box_loss   cls_loss   dfl_loss  Instances       Size\n"
     ]
    },
    {
     "name": "stderr",
     "output_type": "stream",
     "text": [
      "     71/300      2.76G      2.117     0.9703      2.104         46        640: 100%|██████████| 204/204 [00:50<00:00,  \n",
      "                 Class     Images  Instances      Box(P          R      mAP50  mAP50-95): 100%|██████████| 34/34 [00:07"
     ]
    },
    {
     "name": "stdout",
     "output_type": "stream",
     "text": [
      "                   all        679       3388      0.938      0.911      0.965      0.636\n"
     ]
    },
    {
     "name": "stderr",
     "output_type": "stream",
     "text": [
      "\n"
     ]
    },
    {
     "name": "stdout",
     "output_type": "stream",
     "text": [
      "\n",
      "      Epoch    GPU_mem   box_loss   cls_loss   dfl_loss  Instances       Size\n"
     ]
    },
    {
     "name": "stderr",
     "output_type": "stream",
     "text": [
      "     72/300      2.78G      2.143     0.9756      2.115         35        640: 100%|██████████| 204/204 [00:50<00:00,  \n",
      "                 Class     Images  Instances      Box(P          R      mAP50  mAP50-95): 100%|██████████| 34/34 [00:07"
     ]
    },
    {
     "name": "stdout",
     "output_type": "stream",
     "text": [
      "                   all        679       3388      0.941      0.921      0.966      0.635\n"
     ]
    },
    {
     "name": "stderr",
     "output_type": "stream",
     "text": [
      "\n"
     ]
    },
    {
     "name": "stdout",
     "output_type": "stream",
     "text": [
      "\n",
      "      Epoch    GPU_mem   box_loss   cls_loss   dfl_loss  Instances       Size\n"
     ]
    },
    {
     "name": "stderr",
     "output_type": "stream",
     "text": [
      "     73/300      2.72G      2.126     0.9804      2.109         48        640: 100%|██████████| 204/204 [00:50<00:00,  \n",
      "                 Class     Images  Instances      Box(P          R      mAP50  mAP50-95): 100%|██████████| 34/34 [00:07"
     ]
    },
    {
     "name": "stdout",
     "output_type": "stream",
     "text": [
      "                   all        679       3388      0.945      0.912      0.965      0.631\n"
     ]
    },
    {
     "name": "stderr",
     "output_type": "stream",
     "text": [
      "\n"
     ]
    },
    {
     "name": "stdout",
     "output_type": "stream",
     "text": [
      "\n",
      "      Epoch    GPU_mem   box_loss   cls_loss   dfl_loss  Instances       Size\n"
     ]
    },
    {
     "name": "stderr",
     "output_type": "stream",
     "text": [
      "     74/300      2.76G      2.132     0.9718      2.129         33        640: 100%|██████████| 204/204 [00:50<00:00,  \n",
      "                 Class     Images  Instances      Box(P          R      mAP50  mAP50-95): 100%|██████████| 34/34 [00:07"
     ]
    },
    {
     "name": "stdout",
     "output_type": "stream",
     "text": [
      "                   all        679       3388      0.936      0.915      0.963      0.633\n"
     ]
    },
    {
     "name": "stderr",
     "output_type": "stream",
     "text": [
      "\n"
     ]
    },
    {
     "name": "stdout",
     "output_type": "stream",
     "text": [
      "\n",
      "      Epoch    GPU_mem   box_loss   cls_loss   dfl_loss  Instances       Size\n"
     ]
    },
    {
     "name": "stderr",
     "output_type": "stream",
     "text": [
      "     75/300      2.88G      2.127     0.9785      2.111         39        640: 100%|██████████| 204/204 [00:50<00:00,  \n",
      "                 Class     Images  Instances      Box(P          R      mAP50  mAP50-95): 100%|██████████| 34/34 [00:07"
     ]
    },
    {
     "name": "stdout",
     "output_type": "stream",
     "text": [
      "                   all        679       3388      0.948      0.908      0.966      0.636\n"
     ]
    },
    {
     "name": "stderr",
     "output_type": "stream",
     "text": [
      "\n"
     ]
    },
    {
     "name": "stdout",
     "output_type": "stream",
     "text": [
      "\n",
      "      Epoch    GPU_mem   box_loss   cls_loss   dfl_loss  Instances       Size\n"
     ]
    },
    {
     "name": "stderr",
     "output_type": "stream",
     "text": [
      "     76/300      2.73G      2.102     0.9592      2.099         64        640: 100%|██████████| 204/204 [00:50<00:00,  \n",
      "                 Class     Images  Instances      Box(P          R      mAP50  mAP50-95): 100%|██████████| 34/34 [00:07"
     ]
    },
    {
     "name": "stdout",
     "output_type": "stream",
     "text": [
      "                   all        679       3388      0.943      0.913      0.964      0.628\n"
     ]
    },
    {
     "name": "stderr",
     "output_type": "stream",
     "text": [
      "\n"
     ]
    },
    {
     "name": "stdout",
     "output_type": "stream",
     "text": [
      "\n",
      "      Epoch    GPU_mem   box_loss   cls_loss   dfl_loss  Instances       Size\n"
     ]
    },
    {
     "name": "stderr",
     "output_type": "stream",
     "text": [
      "     77/300      2.79G      2.086     0.9403      2.097         36        640: 100%|██████████| 204/204 [00:50<00:00,  \n",
      "                 Class     Images  Instances      Box(P          R      mAP50  mAP50-95): 100%|██████████| 34/34 [00:07"
     ]
    },
    {
     "name": "stdout",
     "output_type": "stream",
     "text": [
      "                   all        679       3388      0.949      0.908      0.964      0.634\n"
     ]
    },
    {
     "name": "stderr",
     "output_type": "stream",
     "text": [
      "\n"
     ]
    },
    {
     "name": "stdout",
     "output_type": "stream",
     "text": [
      "\n",
      "      Epoch    GPU_mem   box_loss   cls_loss   dfl_loss  Instances       Size\n"
     ]
    },
    {
     "name": "stderr",
     "output_type": "stream",
     "text": [
      "     78/300      2.79G      2.084     0.9296      2.089         55        640: 100%|██████████| 204/204 [00:50<00:00,  \n",
      "                 Class     Images  Instances      Box(P          R      mAP50  mAP50-95): 100%|██████████| 34/34 [00:07"
     ]
    },
    {
     "name": "stdout",
     "output_type": "stream",
     "text": [
      "                   all        679       3388      0.937      0.916      0.964       0.63\n"
     ]
    },
    {
     "name": "stderr",
     "output_type": "stream",
     "text": [
      "\n"
     ]
    },
    {
     "name": "stdout",
     "output_type": "stream",
     "text": [
      "\n",
      "      Epoch    GPU_mem   box_loss   cls_loss   dfl_loss  Instances       Size\n"
     ]
    },
    {
     "name": "stderr",
     "output_type": "stream",
     "text": [
      "     79/300      2.77G      2.067     0.9201      2.072         45        640: 100%|██████████| 204/204 [00:50<00:00,  \n",
      "                 Class     Images  Instances      Box(P          R      mAP50  mAP50-95): 100%|██████████| 34/34 [00:07"
     ]
    },
    {
     "name": "stdout",
     "output_type": "stream",
     "text": [
      "                   all        679       3388      0.937      0.919      0.967      0.635\n"
     ]
    },
    {
     "name": "stderr",
     "output_type": "stream",
     "text": [
      "\n"
     ]
    },
    {
     "name": "stdout",
     "output_type": "stream",
     "text": [
      "\n",
      "      Epoch    GPU_mem   box_loss   cls_loss   dfl_loss  Instances       Size\n"
     ]
    },
    {
     "name": "stderr",
     "output_type": "stream",
     "text": [
      "     80/300      2.89G      2.106     0.9532      2.106         54        640: 100%|██████████| 204/204 [00:50<00:00,  \n",
      "                 Class     Images  Instances      Box(P          R      mAP50  mAP50-95): 100%|██████████| 34/34 [00:07"
     ]
    },
    {
     "name": "stdout",
     "output_type": "stream",
     "text": [
      "                   all        679       3388      0.941      0.922      0.968      0.633\n"
     ]
    },
    {
     "name": "stderr",
     "output_type": "stream",
     "text": [
      "\n"
     ]
    },
    {
     "name": "stdout",
     "output_type": "stream",
     "text": [
      "\n",
      "      Epoch    GPU_mem   box_loss   cls_loss   dfl_loss  Instances       Size\n"
     ]
    },
    {
     "name": "stderr",
     "output_type": "stream",
     "text": [
      "     81/300      2.76G      2.092     0.9443      2.096         58        640: 100%|██████████| 204/204 [00:50<00:00,  \n",
      "                 Class     Images  Instances      Box(P          R      mAP50  mAP50-95): 100%|██████████| 34/34 [00:07"
     ]
    },
    {
     "name": "stdout",
     "output_type": "stream",
     "text": [
      "                   all        679       3388      0.944      0.917      0.968      0.636\n"
     ]
    },
    {
     "name": "stderr",
     "output_type": "stream",
     "text": [
      "\n"
     ]
    },
    {
     "name": "stdout",
     "output_type": "stream",
     "text": [
      "\n",
      "      Epoch    GPU_mem   box_loss   cls_loss   dfl_loss  Instances       Size\n"
     ]
    },
    {
     "name": "stderr",
     "output_type": "stream",
     "text": [
      "     82/300      2.87G      2.081       0.94      2.076         63        640: 100%|██████████| 204/204 [00:50<00:00,  \n",
      "                 Class     Images  Instances      Box(P          R      mAP50  mAP50-95): 100%|██████████| 34/34 [00:07"
     ]
    },
    {
     "name": "stdout",
     "output_type": "stream",
     "text": [
      "                   all        679       3388      0.943      0.907      0.964      0.634\n"
     ]
    },
    {
     "name": "stderr",
     "output_type": "stream",
     "text": [
      "\n"
     ]
    },
    {
     "name": "stdout",
     "output_type": "stream",
     "text": [
      "\n",
      "      Epoch    GPU_mem   box_loss   cls_loss   dfl_loss  Instances       Size\n"
     ]
    },
    {
     "name": "stderr",
     "output_type": "stream",
     "text": [
      "     83/300      2.77G      2.048     0.9153       2.06         71        640: 100%|██████████| 204/204 [00:50<00:00,  \n",
      "                 Class     Images  Instances      Box(P          R      mAP50  mAP50-95): 100%|██████████| 34/34 [00:07"
     ]
    },
    {
     "name": "stdout",
     "output_type": "stream",
     "text": [
      "                   all        679       3388      0.939      0.913      0.966      0.631\n"
     ]
    },
    {
     "name": "stderr",
     "output_type": "stream",
     "text": [
      "\n"
     ]
    },
    {
     "name": "stdout",
     "output_type": "stream",
     "text": [
      "\n",
      "      Epoch    GPU_mem   box_loss   cls_loss   dfl_loss  Instances       Size\n"
     ]
    },
    {
     "name": "stderr",
     "output_type": "stream",
     "text": [
      "     84/300      2.79G      2.044     0.9298      2.083         67        640: 100%|██████████| 204/204 [00:50<00:00,  \n",
      "                 Class     Images  Instances      Box(P          R      mAP50  mAP50-95): 100%|██████████| 34/34 [00:07"
     ]
    },
    {
     "name": "stdout",
     "output_type": "stream",
     "text": [
      "                   all        679       3388      0.944      0.908      0.965      0.636\n"
     ]
    },
    {
     "name": "stderr",
     "output_type": "stream",
     "text": [
      "\n"
     ]
    },
    {
     "name": "stdout",
     "output_type": "stream",
     "text": [
      "\n",
      "      Epoch    GPU_mem   box_loss   cls_loss   dfl_loss  Instances       Size\n"
     ]
    },
    {
     "name": "stderr",
     "output_type": "stream",
     "text": [
      "     85/300      2.88G      2.064     0.9412      2.076         48        640: 100%|██████████| 204/204 [00:50<00:00,  \n",
      "                 Class     Images  Instances      Box(P          R      mAP50  mAP50-95): 100%|██████████| 34/34 [00:07"
     ]
    },
    {
     "name": "stdout",
     "output_type": "stream",
     "text": [
      "                   all        679       3388      0.929       0.92      0.964      0.637\n"
     ]
    },
    {
     "name": "stderr",
     "output_type": "stream",
     "text": [
      "\n"
     ]
    },
    {
     "name": "stdout",
     "output_type": "stream",
     "text": [
      "\n",
      "      Epoch    GPU_mem   box_loss   cls_loss   dfl_loss  Instances       Size\n"
     ]
    },
    {
     "name": "stderr",
     "output_type": "stream",
     "text": [
      "     86/300      2.87G      2.056     0.9269      2.092         34        640: 100%|██████████| 204/204 [00:50<00:00,  \n",
      "                 Class     Images  Instances      Box(P          R      mAP50  mAP50-95): 100%|██████████| 34/34 [00:07"
     ]
    },
    {
     "name": "stdout",
     "output_type": "stream",
     "text": [
      "                   all        679       3388      0.948      0.909      0.967      0.634\n"
     ]
    },
    {
     "name": "stderr",
     "output_type": "stream",
     "text": [
      "\n"
     ]
    },
    {
     "name": "stdout",
     "output_type": "stream",
     "text": [
      "\n",
      "      Epoch    GPU_mem   box_loss   cls_loss   dfl_loss  Instances       Size\n"
     ]
    },
    {
     "name": "stderr",
     "output_type": "stream",
     "text": [
      "     87/300      2.82G      2.039      0.916      2.072         35        640: 100%|██████████| 204/204 [00:50<00:00,  \n",
      "                 Class     Images  Instances      Box(P          R      mAP50  mAP50-95): 100%|██████████| 34/34 [00:07"
     ]
    },
    {
     "name": "stdout",
     "output_type": "stream",
     "text": [
      "                   all        679       3388      0.942      0.918      0.966       0.63\n"
     ]
    },
    {
     "name": "stderr",
     "output_type": "stream",
     "text": [
      "\n"
     ]
    },
    {
     "name": "stdout",
     "output_type": "stream",
     "text": [
      "\n",
      "      Epoch    GPU_mem   box_loss   cls_loss   dfl_loss  Instances       Size\n"
     ]
    },
    {
     "name": "stderr",
     "output_type": "stream",
     "text": [
      "     88/300      2.86G      2.046     0.9254      2.078         81        640: 100%|██████████| 204/204 [00:50<00:00,  \n",
      "                 Class     Images  Instances      Box(P          R      mAP50  mAP50-95): 100%|██████████| 34/34 [00:07"
     ]
    },
    {
     "name": "stdout",
     "output_type": "stream",
     "text": [
      "                   all        679       3388      0.949      0.904      0.965      0.634\n"
     ]
    },
    {
     "name": "stderr",
     "output_type": "stream",
     "text": [
      "\n"
     ]
    },
    {
     "name": "stdout",
     "output_type": "stream",
     "text": [
      "\n",
      "      Epoch    GPU_mem   box_loss   cls_loss   dfl_loss  Instances       Size\n"
     ]
    },
    {
     "name": "stderr",
     "output_type": "stream",
     "text": [
      "     89/300      2.73G      2.028     0.9314      2.059         52        640: 100%|██████████| 204/204 [00:50<00:00,  \n",
      "                 Class     Images  Instances      Box(P          R      mAP50  mAP50-95): 100%|██████████| 34/34 [00:07"
     ]
    },
    {
     "name": "stdout",
     "output_type": "stream",
     "text": [
      "                   all        679       3388      0.944       0.91      0.964      0.632\n"
     ]
    },
    {
     "name": "stderr",
     "output_type": "stream",
     "text": [
      "\n"
     ]
    },
    {
     "name": "stdout",
     "output_type": "stream",
     "text": [
      "\n",
      "      Epoch    GPU_mem   box_loss   cls_loss   dfl_loss  Instances       Size\n"
     ]
    },
    {
     "name": "stderr",
     "output_type": "stream",
     "text": [
      "     90/300      2.87G      2.002     0.9032      2.062         84        640: 100%|██████████| 204/204 [00:50<00:00,  \n",
      "                 Class     Images  Instances      Box(P          R      mAP50  mAP50-95): 100%|██████████| 34/34 [00:07"
     ]
    },
    {
     "name": "stdout",
     "output_type": "stream",
     "text": [
      "                   all        679       3388      0.938       0.92      0.965      0.633\n"
     ]
    },
    {
     "name": "stderr",
     "output_type": "stream",
     "text": [
      "\n"
     ]
    },
    {
     "name": "stdout",
     "output_type": "stream",
     "text": [
      "\n",
      "      Epoch    GPU_mem   box_loss   cls_loss   dfl_loss  Instances       Size\n"
     ]
    },
    {
     "name": "stderr",
     "output_type": "stream",
     "text": [
      "     91/300      2.76G      2.014     0.9111      2.057         37        640: 100%|██████████| 204/204 [00:50<00:00,  \n",
      "                 Class     Images  Instances      Box(P          R      mAP50  mAP50-95): 100%|██████████| 34/34 [00:07"
     ]
    },
    {
     "name": "stdout",
     "output_type": "stream",
     "text": [
      "                   all        679       3388       0.94      0.911      0.963      0.638\n"
     ]
    },
    {
     "name": "stderr",
     "output_type": "stream",
     "text": [
      "\n"
     ]
    },
    {
     "name": "stdout",
     "output_type": "stream",
     "text": [
      "\n",
      "      Epoch    GPU_mem   box_loss   cls_loss   dfl_loss  Instances       Size\n"
     ]
    },
    {
     "name": "stderr",
     "output_type": "stream",
     "text": [
      "     92/300      2.74G      2.016     0.9071      2.042         52        640: 100%|██████████| 204/204 [00:50<00:00,  \n",
      "                 Class     Images  Instances      Box(P          R      mAP50  mAP50-95): 100%|██████████| 34/34 [00:07"
     ]
    },
    {
     "name": "stdout",
     "output_type": "stream",
     "text": [
      "                   all        679       3388      0.939      0.919      0.966      0.636\n"
     ]
    },
    {
     "name": "stderr",
     "output_type": "stream",
     "text": [
      "\n"
     ]
    },
    {
     "name": "stdout",
     "output_type": "stream",
     "text": [
      "\n",
      "      Epoch    GPU_mem   box_loss   cls_loss   dfl_loss  Instances       Size\n"
     ]
    },
    {
     "name": "stderr",
     "output_type": "stream",
     "text": [
      "     93/300      2.75G      2.023     0.9091      2.054         47        640: 100%|██████████| 204/204 [00:50<00:00,  \n",
      "                 Class     Images  Instances      Box(P          R      mAP50  mAP50-95): 100%|██████████| 34/34 [00:07"
     ]
    },
    {
     "name": "stdout",
     "output_type": "stream",
     "text": [
      "                   all        679       3388      0.924      0.919      0.963      0.634\n"
     ]
    },
    {
     "name": "stderr",
     "output_type": "stream",
     "text": [
      "\n"
     ]
    },
    {
     "name": "stdout",
     "output_type": "stream",
     "text": [
      "\n",
      "      Epoch    GPU_mem   box_loss   cls_loss   dfl_loss  Instances       Size\n"
     ]
    },
    {
     "name": "stderr",
     "output_type": "stream",
     "text": [
      "     94/300      2.84G      1.986     0.8881      2.039         53        640: 100%|██████████| 204/204 [00:50<00:00,  \n",
      "                 Class     Images  Instances      Box(P          R      mAP50  mAP50-95): 100%|██████████| 34/34 [00:07"
     ]
    },
    {
     "name": "stdout",
     "output_type": "stream",
     "text": [
      "                   all        679       3388       0.94      0.916      0.965      0.636\n"
     ]
    },
    {
     "name": "stderr",
     "output_type": "stream",
     "text": [
      "\n"
     ]
    },
    {
     "name": "stdout",
     "output_type": "stream",
     "text": [
      "\n",
      "      Epoch    GPU_mem   box_loss   cls_loss   dfl_loss  Instances       Size\n"
     ]
    },
    {
     "name": "stderr",
     "output_type": "stream",
     "text": [
      "     95/300      2.82G      2.006     0.9078      2.065         77        640: 100%|██████████| 204/204 [00:50<00:00,  \n",
      "                 Class     Images  Instances      Box(P          R      mAP50  mAP50-95): 100%|██████████| 34/34 [00:07"
     ]
    },
    {
     "name": "stdout",
     "output_type": "stream",
     "text": [
      "                   all        679       3388      0.945      0.914      0.965      0.636\n"
     ]
    },
    {
     "name": "stderr",
     "output_type": "stream",
     "text": [
      "\n"
     ]
    },
    {
     "name": "stdout",
     "output_type": "stream",
     "text": [
      "\n",
      "      Epoch    GPU_mem   box_loss   cls_loss   dfl_loss  Instances       Size\n"
     ]
    },
    {
     "name": "stderr",
     "output_type": "stream",
     "text": [
      "     96/300      2.73G       1.99     0.8922      2.054         34        640: 100%|██████████| 204/204 [00:50<00:00,  \n",
      "                 Class     Images  Instances      Box(P          R      mAP50  mAP50-95): 100%|██████████| 34/34 [00:07"
     ]
    },
    {
     "name": "stdout",
     "output_type": "stream",
     "text": [
      "                   all        679       3388      0.945      0.917      0.967      0.638\n"
     ]
    },
    {
     "name": "stderr",
     "output_type": "stream",
     "text": [
      "\n"
     ]
    },
    {
     "name": "stdout",
     "output_type": "stream",
     "text": [
      "\n",
      "      Epoch    GPU_mem   box_loss   cls_loss   dfl_loss  Instances       Size\n"
     ]
    },
    {
     "name": "stderr",
     "output_type": "stream",
     "text": [
      "     97/300      2.82G      1.993     0.8921      2.042         70        640: 100%|██████████| 204/204 [00:50<00:00,  \n",
      "                 Class     Images  Instances      Box(P          R      mAP50  mAP50-95): 100%|██████████| 34/34 [00:07"
     ]
    },
    {
     "name": "stdout",
     "output_type": "stream",
     "text": [
      "                   all        679       3388      0.938      0.913      0.964      0.637\n"
     ]
    },
    {
     "name": "stderr",
     "output_type": "stream",
     "text": [
      "\n"
     ]
    },
    {
     "name": "stdout",
     "output_type": "stream",
     "text": [
      "\n",
      "      Epoch    GPU_mem   box_loss   cls_loss   dfl_loss  Instances       Size\n"
     ]
    },
    {
     "name": "stderr",
     "output_type": "stream",
     "text": [
      "     98/300      2.85G      1.963     0.8826      2.021         28        640: 100%|██████████| 204/204 [00:50<00:00,  \n",
      "                 Class     Images  Instances      Box(P          R      mAP50  mAP50-95): 100%|██████████| 34/34 [00:07"
     ]
    },
    {
     "name": "stdout",
     "output_type": "stream",
     "text": [
      "                   all        679       3388      0.933      0.921      0.964      0.635\n"
     ]
    },
    {
     "name": "stderr",
     "output_type": "stream",
     "text": [
      "\n"
     ]
    },
    {
     "name": "stdout",
     "output_type": "stream",
     "text": [
      "\n",
      "      Epoch    GPU_mem   box_loss   cls_loss   dfl_loss  Instances       Size\n"
     ]
    },
    {
     "name": "stderr",
     "output_type": "stream",
     "text": [
      "     99/300      2.82G      1.986     0.8876      2.036         41        640: 100%|██████████| 204/204 [00:50<00:00,  \n",
      "                 Class     Images  Instances      Box(P          R      mAP50  mAP50-95): 100%|██████████| 34/34 [00:07"
     ]
    },
    {
     "name": "stdout",
     "output_type": "stream",
     "text": [
      "                   all        679       3388      0.936      0.922      0.967      0.636\n"
     ]
    },
    {
     "name": "stderr",
     "output_type": "stream",
     "text": [
      "\n"
     ]
    },
    {
     "name": "stdout",
     "output_type": "stream",
     "text": [
      "\n",
      "      Epoch    GPU_mem   box_loss   cls_loss   dfl_loss  Instances       Size\n"
     ]
    },
    {
     "name": "stderr",
     "output_type": "stream",
     "text": [
      "    100/300       2.8G      1.979     0.8914      2.048         83        640: 100%|██████████| 204/204 [00:50<00:00,  \n",
      "                 Class     Images  Instances      Box(P          R      mAP50  mAP50-95): 100%|██████████| 34/34 [00:07"
     ]
    },
    {
     "name": "stdout",
     "output_type": "stream",
     "text": [
      "                   all        679       3388       0.94      0.912      0.964      0.636\n"
     ]
    },
    {
     "name": "stderr",
     "output_type": "stream",
     "text": [
      "\n"
     ]
    },
    {
     "name": "stdout",
     "output_type": "stream",
     "text": [
      "\n",
      "      Epoch    GPU_mem   box_loss   cls_loss   dfl_loss  Instances       Size\n"
     ]
    },
    {
     "name": "stderr",
     "output_type": "stream",
     "text": [
      "    101/300      2.78G       1.96     0.8732       2.04         33        640: 100%|██████████| 204/204 [00:50<00:00,  \n",
      "                 Class     Images  Instances      Box(P          R      mAP50  mAP50-95): 100%|██████████| 34/34 [00:07"
     ]
    },
    {
     "name": "stdout",
     "output_type": "stream",
     "text": [
      "                   all        679       3388      0.954       0.91      0.966      0.635\n"
     ]
    },
    {
     "name": "stderr",
     "output_type": "stream",
     "text": [
      "\n"
     ]
    },
    {
     "name": "stdout",
     "output_type": "stream",
     "text": [
      "\n",
      "      Epoch    GPU_mem   box_loss   cls_loss   dfl_loss  Instances       Size\n"
     ]
    },
    {
     "name": "stderr",
     "output_type": "stream",
     "text": [
      "    102/300      2.72G      1.971     0.8861      2.029         70        640: 100%|██████████| 204/204 [00:50<00:00,  \n",
      "                 Class     Images  Instances      Box(P          R      mAP50  mAP50-95): 100%|██████████| 34/34 [00:07"
     ]
    },
    {
     "name": "stdout",
     "output_type": "stream",
     "text": [
      "                   all        679       3388      0.942      0.917      0.964      0.638\n"
     ]
    },
    {
     "name": "stderr",
     "output_type": "stream",
     "text": [
      "\n"
     ]
    },
    {
     "name": "stdout",
     "output_type": "stream",
     "text": [
      "\n",
      "      Epoch    GPU_mem   box_loss   cls_loss   dfl_loss  Instances       Size\n"
     ]
    },
    {
     "name": "stderr",
     "output_type": "stream",
     "text": [
      "    103/300      2.79G       1.95     0.8728       2.05         42        640: 100%|██████████| 204/204 [00:50<00:00,  \n",
      "                 Class     Images  Instances      Box(P          R      mAP50  mAP50-95): 100%|██████████| 34/34 [00:07"
     ]
    },
    {
     "name": "stdout",
     "output_type": "stream",
     "text": [
      "                   all        679       3388       0.95      0.908      0.964      0.633\n"
     ]
    },
    {
     "name": "stderr",
     "output_type": "stream",
     "text": [
      "\n"
     ]
    },
    {
     "name": "stdout",
     "output_type": "stream",
     "text": [
      "\n",
      "      Epoch    GPU_mem   box_loss   cls_loss   dfl_loss  Instances       Size\n"
     ]
    },
    {
     "name": "stderr",
     "output_type": "stream",
     "text": [
      "    104/300      2.88G      1.959     0.8678      2.023         44        640: 100%|██████████| 204/204 [00:50<00:00,  \n",
      "                 Class     Images  Instances      Box(P          R      mAP50  mAP50-95): 100%|██████████| 34/34 [00:07"
     ]
    },
    {
     "name": "stdout",
     "output_type": "stream",
     "text": [
      "                   all        679       3388      0.945       0.91      0.963      0.636\n"
     ]
    },
    {
     "name": "stderr",
     "output_type": "stream",
     "text": [
      "\n"
     ]
    },
    {
     "name": "stdout",
     "output_type": "stream",
     "text": [
      "\n",
      "      Epoch    GPU_mem   box_loss   cls_loss   dfl_loss  Instances       Size\n"
     ]
    },
    {
     "name": "stderr",
     "output_type": "stream",
     "text": [
      "    105/300      2.84G      1.948     0.8773      2.046         26        640: 100%|██████████| 204/204 [00:50<00:00,  \n",
      "                 Class     Images  Instances      Box(P          R      mAP50  mAP50-95): 100%|██████████| 34/34 [00:07"
     ]
    },
    {
     "name": "stdout",
     "output_type": "stream",
     "text": [
      "                   all        679       3388      0.943      0.918      0.964      0.635\n"
     ]
    },
    {
     "name": "stderr",
     "output_type": "stream",
     "text": [
      "\n"
     ]
    },
    {
     "name": "stdout",
     "output_type": "stream",
     "text": [
      "\n",
      "      Epoch    GPU_mem   box_loss   cls_loss   dfl_loss  Instances       Size\n"
     ]
    },
    {
     "name": "stderr",
     "output_type": "stream",
     "text": [
      "    106/300      2.73G      1.927      0.866       2.02         54        640: 100%|██████████| 204/204 [00:50<00:00,  \n",
      "                 Class     Images  Instances      Box(P          R      mAP50  mAP50-95): 100%|██████████| 34/34 [00:07"
     ]
    },
    {
     "name": "stdout",
     "output_type": "stream",
     "text": [
      "                   all        679       3388      0.943      0.918      0.965      0.638\n"
     ]
    },
    {
     "name": "stderr",
     "output_type": "stream",
     "text": [
      "\n"
     ]
    },
    {
     "name": "stdout",
     "output_type": "stream",
     "text": [
      "\n",
      "      Epoch    GPU_mem   box_loss   cls_loss   dfl_loss  Instances       Size\n"
     ]
    },
    {
     "name": "stderr",
     "output_type": "stream",
     "text": [
      "    107/300      2.82G       1.94     0.8754      2.012         57        640: 100%|██████████| 204/204 [00:50<00:00,  \n",
      "                 Class     Images  Instances      Box(P          R      mAP50  mAP50-95): 100%|██████████| 34/34 [00:07"
     ]
    },
    {
     "name": "stdout",
     "output_type": "stream",
     "text": [
      "                   all        679       3388      0.948      0.908      0.963      0.637\n"
     ]
    },
    {
     "name": "stderr",
     "output_type": "stream",
     "text": [
      "\n"
     ]
    },
    {
     "name": "stdout",
     "output_type": "stream",
     "text": [
      "\n",
      "      Epoch    GPU_mem   box_loss   cls_loss   dfl_loss  Instances       Size\n"
     ]
    },
    {
     "name": "stderr",
     "output_type": "stream",
     "text": [
      "    108/300      2.79G      1.939      0.874      2.027         37        640: 100%|██████████| 204/204 [00:50<00:00,  \n",
      "                 Class     Images  Instances      Box(P          R      mAP50  mAP50-95): 100%|██████████| 34/34 [00:07"
     ]
    },
    {
     "name": "stdout",
     "output_type": "stream",
     "text": [
      "                   all        679       3388      0.945      0.916      0.965      0.637\n"
     ]
    },
    {
     "name": "stderr",
     "output_type": "stream",
     "text": [
      "\n"
     ]
    },
    {
     "name": "stdout",
     "output_type": "stream",
     "text": [
      "\n",
      "      Epoch    GPU_mem   box_loss   cls_loss   dfl_loss  Instances       Size\n"
     ]
    },
    {
     "name": "stderr",
     "output_type": "stream",
     "text": [
      "    109/300      2.85G       1.94     0.8699      2.026         37        640: 100%|██████████| 204/204 [00:50<00:00,  \n",
      "                 Class     Images  Instances      Box(P          R      mAP50  mAP50-95): 100%|██████████| 34/34 [00:07"
     ]
    },
    {
     "name": "stdout",
     "output_type": "stream",
     "text": [
      "                   all        679       3388      0.955      0.909      0.967       0.64\n"
     ]
    },
    {
     "name": "stderr",
     "output_type": "stream",
     "text": [
      "\n"
     ]
    },
    {
     "name": "stdout",
     "output_type": "stream",
     "text": [
      "\n",
      "      Epoch    GPU_mem   box_loss   cls_loss   dfl_loss  Instances       Size\n"
     ]
    },
    {
     "name": "stderr",
     "output_type": "stream",
     "text": [
      "    110/300      2.81G      1.919     0.8555      2.018         31        640: 100%|██████████| 204/204 [00:50<00:00,  \n",
      "                 Class     Images  Instances      Box(P          R      mAP50  mAP50-95): 100%|██████████| 34/34 [00:07"
     ]
    },
    {
     "name": "stdout",
     "output_type": "stream",
     "text": [
      "                   all        679       3388      0.949      0.914      0.967      0.639\n"
     ]
    },
    {
     "name": "stderr",
     "output_type": "stream",
     "text": [
      "\n"
     ]
    },
    {
     "name": "stdout",
     "output_type": "stream",
     "text": [
      "\n",
      "      Epoch    GPU_mem   box_loss   cls_loss   dfl_loss  Instances       Size\n"
     ]
    },
    {
     "name": "stderr",
     "output_type": "stream",
     "text": [
      "    111/300       2.8G      1.941     0.8756      2.027         37        640: 100%|██████████| 204/204 [00:50<00:00,  \n",
      "                 Class     Images  Instances      Box(P          R      mAP50  mAP50-95): 100%|██████████| 34/34 [00:07"
     ]
    },
    {
     "name": "stdout",
     "output_type": "stream",
     "text": [
      "                   all        679       3388      0.938      0.919      0.964      0.637\n"
     ]
    },
    {
     "name": "stderr",
     "output_type": "stream",
     "text": [
      "\n"
     ]
    },
    {
     "name": "stdout",
     "output_type": "stream",
     "text": [
      "\n",
      "      Epoch    GPU_mem   box_loss   cls_loss   dfl_loss  Instances       Size\n"
     ]
    },
    {
     "name": "stderr",
     "output_type": "stream",
     "text": [
      "    112/300      2.75G      1.922     0.8517      2.016         74        640: 100%|██████████| 204/204 [00:50<00:00,  \n",
      "                 Class     Images  Instances      Box(P          R      mAP50  mAP50-95): 100%|██████████| 34/34 [00:07"
     ]
    },
    {
     "name": "stdout",
     "output_type": "stream",
     "text": [
      "                   all        679       3388       0.94      0.912      0.964      0.634\n"
     ]
    },
    {
     "name": "stderr",
     "output_type": "stream",
     "text": [
      "\n"
     ]
    },
    {
     "name": "stdout",
     "output_type": "stream",
     "text": [
      "\n",
      "      Epoch    GPU_mem   box_loss   cls_loss   dfl_loss  Instances       Size\n"
     ]
    },
    {
     "name": "stderr",
     "output_type": "stream",
     "text": [
      "    113/300      2.83G      1.921     0.8645      2.029         68        640: 100%|██████████| 204/204 [00:50<00:00,  \n",
      "                 Class     Images  Instances      Box(P          R      mAP50  mAP50-95): 100%|██████████| 34/34 [00:07"
     ]
    },
    {
     "name": "stdout",
     "output_type": "stream",
     "text": [
      "                   all        679       3388      0.948       0.91      0.964      0.634\n"
     ]
    },
    {
     "name": "stderr",
     "output_type": "stream",
     "text": [
      "\n"
     ]
    },
    {
     "name": "stdout",
     "output_type": "stream",
     "text": [
      "\n",
      "      Epoch    GPU_mem   box_loss   cls_loss   dfl_loss  Instances       Size\n"
     ]
    },
    {
     "name": "stderr",
     "output_type": "stream",
     "text": [
      "    114/300      2.74G      1.912     0.8475      2.005         29        640: 100%|██████████| 204/204 [00:50<00:00,  \n",
      "                 Class     Images  Instances      Box(P          R      mAP50  mAP50-95): 100%|██████████| 34/34 [00:07"
     ]
    },
    {
     "name": "stdout",
     "output_type": "stream",
     "text": [
      "                   all        679       3388      0.937      0.923      0.966      0.637\n"
     ]
    },
    {
     "name": "stderr",
     "output_type": "stream",
     "text": [
      "\n"
     ]
    },
    {
     "name": "stdout",
     "output_type": "stream",
     "text": [
      "\n",
      "      Epoch    GPU_mem   box_loss   cls_loss   dfl_loss  Instances       Size\n"
     ]
    },
    {
     "name": "stderr",
     "output_type": "stream",
     "text": [
      "    115/300      2.79G      1.937     0.8666      2.014         84        640: 100%|██████████| 204/204 [00:50<00:00,  \n",
      "                 Class     Images  Instances      Box(P          R      mAP50  mAP50-95): 100%|██████████| 34/34 [00:07"
     ]
    },
    {
     "name": "stdout",
     "output_type": "stream",
     "text": [
      "                   all        679       3388      0.954      0.904      0.965      0.634\n"
     ]
    },
    {
     "name": "stderr",
     "output_type": "stream",
     "text": [
      "\n"
     ]
    },
    {
     "name": "stdout",
     "output_type": "stream",
     "text": [
      "\n",
      "      Epoch    GPU_mem   box_loss   cls_loss   dfl_loss  Instances       Size\n"
     ]
    },
    {
     "name": "stderr",
     "output_type": "stream",
     "text": [
      "    116/300       2.8G      1.892     0.8384      2.013         40        640: 100%|██████████| 204/204 [00:50<00:00,  \n",
      "                 Class     Images  Instances      Box(P          R      mAP50  mAP50-95): 100%|██████████| 34/34 [00:07"
     ]
    },
    {
     "name": "stdout",
     "output_type": "stream",
     "text": [
      "                   all        679       3388      0.944      0.914      0.966      0.637\n"
     ]
    },
    {
     "name": "stderr",
     "output_type": "stream",
     "text": [
      "\n"
     ]
    },
    {
     "name": "stdout",
     "output_type": "stream",
     "text": [
      "\n",
      "      Epoch    GPU_mem   box_loss   cls_loss   dfl_loss  Instances       Size\n"
     ]
    },
    {
     "name": "stderr",
     "output_type": "stream",
     "text": [
      "    117/300      2.87G      1.914      0.853      2.005         39        640: 100%|██████████| 204/204 [00:50<00:00,  \n",
      "                 Class     Images  Instances      Box(P          R      mAP50  mAP50-95): 100%|██████████| 34/34 [00:07"
     ]
    },
    {
     "name": "stdout",
     "output_type": "stream",
     "text": [
      "                   all        679       3388      0.944      0.917      0.964      0.636\n"
     ]
    },
    {
     "name": "stderr",
     "output_type": "stream",
     "text": [
      "\n"
     ]
    },
    {
     "name": "stdout",
     "output_type": "stream",
     "text": [
      "\n",
      "      Epoch    GPU_mem   box_loss   cls_loss   dfl_loss  Instances       Size\n"
     ]
    },
    {
     "name": "stderr",
     "output_type": "stream",
     "text": [
      "    118/300      2.86G      1.905     0.8479      2.011         68        640: 100%|██████████| 204/204 [00:50<00:00,  \n",
      "                 Class     Images  Instances      Box(P          R      mAP50  mAP50-95): 100%|██████████| 34/34 [00:07"
     ]
    },
    {
     "name": "stdout",
     "output_type": "stream",
     "text": [
      "                   all        679       3388      0.945      0.913      0.965      0.635\n"
     ]
    },
    {
     "name": "stderr",
     "output_type": "stream",
     "text": [
      "\n"
     ]
    },
    {
     "name": "stdout",
     "output_type": "stream",
     "text": [
      "\n",
      "      Epoch    GPU_mem   box_loss   cls_loss   dfl_loss  Instances       Size\n"
     ]
    },
    {
     "name": "stderr",
     "output_type": "stream",
     "text": [
      "    119/300      2.84G      1.911     0.8547       2.01         69        640: 100%|██████████| 204/204 [00:50<00:00,  \n",
      "                 Class     Images  Instances      Box(P          R      mAP50  mAP50-95): 100%|██████████| 34/34 [00:07"
     ]
    },
    {
     "name": "stdout",
     "output_type": "stream",
     "text": [
      "                   all        679       3388       0.95      0.908      0.966      0.641\n"
     ]
    },
    {
     "name": "stderr",
     "output_type": "stream",
     "text": [
      "\n"
     ]
    },
    {
     "name": "stdout",
     "output_type": "stream",
     "text": [
      "\n",
      "      Epoch    GPU_mem   box_loss   cls_loss   dfl_loss  Instances       Size\n"
     ]
    },
    {
     "name": "stderr",
     "output_type": "stream",
     "text": [
      "    120/300      2.87G      1.894     0.8385          2         37        640: 100%|██████████| 204/204 [00:50<00:00,  \n",
      "                 Class     Images  Instances      Box(P          R      mAP50  mAP50-95): 100%|██████████| 34/34 [00:07"
     ]
    },
    {
     "name": "stdout",
     "output_type": "stream",
     "text": [
      "                   all        679       3388      0.939      0.915      0.963      0.637\n"
     ]
    },
    {
     "name": "stderr",
     "output_type": "stream",
     "text": [
      "\n"
     ]
    },
    {
     "name": "stdout",
     "output_type": "stream",
     "text": [
      "\n",
      "      Epoch    GPU_mem   box_loss   cls_loss   dfl_loss  Instances       Size\n"
     ]
    },
    {
     "name": "stderr",
     "output_type": "stream",
     "text": [
      "    121/300      2.84G      1.885     0.8508      2.004         93        640: 100%|██████████| 204/204 [00:50<00:00,  \n",
      "                 Class     Images  Instances      Box(P          R      mAP50  mAP50-95): 100%|██████████| 34/34 [00:07"
     ]
    },
    {
     "name": "stdout",
     "output_type": "stream",
     "text": [
      "                   all        679       3388      0.942      0.913      0.966      0.636\n"
     ]
    },
    {
     "name": "stderr",
     "output_type": "stream",
     "text": [
      "\n"
     ]
    },
    {
     "name": "stdout",
     "output_type": "stream",
     "text": [
      "\n",
      "      Epoch    GPU_mem   box_loss   cls_loss   dfl_loss  Instances       Size\n"
     ]
    },
    {
     "name": "stderr",
     "output_type": "stream",
     "text": [
      "    122/300      2.76G      1.873     0.8391      1.998         59        640: 100%|██████████| 204/204 [00:50<00:00,  \n",
      "                 Class     Images  Instances      Box(P          R      mAP50  mAP50-95): 100%|██████████| 34/34 [00:07"
     ]
    },
    {
     "name": "stdout",
     "output_type": "stream",
     "text": [
      "                   all        679       3388      0.948      0.903      0.964       0.64\n"
     ]
    },
    {
     "name": "stderr",
     "output_type": "stream",
     "text": [
      "\n"
     ]
    },
    {
     "name": "stdout",
     "output_type": "stream",
     "text": [
      "\n",
      "      Epoch    GPU_mem   box_loss   cls_loss   dfl_loss  Instances       Size\n"
     ]
    },
    {
     "name": "stderr",
     "output_type": "stream",
     "text": [
      "    123/300      2.79G      1.868     0.8284      1.999         50        640: 100%|██████████| 204/204 [00:50<00:00,  \n",
      "                 Class     Images  Instances      Box(P          R      mAP50  mAP50-95): 100%|██████████| 34/34 [00:07"
     ]
    },
    {
     "name": "stdout",
     "output_type": "stream",
     "text": [
      "                   all        679       3388      0.946      0.914      0.965      0.637\n"
     ]
    },
    {
     "name": "stderr",
     "output_type": "stream",
     "text": [
      "\n"
     ]
    },
    {
     "name": "stdout",
     "output_type": "stream",
     "text": [
      "\n",
      "      Epoch    GPU_mem   box_loss   cls_loss   dfl_loss  Instances       Size\n"
     ]
    },
    {
     "name": "stderr",
     "output_type": "stream",
     "text": [
      "    124/300      2.74G      1.887      0.836      1.984         77        640: 100%|██████████| 204/204 [00:50<00:00,  \n",
      "                 Class     Images  Instances      Box(P          R      mAP50  mAP50-95): 100%|██████████| 34/34 [00:07"
     ]
    },
    {
     "name": "stdout",
     "output_type": "stream",
     "text": [
      "                   all        679       3388      0.936      0.917      0.965      0.633\n"
     ]
    },
    {
     "name": "stderr",
     "output_type": "stream",
     "text": [
      "\n"
     ]
    },
    {
     "name": "stdout",
     "output_type": "stream",
     "text": [
      "\n",
      "      Epoch    GPU_mem   box_loss   cls_loss   dfl_loss  Instances       Size\n"
     ]
    },
    {
     "name": "stderr",
     "output_type": "stream",
     "text": [
      "    125/300      2.81G      1.867      0.821      1.984         45        640: 100%|██████████| 204/204 [00:50<00:00,  \n",
      "                 Class     Images  Instances      Box(P          R      mAP50  mAP50-95): 100%|██████████| 34/34 [00:07"
     ]
    },
    {
     "name": "stdout",
     "output_type": "stream",
     "text": [
      "                   all        679       3388      0.949       0.91      0.966      0.639\n"
     ]
    },
    {
     "name": "stderr",
     "output_type": "stream",
     "text": [
      "\n"
     ]
    },
    {
     "name": "stdout",
     "output_type": "stream",
     "text": [
      "\n",
      "      Epoch    GPU_mem   box_loss   cls_loss   dfl_loss  Instances       Size\n"
     ]
    },
    {
     "name": "stderr",
     "output_type": "stream",
     "text": [
      "    126/300      2.78G      1.863     0.8148      2.001         76        640: 100%|██████████| 204/204 [00:50<00:00,  \n",
      "                 Class     Images  Instances      Box(P          R      mAP50  mAP50-95): 100%|██████████| 34/34 [00:07"
     ]
    },
    {
     "name": "stdout",
     "output_type": "stream",
     "text": [
      "                   all        679       3388      0.943      0.915      0.965      0.638\n"
     ]
    },
    {
     "name": "stderr",
     "output_type": "stream",
     "text": [
      "\n"
     ]
    },
    {
     "name": "stdout",
     "output_type": "stream",
     "text": [
      "\n",
      "      Epoch    GPU_mem   box_loss   cls_loss   dfl_loss  Instances       Size\n"
     ]
    },
    {
     "name": "stderr",
     "output_type": "stream",
     "text": [
      "    127/300      2.77G      1.861     0.8265      1.999         50        640: 100%|██████████| 204/204 [00:50<00:00,  \n",
      "                 Class     Images  Instances      Box(P          R      mAP50  mAP50-95): 100%|██████████| 34/34 [00:07"
     ]
    },
    {
     "name": "stdout",
     "output_type": "stream",
     "text": [
      "                   all        679       3388      0.948      0.912      0.966      0.638\n"
     ]
    },
    {
     "name": "stderr",
     "output_type": "stream",
     "text": [
      "\n"
     ]
    },
    {
     "name": "stdout",
     "output_type": "stream",
     "text": [
      "\n",
      "      Epoch    GPU_mem   box_loss   cls_loss   dfl_loss  Instances       Size\n"
     ]
    },
    {
     "name": "stderr",
     "output_type": "stream",
     "text": [
      "    128/300      2.76G      1.853     0.8249      1.986         39        640: 100%|██████████| 204/204 [00:50<00:00,  \n",
      "                 Class     Images  Instances      Box(P          R      mAP50  mAP50-95): 100%|██████████| 34/34 [00:07"
     ]
    },
    {
     "name": "stdout",
     "output_type": "stream",
     "text": [
      "                   all        679       3388      0.956      0.911      0.967      0.637\n"
     ]
    },
    {
     "name": "stderr",
     "output_type": "stream",
     "text": [
      "\n"
     ]
    },
    {
     "name": "stdout",
     "output_type": "stream",
     "text": [
      "\n",
      "      Epoch    GPU_mem   box_loss   cls_loss   dfl_loss  Instances       Size\n"
     ]
    },
    {
     "name": "stderr",
     "output_type": "stream",
     "text": [
      "    129/300      2.73G      1.851      0.825      1.996         41        640: 100%|██████████| 204/204 [00:50<00:00,  \n",
      "                 Class     Images  Instances      Box(P          R      mAP50  mAP50-95): 100%|██████████| 34/34 [00:07"
     ]
    },
    {
     "name": "stdout",
     "output_type": "stream",
     "text": [
      "                   all        679       3388      0.953      0.912      0.966       0.64\n"
     ]
    },
    {
     "name": "stderr",
     "output_type": "stream",
     "text": [
      "\n"
     ]
    },
    {
     "name": "stdout",
     "output_type": "stream",
     "text": [
      "\n",
      "      Epoch    GPU_mem   box_loss   cls_loss   dfl_loss  Instances       Size\n"
     ]
    },
    {
     "name": "stderr",
     "output_type": "stream",
     "text": [
      "    130/300      2.76G      1.845     0.8271      1.977         42        640: 100%|██████████| 204/204 [00:50<00:00,  \n",
      "                 Class     Images  Instances      Box(P          R      mAP50  mAP50-95): 100%|██████████| 34/34 [00:07"
     ]
    },
    {
     "name": "stdout",
     "output_type": "stream",
     "text": [
      "                   all        679       3388      0.949      0.918      0.965      0.638\n"
     ]
    },
    {
     "name": "stderr",
     "output_type": "stream",
     "text": [
      "\n"
     ]
    },
    {
     "name": "stdout",
     "output_type": "stream",
     "text": [
      "\n",
      "      Epoch    GPU_mem   box_loss   cls_loss   dfl_loss  Instances       Size\n"
     ]
    },
    {
     "name": "stderr",
     "output_type": "stream",
     "text": [
      "    131/300      2.83G      1.868     0.8268      1.972         28        640: 100%|██████████| 204/204 [00:50<00:00,  \n",
      "                 Class     Images  Instances      Box(P          R      mAP50  mAP50-95): 100%|██████████| 34/34 [00:07"
     ]
    },
    {
     "name": "stdout",
     "output_type": "stream",
     "text": [
      "                   all        679       3388       0.94      0.919      0.965      0.639\n"
     ]
    },
    {
     "name": "stderr",
     "output_type": "stream",
     "text": [
      "\n"
     ]
    },
    {
     "name": "stdout",
     "output_type": "stream",
     "text": [
      "\n",
      "      Epoch    GPU_mem   box_loss   cls_loss   dfl_loss  Instances       Size\n"
     ]
    },
    {
     "name": "stderr",
     "output_type": "stream",
     "text": [
      "    132/300      2.74G       1.84     0.8094      1.977         32        640: 100%|██████████| 204/204 [00:50<00:00,  \n",
      "                 Class     Images  Instances      Box(P          R      mAP50  mAP50-95): 100%|██████████| 34/34 [00:07"
     ]
    },
    {
     "name": "stdout",
     "output_type": "stream",
     "text": [
      "                   all        679       3388       0.94      0.913      0.964      0.637\n"
     ]
    },
    {
     "name": "stderr",
     "output_type": "stream",
     "text": [
      "\n"
     ]
    },
    {
     "name": "stdout",
     "output_type": "stream",
     "text": [
      "\n",
      "      Epoch    GPU_mem   box_loss   cls_loss   dfl_loss  Instances       Size\n"
     ]
    },
    {
     "name": "stderr",
     "output_type": "stream",
     "text": [
      "    133/300      2.75G      1.844     0.8195      1.977         69        640: 100%|██████████| 204/204 [00:50<00:00,  \n",
      "                 Class     Images  Instances      Box(P          R      mAP50  mAP50-95): 100%|██████████| 34/34 [00:07"
     ]
    },
    {
     "name": "stdout",
     "output_type": "stream",
     "text": [
      "                   all        679       3388      0.949      0.908      0.965      0.635\n"
     ]
    },
    {
     "name": "stderr",
     "output_type": "stream",
     "text": [
      "\n"
     ]
    },
    {
     "name": "stdout",
     "output_type": "stream",
     "text": [
      "\n",
      "      Epoch    GPU_mem   box_loss   cls_loss   dfl_loss  Instances       Size\n"
     ]
    },
    {
     "name": "stderr",
     "output_type": "stream",
     "text": [
      "    134/300      2.76G      1.837      0.815      1.971         34        640: 100%|██████████| 204/204 [00:50<00:00,  \n",
      "                 Class     Images  Instances      Box(P          R      mAP50  mAP50-95): 100%|██████████| 34/34 [00:07"
     ]
    },
    {
     "name": "stdout",
     "output_type": "stream",
     "text": [
      "                   all        679       3388      0.955      0.906      0.967      0.639\n"
     ]
    },
    {
     "name": "stderr",
     "output_type": "stream",
     "text": [
      "\n"
     ]
    },
    {
     "name": "stdout",
     "output_type": "stream",
     "text": [
      "\n",
      "      Epoch    GPU_mem   box_loss   cls_loss   dfl_loss  Instances       Size\n"
     ]
    },
    {
     "name": "stderr",
     "output_type": "stream",
     "text": [
      "    135/300      2.77G      1.834     0.8135      1.967         34        640: 100%|██████████| 204/204 [00:50<00:00,  \n",
      "                 Class     Images  Instances      Box(P          R      mAP50  mAP50-95): 100%|██████████| 34/34 [00:07"
     ]
    },
    {
     "name": "stdout",
     "output_type": "stream",
     "text": [
      "                   all        679       3388      0.953       0.91      0.965      0.636\n"
     ]
    },
    {
     "name": "stderr",
     "output_type": "stream",
     "text": [
      "\n"
     ]
    },
    {
     "name": "stdout",
     "output_type": "stream",
     "text": [
      "\n",
      "      Epoch    GPU_mem   box_loss   cls_loss   dfl_loss  Instances       Size\n"
     ]
    },
    {
     "name": "stderr",
     "output_type": "stream",
     "text": [
      "    136/300      2.75G      1.822     0.8201      1.983         49        640: 100%|██████████| 204/204 [00:50<00:00,  \n",
      "                 Class     Images  Instances      Box(P          R      mAP50  mAP50-95): 100%|██████████| 34/34 [00:07"
     ]
    },
    {
     "name": "stdout",
     "output_type": "stream",
     "text": [
      "                   all        679       3388      0.952      0.911      0.966      0.638\n"
     ]
    },
    {
     "name": "stderr",
     "output_type": "stream",
     "text": [
      "\n"
     ]
    },
    {
     "name": "stdout",
     "output_type": "stream",
     "text": [
      "\n",
      "      Epoch    GPU_mem   box_loss   cls_loss   dfl_loss  Instances       Size\n"
     ]
    },
    {
     "name": "stderr",
     "output_type": "stream",
     "text": [
      "    137/300      2.86G       1.83     0.8188      1.969         54        640: 100%|██████████| 204/204 [00:50<00:00,  \n",
      "                 Class     Images  Instances      Box(P          R      mAP50  mAP50-95): 100%|██████████| 34/34 [00:07"
     ]
    },
    {
     "name": "stdout",
     "output_type": "stream",
     "text": [
      "                   all        679       3388      0.963      0.899      0.965      0.636\n"
     ]
    },
    {
     "name": "stderr",
     "output_type": "stream",
     "text": [
      "\n"
     ]
    },
    {
     "name": "stdout",
     "output_type": "stream",
     "text": [
      "\n",
      "      Epoch    GPU_mem   box_loss   cls_loss   dfl_loss  Instances       Size\n"
     ]
    },
    {
     "name": "stderr",
     "output_type": "stream",
     "text": [
      "    138/300       2.8G      1.826     0.8095      1.979         35        640: 100%|██████████| 204/204 [00:50<00:00,  \n",
      "                 Class     Images  Instances      Box(P          R      mAP50  mAP50-95): 100%|██████████| 34/34 [00:07"
     ]
    },
    {
     "name": "stdout",
     "output_type": "stream",
     "text": [
      "                   all        679       3388       0.95      0.913      0.966      0.634\n"
     ]
    },
    {
     "name": "stderr",
     "output_type": "stream",
     "text": [
      "\n"
     ]
    },
    {
     "name": "stdout",
     "output_type": "stream",
     "text": [
      "\n",
      "      Epoch    GPU_mem   box_loss   cls_loss   dfl_loss  Instances       Size\n"
     ]
    },
    {
     "name": "stderr",
     "output_type": "stream",
     "text": [
      "    139/300      2.73G      1.811     0.7888      1.967         77        640: 100%|██████████| 204/204 [00:50<00:00,  \n",
      "                 Class     Images  Instances      Box(P          R      mAP50  mAP50-95): 100%|██████████| 34/34 [00:07"
     ]
    },
    {
     "name": "stdout",
     "output_type": "stream",
     "text": [
      "                   all        679       3388      0.952      0.913      0.967      0.636\n"
     ]
    },
    {
     "name": "stderr",
     "output_type": "stream",
     "text": [
      "\n"
     ]
    },
    {
     "name": "stdout",
     "output_type": "stream",
     "text": [
      "\n",
      "      Epoch    GPU_mem   box_loss   cls_loss   dfl_loss  Instances       Size\n"
     ]
    },
    {
     "name": "stderr",
     "output_type": "stream",
     "text": [
      "    140/300      2.87G      1.823     0.8148      1.984         23        640: 100%|██████████| 204/204 [00:50<00:00,  \n",
      "                 Class     Images  Instances      Box(P          R      mAP50  mAP50-95): 100%|██████████| 34/34 [00:07"
     ]
    },
    {
     "name": "stdout",
     "output_type": "stream",
     "text": [
      "                   all        679       3388      0.949      0.911      0.966       0.64\n"
     ]
    },
    {
     "name": "stderr",
     "output_type": "stream",
     "text": [
      "\n"
     ]
    },
    {
     "name": "stdout",
     "output_type": "stream",
     "text": [
      "\n",
      "      Epoch    GPU_mem   box_loss   cls_loss   dfl_loss  Instances       Size\n"
     ]
    },
    {
     "name": "stderr",
     "output_type": "stream",
     "text": [
      "    141/300      2.78G       1.81     0.7965      1.972         52        640: 100%|██████████| 204/204 [00:50<00:00,  \n",
      "                 Class     Images  Instances      Box(P          R      mAP50  mAP50-95): 100%|██████████| 34/34 [00:07"
     ]
    },
    {
     "name": "stdout",
     "output_type": "stream",
     "text": [
      "                   all        679       3388      0.933      0.925      0.965      0.639\n"
     ]
    },
    {
     "name": "stderr",
     "output_type": "stream",
     "text": [
      "\n"
     ]
    },
    {
     "name": "stdout",
     "output_type": "stream",
     "text": [
      "\n",
      "      Epoch    GPU_mem   box_loss   cls_loss   dfl_loss  Instances       Size\n"
     ]
    },
    {
     "name": "stderr",
     "output_type": "stream",
     "text": [
      "    142/300      2.73G      1.797     0.7998       1.97         45        640: 100%|██████████| 204/204 [00:50<00:00,  \n",
      "                 Class     Images  Instances      Box(P          R      mAP50  mAP50-95): 100%|██████████| 34/34 [00:07"
     ]
    },
    {
     "name": "stdout",
     "output_type": "stream",
     "text": [
      "                   all        679       3388      0.942      0.919      0.966      0.643\n"
     ]
    },
    {
     "name": "stderr",
     "output_type": "stream",
     "text": [
      "\n"
     ]
    },
    {
     "name": "stdout",
     "output_type": "stream",
     "text": [
      "\n",
      "      Epoch    GPU_mem   box_loss   cls_loss   dfl_loss  Instances       Size\n"
     ]
    },
    {
     "name": "stderr",
     "output_type": "stream",
     "text": [
      "    143/300       2.9G      1.789     0.7878      1.963         57        640: 100%|██████████| 204/204 [00:50<00:00,  \n",
      "                 Class     Images  Instances      Box(P          R      mAP50  mAP50-95): 100%|██████████| 34/34 [00:07"
     ]
    },
    {
     "name": "stdout",
     "output_type": "stream",
     "text": [
      "                   all        679       3388      0.953      0.905      0.966      0.642\n"
     ]
    },
    {
     "name": "stderr",
     "output_type": "stream",
     "text": [
      "\n"
     ]
    },
    {
     "name": "stdout",
     "output_type": "stream",
     "text": [
      "\n",
      "      Epoch    GPU_mem   box_loss   cls_loss   dfl_loss  Instances       Size\n"
     ]
    },
    {
     "name": "stderr",
     "output_type": "stream",
     "text": [
      "    144/300      2.86G      1.806     0.7967      1.967         33        640: 100%|██████████| 204/204 [00:50<00:00,  \n",
      "                 Class     Images  Instances      Box(P          R      mAP50  mAP50-95): 100%|██████████| 34/34 [00:07"
     ]
    },
    {
     "name": "stdout",
     "output_type": "stream",
     "text": [
      "                   all        679       3388      0.951      0.911      0.965      0.639\n"
     ]
    },
    {
     "name": "stderr",
     "output_type": "stream",
     "text": [
      "\n"
     ]
    },
    {
     "name": "stdout",
     "output_type": "stream",
     "text": [
      "\n",
      "      Epoch    GPU_mem   box_loss   cls_loss   dfl_loss  Instances       Size\n"
     ]
    },
    {
     "name": "stderr",
     "output_type": "stream",
     "text": [
      "    145/300      2.85G      1.808     0.8095      1.968         36        640: 100%|██████████| 204/204 [00:50<00:00,  \n",
      "                 Class     Images  Instances      Box(P          R      mAP50  mAP50-95): 100%|██████████| 34/34 [00:07"
     ]
    },
    {
     "name": "stdout",
     "output_type": "stream",
     "text": [
      "                   all        679       3388      0.951      0.905      0.963      0.637\n"
     ]
    },
    {
     "name": "stderr",
     "output_type": "stream",
     "text": [
      "\n"
     ]
    },
    {
     "name": "stdout",
     "output_type": "stream",
     "text": [
      "\n",
      "      Epoch    GPU_mem   box_loss   cls_loss   dfl_loss  Instances       Size\n"
     ]
    },
    {
     "name": "stderr",
     "output_type": "stream",
     "text": [
      "    146/300       2.9G      1.805     0.8053       1.95         51        640: 100%|██████████| 204/204 [00:50<00:00,  \n",
      "                 Class     Images  Instances      Box(P          R      mAP50  mAP50-95): 100%|██████████| 34/34 [00:07"
     ]
    },
    {
     "name": "stdout",
     "output_type": "stream",
     "text": [
      "                   all        679       3388      0.941      0.912      0.964      0.638\n"
     ]
    },
    {
     "name": "stderr",
     "output_type": "stream",
     "text": [
      "\n"
     ]
    },
    {
     "name": "stdout",
     "output_type": "stream",
     "text": [
      "\n",
      "      Epoch    GPU_mem   box_loss   cls_loss   dfl_loss  Instances       Size\n"
     ]
    },
    {
     "name": "stderr",
     "output_type": "stream",
     "text": [
      "    147/300       2.8G      1.777     0.7831      1.946         67        640: 100%|██████████| 204/204 [00:50<00:00,  \n",
      "                 Class     Images  Instances      Box(P          R      mAP50  mAP50-95): 100%|██████████| 34/34 [00:07"
     ]
    },
    {
     "name": "stdout",
     "output_type": "stream",
     "text": [
      "                   all        679       3388      0.945      0.916      0.966      0.641\n"
     ]
    },
    {
     "name": "stderr",
     "output_type": "stream",
     "text": [
      "\n"
     ]
    },
    {
     "name": "stdout",
     "output_type": "stream",
     "text": [
      "\n",
      "      Epoch    GPU_mem   box_loss   cls_loss   dfl_loss  Instances       Size\n"
     ]
    },
    {
     "name": "stderr",
     "output_type": "stream",
     "text": [
      "    148/300      2.73G      1.787      0.792      1.957         55        640: 100%|██████████| 204/204 [00:50<00:00,  \n",
      "                 Class     Images  Instances      Box(P          R      mAP50  mAP50-95): 100%|██████████| 34/34 [00:07"
     ]
    },
    {
     "name": "stdout",
     "output_type": "stream",
     "text": [
      "                   all        679       3388      0.952      0.904      0.966      0.643\n"
     ]
    },
    {
     "name": "stderr",
     "output_type": "stream",
     "text": [
      "\n"
     ]
    },
    {
     "name": "stdout",
     "output_type": "stream",
     "text": [
      "\n",
      "      Epoch    GPU_mem   box_loss   cls_loss   dfl_loss  Instances       Size\n"
     ]
    },
    {
     "name": "stderr",
     "output_type": "stream",
     "text": [
      "    149/300      2.79G      1.767     0.7837      1.937         39        640: 100%|██████████| 204/204 [00:50<00:00,  \n",
      "                 Class     Images  Instances      Box(P          R      mAP50  mAP50-95): 100%|██████████| 34/34 [00:07"
     ]
    },
    {
     "name": "stdout",
     "output_type": "stream",
     "text": [
      "                   all        679       3388      0.953      0.905      0.966      0.641\n"
     ]
    },
    {
     "name": "stderr",
     "output_type": "stream",
     "text": [
      "\n"
     ]
    },
    {
     "name": "stdout",
     "output_type": "stream",
     "text": [
      "\n",
      "      Epoch    GPU_mem   box_loss   cls_loss   dfl_loss  Instances       Size\n"
     ]
    },
    {
     "name": "stderr",
     "output_type": "stream",
     "text": [
      "    150/300      2.81G      1.785     0.7948      1.956         62        640: 100%|██████████| 204/204 [00:50<00:00,  \n",
      "                 Class     Images  Instances      Box(P          R      mAP50  mAP50-95): 100%|██████████| 34/34 [00:07"
     ]
    },
    {
     "name": "stdout",
     "output_type": "stream",
     "text": [
      "                   all        679       3388      0.955      0.909      0.966      0.642\n"
     ]
    },
    {
     "name": "stderr",
     "output_type": "stream",
     "text": [
      "\n"
     ]
    },
    {
     "name": "stdout",
     "output_type": "stream",
     "text": [
      "\n",
      "      Epoch    GPU_mem   box_loss   cls_loss   dfl_loss  Instances       Size\n"
     ]
    },
    {
     "name": "stderr",
     "output_type": "stream",
     "text": [
      "    151/300      2.87G      1.782     0.7985      1.955         31        640: 100%|██████████| 204/204 [00:50<00:00,  \n",
      "                 Class     Images  Instances      Box(P          R      mAP50  mAP50-95): 100%|██████████| 34/34 [00:07"
     ]
    },
    {
     "name": "stdout",
     "output_type": "stream",
     "text": [
      "                   all        679       3388      0.947      0.917      0.966       0.64\n"
     ]
    },
    {
     "name": "stderr",
     "output_type": "stream",
     "text": [
      "\n"
     ]
    },
    {
     "name": "stdout",
     "output_type": "stream",
     "text": [
      "\n",
      "      Epoch    GPU_mem   box_loss   cls_loss   dfl_loss  Instances       Size\n"
     ]
    },
    {
     "name": "stderr",
     "output_type": "stream",
     "text": [
      "    152/300      2.77G      1.767     0.7866      1.958         61        640: 100%|██████████| 204/204 [00:50<00:00,  \n",
      "                 Class     Images  Instances      Box(P          R      mAP50  mAP50-95): 100%|██████████| 34/34 [00:07"
     ]
    },
    {
     "name": "stdout",
     "output_type": "stream",
     "text": [
      "                   all        679       3388      0.938      0.917      0.966       0.64\n"
     ]
    },
    {
     "name": "stderr",
     "output_type": "stream",
     "text": [
      "\n"
     ]
    },
    {
     "name": "stdout",
     "output_type": "stream",
     "text": [
      "\n",
      "      Epoch    GPU_mem   box_loss   cls_loss   dfl_loss  Instances       Size\n"
     ]
    },
    {
     "name": "stderr",
     "output_type": "stream",
     "text": [
      "    153/300      2.78G      1.766     0.7869      1.952         66        640: 100%|██████████| 204/204 [00:50<00:00,  \n",
      "                 Class     Images  Instances      Box(P          R      mAP50  mAP50-95): 100%|██████████| 34/34 [00:07"
     ]
    },
    {
     "name": "stdout",
     "output_type": "stream",
     "text": [
      "                   all        679       3388       0.95      0.906      0.965      0.638\n"
     ]
    },
    {
     "name": "stderr",
     "output_type": "stream",
     "text": [
      "\n"
     ]
    },
    {
     "name": "stdout",
     "output_type": "stream",
     "text": [
      "\n",
      "      Epoch    GPU_mem   box_loss   cls_loss   dfl_loss  Instances       Size\n"
     ]
    },
    {
     "name": "stderr",
     "output_type": "stream",
     "text": [
      "    154/300      2.76G      1.785      0.806       1.96         54        640: 100%|██████████| 204/204 [00:50<00:00,  \n",
      "                 Class     Images  Instances      Box(P          R      mAP50  mAP50-95): 100%|██████████| 34/34 [00:07"
     ]
    },
    {
     "name": "stdout",
     "output_type": "stream",
     "text": [
      "                   all        679       3388       0.95      0.909      0.965      0.638\n"
     ]
    },
    {
     "name": "stderr",
     "output_type": "stream",
     "text": [
      "\n"
     ]
    },
    {
     "name": "stdout",
     "output_type": "stream",
     "text": [
      "\n",
      "      Epoch    GPU_mem   box_loss   cls_loss   dfl_loss  Instances       Size\n"
     ]
    },
    {
     "name": "stderr",
     "output_type": "stream",
     "text": [
      "    155/300      2.77G      1.776      0.795      1.958         46        640: 100%|██████████| 204/204 [00:50<00:00,  \n",
      "                 Class     Images  Instances      Box(P          R      mAP50  mAP50-95): 100%|██████████| 34/34 [00:07"
     ]
    },
    {
     "name": "stdout",
     "output_type": "stream",
     "text": [
      "                   all        679       3388      0.948       0.91      0.965      0.639\n"
     ]
    },
    {
     "name": "stderr",
     "output_type": "stream",
     "text": [
      "\n"
     ]
    },
    {
     "name": "stdout",
     "output_type": "stream",
     "text": [
      "\n",
      "      Epoch    GPU_mem   box_loss   cls_loss   dfl_loss  Instances       Size\n"
     ]
    },
    {
     "name": "stderr",
     "output_type": "stream",
     "text": [
      "    156/300      2.74G      1.764      0.781      1.939         29        640: 100%|██████████| 204/204 [00:50<00:00,  \n",
      "                 Class     Images  Instances      Box(P          R      mAP50  mAP50-95): 100%|██████████| 34/34 [00:07"
     ]
    },
    {
     "name": "stdout",
     "output_type": "stream",
     "text": [
      "                   all        679       3388      0.953      0.906      0.965      0.639\n"
     ]
    },
    {
     "name": "stderr",
     "output_type": "stream",
     "text": [
      "\n"
     ]
    },
    {
     "name": "stdout",
     "output_type": "stream",
     "text": [
      "\n",
      "      Epoch    GPU_mem   box_loss   cls_loss   dfl_loss  Instances       Size\n"
     ]
    },
    {
     "name": "stderr",
     "output_type": "stream",
     "text": [
      "    157/300      2.75G       1.76     0.7854      1.947         56        640: 100%|██████████| 204/204 [00:50<00:00,  \n",
      "                 Class     Images  Instances      Box(P          R      mAP50  mAP50-95): 100%|██████████| 34/34 [00:07"
     ]
    },
    {
     "name": "stdout",
     "output_type": "stream",
     "text": [
      "                   all        679       3388      0.952      0.907      0.965       0.64\n"
     ]
    },
    {
     "name": "stderr",
     "output_type": "stream",
     "text": [
      "\n"
     ]
    },
    {
     "name": "stdout",
     "output_type": "stream",
     "text": [
      "\n",
      "      Epoch    GPU_mem   box_loss   cls_loss   dfl_loss  Instances       Size\n"
     ]
    },
    {
     "name": "stderr",
     "output_type": "stream",
     "text": [
      "    158/300      2.88G      1.775      0.786      1.954         43        640: 100%|██████████| 204/204 [00:50<00:00,  \n",
      "                 Class     Images  Instances      Box(P          R      mAP50  mAP50-95): 100%|██████████| 34/34 [00:07"
     ]
    },
    {
     "name": "stdout",
     "output_type": "stream",
     "text": [
      "                   all        679       3388      0.954      0.909      0.967      0.641\n"
     ]
    },
    {
     "name": "stderr",
     "output_type": "stream",
     "text": [
      "\n"
     ]
    },
    {
     "name": "stdout",
     "output_type": "stream",
     "text": [
      "\n",
      "      Epoch    GPU_mem   box_loss   cls_loss   dfl_loss  Instances       Size\n"
     ]
    },
    {
     "name": "stderr",
     "output_type": "stream",
     "text": [
      "    159/300      2.83G      1.755     0.7801      1.942         25        640: 100%|██████████| 204/204 [00:50<00:00,  \n",
      "                 Class     Images  Instances      Box(P          R      mAP50  mAP50-95): 100%|██████████| 34/34 [00:07"
     ]
    },
    {
     "name": "stdout",
     "output_type": "stream",
     "text": [
      "                   all        679       3388      0.959        0.9      0.966      0.641\n"
     ]
    },
    {
     "name": "stderr",
     "output_type": "stream",
     "text": [
      "\n"
     ]
    },
    {
     "name": "stdout",
     "output_type": "stream",
     "text": [
      "\n",
      "      Epoch    GPU_mem   box_loss   cls_loss   dfl_loss  Instances       Size\n"
     ]
    },
    {
     "name": "stderr",
     "output_type": "stream",
     "text": [
      "    160/300      2.78G      1.774     0.7818       1.96         38        640: 100%|██████████| 204/204 [00:50<00:00,  \n",
      "                 Class     Images  Instances      Box(P          R      mAP50  mAP50-95): 100%|██████████| 34/34 [00:07"
     ]
    },
    {
     "name": "stdout",
     "output_type": "stream",
     "text": [
      "                   all        679       3388      0.956      0.907      0.967      0.641\n"
     ]
    },
    {
     "name": "stderr",
     "output_type": "stream",
     "text": [
      "\n"
     ]
    },
    {
     "name": "stdout",
     "output_type": "stream",
     "text": [
      "\n",
      "      Epoch    GPU_mem   box_loss   cls_loss   dfl_loss  Instances       Size\n"
     ]
    },
    {
     "name": "stderr",
     "output_type": "stream",
     "text": [
      "    161/300      2.82G      1.762     0.7929      1.944         69        640: 100%|██████████| 204/204 [00:50<00:00,  \n",
      "                 Class     Images  Instances      Box(P          R      mAP50  mAP50-95): 100%|██████████| 34/34 [00:07"
     ]
    },
    {
     "name": "stdout",
     "output_type": "stream",
     "text": [
      "                   all        679       3388      0.954      0.908      0.965      0.641\n"
     ]
    },
    {
     "name": "stderr",
     "output_type": "stream",
     "text": [
      "\n"
     ]
    },
    {
     "name": "stdout",
     "output_type": "stream",
     "text": [
      "\n",
      "      Epoch    GPU_mem   box_loss   cls_loss   dfl_loss  Instances       Size\n"
     ]
    },
    {
     "name": "stderr",
     "output_type": "stream",
     "text": [
      "    162/300      2.79G      1.755     0.7734      1.948         60        640: 100%|██████████| 204/204 [00:50<00:00,  \n",
      "                 Class     Images  Instances      Box(P          R      mAP50  mAP50-95): 100%|██████████| 34/34 [00:07"
     ]
    },
    {
     "name": "stdout",
     "output_type": "stream",
     "text": [
      "                   all        679       3388      0.942      0.914      0.965      0.643\n"
     ]
    },
    {
     "name": "stderr",
     "output_type": "stream",
     "text": [
      "\n"
     ]
    },
    {
     "name": "stdout",
     "output_type": "stream",
     "text": [
      "\n",
      "      Epoch    GPU_mem   box_loss   cls_loss   dfl_loss  Instances       Size\n"
     ]
    },
    {
     "name": "stderr",
     "output_type": "stream",
     "text": [
      "    163/300      2.75G      1.762     0.7816      1.945         79        640: 100%|██████████| 204/204 [00:50<00:00,  \n",
      "                 Class     Images  Instances      Box(P          R      mAP50  mAP50-95): 100%|██████████| 34/34 [00:07"
     ]
    },
    {
     "name": "stdout",
     "output_type": "stream",
     "text": [
      "                   all        679       3388      0.951      0.914      0.966      0.642\n"
     ]
    },
    {
     "name": "stderr",
     "output_type": "stream",
     "text": [
      "\n"
     ]
    },
    {
     "name": "stdout",
     "output_type": "stream",
     "text": [
      "\n",
      "      Epoch    GPU_mem   box_loss   cls_loss   dfl_loss  Instances       Size\n"
     ]
    },
    {
     "name": "stderr",
     "output_type": "stream",
     "text": [
      "    164/300       2.9G      1.739     0.7758      1.955         62        640: 100%|██████████| 204/204 [00:50<00:00,  \n",
      "                 Class     Images  Instances      Box(P          R      mAP50  mAP50-95): 100%|██████████| 34/34 [00:07"
     ]
    },
    {
     "name": "stdout",
     "output_type": "stream",
     "text": [
      "                   all        679       3388      0.952       0.91      0.967      0.642\n"
     ]
    },
    {
     "name": "stderr",
     "output_type": "stream",
     "text": [
      "\n"
     ]
    },
    {
     "name": "stdout",
     "output_type": "stream",
     "text": [
      "\n",
      "      Epoch    GPU_mem   box_loss   cls_loss   dfl_loss  Instances       Size\n"
     ]
    },
    {
     "name": "stderr",
     "output_type": "stream",
     "text": [
      "    165/300      2.78G      1.737     0.7739      1.935         42        640: 100%|██████████| 204/204 [00:50<00:00,  \n",
      "                 Class     Images  Instances      Box(P          R      mAP50  mAP50-95): 100%|██████████| 34/34 [00:07"
     ]
    },
    {
     "name": "stdout",
     "output_type": "stream",
     "text": [
      "                   all        679       3388      0.953      0.907      0.968       0.64\n"
     ]
    },
    {
     "name": "stderr",
     "output_type": "stream",
     "text": [
      "\n"
     ]
    },
    {
     "name": "stdout",
     "output_type": "stream",
     "text": [
      "\n",
      "      Epoch    GPU_mem   box_loss   cls_loss   dfl_loss  Instances       Size\n"
     ]
    },
    {
     "name": "stderr",
     "output_type": "stream",
     "text": [
      "    166/300      2.72G       1.73     0.7654      1.929         89        640: 100%|██████████| 204/204 [00:50<00:00,  \n",
      "                 Class     Images  Instances      Box(P          R      mAP50  mAP50-95): 100%|██████████| 34/34 [00:07"
     ]
    },
    {
     "name": "stdout",
     "output_type": "stream",
     "text": [
      "                   all        679       3388      0.952      0.915      0.966      0.643\n"
     ]
    },
    {
     "name": "stderr",
     "output_type": "stream",
     "text": [
      "\n"
     ]
    },
    {
     "name": "stdout",
     "output_type": "stream",
     "text": [
      "\n",
      "      Epoch    GPU_mem   box_loss   cls_loss   dfl_loss  Instances       Size\n"
     ]
    },
    {
     "name": "stderr",
     "output_type": "stream",
     "text": [
      "    167/300       2.8G       1.72     0.7534      1.939         29        640: 100%|██████████| 204/204 [00:50<00:00,  \n",
      "                 Class     Images  Instances      Box(P          R      mAP50  mAP50-95): 100%|██████████| 34/34 [00:07"
     ]
    },
    {
     "name": "stdout",
     "output_type": "stream",
     "text": [
      "                   all        679       3388       0.95      0.909      0.965      0.641\n"
     ]
    },
    {
     "name": "stderr",
     "output_type": "stream",
     "text": [
      "\n"
     ]
    },
    {
     "name": "stdout",
     "output_type": "stream",
     "text": [
      "\n",
      "      Epoch    GPU_mem   box_loss   cls_loss   dfl_loss  Instances       Size\n"
     ]
    },
    {
     "name": "stderr",
     "output_type": "stream",
     "text": [
      "    168/300      2.74G      1.713     0.7571       1.94         27        640: 100%|██████████| 204/204 [00:50<00:00,  \n",
      "                 Class     Images  Instances      Box(P          R      mAP50  mAP50-95): 100%|██████████| 34/34 [00:07"
     ]
    },
    {
     "name": "stdout",
     "output_type": "stream",
     "text": [
      "                   all        679       3388      0.952      0.914      0.966      0.642\n"
     ]
    },
    {
     "name": "stderr",
     "output_type": "stream",
     "text": [
      "\n"
     ]
    },
    {
     "name": "stdout",
     "output_type": "stream",
     "text": [
      "\n",
      "      Epoch    GPU_mem   box_loss   cls_loss   dfl_loss  Instances       Size\n"
     ]
    },
    {
     "name": "stderr",
     "output_type": "stream",
     "text": [
      "    169/300      2.73G      1.708     0.7514      1.931         61        640: 100%|██████████| 204/204 [00:50<00:00,  \n",
      "                 Class     Images  Instances      Box(P          R      mAP50  mAP50-95): 100%|██████████| 34/34 [00:07"
     ]
    },
    {
     "name": "stdout",
     "output_type": "stream",
     "text": [
      "                   all        679       3388      0.951      0.915      0.966       0.64\n"
     ]
    },
    {
     "name": "stderr",
     "output_type": "stream",
     "text": [
      "\n"
     ]
    },
    {
     "name": "stdout",
     "output_type": "stream",
     "text": [
      "\n",
      "      Epoch    GPU_mem   box_loss   cls_loss   dfl_loss  Instances       Size\n"
     ]
    },
    {
     "name": "stderr",
     "output_type": "stream",
     "text": [
      "    170/300      2.82G       1.72     0.7582      1.922         53        640: 100%|██████████| 204/204 [00:50<00:00,  \n",
      "                 Class     Images  Instances      Box(P          R      mAP50  mAP50-95): 100%|██████████| 34/34 [00:07"
     ]
    },
    {
     "name": "stdout",
     "output_type": "stream",
     "text": [
      "                   all        679       3388      0.957      0.913      0.966      0.641\n"
     ]
    },
    {
     "name": "stderr",
     "output_type": "stream",
     "text": [
      "\n"
     ]
    },
    {
     "name": "stdout",
     "output_type": "stream",
     "text": [
      "\n",
      "      Epoch    GPU_mem   box_loss   cls_loss   dfl_loss  Instances       Size\n"
     ]
    },
    {
     "name": "stderr",
     "output_type": "stream",
     "text": [
      "    171/300      2.75G      1.699      0.763      1.935         29        640: 100%|██████████| 204/204 [00:50<00:00,  \n",
      "                 Class     Images  Instances      Box(P          R      mAP50  mAP50-95): 100%|██████████| 34/34 [00:07"
     ]
    },
    {
     "name": "stdout",
     "output_type": "stream",
     "text": [
      "                   all        679       3388      0.947      0.918      0.964       0.64\n"
     ]
    },
    {
     "name": "stderr",
     "output_type": "stream",
     "text": [
      "\n"
     ]
    },
    {
     "name": "stdout",
     "output_type": "stream",
     "text": [
      "\n",
      "      Epoch    GPU_mem   box_loss   cls_loss   dfl_loss  Instances       Size\n"
     ]
    },
    {
     "name": "stderr",
     "output_type": "stream",
     "text": [
      "    172/300      2.77G      1.706      0.758      1.929         30        640: 100%|██████████| 204/204 [00:50<00:00,  \n",
      "                 Class     Images  Instances      Box(P          R      mAP50  mAP50-95): 100%|██████████| 34/34 [00:07"
     ]
    },
    {
     "name": "stdout",
     "output_type": "stream",
     "text": [
      "                   all        679       3388      0.954      0.913      0.964       0.64\n"
     ]
    },
    {
     "name": "stderr",
     "output_type": "stream",
     "text": [
      "\n"
     ]
    },
    {
     "name": "stdout",
     "output_type": "stream",
     "text": [
      "\n",
      "      Epoch    GPU_mem   box_loss   cls_loss   dfl_loss  Instances       Size\n"
     ]
    },
    {
     "name": "stderr",
     "output_type": "stream",
     "text": [
      "    173/300      2.87G      1.705      0.741      1.911         91        640: 100%|██████████| 204/204 [00:50<00:00,  \n",
      "                 Class     Images  Instances      Box(P          R      mAP50  mAP50-95): 100%|██████████| 34/34 [00:07"
     ]
    },
    {
     "name": "stdout",
     "output_type": "stream",
     "text": [
      "                   all        679       3388      0.944      0.919      0.965      0.639\n"
     ]
    },
    {
     "name": "stderr",
     "output_type": "stream",
     "text": [
      "\n"
     ]
    },
    {
     "name": "stdout",
     "output_type": "stream",
     "text": [
      "\n",
      "      Epoch    GPU_mem   box_loss   cls_loss   dfl_loss  Instances       Size\n"
     ]
    },
    {
     "name": "stderr",
     "output_type": "stream",
     "text": [
      "    174/300      2.86G      1.731     0.7565      1.933         63        640: 100%|██████████| 204/204 [00:50<00:00,  \n",
      "                 Class     Images  Instances      Box(P          R      mAP50  mAP50-95): 100%|██████████| 34/34 [00:07"
     ]
    },
    {
     "name": "stdout",
     "output_type": "stream",
     "text": [
      "                   all        679       3388      0.954       0.91      0.965      0.639\n"
     ]
    },
    {
     "name": "stderr",
     "output_type": "stream",
     "text": [
      "\n"
     ]
    },
    {
     "name": "stdout",
     "output_type": "stream",
     "text": [
      "\n",
      "      Epoch    GPU_mem   box_loss   cls_loss   dfl_loss  Instances       Size\n"
     ]
    },
    {
     "name": "stderr",
     "output_type": "stream",
     "text": [
      "    175/300      2.82G       1.69      0.742      1.924         59        640: 100%|██████████| 204/204 [00:50<00:00,  \n",
      "                 Class     Images  Instances      Box(P          R      mAP50  mAP50-95): 100%|██████████| 34/34 [00:07"
     ]
    },
    {
     "name": "stdout",
     "output_type": "stream",
     "text": [
      "                   all        679       3388      0.954      0.912      0.966       0.64\n"
     ]
    },
    {
     "name": "stderr",
     "output_type": "stream",
     "text": [
      "\n"
     ]
    },
    {
     "name": "stdout",
     "output_type": "stream",
     "text": [
      "\n",
      "      Epoch    GPU_mem   box_loss   cls_loss   dfl_loss  Instances       Size\n"
     ]
    },
    {
     "name": "stderr",
     "output_type": "stream",
     "text": [
      "    176/300      2.85G      1.708     0.7601      1.925         50        640: 100%|██████████| 204/204 [00:50<00:00,  \n",
      "                 Class     Images  Instances      Box(P          R      mAP50  mAP50-95): 100%|██████████| 34/34 [00:07"
     ]
    },
    {
     "name": "stdout",
     "output_type": "stream",
     "text": [
      "                   all        679       3388      0.963      0.904      0.966      0.641\n"
     ]
    },
    {
     "name": "stderr",
     "output_type": "stream",
     "text": [
      "\n"
     ]
    },
    {
     "name": "stdout",
     "output_type": "stream",
     "text": [
      "\n",
      "      Epoch    GPU_mem   box_loss   cls_loss   dfl_loss  Instances       Size\n"
     ]
    },
    {
     "name": "stderr",
     "output_type": "stream",
     "text": [
      "    177/300      2.81G      1.687     0.7473      1.906         61        640: 100%|██████████| 204/204 [00:50<00:00,  \n",
      "                 Class     Images  Instances      Box(P          R      mAP50  mAP50-95): 100%|██████████| 34/34 [00:07"
     ]
    },
    {
     "name": "stdout",
     "output_type": "stream",
     "text": [
      "                   all        679       3388      0.951      0.915      0.967      0.642\n"
     ]
    },
    {
     "name": "stderr",
     "output_type": "stream",
     "text": [
      "\n"
     ]
    },
    {
     "name": "stdout",
     "output_type": "stream",
     "text": [
      "\n",
      "      Epoch    GPU_mem   box_loss   cls_loss   dfl_loss  Instances       Size\n"
     ]
    },
    {
     "name": "stderr",
     "output_type": "stream",
     "text": [
      "    178/300      2.77G      1.674     0.7391      1.917         36        640: 100%|██████████| 204/204 [00:50<00:00,  \n",
      "                 Class     Images  Instances      Box(P          R      mAP50  mAP50-95): 100%|██████████| 34/34 [00:07"
     ]
    },
    {
     "name": "stdout",
     "output_type": "stream",
     "text": [
      "                   all        679       3388      0.959      0.907      0.967       0.64\n"
     ]
    },
    {
     "name": "stderr",
     "output_type": "stream",
     "text": [
      "\n"
     ]
    },
    {
     "name": "stdout",
     "output_type": "stream",
     "text": [
      "\n",
      "      Epoch    GPU_mem   box_loss   cls_loss   dfl_loss  Instances       Size\n"
     ]
    },
    {
     "name": "stderr",
     "output_type": "stream",
     "text": [
      "    179/300      2.72G      1.688     0.7451      1.908         73        640: 100%|██████████| 204/204 [00:50<00:00,  \n",
      "                 Class     Images  Instances      Box(P          R      mAP50  mAP50-95): 100%|██████████| 34/34 [00:07"
     ]
    },
    {
     "name": "stdout",
     "output_type": "stream",
     "text": [
      "                   all        679       3388      0.954      0.909      0.965      0.637\n"
     ]
    },
    {
     "name": "stderr",
     "output_type": "stream",
     "text": [
      "\n"
     ]
    },
    {
     "name": "stdout",
     "output_type": "stream",
     "text": [
      "\n",
      "      Epoch    GPU_mem   box_loss   cls_loss   dfl_loss  Instances       Size\n"
     ]
    },
    {
     "name": "stderr",
     "output_type": "stream",
     "text": [
      "    180/300      2.77G      1.688     0.7359      1.913         37        640: 100%|██████████| 204/204 [00:50<00:00,  \n",
      "                 Class     Images  Instances      Box(P          R      mAP50  mAP50-95): 100%|██████████| 34/34 [00:07"
     ]
    },
    {
     "name": "stdout",
     "output_type": "stream",
     "text": [
      "                   all        679       3388      0.964      0.908      0.967      0.639\n"
     ]
    },
    {
     "name": "stderr",
     "output_type": "stream",
     "text": [
      "\n"
     ]
    },
    {
     "name": "stdout",
     "output_type": "stream",
     "text": [
      "\n",
      "      Epoch    GPU_mem   box_loss   cls_loss   dfl_loss  Instances       Size\n"
     ]
    },
    {
     "name": "stderr",
     "output_type": "stream",
     "text": [
      "    181/300      2.87G      1.683     0.7396      1.916         62        640: 100%|██████████| 204/204 [00:50<00:00,  \n",
      "                 Class     Images  Instances      Box(P          R      mAP50  mAP50-95): 100%|██████████| 34/34 [00:07"
     ]
    },
    {
     "name": "stdout",
     "output_type": "stream",
     "text": [
      "                   all        679       3388      0.961      0.909      0.967      0.639\n"
     ]
    },
    {
     "name": "stderr",
     "output_type": "stream",
     "text": [
      "\n"
     ]
    },
    {
     "name": "stdout",
     "output_type": "stream",
     "text": [
      "\n",
      "      Epoch    GPU_mem   box_loss   cls_loss   dfl_loss  Instances       Size\n"
     ]
    },
    {
     "name": "stderr",
     "output_type": "stream",
     "text": [
      "    182/300      2.89G      1.691     0.7484      1.919         74        640: 100%|██████████| 204/204 [00:50<00:00,  \n",
      "                 Class     Images  Instances      Box(P          R      mAP50  mAP50-95): 100%|██████████| 34/34 [00:07"
     ]
    },
    {
     "name": "stdout",
     "output_type": "stream",
     "text": [
      "                   all        679       3388      0.948      0.918      0.967      0.641\n"
     ]
    },
    {
     "name": "stderr",
     "output_type": "stream",
     "text": [
      "\n"
     ]
    },
    {
     "name": "stdout",
     "output_type": "stream",
     "text": [
      "\n",
      "      Epoch    GPU_mem   box_loss   cls_loss   dfl_loss  Instances       Size\n"
     ]
    },
    {
     "name": "stderr",
     "output_type": "stream",
     "text": [
      "    183/300      2.79G      1.687      0.738      1.906         37        640: 100%|██████████| 204/204 [00:50<00:00,  \n",
      "                 Class     Images  Instances      Box(P          R      mAP50  mAP50-95): 100%|██████████| 34/34 [00:07"
     ]
    },
    {
     "name": "stdout",
     "output_type": "stream",
     "text": [
      "                   all        679       3388      0.946      0.915      0.966      0.639\n"
     ]
    },
    {
     "name": "stderr",
     "output_type": "stream",
     "text": [
      "\n"
     ]
    },
    {
     "name": "stdout",
     "output_type": "stream",
     "text": [
      "\n",
      "      Epoch    GPU_mem   box_loss   cls_loss   dfl_loss  Instances       Size\n"
     ]
    },
    {
     "name": "stderr",
     "output_type": "stream",
     "text": [
      "    184/300      2.72G      1.686     0.7365      1.916         47        640: 100%|██████████| 204/204 [00:50<00:00,  \n",
      "                 Class     Images  Instances      Box(P          R      mAP50  mAP50-95): 100%|██████████| 34/34 [00:07"
     ]
    },
    {
     "name": "stdout",
     "output_type": "stream",
     "text": [
      "                   all        679       3388      0.954      0.909      0.964      0.637\n"
     ]
    },
    {
     "name": "stderr",
     "output_type": "stream",
     "text": [
      "\n"
     ]
    },
    {
     "name": "stdout",
     "output_type": "stream",
     "text": [
      "\n",
      "      Epoch    GPU_mem   box_loss   cls_loss   dfl_loss  Instances       Size\n"
     ]
    },
    {
     "name": "stderr",
     "output_type": "stream",
     "text": [
      "    185/300      2.89G      1.689     0.7495      1.919         91        640: 100%|██████████| 204/204 [00:50<00:00,  \n",
      "                 Class     Images  Instances      Box(P          R      mAP50  mAP50-95): 100%|██████████| 34/34 [00:07"
     ]
    },
    {
     "name": "stdout",
     "output_type": "stream",
     "text": [
      "                   all        679       3388      0.952      0.917      0.967      0.638\n"
     ]
    },
    {
     "name": "stderr",
     "output_type": "stream",
     "text": [
      "\n"
     ]
    },
    {
     "name": "stdout",
     "output_type": "stream",
     "text": [
      "\n",
      "      Epoch    GPU_mem   box_loss   cls_loss   dfl_loss  Instances       Size\n"
     ]
    },
    {
     "name": "stderr",
     "output_type": "stream",
     "text": [
      "    186/300      2.76G      1.694     0.7542      1.937         47        640: 100%|██████████| 204/204 [00:50<00:00,  \n",
      "                 Class     Images  Instances      Box(P          R      mAP50  mAP50-95): 100%|██████████| 34/34 [00:07"
     ]
    },
    {
     "name": "stdout",
     "output_type": "stream",
     "text": [
      "                   all        679       3388      0.955      0.911      0.966      0.641\n"
     ]
    },
    {
     "name": "stderr",
     "output_type": "stream",
     "text": [
      "\n"
     ]
    },
    {
     "name": "stdout",
     "output_type": "stream",
     "text": [
      "\n",
      "      Epoch    GPU_mem   box_loss   cls_loss   dfl_loss  Instances       Size\n"
     ]
    },
    {
     "name": "stderr",
     "output_type": "stream",
     "text": [
      "    187/300      2.86G      1.662     0.7357      1.907         22        640: 100%|██████████| 204/204 [00:50<00:00,  \n",
      "                 Class     Images  Instances      Box(P          R      mAP50  mAP50-95): 100%|██████████| 34/34 [00:07"
     ]
    },
    {
     "name": "stdout",
     "output_type": "stream",
     "text": [
      "                   all        679       3388      0.941      0.922      0.966      0.641\n"
     ]
    },
    {
     "name": "stderr",
     "output_type": "stream",
     "text": [
      "\n"
     ]
    },
    {
     "name": "stdout",
     "output_type": "stream",
     "text": [
      "\n",
      "      Epoch    GPU_mem   box_loss   cls_loss   dfl_loss  Instances       Size\n"
     ]
    },
    {
     "name": "stderr",
     "output_type": "stream",
     "text": [
      "    188/300      2.86G      1.666     0.7336      1.918         55        640: 100%|██████████| 204/204 [00:50<00:00,  \n",
      "                 Class     Images  Instances      Box(P          R      mAP50  mAP50-95): 100%|██████████| 34/34 [00:07"
     ]
    },
    {
     "name": "stdout",
     "output_type": "stream",
     "text": [
      "                   all        679       3388       0.96      0.906      0.967       0.64\n"
     ]
    },
    {
     "name": "stderr",
     "output_type": "stream",
     "text": [
      "\n"
     ]
    },
    {
     "name": "stdout",
     "output_type": "stream",
     "text": [
      "\n",
      "      Epoch    GPU_mem   box_loss   cls_loss   dfl_loss  Instances       Size\n"
     ]
    },
    {
     "name": "stderr",
     "output_type": "stream",
     "text": [
      "    189/300      2.88G      1.666     0.7369      1.912         75        640: 100%|██████████| 204/204 [00:50<00:00,  \n",
      "                 Class     Images  Instances      Box(P          R      mAP50  mAP50-95): 100%|██████████| 34/34 [00:07"
     ]
    },
    {
     "name": "stdout",
     "output_type": "stream",
     "text": [
      "                   all        679       3388      0.945      0.919      0.966      0.638\n"
     ]
    },
    {
     "name": "stderr",
     "output_type": "stream",
     "text": [
      "\n"
     ]
    },
    {
     "name": "stdout",
     "output_type": "stream",
     "text": [
      "\n",
      "      Epoch    GPU_mem   box_loss   cls_loss   dfl_loss  Instances       Size\n"
     ]
    },
    {
     "name": "stderr",
     "output_type": "stream",
     "text": [
      "    190/300      2.81G      1.661     0.7303      1.903         31        640: 100%|██████████| 204/204 [00:50<00:00,  \n",
      "                 Class     Images  Instances      Box(P          R      mAP50  mAP50-95): 100%|██████████| 34/34 [00:07"
     ]
    },
    {
     "name": "stdout",
     "output_type": "stream",
     "text": [
      "                   all        679       3388      0.941      0.917      0.964      0.638\n"
     ]
    },
    {
     "name": "stderr",
     "output_type": "stream",
     "text": [
      "\n"
     ]
    },
    {
     "name": "stdout",
     "output_type": "stream",
     "text": [
      "\n",
      "      Epoch    GPU_mem   box_loss   cls_loss   dfl_loss  Instances       Size\n"
     ]
    },
    {
     "name": "stderr",
     "output_type": "stream",
     "text": [
      "    191/300      2.86G      1.674     0.7475      1.912         53        640: 100%|██████████| 204/204 [00:50<00:00,  \n",
      "                 Class     Images  Instances      Box(P          R      mAP50  mAP50-95): 100%|██████████| 34/34 [00:07"
     ]
    },
    {
     "name": "stdout",
     "output_type": "stream",
     "text": [
      "                   all        679       3388       0.95       0.91      0.964      0.638\n"
     ]
    },
    {
     "name": "stderr",
     "output_type": "stream",
     "text": [
      "\n"
     ]
    },
    {
     "name": "stdout",
     "output_type": "stream",
     "text": [
      "\n",
      "      Epoch    GPU_mem   box_loss   cls_loss   dfl_loss  Instances       Size\n"
     ]
    },
    {
     "name": "stderr",
     "output_type": "stream",
     "text": [
      "    192/300      2.77G       1.66     0.7469      1.924         45        640: 100%|██████████| 204/204 [00:50<00:00,  \n",
      "                 Class     Images  Instances      Box(P          R      mAP50  mAP50-95): 100%|██████████| 34/34 [00:07"
     ]
    },
    {
     "name": "stdout",
     "output_type": "stream",
     "text": [
      "                   all        679       3388      0.952      0.914      0.966       0.64\n"
     ]
    },
    {
     "name": "stderr",
     "output_type": "stream",
     "text": [
      "\n"
     ]
    },
    {
     "name": "stdout",
     "output_type": "stream",
     "text": [
      "\n",
      "      Epoch    GPU_mem   box_loss   cls_loss   dfl_loss  Instances       Size\n"
     ]
    },
    {
     "name": "stderr",
     "output_type": "stream",
     "text": [
      "    193/300      2.73G      1.657     0.7299      1.891         55        640: 100%|██████████| 204/204 [00:50<00:00,  \n",
      "                 Class     Images  Instances      Box(P          R      mAP50  mAP50-95): 100%|██████████| 34/34 [00:07"
     ]
    },
    {
     "name": "stdout",
     "output_type": "stream",
     "text": [
      "                   all        679       3388      0.949      0.913      0.965       0.64\n"
     ]
    },
    {
     "name": "stderr",
     "output_type": "stream",
     "text": [
      "\n"
     ]
    },
    {
     "name": "stdout",
     "output_type": "stream",
     "text": [
      "\n",
      "      Epoch    GPU_mem   box_loss   cls_loss   dfl_loss  Instances       Size\n"
     ]
    },
    {
     "name": "stderr",
     "output_type": "stream",
     "text": [
      "    194/300      2.74G       1.65     0.7292      1.894         47        640: 100%|██████████| 204/204 [00:50<00:00,  \n",
      "                 Class     Images  Instances      Box(P          R      mAP50  mAP50-95): 100%|██████████| 34/34 [00:07"
     ]
    },
    {
     "name": "stdout",
     "output_type": "stream",
     "text": [
      "                   all        679       3388      0.948      0.914      0.965       0.64\n"
     ]
    },
    {
     "name": "stderr",
     "output_type": "stream",
     "text": [
      "\n"
     ]
    },
    {
     "name": "stdout",
     "output_type": "stream",
     "text": [
      "\n",
      "      Epoch    GPU_mem   box_loss   cls_loss   dfl_loss  Instances       Size\n"
     ]
    },
    {
     "name": "stderr",
     "output_type": "stream",
     "text": [
      "    195/300      2.76G      1.633      0.719      1.901         39        640: 100%|██████████| 204/204 [00:50<00:00,  \n",
      "                 Class     Images  Instances      Box(P          R      mAP50  mAP50-95): 100%|██████████| 34/34 [00:07"
     ]
    },
    {
     "name": "stdout",
     "output_type": "stream",
     "text": [
      "                   all        679       3388      0.952      0.913      0.966      0.639\n"
     ]
    },
    {
     "name": "stderr",
     "output_type": "stream",
     "text": [
      "\n"
     ]
    },
    {
     "name": "stdout",
     "output_type": "stream",
     "text": [
      "\n",
      "      Epoch    GPU_mem   box_loss   cls_loss   dfl_loss  Instances       Size\n"
     ]
    },
    {
     "name": "stderr",
     "output_type": "stream",
     "text": [
      "    196/300      2.79G      1.649     0.7232      1.888         50        640: 100%|██████████| 204/204 [00:50<00:00,  \n",
      "                 Class     Images  Instances      Box(P          R      mAP50  mAP50-95): 100%|██████████| 34/34 [00:07"
     ]
    },
    {
     "name": "stdout",
     "output_type": "stream",
     "text": [
      "                   all        679       3388      0.948      0.916      0.967      0.639\n"
     ]
    },
    {
     "name": "stderr",
     "output_type": "stream",
     "text": [
      "\n"
     ]
    },
    {
     "name": "stdout",
     "output_type": "stream",
     "text": [
      "\n",
      "      Epoch    GPU_mem   box_loss   cls_loss   dfl_loss  Instances       Size\n"
     ]
    },
    {
     "name": "stderr",
     "output_type": "stream",
     "text": [
      "    197/300      2.92G       1.65     0.7293      1.899         48        640: 100%|██████████| 204/204 [00:50<00:00,  \n",
      "                 Class     Images  Instances      Box(P          R      mAP50  mAP50-95): 100%|██████████| 34/34 [00:07"
     ]
    },
    {
     "name": "stdout",
     "output_type": "stream",
     "text": [
      "                   all        679       3388      0.951      0.917      0.967       0.64\n"
     ]
    },
    {
     "name": "stderr",
     "output_type": "stream",
     "text": [
      "\n"
     ]
    },
    {
     "name": "stdout",
     "output_type": "stream",
     "text": [
      "\n",
      "      Epoch    GPU_mem   box_loss   cls_loss   dfl_loss  Instances       Size\n"
     ]
    },
    {
     "name": "stderr",
     "output_type": "stream",
     "text": [
      "    198/300       2.8G      1.629     0.7159      1.896         68        640: 100%|██████████| 204/204 [00:50<00:00,  \n",
      "                 Class     Images  Instances      Box(P          R      mAP50  mAP50-95): 100%|██████████| 34/34 [00:07"
     ]
    },
    {
     "name": "stdout",
     "output_type": "stream",
     "text": [
      "                   all        679       3388      0.949      0.917      0.967      0.641\n"
     ]
    },
    {
     "name": "stderr",
     "output_type": "stream",
     "text": [
      "\n"
     ]
    },
    {
     "name": "stdout",
     "output_type": "stream",
     "text": [
      "\n",
      "      Epoch    GPU_mem   box_loss   cls_loss   dfl_loss  Instances       Size\n"
     ]
    },
    {
     "name": "stderr",
     "output_type": "stream",
     "text": [
      "    199/300      2.78G      1.646     0.7268      1.898         61        640: 100%|██████████| 204/204 [00:50<00:00,  \n",
      "                 Class     Images  Instances      Box(P          R      mAP50  mAP50-95): 100%|██████████| 34/34 [00:07"
     ]
    },
    {
     "name": "stdout",
     "output_type": "stream",
     "text": [
      "                   all        679       3388      0.949      0.915      0.967      0.641\n"
     ]
    },
    {
     "name": "stderr",
     "output_type": "stream",
     "text": [
      "\n"
     ]
    },
    {
     "name": "stdout",
     "output_type": "stream",
     "text": [
      "\n",
      "      Epoch    GPU_mem   box_loss   cls_loss   dfl_loss  Instances       Size\n"
     ]
    },
    {
     "name": "stderr",
     "output_type": "stream",
     "text": [
      "    200/300      2.77G      1.642       0.73      1.905         89        640: 100%|██████████| 204/204 [00:53<00:00,  \n",
      "                 Class     Images  Instances      Box(P          R      mAP50  mAP50-95): 100%|██████████| 34/34 [00:08"
     ]
    },
    {
     "name": "stdout",
     "output_type": "stream",
     "text": [
      "                   all        679       3388      0.951      0.915      0.966      0.642\n"
     ]
    },
    {
     "name": "stderr",
     "output_type": "stream",
     "text": [
      "\n"
     ]
    },
    {
     "name": "stdout",
     "output_type": "stream",
     "text": [
      "\n",
      "      Epoch    GPU_mem   box_loss   cls_loss   dfl_loss  Instances       Size\n"
     ]
    },
    {
     "name": "stderr",
     "output_type": "stream",
     "text": [
      "    201/300      2.79G       1.64     0.7223      1.892         76        640: 100%|██████████| 204/204 [00:52<00:00,  \n",
      "                 Class     Images  Instances      Box(P          R      mAP50  mAP50-95): 100%|██████████| 34/34 [00:08"
     ]
    },
    {
     "name": "stdout",
     "output_type": "stream",
     "text": [
      "                   all        679       3388      0.954      0.912      0.967      0.641\n"
     ]
    },
    {
     "name": "stderr",
     "output_type": "stream",
     "text": [
      "\n"
     ]
    },
    {
     "name": "stdout",
     "output_type": "stream",
     "text": [
      "\n",
      "      Epoch    GPU_mem   box_loss   cls_loss   dfl_loss  Instances       Size\n"
     ]
    },
    {
     "name": "stderr",
     "output_type": "stream",
     "text": [
      "    202/300       2.8G      1.635     0.7178      1.885         52        640: 100%|██████████| 204/204 [00:51<00:00,  \n",
      "                 Class     Images  Instances      Box(P          R      mAP50  mAP50-95): 100%|██████████| 34/34 [00:08"
     ]
    },
    {
     "name": "stdout",
     "output_type": "stream",
     "text": [
      "                   all        679       3388      0.945      0.914      0.964       0.64\n"
     ]
    },
    {
     "name": "stderr",
     "output_type": "stream",
     "text": [
      "\n"
     ]
    },
    {
     "name": "stdout",
     "output_type": "stream",
     "text": [
      "\n",
      "      Epoch    GPU_mem   box_loss   cls_loss   dfl_loss  Instances       Size\n"
     ]
    },
    {
     "name": "stderr",
     "output_type": "stream",
     "text": [
      "    203/300      2.72G       1.63     0.7195      1.887         40        640: 100%|██████████| 204/204 [00:51<00:00,  \n",
      "                 Class     Images  Instances      Box(P          R      mAP50  mAP50-95): 100%|██████████| 34/34 [00:08"
     ]
    },
    {
     "name": "stdout",
     "output_type": "stream",
     "text": [
      "                   all        679       3388      0.944      0.919      0.965       0.64\n"
     ]
    },
    {
     "name": "stderr",
     "output_type": "stream",
     "text": [
      "\n"
     ]
    },
    {
     "name": "stdout",
     "output_type": "stream",
     "text": [
      "\n",
      "      Epoch    GPU_mem   box_loss   cls_loss   dfl_loss  Instances       Size\n"
     ]
    },
    {
     "name": "stderr",
     "output_type": "stream",
     "text": [
      "    204/300      2.85G      1.626     0.7179      1.902         50        640: 100%|██████████| 204/204 [00:51<00:00,  \n",
      "                 Class     Images  Instances      Box(P          R      mAP50  mAP50-95): 100%|██████████| 34/34 [00:07"
     ]
    },
    {
     "name": "stdout",
     "output_type": "stream",
     "text": [
      "                   all        679       3388       0.95      0.916      0.966      0.642\n"
     ]
    },
    {
     "name": "stderr",
     "output_type": "stream",
     "text": [
      "\n"
     ]
    },
    {
     "name": "stdout",
     "output_type": "stream",
     "text": [
      "\n",
      "      Epoch    GPU_mem   box_loss   cls_loss   dfl_loss  Instances       Size\n"
     ]
    },
    {
     "name": "stderr",
     "output_type": "stream",
     "text": [
      "    205/300      2.71G      1.619     0.7181      1.905         68        640: 100%|██████████| 204/204 [00:51<00:00,  \n",
      "                 Class     Images  Instances      Box(P          R      mAP50  mAP50-95): 100%|██████████| 34/34 [00:08"
     ]
    },
    {
     "name": "stdout",
     "output_type": "stream",
     "text": [
      "                   all        679       3388      0.953      0.911      0.967      0.643\n"
     ]
    },
    {
     "name": "stderr",
     "output_type": "stream",
     "text": [
      "\n"
     ]
    },
    {
     "name": "stdout",
     "output_type": "stream",
     "text": [
      "\n",
      "      Epoch    GPU_mem   box_loss   cls_loss   dfl_loss  Instances       Size\n"
     ]
    },
    {
     "name": "stderr",
     "output_type": "stream",
     "text": [
      "    206/300      2.78G      1.621     0.7137      1.898         61        640: 100%|██████████| 204/204 [00:51<00:00,  \n",
      "                 Class     Images  Instances      Box(P          R      mAP50  mAP50-95): 100%|██████████| 34/34 [00:08"
     ]
    },
    {
     "name": "stdout",
     "output_type": "stream",
     "text": [
      "                   all        679       3388      0.951      0.912      0.966      0.643\n"
     ]
    },
    {
     "name": "stderr",
     "output_type": "stream",
     "text": [
      "\n"
     ]
    },
    {
     "name": "stdout",
     "output_type": "stream",
     "text": [
      "\n",
      "      Epoch    GPU_mem   box_loss   cls_loss   dfl_loss  Instances       Size\n"
     ]
    },
    {
     "name": "stderr",
     "output_type": "stream",
     "text": [
      "    207/300       2.8G      1.602     0.7074      1.886         36        640: 100%|██████████| 204/204 [00:51<00:00,  \n",
      "                 Class     Images  Instances      Box(P          R      mAP50  mAP50-95): 100%|██████████| 34/34 [00:08"
     ]
    },
    {
     "name": "stdout",
     "output_type": "stream",
     "text": [
      "                   all        679       3388      0.956      0.908      0.966      0.642\n"
     ]
    },
    {
     "name": "stderr",
     "output_type": "stream",
     "text": [
      "\n"
     ]
    },
    {
     "name": "stdout",
     "output_type": "stream",
     "text": [
      "\n",
      "      Epoch    GPU_mem   box_loss   cls_loss   dfl_loss  Instances       Size\n"
     ]
    },
    {
     "name": "stderr",
     "output_type": "stream",
     "text": [
      "    208/300      2.74G      1.619     0.7116      1.898         57        640: 100%|██████████| 204/204 [00:51<00:00,  \n",
      "                 Class     Images  Instances      Box(P          R      mAP50  mAP50-95): 100%|██████████| 34/34 [00:08"
     ]
    },
    {
     "name": "stdout",
     "output_type": "stream",
     "text": [
      "                   all        679       3388      0.953      0.916      0.966      0.643\n"
     ]
    },
    {
     "name": "stderr",
     "output_type": "stream",
     "text": [
      "\n"
     ]
    },
    {
     "name": "stdout",
     "output_type": "stream",
     "text": [
      "\n",
      "      Epoch    GPU_mem   box_loss   cls_loss   dfl_loss  Instances       Size\n"
     ]
    },
    {
     "name": "stderr",
     "output_type": "stream",
     "text": [
      "    209/300      2.79G      1.616     0.7072      1.888         61        640: 100%|██████████| 204/204 [00:51<00:00,  \n",
      "                 Class     Images  Instances      Box(P          R      mAP50  mAP50-95): 100%|██████████| 34/34 [00:07"
     ]
    },
    {
     "name": "stdout",
     "output_type": "stream",
     "text": [
      "                   all        679       3388      0.951      0.918      0.966      0.643\n"
     ]
    },
    {
     "name": "stderr",
     "output_type": "stream",
     "text": [
      "\n"
     ]
    },
    {
     "name": "stdout",
     "output_type": "stream",
     "text": [
      "\n",
      "      Epoch    GPU_mem   box_loss   cls_loss   dfl_loss  Instances       Size\n"
     ]
    },
    {
     "name": "stderr",
     "output_type": "stream",
     "text": [
      "    210/300      2.75G      1.611     0.7134      1.887         43        640: 100%|██████████| 204/204 [00:51<00:00,  \n",
      "                 Class     Images  Instances      Box(P          R      mAP50  mAP50-95): 100%|██████████| 34/34 [00:07"
     ]
    },
    {
     "name": "stdout",
     "output_type": "stream",
     "text": [
      "                   all        679       3388      0.949      0.917      0.967      0.643\n"
     ]
    },
    {
     "name": "stderr",
     "output_type": "stream",
     "text": [
      "\n"
     ]
    },
    {
     "name": "stdout",
     "output_type": "stream",
     "text": [
      "\n",
      "      Epoch    GPU_mem   box_loss   cls_loss   dfl_loss  Instances       Size\n"
     ]
    },
    {
     "name": "stderr",
     "output_type": "stream",
     "text": [
      "    211/300      2.73G      1.601      0.696      1.894         52        640: 100%|██████████| 204/204 [00:51<00:00,  \n",
      "                 Class     Images  Instances      Box(P          R      mAP50  mAP50-95): 100%|██████████| 34/34 [00:08"
     ]
    },
    {
     "name": "stdout",
     "output_type": "stream",
     "text": [
      "                   all        679       3388      0.946      0.916      0.966      0.642\n"
     ]
    },
    {
     "name": "stderr",
     "output_type": "stream",
     "text": [
      "\n"
     ]
    },
    {
     "name": "stdout",
     "output_type": "stream",
     "text": [
      "\n",
      "      Epoch    GPU_mem   box_loss   cls_loss   dfl_loss  Instances       Size\n"
     ]
    },
    {
     "name": "stderr",
     "output_type": "stream",
     "text": [
      "    212/300      2.74G      1.625     0.7181      1.881         44        640: 100%|██████████| 204/204 [00:52<00:00,  \n",
      "                 Class     Images  Instances      Box(P          R      mAP50  mAP50-95): 100%|██████████| 34/34 [00:08"
     ]
    },
    {
     "name": "stdout",
     "output_type": "stream",
     "text": [
      "                   all        679       3388      0.952      0.914      0.966      0.642\n"
     ]
    },
    {
     "name": "stderr",
     "output_type": "stream",
     "text": [
      "\n"
     ]
    },
    {
     "name": "stdout",
     "output_type": "stream",
     "text": [
      "\n",
      "      Epoch    GPU_mem   box_loss   cls_loss   dfl_loss  Instances       Size\n"
     ]
    },
    {
     "name": "stderr",
     "output_type": "stream",
     "text": [
      "    213/300      2.78G      1.588     0.6957      1.877         51        640: 100%|██████████| 204/204 [00:51<00:00,  \n",
      "                 Class     Images  Instances      Box(P          R      mAP50  mAP50-95): 100%|██████████| 34/34 [00:08"
     ]
    },
    {
     "name": "stdout",
     "output_type": "stream",
     "text": [
      "                   all        679       3388      0.947      0.915      0.966      0.643\n"
     ]
    },
    {
     "name": "stderr",
     "output_type": "stream",
     "text": [
      "\n"
     ]
    },
    {
     "name": "stdout",
     "output_type": "stream",
     "text": [
      "\n",
      "      Epoch    GPU_mem   box_loss   cls_loss   dfl_loss  Instances       Size\n"
     ]
    },
    {
     "name": "stderr",
     "output_type": "stream",
     "text": [
      "    214/300      2.74G      1.573      0.697      1.882         75        640: 100%|██████████| 204/204 [00:51<00:00,  \n",
      "                 Class     Images  Instances      Box(P          R      mAP50  mAP50-95): 100%|██████████| 34/34 [00:07"
     ]
    },
    {
     "name": "stdout",
     "output_type": "stream",
     "text": [
      "                   all        679       3388      0.958       0.91      0.967      0.644\n"
     ]
    },
    {
     "name": "stderr",
     "output_type": "stream",
     "text": [
      "\n"
     ]
    },
    {
     "name": "stdout",
     "output_type": "stream",
     "text": [
      "\n",
      "      Epoch    GPU_mem   box_loss   cls_loss   dfl_loss  Instances       Size\n"
     ]
    },
    {
     "name": "stderr",
     "output_type": "stream",
     "text": [
      "    215/300      2.75G      1.592     0.7057      1.881         25        640: 100%|██████████| 204/204 [00:51<00:00,  \n",
      "                 Class     Images  Instances      Box(P          R      mAP50  mAP50-95): 100%|██████████| 34/34 [00:08"
     ]
    },
    {
     "name": "stdout",
     "output_type": "stream",
     "text": [
      "                   all        679       3388      0.949      0.916      0.967      0.644\n"
     ]
    },
    {
     "name": "stderr",
     "output_type": "stream",
     "text": [
      "\n"
     ]
    },
    {
     "name": "stdout",
     "output_type": "stream",
     "text": [
      "\n",
      "      Epoch    GPU_mem   box_loss   cls_loss   dfl_loss  Instances       Size\n"
     ]
    },
    {
     "name": "stderr",
     "output_type": "stream",
     "text": [
      "    216/300      2.81G      1.595     0.7021       1.88         56        640: 100%|██████████| 204/204 [00:51<00:00,  \n",
      "                 Class     Images  Instances      Box(P          R      mAP50  mAP50-95): 100%|██████████| 34/34 [00:08"
     ]
    },
    {
     "name": "stdout",
     "output_type": "stream",
     "text": [
      "                   all        679       3388      0.952      0.914      0.967      0.643\n"
     ]
    },
    {
     "name": "stderr",
     "output_type": "stream",
     "text": [
      "\n"
     ]
    },
    {
     "name": "stdout",
     "output_type": "stream",
     "text": [
      "\n",
      "      Epoch    GPU_mem   box_loss   cls_loss   dfl_loss  Instances       Size\n"
     ]
    },
    {
     "name": "stderr",
     "output_type": "stream",
     "text": [
      "    217/300      2.78G      1.586     0.6941      1.876         42        640: 100%|██████████| 204/204 [00:50<00:00,  \n",
      "                 Class     Images  Instances      Box(P          R      mAP50  mAP50-95): 100%|██████████| 34/34 [00:07"
     ]
    },
    {
     "name": "stdout",
     "output_type": "stream",
     "text": [
      "                   all        679       3388      0.955      0.916      0.967      0.642\n"
     ]
    },
    {
     "name": "stderr",
     "output_type": "stream",
     "text": [
      "\n"
     ]
    },
    {
     "name": "stdout",
     "output_type": "stream",
     "text": [
      "\n",
      "      Epoch    GPU_mem   box_loss   cls_loss   dfl_loss  Instances       Size\n"
     ]
    },
    {
     "name": "stderr",
     "output_type": "stream",
     "text": [
      "    218/300      2.74G      1.579     0.6961      1.882         50        640: 100%|██████████| 204/204 [00:50<00:00,  \n",
      "                 Class     Images  Instances      Box(P          R      mAP50  mAP50-95): 100%|██████████| 34/34 [00:07"
     ]
    },
    {
     "name": "stdout",
     "output_type": "stream",
     "text": [
      "                   all        679       3388      0.943       0.92      0.966      0.642\n"
     ]
    },
    {
     "name": "stderr",
     "output_type": "stream",
     "text": [
      "\n"
     ]
    },
    {
     "name": "stdout",
     "output_type": "stream",
     "text": [
      "\n",
      "      Epoch    GPU_mem   box_loss   cls_loss   dfl_loss  Instances       Size\n"
     ]
    },
    {
     "name": "stderr",
     "output_type": "stream",
     "text": [
      "    219/300      2.75G      1.578     0.6881      1.874         27        640: 100%|██████████| 204/204 [00:50<00:00,  \n",
      "                 Class     Images  Instances      Box(P          R      mAP50  mAP50-95): 100%|██████████| 34/34 [00:07"
     ]
    },
    {
     "name": "stdout",
     "output_type": "stream",
     "text": [
      "                   all        679       3388      0.954      0.915      0.966      0.642\n"
     ]
    },
    {
     "name": "stderr",
     "output_type": "stream",
     "text": [
      "\n"
     ]
    },
    {
     "name": "stdout",
     "output_type": "stream",
     "text": [
      "\n",
      "      Epoch    GPU_mem   box_loss   cls_loss   dfl_loss  Instances       Size\n"
     ]
    },
    {
     "name": "stderr",
     "output_type": "stream",
     "text": [
      "    220/300      2.75G      1.593     0.7013      1.875         38        640: 100%|██████████| 204/204 [00:50<00:00,  \n",
      "                 Class     Images  Instances      Box(P          R      mAP50  mAP50-95): 100%|██████████| 34/34 [00:07"
     ]
    },
    {
     "name": "stdout",
     "output_type": "stream",
     "text": [
      "                   all        679       3388      0.957      0.909      0.965      0.644\n"
     ]
    },
    {
     "name": "stderr",
     "output_type": "stream",
     "text": [
      "\n"
     ]
    },
    {
     "name": "stdout",
     "output_type": "stream",
     "text": [
      "\n",
      "      Epoch    GPU_mem   box_loss   cls_loss   dfl_loss  Instances       Size\n"
     ]
    },
    {
     "name": "stderr",
     "output_type": "stream",
     "text": [
      "    221/300      2.79G      1.585     0.6978      1.878         37        640: 100%|██████████| 204/204 [00:50<00:00,  \n",
      "                 Class     Images  Instances      Box(P          R      mAP50  mAP50-95): 100%|██████████| 34/34 [00:07"
     ]
    },
    {
     "name": "stdout",
     "output_type": "stream",
     "text": [
      "                   all        679       3388      0.946      0.914      0.963      0.643\n"
     ]
    },
    {
     "name": "stderr",
     "output_type": "stream",
     "text": [
      "\n"
     ]
    },
    {
     "name": "stdout",
     "output_type": "stream",
     "text": [
      "\n",
      "      Epoch    GPU_mem   box_loss   cls_loss   dfl_loss  Instances       Size\n"
     ]
    },
    {
     "name": "stderr",
     "output_type": "stream",
     "text": [
      "    222/300      2.81G      1.581     0.6949      1.862         61        640: 100%|██████████| 204/204 [00:50<00:00,  \n",
      "                 Class     Images  Instances      Box(P          R      mAP50  mAP50-95): 100%|██████████| 34/34 [00:07"
     ]
    },
    {
     "name": "stdout",
     "output_type": "stream",
     "text": [
      "                   all        679       3388      0.944       0.92      0.965      0.643\n"
     ]
    },
    {
     "name": "stderr",
     "output_type": "stream",
     "text": [
      "\n"
     ]
    },
    {
     "name": "stdout",
     "output_type": "stream",
     "text": [
      "\n",
      "      Epoch    GPU_mem   box_loss   cls_loss   dfl_loss  Instances       Size\n"
     ]
    },
    {
     "name": "stderr",
     "output_type": "stream",
     "text": [
      "    223/300      2.77G      1.586     0.6945      1.869         47        640: 100%|██████████| 204/204 [00:50<00:00,  \n",
      "                 Class     Images  Instances      Box(P          R      mAP50  mAP50-95): 100%|██████████| 34/34 [00:07"
     ]
    },
    {
     "name": "stdout",
     "output_type": "stream",
     "text": [
      "                   all        679       3388      0.943       0.92      0.964      0.642\n"
     ]
    },
    {
     "name": "stderr",
     "output_type": "stream",
     "text": [
      "\n"
     ]
    },
    {
     "name": "stdout",
     "output_type": "stream",
     "text": [
      "\n",
      "      Epoch    GPU_mem   box_loss   cls_loss   dfl_loss  Instances       Size\n"
     ]
    },
    {
     "name": "stderr",
     "output_type": "stream",
     "text": [
      "    224/300      2.78G      1.588     0.7063      1.883         26        640: 100%|██████████| 204/204 [00:50<00:00,  \n",
      "                 Class     Images  Instances      Box(P          R      mAP50  mAP50-95): 100%|██████████| 34/34 [00:07"
     ]
    },
    {
     "name": "stdout",
     "output_type": "stream",
     "text": [
      "                   all        679       3388      0.949      0.919      0.966      0.643\n"
     ]
    },
    {
     "name": "stderr",
     "output_type": "stream",
     "text": [
      "\n"
     ]
    },
    {
     "name": "stdout",
     "output_type": "stream",
     "text": [
      "\n",
      "      Epoch    GPU_mem   box_loss   cls_loss   dfl_loss  Instances       Size\n"
     ]
    },
    {
     "name": "stderr",
     "output_type": "stream",
     "text": [
      "    225/300      2.79G      1.588     0.6973      1.875         27        640: 100%|██████████| 204/204 [00:50<00:00,  \n",
      "                 Class     Images  Instances      Box(P          R      mAP50  mAP50-95): 100%|██████████| 34/34 [00:07"
     ]
    },
    {
     "name": "stdout",
     "output_type": "stream",
     "text": [
      "                   all        679       3388      0.946      0.918      0.966      0.642\n"
     ]
    },
    {
     "name": "stderr",
     "output_type": "stream",
     "text": [
      "\n"
     ]
    },
    {
     "name": "stdout",
     "output_type": "stream",
     "text": [
      "\n",
      "      Epoch    GPU_mem   box_loss   cls_loss   dfl_loss  Instances       Size\n"
     ]
    },
    {
     "name": "stderr",
     "output_type": "stream",
     "text": [
      "    226/300      2.87G      1.571     0.6847      1.878         34        640: 100%|██████████| 204/204 [00:50<00:00,  \n",
      "                 Class     Images  Instances      Box(P          R      mAP50  mAP50-95): 100%|██████████| 34/34 [00:07"
     ]
    },
    {
     "name": "stdout",
     "output_type": "stream",
     "text": [
      "                   all        679       3388      0.947      0.916      0.966      0.642\n"
     ]
    },
    {
     "name": "stderr",
     "output_type": "stream",
     "text": [
      "\n"
     ]
    },
    {
     "name": "stdout",
     "output_type": "stream",
     "text": [
      "\n",
      "      Epoch    GPU_mem   box_loss   cls_loss   dfl_loss  Instances       Size\n"
     ]
    },
    {
     "name": "stderr",
     "output_type": "stream",
     "text": [
      "    227/300      2.85G      1.578     0.6952      1.881         34        640: 100%|██████████| 204/204 [00:50<00:00,  \n",
      "                 Class     Images  Instances      Box(P          R      mAP50  mAP50-95): 100%|██████████| 34/34 [00:07"
     ]
    },
    {
     "name": "stdout",
     "output_type": "stream",
     "text": [
      "                   all        679       3388      0.943       0.92      0.965      0.643\n"
     ]
    },
    {
     "name": "stderr",
     "output_type": "stream",
     "text": [
      "\n"
     ]
    },
    {
     "name": "stdout",
     "output_type": "stream",
     "text": [
      "\n",
      "      Epoch    GPU_mem   box_loss   cls_loss   dfl_loss  Instances       Size\n"
     ]
    },
    {
     "name": "stderr",
     "output_type": "stream",
     "text": [
      "    228/300      2.87G      1.574     0.6977      1.883         71        640: 100%|██████████| 204/204 [00:50<00:00,  \n",
      "                 Class     Images  Instances      Box(P          R      mAP50  mAP50-95): 100%|██████████| 34/34 [00:07"
     ]
    },
    {
     "name": "stdout",
     "output_type": "stream",
     "text": [
      "                   all        679       3388      0.948      0.915      0.965      0.643\n"
     ]
    },
    {
     "name": "stderr",
     "output_type": "stream",
     "text": [
      "\n"
     ]
    },
    {
     "name": "stdout",
     "output_type": "stream",
     "text": [
      "\n",
      "      Epoch    GPU_mem   box_loss   cls_loss   dfl_loss  Instances       Size\n"
     ]
    },
    {
     "name": "stderr",
     "output_type": "stream",
     "text": [
      "    229/300       2.9G      1.568     0.6943      1.878         62        640: 100%|██████████| 204/204 [00:50<00:00,  \n",
      "                 Class     Images  Instances      Box(P          R      mAP50  mAP50-95): 100%|██████████| 34/34 [00:07"
     ]
    },
    {
     "name": "stdout",
     "output_type": "stream",
     "text": [
      "                   all        679       3388       0.95      0.913      0.965      0.643\n"
     ]
    },
    {
     "name": "stderr",
     "output_type": "stream",
     "text": [
      "\n"
     ]
    },
    {
     "name": "stdout",
     "output_type": "stream",
     "text": [
      "\n",
      "      Epoch    GPU_mem   box_loss   cls_loss   dfl_loss  Instances       Size\n"
     ]
    },
    {
     "name": "stderr",
     "output_type": "stream",
     "text": [
      "    230/300      2.73G      1.558     0.6816      1.862         39        640: 100%|██████████| 204/204 [00:50<00:00,  \n",
      "                 Class     Images  Instances      Box(P          R      mAP50  mAP50-95): 100%|██████████| 34/34 [00:07"
     ]
    },
    {
     "name": "stdout",
     "output_type": "stream",
     "text": [
      "                   all        679       3388      0.948      0.916      0.965      0.642\n"
     ]
    },
    {
     "name": "stderr",
     "output_type": "stream",
     "text": [
      "\n"
     ]
    },
    {
     "name": "stdout",
     "output_type": "stream",
     "text": [
      "\n",
      "      Epoch    GPU_mem   box_loss   cls_loss   dfl_loss  Instances       Size\n"
     ]
    },
    {
     "name": "stderr",
     "output_type": "stream",
     "text": [
      "    231/300       2.8G      1.542     0.6836      1.866         44        640: 100%|██████████| 204/204 [00:50<00:00,  \n",
      "                 Class     Images  Instances      Box(P          R      mAP50  mAP50-95): 100%|██████████| 34/34 [00:07"
     ]
    },
    {
     "name": "stdout",
     "output_type": "stream",
     "text": [
      "                   all        679       3388      0.952      0.912      0.965      0.643\n"
     ]
    },
    {
     "name": "stderr",
     "output_type": "stream",
     "text": [
      "\n"
     ]
    },
    {
     "name": "stdout",
     "output_type": "stream",
     "text": [
      "\n",
      "      Epoch    GPU_mem   box_loss   cls_loss   dfl_loss  Instances       Size\n"
     ]
    },
    {
     "name": "stderr",
     "output_type": "stream",
     "text": [
      "    232/300      2.75G      1.546     0.6757       1.86         53        640: 100%|██████████| 204/204 [00:50<00:00,  \n",
      "                 Class     Images  Instances      Box(P          R      mAP50  mAP50-95): 100%|██████████| 34/34 [00:07"
     ]
    },
    {
     "name": "stdout",
     "output_type": "stream",
     "text": [
      "                   all        679       3388       0.95      0.914      0.966      0.643\n"
     ]
    },
    {
     "name": "stderr",
     "output_type": "stream",
     "text": [
      "\n"
     ]
    },
    {
     "name": "stdout",
     "output_type": "stream",
     "text": [
      "\n",
      "      Epoch    GPU_mem   box_loss   cls_loss   dfl_loss  Instances       Size\n"
     ]
    },
    {
     "name": "stderr",
     "output_type": "stream",
     "text": [
      "    233/300      2.75G      1.556     0.6835       1.86         55        640: 100%|██████████| 204/204 [00:50<00:00,  \n",
      "                 Class     Images  Instances      Box(P          R      mAP50  mAP50-95): 100%|██████████| 34/34 [00:07"
     ]
    },
    {
     "name": "stdout",
     "output_type": "stream",
     "text": [
      "                   all        679       3388       0.95      0.916      0.967      0.644\n"
     ]
    },
    {
     "name": "stderr",
     "output_type": "stream",
     "text": [
      "\n"
     ]
    },
    {
     "name": "stdout",
     "output_type": "stream",
     "text": [
      "\n",
      "      Epoch    GPU_mem   box_loss   cls_loss   dfl_loss  Instances       Size\n"
     ]
    },
    {
     "name": "stderr",
     "output_type": "stream",
     "text": [
      "    234/300      2.79G      1.541     0.6772      1.873         37        640: 100%|██████████| 204/204 [00:50<00:00,  \n",
      "                 Class     Images  Instances      Box(P          R      mAP50  mAP50-95): 100%|██████████| 34/34 [00:07"
     ]
    },
    {
     "name": "stdout",
     "output_type": "stream",
     "text": [
      "                   all        679       3388      0.951      0.911      0.965      0.643\n"
     ]
    },
    {
     "name": "stderr",
     "output_type": "stream",
     "text": [
      "\n"
     ]
    },
    {
     "name": "stdout",
     "output_type": "stream",
     "text": [
      "\n",
      "      Epoch    GPU_mem   box_loss   cls_loss   dfl_loss  Instances       Size\n"
     ]
    },
    {
     "name": "stderr",
     "output_type": "stream",
     "text": [
      "    235/300      2.86G      1.533     0.6733      1.866         65        640: 100%|██████████| 204/204 [00:50<00:00,  \n",
      "                 Class     Images  Instances      Box(P          R      mAP50  mAP50-95): 100%|██████████| 34/34 [00:07"
     ]
    },
    {
     "name": "stdout",
     "output_type": "stream",
     "text": [
      "                   all        679       3388      0.954      0.912      0.966      0.642\n"
     ]
    },
    {
     "name": "stderr",
     "output_type": "stream",
     "text": [
      "\n"
     ]
    },
    {
     "name": "stdout",
     "output_type": "stream",
     "text": [
      "\n",
      "      Epoch    GPU_mem   box_loss   cls_loss   dfl_loss  Instances       Size\n"
     ]
    },
    {
     "name": "stderr",
     "output_type": "stream",
     "text": [
      "    236/300      2.79G      1.554     0.6865      1.873         51        640: 100%|██████████| 204/204 [00:50<00:00,  \n",
      "                 Class     Images  Instances      Box(P          R      mAP50  mAP50-95): 100%|██████████| 34/34 [00:07"
     ]
    },
    {
     "name": "stdout",
     "output_type": "stream",
     "text": [
      "                   all        679       3388      0.954      0.916      0.966      0.642\n"
     ]
    },
    {
     "name": "stderr",
     "output_type": "stream",
     "text": [
      "\n"
     ]
    },
    {
     "name": "stdout",
     "output_type": "stream",
     "text": [
      "\n",
      "      Epoch    GPU_mem   box_loss   cls_loss   dfl_loss  Instances       Size\n"
     ]
    },
    {
     "name": "stderr",
     "output_type": "stream",
     "text": [
      "    237/300      2.84G      1.541     0.6765      1.879         41        640: 100%|██████████| 204/204 [00:50<00:00,  \n",
      "                 Class     Images  Instances      Box(P          R      mAP50  mAP50-95): 100%|██████████| 34/34 [00:07"
     ]
    },
    {
     "name": "stdout",
     "output_type": "stream",
     "text": [
      "                   all        679       3388      0.953      0.914      0.966      0.641\n"
     ]
    },
    {
     "name": "stderr",
     "output_type": "stream",
     "text": [
      "\n"
     ]
    },
    {
     "name": "stdout",
     "output_type": "stream",
     "text": [
      "\n",
      "      Epoch    GPU_mem   box_loss   cls_loss   dfl_loss  Instances       Size\n"
     ]
    },
    {
     "name": "stderr",
     "output_type": "stream",
     "text": [
      "    238/300      2.76G      1.534     0.6784      1.859         50        640: 100%|██████████| 204/204 [00:50<00:00,  \n",
      "                 Class     Images  Instances      Box(P          R      mAP50  mAP50-95): 100%|██████████| 34/34 [00:07"
     ]
    },
    {
     "name": "stdout",
     "output_type": "stream",
     "text": [
      "                   all        679       3388      0.954      0.911      0.965      0.642\n"
     ]
    },
    {
     "name": "stderr",
     "output_type": "stream",
     "text": [
      "\n"
     ]
    },
    {
     "name": "stdout",
     "output_type": "stream",
     "text": [
      "\n",
      "      Epoch    GPU_mem   box_loss   cls_loss   dfl_loss  Instances       Size\n"
     ]
    },
    {
     "name": "stderr",
     "output_type": "stream",
     "text": [
      "    239/300      2.89G       1.55     0.6785      1.862         31        640: 100%|██████████| 204/204 [00:50<00:00,  \n",
      "                 Class     Images  Instances      Box(P          R      mAP50  mAP50-95): 100%|██████████| 34/34 [00:07"
     ]
    },
    {
     "name": "stdout",
     "output_type": "stream",
     "text": [
      "                   all        679       3388      0.957      0.909      0.966      0.642\n"
     ]
    },
    {
     "name": "stderr",
     "output_type": "stream",
     "text": [
      "\n"
     ]
    },
    {
     "name": "stdout",
     "output_type": "stream",
     "text": [
      "\n",
      "      Epoch    GPU_mem   box_loss   cls_loss   dfl_loss  Instances       Size\n"
     ]
    },
    {
     "name": "stderr",
     "output_type": "stream",
     "text": [
      "    240/300      2.79G       1.54     0.6758      1.858         65        640: 100%|██████████| 204/204 [00:50<00:00,  \n",
      "                 Class     Images  Instances      Box(P          R      mAP50  mAP50-95): 100%|██████████| 34/34 [00:07"
     ]
    },
    {
     "name": "stdout",
     "output_type": "stream",
     "text": [
      "                   all        679       3388      0.951      0.915      0.966      0.642\n"
     ]
    },
    {
     "name": "stderr",
     "output_type": "stream",
     "text": [
      "\n"
     ]
    },
    {
     "name": "stdout",
     "output_type": "stream",
     "text": [
      "\n",
      "      Epoch    GPU_mem   box_loss   cls_loss   dfl_loss  Instances       Size\n"
     ]
    },
    {
     "name": "stderr",
     "output_type": "stream",
     "text": [
      "    241/300      2.79G      1.539     0.6721      1.855         41        640: 100%|██████████| 204/204 [00:50<00:00,  \n",
      "                 Class     Images  Instances      Box(P          R      mAP50  mAP50-95): 100%|██████████| 34/34 [00:07"
     ]
    },
    {
     "name": "stdout",
     "output_type": "stream",
     "text": [
      "                   all        679       3388      0.953      0.916      0.965      0.642\n"
     ]
    },
    {
     "name": "stderr",
     "output_type": "stream",
     "text": [
      "\n"
     ]
    },
    {
     "name": "stdout",
     "output_type": "stream",
     "text": [
      "\n",
      "      Epoch    GPU_mem   box_loss   cls_loss   dfl_loss  Instances       Size\n"
     ]
    },
    {
     "name": "stderr",
     "output_type": "stream",
     "text": [
      "    242/300      2.72G      1.534     0.6739      1.854         46        640: 100%|██████████| 204/204 [00:50<00:00,  \n",
      "                 Class     Images  Instances      Box(P          R      mAP50  mAP50-95): 100%|██████████| 34/34 [00:07"
     ]
    },
    {
     "name": "stdout",
     "output_type": "stream",
     "text": [
      "                   all        679       3388      0.957      0.909      0.965      0.642\n"
     ]
    },
    {
     "name": "stderr",
     "output_type": "stream",
     "text": [
      "\n"
     ]
    },
    {
     "name": "stdout",
     "output_type": "stream",
     "text": [
      "\n",
      "      Epoch    GPU_mem   box_loss   cls_loss   dfl_loss  Instances       Size\n"
     ]
    },
    {
     "name": "stderr",
     "output_type": "stream",
     "text": [
      "    243/300      2.81G       1.55     0.6782      1.854         33        640: 100%|██████████| 204/204 [00:50<00:00,  \n",
      "                 Class     Images  Instances      Box(P          R      mAP50  mAP50-95): 100%|██████████| 34/34 [00:07"
     ]
    },
    {
     "name": "stdout",
     "output_type": "stream",
     "text": [
      "                   all        679       3388      0.954      0.914      0.965      0.642\n"
     ]
    },
    {
     "name": "stderr",
     "output_type": "stream",
     "text": [
      "\n"
     ]
    },
    {
     "name": "stdout",
     "output_type": "stream",
     "text": [
      "\n",
      "      Epoch    GPU_mem   box_loss   cls_loss   dfl_loss  Instances       Size\n"
     ]
    },
    {
     "name": "stderr",
     "output_type": "stream",
     "text": [
      "    244/300      2.74G      1.536     0.6704      1.863         58        640: 100%|██████████| 204/204 [00:50<00:00,  \n",
      "                 Class     Images  Instances      Box(P          R      mAP50  mAP50-95): 100%|██████████| 34/34 [00:07"
     ]
    },
    {
     "name": "stdout",
     "output_type": "stream",
     "text": [
      "                   all        679       3388      0.954      0.909      0.964      0.642\n"
     ]
    },
    {
     "name": "stderr",
     "output_type": "stream",
     "text": [
      "\n"
     ]
    },
    {
     "name": "stdout",
     "output_type": "stream",
     "text": [
      "\n",
      "      Epoch    GPU_mem   box_loss   cls_loss   dfl_loss  Instances       Size\n"
     ]
    },
    {
     "name": "stderr",
     "output_type": "stream",
     "text": [
      "    245/300      2.75G      1.522     0.6685      1.849         39        640: 100%|██████████| 204/204 [00:50<00:00,  \n",
      "                 Class     Images  Instances      Box(P          R      mAP50  mAP50-95): 100%|██████████| 34/34 [00:07"
     ]
    },
    {
     "name": "stdout",
     "output_type": "stream",
     "text": [
      "                   all        679       3388      0.948      0.916      0.964      0.642\n"
     ]
    },
    {
     "name": "stderr",
     "output_type": "stream",
     "text": [
      "\n"
     ]
    },
    {
     "name": "stdout",
     "output_type": "stream",
     "text": [
      "\n",
      "      Epoch    GPU_mem   box_loss   cls_loss   dfl_loss  Instances       Size\n"
     ]
    },
    {
     "name": "stderr",
     "output_type": "stream",
     "text": [
      "    246/300      2.77G       1.53     0.6668      1.856         32        640: 100%|██████████| 204/204 [00:50<00:00,  \n",
      "                 Class     Images  Instances      Box(P          R      mAP50  mAP50-95): 100%|██████████| 34/34 [00:07"
     ]
    },
    {
     "name": "stdout",
     "output_type": "stream",
     "text": [
      "                   all        679       3388      0.952      0.911      0.964      0.642\n"
     ]
    },
    {
     "name": "stderr",
     "output_type": "stream",
     "text": [
      "\n"
     ]
    },
    {
     "name": "stdout",
     "output_type": "stream",
     "text": [
      "\n",
      "      Epoch    GPU_mem   box_loss   cls_loss   dfl_loss  Instances       Size\n"
     ]
    },
    {
     "name": "stderr",
     "output_type": "stream",
     "text": [
      "    247/300      2.73G      1.518     0.6692      1.855         65        640: 100%|██████████| 204/204 [00:50<00:00,  \n",
      "                 Class     Images  Instances      Box(P          R      mAP50  mAP50-95): 100%|██████████| 34/34 [00:07"
     ]
    },
    {
     "name": "stdout",
     "output_type": "stream",
     "text": [
      "                   all        679       3388      0.956      0.908      0.963       0.64\n"
     ]
    },
    {
     "name": "stderr",
     "output_type": "stream",
     "text": [
      "\n"
     ]
    },
    {
     "name": "stdout",
     "output_type": "stream",
     "text": [
      "\n",
      "      Epoch    GPU_mem   box_loss   cls_loss   dfl_loss  Instances       Size\n"
     ]
    },
    {
     "name": "stderr",
     "output_type": "stream",
     "text": [
      "    248/300      2.81G      1.525     0.6678      1.857         33        640: 100%|██████████| 204/204 [00:50<00:00,  \n",
      "                 Class     Images  Instances      Box(P          R      mAP50  mAP50-95): 100%|██████████| 34/34 [00:07"
     ]
    },
    {
     "name": "stdout",
     "output_type": "stream",
     "text": [
      "                   all        679       3388      0.962      0.902      0.964       0.64\n"
     ]
    },
    {
     "name": "stderr",
     "output_type": "stream",
     "text": [
      "\n"
     ]
    },
    {
     "name": "stdout",
     "output_type": "stream",
     "text": [
      "\n",
      "      Epoch    GPU_mem   box_loss   cls_loss   dfl_loss  Instances       Size\n"
     ]
    },
    {
     "name": "stderr",
     "output_type": "stream",
     "text": [
      "    249/300      2.73G      1.522     0.6674      1.852         79        640: 100%|██████████| 204/204 [00:50<00:00,  \n",
      "                 Class     Images  Instances      Box(P          R      mAP50  mAP50-95): 100%|██████████| 34/34 [00:07"
     ]
    },
    {
     "name": "stdout",
     "output_type": "stream",
     "text": [
      "                   all        679       3388      0.949      0.918      0.965      0.639\n"
     ]
    },
    {
     "name": "stderr",
     "output_type": "stream",
     "text": [
      "\n"
     ]
    },
    {
     "name": "stdout",
     "output_type": "stream",
     "text": [
      "\n",
      "      Epoch    GPU_mem   box_loss   cls_loss   dfl_loss  Instances       Size\n"
     ]
    },
    {
     "name": "stderr",
     "output_type": "stream",
     "text": [
      "    250/300      2.79G      1.521     0.6687      1.861         48        640: 100%|██████████| 204/204 [00:50<00:00,  \n",
      "                 Class     Images  Instances      Box(P          R      mAP50  mAP50-95): 100%|██████████| 34/34 [00:07"
     ]
    },
    {
     "name": "stdout",
     "output_type": "stream",
     "text": [
      "                   all        679       3388      0.942      0.923      0.965      0.639\n"
     ]
    },
    {
     "name": "stderr",
     "output_type": "stream",
     "text": [
      "\n"
     ]
    },
    {
     "name": "stdout",
     "output_type": "stream",
     "text": [
      "\n",
      "      Epoch    GPU_mem   box_loss   cls_loss   dfl_loss  Instances       Size\n"
     ]
    },
    {
     "name": "stderr",
     "output_type": "stream",
     "text": [
      "    251/300      2.75G       1.51     0.6688      1.861         74        640: 100%|██████████| 204/204 [00:50<00:00,  \n",
      "                 Class     Images  Instances      Box(P          R      mAP50  mAP50-95): 100%|██████████| 34/34 [00:07"
     ]
    },
    {
     "name": "stdout",
     "output_type": "stream",
     "text": [
      "                   all        679       3388      0.948      0.918      0.965      0.639\n"
     ]
    },
    {
     "name": "stderr",
     "output_type": "stream",
     "text": [
      "\n"
     ]
    },
    {
     "name": "stdout",
     "output_type": "stream",
     "text": [
      "\n",
      "      Epoch    GPU_mem   box_loss   cls_loss   dfl_loss  Instances       Size\n"
     ]
    },
    {
     "name": "stderr",
     "output_type": "stream",
     "text": [
      "    252/300      2.78G      1.538     0.6765      1.862         86        640: 100%|██████████| 204/204 [00:50<00:00,  \n",
      "                 Class     Images  Instances      Box(P          R      mAP50  mAP50-95): 100%|██████████| 34/34 [00:07"
     ]
    },
    {
     "name": "stdout",
     "output_type": "stream",
     "text": [
      "                   all        679       3388      0.952      0.915      0.964      0.639\n"
     ]
    },
    {
     "name": "stderr",
     "output_type": "stream",
     "text": [
      "\n"
     ]
    },
    {
     "name": "stdout",
     "output_type": "stream",
     "text": [
      "\n",
      "      Epoch    GPU_mem   box_loss   cls_loss   dfl_loss  Instances       Size\n"
     ]
    },
    {
     "name": "stderr",
     "output_type": "stream",
     "text": [
      "    253/300      2.78G      1.506     0.6605      1.837         67        640: 100%|██████████| 204/204 [00:50<00:00,  \n",
      "                 Class     Images  Instances      Box(P          R      mAP50  mAP50-95): 100%|██████████| 34/34 [00:07"
     ]
    },
    {
     "name": "stdout",
     "output_type": "stream",
     "text": [
      "                   all        679       3388      0.954      0.916      0.964       0.64\n"
     ]
    },
    {
     "name": "stderr",
     "output_type": "stream",
     "text": [
      "\n"
     ]
    },
    {
     "name": "stdout",
     "output_type": "stream",
     "text": [
      "\n",
      "      Epoch    GPU_mem   box_loss   cls_loss   dfl_loss  Instances       Size\n"
     ]
    },
    {
     "name": "stderr",
     "output_type": "stream",
     "text": [
      "    254/300      2.79G      1.519     0.6673      1.856         66        640: 100%|██████████| 204/204 [00:50<00:00,  \n",
      "                 Class     Images  Instances      Box(P          R      mAP50  mAP50-95): 100%|██████████| 34/34 [00:07"
     ]
    },
    {
     "name": "stdout",
     "output_type": "stream",
     "text": [
      "                   all        679       3388      0.952      0.915      0.964       0.64\n"
     ]
    },
    {
     "name": "stderr",
     "output_type": "stream",
     "text": [
      "\n"
     ]
    },
    {
     "name": "stdout",
     "output_type": "stream",
     "text": [
      "\n",
      "      Epoch    GPU_mem   box_loss   cls_loss   dfl_loss  Instances       Size\n"
     ]
    },
    {
     "name": "stderr",
     "output_type": "stream",
     "text": [
      "    255/300      2.75G      1.506     0.6581      1.851         52        640: 100%|██████████| 204/204 [00:50<00:00,  \n",
      "                 Class     Images  Instances      Box(P          R      mAP50  mAP50-95): 100%|██████████| 34/34 [00:07"
     ]
    },
    {
     "name": "stdout",
     "output_type": "stream",
     "text": [
      "                   all        679       3388      0.954      0.913      0.964       0.64\n"
     ]
    },
    {
     "name": "stderr",
     "output_type": "stream",
     "text": [
      "\n"
     ]
    },
    {
     "name": "stdout",
     "output_type": "stream",
     "text": [
      "\n",
      "      Epoch    GPU_mem   box_loss   cls_loss   dfl_loss  Instances       Size\n"
     ]
    },
    {
     "name": "stderr",
     "output_type": "stream",
     "text": [
      "    256/300      2.76G      1.512      0.657      1.847         50        640: 100%|██████████| 204/204 [00:50<00:00,  \n",
      "                 Class     Images  Instances      Box(P          R      mAP50  mAP50-95): 100%|██████████| 34/34 [00:07"
     ]
    },
    {
     "name": "stdout",
     "output_type": "stream",
     "text": [
      "                   all        679       3388       0.95      0.913      0.964       0.64\n"
     ]
    },
    {
     "name": "stderr",
     "output_type": "stream",
     "text": [
      "\n"
     ]
    },
    {
     "name": "stdout",
     "output_type": "stream",
     "text": [
      "\n",
      "      Epoch    GPU_mem   box_loss   cls_loss   dfl_loss  Instances       Size\n"
     ]
    },
    {
     "name": "stderr",
     "output_type": "stream",
     "text": [
      "    257/300      2.73G      1.512     0.6607      1.854         67        640: 100%|██████████| 204/204 [00:50<00:00,  \n",
      "                 Class     Images  Instances      Box(P          R      mAP50  mAP50-95): 100%|██████████| 34/34 [00:07"
     ]
    },
    {
     "name": "stdout",
     "output_type": "stream",
     "text": [
      "                   all        679       3388       0.95      0.914      0.964      0.641\n"
     ]
    },
    {
     "name": "stderr",
     "output_type": "stream",
     "text": [
      "\n"
     ]
    },
    {
     "name": "stdout",
     "output_type": "stream",
     "text": [
      "\n",
      "      Epoch    GPU_mem   box_loss   cls_loss   dfl_loss  Instances       Size\n"
     ]
    },
    {
     "name": "stderr",
     "output_type": "stream",
     "text": [
      "    258/300      2.78G      1.519     0.6575      1.851         90        640: 100%|██████████| 204/204 [00:50<00:00,  \n",
      "                 Class     Images  Instances      Box(P          R      mAP50  mAP50-95): 100%|██████████| 34/34 [00:07"
     ]
    },
    {
     "name": "stdout",
     "output_type": "stream",
     "text": [
      "                   all        679       3388      0.952       0.91      0.964      0.641\n"
     ]
    },
    {
     "name": "stderr",
     "output_type": "stream",
     "text": [
      "\n"
     ]
    },
    {
     "name": "stdout",
     "output_type": "stream",
     "text": [
      "\n",
      "      Epoch    GPU_mem   box_loss   cls_loss   dfl_loss  Instances       Size\n"
     ]
    },
    {
     "name": "stderr",
     "output_type": "stream",
     "text": [
      "    259/300      2.75G      1.489      0.648      1.841         57        640: 100%|██████████| 204/204 [00:50<00:00,  \n",
      "                 Class     Images  Instances      Box(P          R      mAP50  mAP50-95): 100%|██████████| 34/34 [00:07"
     ]
    },
    {
     "name": "stdout",
     "output_type": "stream",
     "text": [
      "                   all        679       3388      0.951      0.915      0.965      0.641\n"
     ]
    },
    {
     "name": "stderr",
     "output_type": "stream",
     "text": [
      "\n"
     ]
    },
    {
     "name": "stdout",
     "output_type": "stream",
     "text": [
      "\n",
      "      Epoch    GPU_mem   box_loss   cls_loss   dfl_loss  Instances       Size\n"
     ]
    },
    {
     "name": "stderr",
     "output_type": "stream",
     "text": [
      "    260/300      2.77G      1.491     0.6481      1.856         68        640: 100%|██████████| 204/204 [00:50<00:00,  \n",
      "                 Class     Images  Instances      Box(P          R      mAP50  mAP50-95): 100%|██████████| 34/34 [00:07"
     ]
    },
    {
     "name": "stdout",
     "output_type": "stream",
     "text": [
      "                   all        679       3388      0.953       0.91      0.964      0.641\n"
     ]
    },
    {
     "name": "stderr",
     "output_type": "stream",
     "text": [
      "\n"
     ]
    },
    {
     "name": "stdout",
     "output_type": "stream",
     "text": [
      "\n",
      "      Epoch    GPU_mem   box_loss   cls_loss   dfl_loss  Instances       Size\n"
     ]
    },
    {
     "name": "stderr",
     "output_type": "stream",
     "text": [
      "    261/300      2.87G      1.498     0.6603      1.839         61        640: 100%|██████████| 204/204 [00:50<00:00,  \n",
      "                 Class     Images  Instances      Box(P          R      mAP50  mAP50-95): 100%|██████████| 34/34 [00:07"
     ]
    },
    {
     "name": "stdout",
     "output_type": "stream",
     "text": [
      "                   all        679       3388      0.946      0.916      0.965      0.641\n"
     ]
    },
    {
     "name": "stderr",
     "output_type": "stream",
     "text": [
      "\n"
     ]
    },
    {
     "name": "stdout",
     "output_type": "stream",
     "text": [
      "\n",
      "      Epoch    GPU_mem   box_loss   cls_loss   dfl_loss  Instances       Size\n"
     ]
    },
    {
     "name": "stderr",
     "output_type": "stream",
     "text": [
      "    262/300       2.8G      1.493     0.6536      1.838         50        640: 100%|██████████| 204/204 [00:50<00:00,  \n",
      "                 Class     Images  Instances      Box(P          R      mAP50  mAP50-95): 100%|██████████| 34/34 [00:07"
     ]
    },
    {
     "name": "stdout",
     "output_type": "stream",
     "text": [
      "                   all        679       3388      0.954       0.91      0.965       0.64\n"
     ]
    },
    {
     "name": "stderr",
     "output_type": "stream",
     "text": [
      "\n"
     ]
    },
    {
     "name": "stdout",
     "output_type": "stream",
     "text": [
      "\n",
      "      Epoch    GPU_mem   box_loss   cls_loss   dfl_loss  Instances       Size\n"
     ]
    },
    {
     "name": "stderr",
     "output_type": "stream",
     "text": [
      "    263/300      2.74G      1.493     0.6529       1.85         58        640: 100%|██████████| 204/204 [00:50<00:00,  \n",
      "                 Class     Images  Instances      Box(P          R      mAP50  mAP50-95): 100%|██████████| 34/34 [00:07"
     ]
    },
    {
     "name": "stdout",
     "output_type": "stream",
     "text": [
      "                   all        679       3388      0.955      0.906      0.965       0.64\n"
     ]
    },
    {
     "name": "stderr",
     "output_type": "stream",
     "text": [
      "\n"
     ]
    },
    {
     "name": "stdout",
     "output_type": "stream",
     "text": [
      "\n",
      "      Epoch    GPU_mem   box_loss   cls_loss   dfl_loss  Instances       Size\n"
     ]
    },
    {
     "name": "stderr",
     "output_type": "stream",
     "text": [
      "    264/300      2.74G      1.505     0.6633      1.844         78        640: 100%|██████████| 204/204 [00:50<00:00,  \n",
      "                 Class     Images  Instances      Box(P          R      mAP50  mAP50-95): 100%|██████████| 34/34 [00:07"
     ]
    },
    {
     "name": "stdout",
     "output_type": "stream",
     "text": [
      "                   all        679       3388      0.954      0.911      0.965       0.64\n"
     ]
    },
    {
     "name": "stderr",
     "output_type": "stream",
     "text": [
      "\n"
     ]
    },
    {
     "name": "stdout",
     "output_type": "stream",
     "text": [
      "\n",
      "      Epoch    GPU_mem   box_loss   cls_loss   dfl_loss  Instances       Size\n"
     ]
    },
    {
     "name": "stderr",
     "output_type": "stream",
     "text": [
      "    265/300      2.86G      1.514     0.6522      1.853         29        640: 100%|██████████| 204/204 [00:50<00:00,  \n",
      "                 Class     Images  Instances      Box(P          R      mAP50  mAP50-95): 100%|██████████| 34/34 [00:07"
     ]
    },
    {
     "name": "stdout",
     "output_type": "stream",
     "text": [
      "                   all        679       3388      0.955      0.906      0.964       0.64\n"
     ]
    },
    {
     "name": "stderr",
     "output_type": "stream",
     "text": [
      "\n"
     ]
    },
    {
     "name": "stdout",
     "output_type": "stream",
     "text": [
      "\n",
      "      Epoch    GPU_mem   box_loss   cls_loss   dfl_loss  Instances       Size\n"
     ]
    },
    {
     "name": "stderr",
     "output_type": "stream",
     "text": [
      "    266/300       2.8G      1.495     0.6575      1.847         49        640: 100%|██████████| 204/204 [00:50<00:00,  \n",
      "                 Class     Images  Instances      Box(P          R      mAP50  mAP50-95): 100%|██████████| 34/34 [00:07"
     ]
    },
    {
     "name": "stdout",
     "output_type": "stream",
     "text": [
      "                   all        679       3388      0.956      0.908      0.965      0.641\n"
     ]
    },
    {
     "name": "stderr",
     "output_type": "stream",
     "text": [
      "\n"
     ]
    },
    {
     "name": "stdout",
     "output_type": "stream",
     "text": [
      "\n",
      "      Epoch    GPU_mem   box_loss   cls_loss   dfl_loss  Instances       Size\n"
     ]
    },
    {
     "name": "stderr",
     "output_type": "stream",
     "text": [
      "    267/300      2.75G      1.467     0.6484      1.852         24        640: 100%|██████████| 204/204 [00:50<00:00,  \n",
      "                 Class     Images  Instances      Box(P          R      mAP50  mAP50-95): 100%|██████████| 34/34 [00:07"
     ]
    },
    {
     "name": "stdout",
     "output_type": "stream",
     "text": [
      "                   all        679       3388       0.96      0.903      0.965      0.641\n"
     ]
    },
    {
     "name": "stderr",
     "output_type": "stream",
     "text": [
      "\n"
     ]
    },
    {
     "name": "stdout",
     "output_type": "stream",
     "text": [
      "\n",
      "      Epoch    GPU_mem   box_loss   cls_loss   dfl_loss  Instances       Size\n"
     ]
    },
    {
     "name": "stderr",
     "output_type": "stream",
     "text": [
      "    268/300      2.74G      1.486     0.6512      1.848         72        640: 100%|██████████| 204/204 [00:50<00:00,  \n",
      "                 Class     Images  Instances      Box(P          R      mAP50  mAP50-95): 100%|██████████| 34/34 [00:07"
     ]
    },
    {
     "name": "stdout",
     "output_type": "stream",
     "text": [
      "                   all        679       3388      0.963      0.904      0.965      0.641\n"
     ]
    },
    {
     "name": "stderr",
     "output_type": "stream",
     "text": [
      "\n"
     ]
    },
    {
     "name": "stdout",
     "output_type": "stream",
     "text": [
      "\n",
      "      Epoch    GPU_mem   box_loss   cls_loss   dfl_loss  Instances       Size\n"
     ]
    },
    {
     "name": "stderr",
     "output_type": "stream",
     "text": [
      "    269/300      2.82G      1.494     0.6653      1.845         42        640: 100%|██████████| 204/204 [00:50<00:00,  \n",
      "                 Class     Images  Instances      Box(P          R      mAP50  mAP50-95): 100%|██████████| 34/34 [00:07"
     ]
    },
    {
     "name": "stdout",
     "output_type": "stream",
     "text": [
      "                   all        679       3388       0.96      0.905      0.965      0.642\n"
     ]
    },
    {
     "name": "stderr",
     "output_type": "stream",
     "text": [
      "\n"
     ]
    },
    {
     "name": "stdout",
     "output_type": "stream",
     "text": [
      "\n",
      "      Epoch    GPU_mem   box_loss   cls_loss   dfl_loss  Instances       Size\n"
     ]
    },
    {
     "name": "stderr",
     "output_type": "stream",
     "text": [
      "    270/300      2.83G      1.486     0.6528      1.845         74        640: 100%|██████████| 204/204 [00:50<00:00,  \n",
      "                 Class     Images  Instances      Box(P          R      mAP50  mAP50-95): 100%|██████████| 34/34 [00:07"
     ]
    },
    {
     "name": "stdout",
     "output_type": "stream",
     "text": [
      "                   all        679       3388      0.947      0.916      0.965      0.641\n"
     ]
    },
    {
     "name": "stderr",
     "output_type": "stream",
     "text": [
      "\n"
     ]
    },
    {
     "name": "stdout",
     "output_type": "stream",
     "text": [
      "\n",
      "      Epoch    GPU_mem   box_loss   cls_loss   dfl_loss  Instances       Size\n"
     ]
    },
    {
     "name": "stderr",
     "output_type": "stream",
     "text": [
      "    271/300      2.76G      1.484     0.6483       1.83         45        640: 100%|██████████| 204/204 [00:50<00:00,  \n",
      "                 Class     Images  Instances      Box(P          R      mAP50  mAP50-95): 100%|██████████| 34/34 [00:07"
     ]
    },
    {
     "name": "stdout",
     "output_type": "stream",
     "text": [
      "                   all        679       3388      0.951      0.912      0.965      0.641\n"
     ]
    },
    {
     "name": "stderr",
     "output_type": "stream",
     "text": [
      "\n"
     ]
    },
    {
     "name": "stdout",
     "output_type": "stream",
     "text": [
      "\n",
      "      Epoch    GPU_mem   box_loss   cls_loss   dfl_loss  Instances       Size\n"
     ]
    },
    {
     "name": "stderr",
     "output_type": "stream",
     "text": [
      "    272/300      2.77G       1.48     0.6544       1.85         46        640: 100%|██████████| 204/204 [00:50<00:00,  \n",
      "                 Class     Images  Instances      Box(P          R      mAP50  mAP50-95): 100%|██████████| 34/34 [00:07"
     ]
    },
    {
     "name": "stdout",
     "output_type": "stream",
     "text": [
      "                   all        679       3388      0.949      0.915      0.964      0.641\n"
     ]
    },
    {
     "name": "stderr",
     "output_type": "stream",
     "text": [
      "\n"
     ]
    },
    {
     "name": "stdout",
     "output_type": "stream",
     "text": [
      "\n",
      "      Epoch    GPU_mem   box_loss   cls_loss   dfl_loss  Instances       Size\n"
     ]
    },
    {
     "name": "stderr",
     "output_type": "stream",
     "text": [
      "    273/300      2.78G      1.486     0.6514      1.838         36        640: 100%|██████████| 204/204 [00:50<00:00,  \n",
      "                 Class     Images  Instances      Box(P          R      mAP50  mAP50-95): 100%|██████████| 34/34 [00:07"
     ]
    },
    {
     "name": "stdout",
     "output_type": "stream",
     "text": [
      "                   all        679       3388      0.952       0.91      0.964      0.641\n"
     ]
    },
    {
     "name": "stderr",
     "output_type": "stream",
     "text": [
      "\n"
     ]
    },
    {
     "name": "stdout",
     "output_type": "stream",
     "text": [
      "\n",
      "      Epoch    GPU_mem   box_loss   cls_loss   dfl_loss  Instances       Size\n"
     ]
    },
    {
     "name": "stderr",
     "output_type": "stream",
     "text": [
      "    274/300      2.78G      1.489     0.6501       1.84         63        640: 100%|██████████| 204/204 [00:50<00:00,  \n",
      "                 Class     Images  Instances      Box(P          R      mAP50  mAP50-95): 100%|██████████| 34/34 [00:07"
     ]
    },
    {
     "name": "stdout",
     "output_type": "stream",
     "text": [
      "                   all        679       3388      0.947      0.914      0.965      0.641\n"
     ]
    },
    {
     "name": "stderr",
     "output_type": "stream",
     "text": [
      "\n"
     ]
    },
    {
     "name": "stdout",
     "output_type": "stream",
     "text": [
      "\n",
      "      Epoch    GPU_mem   box_loss   cls_loss   dfl_loss  Instances       Size\n"
     ]
    },
    {
     "name": "stderr",
     "output_type": "stream",
     "text": [
      "    275/300       2.9G      1.471     0.6444      1.833         54        640: 100%|██████████| 204/204 [00:50<00:00,  \n",
      "                 Class     Images  Instances      Box(P          R      mAP50  mAP50-95): 100%|██████████| 34/34 [00:07"
     ]
    },
    {
     "name": "stdout",
     "output_type": "stream",
     "text": [
      "                   all        679       3388      0.951      0.911      0.965      0.641\n"
     ]
    },
    {
     "name": "stderr",
     "output_type": "stream",
     "text": [
      "\n"
     ]
    },
    {
     "name": "stdout",
     "output_type": "stream",
     "text": [
      "\n",
      "      Epoch    GPU_mem   box_loss   cls_loss   dfl_loss  Instances       Size\n"
     ]
    },
    {
     "name": "stderr",
     "output_type": "stream",
     "text": [
      "    276/300      2.77G      1.482      0.647       1.83         68        640: 100%|██████████| 204/204 [00:50<00:00,  \n",
      "                 Class     Images  Instances      Box(P          R      mAP50  mAP50-95): 100%|██████████| 34/34 [00:07"
     ]
    },
    {
     "name": "stdout",
     "output_type": "stream",
     "text": [
      "                   all        679       3388      0.954      0.912      0.965      0.641\n"
     ]
    },
    {
     "name": "stderr",
     "output_type": "stream",
     "text": [
      "\n"
     ]
    },
    {
     "name": "stdout",
     "output_type": "stream",
     "text": [
      "\n",
      "      Epoch    GPU_mem   box_loss   cls_loss   dfl_loss  Instances       Size\n"
     ]
    },
    {
     "name": "stderr",
     "output_type": "stream",
     "text": [
      "    277/300      2.76G      1.469     0.6444      1.827         45        640: 100%|██████████| 204/204 [00:50<00:00,  \n",
      "                 Class     Images  Instances      Box(P          R      mAP50  mAP50-95): 100%|██████████| 34/34 [00:07"
     ]
    },
    {
     "name": "stdout",
     "output_type": "stream",
     "text": [
      "                   all        679       3388      0.955      0.911      0.965      0.641\n"
     ]
    },
    {
     "name": "stderr",
     "output_type": "stream",
     "text": [
      "\n"
     ]
    },
    {
     "name": "stdout",
     "output_type": "stream",
     "text": [
      "\n",
      "      Epoch    GPU_mem   box_loss   cls_loss   dfl_loss  Instances       Size\n"
     ]
    },
    {
     "name": "stderr",
     "output_type": "stream",
     "text": [
      "    278/300      2.84G      1.466     0.6456      1.832         46        640: 100%|██████████| 204/204 [00:50<00:00,  \n",
      "                 Class     Images  Instances      Box(P          R      mAP50  mAP50-95): 100%|██████████| 34/34 [00:07"
     ]
    },
    {
     "name": "stdout",
     "output_type": "stream",
     "text": [
      "                   all        679       3388       0.96      0.907      0.966      0.642\n"
     ]
    },
    {
     "name": "stderr",
     "output_type": "stream",
     "text": [
      "\n"
     ]
    },
    {
     "name": "stdout",
     "output_type": "stream",
     "text": [
      "\n",
      "      Epoch    GPU_mem   box_loss   cls_loss   dfl_loss  Instances       Size\n"
     ]
    },
    {
     "name": "stderr",
     "output_type": "stream",
     "text": [
      "    279/300      2.78G      1.465      0.651      1.839         46        640: 100%|██████████| 204/204 [00:50<00:00,  \n",
      "                 Class     Images  Instances      Box(P          R      mAP50  mAP50-95): 100%|██████████| 34/34 [00:07"
     ]
    },
    {
     "name": "stdout",
     "output_type": "stream",
     "text": [
      "                   all        679       3388      0.958       0.91      0.966      0.642\n"
     ]
    },
    {
     "name": "stderr",
     "output_type": "stream",
     "text": [
      "\n"
     ]
    },
    {
     "name": "stdout",
     "output_type": "stream",
     "text": [
      "\n",
      "      Epoch    GPU_mem   box_loss   cls_loss   dfl_loss  Instances       Size\n"
     ]
    },
    {
     "name": "stderr",
     "output_type": "stream",
     "text": [
      "    280/300      2.81G      1.473     0.6431      1.832         49        640: 100%|██████████| 204/204 [00:50<00:00,  \n",
      "                 Class     Images  Instances      Box(P          R      mAP50  mAP50-95): 100%|██████████| 34/34 [00:07"
     ]
    },
    {
     "name": "stdout",
     "output_type": "stream",
     "text": [
      "                   all        679       3388      0.959       0.91      0.965      0.642\n"
     ]
    },
    {
     "name": "stderr",
     "output_type": "stream",
     "text": [
      "\n"
     ]
    },
    {
     "name": "stdout",
     "output_type": "stream",
     "text": [
      "\n",
      "      Epoch    GPU_mem   box_loss   cls_loss   dfl_loss  Instances       Size\n"
     ]
    },
    {
     "name": "stderr",
     "output_type": "stream",
     "text": [
      "    281/300      2.76G      1.475     0.6487      1.834         63        640: 100%|██████████| 204/204 [00:50<00:00,  \n",
      "                 Class     Images  Instances      Box(P          R      mAP50  mAP50-95): 100%|██████████| 34/34 [00:07"
     ]
    },
    {
     "name": "stdout",
     "output_type": "stream",
     "text": [
      "                   all        679       3388      0.955      0.911      0.965      0.642\n"
     ]
    },
    {
     "name": "stderr",
     "output_type": "stream",
     "text": [
      "\n"
     ]
    },
    {
     "name": "stdout",
     "output_type": "stream",
     "text": [
      "\n",
      "      Epoch    GPU_mem   box_loss   cls_loss   dfl_loss  Instances       Size\n"
     ]
    },
    {
     "name": "stderr",
     "output_type": "stream",
     "text": [
      "    282/300      2.88G      1.469     0.6433      1.835         37        640: 100%|██████████| 204/204 [00:50<00:00,  \n",
      "                 Class     Images  Instances      Box(P          R      mAP50  mAP50-95): 100%|██████████| 34/34 [00:07"
     ]
    },
    {
     "name": "stdout",
     "output_type": "stream",
     "text": [
      "                   all        679       3388      0.953      0.914      0.966      0.642\n"
     ]
    },
    {
     "name": "stderr",
     "output_type": "stream",
     "text": [
      "\n"
     ]
    },
    {
     "name": "stdout",
     "output_type": "stream",
     "text": [
      "\n",
      "      Epoch    GPU_mem   box_loss   cls_loss   dfl_loss  Instances       Size\n"
     ]
    },
    {
     "name": "stderr",
     "output_type": "stream",
     "text": [
      "    283/300      2.75G      1.485     0.6555      1.843         45        640: 100%|██████████| 204/204 [00:50<00:00,  \n",
      "                 Class     Images  Instances      Box(P          R      mAP50  mAP50-95): 100%|██████████| 34/34 [00:07"
     ]
    },
    {
     "name": "stdout",
     "output_type": "stream",
     "text": [
      "                   all        679       3388      0.953      0.914      0.966      0.641\n",
      "\u001b[34m\u001b[1mEarlyStopping: \u001b[0mTraining stopped early as no improvement observed in last 50 epochs. Best results observed at epoch 233, best model saved as best.pt.\n",
      "To update EarlyStopping(patience=50) pass a new patience value, i.e. `patience=300` or use `patience=0` to disable EarlyStopping.\n"
     ]
    },
    {
     "name": "stderr",
     "output_type": "stream",
     "text": [
      "\n"
     ]
    },
    {
     "name": "stdout",
     "output_type": "stream",
     "text": [
      "\n",
      "283 epochs completed in 4.682 hours.\n",
      "Optimizer stripped from runs\\detect\\dataset-v2-finetune-1\\weights\\last.pt, 33.5MB\n",
      "Optimizer stripped from runs\\detect\\dataset-v2-finetune-1\\weights\\best.pt, 33.5MB\n",
      "\n",
      "Validating runs\\detect\\dataset-v2-finetune-1\\weights\\best.pt...\n",
      "Ultralytics 8.3.82  Python-3.11.11 torch-2.5.1 CUDA:0 (NVIDIA GeForce RTX 3060, 12288MiB)\n",
      "YOLOv10m summary (fused): 159 layers, 16,455,016 parameters, 0 gradients, 63.4 GFLOPs\n"
     ]
    },
    {
     "name": "stderr",
     "output_type": "stream",
     "text": [
      "                 Class     Images  Instances      Box(P          R      mAP50  mAP50-95): 100%|██████████| 34/34 [00:07\n"
     ]
    },
    {
     "name": "stdout",
     "output_type": "stream",
     "text": [
      "                   all        679       3388      0.949      0.916      0.967      0.644\n",
      "            no_glasses        407        605      0.951      0.904      0.966      0.583\n",
      "             no_gloves        472       1207      0.935      0.892      0.945      0.617\n",
      "             no_helmet        449        760      0.953      0.938      0.973      0.635\n",
      "               no_vest        481        816      0.959      0.931      0.981      0.741\n",
      "Speed: 0.2ms preprocess, 5.9ms inference, 0.0ms loss, 0.4ms postprocess per image\n",
      "Results saved to \u001b[1mruns\\detect\\dataset-v2-finetune-1\u001b[0m\n",
      "Ultralytics 8.3.82  Python-3.11.11 torch-2.5.1 CPU (Intel Core(TM) i5-8400 2.80GHz)\n",
      "YOLOv10m summary (fused): 159 layers, 16,455,016 parameters, 0 gradients, 63.4 GFLOPs\n",
      "\n",
      "\u001b[34m\u001b[1mPyTorch:\u001b[0m starting from 'runs\\detect\\dataset-v2-finetune-1\\weights\\best.pt' with input shape (1, 3, 640, 640) BCHW and output shape(s) (1, 300, 6) (31.9 MB)\n",
      "\n",
      "\u001b[34m\u001b[1mTorchScript:\u001b[0m starting export with torch 2.5.1...\n",
      "\u001b[34m\u001b[1mTorchScript:\u001b[0m export success  4.4s, saved as 'runs\\detect\\dataset-v2-finetune-1\\weights\\best.torchscript' (63.6 MB)\n",
      "\n",
      "Export complete (5.7s)\n",
      "Results saved to \u001b[1mF:\\PRACA_MAGISTERSKA\\UCZENIE_MODELI\\yolov10m\\runs\\detect\\dataset-v2-finetune-1\\weights\u001b[0m\n",
      "Predict:         yolo predict task=detect model=runs\\detect\\dataset-v2-finetune-1\\weights\\best.torchscript imgsz=640  \n",
      "Validate:        yolo val task=detect model=runs\\detect\\dataset-v2-finetune-1\\weights\\best.torchscript imgsz=640 data=data.yaml  \n",
      "Visualize:       https://netron.app\n"
     ]
    }
   ],
   "source": [
    "torch.cuda.empty_cache()\n",
    "# Load a COCO-pretrained model\n",
    "model = YOLO('yolov10m.pt')\n",
    "\n",
    "# Display model information (optional)\n",
    "model.info()\n",
    "\n",
    "# Train the model (100 epochs)\n",
    "results = model.train(data='data.yaml', epochs=300, imgsz=640, device=0, patience=50, batch=-1, save_period=10, warmup_epochs=3.0, name='dataset-v2-finetune-1', freeze=10)\n",
    "#results = model.train(data='data.yaml', epochs=100, imgsz=640, device=0, patience=50, batch=16, save_period=10, warmup_epochs=2.3, optimizer=\"AdamW\", lr0=0.00012, lrf=0.00018, momentum=0.80197, warmup_momentum=0.83076)\n",
    "# Export the mode\n",
    "path = model.export(format=\"torchscript\")  # return path to exported model"
   ]
  },
  {
   "cell_type": "markdown",
   "id": "38bb2a6c-e9ac-4813-a1f6-0f797f3cac4e",
   "metadata": {},
   "source": [
    "Ewaluacja modelu"
   ]
  },
  {
   "cell_type": "code",
   "execution_count": 3,
   "id": "ad9a3ca2-b49f-4423-9349-cc725be2fe3b",
   "metadata": {},
   "outputs": [
    {
     "name": "stdout",
     "output_type": "stream",
     "text": [
      "Ultralytics 8.3.82  Python-3.11.11 torch-2.5.1 CUDA:0 (NVIDIA GeForce RTX 3060, 12288MiB)\n",
      "YOLOv10m summary (fused): 159 layers, 16,455,016 parameters, 0 gradients, 63.4 GFLOPs\n"
     ]
    },
    {
     "name": "stderr",
     "output_type": "stream",
     "text": [
      "\u001b[34m\u001b[1mval: \u001b[0mScanning F:\\PRACA_MAGISTERSKA\\DATASETS\\MAGISTERKA-V2\\labels\\val.cache... 679 images, 154 backgrounds, 0 corrupt: 1\u001b[0m\n",
      "                 Class     Images  Instances      Box(P          R      mAP50  mAP50-95): 100%|██████████| 43/43 [00:11\n"
     ]
    },
    {
     "name": "stdout",
     "output_type": "stream",
     "text": [
      "                   all        679       3388      0.939      0.917      0.964      0.638\n",
      "            no_glasses        407        605      0.937      0.894      0.962      0.581\n",
      "             no_gloves        472       1207      0.921      0.891      0.935      0.604\n",
      "             no_helmet        449        760      0.939      0.946      0.978      0.635\n",
      "               no_vest        481        816      0.959      0.938      0.982      0.731\n",
      "Speed: 0.2ms preprocess, 10.9ms inference, 0.0ms loss, 0.2ms postprocess per image\n",
      "Results saved to \u001b[1mruns\\detect\\val9\u001b[0m\n"
     ]
    },
    {
     "data": {
      "text/plain": [
       "array([    0.58052,     0.60434,     0.63542,     0.73117])"
      ]
     },
     "execution_count": 3,
     "metadata": {},
     "output_type": "execute_result"
    }
   ],
   "source": [
    "torch.cuda.empty_cache()\n",
    "# Load a model\n",
    "model = YOLO('runs/detect/dataset-v2-finetune-1/weights/epoch110.pt')\n",
    "\n",
    "# Validate a model\n",
    "metrics = model.val(iou=0.6)   # no arguments needed, dataset and settings remembered\n",
    "metrics.box.map         # map50-95\n",
    "metrics.box.map50       # map50\n",
    "metrics.box.map75       # map75\n",
    "metrics.box.maps        # a list contains map50-95 of each category"
   ]
  },
  {
   "cell_type": "code",
   "execution_count": 4,
   "id": "cf13ac63-5b52-41c3-8c62-f0e098337b0d",
   "metadata": {},
   "outputs": [],
   "source": [
    "import numpy as np\n",
    "import matplotlib.pyplot as plt\n",
    "%matplotlib inline"
   ]
  },
  {
   "cell_type": "code",
   "execution_count": 7,
   "id": "fcb3dfc1-a238-455a-9228-698a8b8b97b2",
   "metadata": {},
   "outputs": [
    {
     "data": {
      "text/plain": [
       "np.float64(0.9277739118913408)"
      ]
     },
     "execution_count": 7,
     "metadata": {},
     "output_type": "execute_result"
    }
   ],
   "source": [
    "np.mean(metrics.box.f1)"
   ]
  },
  {
   "cell_type": "code",
   "execution_count": 8,
   "id": "5ceae953-e59a-4ebf-b7fb-ffdf7615868f",
   "metadata": {},
   "outputs": [
    {
     "data": {
      "text/plain": [
       "array([    0.91491,      0.9055,     0.94243,     0.94825])"
      ]
     },
     "execution_count": 8,
     "metadata": {},
     "output_type": "execute_result"
    }
   ],
   "source": [
    "metrics.box.f1"
   ]
  },
  {
   "cell_type": "code",
   "execution_count": 9,
   "id": "4b310cb9-b768-4e47-8f52-c611932a3817",
   "metadata": {},
   "outputs": [
    {
     "data": {
      "text/plain": [
       "10.299779823257914"
      ]
     },
     "execution_count": 9,
     "metadata": {},
     "output_type": "execute_result"
    }
   ],
   "source": [
    "metrics.speed['inference']"
   ]
  },
  {
   "cell_type": "code",
   "execution_count": 5,
   "id": "7a17f3a8-e1db-4d44-97ed-4749d00ebdd4",
   "metadata": {},
   "outputs": [],
   "source": [
    "import numpy as np\n",
    "import matplotlib.pyplot as plt\n",
    "import seaborn as sn\n",
    "import warnings\n",
    "\n",
    "def plot_confusion_matrix(matrix, normalize=True, names=()):\n",
    "    \"\"\"\n",
    "    Plot the confusion matrix using seaborn.\n",
    "    należy dwukrotnie wywołać funkcję aby zwiększył się rozmiar opisów\n",
    "\n",
    "    Args:\n",
    "        matrix (np.ndarray): Macierz pomyłek (np. metrics.confusion_matrix.matrix)\n",
    "        normalize (bool, optional): Czy normalizować macierz. Default: True\n",
    "        names (tuple, optional): Nazwy klas, używane jako etykiety na wykresie.\n",
    "    \"\"\"\n",
    "    array = matrix / ((matrix.sum(0).reshape(1, -1) + 1e-9) if normalize else 1)  # normalizacja kolumn\n",
    "    array[array < 0.005] = np.nan  # nie pokazuj wartości poniżej 0.005 (będzie pusty)\n",
    "\n",
    "    fig, ax = plt.subplots(1, 1, figsize=(12, 9), tight_layout=True)\n",
    "    nc = metrics.confusion_matrix.nc\n",
    "    nn = len(names)  # liczba nazw\n",
    "    sn.set(font_scale=1.5 if nc < 50 else 0.8)  # rozmiar czcionki\n",
    "    labels = (0 < nn < 99) and (nn == nc)  # czy zastosować nazwy jako etykiety\n",
    "    ticklabels = (list(names.values()) + [\"background\"]) if labels else \"auto\"\n",
    "    with warnings.catch_warnings():\n",
    "        warnings.simplefilter(\"ignore\")  # ignoruj ostrzeżenia o pustej macierzy\n",
    "        sn.heatmap(\n",
    "            array,\n",
    "            ax=ax,\n",
    "            annot=nc < 30,\n",
    "            annot_kws={\"size\": 18},\n",
    "            cmap=\"Blues\",\n",
    "            fmt=\".2f\" if normalize else \".0f\",\n",
    "            square=True,\n",
    "            vmin=0.0,\n",
    "            xticklabels=ticklabels,\n",
    "            yticklabels=ticklabels,\n",
    "        ).set_facecolor((1, 1, 1))\n",
    "    title = \"Confusion Matrix\" + (\" Normalized\" if normalize else \"\")\n",
    "    ax.set_xlabel(\"True\")\n",
    "    ax.set_ylabel(\"Predicted\")\n",
    "    ax.set_title(title)\n",
    "    plt.show()"
   ]
  },
  {
   "cell_type": "code",
   "execution_count": 6,
   "id": "c5441041-1f74-4227-83c2-9f715200300a",
   "metadata": {},
   "outputs": [],
   "source": [
    "def plot_mc_curve(px, py, names=(), xlabel=\"Confidence\", ylabel=\"Metric\"):\n",
    "    \"\"\"Plots a metric-confidence curve.\"\"\"\n",
    "    fig, ax = plt.subplots(1, 1, figsize=(9, 6), tight_layout=True)\n",
    "\n",
    "    if 0 < len(names) < 21:  # display per-class legend if < 21 classes\n",
    "        for i, y in enumerate(py):\n",
    "            ax.plot(px, y, linewidth=1, label=f\"{names[i]}\")  # plot(confidence, metric)\n",
    "    else:\n",
    "        ax.plot(px, py.T, linewidth=1, color=\"grey\")  # plot(confidence, metric)\n",
    "\n",
    "    y = smooth(py.mean(0), 0.05)\n",
    "    ax.plot(px, y, linewidth=3, color=\"blue\", label=f\"all classes, best Confidence {y.max():.2f} at {px[y.argmax()]:.3f}\")\n",
    "    ax.set_xlabel(xlabel, fontsize=17)\n",
    "    ax.set_ylabel(ylabel, fontsize=17)\n",
    "    ax.set_xlim(0, 1)\n",
    "    ax.set_ylim(0, 1)\n",
    "    ax.grid(True)\n",
    "    ax.legend(fontsize=17)\n",
    "    plt.xticks(fontsize=15)\n",
    "    plt.yticks(fontsize=15)\n",
    "    ax.set_title(f\"{ylabel}-Confidence Curve\", fontsize=18)\n",
    "    plt.show()"
   ]
  },
  {
   "cell_type": "code",
   "execution_count": 7,
   "id": "3826352d-ce5c-4a93-ac20-49a1ef5c0117",
   "metadata": {},
   "outputs": [],
   "source": [
    "def plot_pr_curve(px, py, ap, names=()):\n",
    "    \"\"\"Plots a precision-recall curve.\"\"\"\n",
    "    fig, ax = plt.subplots(1, 1, figsize=(9, 6), tight_layout=True)\n",
    "    py = np.stack(py, axis=1)  # shape (len(px), num_classes)\n",
    "    ap = np.array(ap).flatten()  # zapewnia 1D\n",
    "\n",
    "    if 0 < len(names) < 21:\n",
    "        for i, y in enumerate(py.T):\n",
    "            ax.plot(px, y, linewidth=1, label=f\"{names[i]} {ap[i]:.3f}\")\n",
    "    else:\n",
    "        ax.plot(px, py, linewidth=1, color=\"grey\")\n",
    "\n",
    "    ax.plot(px, py.mean(1), linewidth=3, color=\"blue\", label=f\"all classes {ap.mean():.3f} mAP@0.5\")\n",
    "    ax.set_xlabel(\"Recall\", fontsize=17)\n",
    "    ax.set_ylabel(\"Precision\", fontsize=17)\n",
    "    ax.set_xlim(0, 1)\n",
    "    ax.set_ylim(0, 1)\n",
    "    ax.legend(loc='lower left', fontsize=17)\n",
    "    plt.xticks(fontsize=15)\n",
    "    plt.yticks(fontsize=15)\n",
    "    ax.grid(True)\n",
    "    ax.set_title(\"Precision-Recall Curve\", fontsize=18)\n",
    "    plt.show()"
   ]
  },
  {
   "cell_type": "code",
   "execution_count": 8,
   "id": "35ae0f8c-f357-4a07-aa36-cac356babc2a",
   "metadata": {},
   "outputs": [],
   "source": [
    "def smooth(y, f=0.05):\n",
    "    \"\"\"Box filter of fraction f.\"\"\"\n",
    "    nf = round(len(y) * f * 2) // 2 + 1  # number of filter elements (must be odd)\n",
    "    p = np.ones(nf // 2)  # ones padding\n",
    "    yp = np.concatenate((p * y[0], y, p * y[-1]), 0)  # y padded\n",
    "    return np.convolve(yp, np.ones(nf) / nf, mode=\"valid\")  # y-smoothed"
   ]
  },
  {
   "cell_type": "code",
   "execution_count": 9,
   "id": "504d75bd-2468-40a9-965e-c4b88cc7311e",
   "metadata": {},
   "outputs": [
    {
     "data": {
      "image/png": "[encoded data removed]",
      "text/plain": [
       "<Figure size 900x600 with 1 Axes>"
      ]
     },
     "metadata": {},
     "output_type": "display_data"
    }
   ],
   "source": [
    "x, prec_values = np.linspace(0, 1, 1000), []\n",
    "\n",
    "f1_curve = metrics.box.f1_curve\n",
    "metrics.names\n",
    "plot_mc_curve(x, f1_curve, metrics.names, ylabel=\"F1\")"
   ]
  },
  {
   "cell_type": "code",
   "execution_count": 10,
   "id": "6ab0bb76-28ff-4ad8-866b-634483405bce",
   "metadata": {},
   "outputs": [
    {
     "data": {
      "image/png": "[encoded data removed]",
      "text/plain": [
       "<Figure size 900x600 with 1 Axes>"
      ]
     },
     "metadata": {},
     "output_type": "display_data"
    }
   ],
   "source": [
    "plot_mc_curve(x, metrics.box.r_curve, metrics.names, ylabel=\"Recall\")"
   ]
  },
  {
   "cell_type": "code",
   "execution_count": 11,
   "id": "77abd07a-8d9d-4521-8765-8aedb1772fc5",
   "metadata": {},
   "outputs": [
    {
     "data": {
      "image/png": "[encoded data removed]",
      "text/plain": [
       "<Figure size 900x600 with 1 Axes>"
      ]
     },
     "metadata": {},
     "output_type": "display_data"
    }
   ],
   "source": [
    "plot_mc_curve(x, metrics.box.p_curve, metrics.names, ylabel=\"Precision\")"
   ]
  },
  {
   "cell_type": "code",
   "execution_count": 12,
   "id": "c480740a-249f-49ae-9b5f-ef53b5be1aa0",
   "metadata": {},
   "outputs": [
    {
     "data": {
      "image/png": "[encoded data removed]",
      "text/plain": [
       "<Figure size 900x600 with 1 Axes>"
      ]
     },
     "metadata": {},
     "output_type": "display_data"
    }
   ],
   "source": [
    "plot_pr_curve(x, metrics.box.prec_values, metrics.box.ap, metrics.names)"
   ]
  },
  {
   "cell_type": "code",
   "execution_count": 8,
   "id": "6e16488b-6bdd-4f77-bab0-5981e863062a",
   "metadata": {},
   "outputs": [
    {
     "data": {
      "image/png": "[encoded data removed]",
      "text/plain": [
       "<Figure size 1200x900 with 2 Axes>"
      ]
     },
     "metadata": {},
     "output_type": "display_data"
    }
   ],
   "source": [
    "plot_confusion_matrix(metrics.confusion_matrix.matrix, normalize=False, names=metrics.names)"
   ]
  },
  {
   "cell_type": "code",
   "execution_count": null,
   "id": "1172c4be-f514-492a-8d12-114c8f8a8349",
   "metadata": {},
   "outputs": [],
   "source": []
  },
  {
   "cell_type": "markdown",
   "id": "7e7dfdab-fcf7-4df3-93d9-f7e20c90a075",
   "metadata": {},
   "source": [
    "Predykcja"
   ]
  },
  {
   "cell_type": "code",
   "execution_count": 6,
   "id": "b8614e61-cf9a-412d-986b-3211d78d23d8",
   "metadata": {},
   "outputs": [
    {
     "name": "stdout",
     "output_type": "stream",
     "text": [
      "\n",
      "image 1/3 f:\\PRACA_MAGISTERSKA\\DATASETS\\PREDYKCJA\\images\\spacer-seniora1-2048x1362.jpg: 448x640 2 no_glassess, 5 no_glovess, 2 no_helmets, 2 no_vests, 100.6ms\n",
      "image 2/3 f:\\PRACA_MAGISTERSKA\\DATASETS\\PREDYKCJA\\images\\stock-photo-human-resource-team-talking-to-a-candidate-during-a-job-interview-in-the-office-2316131879.jpg: 480x640 3 no_glassess, 7 no_glovess, 4 no_helmets, 6 no_vests, 89.6ms\n",
      "image 3/3 f:\\PRACA_MAGISTERSKA\\DATASETS\\PREDYKCJA\\images\\stock-photo-human-resources-commission-interviewing-male-applicant-in-office-2409886423.jpg: 480x640 4 no_glassess, 3 no_glovess, 4 no_helmets, 5 no_vests, 42.3ms\n",
      "Speed: 3.1ms preprocess, 77.5ms inference, 0.8ms postprocess per image at shape (1, 3, 480, 640)\n"
     ]
    }
   ],
   "source": [
    "# Load a model\n",
    "model = YOLO('runs/detect/dataset-v2-finetune-1/weights/best.pt')\n",
    "\n",
    "# Define path to directory containing images and videos for inference\n",
    "source = '/PRACA_MAGISTERSKA/DATASETS/PREDYKCJA/images'\n",
    "\n",
    "# Run inference on the source\n",
    "results = model(source)  # generator of Results objects\n",
    "\n",
    "predictions = 'predictions/'\n",
    "if not os.path.exists(predictions):\n",
    "  os.mkdir(predictions)\n",
    "\n",
    "# Process results list\n",
    "for id, result in enumerate(results, 1):\n",
    "    boxes = result.boxes          # Boxes object for bounding box outputs\n",
    "    masks = result.masks          # Masks object for segmentation masks outputs\n",
    "    keypoints = result.keypoints  # Keypoints object for pose outputs\n",
    "    probs = result.probs          # Probs object for classification outputs\n",
    "    obb = result.obb              # Oriented boxes object for OBB outputs\n",
    "    result.show()                 # Display to screen\n",
    "    result.save(filename= predictions + 'result_' + str(id) + '.jpg')  # Save to disk"
   ]
  },
  {
   "cell_type": "code",
   "execution_count": 10,
   "id": "7d0a1bc7-8164-4d0e-bca9-cbcd18f1dfff",
   "metadata": {},
   "outputs": [
    {
     "name": "stdout",
     "output_type": "stream",
     "text": [
      "\n",
      "image 1/6 f:\\PRACA_MAGISTERSKA\\DATASETS\\PREDYKCJA\\images\\spacer-seniora1-2048x1362.jpg: 448x640 2 no_glassess, 4 no_glovess, 2 no_helmets, 2 no_vests, 80.4ms\n",
      "image 2/6 f:\\PRACA_MAGISTERSKA\\DATASETS\\PREDYKCJA\\images\\stock-photo-engineers-railway-survey-wearing-safety-uniform-under-conversation-document-and-tablet-on-hand-2468533629.jpg: 480x640 (no detections), 91.3ms\n",
      "image 3/6 f:\\PRACA_MAGISTERSKA\\DATASETS\\PREDYKCJA\\images\\stock-photo-human-resource-team-talking-to-a-candidate-during-a-job-interview-in-the-office-2316131879.jpg: 480x640 3 no_glassess, 6 no_glovess, 4 no_helmets, 5 no_vests, 21.8ms\n",
      "image 4/6 f:\\PRACA_MAGISTERSKA\\DATASETS\\PREDYKCJA\\images\\stock-photo-human-resources-commission-interviewing-male-applicant-in-office-2409886423.jpg: 480x640 3 no_glassess, 3 no_glovess, 4 no_helmets, 5 no_vests, 26.0ms\n",
      "image 5/6 f:\\PRACA_MAGISTERSKA\\DATASETS\\PREDYKCJA\\images\\stock-photo-latin-woman-with-curly-hair-wearing-a-hard-hat-and-reflective-vest-stands-confidently-in-a-city-2576103397.jpg: 480x640 1 no_glasses, 1 no_gloves, 25.7ms\n",
      "image 6/6 f:\\PRACA_MAGISTERSKA\\DATASETS\\PREDYKCJA\\images\\stock-photo-pouring-cement-or-concrete-with-a-concrete-mixer-truck-construction-site-with-a-reinforced-2143145861.jpg: 480x640 2 no_glovess, 3 no_vests, 21.8ms\n",
      "Speed: 2.7ms preprocess, 44.5ms inference, 1.0ms postprocess per image at shape (1, 3, 480, 640)\n",
      "Results saved to \u001b[1mruns\\detect\\predict11\u001b[0m\n"
     ]
    }
   ],
   "source": [
    "model = YOLO('runs/detect/dataset-v2-finetune-1/weights/epoch110.pt')\n",
    "results = model.predict(source='/PRACA_MAGISTERSKA/DATASETS/PREDYKCJA/images', show_conf=False, show_labels=False, device=0, save=True, conf=0.364)"
   ]
  },
  {
   "cell_type": "code",
   "execution_count": 4,
   "id": "04f32adf-57b0-42fc-934c-ee7d89f52c28",
   "metadata": {},
   "outputs": [],
   "source": [
    "import time\n",
    "import numpy as np"
   ]
  },
  {
   "cell_type": "code",
   "execution_count": 16,
   "id": "746b1f71-6311-45a9-926a-171e7f9d65ac",
   "metadata": {
    "scrolled": true
   },
   "outputs": [
    {
     "name": "stdout",
     "output_type": "stream",
     "text": [
      "\n",
      "\n",
      "WARNING  inference results will accumulate in RAM unless `stream=True` is passed, causing potential out-of-memory\n",
      "errors for large sources or long-running streams and videos. See https://docs.ultralytics.com/modes/predict/ for help.\n",
      "\n",
      "Example:\n",
      "    results = model(source=..., stream=True)  # generator of Results objects\n",
      "    for r in results:\n",
      "        boxes = r.boxes  # Boxes object for bbox outputs\n",
      "        masks = r.masks  # Masks object for segment masks outputs\n",
      "        probs = r.probs  # Class probabilities for classification outputs\n",
      "\n",
      "video 1/4 (frame 1/227) f:\\PRACA_MAGISTERSKA\\DATASETS\\PREDYKCJA\\videos\\las.webm: 352x640 3 no_glovess, 5 no_helmets, 4 no_vests, 9.1ms\n",
      "video 1/4 (frame 2/227) f:\\PRACA_MAGISTERSKA\\DATASETS\\PREDYKCJA\\videos\\las.webm: 352x640 3 no_glovess, 5 no_helmets, 4 no_vests, 9.1ms\n",
      "video 1/4 (frame 3/227) f:\\PRACA_MAGISTERSKA\\DATASETS\\PREDYKCJA\\videos\\las.webm: 352x640 1 no_glasses, 2 no_glovess, 5 no_helmets, 5 no_vests, 9.1ms\n",
      "video 1/4 (frame 4/227) f:\\PRACA_MAGISTERSKA\\DATASETS\\PREDYKCJA\\videos\\las.webm: 352x640 1 no_gloves, 5 no_helmets, 5 no_vests, 9.1ms\n",
      "video 1/4 (frame 5/227) f:\\PRACA_MAGISTERSKA\\DATASETS\\PREDYKCJA\\videos\\las.webm: 352x640 1 no_gloves, 5 no_helmets, 6 no_vests, 9.1ms\n",
      "video 1/4 (frame 6/227) f:\\PRACA_MAGISTERSKA\\DATASETS\\PREDYKCJA\\videos\\las.webm: 352x640 1 no_gloves, 5 no_helmets, 6 no_vests, 9.1ms\n",
      "video 1/4 (frame 7/227) f:\\PRACA_MAGISTERSKA\\DATASETS\\PREDYKCJA\\videos\\las.webm: 352x640 2 no_glassess, 1 no_gloves, 5 no_helmets, 6 no_vests, 9.1ms\n",
      "video 1/4 (frame 8/227) f:\\PRACA_MAGISTERSKA\\DATASETS\\PREDYKCJA\\videos\\las.webm: 352x640 1 no_glasses, 5 no_helmets, 5 no_vests, 9.1ms\n",
      "video 1/4 (frame 9/227) f:\\PRACA_MAGISTERSKA\\DATASETS\\PREDYKCJA\\videos\\las.webm: 352x640 2 no_glassess, 1 no_gloves, 5 no_helmets, 5 no_vests, 9.1ms\n",
      "video 1/4 (frame 10/227) f:\\PRACA_MAGISTERSKA\\DATASETS\\PREDYKCJA\\videos\\las.webm: 352x640 1 no_glasses, 5 no_helmets, 5 no_vests, 9.1ms\n",
      "video 1/4 (frame 11/227) f:\\PRACA_MAGISTERSKA\\DATASETS\\PREDYKCJA\\videos\\las.webm: 352x640 1 no_glasses, 5 no_helmets, 5 no_vests, 9.1ms\n",
      "video 1/4 (frame 12/227) f:\\PRACA_MAGISTERSKA\\DATASETS\\PREDYKCJA\\videos\\las.webm: 352x640 1 no_glasses, 5 no_helmets, 5 no_vests, 9.1ms\n",
      "video 1/4 (frame 13/227) f:\\PRACA_MAGISTERSKA\\DATASETS\\PREDYKCJA\\videos\\las.webm: 352x640 2 no_glassess, 5 no_helmets, 5 no_vests, 9.1ms\n",
      "video 1/4 (frame 14/227) f:\\PRACA_MAGISTERSKA\\DATASETS\\PREDYKCJA\\videos\\las.webm: 352x640 2 no_glassess, 5 no_helmets, 5 no_vests, 9.1ms\n",
      "video 1/4 (frame 15/227) f:\\PRACA_MAGISTERSKA\\DATASETS\\PREDYKCJA\\videos\\las.webm: 352x640 2 no_glassess, 5 no_helmets, 5 no_vests, 9.1ms\n",
      "video 1/4 (frame 16/227) f:\\PRACA_MAGISTERSKA\\DATASETS\\PREDYKCJA\\videos\\las.webm: 352x640 2 no_glassess, 5 no_helmets, 5 no_vests, 9.1ms\n",
      "video 1/4 (frame 17/227) f:\\PRACA_MAGISTERSKA\\DATASETS\\PREDYKCJA\\videos\\las.webm: 352x640 1 no_glasses, 2 no_glovess, 5 no_helmets, 5 no_vests, 9.1ms\n",
      "video 1/4 (frame 18/227) f:\\PRACA_MAGISTERSKA\\DATASETS\\PREDYKCJA\\videos\\las.webm: 352x640 1 no_glasses, 1 no_gloves, 5 no_helmets, 5 no_vests, 9.1ms\n",
      "video 1/4 (frame 19/227) f:\\PRACA_MAGISTERSKA\\DATASETS\\PREDYKCJA\\videos\\las.webm: 352x640 2 no_glassess, 1 no_gloves, 5 no_helmets, 5 no_vests, 9.1ms\n",
      "video 1/4 (frame 20/227) f:\\PRACA_MAGISTERSKA\\DATASETS\\PREDYKCJA\\videos\\las.webm: 352x640 1 no_glasses, 5 no_helmets, 6 no_vests, 9.1ms\n",
      "video 1/4 (frame 21/227) f:\\PRACA_MAGISTERSKA\\DATASETS\\PREDYKCJA\\videos\\las.webm: 352x640 2 no_glassess, 1 no_gloves, 5 no_helmets, 7 no_vests, 9.1ms\n",
      "video 1/4 (frame 22/227) f:\\PRACA_MAGISTERSKA\\DATASETS\\PREDYKCJA\\videos\\las.webm: 352x640 2 no_glassess, 2 no_glovess, 5 no_helmets, 7 no_vests, 9.1ms\n",
      "video 1/4 (frame 23/227) f:\\PRACA_MAGISTERSKA\\DATASETS\\PREDYKCJA\\videos\\las.webm: 352x640 2 no_glassess, 1 no_gloves, 5 no_helmets, 6 no_vests, 9.1ms\n",
      "video 1/4 (frame 24/227) f:\\PRACA_MAGISTERSKA\\DATASETS\\PREDYKCJA\\videos\\las.webm: 352x640 2 no_glassess, 1 no_gloves, 5 no_helmets, 6 no_vests, 9.1ms\n",
      "video 1/4 (frame 25/227) f:\\PRACA_MAGISTERSKA\\DATASETS\\PREDYKCJA\\videos\\las.webm: 352x640 1 no_glasses, 5 no_helmets, 6 no_vests, 9.1ms\n",
      "video 1/4 (frame 26/227) f:\\PRACA_MAGISTERSKA\\DATASETS\\PREDYKCJA\\videos\\las.webm: 352x640 1 no_glasses, 6 no_helmets, 6 no_vests, 9.1ms\n",
      "video 1/4 (frame 27/227) f:\\PRACA_MAGISTERSKA\\DATASETS\\PREDYKCJA\\videos\\las.webm: 352x640 1 no_glasses, 5 no_helmets, 6 no_vests, 9.1ms\n",
      "video 1/4 (frame 28/227) f:\\PRACA_MAGISTERSKA\\DATASETS\\PREDYKCJA\\videos\\las.webm: 352x640 2 no_glassess, 1 no_gloves, 5 no_helmets, 6 no_vests, 9.1ms\n",
      "video 1/4 (frame 29/227) f:\\PRACA_MAGISTERSKA\\DATASETS\\PREDYKCJA\\videos\\las.webm: 352x640 2 no_glassess, 1 no_gloves, 5 no_helmets, 5 no_vests, 9.1ms\n",
      "video 1/4 (frame 30/227) f:\\PRACA_MAGISTERSKA\\DATASETS\\PREDYKCJA\\videos\\las.webm: 352x640 2 no_glassess, 1 no_gloves, 5 no_helmets, 5 no_vests, 9.1ms\n",
      "video 1/4 (frame 31/227) f:\\PRACA_MAGISTERSKA\\DATASETS\\PREDYKCJA\\videos\\las.webm: 352x640 2 no_glassess, 1 no_gloves, 5 no_helmets, 5 no_vests, 9.1ms\n",
      "video 1/4 (frame 32/227) f:\\PRACA_MAGISTERSKA\\DATASETS\\PREDYKCJA\\videos\\las.webm: 352x640 2 no_glassess, 1 no_gloves, 5 no_helmets, 4 no_vests, 9.1ms\n",
      "video 1/4 (frame 33/227) f:\\PRACA_MAGISTERSKA\\DATASETS\\PREDYKCJA\\videos\\las.webm: 352x640 2 no_glassess, 1 no_gloves, 5 no_helmets, 4 no_vests, 9.1ms\n",
      "video 1/4 (frame 34/227) f:\\PRACA_MAGISTERSKA\\DATASETS\\PREDYKCJA\\videos\\las.webm: 352x640 2 no_glassess, 1 no_gloves, 5 no_helmets, 4 no_vests, 9.1ms\n",
      "video 1/4 (frame 35/227) f:\\PRACA_MAGISTERSKA\\DATASETS\\PREDYKCJA\\videos\\las.webm: 352x640 2 no_glassess, 1 no_gloves, 5 no_helmets, 3 no_vests, 9.1ms\n",
      "video 1/4 (frame 36/227) f:\\PRACA_MAGISTERSKA\\DATASETS\\PREDYKCJA\\videos\\las.webm: 352x640 2 no_glassess, 1 no_gloves, 5 no_helmets, 3 no_vests, 9.1ms\n",
      "video 1/4 (frame 37/227) f:\\PRACA_MAGISTERSKA\\DATASETS\\PREDYKCJA\\videos\\las.webm: 352x640 2 no_glassess, 1 no_gloves, 6 no_helmets, 3 no_vests, 9.1ms\n",
      "video 1/4 (frame 38/227) f:\\PRACA_MAGISTERSKA\\DATASETS\\PREDYKCJA\\videos\\las.webm: 352x640 1 no_glasses, 1 no_gloves, 6 no_helmets, 4 no_vests, 9.1ms\n",
      "video 1/4 (frame 39/227) f:\\PRACA_MAGISTERSKA\\DATASETS\\PREDYKCJA\\videos\\las.webm: 352x640 2 no_glassess, 1 no_gloves, 6 no_helmets, 4 no_vests, 9.1ms\n",
      "video 1/4 (frame 40/227) f:\\PRACA_MAGISTERSKA\\DATASETS\\PREDYKCJA\\videos\\las.webm: 352x640 2 no_glassess, 1 no_gloves, 6 no_helmets, 4 no_vests, 9.1ms\n",
      "video 1/4 (frame 41/227) f:\\PRACA_MAGISTERSKA\\DATASETS\\PREDYKCJA\\videos\\las.webm: 352x640 3 no_glassess, 1 no_gloves, 6 no_helmets, 4 no_vests, 9.1ms\n",
      "video 1/4 (frame 42/227) f:\\PRACA_MAGISTERSKA\\DATASETS\\PREDYKCJA\\videos\\las.webm: 352x640 3 no_glassess, 1 no_gloves, 6 no_helmets, 5 no_vests, 9.1ms\n",
      "video 1/4 (frame 43/227) f:\\PRACA_MAGISTERSKA\\DATASETS\\PREDYKCJA\\videos\\las.webm: 352x640 3 no_glassess, 2 no_glovess, 6 no_helmets, 5 no_vests, 9.1ms\n",
      "video 1/4 (frame 44/227) f:\\PRACA_MAGISTERSKA\\DATASETS\\PREDYKCJA\\videos\\las.webm: 352x640 3 no_glassess, 2 no_glovess, 6 no_helmets, 5 no_vests, 9.1ms\n",
      "video 1/4 (frame 45/227) f:\\PRACA_MAGISTERSKA\\DATASETS\\PREDYKCJA\\videos\\las.webm: 352x640 3 no_glassess, 2 no_glovess, 6 no_helmets, 5 no_vests, 9.1ms\n",
      "video 1/4 (frame 46/227) f:\\PRACA_MAGISTERSKA\\DATASETS\\PREDYKCJA\\videos\\las.webm: 352x640 2 no_glassess, 2 no_glovess, 6 no_helmets, 5 no_vests, 9.1ms\n",
      "video 1/4 (frame 47/227) f:\\PRACA_MAGISTERSKA\\DATASETS\\PREDYKCJA\\videos\\las.webm: 352x640 2 no_glassess, 2 no_glovess, 6 no_helmets, 5 no_vests, 9.1ms\n",
      "video 1/4 (frame 48/227) f:\\PRACA_MAGISTERSKA\\DATASETS\\PREDYKCJA\\videos\\las.webm: 352x640 2 no_glassess, 2 no_glovess, 6 no_helmets, 5 no_vests, 9.1ms\n",
      "video 1/4 (frame 49/227) f:\\PRACA_MAGISTERSKA\\DATASETS\\PREDYKCJA\\videos\\las.webm: 352x640 3 no_glassess, 2 no_glovess, 6 no_helmets, 5 no_vests, 9.1ms\n",
      "video 1/4 (frame 50/227) f:\\PRACA_MAGISTERSKA\\DATASETS\\PREDYKCJA\\videos\\las.webm: 352x640 3 no_glassess, 2 no_glovess, 6 no_helmets, 5 no_vests, 9.1ms\n",
      "video 1/4 (frame 51/227) f:\\PRACA_MAGISTERSKA\\DATASETS\\PREDYKCJA\\videos\\las.webm: 352x640 3 no_glassess, 2 no_glovess, 6 no_helmets, 4 no_vests, 9.1ms\n",
      "video 1/4 (frame 52/227) f:\\PRACA_MAGISTERSKA\\DATASETS\\PREDYKCJA\\videos\\las.webm: 352x640 2 no_glassess, 2 no_glovess, 6 no_helmets, 5 no_vests, 9.1ms\n",
      "video 1/4 (frame 53/227) f:\\PRACA_MAGISTERSKA\\DATASETS\\PREDYKCJA\\videos\\las.webm: 352x640 2 no_glassess, 2 no_glovess, 6 no_helmets, 4 no_vests, 9.1ms\n",
      "video 1/4 (frame 54/227) f:\\PRACA_MAGISTERSKA\\DATASETS\\PREDYKCJA\\videos\\las.webm: 352x640 2 no_glassess, 2 no_glovess, 5 no_helmets, 4 no_vests, 9.1ms\n",
      "video 1/4 (frame 55/227) f:\\PRACA_MAGISTERSKA\\DATASETS\\PREDYKCJA\\videos\\las.webm: 352x640 2 no_glassess, 1 no_gloves, 6 no_helmets, 4 no_vests, 9.1ms\n",
      "video 1/4 (frame 56/227) f:\\PRACA_MAGISTERSKA\\DATASETS\\PREDYKCJA\\videos\\las.webm: 352x640 2 no_glassess, 1 no_gloves, 6 no_helmets, 4 no_vests, 9.1ms\n",
      "video 1/4 (frame 57/227) f:\\PRACA_MAGISTERSKA\\DATASETS\\PREDYKCJA\\videos\\las.webm: 352x640 2 no_glassess, 4 no_glovess, 6 no_helmets, 4 no_vests, 9.1ms\n",
      "video 1/4 (frame 58/227) f:\\PRACA_MAGISTERSKA\\DATASETS\\PREDYKCJA\\videos\\las.webm: 352x640 3 no_glassess, 4 no_glovess, 6 no_helmets, 4 no_vests, 9.1ms\n",
      "video 1/4 (frame 59/227) f:\\PRACA_MAGISTERSKA\\DATASETS\\PREDYKCJA\\videos\\las.webm: 352x640 2 no_glassess, 5 no_glovess, 6 no_helmets, 4 no_vests, 9.1ms\n",
      "video 1/4 (frame 60/227) f:\\PRACA_MAGISTERSKA\\DATASETS\\PREDYKCJA\\videos\\las.webm: 352x640 2 no_glassess, 4 no_glovess, 6 no_helmets, 5 no_vests, 9.1ms\n",
      "video 1/4 (frame 61/227) f:\\PRACA_MAGISTERSKA\\DATASETS\\PREDYKCJA\\videos\\las.webm: 352x640 2 no_glassess, 3 no_glovess, 6 no_helmets, 5 no_vests, 9.1ms\n",
      "video 1/4 (frame 62/227) f:\\PRACA_MAGISTERSKA\\DATASETS\\PREDYKCJA\\videos\\las.webm: 352x640 2 no_glassess, 3 no_glovess, 6 no_helmets, 6 no_vests, 9.1ms\n",
      "video 1/4 (frame 63/227) f:\\PRACA_MAGISTERSKA\\DATASETS\\PREDYKCJA\\videos\\las.webm: 352x640 2 no_glassess, 3 no_glovess, 6 no_helmets, 4 no_vests, 9.1ms\n",
      "video 1/4 (frame 64/227) f:\\PRACA_MAGISTERSKA\\DATASETS\\PREDYKCJA\\videos\\las.webm: 352x640 2 no_glassess, 3 no_glovess, 7 no_helmets, 5 no_vests, 9.1ms\n",
      "video 1/4 (frame 65/227) f:\\PRACA_MAGISTERSKA\\DATASETS\\PREDYKCJA\\videos\\las.webm: 352x640 3 no_glassess, 2 no_glovess, 6 no_helmets, 5 no_vests, 6.9ms\n",
      "video 1/4 (frame 66/227) f:\\PRACA_MAGISTERSKA\\DATASETS\\PREDYKCJA\\videos\\las.webm: 352x640 3 no_glassess, 2 no_glovess, 6 no_helmets, 6 no_vests, 6.9ms\n",
      "video 1/4 (frame 67/227) f:\\PRACA_MAGISTERSKA\\DATASETS\\PREDYKCJA\\videos\\las.webm: 352x640 3 no_glassess, 2 no_glovess, 6 no_helmets, 6 no_vests, 6.9ms\n",
      "video 1/4 (frame 68/227) f:\\PRACA_MAGISTERSKA\\DATASETS\\PREDYKCJA\\videos\\las.webm: 352x640 3 no_glassess, 2 no_glovess, 6 no_helmets, 5 no_vests, 6.9ms\n",
      "video 1/4 (frame 69/227) f:\\PRACA_MAGISTERSKA\\DATASETS\\PREDYKCJA\\videos\\las.webm: 352x640 3 no_glassess, 2 no_glovess, 6 no_helmets, 4 no_vests, 6.9ms\n",
      "video 1/4 (frame 70/227) f:\\PRACA_MAGISTERSKA\\DATASETS\\PREDYKCJA\\videos\\las.webm: 352x640 3 no_glassess, 2 no_glovess, 6 no_helmets, 5 no_vests, 6.9ms\n",
      "video 1/4 (frame 71/227) f:\\PRACA_MAGISTERSKA\\DATASETS\\PREDYKCJA\\videos\\las.webm: 352x640 2 no_glassess, 4 no_glovess, 6 no_helmets, 5 no_vests, 6.9ms\n",
      "video 1/4 (frame 72/227) f:\\PRACA_MAGISTERSKA\\DATASETS\\PREDYKCJA\\videos\\las.webm: 352x640 2 no_glassess, 4 no_glovess, 6 no_helmets, 5 no_vests, 6.9ms\n",
      "video 1/4 (frame 73/227) f:\\PRACA_MAGISTERSKA\\DATASETS\\PREDYKCJA\\videos\\las.webm: 352x640 2 no_glassess, 4 no_glovess, 6 no_helmets, 5 no_vests, 6.9ms\n",
      "video 1/4 (frame 74/227) f:\\PRACA_MAGISTERSKA\\DATASETS\\PREDYKCJA\\videos\\las.webm: 352x640 2 no_glassess, 4 no_glovess, 6 no_helmets, 5 no_vests, 6.9ms\n",
      "video 1/4 (frame 75/227) f:\\PRACA_MAGISTERSKA\\DATASETS\\PREDYKCJA\\videos\\las.webm: 352x640 2 no_glassess, 4 no_glovess, 6 no_helmets, 6 no_vests, 6.9ms\n",
      "video 1/4 (frame 76/227) f:\\PRACA_MAGISTERSKA\\DATASETS\\PREDYKCJA\\videos\\las.webm: 352x640 2 no_glassess, 3 no_glovess, 6 no_helmets, 6 no_vests, 6.9ms\n",
      "video 1/4 (frame 77/227) f:\\PRACA_MAGISTERSKA\\DATASETS\\PREDYKCJA\\videos\\las.webm: 352x640 2 no_glassess, 3 no_glovess, 6 no_helmets, 6 no_vests, 6.9ms\n",
      "video 1/4 (frame 78/227) f:\\PRACA_MAGISTERSKA\\DATASETS\\PREDYKCJA\\videos\\las.webm: 352x640 2 no_glassess, 3 no_glovess, 6 no_helmets, 6 no_vests, 6.9ms\n",
      "video 1/4 (frame 79/227) f:\\PRACA_MAGISTERSKA\\DATASETS\\PREDYKCJA\\videos\\las.webm: 352x640 2 no_glassess, 3 no_glovess, 6 no_helmets, 5 no_vests, 6.9ms\n",
      "video 1/4 (frame 80/227) f:\\PRACA_MAGISTERSKA\\DATASETS\\PREDYKCJA\\videos\\las.webm: 352x640 2 no_glassess, 4 no_glovess, 6 no_helmets, 5 no_vests, 6.9ms\n",
      "video 1/4 (frame 81/227) f:\\PRACA_MAGISTERSKA\\DATASETS\\PREDYKCJA\\videos\\las.webm: 352x640 2 no_glassess, 4 no_glovess, 6 no_helmets, 5 no_vests, 6.9ms\n",
      "video 1/4 (frame 82/227) f:\\PRACA_MAGISTERSKA\\DATASETS\\PREDYKCJA\\videos\\las.webm: 352x640 2 no_glassess, 4 no_glovess, 6 no_helmets, 5 no_vests, 6.9ms\n",
      "video 1/4 (frame 83/227) f:\\PRACA_MAGISTERSKA\\DATASETS\\PREDYKCJA\\videos\\las.webm: 352x640 2 no_glassess, 4 no_glovess, 6 no_helmets, 6 no_vests, 6.9ms\n",
      "video 1/4 (frame 84/227) f:\\PRACA_MAGISTERSKA\\DATASETS\\PREDYKCJA\\videos\\las.webm: 352x640 2 no_glassess, 3 no_glovess, 6 no_helmets, 7 no_vests, 6.9ms\n",
      "video 1/4 (frame 85/227) f:\\PRACA_MAGISTERSKA\\DATASETS\\PREDYKCJA\\videos\\las.webm: 352x640 2 no_glassess, 2 no_glovess, 6 no_helmets, 6 no_vests, 6.9ms\n",
      "video 1/4 (frame 86/227) f:\\PRACA_MAGISTERSKA\\DATASETS\\PREDYKCJA\\videos\\las.webm: 352x640 2 no_glassess, 1 no_gloves, 6 no_helmets, 4 no_vests, 6.9ms\n",
      "video 1/4 (frame 87/227) f:\\PRACA_MAGISTERSKA\\DATASETS\\PREDYKCJA\\videos\\las.webm: 352x640 2 no_glassess, 2 no_glovess, 6 no_helmets, 4 no_vests, 6.9ms\n",
      "video 1/4 (frame 88/227) f:\\PRACA_MAGISTERSKA\\DATASETS\\PREDYKCJA\\videos\\las.webm: 352x640 1 no_glasses, 1 no_gloves, 6 no_helmets, 4 no_vests, 6.9ms\n",
      "video 1/4 (frame 89/227) f:\\PRACA_MAGISTERSKA\\DATASETS\\PREDYKCJA\\videos\\las.webm: 352x640 1 no_glasses, 1 no_gloves, 6 no_helmets, 5 no_vests, 6.9ms\n",
      "video 1/4 (frame 90/227) f:\\PRACA_MAGISTERSKA\\DATASETS\\PREDYKCJA\\videos\\las.webm: 352x640 2 no_glassess, 1 no_gloves, 6 no_helmets, 7 no_vests, 6.9ms\n",
      "video 1/4 (frame 91/227) f:\\PRACA_MAGISTERSKA\\DATASETS\\PREDYKCJA\\videos\\las.webm: 352x640 1 no_glasses, 1 no_gloves, 6 no_helmets, 7 no_vests, 6.9ms\n",
      "video 1/4 (frame 92/227) f:\\PRACA_MAGISTERSKA\\DATASETS\\PREDYKCJA\\videos\\las.webm: 352x640 1 no_glasses, 1 no_gloves, 6 no_helmets, 6 no_vests, 6.9ms\n",
      "video 1/4 (frame 93/227) f:\\PRACA_MAGISTERSKA\\DATASETS\\PREDYKCJA\\videos\\las.webm: 352x640 1 no_glasses, 1 no_gloves, 6 no_helmets, 7 no_vests, 6.9ms\n",
      "video 1/4 (frame 94/227) f:\\PRACA_MAGISTERSKA\\DATASETS\\PREDYKCJA\\videos\\las.webm: 352x640 1 no_glasses, 1 no_gloves, 6 no_helmets, 6 no_vests, 6.9ms\n",
      "video 1/4 (frame 95/227) f:\\PRACA_MAGISTERSKA\\DATASETS\\PREDYKCJA\\videos\\las.webm: 352x640 1 no_glasses, 1 no_gloves, 6 no_helmets, 7 no_vests, 6.9ms\n",
      "video 1/4 (frame 96/227) f:\\PRACA_MAGISTERSKA\\DATASETS\\PREDYKCJA\\videos\\las.webm: 352x640 1 no_glasses, 1 no_gloves, 6 no_helmets, 6 no_vests, 6.9ms\n",
      "video 1/4 (frame 97/227) f:\\PRACA_MAGISTERSKA\\DATASETS\\PREDYKCJA\\videos\\las.webm: 352x640 1 no_glasses, 1 no_gloves, 6 no_helmets, 6 no_vests, 6.9ms\n",
      "video 1/4 (frame 98/227) f:\\PRACA_MAGISTERSKA\\DATASETS\\PREDYKCJA\\videos\\las.webm: 352x640 1 no_glasses, 1 no_gloves, 6 no_helmets, 6 no_vests, 6.9ms\n",
      "video 1/4 (frame 99/227) f:\\PRACA_MAGISTERSKA\\DATASETS\\PREDYKCJA\\videos\\las.webm: 352x640 1 no_glasses, 3 no_glovess, 6 no_helmets, 5 no_vests, 6.9ms\n",
      "video 1/4 (frame 100/227) f:\\PRACA_MAGISTERSKA\\DATASETS\\PREDYKCJA\\videos\\las.webm: 352x640 1 no_glasses, 2 no_glovess, 6 no_helmets, 4 no_vests, 6.9ms\n",
      "video 1/4 (frame 101/227) f:\\PRACA_MAGISTERSKA\\DATASETS\\PREDYKCJA\\videos\\las.webm: 352x640 1 no_glasses, 2 no_glovess, 6 no_helmets, 5 no_vests, 6.9ms\n",
      "video 1/4 (frame 102/227) f:\\PRACA_MAGISTERSKA\\DATASETS\\PREDYKCJA\\videos\\las.webm: 352x640 1 no_glasses, 2 no_glovess, 6 no_helmets, 3 no_vests, 6.9ms\n",
      "video 1/4 (frame 103/227) f:\\PRACA_MAGISTERSKA\\DATASETS\\PREDYKCJA\\videos\\las.webm: 352x640 1 no_glasses, 3 no_glovess, 6 no_helmets, 5 no_vests, 6.9ms\n",
      "video 1/4 (frame 104/227) f:\\PRACA_MAGISTERSKA\\DATASETS\\PREDYKCJA\\videos\\las.webm: 352x640 1 no_glasses, 3 no_glovess, 6 no_helmets, 4 no_vests, 6.9ms\n",
      "video 1/4 (frame 105/227) f:\\PRACA_MAGISTERSKA\\DATASETS\\PREDYKCJA\\videos\\las.webm: 352x640 1 no_glasses, 2 no_glovess, 6 no_helmets, 5 no_vests, 6.9ms\n",
      "video 1/4 (frame 106/227) f:\\PRACA_MAGISTERSKA\\DATASETS\\PREDYKCJA\\videos\\las.webm: 352x640 1 no_glasses, 1 no_gloves, 6 no_helmets, 4 no_vests, 6.9ms\n",
      "video 1/4 (frame 107/227) f:\\PRACA_MAGISTERSKA\\DATASETS\\PREDYKCJA\\videos\\las.webm: 352x640 1 no_glasses, 1 no_gloves, 6 no_helmets, 4 no_vests, 6.9ms\n",
      "video 1/4 (frame 108/227) f:\\PRACA_MAGISTERSKA\\DATASETS\\PREDYKCJA\\videos\\las.webm: 352x640 1 no_glasses, 1 no_gloves, 7 no_helmets, 5 no_vests, 6.9ms\n",
      "video 1/4 (frame 109/227) f:\\PRACA_MAGISTERSKA\\DATASETS\\PREDYKCJA\\videos\\las.webm: 352x640 1 no_glasses, 1 no_gloves, 6 no_helmets, 5 no_vests, 6.9ms\n",
      "video 1/4 (frame 110/227) f:\\PRACA_MAGISTERSKA\\DATASETS\\PREDYKCJA\\videos\\las.webm: 352x640 1 no_glasses, 1 no_gloves, 5 no_helmets, 5 no_vests, 6.9ms\n",
      "video 1/4 (frame 111/227) f:\\PRACA_MAGISTERSKA\\DATASETS\\PREDYKCJA\\videos\\las.webm: 352x640 1 no_glasses, 1 no_gloves, 6 no_helmets, 4 no_vests, 6.9ms\n",
      "video 1/4 (frame 112/227) f:\\PRACA_MAGISTERSKA\\DATASETS\\PREDYKCJA\\videos\\las.webm: 352x640 1 no_glasses, 1 no_gloves, 7 no_helmets, 4 no_vests, 6.9ms\n",
      "video 1/4 (frame 113/227) f:\\PRACA_MAGISTERSKA\\DATASETS\\PREDYKCJA\\videos\\las.webm: 352x640 1 no_glasses, 1 no_gloves, 6 no_helmets, 5 no_vests, 6.9ms\n",
      "video 1/4 (frame 114/227) f:\\PRACA_MAGISTERSKA\\DATASETS\\PREDYKCJA\\videos\\las.webm: 352x640 1 no_glasses, 2 no_glovess, 6 no_helmets, 5 no_vests, 6.9ms\n",
      "video 1/4 (frame 115/227) f:\\PRACA_MAGISTERSKA\\DATASETS\\PREDYKCJA\\videos\\las.webm: 352x640 1 no_glasses, 2 no_glovess, 6 no_helmets, 5 no_vests, 6.9ms\n",
      "video 1/4 (frame 116/227) f:\\PRACA_MAGISTERSKA\\DATASETS\\PREDYKCJA\\videos\\las.webm: 352x640 1 no_glasses, 2 no_glovess, 6 no_helmets, 5 no_vests, 6.9ms\n",
      "video 1/4 (frame 117/227) f:\\PRACA_MAGISTERSKA\\DATASETS\\PREDYKCJA\\videos\\las.webm: 352x640 1 no_glasses, 1 no_gloves, 6 no_helmets, 5 no_vests, 6.9ms\n",
      "video 1/4 (frame 118/227) f:\\PRACA_MAGISTERSKA\\DATASETS\\PREDYKCJA\\videos\\las.webm: 352x640 1 no_glasses, 1 no_gloves, 6 no_helmets, 5 no_vests, 6.9ms\n",
      "video 1/4 (frame 119/227) f:\\PRACA_MAGISTERSKA\\DATASETS\\PREDYKCJA\\videos\\las.webm: 352x640 1 no_gloves, 6 no_helmets, 4 no_vests, 6.9ms\n",
      "video 1/4 (frame 120/227) f:\\PRACA_MAGISTERSKA\\DATASETS\\PREDYKCJA\\videos\\las.webm: 352x640 1 no_gloves, 6 no_helmets, 6 no_vests, 6.9ms\n",
      "video 1/4 (frame 121/227) f:\\PRACA_MAGISTERSKA\\DATASETS\\PREDYKCJA\\videos\\las.webm: 352x640 1 no_glasses, 1 no_gloves, 6 no_helmets, 5 no_vests, 6.9ms\n",
      "video 1/4 (frame 122/227) f:\\PRACA_MAGISTERSKA\\DATASETS\\PREDYKCJA\\videos\\las.webm: 352x640 1 no_glasses, 1 no_gloves, 6 no_helmets, 5 no_vests, 6.9ms\n",
      "video 1/4 (frame 123/227) f:\\PRACA_MAGISTERSKA\\DATASETS\\PREDYKCJA\\videos\\las.webm: 352x640 1 no_glasses, 1 no_gloves, 6 no_helmets, 5 no_vests, 6.9ms\n",
      "video 1/4 (frame 124/227) f:\\PRACA_MAGISTERSKA\\DATASETS\\PREDYKCJA\\videos\\las.webm: 352x640 1 no_glasses, 1 no_gloves, 6 no_helmets, 5 no_vests, 6.9ms\n",
      "video 1/4 (frame 125/227) f:\\PRACA_MAGISTERSKA\\DATASETS\\PREDYKCJA\\videos\\las.webm: 352x640 1 no_glasses, 1 no_gloves, 6 no_helmets, 5 no_vests, 6.9ms\n",
      "video 1/4 (frame 126/227) f:\\PRACA_MAGISTERSKA\\DATASETS\\PREDYKCJA\\videos\\las.webm: 352x640 1 no_glasses, 1 no_gloves, 6 no_helmets, 6 no_vests, 6.9ms\n",
      "video 1/4 (frame 127/227) f:\\PRACA_MAGISTERSKA\\DATASETS\\PREDYKCJA\\videos\\las.webm: 352x640 1 no_glasses, 1 no_gloves, 6 no_helmets, 6 no_vests, 6.9ms\n",
      "video 1/4 (frame 128/227) f:\\PRACA_MAGISTERSKA\\DATASETS\\PREDYKCJA\\videos\\las.webm: 352x640 1 no_glasses, 1 no_gloves, 6 no_helmets, 7 no_vests, 6.9ms\n",
      "video 1/4 (frame 129/227) f:\\PRACA_MAGISTERSKA\\DATASETS\\PREDYKCJA\\videos\\las.webm: 352x640 1 no_glasses, 1 no_gloves, 6 no_helmets, 4 no_vests, 6.9ms\n",
      "video 1/4 (frame 130/227) f:\\PRACA_MAGISTERSKA\\DATASETS\\PREDYKCJA\\videos\\las.webm: 352x640 1 no_glasses, 1 no_gloves, 6 no_helmets, 5 no_vests, 6.9ms\n",
      "video 1/4 (frame 131/227) f:\\PRACA_MAGISTERSKA\\DATASETS\\PREDYKCJA\\videos\\las.webm: 352x640 1 no_glasses, 1 no_gloves, 6 no_helmets, 4 no_vests, 6.9ms\n",
      "video 1/4 (frame 132/227) f:\\PRACA_MAGISTERSKA\\DATASETS\\PREDYKCJA\\videos\\las.webm: 352x640 1 no_glasses, 1 no_gloves, 6 no_helmets, 5 no_vests, 6.9ms\n",
      "video 1/4 (frame 133/227) f:\\PRACA_MAGISTERSKA\\DATASETS\\PREDYKCJA\\videos\\las.webm: 352x640 1 no_glasses, 1 no_gloves, 6 no_helmets, 4 no_vests, 6.9ms\n",
      "video 1/4 (frame 134/227) f:\\PRACA_MAGISTERSKA\\DATASETS\\PREDYKCJA\\videos\\las.webm: 352x640 1 no_glasses, 1 no_gloves, 6 no_helmets, 6 no_vests, 6.9ms\n",
      "video 1/4 (frame 135/227) f:\\PRACA_MAGISTERSKA\\DATASETS\\PREDYKCJA\\videos\\las.webm: 352x640 1 no_glasses, 6 no_helmets, 5 no_vests, 6.9ms\n",
      "video 1/4 (frame 136/227) f:\\PRACA_MAGISTERSKA\\DATASETS\\PREDYKCJA\\videos\\las.webm: 352x640 1 no_glasses, 6 no_helmets, 5 no_vests, 6.9ms\n",
      "video 1/4 (frame 137/227) f:\\PRACA_MAGISTERSKA\\DATASETS\\PREDYKCJA\\videos\\las.webm: 352x640 1 no_glasses, 1 no_gloves, 6 no_helmets, 6 no_vests, 6.9ms\n",
      "video 1/4 (frame 138/227) f:\\PRACA_MAGISTERSKA\\DATASETS\\PREDYKCJA\\videos\\las.webm: 352x640 1 no_glasses, 1 no_gloves, 6 no_helmets, 6 no_vests, 6.9ms\n",
      "video 1/4 (frame 139/227) f:\\PRACA_MAGISTERSKA\\DATASETS\\PREDYKCJA\\videos\\las.webm: 352x640 1 no_glasses, 1 no_gloves, 6 no_helmets, 6 no_vests, 6.9ms\n",
      "video 1/4 (frame 140/227) f:\\PRACA_MAGISTERSKA\\DATASETS\\PREDYKCJA\\videos\\las.webm: 352x640 1 no_glasses, 1 no_gloves, 6 no_helmets, 6 no_vests, 6.9ms\n",
      "video 1/4 (frame 141/227) f:\\PRACA_MAGISTERSKA\\DATASETS\\PREDYKCJA\\videos\\las.webm: 352x640 6 no_helmets, 5 no_vests, 6.9ms\n",
      "video 1/4 (frame 142/227) f:\\PRACA_MAGISTERSKA\\DATASETS\\PREDYKCJA\\videos\\las.webm: 352x640 1 no_gloves, 6 no_helmets, 5 no_vests, 6.9ms\n",
      "video 1/4 (frame 143/227) f:\\PRACA_MAGISTERSKA\\DATASETS\\PREDYKCJA\\videos\\las.webm: 352x640 2 no_glovess, 7 no_helmets, 4 no_vests, 6.9ms\n",
      "video 1/4 (frame 144/227) f:\\PRACA_MAGISTERSKA\\DATASETS\\PREDYKCJA\\videos\\las.webm: 352x640 1 no_glasses, 1 no_gloves, 7 no_helmets, 5 no_vests, 6.9ms\n",
      "video 1/4 (frame 145/227) f:\\PRACA_MAGISTERSKA\\DATASETS\\PREDYKCJA\\videos\\las.webm: 352x640 1 no_glasses, 1 no_gloves, 6 no_helmets, 5 no_vests, 6.9ms\n",
      "video 1/4 (frame 146/227) f:\\PRACA_MAGISTERSKA\\DATASETS\\PREDYKCJA\\videos\\las.webm: 352x640 1 no_glasses, 1 no_gloves, 6 no_helmets, 5 no_vests, 6.9ms\n",
      "video 1/4 (frame 147/227) f:\\PRACA_MAGISTERSKA\\DATASETS\\PREDYKCJA\\videos\\las.webm: 352x640 1 no_glasses, 1 no_gloves, 6 no_helmets, 5 no_vests, 6.9ms\n",
      "video 1/4 (frame 148/227) f:\\PRACA_MAGISTERSKA\\DATASETS\\PREDYKCJA\\videos\\las.webm: 352x640 1 no_glasses, 1 no_gloves, 5 no_helmets, 6 no_vests, 6.9ms\n",
      "video 1/4 (frame 149/227) f:\\PRACA_MAGISTERSKA\\DATASETS\\PREDYKCJA\\videos\\las.webm: 352x640 1 no_glasses, 1 no_gloves, 6 no_helmets, 6 no_vests, 6.9ms\n",
      "video 1/4 (frame 150/227) f:\\PRACA_MAGISTERSKA\\DATASETS\\PREDYKCJA\\videos\\las.webm: 352x640 1 no_glasses, 1 no_gloves, 6 no_helmets, 6 no_vests, 6.9ms\n",
      "video 1/4 (frame 151/227) f:\\PRACA_MAGISTERSKA\\DATASETS\\PREDYKCJA\\videos\\las.webm: 352x640 1 no_glasses, 6 no_helmets, 6 no_vests, 6.9ms\n",
      "video 1/4 (frame 152/227) f:\\PRACA_MAGISTERSKA\\DATASETS\\PREDYKCJA\\videos\\las.webm: 352x640 1 no_glasses, 6 no_helmets, 6 no_vests, 6.9ms\n",
      "video 1/4 (frame 153/227) f:\\PRACA_MAGISTERSKA\\DATASETS\\PREDYKCJA\\videos\\las.webm: 352x640 1 no_gloves, 6 no_helmets, 6 no_vests, 6.9ms\n",
      "video 1/4 (frame 154/227) f:\\PRACA_MAGISTERSKA\\DATASETS\\PREDYKCJA\\videos\\las.webm: 352x640 1 no_gloves, 6 no_helmets, 6 no_vests, 6.9ms\n",
      "video 1/4 (frame 155/227) f:\\PRACA_MAGISTERSKA\\DATASETS\\PREDYKCJA\\videos\\las.webm: 352x640 1 no_gloves, 6 no_helmets, 6 no_vests, 6.9ms\n",
      "video 1/4 (frame 156/227) f:\\PRACA_MAGISTERSKA\\DATASETS\\PREDYKCJA\\videos\\las.webm: 352x640 1 no_gloves, 6 no_helmets, 6 no_vests, 6.9ms\n",
      "video 1/4 (frame 157/227) f:\\PRACA_MAGISTERSKA\\DATASETS\\PREDYKCJA\\videos\\las.webm: 352x640 1 no_gloves, 5 no_helmets, 6 no_vests, 6.9ms\n",
      "video 1/4 (frame 158/227) f:\\PRACA_MAGISTERSKA\\DATASETS\\PREDYKCJA\\videos\\las.webm: 352x640 1 no_gloves, 5 no_helmets, 6 no_vests, 6.9ms\n",
      "video 1/4 (frame 159/227) f:\\PRACA_MAGISTERSKA\\DATASETS\\PREDYKCJA\\videos\\las.webm: 352x640 1 no_gloves, 6 no_helmets, 6 no_vests, 6.9ms\n",
      "video 1/4 (frame 160/227) f:\\PRACA_MAGISTERSKA\\DATASETS\\PREDYKCJA\\videos\\las.webm: 352x640 1 no_gloves, 6 no_helmets, 6 no_vests, 6.9ms\n",
      "video 1/4 (frame 161/227) f:\\PRACA_MAGISTERSKA\\DATASETS\\PREDYKCJA\\videos\\las.webm: 352x640 1 no_gloves, 6 no_helmets, 6 no_vests, 6.9ms\n",
      "video 1/4 (frame 162/227) f:\\PRACA_MAGISTERSKA\\DATASETS\\PREDYKCJA\\videos\\las.webm: 352x640 1 no_gloves, 6 no_helmets, 5 no_vests, 6.9ms\n",
      "video 1/4 (frame 163/227) f:\\PRACA_MAGISTERSKA\\DATASETS\\PREDYKCJA\\videos\\las.webm: 352x640 1 no_gloves, 7 no_helmets, 5 no_vests, 6.9ms\n",
      "video 1/4 (frame 164/227) f:\\PRACA_MAGISTERSKA\\DATASETS\\PREDYKCJA\\videos\\las.webm: 352x640 1 no_gloves, 6 no_helmets, 5 no_vests, 6.9ms\n",
      "video 1/4 (frame 165/227) f:\\PRACA_MAGISTERSKA\\DATASETS\\PREDYKCJA\\videos\\las.webm: 352x640 1 no_gloves, 6 no_helmets, 7 no_vests, 6.9ms\n",
      "video 1/4 (frame 166/227) f:\\PRACA_MAGISTERSKA\\DATASETS\\PREDYKCJA\\videos\\las.webm: 352x640 6 no_helmets, 7 no_vests, 6.9ms\n",
      "video 1/4 (frame 167/227) f:\\PRACA_MAGISTERSKA\\DATASETS\\PREDYKCJA\\videos\\las.webm: 352x640 1 no_glasses, 6 no_helmets, 6 no_vests, 6.9ms\n",
      "video 1/4 (frame 168/227) f:\\PRACA_MAGISTERSKA\\DATASETS\\PREDYKCJA\\videos\\las.webm: 352x640 1 no_glasses, 1 no_gloves, 6 no_helmets, 6 no_vests, 6.9ms\n",
      "video 1/4 (frame 169/227) f:\\PRACA_MAGISTERSKA\\DATASETS\\PREDYKCJA\\videos\\las.webm: 352x640 1 no_glasses, 6 no_helmets, 6 no_vests, 6.9ms\n",
      "video 1/4 (frame 170/227) f:\\PRACA_MAGISTERSKA\\DATASETS\\PREDYKCJA\\videos\\las.webm: 352x640 1 no_glasses, 6 no_helmets, 6 no_vests, 6.9ms\n",
      "video 1/4 (frame 171/227) f:\\PRACA_MAGISTERSKA\\DATASETS\\PREDYKCJA\\videos\\las.webm: 352x640 1 no_glasses, 6 no_helmets, 6 no_vests, 6.9ms\n",
      "video 1/4 (frame 172/227) f:\\PRACA_MAGISTERSKA\\DATASETS\\PREDYKCJA\\videos\\las.webm: 352x640 1 no_glasses, 6 no_helmets, 6 no_vests, 6.9ms\n",
      "video 1/4 (frame 173/227) f:\\PRACA_MAGISTERSKA\\DATASETS\\PREDYKCJA\\videos\\las.webm: 352x640 1 no_glasses, 1 no_gloves, 7 no_helmets, 6 no_vests, 6.9ms\n",
      "video 1/4 (frame 174/227) f:\\PRACA_MAGISTERSKA\\DATASETS\\PREDYKCJA\\videos\\las.webm: 352x640 1 no_glasses, 1 no_gloves, 6 no_helmets, 6 no_vests, 6.9ms\n",
      "video 1/4 (frame 175/227) f:\\PRACA_MAGISTERSKA\\DATASETS\\PREDYKCJA\\videos\\las.webm: 352x640 1 no_glasses, 7 no_helmets, 7 no_vests, 6.9ms\n",
      "video 1/4 (frame 176/227) f:\\PRACA_MAGISTERSKA\\DATASETS\\PREDYKCJA\\videos\\las.webm: 352x640 1 no_glasses, 7 no_helmets, 7 no_vests, 6.9ms\n",
      "video 1/4 (frame 177/227) f:\\PRACA_MAGISTERSKA\\DATASETS\\PREDYKCJA\\videos\\las.webm: 352x640 1 no_glasses, 8 no_helmets, 6 no_vests, 6.9ms\n",
      "video 1/4 (frame 178/227) f:\\PRACA_MAGISTERSKA\\DATASETS\\PREDYKCJA\\videos\\las.webm: 352x640 1 no_glasses, 7 no_helmets, 6 no_vests, 6.9ms\n",
      "video 1/4 (frame 179/227) f:\\PRACA_MAGISTERSKA\\DATASETS\\PREDYKCJA\\videos\\las.webm: 352x640 1 no_glasses, 7 no_helmets, 7 no_vests, 6.9ms\n",
      "video 1/4 (frame 180/227) f:\\PRACA_MAGISTERSKA\\DATASETS\\PREDYKCJA\\videos\\las.webm: 352x640 1 no_glasses, 7 no_helmets, 6 no_vests, 6.9ms\n",
      "video 1/4 (frame 181/227) f:\\PRACA_MAGISTERSKA\\DATASETS\\PREDYKCJA\\videos\\las.webm: 352x640 1 no_glasses, 1 no_gloves, 7 no_helmets, 6 no_vests, 6.9ms\n",
      "video 1/4 (frame 182/227) f:\\PRACA_MAGISTERSKA\\DATASETS\\PREDYKCJA\\videos\\las.webm: 352x640 1 no_glasses, 2 no_glovess, 7 no_helmets, 6 no_vests, 6.9ms\n",
      "video 1/4 (frame 183/227) f:\\PRACA_MAGISTERSKA\\DATASETS\\PREDYKCJA\\videos\\las.webm: 352x640 1 no_glasses, 2 no_glovess, 7 no_helmets, 6 no_vests, 6.9ms\n",
      "video 1/4 (frame 184/227) f:\\PRACA_MAGISTERSKA\\DATASETS\\PREDYKCJA\\videos\\las.webm: 352x640 1 no_glasses, 2 no_glovess, 7 no_helmets, 5 no_vests, 6.9ms\n",
      "video 1/4 (frame 185/227) f:\\PRACA_MAGISTERSKA\\DATASETS\\PREDYKCJA\\videos\\las.webm: 352x640 1 no_glasses, 3 no_glovess, 7 no_helmets, 6 no_vests, 6.9ms\n",
      "video 1/4 (frame 186/227) f:\\PRACA_MAGISTERSKA\\DATASETS\\PREDYKCJA\\videos\\las.webm: 352x640 1 no_glasses, 3 no_glovess, 7 no_helmets, 6 no_vests, 6.9ms\n",
      "video 1/4 (frame 187/227) f:\\PRACA_MAGISTERSKA\\DATASETS\\PREDYKCJA\\videos\\las.webm: 352x640 1 no_glasses, 3 no_glovess, 7 no_helmets, 5 no_vests, 6.9ms\n",
      "video 1/4 (frame 188/227) f:\\PRACA_MAGISTERSKA\\DATASETS\\PREDYKCJA\\videos\\las.webm: 352x640 1 no_glasses, 2 no_glovess, 7 no_helmets, 5 no_vests, 6.9ms\n",
      "video 1/4 (frame 189/227) f:\\PRACA_MAGISTERSKA\\DATASETS\\PREDYKCJA\\videos\\las.webm: 352x640 1 no_glasses, 1 no_gloves, 7 no_helmets, 6 no_vests, 6.9ms\n",
      "video 1/4 (frame 190/227) f:\\PRACA_MAGISTERSKA\\DATASETS\\PREDYKCJA\\videos\\las.webm: 352x640 1 no_glasses, 1 no_gloves, 7 no_helmets, 6 no_vests, 6.9ms\n",
      "video 1/4 (frame 191/227) f:\\PRACA_MAGISTERSKA\\DATASETS\\PREDYKCJA\\videos\\las.webm: 352x640 1 no_glasses, 7 no_helmets, 6 no_vests, 6.9ms\n",
      "video 1/4 (frame 192/227) f:\\PRACA_MAGISTERSKA\\DATASETS\\PREDYKCJA\\videos\\las.webm: 352x640 1 no_glasses, 1 no_gloves, 7 no_helmets, 6 no_vests, 6.9ms\n",
      "video 1/4 (frame 193/227) f:\\PRACA_MAGISTERSKA\\DATASETS\\PREDYKCJA\\videos\\las.webm: 640x640 1 no_glasses, 7 no_helmets, 6 no_vests, 13.4ms\n",
      "video 1/4 (frame 194/227) f:\\PRACA_MAGISTERSKA\\DATASETS\\PREDYKCJA\\videos\\las.webm: 640x640 1 no_glasses, 1 no_gloves, 7 no_helmets, 6 no_vests, 13.4ms\n",
      "video 1/4 (frame 195/227) f:\\PRACA_MAGISTERSKA\\DATASETS\\PREDYKCJA\\videos\\las.webm: 640x640 1 no_glasses, 1 no_gloves, 7 no_helmets, 6 no_vests, 13.4ms\n",
      "video 1/4 (frame 196/227) f:\\PRACA_MAGISTERSKA\\DATASETS\\PREDYKCJA\\videos\\las.webm: 640x640 1 no_glasses, 1 no_gloves, 7 no_helmets, 6 no_vests, 13.4ms\n",
      "video 1/4 (frame 197/227) f:\\PRACA_MAGISTERSKA\\DATASETS\\PREDYKCJA\\videos\\las.webm: 640x640 1 no_glasses, 1 no_gloves, 7 no_helmets, 6 no_vests, 13.4ms\n",
      "video 1/4 (frame 198/227) f:\\PRACA_MAGISTERSKA\\DATASETS\\PREDYKCJA\\videos\\las.webm: 640x640 2 no_glassess, 7 no_helmets, 6 no_vests, 13.4ms\n",
      "video 1/4 (frame 199/227) f:\\PRACA_MAGISTERSKA\\DATASETS\\PREDYKCJA\\videos\\las.webm: 640x640 2 no_glovess, 8 no_helmets, 6 no_vests, 13.4ms\n",
      "video 1/4 (frame 200/227) f:\\PRACA_MAGISTERSKA\\DATASETS\\PREDYKCJA\\videos\\las.webm: 640x640 1 no_gloves, 7 no_helmets, 7 no_vests, 13.4ms\n",
      "video 1/4 (frame 201/227) f:\\PRACA_MAGISTERSKA\\DATASETS\\PREDYKCJA\\videos\\las.webm: 640x640 2 no_glovess, 7 no_helmets, 6 no_vests, 13.4ms\n",
      "video 1/4 (frame 202/227) f:\\PRACA_MAGISTERSKA\\DATASETS\\PREDYKCJA\\videos\\las.webm: 640x640 2 no_glovess, 7 no_helmets, 6 no_vests, 13.4ms\n",
      "video 1/4 (frame 203/227) f:\\PRACA_MAGISTERSKA\\DATASETS\\PREDYKCJA\\videos\\las.webm: 640x640 1 no_glasses, 2 no_glovess, 7 no_helmets, 6 no_vests, 13.4ms\n",
      "video 1/4 (frame 204/227) f:\\PRACA_MAGISTERSKA\\DATASETS\\PREDYKCJA\\videos\\las.webm: 640x640 1 no_glasses, 2 no_glovess, 7 no_helmets, 6 no_vests, 13.4ms\n",
      "video 1/4 (frame 205/227) f:\\PRACA_MAGISTERSKA\\DATASETS\\PREDYKCJA\\videos\\las.webm: 640x640 1 no_glasses, 2 no_glovess, 7 no_helmets, 5 no_vests, 13.4ms\n",
      "video 1/4 (frame 206/227) f:\\PRACA_MAGISTERSKA\\DATASETS\\PREDYKCJA\\videos\\las.webm: 640x640 1 no_glasses, 2 no_glovess, 8 no_helmets, 5 no_vests, 13.4ms\n",
      "video 1/4 (frame 207/227) f:\\PRACA_MAGISTERSKA\\DATASETS\\PREDYKCJA\\videos\\las.webm: 640x640 1 no_glasses, 3 no_glovess, 7 no_helmets, 5 no_vests, 13.4ms\n",
      "video 1/4 (frame 208/227) f:\\PRACA_MAGISTERSKA\\DATASETS\\PREDYKCJA\\videos\\las.webm: 640x640 1 no_glasses, 3 no_glovess, 7 no_helmets, 5 no_vests, 13.4ms\n",
      "video 1/4 (frame 209/227) f:\\PRACA_MAGISTERSKA\\DATASETS\\PREDYKCJA\\videos\\las.webm: 640x640 1 no_glasses, 5 no_glovess, 7 no_helmets, 6 no_vests, 13.4ms\n",
      "video 1/4 (frame 210/227) f:\\PRACA_MAGISTERSKA\\DATASETS\\PREDYKCJA\\videos\\las.webm: 640x640 1 no_glasses, 3 no_glovess, 7 no_helmets, 6 no_vests, 13.4ms\n",
      "video 1/4 (frame 211/227) f:\\PRACA_MAGISTERSKA\\DATASETS\\PREDYKCJA\\videos\\las.webm: 640x640 1 no_glasses, 3 no_glovess, 7 no_helmets, 5 no_vests, 13.4ms\n",
      "video 1/4 (frame 212/227) f:\\PRACA_MAGISTERSKA\\DATASETS\\PREDYKCJA\\videos\\las.webm: 640x640 1 no_glasses, 3 no_glovess, 8 no_helmets, 5 no_vests, 13.4ms\n",
      "video 1/4 (frame 213/227) f:\\PRACA_MAGISTERSKA\\DATASETS\\PREDYKCJA\\videos\\las.webm: 640x640 1 no_glasses, 2 no_glovess, 8 no_helmets, 5 no_vests, 13.4ms\n",
      "video 1/4 (frame 214/227) f:\\PRACA_MAGISTERSKA\\DATASETS\\PREDYKCJA\\videos\\las.webm: 640x640 1 no_glasses, 7 no_helmets, 5 no_vests, 13.4ms\n",
      "video 1/4 (frame 215/227) f:\\PRACA_MAGISTERSKA\\DATASETS\\PREDYKCJA\\videos\\las.webm: 640x640 1 no_glasses, 1 no_gloves, 7 no_helmets, 6 no_vests, 13.4ms\n",
      "video 1/4 (frame 216/227) f:\\PRACA_MAGISTERSKA\\DATASETS\\PREDYKCJA\\videos\\las.webm: 640x640 1 no_glasses, 1 no_gloves, 7 no_helmets, 4 no_vests, 13.4ms\n",
      "video 1/4 (frame 217/227) f:\\PRACA_MAGISTERSKA\\DATASETS\\PREDYKCJA\\videos\\las.webm: 640x640 1 no_glasses, 2 no_glovess, 7 no_helmets, 5 no_vests, 13.4ms\n",
      "video 1/4 (frame 218/227) f:\\PRACA_MAGISTERSKA\\DATASETS\\PREDYKCJA\\videos\\las.webm: 640x640 1 no_glasses, 1 no_gloves, 6 no_helmets, 5 no_vests, 13.4ms\n",
      "video 1/4 (frame 219/227) f:\\PRACA_MAGISTERSKA\\DATASETS\\PREDYKCJA\\videos\\las.webm: 640x640 1 no_glasses, 1 no_gloves, 6 no_helmets, 5 no_vests, 13.4ms\n",
      "video 1/4 (frame 220/227) f:\\PRACA_MAGISTERSKA\\DATASETS\\PREDYKCJA\\videos\\las.webm: 640x640 1 no_glasses, 1 no_gloves, 6 no_helmets, 6 no_vests, 13.4ms\n",
      "video 1/4 (frame 221/227) f:\\PRACA_MAGISTERSKA\\DATASETS\\PREDYKCJA\\videos\\las.webm: 640x640 1 no_glasses, 6 no_helmets, 6 no_vests, 13.4ms\n",
      "video 1/4 (frame 222/227) f:\\PRACA_MAGISTERSKA\\DATASETS\\PREDYKCJA\\videos\\las.webm: 640x640 1 no_glasses, 1 no_gloves, 6 no_helmets, 6 no_vests, 13.4ms\n",
      "video 1/4 (frame 223/227) f:\\PRACA_MAGISTERSKA\\DATASETS\\PREDYKCJA\\videos\\las.webm: 640x640 1 no_glasses, 1 no_gloves, 5 no_helmets, 7 no_vests, 13.4ms\n",
      "video 1/4 (frame 224/227) f:\\PRACA_MAGISTERSKA\\DATASETS\\PREDYKCJA\\videos\\las.webm: 640x640 1 no_glasses, 5 no_helmets, 6 no_vests, 13.4ms\n",
      "video 1/4 (frame 225/227) f:\\PRACA_MAGISTERSKA\\DATASETS\\PREDYKCJA\\videos\\las.webm: 640x640 1 no_glasses, 1 no_gloves, 5 no_helmets, 6 no_vests, 13.4ms\n",
      "video 1/4 (frame 226/227) f:\\PRACA_MAGISTERSKA\\DATASETS\\PREDYKCJA\\videos\\las.webm: 640x640 1 no_glasses, 1 no_gloves, 5 no_helmets, 6 no_vests, 13.4ms\n",
      "video 1/4 (frame 227/227) f:\\PRACA_MAGISTERSKA\\DATASETS\\PREDYKCJA\\videos\\las.webm: 640x640 1 no_glasses, 1 no_gloves, 5 no_helmets, 5 no_vests, 13.4ms\n",
      "video 2/4 (frame 1/646) f:\\PRACA_MAGISTERSKA\\DATASETS\\PREDYKCJA\\videos\\pieknie.webm: 640x640 1 no_glasses, 4 no_glovess, 2 no_vests, 13.4ms\n",
      "video 2/4 (frame 2/646) f:\\PRACA_MAGISTERSKA\\DATASETS\\PREDYKCJA\\videos\\pieknie.webm: 640x640 1 no_glasses, 4 no_glovess, 2 no_vests, 13.4ms\n",
      "video 2/4 (frame 3/646) f:\\PRACA_MAGISTERSKA\\DATASETS\\PREDYKCJA\\videos\\pieknie.webm: 640x640 1 no_glasses, 4 no_glovess, 2 no_vests, 13.4ms\n",
      "video 2/4 (frame 4/646) f:\\PRACA_MAGISTERSKA\\DATASETS\\PREDYKCJA\\videos\\pieknie.webm: 640x640 1 no_glasses, 4 no_glovess, 2 no_vests, 13.4ms\n",
      "video 2/4 (frame 5/646) f:\\PRACA_MAGISTERSKA\\DATASETS\\PREDYKCJA\\videos\\pieknie.webm: 640x640 1 no_glasses, 4 no_glovess, 2 no_vests, 13.4ms\n",
      "video 2/4 (frame 6/646) f:\\PRACA_MAGISTERSKA\\DATASETS\\PREDYKCJA\\videos\\pieknie.webm: 640x640 1 no_glasses, 4 no_glovess, 2 no_vests, 13.4ms\n",
      "video 2/4 (frame 7/646) f:\\PRACA_MAGISTERSKA\\DATASETS\\PREDYKCJA\\videos\\pieknie.webm: 640x640 1 no_glasses, 4 no_glovess, 2 no_vests, 13.4ms\n",
      "video 2/4 (frame 8/646) f:\\PRACA_MAGISTERSKA\\DATASETS\\PREDYKCJA\\videos\\pieknie.webm: 640x640 1 no_glasses, 4 no_glovess, 2 no_vests, 13.4ms\n",
      "video 2/4 (frame 9/646) f:\\PRACA_MAGISTERSKA\\DATASETS\\PREDYKCJA\\videos\\pieknie.webm: 640x640 1 no_glasses, 4 no_glovess, 2 no_vests, 13.4ms\n",
      "video 2/4 (frame 10/646) f:\\PRACA_MAGISTERSKA\\DATASETS\\PREDYKCJA\\videos\\pieknie.webm: 640x640 1 no_glasses, 4 no_glovess, 2 no_vests, 13.4ms\n",
      "video 2/4 (frame 11/646) f:\\PRACA_MAGISTERSKA\\DATASETS\\PREDYKCJA\\videos\\pieknie.webm: 640x640 1 no_glasses, 4 no_glovess, 2 no_vests, 13.4ms\n",
      "video 2/4 (frame 12/646) f:\\PRACA_MAGISTERSKA\\DATASETS\\PREDYKCJA\\videos\\pieknie.webm: 640x640 1 no_glasses, 4 no_glovess, 2 no_vests, 13.4ms\n",
      "video 2/4 (frame 13/646) f:\\PRACA_MAGISTERSKA\\DATASETS\\PREDYKCJA\\videos\\pieknie.webm: 640x640 1 no_glasses, 4 no_glovess, 2 no_vests, 13.4ms\n",
      "video 2/4 (frame 14/646) f:\\PRACA_MAGISTERSKA\\DATASETS\\PREDYKCJA\\videos\\pieknie.webm: 640x640 1 no_glasses, 4 no_glovess, 2 no_vests, 13.4ms\n",
      "video 2/4 (frame 15/646) f:\\PRACA_MAGISTERSKA\\DATASETS\\PREDYKCJA\\videos\\pieknie.webm: 640x640 1 no_glasses, 4 no_glovess, 2 no_vests, 13.4ms\n",
      "video 2/4 (frame 16/646) f:\\PRACA_MAGISTERSKA\\DATASETS\\PREDYKCJA\\videos\\pieknie.webm: 640x640 1 no_glasses, 4 no_glovess, 2 no_vests, 13.4ms\n",
      "video 2/4 (frame 17/646) f:\\PRACA_MAGISTERSKA\\DATASETS\\PREDYKCJA\\videos\\pieknie.webm: 640x640 1 no_glasses, 4 no_glovess, 2 no_vests, 13.4ms\n",
      "video 2/4 (frame 18/646) f:\\PRACA_MAGISTERSKA\\DATASETS\\PREDYKCJA\\videos\\pieknie.webm: 640x640 1 no_glasses, 3 no_glovess, 2 no_vests, 13.4ms\n",
      "video 2/4 (frame 19/646) f:\\PRACA_MAGISTERSKA\\DATASETS\\PREDYKCJA\\videos\\pieknie.webm: 640x640 1 no_glasses, 4 no_glovess, 2 no_vests, 13.4ms\n",
      "video 2/4 (frame 20/646) f:\\PRACA_MAGISTERSKA\\DATASETS\\PREDYKCJA\\videos\\pieknie.webm: 640x640 1 no_glasses, 4 no_glovess, 2 no_vests, 13.4ms\n",
      "video 2/4 (frame 21/646) f:\\PRACA_MAGISTERSKA\\DATASETS\\PREDYKCJA\\videos\\pieknie.webm: 640x640 1 no_glasses, 4 no_glovess, 2 no_vests, 13.4ms\n",
      "video 2/4 (frame 22/646) f:\\PRACA_MAGISTERSKA\\DATASETS\\PREDYKCJA\\videos\\pieknie.webm: 640x640 1 no_glasses, 4 no_glovess, 2 no_vests, 13.4ms\n",
      "video 2/4 (frame 23/646) f:\\PRACA_MAGISTERSKA\\DATASETS\\PREDYKCJA\\videos\\pieknie.webm: 640x640 1 no_glasses, 4 no_glovess, 2 no_vests, 13.4ms\n",
      "video 2/4 (frame 24/646) f:\\PRACA_MAGISTERSKA\\DATASETS\\PREDYKCJA\\videos\\pieknie.webm: 640x640 1 no_glasses, 4 no_glovess, 2 no_vests, 13.4ms\n",
      "video 2/4 (frame 25/646) f:\\PRACA_MAGISTERSKA\\DATASETS\\PREDYKCJA\\videos\\pieknie.webm: 640x640 1 no_glasses, 4 no_glovess, 2 no_vests, 13.4ms\n",
      "video 2/4 (frame 26/646) f:\\PRACA_MAGISTERSKA\\DATASETS\\PREDYKCJA\\videos\\pieknie.webm: 640x640 1 no_glasses, 4 no_glovess, 2 no_vests, 13.4ms\n",
      "video 2/4 (frame 27/646) f:\\PRACA_MAGISTERSKA\\DATASETS\\PREDYKCJA\\videos\\pieknie.webm: 640x640 1 no_glasses, 4 no_glovess, 2 no_vests, 13.4ms\n",
      "video 2/4 (frame 28/646) f:\\PRACA_MAGISTERSKA\\DATASETS\\PREDYKCJA\\videos\\pieknie.webm: 640x640 1 no_glasses, 4 no_glovess, 2 no_vests, 13.4ms\n",
      "video 2/4 (frame 29/646) f:\\PRACA_MAGISTERSKA\\DATASETS\\PREDYKCJA\\videos\\pieknie.webm: 640x640 1 no_glasses, 4 no_glovess, 2 no_vests, 13.4ms\n",
      "video 2/4 (frame 30/646) f:\\PRACA_MAGISTERSKA\\DATASETS\\PREDYKCJA\\videos\\pieknie.webm: 384x640 1 no_glasses, 4 no_glovess, 1 no_vest, 7.5ms\n",
      "video 2/4 (frame 31/646) f:\\PRACA_MAGISTERSKA\\DATASETS\\PREDYKCJA\\videos\\pieknie.webm: 384x640 1 no_glasses, 3 no_glovess, 2 no_vests, 7.5ms\n",
      "video 2/4 (frame 32/646) f:\\PRACA_MAGISTERSKA\\DATASETS\\PREDYKCJA\\videos\\pieknie.webm: 384x640 1 no_glasses, 3 no_glovess, 2 no_vests, 7.5ms\n",
      "video 2/4 (frame 33/646) f:\\PRACA_MAGISTERSKA\\DATASETS\\PREDYKCJA\\videos\\pieknie.webm: 384x640 2 no_glassess, 3 no_glovess, 2 no_vests, 7.5ms\n",
      "video 2/4 (frame 34/646) f:\\PRACA_MAGISTERSKA\\DATASETS\\PREDYKCJA\\videos\\pieknie.webm: 384x640 1 no_glasses, 3 no_glovess, 2 no_vests, 7.5ms\n",
      "video 2/4 (frame 35/646) f:\\PRACA_MAGISTERSKA\\DATASETS\\PREDYKCJA\\videos\\pieknie.webm: 384x640 1 no_glasses, 3 no_glovess, 2 no_vests, 7.5ms\n",
      "video 2/4 (frame 36/646) f:\\PRACA_MAGISTERSKA\\DATASETS\\PREDYKCJA\\videos\\pieknie.webm: 384x640 1 no_glasses, 3 no_glovess, 2 no_vests, 7.5ms\n",
      "video 2/4 (frame 37/646) f:\\PRACA_MAGISTERSKA\\DATASETS\\PREDYKCJA\\videos\\pieknie.webm: 384x640 1 no_glasses, 3 no_glovess, 2 no_vests, 7.5ms\n",
      "video 2/4 (frame 38/646) f:\\PRACA_MAGISTERSKA\\DATASETS\\PREDYKCJA\\videos\\pieknie.webm: 384x640 1 no_glasses, 3 no_glovess, 2 no_vests, 7.5ms\n",
      "video 2/4 (frame 39/646) f:\\PRACA_MAGISTERSKA\\DATASETS\\PREDYKCJA\\videos\\pieknie.webm: 384x640 1 no_glasses, 3 no_glovess, 2 no_vests, 7.5ms\n",
      "video 2/4 (frame 40/646) f:\\PRACA_MAGISTERSKA\\DATASETS\\PREDYKCJA\\videos\\pieknie.webm: 384x640 1 no_glasses, 3 no_glovess, 2 no_vests, 7.5ms\n",
      "video 2/4 (frame 41/646) f:\\PRACA_MAGISTERSKA\\DATASETS\\PREDYKCJA\\videos\\pieknie.webm: 384x640 1 no_glasses, 3 no_glovess, 2 no_vests, 7.5ms\n",
      "video 2/4 (frame 42/646) f:\\PRACA_MAGISTERSKA\\DATASETS\\PREDYKCJA\\videos\\pieknie.webm: 384x640 1 no_glasses, 3 no_glovess, 2 no_vests, 7.5ms\n",
      "video 2/4 (frame 43/646) f:\\PRACA_MAGISTERSKA\\DATASETS\\PREDYKCJA\\videos\\pieknie.webm: 384x640 1 no_glasses, 3 no_glovess, 2 no_vests, 7.5ms\n",
      "video 2/4 (frame 44/646) f:\\PRACA_MAGISTERSKA\\DATASETS\\PREDYKCJA\\videos\\pieknie.webm: 384x640 1 no_glasses, 3 no_glovess, 2 no_vests, 7.5ms\n",
      "video 2/4 (frame 45/646) f:\\PRACA_MAGISTERSKA\\DATASETS\\PREDYKCJA\\videos\\pieknie.webm: 384x640 1 no_glasses, 3 no_glovess, 2 no_vests, 7.5ms\n",
      "video 2/4 (frame 46/646) f:\\PRACA_MAGISTERSKA\\DATASETS\\PREDYKCJA\\videos\\pieknie.webm: 384x640 1 no_glasses, 3 no_glovess, 2 no_vests, 7.5ms\n",
      "video 2/4 (frame 47/646) f:\\PRACA_MAGISTERSKA\\DATASETS\\PREDYKCJA\\videos\\pieknie.webm: 384x640 1 no_glasses, 3 no_glovess, 2 no_vests, 7.5ms\n",
      "video 2/4 (frame 48/646) f:\\PRACA_MAGISTERSKA\\DATASETS\\PREDYKCJA\\videos\\pieknie.webm: 384x640 1 no_glasses, 3 no_glovess, 2 no_vests, 7.5ms\n",
      "video 2/4 (frame 49/646) f:\\PRACA_MAGISTERSKA\\DATASETS\\PREDYKCJA\\videos\\pieknie.webm: 384x640 1 no_glasses, 3 no_glovess, 2 no_vests, 7.5ms\n",
      "video 2/4 (frame 50/646) f:\\PRACA_MAGISTERSKA\\DATASETS\\PREDYKCJA\\videos\\pieknie.webm: 384x640 1 no_glasses, 3 no_glovess, 2 no_vests, 7.5ms\n",
      "video 2/4 (frame 51/646) f:\\PRACA_MAGISTERSKA\\DATASETS\\PREDYKCJA\\videos\\pieknie.webm: 384x640 1 no_glasses, 3 no_glovess, 2 no_vests, 7.5ms\n",
      "video 2/4 (frame 52/646) f:\\PRACA_MAGISTERSKA\\DATASETS\\PREDYKCJA\\videos\\pieknie.webm: 384x640 1 no_glasses, 3 no_glovess, 2 no_vests, 7.5ms\n",
      "video 2/4 (frame 53/646) f:\\PRACA_MAGISTERSKA\\DATASETS\\PREDYKCJA\\videos\\pieknie.webm: 384x640 1 no_glasses, 3 no_glovess, 2 no_vests, 7.5ms\n",
      "video 2/4 (frame 54/646) f:\\PRACA_MAGISTERSKA\\DATASETS\\PREDYKCJA\\videos\\pieknie.webm: 384x640 1 no_glasses, 3 no_glovess, 2 no_vests, 7.5ms\n",
      "video 2/4 (frame 55/646) f:\\PRACA_MAGISTERSKA\\DATASETS\\PREDYKCJA\\videos\\pieknie.webm: 384x640 1 no_glasses, 3 no_glovess, 2 no_vests, 7.5ms\n",
      "video 2/4 (frame 56/646) f:\\PRACA_MAGISTERSKA\\DATASETS\\PREDYKCJA\\videos\\pieknie.webm: 384x640 1 no_glasses, 3 no_glovess, 2 no_vests, 7.5ms\n",
      "video 2/4 (frame 57/646) f:\\PRACA_MAGISTERSKA\\DATASETS\\PREDYKCJA\\videos\\pieknie.webm: 384x640 1 no_glasses, 3 no_glovess, 2 no_vests, 7.5ms\n",
      "video 2/4 (frame 58/646) f:\\PRACA_MAGISTERSKA\\DATASETS\\PREDYKCJA\\videos\\pieknie.webm: 384x640 1 no_glasses, 3 no_glovess, 2 no_vests, 7.5ms\n",
      "video 2/4 (frame 59/646) f:\\PRACA_MAGISTERSKA\\DATASETS\\PREDYKCJA\\videos\\pieknie.webm: 384x640 1 no_glasses, 3 no_glovess, 2 no_vests, 7.5ms\n",
      "video 2/4 (frame 60/646) f:\\PRACA_MAGISTERSKA\\DATASETS\\PREDYKCJA\\videos\\pieknie.webm: 384x640 1 no_glasses, 3 no_glovess, 2 no_vests, 7.5ms\n",
      "video 2/4 (frame 61/646) f:\\PRACA_MAGISTERSKA\\DATASETS\\PREDYKCJA\\videos\\pieknie.webm: 384x640 1 no_glasses, 4 no_glovess, 2 no_vests, 7.5ms\n",
      "video 2/4 (frame 62/646) f:\\PRACA_MAGISTERSKA\\DATASETS\\PREDYKCJA\\videos\\pieknie.webm: 384x640 1 no_glasses, 3 no_glovess, 2 no_vests, 7.5ms\n",
      "video 2/4 (frame 63/646) f:\\PRACA_MAGISTERSKA\\DATASETS\\PREDYKCJA\\videos\\pieknie.webm: 384x640 1 no_glasses, 3 no_glovess, 2 no_vests, 7.5ms\n",
      "video 2/4 (frame 64/646) f:\\PRACA_MAGISTERSKA\\DATASETS\\PREDYKCJA\\videos\\pieknie.webm: 384x640 1 no_glasses, 3 no_glovess, 2 no_vests, 7.5ms\n",
      "video 2/4 (frame 65/646) f:\\PRACA_MAGISTERSKA\\DATASETS\\PREDYKCJA\\videos\\pieknie.webm: 384x640 1 no_glasses, 3 no_glovess, 2 no_vests, 7.5ms\n",
      "video 2/4 (frame 66/646) f:\\PRACA_MAGISTERSKA\\DATASETS\\PREDYKCJA\\videos\\pieknie.webm: 384x640 1 no_glasses, 3 no_glovess, 2 no_vests, 7.5ms\n",
      "video 2/4 (frame 67/646) f:\\PRACA_MAGISTERSKA\\DATASETS\\PREDYKCJA\\videos\\pieknie.webm: 384x640 1 no_glasses, 3 no_glovess, 2 no_vests, 7.5ms\n",
      "video 2/4 (frame 68/646) f:\\PRACA_MAGISTERSKA\\DATASETS\\PREDYKCJA\\videos\\pieknie.webm: 384x640 1 no_glasses, 3 no_glovess, 2 no_vests, 7.5ms\n",
      "video 2/4 (frame 69/646) f:\\PRACA_MAGISTERSKA\\DATASETS\\PREDYKCJA\\videos\\pieknie.webm: 384x640 1 no_glasses, 3 no_glovess, 2 no_vests, 7.5ms\n",
      "video 2/4 (frame 70/646) f:\\PRACA_MAGISTERSKA\\DATASETS\\PREDYKCJA\\videos\\pieknie.webm: 384x640 1 no_glasses, 3 no_glovess, 2 no_vests, 7.5ms\n",
      "video 2/4 (frame 71/646) f:\\PRACA_MAGISTERSKA\\DATASETS\\PREDYKCJA\\videos\\pieknie.webm: 384x640 1 no_glasses, 3 no_glovess, 2 no_vests, 7.5ms\n",
      "video 2/4 (frame 72/646) f:\\PRACA_MAGISTERSKA\\DATASETS\\PREDYKCJA\\videos\\pieknie.webm: 384x640 1 no_glasses, 4 no_glovess, 2 no_vests, 7.5ms\n",
      "video 2/4 (frame 73/646) f:\\PRACA_MAGISTERSKA\\DATASETS\\PREDYKCJA\\videos\\pieknie.webm: 384x640 1 no_glasses, 3 no_glovess, 2 no_vests, 7.5ms\n",
      "video 2/4 (frame 74/646) f:\\PRACA_MAGISTERSKA\\DATASETS\\PREDYKCJA\\videos\\pieknie.webm: 384x640 1 no_glasses, 4 no_glovess, 2 no_vests, 7.5ms\n",
      "video 2/4 (frame 75/646) f:\\PRACA_MAGISTERSKA\\DATASETS\\PREDYKCJA\\videos\\pieknie.webm: 384x640 1 no_glasses, 4 no_glovess, 2 no_vests, 7.5ms\n",
      "video 2/4 (frame 76/646) f:\\PRACA_MAGISTERSKA\\DATASETS\\PREDYKCJA\\videos\\pieknie.webm: 384x640 1 no_glasses, 3 no_glovess, 2 no_vests, 7.5ms\n",
      "video 2/4 (frame 77/646) f:\\PRACA_MAGISTERSKA\\DATASETS\\PREDYKCJA\\videos\\pieknie.webm: 384x640 1 no_glasses, 4 no_glovess, 2 no_vests, 7.5ms\n",
      "video 2/4 (frame 78/646) f:\\PRACA_MAGISTERSKA\\DATASETS\\PREDYKCJA\\videos\\pieknie.webm: 384x640 1 no_glasses, 4 no_glovess, 2 no_vests, 7.5ms\n",
      "video 2/4 (frame 79/646) f:\\PRACA_MAGISTERSKA\\DATASETS\\PREDYKCJA\\videos\\pieknie.webm: 384x640 1 no_glasses, 4 no_glovess, 2 no_vests, 7.5ms\n",
      "video 2/4 (frame 80/646) f:\\PRACA_MAGISTERSKA\\DATASETS\\PREDYKCJA\\videos\\pieknie.webm: 384x640 1 no_glasses, 4 no_glovess, 2 no_vests, 7.5ms\n",
      "video 2/4 (frame 81/646) f:\\PRACA_MAGISTERSKA\\DATASETS\\PREDYKCJA\\videos\\pieknie.webm: 384x640 1 no_glasses, 3 no_glovess, 2 no_vests, 7.5ms\n",
      "video 2/4 (frame 82/646) f:\\PRACA_MAGISTERSKA\\DATASETS\\PREDYKCJA\\videos\\pieknie.webm: 384x640 1 no_glasses, 3 no_glovess, 2 no_vests, 7.5ms\n",
      "video 2/4 (frame 83/646) f:\\PRACA_MAGISTERSKA\\DATASETS\\PREDYKCJA\\videos\\pieknie.webm: 384x640 2 no_glassess, 4 no_glovess, 1 no_helmet, 2 no_vests, 7.5ms\n",
      "video 2/4 (frame 84/646) f:\\PRACA_MAGISTERSKA\\DATASETS\\PREDYKCJA\\videos\\pieknie.webm: 384x640 1 no_glasses, 3 no_glovess, 2 no_vests, 7.5ms\n",
      "video 2/4 (frame 85/646) f:\\PRACA_MAGISTERSKA\\DATASETS\\PREDYKCJA\\videos\\pieknie.webm: 384x640 1 no_glasses, 3 no_glovess, 2 no_vests, 7.5ms\n",
      "video 2/4 (frame 86/646) f:\\PRACA_MAGISTERSKA\\DATASETS\\PREDYKCJA\\videos\\pieknie.webm: 384x640 1 no_glasses, 4 no_glovess, 2 no_vests, 7.5ms\n",
      "video 2/4 (frame 87/646) f:\\PRACA_MAGISTERSKA\\DATASETS\\PREDYKCJA\\videos\\pieknie.webm: 384x640 1 no_glasses, 4 no_glovess, 2 no_vests, 7.5ms\n",
      "video 2/4 (frame 88/646) f:\\PRACA_MAGISTERSKA\\DATASETS\\PREDYKCJA\\videos\\pieknie.webm: 384x640 1 no_glasses, 4 no_glovess, 2 no_vests, 7.5ms\n",
      "video 2/4 (frame 89/646) f:\\PRACA_MAGISTERSKA\\DATASETS\\PREDYKCJA\\videos\\pieknie.webm: 384x640 4 no_glovess, 2 no_vests, 7.5ms\n",
      "video 2/4 (frame 90/646) f:\\PRACA_MAGISTERSKA\\DATASETS\\PREDYKCJA\\videos\\pieknie.webm: 384x640 1 no_glasses, 4 no_glovess, 2 no_vests, 7.5ms\n",
      "video 2/4 (frame 91/646) f:\\PRACA_MAGISTERSKA\\DATASETS\\PREDYKCJA\\videos\\pieknie.webm: 384x640 1 no_glasses, 4 no_glovess, 2 no_vests, 7.5ms\n",
      "video 2/4 (frame 92/646) f:\\PRACA_MAGISTERSKA\\DATASETS\\PREDYKCJA\\videos\\pieknie.webm: 384x640 1 no_glasses, 4 no_glovess, 2 no_vests, 7.5ms\n",
      "video 2/4 (frame 93/646) f:\\PRACA_MAGISTERSKA\\DATASETS\\PREDYKCJA\\videos\\pieknie.webm: 384x640 3 no_glovess, 2 no_vests, 7.5ms\n",
      "video 2/4 (frame 94/646) f:\\PRACA_MAGISTERSKA\\DATASETS\\PREDYKCJA\\videos\\pieknie.webm: 384x640 4 no_glovess, 2 no_vests, 7.5ms\n",
      "video 2/4 (frame 95/646) f:\\PRACA_MAGISTERSKA\\DATASETS\\PREDYKCJA\\videos\\pieknie.webm: 384x640 4 no_glovess, 2 no_vests, 7.5ms\n",
      "video 2/4 (frame 96/646) f:\\PRACA_MAGISTERSKA\\DATASETS\\PREDYKCJA\\videos\\pieknie.webm: 384x640 3 no_glovess, 2 no_vests, 7.5ms\n",
      "video 2/4 (frame 97/646) f:\\PRACA_MAGISTERSKA\\DATASETS\\PREDYKCJA\\videos\\pieknie.webm: 384x640 3 no_glovess, 2 no_vests, 7.5ms\n",
      "video 2/4 (frame 98/646) f:\\PRACA_MAGISTERSKA\\DATASETS\\PREDYKCJA\\videos\\pieknie.webm: 384x640 2 no_glovess, 2 no_vests, 7.5ms\n",
      "video 2/4 (frame 99/646) f:\\PRACA_MAGISTERSKA\\DATASETS\\PREDYKCJA\\videos\\pieknie.webm: 384x640 2 no_glovess, 2 no_vests, 7.5ms\n",
      "video 2/4 (frame 100/646) f:\\PRACA_MAGISTERSKA\\DATASETS\\PREDYKCJA\\videos\\pieknie.webm: 384x640 1 no_glasses, 2 no_glovess, 2 no_vests, 7.5ms\n",
      "video 2/4 (frame 101/646) f:\\PRACA_MAGISTERSKA\\DATASETS\\PREDYKCJA\\videos\\pieknie.webm: 384x640 1 no_glasses, 3 no_glovess, 2 no_vests, 7.5ms\n",
      "video 2/4 (frame 102/646) f:\\PRACA_MAGISTERSKA\\DATASETS\\PREDYKCJA\\videos\\pieknie.webm: 384x640 1 no_glasses, 3 no_glovess, 2 no_vests, 7.5ms\n",
      "video 2/4 (frame 103/646) f:\\PRACA_MAGISTERSKA\\DATASETS\\PREDYKCJA\\videos\\pieknie.webm: 384x640 1 no_glasses, 3 no_glovess, 2 no_vests, 7.5ms\n",
      "video 2/4 (frame 104/646) f:\\PRACA_MAGISTERSKA\\DATASETS\\PREDYKCJA\\videos\\pieknie.webm: 384x640 1 no_glasses, 4 no_glovess, 2 no_vests, 7.5ms\n",
      "video 2/4 (frame 105/646) f:\\PRACA_MAGISTERSKA\\DATASETS\\PREDYKCJA\\videos\\pieknie.webm: 384x640 1 no_glasses, 4 no_glovess, 2 no_vests, 7.5ms\n",
      "video 2/4 (frame 106/646) f:\\PRACA_MAGISTERSKA\\DATASETS\\PREDYKCJA\\videos\\pieknie.webm: 384x640 1 no_glasses, 4 no_glovess, 2 no_vests, 7.5ms\n",
      "video 2/4 (frame 107/646) f:\\PRACA_MAGISTERSKA\\DATASETS\\PREDYKCJA\\videos\\pieknie.webm: 384x640 4 no_glovess, 2 no_vests, 7.5ms\n",
      "video 2/4 (frame 108/646) f:\\PRACA_MAGISTERSKA\\DATASETS\\PREDYKCJA\\videos\\pieknie.webm: 384x640 1 no_glasses, 4 no_glovess, 2 no_vests, 7.5ms\n",
      "video 2/4 (frame 109/646) f:\\PRACA_MAGISTERSKA\\DATASETS\\PREDYKCJA\\videos\\pieknie.webm: 384x640 1 no_glasses, 4 no_glovess, 2 no_vests, 7.5ms\n",
      "video 2/4 (frame 110/646) f:\\PRACA_MAGISTERSKA\\DATASETS\\PREDYKCJA\\videos\\pieknie.webm: 384x640 1 no_glasses, 4 no_glovess, 2 no_vests, 7.5ms\n",
      "video 2/4 (frame 111/646) f:\\PRACA_MAGISTERSKA\\DATASETS\\PREDYKCJA\\videos\\pieknie.webm: 384x640 1 no_glasses, 3 no_glovess, 2 no_vests, 7.5ms\n",
      "video 2/4 (frame 112/646) f:\\PRACA_MAGISTERSKA\\DATASETS\\PREDYKCJA\\videos\\pieknie.webm: 384x640 1 no_glasses, 3 no_glovess, 2 no_vests, 7.5ms\n",
      "video 2/4 (frame 113/646) f:\\PRACA_MAGISTERSKA\\DATASETS\\PREDYKCJA\\videos\\pieknie.webm: 384x640 1 no_glasses, 3 no_glovess, 2 no_vests, 7.5ms\n",
      "video 2/4 (frame 114/646) f:\\PRACA_MAGISTERSKA\\DATASETS\\PREDYKCJA\\videos\\pieknie.webm: 384x640 1 no_glasses, 2 no_glovess, 2 no_vests, 7.5ms\n",
      "video 2/4 (frame 115/646) f:\\PRACA_MAGISTERSKA\\DATASETS\\PREDYKCJA\\videos\\pieknie.webm: 384x640 1 no_glasses, 2 no_glovess, 2 no_vests, 7.5ms\n",
      "video 2/4 (frame 116/646) f:\\PRACA_MAGISTERSKA\\DATASETS\\PREDYKCJA\\videos\\pieknie.webm: 384x640 1 no_glasses, 2 no_glovess, 2 no_vests, 7.5ms\n",
      "video 2/4 (frame 117/646) f:\\PRACA_MAGISTERSKA\\DATASETS\\PREDYKCJA\\videos\\pieknie.webm: 384x640 2 no_glassess, 2 no_glovess, 2 no_vests, 7.5ms\n",
      "video 2/4 (frame 118/646) f:\\PRACA_MAGISTERSKA\\DATASETS\\PREDYKCJA\\videos\\pieknie.webm: 384x640 1 no_glasses, 2 no_glovess, 2 no_vests, 7.5ms\n",
      "video 2/4 (frame 119/646) f:\\PRACA_MAGISTERSKA\\DATASETS\\PREDYKCJA\\videos\\pieknie.webm: 384x640 1 no_glasses, 2 no_glovess, 2 no_vests, 7.5ms\n",
      "video 2/4 (frame 120/646) f:\\PRACA_MAGISTERSKA\\DATASETS\\PREDYKCJA\\videos\\pieknie.webm: 384x640 1 no_glasses, 2 no_glovess, 2 no_vests, 7.5ms\n",
      "video 2/4 (frame 121/646) f:\\PRACA_MAGISTERSKA\\DATASETS\\PREDYKCJA\\videos\\pieknie.webm: 384x640 1 no_glasses, 2 no_glovess, 3 no_vests, 7.5ms\n",
      "video 2/4 (frame 122/646) f:\\PRACA_MAGISTERSKA\\DATASETS\\PREDYKCJA\\videos\\pieknie.webm: 384x640 1 no_glasses, 2 no_glovess, 2 no_vests, 7.5ms\n",
      "video 2/4 (frame 123/646) f:\\PRACA_MAGISTERSKA\\DATASETS\\PREDYKCJA\\videos\\pieknie.webm: 384x640 1 no_glasses, 2 no_glovess, 2 no_vests, 7.5ms\n",
      "video 2/4 (frame 124/646) f:\\PRACA_MAGISTERSKA\\DATASETS\\PREDYKCJA\\videos\\pieknie.webm: 384x640 1 no_glasses, 2 no_glovess, 2 no_vests, 7.5ms\n",
      "video 2/4 (frame 125/646) f:\\PRACA_MAGISTERSKA\\DATASETS\\PREDYKCJA\\videos\\pieknie.webm: 384x640 1 no_glasses, 2 no_glovess, 2 no_vests, 7.5ms\n",
      "video 2/4 (frame 126/646) f:\\PRACA_MAGISTERSKA\\DATASETS\\PREDYKCJA\\videos\\pieknie.webm: 384x640 1 no_glasses, 2 no_glovess, 2 no_vests, 7.5ms\n",
      "video 2/4 (frame 127/646) f:\\PRACA_MAGISTERSKA\\DATASETS\\PREDYKCJA\\videos\\pieknie.webm: 384x640 1 no_glasses, 2 no_glovess, 2 no_vests, 7.5ms\n",
      "video 2/4 (frame 128/646) f:\\PRACA_MAGISTERSKA\\DATASETS\\PREDYKCJA\\videos\\pieknie.webm: 384x640 1 no_glasses, 3 no_glovess, 2 no_vests, 7.5ms\n",
      "video 2/4 (frame 129/646) f:\\PRACA_MAGISTERSKA\\DATASETS\\PREDYKCJA\\videos\\pieknie.webm: 384x640 1 no_glasses, 2 no_glovess, 2 no_vests, 7.5ms\n",
      "video 2/4 (frame 130/646) f:\\PRACA_MAGISTERSKA\\DATASETS\\PREDYKCJA\\videos\\pieknie.webm: 384x640 1 no_glasses, 3 no_glovess, 2 no_vests, 7.5ms\n",
      "video 2/4 (frame 131/646) f:\\PRACA_MAGISTERSKA\\DATASETS\\PREDYKCJA\\videos\\pieknie.webm: 384x640 1 no_glasses, 4 no_glovess, 2 no_vests, 7.5ms\n",
      "video 2/4 (frame 132/646) f:\\PRACA_MAGISTERSKA\\DATASETS\\PREDYKCJA\\videos\\pieknie.webm: 384x640 1 no_glasses, 4 no_glovess, 2 no_vests, 7.5ms\n",
      "video 2/4 (frame 133/646) f:\\PRACA_MAGISTERSKA\\DATASETS\\PREDYKCJA\\videos\\pieknie.webm: 384x640 1 no_glasses, 4 no_glovess, 2 no_vests, 7.5ms\n",
      "video 2/4 (frame 134/646) f:\\PRACA_MAGISTERSKA\\DATASETS\\PREDYKCJA\\videos\\pieknie.webm: 384x640 1 no_glasses, 4 no_glovess, 2 no_vests, 7.5ms\n",
      "video 2/4 (frame 135/646) f:\\PRACA_MAGISTERSKA\\DATASETS\\PREDYKCJA\\videos\\pieknie.webm: 384x640 1 no_glasses, 4 no_glovess, 3 no_vests, 7.5ms\n",
      "video 2/4 (frame 136/646) f:\\PRACA_MAGISTERSKA\\DATASETS\\PREDYKCJA\\videos\\pieknie.webm: 384x640 1 no_glasses, 4 no_glovess, 2 no_vests, 7.5ms\n",
      "video 2/4 (frame 137/646) f:\\PRACA_MAGISTERSKA\\DATASETS\\PREDYKCJA\\videos\\pieknie.webm: 384x640 4 no_glovess, 2 no_vests, 7.5ms\n",
      "video 2/4 (frame 138/646) f:\\PRACA_MAGISTERSKA\\DATASETS\\PREDYKCJA\\videos\\pieknie.webm: 384x640 1 no_glasses, 4 no_glovess, 2 no_vests, 7.5ms\n",
      "video 2/4 (frame 139/646) f:\\PRACA_MAGISTERSKA\\DATASETS\\PREDYKCJA\\videos\\pieknie.webm: 384x640 1 no_glasses, 4 no_glovess, 2 no_vests, 7.5ms\n",
      "video 2/4 (frame 140/646) f:\\PRACA_MAGISTERSKA\\DATASETS\\PREDYKCJA\\videos\\pieknie.webm: 384x640 1 no_glasses, 4 no_glovess, 2 no_vests, 7.5ms\n",
      "video 2/4 (frame 141/646) f:\\PRACA_MAGISTERSKA\\DATASETS\\PREDYKCJA\\videos\\pieknie.webm: 384x640 1 no_glasses, 3 no_glovess, 2 no_vests, 7.5ms\n",
      "video 2/4 (frame 142/646) f:\\PRACA_MAGISTERSKA\\DATASETS\\PREDYKCJA\\videos\\pieknie.webm: 384x640 1 no_glasses, 3 no_glovess, 2 no_vests, 7.5ms\n",
      "video 2/4 (frame 143/646) f:\\PRACA_MAGISTERSKA\\DATASETS\\PREDYKCJA\\videos\\pieknie.webm: 384x640 1 no_glasses, 4 no_glovess, 2 no_vests, 7.5ms\n",
      "video 2/4 (frame 144/646) f:\\PRACA_MAGISTERSKA\\DATASETS\\PREDYKCJA\\videos\\pieknie.webm: 384x640 1 no_glasses, 4 no_glovess, 2 no_vests, 7.5ms\n",
      "video 2/4 (frame 145/646) f:\\PRACA_MAGISTERSKA\\DATASETS\\PREDYKCJA\\videos\\pieknie.webm: 384x640 1 no_glasses, 4 no_glovess, 2 no_vests, 7.5ms\n",
      "video 2/4 (frame 146/646) f:\\PRACA_MAGISTERSKA\\DATASETS\\PREDYKCJA\\videos\\pieknie.webm: 384x640 1 no_glasses, 4 no_glovess, 2 no_vests, 7.5ms\n",
      "video 2/4 (frame 147/646) f:\\PRACA_MAGISTERSKA\\DATASETS\\PREDYKCJA\\videos\\pieknie.webm: 384x640 1 no_glasses, 3 no_glovess, 2 no_vests, 7.5ms\n",
      "video 2/4 (frame 148/646) f:\\PRACA_MAGISTERSKA\\DATASETS\\PREDYKCJA\\videos\\pieknie.webm: 384x640 1 no_glasses, 4 no_glovess, 2 no_vests, 7.5ms\n",
      "video 2/4 (frame 149/646) f:\\PRACA_MAGISTERSKA\\DATASETS\\PREDYKCJA\\videos\\pieknie.webm: 384x640 1 no_glasses, 4 no_glovess, 2 no_vests, 7.5ms\n",
      "video 2/4 (frame 150/646) f:\\PRACA_MAGISTERSKA\\DATASETS\\PREDYKCJA\\videos\\pieknie.webm: 384x640 1 no_glasses, 4 no_glovess, 2 no_vests, 7.5ms\n",
      "video 2/4 (frame 151/646) f:\\PRACA_MAGISTERSKA\\DATASETS\\PREDYKCJA\\videos\\pieknie.webm: 384x640 1 no_glasses, 3 no_glovess, 2 no_vests, 7.5ms\n",
      "video 2/4 (frame 152/646) f:\\PRACA_MAGISTERSKA\\DATASETS\\PREDYKCJA\\videos\\pieknie.webm: 384x640 1 no_glasses, 3 no_glovess, 2 no_vests, 7.5ms\n",
      "video 2/4 (frame 153/646) f:\\PRACA_MAGISTERSKA\\DATASETS\\PREDYKCJA\\videos\\pieknie.webm: 384x640 1 no_glasses, 4 no_glovess, 2 no_vests, 7.5ms\n",
      "video 2/4 (frame 154/646) f:\\PRACA_MAGISTERSKA\\DATASETS\\PREDYKCJA\\videos\\pieknie.webm: 384x640 1 no_glasses, 4 no_glovess, 2 no_vests, 7.5ms\n",
      "video 2/4 (frame 155/646) f:\\PRACA_MAGISTERSKA\\DATASETS\\PREDYKCJA\\videos\\pieknie.webm: 384x640 1 no_glasses, 4 no_glovess, 2 no_vests, 7.5ms\n",
      "video 2/4 (frame 156/646) f:\\PRACA_MAGISTERSKA\\DATASETS\\PREDYKCJA\\videos\\pieknie.webm: 384x640 1 no_glasses, 4 no_glovess, 2 no_vests, 7.5ms\n",
      "video 2/4 (frame 157/646) f:\\PRACA_MAGISTERSKA\\DATASETS\\PREDYKCJA\\videos\\pieknie.webm: 384x640 1 no_glasses, 4 no_glovess, 2 no_vests, 7.5ms\n",
      "video 2/4 (frame 158/646) f:\\PRACA_MAGISTERSKA\\DATASETS\\PREDYKCJA\\videos\\pieknie.webm: 384x640 1 no_glasses, 3 no_glovess, 2 no_vests, 7.5ms\n",
      "video 2/4 (frame 159/646) f:\\PRACA_MAGISTERSKA\\DATASETS\\PREDYKCJA\\videos\\pieknie.webm: 384x640 1 no_glasses, 4 no_glovess, 2 no_vests, 7.5ms\n",
      "video 2/4 (frame 160/646) f:\\PRACA_MAGISTERSKA\\DATASETS\\PREDYKCJA\\videos\\pieknie.webm: 384x640 1 no_glasses, 4 no_glovess, 2 no_vests, 7.5ms\n",
      "video 2/4 (frame 161/646) f:\\PRACA_MAGISTERSKA\\DATASETS\\PREDYKCJA\\videos\\pieknie.webm: 384x640 1 no_glasses, 3 no_glovess, 2 no_vests, 7.5ms\n",
      "video 2/4 (frame 162/646) f:\\PRACA_MAGISTERSKA\\DATASETS\\PREDYKCJA\\videos\\pieknie.webm: 384x640 1 no_glasses, 3 no_glovess, 2 no_vests, 7.5ms\n",
      "video 2/4 (frame 163/646) f:\\PRACA_MAGISTERSKA\\DATASETS\\PREDYKCJA\\videos\\pieknie.webm: 384x640 1 no_glasses, 4 no_glovess, 2 no_vests, 7.5ms\n",
      "video 2/4 (frame 164/646) f:\\PRACA_MAGISTERSKA\\DATASETS\\PREDYKCJA\\videos\\pieknie.webm: 384x640 1 no_glasses, 4 no_glovess, 2 no_vests, 7.5ms\n",
      "video 2/4 (frame 165/646) f:\\PRACA_MAGISTERSKA\\DATASETS\\PREDYKCJA\\videos\\pieknie.webm: 384x640 1 no_glasses, 4 no_glovess, 2 no_vests, 7.5ms\n",
      "video 2/4 (frame 166/646) f:\\PRACA_MAGISTERSKA\\DATASETS\\PREDYKCJA\\videos\\pieknie.webm: 384x640 1 no_glasses, 4 no_glovess, 2 no_vests, 7.5ms\n",
      "video 2/4 (frame 167/646) f:\\PRACA_MAGISTERSKA\\DATASETS\\PREDYKCJA\\videos\\pieknie.webm: 384x640 1 no_glasses, 3 no_glovess, 2 no_vests, 7.5ms\n",
      "video 2/4 (frame 168/646) f:\\PRACA_MAGISTERSKA\\DATASETS\\PREDYKCJA\\videos\\pieknie.webm: 384x640 1 no_glasses, 3 no_glovess, 2 no_vests, 7.5ms\n",
      "video 2/4 (frame 169/646) f:\\PRACA_MAGISTERSKA\\DATASETS\\PREDYKCJA\\videos\\pieknie.webm: 384x640 1 no_glasses, 3 no_glovess, 2 no_vests, 7.5ms\n",
      "video 2/4 (frame 170/646) f:\\PRACA_MAGISTERSKA\\DATASETS\\PREDYKCJA\\videos\\pieknie.webm: 384x640 1 no_glasses, 3 no_glovess, 2 no_vests, 7.5ms\n",
      "video 2/4 (frame 171/646) f:\\PRACA_MAGISTERSKA\\DATASETS\\PREDYKCJA\\videos\\pieknie.webm: 384x640 1 no_glasses, 3 no_glovess, 2 no_vests, 7.5ms\n",
      "video 2/4 (frame 172/646) f:\\PRACA_MAGISTERSKA\\DATASETS\\PREDYKCJA\\videos\\pieknie.webm: 384x640 1 no_glasses, 3 no_glovess, 2 no_vests, 7.5ms\n",
      "video 2/4 (frame 173/646) f:\\PRACA_MAGISTERSKA\\DATASETS\\PREDYKCJA\\videos\\pieknie.webm: 384x640 1 no_glasses, 4 no_glovess, 2 no_vests, 7.5ms\n",
      "video 2/4 (frame 174/646) f:\\PRACA_MAGISTERSKA\\DATASETS\\PREDYKCJA\\videos\\pieknie.webm: 384x640 1 no_glasses, 3 no_glovess, 2 no_vests, 7.5ms\n",
      "video 2/4 (frame 175/646) f:\\PRACA_MAGISTERSKA\\DATASETS\\PREDYKCJA\\videos\\pieknie.webm: 384x640 1 no_glasses, 3 no_glovess, 2 no_vests, 7.5ms\n",
      "video 2/4 (frame 176/646) f:\\PRACA_MAGISTERSKA\\DATASETS\\PREDYKCJA\\videos\\pieknie.webm: 384x640 1 no_glasses, 4 no_glovess, 2 no_vests, 7.5ms\n",
      "video 2/4 (frame 177/646) f:\\PRACA_MAGISTERSKA\\DATASETS\\PREDYKCJA\\videos\\pieknie.webm: 384x640 2 no_glassess, 4 no_glovess, 2 no_vests, 7.5ms\n",
      "video 2/4 (frame 178/646) f:\\PRACA_MAGISTERSKA\\DATASETS\\PREDYKCJA\\videos\\pieknie.webm: 384x640 1 no_glasses, 4 no_glovess, 2 no_vests, 7.5ms\n",
      "video 2/4 (frame 179/646) f:\\PRACA_MAGISTERSKA\\DATASETS\\PREDYKCJA\\videos\\pieknie.webm: 384x640 1 no_glasses, 3 no_glovess, 2 no_vests, 7.5ms\n",
      "video 2/4 (frame 180/646) f:\\PRACA_MAGISTERSKA\\DATASETS\\PREDYKCJA\\videos\\pieknie.webm: 384x640 2 no_glassess, 4 no_glovess, 2 no_vests, 7.5ms\n",
      "video 2/4 (frame 181/646) f:\\PRACA_MAGISTERSKA\\DATASETS\\PREDYKCJA\\videos\\pieknie.webm: 384x640 2 no_glassess, 4 no_glovess, 2 no_vests, 7.5ms\n",
      "video 2/4 (frame 182/646) f:\\PRACA_MAGISTERSKA\\DATASETS\\PREDYKCJA\\videos\\pieknie.webm: 384x640 2 no_glassess, 3 no_glovess, 2 no_vests, 7.5ms\n",
      "video 2/4 (frame 183/646) f:\\PRACA_MAGISTERSKA\\DATASETS\\PREDYKCJA\\videos\\pieknie.webm: 384x640 1 no_glasses, 3 no_glovess, 2 no_vests, 7.5ms\n",
      "video 2/4 (frame 184/646) f:\\PRACA_MAGISTERSKA\\DATASETS\\PREDYKCJA\\videos\\pieknie.webm: 384x640 1 no_glasses, 4 no_glovess, 2 no_vests, 7.5ms\n",
      "video 2/4 (frame 185/646) f:\\PRACA_MAGISTERSKA\\DATASETS\\PREDYKCJA\\videos\\pieknie.webm: 384x640 1 no_glasses, 4 no_glovess, 2 no_vests, 7.5ms\n",
      "video 2/4 (frame 186/646) f:\\PRACA_MAGISTERSKA\\DATASETS\\PREDYKCJA\\videos\\pieknie.webm: 384x640 1 no_glasses, 4 no_glovess, 2 no_vests, 7.5ms\n",
      "video 2/4 (frame 187/646) f:\\PRACA_MAGISTERSKA\\DATASETS\\PREDYKCJA\\videos\\pieknie.webm: 384x640 1 no_glasses, 3 no_glovess, 2 no_vests, 7.5ms\n",
      "video 2/4 (frame 188/646) f:\\PRACA_MAGISTERSKA\\DATASETS\\PREDYKCJA\\videos\\pieknie.webm: 384x640 1 no_glasses, 2 no_glovess, 2 no_vests, 7.5ms\n",
      "video 2/4 (frame 189/646) f:\\PRACA_MAGISTERSKA\\DATASETS\\PREDYKCJA\\videos\\pieknie.webm: 384x640 1 no_glasses, 3 no_glovess, 2 no_vests, 7.5ms\n",
      "video 2/4 (frame 190/646) f:\\PRACA_MAGISTERSKA\\DATASETS\\PREDYKCJA\\videos\\pieknie.webm: 384x640 1 no_glasses, 2 no_glovess, 2 no_vests, 7.5ms\n",
      "video 2/4 (frame 191/646) f:\\PRACA_MAGISTERSKA\\DATASETS\\PREDYKCJA\\videos\\pieknie.webm: 384x640 1 no_glasses, 4 no_glovess, 2 no_vests, 7.5ms\n",
      "video 2/4 (frame 192/646) f:\\PRACA_MAGISTERSKA\\DATASETS\\PREDYKCJA\\videos\\pieknie.webm: 384x640 1 no_glasses, 3 no_glovess, 2 no_vests, 7.5ms\n",
      "video 2/4 (frame 193/646) f:\\PRACA_MAGISTERSKA\\DATASETS\\PREDYKCJA\\videos\\pieknie.webm: 384x640 1 no_glasses, 4 no_glovess, 2 no_vests, 7.5ms\n",
      "video 2/4 (frame 194/646) f:\\PRACA_MAGISTERSKA\\DATASETS\\PREDYKCJA\\videos\\pieknie.webm: 384x640 1 no_glasses, 4 no_glovess, 2 no_vests, 7.5ms\n",
      "video 2/4 (frame 195/646) f:\\PRACA_MAGISTERSKA\\DATASETS\\PREDYKCJA\\videos\\pieknie.webm: 384x640 1 no_glasses, 4 no_glovess, 2 no_vests, 7.5ms\n",
      "video 2/4 (frame 196/646) f:\\PRACA_MAGISTERSKA\\DATASETS\\PREDYKCJA\\videos\\pieknie.webm: 384x640 1 no_glasses, 4 no_glovess, 2 no_vests, 7.5ms\n",
      "video 2/4 (frame 197/646) f:\\PRACA_MAGISTERSKA\\DATASETS\\PREDYKCJA\\videos\\pieknie.webm: 384x640 1 no_glasses, 3 no_glovess, 2 no_vests, 7.5ms\n",
      "video 2/4 (frame 198/646) f:\\PRACA_MAGISTERSKA\\DATASETS\\PREDYKCJA\\videos\\pieknie.webm: 384x640 1 no_glasses, 3 no_glovess, 2 no_vests, 7.5ms\n",
      "video 2/4 (frame 199/646) f:\\PRACA_MAGISTERSKA\\DATASETS\\PREDYKCJA\\videos\\pieknie.webm: 384x640 1 no_glasses, 3 no_glovess, 2 no_vests, 7.5ms\n",
      "video 2/4 (frame 200/646) f:\\PRACA_MAGISTERSKA\\DATASETS\\PREDYKCJA\\videos\\pieknie.webm: 384x640 1 no_glasses, 3 no_glovess, 2 no_vests, 7.5ms\n",
      "video 2/4 (frame 201/646) f:\\PRACA_MAGISTERSKA\\DATASETS\\PREDYKCJA\\videos\\pieknie.webm: 384x640 1 no_glasses, 3 no_glovess, 2 no_vests, 7.5ms\n",
      "video 2/4 (frame 202/646) f:\\PRACA_MAGISTERSKA\\DATASETS\\PREDYKCJA\\videos\\pieknie.webm: 384x640 3 no_glovess, 2 no_vests, 7.5ms\n",
      "video 2/4 (frame 203/646) f:\\PRACA_MAGISTERSKA\\DATASETS\\PREDYKCJA\\videos\\pieknie.webm: 384x640 1 no_glasses, 3 no_glovess, 2 no_vests, 7.5ms\n",
      "video 2/4 (frame 204/646) f:\\PRACA_MAGISTERSKA\\DATASETS\\PREDYKCJA\\videos\\pieknie.webm: 384x640 1 no_glasses, 3 no_glovess, 2 no_vests, 7.5ms\n",
      "video 2/4 (frame 205/646) f:\\PRACA_MAGISTERSKA\\DATASETS\\PREDYKCJA\\videos\\pieknie.webm: 384x640 1 no_glasses, 3 no_glovess, 2 no_vests, 7.5ms\n",
      "video 2/4 (frame 206/646) f:\\PRACA_MAGISTERSKA\\DATASETS\\PREDYKCJA\\videos\\pieknie.webm: 384x640 1 no_glasses, 3 no_glovess, 2 no_vests, 7.5ms\n",
      "video 2/4 (frame 207/646) f:\\PRACA_MAGISTERSKA\\DATASETS\\PREDYKCJA\\videos\\pieknie.webm: 384x640 1 no_glasses, 3 no_glovess, 2 no_vests, 7.5ms\n",
      "video 2/4 (frame 208/646) f:\\PRACA_MAGISTERSKA\\DATASETS\\PREDYKCJA\\videos\\pieknie.webm: 384x640 1 no_glasses, 3 no_glovess, 2 no_vests, 7.5ms\n",
      "video 2/4 (frame 209/646) f:\\PRACA_MAGISTERSKA\\DATASETS\\PREDYKCJA\\videos\\pieknie.webm: 384x640 1 no_glasses, 4 no_glovess, 2 no_vests, 7.5ms\n",
      "video 2/4 (frame 210/646) f:\\PRACA_MAGISTERSKA\\DATASETS\\PREDYKCJA\\videos\\pieknie.webm: 384x640 1 no_glasses, 4 no_glovess, 1 no_helmet, 2 no_vests, 7.5ms\n",
      "video 2/4 (frame 211/646) f:\\PRACA_MAGISTERSKA\\DATASETS\\PREDYKCJA\\videos\\pieknie.webm: 384x640 1 no_glasses, 4 no_glovess, 2 no_vests, 7.5ms\n",
      "video 2/4 (frame 212/646) f:\\PRACA_MAGISTERSKA\\DATASETS\\PREDYKCJA\\videos\\pieknie.webm: 384x640 1 no_glasses, 4 no_glovess, 2 no_vests, 7.5ms\n",
      "video 2/4 (frame 213/646) f:\\PRACA_MAGISTERSKA\\DATASETS\\PREDYKCJA\\videos\\pieknie.webm: 384x640 1 no_glasses, 4 no_glovess, 2 no_vests, 7.5ms\n",
      "video 2/4 (frame 214/646) f:\\PRACA_MAGISTERSKA\\DATASETS\\PREDYKCJA\\videos\\pieknie.webm: 384x640 3 no_glovess, 2 no_vests, 7.5ms\n",
      "video 2/4 (frame 215/646) f:\\PRACA_MAGISTERSKA\\DATASETS\\PREDYKCJA\\videos\\pieknie.webm: 384x640 1 no_glasses, 3 no_glovess, 2 no_vests, 7.5ms\n",
      "video 2/4 (frame 216/646) f:\\PRACA_MAGISTERSKA\\DATASETS\\PREDYKCJA\\videos\\pieknie.webm: 384x640 1 no_glasses, 3 no_glovess, 2 no_vests, 7.5ms\n",
      "video 2/4 (frame 217/646) f:\\PRACA_MAGISTERSKA\\DATASETS\\PREDYKCJA\\videos\\pieknie.webm: 384x640 1 no_glasses, 3 no_glovess, 2 no_vests, 7.5ms\n",
      "video 2/4 (frame 218/646) f:\\PRACA_MAGISTERSKA\\DATASETS\\PREDYKCJA\\videos\\pieknie.webm: 384x640 1 no_glasses, 3 no_glovess, 2 no_vests, 7.5ms\n",
      "video 2/4 (frame 219/646) f:\\PRACA_MAGISTERSKA\\DATASETS\\PREDYKCJA\\videos\\pieknie.webm: 384x640 1 no_glasses, 3 no_glovess, 2 no_vests, 7.5ms\n",
      "video 2/4 (frame 220/646) f:\\PRACA_MAGISTERSKA\\DATASETS\\PREDYKCJA\\videos\\pieknie.webm: 384x640 1 no_glasses, 3 no_glovess, 2 no_vests, 7.5ms\n",
      "video 2/4 (frame 221/646) f:\\PRACA_MAGISTERSKA\\DATASETS\\PREDYKCJA\\videos\\pieknie.webm: 384x640 1 no_glasses, 3 no_glovess, 2 no_vests, 7.5ms\n",
      "video 2/4 (frame 222/646) f:\\PRACA_MAGISTERSKA\\DATASETS\\PREDYKCJA\\videos\\pieknie.webm: 384x640 3 no_glovess, 2 no_vests, 7.5ms\n",
      "video 2/4 (frame 223/646) f:\\PRACA_MAGISTERSKA\\DATASETS\\PREDYKCJA\\videos\\pieknie.webm: 384x640 3 no_glovess, 2 no_vests, 7.5ms\n",
      "video 2/4 (frame 224/646) f:\\PRACA_MAGISTERSKA\\DATASETS\\PREDYKCJA\\videos\\pieknie.webm: 384x640 1 no_glasses, 4 no_glovess, 2 no_vests, 7.5ms\n",
      "video 2/4 (frame 225/646) f:\\PRACA_MAGISTERSKA\\DATASETS\\PREDYKCJA\\videos\\pieknie.webm: 384x640 1 no_glasses, 4 no_glovess, 2 no_vests, 7.5ms\n",
      "video 2/4 (frame 226/646) f:\\PRACA_MAGISTERSKA\\DATASETS\\PREDYKCJA\\videos\\pieknie.webm: 384x640 1 no_glasses, 4 no_glovess, 2 no_vests, 7.5ms\n",
      "video 2/4 (frame 227/646) f:\\PRACA_MAGISTERSKA\\DATASETS\\PREDYKCJA\\videos\\pieknie.webm: 384x640 1 no_glasses, 5 no_glovess, 2 no_vests, 7.5ms\n",
      "video 2/4 (frame 228/646) f:\\PRACA_MAGISTERSKA\\DATASETS\\PREDYKCJA\\videos\\pieknie.webm: 384x640 1 no_glasses, 4 no_glovess, 2 no_vests, 7.5ms\n",
      "video 2/4 (frame 229/646) f:\\PRACA_MAGISTERSKA\\DATASETS\\PREDYKCJA\\videos\\pieknie.webm: 384x640 1 no_glasses, 4 no_glovess, 2 no_vests, 7.5ms\n",
      "video 2/4 (frame 230/646) f:\\PRACA_MAGISTERSKA\\DATASETS\\PREDYKCJA\\videos\\pieknie.webm: 384x640 1 no_glasses, 4 no_glovess, 2 no_vests, 7.5ms\n",
      "video 2/4 (frame 231/646) f:\\PRACA_MAGISTERSKA\\DATASETS\\PREDYKCJA\\videos\\pieknie.webm: 384x640 1 no_glasses, 4 no_glovess, 2 no_vests, 7.5ms\n",
      "video 2/4 (frame 232/646) f:\\PRACA_MAGISTERSKA\\DATASETS\\PREDYKCJA\\videos\\pieknie.webm: 384x640 1 no_glasses, 4 no_glovess, 2 no_vests, 7.5ms\n",
      "video 2/4 (frame 233/646) f:\\PRACA_MAGISTERSKA\\DATASETS\\PREDYKCJA\\videos\\pieknie.webm: 384x640 1 no_glasses, 3 no_glovess, 2 no_vests, 7.5ms\n",
      "video 2/4 (frame 234/646) f:\\PRACA_MAGISTERSKA\\DATASETS\\PREDYKCJA\\videos\\pieknie.webm: 384x640 1 no_glasses, 4 no_glovess, 2 no_vests, 7.5ms\n",
      "video 2/4 (frame 235/646) f:\\PRACA_MAGISTERSKA\\DATASETS\\PREDYKCJA\\videos\\pieknie.webm: 384x640 1 no_glasses, 4 no_glovess, 2 no_vests, 7.5ms\n",
      "video 2/4 (frame 236/646) f:\\PRACA_MAGISTERSKA\\DATASETS\\PREDYKCJA\\videos\\pieknie.webm: 384x640 1 no_glasses, 4 no_glovess, 2 no_vests, 7.5ms\n",
      "video 2/4 (frame 237/646) f:\\PRACA_MAGISTERSKA\\DATASETS\\PREDYKCJA\\videos\\pieknie.webm: 384x640 1 no_glasses, 4 no_glovess, 2 no_vests, 7.5ms\n",
      "video 2/4 (frame 238/646) f:\\PRACA_MAGISTERSKA\\DATASETS\\PREDYKCJA\\videos\\pieknie.webm: 384x640 1 no_glasses, 3 no_glovess, 2 no_vests, 7.5ms\n",
      "video 2/4 (frame 239/646) f:\\PRACA_MAGISTERSKA\\DATASETS\\PREDYKCJA\\videos\\pieknie.webm: 384x640 1 no_glasses, 4 no_glovess, 2 no_vests, 7.5ms\n",
      "video 2/4 (frame 240/646) f:\\PRACA_MAGISTERSKA\\DATASETS\\PREDYKCJA\\videos\\pieknie.webm: 384x640 1 no_glasses, 3 no_glovess, 2 no_vests, 7.5ms\n",
      "video 2/4 (frame 241/646) f:\\PRACA_MAGISTERSKA\\DATASETS\\PREDYKCJA\\videos\\pieknie.webm: 384x640 1 no_glasses, 3 no_glovess, 2 no_vests, 7.5ms\n",
      "video 2/4 (frame 242/646) f:\\PRACA_MAGISTERSKA\\DATASETS\\PREDYKCJA\\videos\\pieknie.webm: 384x640 2 no_glassess, 3 no_glovess, 2 no_vests, 7.5ms\n",
      "video 2/4 (frame 243/646) f:\\PRACA_MAGISTERSKA\\DATASETS\\PREDYKCJA\\videos\\pieknie.webm: 384x640 2 no_glassess, 3 no_glovess, 2 no_vests, 7.5ms\n",
      "video 2/4 (frame 244/646) f:\\PRACA_MAGISTERSKA\\DATASETS\\PREDYKCJA\\videos\\pieknie.webm: 384x640 2 no_glassess, 3 no_glovess, 2 no_vests, 7.5ms\n",
      "video 2/4 (frame 245/646) f:\\PRACA_MAGISTERSKA\\DATASETS\\PREDYKCJA\\videos\\pieknie.webm: 384x640 1 no_glasses, 4 no_glovess, 2 no_vests, 7.5ms\n",
      "video 2/4 (frame 246/646) f:\\PRACA_MAGISTERSKA\\DATASETS\\PREDYKCJA\\videos\\pieknie.webm: 384x640 1 no_glasses, 4 no_glovess, 2 no_vests, 7.5ms\n",
      "video 2/4 (frame 247/646) f:\\PRACA_MAGISTERSKA\\DATASETS\\PREDYKCJA\\videos\\pieknie.webm: 384x640 2 no_glassess, 4 no_glovess, 2 no_vests, 7.5ms\n",
      "video 2/4 (frame 248/646) f:\\PRACA_MAGISTERSKA\\DATASETS\\PREDYKCJA\\videos\\pieknie.webm: 384x640 1 no_glasses, 4 no_glovess, 2 no_vests, 7.5ms\n",
      "video 2/4 (frame 249/646) f:\\PRACA_MAGISTERSKA\\DATASETS\\PREDYKCJA\\videos\\pieknie.webm: 384x640 1 no_glasses, 4 no_glovess, 2 no_vests, 7.5ms\n",
      "video 2/4 (frame 250/646) f:\\PRACA_MAGISTERSKA\\DATASETS\\PREDYKCJA\\videos\\pieknie.webm: 384x640 1 no_glasses, 4 no_glovess, 2 no_vests, 7.5ms\n",
      "video 2/4 (frame 251/646) f:\\PRACA_MAGISTERSKA\\DATASETS\\PREDYKCJA\\videos\\pieknie.webm: 384x640 1 no_glasses, 4 no_glovess, 2 no_vests, 7.5ms\n",
      "video 2/4 (frame 252/646) f:\\PRACA_MAGISTERSKA\\DATASETS\\PREDYKCJA\\videos\\pieknie.webm: 384x640 1 no_glasses, 4 no_glovess, 2 no_vests, 7.5ms\n",
      "video 2/4 (frame 253/646) f:\\PRACA_MAGISTERSKA\\DATASETS\\PREDYKCJA\\videos\\pieknie.webm: 384x640 1 no_glasses, 4 no_glovess, 2 no_vests, 7.5ms\n",
      "video 2/4 (frame 254/646) f:\\PRACA_MAGISTERSKA\\DATASETS\\PREDYKCJA\\videos\\pieknie.webm: 384x640 1 no_glasses, 4 no_glovess, 2 no_vests, 7.5ms\n",
      "video 2/4 (frame 255/646) f:\\PRACA_MAGISTERSKA\\DATASETS\\PREDYKCJA\\videos\\pieknie.webm: 384x640 1 no_glasses, 4 no_glovess, 2 no_vests, 7.5ms\n",
      "video 2/4 (frame 256/646) f:\\PRACA_MAGISTERSKA\\DATASETS\\PREDYKCJA\\videos\\pieknie.webm: 384x640 1 no_glasses, 4 no_glovess, 2 no_vests, 7.5ms\n",
      "video 2/4 (frame 257/646) f:\\PRACA_MAGISTERSKA\\DATASETS\\PREDYKCJA\\videos\\pieknie.webm: 384x640 1 no_glasses, 4 no_glovess, 2 no_vests, 7.5ms\n",
      "video 2/4 (frame 258/646) f:\\PRACA_MAGISTERSKA\\DATASETS\\PREDYKCJA\\videos\\pieknie.webm: 384x640 1 no_glasses, 4 no_glovess, 2 no_vests, 7.5ms\n",
      "video 2/4 (frame 259/646) f:\\PRACA_MAGISTERSKA\\DATASETS\\PREDYKCJA\\videos\\pieknie.webm: 384x640 1 no_glasses, 4 no_glovess, 2 no_vests, 7.5ms\n",
      "video 2/4 (frame 260/646) f:\\PRACA_MAGISTERSKA\\DATASETS\\PREDYKCJA\\videos\\pieknie.webm: 384x640 1 no_glasses, 4 no_glovess, 2 no_vests, 7.5ms\n",
      "video 2/4 (frame 261/646) f:\\PRACA_MAGISTERSKA\\DATASETS\\PREDYKCJA\\videos\\pieknie.webm: 384x640 1 no_glasses, 4 no_glovess, 2 no_vests, 7.5ms\n",
      "video 2/4 (frame 262/646) f:\\PRACA_MAGISTERSKA\\DATASETS\\PREDYKCJA\\videos\\pieknie.webm: 384x640 1 no_glasses, 5 no_glovess, 2 no_vests, 7.5ms\n",
      "video 2/4 (frame 263/646) f:\\PRACA_MAGISTERSKA\\DATASETS\\PREDYKCJA\\videos\\pieknie.webm: 384x640 1 no_glasses, 5 no_glovess, 2 no_vests, 7.5ms\n",
      "video 2/4 (frame 264/646) f:\\PRACA_MAGISTERSKA\\DATASETS\\PREDYKCJA\\videos\\pieknie.webm: 384x640 1 no_glasses, 4 no_glovess, 2 no_vests, 7.5ms\n",
      "video 2/4 (frame 265/646) f:\\PRACA_MAGISTERSKA\\DATASETS\\PREDYKCJA\\videos\\pieknie.webm: 384x640 1 no_glasses, 4 no_glovess, 2 no_vests, 7.5ms\n",
      "video 2/4 (frame 266/646) f:\\PRACA_MAGISTERSKA\\DATASETS\\PREDYKCJA\\videos\\pieknie.webm: 384x640 1 no_glasses, 4 no_glovess, 2 no_vests, 7.5ms\n",
      "video 2/4 (frame 267/646) f:\\PRACA_MAGISTERSKA\\DATASETS\\PREDYKCJA\\videos\\pieknie.webm: 384x640 1 no_glasses, 4 no_glovess, 2 no_vests, 7.5ms\n",
      "video 2/4 (frame 268/646) f:\\PRACA_MAGISTERSKA\\DATASETS\\PREDYKCJA\\videos\\pieknie.webm: 384x640 2 no_glassess, 4 no_glovess, 2 no_vests, 7.5ms\n",
      "video 2/4 (frame 269/646) f:\\PRACA_MAGISTERSKA\\DATASETS\\PREDYKCJA\\videos\\pieknie.webm: 384x640 2 no_glassess, 4 no_glovess, 2 no_vests, 7.5ms\n",
      "video 2/4 (frame 270/646) f:\\PRACA_MAGISTERSKA\\DATASETS\\PREDYKCJA\\videos\\pieknie.webm: 384x640 1 no_glasses, 4 no_glovess, 2 no_vests, 7.5ms\n",
      "video 2/4 (frame 271/646) f:\\PRACA_MAGISTERSKA\\DATASETS\\PREDYKCJA\\videos\\pieknie.webm: 384x640 1 no_glasses, 4 no_glovess, 2 no_vests, 7.5ms\n",
      "video 2/4 (frame 272/646) f:\\PRACA_MAGISTERSKA\\DATASETS\\PREDYKCJA\\videos\\pieknie.webm: 384x640 1 no_glasses, 4 no_glovess, 2 no_vests, 7.5ms\n",
      "video 2/4 (frame 273/646) f:\\PRACA_MAGISTERSKA\\DATASETS\\PREDYKCJA\\videos\\pieknie.webm: 384x640 1 no_glasses, 4 no_glovess, 2 no_vests, 7.5ms\n",
      "video 2/4 (frame 274/646) f:\\PRACA_MAGISTERSKA\\DATASETS\\PREDYKCJA\\videos\\pieknie.webm: 384x640 1 no_glasses, 4 no_glovess, 2 no_vests, 7.5ms\n",
      "video 2/4 (frame 275/646) f:\\PRACA_MAGISTERSKA\\DATASETS\\PREDYKCJA\\videos\\pieknie.webm: 384x640 1 no_glasses, 4 no_glovess, 2 no_vests, 7.5ms\n",
      "video 2/4 (frame 276/646) f:\\PRACA_MAGISTERSKA\\DATASETS\\PREDYKCJA\\videos\\pieknie.webm: 384x640 1 no_glasses, 4 no_glovess, 2 no_vests, 7.5ms\n",
      "video 2/4 (frame 277/646) f:\\PRACA_MAGISTERSKA\\DATASETS\\PREDYKCJA\\videos\\pieknie.webm: 384x640 1 no_glasses, 4 no_glovess, 2 no_vests, 7.5ms\n",
      "video 2/4 (frame 278/646) f:\\PRACA_MAGISTERSKA\\DATASETS\\PREDYKCJA\\videos\\pieknie.webm: 384x640 1 no_glasses, 4 no_glovess, 2 no_vests, 7.5ms\n",
      "video 2/4 (frame 279/646) f:\\PRACA_MAGISTERSKA\\DATASETS\\PREDYKCJA\\videos\\pieknie.webm: 384x640 1 no_glasses, 4 no_glovess, 2 no_vests, 7.5ms\n",
      "video 2/4 (frame 280/646) f:\\PRACA_MAGISTERSKA\\DATASETS\\PREDYKCJA\\videos\\pieknie.webm: 384x640 4 no_glovess, 2 no_vests, 7.5ms\n",
      "video 2/4 (frame 281/646) f:\\PRACA_MAGISTERSKA\\DATASETS\\PREDYKCJA\\videos\\pieknie.webm: 384x640 1 no_glasses, 3 no_glovess, 2 no_vests, 7.5ms\n",
      "video 2/4 (frame 282/646) f:\\PRACA_MAGISTERSKA\\DATASETS\\PREDYKCJA\\videos\\pieknie.webm: 384x640 4 no_glovess, 2 no_vests, 7.5ms\n",
      "video 2/4 (frame 283/646) f:\\PRACA_MAGISTERSKA\\DATASETS\\PREDYKCJA\\videos\\pieknie.webm: 384x640 4 no_glovess, 2 no_vests, 7.5ms\n",
      "video 2/4 (frame 284/646) f:\\PRACA_MAGISTERSKA\\DATASETS\\PREDYKCJA\\videos\\pieknie.webm: 384x640 4 no_glovess, 2 no_vests, 7.5ms\n",
      "video 2/4 (frame 285/646) f:\\PRACA_MAGISTERSKA\\DATASETS\\PREDYKCJA\\videos\\pieknie.webm: 384x640 1 no_glasses, 3 no_glovess, 2 no_vests, 7.5ms\n",
      "video 2/4 (frame 286/646) f:\\PRACA_MAGISTERSKA\\DATASETS\\PREDYKCJA\\videos\\pieknie.webm: 384x640 1 no_glasses, 3 no_glovess, 2 no_vests, 7.6ms\n",
      "video 2/4 (frame 287/646) f:\\PRACA_MAGISTERSKA\\DATASETS\\PREDYKCJA\\videos\\pieknie.webm: 384x640 1 no_glasses, 3 no_glovess, 2 no_vests, 7.6ms\n",
      "video 2/4 (frame 288/646) f:\\PRACA_MAGISTERSKA\\DATASETS\\PREDYKCJA\\videos\\pieknie.webm: 384x640 1 no_glasses, 3 no_glovess, 2 no_vests, 7.6ms\n",
      "video 2/4 (frame 289/646) f:\\PRACA_MAGISTERSKA\\DATASETS\\PREDYKCJA\\videos\\pieknie.webm: 384x640 1 no_glasses, 4 no_glovess, 2 no_vests, 7.6ms\n",
      "video 2/4 (frame 290/646) f:\\PRACA_MAGISTERSKA\\DATASETS\\PREDYKCJA\\videos\\pieknie.webm: 384x640 2 no_glassess, 4 no_glovess, 2 no_vests, 7.6ms\n",
      "video 2/4 (frame 291/646) f:\\PRACA_MAGISTERSKA\\DATASETS\\PREDYKCJA\\videos\\pieknie.webm: 384x640 2 no_glassess, 3 no_glovess, 2 no_vests, 7.6ms\n",
      "video 2/4 (frame 292/646) f:\\PRACA_MAGISTERSKA\\DATASETS\\PREDYKCJA\\videos\\pieknie.webm: 384x640 1 no_glasses, 4 no_glovess, 2 no_vests, 7.6ms\n",
      "video 2/4 (frame 293/646) f:\\PRACA_MAGISTERSKA\\DATASETS\\PREDYKCJA\\videos\\pieknie.webm: 384x640 2 no_glassess, 4 no_glovess, 2 no_vests, 7.6ms\n",
      "video 2/4 (frame 294/646) f:\\PRACA_MAGISTERSKA\\DATASETS\\PREDYKCJA\\videos\\pieknie.webm: 384x640 1 no_glasses, 4 no_glovess, 2 no_vests, 7.6ms\n",
      "video 2/4 (frame 295/646) f:\\PRACA_MAGISTERSKA\\DATASETS\\PREDYKCJA\\videos\\pieknie.webm: 384x640 1 no_glasses, 3 no_glovess, 2 no_vests, 7.6ms\n",
      "video 2/4 (frame 296/646) f:\\PRACA_MAGISTERSKA\\DATASETS\\PREDYKCJA\\videos\\pieknie.webm: 384x640 1 no_glasses, 4 no_glovess, 2 no_vests, 7.6ms\n",
      "video 2/4 (frame 297/646) f:\\PRACA_MAGISTERSKA\\DATASETS\\PREDYKCJA\\videos\\pieknie.webm: 384x640 1 no_glasses, 4 no_glovess, 2 no_vests, 7.6ms\n",
      "video 2/4 (frame 298/646) f:\\PRACA_MAGISTERSKA\\DATASETS\\PREDYKCJA\\videos\\pieknie.webm: 384x640 1 no_glasses, 4 no_glovess, 2 no_vests, 7.6ms\n",
      "video 2/4 (frame 299/646) f:\\PRACA_MAGISTERSKA\\DATASETS\\PREDYKCJA\\videos\\pieknie.webm: 384x640 1 no_glasses, 4 no_glovess, 2 no_vests, 7.6ms\n",
      "video 2/4 (frame 300/646) f:\\PRACA_MAGISTERSKA\\DATASETS\\PREDYKCJA\\videos\\pieknie.webm: 384x640 1 no_glasses, 4 no_glovess, 2 no_vests, 7.6ms\n",
      "video 2/4 (frame 301/646) f:\\PRACA_MAGISTERSKA\\DATASETS\\PREDYKCJA\\videos\\pieknie.webm: 384x640 1 no_glasses, 4 no_glovess, 2 no_vests, 7.6ms\n",
      "video 2/4 (frame 302/646) f:\\PRACA_MAGISTERSKA\\DATASETS\\PREDYKCJA\\videos\\pieknie.webm: 384x640 1 no_glasses, 4 no_glovess, 2 no_vests, 7.6ms\n",
      "video 2/4 (frame 303/646) f:\\PRACA_MAGISTERSKA\\DATASETS\\PREDYKCJA\\videos\\pieknie.webm: 384x640 4 no_glovess, 2 no_vests, 7.6ms\n",
      "video 2/4 (frame 304/646) f:\\PRACA_MAGISTERSKA\\DATASETS\\PREDYKCJA\\videos\\pieknie.webm: 384x640 4 no_glovess, 2 no_vests, 7.6ms\n",
      "video 2/4 (frame 305/646) f:\\PRACA_MAGISTERSKA\\DATASETS\\PREDYKCJA\\videos\\pieknie.webm: 384x640 1 no_glasses, 4 no_glovess, 2 no_vests, 7.6ms\n",
      "video 2/4 (frame 306/646) f:\\PRACA_MAGISTERSKA\\DATASETS\\PREDYKCJA\\videos\\pieknie.webm: 384x640 1 no_glasses, 4 no_glovess, 2 no_vests, 7.6ms\n",
      "video 2/4 (frame 307/646) f:\\PRACA_MAGISTERSKA\\DATASETS\\PREDYKCJA\\videos\\pieknie.webm: 384x640 1 no_glasses, 4 no_glovess, 2 no_vests, 7.6ms\n",
      "video 2/4 (frame 308/646) f:\\PRACA_MAGISTERSKA\\DATASETS\\PREDYKCJA\\videos\\pieknie.webm: 384x640 1 no_glasses, 4 no_glovess, 2 no_vests, 7.6ms\n",
      "video 2/4 (frame 309/646) f:\\PRACA_MAGISTERSKA\\DATASETS\\PREDYKCJA\\videos\\pieknie.webm: 384x640 1 no_glasses, 4 no_glovess, 2 no_vests, 7.6ms\n",
      "video 2/4 (frame 310/646) f:\\PRACA_MAGISTERSKA\\DATASETS\\PREDYKCJA\\videos\\pieknie.webm: 384x640 1 no_glasses, 4 no_glovess, 2 no_vests, 7.6ms\n",
      "video 2/4 (frame 311/646) f:\\PRACA_MAGISTERSKA\\DATASETS\\PREDYKCJA\\videos\\pieknie.webm: 384x640 1 no_glasses, 4 no_glovess, 2 no_vests, 7.6ms\n",
      "video 2/4 (frame 312/646) f:\\PRACA_MAGISTERSKA\\DATASETS\\PREDYKCJA\\videos\\pieknie.webm: 384x640 1 no_glasses, 4 no_glovess, 1 no_helmet, 2 no_vests, 7.6ms\n",
      "video 2/4 (frame 313/646) f:\\PRACA_MAGISTERSKA\\DATASETS\\PREDYKCJA\\videos\\pieknie.webm: 384x640 1 no_glasses, 4 no_glovess, 1 no_helmet, 2 no_vests, 7.6ms\n",
      "video 2/4 (frame 314/646) f:\\PRACA_MAGISTERSKA\\DATASETS\\PREDYKCJA\\videos\\pieknie.webm: 384x640 1 no_glasses, 4 no_glovess, 1 no_helmet, 2 no_vests, 7.6ms\n",
      "video 2/4 (frame 315/646) f:\\PRACA_MAGISTERSKA\\DATASETS\\PREDYKCJA\\videos\\pieknie.webm: 384x640 1 no_glasses, 4 no_glovess, 1 no_helmet, 2 no_vests, 7.6ms\n",
      "video 2/4 (frame 316/646) f:\\PRACA_MAGISTERSKA\\DATASETS\\PREDYKCJA\\videos\\pieknie.webm: 384x640 1 no_glasses, 4 no_glovess, 1 no_helmet, 2 no_vests, 7.6ms\n",
      "video 2/4 (frame 317/646) f:\\PRACA_MAGISTERSKA\\DATASETS\\PREDYKCJA\\videos\\pieknie.webm: 384x640 1 no_glasses, 4 no_glovess, 2 no_vests, 7.6ms\n",
      "video 2/4 (frame 318/646) f:\\PRACA_MAGISTERSKA\\DATASETS\\PREDYKCJA\\videos\\pieknie.webm: 384x640 1 no_glasses, 4 no_glovess, 2 no_vests, 7.6ms\n",
      "video 2/4 (frame 319/646) f:\\PRACA_MAGISTERSKA\\DATASETS\\PREDYKCJA\\videos\\pieknie.webm: 384x640 1 no_glasses, 4 no_glovess, 2 no_vests, 7.6ms\n",
      "video 2/4 (frame 320/646) f:\\PRACA_MAGISTERSKA\\DATASETS\\PREDYKCJA\\videos\\pieknie.webm: 384x640 1 no_glasses, 4 no_glovess, 2 no_vests, 7.6ms\n",
      "video 2/4 (frame 321/646) f:\\PRACA_MAGISTERSKA\\DATASETS\\PREDYKCJA\\videos\\pieknie.webm: 384x640 1 no_glasses, 4 no_glovess, 2 no_vests, 7.6ms\n",
      "video 2/4 (frame 322/646) f:\\PRACA_MAGISTERSKA\\DATASETS\\PREDYKCJA\\videos\\pieknie.webm: 384x640 1 no_glasses, 4 no_glovess, 2 no_vests, 7.6ms\n",
      "video 2/4 (frame 323/646) f:\\PRACA_MAGISTERSKA\\DATASETS\\PREDYKCJA\\videos\\pieknie.webm: 384x640 1 no_glasses, 4 no_glovess, 2 no_vests, 7.6ms\n",
      "video 2/4 (frame 324/646) f:\\PRACA_MAGISTERSKA\\DATASETS\\PREDYKCJA\\videos\\pieknie.webm: 384x640 1 no_glasses, 4 no_glovess, 2 no_vests, 7.6ms\n",
      "video 2/4 (frame 325/646) f:\\PRACA_MAGISTERSKA\\DATASETS\\PREDYKCJA\\videos\\pieknie.webm: 384x640 1 no_glasses, 4 no_glovess, 2 no_vests, 7.6ms\n",
      "video 2/4 (frame 326/646) f:\\PRACA_MAGISTERSKA\\DATASETS\\PREDYKCJA\\videos\\pieknie.webm: 384x640 1 no_glasses, 4 no_glovess, 2 no_vests, 7.6ms\n",
      "video 2/4 (frame 327/646) f:\\PRACA_MAGISTERSKA\\DATASETS\\PREDYKCJA\\videos\\pieknie.webm: 384x640 1 no_glasses, 4 no_glovess, 2 no_vests, 7.6ms\n",
      "video 2/4 (frame 328/646) f:\\PRACA_MAGISTERSKA\\DATASETS\\PREDYKCJA\\videos\\pieknie.webm: 384x640 1 no_glasses, 4 no_glovess, 2 no_vests, 7.6ms\n",
      "video 2/4 (frame 329/646) f:\\PRACA_MAGISTERSKA\\DATASETS\\PREDYKCJA\\videos\\pieknie.webm: 384x640 1 no_glasses, 4 no_glovess, 2 no_vests, 7.6ms\n",
      "video 2/4 (frame 330/646) f:\\PRACA_MAGISTERSKA\\DATASETS\\PREDYKCJA\\videos\\pieknie.webm: 384x640 1 no_glasses, 4 no_glovess, 2 no_vests, 7.6ms\n",
      "video 2/4 (frame 331/646) f:\\PRACA_MAGISTERSKA\\DATASETS\\PREDYKCJA\\videos\\pieknie.webm: 384x640 2 no_glassess, 3 no_glovess, 2 no_vests, 7.6ms\n",
      "video 2/4 (frame 332/646) f:\\PRACA_MAGISTERSKA\\DATASETS\\PREDYKCJA\\videos\\pieknie.webm: 384x640 1 no_glasses, 3 no_glovess, 2 no_vests, 7.6ms\n",
      "video 2/4 (frame 333/646) f:\\PRACA_MAGISTERSKA\\DATASETS\\PREDYKCJA\\videos\\pieknie.webm: 384x640 1 no_glasses, 4 no_glovess, 2 no_vests, 7.6ms\n",
      "video 2/4 (frame 334/646) f:\\PRACA_MAGISTERSKA\\DATASETS\\PREDYKCJA\\videos\\pieknie.webm: 384x640 1 no_glasses, 4 no_glovess, 2 no_vests, 7.6ms\n",
      "video 2/4 (frame 335/646) f:\\PRACA_MAGISTERSKA\\DATASETS\\PREDYKCJA\\videos\\pieknie.webm: 384x640 1 no_glasses, 4 no_glovess, 2 no_vests, 7.6ms\n",
      "video 2/4 (frame 336/646) f:\\PRACA_MAGISTERSKA\\DATASETS\\PREDYKCJA\\videos\\pieknie.webm: 384x640 1 no_glasses, 4 no_glovess, 2 no_vests, 7.6ms\n",
      "video 2/4 (frame 337/646) f:\\PRACA_MAGISTERSKA\\DATASETS\\PREDYKCJA\\videos\\pieknie.webm: 384x640 1 no_glasses, 4 no_glovess, 2 no_vests, 7.6ms\n",
      "video 2/4 (frame 338/646) f:\\PRACA_MAGISTERSKA\\DATASETS\\PREDYKCJA\\videos\\pieknie.webm: 384x640 1 no_glasses, 4 no_glovess, 2 no_vests, 7.6ms\n",
      "video 2/4 (frame 339/646) f:\\PRACA_MAGISTERSKA\\DATASETS\\PREDYKCJA\\videos\\pieknie.webm: 384x640 1 no_glasses, 4 no_glovess, 2 no_vests, 7.6ms\n",
      "video 2/4 (frame 340/646) f:\\PRACA_MAGISTERSKA\\DATASETS\\PREDYKCJA\\videos\\pieknie.webm: 384x640 2 no_glassess, 4 no_glovess, 2 no_vests, 7.6ms\n",
      "video 2/4 (frame 341/646) f:\\PRACA_MAGISTERSKA\\DATASETS\\PREDYKCJA\\videos\\pieknie.webm: 384x640 1 no_glasses, 4 no_glovess, 2 no_vests, 7.6ms\n",
      "video 2/4 (frame 342/646) f:\\PRACA_MAGISTERSKA\\DATASETS\\PREDYKCJA\\videos\\pieknie.webm: 384x640 1 no_glasses, 4 no_glovess, 2 no_vests, 7.6ms\n",
      "video 2/4 (frame 343/646) f:\\PRACA_MAGISTERSKA\\DATASETS\\PREDYKCJA\\videos\\pieknie.webm: 384x640 1 no_glasses, 4 no_glovess, 2 no_vests, 7.6ms\n",
      "video 2/4 (frame 344/646) f:\\PRACA_MAGISTERSKA\\DATASETS\\PREDYKCJA\\videos\\pieknie.webm: 384x640 1 no_glasses, 4 no_glovess, 2 no_vests, 7.6ms\n",
      "video 2/4 (frame 345/646) f:\\PRACA_MAGISTERSKA\\DATASETS\\PREDYKCJA\\videos\\pieknie.webm: 384x640 1 no_glasses, 4 no_glovess, 2 no_vests, 7.6ms\n",
      "video 2/4 (frame 346/646) f:\\PRACA_MAGISTERSKA\\DATASETS\\PREDYKCJA\\videos\\pieknie.webm: 384x640 1 no_glasses, 3 no_glovess, 2 no_vests, 7.6ms\n",
      "video 2/4 (frame 347/646) f:\\PRACA_MAGISTERSKA\\DATASETS\\PREDYKCJA\\videos\\pieknie.webm: 384x640 1 no_glasses, 3 no_glovess, 2 no_vests, 7.6ms\n",
      "video 2/4 (frame 348/646) f:\\PRACA_MAGISTERSKA\\DATASETS\\PREDYKCJA\\videos\\pieknie.webm: 384x640 1 no_glasses, 4 no_glovess, 2 no_vests, 7.6ms\n",
      "video 2/4 (frame 349/646) f:\\PRACA_MAGISTERSKA\\DATASETS\\PREDYKCJA\\videos\\pieknie.webm: 384x640 1 no_glasses, 4 no_glovess, 2 no_vests, 7.6ms\n",
      "video 2/4 (frame 350/646) f:\\PRACA_MAGISTERSKA\\DATASETS\\PREDYKCJA\\videos\\pieknie.webm: 384x640 1 no_glasses, 4 no_glovess, 2 no_vests, 7.5ms\n",
      "video 2/4 (frame 351/646) f:\\PRACA_MAGISTERSKA\\DATASETS\\PREDYKCJA\\videos\\pieknie.webm: 384x640 1 no_glasses, 4 no_glovess, 2 no_vests, 7.5ms\n",
      "video 2/4 (frame 352/646) f:\\PRACA_MAGISTERSKA\\DATASETS\\PREDYKCJA\\videos\\pieknie.webm: 384x640 1 no_glasses, 4 no_glovess, 2 no_vests, 7.5ms\n",
      "video 2/4 (frame 353/646) f:\\PRACA_MAGISTERSKA\\DATASETS\\PREDYKCJA\\videos\\pieknie.webm: 384x640 1 no_glasses, 4 no_glovess, 2 no_vests, 7.5ms\n",
      "video 2/4 (frame 354/646) f:\\PRACA_MAGISTERSKA\\DATASETS\\PREDYKCJA\\videos\\pieknie.webm: 384x640 1 no_glasses, 4 no_glovess, 2 no_vests, 7.5ms\n",
      "video 2/4 (frame 355/646) f:\\PRACA_MAGISTERSKA\\DATASETS\\PREDYKCJA\\videos\\pieknie.webm: 384x640 1 no_glasses, 4 no_glovess, 2 no_vests, 7.5ms\n",
      "video 2/4 (frame 356/646) f:\\PRACA_MAGISTERSKA\\DATASETS\\PREDYKCJA\\videos\\pieknie.webm: 384x640 1 no_glasses, 4 no_glovess, 2 no_vests, 7.5ms\n",
      "video 2/4 (frame 357/646) f:\\PRACA_MAGISTERSKA\\DATASETS\\PREDYKCJA\\videos\\pieknie.webm: 384x640 1 no_glasses, 4 no_glovess, 2 no_vests, 7.5ms\n",
      "video 2/4 (frame 358/646) f:\\PRACA_MAGISTERSKA\\DATASETS\\PREDYKCJA\\videos\\pieknie.webm: 384x640 1 no_glasses, 4 no_glovess, 2 no_vests, 7.5ms\n",
      "video 2/4 (frame 359/646) f:\\PRACA_MAGISTERSKA\\DATASETS\\PREDYKCJA\\videos\\pieknie.webm: 384x640 1 no_glasses, 4 no_glovess, 2 no_vests, 7.5ms\n",
      "video 2/4 (frame 360/646) f:\\PRACA_MAGISTERSKA\\DATASETS\\PREDYKCJA\\videos\\pieknie.webm: 384x640 1 no_glasses, 4 no_glovess, 2 no_vests, 7.5ms\n",
      "video 2/4 (frame 361/646) f:\\PRACA_MAGISTERSKA\\DATASETS\\PREDYKCJA\\videos\\pieknie.webm: 384x640 1 no_glasses, 4 no_glovess, 2 no_vests, 7.5ms\n",
      "video 2/4 (frame 362/646) f:\\PRACA_MAGISTERSKA\\DATASETS\\PREDYKCJA\\videos\\pieknie.webm: 384x640 1 no_glasses, 4 no_glovess, 2 no_vests, 7.5ms\n",
      "video 2/4 (frame 363/646) f:\\PRACA_MAGISTERSKA\\DATASETS\\PREDYKCJA\\videos\\pieknie.webm: 384x640 1 no_glasses, 5 no_glovess, 2 no_vests, 7.5ms\n",
      "video 2/4 (frame 364/646) f:\\PRACA_MAGISTERSKA\\DATASETS\\PREDYKCJA\\videos\\pieknie.webm: 384x640 1 no_glasses, 3 no_glovess, 2 no_vests, 7.5ms\n",
      "video 2/4 (frame 365/646) f:\\PRACA_MAGISTERSKA\\DATASETS\\PREDYKCJA\\videos\\pieknie.webm: 384x640 1 no_glasses, 4 no_glovess, 2 no_vests, 7.5ms\n",
      "video 2/4 (frame 366/646) f:\\PRACA_MAGISTERSKA\\DATASETS\\PREDYKCJA\\videos\\pieknie.webm: 384x640 1 no_glasses, 4 no_glovess, 2 no_vests, 7.5ms\n",
      "video 2/4 (frame 367/646) f:\\PRACA_MAGISTERSKA\\DATASETS\\PREDYKCJA\\videos\\pieknie.webm: 384x640 1 no_glasses, 4 no_glovess, 2 no_vests, 7.5ms\n",
      "video 2/4 (frame 368/646) f:\\PRACA_MAGISTERSKA\\DATASETS\\PREDYKCJA\\videos\\pieknie.webm: 384x640 1 no_glasses, 4 no_glovess, 2 no_vests, 7.5ms\n",
      "video 2/4 (frame 369/646) f:\\PRACA_MAGISTERSKA\\DATASETS\\PREDYKCJA\\videos\\pieknie.webm: 384x640 4 no_glovess, 2 no_vests, 7.5ms\n",
      "video 2/4 (frame 370/646) f:\\PRACA_MAGISTERSKA\\DATASETS\\PREDYKCJA\\videos\\pieknie.webm: 384x640 1 no_glasses, 4 no_glovess, 2 no_vests, 7.5ms\n",
      "video 2/4 (frame 371/646) f:\\PRACA_MAGISTERSKA\\DATASETS\\PREDYKCJA\\videos\\pieknie.webm: 384x640 1 no_glasses, 3 no_glovess, 2 no_vests, 7.5ms\n",
      "video 2/4 (frame 372/646) f:\\PRACA_MAGISTERSKA\\DATASETS\\PREDYKCJA\\videos\\pieknie.webm: 384x640 1 no_glasses, 4 no_glovess, 2 no_vests, 7.5ms\n",
      "video 2/4 (frame 373/646) f:\\PRACA_MAGISTERSKA\\DATASETS\\PREDYKCJA\\videos\\pieknie.webm: 384x640 1 no_glasses, 4 no_glovess, 2 no_vests, 7.5ms\n",
      "video 2/4 (frame 374/646) f:\\PRACA_MAGISTERSKA\\DATASETS\\PREDYKCJA\\videos\\pieknie.webm: 384x640 1 no_glasses, 4 no_glovess, 2 no_vests, 7.5ms\n",
      "video 2/4 (frame 375/646) f:\\PRACA_MAGISTERSKA\\DATASETS\\PREDYKCJA\\videos\\pieknie.webm: 384x640 1 no_glasses, 4 no_glovess, 2 no_vests, 7.5ms\n",
      "video 2/4 (frame 376/646) f:\\PRACA_MAGISTERSKA\\DATASETS\\PREDYKCJA\\videos\\pieknie.webm: 384x640 1 no_glasses, 4 no_glovess, 2 no_vests, 7.5ms\n",
      "video 2/4 (frame 377/646) f:\\PRACA_MAGISTERSKA\\DATASETS\\PREDYKCJA\\videos\\pieknie.webm: 384x640 1 no_glasses, 4 no_glovess, 2 no_vests, 7.5ms\n",
      "video 2/4 (frame 378/646) f:\\PRACA_MAGISTERSKA\\DATASETS\\PREDYKCJA\\videos\\pieknie.webm: 384x640 1 no_glasses, 4 no_glovess, 2 no_vests, 7.5ms\n",
      "video 2/4 (frame 379/646) f:\\PRACA_MAGISTERSKA\\DATASETS\\PREDYKCJA\\videos\\pieknie.webm: 384x640 1 no_glasses, 4 no_glovess, 2 no_vests, 7.5ms\n",
      "video 2/4 (frame 380/646) f:\\PRACA_MAGISTERSKA\\DATASETS\\PREDYKCJA\\videos\\pieknie.webm: 384x640 1 no_glasses, 4 no_glovess, 2 no_vests, 7.5ms\n",
      "video 2/4 (frame 381/646) f:\\PRACA_MAGISTERSKA\\DATASETS\\PREDYKCJA\\videos\\pieknie.webm: 384x640 1 no_glasses, 4 no_glovess, 2 no_vests, 7.5ms\n",
      "video 2/4 (frame 382/646) f:\\PRACA_MAGISTERSKA\\DATASETS\\PREDYKCJA\\videos\\pieknie.webm: 384x640 1 no_glasses, 4 no_glovess, 2 no_vests, 7.5ms\n",
      "video 2/4 (frame 383/646) f:\\PRACA_MAGISTERSKA\\DATASETS\\PREDYKCJA\\videos\\pieknie.webm: 384x640 1 no_glasses, 4 no_glovess, 2 no_vests, 7.5ms\n",
      "video 2/4 (frame 384/646) f:\\PRACA_MAGISTERSKA\\DATASETS\\PREDYKCJA\\videos\\pieknie.webm: 384x640 1 no_glasses, 4 no_glovess, 2 no_vests, 7.5ms\n",
      "video 2/4 (frame 385/646) f:\\PRACA_MAGISTERSKA\\DATASETS\\PREDYKCJA\\videos\\pieknie.webm: 384x640 1 no_glasses, 4 no_glovess, 2 no_vests, 7.5ms\n",
      "video 2/4 (frame 386/646) f:\\PRACA_MAGISTERSKA\\DATASETS\\PREDYKCJA\\videos\\pieknie.webm: 384x640 1 no_glasses, 4 no_glovess, 2 no_vests, 7.5ms\n",
      "video 2/4 (frame 387/646) f:\\PRACA_MAGISTERSKA\\DATASETS\\PREDYKCJA\\videos\\pieknie.webm: 384x640 1 no_glasses, 4 no_glovess, 2 no_vests, 7.5ms\n",
      "video 2/4 (frame 388/646) f:\\PRACA_MAGISTERSKA\\DATASETS\\PREDYKCJA\\videos\\pieknie.webm: 384x640 1 no_glasses, 4 no_glovess, 2 no_vests, 7.5ms\n",
      "video 2/4 (frame 389/646) f:\\PRACA_MAGISTERSKA\\DATASETS\\PREDYKCJA\\videos\\pieknie.webm: 384x640 1 no_glasses, 4 no_glovess, 2 no_vests, 7.5ms\n",
      "video 2/4 (frame 390/646) f:\\PRACA_MAGISTERSKA\\DATASETS\\PREDYKCJA\\videos\\pieknie.webm: 384x640 1 no_glasses, 4 no_glovess, 2 no_vests, 7.5ms\n",
      "video 2/4 (frame 391/646) f:\\PRACA_MAGISTERSKA\\DATASETS\\PREDYKCJA\\videos\\pieknie.webm: 384x640 1 no_glasses, 4 no_glovess, 2 no_vests, 7.5ms\n",
      "video 2/4 (frame 392/646) f:\\PRACA_MAGISTERSKA\\DATASETS\\PREDYKCJA\\videos\\pieknie.webm: 384x640 1 no_glasses, 4 no_glovess, 2 no_vests, 7.5ms\n",
      "video 2/4 (frame 393/646) f:\\PRACA_MAGISTERSKA\\DATASETS\\PREDYKCJA\\videos\\pieknie.webm: 384x640 1 no_glasses, 4 no_glovess, 2 no_vests, 7.5ms\n",
      "video 2/4 (frame 394/646) f:\\PRACA_MAGISTERSKA\\DATASETS\\PREDYKCJA\\videos\\pieknie.webm: 384x640 1 no_glasses, 4 no_glovess, 2 no_vests, 7.5ms\n",
      "video 2/4 (frame 395/646) f:\\PRACA_MAGISTERSKA\\DATASETS\\PREDYKCJA\\videos\\pieknie.webm: 384x640 1 no_glasses, 4 no_glovess, 2 no_vests, 7.5ms\n",
      "video 2/4 (frame 396/646) f:\\PRACA_MAGISTERSKA\\DATASETS\\PREDYKCJA\\videos\\pieknie.webm: 384x640 1 no_glasses, 5 no_glovess, 2 no_vests, 7.5ms\n",
      "video 2/4 (frame 397/646) f:\\PRACA_MAGISTERSKA\\DATASETS\\PREDYKCJA\\videos\\pieknie.webm: 384x640 1 no_glasses, 4 no_glovess, 2 no_vests, 7.5ms\n",
      "video 2/4 (frame 398/646) f:\\PRACA_MAGISTERSKA\\DATASETS\\PREDYKCJA\\videos\\pieknie.webm: 384x640 4 no_glovess, 2 no_vests, 7.5ms\n",
      "video 2/4 (frame 399/646) f:\\PRACA_MAGISTERSKA\\DATASETS\\PREDYKCJA\\videos\\pieknie.webm: 384x640 1 no_glasses, 4 no_glovess, 2 no_vests, 7.5ms\n",
      "video 2/4 (frame 400/646) f:\\PRACA_MAGISTERSKA\\DATASETS\\PREDYKCJA\\videos\\pieknie.webm: 384x640 1 no_glasses, 4 no_glovess, 2 no_vests, 7.5ms\n",
      "video 2/4 (frame 401/646) f:\\PRACA_MAGISTERSKA\\DATASETS\\PREDYKCJA\\videos\\pieknie.webm: 384x640 1 no_glasses, 4 no_glovess, 2 no_vests, 7.5ms\n",
      "video 2/4 (frame 402/646) f:\\PRACA_MAGISTERSKA\\DATASETS\\PREDYKCJA\\videos\\pieknie.webm: 384x640 1 no_glasses, 4 no_glovess, 2 no_vests, 7.5ms\n",
      "video 2/4 (frame 403/646) f:\\PRACA_MAGISTERSKA\\DATASETS\\PREDYKCJA\\videos\\pieknie.webm: 384x640 4 no_glovess, 2 no_vests, 7.5ms\n",
      "video 2/4 (frame 404/646) f:\\PRACA_MAGISTERSKA\\DATASETS\\PREDYKCJA\\videos\\pieknie.webm: 384x640 1 no_glasses, 4 no_glovess, 2 no_vests, 7.5ms\n",
      "video 2/4 (frame 405/646) f:\\PRACA_MAGISTERSKA\\DATASETS\\PREDYKCJA\\videos\\pieknie.webm: 384x640 1 no_glasses, 4 no_glovess, 2 no_vests, 7.5ms\n",
      "video 2/4 (frame 406/646) f:\\PRACA_MAGISTERSKA\\DATASETS\\PREDYKCJA\\videos\\pieknie.webm: 384x640 1 no_glasses, 4 no_glovess, 2 no_vests, 7.5ms\n",
      "video 2/4 (frame 407/646) f:\\PRACA_MAGISTERSKA\\DATASETS\\PREDYKCJA\\videos\\pieknie.webm: 384x640 1 no_glasses, 4 no_glovess, 2 no_vests, 7.5ms\n",
      "video 2/4 (frame 408/646) f:\\PRACA_MAGISTERSKA\\DATASETS\\PREDYKCJA\\videos\\pieknie.webm: 384x640 1 no_glasses, 4 no_glovess, 2 no_vests, 7.5ms\n",
      "video 2/4 (frame 409/646) f:\\PRACA_MAGISTERSKA\\DATASETS\\PREDYKCJA\\videos\\pieknie.webm: 384x640 1 no_glasses, 4 no_glovess, 2 no_vests, 7.5ms\n",
      "video 2/4 (frame 410/646) f:\\PRACA_MAGISTERSKA\\DATASETS\\PREDYKCJA\\videos\\pieknie.webm: 384x640 1 no_glasses, 4 no_glovess, 2 no_vests, 7.5ms\n",
      "video 2/4 (frame 411/646) f:\\PRACA_MAGISTERSKA\\DATASETS\\PREDYKCJA\\videos\\pieknie.webm: 384x640 1 no_glasses, 4 no_glovess, 2 no_vests, 7.5ms\n",
      "video 2/4 (frame 412/646) f:\\PRACA_MAGISTERSKA\\DATASETS\\PREDYKCJA\\videos\\pieknie.webm: 384x640 1 no_glasses, 4 no_glovess, 2 no_vests, 7.5ms\n",
      "video 2/4 (frame 413/646) f:\\PRACA_MAGISTERSKA\\DATASETS\\PREDYKCJA\\videos\\pieknie.webm: 384x640 4 no_glovess, 2 no_vests, 7.5ms\n",
      "video 2/4 (frame 414/646) f:\\PRACA_MAGISTERSKA\\DATASETS\\PREDYKCJA\\videos\\pieknie.webm: 384x640 1 no_glasses, 4 no_glovess, 2 no_vests, 7.5ms\n",
      "video 2/4 (frame 415/646) f:\\PRACA_MAGISTERSKA\\DATASETS\\PREDYKCJA\\videos\\pieknie.webm: 384x640 1 no_glasses, 4 no_glovess, 2 no_vests, 7.5ms\n",
      "video 2/4 (frame 416/646) f:\\PRACA_MAGISTERSKA\\DATASETS\\PREDYKCJA\\videos\\pieknie.webm: 384x640 1 no_glasses, 4 no_glovess, 2 no_vests, 7.5ms\n",
      "video 2/4 (frame 417/646) f:\\PRACA_MAGISTERSKA\\DATASETS\\PREDYKCJA\\videos\\pieknie.webm: 384x640 1 no_glasses, 4 no_glovess, 2 no_vests, 7.5ms\n",
      "video 2/4 (frame 418/646) f:\\PRACA_MAGISTERSKA\\DATASETS\\PREDYKCJA\\videos\\pieknie.webm: 384x640 1 no_glasses, 4 no_glovess, 2 no_vests, 7.5ms\n",
      "video 2/4 (frame 419/646) f:\\PRACA_MAGISTERSKA\\DATASETS\\PREDYKCJA\\videos\\pieknie.webm: 384x640 1 no_glasses, 4 no_glovess, 2 no_vests, 7.5ms\n",
      "video 2/4 (frame 420/646) f:\\PRACA_MAGISTERSKA\\DATASETS\\PREDYKCJA\\videos\\pieknie.webm: 384x640 1 no_glasses, 4 no_glovess, 2 no_vests, 7.5ms\n",
      "video 2/4 (frame 421/646) f:\\PRACA_MAGISTERSKA\\DATASETS\\PREDYKCJA\\videos\\pieknie.webm: 384x640 4 no_glovess, 2 no_vests, 7.5ms\n",
      "video 2/4 (frame 422/646) f:\\PRACA_MAGISTERSKA\\DATASETS\\PREDYKCJA\\videos\\pieknie.webm: 384x640 1 no_glasses, 4 no_glovess, 2 no_vests, 7.5ms\n",
      "video 2/4 (frame 423/646) f:\\PRACA_MAGISTERSKA\\DATASETS\\PREDYKCJA\\videos\\pieknie.webm: 384x640 1 no_glasses, 4 no_glovess, 2 no_vests, 7.5ms\n",
      "video 2/4 (frame 424/646) f:\\PRACA_MAGISTERSKA\\DATASETS\\PREDYKCJA\\videos\\pieknie.webm: 384x640 1 no_glasses, 4 no_glovess, 2 no_vests, 7.5ms\n",
      "video 2/4 (frame 425/646) f:\\PRACA_MAGISTERSKA\\DATASETS\\PREDYKCJA\\videos\\pieknie.webm: 384x640 1 no_glasses, 4 no_glovess, 2 no_vests, 7.5ms\n",
      "video 2/4 (frame 426/646) f:\\PRACA_MAGISTERSKA\\DATASETS\\PREDYKCJA\\videos\\pieknie.webm: 384x640 1 no_glasses, 4 no_glovess, 2 no_vests, 7.5ms\n",
      "video 2/4 (frame 427/646) f:\\PRACA_MAGISTERSKA\\DATASETS\\PREDYKCJA\\videos\\pieknie.webm: 384x640 1 no_glasses, 4 no_glovess, 2 no_vests, 7.5ms\n",
      "video 2/4 (frame 428/646) f:\\PRACA_MAGISTERSKA\\DATASETS\\PREDYKCJA\\videos\\pieknie.webm: 384x640 1 no_glasses, 4 no_glovess, 1 no_helmet, 2 no_vests, 7.5ms\n",
      "video 2/4 (frame 429/646) f:\\PRACA_MAGISTERSKA\\DATASETS\\PREDYKCJA\\videos\\pieknie.webm: 384x640 1 no_glasses, 3 no_glovess, 1 no_helmet, 2 no_vests, 7.5ms\n",
      "video 2/4 (frame 430/646) f:\\PRACA_MAGISTERSKA\\DATASETS\\PREDYKCJA\\videos\\pieknie.webm: 384x640 1 no_glasses, 3 no_glovess, 1 no_helmet, 2 no_vests, 7.5ms\n",
      "video 2/4 (frame 431/646) f:\\PRACA_MAGISTERSKA\\DATASETS\\PREDYKCJA\\videos\\pieknie.webm: 384x640 1 no_glasses, 3 no_glovess, 1 no_helmet, 2 no_vests, 7.5ms\n",
      "video 2/4 (frame 432/646) f:\\PRACA_MAGISTERSKA\\DATASETS\\PREDYKCJA\\videos\\pieknie.webm: 384x640 2 no_glassess, 3 no_glovess, 1 no_helmet, 2 no_vests, 7.5ms\n",
      "video 2/4 (frame 433/646) f:\\PRACA_MAGISTERSKA\\DATASETS\\PREDYKCJA\\videos\\pieknie.webm: 384x640 1 no_glasses, 4 no_glovess, 1 no_helmet, 2 no_vests, 7.5ms\n",
      "video 2/4 (frame 434/646) f:\\PRACA_MAGISTERSKA\\DATASETS\\PREDYKCJA\\videos\\pieknie.webm: 384x640 1 no_glasses, 4 no_glovess, 1 no_helmet, 2 no_vests, 7.5ms\n",
      "video 2/4 (frame 435/646) f:\\PRACA_MAGISTERSKA\\DATASETS\\PREDYKCJA\\videos\\pieknie.webm: 384x640 1 no_glasses, 4 no_glovess, 1 no_helmet, 2 no_vests, 7.5ms\n",
      "video 2/4 (frame 436/646) f:\\PRACA_MAGISTERSKA\\DATASETS\\PREDYKCJA\\videos\\pieknie.webm: 384x640 1 no_glasses, 4 no_glovess, 1 no_helmet, 2 no_vests, 7.5ms\n",
      "video 2/4 (frame 437/646) f:\\PRACA_MAGISTERSKA\\DATASETS\\PREDYKCJA\\videos\\pieknie.webm: 384x640 1 no_glasses, 4 no_glovess, 1 no_helmet, 2 no_vests, 7.5ms\n",
      "video 2/4 (frame 438/646) f:\\PRACA_MAGISTERSKA\\DATASETS\\PREDYKCJA\\videos\\pieknie.webm: 384x640 1 no_glasses, 4 no_glovess, 2 no_vests, 7.5ms\n",
      "video 2/4 (frame 439/646) f:\\PRACA_MAGISTERSKA\\DATASETS\\PREDYKCJA\\videos\\pieknie.webm: 384x640 1 no_glasses, 5 no_glovess, 2 no_vests, 7.5ms\n",
      "video 2/4 (frame 440/646) f:\\PRACA_MAGISTERSKA\\DATASETS\\PREDYKCJA\\videos\\pieknie.webm: 384x640 1 no_glasses, 4 no_glovess, 2 no_vests, 7.5ms\n",
      "video 2/4 (frame 441/646) f:\\PRACA_MAGISTERSKA\\DATASETS\\PREDYKCJA\\videos\\pieknie.webm: 384x640 1 no_glasses, 4 no_glovess, 2 no_vests, 7.5ms\n",
      "video 2/4 (frame 442/646) f:\\PRACA_MAGISTERSKA\\DATASETS\\PREDYKCJA\\videos\\pieknie.webm: 384x640 1 no_glasses, 3 no_glovess, 2 no_vests, 7.5ms\n",
      "video 2/4 (frame 443/646) f:\\PRACA_MAGISTERSKA\\DATASETS\\PREDYKCJA\\videos\\pieknie.webm: 384x640 1 no_glasses, 4 no_glovess, 2 no_vests, 7.5ms\n",
      "video 2/4 (frame 444/646) f:\\PRACA_MAGISTERSKA\\DATASETS\\PREDYKCJA\\videos\\pieknie.webm: 384x640 1 no_glasses, 4 no_glovess, 2 no_vests, 7.5ms\n",
      "video 2/4 (frame 445/646) f:\\PRACA_MAGISTERSKA\\DATASETS\\PREDYKCJA\\videos\\pieknie.webm: 384x640 1 no_glasses, 4 no_glovess, 2 no_vests, 7.5ms\n",
      "video 2/4 (frame 446/646) f:\\PRACA_MAGISTERSKA\\DATASETS\\PREDYKCJA\\videos\\pieknie.webm: 384x640 1 no_glasses, 4 no_glovess, 2 no_vests, 7.5ms\n",
      "video 2/4 (frame 447/646) f:\\PRACA_MAGISTERSKA\\DATASETS\\PREDYKCJA\\videos\\pieknie.webm: 384x640 1 no_glasses, 4 no_glovess, 2 no_vests, 7.5ms\n",
      "video 2/4 (frame 448/646) f:\\PRACA_MAGISTERSKA\\DATASETS\\PREDYKCJA\\videos\\pieknie.webm: 384x640 1 no_glasses, 4 no_glovess, 2 no_vests, 7.5ms\n",
      "video 2/4 (frame 449/646) f:\\PRACA_MAGISTERSKA\\DATASETS\\PREDYKCJA\\videos\\pieknie.webm: 384x640 1 no_glasses, 4 no_glovess, 2 no_vests, 7.5ms\n",
      "video 2/4 (frame 450/646) f:\\PRACA_MAGISTERSKA\\DATASETS\\PREDYKCJA\\videos\\pieknie.webm: 384x640 1 no_glasses, 4 no_glovess, 2 no_vests, 7.5ms\n",
      "video 2/4 (frame 451/646) f:\\PRACA_MAGISTERSKA\\DATASETS\\PREDYKCJA\\videos\\pieknie.webm: 384x640 1 no_glasses, 4 no_glovess, 2 no_vests, 7.5ms\n",
      "video 2/4 (frame 452/646) f:\\PRACA_MAGISTERSKA\\DATASETS\\PREDYKCJA\\videos\\pieknie.webm: 384x640 1 no_glasses, 4 no_glovess, 2 no_vests, 7.5ms\n",
      "video 2/4 (frame 453/646) f:\\PRACA_MAGISTERSKA\\DATASETS\\PREDYKCJA\\videos\\pieknie.webm: 384x640 4 no_glovess, 2 no_vests, 7.5ms\n",
      "video 2/4 (frame 454/646) f:\\PRACA_MAGISTERSKA\\DATASETS\\PREDYKCJA\\videos\\pieknie.webm: 384x640 4 no_glovess, 2 no_vests, 7.5ms\n",
      "video 2/4 (frame 455/646) f:\\PRACA_MAGISTERSKA\\DATASETS\\PREDYKCJA\\videos\\pieknie.webm: 384x640 1 no_glasses, 4 no_glovess, 2 no_vests, 7.5ms\n",
      "video 2/4 (frame 456/646) f:\\PRACA_MAGISTERSKA\\DATASETS\\PREDYKCJA\\videos\\pieknie.webm: 384x640 1 no_glasses, 4 no_glovess, 2 no_vests, 7.5ms\n",
      "video 2/4 (frame 457/646) f:\\PRACA_MAGISTERSKA\\DATASETS\\PREDYKCJA\\videos\\pieknie.webm: 384x640 1 no_glasses, 4 no_glovess, 2 no_vests, 7.5ms\n",
      "video 2/4 (frame 458/646) f:\\PRACA_MAGISTERSKA\\DATASETS\\PREDYKCJA\\videos\\pieknie.webm: 384x640 1 no_glasses, 4 no_glovess, 2 no_vests, 7.5ms\n",
      "video 2/4 (frame 459/646) f:\\PRACA_MAGISTERSKA\\DATASETS\\PREDYKCJA\\videos\\pieknie.webm: 384x640 1 no_glasses, 4 no_glovess, 2 no_vests, 7.5ms\n",
      "video 2/4 (frame 460/646) f:\\PRACA_MAGISTERSKA\\DATASETS\\PREDYKCJA\\videos\\pieknie.webm: 384x640 1 no_glasses, 4 no_glovess, 2 no_vests, 7.5ms\n",
      "video 2/4 (frame 461/646) f:\\PRACA_MAGISTERSKA\\DATASETS\\PREDYKCJA\\videos\\pieknie.webm: 384x640 1 no_glasses, 4 no_glovess, 2 no_vests, 7.5ms\n",
      "video 2/4 (frame 462/646) f:\\PRACA_MAGISTERSKA\\DATASETS\\PREDYKCJA\\videos\\pieknie.webm: 384x640 1 no_glasses, 4 no_glovess, 2 no_vests, 7.5ms\n",
      "video 2/4 (frame 463/646) f:\\PRACA_MAGISTERSKA\\DATASETS\\PREDYKCJA\\videos\\pieknie.webm: 384x640 1 no_glasses, 4 no_glovess, 2 no_vests, 7.5ms\n",
      "video 2/4 (frame 464/646) f:\\PRACA_MAGISTERSKA\\DATASETS\\PREDYKCJA\\videos\\pieknie.webm: 384x640 1 no_glasses, 4 no_glovess, 2 no_vests, 7.5ms\n",
      "video 2/4 (frame 465/646) f:\\PRACA_MAGISTERSKA\\DATASETS\\PREDYKCJA\\videos\\pieknie.webm: 384x640 1 no_glasses, 4 no_glovess, 2 no_vests, 7.5ms\n",
      "video 2/4 (frame 466/646) f:\\PRACA_MAGISTERSKA\\DATASETS\\PREDYKCJA\\videos\\pieknie.webm: 384x640 2 no_glassess, 3 no_glovess, 2 no_vests, 7.5ms\n",
      "video 2/4 (frame 467/646) f:\\PRACA_MAGISTERSKA\\DATASETS\\PREDYKCJA\\videos\\pieknie.webm: 384x640 1 no_glasses, 5 no_glovess, 2 no_vests, 7.5ms\n",
      "video 2/4 (frame 468/646) f:\\PRACA_MAGISTERSKA\\DATASETS\\PREDYKCJA\\videos\\pieknie.webm: 384x640 2 no_glassess, 4 no_glovess, 2 no_vests, 7.5ms\n",
      "video 2/4 (frame 469/646) f:\\PRACA_MAGISTERSKA\\DATASETS\\PREDYKCJA\\videos\\pieknie.webm: 384x640 1 no_glasses, 4 no_glovess, 2 no_vests, 7.5ms\n",
      "video 2/4 (frame 470/646) f:\\PRACA_MAGISTERSKA\\DATASETS\\PREDYKCJA\\videos\\pieknie.webm: 384x640 1 no_glasses, 5 no_glovess, 2 no_vests, 7.5ms\n",
      "video 2/4 (frame 471/646) f:\\PRACA_MAGISTERSKA\\DATASETS\\PREDYKCJA\\videos\\pieknie.webm: 384x640 1 no_glasses, 4 no_glovess, 1 no_helmet, 2 no_vests, 7.5ms\n",
      "video 2/4 (frame 472/646) f:\\PRACA_MAGISTERSKA\\DATASETS\\PREDYKCJA\\videos\\pieknie.webm: 384x640 1 no_glasses, 3 no_glovess, 1 no_helmet, 2 no_vests, 7.5ms\n",
      "video 2/4 (frame 473/646) f:\\PRACA_MAGISTERSKA\\DATASETS\\PREDYKCJA\\videos\\pieknie.webm: 384x640 1 no_glasses, 4 no_glovess, 2 no_vests, 7.5ms\n",
      "video 2/4 (frame 474/646) f:\\PRACA_MAGISTERSKA\\DATASETS\\PREDYKCJA\\videos\\pieknie.webm: 384x640 1 no_glasses, 4 no_glovess, 2 no_vests, 7.5ms\n",
      "video 2/4 (frame 475/646) f:\\PRACA_MAGISTERSKA\\DATASETS\\PREDYKCJA\\videos\\pieknie.webm: 384x640 1 no_glasses, 4 no_glovess, 2 no_vests, 7.5ms\n",
      "video 2/4 (frame 476/646) f:\\PRACA_MAGISTERSKA\\DATASETS\\PREDYKCJA\\videos\\pieknie.webm: 384x640 2 no_glassess, 3 no_glovess, 2 no_vests, 7.5ms\n",
      "video 2/4 (frame 477/646) f:\\PRACA_MAGISTERSKA\\DATASETS\\PREDYKCJA\\videos\\pieknie.webm: 384x640 2 no_glassess, 4 no_glovess, 2 no_vests, 7.5ms\n",
      "video 2/4 (frame 478/646) f:\\PRACA_MAGISTERSKA\\DATASETS\\PREDYKCJA\\videos\\pieknie.webm: 384x640 1 no_glasses, 4 no_glovess, 2 no_vests, 7.5ms\n",
      "video 2/4 (frame 479/646) f:\\PRACA_MAGISTERSKA\\DATASETS\\PREDYKCJA\\videos\\pieknie.webm: 384x640 1 no_glasses, 4 no_glovess, 2 no_vests, 7.5ms\n",
      "video 2/4 (frame 480/646) f:\\PRACA_MAGISTERSKA\\DATASETS\\PREDYKCJA\\videos\\pieknie.webm: 384x640 1 no_glasses, 4 no_glovess, 2 no_vests, 7.5ms\n",
      "video 2/4 (frame 481/646) f:\\PRACA_MAGISTERSKA\\DATASETS\\PREDYKCJA\\videos\\pieknie.webm: 384x640 1 no_glasses, 4 no_glovess, 2 no_vests, 7.5ms\n",
      "video 2/4 (frame 482/646) f:\\PRACA_MAGISTERSKA\\DATASETS\\PREDYKCJA\\videos\\pieknie.webm: 384x640 1 no_glasses, 4 no_glovess, 2 no_vests, 7.5ms\n",
      "video 2/4 (frame 483/646) f:\\PRACA_MAGISTERSKA\\DATASETS\\PREDYKCJA\\videos\\pieknie.webm: 384x640 1 no_glasses, 4 no_glovess, 2 no_vests, 7.5ms\n",
      "video 2/4 (frame 484/646) f:\\PRACA_MAGISTERSKA\\DATASETS\\PREDYKCJA\\videos\\pieknie.webm: 384x640 2 no_glassess, 4 no_glovess, 2 no_vests, 7.5ms\n",
      "video 2/4 (frame 485/646) f:\\PRACA_MAGISTERSKA\\DATASETS\\PREDYKCJA\\videos\\pieknie.webm: 384x640 1 no_glasses, 4 no_glovess, 2 no_vests, 7.5ms\n",
      "video 2/4 (frame 486/646) f:\\PRACA_MAGISTERSKA\\DATASETS\\PREDYKCJA\\videos\\pieknie.webm: 384x640 1 no_glasses, 4 no_glovess, 2 no_vests, 7.5ms\n",
      "video 2/4 (frame 487/646) f:\\PRACA_MAGISTERSKA\\DATASETS\\PREDYKCJA\\videos\\pieknie.webm: 384x640 1 no_glasses, 4 no_glovess, 2 no_vests, 7.5ms\n",
      "video 2/4 (frame 488/646) f:\\PRACA_MAGISTERSKA\\DATASETS\\PREDYKCJA\\videos\\pieknie.webm: 384x640 1 no_glasses, 4 no_glovess, 2 no_vests, 7.5ms\n",
      "video 2/4 (frame 489/646) f:\\PRACA_MAGISTERSKA\\DATASETS\\PREDYKCJA\\videos\\pieknie.webm: 384x640 1 no_glasses, 4 no_glovess, 2 no_vests, 7.5ms\n",
      "video 2/4 (frame 490/646) f:\\PRACA_MAGISTERSKA\\DATASETS\\PREDYKCJA\\videos\\pieknie.webm: 384x640 1 no_glasses, 4 no_glovess, 2 no_vests, 7.5ms\n",
      "video 2/4 (frame 491/646) f:\\PRACA_MAGISTERSKA\\DATASETS\\PREDYKCJA\\videos\\pieknie.webm: 384x640 1 no_glasses, 4 no_glovess, 2 no_vests, 7.5ms\n",
      "video 2/4 (frame 492/646) f:\\PRACA_MAGISTERSKA\\DATASETS\\PREDYKCJA\\videos\\pieknie.webm: 384x640 1 no_glasses, 4 no_glovess, 2 no_vests, 7.5ms\n",
      "video 2/4 (frame 493/646) f:\\PRACA_MAGISTERSKA\\DATASETS\\PREDYKCJA\\videos\\pieknie.webm: 384x640 2 no_glassess, 4 no_glovess, 2 no_vests, 7.5ms\n",
      "video 2/4 (frame 494/646) f:\\PRACA_MAGISTERSKA\\DATASETS\\PREDYKCJA\\videos\\pieknie.webm: 384x640 1 no_glasses, 4 no_glovess, 2 no_vests, 7.5ms\n",
      "video 2/4 (frame 495/646) f:\\PRACA_MAGISTERSKA\\DATASETS\\PREDYKCJA\\videos\\pieknie.webm: 384x640 1 no_glasses, 4 no_glovess, 2 no_vests, 7.5ms\n",
      "video 2/4 (frame 496/646) f:\\PRACA_MAGISTERSKA\\DATASETS\\PREDYKCJA\\videos\\pieknie.webm: 384x640 1 no_glasses, 4 no_glovess, 2 no_vests, 7.5ms\n",
      "video 2/4 (frame 497/646) f:\\PRACA_MAGISTERSKA\\DATASETS\\PREDYKCJA\\videos\\pieknie.webm: 384x640 1 no_glasses, 4 no_glovess, 2 no_vests, 7.5ms\n",
      "video 2/4 (frame 498/646) f:\\PRACA_MAGISTERSKA\\DATASETS\\PREDYKCJA\\videos\\pieknie.webm: 384x640 1 no_glasses, 4 no_glovess, 2 no_vests, 7.5ms\n",
      "video 2/4 (frame 499/646) f:\\PRACA_MAGISTERSKA\\DATASETS\\PREDYKCJA\\videos\\pieknie.webm: 384x640 1 no_glasses, 4 no_glovess, 2 no_vests, 7.5ms\n",
      "video 2/4 (frame 500/646) f:\\PRACA_MAGISTERSKA\\DATASETS\\PREDYKCJA\\videos\\pieknie.webm: 384x640 1 no_glasses, 4 no_glovess, 2 no_vests, 7.5ms\n",
      "video 2/4 (frame 501/646) f:\\PRACA_MAGISTERSKA\\DATASETS\\PREDYKCJA\\videos\\pieknie.webm: 384x640 1 no_glasses, 4 no_glovess, 2 no_vests, 7.5ms\n",
      "video 2/4 (frame 502/646) f:\\PRACA_MAGISTERSKA\\DATASETS\\PREDYKCJA\\videos\\pieknie.webm: 384x640 1 no_glasses, 4 no_glovess, 2 no_vests, 7.5ms\n",
      "video 2/4 (frame 503/646) f:\\PRACA_MAGISTERSKA\\DATASETS\\PREDYKCJA\\videos\\pieknie.webm: 384x640 1 no_glasses, 3 no_glovess, 2 no_vests, 7.5ms\n",
      "video 2/4 (frame 504/646) f:\\PRACA_MAGISTERSKA\\DATASETS\\PREDYKCJA\\videos\\pieknie.webm: 384x640 1 no_glasses, 4 no_glovess, 2 no_vests, 7.5ms\n",
      "video 2/4 (frame 505/646) f:\\PRACA_MAGISTERSKA\\DATASETS\\PREDYKCJA\\videos\\pieknie.webm: 384x640 1 no_glasses, 4 no_glovess, 3 no_vests, 7.5ms\n",
      "video 2/4 (frame 506/646) f:\\PRACA_MAGISTERSKA\\DATASETS\\PREDYKCJA\\videos\\pieknie.webm: 384x640 1 no_glasses, 4 no_glovess, 2 no_vests, 7.5ms\n",
      "video 2/4 (frame 507/646) f:\\PRACA_MAGISTERSKA\\DATASETS\\PREDYKCJA\\videos\\pieknie.webm: 384x640 1 no_glasses, 4 no_glovess, 2 no_vests, 7.5ms\n",
      "video 2/4 (frame 508/646) f:\\PRACA_MAGISTERSKA\\DATASETS\\PREDYKCJA\\videos\\pieknie.webm: 384x640 1 no_glasses, 4 no_glovess, 2 no_vests, 7.5ms\n",
      "video 2/4 (frame 509/646) f:\\PRACA_MAGISTERSKA\\DATASETS\\PREDYKCJA\\videos\\pieknie.webm: 384x640 1 no_glasses, 4 no_glovess, 2 no_vests, 7.5ms\n",
      "video 2/4 (frame 510/646) f:\\PRACA_MAGISTERSKA\\DATASETS\\PREDYKCJA\\videos\\pieknie.webm: 384x640 1 no_glasses, 4 no_glovess, 2 no_vests, 7.5ms\n",
      "video 2/4 (frame 511/646) f:\\PRACA_MAGISTERSKA\\DATASETS\\PREDYKCJA\\videos\\pieknie.webm: 384x640 1 no_glasses, 4 no_glovess, 2 no_vests, 7.5ms\n",
      "video 2/4 (frame 512/646) f:\\PRACA_MAGISTERSKA\\DATASETS\\PREDYKCJA\\videos\\pieknie.webm: 384x640 1 no_glasses, 4 no_glovess, 2 no_vests, 7.5ms\n",
      "video 2/4 (frame 513/646) f:\\PRACA_MAGISTERSKA\\DATASETS\\PREDYKCJA\\videos\\pieknie.webm: 384x640 1 no_glasses, 3 no_glovess, 2 no_vests, 7.5ms\n",
      "video 2/4 (frame 514/646) f:\\PRACA_MAGISTERSKA\\DATASETS\\PREDYKCJA\\videos\\pieknie.webm: 384x640 1 no_glasses, 4 no_glovess, 2 no_vests, 7.5ms\n",
      "video 2/4 (frame 515/646) f:\\PRACA_MAGISTERSKA\\DATASETS\\PREDYKCJA\\videos\\pieknie.webm: 384x640 1 no_glasses, 3 no_glovess, 2 no_vests, 7.5ms\n",
      "video 2/4 (frame 516/646) f:\\PRACA_MAGISTERSKA\\DATASETS\\PREDYKCJA\\videos\\pieknie.webm: 384x640 1 no_glasses, 3 no_glovess, 2 no_vests, 7.5ms\n",
      "video 2/4 (frame 517/646) f:\\PRACA_MAGISTERSKA\\DATASETS\\PREDYKCJA\\videos\\pieknie.webm: 384x640 1 no_glasses, 4 no_glovess, 2 no_vests, 7.5ms\n",
      "video 2/4 (frame 518/646) f:\\PRACA_MAGISTERSKA\\DATASETS\\PREDYKCJA\\videos\\pieknie.webm: 384x640 1 no_glasses, 4 no_glovess, 2 no_vests, 7.5ms\n",
      "video 2/4 (frame 519/646) f:\\PRACA_MAGISTERSKA\\DATASETS\\PREDYKCJA\\videos\\pieknie.webm: 384x640 1 no_glasses, 4 no_glovess, 2 no_vests, 7.5ms\n",
      "video 2/4 (frame 520/646) f:\\PRACA_MAGISTERSKA\\DATASETS\\PREDYKCJA\\videos\\pieknie.webm: 384x640 1 no_glasses, 4 no_glovess, 2 no_vests, 7.5ms\n",
      "video 2/4 (frame 521/646) f:\\PRACA_MAGISTERSKA\\DATASETS\\PREDYKCJA\\videos\\pieknie.webm: 384x640 1 no_glasses, 4 no_glovess, 2 no_vests, 7.5ms\n",
      "video 2/4 (frame 522/646) f:\\PRACA_MAGISTERSKA\\DATASETS\\PREDYKCJA\\videos\\pieknie.webm: 384x640 1 no_glasses, 4 no_glovess, 2 no_vests, 7.5ms\n",
      "video 2/4 (frame 523/646) f:\\PRACA_MAGISTERSKA\\DATASETS\\PREDYKCJA\\videos\\pieknie.webm: 384x640 1 no_glasses, 4 no_glovess, 2 no_vests, 7.5ms\n",
      "video 2/4 (frame 524/646) f:\\PRACA_MAGISTERSKA\\DATASETS\\PREDYKCJA\\videos\\pieknie.webm: 384x640 1 no_glasses, 5 no_glovess, 2 no_vests, 7.5ms\n",
      "video 2/4 (frame 525/646) f:\\PRACA_MAGISTERSKA\\DATASETS\\PREDYKCJA\\videos\\pieknie.webm: 384x640 1 no_glasses, 4 no_glovess, 2 no_vests, 7.5ms\n",
      "video 2/4 (frame 526/646) f:\\PRACA_MAGISTERSKA\\DATASETS\\PREDYKCJA\\videos\\pieknie.webm: 384x640 1 no_glasses, 4 no_glovess, 2 no_vests, 7.5ms\n",
      "video 2/4 (frame 527/646) f:\\PRACA_MAGISTERSKA\\DATASETS\\PREDYKCJA\\videos\\pieknie.webm: 384x640 1 no_glasses, 4 no_glovess, 2 no_vests, 7.5ms\n",
      "video 2/4 (frame 528/646) f:\\PRACA_MAGISTERSKA\\DATASETS\\PREDYKCJA\\videos\\pieknie.webm: 384x640 1 no_glasses, 4 no_glovess, 2 no_vests, 7.5ms\n",
      "video 2/4 (frame 529/646) f:\\PRACA_MAGISTERSKA\\DATASETS\\PREDYKCJA\\videos\\pieknie.webm: 384x640 1 no_glasses, 4 no_glovess, 2 no_vests, 7.5ms\n",
      "video 2/4 (frame 530/646) f:\\PRACA_MAGISTERSKA\\DATASETS\\PREDYKCJA\\videos\\pieknie.webm: 384x640 1 no_glasses, 4 no_glovess, 2 no_vests, 7.5ms\n",
      "video 2/4 (frame 531/646) f:\\PRACA_MAGISTERSKA\\DATASETS\\PREDYKCJA\\videos\\pieknie.webm: 384x640 1 no_glasses, 4 no_glovess, 2 no_vests, 7.5ms\n",
      "video 2/4 (frame 532/646) f:\\PRACA_MAGISTERSKA\\DATASETS\\PREDYKCJA\\videos\\pieknie.webm: 384x640 1 no_glasses, 4 no_glovess, 2 no_vests, 7.5ms\n",
      "video 2/4 (frame 533/646) f:\\PRACA_MAGISTERSKA\\DATASETS\\PREDYKCJA\\videos\\pieknie.webm: 384x640 1 no_glasses, 4 no_glovess, 2 no_vests, 7.5ms\n",
      "video 2/4 (frame 534/646) f:\\PRACA_MAGISTERSKA\\DATASETS\\PREDYKCJA\\videos\\pieknie.webm: 384x640 1 no_glasses, 4 no_glovess, 2 no_vests, 7.5ms\n",
      "video 2/4 (frame 535/646) f:\\PRACA_MAGISTERSKA\\DATASETS\\PREDYKCJA\\videos\\pieknie.webm: 384x640 1 no_glasses, 4 no_glovess, 2 no_vests, 7.5ms\n",
      "video 2/4 (frame 536/646) f:\\PRACA_MAGISTERSKA\\DATASETS\\PREDYKCJA\\videos\\pieknie.webm: 384x640 2 no_glassess, 4 no_glovess, 2 no_vests, 7.5ms\n",
      "video 2/4 (frame 537/646) f:\\PRACA_MAGISTERSKA\\DATASETS\\PREDYKCJA\\videos\\pieknie.webm: 384x640 2 no_glassess, 4 no_glovess, 2 no_vests, 7.5ms\n",
      "video 2/4 (frame 538/646) f:\\PRACA_MAGISTERSKA\\DATASETS\\PREDYKCJA\\videos\\pieknie.webm: 384x640 1 no_glasses, 4 no_glovess, 2 no_vests, 7.5ms\n",
      "video 2/4 (frame 539/646) f:\\PRACA_MAGISTERSKA\\DATASETS\\PREDYKCJA\\videos\\pieknie.webm: 384x640 4 no_glovess, 2 no_vests, 7.5ms\n",
      "video 2/4 (frame 540/646) f:\\PRACA_MAGISTERSKA\\DATASETS\\PREDYKCJA\\videos\\pieknie.webm: 384x640 1 no_glasses, 4 no_glovess, 2 no_vests, 7.5ms\n",
      "video 2/4 (frame 541/646) f:\\PRACA_MAGISTERSKA\\DATASETS\\PREDYKCJA\\videos\\pieknie.webm: 384x640 1 no_glasses, 4 no_glovess, 2 no_vests, 7.5ms\n",
      "video 2/4 (frame 542/646) f:\\PRACA_MAGISTERSKA\\DATASETS\\PREDYKCJA\\videos\\pieknie.webm: 384x640 1 no_glasses, 3 no_glovess, 2 no_vests, 7.5ms\n",
      "video 2/4 (frame 543/646) f:\\PRACA_MAGISTERSKA\\DATASETS\\PREDYKCJA\\videos\\pieknie.webm: 384x640 1 no_glasses, 4 no_glovess, 2 no_vests, 7.5ms\n",
      "video 2/4 (frame 544/646) f:\\PRACA_MAGISTERSKA\\DATASETS\\PREDYKCJA\\videos\\pieknie.webm: 384x640 1 no_glasses, 4 no_glovess, 2 no_vests, 7.5ms\n",
      "video 2/4 (frame 545/646) f:\\PRACA_MAGISTERSKA\\DATASETS\\PREDYKCJA\\videos\\pieknie.webm: 384x640 1 no_glasses, 4 no_glovess, 2 no_vests, 7.5ms\n",
      "video 2/4 (frame 546/646) f:\\PRACA_MAGISTERSKA\\DATASETS\\PREDYKCJA\\videos\\pieknie.webm: 384x640 1 no_glasses, 4 no_glovess, 2 no_vests, 7.5ms\n",
      "video 2/4 (frame 547/646) f:\\PRACA_MAGISTERSKA\\DATASETS\\PREDYKCJA\\videos\\pieknie.webm: 384x640 1 no_glasses, 4 no_glovess, 2 no_vests, 7.5ms\n",
      "video 2/4 (frame 548/646) f:\\PRACA_MAGISTERSKA\\DATASETS\\PREDYKCJA\\videos\\pieknie.webm: 384x640 1 no_glasses, 4 no_glovess, 2 no_vests, 7.5ms\n",
      "video 2/4 (frame 549/646) f:\\PRACA_MAGISTERSKA\\DATASETS\\PREDYKCJA\\videos\\pieknie.webm: 384x640 1 no_glasses, 4 no_glovess, 2 no_vests, 7.5ms\n",
      "video 2/4 (frame 550/646) f:\\PRACA_MAGISTERSKA\\DATASETS\\PREDYKCJA\\videos\\pieknie.webm: 384x640 1 no_glasses, 4 no_glovess, 2 no_vests, 7.5ms\n",
      "video 2/4 (frame 551/646) f:\\PRACA_MAGISTERSKA\\DATASETS\\PREDYKCJA\\videos\\pieknie.webm: 384x640 1 no_glasses, 4 no_glovess, 2 no_vests, 7.5ms\n",
      "video 2/4 (frame 552/646) f:\\PRACA_MAGISTERSKA\\DATASETS\\PREDYKCJA\\videos\\pieknie.webm: 384x640 1 no_glasses, 4 no_glovess, 2 no_vests, 7.5ms\n",
      "video 2/4 (frame 553/646) f:\\PRACA_MAGISTERSKA\\DATASETS\\PREDYKCJA\\videos\\pieknie.webm: 384x640 1 no_glasses, 4 no_glovess, 2 no_vests, 7.5ms\n",
      "video 2/4 (frame 554/646) f:\\PRACA_MAGISTERSKA\\DATASETS\\PREDYKCJA\\videos\\pieknie.webm: 384x640 1 no_glasses, 4 no_glovess, 2 no_vests, 7.5ms\n",
      "video 2/4 (frame 555/646) f:\\PRACA_MAGISTERSKA\\DATASETS\\PREDYKCJA\\videos\\pieknie.webm: 384x640 1 no_glasses, 3 no_glovess, 2 no_vests, 7.5ms\n",
      "video 2/4 (frame 556/646) f:\\PRACA_MAGISTERSKA\\DATASETS\\PREDYKCJA\\videos\\pieknie.webm: 384x640 1 no_glasses, 4 no_glovess, 2 no_vests, 7.5ms\n",
      "video 2/4 (frame 557/646) f:\\PRACA_MAGISTERSKA\\DATASETS\\PREDYKCJA\\videos\\pieknie.webm: 384x640 1 no_glasses, 4 no_glovess, 2 no_vests, 7.5ms\n",
      "video 2/4 (frame 558/646) f:\\PRACA_MAGISTERSKA\\DATASETS\\PREDYKCJA\\videos\\pieknie.webm: 384x640 1 no_glasses, 4 no_glovess, 2 no_vests, 7.5ms\n",
      "video 2/4 (frame 559/646) f:\\PRACA_MAGISTERSKA\\DATASETS\\PREDYKCJA\\videos\\pieknie.webm: 384x640 1 no_glasses, 4 no_glovess, 2 no_vests, 7.5ms\n",
      "video 2/4 (frame 560/646) f:\\PRACA_MAGISTERSKA\\DATASETS\\PREDYKCJA\\videos\\pieknie.webm: 384x640 1 no_glasses, 4 no_glovess, 2 no_vests, 7.5ms\n",
      "video 2/4 (frame 561/646) f:\\PRACA_MAGISTERSKA\\DATASETS\\PREDYKCJA\\videos\\pieknie.webm: 384x640 1 no_glasses, 4 no_glovess, 2 no_vests, 7.5ms\n",
      "video 2/4 (frame 562/646) f:\\PRACA_MAGISTERSKA\\DATASETS\\PREDYKCJA\\videos\\pieknie.webm: 384x640 1 no_glasses, 4 no_glovess, 2 no_vests, 7.5ms\n",
      "video 2/4 (frame 563/646) f:\\PRACA_MAGISTERSKA\\DATASETS\\PREDYKCJA\\videos\\pieknie.webm: 384x640 1 no_glasses, 4 no_glovess, 2 no_vests, 7.5ms\n",
      "video 2/4 (frame 564/646) f:\\PRACA_MAGISTERSKA\\DATASETS\\PREDYKCJA\\videos\\pieknie.webm: 384x640 1 no_glasses, 4 no_glovess, 2 no_vests, 7.5ms\n",
      "video 2/4 (frame 565/646) f:\\PRACA_MAGISTERSKA\\DATASETS\\PREDYKCJA\\videos\\pieknie.webm: 384x640 1 no_glasses, 4 no_glovess, 2 no_vests, 7.5ms\n",
      "video 2/4 (frame 566/646) f:\\PRACA_MAGISTERSKA\\DATASETS\\PREDYKCJA\\videos\\pieknie.webm: 384x640 1 no_glasses, 4 no_glovess, 2 no_vests, 7.5ms\n",
      "video 2/4 (frame 567/646) f:\\PRACA_MAGISTERSKA\\DATASETS\\PREDYKCJA\\videos\\pieknie.webm: 384x640 1 no_glasses, 4 no_glovess, 2 no_vests, 7.5ms\n",
      "video 2/4 (frame 568/646) f:\\PRACA_MAGISTERSKA\\DATASETS\\PREDYKCJA\\videos\\pieknie.webm: 384x640 1 no_glasses, 4 no_glovess, 2 no_vests, 7.5ms\n",
      "video 2/4 (frame 569/646) f:\\PRACA_MAGISTERSKA\\DATASETS\\PREDYKCJA\\videos\\pieknie.webm: 384x640 1 no_glasses, 4 no_glovess, 2 no_vests, 7.5ms\n",
      "video 2/4 (frame 570/646) f:\\PRACA_MAGISTERSKA\\DATASETS\\PREDYKCJA\\videos\\pieknie.webm: 384x640 1 no_glasses, 4 no_glovess, 2 no_vests, 7.5ms\n",
      "video 2/4 (frame 571/646) f:\\PRACA_MAGISTERSKA\\DATASETS\\PREDYKCJA\\videos\\pieknie.webm: 384x640 1 no_glasses, 4 no_glovess, 2 no_vests, 7.5ms\n",
      "video 2/4 (frame 572/646) f:\\PRACA_MAGISTERSKA\\DATASETS\\PREDYKCJA\\videos\\pieknie.webm: 384x640 1 no_glasses, 4 no_glovess, 2 no_vests, 7.5ms\n",
      "video 2/4 (frame 573/646) f:\\PRACA_MAGISTERSKA\\DATASETS\\PREDYKCJA\\videos\\pieknie.webm: 384x640 4 no_glovess, 2 no_vests, 7.5ms\n",
      "video 2/4 (frame 574/646) f:\\PRACA_MAGISTERSKA\\DATASETS\\PREDYKCJA\\videos\\pieknie.webm: 384x640 1 no_glasses, 3 no_glovess, 2 no_vests, 7.5ms\n",
      "video 2/4 (frame 575/646) f:\\PRACA_MAGISTERSKA\\DATASETS\\PREDYKCJA\\videos\\pieknie.webm: 384x640 4 no_glovess, 2 no_vests, 7.5ms\n",
      "video 2/4 (frame 576/646) f:\\PRACA_MAGISTERSKA\\DATASETS\\PREDYKCJA\\videos\\pieknie.webm: 384x640 4 no_glovess, 2 no_vests, 7.5ms\n",
      "video 2/4 (frame 577/646) f:\\PRACA_MAGISTERSKA\\DATASETS\\PREDYKCJA\\videos\\pieknie.webm: 384x640 1 no_glasses, 4 no_glovess, 2 no_vests, 7.5ms\n",
      "video 2/4 (frame 578/646) f:\\PRACA_MAGISTERSKA\\DATASETS\\PREDYKCJA\\videos\\pieknie.webm: 384x640 1 no_glasses, 4 no_glovess, 2 no_vests, 7.5ms\n",
      "video 2/4 (frame 579/646) f:\\PRACA_MAGISTERSKA\\DATASETS\\PREDYKCJA\\videos\\pieknie.webm: 384x640 1 no_glasses, 4 no_glovess, 2 no_vests, 7.5ms\n",
      "video 2/4 (frame 580/646) f:\\PRACA_MAGISTERSKA\\DATASETS\\PREDYKCJA\\videos\\pieknie.webm: 384x640 1 no_glasses, 4 no_glovess, 2 no_vests, 7.5ms\n",
      "video 2/4 (frame 581/646) f:\\PRACA_MAGISTERSKA\\DATASETS\\PREDYKCJA\\videos\\pieknie.webm: 384x640 1 no_glasses, 4 no_glovess, 2 no_vests, 7.5ms\n",
      "video 2/4 (frame 582/646) f:\\PRACA_MAGISTERSKA\\DATASETS\\PREDYKCJA\\videos\\pieknie.webm: 384x640 1 no_glasses, 4 no_glovess, 2 no_vests, 7.5ms\n",
      "video 2/4 (frame 583/646) f:\\PRACA_MAGISTERSKA\\DATASETS\\PREDYKCJA\\videos\\pieknie.webm: 384x640 1 no_glasses, 4 no_glovess, 2 no_vests, 7.5ms\n",
      "video 2/4 (frame 584/646) f:\\PRACA_MAGISTERSKA\\DATASETS\\PREDYKCJA\\videos\\pieknie.webm: 384x640 1 no_glasses, 4 no_glovess, 2 no_vests, 7.5ms\n",
      "video 2/4 (frame 585/646) f:\\PRACA_MAGISTERSKA\\DATASETS\\PREDYKCJA\\videos\\pieknie.webm: 384x640 1 no_glasses, 4 no_glovess, 2 no_vests, 7.5ms\n",
      "video 2/4 (frame 586/646) f:\\PRACA_MAGISTERSKA\\DATASETS\\PREDYKCJA\\videos\\pieknie.webm: 384x640 1 no_glasses, 4 no_glovess, 2 no_vests, 7.5ms\n",
      "video 2/4 (frame 587/646) f:\\PRACA_MAGISTERSKA\\DATASETS\\PREDYKCJA\\videos\\pieknie.webm: 384x640 1 no_glasses, 4 no_glovess, 2 no_vests, 7.5ms\n",
      "video 2/4 (frame 588/646) f:\\PRACA_MAGISTERSKA\\DATASETS\\PREDYKCJA\\videos\\pieknie.webm: 384x640 1 no_glasses, 4 no_glovess, 2 no_vests, 7.5ms\n",
      "video 2/4 (frame 589/646) f:\\PRACA_MAGISTERSKA\\DATASETS\\PREDYKCJA\\videos\\pieknie.webm: 384x640 1 no_glasses, 4 no_glovess, 2 no_vests, 7.5ms\n",
      "video 2/4 (frame 590/646) f:\\PRACA_MAGISTERSKA\\DATASETS\\PREDYKCJA\\videos\\pieknie.webm: 384x640 1 no_glasses, 4 no_glovess, 2 no_vests, 7.5ms\n",
      "video 2/4 (frame 591/646) f:\\PRACA_MAGISTERSKA\\DATASETS\\PREDYKCJA\\videos\\pieknie.webm: 384x640 1 no_glasses, 4 no_glovess, 2 no_vests, 7.5ms\n",
      "video 2/4 (frame 592/646) f:\\PRACA_MAGISTERSKA\\DATASETS\\PREDYKCJA\\videos\\pieknie.webm: 384x640 1 no_glasses, 4 no_glovess, 2 no_vests, 7.5ms\n",
      "video 2/4 (frame 593/646) f:\\PRACA_MAGISTERSKA\\DATASETS\\PREDYKCJA\\videos\\pieknie.webm: 384x640 1 no_glasses, 4 no_glovess, 2 no_vests, 7.5ms\n",
      "video 2/4 (frame 594/646) f:\\PRACA_MAGISTERSKA\\DATASETS\\PREDYKCJA\\videos\\pieknie.webm: 384x640 1 no_glasses, 4 no_glovess, 2 no_vests, 7.5ms\n",
      "video 2/4 (frame 595/646) f:\\PRACA_MAGISTERSKA\\DATASETS\\PREDYKCJA\\videos\\pieknie.webm: 384x640 1 no_glasses, 4 no_glovess, 2 no_vests, 7.5ms\n",
      "video 2/4 (frame 596/646) f:\\PRACA_MAGISTERSKA\\DATASETS\\PREDYKCJA\\videos\\pieknie.webm: 384x640 1 no_glasses, 4 no_glovess, 2 no_vests, 7.5ms\n",
      "video 2/4 (frame 597/646) f:\\PRACA_MAGISTERSKA\\DATASETS\\PREDYKCJA\\videos\\pieknie.webm: 384x640 1 no_glasses, 4 no_glovess, 2 no_vests, 7.5ms\n",
      "video 2/4 (frame 598/646) f:\\PRACA_MAGISTERSKA\\DATASETS\\PREDYKCJA\\videos\\pieknie.webm: 384x640 1 no_glasses, 4 no_glovess, 2 no_vests, 7.5ms\n",
      "video 2/4 (frame 599/646) f:\\PRACA_MAGISTERSKA\\DATASETS\\PREDYKCJA\\videos\\pieknie.webm: 384x640 1 no_glasses, 4 no_glovess, 2 no_vests, 7.5ms\n",
      "video 2/4 (frame 600/646) f:\\PRACA_MAGISTERSKA\\DATASETS\\PREDYKCJA\\videos\\pieknie.webm: 384x640 1 no_glasses, 4 no_glovess, 2 no_vests, 7.5ms\n",
      "video 2/4 (frame 601/646) f:\\PRACA_MAGISTERSKA\\DATASETS\\PREDYKCJA\\videos\\pieknie.webm: 384x640 1 no_glasses, 4 no_glovess, 2 no_vests, 7.5ms\n",
      "video 2/4 (frame 602/646) f:\\PRACA_MAGISTERSKA\\DATASETS\\PREDYKCJA\\videos\\pieknie.webm: 384x640 1 no_glasses, 4 no_glovess, 2 no_vests, 7.5ms\n",
      "video 2/4 (frame 603/646) f:\\PRACA_MAGISTERSKA\\DATASETS\\PREDYKCJA\\videos\\pieknie.webm: 384x640 1 no_glasses, 4 no_glovess, 2 no_vests, 7.5ms\n",
      "video 2/4 (frame 604/646) f:\\PRACA_MAGISTERSKA\\DATASETS\\PREDYKCJA\\videos\\pieknie.webm: 384x640 1 no_glasses, 4 no_glovess, 2 no_vests, 7.5ms\n",
      "video 2/4 (frame 605/646) f:\\PRACA_MAGISTERSKA\\DATASETS\\PREDYKCJA\\videos\\pieknie.webm: 384x640 1 no_glasses, 4 no_glovess, 2 no_vests, 7.5ms\n",
      "video 2/4 (frame 606/646) f:\\PRACA_MAGISTERSKA\\DATASETS\\PREDYKCJA\\videos\\pieknie.webm: 384x640 1 no_glasses, 4 no_glovess, 2 no_vests, 7.7ms\n",
      "video 2/4 (frame 607/646) f:\\PRACA_MAGISTERSKA\\DATASETS\\PREDYKCJA\\videos\\pieknie.webm: 384x640 1 no_glasses, 4 no_glovess, 2 no_vests, 7.7ms\n",
      "video 2/4 (frame 608/646) f:\\PRACA_MAGISTERSKA\\DATASETS\\PREDYKCJA\\videos\\pieknie.webm: 384x640 1 no_glasses, 4 no_glovess, 2 no_vests, 7.7ms\n",
      "video 2/4 (frame 609/646) f:\\PRACA_MAGISTERSKA\\DATASETS\\PREDYKCJA\\videos\\pieknie.webm: 384x640 1 no_glasses, 4 no_glovess, 2 no_vests, 7.7ms\n",
      "video 2/4 (frame 610/646) f:\\PRACA_MAGISTERSKA\\DATASETS\\PREDYKCJA\\videos\\pieknie.webm: 384x640 1 no_glasses, 4 no_glovess, 2 no_vests, 7.7ms\n",
      "video 2/4 (frame 611/646) f:\\PRACA_MAGISTERSKA\\DATASETS\\PREDYKCJA\\videos\\pieknie.webm: 384x640 1 no_glasses, 4 no_glovess, 2 no_vests, 7.7ms\n",
      "video 2/4 (frame 612/646) f:\\PRACA_MAGISTERSKA\\DATASETS\\PREDYKCJA\\videos\\pieknie.webm: 384x640 1 no_glasses, 3 no_glovess, 2 no_vests, 7.7ms\n",
      "video 2/4 (frame 613/646) f:\\PRACA_MAGISTERSKA\\DATASETS\\PREDYKCJA\\videos\\pieknie.webm: 384x640 1 no_glasses, 3 no_glovess, 2 no_vests, 7.7ms\n",
      "video 2/4 (frame 614/646) f:\\PRACA_MAGISTERSKA\\DATASETS\\PREDYKCJA\\videos\\pieknie.webm: 384x640 1 no_glasses, 4 no_glovess, 2 no_vests, 7.7ms\n",
      "video 2/4 (frame 615/646) f:\\PRACA_MAGISTERSKA\\DATASETS\\PREDYKCJA\\videos\\pieknie.webm: 384x640 1 no_glasses, 4 no_glovess, 2 no_vests, 7.7ms\n",
      "video 2/4 (frame 616/646) f:\\PRACA_MAGISTERSKA\\DATASETS\\PREDYKCJA\\videos\\pieknie.webm: 384x640 1 no_glasses, 4 no_glovess, 2 no_vests, 7.7ms\n",
      "video 2/4 (frame 617/646) f:\\PRACA_MAGISTERSKA\\DATASETS\\PREDYKCJA\\videos\\pieknie.webm: 384x640 1 no_glasses, 4 no_glovess, 1 no_helmet, 2 no_vests, 7.7ms\n",
      "video 2/4 (frame 618/646) f:\\PRACA_MAGISTERSKA\\DATASETS\\PREDYKCJA\\videos\\pieknie.webm: 384x640 1 no_glasses, 4 no_glovess, 1 no_helmet, 2 no_vests, 7.7ms\n",
      "video 2/4 (frame 619/646) f:\\PRACA_MAGISTERSKA\\DATASETS\\PREDYKCJA\\videos\\pieknie.webm: 384x640 1 no_glasses, 4 no_glovess, 2 no_vests, 7.7ms\n",
      "video 2/4 (frame 620/646) f:\\PRACA_MAGISTERSKA\\DATASETS\\PREDYKCJA\\videos\\pieknie.webm: 384x640 1 no_glasses, 4 no_glovess, 2 no_vests, 7.7ms\n",
      "video 2/4 (frame 621/646) f:\\PRACA_MAGISTERSKA\\DATASETS\\PREDYKCJA\\videos\\pieknie.webm: 384x640 1 no_glasses, 4 no_glovess, 2 no_vests, 7.7ms\n",
      "video 2/4 (frame 622/646) f:\\PRACA_MAGISTERSKA\\DATASETS\\PREDYKCJA\\videos\\pieknie.webm: 384x640 1 no_glasses, 4 no_glovess, 2 no_vests, 7.7ms\n",
      "video 2/4 (frame 623/646) f:\\PRACA_MAGISTERSKA\\DATASETS\\PREDYKCJA\\videos\\pieknie.webm: 384x640 1 no_glasses, 4 no_glovess, 2 no_vests, 7.7ms\n",
      "video 2/4 (frame 624/646) f:\\PRACA_MAGISTERSKA\\DATASETS\\PREDYKCJA\\videos\\pieknie.webm: 384x640 1 no_glasses, 4 no_glovess, 2 no_vests, 7.7ms\n",
      "video 2/4 (frame 625/646) f:\\PRACA_MAGISTERSKA\\DATASETS\\PREDYKCJA\\videos\\pieknie.webm: 384x640 1 no_glasses, 4 no_glovess, 2 no_vests, 7.7ms\n",
      "video 2/4 (frame 626/646) f:\\PRACA_MAGISTERSKA\\DATASETS\\PREDYKCJA\\videos\\pieknie.webm: 384x640 1 no_glasses, 4 no_glovess, 2 no_vests, 7.7ms\n",
      "video 2/4 (frame 627/646) f:\\PRACA_MAGISTERSKA\\DATASETS\\PREDYKCJA\\videos\\pieknie.webm: 384x640 1 no_glasses, 4 no_glovess, 2 no_vests, 7.7ms\n",
      "video 2/4 (frame 628/646) f:\\PRACA_MAGISTERSKA\\DATASETS\\PREDYKCJA\\videos\\pieknie.webm: 384x640 1 no_glasses, 4 no_glovess, 2 no_vests, 7.7ms\n",
      "video 2/4 (frame 629/646) f:\\PRACA_MAGISTERSKA\\DATASETS\\PREDYKCJA\\videos\\pieknie.webm: 384x640 1 no_glasses, 4 no_glovess, 2 no_vests, 7.7ms\n",
      "video 2/4 (frame 630/646) f:\\PRACA_MAGISTERSKA\\DATASETS\\PREDYKCJA\\videos\\pieknie.webm: 384x640 1 no_glasses, 4 no_glovess, 1 no_helmet, 2 no_vests, 7.7ms\n",
      "video 2/4 (frame 631/646) f:\\PRACA_MAGISTERSKA\\DATASETS\\PREDYKCJA\\videos\\pieknie.webm: 384x640 1 no_glasses, 4 no_glovess, 1 no_helmet, 2 no_vests, 7.7ms\n",
      "video 2/4 (frame 632/646) f:\\PRACA_MAGISTERSKA\\DATASETS\\PREDYKCJA\\videos\\pieknie.webm: 384x640 1 no_glasses, 4 no_glovess, 2 no_vests, 7.7ms\n",
      "video 2/4 (frame 633/646) f:\\PRACA_MAGISTERSKA\\DATASETS\\PREDYKCJA\\videos\\pieknie.webm: 384x640 1 no_glasses, 4 no_glovess, 2 no_vests, 7.7ms\n",
      "video 2/4 (frame 634/646) f:\\PRACA_MAGISTERSKA\\DATASETS\\PREDYKCJA\\videos\\pieknie.webm: 384x640 1 no_glasses, 4 no_glovess, 2 no_vests, 7.7ms\n",
      "video 2/4 (frame 635/646) f:\\PRACA_MAGISTERSKA\\DATASETS\\PREDYKCJA\\videos\\pieknie.webm: 384x640 1 no_glasses, 4 no_glovess, 2 no_vests, 7.7ms\n",
      "video 2/4 (frame 636/646) f:\\PRACA_MAGISTERSKA\\DATASETS\\PREDYKCJA\\videos\\pieknie.webm: 384x640 1 no_glasses, 4 no_glovess, 2 no_vests, 7.7ms\n",
      "video 2/4 (frame 637/646) f:\\PRACA_MAGISTERSKA\\DATASETS\\PREDYKCJA\\videos\\pieknie.webm: 384x640 1 no_glasses, 4 no_glovess, 2 no_vests, 7.7ms\n",
      "video 2/4 (frame 638/646) f:\\PRACA_MAGISTERSKA\\DATASETS\\PREDYKCJA\\videos\\pieknie.webm: 384x640 1 no_glasses, 4 no_glovess, 2 no_vests, 7.7ms\n",
      "video 2/4 (frame 639/646) f:\\PRACA_MAGISTERSKA\\DATASETS\\PREDYKCJA\\videos\\pieknie.webm: 384x640 1 no_glasses, 4 no_glovess, 2 no_vests, 7.7ms\n",
      "video 2/4 (frame 640/646) f:\\PRACA_MAGISTERSKA\\DATASETS\\PREDYKCJA\\videos\\pieknie.webm: 384x640 1 no_glasses, 4 no_glovess, 2 no_vests, 7.7ms\n",
      "video 2/4 (frame 641/646) f:\\PRACA_MAGISTERSKA\\DATASETS\\PREDYKCJA\\videos\\pieknie.webm: 384x640 1 no_glasses, 4 no_glovess, 2 no_vests, 7.7ms\n",
      "video 2/4 (frame 642/646) f:\\PRACA_MAGISTERSKA\\DATASETS\\PREDYKCJA\\videos\\pieknie.webm: 384x640 1 no_glasses, 4 no_glovess, 2 no_vests, 7.7ms\n",
      "video 2/4 (frame 643/646) f:\\PRACA_MAGISTERSKA\\DATASETS\\PREDYKCJA\\videos\\pieknie.webm: 384x640 1 no_glasses, 4 no_glovess, 2 no_vests, 7.7ms\n",
      "video 2/4 (frame 644/646) f:\\PRACA_MAGISTERSKA\\DATASETS\\PREDYKCJA\\videos\\pieknie.webm: 384x640 1 no_glasses, 4 no_glovess, 2 no_vests, 7.7ms\n",
      "video 2/4 (frame 645/646) f:\\PRACA_MAGISTERSKA\\DATASETS\\PREDYKCJA\\videos\\pieknie.webm: 384x640 1 no_glasses, 4 no_glovess, 2 no_vests, 7.7ms\n",
      "video 3/4 (frame 1/258) f:\\PRACA_MAGISTERSKA\\DATASETS\\PREDYKCJA\\videos\\slabe.webm: 384x640 1 no_glasses, 7 no_glovess, 2 no_helmets, 4 no_vests, 7.7ms\n",
      "video 3/4 (frame 2/258) f:\\PRACA_MAGISTERSKA\\DATASETS\\PREDYKCJA\\videos\\slabe.webm: 384x640 1 no_glasses, 7 no_glovess, 2 no_helmets, 4 no_vests, 7.7ms\n",
      "video 3/4 (frame 3/258) f:\\PRACA_MAGISTERSKA\\DATASETS\\PREDYKCJA\\videos\\slabe.webm: 384x640 2 no_glassess, 7 no_glovess, 3 no_helmets, 4 no_vests, 7.7ms\n",
      "video 3/4 (frame 4/258) f:\\PRACA_MAGISTERSKA\\DATASETS\\PREDYKCJA\\videos\\slabe.webm: 384x640 2 no_glassess, 7 no_glovess, 2 no_helmets, 4 no_vests, 7.7ms\n",
      "video 3/4 (frame 5/258) f:\\PRACA_MAGISTERSKA\\DATASETS\\PREDYKCJA\\videos\\slabe.webm: 384x640 2 no_glassess, 7 no_glovess, 2 no_helmets, 4 no_vests, 7.7ms\n",
      "video 3/4 (frame 6/258) f:\\PRACA_MAGISTERSKA\\DATASETS\\PREDYKCJA\\videos\\slabe.webm: 384x640 2 no_glassess, 7 no_glovess, 2 no_helmets, 4 no_vests, 7.7ms\n",
      "video 3/4 (frame 7/258) f:\\PRACA_MAGISTERSKA\\DATASETS\\PREDYKCJA\\videos\\slabe.webm: 384x640 3 no_glassess, 7 no_glovess, 2 no_helmets, 4 no_vests, 7.7ms\n",
      "video 3/4 (frame 8/258) f:\\PRACA_MAGISTERSKA\\DATASETS\\PREDYKCJA\\videos\\slabe.webm: 384x640 2 no_glassess, 6 no_glovess, 2 no_helmets, 4 no_vests, 7.7ms\n",
      "video 3/4 (frame 9/258) f:\\PRACA_MAGISTERSKA\\DATASETS\\PREDYKCJA\\videos\\slabe.webm: 384x640 1 no_glasses, 7 no_glovess, 2 no_helmets, 4 no_vests, 7.7ms\n",
      "video 3/4 (frame 10/258) f:\\PRACA_MAGISTERSKA\\DATASETS\\PREDYKCJA\\videos\\slabe.webm: 384x640 2 no_glassess, 8 no_glovess, 2 no_helmets, 4 no_vests, 7.7ms\n",
      "video 3/4 (frame 11/258) f:\\PRACA_MAGISTERSKA\\DATASETS\\PREDYKCJA\\videos\\slabe.webm: 384x640 3 no_glassess, 8 no_glovess, 2 no_helmets, 4 no_vests, 7.7ms\n",
      "video 3/4 (frame 12/258) f:\\PRACA_MAGISTERSKA\\DATASETS\\PREDYKCJA\\videos\\slabe.webm: 384x640 1 no_glasses, 8 no_glovess, 3 no_helmets, 4 no_vests, 7.7ms\n",
      "video 3/4 (frame 13/258) f:\\PRACA_MAGISTERSKA\\DATASETS\\PREDYKCJA\\videos\\slabe.webm: 384x640 1 no_glasses, 8 no_glovess, 3 no_helmets, 4 no_vests, 7.7ms\n",
      "video 3/4 (frame 14/258) f:\\PRACA_MAGISTERSKA\\DATASETS\\PREDYKCJA\\videos\\slabe.webm: 384x640 1 no_glasses, 7 no_glovess, 3 no_helmets, 5 no_vests, 7.7ms\n",
      "video 3/4 (frame 15/258) f:\\PRACA_MAGISTERSKA\\DATASETS\\PREDYKCJA\\videos\\slabe.webm: 384x640 2 no_glassess, 7 no_glovess, 3 no_helmets, 5 no_vests, 7.7ms\n",
      "video 3/4 (frame 16/258) f:\\PRACA_MAGISTERSKA\\DATASETS\\PREDYKCJA\\videos\\slabe.webm: 384x640 1 no_glasses, 7 no_glovess, 3 no_helmets, 4 no_vests, 7.7ms\n",
      "video 3/4 (frame 17/258) f:\\PRACA_MAGISTERSKA\\DATASETS\\PREDYKCJA\\videos\\slabe.webm: 384x640 2 no_glassess, 7 no_glovess, 3 no_helmets, 4 no_vests, 7.7ms\n",
      "video 3/4 (frame 18/258) f:\\PRACA_MAGISTERSKA\\DATASETS\\PREDYKCJA\\videos\\slabe.webm: 384x640 2 no_glassess, 7 no_glovess, 2 no_helmets, 4 no_vests, 7.7ms\n",
      "video 3/4 (frame 19/258) f:\\PRACA_MAGISTERSKA\\DATASETS\\PREDYKCJA\\videos\\slabe.webm: 384x640 2 no_glassess, 7 no_glovess, 3 no_helmets, 4 no_vests, 7.7ms\n",
      "video 3/4 (frame 20/258) f:\\PRACA_MAGISTERSKA\\DATASETS\\PREDYKCJA\\videos\\slabe.webm: 384x640 2 no_glassess, 7 no_glovess, 3 no_helmets, 4 no_vests, 7.7ms\n",
      "video 3/4 (frame 21/258) f:\\PRACA_MAGISTERSKA\\DATASETS\\PREDYKCJA\\videos\\slabe.webm: 384x640 2 no_glassess, 7 no_glovess, 3 no_helmets, 4 no_vests, 7.7ms\n",
      "video 3/4 (frame 22/258) f:\\PRACA_MAGISTERSKA\\DATASETS\\PREDYKCJA\\videos\\slabe.webm: 384x640 2 no_glassess, 7 no_glovess, 3 no_helmets, 4 no_vests, 7.7ms\n",
      "video 3/4 (frame 23/258) f:\\PRACA_MAGISTERSKA\\DATASETS\\PREDYKCJA\\videos\\slabe.webm: 384x640 2 no_glassess, 7 no_glovess, 3 no_helmets, 4 no_vests, 7.7ms\n",
      "video 3/4 (frame 24/258) f:\\PRACA_MAGISTERSKA\\DATASETS\\PREDYKCJA\\videos\\slabe.webm: 384x640 2 no_glassess, 7 no_glovess, 3 no_helmets, 4 no_vests, 7.7ms\n",
      "video 3/4 (frame 25/258) f:\\PRACA_MAGISTERSKA\\DATASETS\\PREDYKCJA\\videos\\slabe.webm: 384x640 3 no_glassess, 8 no_glovess, 3 no_helmets, 4 no_vests, 7.5ms\n",
      "video 3/4 (frame 26/258) f:\\PRACA_MAGISTERSKA\\DATASETS\\PREDYKCJA\\videos\\slabe.webm: 384x640 2 no_glassess, 7 no_glovess, 2 no_helmets, 4 no_vests, 7.5ms\n",
      "video 3/4 (frame 27/258) f:\\PRACA_MAGISTERSKA\\DATASETS\\PREDYKCJA\\videos\\slabe.webm: 384x640 2 no_glassess, 7 no_glovess, 2 no_helmets, 4 no_vests, 7.5ms\n",
      "video 3/4 (frame 28/258) f:\\PRACA_MAGISTERSKA\\DATASETS\\PREDYKCJA\\videos\\slabe.webm: 384x640 3 no_glassess, 7 no_glovess, 3 no_helmets, 4 no_vests, 7.5ms\n",
      "video 3/4 (frame 29/258) f:\\PRACA_MAGISTERSKA\\DATASETS\\PREDYKCJA\\videos\\slabe.webm: 384x640 2 no_glassess, 7 no_glovess, 3 no_helmets, 4 no_vests, 7.5ms\n",
      "video 3/4 (frame 30/258) f:\\PRACA_MAGISTERSKA\\DATASETS\\PREDYKCJA\\videos\\slabe.webm: 384x640 2 no_glassess, 6 no_glovess, 3 no_helmets, 4 no_vests, 7.5ms\n",
      "video 3/4 (frame 31/258) f:\\PRACA_MAGISTERSKA\\DATASETS\\PREDYKCJA\\videos\\slabe.webm: 384x640 2 no_glassess, 6 no_glovess, 3 no_helmets, 4 no_vests, 7.5ms\n",
      "video 3/4 (frame 32/258) f:\\PRACA_MAGISTERSKA\\DATASETS\\PREDYKCJA\\videos\\slabe.webm: 384x640 2 no_glassess, 6 no_glovess, 3 no_helmets, 4 no_vests, 7.5ms\n",
      "video 3/4 (frame 33/258) f:\\PRACA_MAGISTERSKA\\DATASETS\\PREDYKCJA\\videos\\slabe.webm: 384x640 2 no_glassess, 6 no_glovess, 3 no_helmets, 4 no_vests, 7.5ms\n",
      "video 3/4 (frame 34/258) f:\\PRACA_MAGISTERSKA\\DATASETS\\PREDYKCJA\\videos\\slabe.webm: 384x640 2 no_glassess, 6 no_glovess, 3 no_helmets, 4 no_vests, 7.5ms\n",
      "video 3/4 (frame 35/258) f:\\PRACA_MAGISTERSKA\\DATASETS\\PREDYKCJA\\videos\\slabe.webm: 384x640 3 no_glassess, 7 no_glovess, 3 no_helmets, 4 no_vests, 7.5ms\n",
      "video 3/4 (frame 36/258) f:\\PRACA_MAGISTERSKA\\DATASETS\\PREDYKCJA\\videos\\slabe.webm: 384x640 3 no_glassess, 6 no_glovess, 3 no_helmets, 4 no_vests, 7.5ms\n",
      "video 3/4 (frame 37/258) f:\\PRACA_MAGISTERSKA\\DATASETS\\PREDYKCJA\\videos\\slabe.webm: 384x640 3 no_glassess, 6 no_glovess, 3 no_helmets, 4 no_vests, 7.5ms\n",
      "video 3/4 (frame 38/258) f:\\PRACA_MAGISTERSKA\\DATASETS\\PREDYKCJA\\videos\\slabe.webm: 384x640 2 no_glassess, 6 no_glovess, 3 no_helmets, 4 no_vests, 7.5ms\n",
      "video 3/4 (frame 39/258) f:\\PRACA_MAGISTERSKA\\DATASETS\\PREDYKCJA\\videos\\slabe.webm: 384x640 2 no_glassess, 6 no_glovess, 3 no_helmets, 4 no_vests, 7.5ms\n",
      "video 3/4 (frame 40/258) f:\\PRACA_MAGISTERSKA\\DATASETS\\PREDYKCJA\\videos\\slabe.webm: 384x640 2 no_glassess, 6 no_glovess, 3 no_helmets, 4 no_vests, 7.5ms\n",
      "video 3/4 (frame 41/258) f:\\PRACA_MAGISTERSKA\\DATASETS\\PREDYKCJA\\videos\\slabe.webm: 384x640 3 no_glassess, 6 no_glovess, 3 no_helmets, 4 no_vests, 7.5ms\n",
      "video 3/4 (frame 42/258) f:\\PRACA_MAGISTERSKA\\DATASETS\\PREDYKCJA\\videos\\slabe.webm: 384x640 2 no_glassess, 7 no_glovess, 3 no_helmets, 4 no_vests, 7.5ms\n",
      "video 3/4 (frame 43/258) f:\\PRACA_MAGISTERSKA\\DATASETS\\PREDYKCJA\\videos\\slabe.webm: 384x640 3 no_glassess, 7 no_glovess, 3 no_helmets, 4 no_vests, 7.5ms\n",
      "video 3/4 (frame 44/258) f:\\PRACA_MAGISTERSKA\\DATASETS\\PREDYKCJA\\videos\\slabe.webm: 384x640 2 no_glassess, 8 no_glovess, 3 no_helmets, 4 no_vests, 7.5ms\n",
      "video 3/4 (frame 45/258) f:\\PRACA_MAGISTERSKA\\DATASETS\\PREDYKCJA\\videos\\slabe.webm: 384x640 2 no_glassess, 7 no_glovess, 3 no_helmets, 4 no_vests, 7.5ms\n",
      "video 3/4 (frame 46/258) f:\\PRACA_MAGISTERSKA\\DATASETS\\PREDYKCJA\\videos\\slabe.webm: 384x640 2 no_glassess, 7 no_glovess, 3 no_helmets, 4 no_vests, 7.5ms\n",
      "video 3/4 (frame 47/258) f:\\PRACA_MAGISTERSKA\\DATASETS\\PREDYKCJA\\videos\\slabe.webm: 384x640 3 no_glassess, 7 no_glovess, 3 no_helmets, 4 no_vests, 7.5ms\n",
      "video 3/4 (frame 48/258) f:\\PRACA_MAGISTERSKA\\DATASETS\\PREDYKCJA\\videos\\slabe.webm: 384x640 2 no_glassess, 7 no_glovess, 3 no_helmets, 4 no_vests, 7.5ms\n",
      "video 3/4 (frame 49/258) f:\\PRACA_MAGISTERSKA\\DATASETS\\PREDYKCJA\\videos\\slabe.webm: 384x640 2 no_glassess, 7 no_glovess, 3 no_helmets, 4 no_vests, 7.5ms\n",
      "video 3/4 (frame 50/258) f:\\PRACA_MAGISTERSKA\\DATASETS\\PREDYKCJA\\videos\\slabe.webm: 384x640 2 no_glassess, 7 no_glovess, 3 no_helmets, 4 no_vests, 7.5ms\n",
      "video 3/4 (frame 51/258) f:\\PRACA_MAGISTERSKA\\DATASETS\\PREDYKCJA\\videos\\slabe.webm: 384x640 2 no_glassess, 7 no_glovess, 3 no_helmets, 4 no_vests, 7.5ms\n",
      "video 3/4 (frame 52/258) f:\\PRACA_MAGISTERSKA\\DATASETS\\PREDYKCJA\\videos\\slabe.webm: 384x640 2 no_glassess, 6 no_glovess, 3 no_helmets, 4 no_vests, 7.5ms\n",
      "video 3/4 (frame 53/258) f:\\PRACA_MAGISTERSKA\\DATASETS\\PREDYKCJA\\videos\\slabe.webm: 384x640 2 no_glassess, 6 no_glovess, 2 no_helmets, 4 no_vests, 7.5ms\n",
      "video 3/4 (frame 54/258) f:\\PRACA_MAGISTERSKA\\DATASETS\\PREDYKCJA\\videos\\slabe.webm: 384x640 2 no_glassess, 6 no_glovess, 2 no_helmets, 4 no_vests, 7.5ms\n",
      "video 3/4 (frame 55/258) f:\\PRACA_MAGISTERSKA\\DATASETS\\PREDYKCJA\\videos\\slabe.webm: 384x640 3 no_glassess, 6 no_glovess, 2 no_helmets, 4 no_vests, 7.5ms\n",
      "video 3/4 (frame 56/258) f:\\PRACA_MAGISTERSKA\\DATASETS\\PREDYKCJA\\videos\\slabe.webm: 384x640 3 no_glassess, 6 no_glovess, 2 no_helmets, 4 no_vests, 7.5ms\n",
      "video 3/4 (frame 57/258) f:\\PRACA_MAGISTERSKA\\DATASETS\\PREDYKCJA\\videos\\slabe.webm: 384x640 2 no_glassess, 6 no_glovess, 2 no_helmets, 4 no_vests, 7.5ms\n",
      "video 3/4 (frame 58/258) f:\\PRACA_MAGISTERSKA\\DATASETS\\PREDYKCJA\\videos\\slabe.webm: 384x640 1 no_glasses, 6 no_glovess, 3 no_helmets, 4 no_vests, 7.5ms\n",
      "video 3/4 (frame 59/258) f:\\PRACA_MAGISTERSKA\\DATASETS\\PREDYKCJA\\videos\\slabe.webm: 384x640 2 no_glassess, 6 no_glovess, 3 no_helmets, 4 no_vests, 7.5ms\n",
      "video 3/4 (frame 60/258) f:\\PRACA_MAGISTERSKA\\DATASETS\\PREDYKCJA\\videos\\slabe.webm: 384x640 1 no_glasses, 5 no_glovess, 3 no_helmets, 4 no_vests, 7.5ms\n",
      "video 3/4 (frame 61/258) f:\\PRACA_MAGISTERSKA\\DATASETS\\PREDYKCJA\\videos\\slabe.webm: 384x640 2 no_glassess, 6 no_glovess, 3 no_helmets, 4 no_vests, 7.5ms\n",
      "video 3/4 (frame 62/258) f:\\PRACA_MAGISTERSKA\\DATASETS\\PREDYKCJA\\videos\\slabe.webm: 384x640 2 no_glassess, 6 no_glovess, 2 no_helmets, 4 no_vests, 7.5ms\n",
      "video 3/4 (frame 63/258) f:\\PRACA_MAGISTERSKA\\DATASETS\\PREDYKCJA\\videos\\slabe.webm: 384x640 1 no_glasses, 6 no_glovess, 2 no_helmets, 4 no_vests, 7.5ms\n",
      "video 3/4 (frame 64/258) f:\\PRACA_MAGISTERSKA\\DATASETS\\PREDYKCJA\\videos\\slabe.webm: 384x640 2 no_glassess, 7 no_glovess, 2 no_helmets, 4 no_vests, 7.5ms\n",
      "video 3/4 (frame 65/258) f:\\PRACA_MAGISTERSKA\\DATASETS\\PREDYKCJA\\videos\\slabe.webm: 384x640 2 no_glassess, 7 no_glovess, 2 no_helmets, 4 no_vests, 7.5ms\n",
      "video 3/4 (frame 66/258) f:\\PRACA_MAGISTERSKA\\DATASETS\\PREDYKCJA\\videos\\slabe.webm: 384x640 2 no_glassess, 7 no_glovess, 3 no_helmets, 4 no_vests, 7.5ms\n",
      "video 3/4 (frame 67/258) f:\\PRACA_MAGISTERSKA\\DATASETS\\PREDYKCJA\\videos\\slabe.webm: 384x640 2 no_glassess, 7 no_glovess, 2 no_helmets, 4 no_vests, 7.5ms\n",
      "video 3/4 (frame 68/258) f:\\PRACA_MAGISTERSKA\\DATASETS\\PREDYKCJA\\videos\\slabe.webm: 384x640 4 no_glassess, 7 no_glovess, 1 no_helmet, 4 no_vests, 7.5ms\n",
      "video 3/4 (frame 69/258) f:\\PRACA_MAGISTERSKA\\DATASETS\\PREDYKCJA\\videos\\slabe.webm: 384x640 3 no_glassess, 6 no_glovess, 2 no_helmets, 4 no_vests, 7.5ms\n",
      "video 3/4 (frame 70/258) f:\\PRACA_MAGISTERSKA\\DATASETS\\PREDYKCJA\\videos\\slabe.webm: 384x640 2 no_glassess, 6 no_glovess, 2 no_helmets, 4 no_vests, 7.5ms\n",
      "video 3/4 (frame 71/258) f:\\PRACA_MAGISTERSKA\\DATASETS\\PREDYKCJA\\videos\\slabe.webm: 384x640 2 no_glassess, 6 no_glovess, 2 no_helmets, 4 no_vests, 7.5ms\n",
      "video 3/4 (frame 72/258) f:\\PRACA_MAGISTERSKA\\DATASETS\\PREDYKCJA\\videos\\slabe.webm: 384x640 2 no_glassess, 6 no_glovess, 2 no_helmets, 4 no_vests, 7.5ms\n",
      "video 3/4 (frame 73/258) f:\\PRACA_MAGISTERSKA\\DATASETS\\PREDYKCJA\\videos\\slabe.webm: 384x640 2 no_glassess, 6 no_glovess, 2 no_helmets, 4 no_vests, 7.5ms\n",
      "video 3/4 (frame 74/258) f:\\PRACA_MAGISTERSKA\\DATASETS\\PREDYKCJA\\videos\\slabe.webm: 384x640 2 no_glassess, 6 no_glovess, 2 no_helmets, 4 no_vests, 7.5ms\n",
      "video 3/4 (frame 75/258) f:\\PRACA_MAGISTERSKA\\DATASETS\\PREDYKCJA\\videos\\slabe.webm: 384x640 1 no_glasses, 6 no_glovess, 2 no_helmets, 4 no_vests, 7.5ms\n",
      "video 3/4 (frame 76/258) f:\\PRACA_MAGISTERSKA\\DATASETS\\PREDYKCJA\\videos\\slabe.webm: 384x640 7 no_glovess, 2 no_helmets, 4 no_vests, 7.5ms\n",
      "video 3/4 (frame 77/258) f:\\PRACA_MAGISTERSKA\\DATASETS\\PREDYKCJA\\videos\\slabe.webm: 384x640 2 no_glassess, 7 no_glovess, 2 no_helmets, 4 no_vests, 7.5ms\n",
      "video 3/4 (frame 78/258) f:\\PRACA_MAGISTERSKA\\DATASETS\\PREDYKCJA\\videos\\slabe.webm: 384x640 2 no_glassess, 6 no_glovess, 2 no_helmets, 5 no_vests, 7.5ms\n",
      "video 3/4 (frame 79/258) f:\\PRACA_MAGISTERSKA\\DATASETS\\PREDYKCJA\\videos\\slabe.webm: 384x640 2 no_glassess, 6 no_glovess, 2 no_helmets, 4 no_vests, 7.5ms\n",
      "video 3/4 (frame 80/258) f:\\PRACA_MAGISTERSKA\\DATASETS\\PREDYKCJA\\videos\\slabe.webm: 384x640 2 no_glassess, 6 no_glovess, 3 no_helmets, 4 no_vests, 7.5ms\n",
      "video 3/4 (frame 81/258) f:\\PRACA_MAGISTERSKA\\DATASETS\\PREDYKCJA\\videos\\slabe.webm: 384x640 2 no_glassess, 7 no_glovess, 2 no_helmets, 4 no_vests, 7.5ms\n",
      "video 3/4 (frame 82/258) f:\\PRACA_MAGISTERSKA\\DATASETS\\PREDYKCJA\\videos\\slabe.webm: 384x640 1 no_glasses, 7 no_glovess, 2 no_helmets, 4 no_vests, 7.5ms\n",
      "video 3/4 (frame 83/258) f:\\PRACA_MAGISTERSKA\\DATASETS\\PREDYKCJA\\videos\\slabe.webm: 384x640 1 no_glasses, 8 no_glovess, 3 no_helmets, 4 no_vests, 7.5ms\n",
      "video 3/4 (frame 84/258) f:\\PRACA_MAGISTERSKA\\DATASETS\\PREDYKCJA\\videos\\slabe.webm: 384x640 1 no_glasses, 8 no_glovess, 3 no_helmets, 4 no_vests, 7.5ms\n",
      "video 3/4 (frame 85/258) f:\\PRACA_MAGISTERSKA\\DATASETS\\PREDYKCJA\\videos\\slabe.webm: 384x640 1 no_glasses, 8 no_glovess, 3 no_helmets, 4 no_vests, 7.5ms\n",
      "video 3/4 (frame 86/258) f:\\PRACA_MAGISTERSKA\\DATASETS\\PREDYKCJA\\videos\\slabe.webm: 384x640 2 no_glassess, 8 no_glovess, 3 no_helmets, 4 no_vests, 7.5ms\n",
      "video 3/4 (frame 87/258) f:\\PRACA_MAGISTERSKA\\DATASETS\\PREDYKCJA\\videos\\slabe.webm: 384x640 1 no_glasses, 7 no_glovess, 3 no_helmets, 4 no_vests, 7.5ms\n",
      "video 3/4 (frame 88/258) f:\\PRACA_MAGISTERSKA\\DATASETS\\PREDYKCJA\\videos\\slabe.webm: 384x640 1 no_glasses, 7 no_glovess, 3 no_helmets, 4 no_vests, 7.5ms\n",
      "video 3/4 (frame 89/258) f:\\PRACA_MAGISTERSKA\\DATASETS\\PREDYKCJA\\videos\\slabe.webm: 384x640 1 no_glasses, 7 no_glovess, 3 no_helmets, 4 no_vests, 7.5ms\n",
      "video 3/4 (frame 90/258) f:\\PRACA_MAGISTERSKA\\DATASETS\\PREDYKCJA\\videos\\slabe.webm: 384x640 1 no_glasses, 7 no_glovess, 3 no_helmets, 4 no_vests, 7.5ms\n",
      "video 3/4 (frame 91/258) f:\\PRACA_MAGISTERSKA\\DATASETS\\PREDYKCJA\\videos\\slabe.webm: 384x640 7 no_glovess, 3 no_helmets, 4 no_vests, 7.5ms\n",
      "video 3/4 (frame 92/258) f:\\PRACA_MAGISTERSKA\\DATASETS\\PREDYKCJA\\videos\\slabe.webm: 384x640 2 no_glassess, 7 no_glovess, 3 no_helmets, 4 no_vests, 7.5ms\n",
      "video 3/4 (frame 93/258) f:\\PRACA_MAGISTERSKA\\DATASETS\\PREDYKCJA\\videos\\slabe.webm: 384x640 2 no_glassess, 7 no_glovess, 4 no_helmets, 4 no_vests, 7.5ms\n",
      "video 3/4 (frame 94/258) f:\\PRACA_MAGISTERSKA\\DATASETS\\PREDYKCJA\\videos\\slabe.webm: 384x640 2 no_glassess, 7 no_glovess, 2 no_helmets, 4 no_vests, 7.5ms\n",
      "video 3/4 (frame 95/258) f:\\PRACA_MAGISTERSKA\\DATASETS\\PREDYKCJA\\videos\\slabe.webm: 384x640 1 no_glasses, 7 no_glovess, 3 no_helmets, 4 no_vests, 7.5ms\n",
      "video 3/4 (frame 96/258) f:\\PRACA_MAGISTERSKA\\DATASETS\\PREDYKCJA\\videos\\slabe.webm: 384x640 2 no_glassess, 7 no_glovess, 3 no_helmets, 4 no_vests, 7.5ms\n",
      "video 3/4 (frame 97/258) f:\\PRACA_MAGISTERSKA\\DATASETS\\PREDYKCJA\\videos\\slabe.webm: 384x640 2 no_glassess, 5 no_glovess, 3 no_helmets, 4 no_vests, 7.5ms\n",
      "video 3/4 (frame 98/258) f:\\PRACA_MAGISTERSKA\\DATASETS\\PREDYKCJA\\videos\\slabe.webm: 384x640 1 no_glasses, 6 no_glovess, 3 no_helmets, 4 no_vests, 7.5ms\n",
      "video 3/4 (frame 99/258) f:\\PRACA_MAGISTERSKA\\DATASETS\\PREDYKCJA\\videos\\slabe.webm: 384x640 1 no_glasses, 6 no_glovess, 3 no_helmets, 4 no_vests, 7.5ms\n",
      "video 3/4 (frame 100/258) f:\\PRACA_MAGISTERSKA\\DATASETS\\PREDYKCJA\\videos\\slabe.webm: 384x640 2 no_glassess, 6 no_glovess, 4 no_helmets, 4 no_vests, 7.5ms\n",
      "video 3/4 (frame 101/258) f:\\PRACA_MAGISTERSKA\\DATASETS\\PREDYKCJA\\videos\\slabe.webm: 384x640 2 no_glassess, 6 no_glovess, 3 no_helmets, 4 no_vests, 7.5ms\n",
      "video 3/4 (frame 102/258) f:\\PRACA_MAGISTERSKA\\DATASETS\\PREDYKCJA\\videos\\slabe.webm: 384x640 3 no_glassess, 4 no_glovess, 3 no_helmets, 4 no_vests, 7.5ms\n",
      "video 3/4 (frame 103/258) f:\\PRACA_MAGISTERSKA\\DATASETS\\PREDYKCJA\\videos\\slabe.webm: 384x640 2 no_glassess, 6 no_glovess, 3 no_helmets, 4 no_vests, 7.5ms\n",
      "video 3/4 (frame 104/258) f:\\PRACA_MAGISTERSKA\\DATASETS\\PREDYKCJA\\videos\\slabe.webm: 384x640 1 no_glasses, 6 no_glovess, 3 no_helmets, 4 no_vests, 7.5ms\n",
      "video 3/4 (frame 105/258) f:\\PRACA_MAGISTERSKA\\DATASETS\\PREDYKCJA\\videos\\slabe.webm: 384x640 1 no_glasses, 7 no_glovess, 4 no_helmets, 4 no_vests, 7.5ms\n",
      "video 3/4 (frame 106/258) f:\\PRACA_MAGISTERSKA\\DATASETS\\PREDYKCJA\\videos\\slabe.webm: 384x640 1 no_glasses, 7 no_glovess, 3 no_helmets, 4 no_vests, 7.5ms\n",
      "video 3/4 (frame 107/258) f:\\PRACA_MAGISTERSKA\\DATASETS\\PREDYKCJA\\videos\\slabe.webm: 384x640 1 no_glasses, 6 no_glovess, 3 no_helmets, 4 no_vests, 7.5ms\n",
      "video 3/4 (frame 108/258) f:\\PRACA_MAGISTERSKA\\DATASETS\\PREDYKCJA\\videos\\slabe.webm: 384x640 2 no_glassess, 7 no_glovess, 3 no_helmets, 4 no_vests, 7.5ms\n",
      "video 3/4 (frame 109/258) f:\\PRACA_MAGISTERSKA\\DATASETS\\PREDYKCJA\\videos\\slabe.webm: 384x640 1 no_glasses, 6 no_glovess, 3 no_helmets, 4 no_vests, 7.5ms\n",
      "video 3/4 (frame 110/258) f:\\PRACA_MAGISTERSKA\\DATASETS\\PREDYKCJA\\videos\\slabe.webm: 384x640 1 no_glasses, 6 no_glovess, 3 no_helmets, 4 no_vests, 7.5ms\n",
      "video 3/4 (frame 111/258) f:\\PRACA_MAGISTERSKA\\DATASETS\\PREDYKCJA\\videos\\slabe.webm: 384x640 1 no_glasses, 6 no_glovess, 3 no_helmets, 4 no_vests, 7.5ms\n",
      "video 3/4 (frame 112/258) f:\\PRACA_MAGISTERSKA\\DATASETS\\PREDYKCJA\\videos\\slabe.webm: 384x640 1 no_glasses, 5 no_glovess, 3 no_helmets, 4 no_vests, 7.5ms\n",
      "video 3/4 (frame 113/258) f:\\PRACA_MAGISTERSKA\\DATASETS\\PREDYKCJA\\videos\\slabe.webm: 384x640 2 no_glassess, 5 no_glovess, 3 no_helmets, 4 no_vests, 7.5ms\n",
      "video 3/4 (frame 114/258) f:\\PRACA_MAGISTERSKA\\DATASETS\\PREDYKCJA\\videos\\slabe.webm: 384x640 2 no_glassess, 6 no_glovess, 3 no_helmets, 4 no_vests, 7.5ms\n",
      "video 3/4 (frame 115/258) f:\\PRACA_MAGISTERSKA\\DATASETS\\PREDYKCJA\\videos\\slabe.webm: 384x640 2 no_glassess, 6 no_glovess, 4 no_helmets, 4 no_vests, 7.5ms\n",
      "video 3/4 (frame 116/258) f:\\PRACA_MAGISTERSKA\\DATASETS\\PREDYKCJA\\videos\\slabe.webm: 384x640 3 no_glassess, 6 no_glovess, 4 no_helmets, 4 no_vests, 7.5ms\n",
      "video 3/4 (frame 117/258) f:\\PRACA_MAGISTERSKA\\DATASETS\\PREDYKCJA\\videos\\slabe.webm: 384x640 2 no_glassess, 6 no_glovess, 4 no_helmets, 4 no_vests, 7.5ms\n",
      "video 3/4 (frame 118/258) f:\\PRACA_MAGISTERSKA\\DATASETS\\PREDYKCJA\\videos\\slabe.webm: 384x640 1 no_glasses, 6 no_glovess, 4 no_helmets, 4 no_vests, 7.5ms\n",
      "video 3/4 (frame 119/258) f:\\PRACA_MAGISTERSKA\\DATASETS\\PREDYKCJA\\videos\\slabe.webm: 384x640 1 no_glasses, 6 no_glovess, 4 no_helmets, 4 no_vests, 7.5ms\n",
      "video 3/4 (frame 120/258) f:\\PRACA_MAGISTERSKA\\DATASETS\\PREDYKCJA\\videos\\slabe.webm: 384x640 1 no_glasses, 6 no_glovess, 5 no_helmets, 4 no_vests, 7.5ms\n",
      "video 3/4 (frame 121/258) f:\\PRACA_MAGISTERSKA\\DATASETS\\PREDYKCJA\\videos\\slabe.webm: 384x640 2 no_glassess, 6 no_glovess, 3 no_helmets, 4 no_vests, 7.5ms\n",
      "video 3/4 (frame 122/258) f:\\PRACA_MAGISTERSKA\\DATASETS\\PREDYKCJA\\videos\\slabe.webm: 384x640 3 no_glassess, 5 no_glovess, 3 no_helmets, 4 no_vests, 7.5ms\n",
      "video 3/4 (frame 123/258) f:\\PRACA_MAGISTERSKA\\DATASETS\\PREDYKCJA\\videos\\slabe.webm: 384x640 1 no_glasses, 6 no_glovess, 3 no_helmets, 4 no_vests, 7.5ms\n",
      "video 3/4 (frame 124/258) f:\\PRACA_MAGISTERSKA\\DATASETS\\PREDYKCJA\\videos\\slabe.webm: 384x640 1 no_glasses, 5 no_glovess, 3 no_helmets, 4 no_vests, 7.5ms\n",
      "video 3/4 (frame 125/258) f:\\PRACA_MAGISTERSKA\\DATASETS\\PREDYKCJA\\videos\\slabe.webm: 384x640 2 no_glassess, 7 no_glovess, 3 no_helmets, 4 no_vests, 7.5ms\n",
      "video 3/4 (frame 126/258) f:\\PRACA_MAGISTERSKA\\DATASETS\\PREDYKCJA\\videos\\slabe.webm: 384x640 1 no_glasses, 7 no_glovess, 3 no_helmets, 3 no_vests, 7.5ms\n",
      "video 3/4 (frame 127/258) f:\\PRACA_MAGISTERSKA\\DATASETS\\PREDYKCJA\\videos\\slabe.webm: 384x640 2 no_glassess, 7 no_glovess, 3 no_helmets, 4 no_vests, 7.5ms\n",
      "video 3/4 (frame 128/258) f:\\PRACA_MAGISTERSKA\\DATASETS\\PREDYKCJA\\videos\\slabe.webm: 384x640 2 no_glassess, 7 no_glovess, 4 no_helmets, 4 no_vests, 7.5ms\n",
      "video 3/4 (frame 129/258) f:\\PRACA_MAGISTERSKA\\DATASETS\\PREDYKCJA\\videos\\slabe.webm: 384x640 2 no_glassess, 7 no_glovess, 3 no_helmets, 4 no_vests, 7.5ms\n",
      "video 3/4 (frame 130/258) f:\\PRACA_MAGISTERSKA\\DATASETS\\PREDYKCJA\\videos\\slabe.webm: 384x640 2 no_glassess, 5 no_glovess, 3 no_helmets, 4 no_vests, 7.5ms\n",
      "video 3/4 (frame 131/258) f:\\PRACA_MAGISTERSKA\\DATASETS\\PREDYKCJA\\videos\\slabe.webm: 384x640 2 no_glassess, 6 no_glovess, 4 no_helmets, 4 no_vests, 7.5ms\n",
      "video 3/4 (frame 132/258) f:\\PRACA_MAGISTERSKA\\DATASETS\\PREDYKCJA\\videos\\slabe.webm: 384x640 2 no_glassess, 6 no_glovess, 4 no_helmets, 4 no_vests, 7.5ms\n",
      "video 3/4 (frame 133/258) f:\\PRACA_MAGISTERSKA\\DATASETS\\PREDYKCJA\\videos\\slabe.webm: 384x640 2 no_glassess, 6 no_glovess, 4 no_helmets, 4 no_vests, 7.5ms\n",
      "video 3/4 (frame 134/258) f:\\PRACA_MAGISTERSKA\\DATASETS\\PREDYKCJA\\videos\\slabe.webm: 384x640 2 no_glassess, 6 no_glovess, 4 no_helmets, 4 no_vests, 7.5ms\n",
      "video 3/4 (frame 135/258) f:\\PRACA_MAGISTERSKA\\DATASETS\\PREDYKCJA\\videos\\slabe.webm: 384x640 1 no_glasses, 6 no_glovess, 4 no_helmets, 4 no_vests, 7.5ms\n",
      "video 3/4 (frame 136/258) f:\\PRACA_MAGISTERSKA\\DATASETS\\PREDYKCJA\\videos\\slabe.webm: 384x640 2 no_glassess, 6 no_glovess, 3 no_helmets, 4 no_vests, 7.5ms\n",
      "video 3/4 (frame 137/258) f:\\PRACA_MAGISTERSKA\\DATASETS\\PREDYKCJA\\videos\\slabe.webm: 384x640 2 no_glassess, 6 no_glovess, 3 no_helmets, 4 no_vests, 7.5ms\n",
      "video 3/4 (frame 138/258) f:\\PRACA_MAGISTERSKA\\DATASETS\\PREDYKCJA\\videos\\slabe.webm: 384x640 1 no_glasses, 5 no_glovess, 3 no_helmets, 4 no_vests, 7.5ms\n",
      "video 3/4 (frame 139/258) f:\\PRACA_MAGISTERSKA\\DATASETS\\PREDYKCJA\\videos\\slabe.webm: 384x640 5 no_glovess, 3 no_helmets, 4 no_vests, 7.5ms\n",
      "video 3/4 (frame 140/258) f:\\PRACA_MAGISTERSKA\\DATASETS\\PREDYKCJA\\videos\\slabe.webm: 384x640 1 no_glasses, 6 no_glovess, 4 no_helmets, 4 no_vests, 7.5ms\n",
      "video 3/4 (frame 141/258) f:\\PRACA_MAGISTERSKA\\DATASETS\\PREDYKCJA\\videos\\slabe.webm: 384x640 1 no_glasses, 6 no_glovess, 3 no_helmets, 4 no_vests, 7.5ms\n",
      "video 3/4 (frame 142/258) f:\\PRACA_MAGISTERSKA\\DATASETS\\PREDYKCJA\\videos\\slabe.webm: 384x640 6 no_glovess, 3 no_helmets, 4 no_vests, 7.5ms\n",
      "video 3/4 (frame 143/258) f:\\PRACA_MAGISTERSKA\\DATASETS\\PREDYKCJA\\videos\\slabe.webm: 384x640 1 no_glasses, 6 no_glovess, 3 no_helmets, 4 no_vests, 7.5ms\n",
      "video 3/4 (frame 144/258) f:\\PRACA_MAGISTERSKA\\DATASETS\\PREDYKCJA\\videos\\slabe.webm: 384x640 1 no_glasses, 6 no_glovess, 4 no_helmets, 4 no_vests, 7.5ms\n",
      "video 3/4 (frame 145/258) f:\\PRACA_MAGISTERSKA\\DATASETS\\PREDYKCJA\\videos\\slabe.webm: 384x640 2 no_glassess, 6 no_glovess, 3 no_helmets, 4 no_vests, 7.5ms\n",
      "video 3/4 (frame 146/258) f:\\PRACA_MAGISTERSKA\\DATASETS\\PREDYKCJA\\videos\\slabe.webm: 384x640 2 no_glassess, 6 no_glovess, 3 no_helmets, 4 no_vests, 7.5ms\n",
      "video 3/4 (frame 147/258) f:\\PRACA_MAGISTERSKA\\DATASETS\\PREDYKCJA\\videos\\slabe.webm: 384x640 2 no_glassess, 6 no_glovess, 3 no_helmets, 4 no_vests, 7.5ms\n",
      "video 3/4 (frame 148/258) f:\\PRACA_MAGISTERSKA\\DATASETS\\PREDYKCJA\\videos\\slabe.webm: 384x640 1 no_glasses, 5 no_glovess, 2 no_helmets, 4 no_vests, 7.5ms\n",
      "video 3/4 (frame 149/258) f:\\PRACA_MAGISTERSKA\\DATASETS\\PREDYKCJA\\videos\\slabe.webm: 384x640 1 no_glasses, 7 no_glovess, 3 no_helmets, 4 no_vests, 7.5ms\n",
      "video 3/4 (frame 150/258) f:\\PRACA_MAGISTERSKA\\DATASETS\\PREDYKCJA\\videos\\slabe.webm: 384x640 4 no_glovess, 2 no_helmets, 4 no_vests, 7.5ms\n",
      "video 3/4 (frame 151/258) f:\\PRACA_MAGISTERSKA\\DATASETS\\PREDYKCJA\\videos\\slabe.webm: 384x640 4 no_glovess, 3 no_helmets, 4 no_vests, 7.5ms\n",
      "video 3/4 (frame 152/258) f:\\PRACA_MAGISTERSKA\\DATASETS\\PREDYKCJA\\videos\\slabe.webm: 384x640 1 no_glasses, 5 no_glovess, 3 no_helmets, 4 no_vests, 7.5ms\n",
      "video 3/4 (frame 153/258) f:\\PRACA_MAGISTERSKA\\DATASETS\\PREDYKCJA\\videos\\slabe.webm: 384x640 5 no_glovess, 3 no_helmets, 4 no_vests, 7.5ms\n",
      "video 3/4 (frame 154/258) f:\\PRACA_MAGISTERSKA\\DATASETS\\PREDYKCJA\\videos\\slabe.webm: 384x640 1 no_glasses, 5 no_glovess, 3 no_helmets, 4 no_vests, 7.5ms\n",
      "video 3/4 (frame 155/258) f:\\PRACA_MAGISTERSKA\\DATASETS\\PREDYKCJA\\videos\\slabe.webm: 384x640 1 no_glasses, 6 no_glovess, 2 no_helmets, 4 no_vests, 7.5ms\n",
      "video 3/4 (frame 156/258) f:\\PRACA_MAGISTERSKA\\DATASETS\\PREDYKCJA\\videos\\slabe.webm: 384x640 7 no_glovess, 3 no_helmets, 4 no_vests, 7.5ms\n",
      "video 3/4 (frame 157/258) f:\\PRACA_MAGISTERSKA\\DATASETS\\PREDYKCJA\\videos\\slabe.webm: 384x640 5 no_glovess, 3 no_helmets, 4 no_vests, 7.5ms\n",
      "video 3/4 (frame 158/258) f:\\PRACA_MAGISTERSKA\\DATASETS\\PREDYKCJA\\videos\\slabe.webm: 384x640 5 no_glovess, 2 no_helmets, 4 no_vests, 7.5ms\n",
      "video 3/4 (frame 159/258) f:\\PRACA_MAGISTERSKA\\DATASETS\\PREDYKCJA\\videos\\slabe.webm: 384x640 1 no_glasses, 5 no_glovess, 2 no_helmets, 4 no_vests, 7.5ms\n",
      "video 3/4 (frame 160/258) f:\\PRACA_MAGISTERSKA\\DATASETS\\PREDYKCJA\\videos\\slabe.webm: 384x640 5 no_glovess, 3 no_helmets, 4 no_vests, 7.5ms\n",
      "video 3/4 (frame 161/258) f:\\PRACA_MAGISTERSKA\\DATASETS\\PREDYKCJA\\videos\\slabe.webm: 384x640 4 no_glovess, 3 no_helmets, 4 no_vests, 7.5ms\n",
      "video 3/4 (frame 162/258) f:\\PRACA_MAGISTERSKA\\DATASETS\\PREDYKCJA\\videos\\slabe.webm: 384x640 2 no_glassess, 5 no_glovess, 3 no_helmets, 4 no_vests, 7.5ms\n",
      "video 3/4 (frame 163/258) f:\\PRACA_MAGISTERSKA\\DATASETS\\PREDYKCJA\\videos\\slabe.webm: 384x640 2 no_glassess, 7 no_glovess, 2 no_helmets, 4 no_vests, 7.5ms\n",
      "video 3/4 (frame 164/258) f:\\PRACA_MAGISTERSKA\\DATASETS\\PREDYKCJA\\videos\\slabe.webm: 384x640 1 no_glasses, 4 no_glovess, 3 no_helmets, 4 no_vests, 7.5ms\n",
      "video 3/4 (frame 165/258) f:\\PRACA_MAGISTERSKA\\DATASETS\\PREDYKCJA\\videos\\slabe.webm: 384x640 1 no_glasses, 6 no_glovess, 3 no_helmets, 4 no_vests, 7.5ms\n",
      "video 3/4 (frame 166/258) f:\\PRACA_MAGISTERSKA\\DATASETS\\PREDYKCJA\\videos\\slabe.webm: 384x640 1 no_glasses, 6 no_glovess, 3 no_helmets, 4 no_vests, 7.5ms\n",
      "video 3/4 (frame 167/258) f:\\PRACA_MAGISTERSKA\\DATASETS\\PREDYKCJA\\videos\\slabe.webm: 384x640 3 no_glassess, 6 no_glovess, 3 no_helmets, 4 no_vests, 7.5ms\n",
      "video 3/4 (frame 168/258) f:\\PRACA_MAGISTERSKA\\DATASETS\\PREDYKCJA\\videos\\slabe.webm: 384x640 1 no_glasses, 6 no_glovess, 3 no_helmets, 4 no_vests, 7.5ms\n",
      "video 3/4 (frame 169/258) f:\\PRACA_MAGISTERSKA\\DATASETS\\PREDYKCJA\\videos\\slabe.webm: 384x640 2 no_glassess, 6 no_glovess, 3 no_helmets, 4 no_vests, 7.5ms\n",
      "video 3/4 (frame 170/258) f:\\PRACA_MAGISTERSKA\\DATASETS\\PREDYKCJA\\videos\\slabe.webm: 384x640 2 no_glassess, 6 no_glovess, 2 no_helmets, 4 no_vests, 7.5ms\n",
      "video 3/4 (frame 171/258) f:\\PRACA_MAGISTERSKA\\DATASETS\\PREDYKCJA\\videos\\slabe.webm: 384x640 1 no_glasses, 7 no_glovess, 2 no_helmets, 4 no_vests, 7.5ms\n",
      "video 3/4 (frame 172/258) f:\\PRACA_MAGISTERSKA\\DATASETS\\PREDYKCJA\\videos\\slabe.webm: 384x640 1 no_glasses, 7 no_glovess, 2 no_helmets, 4 no_vests, 7.5ms\n",
      "video 3/4 (frame 173/258) f:\\PRACA_MAGISTERSKA\\DATASETS\\PREDYKCJA\\videos\\slabe.webm: 384x640 1 no_glasses, 6 no_glovess, 2 no_helmets, 4 no_vests, 7.5ms\n",
      "video 3/4 (frame 174/258) f:\\PRACA_MAGISTERSKA\\DATASETS\\PREDYKCJA\\videos\\slabe.webm: 384x640 1 no_glasses, 5 no_glovess, 2 no_helmets, 4 no_vests, 7.5ms\n",
      "video 3/4 (frame 175/258) f:\\PRACA_MAGISTERSKA\\DATASETS\\PREDYKCJA\\videos\\slabe.webm: 384x640 2 no_glassess, 6 no_glovess, 2 no_helmets, 4 no_vests, 7.5ms\n",
      "video 3/4 (frame 176/258) f:\\PRACA_MAGISTERSKA\\DATASETS\\PREDYKCJA\\videos\\slabe.webm: 384x640 2 no_glassess, 6 no_glovess, 2 no_helmets, 4 no_vests, 7.5ms\n",
      "video 3/4 (frame 177/258) f:\\PRACA_MAGISTERSKA\\DATASETS\\PREDYKCJA\\videos\\slabe.webm: 384x640 2 no_glassess, 6 no_glovess, 3 no_helmets, 4 no_vests, 7.5ms\n",
      "video 3/4 (frame 178/258) f:\\PRACA_MAGISTERSKA\\DATASETS\\PREDYKCJA\\videos\\slabe.webm: 384x640 1 no_glasses, 6 no_glovess, 3 no_helmets, 4 no_vests, 7.5ms\n",
      "video 3/4 (frame 179/258) f:\\PRACA_MAGISTERSKA\\DATASETS\\PREDYKCJA\\videos\\slabe.webm: 384x640 1 no_glasses, 7 no_glovess, 3 no_helmets, 4 no_vests, 7.5ms\n",
      "video 3/4 (frame 180/258) f:\\PRACA_MAGISTERSKA\\DATASETS\\PREDYKCJA\\videos\\slabe.webm: 384x640 1 no_glasses, 7 no_glovess, 3 no_helmets, 4 no_vests, 7.5ms\n",
      "video 3/4 (frame 181/258) f:\\PRACA_MAGISTERSKA\\DATASETS\\PREDYKCJA\\videos\\slabe.webm: 384x640 2 no_glassess, 7 no_glovess, 3 no_helmets, 4 no_vests, 7.5ms\n",
      "video 3/4 (frame 182/258) f:\\PRACA_MAGISTERSKA\\DATASETS\\PREDYKCJA\\videos\\slabe.webm: 384x640 2 no_glassess, 7 no_glovess, 3 no_helmets, 4 no_vests, 7.5ms\n",
      "video 3/4 (frame 183/258) f:\\PRACA_MAGISTERSKA\\DATASETS\\PREDYKCJA\\videos\\slabe.webm: 384x640 1 no_glasses, 6 no_glovess, 3 no_helmets, 4 no_vests, 7.5ms\n",
      "video 3/4 (frame 184/258) f:\\PRACA_MAGISTERSKA\\DATASETS\\PREDYKCJA\\videos\\slabe.webm: 384x640 1 no_glasses, 7 no_glovess, 4 no_helmets, 4 no_vests, 7.5ms\n",
      "video 3/4 (frame 185/258) f:\\PRACA_MAGISTERSKA\\DATASETS\\PREDYKCJA\\videos\\slabe.webm: 384x640 1 no_glasses, 6 no_glovess, 3 no_helmets, 4 no_vests, 7.5ms\n",
      "video 3/4 (frame 186/258) f:\\PRACA_MAGISTERSKA\\DATASETS\\PREDYKCJA\\videos\\slabe.webm: 384x640 1 no_glasses, 5 no_glovess, 4 no_helmets, 4 no_vests, 7.5ms\n",
      "video 3/4 (frame 187/258) f:\\PRACA_MAGISTERSKA\\DATASETS\\PREDYKCJA\\videos\\slabe.webm: 384x640 2 no_glassess, 5 no_glovess, 4 no_helmets, 4 no_vests, 7.5ms\n",
      "video 3/4 (frame 188/258) f:\\PRACA_MAGISTERSKA\\DATASETS\\PREDYKCJA\\videos\\slabe.webm: 384x640 2 no_glassess, 5 no_glovess, 4 no_helmets, 4 no_vests, 7.5ms\n",
      "video 3/4 (frame 189/258) f:\\PRACA_MAGISTERSKA\\DATASETS\\PREDYKCJA\\videos\\slabe.webm: 384x640 1 no_glasses, 5 no_glovess, 4 no_helmets, 4 no_vests, 7.5ms\n",
      "video 3/4 (frame 190/258) f:\\PRACA_MAGISTERSKA\\DATASETS\\PREDYKCJA\\videos\\slabe.webm: 384x640 1 no_glasses, 5 no_glovess, 4 no_helmets, 4 no_vests, 7.5ms\n",
      "video 3/4 (frame 191/258) f:\\PRACA_MAGISTERSKA\\DATASETS\\PREDYKCJA\\videos\\slabe.webm: 384x640 1 no_glasses, 5 no_glovess, 3 no_helmets, 4 no_vests, 7.5ms\n",
      "video 3/4 (frame 192/258) f:\\PRACA_MAGISTERSKA\\DATASETS\\PREDYKCJA\\videos\\slabe.webm: 384x640 1 no_glasses, 4 no_glovess, 3 no_helmets, 4 no_vests, 7.5ms\n",
      "video 3/4 (frame 193/258) f:\\PRACA_MAGISTERSKA\\DATASETS\\PREDYKCJA\\videos\\slabe.webm: 384x640 1 no_glasses, 5 no_glovess, 3 no_helmets, 4 no_vests, 7.5ms\n",
      "video 3/4 (frame 194/258) f:\\PRACA_MAGISTERSKA\\DATASETS\\PREDYKCJA\\videos\\slabe.webm: 384x640 1 no_glasses, 5 no_glovess, 3 no_helmets, 4 no_vests, 7.5ms\n",
      "video 3/4 (frame 195/258) f:\\PRACA_MAGISTERSKA\\DATASETS\\PREDYKCJA\\videos\\slabe.webm: 384x640 2 no_glassess, 3 no_glovess, 3 no_helmets, 4 no_vests, 7.5ms\n",
      "video 3/4 (frame 196/258) f:\\PRACA_MAGISTERSKA\\DATASETS\\PREDYKCJA\\videos\\slabe.webm: 384x640 1 no_glasses, 3 no_glovess, 3 no_helmets, 4 no_vests, 7.5ms\n",
      "video 3/4 (frame 197/258) f:\\PRACA_MAGISTERSKA\\DATASETS\\PREDYKCJA\\videos\\slabe.webm: 384x640 1 no_glasses, 3 no_glovess, 3 no_helmets, 4 no_vests, 7.5ms\n",
      "video 3/4 (frame 198/258) f:\\PRACA_MAGISTERSKA\\DATASETS\\PREDYKCJA\\videos\\slabe.webm: 384x640 1 no_glasses, 3 no_glovess, 3 no_helmets, 4 no_vests, 7.5ms\n",
      "video 3/4 (frame 199/258) f:\\PRACA_MAGISTERSKA\\DATASETS\\PREDYKCJA\\videos\\slabe.webm: 384x640 1 no_glasses, 3 no_glovess, 3 no_helmets, 4 no_vests, 7.5ms\n",
      "video 3/4 (frame 200/258) f:\\PRACA_MAGISTERSKA\\DATASETS\\PREDYKCJA\\videos\\slabe.webm: 384x640 2 no_glassess, 5 no_glovess, 3 no_helmets, 4 no_vests, 7.5ms\n",
      "video 3/4 (frame 201/258) f:\\PRACA_MAGISTERSKA\\DATASETS\\PREDYKCJA\\videos\\slabe.webm: 384x640 2 no_glassess, 3 no_glovess, 3 no_helmets, 4 no_vests, 7.5ms\n",
      "video 3/4 (frame 202/258) f:\\PRACA_MAGISTERSKA\\DATASETS\\PREDYKCJA\\videos\\slabe.webm: 384x640 1 no_glasses, 4 no_glovess, 3 no_helmets, 4 no_vests, 7.5ms\n",
      "video 3/4 (frame 203/258) f:\\PRACA_MAGISTERSKA\\DATASETS\\PREDYKCJA\\videos\\slabe.webm: 384x640 2 no_glassess, 4 no_glovess, 3 no_helmets, 4 no_vests, 7.5ms\n",
      "video 3/4 (frame 204/258) f:\\PRACA_MAGISTERSKA\\DATASETS\\PREDYKCJA\\videos\\slabe.webm: 384x640 2 no_glassess, 4 no_glovess, 3 no_helmets, 4 no_vests, 7.5ms\n",
      "video 3/4 (frame 205/258) f:\\PRACA_MAGISTERSKA\\DATASETS\\PREDYKCJA\\videos\\slabe.webm: 384x640 1 no_glasses, 4 no_glovess, 2 no_helmets, 4 no_vests, 7.5ms\n",
      "video 3/4 (frame 206/258) f:\\PRACA_MAGISTERSKA\\DATASETS\\PREDYKCJA\\videos\\slabe.webm: 384x640 3 no_glassess, 4 no_glovess, 2 no_helmets, 4 no_vests, 7.5ms\n",
      "video 3/4 (frame 207/258) f:\\PRACA_MAGISTERSKA\\DATASETS\\PREDYKCJA\\videos\\slabe.webm: 384x640 1 no_glasses, 4 no_glovess, 2 no_helmets, 4 no_vests, 7.5ms\n",
      "video 3/4 (frame 208/258) f:\\PRACA_MAGISTERSKA\\DATASETS\\PREDYKCJA\\videos\\slabe.webm: 384x640 4 no_glovess, 2 no_helmets, 4 no_vests, 7.5ms\n",
      "video 3/4 (frame 209/258) f:\\PRACA_MAGISTERSKA\\DATASETS\\PREDYKCJA\\videos\\slabe.webm: 384x640 1 no_glasses, 4 no_glovess, 2 no_helmets, 4 no_vests, 7.5ms\n",
      "video 3/4 (frame 210/258) f:\\PRACA_MAGISTERSKA\\DATASETS\\PREDYKCJA\\videos\\slabe.webm: 384x640 1 no_glasses, 5 no_glovess, 2 no_helmets, 4 no_vests, 7.5ms\n",
      "video 3/4 (frame 211/258) f:\\PRACA_MAGISTERSKA\\DATASETS\\PREDYKCJA\\videos\\slabe.webm: 384x640 5 no_glovess, 2 no_helmets, 4 no_vests, 7.5ms\n",
      "video 3/4 (frame 212/258) f:\\PRACA_MAGISTERSKA\\DATASETS\\PREDYKCJA\\videos\\slabe.webm: 384x640 5 no_glovess, 3 no_helmets, 4 no_vests, 7.5ms\n",
      "video 3/4 (frame 213/258) f:\\PRACA_MAGISTERSKA\\DATASETS\\PREDYKCJA\\videos\\slabe.webm: 384x640 1 no_glasses, 6 no_glovess, 3 no_helmets, 4 no_vests, 7.5ms\n",
      "video 3/4 (frame 214/258) f:\\PRACA_MAGISTERSKA\\DATASETS\\PREDYKCJA\\videos\\slabe.webm: 384x640 6 no_glovess, 2 no_helmets, 4 no_vests, 7.5ms\n",
      "video 3/4 (frame 215/258) f:\\PRACA_MAGISTERSKA\\DATASETS\\PREDYKCJA\\videos\\slabe.webm: 384x640 1 no_glasses, 6 no_glovess, 3 no_helmets, 4 no_vests, 7.5ms\n",
      "video 3/4 (frame 216/258) f:\\PRACA_MAGISTERSKA\\DATASETS\\PREDYKCJA\\videos\\slabe.webm: 384x640 1 no_glasses, 6 no_glovess, 3 no_helmets, 4 no_vests, 7.5ms\n",
      "video 3/4 (frame 217/258) f:\\PRACA_MAGISTERSKA\\DATASETS\\PREDYKCJA\\videos\\slabe.webm: 640x640 1 no_glasses, 4 no_glovess, 4 no_helmets, 4 no_vests, 12.6ms\n",
      "video 3/4 (frame 218/258) f:\\PRACA_MAGISTERSKA\\DATASETS\\PREDYKCJA\\videos\\slabe.webm: 640x640 1 no_glasses, 5 no_glovess, 4 no_helmets, 4 no_vests, 12.6ms\n",
      "video 3/4 (frame 219/258) f:\\PRACA_MAGISTERSKA\\DATASETS\\PREDYKCJA\\videos\\slabe.webm: 640x640 1 no_glasses, 5 no_glovess, 3 no_helmets, 4 no_vests, 12.6ms\n",
      "video 3/4 (frame 220/258) f:\\PRACA_MAGISTERSKA\\DATASETS\\PREDYKCJA\\videos\\slabe.webm: 640x640 1 no_glasses, 4 no_glovess, 3 no_helmets, 3 no_vests, 12.6ms\n",
      "video 3/4 (frame 221/258) f:\\PRACA_MAGISTERSKA\\DATASETS\\PREDYKCJA\\videos\\slabe.webm: 640x640 2 no_glassess, 6 no_glovess, 3 no_helmets, 4 no_vests, 12.6ms\n",
      "video 3/4 (frame 222/258) f:\\PRACA_MAGISTERSKA\\DATASETS\\PREDYKCJA\\videos\\slabe.webm: 640x640 2 no_glassess, 5 no_glovess, 3 no_helmets, 4 no_vests, 12.6ms\n",
      "video 3/4 (frame 223/258) f:\\PRACA_MAGISTERSKA\\DATASETS\\PREDYKCJA\\videos\\slabe.webm: 640x640 2 no_glassess, 6 no_glovess, 3 no_helmets, 4 no_vests, 12.6ms\n",
      "video 3/4 (frame 224/258) f:\\PRACA_MAGISTERSKA\\DATASETS\\PREDYKCJA\\videos\\slabe.webm: 640x640 1 no_glasses, 6 no_glovess, 4 no_helmets, 4 no_vests, 12.6ms\n",
      "video 3/4 (frame 225/258) f:\\PRACA_MAGISTERSKA\\DATASETS\\PREDYKCJA\\videos\\slabe.webm: 640x640 1 no_glasses, 6 no_glovess, 4 no_helmets, 4 no_vests, 12.6ms\n",
      "video 3/4 (frame 226/258) f:\\PRACA_MAGISTERSKA\\DATASETS\\PREDYKCJA\\videos\\slabe.webm: 640x640 1 no_glasses, 4 no_glovess, 4 no_helmets, 4 no_vests, 12.6ms\n",
      "video 3/4 (frame 227/258) f:\\PRACA_MAGISTERSKA\\DATASETS\\PREDYKCJA\\videos\\slabe.webm: 640x640 3 no_glassess, 4 no_glovess, 4 no_helmets, 4 no_vests, 12.6ms\n",
      "video 3/4 (frame 228/258) f:\\PRACA_MAGISTERSKA\\DATASETS\\PREDYKCJA\\videos\\slabe.webm: 640x640 1 no_glasses, 4 no_glovess, 3 no_helmets, 4 no_vests, 12.6ms\n",
      "video 3/4 (frame 229/258) f:\\PRACA_MAGISTERSKA\\DATASETS\\PREDYKCJA\\videos\\slabe.webm: 640x640 2 no_glassess, 4 no_glovess, 3 no_helmets, 4 no_vests, 12.6ms\n",
      "video 3/4 (frame 230/258) f:\\PRACA_MAGISTERSKA\\DATASETS\\PREDYKCJA\\videos\\slabe.webm: 640x640 3 no_glassess, 3 no_glovess, 3 no_helmets, 4 no_vests, 12.6ms\n",
      "video 3/4 (frame 231/258) f:\\PRACA_MAGISTERSKA\\DATASETS\\PREDYKCJA\\videos\\slabe.webm: 640x640 1 no_glasses, 4 no_glovess, 3 no_helmets, 4 no_vests, 12.6ms\n",
      "video 3/4 (frame 232/258) f:\\PRACA_MAGISTERSKA\\DATASETS\\PREDYKCJA\\videos\\slabe.webm: 640x640 1 no_glasses, 4 no_glovess, 3 no_helmets, 4 no_vests, 12.6ms\n",
      "video 3/4 (frame 233/258) f:\\PRACA_MAGISTERSKA\\DATASETS\\PREDYKCJA\\videos\\slabe.webm: 640x640 1 no_glasses, 5 no_glovess, 4 no_helmets, 4 no_vests, 12.6ms\n",
      "video 3/4 (frame 234/258) f:\\PRACA_MAGISTERSKA\\DATASETS\\PREDYKCJA\\videos\\slabe.webm: 640x640 1 no_glasses, 6 no_glovess, 4 no_helmets, 4 no_vests, 12.6ms\n",
      "video 3/4 (frame 235/258) f:\\PRACA_MAGISTERSKA\\DATASETS\\PREDYKCJA\\videos\\slabe.webm: 640x640 1 no_glasses, 5 no_glovess, 4 no_helmets, 4 no_vests, 12.6ms\n",
      "video 3/4 (frame 236/258) f:\\PRACA_MAGISTERSKA\\DATASETS\\PREDYKCJA\\videos\\slabe.webm: 640x640 5 no_glovess, 4 no_helmets, 4 no_vests, 12.6ms\n",
      "video 3/4 (frame 237/258) f:\\PRACA_MAGISTERSKA\\DATASETS\\PREDYKCJA\\videos\\slabe.webm: 640x640 2 no_glassess, 6 no_glovess, 4 no_helmets, 4 no_vests, 12.6ms\n",
      "video 3/4 (frame 238/258) f:\\PRACA_MAGISTERSKA\\DATASETS\\PREDYKCJA\\videos\\slabe.webm: 640x640 1 no_glasses, 5 no_glovess, 4 no_helmets, 4 no_vests, 12.6ms\n",
      "video 3/4 (frame 239/258) f:\\PRACA_MAGISTERSKA\\DATASETS\\PREDYKCJA\\videos\\slabe.webm: 640x640 1 no_glasses, 5 no_glovess, 4 no_helmets, 3 no_vests, 12.6ms\n",
      "video 3/4 (frame 240/258) f:\\PRACA_MAGISTERSKA\\DATASETS\\PREDYKCJA\\videos\\slabe.webm: 640x640 2 no_glassess, 4 no_glovess, 4 no_helmets, 4 no_vests, 12.6ms\n",
      "video 3/4 (frame 241/258) f:\\PRACA_MAGISTERSKA\\DATASETS\\PREDYKCJA\\videos\\slabe.webm: 640x640 1 no_glasses, 5 no_glovess, 4 no_helmets, 4 no_vests, 12.6ms\n",
      "video 3/4 (frame 242/258) f:\\PRACA_MAGISTERSKA\\DATASETS\\PREDYKCJA\\videos\\slabe.webm: 640x640 1 no_glasses, 4 no_glovess, 4 no_helmets, 4 no_vests, 12.6ms\n",
      "video 3/4 (frame 243/258) f:\\PRACA_MAGISTERSKA\\DATASETS\\PREDYKCJA\\videos\\slabe.webm: 640x640 1 no_glasses, 3 no_glovess, 4 no_helmets, 4 no_vests, 12.6ms\n",
      "video 3/4 (frame 244/258) f:\\PRACA_MAGISTERSKA\\DATASETS\\PREDYKCJA\\videos\\slabe.webm: 640x640 2 no_glassess, 2 no_glovess, 4 no_helmets, 4 no_vests, 12.6ms\n",
      "video 3/4 (frame 245/258) f:\\PRACA_MAGISTERSKA\\DATASETS\\PREDYKCJA\\videos\\slabe.webm: 640x640 2 no_glassess, 3 no_glovess, 4 no_helmets, 4 no_vests, 12.6ms\n",
      "video 3/4 (frame 246/258) f:\\PRACA_MAGISTERSKA\\DATASETS\\PREDYKCJA\\videos\\slabe.webm: 640x640 1 no_glasses, 4 no_glovess, 4 no_helmets, 4 no_vests, 12.6ms\n",
      "video 3/4 (frame 247/258) f:\\PRACA_MAGISTERSKA\\DATASETS\\PREDYKCJA\\videos\\slabe.webm: 640x640 2 no_glassess, 4 no_glovess, 4 no_helmets, 4 no_vests, 12.6ms\n",
      "video 3/4 (frame 248/258) f:\\PRACA_MAGISTERSKA\\DATASETS\\PREDYKCJA\\videos\\slabe.webm: 640x640 1 no_glasses, 3 no_glovess, 4 no_helmets, 4 no_vests, 12.6ms\n",
      "video 3/4 (frame 249/258) f:\\PRACA_MAGISTERSKA\\DATASETS\\PREDYKCJA\\videos\\slabe.webm: 640x640 4 no_glovess, 3 no_helmets, 4 no_vests, 12.6ms\n",
      "video 3/4 (frame 250/258) f:\\PRACA_MAGISTERSKA\\DATASETS\\PREDYKCJA\\videos\\slabe.webm: 640x640 5 no_glovess, 2 no_helmets, 4 no_vests, 12.6ms\n",
      "video 3/4 (frame 251/258) f:\\PRACA_MAGISTERSKA\\DATASETS\\PREDYKCJA\\videos\\slabe.webm: 640x640 5 no_glovess, 2 no_helmets, 4 no_vests, 12.6ms\n",
      "video 3/4 (frame 252/258) f:\\PRACA_MAGISTERSKA\\DATASETS\\PREDYKCJA\\videos\\slabe.webm: 640x640 2 no_glassess, 4 no_glovess, 3 no_helmets, 4 no_vests, 12.6ms\n",
      "video 3/4 (frame 253/258) f:\\PRACA_MAGISTERSKA\\DATASETS\\PREDYKCJA\\videos\\slabe.webm: 640x640 1 no_glasses, 3 no_glovess, 3 no_helmets, 4 no_vests, 12.6ms\n",
      "video 3/4 (frame 254/258) f:\\PRACA_MAGISTERSKA\\DATASETS\\PREDYKCJA\\videos\\slabe.webm: 640x640 1 no_glasses, 4 no_glovess, 2 no_helmets, 4 no_vests, 12.6ms\n",
      "video 3/4 (frame 255/258) f:\\PRACA_MAGISTERSKA\\DATASETS\\PREDYKCJA\\videos\\slabe.webm: 640x640 1 no_glasses, 2 no_glovess, 2 no_helmets, 4 no_vests, 12.6ms\n",
      "video 3/4 (frame 256/258) f:\\PRACA_MAGISTERSKA\\DATASETS\\PREDYKCJA\\videos\\slabe.webm: 640x640 1 no_glasses, 3 no_glovess, 3 no_helmets, 4 no_vests, 12.6ms\n",
      "video 3/4 (frame 257/258) f:\\PRACA_MAGISTERSKA\\DATASETS\\PREDYKCJA\\videos\\slabe.webm: 640x640 2 no_glassess, 4 no_glovess, 4 no_helmets, 4 no_vests, 12.6ms\n",
      "video 3/4 (frame 258/258) f:\\PRACA_MAGISTERSKA\\DATASETS\\PREDYKCJA\\videos\\slabe.webm: 640x640 3 no_glassess, 3 no_glovess, 4 no_helmets, 4 no_vests, 12.6ms\n",
      "video 4/4 (frame 1/301) f:\\PRACA_MAGISTERSKA\\DATASETS\\PREDYKCJA\\videos\\taczka.mp4: 640x640 1 no_glasses, 2 no_glovess, 2 no_helmets, 2 no_vests, 12.6ms\n",
      "video 4/4 (frame 2/301) f:\\PRACA_MAGISTERSKA\\DATASETS\\PREDYKCJA\\videos\\taczka.mp4: 640x640 1 no_glasses, 2 no_glovess, 2 no_helmets, 2 no_vests, 12.6ms\n",
      "video 4/4 (frame 3/301) f:\\PRACA_MAGISTERSKA\\DATASETS\\PREDYKCJA\\videos\\taczka.mp4: 640x640 1 no_glasses, 2 no_glovess, 2 no_helmets, 2 no_vests, 12.6ms\n",
      "video 4/4 (frame 4/301) f:\\PRACA_MAGISTERSKA\\DATASETS\\PREDYKCJA\\videos\\taczka.mp4: 640x640 1 no_glasses, 2 no_glovess, 2 no_helmets, 2 no_vests, 12.6ms\n",
      "video 4/4 (frame 5/301) f:\\PRACA_MAGISTERSKA\\DATASETS\\PREDYKCJA\\videos\\taczka.mp4: 640x640 1 no_glasses, 2 no_glovess, 2 no_helmets, 2 no_vests, 12.6ms\n",
      "video 4/4 (frame 6/301) f:\\PRACA_MAGISTERSKA\\DATASETS\\PREDYKCJA\\videos\\taczka.mp4: 640x640 1 no_glasses, 2 no_glovess, 2 no_helmets, 2 no_vests, 12.6ms\n",
      "video 4/4 (frame 7/301) f:\\PRACA_MAGISTERSKA\\DATASETS\\PREDYKCJA\\videos\\taczka.mp4: 640x640 1 no_glasses, 2 no_glovess, 2 no_helmets, 2 no_vests, 12.6ms\n",
      "video 4/4 (frame 8/301) f:\\PRACA_MAGISTERSKA\\DATASETS\\PREDYKCJA\\videos\\taczka.mp4: 640x640 1 no_glasses, 2 no_glovess, 2 no_helmets, 2 no_vests, 12.6ms\n",
      "video 4/4 (frame 9/301) f:\\PRACA_MAGISTERSKA\\DATASETS\\PREDYKCJA\\videos\\taczka.mp4: 640x640 1 no_glasses, 2 no_glovess, 2 no_helmets, 2 no_vests, 12.6ms\n",
      "video 4/4 (frame 10/301) f:\\PRACA_MAGISTERSKA\\DATASETS\\PREDYKCJA\\videos\\taczka.mp4: 640x640 1 no_glasses, 2 no_glovess, 2 no_helmets, 2 no_vests, 12.6ms\n",
      "video 4/4 (frame 11/301) f:\\PRACA_MAGISTERSKA\\DATASETS\\PREDYKCJA\\videos\\taczka.mp4: 640x640 1 no_glasses, 2 no_glovess, 2 no_helmets, 3 no_vests, 12.6ms\n",
      "video 4/4 (frame 12/301) f:\\PRACA_MAGISTERSKA\\DATASETS\\PREDYKCJA\\videos\\taczka.mp4: 640x640 1 no_glasses, 2 no_glovess, 2 no_helmets, 2 no_vests, 12.6ms\n",
      "video 4/4 (frame 13/301) f:\\PRACA_MAGISTERSKA\\DATASETS\\PREDYKCJA\\videos\\taczka.mp4: 640x640 1 no_glasses, 2 no_glovess, 2 no_helmets, 2 no_vests, 12.6ms\n",
      "video 4/4 (frame 14/301) f:\\PRACA_MAGISTERSKA\\DATASETS\\PREDYKCJA\\videos\\taczka.mp4: 640x640 1 no_glasses, 2 no_glovess, 2 no_helmets, 2 no_vests, 12.6ms\n",
      "video 4/4 (frame 15/301) f:\\PRACA_MAGISTERSKA\\DATASETS\\PREDYKCJA\\videos\\taczka.mp4: 640x640 1 no_glasses, 2 no_glovess, 2 no_helmets, 2 no_vests, 12.6ms\n",
      "video 4/4 (frame 16/301) f:\\PRACA_MAGISTERSKA\\DATASETS\\PREDYKCJA\\videos\\taczka.mp4: 640x640 1 no_glasses, 2 no_glovess, 1 no_helmet, 2 no_vests, 12.6ms\n",
      "video 4/4 (frame 17/301) f:\\PRACA_MAGISTERSKA\\DATASETS\\PREDYKCJA\\videos\\taczka.mp4: 640x640 1 no_glasses, 2 no_glovess, 2 no_helmets, 1 no_vest, 12.6ms\n",
      "video 4/4 (frame 18/301) f:\\PRACA_MAGISTERSKA\\DATASETS\\PREDYKCJA\\videos\\taczka.mp4: 640x640 1 no_glasses, 2 no_glovess, 1 no_helmet, 1 no_vest, 12.6ms\n",
      "video 4/4 (frame 19/301) f:\\PRACA_MAGISTERSKA\\DATASETS\\PREDYKCJA\\videos\\taczka.mp4: 640x640 1 no_glasses, 2 no_glovess, 1 no_helmet, 1 no_vest, 12.6ms\n",
      "video 4/4 (frame 20/301) f:\\PRACA_MAGISTERSKA\\DATASETS\\PREDYKCJA\\videos\\taczka.mp4: 640x640 1 no_glasses, 2 no_glovess, 1 no_helmet, 1 no_vest, 12.6ms\n",
      "video 4/4 (frame 21/301) f:\\PRACA_MAGISTERSKA\\DATASETS\\PREDYKCJA\\videos\\taczka.mp4: 640x640 1 no_glasses, 2 no_glovess, 1 no_helmet, 2 no_vests, 12.6ms\n",
      "video 4/4 (frame 22/301) f:\\PRACA_MAGISTERSKA\\DATASETS\\PREDYKCJA\\videos\\taczka.mp4: 640x640 1 no_glasses, 2 no_glovess, 1 no_helmet, 2 no_vests, 12.6ms\n",
      "video 4/4 (frame 23/301) f:\\PRACA_MAGISTERSKA\\DATASETS\\PREDYKCJA\\videos\\taczka.mp4: 384x640 1 no_glasses, 2 no_glovess, 1 no_helmet, 2 no_vests, 7.5ms\n",
      "video 4/4 (frame 24/301) f:\\PRACA_MAGISTERSKA\\DATASETS\\PREDYKCJA\\videos\\taczka.mp4: 384x640 1 no_glasses, 2 no_glovess, 1 no_helmet, 2 no_vests, 7.5ms\n",
      "video 4/4 (frame 25/301) f:\\PRACA_MAGISTERSKA\\DATASETS\\PREDYKCJA\\videos\\taczka.mp4: 384x640 1 no_glasses, 2 no_glovess, 2 no_vests, 7.5ms\n",
      "video 4/4 (frame 26/301) f:\\PRACA_MAGISTERSKA\\DATASETS\\PREDYKCJA\\videos\\taczka.mp4: 384x640 1 no_glasses, 2 no_glovess, 2 no_vests, 7.5ms\n",
      "video 4/4 (frame 27/301) f:\\PRACA_MAGISTERSKA\\DATASETS\\PREDYKCJA\\videos\\taczka.mp4: 384x640 1 no_glasses, 2 no_glovess, 1 no_vest, 7.5ms\n",
      "video 4/4 (frame 28/301) f:\\PRACA_MAGISTERSKA\\DATASETS\\PREDYKCJA\\videos\\taczka.mp4: 384x640 1 no_glasses, 2 no_glovess, 1 no_vest, 7.5ms\n",
      "video 4/4 (frame 29/301) f:\\PRACA_MAGISTERSKA\\DATASETS\\PREDYKCJA\\videos\\taczka.mp4: 384x640 1 no_glasses, 1 no_gloves, 1 no_vest, 7.5ms\n",
      "video 4/4 (frame 30/301) f:\\PRACA_MAGISTERSKA\\DATASETS\\PREDYKCJA\\videos\\taczka.mp4: 384x640 1 no_glasses, 1 no_gloves, 1 no_helmet, 1 no_vest, 7.5ms\n",
      "video 4/4 (frame 31/301) f:\\PRACA_MAGISTERSKA\\DATASETS\\PREDYKCJA\\videos\\taczka.mp4: 384x640 1 no_glasses, 1 no_gloves, 1 no_helmet, 1 no_vest, 7.5ms\n",
      "video 4/4 (frame 32/301) f:\\PRACA_MAGISTERSKA\\DATASETS\\PREDYKCJA\\videos\\taczka.mp4: 384x640 2 no_glassess, 1 no_gloves, 1 no_vest, 7.5ms\n",
      "video 4/4 (frame 33/301) f:\\PRACA_MAGISTERSKA\\DATASETS\\PREDYKCJA\\videos\\taczka.mp4: 384x640 1 no_glasses, 1 no_gloves, 1 no_helmet, 1 no_vest, 7.5ms\n",
      "video 4/4 (frame 34/301) f:\\PRACA_MAGISTERSKA\\DATASETS\\PREDYKCJA\\videos\\taczka.mp4: 384x640 1 no_glasses, 1 no_gloves, 1 no_helmet, 1 no_vest, 7.5ms\n",
      "video 4/4 (frame 35/301) f:\\PRACA_MAGISTERSKA\\DATASETS\\PREDYKCJA\\videos\\taczka.mp4: 384x640 1 no_glasses, 1 no_gloves, 1 no_helmet, 1 no_vest, 7.5ms\n",
      "video 4/4 (frame 36/301) f:\\PRACA_MAGISTERSKA\\DATASETS\\PREDYKCJA\\videos\\taczka.mp4: 384x640 1 no_gloves, 1 no_helmet, 1 no_vest, 7.5ms\n",
      "video 4/4 (frame 37/301) f:\\PRACA_MAGISTERSKA\\DATASETS\\PREDYKCJA\\videos\\taczka.mp4: 384x640 1 no_gloves, 1 no_helmet, 1 no_vest, 7.5ms\n",
      "video 4/4 (frame 38/301) f:\\PRACA_MAGISTERSKA\\DATASETS\\PREDYKCJA\\videos\\taczka.mp4: 384x640 1 no_gloves, 1 no_helmet, 1 no_vest, 7.5ms\n",
      "video 4/4 (frame 39/301) f:\\PRACA_MAGISTERSKA\\DATASETS\\PREDYKCJA\\videos\\taczka.mp4: 384x640 1 no_gloves, 1 no_helmet, 1 no_vest, 7.5ms\n",
      "video 4/4 (frame 40/301) f:\\PRACA_MAGISTERSKA\\DATASETS\\PREDYKCJA\\videos\\taczka.mp4: 384x640 1 no_gloves, 1 no_helmet, 1 no_vest, 7.5ms\n",
      "video 4/4 (frame 41/301) f:\\PRACA_MAGISTERSKA\\DATASETS\\PREDYKCJA\\videos\\taczka.mp4: 384x640 1 no_gloves, 1 no_helmet, 1 no_vest, 7.5ms\n",
      "video 4/4 (frame 42/301) f:\\PRACA_MAGISTERSKA\\DATASETS\\PREDYKCJA\\videos\\taczka.mp4: 384x640 1 no_gloves, 1 no_helmet, 1 no_vest, 7.5ms\n",
      "video 4/4 (frame 43/301) f:\\PRACA_MAGISTERSKA\\DATASETS\\PREDYKCJA\\videos\\taczka.mp4: 384x640 1 no_gloves, 1 no_helmet, 1 no_vest, 7.5ms\n",
      "video 4/4 (frame 44/301) f:\\PRACA_MAGISTERSKA\\DATASETS\\PREDYKCJA\\videos\\taczka.mp4: 384x640 1 no_gloves, 1 no_helmet, 1 no_vest, 7.5ms\n",
      "video 4/4 (frame 45/301) f:\\PRACA_MAGISTERSKA\\DATASETS\\PREDYKCJA\\videos\\taczka.mp4: 384x640 1 no_gloves, 1 no_helmet, 1 no_vest, 7.5ms\n",
      "video 4/4 (frame 46/301) f:\\PRACA_MAGISTERSKA\\DATASETS\\PREDYKCJA\\videos\\taczka.mp4: 384x640 1 no_gloves, 1 no_helmet, 1 no_vest, 7.5ms\n",
      "video 4/4 (frame 47/301) f:\\PRACA_MAGISTERSKA\\DATASETS\\PREDYKCJA\\videos\\taczka.mp4: 384x640 1 no_gloves, 1 no_helmet, 1 no_vest, 7.5ms\n",
      "video 4/4 (frame 48/301) f:\\PRACA_MAGISTERSKA\\DATASETS\\PREDYKCJA\\videos\\taczka.mp4: 384x640 1 no_gloves, 1 no_helmet, 1 no_vest, 7.5ms\n",
      "video 4/4 (frame 49/301) f:\\PRACA_MAGISTERSKA\\DATASETS\\PREDYKCJA\\videos\\taczka.mp4: 384x640 1 no_gloves, 1 no_helmet, 1 no_vest, 7.5ms\n",
      "video 4/4 (frame 50/301) f:\\PRACA_MAGISTERSKA\\DATASETS\\PREDYKCJA\\videos\\taczka.mp4: 384x640 1 no_gloves, 1 no_helmet, 1 no_vest, 7.5ms\n",
      "video 4/4 (frame 51/301) f:\\PRACA_MAGISTERSKA\\DATASETS\\PREDYKCJA\\videos\\taczka.mp4: 384x640 1 no_gloves, 1 no_helmet, 1 no_vest, 7.5ms\n",
      "video 4/4 (frame 52/301) f:\\PRACA_MAGISTERSKA\\DATASETS\\PREDYKCJA\\videos\\taczka.mp4: 384x640 1 no_gloves, 1 no_helmet, 1 no_vest, 7.5ms\n",
      "video 4/4 (frame 53/301) f:\\PRACA_MAGISTERSKA\\DATASETS\\PREDYKCJA\\videos\\taczka.mp4: 384x640 1 no_gloves, 1 no_helmet, 1 no_vest, 7.5ms\n",
      "video 4/4 (frame 54/301) f:\\PRACA_MAGISTERSKA\\DATASETS\\PREDYKCJA\\videos\\taczka.mp4: 384x640 1 no_gloves, 1 no_helmet, 1 no_vest, 7.5ms\n",
      "video 4/4 (frame 55/301) f:\\PRACA_MAGISTERSKA\\DATASETS\\PREDYKCJA\\videos\\taczka.mp4: 384x640 1 no_gloves, 1 no_helmet, 1 no_vest, 7.5ms\n",
      "video 4/4 (frame 56/301) f:\\PRACA_MAGISTERSKA\\DATASETS\\PREDYKCJA\\videos\\taczka.mp4: 384x640 1 no_gloves, 1 no_helmet, 1 no_vest, 7.5ms\n",
      "video 4/4 (frame 57/301) f:\\PRACA_MAGISTERSKA\\DATASETS\\PREDYKCJA\\videos\\taczka.mp4: 384x640 1 no_gloves, 1 no_helmet, 1 no_vest, 7.5ms\n",
      "video 4/4 (frame 58/301) f:\\PRACA_MAGISTERSKA\\DATASETS\\PREDYKCJA\\videos\\taczka.mp4: 384x640 1 no_gloves, 1 no_helmet, 1 no_vest, 7.5ms\n",
      "video 4/4 (frame 59/301) f:\\PRACA_MAGISTERSKA\\DATASETS\\PREDYKCJA\\videos\\taczka.mp4: 384x640 1 no_gloves, 1 no_vest, 7.5ms\n",
      "video 4/4 (frame 60/301) f:\\PRACA_MAGISTERSKA\\DATASETS\\PREDYKCJA\\videos\\taczka.mp4: 384x640 1 no_gloves, 1 no_helmet, 1 no_vest, 7.5ms\n",
      "video 4/4 (frame 61/301) f:\\PRACA_MAGISTERSKA\\DATASETS\\PREDYKCJA\\videos\\taczka.mp4: 384x640 1 no_gloves, 1 no_helmet, 1 no_vest, 7.5ms\n",
      "video 4/4 (frame 62/301) f:\\PRACA_MAGISTERSKA\\DATASETS\\PREDYKCJA\\videos\\taczka.mp4: 384x640 1 no_gloves, 1 no_vest, 7.5ms\n",
      "video 4/4 (frame 63/301) f:\\PRACA_MAGISTERSKA\\DATASETS\\PREDYKCJA\\videos\\taczka.mp4: 384x640 1 no_gloves, 1 no_helmet, 1 no_vest, 7.5ms\n",
      "video 4/4 (frame 64/301) f:\\PRACA_MAGISTERSKA\\DATASETS\\PREDYKCJA\\videos\\taczka.mp4: 384x640 1 no_gloves, 1 no_vest, 7.5ms\n",
      "video 4/4 (frame 65/301) f:\\PRACA_MAGISTERSKA\\DATASETS\\PREDYKCJA\\videos\\taczka.mp4: 384x640 1 no_gloves, 1 no_vest, 7.5ms\n",
      "video 4/4 (frame 66/301) f:\\PRACA_MAGISTERSKA\\DATASETS\\PREDYKCJA\\videos\\taczka.mp4: 384x640 1 no_gloves, 1 no_vest, 7.5ms\n",
      "video 4/4 (frame 67/301) f:\\PRACA_MAGISTERSKA\\DATASETS\\PREDYKCJA\\videos\\taczka.mp4: 384x640 1 no_gloves, 1 no_vest, 7.5ms\n",
      "video 4/4 (frame 68/301) f:\\PRACA_MAGISTERSKA\\DATASETS\\PREDYKCJA\\videos\\taczka.mp4: 384x640 1 no_gloves, 1 no_vest, 7.5ms\n",
      "video 4/4 (frame 69/301) f:\\PRACA_MAGISTERSKA\\DATASETS\\PREDYKCJA\\videos\\taczka.mp4: 384x640 1 no_gloves, 1 no_vest, 7.5ms\n",
      "video 4/4 (frame 70/301) f:\\PRACA_MAGISTERSKA\\DATASETS\\PREDYKCJA\\videos\\taczka.mp4: 384x640 1 no_gloves, 2 no_vests, 7.5ms\n",
      "video 4/4 (frame 71/301) f:\\PRACA_MAGISTERSKA\\DATASETS\\PREDYKCJA\\videos\\taczka.mp4: 384x640 1 no_gloves, 2 no_vests, 7.5ms\n",
      "video 4/4 (frame 72/301) f:\\PRACA_MAGISTERSKA\\DATASETS\\PREDYKCJA\\videos\\taczka.mp4: 384x640 1 no_gloves, 2 no_vests, 7.5ms\n",
      "video 4/4 (frame 73/301) f:\\PRACA_MAGISTERSKA\\DATASETS\\PREDYKCJA\\videos\\taczka.mp4: 384x640 1 no_gloves, 2 no_vests, 7.5ms\n",
      "video 4/4 (frame 74/301) f:\\PRACA_MAGISTERSKA\\DATASETS\\PREDYKCJA\\videos\\taczka.mp4: 384x640 1 no_gloves, 2 no_vests, 7.5ms\n",
      "video 4/4 (frame 75/301) f:\\PRACA_MAGISTERSKA\\DATASETS\\PREDYKCJA\\videos\\taczka.mp4: 384x640 1 no_gloves, 2 no_vests, 7.5ms\n",
      "video 4/4 (frame 76/301) f:\\PRACA_MAGISTERSKA\\DATASETS\\PREDYKCJA\\videos\\taczka.mp4: 384x640 1 no_glasses, 1 no_gloves, 2 no_vests, 7.5ms\n",
      "video 4/4 (frame 77/301) f:\\PRACA_MAGISTERSKA\\DATASETS\\PREDYKCJA\\videos\\taczka.mp4: 384x640 2 no_glovess, 2 no_vests, 7.5ms\n",
      "video 4/4 (frame 78/301) f:\\PRACA_MAGISTERSKA\\DATASETS\\PREDYKCJA\\videos\\taczka.mp4: 384x640 2 no_glovess, 2 no_vests, 7.5ms\n",
      "video 4/4 (frame 79/301) f:\\PRACA_MAGISTERSKA\\DATASETS\\PREDYKCJA\\videos\\taczka.mp4: 384x640 2 no_glovess, 2 no_vests, 7.5ms\n",
      "video 4/4 (frame 80/301) f:\\PRACA_MAGISTERSKA\\DATASETS\\PREDYKCJA\\videos\\taczka.mp4: 384x640 2 no_glovess, 2 no_vests, 7.5ms\n",
      "video 4/4 (frame 81/301) f:\\PRACA_MAGISTERSKA\\DATASETS\\PREDYKCJA\\videos\\taczka.mp4: 384x640 1 no_glasses, 2 no_glovess, 2 no_vests, 7.5ms\n",
      "video 4/4 (frame 82/301) f:\\PRACA_MAGISTERSKA\\DATASETS\\PREDYKCJA\\videos\\taczka.mp4: 384x640 1 no_glasses, 1 no_gloves, 2 no_vests, 7.5ms\n",
      "video 4/4 (frame 83/301) f:\\PRACA_MAGISTERSKA\\DATASETS\\PREDYKCJA\\videos\\taczka.mp4: 384x640 1 no_glasses, 2 no_glovess, 2 no_vests, 7.5ms\n",
      "video 4/4 (frame 84/301) f:\\PRACA_MAGISTERSKA\\DATASETS\\PREDYKCJA\\videos\\taczka.mp4: 384x640 2 no_glovess, 1 no_helmet, 2 no_vests, 7.5ms\n",
      "video 4/4 (frame 85/301) f:\\PRACA_MAGISTERSKA\\DATASETS\\PREDYKCJA\\videos\\taczka.mp4: 384x640 1 no_glasses, 2 no_glovess, 1 no_helmet, 2 no_vests, 7.5ms\n",
      "video 4/4 (frame 86/301) f:\\PRACA_MAGISTERSKA\\DATASETS\\PREDYKCJA\\videos\\taczka.mp4: 384x640 1 no_glasses, 2 no_glovess, 1 no_helmet, 2 no_vests, 7.5ms\n",
      "video 4/4 (frame 87/301) f:\\PRACA_MAGISTERSKA\\DATASETS\\PREDYKCJA\\videos\\taczka.mp4: 384x640 1 no_glasses, 2 no_glovess, 1 no_helmet, 2 no_vests, 7.5ms\n",
      "video 4/4 (frame 88/301) f:\\PRACA_MAGISTERSKA\\DATASETS\\PREDYKCJA\\videos\\taczka.mp4: 384x640 1 no_glasses, 2 no_glovess, 1 no_helmet, 2 no_vests, 7.5ms\n",
      "video 4/4 (frame 89/301) f:\\PRACA_MAGISTERSKA\\DATASETS\\PREDYKCJA\\videos\\taczka.mp4: 384x640 1 no_glasses, 2 no_glovess, 1 no_helmet, 2 no_vests, 7.5ms\n",
      "video 4/4 (frame 90/301) f:\\PRACA_MAGISTERSKA\\DATASETS\\PREDYKCJA\\videos\\taczka.mp4: 384x640 1 no_glasses, 2 no_glovess, 1 no_helmet, 2 no_vests, 7.5ms\n",
      "video 4/4 (frame 91/301) f:\\PRACA_MAGISTERSKA\\DATASETS\\PREDYKCJA\\videos\\taczka.mp4: 384x640 1 no_glasses, 2 no_glovess, 1 no_helmet, 2 no_vests, 7.5ms\n",
      "video 4/4 (frame 92/301) f:\\PRACA_MAGISTERSKA\\DATASETS\\PREDYKCJA\\videos\\taczka.mp4: 384x640 1 no_glasses, 2 no_glovess, 1 no_helmet, 2 no_vests, 7.5ms\n",
      "video 4/4 (frame 93/301) f:\\PRACA_MAGISTERSKA\\DATASETS\\PREDYKCJA\\videos\\taczka.mp4: 384x640 1 no_gloves, 1 no_helmet, 2 no_vests, 7.5ms\n",
      "video 4/4 (frame 94/301) f:\\PRACA_MAGISTERSKA\\DATASETS\\PREDYKCJA\\videos\\taczka.mp4: 384x640 1 no_glasses, 1 no_gloves, 1 no_helmet, 2 no_vests, 7.5ms\n",
      "video 4/4 (frame 95/301) f:\\PRACA_MAGISTERSKA\\DATASETS\\PREDYKCJA\\videos\\taczka.mp4: 384x640 1 no_glasses, 1 no_gloves, 1 no_helmet, 2 no_vests, 7.5ms\n",
      "video 4/4 (frame 96/301) f:\\PRACA_MAGISTERSKA\\DATASETS\\PREDYKCJA\\videos\\taczka.mp4: 384x640 1 no_gloves, 1 no_helmet, 2 no_vests, 7.5ms\n",
      "video 4/4 (frame 97/301) f:\\PRACA_MAGISTERSKA\\DATASETS\\PREDYKCJA\\videos\\taczka.mp4: 384x640 2 no_glovess, 1 no_helmet, 2 no_vests, 7.5ms\n",
      "video 4/4 (frame 98/301) f:\\PRACA_MAGISTERSKA\\DATASETS\\PREDYKCJA\\videos\\taczka.mp4: 384x640 1 no_gloves, 1 no_helmet, 2 no_vests, 7.5ms\n",
      "video 4/4 (frame 99/301) f:\\PRACA_MAGISTERSKA\\DATASETS\\PREDYKCJA\\videos\\taczka.mp4: 384x640 1 no_gloves, 1 no_helmet, 2 no_vests, 7.5ms\n",
      "video 4/4 (frame 100/301) f:\\PRACA_MAGISTERSKA\\DATASETS\\PREDYKCJA\\videos\\taczka.mp4: 384x640 1 no_gloves, 1 no_helmet, 2 no_vests, 7.5ms\n",
      "video 4/4 (frame 101/301) f:\\PRACA_MAGISTERSKA\\DATASETS\\PREDYKCJA\\videos\\taczka.mp4: 384x640 1 no_gloves, 1 no_helmet, 2 no_vests, 7.5ms\n",
      "video 4/4 (frame 102/301) f:\\PRACA_MAGISTERSKA\\DATASETS\\PREDYKCJA\\videos\\taczka.mp4: 384x640 1 no_glasses, 1 no_gloves, 1 no_helmet, 2 no_vests, 7.5ms\n",
      "video 4/4 (frame 103/301) f:\\PRACA_MAGISTERSKA\\DATASETS\\PREDYKCJA\\videos\\taczka.mp4: 384x640 1 no_gloves, 1 no_helmet, 2 no_vests, 7.5ms\n",
      "video 4/4 (frame 104/301) f:\\PRACA_MAGISTERSKA\\DATASETS\\PREDYKCJA\\videos\\taczka.mp4: 384x640 1 no_glasses, 2 no_glovess, 1 no_helmet, 2 no_vests, 7.5ms\n",
      "video 4/4 (frame 105/301) f:\\PRACA_MAGISTERSKA\\DATASETS\\PREDYKCJA\\videos\\taczka.mp4: 384x640 1 no_gloves, 1 no_helmet, 2 no_vests, 7.5ms\n",
      "video 4/4 (frame 106/301) f:\\PRACA_MAGISTERSKA\\DATASETS\\PREDYKCJA\\videos\\taczka.mp4: 384x640 1 no_glasses, 1 no_gloves, 1 no_helmet, 2 no_vests, 7.5ms\n",
      "video 4/4 (frame 107/301) f:\\PRACA_MAGISTERSKA\\DATASETS\\PREDYKCJA\\videos\\taczka.mp4: 384x640 1 no_glasses, 1 no_gloves, 1 no_helmet, 2 no_vests, 7.5ms\n",
      "video 4/4 (frame 108/301) f:\\PRACA_MAGISTERSKA\\DATASETS\\PREDYKCJA\\videos\\taczka.mp4: 384x640 1 no_glasses, 1 no_gloves, 1 no_helmet, 2 no_vests, 7.5ms\n",
      "video 4/4 (frame 109/301) f:\\PRACA_MAGISTERSKA\\DATASETS\\PREDYKCJA\\videos\\taczka.mp4: 384x640 1 no_glasses, 1 no_gloves, 1 no_helmet, 2 no_vests, 7.5ms\n",
      "video 4/4 (frame 110/301) f:\\PRACA_MAGISTERSKA\\DATASETS\\PREDYKCJA\\videos\\taczka.mp4: 384x640 1 no_glasses, 1 no_gloves, 1 no_helmet, 2 no_vests, 7.5ms\n",
      "video 4/4 (frame 111/301) f:\\PRACA_MAGISTERSKA\\DATASETS\\PREDYKCJA\\videos\\taczka.mp4: 384x640 1 no_glasses, 1 no_gloves, 1 no_helmet, 2 no_vests, 7.5ms\n",
      "video 4/4 (frame 112/301) f:\\PRACA_MAGISTERSKA\\DATASETS\\PREDYKCJA\\videos\\taczka.mp4: 384x640 1 no_glasses, 1 no_gloves, 1 no_helmet, 2 no_vests, 7.5ms\n",
      "video 4/4 (frame 113/301) f:\\PRACA_MAGISTERSKA\\DATASETS\\PREDYKCJA\\videos\\taczka.mp4: 384x640 1 no_glasses, 1 no_gloves, 1 no_helmet, 2 no_vests, 7.5ms\n",
      "video 4/4 (frame 114/301) f:\\PRACA_MAGISTERSKA\\DATASETS\\PREDYKCJA\\videos\\taczka.mp4: 384x640 1 no_glasses, 2 no_glovess, 1 no_helmet, 2 no_vests, 7.5ms\n",
      "video 4/4 (frame 115/301) f:\\PRACA_MAGISTERSKA\\DATASETS\\PREDYKCJA\\videos\\taczka.mp4: 384x640 1 no_glasses, 2 no_glovess, 1 no_helmet, 2 no_vests, 7.5ms\n",
      "video 4/4 (frame 116/301) f:\\PRACA_MAGISTERSKA\\DATASETS\\PREDYKCJA\\videos\\taczka.mp4: 384x640 1 no_glasses, 2 no_glovess, 1 no_helmet, 2 no_vests, 7.5ms\n",
      "video 4/4 (frame 117/301) f:\\PRACA_MAGISTERSKA\\DATASETS\\PREDYKCJA\\videos\\taczka.mp4: 384x640 2 no_glovess, 1 no_helmet, 2 no_vests, 7.5ms\n",
      "video 4/4 (frame 118/301) f:\\PRACA_MAGISTERSKA\\DATASETS\\PREDYKCJA\\videos\\taczka.mp4: 384x640 1 no_glasses, 2 no_glovess, 1 no_helmet, 2 no_vests, 7.5ms\n",
      "video 4/4 (frame 119/301) f:\\PRACA_MAGISTERSKA\\DATASETS\\PREDYKCJA\\videos\\taczka.mp4: 384x640 2 no_glovess, 1 no_helmet, 2 no_vests, 7.5ms\n",
      "video 4/4 (frame 120/301) f:\\PRACA_MAGISTERSKA\\DATASETS\\PREDYKCJA\\videos\\taczka.mp4: 384x640 1 no_glasses, 2 no_glovess, 1 no_helmet, 2 no_vests, 7.5ms\n",
      "video 4/4 (frame 121/301) f:\\PRACA_MAGISTERSKA\\DATASETS\\PREDYKCJA\\videos\\taczka.mp4: 384x640 1 no_glasses, 2 no_glovess, 2 no_vests, 7.5ms\n",
      "video 4/4 (frame 122/301) f:\\PRACA_MAGISTERSKA\\DATASETS\\PREDYKCJA\\videos\\taczka.mp4: 384x640 1 no_glasses, 2 no_glovess, 1 no_helmet, 2 no_vests, 7.5ms\n",
      "video 4/4 (frame 123/301) f:\\PRACA_MAGISTERSKA\\DATASETS\\PREDYKCJA\\videos\\taczka.mp4: 384x640 1 no_glasses, 2 no_glovess, 2 no_vests, 7.5ms\n",
      "video 4/4 (frame 124/301) f:\\PRACA_MAGISTERSKA\\DATASETS\\PREDYKCJA\\videos\\taczka.mp4: 384x640 1 no_glasses, 2 no_glovess, 2 no_vests, 7.5ms\n",
      "video 4/4 (frame 125/301) f:\\PRACA_MAGISTERSKA\\DATASETS\\PREDYKCJA\\videos\\taczka.mp4: 384x640 1 no_glasses, 2 no_glovess, 2 no_vests, 7.5ms\n",
      "video 4/4 (frame 126/301) f:\\PRACA_MAGISTERSKA\\DATASETS\\PREDYKCJA\\videos\\taczka.mp4: 384x640 1 no_glasses, 2 no_glovess, 2 no_vests, 7.5ms\n",
      "video 4/4 (frame 127/301) f:\\PRACA_MAGISTERSKA\\DATASETS\\PREDYKCJA\\videos\\taczka.mp4: 384x640 1 no_glasses, 2 no_glovess, 2 no_vests, 7.5ms\n",
      "video 4/4 (frame 128/301) f:\\PRACA_MAGISTERSKA\\DATASETS\\PREDYKCJA\\videos\\taczka.mp4: 384x640 1 no_glasses, 2 no_glovess, 2 no_vests, 7.5ms\n",
      "video 4/4 (frame 129/301) f:\\PRACA_MAGISTERSKA\\DATASETS\\PREDYKCJA\\videos\\taczka.mp4: 384x640 1 no_glasses, 2 no_glovess, 2 no_vests, 7.5ms\n",
      "video 4/4 (frame 130/301) f:\\PRACA_MAGISTERSKA\\DATASETS\\PREDYKCJA\\videos\\taczka.mp4: 384x640 1 no_glasses, 2 no_glovess, 2 no_vests, 7.5ms\n",
      "video 4/4 (frame 131/301) f:\\PRACA_MAGISTERSKA\\DATASETS\\PREDYKCJA\\videos\\taczka.mp4: 384x640 1 no_glasses, 2 no_glovess, 2 no_vests, 7.5ms\n",
      "video 4/4 (frame 132/301) f:\\PRACA_MAGISTERSKA\\DATASETS\\PREDYKCJA\\videos\\taczka.mp4: 384x640 1 no_glasses, 1 no_gloves, 2 no_vests, 7.5ms\n",
      "video 4/4 (frame 133/301) f:\\PRACA_MAGISTERSKA\\DATASETS\\PREDYKCJA\\videos\\taczka.mp4: 384x640 1 no_glasses, 1 no_gloves, 2 no_vests, 7.5ms\n",
      "video 4/4 (frame 134/301) f:\\PRACA_MAGISTERSKA\\DATASETS\\PREDYKCJA\\videos\\taczka.mp4: 384x640 1 no_gloves, 2 no_vests, 7.5ms\n",
      "video 4/4 (frame 135/301) f:\\PRACA_MAGISTERSKA\\DATASETS\\PREDYKCJA\\videos\\taczka.mp4: 384x640 1 no_gloves, 2 no_vests, 7.5ms\n",
      "video 4/4 (frame 136/301) f:\\PRACA_MAGISTERSKA\\DATASETS\\PREDYKCJA\\videos\\taczka.mp4: 384x640 1 no_gloves, 3 no_vests, 7.5ms\n",
      "video 4/4 (frame 137/301) f:\\PRACA_MAGISTERSKA\\DATASETS\\PREDYKCJA\\videos\\taczka.mp4: 384x640 1 no_gloves, 3 no_vests, 7.5ms\n",
      "video 4/4 (frame 138/301) f:\\PRACA_MAGISTERSKA\\DATASETS\\PREDYKCJA\\videos\\taczka.mp4: 384x640 1 no_gloves, 3 no_vests, 7.5ms\n",
      "video 4/4 (frame 139/301) f:\\PRACA_MAGISTERSKA\\DATASETS\\PREDYKCJA\\videos\\taczka.mp4: 384x640 1 no_gloves, 2 no_vests, 7.5ms\n",
      "video 4/4 (frame 140/301) f:\\PRACA_MAGISTERSKA\\DATASETS\\PREDYKCJA\\videos\\taczka.mp4: 384x640 1 no_gloves, 3 no_vests, 7.5ms\n",
      "video 4/4 (frame 141/301) f:\\PRACA_MAGISTERSKA\\DATASETS\\PREDYKCJA\\videos\\taczka.mp4: 384x640 1 no_gloves, 3 no_vests, 7.5ms\n",
      "video 4/4 (frame 142/301) f:\\PRACA_MAGISTERSKA\\DATASETS\\PREDYKCJA\\videos\\taczka.mp4: 384x640 1 no_gloves, 3 no_vests, 7.5ms\n",
      "video 4/4 (frame 143/301) f:\\PRACA_MAGISTERSKA\\DATASETS\\PREDYKCJA\\videos\\taczka.mp4: 384x640 1 no_gloves, 1 no_helmet, 3 no_vests, 7.5ms\n",
      "video 4/4 (frame 144/301) f:\\PRACA_MAGISTERSKA\\DATASETS\\PREDYKCJA\\videos\\taczka.mp4: 384x640 1 no_gloves, 1 no_helmet, 3 no_vests, 7.5ms\n",
      "video 4/4 (frame 145/301) f:\\PRACA_MAGISTERSKA\\DATASETS\\PREDYKCJA\\videos\\taczka.mp4: 384x640 1 no_gloves, 1 no_helmet, 3 no_vests, 7.5ms\n",
      "video 4/4 (frame 146/301) f:\\PRACA_MAGISTERSKA\\DATASETS\\PREDYKCJA\\videos\\taczka.mp4: 384x640 1 no_gloves, 1 no_helmet, 3 no_vests, 7.5ms\n",
      "video 4/4 (frame 147/301) f:\\PRACA_MAGISTERSKA\\DATASETS\\PREDYKCJA\\videos\\taczka.mp4: 384x640 1 no_gloves, 1 no_helmet, 3 no_vests, 7.5ms\n",
      "video 4/4 (frame 148/301) f:\\PRACA_MAGISTERSKA\\DATASETS\\PREDYKCJA\\videos\\taczka.mp4: 384x640 1 no_gloves, 1 no_helmet, 3 no_vests, 7.5ms\n",
      "video 4/4 (frame 149/301) f:\\PRACA_MAGISTERSKA\\DATASETS\\PREDYKCJA\\videos\\taczka.mp4: 384x640 1 no_gloves, 1 no_helmet, 3 no_vests, 7.5ms\n",
      "video 4/4 (frame 150/301) f:\\PRACA_MAGISTERSKA\\DATASETS\\PREDYKCJA\\videos\\taczka.mp4: 384x640 1 no_gloves, 1 no_helmet, 3 no_vests, 7.5ms\n",
      "video 4/4 (frame 151/301) f:\\PRACA_MAGISTERSKA\\DATASETS\\PREDYKCJA\\videos\\taczka.mp4: 384x640 1 no_gloves, 1 no_helmet, 3 no_vests, 7.5ms\n",
      "video 4/4 (frame 152/301) f:\\PRACA_MAGISTERSKA\\DATASETS\\PREDYKCJA\\videos\\taczka.mp4: 384x640 1 no_gloves, 1 no_helmet, 3 no_vests, 7.5ms\n",
      "video 4/4 (frame 153/301) f:\\PRACA_MAGISTERSKA\\DATASETS\\PREDYKCJA\\videos\\taczka.mp4: 384x640 1 no_gloves, 1 no_helmet, 3 no_vests, 7.5ms\n",
      "video 4/4 (frame 154/301) f:\\PRACA_MAGISTERSKA\\DATASETS\\PREDYKCJA\\videos\\taczka.mp4: 384x640 1 no_gloves, 1 no_helmet, 3 no_vests, 7.5ms\n",
      "video 4/4 (frame 155/301) f:\\PRACA_MAGISTERSKA\\DATASETS\\PREDYKCJA\\videos\\taczka.mp4: 384x640 1 no_gloves, 1 no_helmet, 3 no_vests, 7.5ms\n",
      "video 4/4 (frame 156/301) f:\\PRACA_MAGISTERSKA\\DATASETS\\PREDYKCJA\\videos\\taczka.mp4: 384x640 1 no_gloves, 1 no_helmet, 3 no_vests, 7.5ms\n",
      "video 4/4 (frame 157/301) f:\\PRACA_MAGISTERSKA\\DATASETS\\PREDYKCJA\\videos\\taczka.mp4: 384x640 1 no_gloves, 1 no_helmet, 4 no_vests, 7.5ms\n",
      "video 4/4 (frame 158/301) f:\\PRACA_MAGISTERSKA\\DATASETS\\PREDYKCJA\\videos\\taczka.mp4: 384x640 1 no_gloves, 1 no_helmet, 3 no_vests, 7.5ms\n",
      "video 4/4 (frame 159/301) f:\\PRACA_MAGISTERSKA\\DATASETS\\PREDYKCJA\\videos\\taczka.mp4: 384x640 1 no_gloves, 1 no_helmet, 3 no_vests, 7.5ms\n",
      "video 4/4 (frame 160/301) f:\\PRACA_MAGISTERSKA\\DATASETS\\PREDYKCJA\\videos\\taczka.mp4: 384x640 1 no_gloves, 1 no_helmet, 3 no_vests, 7.5ms\n",
      "video 4/4 (frame 161/301) f:\\PRACA_MAGISTERSKA\\DATASETS\\PREDYKCJA\\videos\\taczka.mp4: 384x640 1 no_gloves, 1 no_helmet, 3 no_vests, 7.5ms\n",
      "video 4/4 (frame 162/301) f:\\PRACA_MAGISTERSKA\\DATASETS\\PREDYKCJA\\videos\\taczka.mp4: 384x640 1 no_gloves, 1 no_helmet, 3 no_vests, 7.5ms\n",
      "video 4/4 (frame 163/301) f:\\PRACA_MAGISTERSKA\\DATASETS\\PREDYKCJA\\videos\\taczka.mp4: 384x640 1 no_gloves, 1 no_helmet, 3 no_vests, 7.5ms\n",
      "video 4/4 (frame 164/301) f:\\PRACA_MAGISTERSKA\\DATASETS\\PREDYKCJA\\videos\\taczka.mp4: 384x640 2 no_glovess, 1 no_helmet, 3 no_vests, 7.5ms\n",
      "video 4/4 (frame 165/301) f:\\PRACA_MAGISTERSKA\\DATASETS\\PREDYKCJA\\videos\\taczka.mp4: 384x640 1 no_gloves, 1 no_helmet, 3 no_vests, 7.5ms\n",
      "video 4/4 (frame 166/301) f:\\PRACA_MAGISTERSKA\\DATASETS\\PREDYKCJA\\videos\\taczka.mp4: 384x640 1 no_gloves, 1 no_helmet, 3 no_vests, 7.5ms\n",
      "video 4/4 (frame 167/301) f:\\PRACA_MAGISTERSKA\\DATASETS\\PREDYKCJA\\videos\\taczka.mp4: 384x640 1 no_glasses, 1 no_gloves, 1 no_helmet, 3 no_vests, 7.5ms\n",
      "video 4/4 (frame 168/301) f:\\PRACA_MAGISTERSKA\\DATASETS\\PREDYKCJA\\videos\\taczka.mp4: 384x640 2 no_glovess, 1 no_helmet, 3 no_vests, 7.5ms\n",
      "video 4/4 (frame 169/301) f:\\PRACA_MAGISTERSKA\\DATASETS\\PREDYKCJA\\videos\\taczka.mp4: 384x640 1 no_glasses, 3 no_glovess, 1 no_helmet, 3 no_vests, 7.5ms\n",
      "video 4/4 (frame 170/301) f:\\PRACA_MAGISTERSKA\\DATASETS\\PREDYKCJA\\videos\\taczka.mp4: 384x640 3 no_glovess, 2 no_helmets, 3 no_vests, 7.5ms\n",
      "video 4/4 (frame 171/301) f:\\PRACA_MAGISTERSKA\\DATASETS\\PREDYKCJA\\videos\\taczka.mp4: 384x640 3 no_glovess, 1 no_helmet, 3 no_vests, 7.5ms\n",
      "video 4/4 (frame 172/301) f:\\PRACA_MAGISTERSKA\\DATASETS\\PREDYKCJA\\videos\\taczka.mp4: 384x640 1 no_glasses, 2 no_glovess, 1 no_helmet, 3 no_vests, 7.5ms\n",
      "video 4/4 (frame 173/301) f:\\PRACA_MAGISTERSKA\\DATASETS\\PREDYKCJA\\videos\\taczka.mp4: 384x640 3 no_glovess, 1 no_helmet, 4 no_vests, 7.5ms\n",
      "video 4/4 (frame 174/301) f:\\PRACA_MAGISTERSKA\\DATASETS\\PREDYKCJA\\videos\\taczka.mp4: 384x640 2 no_glovess, 1 no_helmet, 3 no_vests, 7.5ms\n",
      "video 4/4 (frame 175/301) f:\\PRACA_MAGISTERSKA\\DATASETS\\PREDYKCJA\\videos\\taczka.mp4: 384x640 2 no_glovess, 2 no_helmets, 3 no_vests, 7.5ms\n",
      "video 4/4 (frame 176/301) f:\\PRACA_MAGISTERSKA\\DATASETS\\PREDYKCJA\\videos\\taczka.mp4: 384x640 2 no_glovess, 1 no_helmet, 3 no_vests, 7.5ms\n",
      "video 4/4 (frame 177/301) f:\\PRACA_MAGISTERSKA\\DATASETS\\PREDYKCJA\\videos\\taczka.mp4: 384x640 2 no_glovess, 2 no_helmets, 2 no_vests, 7.5ms\n",
      "video 4/4 (frame 178/301) f:\\PRACA_MAGISTERSKA\\DATASETS\\PREDYKCJA\\videos\\taczka.mp4: 384x640 2 no_glovess, 2 no_helmets, 2 no_vests, 7.5ms\n",
      "video 4/4 (frame 179/301) f:\\PRACA_MAGISTERSKA\\DATASETS\\PREDYKCJA\\videos\\taczka.mp4: 384x640 1 no_glasses, 2 no_glovess, 2 no_helmets, 2 no_vests, 7.5ms\n",
      "video 4/4 (frame 180/301) f:\\PRACA_MAGISTERSKA\\DATASETS\\PREDYKCJA\\videos\\taczka.mp4: 384x640 2 no_glovess, 1 no_helmet, 2 no_vests, 7.5ms\n",
      "video 4/4 (frame 181/301) f:\\PRACA_MAGISTERSKA\\DATASETS\\PREDYKCJA\\videos\\taczka.mp4: 384x640 2 no_glovess, 1 no_helmet, 2 no_vests, 7.5ms\n",
      "video 4/4 (frame 182/301) f:\\PRACA_MAGISTERSKA\\DATASETS\\PREDYKCJA\\videos\\taczka.mp4: 384x640 2 no_glovess, 1 no_helmet, 2 no_vests, 7.5ms\n",
      "video 4/4 (frame 183/301) f:\\PRACA_MAGISTERSKA\\DATASETS\\PREDYKCJA\\videos\\taczka.mp4: 384x640 1 no_glasses, 2 no_glovess, 1 no_helmet, 2 no_vests, 7.5ms\n",
      "video 4/4 (frame 184/301) f:\\PRACA_MAGISTERSKA\\DATASETS\\PREDYKCJA\\videos\\taczka.mp4: 384x640 1 no_glasses, 2 no_glovess, 2 no_vests, 7.5ms\n",
      "video 4/4 (frame 185/301) f:\\PRACA_MAGISTERSKA\\DATASETS\\PREDYKCJA\\videos\\taczka.mp4: 384x640 2 no_glovess, 1 no_helmet, 2 no_vests, 7.5ms\n",
      "video 4/4 (frame 186/301) f:\\PRACA_MAGISTERSKA\\DATASETS\\PREDYKCJA\\videos\\taczka.mp4: 384x640 2 no_glovess, 1 no_helmet, 2 no_vests, 7.5ms\n",
      "video 4/4 (frame 187/301) f:\\PRACA_MAGISTERSKA\\DATASETS\\PREDYKCJA\\videos\\taczka.mp4: 384x640 2 no_glovess, 1 no_helmet, 2 no_vests, 7.5ms\n",
      "video 4/4 (frame 188/301) f:\\PRACA_MAGISTERSKA\\DATASETS\\PREDYKCJA\\videos\\taczka.mp4: 384x640 2 no_glovess, 1 no_helmet, 3 no_vests, 7.5ms\n",
      "video 4/4 (frame 189/301) f:\\PRACA_MAGISTERSKA\\DATASETS\\PREDYKCJA\\videos\\taczka.mp4: 384x640 2 no_glovess, 1 no_helmet, 2 no_vests, 7.5ms\n",
      "video 4/4 (frame 190/301) f:\\PRACA_MAGISTERSKA\\DATASETS\\PREDYKCJA\\videos\\taczka.mp4: 384x640 2 no_glovess, 1 no_helmet, 2 no_vests, 7.5ms\n",
      "video 4/4 (frame 191/301) f:\\PRACA_MAGISTERSKA\\DATASETS\\PREDYKCJA\\videos\\taczka.mp4: 384x640 2 no_glovess, 2 no_vests, 7.5ms\n",
      "video 4/4 (frame 192/301) f:\\PRACA_MAGISTERSKA\\DATASETS\\PREDYKCJA\\videos\\taczka.mp4: 384x640 2 no_glovess, 1 no_helmet, 3 no_vests, 7.5ms\n",
      "video 4/4 (frame 193/301) f:\\PRACA_MAGISTERSKA\\DATASETS\\PREDYKCJA\\videos\\taczka.mp4: 384x640 2 no_glovess, 2 no_vests, 7.5ms\n",
      "video 4/4 (frame 194/301) f:\\PRACA_MAGISTERSKA\\DATASETS\\PREDYKCJA\\videos\\taczka.mp4: 384x640 2 no_glovess, 3 no_vests, 7.5ms\n",
      "video 4/4 (frame 195/301) f:\\PRACA_MAGISTERSKA\\DATASETS\\PREDYKCJA\\videos\\taczka.mp4: 384x640 2 no_glovess, 2 no_vests, 7.5ms\n",
      "video 4/4 (frame 196/301) f:\\PRACA_MAGISTERSKA\\DATASETS\\PREDYKCJA\\videos\\taczka.mp4: 384x640 2 no_glovess, 2 no_vests, 7.5ms\n",
      "video 4/4 (frame 197/301) f:\\PRACA_MAGISTERSKA\\DATASETS\\PREDYKCJA\\videos\\taczka.mp4: 384x640 2 no_glovess, 2 no_vests, 7.5ms\n",
      "video 4/4 (frame 198/301) f:\\PRACA_MAGISTERSKA\\DATASETS\\PREDYKCJA\\videos\\taczka.mp4: 384x640 2 no_glovess, 2 no_vests, 7.5ms\n",
      "video 4/4 (frame 199/301) f:\\PRACA_MAGISTERSKA\\DATASETS\\PREDYKCJA\\videos\\taczka.mp4: 384x640 2 no_glovess, 2 no_vests, 7.5ms\n",
      "video 4/4 (frame 200/301) f:\\PRACA_MAGISTERSKA\\DATASETS\\PREDYKCJA\\videos\\taczka.mp4: 384x640 2 no_glovess, 2 no_vests, 7.5ms\n",
      "video 4/4 (frame 201/301) f:\\PRACA_MAGISTERSKA\\DATASETS\\PREDYKCJA\\videos\\taczka.mp4: 384x640 2 no_glovess, 2 no_vests, 7.5ms\n",
      "video 4/4 (frame 202/301) f:\\PRACA_MAGISTERSKA\\DATASETS\\PREDYKCJA\\videos\\taczka.mp4: 384x640 2 no_glovess, 2 no_vests, 7.5ms\n",
      "video 4/4 (frame 203/301) f:\\PRACA_MAGISTERSKA\\DATASETS\\PREDYKCJA\\videos\\taczka.mp4: 384x640 2 no_glovess, 2 no_vests, 7.5ms\n",
      "video 4/4 (frame 204/301) f:\\PRACA_MAGISTERSKA\\DATASETS\\PREDYKCJA\\videos\\taczka.mp4: 384x640 2 no_glovess, 2 no_vests, 7.5ms\n",
      "video 4/4 (frame 205/301) f:\\PRACA_MAGISTERSKA\\DATASETS\\PREDYKCJA\\videos\\taczka.mp4: 384x640 2 no_glovess, 2 no_vests, 7.5ms\n",
      "video 4/4 (frame 206/301) f:\\PRACA_MAGISTERSKA\\DATASETS\\PREDYKCJA\\videos\\taczka.mp4: 384x640 2 no_glovess, 2 no_vests, 7.5ms\n",
      "video 4/4 (frame 207/301) f:\\PRACA_MAGISTERSKA\\DATASETS\\PREDYKCJA\\videos\\taczka.mp4: 384x640 2 no_glovess, 1 no_vest, 7.5ms\n",
      "video 4/4 (frame 208/301) f:\\PRACA_MAGISTERSKA\\DATASETS\\PREDYKCJA\\videos\\taczka.mp4: 384x640 2 no_glovess, 1 no_vest, 7.5ms\n",
      "video 4/4 (frame 209/301) f:\\PRACA_MAGISTERSKA\\DATASETS\\PREDYKCJA\\videos\\taczka.mp4: 384x640 2 no_glovess, 2 no_vests, 7.5ms\n",
      "video 4/4 (frame 210/301) f:\\PRACA_MAGISTERSKA\\DATASETS\\PREDYKCJA\\videos\\taczka.mp4: 384x640 2 no_glovess, 2 no_vests, 7.5ms\n",
      "video 4/4 (frame 211/301) f:\\PRACA_MAGISTERSKA\\DATASETS\\PREDYKCJA\\videos\\taczka.mp4: 384x640 2 no_glovess, 2 no_vests, 7.5ms\n",
      "video 4/4 (frame 212/301) f:\\PRACA_MAGISTERSKA\\DATASETS\\PREDYKCJA\\videos\\taczka.mp4: 384x640 2 no_glovess, 2 no_vests, 7.5ms\n",
      "video 4/4 (frame 213/301) f:\\PRACA_MAGISTERSKA\\DATASETS\\PREDYKCJA\\videos\\taczka.mp4: 384x640 1 no_gloves, 2 no_vests, 7.5ms\n",
      "video 4/4 (frame 214/301) f:\\PRACA_MAGISTERSKA\\DATASETS\\PREDYKCJA\\videos\\taczka.mp4: 384x640 2 no_glovess, 2 no_vests, 7.5ms\n",
      "video 4/4 (frame 215/301) f:\\PRACA_MAGISTERSKA\\DATASETS\\PREDYKCJA\\videos\\taczka.mp4: 384x640 2 no_glovess, 2 no_vests, 7.5ms\n",
      "video 4/4 (frame 216/301) f:\\PRACA_MAGISTERSKA\\DATASETS\\PREDYKCJA\\videos\\taczka.mp4: 384x640 2 no_glovess, 2 no_vests, 7.5ms\n",
      "video 4/4 (frame 217/301) f:\\PRACA_MAGISTERSKA\\DATASETS\\PREDYKCJA\\videos\\taczka.mp4: 384x640 2 no_glovess, 2 no_vests, 7.5ms\n",
      "video 4/4 (frame 218/301) f:\\PRACA_MAGISTERSKA\\DATASETS\\PREDYKCJA\\videos\\taczka.mp4: 384x640 2 no_glovess, 2 no_vests, 7.5ms\n",
      "video 4/4 (frame 219/301) f:\\PRACA_MAGISTERSKA\\DATASETS\\PREDYKCJA\\videos\\taczka.mp4: 384x640 2 no_glovess, 2 no_vests, 7.5ms\n",
      "video 4/4 (frame 220/301) f:\\PRACA_MAGISTERSKA\\DATASETS\\PREDYKCJA\\videos\\taczka.mp4: 384x640 2 no_glovess, 2 no_vests, 7.5ms\n",
      "video 4/4 (frame 221/301) f:\\PRACA_MAGISTERSKA\\DATASETS\\PREDYKCJA\\videos\\taczka.mp4: 384x640 2 no_glovess, 3 no_vests, 7.5ms\n",
      "video 4/4 (frame 222/301) f:\\PRACA_MAGISTERSKA\\DATASETS\\PREDYKCJA\\videos\\taczka.mp4: 384x640 2 no_glovess, 3 no_vests, 7.5ms\n",
      "video 4/4 (frame 223/301) f:\\PRACA_MAGISTERSKA\\DATASETS\\PREDYKCJA\\videos\\taczka.mp4: 384x640 2 no_glovess, 2 no_vests, 7.5ms\n",
      "video 4/4 (frame 224/301) f:\\PRACA_MAGISTERSKA\\DATASETS\\PREDYKCJA\\videos\\taczka.mp4: 384x640 2 no_glovess, 2 no_vests, 7.5ms\n",
      "video 4/4 (frame 225/301) f:\\PRACA_MAGISTERSKA\\DATASETS\\PREDYKCJA\\videos\\taczka.mp4: 384x640 2 no_glovess, 2 no_vests, 7.5ms\n",
      "video 4/4 (frame 226/301) f:\\PRACA_MAGISTERSKA\\DATASETS\\PREDYKCJA\\videos\\taczka.mp4: 384x640 2 no_glovess, 2 no_vests, 7.5ms\n",
      "video 4/4 (frame 227/301) f:\\PRACA_MAGISTERSKA\\DATASETS\\PREDYKCJA\\videos\\taczka.mp4: 384x640 2 no_glovess, 2 no_vests, 7.5ms\n",
      "video 4/4 (frame 228/301) f:\\PRACA_MAGISTERSKA\\DATASETS\\PREDYKCJA\\videos\\taczka.mp4: 384x640 2 no_glovess, 1 no_vest, 7.5ms\n",
      "video 4/4 (frame 229/301) f:\\PRACA_MAGISTERSKA\\DATASETS\\PREDYKCJA\\videos\\taczka.mp4: 384x640 2 no_glovess, 1 no_vest, 7.5ms\n",
      "video 4/4 (frame 230/301) f:\\PRACA_MAGISTERSKA\\DATASETS\\PREDYKCJA\\videos\\taczka.mp4: 384x640 2 no_glovess, 2 no_vests, 7.5ms\n",
      "video 4/4 (frame 231/301) f:\\PRACA_MAGISTERSKA\\DATASETS\\PREDYKCJA\\videos\\taczka.mp4: 384x640 2 no_glovess, 1 no_vest, 7.5ms\n",
      "video 4/4 (frame 232/301) f:\\PRACA_MAGISTERSKA\\DATASETS\\PREDYKCJA\\videos\\taczka.mp4: 384x640 2 no_glovess, 1 no_vest, 7.5ms\n",
      "video 4/4 (frame 233/301) f:\\PRACA_MAGISTERSKA\\DATASETS\\PREDYKCJA\\videos\\taczka.mp4: 384x640 2 no_glovess, 1 no_vest, 7.5ms\n",
      "video 4/4 (frame 234/301) f:\\PRACA_MAGISTERSKA\\DATASETS\\PREDYKCJA\\videos\\taczka.mp4: 384x640 2 no_glovess, 1 no_vest, 7.5ms\n",
      "video 4/4 (frame 235/301) f:\\PRACA_MAGISTERSKA\\DATASETS\\PREDYKCJA\\videos\\taczka.mp4: 384x640 2 no_glovess, 1 no_vest, 7.5ms\n",
      "video 4/4 (frame 236/301) f:\\PRACA_MAGISTERSKA\\DATASETS\\PREDYKCJA\\videos\\taczka.mp4: 384x640 2 no_glovess, 1 no_vest, 7.5ms\n",
      "video 4/4 (frame 237/301) f:\\PRACA_MAGISTERSKA\\DATASETS\\PREDYKCJA\\videos\\taczka.mp4: 384x640 2 no_glovess, 1 no_vest, 7.5ms\n",
      "video 4/4 (frame 238/301) f:\\PRACA_MAGISTERSKA\\DATASETS\\PREDYKCJA\\videos\\taczka.mp4: 384x640 2 no_glovess, 1 no_vest, 7.5ms\n",
      "video 4/4 (frame 239/301) f:\\PRACA_MAGISTERSKA\\DATASETS\\PREDYKCJA\\videos\\taczka.mp4: 384x640 2 no_glovess, 1 no_vest, 7.5ms\n",
      "video 4/4 (frame 240/301) f:\\PRACA_MAGISTERSKA\\DATASETS\\PREDYKCJA\\videos\\taczka.mp4: 384x640 2 no_glovess, 1 no_vest, 7.5ms\n",
      "video 4/4 (frame 241/301) f:\\PRACA_MAGISTERSKA\\DATASETS\\PREDYKCJA\\videos\\taczka.mp4: 384x640 3 no_glovess, 1 no_vest, 7.5ms\n",
      "video 4/4 (frame 242/301) f:\\PRACA_MAGISTERSKA\\DATASETS\\PREDYKCJA\\videos\\taczka.mp4: 384x640 3 no_glovess, 1 no_vest, 7.5ms\n",
      "video 4/4 (frame 243/301) f:\\PRACA_MAGISTERSKA\\DATASETS\\PREDYKCJA\\videos\\taczka.mp4: 384x640 3 no_glovess, 1 no_vest, 7.5ms\n",
      "video 4/4 (frame 244/301) f:\\PRACA_MAGISTERSKA\\DATASETS\\PREDYKCJA\\videos\\taczka.mp4: 384x640 3 no_glovess, 1 no_vest, 7.5ms\n",
      "video 4/4 (frame 245/301) f:\\PRACA_MAGISTERSKA\\DATASETS\\PREDYKCJA\\videos\\taczka.mp4: 384x640 2 no_glovess, 1 no_vest, 7.5ms\n",
      "video 4/4 (frame 246/301) f:\\PRACA_MAGISTERSKA\\DATASETS\\PREDYKCJA\\videos\\taczka.mp4: 384x640 3 no_glovess, 1 no_vest, 7.5ms\n",
      "video 4/4 (frame 247/301) f:\\PRACA_MAGISTERSKA\\DATASETS\\PREDYKCJA\\videos\\taczka.mp4: 384x640 3 no_glovess, 1 no_vest, 7.5ms\n",
      "video 4/4 (frame 248/301) f:\\PRACA_MAGISTERSKA\\DATASETS\\PREDYKCJA\\videos\\taczka.mp4: 384x640 3 no_glovess, 1 no_vest, 7.5ms\n",
      "video 4/4 (frame 249/301) f:\\PRACA_MAGISTERSKA\\DATASETS\\PREDYKCJA\\videos\\taczka.mp4: 384x640 3 no_glovess, 1 no_vest, 7.5ms\n",
      "video 4/4 (frame 250/301) f:\\PRACA_MAGISTERSKA\\DATASETS\\PREDYKCJA\\videos\\taczka.mp4: 384x640 3 no_glovess, 1 no_vest, 7.5ms\n",
      "video 4/4 (frame 251/301) f:\\PRACA_MAGISTERSKA\\DATASETS\\PREDYKCJA\\videos\\taczka.mp4: 384x640 3 no_glovess, 1 no_vest, 7.5ms\n",
      "video 4/4 (frame 252/301) f:\\PRACA_MAGISTERSKA\\DATASETS\\PREDYKCJA\\videos\\taczka.mp4: 384x640 4 no_glovess, 1 no_vest, 7.5ms\n",
      "video 4/4 (frame 253/301) f:\\PRACA_MAGISTERSKA\\DATASETS\\PREDYKCJA\\videos\\taczka.mp4: 384x640 4 no_glovess, 1 no_vest, 7.5ms\n",
      "video 4/4 (frame 254/301) f:\\PRACA_MAGISTERSKA\\DATASETS\\PREDYKCJA\\videos\\taczka.mp4: 384x640 4 no_glovess, 1 no_vest, 7.5ms\n",
      "video 4/4 (frame 255/301) f:\\PRACA_MAGISTERSKA\\DATASETS\\PREDYKCJA\\videos\\taczka.mp4: 384x640 4 no_glovess, 1 no_vest, 7.5ms\n",
      "video 4/4 (frame 256/301) f:\\PRACA_MAGISTERSKA\\DATASETS\\PREDYKCJA\\videos\\taczka.mp4: 384x640 4 no_glovess, 7.5ms\n",
      "video 4/4 (frame 257/301) f:\\PRACA_MAGISTERSKA\\DATASETS\\PREDYKCJA\\videos\\taczka.mp4: 384x640 4 no_glovess, 7.5ms\n",
      "video 4/4 (frame 258/301) f:\\PRACA_MAGISTERSKA\\DATASETS\\PREDYKCJA\\videos\\taczka.mp4: 384x640 4 no_glovess, 2 no_vests, 7.5ms\n",
      "video 4/4 (frame 259/301) f:\\PRACA_MAGISTERSKA\\DATASETS\\PREDYKCJA\\videos\\taczka.mp4: 384x640 4 no_glovess, 2 no_vests, 7.5ms\n",
      "video 4/4 (frame 260/301) f:\\PRACA_MAGISTERSKA\\DATASETS\\PREDYKCJA\\videos\\taczka.mp4: 384x640 4 no_glovess, 2 no_vests, 7.5ms\n",
      "video 4/4 (frame 261/301) f:\\PRACA_MAGISTERSKA\\DATASETS\\PREDYKCJA\\videos\\taczka.mp4: 384x640 4 no_glovess, 1 no_vest, 7.5ms\n",
      "video 4/4 (frame 262/301) f:\\PRACA_MAGISTERSKA\\DATASETS\\PREDYKCJA\\videos\\taczka.mp4: 384x640 4 no_glovess, 7.5ms\n",
      "video 4/4 (frame 263/301) f:\\PRACA_MAGISTERSKA\\DATASETS\\PREDYKCJA\\videos\\taczka.mp4: 384x640 4 no_glovess, 1 no_vest, 7.5ms\n",
      "video 4/4 (frame 264/301) f:\\PRACA_MAGISTERSKA\\DATASETS\\PREDYKCJA\\videos\\taczka.mp4: 384x640 4 no_glovess, 2 no_vests, 7.5ms\n",
      "video 4/4 (frame 265/301) f:\\PRACA_MAGISTERSKA\\DATASETS\\PREDYKCJA\\videos\\taczka.mp4: 384x640 4 no_glovess, 1 no_vest, 7.5ms\n",
      "video 4/4 (frame 266/301) f:\\PRACA_MAGISTERSKA\\DATASETS\\PREDYKCJA\\videos\\taczka.mp4: 384x640 4 no_glovess, 1 no_vest, 7.5ms\n",
      "video 4/4 (frame 267/301) f:\\PRACA_MAGISTERSKA\\DATASETS\\PREDYKCJA\\videos\\taczka.mp4: 384x640 4 no_glovess, 1 no_vest, 7.5ms\n",
      "video 4/4 (frame 268/301) f:\\PRACA_MAGISTERSKA\\DATASETS\\PREDYKCJA\\videos\\taczka.mp4: 384x640 4 no_glovess, 1 no_vest, 7.5ms\n",
      "video 4/4 (frame 269/301) f:\\PRACA_MAGISTERSKA\\DATASETS\\PREDYKCJA\\videos\\taczka.mp4: 384x640 4 no_glovess, 1 no_vest, 7.5ms\n",
      "video 4/4 (frame 270/301) f:\\PRACA_MAGISTERSKA\\DATASETS\\PREDYKCJA\\videos\\taczka.mp4: 384x640 4 no_glovess, 1 no_vest, 7.5ms\n",
      "video 4/4 (frame 271/301) f:\\PRACA_MAGISTERSKA\\DATASETS\\PREDYKCJA\\videos\\taczka.mp4: 384x640 4 no_glovess, 1 no_vest, 7.5ms\n",
      "video 4/4 (frame 272/301) f:\\PRACA_MAGISTERSKA\\DATASETS\\PREDYKCJA\\videos\\taczka.mp4: 384x640 4 no_glovess, 1 no_vest, 7.5ms\n",
      "video 4/4 (frame 273/301) f:\\PRACA_MAGISTERSKA\\DATASETS\\PREDYKCJA\\videos\\taczka.mp4: 384x640 3 no_glovess, 7.5ms\n",
      "video 4/4 (frame 274/301) f:\\PRACA_MAGISTERSKA\\DATASETS\\PREDYKCJA\\videos\\taczka.mp4: 384x640 3 no_glovess, 1 no_vest, 7.5ms\n",
      "video 4/4 (frame 275/301) f:\\PRACA_MAGISTERSKA\\DATASETS\\PREDYKCJA\\videos\\taczka.mp4: 384x640 3 no_glovess, 1 no_vest, 7.5ms\n",
      "video 4/4 (frame 276/301) f:\\PRACA_MAGISTERSKA\\DATASETS\\PREDYKCJA\\videos\\taczka.mp4: 384x640 3 no_glovess, 1 no_vest, 7.5ms\n",
      "video 4/4 (frame 277/301) f:\\PRACA_MAGISTERSKA\\DATASETS\\PREDYKCJA\\videos\\taczka.mp4: 384x640 3 no_glovess, 1 no_vest, 7.5ms\n",
      "video 4/4 (frame 278/301) f:\\PRACA_MAGISTERSKA\\DATASETS\\PREDYKCJA\\videos\\taczka.mp4: 384x640 3 no_glovess, 1 no_vest, 7.5ms\n",
      "video 4/4 (frame 279/301) f:\\PRACA_MAGISTERSKA\\DATASETS\\PREDYKCJA\\videos\\taczka.mp4: 384x640 4 no_glovess, 1 no_vest, 8.2ms\n",
      "video 4/4 (frame 280/301) f:\\PRACA_MAGISTERSKA\\DATASETS\\PREDYKCJA\\videos\\taczka.mp4: 384x640 4 no_glovess, 1 no_vest, 8.2ms\n",
      "video 4/4 (frame 281/301) f:\\PRACA_MAGISTERSKA\\DATASETS\\PREDYKCJA\\videos\\taczka.mp4: 384x640 3 no_glovess, 2 no_vests, 8.2ms\n",
      "video 4/4 (frame 282/301) f:\\PRACA_MAGISTERSKA\\DATASETS\\PREDYKCJA\\videos\\taczka.mp4: 384x640 3 no_glovess, 2 no_vests, 8.2ms\n",
      "video 4/4 (frame 283/301) f:\\PRACA_MAGISTERSKA\\DATASETS\\PREDYKCJA\\videos\\taczka.mp4: 384x640 2 no_glovess, 3 no_vests, 8.2ms\n",
      "video 4/4 (frame 284/301) f:\\PRACA_MAGISTERSKA\\DATASETS\\PREDYKCJA\\videos\\taczka.mp4: 384x640 2 no_glovess, 2 no_vests, 8.2ms\n",
      "video 4/4 (frame 285/301) f:\\PRACA_MAGISTERSKA\\DATASETS\\PREDYKCJA\\videos\\taczka.mp4: 384x640 1 no_gloves, 1 no_vest, 8.2ms\n",
      "video 4/4 (frame 286/301) f:\\PRACA_MAGISTERSKA\\DATASETS\\PREDYKCJA\\videos\\taczka.mp4: 384x640 2 no_glovess, 1 no_vest, 8.2ms\n",
      "video 4/4 (frame 287/301) f:\\PRACA_MAGISTERSKA\\DATASETS\\PREDYKCJA\\videos\\taczka.mp4: 384x640 2 no_glovess, 3 no_vests, 8.2ms\n",
      "video 4/4 (frame 288/301) f:\\PRACA_MAGISTERSKA\\DATASETS\\PREDYKCJA\\videos\\taczka.mp4: 384x640 2 no_glovess, 3 no_vests, 8.2ms\n",
      "video 4/4 (frame 289/301) f:\\PRACA_MAGISTERSKA\\DATASETS\\PREDYKCJA\\videos\\taczka.mp4: 384x640 2 no_glovess, 3 no_vests, 8.2ms\n",
      "video 4/4 (frame 290/301) f:\\PRACA_MAGISTERSKA\\DATASETS\\PREDYKCJA\\videos\\taczka.mp4: 384x640 2 no_glovess, 3 no_vests, 8.2ms\n",
      "video 4/4 (frame 291/301) f:\\PRACA_MAGISTERSKA\\DATASETS\\PREDYKCJA\\videos\\taczka.mp4: 384x640 2 no_glovess, 2 no_vests, 8.2ms\n",
      "video 4/4 (frame 292/301) f:\\PRACA_MAGISTERSKA\\DATASETS\\PREDYKCJA\\videos\\taczka.mp4: 384x640 2 no_glovess, 2 no_vests, 8.2ms\n",
      "video 4/4 (frame 293/301) f:\\PRACA_MAGISTERSKA\\DATASETS\\PREDYKCJA\\videos\\taczka.mp4: 384x640 2 no_glovess, 3 no_vests, 8.2ms\n",
      "video 4/4 (frame 294/301) f:\\PRACA_MAGISTERSKA\\DATASETS\\PREDYKCJA\\videos\\taczka.mp4: 384x640 2 no_glovess, 2 no_vests, 8.2ms\n",
      "video 4/4 (frame 295/301) f:\\PRACA_MAGISTERSKA\\DATASETS\\PREDYKCJA\\videos\\taczka.mp4: 384x640 2 no_glovess, 3 no_vests, 8.2ms\n",
      "video 4/4 (frame 296/301) f:\\PRACA_MAGISTERSKA\\DATASETS\\PREDYKCJA\\videos\\taczka.mp4: 384x640 2 no_glovess, 3 no_vests, 8.2ms\n",
      "video 4/4 (frame 297/301) f:\\PRACA_MAGISTERSKA\\DATASETS\\PREDYKCJA\\videos\\taczka.mp4: 384x640 2 no_glovess, 3 no_vests, 8.2ms\n",
      "video 4/4 (frame 298/301) f:\\PRACA_MAGISTERSKA\\DATASETS\\PREDYKCJA\\videos\\taczka.mp4: 384x640 2 no_glovess, 3 no_vests, 8.2ms\n",
      "video 4/4 (frame 299/301) f:\\PRACA_MAGISTERSKA\\DATASETS\\PREDYKCJA\\videos\\taczka.mp4: 384x640 2 no_glovess, 3 no_vests, 8.2ms\n",
      "video 4/4 (frame 300/301) f:\\PRACA_MAGISTERSKA\\DATASETS\\PREDYKCJA\\videos\\taczka.mp4: 384x640 2 no_glovess, 1 no_vest, 8.2ms\n",
      "Speed: 1.9ms preprocess, 8.0ms inference, 0.7ms postprocess per image at shape (64, 3, 384, 640)\n",
      "Results saved to \u001b[1mruns\\detect\\predict10\u001b[0m\n"
     ]
    }
   ],
   "source": [
    "model = YOLO('runs/detect/dataset-v2-finetune-1/weights/epoch110.pt')\n",
    "start_time = time.time()\n",
    "results = model.predict(source=\"/PRACA_MAGISTERSKA/DATASETS/PREDYKCJA/videos\", show=False, device=0, save=True, show_conf=False, show_labels=False, conf=0.364, batch=64)\n",
    "end_time = time.time()"
   ]
  },
  {
   "cell_type": "code",
   "execution_count": 6,
   "id": "135c2fd2-424c-41f5-aca7-3efb35b3336e",
   "metadata": {},
   "outputs": [],
   "source": [
    "torch.cuda.empty_cache()"
   ]
  },
  {
   "cell_type": "code",
   "execution_count": 19,
   "id": "5e824b8a-8fc1-42d5-9623-05634c5cec11",
   "metadata": {},
   "outputs": [],
   "source": [
    "frame_count=1432\n",
    "total_time = end_time - start_time\n",
    "avg_fps = frame_count / total_time if total_time > 0 else 0"
   ]
  },
  {
   "cell_type": "code",
   "execution_count": 20,
   "id": "d4c09bbb-4ef1-412d-96f8-f949eba31c8f",
   "metadata": {},
   "outputs": [
    {
     "data": {
      "text/plain": [
       "53.30501041473452"
      ]
     },
     "execution_count": 20,
     "metadata": {},
     "output_type": "execute_result"
    }
   ],
   "source": [
    "avg_fps"
   ]
  },
  {
   "cell_type": "markdown",
   "id": "3a73e626-1106-4e33-84c0-c9d3a071b867",
   "metadata": {},
   "source": [
    "# najlepszy model"
   ]
  },
  {
   "cell_type": "code",
   "execution_count": 7,
   "id": "86884e43-faf1-4d3c-999d-78b09980938a",
   "metadata": {},
   "outputs": [
    {
     "name": "stdout",
     "output_type": "stream",
     "text": [
      "Ultralytics 8.3.82  Python-3.11.11 torch-2.5.1 CUDA:0 (NVIDIA GeForce RTX 3060, 12288MiB)\n",
      "YOLOv10m summary (fused): 159 layers, 16,455,016 parameters, 0 gradients, 63.4 GFLOPs\n"
     ]
    },
    {
     "name": "stderr",
     "output_type": "stream",
     "text": [
      "\u001b[34m\u001b[1mval: \u001b[0mScanning F:\\PRACA_MAGISTERSKA\\DATASETS\\MAGISTERKA-V2\\labels\\val.cache... 679 images, 154 backgrounds, 0 corrupt: 1\u001b[0m\n",
      "                 Class     Images  Instances      Box(P          R      mAP50  mAP50-95): 100%|██████████| 43/43 [00:10\n"
     ]
    },
    {
     "name": "stdout",
     "output_type": "stream",
     "text": [
      "                   all        679       3388      0.944      0.913      0.946      0.653\n",
      "            no_glasses        407        605      0.945      0.888      0.937      0.596\n",
      "             no_gloves        472       1207      0.926      0.887      0.917      0.625\n",
      "             no_helmet        449        760      0.942      0.943      0.965      0.655\n",
      "               no_vest        481        816      0.963      0.935      0.963      0.735\n",
      "Speed: 0.2ms preprocess, 10.6ms inference, 0.0ms loss, 0.3ms postprocess per image\n",
      "Results saved to \u001b[1mruns\\detect\\val7\u001b[0m\n"
     ]
    },
    {
     "data": {
      "text/plain": [
       "array([    0.59564,     0.62531,     0.65452,     0.73478])"
      ]
     },
     "execution_count": 7,
     "metadata": {},
     "output_type": "execute_result"
    }
   ],
   "source": [
    "torch.cuda.empty_cache()\n",
    "# Load a model\n",
    "model = YOLO('runs/detect/dataset-v2-finetune-1/weights/epoch110.pt')\n",
    "\n",
    "# Validate a model\n",
    "metrics = model.val(iou=0.7, conf=0.364, device=0)   # no arguments needed, dataset and settings remembered\n",
    "metrics.box.map         # map50-95\n",
    "metrics.box.map50       # map50\n",
    "metrics.box.map75       # map75\n",
    "metrics.box.maps        # a list contains map50-95 of each category"
   ]
  },
  {
   "cell_type": "code",
   "execution_count": 8,
   "id": "3734c40c-0a04-411c-a06e-298c6a3536a0",
   "metadata": {},
   "outputs": [
    {
     "data": {
      "text/plain": [
       "np.float64(0.9283745394138229)"
      ]
     },
     "execution_count": 8,
     "metadata": {},
     "output_type": "execute_result"
    }
   ],
   "source": [
    "np.mean(metrics.box.f1)"
   ]
  },
  {
   "cell_type": "code",
   "execution_count": 9,
   "id": "41982fad-ef5c-4789-bc68-494f6bc8b22c",
   "metadata": {},
   "outputs": [
    {
     "data": {
      "text/plain": [
       "array([     0.9156,     0.90609,      0.9428,       0.949])"
      ]
     },
     "execution_count": 9,
     "metadata": {},
     "output_type": "execute_result"
    }
   ],
   "source": [
    "metrics.box.f1"
   ]
  },
  {
   "cell_type": "code",
   "execution_count": null,
   "id": "cb9e0c7d-5999-4935-ab73-b55816d245ac",
   "metadata": {},
   "outputs": [],
   "source": []
  }
 ],
 "metadata": {
  "kernelspec": {
   "display_name": "Python 3 (ipykernel)",
   "language": "python",
   "name": "python3"
  },
  "language_info": {
   "codemirror_mode": {
    "name": "ipython",
    "version": 3
   },
   "file_extension": ".py",
   "mimetype": "text/x-python",
   "name": "python",
   "nbconvert_exporter": "python",
   "pygments_lexer": "ipython3",
   "version": "3.11.11"
  }
 },
 "nbformat": 4,
 "nbformat_minor": 5
}
