{
 "cells": [
  {
   "cell_type": "code",
   "execution_count": 1,
   "id": "d45c0da7-72f8-4f5e-ba70-7d79a4a522cf",
   "metadata": {},
   "outputs": [],
   "source": [
    "from ultralytics import YOLO\n",
    "import os\n",
    "import tensorboard\n",
    "import torch\n",
    "import pandas as pd"
   ]
  },
  {
   "cell_type": "code",
   "execution_count": 2,
   "id": "92d6d0f3-9493-4a2c-9c8d-3d5ec5110c4a",
   "metadata": {},
   "outputs": [
    {
     "name": "stdout",
     "output_type": "stream",
     "text": [
      " Volume in drive F is superszybkissd\n",
      " Volume Serial Number is 98A2-EE81\n",
      "\n",
      " Directory of f:\\PRACA_MAGISTERSKA\\UCZENIE_MODELI\\yolov10l\n",
      "\n",
      "16.06.2025  14:58    <DIR>          .\n",
      "23.06.2025  14:58    <DIR>          ..\n",
      "07.03.2025  16:37    <DIR>          .ipynb_checkpoints\n",
      "24.03.2025  01:45               150 data.yaml\n",
      "07.03.2025  22:26    <DIR>          predictions\n",
      "07.03.2025  16:38    <DIR>          runs\n",
      "25.03.2025  01:18           567˙763 validation_results.csv\n",
      "07.03.2025  16:39         5˙613˙764 yolo11n.pt\n",
      "16.06.2025  14:58           839˙415 yolov10l.ipynb\n",
      "26.02.2025  13:18        52˙425˙230 yolov10l.pt\n",
      "               5 File(s)     59˙446˙322 bytes\n",
      "               5 Dir(s)  81˙521˙123˙328 bytes free\n"
     ]
    }
   ],
   "source": [
    "ls"
   ]
  },
  {
   "cell_type": "code",
   "execution_count": 3,
   "id": "1236cc0c-eac3-4693-8c4b-c7272ebf210b",
   "metadata": {},
   "outputs": [
    {
     "data": {
      "text/html": [
       "\n",
       "      <iframe id=\"tensorboard-frame-8df24b7300444d05\" width=\"100%\" height=\"800\" frameborder=\"0\">\n",
       "      </iframe>\n",
       "      <script>\n",
       "        (function() {\n",
       "          const frame = document.getElementById(\"tensorboard-frame-8df24b7300444d05\");\n",
       "          const url = new URL(\"/\", window.location);\n",
       "          const port = 6006;\n",
       "          if (port) {\n",
       "            url.port = port;\n",
       "          }\n",
       "          frame.src = url;\n",
       "        })();\n",
       "      </script>\n",
       "    "
      ],
      "text/plain": [
       "<IPython.core.display.HTML object>"
      ]
     },
     "metadata": {},
     "output_type": "display_data"
    }
   ],
   "source": [
    "%load_ext tensorboard\n",
    "%tensorboard --logdir runs/detect"
   ]
  },
  {
   "cell_type": "code",
   "execution_count": 4,
   "id": "d01d6854-8c36-44b1-8280-7399ea1e20e3",
   "metadata": {
    "scrolled": true
   },
   "outputs": [
    {
     "name": "stdout",
     "output_type": "stream",
     "text": [
      "YOLOv10l summary: 364 layers, 25,888,688 parameters, 0 gradients, 127.9 GFLOPs\n",
      "New https://pypi.org/project/ultralytics/8.3.107 available  Update with 'pip install -U ultralytics'\n",
      "Ultralytics 8.3.82  Python-3.11.11 torch-2.5.1 CUDA:0 (NVIDIA GeForce RTX 3060, 12288MiB)\n",
      "\u001b[34m\u001b[1mengine\\trainer: \u001b[0mtask=detect, mode=train, model=yolov10l.pt, data=data.yaml, epochs=200, time=None, patience=50, batch=0.9, imgsz=640, save=True, save_period=10, cache=False, device=0, workers=8, project=None, name=dataset-v2-finetune-1, exist_ok=False, pretrained=True, optimizer=auto, verbose=True, seed=0, deterministic=True, single_cls=False, rect=False, cos_lr=False, close_mosaic=10, resume=False, amp=True, fraction=1.0, profile=False, freeze=10, multi_scale=False, overlap_mask=True, mask_ratio=4, dropout=0.0, val=True, split=val, save_json=False, save_hybrid=False, conf=None, iou=0.7, max_det=300, half=False, dnn=False, plots=True, source=None, vid_stride=1, stream_buffer=False, visualize=False, augment=False, agnostic_nms=False, classes=None, retina_masks=False, embed=None, show=False, save_frames=False, save_txt=False, save_conf=False, save_crop=False, show_labels=True, show_conf=True, show_boxes=True, line_width=None, format=torchscript, keras=False, optimize=False, int8=False, dynamic=False, simplify=True, opset=None, workspace=None, nms=False, lr0=0.01, lrf=0.01, momentum=0.937, weight_decay=0.0005, warmup_epochs=3.0, warmup_momentum=0.8, warmup_bias_lr=0.1, box=7.5, cls=0.5, dfl=1.5, pose=12.0, kobj=1.0, nbs=64, hsv_h=0.015, hsv_s=0.7, hsv_v=0.4, degrees=0.0, translate=0.1, scale=0.5, shear=0.0, perspective=0.0, flipud=0.0, fliplr=0.5, bgr=0.0, mosaic=1.0, mixup=0.0, copy_paste=0.0, copy_paste_mode=flip, auto_augment=randaugment, erasing=0.4, crop_fraction=1.0, cfg=None, tracker=botsort.yaml, save_dir=runs\\detect\\dataset-v2-finetune-1\n",
      "Overriding model.yaml nc=80 with nc=4\n",
      "\n",
      "                   from  n    params  module                                       arguments                     \n",
      "  0                  -1  1      1856  ultralytics.nn.modules.conv.Conv             [3, 64, 3, 2]                 \n",
      "  1                  -1  1     73984  ultralytics.nn.modules.conv.Conv             [64, 128, 3, 2]               \n",
      "  2                  -1  3    279808  ultralytics.nn.modules.block.C2f             [128, 128, 3, True]           \n",
      "  3                  -1  1    295424  ultralytics.nn.modules.conv.Conv             [128, 256, 3, 2]              \n",
      "  4                  -1  6   2101248  ultralytics.nn.modules.block.C2f             [256, 256, 6, True]           \n",
      "  5                  -1  1    137728  ultralytics.nn.modules.block.SCDown          [256, 512, 3, 2]              \n",
      "  6                  -1  6   8396800  ultralytics.nn.modules.block.C2f             [512, 512, 6, True]           \n",
      "  7                  -1  1    268800  ultralytics.nn.modules.block.SCDown          [512, 512, 3, 2]              \n",
      "  8                  -1  3   1744384  ultralytics.nn.modules.block.C2fCIB          [512, 512, 3, True]           \n",
      "  9                  -1  1    656896  ultralytics.nn.modules.block.SPPF            [512, 512, 5]                 \n",
      " 10                  -1  1    990976  ultralytics.nn.modules.block.PSA             [512, 512]                    \n",
      " 11                  -1  1         0  torch.nn.modules.upsampling.Upsample         [None, 2, 'nearest']          \n",
      " 12             [-1, 6]  1         0  ultralytics.nn.modules.conv.Concat           [1]                           \n",
      " 13                  -1  3   2006528  ultralytics.nn.modules.block.C2fCIB          [1024, 512, 3, True]          \n",
      " 14                  -1  1         0  torch.nn.modules.upsampling.Upsample         [None, 2, 'nearest']          \n",
      " 15             [-1, 4]  1         0  ultralytics.nn.modules.conv.Concat           [1]                           \n",
      " 16                  -1  3   1247744  ultralytics.nn.modules.block.C2f             [768, 256, 3]                 \n",
      " 17                  -1  1    590336  ultralytics.nn.modules.conv.Conv             [256, 256, 3, 2]              \n",
      " 18            [-1, 13]  1         0  ultralytics.nn.modules.conv.Concat           [1]                           \n",
      " 19                  -1  3   1875456  ultralytics.nn.modules.block.C2fCIB          [768, 512, 3, True]           \n",
      " 20                  -1  1    268800  ultralytics.nn.modules.block.SCDown          [512, 512, 3, 2]              \n",
      " 21            [-1, 10]  1         0  ultralytics.nn.modules.conv.Concat           [1]                           \n",
      " 22                  -1  3   2006528  ultralytics.nn.modules.block.C2fCIB          [1024, 512, 3, True]          \n",
      " 23        [16, 19, 22]  1   2828200  ultralytics.nn.modules.head.v10Detect        [4, [256, 512, 512]]          \n",
      "YOLOv10l summary: 364 layers, 25,771,496 parameters, 25,771,480 gradients, 127.2 GFLOPs\n",
      "\n",
      "Transferred 1015/1027 items from pretrained weights\n",
      "\u001b[34m\u001b[1mTensorBoard: \u001b[0mStart with 'tensorboard --logdir runs\\detect\\dataset-v2-finetune-1', view at http://localhost:6006/\n",
      "Freezing layer 'model.0.conv.weight'\n",
      "Freezing layer 'model.0.bn.weight'\n",
      "Freezing layer 'model.0.bn.bias'\n",
      "Freezing layer 'model.1.conv.weight'\n",
      "Freezing layer 'model.1.bn.weight'\n",
      "Freezing layer 'model.1.bn.bias'\n",
      "Freezing layer 'model.2.cv1.conv.weight'\n",
      "Freezing layer 'model.2.cv1.bn.weight'\n",
      "Freezing layer 'model.2.cv1.bn.bias'\n",
      "Freezing layer 'model.2.cv2.conv.weight'\n",
      "Freezing layer 'model.2.cv2.bn.weight'\n",
      "Freezing layer 'model.2.cv2.bn.bias'\n",
      "Freezing layer 'model.2.m.0.cv1.conv.weight'\n",
      "Freezing layer 'model.2.m.0.cv1.bn.weight'\n",
      "Freezing layer 'model.2.m.0.cv1.bn.bias'\n",
      "Freezing layer 'model.2.m.0.cv2.conv.weight'\n",
      "Freezing layer 'model.2.m.0.cv2.bn.weight'\n",
      "Freezing layer 'model.2.m.0.cv2.bn.bias'\n",
      "Freezing layer 'model.2.m.1.cv1.conv.weight'\n",
      "Freezing layer 'model.2.m.1.cv1.bn.weight'\n",
      "Freezing layer 'model.2.m.1.cv1.bn.bias'\n",
      "Freezing layer 'model.2.m.1.cv2.conv.weight'\n",
      "Freezing layer 'model.2.m.1.cv2.bn.weight'\n",
      "Freezing layer 'model.2.m.1.cv2.bn.bias'\n",
      "Freezing layer 'model.2.m.2.cv1.conv.weight'\n",
      "Freezing layer 'model.2.m.2.cv1.bn.weight'\n",
      "Freezing layer 'model.2.m.2.cv1.bn.bias'\n",
      "Freezing layer 'model.2.m.2.cv2.conv.weight'\n",
      "Freezing layer 'model.2.m.2.cv2.bn.weight'\n",
      "Freezing layer 'model.2.m.2.cv2.bn.bias'\n",
      "Freezing layer 'model.3.conv.weight'\n",
      "Freezing layer 'model.3.bn.weight'\n",
      "Freezing layer 'model.3.bn.bias'\n",
      "Freezing layer 'model.4.cv1.conv.weight'\n",
      "Freezing layer 'model.4.cv1.bn.weight'\n",
      "Freezing layer 'model.4.cv1.bn.bias'\n",
      "Freezing layer 'model.4.cv2.conv.weight'\n",
      "Freezing layer 'model.4.cv2.bn.weight'\n",
      "Freezing layer 'model.4.cv2.bn.bias'\n",
      "Freezing layer 'model.4.m.0.cv1.conv.weight'\n",
      "Freezing layer 'model.4.m.0.cv1.bn.weight'\n",
      "Freezing layer 'model.4.m.0.cv1.bn.bias'\n",
      "Freezing layer 'model.4.m.0.cv2.conv.weight'\n",
      "Freezing layer 'model.4.m.0.cv2.bn.weight'\n",
      "Freezing layer 'model.4.m.0.cv2.bn.bias'\n",
      "Freezing layer 'model.4.m.1.cv1.conv.weight'\n",
      "Freezing layer 'model.4.m.1.cv1.bn.weight'\n",
      "Freezing layer 'model.4.m.1.cv1.bn.bias'\n",
      "Freezing layer 'model.4.m.1.cv2.conv.weight'\n",
      "Freezing layer 'model.4.m.1.cv2.bn.weight'\n",
      "Freezing layer 'model.4.m.1.cv2.bn.bias'\n",
      "Freezing layer 'model.4.m.2.cv1.conv.weight'\n",
      "Freezing layer 'model.4.m.2.cv1.bn.weight'\n",
      "Freezing layer 'model.4.m.2.cv1.bn.bias'\n",
      "Freezing layer 'model.4.m.2.cv2.conv.weight'\n",
      "Freezing layer 'model.4.m.2.cv2.bn.weight'\n",
      "Freezing layer 'model.4.m.2.cv2.bn.bias'\n",
      "Freezing layer 'model.4.m.3.cv1.conv.weight'\n",
      "Freezing layer 'model.4.m.3.cv1.bn.weight'\n",
      "Freezing layer 'model.4.m.3.cv1.bn.bias'\n",
      "Freezing layer 'model.4.m.3.cv2.conv.weight'\n",
      "Freezing layer 'model.4.m.3.cv2.bn.weight'\n",
      "Freezing layer 'model.4.m.3.cv2.bn.bias'\n",
      "Freezing layer 'model.4.m.4.cv1.conv.weight'\n",
      "Freezing layer 'model.4.m.4.cv1.bn.weight'\n",
      "Freezing layer 'model.4.m.4.cv1.bn.bias'\n",
      "Freezing layer 'model.4.m.4.cv2.conv.weight'\n",
      "Freezing layer 'model.4.m.4.cv2.bn.weight'\n",
      "Freezing layer 'model.4.m.4.cv2.bn.bias'\n",
      "Freezing layer 'model.4.m.5.cv1.conv.weight'\n",
      "Freezing layer 'model.4.m.5.cv1.bn.weight'\n",
      "Freezing layer 'model.4.m.5.cv1.bn.bias'\n",
      "Freezing layer 'model.4.m.5.cv2.conv.weight'\n",
      "Freezing layer 'model.4.m.5.cv2.bn.weight'\n",
      "Freezing layer 'model.4.m.5.cv2.bn.bias'\n",
      "Freezing layer 'model.5.cv1.conv.weight'\n",
      "Freezing layer 'model.5.cv1.bn.weight'\n",
      "Freezing layer 'model.5.cv1.bn.bias'\n",
      "Freezing layer 'model.5.cv2.conv.weight'\n",
      "Freezing layer 'model.5.cv2.bn.weight'\n",
      "Freezing layer 'model.5.cv2.bn.bias'\n",
      "Freezing layer 'model.6.cv1.conv.weight'\n",
      "Freezing layer 'model.6.cv1.bn.weight'\n",
      "Freezing layer 'model.6.cv1.bn.bias'\n",
      "Freezing layer 'model.6.cv2.conv.weight'\n",
      "Freezing layer 'model.6.cv2.bn.weight'\n",
      "Freezing layer 'model.6.cv2.bn.bias'\n",
      "Freezing layer 'model.6.m.0.cv1.conv.weight'\n",
      "Freezing layer 'model.6.m.0.cv1.bn.weight'\n",
      "Freezing layer 'model.6.m.0.cv1.bn.bias'\n",
      "Freezing layer 'model.6.m.0.cv2.conv.weight'\n",
      "Freezing layer 'model.6.m.0.cv2.bn.weight'\n",
      "Freezing layer 'model.6.m.0.cv2.bn.bias'\n",
      "Freezing layer 'model.6.m.1.cv1.conv.weight'\n",
      "Freezing layer 'model.6.m.1.cv1.bn.weight'\n",
      "Freezing layer 'model.6.m.1.cv1.bn.bias'\n",
      "Freezing layer 'model.6.m.1.cv2.conv.weight'\n",
      "Freezing layer 'model.6.m.1.cv2.bn.weight'\n",
      "Freezing layer 'model.6.m.1.cv2.bn.bias'\n",
      "Freezing layer 'model.6.m.2.cv1.conv.weight'\n",
      "Freezing layer 'model.6.m.2.cv1.bn.weight'\n",
      "Freezing layer 'model.6.m.2.cv1.bn.bias'\n",
      "Freezing layer 'model.6.m.2.cv2.conv.weight'\n",
      "Freezing layer 'model.6.m.2.cv2.bn.weight'\n",
      "Freezing layer 'model.6.m.2.cv2.bn.bias'\n",
      "Freezing layer 'model.6.m.3.cv1.conv.weight'\n",
      "Freezing layer 'model.6.m.3.cv1.bn.weight'\n",
      "Freezing layer 'model.6.m.3.cv1.bn.bias'\n",
      "Freezing layer 'model.6.m.3.cv2.conv.weight'\n",
      "Freezing layer 'model.6.m.3.cv2.bn.weight'\n",
      "Freezing layer 'model.6.m.3.cv2.bn.bias'\n",
      "Freezing layer 'model.6.m.4.cv1.conv.weight'\n",
      "Freezing layer 'model.6.m.4.cv1.bn.weight'\n",
      "Freezing layer 'model.6.m.4.cv1.bn.bias'\n",
      "Freezing layer 'model.6.m.4.cv2.conv.weight'\n",
      "Freezing layer 'model.6.m.4.cv2.bn.weight'\n",
      "Freezing layer 'model.6.m.4.cv2.bn.bias'\n",
      "Freezing layer 'model.6.m.5.cv1.conv.weight'\n",
      "Freezing layer 'model.6.m.5.cv1.bn.weight'\n",
      "Freezing layer 'model.6.m.5.cv1.bn.bias'\n",
      "Freezing layer 'model.6.m.5.cv2.conv.weight'\n",
      "Freezing layer 'model.6.m.5.cv2.bn.weight'\n",
      "Freezing layer 'model.6.m.5.cv2.bn.bias'\n",
      "Freezing layer 'model.7.cv1.conv.weight'\n",
      "Freezing layer 'model.7.cv1.bn.weight'\n",
      "Freezing layer 'model.7.cv1.bn.bias'\n",
      "Freezing layer 'model.7.cv2.conv.weight'\n",
      "Freezing layer 'model.7.cv2.bn.weight'\n",
      "Freezing layer 'model.7.cv2.bn.bias'\n",
      "Freezing layer 'model.8.cv1.conv.weight'\n",
      "Freezing layer 'model.8.cv1.bn.weight'\n",
      "Freezing layer 'model.8.cv1.bn.bias'\n",
      "Freezing layer 'model.8.cv2.conv.weight'\n",
      "Freezing layer 'model.8.cv2.bn.weight'\n",
      "Freezing layer 'model.8.cv2.bn.bias'\n",
      "Freezing layer 'model.8.m.0.cv1.0.conv.weight'\n",
      "Freezing layer 'model.8.m.0.cv1.0.bn.weight'\n",
      "Freezing layer 'model.8.m.0.cv1.0.bn.bias'\n",
      "Freezing layer 'model.8.m.0.cv1.1.conv.weight'\n",
      "Freezing layer 'model.8.m.0.cv1.1.bn.weight'\n",
      "Freezing layer 'model.8.m.0.cv1.1.bn.bias'\n",
      "Freezing layer 'model.8.m.0.cv1.2.conv.weight'\n",
      "Freezing layer 'model.8.m.0.cv1.2.bn.weight'\n",
      "Freezing layer 'model.8.m.0.cv1.2.bn.bias'\n",
      "Freezing layer 'model.8.m.0.cv1.3.conv.weight'\n",
      "Freezing layer 'model.8.m.0.cv1.3.bn.weight'\n",
      "Freezing layer 'model.8.m.0.cv1.3.bn.bias'\n",
      "Freezing layer 'model.8.m.0.cv1.4.conv.weight'\n",
      "Freezing layer 'model.8.m.0.cv1.4.bn.weight'\n",
      "Freezing layer 'model.8.m.0.cv1.4.bn.bias'\n",
      "Freezing layer 'model.8.m.1.cv1.0.conv.weight'\n",
      "Freezing layer 'model.8.m.1.cv1.0.bn.weight'\n",
      "Freezing layer 'model.8.m.1.cv1.0.bn.bias'\n",
      "Freezing layer 'model.8.m.1.cv1.1.conv.weight'\n",
      "Freezing layer 'model.8.m.1.cv1.1.bn.weight'\n",
      "Freezing layer 'model.8.m.1.cv1.1.bn.bias'\n",
      "Freezing layer 'model.8.m.1.cv1.2.conv.weight'\n",
      "Freezing layer 'model.8.m.1.cv1.2.bn.weight'\n",
      "Freezing layer 'model.8.m.1.cv1.2.bn.bias'\n",
      "Freezing layer 'model.8.m.1.cv1.3.conv.weight'\n",
      "Freezing layer 'model.8.m.1.cv1.3.bn.weight'\n",
      "Freezing layer 'model.8.m.1.cv1.3.bn.bias'\n",
      "Freezing layer 'model.8.m.1.cv1.4.conv.weight'\n",
      "Freezing layer 'model.8.m.1.cv1.4.bn.weight'\n",
      "Freezing layer 'model.8.m.1.cv1.4.bn.bias'\n",
      "Freezing layer 'model.8.m.2.cv1.0.conv.weight'\n",
      "Freezing layer 'model.8.m.2.cv1.0.bn.weight'\n",
      "Freezing layer 'model.8.m.2.cv1.0.bn.bias'\n",
      "Freezing layer 'model.8.m.2.cv1.1.conv.weight'\n",
      "Freezing layer 'model.8.m.2.cv1.1.bn.weight'\n",
      "Freezing layer 'model.8.m.2.cv1.1.bn.bias'\n",
      "Freezing layer 'model.8.m.2.cv1.2.conv.weight'\n",
      "Freezing layer 'model.8.m.2.cv1.2.bn.weight'\n",
      "Freezing layer 'model.8.m.2.cv1.2.bn.bias'\n",
      "Freezing layer 'model.8.m.2.cv1.3.conv.weight'\n",
      "Freezing layer 'model.8.m.2.cv1.3.bn.weight'\n",
      "Freezing layer 'model.8.m.2.cv1.3.bn.bias'\n",
      "Freezing layer 'model.8.m.2.cv1.4.conv.weight'\n",
      "Freezing layer 'model.8.m.2.cv1.4.bn.weight'\n",
      "Freezing layer 'model.8.m.2.cv1.4.bn.bias'\n",
      "Freezing layer 'model.9.cv1.conv.weight'\n",
      "Freezing layer 'model.9.cv1.bn.weight'\n",
      "Freezing layer 'model.9.cv1.bn.bias'\n",
      "Freezing layer 'model.9.cv2.conv.weight'\n",
      "Freezing layer 'model.9.cv2.bn.weight'\n",
      "Freezing layer 'model.9.cv2.bn.bias'\n",
      "Freezing layer 'model.23.dfl.conv.weight'\n",
      "\u001b[34m\u001b[1mAMP: \u001b[0mrunning Automatic Mixed Precision (AMP) checks...\n",
      "\u001b[34m\u001b[1mAMP: \u001b[0mchecks passed \n"
     ]
    },
    {
     "name": "stderr",
     "output_type": "stream",
     "text": [
      "\u001b[34m\u001b[1mtrain: \u001b[0mScanning F:\\PRACA_MAGISTERSKA\\DATASETS\\MAGISTERKA-V2\\labels\\train.cache... 2036 images, 436 backgrounds, 0 corru\u001b[0m\n"
     ]
    },
    {
     "name": "stdout",
     "output_type": "stream",
     "text": [
      "\u001b[34m\u001b[1mAutoBatch: \u001b[0mComputing optimal batch size for imgsz=640 at 90.0% CUDA memory utilization.\n",
      "\u001b[34m\u001b[1mAutoBatch: \u001b[0mCUDA:0 (NVIDIA GeForce RTX 3060) 12.00G total, 0.24G reserved, 0.23G allocated, 11.52G free\n",
      "      Params      GFLOPs  GPU_mem (GB)  forward (ms) backward (ms)                   input                  output\n",
      "    25771496       127.2         1.598         111.4           nan        (1, 3, 640, 640)                    list\n",
      "    25771496       254.4         3.112         84.34           nan        (2, 3, 640, 640)                    list\n",
      "    25771496       508.9         5.063         108.8           nan        (4, 3, 640, 640)                    list\n",
      "    25771496        1018         9.047         125.2           nan        (8, 3, 640, 640)                    list\n",
      "    25771496        2036        16.746         241.9           nan       (16, 3, 640, 640)                    list\n",
      "\u001b[34m\u001b[1mAutoBatch: \u001b[0mUsing batch-size 9 for CUDA:0 10.52G/12.00G (88%) \n"
     ]
    },
    {
     "name": "stderr",
     "output_type": "stream",
     "text": [
      "\u001b[34m\u001b[1mtrain: \u001b[0mScanning F:\\PRACA_MAGISTERSKA\\DATASETS\\MAGISTERKA-V2\\labels\\train.cache... 2036 images, 436 backgrounds, 0 corru\u001b[0m\n",
      "\u001b[34m\u001b[1mval: \u001b[0mScanning F:\\PRACA_MAGISTERSKA\\DATASETS\\MAGISTERKA-V2\\labels\\val.cache... 679 images, 154 backgrounds, 0 corrupt: 1\u001b[0m\n"
     ]
    },
    {
     "name": "stdout",
     "output_type": "stream",
     "text": [
      "Plotting labels to runs\\detect\\dataset-v2-finetune-1\\labels.jpg... \n",
      "\u001b[34m\u001b[1moptimizer:\u001b[0m 'optimizer=auto' found, ignoring 'lr0=0.01' and 'momentum=0.937' and determining best 'optimizer', 'lr0' and 'momentum' automatically... \n",
      "\u001b[34m\u001b[1moptimizer:\u001b[0m AdamW(lr=0.00125, momentum=0.9) with parameter groups 167 weight(decay=0.0), 180 weight(decay=0.0004921875), 179 bias(decay=0.0)\n",
      "\u001b[34m\u001b[1mTensorBoard: \u001b[0mmodel graph visualization added \n",
      "Image sizes 640 train, 640 val\n",
      "Using 6 dataloader workers\n",
      "Logging results to \u001b[1mruns\\detect\\dataset-v2-finetune-1\u001b[0m\n",
      "Starting training for 200 epochs...\n",
      "\n",
      "      Epoch    GPU_mem   box_loss   cls_loss   dfl_loss  Instances       Size\n"
     ]
    },
    {
     "name": "stderr",
     "output_type": "stream",
     "text": [
      "      1/200      4.09G      3.321       3.49      2.842         13        640: 100%|██████████| 227/227 [01:18<00:00,  \n",
      "                 Class     Images  Instances      Box(P          R      mAP50  mAP50-95): 100%|██████████| 38/38 [00:10"
     ]
    },
    {
     "name": "stdout",
     "output_type": "stream",
     "text": [
      "                   all        679       3388      0.787       0.82      0.864      0.491\n"
     ]
    },
    {
     "name": "stderr",
     "output_type": "stream",
     "text": [
      "\n"
     ]
    },
    {
     "name": "stdout",
     "output_type": "stream",
     "text": [
      "\n",
      "      Epoch    GPU_mem   box_loss   cls_loss   dfl_loss  Instances       Size\n"
     ]
    },
    {
     "name": "stderr",
     "output_type": "stream",
     "text": [
      "      2/200      3.97G      3.132      1.982      2.682          9        640: 100%|██████████| 227/227 [01:11<00:00,  \n",
      "                 Class     Images  Instances      Box(P          R      mAP50  mAP50-95): 100%|██████████| 38/38 [00:10"
     ]
    },
    {
     "name": "stdout",
     "output_type": "stream",
     "text": [
      "                   all        679       3388       0.88      0.841       0.91      0.524\n"
     ]
    },
    {
     "name": "stderr",
     "output_type": "stream",
     "text": [
      "\n"
     ]
    },
    {
     "name": "stdout",
     "output_type": "stream",
     "text": [
      "\n",
      "      Epoch    GPU_mem   box_loss   cls_loss   dfl_loss  Instances       Size\n"
     ]
    },
    {
     "name": "stderr",
     "output_type": "stream",
     "text": [
      "      3/200      4.03G      3.092      1.846      2.648         12        640: 100%|██████████| 227/227 [01:08<00:00,  \n",
      "                 Class     Images  Instances      Box(P          R      mAP50  mAP50-95): 100%|██████████| 38/38 [00:10"
     ]
    },
    {
     "name": "stdout",
     "output_type": "stream",
     "text": [
      "                   all        679       3388      0.866       0.86      0.917      0.541\n"
     ]
    },
    {
     "name": "stderr",
     "output_type": "stream",
     "text": [
      "\n"
     ]
    },
    {
     "name": "stdout",
     "output_type": "stream",
     "text": [
      "\n",
      "      Epoch    GPU_mem   box_loss   cls_loss   dfl_loss  Instances       Size\n"
     ]
    },
    {
     "name": "stderr",
     "output_type": "stream",
     "text": [
      "      4/200      3.99G       3.01      1.731      2.593         24        640: 100%|██████████| 227/227 [01:08<00:00,  \n",
      "                 Class     Images  Instances      Box(P          R      mAP50  mAP50-95): 100%|██████████| 38/38 [00:10"
     ]
    },
    {
     "name": "stdout",
     "output_type": "stream",
     "text": [
      "                   all        679       3388       0.85      0.855      0.916      0.549\n"
     ]
    },
    {
     "name": "stderr",
     "output_type": "stream",
     "text": [
      "\n"
     ]
    },
    {
     "name": "stdout",
     "output_type": "stream",
     "text": [
      "\n",
      "      Epoch    GPU_mem   box_loss   cls_loss   dfl_loss  Instances       Size\n"
     ]
    },
    {
     "name": "stderr",
     "output_type": "stream",
     "text": [
      "      5/200      3.93G      2.951      1.672      2.577          6        640: 100%|██████████| 227/227 [01:08<00:00,  \n",
      "                 Class     Images  Instances      Box(P          R      mAP50  mAP50-95): 100%|██████████| 38/38 [00:10"
     ]
    },
    {
     "name": "stdout",
     "output_type": "stream",
     "text": [
      "                   all        679       3388      0.874       0.86      0.922      0.545\n"
     ]
    },
    {
     "name": "stderr",
     "output_type": "stream",
     "text": [
      "\n"
     ]
    },
    {
     "name": "stdout",
     "output_type": "stream",
     "text": [
      "\n",
      "      Epoch    GPU_mem   box_loss   cls_loss   dfl_loss  Instances       Size\n"
     ]
    },
    {
     "name": "stderr",
     "output_type": "stream",
     "text": [
      "      6/200      3.98G      2.926      1.627      2.568         20        640: 100%|██████████| 227/227 [01:08<00:00,  \n",
      "                 Class     Images  Instances      Box(P          R      mAP50  mAP50-95): 100%|██████████| 38/38 [00:10"
     ]
    },
    {
     "name": "stdout",
     "output_type": "stream",
     "text": [
      "                   all        679       3388      0.881      0.888      0.936      0.575\n"
     ]
    },
    {
     "name": "stderr",
     "output_type": "stream",
     "text": [
      "\n"
     ]
    },
    {
     "name": "stdout",
     "output_type": "stream",
     "text": [
      "\n",
      "      Epoch    GPU_mem   box_loss   cls_loss   dfl_loss  Instances       Size\n"
     ]
    },
    {
     "name": "stderr",
     "output_type": "stream",
     "text": [
      "      7/200      3.96G      2.834      1.522      2.512         22        640: 100%|██████████| 227/227 [01:08<00:00,  \n",
      "                 Class     Images  Instances      Box(P          R      mAP50  mAP50-95): 100%|██████████| 38/38 [00:10"
     ]
    },
    {
     "name": "stdout",
     "output_type": "stream",
     "text": [
      "                   all        679       3388      0.904      0.875      0.941      0.573\n"
     ]
    },
    {
     "name": "stderr",
     "output_type": "stream",
     "text": [
      "\n"
     ]
    },
    {
     "name": "stdout",
     "output_type": "stream",
     "text": [
      "\n",
      "      Epoch    GPU_mem   box_loss   cls_loss   dfl_loss  Instances       Size\n"
     ]
    },
    {
     "name": "stderr",
     "output_type": "stream",
     "text": [
      "      8/200      4.02G      2.827       1.54       2.48         10        640: 100%|██████████| 227/227 [01:08<00:00,  \n",
      "                 Class     Images  Instances      Box(P          R      mAP50  mAP50-95): 100%|██████████| 38/38 [00:10"
     ]
    },
    {
     "name": "stdout",
     "output_type": "stream",
     "text": [
      "                   all        679       3388      0.899      0.883      0.941      0.579\n"
     ]
    },
    {
     "name": "stderr",
     "output_type": "stream",
     "text": [
      "\n"
     ]
    },
    {
     "name": "stdout",
     "output_type": "stream",
     "text": [
      "\n",
      "      Epoch    GPU_mem   box_loss   cls_loss   dfl_loss  Instances       Size\n"
     ]
    },
    {
     "name": "stderr",
     "output_type": "stream",
     "text": [
      "      9/200      3.99G       2.79      1.488      2.488         17        640: 100%|██████████| 227/227 [01:08<00:00,  \n",
      "                 Class     Images  Instances      Box(P          R      mAP50  mAP50-95): 100%|██████████| 38/38 [00:10"
     ]
    },
    {
     "name": "stdout",
     "output_type": "stream",
     "text": [
      "                   all        679       3388      0.916       0.89       0.95      0.581\n"
     ]
    },
    {
     "name": "stderr",
     "output_type": "stream",
     "text": [
      "\n"
     ]
    },
    {
     "name": "stdout",
     "output_type": "stream",
     "text": [
      "\n",
      "      Epoch    GPU_mem   box_loss   cls_loss   dfl_loss  Instances       Size\n"
     ]
    },
    {
     "name": "stderr",
     "output_type": "stream",
     "text": [
      "     10/200      3.98G      2.758      1.472      2.458         17        640: 100%|██████████| 227/227 [01:08<00:00,  \n",
      "                 Class     Images  Instances      Box(P          R      mAP50  mAP50-95): 100%|██████████| 38/38 [00:10"
     ]
    },
    {
     "name": "stdout",
     "output_type": "stream",
     "text": [
      "                   all        679       3388      0.899      0.874       0.94      0.591\n"
     ]
    },
    {
     "name": "stderr",
     "output_type": "stream",
     "text": [
      "\n"
     ]
    },
    {
     "name": "stdout",
     "output_type": "stream",
     "text": [
      "\n",
      "      Epoch    GPU_mem   box_loss   cls_loss   dfl_loss  Instances       Size\n"
     ]
    },
    {
     "name": "stderr",
     "output_type": "stream",
     "text": [
      "     11/200      4.01G      2.725      1.428      2.441         33        640: 100%|██████████| 227/227 [01:08<00:00,  \n",
      "                 Class     Images  Instances      Box(P          R      mAP50  mAP50-95): 100%|██████████| 38/38 [00:10"
     ]
    },
    {
     "name": "stdout",
     "output_type": "stream",
     "text": [
      "                   all        679       3388      0.916      0.876      0.947      0.595\n"
     ]
    },
    {
     "name": "stderr",
     "output_type": "stream",
     "text": [
      "\n"
     ]
    },
    {
     "name": "stdout",
     "output_type": "stream",
     "text": [
      "\n",
      "      Epoch    GPU_mem   box_loss   cls_loss   dfl_loss  Instances       Size\n"
     ]
    },
    {
     "name": "stderr",
     "output_type": "stream",
     "text": [
      "     12/200       3.9G      2.715      1.385      2.427         15        640: 100%|██████████| 227/227 [01:08<00:00,  \n",
      "                 Class     Images  Instances      Box(P          R      mAP50  mAP50-95): 100%|██████████| 38/38 [00:10"
     ]
    },
    {
     "name": "stdout",
     "output_type": "stream",
     "text": [
      "                   all        679       3388      0.929      0.894      0.955      0.603\n"
     ]
    },
    {
     "name": "stderr",
     "output_type": "stream",
     "text": [
      "\n"
     ]
    },
    {
     "name": "stdout",
     "output_type": "stream",
     "text": [
      "\n",
      "      Epoch    GPU_mem   box_loss   cls_loss   dfl_loss  Instances       Size\n"
     ]
    },
    {
     "name": "stderr",
     "output_type": "stream",
     "text": [
      "     13/200      4.04G      2.664      1.374      2.403         18        640: 100%|██████████| 227/227 [01:08<00:00,  \n",
      "                 Class     Images  Instances      Box(P          R      mAP50  mAP50-95): 100%|██████████| 38/38 [00:10"
     ]
    },
    {
     "name": "stdout",
     "output_type": "stream",
     "text": [
      "                   all        679       3388      0.917      0.885      0.948      0.597\n"
     ]
    },
    {
     "name": "stderr",
     "output_type": "stream",
     "text": [
      "\n"
     ]
    },
    {
     "name": "stdout",
     "output_type": "stream",
     "text": [
      "\n",
      "      Epoch    GPU_mem   box_loss   cls_loss   dfl_loss  Instances       Size\n"
     ]
    },
    {
     "name": "stderr",
     "output_type": "stream",
     "text": [
      "     14/200      3.88G      2.652      1.338      2.414          6        640: 100%|██████████| 227/227 [01:08<00:00,  \n",
      "                 Class     Images  Instances      Box(P          R      mAP50  mAP50-95): 100%|██████████| 38/38 [00:10"
     ]
    },
    {
     "name": "stdout",
     "output_type": "stream",
     "text": [
      "                   all        679       3388      0.906      0.889       0.95      0.609\n"
     ]
    },
    {
     "name": "stderr",
     "output_type": "stream",
     "text": [
      "\n"
     ]
    },
    {
     "name": "stdout",
     "output_type": "stream",
     "text": [
      "\n",
      "      Epoch    GPU_mem   box_loss   cls_loss   dfl_loss  Instances       Size\n"
     ]
    },
    {
     "name": "stderr",
     "output_type": "stream",
     "text": [
      "     15/200      3.97G       2.64      1.362      2.391         29        640: 100%|██████████| 227/227 [01:08<00:00,  \n",
      "                 Class     Images  Instances      Box(P          R      mAP50  mAP50-95): 100%|██████████| 38/38 [00:10"
     ]
    },
    {
     "name": "stdout",
     "output_type": "stream",
     "text": [
      "                   all        679       3388      0.914      0.877      0.946      0.599\n"
     ]
    },
    {
     "name": "stderr",
     "output_type": "stream",
     "text": [
      "\n"
     ]
    },
    {
     "name": "stdout",
     "output_type": "stream",
     "text": [
      "\n",
      "      Epoch    GPU_mem   box_loss   cls_loss   dfl_loss  Instances       Size\n"
     ]
    },
    {
     "name": "stderr",
     "output_type": "stream",
     "text": [
      "     16/200      3.97G      2.608      1.315      2.384         31        640: 100%|██████████| 227/227 [01:08<00:00,  \n",
      "                 Class     Images  Instances      Box(P          R      mAP50  mAP50-95): 100%|██████████| 38/38 [00:10"
     ]
    },
    {
     "name": "stdout",
     "output_type": "stream",
     "text": [
      "                   all        679       3388      0.928      0.884      0.954      0.607\n"
     ]
    },
    {
     "name": "stderr",
     "output_type": "stream",
     "text": [
      "\n"
     ]
    },
    {
     "name": "stdout",
     "output_type": "stream",
     "text": [
      "\n",
      "      Epoch    GPU_mem   box_loss   cls_loss   dfl_loss  Instances       Size\n"
     ]
    },
    {
     "name": "stderr",
     "output_type": "stream",
     "text": [
      "     17/200       3.9G      2.588      1.288      2.364         15        640: 100%|██████████| 227/227 [01:08<00:00,  \n",
      "                 Class     Images  Instances      Box(P          R      mAP50  mAP50-95): 100%|██████████| 38/38 [00:10"
     ]
    },
    {
     "name": "stdout",
     "output_type": "stream",
     "text": [
      "                   all        679       3388      0.927      0.882      0.952      0.603\n"
     ]
    },
    {
     "name": "stderr",
     "output_type": "stream",
     "text": [
      "\n"
     ]
    },
    {
     "name": "stdout",
     "output_type": "stream",
     "text": [
      "\n",
      "      Epoch    GPU_mem   box_loss   cls_loss   dfl_loss  Instances       Size\n"
     ]
    },
    {
     "name": "stderr",
     "output_type": "stream",
     "text": [
      "     18/200         4G      2.612      1.296      2.363          3        640: 100%|██████████| 227/227 [01:08<00:00,  \n",
      "                 Class     Images  Instances      Box(P          R      mAP50  mAP50-95): 100%|██████████| 38/38 [00:10"
     ]
    },
    {
     "name": "stdout",
     "output_type": "stream",
     "text": [
      "                   all        679       3388      0.929      0.895      0.957      0.611\n"
     ]
    },
    {
     "name": "stderr",
     "output_type": "stream",
     "text": [
      "\n"
     ]
    },
    {
     "name": "stdout",
     "output_type": "stream",
     "text": [
      "\n",
      "      Epoch    GPU_mem   box_loss   cls_loss   dfl_loss  Instances       Size\n"
     ]
    },
    {
     "name": "stderr",
     "output_type": "stream",
     "text": [
      "     19/200      3.95G      2.576      1.289      2.364         21        640: 100%|██████████| 227/227 [01:07<00:00,  \n",
      "                 Class     Images  Instances      Box(P          R      mAP50  mAP50-95): 100%|██████████| 38/38 [00:09"
     ]
    },
    {
     "name": "stdout",
     "output_type": "stream",
     "text": [
      "                   all        679       3388      0.932      0.885      0.953      0.613\n"
     ]
    },
    {
     "name": "stderr",
     "output_type": "stream",
     "text": [
      "\n"
     ]
    },
    {
     "name": "stdout",
     "output_type": "stream",
     "text": [
      "\n",
      "      Epoch    GPU_mem   box_loss   cls_loss   dfl_loss  Instances       Size\n"
     ]
    },
    {
     "name": "stderr",
     "output_type": "stream",
     "text": [
      "     20/200      3.99G      2.549      1.278      2.345         11        640: 100%|██████████| 227/227 [01:05<00:00,  \n",
      "                 Class     Images  Instances      Box(P          R      mAP50  mAP50-95): 100%|██████████| 38/38 [00:09"
     ]
    },
    {
     "name": "stdout",
     "output_type": "stream",
     "text": [
      "                   all        679       3388      0.911      0.909      0.958      0.617\n"
     ]
    },
    {
     "name": "stderr",
     "output_type": "stream",
     "text": [
      "\n"
     ]
    },
    {
     "name": "stdout",
     "output_type": "stream",
     "text": [
      "\n",
      "      Epoch    GPU_mem   box_loss   cls_loss   dfl_loss  Instances       Size\n"
     ]
    },
    {
     "name": "stderr",
     "output_type": "stream",
     "text": [
      "     21/200      3.86G      2.542      1.267      2.347         35        640: 100%|██████████| 227/227 [01:06<00:00,  \n",
      "                 Class     Images  Instances      Box(P          R      mAP50  mAP50-95): 100%|██████████| 38/38 [00:09"
     ]
    },
    {
     "name": "stdout",
     "output_type": "stream",
     "text": [
      "                   all        679       3388      0.927      0.909      0.959      0.616\n"
     ]
    },
    {
     "name": "stderr",
     "output_type": "stream",
     "text": [
      "\n"
     ]
    },
    {
     "name": "stdout",
     "output_type": "stream",
     "text": [
      "\n",
      "      Epoch    GPU_mem   box_loss   cls_loss   dfl_loss  Instances       Size\n"
     ]
    },
    {
     "name": "stderr",
     "output_type": "stream",
     "text": [
      "     22/200      3.88G       2.52      1.229      2.318         25        640: 100%|██████████| 227/227 [01:05<00:00,  \n",
      "                 Class     Images  Instances      Box(P          R      mAP50  mAP50-95): 100%|██████████| 38/38 [00:09"
     ]
    },
    {
     "name": "stdout",
     "output_type": "stream",
     "text": [
      "                   all        679       3388      0.929      0.891      0.956      0.622\n"
     ]
    },
    {
     "name": "stderr",
     "output_type": "stream",
     "text": [
      "\n"
     ]
    },
    {
     "name": "stdout",
     "output_type": "stream",
     "text": [
      "\n",
      "      Epoch    GPU_mem   box_loss   cls_loss   dfl_loss  Instances       Size\n"
     ]
    },
    {
     "name": "stderr",
     "output_type": "stream",
     "text": [
      "     23/200      3.89G      2.511      1.235      2.331         17        640: 100%|██████████| 227/227 [01:06<00:00,  \n",
      "                 Class     Images  Instances      Box(P          R      mAP50  mAP50-95): 100%|██████████| 38/38 [00:09"
     ]
    },
    {
     "name": "stdout",
     "output_type": "stream",
     "text": [
      "                   all        679       3388      0.919       0.91      0.959      0.621\n"
     ]
    },
    {
     "name": "stderr",
     "output_type": "stream",
     "text": [
      "\n"
     ]
    },
    {
     "name": "stdout",
     "output_type": "stream",
     "text": [
      "\n",
      "      Epoch    GPU_mem   box_loss   cls_loss   dfl_loss  Instances       Size\n"
     ]
    },
    {
     "name": "stderr",
     "output_type": "stream",
     "text": [
      "     24/200      4.01G      2.487      1.218      2.309         18        640: 100%|██████████| 227/227 [01:06<00:00,  \n",
      "                 Class     Images  Instances      Box(P          R      mAP50  mAP50-95): 100%|██████████| 38/38 [00:09"
     ]
    },
    {
     "name": "stdout",
     "output_type": "stream",
     "text": [
      "                   all        679       3388      0.923      0.909      0.959      0.625\n"
     ]
    },
    {
     "name": "stderr",
     "output_type": "stream",
     "text": [
      "\n"
     ]
    },
    {
     "name": "stdout",
     "output_type": "stream",
     "text": [
      "\n",
      "      Epoch    GPU_mem   box_loss   cls_loss   dfl_loss  Instances       Size\n"
     ]
    },
    {
     "name": "stderr",
     "output_type": "stream",
     "text": [
      "     25/200      3.96G      2.446      1.176      2.303         11        640: 100%|██████████| 227/227 [01:05<00:00,  \n",
      "                 Class     Images  Instances      Box(P          R      mAP50  mAP50-95): 100%|██████████| 38/38 [00:09"
     ]
    },
    {
     "name": "stdout",
     "output_type": "stream",
     "text": [
      "                   all        679       3388       0.93      0.908      0.961       0.62\n"
     ]
    },
    {
     "name": "stderr",
     "output_type": "stream",
     "text": [
      "\n"
     ]
    },
    {
     "name": "stdout",
     "output_type": "stream",
     "text": [
      "\n",
      "      Epoch    GPU_mem   box_loss   cls_loss   dfl_loss  Instances       Size\n"
     ]
    },
    {
     "name": "stderr",
     "output_type": "stream",
     "text": [
      "     26/200      3.99G      2.485      1.192      2.304         13        640: 100%|██████████| 227/227 [01:06<00:00,  \n",
      "                 Class     Images  Instances      Box(P          R      mAP50  mAP50-95): 100%|██████████| 38/38 [00:09"
     ]
    },
    {
     "name": "stdout",
     "output_type": "stream",
     "text": [
      "                   all        679       3388      0.925      0.907      0.959      0.622\n"
     ]
    },
    {
     "name": "stderr",
     "output_type": "stream",
     "text": [
      "\n"
     ]
    },
    {
     "name": "stdout",
     "output_type": "stream",
     "text": [
      "\n",
      "      Epoch    GPU_mem   box_loss   cls_loss   dfl_loss  Instances       Size\n"
     ]
    },
    {
     "name": "stderr",
     "output_type": "stream",
     "text": [
      "     27/200      3.98G      2.451      1.173      2.287         14        640: 100%|██████████| 227/227 [01:06<00:00,  \n",
      "                 Class     Images  Instances      Box(P          R      mAP50  mAP50-95): 100%|██████████| 38/38 [00:09"
     ]
    },
    {
     "name": "stdout",
     "output_type": "stream",
     "text": [
      "                   all        679       3388      0.923      0.912       0.96      0.625\n"
     ]
    },
    {
     "name": "stderr",
     "output_type": "stream",
     "text": [
      "\n"
     ]
    },
    {
     "name": "stdout",
     "output_type": "stream",
     "text": [
      "\n",
      "      Epoch    GPU_mem   box_loss   cls_loss   dfl_loss  Instances       Size\n"
     ]
    },
    {
     "name": "stderr",
     "output_type": "stream",
     "text": [
      "     28/200      3.99G      2.452      1.197      2.297         29        640: 100%|██████████| 227/227 [01:05<00:00,  \n",
      "                 Class     Images  Instances      Box(P          R      mAP50  mAP50-95): 100%|██████████| 38/38 [00:09"
     ]
    },
    {
     "name": "stdout",
     "output_type": "stream",
     "text": [
      "                   all        679       3388      0.931      0.911      0.962      0.626\n"
     ]
    },
    {
     "name": "stderr",
     "output_type": "stream",
     "text": [
      "\n"
     ]
    },
    {
     "name": "stdout",
     "output_type": "stream",
     "text": [
      "\n",
      "      Epoch    GPU_mem   box_loss   cls_loss   dfl_loss  Instances       Size\n"
     ]
    },
    {
     "name": "stderr",
     "output_type": "stream",
     "text": [
      "     29/200      3.99G      2.436      1.166      2.278         18        640: 100%|██████████| 227/227 [01:06<00:00,  \n",
      "                 Class     Images  Instances      Box(P          R      mAP50  mAP50-95): 100%|██████████| 38/38 [00:09"
     ]
    },
    {
     "name": "stdout",
     "output_type": "stream",
     "text": [
      "                   all        679       3388      0.939      0.907      0.963      0.626\n"
     ]
    },
    {
     "name": "stderr",
     "output_type": "stream",
     "text": [
      "\n"
     ]
    },
    {
     "name": "stdout",
     "output_type": "stream",
     "text": [
      "\n",
      "      Epoch    GPU_mem   box_loss   cls_loss   dfl_loss  Instances       Size\n"
     ]
    },
    {
     "name": "stderr",
     "output_type": "stream",
     "text": [
      "     30/200      3.99G      2.421      1.151      2.274         12        640: 100%|██████████| 227/227 [01:05<00:00,  \n",
      "                 Class     Images  Instances      Box(P          R      mAP50  mAP50-95): 100%|██████████| 38/38 [00:09"
     ]
    },
    {
     "name": "stdout",
     "output_type": "stream",
     "text": [
      "                   all        679       3388      0.932      0.908      0.964      0.625\n"
     ]
    },
    {
     "name": "stderr",
     "output_type": "stream",
     "text": [
      "\n"
     ]
    },
    {
     "name": "stdout",
     "output_type": "stream",
     "text": [
      "\n",
      "      Epoch    GPU_mem   box_loss   cls_loss   dfl_loss  Instances       Size\n"
     ]
    },
    {
     "name": "stderr",
     "output_type": "stream",
     "text": [
      "     31/200      3.96G      2.413      1.142      2.273         23        640: 100%|██████████| 227/227 [01:05<00:00,  \n",
      "                 Class     Images  Instances      Box(P          R      mAP50  mAP50-95): 100%|██████████| 38/38 [00:09"
     ]
    },
    {
     "name": "stdout",
     "output_type": "stream",
     "text": [
      "                   all        679       3388      0.935      0.907      0.964      0.629\n"
     ]
    },
    {
     "name": "stderr",
     "output_type": "stream",
     "text": [
      "\n"
     ]
    },
    {
     "name": "stdout",
     "output_type": "stream",
     "text": [
      "\n",
      "      Epoch    GPU_mem   box_loss   cls_loss   dfl_loss  Instances       Size\n"
     ]
    },
    {
     "name": "stderr",
     "output_type": "stream",
     "text": [
      "     32/200      3.95G      2.418      1.165      2.266         15        640: 100%|██████████| 227/227 [01:05<00:00,  \n",
      "                 Class     Images  Instances      Box(P          R      mAP50  mAP50-95): 100%|██████████| 38/38 [00:09"
     ]
    },
    {
     "name": "stdout",
     "output_type": "stream",
     "text": [
      "                   all        679       3388      0.932       0.92      0.966      0.629\n"
     ]
    },
    {
     "name": "stderr",
     "output_type": "stream",
     "text": [
      "\n"
     ]
    },
    {
     "name": "stdout",
     "output_type": "stream",
     "text": [
      "\n",
      "      Epoch    GPU_mem   box_loss   cls_loss   dfl_loss  Instances       Size\n"
     ]
    },
    {
     "name": "stderr",
     "output_type": "stream",
     "text": [
      "     33/200      3.88G      2.384      1.129      2.267         11        640: 100%|██████████| 227/227 [01:05<00:00,  \n",
      "                 Class     Images  Instances      Box(P          R      mAP50  mAP50-95): 100%|██████████| 38/38 [00:09"
     ]
    },
    {
     "name": "stdout",
     "output_type": "stream",
     "text": [
      "                   all        679       3388      0.928      0.916      0.966       0.63\n"
     ]
    },
    {
     "name": "stderr",
     "output_type": "stream",
     "text": [
      "\n"
     ]
    },
    {
     "name": "stdout",
     "output_type": "stream",
     "text": [
      "\n",
      "      Epoch    GPU_mem   box_loss   cls_loss   dfl_loss  Instances       Size\n"
     ]
    },
    {
     "name": "stderr",
     "output_type": "stream",
     "text": [
      "     34/200      4.04G       2.36      1.111      2.246         29        640: 100%|██████████| 227/227 [01:05<00:00,  \n",
      "                 Class     Images  Instances      Box(P          R      mAP50  mAP50-95): 100%|██████████| 38/38 [00:09"
     ]
    },
    {
     "name": "stdout",
     "output_type": "stream",
     "text": [
      "                   all        679       3388      0.937      0.919      0.967       0.63\n"
     ]
    },
    {
     "name": "stderr",
     "output_type": "stream",
     "text": [
      "\n"
     ]
    },
    {
     "name": "stdout",
     "output_type": "stream",
     "text": [
      "\n",
      "      Epoch    GPU_mem   box_loss   cls_loss   dfl_loss  Instances       Size\n"
     ]
    },
    {
     "name": "stderr",
     "output_type": "stream",
     "text": [
      "     35/200      4.02G       2.39      1.123      2.248         24        640: 100%|██████████| 227/227 [01:05<00:00,  \n",
      "                 Class     Images  Instances      Box(P          R      mAP50  mAP50-95): 100%|██████████| 38/38 [00:09"
     ]
    },
    {
     "name": "stdout",
     "output_type": "stream",
     "text": [
      "                   all        679       3388      0.936      0.908      0.964       0.63\n"
     ]
    },
    {
     "name": "stderr",
     "output_type": "stream",
     "text": [
      "\n"
     ]
    },
    {
     "name": "stdout",
     "output_type": "stream",
     "text": [
      "\n",
      "      Epoch    GPU_mem   box_loss   cls_loss   dfl_loss  Instances       Size\n"
     ]
    },
    {
     "name": "stderr",
     "output_type": "stream",
     "text": [
      "     36/200      4.02G       2.37      1.128      2.236         17        640: 100%|██████████| 227/227 [01:05<00:00,  \n",
      "                 Class     Images  Instances      Box(P          R      mAP50  mAP50-95): 100%|██████████| 38/38 [00:09"
     ]
    },
    {
     "name": "stdout",
     "output_type": "stream",
     "text": [
      "                   all        679       3388      0.944      0.903      0.964      0.633\n"
     ]
    },
    {
     "name": "stderr",
     "output_type": "stream",
     "text": [
      "\n"
     ]
    },
    {
     "name": "stdout",
     "output_type": "stream",
     "text": [
      "\n",
      "      Epoch    GPU_mem   box_loss   cls_loss   dfl_loss  Instances       Size\n"
     ]
    },
    {
     "name": "stderr",
     "output_type": "stream",
     "text": [
      "     37/200      3.99G      2.334      1.095      2.218         17        640: 100%|██████████| 227/227 [01:05<00:00,  \n",
      "                 Class     Images  Instances      Box(P          R      mAP50  mAP50-95): 100%|██████████| 38/38 [00:09"
     ]
    },
    {
     "name": "stdout",
     "output_type": "stream",
     "text": [
      "                   all        679       3388      0.948      0.906      0.965      0.631\n"
     ]
    },
    {
     "name": "stderr",
     "output_type": "stream",
     "text": [
      "\n"
     ]
    },
    {
     "name": "stdout",
     "output_type": "stream",
     "text": [
      "\n",
      "      Epoch    GPU_mem   box_loss   cls_loss   dfl_loss  Instances       Size\n"
     ]
    },
    {
     "name": "stderr",
     "output_type": "stream",
     "text": [
      "     38/200      4.03G      2.344      1.104      2.236         12        640: 100%|██████████| 227/227 [01:05<00:00,  \n",
      "                 Class     Images  Instances      Box(P          R      mAP50  mAP50-95): 100%|██████████| 38/38 [00:09"
     ]
    },
    {
     "name": "stdout",
     "output_type": "stream",
     "text": [
      "                   all        679       3388      0.937      0.918      0.967       0.63\n"
     ]
    },
    {
     "name": "stderr",
     "output_type": "stream",
     "text": [
      "\n"
     ]
    },
    {
     "name": "stdout",
     "output_type": "stream",
     "text": [
      "\n",
      "      Epoch    GPU_mem   box_loss   cls_loss   dfl_loss  Instances       Size\n"
     ]
    },
    {
     "name": "stderr",
     "output_type": "stream",
     "text": [
      "     39/200      3.97G      2.328      1.083      2.224         13        640: 100%|██████████| 227/227 [01:05<00:00,  \n",
      "                 Class     Images  Instances      Box(P          R      mAP50  mAP50-95): 100%|██████████| 38/38 [00:09"
     ]
    },
    {
     "name": "stdout",
     "output_type": "stream",
     "text": [
      "                   all        679       3388      0.931      0.907      0.965      0.635\n"
     ]
    },
    {
     "name": "stderr",
     "output_type": "stream",
     "text": [
      "\n"
     ]
    },
    {
     "name": "stdout",
     "output_type": "stream",
     "text": [
      "\n",
      "      Epoch    GPU_mem   box_loss   cls_loss   dfl_loss  Instances       Size\n"
     ]
    },
    {
     "name": "stderr",
     "output_type": "stream",
     "text": [
      "     40/200      3.96G       2.34      1.083      2.222          7        640: 100%|██████████| 227/227 [01:05<00:00,  \n",
      "                 Class     Images  Instances      Box(P          R      mAP50  mAP50-95): 100%|██████████| 38/38 [00:09"
     ]
    },
    {
     "name": "stdout",
     "output_type": "stream",
     "text": [
      "                   all        679       3388      0.932      0.911      0.963      0.627\n"
     ]
    },
    {
     "name": "stderr",
     "output_type": "stream",
     "text": [
      "\n"
     ]
    },
    {
     "name": "stdout",
     "output_type": "stream",
     "text": [
      "\n",
      "      Epoch    GPU_mem   box_loss   cls_loss   dfl_loss  Instances       Size\n"
     ]
    },
    {
     "name": "stderr",
     "output_type": "stream",
     "text": [
      "     41/200      4.04G      2.317      1.065      2.199          9        640: 100%|██████████| 227/227 [01:05<00:00,  \n",
      "                 Class     Images  Instances      Box(P          R      mAP50  mAP50-95): 100%|██████████| 38/38 [00:09"
     ]
    },
    {
     "name": "stdout",
     "output_type": "stream",
     "text": [
      "                   all        679       3388      0.937      0.912      0.964       0.63\n"
     ]
    },
    {
     "name": "stderr",
     "output_type": "stream",
     "text": [
      "\n"
     ]
    },
    {
     "name": "stdout",
     "output_type": "stream",
     "text": [
      "\n",
      "      Epoch    GPU_mem   box_loss   cls_loss   dfl_loss  Instances       Size\n"
     ]
    },
    {
     "name": "stderr",
     "output_type": "stream",
     "text": [
      "     42/200      3.98G      2.296      1.081      2.199         31        640: 100%|██████████| 227/227 [01:05<00:00,  \n",
      "                 Class     Images  Instances      Box(P          R      mAP50  mAP50-95): 100%|██████████| 38/38 [00:09"
     ]
    },
    {
     "name": "stdout",
     "output_type": "stream",
     "text": [
      "                   all        679       3388       0.94      0.922       0.97      0.632\n"
     ]
    },
    {
     "name": "stderr",
     "output_type": "stream",
     "text": [
      "\n"
     ]
    },
    {
     "name": "stdout",
     "output_type": "stream",
     "text": [
      "\n",
      "      Epoch    GPU_mem   box_loss   cls_loss   dfl_loss  Instances       Size\n"
     ]
    },
    {
     "name": "stderr",
     "output_type": "stream",
     "text": [
      "     43/200      3.96G      2.279      1.048      2.201         14        640: 100%|██████████| 227/227 [01:05<00:00,  \n",
      "                 Class     Images  Instances      Box(P          R      mAP50  mAP50-95): 100%|██████████| 38/38 [00:09"
     ]
    },
    {
     "name": "stdout",
     "output_type": "stream",
     "text": [
      "                   all        679       3388      0.937      0.921      0.968      0.636\n"
     ]
    },
    {
     "name": "stderr",
     "output_type": "stream",
     "text": [
      "\n"
     ]
    },
    {
     "name": "stdout",
     "output_type": "stream",
     "text": [
      "\n",
      "      Epoch    GPU_mem   box_loss   cls_loss   dfl_loss  Instances       Size\n"
     ]
    },
    {
     "name": "stderr",
     "output_type": "stream",
     "text": [
      "     44/200      3.98G      2.273      1.059      2.205         15        640: 100%|██████████| 227/227 [01:05<00:00,  \n",
      "                 Class     Images  Instances      Box(P          R      mAP50  mAP50-95): 100%|██████████| 38/38 [00:09"
     ]
    },
    {
     "name": "stdout",
     "output_type": "stream",
     "text": [
      "                   all        679       3388      0.939      0.914      0.967      0.636\n"
     ]
    },
    {
     "name": "stderr",
     "output_type": "stream",
     "text": [
      "\n"
     ]
    },
    {
     "name": "stdout",
     "output_type": "stream",
     "text": [
      "\n",
      "      Epoch    GPU_mem   box_loss   cls_loss   dfl_loss  Instances       Size\n"
     ]
    },
    {
     "name": "stderr",
     "output_type": "stream",
     "text": [
      "     45/200      4.05G      2.281      1.055      2.184         18        640: 100%|██████████| 227/227 [01:05<00:00,  \n",
      "                 Class     Images  Instances      Box(P          R      mAP50  mAP50-95): 100%|██████████| 38/38 [00:09"
     ]
    },
    {
     "name": "stdout",
     "output_type": "stream",
     "text": [
      "                   all        679       3388      0.936      0.915      0.965      0.633\n"
     ]
    },
    {
     "name": "stderr",
     "output_type": "stream",
     "text": [
      "\n"
     ]
    },
    {
     "name": "stdout",
     "output_type": "stream",
     "text": [
      "\n",
      "      Epoch    GPU_mem   box_loss   cls_loss   dfl_loss  Instances       Size\n"
     ]
    },
    {
     "name": "stderr",
     "output_type": "stream",
     "text": [
      "     46/200      3.99G      2.258      1.044      2.199         24        640: 100%|██████████| 227/227 [01:06<00:00,  \n",
      "                 Class     Images  Instances      Box(P          R      mAP50  mAP50-95): 100%|██████████| 38/38 [00:09"
     ]
    },
    {
     "name": "stdout",
     "output_type": "stream",
     "text": [
      "                   all        679       3388      0.942      0.908      0.966      0.637\n"
     ]
    },
    {
     "name": "stderr",
     "output_type": "stream",
     "text": [
      "\n"
     ]
    },
    {
     "name": "stdout",
     "output_type": "stream",
     "text": [
      "\n",
      "      Epoch    GPU_mem   box_loss   cls_loss   dfl_loss  Instances       Size\n"
     ]
    },
    {
     "name": "stderr",
     "output_type": "stream",
     "text": [
      "     47/200      3.95G      2.264      1.037      2.187         48        640: 100%|██████████| 227/227 [01:05<00:00,  \n",
      "                 Class     Images  Instances      Box(P          R      mAP50  mAP50-95): 100%|██████████| 38/38 [00:09"
     ]
    },
    {
     "name": "stdout",
     "output_type": "stream",
     "text": [
      "                   all        679       3388      0.943      0.908      0.966      0.634\n"
     ]
    },
    {
     "name": "stderr",
     "output_type": "stream",
     "text": [
      "\n"
     ]
    },
    {
     "name": "stdout",
     "output_type": "stream",
     "text": [
      "\n",
      "      Epoch    GPU_mem   box_loss   cls_loss   dfl_loss  Instances       Size\n"
     ]
    },
    {
     "name": "stderr",
     "output_type": "stream",
     "text": [
      "     48/200      4.05G       2.24      1.038      2.163         22        640: 100%|██████████| 227/227 [01:05<00:00,  \n",
      "                 Class     Images  Instances      Box(P          R      mAP50  mAP50-95): 100%|██████████| 38/38 [00:09"
     ]
    },
    {
     "name": "stdout",
     "output_type": "stream",
     "text": [
      "                   all        679       3388      0.935      0.914      0.966      0.636\n"
     ]
    },
    {
     "name": "stderr",
     "output_type": "stream",
     "text": [
      "\n"
     ]
    },
    {
     "name": "stdout",
     "output_type": "stream",
     "text": [
      "\n",
      "      Epoch    GPU_mem   box_loss   cls_loss   dfl_loss  Instances       Size\n"
     ]
    },
    {
     "name": "stderr",
     "output_type": "stream",
     "text": [
      "     49/200      3.92G      2.257      1.047      2.173         18        640: 100%|██████████| 227/227 [01:06<00:00,  \n",
      "                 Class     Images  Instances      Box(P          R      mAP50  mAP50-95): 100%|██████████| 38/38 [00:09"
     ]
    },
    {
     "name": "stdout",
     "output_type": "stream",
     "text": [
      "                   all        679       3388      0.928      0.925      0.967      0.638\n"
     ]
    },
    {
     "name": "stderr",
     "output_type": "stream",
     "text": [
      "\n"
     ]
    },
    {
     "name": "stdout",
     "output_type": "stream",
     "text": [
      "\n",
      "      Epoch    GPU_mem   box_loss   cls_loss   dfl_loss  Instances       Size\n"
     ]
    },
    {
     "name": "stderr",
     "output_type": "stream",
     "text": [
      "     50/200      3.97G      2.232       1.03      2.183         38        640: 100%|██████████| 227/227 [01:05<00:00,  \n",
      "                 Class     Images  Instances      Box(P          R      mAP50  mAP50-95): 100%|██████████| 38/38 [00:09"
     ]
    },
    {
     "name": "stdout",
     "output_type": "stream",
     "text": [
      "                   all        679       3388      0.948      0.908      0.968      0.642\n"
     ]
    },
    {
     "name": "stderr",
     "output_type": "stream",
     "text": [
      "\n"
     ]
    },
    {
     "name": "stdout",
     "output_type": "stream",
     "text": [
      "\n",
      "      Epoch    GPU_mem   box_loss   cls_loss   dfl_loss  Instances       Size\n"
     ]
    },
    {
     "name": "stderr",
     "output_type": "stream",
     "text": [
      "     51/200      4.01G       2.23      1.016      2.149         12        640: 100%|██████████| 227/227 [01:05<00:00,  \n",
      "                 Class     Images  Instances      Box(P          R      mAP50  mAP50-95): 100%|██████████| 38/38 [00:09"
     ]
    },
    {
     "name": "stdout",
     "output_type": "stream",
     "text": [
      "                   all        679       3388      0.934       0.92      0.968      0.639\n"
     ]
    },
    {
     "name": "stderr",
     "output_type": "stream",
     "text": [
      "\n"
     ]
    },
    {
     "name": "stdout",
     "output_type": "stream",
     "text": [
      "\n",
      "      Epoch    GPU_mem   box_loss   cls_loss   dfl_loss  Instances       Size\n"
     ]
    },
    {
     "name": "stderr",
     "output_type": "stream",
     "text": [
      "     52/200      4.05G       2.19     0.9841      2.165         28        640: 100%|██████████| 227/227 [01:06<00:00,  \n",
      "                 Class     Images  Instances      Box(P          R      mAP50  mAP50-95): 100%|██████████| 38/38 [00:09"
     ]
    },
    {
     "name": "stdout",
     "output_type": "stream",
     "text": [
      "                   all        679       3388      0.944       0.92      0.968      0.636\n"
     ]
    },
    {
     "name": "stderr",
     "output_type": "stream",
     "text": [
      "\n"
     ]
    },
    {
     "name": "stdout",
     "output_type": "stream",
     "text": [
      "\n",
      "      Epoch    GPU_mem   box_loss   cls_loss   dfl_loss  Instances       Size\n"
     ]
    },
    {
     "name": "stderr",
     "output_type": "stream",
     "text": [
      "     53/200      3.85G      2.188     0.9987      2.162         30        640: 100%|██████████| 227/227 [01:05<00:00,  \n",
      "                 Class     Images  Instances      Box(P          R      mAP50  mAP50-95): 100%|██████████| 38/38 [00:09"
     ]
    },
    {
     "name": "stdout",
     "output_type": "stream",
     "text": [
      "                   all        679       3388      0.927      0.922      0.965       0.63\n"
     ]
    },
    {
     "name": "stderr",
     "output_type": "stream",
     "text": [
      "\n"
     ]
    },
    {
     "name": "stdout",
     "output_type": "stream",
     "text": [
      "\n",
      "      Epoch    GPU_mem   box_loss   cls_loss   dfl_loss  Instances       Size\n"
     ]
    },
    {
     "name": "stderr",
     "output_type": "stream",
     "text": [
      "     54/200      3.91G      2.185     0.9839      2.145         22        640: 100%|██████████| 227/227 [01:05<00:00,  \n",
      "                 Class     Images  Instances      Box(P          R      mAP50  mAP50-95): 100%|██████████| 38/38 [00:09"
     ]
    },
    {
     "name": "stdout",
     "output_type": "stream",
     "text": [
      "                   all        679       3388      0.939      0.922       0.97       0.64\n"
     ]
    },
    {
     "name": "stderr",
     "output_type": "stream",
     "text": [
      "\n"
     ]
    },
    {
     "name": "stdout",
     "output_type": "stream",
     "text": [
      "\n",
      "      Epoch    GPU_mem   box_loss   cls_loss   dfl_loss  Instances       Size\n"
     ]
    },
    {
     "name": "stderr",
     "output_type": "stream",
     "text": [
      "     55/200      4.04G      2.171          1      2.139          5        640: 100%|██████████| 227/227 [01:05<00:00,  \n",
      "                 Class     Images  Instances      Box(P          R      mAP50  mAP50-95): 100%|██████████| 38/38 [00:09"
     ]
    },
    {
     "name": "stdout",
     "output_type": "stream",
     "text": [
      "                   all        679       3388      0.928       0.93      0.967      0.632\n"
     ]
    },
    {
     "name": "stderr",
     "output_type": "stream",
     "text": [
      "\n"
     ]
    },
    {
     "name": "stdout",
     "output_type": "stream",
     "text": [
      "\n",
      "      Epoch    GPU_mem   box_loss   cls_loss   dfl_loss  Instances       Size\n"
     ]
    },
    {
     "name": "stderr",
     "output_type": "stream",
     "text": [
      "     56/200         4G      2.153      0.983      2.134         28        640: 100%|██████████| 227/227 [01:05<00:00,  \n",
      "                 Class     Images  Instances      Box(P          R      mAP50  mAP50-95): 100%|██████████| 38/38 [00:09"
     ]
    },
    {
     "name": "stdout",
     "output_type": "stream",
     "text": [
      "                   all        679       3388      0.936      0.919      0.967      0.638\n"
     ]
    },
    {
     "name": "stderr",
     "output_type": "stream",
     "text": [
      "\n"
     ]
    },
    {
     "name": "stdout",
     "output_type": "stream",
     "text": [
      "\n",
      "      Epoch    GPU_mem   box_loss   cls_loss   dfl_loss  Instances       Size\n"
     ]
    },
    {
     "name": "stderr",
     "output_type": "stream",
     "text": [
      "     57/200      3.99G       2.14     0.9597      2.114         20        640: 100%|██████████| 227/227 [01:05<00:00,  \n",
      "                 Class     Images  Instances      Box(P          R      mAP50  mAP50-95): 100%|██████████| 38/38 [00:09"
     ]
    },
    {
     "name": "stdout",
     "output_type": "stream",
     "text": [
      "                   all        679       3388      0.939      0.925      0.968      0.637\n"
     ]
    },
    {
     "name": "stderr",
     "output_type": "stream",
     "text": [
      "\n"
     ]
    },
    {
     "name": "stdout",
     "output_type": "stream",
     "text": [
      "\n",
      "      Epoch    GPU_mem   box_loss   cls_loss   dfl_loss  Instances       Size\n"
     ]
    },
    {
     "name": "stderr",
     "output_type": "stream",
     "text": [
      "     58/200      3.99G      2.159     0.9873      2.134         46        640: 100%|██████████| 227/227 [01:05<00:00,  \n",
      "                 Class     Images  Instances      Box(P          R      mAP50  mAP50-95): 100%|██████████| 38/38 [00:09"
     ]
    },
    {
     "name": "stdout",
     "output_type": "stream",
     "text": [
      "                   all        679       3388      0.939      0.913      0.965      0.631\n"
     ]
    },
    {
     "name": "stderr",
     "output_type": "stream",
     "text": [
      "\n"
     ]
    },
    {
     "name": "stdout",
     "output_type": "stream",
     "text": [
      "\n",
      "      Epoch    GPU_mem   box_loss   cls_loss   dfl_loss  Instances       Size\n"
     ]
    },
    {
     "name": "stderr",
     "output_type": "stream",
     "text": [
      "     59/200      3.88G      2.129     0.9657      2.147         12        640: 100%|██████████| 227/227 [01:05<00:00,  \n",
      "                 Class     Images  Instances      Box(P          R      mAP50  mAP50-95): 100%|██████████| 38/38 [00:09"
     ]
    },
    {
     "name": "stdout",
     "output_type": "stream",
     "text": [
      "                   all        679       3388      0.942      0.915      0.969      0.639\n"
     ]
    },
    {
     "name": "stderr",
     "output_type": "stream",
     "text": [
      "\n"
     ]
    },
    {
     "name": "stdout",
     "output_type": "stream",
     "text": [
      "\n",
      "      Epoch    GPU_mem   box_loss   cls_loss   dfl_loss  Instances       Size\n"
     ]
    },
    {
     "name": "stderr",
     "output_type": "stream",
     "text": [
      "     60/200      4.02G      2.169     0.9835      2.142         11        640: 100%|██████████| 227/227 [01:05<00:00,  \n",
      "                 Class     Images  Instances      Box(P          R      mAP50  mAP50-95): 100%|██████████| 38/38 [00:09"
     ]
    },
    {
     "name": "stdout",
     "output_type": "stream",
     "text": [
      "                   all        679       3388      0.939       0.92      0.967      0.641\n"
     ]
    },
    {
     "name": "stderr",
     "output_type": "stream",
     "text": [
      "\n"
     ]
    },
    {
     "name": "stdout",
     "output_type": "stream",
     "text": [
      "\n",
      "      Epoch    GPU_mem   box_loss   cls_loss   dfl_loss  Instances       Size\n"
     ]
    },
    {
     "name": "stderr",
     "output_type": "stream",
     "text": [
      "     61/200      3.94G      2.129     0.9631      2.116          8        640: 100%|██████████| 227/227 [01:05<00:00,  \n",
      "                 Class     Images  Instances      Box(P          R      mAP50  mAP50-95): 100%|██████████| 38/38 [00:09"
     ]
    },
    {
     "name": "stdout",
     "output_type": "stream",
     "text": [
      "                   all        679       3388      0.933      0.923      0.968      0.639\n"
     ]
    },
    {
     "name": "stderr",
     "output_type": "stream",
     "text": [
      "\n"
     ]
    },
    {
     "name": "stdout",
     "output_type": "stream",
     "text": [
      "\n",
      "      Epoch    GPU_mem   box_loss   cls_loss   dfl_loss  Instances       Size\n"
     ]
    },
    {
     "name": "stderr",
     "output_type": "stream",
     "text": [
      "     62/200      4.03G      2.132     0.9689      2.115         47        640: 100%|██████████| 227/227 [01:05<00:00,  \n",
      "                 Class     Images  Instances      Box(P          R      mAP50  mAP50-95): 100%|██████████| 38/38 [00:09"
     ]
    },
    {
     "name": "stdout",
     "output_type": "stream",
     "text": [
      "                   all        679       3388      0.938      0.917      0.966      0.638\n"
     ]
    },
    {
     "name": "stderr",
     "output_type": "stream",
     "text": [
      "\n"
     ]
    },
    {
     "name": "stdout",
     "output_type": "stream",
     "text": [
      "\n",
      "      Epoch    GPU_mem   box_loss   cls_loss   dfl_loss  Instances       Size\n"
     ]
    },
    {
     "name": "stderr",
     "output_type": "stream",
     "text": [
      "     63/200      4.01G      2.102     0.9445      2.119         10        640: 100%|██████████| 227/227 [01:05<00:00,  \n",
      "                 Class     Images  Instances      Box(P          R      mAP50  mAP50-95): 100%|██████████| 38/38 [00:09"
     ]
    },
    {
     "name": "stdout",
     "output_type": "stream",
     "text": [
      "                   all        679       3388      0.935      0.929      0.967      0.638\n"
     ]
    },
    {
     "name": "stderr",
     "output_type": "stream",
     "text": [
      "\n"
     ]
    },
    {
     "name": "stdout",
     "output_type": "stream",
     "text": [
      "\n",
      "      Epoch    GPU_mem   box_loss   cls_loss   dfl_loss  Instances       Size\n"
     ]
    },
    {
     "name": "stderr",
     "output_type": "stream",
     "text": [
      "     64/200      3.96G      2.113      0.959       2.11         21        640: 100%|██████████| 227/227 [01:05<00:00,  \n",
      "                 Class     Images  Instances      Box(P          R      mAP50  mAP50-95): 100%|██████████| 38/38 [00:09"
     ]
    },
    {
     "name": "stdout",
     "output_type": "stream",
     "text": [
      "                   all        679       3388      0.945      0.915      0.966      0.635\n"
     ]
    },
    {
     "name": "stderr",
     "output_type": "stream",
     "text": [
      "\n"
     ]
    },
    {
     "name": "stdout",
     "output_type": "stream",
     "text": [
      "\n",
      "      Epoch    GPU_mem   box_loss   cls_loss   dfl_loss  Instances       Size\n"
     ]
    },
    {
     "name": "stderr",
     "output_type": "stream",
     "text": [
      "     65/200      3.98G       2.11     0.9596      2.112          6        640: 100%|██████████| 227/227 [01:05<00:00,  \n",
      "                 Class     Images  Instances      Box(P          R      mAP50  mAP50-95): 100%|██████████| 38/38 [00:09"
     ]
    },
    {
     "name": "stdout",
     "output_type": "stream",
     "text": [
      "                   all        679       3388      0.943      0.928       0.97      0.637\n"
     ]
    },
    {
     "name": "stderr",
     "output_type": "stream",
     "text": [
      "\n"
     ]
    },
    {
     "name": "stdout",
     "output_type": "stream",
     "text": [
      "\n",
      "      Epoch    GPU_mem   box_loss   cls_loss   dfl_loss  Instances       Size\n"
     ]
    },
    {
     "name": "stderr",
     "output_type": "stream",
     "text": [
      "     66/200      3.96G      2.092     0.9429        2.1         12        640: 100%|██████████| 227/227 [01:05<00:00,  \n",
      "                 Class     Images  Instances      Box(P          R      mAP50  mAP50-95): 100%|██████████| 38/38 [00:09"
     ]
    },
    {
     "name": "stdout",
     "output_type": "stream",
     "text": [
      "                   all        679       3388      0.938      0.921      0.968      0.639\n"
     ]
    },
    {
     "name": "stderr",
     "output_type": "stream",
     "text": [
      "\n"
     ]
    },
    {
     "name": "stdout",
     "output_type": "stream",
     "text": [
      "\n",
      "      Epoch    GPU_mem   box_loss   cls_loss   dfl_loss  Instances       Size\n"
     ]
    },
    {
     "name": "stderr",
     "output_type": "stream",
     "text": [
      "     67/200      3.97G      2.082     0.9437      2.105         28        640: 100%|██████████| 227/227 [01:06<00:00,  \n",
      "                 Class     Images  Instances      Box(P          R      mAP50  mAP50-95): 100%|██████████| 38/38 [00:09"
     ]
    },
    {
     "name": "stdout",
     "output_type": "stream",
     "text": [
      "                   all        679       3388      0.938      0.924      0.968      0.641\n"
     ]
    },
    {
     "name": "stderr",
     "output_type": "stream",
     "text": [
      "\n"
     ]
    },
    {
     "name": "stdout",
     "output_type": "stream",
     "text": [
      "\n",
      "      Epoch    GPU_mem   box_loss   cls_loss   dfl_loss  Instances       Size\n"
     ]
    },
    {
     "name": "stderr",
     "output_type": "stream",
     "text": [
      "     68/200      3.94G      2.075      0.929      2.092         16        640: 100%|██████████| 227/227 [01:05<00:00,  \n",
      "                 Class     Images  Instances      Box(P          R      mAP50  mAP50-95): 100%|██████████| 38/38 [00:09"
     ]
    },
    {
     "name": "stdout",
     "output_type": "stream",
     "text": [
      "                   all        679       3388      0.942      0.925      0.969      0.643\n"
     ]
    },
    {
     "name": "stderr",
     "output_type": "stream",
     "text": [
      "\n"
     ]
    },
    {
     "name": "stdout",
     "output_type": "stream",
     "text": [
      "\n",
      "      Epoch    GPU_mem   box_loss   cls_loss   dfl_loss  Instances       Size\n"
     ]
    },
    {
     "name": "stderr",
     "output_type": "stream",
     "text": [
      "     69/200      3.99G      2.061     0.9212      2.096          7        640: 100%|██████████| 227/227 [01:05<00:00,  \n",
      "                 Class     Images  Instances      Box(P          R      mAP50  mAP50-95): 100%|██████████| 38/38 [00:09"
     ]
    },
    {
     "name": "stdout",
     "output_type": "stream",
     "text": [
      "                   all        679       3388      0.943      0.918      0.967      0.639\n"
     ]
    },
    {
     "name": "stderr",
     "output_type": "stream",
     "text": [
      "\n"
     ]
    },
    {
     "name": "stdout",
     "output_type": "stream",
     "text": [
      "\n",
      "      Epoch    GPU_mem   box_loss   cls_loss   dfl_loss  Instances       Size\n"
     ]
    },
    {
     "name": "stderr",
     "output_type": "stream",
     "text": [
      "     70/200      4.06G      2.057     0.9172        2.1         37        640: 100%|██████████| 227/227 [01:05<00:00,  \n",
      "                 Class     Images  Instances      Box(P          R      mAP50  mAP50-95): 100%|██████████| 38/38 [00:09"
     ]
    },
    {
     "name": "stdout",
     "output_type": "stream",
     "text": [
      "                   all        679       3388      0.936      0.922      0.968      0.644\n"
     ]
    },
    {
     "name": "stderr",
     "output_type": "stream",
     "text": [
      "\n"
     ]
    },
    {
     "name": "stdout",
     "output_type": "stream",
     "text": [
      "\n",
      "      Epoch    GPU_mem   box_loss   cls_loss   dfl_loss  Instances       Size\n"
     ]
    },
    {
     "name": "stderr",
     "output_type": "stream",
     "text": [
      "     71/200      3.97G      2.042     0.9124      2.078         14        640: 100%|██████████| 227/227 [01:05<00:00,  \n",
      "                 Class     Images  Instances      Box(P          R      mAP50  mAP50-95): 100%|██████████| 38/38 [00:09"
     ]
    },
    {
     "name": "stdout",
     "output_type": "stream",
     "text": [
      "                   all        679       3388       0.94      0.926       0.97       0.64\n"
     ]
    },
    {
     "name": "stderr",
     "output_type": "stream",
     "text": [
      "\n"
     ]
    },
    {
     "name": "stdout",
     "output_type": "stream",
     "text": [
      "\n",
      "      Epoch    GPU_mem   box_loss   cls_loss   dfl_loss  Instances       Size\n"
     ]
    },
    {
     "name": "stderr",
     "output_type": "stream",
     "text": [
      "     72/200         4G      2.047     0.9022      2.074         13        640: 100%|██████████| 227/227 [01:05<00:00,  \n",
      "                 Class     Images  Instances      Box(P          R      mAP50  mAP50-95): 100%|██████████| 38/38 [00:09"
     ]
    },
    {
     "name": "stdout",
     "output_type": "stream",
     "text": [
      "                   all        679       3388      0.947       0.92      0.968      0.643\n"
     ]
    },
    {
     "name": "stderr",
     "output_type": "stream",
     "text": [
      "\n"
     ]
    },
    {
     "name": "stdout",
     "output_type": "stream",
     "text": [
      "\n",
      "      Epoch    GPU_mem   box_loss   cls_loss   dfl_loss  Instances       Size\n"
     ]
    },
    {
     "name": "stderr",
     "output_type": "stream",
     "text": [
      "     73/200      3.88G      2.045     0.9195      2.088         13        640: 100%|██████████| 227/227 [01:05<00:00,  \n",
      "                 Class     Images  Instances      Box(P          R      mAP50  mAP50-95): 100%|██████████| 38/38 [00:09"
     ]
    },
    {
     "name": "stdout",
     "output_type": "stream",
     "text": [
      "                   all        679       3388      0.942      0.924      0.969       0.64\n"
     ]
    },
    {
     "name": "stderr",
     "output_type": "stream",
     "text": [
      "\n"
     ]
    },
    {
     "name": "stdout",
     "output_type": "stream",
     "text": [
      "\n",
      "      Epoch    GPU_mem   box_loss   cls_loss   dfl_loss  Instances       Size\n"
     ]
    },
    {
     "name": "stderr",
     "output_type": "stream",
     "text": [
      "     74/200      3.87G      2.059     0.9178      2.088         23        640: 100%|██████████| 227/227 [01:05<00:00,  \n",
      "                 Class     Images  Instances      Box(P          R      mAP50  mAP50-95): 100%|██████████| 38/38 [00:09"
     ]
    },
    {
     "name": "stdout",
     "output_type": "stream",
     "text": [
      "                   all        679       3388      0.929      0.926      0.967      0.634\n"
     ]
    },
    {
     "name": "stderr",
     "output_type": "stream",
     "text": [
      "\n"
     ]
    },
    {
     "name": "stdout",
     "output_type": "stream",
     "text": [
      "\n",
      "      Epoch    GPU_mem   box_loss   cls_loss   dfl_loss  Instances       Size\n"
     ]
    },
    {
     "name": "stderr",
     "output_type": "stream",
     "text": [
      "     75/200      3.94G      2.043     0.9118      2.078         11        640: 100%|██████████| 227/227 [01:05<00:00,  \n",
      "                 Class     Images  Instances      Box(P          R      mAP50  mAP50-95): 100%|██████████| 38/38 [00:09"
     ]
    },
    {
     "name": "stdout",
     "output_type": "stream",
     "text": [
      "                   all        679       3388      0.942      0.926       0.97      0.643\n"
     ]
    },
    {
     "name": "stderr",
     "output_type": "stream",
     "text": [
      "\n"
     ]
    },
    {
     "name": "stdout",
     "output_type": "stream",
     "text": [
      "\n",
      "      Epoch    GPU_mem   box_loss   cls_loss   dfl_loss  Instances       Size\n"
     ]
    },
    {
     "name": "stderr",
     "output_type": "stream",
     "text": [
      "     76/200      4.03G      2.031     0.9014      2.073         13        640: 100%|██████████| 227/227 [01:05<00:00,  \n",
      "                 Class     Images  Instances      Box(P          R      mAP50  mAP50-95): 100%|██████████| 38/38 [00:09"
     ]
    },
    {
     "name": "stdout",
     "output_type": "stream",
     "text": [
      "                   all        679       3388      0.938      0.932      0.972      0.643\n"
     ]
    },
    {
     "name": "stderr",
     "output_type": "stream",
     "text": [
      "\n"
     ]
    },
    {
     "name": "stdout",
     "output_type": "stream",
     "text": [
      "\n",
      "      Epoch    GPU_mem   box_loss   cls_loss   dfl_loss  Instances       Size\n"
     ]
    },
    {
     "name": "stderr",
     "output_type": "stream",
     "text": [
      "     77/200      3.99G      2.017     0.8928      2.055         20        640: 100%|██████████| 227/227 [01:05<00:00,  \n",
      "                 Class     Images  Instances      Box(P          R      mAP50  mAP50-95): 100%|██████████| 38/38 [00:09"
     ]
    },
    {
     "name": "stdout",
     "output_type": "stream",
     "text": [
      "                   all        679       3388      0.945      0.921      0.969      0.641\n"
     ]
    },
    {
     "name": "stderr",
     "output_type": "stream",
     "text": [
      "\n"
     ]
    },
    {
     "name": "stdout",
     "output_type": "stream",
     "text": [
      "\n",
      "      Epoch    GPU_mem   box_loss   cls_loss   dfl_loss  Instances       Size\n"
     ]
    },
    {
     "name": "stderr",
     "output_type": "stream",
     "text": [
      "     78/200      4.04G      2.011     0.8943      2.053         24        640: 100%|██████████| 227/227 [01:05<00:00,  \n",
      "                 Class     Images  Instances      Box(P          R      mAP50  mAP50-95): 100%|██████████| 38/38 [00:09"
     ]
    },
    {
     "name": "stdout",
     "output_type": "stream",
     "text": [
      "                   all        679       3388      0.941      0.927      0.969      0.642\n"
     ]
    },
    {
     "name": "stderr",
     "output_type": "stream",
     "text": [
      "\n"
     ]
    },
    {
     "name": "stdout",
     "output_type": "stream",
     "text": [
      "\n",
      "      Epoch    GPU_mem   box_loss   cls_loss   dfl_loss  Instances       Size\n"
     ]
    },
    {
     "name": "stderr",
     "output_type": "stream",
     "text": [
      "     79/200      4.01G      1.998     0.8871      2.051         12        640: 100%|██████████| 227/227 [01:05<00:00,  \n",
      "                 Class     Images  Instances      Box(P          R      mAP50  mAP50-95): 100%|██████████| 38/38 [00:09"
     ]
    },
    {
     "name": "stdout",
     "output_type": "stream",
     "text": [
      "                   all        679       3388       0.94      0.928      0.969       0.64\n"
     ]
    },
    {
     "name": "stderr",
     "output_type": "stream",
     "text": [
      "\n"
     ]
    },
    {
     "name": "stdout",
     "output_type": "stream",
     "text": [
      "\n",
      "      Epoch    GPU_mem   box_loss   cls_loss   dfl_loss  Instances       Size\n"
     ]
    },
    {
     "name": "stderr",
     "output_type": "stream",
     "text": [
      "     80/200      4.02G      1.987     0.8928      2.061         24        640: 100%|██████████| 227/227 [01:05<00:00,  \n",
      "                 Class     Images  Instances      Box(P          R      mAP50  mAP50-95): 100%|██████████| 38/38 [00:09"
     ]
    },
    {
     "name": "stdout",
     "output_type": "stream",
     "text": [
      "                   all        679       3388      0.943      0.929       0.97       0.64\n"
     ]
    },
    {
     "name": "stderr",
     "output_type": "stream",
     "text": [
      "\n"
     ]
    },
    {
     "name": "stdout",
     "output_type": "stream",
     "text": [
      "\n",
      "      Epoch    GPU_mem   box_loss   cls_loss   dfl_loss  Instances       Size\n"
     ]
    },
    {
     "name": "stderr",
     "output_type": "stream",
     "text": [
      "     81/200      3.98G      1.967     0.8726      2.054         24        640: 100%|██████████| 227/227 [01:05<00:00,  \n",
      "                 Class     Images  Instances      Box(P          R      mAP50  mAP50-95): 100%|██████████| 38/38 [00:09"
     ]
    },
    {
     "name": "stdout",
     "output_type": "stream",
     "text": [
      "                   all        679       3388      0.947      0.926      0.969      0.639\n"
     ]
    },
    {
     "name": "stderr",
     "output_type": "stream",
     "text": [
      "\n"
     ]
    },
    {
     "name": "stdout",
     "output_type": "stream",
     "text": [
      "\n",
      "      Epoch    GPU_mem   box_loss   cls_loss   dfl_loss  Instances       Size\n"
     ]
    },
    {
     "name": "stderr",
     "output_type": "stream",
     "text": [
      "     82/200      3.97G      1.977     0.8739      2.052         20        640: 100%|██████████| 227/227 [01:05<00:00,  \n",
      "                 Class     Images  Instances      Box(P          R      mAP50  mAP50-95): 100%|██████████| 38/38 [00:09"
     ]
    },
    {
     "name": "stdout",
     "output_type": "stream",
     "text": [
      "                   all        679       3388       0.94      0.925      0.967       0.64\n"
     ]
    },
    {
     "name": "stderr",
     "output_type": "stream",
     "text": [
      "\n"
     ]
    },
    {
     "name": "stdout",
     "output_type": "stream",
     "text": [
      "\n",
      "      Epoch    GPU_mem   box_loss   cls_loss   dfl_loss  Instances       Size\n"
     ]
    },
    {
     "name": "stderr",
     "output_type": "stream",
     "text": [
      "     83/200      3.99G      1.985     0.8821      2.041         19        640: 100%|██████████| 227/227 [01:05<00:00,  \n",
      "                 Class     Images  Instances      Box(P          R      mAP50  mAP50-95): 100%|██████████| 38/38 [00:09"
     ]
    },
    {
     "name": "stdout",
     "output_type": "stream",
     "text": [
      "                   all        679       3388      0.946      0.915      0.968      0.641\n"
     ]
    },
    {
     "name": "stderr",
     "output_type": "stream",
     "text": [
      "\n"
     ]
    },
    {
     "name": "stdout",
     "output_type": "stream",
     "text": [
      "\n",
      "      Epoch    GPU_mem   box_loss   cls_loss   dfl_loss  Instances       Size\n"
     ]
    },
    {
     "name": "stderr",
     "output_type": "stream",
     "text": [
      "     84/200      3.93G       1.95     0.8611      2.039         12        640: 100%|██████████| 227/227 [01:05<00:00,  \n",
      "                 Class     Images  Instances      Box(P          R      mAP50  mAP50-95): 100%|██████████| 38/38 [00:09"
     ]
    },
    {
     "name": "stdout",
     "output_type": "stream",
     "text": [
      "                   all        679       3388      0.948      0.924      0.969      0.639\n"
     ]
    },
    {
     "name": "stderr",
     "output_type": "stream",
     "text": [
      "\n"
     ]
    },
    {
     "name": "stdout",
     "output_type": "stream",
     "text": [
      "\n",
      "      Epoch    GPU_mem   box_loss   cls_loss   dfl_loss  Instances       Size\n"
     ]
    },
    {
     "name": "stderr",
     "output_type": "stream",
     "text": [
      "     85/200      3.91G      1.979     0.8819      2.035         17        640: 100%|██████████| 227/227 [01:05<00:00,  \n",
      "                 Class     Images  Instances      Box(P          R      mAP50  mAP50-95): 100%|██████████| 38/38 [00:09"
     ]
    },
    {
     "name": "stdout",
     "output_type": "stream",
     "text": [
      "                   all        679       3388      0.936      0.927      0.967      0.639\n"
     ]
    },
    {
     "name": "stderr",
     "output_type": "stream",
     "text": [
      "\n"
     ]
    },
    {
     "name": "stdout",
     "output_type": "stream",
     "text": [
      "\n",
      "      Epoch    GPU_mem   box_loss   cls_loss   dfl_loss  Instances       Size\n"
     ]
    },
    {
     "name": "stderr",
     "output_type": "stream",
     "text": [
      "     86/200         4G      1.975     0.8874      2.051         37        640: 100%|██████████| 227/227 [01:05<00:00,  \n",
      "                 Class     Images  Instances      Box(P          R      mAP50  mAP50-95): 100%|██████████| 38/38 [00:09"
     ]
    },
    {
     "name": "stdout",
     "output_type": "stream",
     "text": [
      "                   all        679       3388      0.938      0.923      0.968      0.638\n"
     ]
    },
    {
     "name": "stderr",
     "output_type": "stream",
     "text": [
      "\n"
     ]
    },
    {
     "name": "stdout",
     "output_type": "stream",
     "text": [
      "\n",
      "      Epoch    GPU_mem   box_loss   cls_loss   dfl_loss  Instances       Size\n"
     ]
    },
    {
     "name": "stderr",
     "output_type": "stream",
     "text": [
      "     87/200      3.99G      1.965     0.8758      2.038         24        640: 100%|██████████| 227/227 [01:05<00:00,  \n",
      "                 Class     Images  Instances      Box(P          R      mAP50  mAP50-95): 100%|██████████| 38/38 [00:09"
     ]
    },
    {
     "name": "stdout",
     "output_type": "stream",
     "text": [
      "                   all        679       3388      0.956      0.911      0.967      0.642\n"
     ]
    },
    {
     "name": "stderr",
     "output_type": "stream",
     "text": [
      "\n"
     ]
    },
    {
     "name": "stdout",
     "output_type": "stream",
     "text": [
      "\n",
      "      Epoch    GPU_mem   box_loss   cls_loss   dfl_loss  Instances       Size\n"
     ]
    },
    {
     "name": "stderr",
     "output_type": "stream",
     "text": [
      "     88/200      3.98G      1.934     0.8719      2.037         14        640: 100%|██████████| 227/227 [01:05<00:00,  \n",
      "                 Class     Images  Instances      Box(P          R      mAP50  mAP50-95): 100%|██████████| 38/38 [00:09"
     ]
    },
    {
     "name": "stdout",
     "output_type": "stream",
     "text": [
      "                   all        679       3388       0.95      0.919       0.97       0.64\n"
     ]
    },
    {
     "name": "stderr",
     "output_type": "stream",
     "text": [
      "\n"
     ]
    },
    {
     "name": "stdout",
     "output_type": "stream",
     "text": [
      "\n",
      "      Epoch    GPU_mem   box_loss   cls_loss   dfl_loss  Instances       Size\n"
     ]
    },
    {
     "name": "stderr",
     "output_type": "stream",
     "text": [
      "     89/200      3.96G      1.938     0.8593       2.02         12        640: 100%|██████████| 227/227 [01:05<00:00,  \n",
      "                 Class     Images  Instances      Box(P          R      mAP50  mAP50-95): 100%|██████████| 38/38 [00:09"
     ]
    },
    {
     "name": "stdout",
     "output_type": "stream",
     "text": [
      "                   all        679       3388      0.957      0.916       0.97      0.642\n"
     ]
    },
    {
     "name": "stderr",
     "output_type": "stream",
     "text": [
      "\n"
     ]
    },
    {
     "name": "stdout",
     "output_type": "stream",
     "text": [
      "\n",
      "      Epoch    GPU_mem   box_loss   cls_loss   dfl_loss  Instances       Size\n"
     ]
    },
    {
     "name": "stderr",
     "output_type": "stream",
     "text": [
      "     90/200         4G       1.93     0.8518      2.023         19        640: 100%|██████████| 227/227 [01:05<00:00,  \n",
      "                 Class     Images  Instances      Box(P          R      mAP50  mAP50-95): 100%|██████████| 38/38 [00:09"
     ]
    },
    {
     "name": "stdout",
     "output_type": "stream",
     "text": [
      "                   all        679       3388      0.942      0.928      0.969      0.644\n"
     ]
    },
    {
     "name": "stderr",
     "output_type": "stream",
     "text": [
      "\n"
     ]
    },
    {
     "name": "stdout",
     "output_type": "stream",
     "text": [
      "\n",
      "      Epoch    GPU_mem   box_loss   cls_loss   dfl_loss  Instances       Size\n"
     ]
    },
    {
     "name": "stderr",
     "output_type": "stream",
     "text": [
      "     91/200      4.04G       1.94     0.8522      2.029         16        640: 100%|██████████| 227/227 [01:05<00:00,  \n",
      "                 Class     Images  Instances      Box(P          R      mAP50  mAP50-95): 100%|██████████| 38/38 [00:09"
     ]
    },
    {
     "name": "stdout",
     "output_type": "stream",
     "text": [
      "                   all        679       3388      0.943      0.926      0.968       0.64\n"
     ]
    },
    {
     "name": "stderr",
     "output_type": "stream",
     "text": [
      "\n"
     ]
    },
    {
     "name": "stdout",
     "output_type": "stream",
     "text": [
      "\n",
      "      Epoch    GPU_mem   box_loss   cls_loss   dfl_loss  Instances       Size\n"
     ]
    },
    {
     "name": "stderr",
     "output_type": "stream",
     "text": [
      "     92/200      3.98G      1.932     0.8513      2.035          6        640: 100%|██████████| 227/227 [01:05<00:00,  \n",
      "                 Class     Images  Instances      Box(P          R      mAP50  mAP50-95): 100%|██████████| 38/38 [00:09"
     ]
    },
    {
     "name": "stdout",
     "output_type": "stream",
     "text": [
      "                   all        679       3388      0.947      0.924      0.968      0.639\n"
     ]
    },
    {
     "name": "stderr",
     "output_type": "stream",
     "text": [
      "\n"
     ]
    },
    {
     "name": "stdout",
     "output_type": "stream",
     "text": [
      "\n",
      "      Epoch    GPU_mem   box_loss   cls_loss   dfl_loss  Instances       Size\n"
     ]
    },
    {
     "name": "stderr",
     "output_type": "stream",
     "text": [
      "     93/200      3.92G      1.921     0.8551      2.016         11        640: 100%|██████████| 227/227 [01:05<00:00,  \n",
      "                 Class     Images  Instances      Box(P          R      mAP50  mAP50-95): 100%|██████████| 38/38 [00:09"
     ]
    },
    {
     "name": "stdout",
     "output_type": "stream",
     "text": [
      "                   all        679       3388      0.939      0.926      0.969      0.642\n"
     ]
    },
    {
     "name": "stderr",
     "output_type": "stream",
     "text": [
      "\n"
     ]
    },
    {
     "name": "stdout",
     "output_type": "stream",
     "text": [
      "\n",
      "      Epoch    GPU_mem   box_loss   cls_loss   dfl_loss  Instances       Size\n"
     ]
    },
    {
     "name": "stderr",
     "output_type": "stream",
     "text": [
      "     94/200      3.97G      1.895     0.8362      2.021         36        640: 100%|██████████| 227/227 [01:05<00:00,  \n",
      "                 Class     Images  Instances      Box(P          R      mAP50  mAP50-95): 100%|██████████| 38/38 [00:09"
     ]
    },
    {
     "name": "stdout",
     "output_type": "stream",
     "text": [
      "                   all        679       3388      0.945      0.925      0.969      0.644\n"
     ]
    },
    {
     "name": "stderr",
     "output_type": "stream",
     "text": [
      "\n"
     ]
    },
    {
     "name": "stdout",
     "output_type": "stream",
     "text": [
      "\n",
      "      Epoch    GPU_mem   box_loss   cls_loss   dfl_loss  Instances       Size\n"
     ]
    },
    {
     "name": "stderr",
     "output_type": "stream",
     "text": [
      "     95/200      4.03G      1.885     0.8322      2.019         38        640: 100%|██████████| 227/227 [01:05<00:00,  \n",
      "                 Class     Images  Instances      Box(P          R      mAP50  mAP50-95): 100%|██████████| 38/38 [00:09"
     ]
    },
    {
     "name": "stdout",
     "output_type": "stream",
     "text": [
      "                   all        679       3388      0.945      0.926       0.97      0.646\n"
     ]
    },
    {
     "name": "stderr",
     "output_type": "stream",
     "text": [
      "\n"
     ]
    },
    {
     "name": "stdout",
     "output_type": "stream",
     "text": [
      "\n",
      "      Epoch    GPU_mem   box_loss   cls_loss   dfl_loss  Instances       Size\n"
     ]
    },
    {
     "name": "stderr",
     "output_type": "stream",
     "text": [
      "     96/200      3.98G        1.9     0.8462      2.011         15        640: 100%|██████████| 227/227 [01:05<00:00,  \n",
      "                 Class     Images  Instances      Box(P          R      mAP50  mAP50-95): 100%|██████████| 38/38 [00:09"
     ]
    },
    {
     "name": "stdout",
     "output_type": "stream",
     "text": [
      "                   all        679       3388      0.937      0.932      0.969      0.641\n"
     ]
    },
    {
     "name": "stderr",
     "output_type": "stream",
     "text": [
      "\n"
     ]
    },
    {
     "name": "stdout",
     "output_type": "stream",
     "text": [
      "\n",
      "      Epoch    GPU_mem   box_loss   cls_loss   dfl_loss  Instances       Size\n"
     ]
    },
    {
     "name": "stderr",
     "output_type": "stream",
     "text": [
      "     97/200      3.98G      1.885     0.8319      2.008          9        640: 100%|██████████| 227/227 [01:05<00:00,  \n",
      "                 Class     Images  Instances      Box(P          R      mAP50  mAP50-95): 100%|██████████| 38/38 [00:09"
     ]
    },
    {
     "name": "stdout",
     "output_type": "stream",
     "text": [
      "                   all        679       3388      0.945      0.924      0.968      0.641\n"
     ]
    },
    {
     "name": "stderr",
     "output_type": "stream",
     "text": [
      "\n"
     ]
    },
    {
     "name": "stdout",
     "output_type": "stream",
     "text": [
      "\n",
      "      Epoch    GPU_mem   box_loss   cls_loss   dfl_loss  Instances       Size\n"
     ]
    },
    {
     "name": "stderr",
     "output_type": "stream",
     "text": [
      "     98/200      3.98G      1.894     0.8388      2.008         30        640: 100%|██████████| 227/227 [01:05<00:00,  \n",
      "                 Class     Images  Instances      Box(P          R      mAP50  mAP50-95): 100%|██████████| 38/38 [00:09"
     ]
    },
    {
     "name": "stdout",
     "output_type": "stream",
     "text": [
      "                   all        679       3388      0.944      0.924      0.968      0.645\n"
     ]
    },
    {
     "name": "stderr",
     "output_type": "stream",
     "text": [
      "\n"
     ]
    },
    {
     "name": "stdout",
     "output_type": "stream",
     "text": [
      "\n",
      "      Epoch    GPU_mem   box_loss   cls_loss   dfl_loss  Instances       Size\n"
     ]
    },
    {
     "name": "stderr",
     "output_type": "stream",
     "text": [
      "     99/200      3.97G      1.872     0.8271      1.999         21        640: 100%|██████████| 227/227 [01:05<00:00,  \n",
      "                 Class     Images  Instances      Box(P          R      mAP50  mAP50-95): 100%|██████████| 38/38 [00:09"
     ]
    },
    {
     "name": "stdout",
     "output_type": "stream",
     "text": [
      "                   all        679       3388      0.938      0.932       0.97      0.643\n"
     ]
    },
    {
     "name": "stderr",
     "output_type": "stream",
     "text": [
      "\n"
     ]
    },
    {
     "name": "stdout",
     "output_type": "stream",
     "text": [
      "\n",
      "      Epoch    GPU_mem   box_loss   cls_loss   dfl_loss  Instances       Size\n"
     ]
    },
    {
     "name": "stderr",
     "output_type": "stream",
     "text": [
      "    100/200      3.98G      1.897     0.8383      2.015          8        640: 100%|██████████| 227/227 [01:05<00:00,  \n",
      "                 Class     Images  Instances      Box(P          R      mAP50  mAP50-95): 100%|██████████| 38/38 [00:09"
     ]
    },
    {
     "name": "stdout",
     "output_type": "stream",
     "text": [
      "                   all        679       3388      0.948      0.922      0.968      0.643\n"
     ]
    },
    {
     "name": "stderr",
     "output_type": "stream",
     "text": [
      "\n"
     ]
    },
    {
     "name": "stdout",
     "output_type": "stream",
     "text": [
      "\n",
      "      Epoch    GPU_mem   box_loss   cls_loss   dfl_loss  Instances       Size\n"
     ]
    },
    {
     "name": "stderr",
     "output_type": "stream",
     "text": [
      "    101/200      3.88G      1.877     0.8343      2.008         17        640: 100%|██████████| 227/227 [01:05<00:00,  \n",
      "                 Class     Images  Instances      Box(P          R      mAP50  mAP50-95): 100%|██████████| 38/38 [00:09"
     ]
    },
    {
     "name": "stdout",
     "output_type": "stream",
     "text": [
      "                   all        679       3388      0.949       0.92       0.97       0.64\n"
     ]
    },
    {
     "name": "stderr",
     "output_type": "stream",
     "text": [
      "\n"
     ]
    },
    {
     "name": "stdout",
     "output_type": "stream",
     "text": [
      "\n",
      "      Epoch    GPU_mem   box_loss   cls_loss   dfl_loss  Instances       Size\n"
     ]
    },
    {
     "name": "stderr",
     "output_type": "stream",
     "text": [
      "    102/200      3.93G      1.873     0.8148      1.991         24        640: 100%|██████████| 227/227 [01:05<00:00,  \n",
      "                 Class     Images  Instances      Box(P          R      mAP50  mAP50-95): 100%|██████████| 38/38 [00:09"
     ]
    },
    {
     "name": "stdout",
     "output_type": "stream",
     "text": [
      "                   all        679       3388      0.945      0.924       0.97      0.645\n"
     ]
    },
    {
     "name": "stderr",
     "output_type": "stream",
     "text": [
      "\n"
     ]
    },
    {
     "name": "stdout",
     "output_type": "stream",
     "text": [
      "\n",
      "      Epoch    GPU_mem   box_loss   cls_loss   dfl_loss  Instances       Size\n"
     ]
    },
    {
     "name": "stderr",
     "output_type": "stream",
     "text": [
      "    103/200      3.87G      1.863     0.8276      2.003         18        640: 100%|██████████| 227/227 [01:05<00:00,  \n",
      "                 Class     Images  Instances      Box(P          R      mAP50  mAP50-95): 100%|██████████| 38/38 [00:09"
     ]
    },
    {
     "name": "stdout",
     "output_type": "stream",
     "text": [
      "                   all        679       3388      0.949      0.921       0.97      0.643\n"
     ]
    },
    {
     "name": "stderr",
     "output_type": "stream",
     "text": [
      "\n"
     ]
    },
    {
     "name": "stdout",
     "output_type": "stream",
     "text": [
      "\n",
      "      Epoch    GPU_mem   box_loss   cls_loss   dfl_loss  Instances       Size\n"
     ]
    },
    {
     "name": "stderr",
     "output_type": "stream",
     "text": [
      "    104/200      3.98G      1.852     0.8076      1.976         22        640: 100%|██████████| 227/227 [01:05<00:00,  \n",
      "                 Class     Images  Instances      Box(P          R      mAP50  mAP50-95): 100%|██████████| 38/38 [00:09"
     ]
    },
    {
     "name": "stdout",
     "output_type": "stream",
     "text": [
      "                   all        679       3388      0.949      0.929      0.971      0.644\n"
     ]
    },
    {
     "name": "stderr",
     "output_type": "stream",
     "text": [
      "\n"
     ]
    },
    {
     "name": "stdout",
     "output_type": "stream",
     "text": [
      "\n",
      "      Epoch    GPU_mem   box_loss   cls_loss   dfl_loss  Instances       Size\n"
     ]
    },
    {
     "name": "stderr",
     "output_type": "stream",
     "text": [
      "    105/200      3.98G      1.827     0.8056      1.985         21        640: 100%|██████████| 227/227 [01:05<00:00,  \n",
      "                 Class     Images  Instances      Box(P          R      mAP50  mAP50-95): 100%|██████████| 38/38 [00:09"
     ]
    },
    {
     "name": "stdout",
     "output_type": "stream",
     "text": [
      "                   all        679       3388      0.945      0.924       0.97      0.641\n"
     ]
    },
    {
     "name": "stderr",
     "output_type": "stream",
     "text": [
      "\n"
     ]
    },
    {
     "name": "stdout",
     "output_type": "stream",
     "text": [
      "\n",
      "      Epoch    GPU_mem   box_loss   cls_loss   dfl_loss  Instances       Size\n"
     ]
    },
    {
     "name": "stderr",
     "output_type": "stream",
     "text": [
      "    106/200      3.97G      1.838     0.8135      1.981         17        640: 100%|██████████| 227/227 [01:05<00:00,  \n",
      "                 Class     Images  Instances      Box(P          R      mAP50  mAP50-95): 100%|██████████| 38/38 [00:09"
     ]
    },
    {
     "name": "stdout",
     "output_type": "stream",
     "text": [
      "                   all        679       3388      0.947      0.921      0.969      0.646\n"
     ]
    },
    {
     "name": "stderr",
     "output_type": "stream",
     "text": [
      "\n"
     ]
    },
    {
     "name": "stdout",
     "output_type": "stream",
     "text": [
      "\n",
      "      Epoch    GPU_mem   box_loss   cls_loss   dfl_loss  Instances       Size\n"
     ]
    },
    {
     "name": "stderr",
     "output_type": "stream",
     "text": [
      "    107/200      4.03G      1.839     0.8086      1.988         11        640: 100%|██████████| 227/227 [01:05<00:00,  \n",
      "                 Class     Images  Instances      Box(P          R      mAP50  mAP50-95): 100%|██████████| 38/38 [00:09"
     ]
    },
    {
     "name": "stdout",
     "output_type": "stream",
     "text": [
      "                   all        679       3388      0.948      0.923       0.97      0.644\n"
     ]
    },
    {
     "name": "stderr",
     "output_type": "stream",
     "text": [
      "\n"
     ]
    },
    {
     "name": "stdout",
     "output_type": "stream",
     "text": [
      "\n",
      "      Epoch    GPU_mem   box_loss   cls_loss   dfl_loss  Instances       Size\n"
     ]
    },
    {
     "name": "stderr",
     "output_type": "stream",
     "text": [
      "    108/200       3.9G      1.849     0.8237      1.981          1        640: 100%|██████████| 227/227 [01:06<00:00,  \n",
      "                 Class     Images  Instances      Box(P          R      mAP50  mAP50-95): 100%|██████████| 38/38 [00:09"
     ]
    },
    {
     "name": "stdout",
     "output_type": "stream",
     "text": [
      "                   all        679       3388       0.94      0.926      0.968      0.642\n"
     ]
    },
    {
     "name": "stderr",
     "output_type": "stream",
     "text": [
      "\n"
     ]
    },
    {
     "name": "stdout",
     "output_type": "stream",
     "text": [
      "\n",
      "      Epoch    GPU_mem   box_loss   cls_loss   dfl_loss  Instances       Size\n"
     ]
    },
    {
     "name": "stderr",
     "output_type": "stream",
     "text": [
      "    109/200      3.94G      1.845     0.8167      1.993         17        640: 100%|██████████| 227/227 [01:05<00:00,  \n",
      "                 Class     Images  Instances      Box(P          R      mAP50  mAP50-95): 100%|██████████| 38/38 [00:09"
     ]
    },
    {
     "name": "stdout",
     "output_type": "stream",
     "text": [
      "                   all        679       3388      0.949      0.917      0.968      0.646\n"
     ]
    },
    {
     "name": "stderr",
     "output_type": "stream",
     "text": [
      "\n"
     ]
    },
    {
     "name": "stdout",
     "output_type": "stream",
     "text": [
      "\n",
      "      Epoch    GPU_mem   box_loss   cls_loss   dfl_loss  Instances       Size\n"
     ]
    },
    {
     "name": "stderr",
     "output_type": "stream",
     "text": [
      "    110/200      3.84G      1.828     0.7934      1.968         30        640: 100%|██████████| 227/227 [01:05<00:00,  \n",
      "                 Class     Images  Instances      Box(P          R      mAP50  mAP50-95): 100%|██████████| 38/38 [00:09"
     ]
    },
    {
     "name": "stdout",
     "output_type": "stream",
     "text": [
      "                   all        679       3388      0.946      0.928       0.97      0.645\n"
     ]
    },
    {
     "name": "stderr",
     "output_type": "stream",
     "text": [
      "\n"
     ]
    },
    {
     "name": "stdout",
     "output_type": "stream",
     "text": [
      "\n",
      "      Epoch    GPU_mem   box_loss   cls_loss   dfl_loss  Instances       Size\n"
     ]
    },
    {
     "name": "stderr",
     "output_type": "stream",
     "text": [
      "    111/200      4.05G      1.823     0.7977      1.976          6        640: 100%|██████████| 227/227 [01:05<00:00,  \n",
      "                 Class     Images  Instances      Box(P          R      mAP50  mAP50-95): 100%|██████████| 38/38 [00:09"
     ]
    },
    {
     "name": "stdout",
     "output_type": "stream",
     "text": [
      "                   all        679       3388      0.947      0.923      0.969      0.643\n"
     ]
    },
    {
     "name": "stderr",
     "output_type": "stream",
     "text": [
      "\n"
     ]
    },
    {
     "name": "stdout",
     "output_type": "stream",
     "text": [
      "\n",
      "      Epoch    GPU_mem   box_loss   cls_loss   dfl_loss  Instances       Size\n"
     ]
    },
    {
     "name": "stderr",
     "output_type": "stream",
     "text": [
      "    112/200      3.97G      1.809     0.7955      1.972          9        640: 100%|██████████| 227/227 [01:05<00:00,  \n",
      "                 Class     Images  Instances      Box(P          R      mAP50  mAP50-95): 100%|██████████| 38/38 [00:09"
     ]
    },
    {
     "name": "stdout",
     "output_type": "stream",
     "text": [
      "                   all        679       3388      0.941       0.93      0.969      0.647\n"
     ]
    },
    {
     "name": "stderr",
     "output_type": "stream",
     "text": [
      "\n"
     ]
    },
    {
     "name": "stdout",
     "output_type": "stream",
     "text": [
      "\n",
      "      Epoch    GPU_mem   box_loss   cls_loss   dfl_loss  Instances       Size\n"
     ]
    },
    {
     "name": "stderr",
     "output_type": "stream",
     "text": [
      "    113/200      4.03G      1.829     0.8034      1.981         13        640: 100%|██████████| 227/227 [01:05<00:00,  \n",
      "                 Class     Images  Instances      Box(P          R      mAP50  mAP50-95): 100%|██████████| 38/38 [00:09"
     ]
    },
    {
     "name": "stdout",
     "output_type": "stream",
     "text": [
      "                   all        679       3388      0.942      0.921      0.968      0.642\n"
     ]
    },
    {
     "name": "stderr",
     "output_type": "stream",
     "text": [
      "\n"
     ]
    },
    {
     "name": "stdout",
     "output_type": "stream",
     "text": [
      "\n",
      "      Epoch    GPU_mem   box_loss   cls_loss   dfl_loss  Instances       Size\n"
     ]
    },
    {
     "name": "stderr",
     "output_type": "stream",
     "text": [
      "    114/200      3.99G      1.808     0.7965      1.981         10        640: 100%|██████████| 227/227 [01:05<00:00,  \n",
      "                 Class     Images  Instances      Box(P          R      mAP50  mAP50-95): 100%|██████████| 38/38 [00:09"
     ]
    },
    {
     "name": "stdout",
     "output_type": "stream",
     "text": [
      "                   all        679       3388       0.94      0.925      0.969      0.642\n"
     ]
    },
    {
     "name": "stderr",
     "output_type": "stream",
     "text": [
      "\n"
     ]
    },
    {
     "name": "stdout",
     "output_type": "stream",
     "text": [
      "\n",
      "      Epoch    GPU_mem   box_loss   cls_loss   dfl_loss  Instances       Size\n"
     ]
    },
    {
     "name": "stderr",
     "output_type": "stream",
     "text": [
      "    115/200      4.04G      1.807     0.7835      1.962         41        640: 100%|██████████| 227/227 [01:05<00:00,  \n",
      "                 Class     Images  Instances      Box(P          R      mAP50  mAP50-95): 100%|██████████| 38/38 [00:09"
     ]
    },
    {
     "name": "stdout",
     "output_type": "stream",
     "text": [
      "                   all        679       3388      0.946      0.923      0.968      0.641\n"
     ]
    },
    {
     "name": "stderr",
     "output_type": "stream",
     "text": [
      "\n"
     ]
    },
    {
     "name": "stdout",
     "output_type": "stream",
     "text": [
      "\n",
      "      Epoch    GPU_mem   box_loss   cls_loss   dfl_loss  Instances       Size\n"
     ]
    },
    {
     "name": "stderr",
     "output_type": "stream",
     "text": [
      "    116/200      4.04G      1.801     0.7901      1.966         29        640: 100%|██████████| 227/227 [01:05<00:00,  \n",
      "                 Class     Images  Instances      Box(P          R      mAP50  mAP50-95): 100%|██████████| 38/38 [00:09"
     ]
    },
    {
     "name": "stdout",
     "output_type": "stream",
     "text": [
      "                   all        679       3388      0.945      0.926      0.969      0.642\n"
     ]
    },
    {
     "name": "stderr",
     "output_type": "stream",
     "text": [
      "\n"
     ]
    },
    {
     "name": "stdout",
     "output_type": "stream",
     "text": [
      "\n",
      "      Epoch    GPU_mem   box_loss   cls_loss   dfl_loss  Instances       Size\n"
     ]
    },
    {
     "name": "stderr",
     "output_type": "stream",
     "text": [
      "    117/200      3.97G      1.776     0.7762      1.956         14        640: 100%|██████████| 227/227 [01:05<00:00,  \n",
      "                 Class     Images  Instances      Box(P          R      mAP50  mAP50-95): 100%|██████████| 38/38 [00:09"
     ]
    },
    {
     "name": "stdout",
     "output_type": "stream",
     "text": [
      "                   all        679       3388      0.952      0.921      0.968      0.639\n"
     ]
    },
    {
     "name": "stderr",
     "output_type": "stream",
     "text": [
      "\n"
     ]
    },
    {
     "name": "stdout",
     "output_type": "stream",
     "text": [
      "\n",
      "      Epoch    GPU_mem   box_loss   cls_loss   dfl_loss  Instances       Size\n"
     ]
    },
    {
     "name": "stderr",
     "output_type": "stream",
     "text": [
      "    118/200      4.04G      1.797     0.7963      1.964         29        640: 100%|██████████| 227/227 [01:05<00:00,  \n",
      "                 Class     Images  Instances      Box(P          R      mAP50  mAP50-95): 100%|██████████| 38/38 [00:09"
     ]
    },
    {
     "name": "stdout",
     "output_type": "stream",
     "text": [
      "                   all        679       3388      0.942      0.927      0.969       0.64\n"
     ]
    },
    {
     "name": "stderr",
     "output_type": "stream",
     "text": [
      "\n"
     ]
    },
    {
     "name": "stdout",
     "output_type": "stream",
     "text": [
      "\n",
      "      Epoch    GPU_mem   box_loss   cls_loss   dfl_loss  Instances       Size\n"
     ]
    },
    {
     "name": "stderr",
     "output_type": "stream",
     "text": [
      "    119/200      3.96G      1.802     0.7917      1.965         22        640: 100%|██████████| 227/227 [01:05<00:00,  \n",
      "                 Class     Images  Instances      Box(P          R      mAP50  mAP50-95): 100%|██████████| 38/38 [00:09"
     ]
    },
    {
     "name": "stdout",
     "output_type": "stream",
     "text": [
      "                   all        679       3388      0.948      0.919      0.968      0.645\n"
     ]
    },
    {
     "name": "stderr",
     "output_type": "stream",
     "text": [
      "\n"
     ]
    },
    {
     "name": "stdout",
     "output_type": "stream",
     "text": [
      "\n",
      "      Epoch    GPU_mem   box_loss   cls_loss   dfl_loss  Instances       Size\n"
     ]
    },
    {
     "name": "stderr",
     "output_type": "stream",
     "text": [
      "    120/200      3.96G      1.782      0.799      1.971          7        640: 100%|██████████| 227/227 [01:05<00:00,  \n",
      "                 Class     Images  Instances      Box(P          R      mAP50  mAP50-95): 100%|██████████| 38/38 [00:09"
     ]
    },
    {
     "name": "stdout",
     "output_type": "stream",
     "text": [
      "                   all        679       3388      0.949      0.918      0.968      0.643\n"
     ]
    },
    {
     "name": "stderr",
     "output_type": "stream",
     "text": [
      "\n"
     ]
    },
    {
     "name": "stdout",
     "output_type": "stream",
     "text": [
      "\n",
      "      Epoch    GPU_mem   box_loss   cls_loss   dfl_loss  Instances       Size\n"
     ]
    },
    {
     "name": "stderr",
     "output_type": "stream",
     "text": [
      "    121/200      3.92G      1.778     0.7846      1.947          8        640: 100%|██████████| 227/227 [01:05<00:00,  \n",
      "                 Class     Images  Instances      Box(P          R      mAP50  mAP50-95): 100%|██████████| 38/38 [00:09"
     ]
    },
    {
     "name": "stdout",
     "output_type": "stream",
     "text": [
      "                   all        679       3388      0.949      0.923      0.968      0.644\n"
     ]
    },
    {
     "name": "stderr",
     "output_type": "stream",
     "text": [
      "\n"
     ]
    },
    {
     "name": "stdout",
     "output_type": "stream",
     "text": [
      "\n",
      "      Epoch    GPU_mem   box_loss   cls_loss   dfl_loss  Instances       Size\n"
     ]
    },
    {
     "name": "stderr",
     "output_type": "stream",
     "text": [
      "    122/200      3.91G      1.757     0.7614      1.961         25        640: 100%|██████████| 227/227 [01:05<00:00,  \n",
      "                 Class     Images  Instances      Box(P          R      mAP50  mAP50-95): 100%|██████████| 38/38 [00:09"
     ]
    },
    {
     "name": "stdout",
     "output_type": "stream",
     "text": [
      "                   all        679       3388       0.94      0.929       0.97      0.646\n"
     ]
    },
    {
     "name": "stderr",
     "output_type": "stream",
     "text": [
      "\n"
     ]
    },
    {
     "name": "stdout",
     "output_type": "stream",
     "text": [
      "\n",
      "      Epoch    GPU_mem   box_loss   cls_loss   dfl_loss  Instances       Size\n"
     ]
    },
    {
     "name": "stderr",
     "output_type": "stream",
     "text": [
      "    123/200      3.97G       1.75     0.7585      1.954         22        640: 100%|██████████| 227/227 [01:05<00:00,  \n",
      "                 Class     Images  Instances      Box(P          R      mAP50  mAP50-95): 100%|██████████| 38/38 [00:09"
     ]
    },
    {
     "name": "stdout",
     "output_type": "stream",
     "text": [
      "                   all        679       3388      0.946       0.92       0.97      0.645\n"
     ]
    },
    {
     "name": "stderr",
     "output_type": "stream",
     "text": [
      "\n"
     ]
    },
    {
     "name": "stdout",
     "output_type": "stream",
     "text": [
      "\n",
      "      Epoch    GPU_mem   box_loss   cls_loss   dfl_loss  Instances       Size\n"
     ]
    },
    {
     "name": "stderr",
     "output_type": "stream",
     "text": [
      "    124/200      3.86G      1.749     0.7615      1.942         24        640: 100%|██████████| 227/227 [01:05<00:00,  \n",
      "                 Class     Images  Instances      Box(P          R      mAP50  mAP50-95): 100%|██████████| 38/38 [00:09"
     ]
    },
    {
     "name": "stdout",
     "output_type": "stream",
     "text": [
      "                   all        679       3388      0.939      0.932      0.971      0.646\n"
     ]
    },
    {
     "name": "stderr",
     "output_type": "stream",
     "text": [
      "\n"
     ]
    },
    {
     "name": "stdout",
     "output_type": "stream",
     "text": [
      "\n",
      "      Epoch    GPU_mem   box_loss   cls_loss   dfl_loss  Instances       Size\n"
     ]
    },
    {
     "name": "stderr",
     "output_type": "stream",
     "text": [
      "    125/200         4G      1.756     0.7688      1.946         18        640: 100%|██████████| 227/227 [01:05<00:00,  \n",
      "                 Class     Images  Instances      Box(P          R      mAP50  mAP50-95): 100%|██████████| 38/38 [00:09"
     ]
    },
    {
     "name": "stdout",
     "output_type": "stream",
     "text": [
      "                   all        679       3388      0.948       0.92      0.969      0.641\n"
     ]
    },
    {
     "name": "stderr",
     "output_type": "stream",
     "text": [
      "\n"
     ]
    },
    {
     "name": "stdout",
     "output_type": "stream",
     "text": [
      "\n",
      "      Epoch    GPU_mem   box_loss   cls_loss   dfl_loss  Instances       Size\n"
     ]
    },
    {
     "name": "stderr",
     "output_type": "stream",
     "text": [
      "    126/200      3.99G      1.757     0.7692      1.958         24        640: 100%|██████████| 227/227 [01:05<00:00,  \n",
      "                 Class     Images  Instances      Box(P          R      mAP50  mAP50-95): 100%|██████████| 38/38 [00:09"
     ]
    },
    {
     "name": "stdout",
     "output_type": "stream",
     "text": [
      "                   all        679       3388      0.944      0.923      0.969      0.645\n"
     ]
    },
    {
     "name": "stderr",
     "output_type": "stream",
     "text": [
      "\n"
     ]
    },
    {
     "name": "stdout",
     "output_type": "stream",
     "text": [
      "\n",
      "      Epoch    GPU_mem   box_loss   cls_loss   dfl_loss  Instances       Size\n"
     ]
    },
    {
     "name": "stderr",
     "output_type": "stream",
     "text": [
      "    127/200      3.96G       1.76     0.7716      1.946          5        640: 100%|██████████| 227/227 [01:05<00:00,  \n",
      "                 Class     Images  Instances      Box(P          R      mAP50  mAP50-95): 100%|██████████| 38/38 [00:09"
     ]
    },
    {
     "name": "stdout",
     "output_type": "stream",
     "text": [
      "                   all        679       3388      0.941      0.929      0.969      0.644\n"
     ]
    },
    {
     "name": "stderr",
     "output_type": "stream",
     "text": [
      "\n"
     ]
    },
    {
     "name": "stdout",
     "output_type": "stream",
     "text": [
      "\n",
      "      Epoch    GPU_mem   box_loss   cls_loss   dfl_loss  Instances       Size\n"
     ]
    },
    {
     "name": "stderr",
     "output_type": "stream",
     "text": [
      "    128/200      3.98G       1.75     0.7658      1.942         13        640: 100%|██████████| 227/227 [01:05<00:00,  \n",
      "                 Class     Images  Instances      Box(P          R      mAP50  mAP50-95): 100%|██████████| 38/38 [00:09"
     ]
    },
    {
     "name": "stdout",
     "output_type": "stream",
     "text": [
      "                   all        679       3388      0.944      0.923      0.968      0.647\n"
     ]
    },
    {
     "name": "stderr",
     "output_type": "stream",
     "text": [
      "\n"
     ]
    },
    {
     "name": "stdout",
     "output_type": "stream",
     "text": [
      "\n",
      "      Epoch    GPU_mem   box_loss   cls_loss   dfl_loss  Instances       Size\n"
     ]
    },
    {
     "name": "stderr",
     "output_type": "stream",
     "text": [
      "    129/200      3.94G      1.738     0.7705      1.959         20        640: 100%|██████████| 227/227 [01:05<00:00,  \n",
      "                 Class     Images  Instances      Box(P          R      mAP50  mAP50-95): 100%|██████████| 38/38 [00:09"
     ]
    },
    {
     "name": "stdout",
     "output_type": "stream",
     "text": [
      "                   all        679       3388       0.95      0.918      0.968      0.645\n"
     ]
    },
    {
     "name": "stderr",
     "output_type": "stream",
     "text": [
      "\n"
     ]
    },
    {
     "name": "stdout",
     "output_type": "stream",
     "text": [
      "\n",
      "      Epoch    GPU_mem   box_loss   cls_loss   dfl_loss  Instances       Size\n"
     ]
    },
    {
     "name": "stderr",
     "output_type": "stream",
     "text": [
      "    130/200      3.99G      1.738     0.7586      1.935         20        640: 100%|██████████| 227/227 [01:05<00:00,  \n",
      "                 Class     Images  Instances      Box(P          R      mAP50  mAP50-95): 100%|██████████| 38/38 [00:09"
     ]
    },
    {
     "name": "stdout",
     "output_type": "stream",
     "text": [
      "                   all        679       3388      0.937       0.93      0.969      0.644\n"
     ]
    },
    {
     "name": "stderr",
     "output_type": "stream",
     "text": [
      "\n"
     ]
    },
    {
     "name": "stdout",
     "output_type": "stream",
     "text": [
      "\n",
      "      Epoch    GPU_mem   box_loss   cls_loss   dfl_loss  Instances       Size\n"
     ]
    },
    {
     "name": "stderr",
     "output_type": "stream",
     "text": [
      "    131/200      3.96G      1.719     0.7454      1.933          6        640: 100%|██████████| 227/227 [01:05<00:00,  \n",
      "                 Class     Images  Instances      Box(P          R      mAP50  mAP50-95): 100%|██████████| 38/38 [00:09"
     ]
    },
    {
     "name": "stdout",
     "output_type": "stream",
     "text": [
      "                   all        679       3388      0.938      0.932       0.97      0.643\n"
     ]
    },
    {
     "name": "stderr",
     "output_type": "stream",
     "text": [
      "\n"
     ]
    },
    {
     "name": "stdout",
     "output_type": "stream",
     "text": [
      "\n",
      "      Epoch    GPU_mem   box_loss   cls_loss   dfl_loss  Instances       Size\n"
     ]
    },
    {
     "name": "stderr",
     "output_type": "stream",
     "text": [
      "    132/200      3.98G      1.705     0.7462      1.933         14        640: 100%|██████████| 227/227 [01:05<00:00,  \n",
      "                 Class     Images  Instances      Box(P          R      mAP50  mAP50-95): 100%|██████████| 38/38 [00:09"
     ]
    },
    {
     "name": "stdout",
     "output_type": "stream",
     "text": [
      "                   all        679       3388      0.947      0.916      0.971      0.645\n"
     ]
    },
    {
     "name": "stderr",
     "output_type": "stream",
     "text": [
      "\n"
     ]
    },
    {
     "name": "stdout",
     "output_type": "stream",
     "text": [
      "\n",
      "      Epoch    GPU_mem   box_loss   cls_loss   dfl_loss  Instances       Size\n"
     ]
    },
    {
     "name": "stderr",
     "output_type": "stream",
     "text": [
      "    133/200      3.98G      1.706     0.7357      1.932         26        640: 100%|██████████| 227/227 [01:05<00:00,  \n",
      "                 Class     Images  Instances      Box(P          R      mAP50  mAP50-95): 100%|██████████| 38/38 [00:09"
     ]
    },
    {
     "name": "stdout",
     "output_type": "stream",
     "text": [
      "                   all        679       3388      0.953      0.919       0.97      0.646\n"
     ]
    },
    {
     "name": "stderr",
     "output_type": "stream",
     "text": [
      "\n"
     ]
    },
    {
     "name": "stdout",
     "output_type": "stream",
     "text": [
      "\n",
      "      Epoch    GPU_mem   box_loss   cls_loss   dfl_loss  Instances       Size\n"
     ]
    },
    {
     "name": "stderr",
     "output_type": "stream",
     "text": [
      "    134/200      3.97G      1.697     0.7348      1.929         13        640: 100%|██████████| 227/227 [01:05<00:00,  \n",
      "                 Class     Images  Instances      Box(P          R      mAP50  mAP50-95): 100%|██████████| 38/38 [00:09"
     ]
    },
    {
     "name": "stdout",
     "output_type": "stream",
     "text": [
      "                   all        679       3388      0.945      0.921      0.969      0.645\n"
     ]
    },
    {
     "name": "stderr",
     "output_type": "stream",
     "text": [
      "\n"
     ]
    },
    {
     "name": "stdout",
     "output_type": "stream",
     "text": [
      "\n",
      "      Epoch    GPU_mem   box_loss   cls_loss   dfl_loss  Instances       Size\n"
     ]
    },
    {
     "name": "stderr",
     "output_type": "stream",
     "text": [
      "    135/200      4.03G      1.691     0.7366      1.925         13        640: 100%|██████████| 227/227 [01:05<00:00,  \n",
      "                 Class     Images  Instances      Box(P          R      mAP50  mAP50-95): 100%|██████████| 38/38 [00:09"
     ]
    },
    {
     "name": "stdout",
     "output_type": "stream",
     "text": [
      "                   all        679       3388      0.953      0.915       0.97      0.646\n"
     ]
    },
    {
     "name": "stderr",
     "output_type": "stream",
     "text": [
      "\n"
     ]
    },
    {
     "name": "stdout",
     "output_type": "stream",
     "text": [
      "\n",
      "      Epoch    GPU_mem   box_loss   cls_loss   dfl_loss  Instances       Size\n"
     ]
    },
    {
     "name": "stderr",
     "output_type": "stream",
     "text": [
      "    136/200      3.92G      1.682     0.7377      1.927         15        640: 100%|██████████| 227/227 [01:05<00:00,  \n",
      "                 Class     Images  Instances      Box(P          R      mAP50  mAP50-95): 100%|██████████| 38/38 [00:09"
     ]
    },
    {
     "name": "stdout",
     "output_type": "stream",
     "text": [
      "                   all        679       3388      0.941      0.932       0.97      0.645\n"
     ]
    },
    {
     "name": "stderr",
     "output_type": "stream",
     "text": [
      "\n"
     ]
    },
    {
     "name": "stdout",
     "output_type": "stream",
     "text": [
      "\n",
      "      Epoch    GPU_mem   box_loss   cls_loss   dfl_loss  Instances       Size\n"
     ]
    },
    {
     "name": "stderr",
     "output_type": "stream",
     "text": [
      "    137/200      4.01G      1.704     0.7466      1.927         13        640: 100%|██████████| 227/227 [01:05<00:00,  \n",
      "                 Class     Images  Instances      Box(P          R      mAP50  mAP50-95): 100%|██████████| 38/38 [00:09"
     ]
    },
    {
     "name": "stdout",
     "output_type": "stream",
     "text": [
      "                   all        679       3388      0.946      0.926       0.97      0.646\n"
     ]
    },
    {
     "name": "stderr",
     "output_type": "stream",
     "text": [
      "\n"
     ]
    },
    {
     "name": "stdout",
     "output_type": "stream",
     "text": [
      "\n",
      "      Epoch    GPU_mem   box_loss   cls_loss   dfl_loss  Instances       Size\n"
     ]
    },
    {
     "name": "stderr",
     "output_type": "stream",
     "text": [
      "    138/200      3.96G      1.678      0.726       1.93         12        640: 100%|██████████| 227/227 [01:05<00:00,  \n",
      "                 Class     Images  Instances      Box(P          R      mAP50  mAP50-95): 100%|██████████| 38/38 [00:09"
     ]
    },
    {
     "name": "stdout",
     "output_type": "stream",
     "text": [
      "                   all        679       3388      0.939      0.926      0.969      0.645\n"
     ]
    },
    {
     "name": "stderr",
     "output_type": "stream",
     "text": [
      "\n"
     ]
    },
    {
     "name": "stdout",
     "output_type": "stream",
     "text": [
      "\n",
      "      Epoch    GPU_mem   box_loss   cls_loss   dfl_loss  Instances       Size\n"
     ]
    },
    {
     "name": "stderr",
     "output_type": "stream",
     "text": [
      "    139/200       3.9G      1.688     0.7397      1.919         48        640: 100%|██████████| 227/227 [01:05<00:00,  \n",
      "                 Class     Images  Instances      Box(P          R      mAP50  mAP50-95): 100%|██████████| 38/38 [00:09"
     ]
    },
    {
     "name": "stdout",
     "output_type": "stream",
     "text": [
      "                   all        679       3388      0.944      0.928       0.97      0.646\n"
     ]
    },
    {
     "name": "stderr",
     "output_type": "stream",
     "text": [
      "\n"
     ]
    },
    {
     "name": "stdout",
     "output_type": "stream",
     "text": [
      "\n",
      "      Epoch    GPU_mem   box_loss   cls_loss   dfl_loss  Instances       Size\n"
     ]
    },
    {
     "name": "stderr",
     "output_type": "stream",
     "text": [
      "    140/200      3.99G      1.696     0.7402      1.936         16        640: 100%|██████████| 227/227 [01:05<00:00,  \n",
      "                 Class     Images  Instances      Box(P          R      mAP50  mAP50-95): 100%|██████████| 38/38 [00:09"
     ]
    },
    {
     "name": "stdout",
     "output_type": "stream",
     "text": [
      "                   all        679       3388      0.951      0.918      0.968      0.644\n"
     ]
    },
    {
     "name": "stderr",
     "output_type": "stream",
     "text": [
      "\n"
     ]
    },
    {
     "name": "stdout",
     "output_type": "stream",
     "text": [
      "\n",
      "      Epoch    GPU_mem   box_loss   cls_loss   dfl_loss  Instances       Size\n"
     ]
    },
    {
     "name": "stderr",
     "output_type": "stream",
     "text": [
      "    141/200      3.96G      1.686     0.7395      1.916         16        640: 100%|██████████| 227/227 [01:05<00:00,  \n",
      "                 Class     Images  Instances      Box(P          R      mAP50  mAP50-95): 100%|██████████| 38/38 [00:09"
     ]
    },
    {
     "name": "stdout",
     "output_type": "stream",
     "text": [
      "                   all        679       3388      0.955      0.914      0.969      0.645\n"
     ]
    },
    {
     "name": "stderr",
     "output_type": "stream",
     "text": [
      "\n"
     ]
    },
    {
     "name": "stdout",
     "output_type": "stream",
     "text": [
      "\n",
      "      Epoch    GPU_mem   box_loss   cls_loss   dfl_loss  Instances       Size\n"
     ]
    },
    {
     "name": "stderr",
     "output_type": "stream",
     "text": [
      "    142/200      4.04G      1.667     0.7336      1.928         25        640: 100%|██████████| 227/227 [01:05<00:00,  \n",
      "                 Class     Images  Instances      Box(P          R      mAP50  mAP50-95): 100%|██████████| 38/38 [00:09"
     ]
    },
    {
     "name": "stdout",
     "output_type": "stream",
     "text": [
      "                   all        679       3388      0.946      0.928       0.97      0.645\n"
     ]
    },
    {
     "name": "stderr",
     "output_type": "stream",
     "text": [
      "\n"
     ]
    },
    {
     "name": "stdout",
     "output_type": "stream",
     "text": [
      "\n",
      "      Epoch    GPU_mem   box_loss   cls_loss   dfl_loss  Instances       Size\n"
     ]
    },
    {
     "name": "stderr",
     "output_type": "stream",
     "text": [
      "    143/200      4.01G      1.676     0.7326      1.918         15        640: 100%|██████████| 227/227 [01:05<00:00,  \n",
      "                 Class     Images  Instances      Box(P          R      mAP50  mAP50-95): 100%|██████████| 38/38 [00:09"
     ]
    },
    {
     "name": "stdout",
     "output_type": "stream",
     "text": [
      "                   all        679       3388      0.948      0.921       0.97      0.647\n"
     ]
    },
    {
     "name": "stderr",
     "output_type": "stream",
     "text": [
      "\n"
     ]
    },
    {
     "name": "stdout",
     "output_type": "stream",
     "text": [
      "\n",
      "      Epoch    GPU_mem   box_loss   cls_loss   dfl_loss  Instances       Size\n"
     ]
    },
    {
     "name": "stderr",
     "output_type": "stream",
     "text": [
      "    144/200      3.92G      1.653     0.7095      1.918          7        640: 100%|██████████| 227/227 [01:05<00:00,  \n",
      "                 Class     Images  Instances      Box(P          R      mAP50  mAP50-95): 100%|██████████| 38/38 [00:09"
     ]
    },
    {
     "name": "stdout",
     "output_type": "stream",
     "text": [
      "                   all        679       3388      0.944      0.924      0.969      0.646\n"
     ]
    },
    {
     "name": "stderr",
     "output_type": "stream",
     "text": [
      "\n"
     ]
    },
    {
     "name": "stdout",
     "output_type": "stream",
     "text": [
      "\n",
      "      Epoch    GPU_mem   box_loss   cls_loss   dfl_loss  Instances       Size\n"
     ]
    },
    {
     "name": "stderr",
     "output_type": "stream",
     "text": [
      "    145/200       3.9G      1.652     0.7183      1.904          8        640: 100%|██████████| 227/227 [01:05<00:00,  \n",
      "                 Class     Images  Instances      Box(P          R      mAP50  mAP50-95): 100%|██████████| 38/38 [00:09"
     ]
    },
    {
     "name": "stdout",
     "output_type": "stream",
     "text": [
      "                   all        679       3388      0.937      0.929      0.969      0.646\n"
     ]
    },
    {
     "name": "stderr",
     "output_type": "stream",
     "text": [
      "\n"
     ]
    },
    {
     "name": "stdout",
     "output_type": "stream",
     "text": [
      "\n",
      "      Epoch    GPU_mem   box_loss   cls_loss   dfl_loss  Instances       Size\n"
     ]
    },
    {
     "name": "stderr",
     "output_type": "stream",
     "text": [
      "    146/200      3.99G      1.673     0.7229        1.9         12        640: 100%|██████████| 227/227 [01:05<00:00,  \n",
      "                 Class     Images  Instances      Box(P          R      mAP50  mAP50-95): 100%|██████████| 38/38 [00:09"
     ]
    },
    {
     "name": "stdout",
     "output_type": "stream",
     "text": [
      "                   all        679       3388      0.952      0.918       0.97      0.645\n"
     ]
    },
    {
     "name": "stderr",
     "output_type": "stream",
     "text": [
      "\n"
     ]
    },
    {
     "name": "stdout",
     "output_type": "stream",
     "text": [
      "\n",
      "      Epoch    GPU_mem   box_loss   cls_loss   dfl_loss  Instances       Size\n"
     ]
    },
    {
     "name": "stderr",
     "output_type": "stream",
     "text": [
      "    147/200      3.87G      1.668     0.7266      1.899         31        640: 100%|██████████| 227/227 [01:05<00:00,  \n",
      "                 Class     Images  Instances      Box(P          R      mAP50  mAP50-95): 100%|██████████| 38/38 [00:09"
     ]
    },
    {
     "name": "stdout",
     "output_type": "stream",
     "text": [
      "                   all        679       3388      0.947      0.917      0.969      0.644\n"
     ]
    },
    {
     "name": "stderr",
     "output_type": "stream",
     "text": [
      "\n"
     ]
    },
    {
     "name": "stdout",
     "output_type": "stream",
     "text": [
      "\n",
      "      Epoch    GPU_mem   box_loss   cls_loss   dfl_loss  Instances       Size\n"
     ]
    },
    {
     "name": "stderr",
     "output_type": "stream",
     "text": [
      "    148/200      3.99G       1.65     0.7204      1.909          8        640: 100%|██████████| 227/227 [01:05<00:00,  \n",
      "                 Class     Images  Instances      Box(P          R      mAP50  mAP50-95): 100%|██████████| 38/38 [00:09"
     ]
    },
    {
     "name": "stdout",
     "output_type": "stream",
     "text": [
      "                   all        679       3388       0.95      0.919       0.97      0.646\n"
     ]
    },
    {
     "name": "stderr",
     "output_type": "stream",
     "text": [
      "\n"
     ]
    },
    {
     "name": "stdout",
     "output_type": "stream",
     "text": [
      "\n",
      "      Epoch    GPU_mem   box_loss   cls_loss   dfl_loss  Instances       Size\n"
     ]
    },
    {
     "name": "stderr",
     "output_type": "stream",
     "text": [
      "    149/200      4.02G      1.643      0.705      1.905         11        640: 100%|██████████| 227/227 [01:05<00:00,  \n",
      "                 Class     Images  Instances      Box(P          R      mAP50  mAP50-95): 100%|██████████| 38/38 [00:09"
     ]
    },
    {
     "name": "stdout",
     "output_type": "stream",
     "text": [
      "                   all        679       3388      0.942      0.929      0.969      0.645\n"
     ]
    },
    {
     "name": "stderr",
     "output_type": "stream",
     "text": [
      "\n"
     ]
    },
    {
     "name": "stdout",
     "output_type": "stream",
     "text": [
      "\n",
      "      Epoch    GPU_mem   box_loss   cls_loss   dfl_loss  Instances       Size\n"
     ]
    },
    {
     "name": "stderr",
     "output_type": "stream",
     "text": [
      "    150/200      3.97G      1.627     0.7019      1.887         36        640: 100%|██████████| 227/227 [01:05<00:00,  \n",
      "                 Class     Images  Instances      Box(P          R      mAP50  mAP50-95): 100%|██████████| 38/38 [00:09"
     ]
    },
    {
     "name": "stdout",
     "output_type": "stream",
     "text": [
      "                   all        679       3388       0.94      0.928       0.97      0.646\n"
     ]
    },
    {
     "name": "stderr",
     "output_type": "stream",
     "text": [
      "\n"
     ]
    },
    {
     "name": "stdout",
     "output_type": "stream",
     "text": [
      "\n",
      "      Epoch    GPU_mem   box_loss   cls_loss   dfl_loss  Instances       Size\n"
     ]
    },
    {
     "name": "stderr",
     "output_type": "stream",
     "text": [
      "    151/200      3.96G      1.646      0.718      1.908         14        640: 100%|██████████| 227/227 [01:05<00:00,  \n",
      "                 Class     Images  Instances      Box(P          R      mAP50  mAP50-95): 100%|██████████| 38/38 [00:09"
     ]
    },
    {
     "name": "stdout",
     "output_type": "stream",
     "text": [
      "                   all        679       3388      0.944      0.926       0.97      0.646\n"
     ]
    },
    {
     "name": "stderr",
     "output_type": "stream",
     "text": [
      "\n"
     ]
    },
    {
     "name": "stdout",
     "output_type": "stream",
     "text": [
      "\n",
      "      Epoch    GPU_mem   box_loss   cls_loss   dfl_loss  Instances       Size\n"
     ]
    },
    {
     "name": "stderr",
     "output_type": "stream",
     "text": [
      "    152/200      3.95G      1.635     0.7115      1.902          8        640: 100%|██████████| 227/227 [01:06<00:00,  \n",
      "                 Class     Images  Instances      Box(P          R      mAP50  mAP50-95): 100%|██████████| 38/38 [00:09"
     ]
    },
    {
     "name": "stdout",
     "output_type": "stream",
     "text": [
      "                   all        679       3388       0.94      0.929      0.969      0.645\n"
     ]
    },
    {
     "name": "stderr",
     "output_type": "stream",
     "text": [
      "\n"
     ]
    },
    {
     "name": "stdout",
     "output_type": "stream",
     "text": [
      "\n",
      "      Epoch    GPU_mem   box_loss   cls_loss   dfl_loss  Instances       Size\n"
     ]
    },
    {
     "name": "stderr",
     "output_type": "stream",
     "text": [
      "    153/200      3.98G      1.638     0.7107      1.896         17        640: 100%|██████████| 227/227 [01:06<00:00,  \n",
      "                 Class     Images  Instances      Box(P          R      mAP50  mAP50-95): 100%|██████████| 38/38 [00:09"
     ]
    },
    {
     "name": "stdout",
     "output_type": "stream",
     "text": [
      "                   all        679       3388      0.946      0.926      0.969      0.645\n"
     ]
    },
    {
     "name": "stderr",
     "output_type": "stream",
     "text": [
      "\n"
     ]
    },
    {
     "name": "stdout",
     "output_type": "stream",
     "text": [
      "\n",
      "      Epoch    GPU_mem   box_loss   cls_loss   dfl_loss  Instances       Size\n"
     ]
    },
    {
     "name": "stderr",
     "output_type": "stream",
     "text": [
      "    154/200      3.99G      1.631     0.7131      1.908          9        640: 100%|██████████| 227/227 [01:06<00:00,  \n",
      "                 Class     Images  Instances      Box(P          R      mAP50  mAP50-95): 100%|██████████| 38/38 [00:09"
     ]
    },
    {
     "name": "stdout",
     "output_type": "stream",
     "text": [
      "                   all        679       3388      0.944      0.934      0.971      0.645\n"
     ]
    },
    {
     "name": "stderr",
     "output_type": "stream",
     "text": [
      "\n"
     ]
    },
    {
     "name": "stdout",
     "output_type": "stream",
     "text": [
      "\n",
      "      Epoch    GPU_mem   box_loss   cls_loss   dfl_loss  Instances       Size\n"
     ]
    },
    {
     "name": "stderr",
     "output_type": "stream",
     "text": [
      "    155/200      3.97G      1.636     0.7166      1.897         16        640: 100%|██████████| 227/227 [01:06<00:00,  \n",
      "                 Class     Images  Instances      Box(P          R      mAP50  mAP50-95): 100%|██████████| 38/38 [00:09"
     ]
    },
    {
     "name": "stdout",
     "output_type": "stream",
     "text": [
      "                   all        679       3388      0.947      0.928       0.97      0.644\n"
     ]
    },
    {
     "name": "stderr",
     "output_type": "stream",
     "text": [
      "\n"
     ]
    },
    {
     "name": "stdout",
     "output_type": "stream",
     "text": [
      "\n",
      "      Epoch    GPU_mem   box_loss   cls_loss   dfl_loss  Instances       Size\n"
     ]
    },
    {
     "name": "stderr",
     "output_type": "stream",
     "text": [
      "    156/200      3.98G      1.619     0.7052      1.892         23        640: 100%|██████████| 227/227 [01:06<00:00,  \n",
      "                 Class     Images  Instances      Box(P          R      mAP50  mAP50-95): 100%|██████████| 38/38 [00:09"
     ]
    },
    {
     "name": "stdout",
     "output_type": "stream",
     "text": [
      "                   all        679       3388      0.943      0.931      0.971      0.647\n"
     ]
    },
    {
     "name": "stderr",
     "output_type": "stream",
     "text": [
      "\n"
     ]
    },
    {
     "name": "stdout",
     "output_type": "stream",
     "text": [
      "\n",
      "      Epoch    GPU_mem   box_loss   cls_loss   dfl_loss  Instances       Size\n"
     ]
    },
    {
     "name": "stderr",
     "output_type": "stream",
     "text": [
      "    157/200      3.95G      1.622     0.6989      1.895         28        640: 100%|██████████| 227/227 [01:06<00:00,  \n",
      "                 Class     Images  Instances      Box(P          R      mAP50  mAP50-95): 100%|██████████| 38/38 [00:09"
     ]
    },
    {
     "name": "stdout",
     "output_type": "stream",
     "text": [
      "                   all        679       3388      0.951      0.921       0.97      0.644\n"
     ]
    },
    {
     "name": "stderr",
     "output_type": "stream",
     "text": [
      "\n"
     ]
    },
    {
     "name": "stdout",
     "output_type": "stream",
     "text": [
      "\n",
      "      Epoch    GPU_mem   box_loss   cls_loss   dfl_loss  Instances       Size\n"
     ]
    },
    {
     "name": "stderr",
     "output_type": "stream",
     "text": [
      "    158/200      3.97G      1.616     0.7079      1.892         16        640: 100%|██████████| 227/227 [01:05<00:00,  \n",
      "                 Class     Images  Instances      Box(P          R      mAP50  mAP50-95): 100%|██████████| 38/38 [00:09"
     ]
    },
    {
     "name": "stdout",
     "output_type": "stream",
     "text": [
      "                   all        679       3388      0.946      0.925      0.971      0.644\n"
     ]
    },
    {
     "name": "stderr",
     "output_type": "stream",
     "text": [
      "\n"
     ]
    },
    {
     "name": "stdout",
     "output_type": "stream",
     "text": [
      "\n",
      "      Epoch    GPU_mem   box_loss   cls_loss   dfl_loss  Instances       Size\n"
     ]
    },
    {
     "name": "stderr",
     "output_type": "stream",
     "text": [
      "    159/200      3.94G      1.602     0.6859      1.894         27        640: 100%|██████████| 227/227 [01:05<00:00,  \n",
      "                 Class     Images  Instances      Box(P          R      mAP50  mAP50-95): 100%|██████████| 38/38 [00:09"
     ]
    },
    {
     "name": "stdout",
     "output_type": "stream",
     "text": [
      "                   all        679       3388      0.941      0.929       0.97      0.644\n"
     ]
    },
    {
     "name": "stderr",
     "output_type": "stream",
     "text": [
      "\n"
     ]
    },
    {
     "name": "stdout",
     "output_type": "stream",
     "text": [
      "\n",
      "      Epoch    GPU_mem   box_loss   cls_loss   dfl_loss  Instances       Size\n"
     ]
    },
    {
     "name": "stderr",
     "output_type": "stream",
     "text": [
      "    160/200      4.05G      1.608     0.6941      1.892         29        640: 100%|██████████| 227/227 [01:06<00:00,  \n",
      "                 Class     Images  Instances      Box(P          R      mAP50  mAP50-95): 100%|██████████| 38/38 [00:09"
     ]
    },
    {
     "name": "stdout",
     "output_type": "stream",
     "text": [
      "                   all        679       3388      0.942      0.928      0.969      0.644\n"
     ]
    },
    {
     "name": "stderr",
     "output_type": "stream",
     "text": [
      "\n"
     ]
    },
    {
     "name": "stdout",
     "output_type": "stream",
     "text": [
      "\n",
      "      Epoch    GPU_mem   box_loss   cls_loss   dfl_loss  Instances       Size\n"
     ]
    },
    {
     "name": "stderr",
     "output_type": "stream",
     "text": [
      "    161/200         4G      1.622     0.7056      1.897         16        640: 100%|██████████| 227/227 [01:06<00:00,  \n",
      "                 Class     Images  Instances      Box(P          R      mAP50  mAP50-95): 100%|██████████| 38/38 [00:09"
     ]
    },
    {
     "name": "stdout",
     "output_type": "stream",
     "text": [
      "                   all        679       3388      0.945      0.923      0.969      0.646\n"
     ]
    },
    {
     "name": "stderr",
     "output_type": "stream",
     "text": [
      "\n"
     ]
    },
    {
     "name": "stdout",
     "output_type": "stream",
     "text": [
      "\n",
      "      Epoch    GPU_mem   box_loss   cls_loss   dfl_loss  Instances       Size\n"
     ]
    },
    {
     "name": "stderr",
     "output_type": "stream",
     "text": [
      "    162/200      4.01G      1.605     0.7071      1.887         13        640: 100%|██████████| 227/227 [01:06<00:00,  \n",
      "                 Class     Images  Instances      Box(P          R      mAP50  mAP50-95): 100%|██████████| 38/38 [00:09"
     ]
    },
    {
     "name": "stdout",
     "output_type": "stream",
     "text": [
      "                   all        679       3388      0.948       0.92      0.969      0.644\n"
     ]
    },
    {
     "name": "stderr",
     "output_type": "stream",
     "text": [
      "\n"
     ]
    },
    {
     "name": "stdout",
     "output_type": "stream",
     "text": [
      "\n",
      "      Epoch    GPU_mem   box_loss   cls_loss   dfl_loss  Instances       Size\n"
     ]
    },
    {
     "name": "stderr",
     "output_type": "stream",
     "text": [
      "    163/200      3.99G      1.612     0.7078      1.885          3        640: 100%|██████████| 227/227 [01:05<00:00,  \n",
      "                 Class     Images  Instances      Box(P          R      mAP50  mAP50-95): 100%|██████████| 38/38 [00:09"
     ]
    },
    {
     "name": "stdout",
     "output_type": "stream",
     "text": [
      "                   all        679       3388      0.943      0.924      0.968      0.644\n"
     ]
    },
    {
     "name": "stderr",
     "output_type": "stream",
     "text": [
      "\n"
     ]
    },
    {
     "name": "stdout",
     "output_type": "stream",
     "text": [
      "\n",
      "      Epoch    GPU_mem   box_loss   cls_loss   dfl_loss  Instances       Size\n"
     ]
    },
    {
     "name": "stderr",
     "output_type": "stream",
     "text": [
      "    164/200      3.97G      1.594     0.6946       1.89         12        640: 100%|██████████| 227/227 [01:05<00:00,  \n",
      "                 Class     Images  Instances      Box(P          R      mAP50  mAP50-95): 100%|██████████| 38/38 [00:09"
     ]
    },
    {
     "name": "stdout",
     "output_type": "stream",
     "text": [
      "                   all        679       3388      0.949      0.923      0.969      0.643\n"
     ]
    },
    {
     "name": "stderr",
     "output_type": "stream",
     "text": [
      "\n"
     ]
    },
    {
     "name": "stdout",
     "output_type": "stream",
     "text": [
      "\n",
      "      Epoch    GPU_mem   box_loss   cls_loss   dfl_loss  Instances       Size\n"
     ]
    },
    {
     "name": "stderr",
     "output_type": "stream",
     "text": [
      "    165/200      3.97G      1.603     0.7007      1.889         15        640: 100%|██████████| 227/227 [01:05<00:00,  \n",
      "                 Class     Images  Instances      Box(P          R      mAP50  mAP50-95): 100%|██████████| 38/38 [00:09"
     ]
    },
    {
     "name": "stdout",
     "output_type": "stream",
     "text": [
      "                   all        679       3388      0.951      0.918      0.969      0.642\n"
     ]
    },
    {
     "name": "stderr",
     "output_type": "stream",
     "text": [
      "\n"
     ]
    },
    {
     "name": "stdout",
     "output_type": "stream",
     "text": [
      "\n",
      "      Epoch    GPU_mem   box_loss   cls_loss   dfl_loss  Instances       Size\n"
     ]
    },
    {
     "name": "stderr",
     "output_type": "stream",
     "text": [
      "    166/200      3.99G      1.589     0.6825      1.875         16        640: 100%|██████████| 227/227 [01:05<00:00,  \n",
      "                 Class     Images  Instances      Box(P          R      mAP50  mAP50-95): 100%|██████████| 38/38 [00:09"
     ]
    },
    {
     "name": "stdout",
     "output_type": "stream",
     "text": [
      "                   all        679       3388      0.945      0.925      0.969      0.643\n"
     ]
    },
    {
     "name": "stderr",
     "output_type": "stream",
     "text": [
      "\n"
     ]
    },
    {
     "name": "stdout",
     "output_type": "stream",
     "text": [
      "\n",
      "      Epoch    GPU_mem   box_loss   cls_loss   dfl_loss  Instances       Size\n"
     ]
    },
    {
     "name": "stderr",
     "output_type": "stream",
     "text": [
      "    167/200      3.95G       1.57     0.6849      1.886         24        640: 100%|██████████| 227/227 [01:05<00:00,  \n",
      "                 Class     Images  Instances      Box(P          R      mAP50  mAP50-95): 100%|██████████| 38/38 [00:09"
     ]
    },
    {
     "name": "stdout",
     "output_type": "stream",
     "text": [
      "                   all        679       3388      0.949      0.922       0.97      0.642\n"
     ]
    },
    {
     "name": "stderr",
     "output_type": "stream",
     "text": [
      "\n"
     ]
    },
    {
     "name": "stdout",
     "output_type": "stream",
     "text": [
      "\n",
      "      Epoch    GPU_mem   box_loss   cls_loss   dfl_loss  Instances       Size\n"
     ]
    },
    {
     "name": "stderr",
     "output_type": "stream",
     "text": [
      "    168/200      3.98G      1.578     0.6744      1.879         15        640: 100%|██████████| 227/227 [01:05<00:00,  \n",
      "                 Class     Images  Instances      Box(P          R      mAP50  mAP50-95): 100%|██████████| 38/38 [00:09"
     ]
    },
    {
     "name": "stdout",
     "output_type": "stream",
     "text": [
      "                   all        679       3388      0.954      0.918       0.97      0.643\n"
     ]
    },
    {
     "name": "stderr",
     "output_type": "stream",
     "text": [
      "\n"
     ]
    },
    {
     "name": "stdout",
     "output_type": "stream",
     "text": [
      "\n",
      "      Epoch    GPU_mem   box_loss   cls_loss   dfl_loss  Instances       Size\n"
     ]
    },
    {
     "name": "stderr",
     "output_type": "stream",
     "text": [
      "    169/200      3.97G      1.572     0.6801      1.872         19        640: 100%|██████████| 227/227 [01:05<00:00,  \n",
      "                 Class     Images  Instances      Box(P          R      mAP50  mAP50-95): 100%|██████████| 38/38 [00:09"
     ]
    },
    {
     "name": "stdout",
     "output_type": "stream",
     "text": [
      "                   all        679       3388      0.952       0.92      0.971      0.646\n"
     ]
    },
    {
     "name": "stderr",
     "output_type": "stream",
     "text": [
      "\n"
     ]
    },
    {
     "name": "stdout",
     "output_type": "stream",
     "text": [
      "\n",
      "      Epoch    GPU_mem   box_loss   cls_loss   dfl_loss  Instances       Size\n"
     ]
    },
    {
     "name": "stderr",
     "output_type": "stream",
     "text": [
      "    170/200      3.98G      1.552     0.6666      1.865         30        640: 100%|██████████| 227/227 [01:05<00:00,  \n",
      "                 Class     Images  Instances      Box(P          R      mAP50  mAP50-95): 100%|██████████| 38/38 [00:09"
     ]
    },
    {
     "name": "stdout",
     "output_type": "stream",
     "text": [
      "                   all        679       3388      0.946      0.928       0.97      0.645\n"
     ]
    },
    {
     "name": "stderr",
     "output_type": "stream",
     "text": [
      "\n"
     ]
    },
    {
     "name": "stdout",
     "output_type": "stream",
     "text": [
      "\n",
      "      Epoch    GPU_mem   box_loss   cls_loss   dfl_loss  Instances       Size\n"
     ]
    },
    {
     "name": "stderr",
     "output_type": "stream",
     "text": [
      "    171/200         4G      1.573     0.6814      1.868         12        640: 100%|██████████| 227/227 [01:06<00:00,  \n",
      "                 Class     Images  Instances      Box(P          R      mAP50  mAP50-95): 100%|██████████| 38/38 [00:09"
     ]
    },
    {
     "name": "stdout",
     "output_type": "stream",
     "text": [
      "                   all        679       3388      0.952      0.917      0.971      0.647\n"
     ]
    },
    {
     "name": "stderr",
     "output_type": "stream",
     "text": [
      "\n"
     ]
    },
    {
     "name": "stdout",
     "output_type": "stream",
     "text": [
      "\n",
      "      Epoch    GPU_mem   box_loss   cls_loss   dfl_loss  Instances       Size\n"
     ]
    },
    {
     "name": "stderr",
     "output_type": "stream",
     "text": [
      "    172/200       3.9G      1.562     0.6772      1.866         31        640: 100%|██████████| 227/227 [01:05<00:00,  \n",
      "                 Class     Images  Instances      Box(P          R      mAP50  mAP50-95): 100%|██████████| 38/38 [00:09"
     ]
    },
    {
     "name": "stdout",
     "output_type": "stream",
     "text": [
      "                   all        679       3388      0.949       0.92       0.97      0.644\n"
     ]
    },
    {
     "name": "stderr",
     "output_type": "stream",
     "text": [
      "\n"
     ]
    },
    {
     "name": "stdout",
     "output_type": "stream",
     "text": [
      "\n",
      "      Epoch    GPU_mem   box_loss   cls_loss   dfl_loss  Instances       Size\n"
     ]
    },
    {
     "name": "stderr",
     "output_type": "stream",
     "text": [
      "    173/200      3.96G      1.569      0.685      1.884         50        640: 100%|██████████| 227/227 [01:05<00:00,  \n",
      "                 Class     Images  Instances      Box(P          R      mAP50  mAP50-95): 100%|██████████| 38/38 [00:09"
     ]
    },
    {
     "name": "stdout",
     "output_type": "stream",
     "text": [
      "                   all        679       3388      0.945      0.922      0.969      0.644\n"
     ]
    },
    {
     "name": "stderr",
     "output_type": "stream",
     "text": [
      "\n"
     ]
    },
    {
     "name": "stdout",
     "output_type": "stream",
     "text": [
      "\n",
      "      Epoch    GPU_mem   box_loss   cls_loss   dfl_loss  Instances       Size\n"
     ]
    },
    {
     "name": "stderr",
     "output_type": "stream",
     "text": [
      "    174/200      3.93G      1.557     0.6879      1.872         17        640: 100%|██████████| 227/227 [01:05<00:00,  \n",
      "                 Class     Images  Instances      Box(P          R      mAP50  mAP50-95): 100%|██████████| 38/38 [00:09"
     ]
    },
    {
     "name": "stdout",
     "output_type": "stream",
     "text": [
      "                   all        679       3388      0.946      0.926      0.969      0.644\n"
     ]
    },
    {
     "name": "stderr",
     "output_type": "stream",
     "text": [
      "\n"
     ]
    },
    {
     "name": "stdout",
     "output_type": "stream",
     "text": [
      "\n",
      "      Epoch    GPU_mem   box_loss   cls_loss   dfl_loss  Instances       Size\n"
     ]
    },
    {
     "name": "stderr",
     "output_type": "stream",
     "text": [
      "    175/200      3.87G      1.536     0.6623      1.858         27        640: 100%|██████████| 227/227 [01:05<00:00,  \n",
      "                 Class     Images  Instances      Box(P          R      mAP50  mAP50-95): 100%|██████████| 38/38 [00:09"
     ]
    },
    {
     "name": "stdout",
     "output_type": "stream",
     "text": [
      "                   all        679       3388      0.949      0.918      0.969      0.645\n"
     ]
    },
    {
     "name": "stderr",
     "output_type": "stream",
     "text": [
      "\n"
     ]
    },
    {
     "name": "stdout",
     "output_type": "stream",
     "text": [
      "\n",
      "      Epoch    GPU_mem   box_loss   cls_loss   dfl_loss  Instances       Size\n"
     ]
    },
    {
     "name": "stderr",
     "output_type": "stream",
     "text": [
      "    176/200      3.96G      1.563     0.6656      1.867          5        640: 100%|██████████| 227/227 [01:05<00:00,  \n",
      "                 Class     Images  Instances      Box(P          R      mAP50  mAP50-95): 100%|██████████| 38/38 [00:09"
     ]
    },
    {
     "name": "stdout",
     "output_type": "stream",
     "text": [
      "                   all        679       3388      0.948      0.921       0.97      0.645\n"
     ]
    },
    {
     "name": "stderr",
     "output_type": "stream",
     "text": [
      "\n"
     ]
    },
    {
     "name": "stdout",
     "output_type": "stream",
     "text": [
      "\n",
      "      Epoch    GPU_mem   box_loss   cls_loss   dfl_loss  Instances       Size\n"
     ]
    },
    {
     "name": "stderr",
     "output_type": "stream",
     "text": [
      "    177/200      3.97G      1.557     0.6725      1.861         13        640: 100%|██████████| 227/227 [01:05<00:00,  \n",
      "                 Class     Images  Instances      Box(P          R      mAP50  mAP50-95): 100%|██████████| 38/38 [00:09"
     ]
    },
    {
     "name": "stdout",
     "output_type": "stream",
     "text": [
      "                   all        679       3388      0.937      0.932      0.969      0.644\n"
     ]
    },
    {
     "name": "stderr",
     "output_type": "stream",
     "text": [
      "\n"
     ]
    },
    {
     "name": "stdout",
     "output_type": "stream",
     "text": [
      "\n",
      "      Epoch    GPU_mem   box_loss   cls_loss   dfl_loss  Instances       Size\n"
     ]
    },
    {
     "name": "stderr",
     "output_type": "stream",
     "text": [
      "    178/200      3.98G      1.541     0.6669      1.875          9        640: 100%|██████████| 227/227 [01:06<00:00,  \n",
      "                 Class     Images  Instances      Box(P          R      mAP50  mAP50-95): 100%|██████████| 38/38 [00:09"
     ]
    },
    {
     "name": "stdout",
     "output_type": "stream",
     "text": [
      "                   all        679       3388      0.932      0.939       0.97      0.645\n"
     ]
    },
    {
     "name": "stderr",
     "output_type": "stream",
     "text": [
      "\n"
     ]
    },
    {
     "name": "stdout",
     "output_type": "stream",
     "text": [
      "\n",
      "      Epoch    GPU_mem   box_loss   cls_loss   dfl_loss  Instances       Size\n"
     ]
    },
    {
     "name": "stderr",
     "output_type": "stream",
     "text": [
      "    179/200      3.99G      1.553     0.6843      1.848         46        640: 100%|██████████| 227/227 [01:05<00:00,  \n",
      "                 Class     Images  Instances      Box(P          R      mAP50  mAP50-95): 100%|██████████| 38/38 [00:09"
     ]
    },
    {
     "name": "stdout",
     "output_type": "stream",
     "text": [
      "                   all        679       3388      0.947      0.921      0.969      0.645\n"
     ]
    },
    {
     "name": "stderr",
     "output_type": "stream",
     "text": [
      "\n"
     ]
    },
    {
     "name": "stdout",
     "output_type": "stream",
     "text": [
      "\n",
      "      Epoch    GPU_mem   box_loss   cls_loss   dfl_loss  Instances       Size\n"
     ]
    },
    {
     "name": "stderr",
     "output_type": "stream",
     "text": [
      "    180/200      3.96G      1.518     0.6592      1.865         14        640: 100%|██████████| 227/227 [01:05<00:00,  \n",
      "                 Class     Images  Instances      Box(P          R      mAP50  mAP50-95): 100%|██████████| 38/38 [00:09"
     ]
    },
    {
     "name": "stdout",
     "output_type": "stream",
     "text": [
      "                   all        679       3388      0.947      0.927       0.97      0.645\n"
     ]
    },
    {
     "name": "stderr",
     "output_type": "stream",
     "text": [
      "\n"
     ]
    },
    {
     "name": "stdout",
     "output_type": "stream",
     "text": [
      "\n",
      "      Epoch    GPU_mem   box_loss   cls_loss   dfl_loss  Instances       Size\n"
     ]
    },
    {
     "name": "stderr",
     "output_type": "stream",
     "text": [
      "    181/200      3.99G      1.536     0.6695      1.857         35        640: 100%|██████████| 227/227 [01:05<00:00,  \n",
      "                 Class     Images  Instances      Box(P          R      mAP50  mAP50-95): 100%|██████████| 38/38 [00:09"
     ]
    },
    {
     "name": "stdout",
     "output_type": "stream",
     "text": [
      "                   all        679       3388      0.947      0.927       0.97      0.645\n"
     ]
    },
    {
     "name": "stderr",
     "output_type": "stream",
     "text": [
      "\n"
     ]
    },
    {
     "name": "stdout",
     "output_type": "stream",
     "text": [
      "\n",
      "      Epoch    GPU_mem   box_loss   cls_loss   dfl_loss  Instances       Size\n"
     ]
    },
    {
     "name": "stderr",
     "output_type": "stream",
     "text": [
      "    182/200      3.97G      1.533     0.6694      1.873         34        640: 100%|██████████| 227/227 [01:05<00:00,  \n",
      "                 Class     Images  Instances      Box(P          R      mAP50  mAP50-95): 100%|██████████| 38/38 [00:09"
     ]
    },
    {
     "name": "stdout",
     "output_type": "stream",
     "text": [
      "                   all        679       3388      0.948      0.923       0.97      0.645\n"
     ]
    },
    {
     "name": "stderr",
     "output_type": "stream",
     "text": [
      "\n"
     ]
    },
    {
     "name": "stdout",
     "output_type": "stream",
     "text": [
      "\n",
      "      Epoch    GPU_mem   box_loss   cls_loss   dfl_loss  Instances       Size\n"
     ]
    },
    {
     "name": "stderr",
     "output_type": "stream",
     "text": [
      "    183/200      4.02G      1.527     0.6632      1.866         40        640: 100%|██████████| 227/227 [01:06<00:00,  \n",
      "                 Class     Images  Instances      Box(P          R      mAP50  mAP50-95): 100%|██████████| 38/38 [00:09"
     ]
    },
    {
     "name": "stdout",
     "output_type": "stream",
     "text": [
      "                   all        679       3388      0.943      0.926      0.969      0.644\n"
     ]
    },
    {
     "name": "stderr",
     "output_type": "stream",
     "text": [
      "\n"
     ]
    },
    {
     "name": "stdout",
     "output_type": "stream",
     "text": [
      "\n",
      "      Epoch    GPU_mem   box_loss   cls_loss   dfl_loss  Instances       Size\n"
     ]
    },
    {
     "name": "stderr",
     "output_type": "stream",
     "text": [
      "    184/200      4.01G      1.521     0.6544      1.858          9        640: 100%|██████████| 227/227 [01:05<00:00,  \n",
      "                 Class     Images  Instances      Box(P          R      mAP50  mAP50-95): 100%|██████████| 38/38 [00:09"
     ]
    },
    {
     "name": "stdout",
     "output_type": "stream",
     "text": [
      "                   all        679       3388      0.948      0.923      0.969      0.645\n"
     ]
    },
    {
     "name": "stderr",
     "output_type": "stream",
     "text": [
      "\n"
     ]
    },
    {
     "name": "stdout",
     "output_type": "stream",
     "text": [
      "\n",
      "      Epoch    GPU_mem   box_loss   cls_loss   dfl_loss  Instances       Size\n"
     ]
    },
    {
     "name": "stderr",
     "output_type": "stream",
     "text": [
      "    185/200      3.97G      1.518     0.6556      1.864         38        640: 100%|██████████| 227/227 [01:05<00:00,  \n",
      "                 Class     Images  Instances      Box(P          R      mAP50  mAP50-95): 100%|██████████| 38/38 [00:09"
     ]
    },
    {
     "name": "stdout",
     "output_type": "stream",
     "text": [
      "                   all        679       3388       0.95      0.924       0.97      0.646\n"
     ]
    },
    {
     "name": "stderr",
     "output_type": "stream",
     "text": [
      "\n"
     ]
    },
    {
     "name": "stdout",
     "output_type": "stream",
     "text": [
      "\n",
      "      Epoch    GPU_mem   box_loss   cls_loss   dfl_loss  Instances       Size\n"
     ]
    },
    {
     "name": "stderr",
     "output_type": "stream",
     "text": [
      "    186/200      3.97G      1.533     0.6671      1.858          6        640: 100%|██████████| 227/227 [01:05<00:00,  \n",
      "                 Class     Images  Instances      Box(P          R      mAP50  mAP50-95): 100%|██████████| 38/38 [00:09"
     ]
    },
    {
     "name": "stdout",
     "output_type": "stream",
     "text": [
      "                   all        679       3388      0.944      0.925      0.969      0.644\n"
     ]
    },
    {
     "name": "stderr",
     "output_type": "stream",
     "text": [
      "\n"
     ]
    },
    {
     "name": "stdout",
     "output_type": "stream",
     "text": [
      "\n",
      "      Epoch    GPU_mem   box_loss   cls_loss   dfl_loss  Instances       Size\n"
     ]
    },
    {
     "name": "stderr",
     "output_type": "stream",
     "text": [
      "    187/200      3.96G      1.522     0.6566      1.853          7        640: 100%|██████████| 227/227 [01:05<00:00,  \n",
      "                 Class     Images  Instances      Box(P          R      mAP50  mAP50-95): 100%|██████████| 38/38 [00:09"
     ]
    },
    {
     "name": "stdout",
     "output_type": "stream",
     "text": [
      "                   all        679       3388      0.954      0.914      0.969      0.644\n"
     ]
    },
    {
     "name": "stderr",
     "output_type": "stream",
     "text": [
      "\n"
     ]
    },
    {
     "name": "stdout",
     "output_type": "stream",
     "text": [
      "\n",
      "      Epoch    GPU_mem   box_loss   cls_loss   dfl_loss  Instances       Size\n"
     ]
    },
    {
     "name": "stderr",
     "output_type": "stream",
     "text": [
      "    188/200      4.04G      1.524     0.6539      1.867         22        640: 100%|██████████| 227/227 [01:05<00:00,  \n",
      "                 Class     Images  Instances      Box(P          R      mAP50  mAP50-95): 100%|██████████| 38/38 [00:09"
     ]
    },
    {
     "name": "stdout",
     "output_type": "stream",
     "text": [
      "                   all        679       3388      0.955      0.917      0.969      0.645\n"
     ]
    },
    {
     "name": "stderr",
     "output_type": "stream",
     "text": [
      "\n"
     ]
    },
    {
     "name": "stdout",
     "output_type": "stream",
     "text": [
      "\n",
      "      Epoch    GPU_mem   box_loss   cls_loss   dfl_loss  Instances       Size\n"
     ]
    },
    {
     "name": "stderr",
     "output_type": "stream",
     "text": [
      "    189/200      3.93G      1.504     0.6469       1.86         18        640: 100%|██████████| 227/227 [01:05<00:00,  \n",
      "                 Class     Images  Instances      Box(P          R      mAP50  mAP50-95): 100%|██████████| 38/38 [00:09"
     ]
    },
    {
     "name": "stdout",
     "output_type": "stream",
     "text": [
      "                   all        679       3388      0.944      0.921      0.969      0.645\n"
     ]
    },
    {
     "name": "stderr",
     "output_type": "stream",
     "text": [
      "\n"
     ]
    },
    {
     "name": "stdout",
     "output_type": "stream",
     "text": [
      "\n",
      "      Epoch    GPU_mem   box_loss   cls_loss   dfl_loss  Instances       Size\n"
     ]
    },
    {
     "name": "stderr",
     "output_type": "stream",
     "text": [
      "    190/200      3.95G      1.512     0.6544       1.86          7        640: 100%|██████████| 227/227 [01:05<00:00,  \n",
      "                 Class     Images  Instances      Box(P          R      mAP50  mAP50-95): 100%|██████████| 38/38 [00:09"
     ]
    },
    {
     "name": "stdout",
     "output_type": "stream",
     "text": [
      "                   all        679       3388      0.948      0.919      0.969      0.645\n"
     ]
    },
    {
     "name": "stderr",
     "output_type": "stream",
     "text": [
      "\n"
     ]
    },
    {
     "name": "stdout",
     "output_type": "stream",
     "text": [
      "Closing dataloader mosaic\n",
      "\n",
      "      Epoch    GPU_mem   box_loss   cls_loss   dfl_loss  Instances       Size\n"
     ]
    },
    {
     "name": "stderr",
     "output_type": "stream",
     "text": [
      "    191/200      3.93G      1.407     0.5386      1.824          7        640: 100%|██████████| 227/227 [01:05<00:00,  \n",
      "                 Class     Images  Instances      Box(P          R      mAP50  mAP50-95): 100%|██████████| 38/38 [00:09"
     ]
    },
    {
     "name": "stdout",
     "output_type": "stream",
     "text": [
      "                   all        679       3388       0.95       0.92      0.969      0.643\n"
     ]
    },
    {
     "name": "stderr",
     "output_type": "stream",
     "text": [
      "\n"
     ]
    },
    {
     "name": "stdout",
     "output_type": "stream",
     "text": [
      "\n",
      "      Epoch    GPU_mem   box_loss   cls_loss   dfl_loss  Instances       Size\n"
     ]
    },
    {
     "name": "stderr",
     "output_type": "stream",
     "text": [
      "    192/200      3.97G      1.397      0.544      1.821         10        640: 100%|██████████| 227/227 [01:05<00:00,  \n",
      "                 Class     Images  Instances      Box(P          R      mAP50  mAP50-95): 100%|██████████| 38/38 [00:09"
     ]
    },
    {
     "name": "stdout",
     "output_type": "stream",
     "text": [
      "                   all        679       3388      0.946      0.923       0.97      0.646\n"
     ]
    },
    {
     "name": "stderr",
     "output_type": "stream",
     "text": [
      "\n"
     ]
    },
    {
     "name": "stdout",
     "output_type": "stream",
     "text": [
      "\n",
      "      Epoch    GPU_mem   box_loss   cls_loss   dfl_loss  Instances       Size\n"
     ]
    },
    {
     "name": "stderr",
     "output_type": "stream",
     "text": [
      "    193/200      3.97G      1.384     0.5291      1.816          9        640: 100%|██████████| 227/227 [01:05<00:00,  \n",
      "                 Class     Images  Instances      Box(P          R      mAP50  mAP50-95): 100%|██████████| 38/38 [00:09"
     ]
    },
    {
     "name": "stdout",
     "output_type": "stream",
     "text": [
      "                   all        679       3388      0.946      0.929       0.97      0.646\n"
     ]
    },
    {
     "name": "stderr",
     "output_type": "stream",
     "text": [
      "\n"
     ]
    },
    {
     "name": "stdout",
     "output_type": "stream",
     "text": [
      "\n",
      "      Epoch    GPU_mem   box_loss   cls_loss   dfl_loss  Instances       Size\n"
     ]
    },
    {
     "name": "stderr",
     "output_type": "stream",
     "text": [
      "    194/200      3.93G      1.386     0.5338      1.807          3        640: 100%|██████████| 227/227 [01:05<00:00,  \n",
      "                 Class     Images  Instances      Box(P          R      mAP50  mAP50-95): 100%|██████████| 38/38 [00:09"
     ]
    },
    {
     "name": "stdout",
     "output_type": "stream",
     "text": [
      "                   all        679       3388      0.945      0.929       0.97      0.646\n"
     ]
    },
    {
     "name": "stderr",
     "output_type": "stream",
     "text": [
      "\n"
     ]
    },
    {
     "name": "stdout",
     "output_type": "stream",
     "text": [
      "\n",
      "      Epoch    GPU_mem   box_loss   cls_loss   dfl_loss  Instances       Size\n"
     ]
    },
    {
     "name": "stderr",
     "output_type": "stream",
     "text": [
      "    195/200         4G      1.393      0.539      1.825          3        640: 100%|██████████| 227/227 [01:05<00:00,  \n",
      "                 Class     Images  Instances      Box(P          R      mAP50  mAP50-95): 100%|██████████| 38/38 [00:09"
     ]
    },
    {
     "name": "stdout",
     "output_type": "stream",
     "text": [
      "                   all        679       3388      0.945      0.926       0.97      0.646\n"
     ]
    },
    {
     "name": "stderr",
     "output_type": "stream",
     "text": [
      "\n"
     ]
    },
    {
     "name": "stdout",
     "output_type": "stream",
     "text": [
      "\n",
      "      Epoch    GPU_mem   box_loss   cls_loss   dfl_loss  Instances       Size\n"
     ]
    },
    {
     "name": "stderr",
     "output_type": "stream",
     "text": [
      "    196/200         4G      1.393     0.5352      1.816          8        640: 100%|██████████| 227/227 [01:05<00:00,  \n",
      "                 Class     Images  Instances      Box(P          R      mAP50  mAP50-95): 100%|██████████| 38/38 [00:09"
     ]
    },
    {
     "name": "stdout",
     "output_type": "stream",
     "text": [
      "                   all        679       3388      0.948      0.923       0.97      0.645\n"
     ]
    },
    {
     "name": "stderr",
     "output_type": "stream",
     "text": [
      "\n"
     ]
    },
    {
     "name": "stdout",
     "output_type": "stream",
     "text": [
      "\n",
      "      Epoch    GPU_mem   box_loss   cls_loss   dfl_loss  Instances       Size\n"
     ]
    },
    {
     "name": "stderr",
     "output_type": "stream",
     "text": [
      "    197/200      3.97G      1.406     0.5414      1.825          5        640: 100%|██████████| 227/227 [01:05<00:00,  \n",
      "                 Class     Images  Instances      Box(P          R      mAP50  mAP50-95): 100%|██████████| 38/38 [00:09"
     ]
    },
    {
     "name": "stdout",
     "output_type": "stream",
     "text": [
      "                   all        679       3388      0.947      0.924       0.97      0.646\n"
     ]
    },
    {
     "name": "stderr",
     "output_type": "stream",
     "text": [
      "\n"
     ]
    },
    {
     "name": "stdout",
     "output_type": "stream",
     "text": [
      "\n",
      "      Epoch    GPU_mem   box_loss   cls_loss   dfl_loss  Instances       Size\n"
     ]
    },
    {
     "name": "stderr",
     "output_type": "stream",
     "text": [
      "    198/200      3.96G      1.391     0.5307      1.819          6        640: 100%|██████████| 227/227 [01:05<00:00,  \n",
      "                 Class     Images  Instances      Box(P          R      mAP50  mAP50-95): 100%|██████████| 38/38 [00:09"
     ]
    },
    {
     "name": "stdout",
     "output_type": "stream",
     "text": [
      "                   all        679       3388      0.946      0.924       0.97      0.646\n"
     ]
    },
    {
     "name": "stderr",
     "output_type": "stream",
     "text": [
      "\n"
     ]
    },
    {
     "name": "stdout",
     "output_type": "stream",
     "text": [
      "\n",
      "      Epoch    GPU_mem   box_loss   cls_loss   dfl_loss  Instances       Size\n"
     ]
    },
    {
     "name": "stderr",
     "output_type": "stream",
     "text": [
      "    199/200      3.94G      1.381      0.527      1.808          4        640: 100%|██████████| 227/227 [01:05<00:00,  \n",
      "                 Class     Images  Instances      Box(P          R      mAP50  mAP50-95): 100%|██████████| 38/38 [00:09"
     ]
    },
    {
     "name": "stdout",
     "output_type": "stream",
     "text": [
      "                   all        679       3388      0.943      0.929      0.969      0.646\n"
     ]
    },
    {
     "name": "stderr",
     "output_type": "stream",
     "text": [
      "\n"
     ]
    },
    {
     "name": "stdout",
     "output_type": "stream",
     "text": [
      "\n",
      "      Epoch    GPU_mem   box_loss   cls_loss   dfl_loss  Instances       Size\n"
     ]
    },
    {
     "name": "stderr",
     "output_type": "stream",
     "text": [
      "    200/200       3.9G      1.387     0.5371      1.803          8        640: 100%|██████████| 227/227 [01:05<00:00,  \n",
      "                 Class     Images  Instances      Box(P          R      mAP50  mAP50-95): 100%|██████████| 38/38 [00:09"
     ]
    },
    {
     "name": "stdout",
     "output_type": "stream",
     "text": [
      "                   all        679       3388      0.942      0.928      0.969      0.646\n"
     ]
    },
    {
     "name": "stderr",
     "output_type": "stream",
     "text": [
      "\n"
     ]
    },
    {
     "name": "stdout",
     "output_type": "stream",
     "text": [
      "\n",
      "200 epochs completed in 4.312 hours.\n",
      "Optimizer stripped from runs\\detect\\dataset-v2-finetune-1\\weights\\last.pt, 52.2MB\n",
      "Optimizer stripped from runs\\detect\\dataset-v2-finetune-1\\weights\\best.pt, 52.2MB\n",
      "\n",
      "Validating runs\\detect\\dataset-v2-finetune-1\\weights\\best.pt...\n",
      "Ultralytics 8.3.82  Python-3.11.11 torch-2.5.1 CUDA:0 (NVIDIA GeForce RTX 3060, 12288MiB)\n",
      "YOLOv10l summary (fused): 197 layers, 25,722,536 parameters, 0 gradients, 126.3 GFLOPs\n"
     ]
    },
    {
     "name": "stderr",
     "output_type": "stream",
     "text": [
      "                 Class     Images  Instances      Box(P          R      mAP50  mAP50-95): 100%|██████████| 38/38 [00:09\n"
     ]
    },
    {
     "name": "stdout",
     "output_type": "stream",
     "text": [
      "                   all        679       3388      0.955      0.915      0.971      0.647\n",
      "            no_glasses        407        605      0.951      0.884      0.965      0.578\n",
      "             no_gloves        472       1207      0.947       0.88      0.951      0.624\n",
      "             no_helmet        449        760      0.949      0.953      0.985      0.645\n",
      "               no_vest        481        816      0.971      0.945      0.984      0.741\n",
      "Speed: 0.2ms preprocess, 8.9ms inference, 0.0ms loss, 0.3ms postprocess per image\n",
      "Results saved to \u001b[1mruns\\detect\\dataset-v2-finetune-1\u001b[0m\n",
      "Ultralytics 8.3.82  Python-3.11.11 torch-2.5.1 CPU (Intel Core(TM) i5-8400 2.80GHz)\n",
      "YOLOv10l summary (fused): 197 layers, 25,722,536 parameters, 0 gradients, 126.3 GFLOPs\n",
      "\n",
      "\u001b[34m\u001b[1mPyTorch:\u001b[0m starting from 'runs\\detect\\dataset-v2-finetune-1\\weights\\best.pt' with input shape (1, 3, 640, 640) BCHW and output shape(s) (1, 300, 6) (49.8 MB)\n",
      "\n",
      "\u001b[34m\u001b[1mTorchScript:\u001b[0m starting export with torch 2.5.1...\n",
      "\u001b[34m\u001b[1mTorchScript:\u001b[0m export success  5.9s, saved as 'runs\\detect\\dataset-v2-finetune-1\\weights\\best.torchscript' (99.1 MB)\n",
      "\n",
      "Export complete (7.4s)\n",
      "Results saved to \u001b[1mF:\\PRACA_MAGISTERSKA\\UCZENIE_MODELI\\yolov10l\\runs\\detect\\dataset-v2-finetune-1\\weights\u001b[0m\n",
      "Predict:         yolo predict task=detect model=runs\\detect\\dataset-v2-finetune-1\\weights\\best.torchscript imgsz=640  \n",
      "Validate:        yolo val task=detect model=runs\\detect\\dataset-v2-finetune-1\\weights\\best.torchscript imgsz=640 data=data.yaml  \n",
      "Visualize:       https://netron.app\n"
     ]
    }
   ],
   "source": [
    "torch.cuda.empty_cache()\n",
    "# Load a COCO-pretrained model\n",
    "model = YOLO('yolov10l.pt')\n",
    "\n",
    "# Display model information (optional)\n",
    "model.info()\n",
    "\n",
    "# Train the model (100 epochs)\n",
    "results = model.train(data='data.yaml', epochs=200, imgsz=640, device=0, patience=50, batch=0.9, save_period=10, warmup_epochs=3.0, name='dataset-v2-finetune-1', freeze=10)\n",
    "# Export the mode\n",
    "path = model.export(format=\"torchscript\")  # return path to exported model"
   ]
  },
  {
   "cell_type": "code",
   "execution_count": 4,
   "id": "6c2967d8-b85b-4b83-ab79-19baaea63f8e",
   "metadata": {},
   "outputs": [],
   "source": [
    "torch.cuda.empty_cache()"
   ]
  },
  {
   "cell_type": "markdown",
   "id": "38bb2a6c-e9ac-4813-a1f6-0f797f3cac4e",
   "metadata": {},
   "source": [
    "Ewaluacja modelu"
   ]
  },
  {
   "cell_type": "code",
   "execution_count": 3,
   "id": "ad9a3ca2-b49f-4423-9349-cc725be2fe3b",
   "metadata": {},
   "outputs": [
    {
     "name": "stdout",
     "output_type": "stream",
     "text": [
      "Ultralytics 8.3.82  Python-3.11.11 torch-2.5.1 CUDA:0 (NVIDIA GeForce RTX 3060, 12288MiB)\n",
      "YOLOv10l summary (fused): 197 layers, 25,722,536 parameters, 0 gradients, 126.3 GFLOPs\n"
     ]
    },
    {
     "name": "stderr",
     "output_type": "stream",
     "text": [
      "\u001b[34m\u001b[1mval: \u001b[0mScanning F:\\PRACA_MAGISTERSKA\\DATASETS\\MAGISTERKA-V2\\labels\\val.cache... 679 images, 154 backgrounds, 0 corrupt: 1\u001b[0m\n",
      "                 Class     Images  Instances      Box(P          R      mAP50  mAP50-95): 100%|██████████| 43/43 [00:15\n"
     ]
    },
    {
     "name": "stdout",
     "output_type": "stream",
     "text": [
      "                   all        679       3388      0.942      0.916      0.961      0.634\n",
      "            no_glasses        407        605       0.95      0.919      0.968      0.588\n",
      "             no_gloves        472       1207      0.916      0.872      0.928        0.6\n",
      "             no_helmet        449        760      0.958      0.936      0.973      0.635\n",
      "               no_vest        481        816      0.942      0.939      0.973      0.713\n",
      "Speed: 0.2ms preprocess, 16.5ms inference, 0.0ms loss, 0.2ms postprocess per image\n",
      "Results saved to \u001b[1mruns\\detect\\val8\u001b[0m\n"
     ]
    },
    {
     "data": {
      "text/plain": [
       "array([    0.58815,     0.59956,     0.63518,     0.71327])"
      ]
     },
     "execution_count": 3,
     "metadata": {},
     "output_type": "execute_result"
    }
   ],
   "source": [
    "# Load a model\n",
    "model = YOLO('runs/detect/dataset-v2-1/weights/epoch100.pt')\n",
    "\n",
    "# Validate a model\n",
    "metrics = model.val(iou=0.6)   # no arguments needed, dataset and settings remembered\n",
    "metrics.box.map         # map50-95\n",
    "metrics.box.map50       # map50\n",
    "metrics.box.map75       # map75\n",
    "metrics.box.maps        # a list contains map50-95 of each category"
   ]
  },
  {
   "cell_type": "code",
   "execution_count": 4,
   "id": "881ea89d-fe85-42b8-8aab-b8d887a45b4c",
   "metadata": {},
   "outputs": [],
   "source": [
    "import numpy as np\n",
    "import matplotlib.pyplot as plt\n",
    "%matplotlib inline"
   ]
  },
  {
   "cell_type": "code",
   "execution_count": 7,
   "id": "673f926d-390b-4f58-880a-ffaa50b82e48",
   "metadata": {},
   "outputs": [
    {
     "data": {
      "text/plain": [
       "np.float64(0.9288466131868316)"
      ]
     },
     "execution_count": 7,
     "metadata": {},
     "output_type": "execute_result"
    }
   ],
   "source": [
    "np.mean(metrics.box.f1)"
   ]
  },
  {
   "cell_type": "code",
   "execution_count": 8,
   "id": "7bfeff72-5fb8-4014-837c-86a1c85776f4",
   "metadata": {},
   "outputs": [
    {
     "data": {
      "text/plain": [
       "array([    0.93441,     0.89378,     0.94651,     0.94069])"
      ]
     },
     "execution_count": 8,
     "metadata": {},
     "output_type": "execute_result"
    }
   ],
   "source": [
    "metrics.box.f1"
   ]
  },
  {
   "cell_type": "code",
   "execution_count": 9,
   "id": "75b1ba9c-429d-4c54-a1db-a463a9478d9b",
   "metadata": {},
   "outputs": [
    {
     "data": {
      "text/plain": [
       "15.91080235641735"
      ]
     },
     "execution_count": 9,
     "metadata": {},
     "output_type": "execute_result"
    }
   ],
   "source": [
    "metrics.speed['inference']"
   ]
  },
  {
   "cell_type": "code",
   "execution_count": 5,
   "id": "315ff22f-9722-498e-9d11-e147d30497ee",
   "metadata": {},
   "outputs": [],
   "source": [
    "import numpy as np\n",
    "import matplotlib.pyplot as plt\n",
    "import seaborn as sn\n",
    "import warnings\n",
    "\n",
    "def plot_confusion_matrix(matrix, normalize=True, names=()):\n",
    "    \"\"\"\n",
    "    Plot the confusion matrix using seaborn.\n",
    "    należy dwukrotnie wywołać funkcję aby zwiększył się rozmiar opisów\n",
    "\n",
    "    Args:\n",
    "        matrix (np.ndarray): Macierz pomyłek (np. metrics.confusion_matrix.matrix)\n",
    "        normalize (bool, optional): Czy normalizować macierz. Default: True\n",
    "        names (tuple, optional): Nazwy klas, używane jako etykiety na wykresie.\n",
    "    \"\"\"\n",
    "    array = matrix / ((matrix.sum(0).reshape(1, -1) + 1e-9) if normalize else 1)  # normalizacja kolumn\n",
    "    array[array < 0.005] = np.nan  # nie pokazuj wartości poniżej 0.005 (będzie pusty)\n",
    "\n",
    "    fig, ax = plt.subplots(1, 1, figsize=(12, 9), tight_layout=True)\n",
    "    nc = metrics.confusion_matrix.nc\n",
    "    nn = len(names)  # liczba nazw\n",
    "    sn.set(font_scale=1.5 if nc < 50 else 0.8)  # rozmiar czcionki\n",
    "    labels = (0 < nn < 99) and (nn == nc)  # czy zastosować nazwy jako etykiety\n",
    "    ticklabels = (list(names.values()) + [\"background\"]) if labels else \"auto\"\n",
    "    with warnings.catch_warnings():\n",
    "        warnings.simplefilter(\"ignore\")  # ignoruj ostrzeżenia o pustej macierzy\n",
    "        sn.heatmap(\n",
    "            array,\n",
    "            ax=ax,\n",
    "            annot=nc < 30,\n",
    "            annot_kws={\"size\": 18},\n",
    "            cmap=\"Blues\",\n",
    "            fmt=\".2f\" if normalize else \".0f\",\n",
    "            square=True,\n",
    "            vmin=0.0,\n",
    "            xticklabels=ticklabels,\n",
    "            yticklabels=ticklabels,\n",
    "        ).set_facecolor((1, 1, 1))\n",
    "    title = \"Confusion Matrix\" + (\" Normalized\" if normalize else \"\")\n",
    "    ax.set_xlabel(\"True\")\n",
    "    ax.set_ylabel(\"Predicted\")\n",
    "    ax.set_title(title)\n",
    "    plt.show()"
   ]
  },
  {
   "cell_type": "code",
   "execution_count": 6,
   "id": "8d74b942-a786-4134-9976-edc2201245f3",
   "metadata": {},
   "outputs": [],
   "source": [
    "def plot_mc_curve(px, py, names=(), xlabel=\"Confidence\", ylabel=\"Metric\"):\n",
    "    \"\"\"Plots a metric-confidence curve.\"\"\"\n",
    "    fig, ax = plt.subplots(1, 1, figsize=(9, 6), tight_layout=True)\n",
    "\n",
    "    if 0 < len(names) < 21:  # display per-class legend if < 21 classes\n",
    "        for i, y in enumerate(py):\n",
    "            ax.plot(px, y, linewidth=1, label=f\"{names[i]}\")  # plot(confidence, metric)\n",
    "    else:\n",
    "        ax.plot(px, py.T, linewidth=1, color=\"grey\")  # plot(confidence, metric)\n",
    "\n",
    "    y = smooth(py.mean(0), 0.05)\n",
    "    ax.plot(px, y, linewidth=3, color=\"blue\", label=f\"all classes, best Confidence {y.max():.2f} at {px[y.argmax()]:.3f}\")\n",
    "    ax.set_xlabel(xlabel, fontsize=17)\n",
    "    ax.set_ylabel(ylabel, fontsize=17)\n",
    "    ax.set_xlim(0, 1)\n",
    "    ax.set_ylim(0, 1)\n",
    "    ax.grid(True)\n",
    "    ax.legend(fontsize=17)\n",
    "    plt.xticks(fontsize=15)\n",
    "    plt.yticks(fontsize=15)\n",
    "    ax.set_title(f\"{ylabel}-Confidence Curve\", fontsize=18)\n",
    "    plt.show()"
   ]
  },
  {
   "cell_type": "code",
   "execution_count": 7,
   "id": "59deea31-1a0f-489f-8647-c5a263cb6ac1",
   "metadata": {},
   "outputs": [],
   "source": [
    "def plot_pr_curve(px, py, ap, names=()):\n",
    "    \"\"\"Plots a precision-recall curve.\"\"\"\n",
    "    fig, ax = plt.subplots(1, 1, figsize=(9, 6), tight_layout=True)\n",
    "    py = np.stack(py, axis=1)  # shape (len(px), num_classes)\n",
    "    ap = np.array(ap).flatten()  # zapewnia 1D\n",
    "\n",
    "    if 0 < len(names) < 21:\n",
    "        for i, y in enumerate(py.T):\n",
    "            ax.plot(px, y, linewidth=1, label=f\"{names[i]} {ap[i]:.3f}\")\n",
    "    else:\n",
    "        ax.plot(px, py, linewidth=1, color=\"grey\")\n",
    "\n",
    "    ax.plot(px, py.mean(1), linewidth=3, color=\"blue\", label=f\"all classes {ap.mean():.3f} mAP@0.5\")\n",
    "    ax.set_xlabel(\"Recall\", fontsize=17)\n",
    "    ax.set_ylabel(\"Precision\", fontsize=17)\n",
    "    ax.set_xlim(0, 1)\n",
    "    ax.set_ylim(0, 1)\n",
    "    ax.legend(loc='lower left', fontsize=17)\n",
    "    plt.xticks(fontsize=15)\n",
    "    plt.yticks(fontsize=15)\n",
    "    ax.grid(True)\n",
    "    ax.set_title(\"Precision-Recall Curve\", fontsize=18)\n",
    "    plt.show()"
   ]
  },
  {
   "cell_type": "code",
   "execution_count": 8,
   "id": "64c63283-ee0b-4f09-9205-7d8aec0a7558",
   "metadata": {},
   "outputs": [],
   "source": [
    "def smooth(y, f=0.05):\n",
    "    \"\"\"Box filter of fraction f.\"\"\"\n",
    "    nf = round(len(y) * f * 2) // 2 + 1  # number of filter elements (must be odd)\n",
    "    p = np.ones(nf // 2)  # ones padding\n",
    "    yp = np.concatenate((p * y[0], y, p * y[-1]), 0)  # y padded\n",
    "    return np.convolve(yp, np.ones(nf) / nf, mode=\"valid\")  # y-smoothed"
   ]
  },
  {
   "cell_type": "code",
   "execution_count": 9,
   "id": "5423e220-3a78-493b-84fd-024063e2b78e",
   "metadata": {},
   "outputs": [
    {
     "data": {
      "image/png": "[encoded data removed]",
      "text/plain": [
       "<Figure size 900x600 with 1 Axes>"
      ]
     },
     "metadata": {},
     "output_type": "display_data"
    }
   ],
   "source": [
    "x, prec_values = np.linspace(0, 1, 1000), []\n",
    "\n",
    "f1_curve = metrics.box.f1_curve\n",
    "metrics.names\n",
    "plot_mc_curve(x, f1_curve, metrics.names, ylabel=\"F1\")"
   ]
  },
  {
   "cell_type": "code",
   "execution_count": 10,
   "id": "035f8e53-fec8-4e1a-9260-551c120b9e86",
   "metadata": {},
   "outputs": [
    {
     "data": {
      "image/png": "[encoded data removed]",
      "text/plain": [
       "<Figure size 900x600 with 1 Axes>"
      ]
     },
     "metadata": {},
     "output_type": "display_data"
    }
   ],
   "source": [
    "plot_mc_curve(x, metrics.box.r_curve, metrics.names, ylabel=\"Recall\")"
   ]
  },
  {
   "cell_type": "code",
   "execution_count": 11,
   "id": "a3214fd1-8928-4e21-a055-9ecbe8cea34a",
   "metadata": {},
   "outputs": [
    {
     "data": {
      "image/png": "[encoded data removed]",
      "text/plain": [
       "<Figure size 900x600 with 1 Axes>"
      ]
     },
     "metadata": {},
     "output_type": "display_data"
    }
   ],
   "source": [
    "plot_mc_curve(x, metrics.box.p_curve, metrics.names, ylabel=\"Precision\")"
   ]
  },
  {
   "cell_type": "code",
   "execution_count": 12,
   "id": "6b7ca817-941c-4e2d-bd91-ec72be3db05e",
   "metadata": {},
   "outputs": [
    {
     "data": {
      "image/png": "[encoded data removed]",
      "text/plain": [
       "<Figure size 900x600 with 1 Axes>"
      ]
     },
     "metadata": {},
     "output_type": "display_data"
    }
   ],
   "source": [
    "plot_pr_curve(x, metrics.box.prec_values, metrics.box.ap, metrics.names)"
   ]
  },
  {
   "cell_type": "code",
   "execution_count": 7,
   "id": "d2da8e35-fa2b-45b0-b0e8-3dfe54102301",
   "metadata": {},
   "outputs": [
    {
     "data": {
      "image/png": "[encoded data removed]",
      "text/plain": [
       "<Figure size 1200x900 with 2 Axes>"
      ]
     },
     "metadata": {},
     "output_type": "display_data"
    }
   ],
   "source": [
    "plot_confusion_matrix(metrics.confusion_matrix.matrix, normalize=False, names=metrics.names)"
   ]
  },
  {
   "cell_type": "code",
   "execution_count": 21,
   "id": "cae66fa3-6e6e-45df-8766-882bfe3a4c9b",
   "metadata": {},
   "outputs": [],
   "source": []
  },
  {
   "cell_type": "markdown",
   "id": "7e7dfdab-fcf7-4df3-93d9-f7e20c90a075",
   "metadata": {},
   "source": [
    "Predykcja"
   ]
  },
  {
   "cell_type": "code",
   "execution_count": 9,
   "id": "b8614e61-cf9a-412d-986b-3211d78d23d8",
   "metadata": {},
   "outputs": [
    {
     "name": "stdout",
     "output_type": "stream",
     "text": [
      "\n",
      "image 1/3 f:\\PRACA_MAGISTERSKA\\DATASETS\\PREDYKCJA\\images\\spacer-seniora1-2048x1362.jpg: 448x640 2 no_glassess, 4 no_glovess, 2 no_helmets, 2 no_vests, 106.8ms\n",
      "image 2/3 f:\\PRACA_MAGISTERSKA\\DATASETS\\PREDYKCJA\\images\\stock-photo-human-resource-team-talking-to-a-candidate-during-a-job-interview-in-the-office-2316131879.jpg: 480x640 3 no_glassess, 5 no_glovess, 5 no_helmets, 5 no_vests, 86.8ms\n",
      "image 3/3 f:\\PRACA_MAGISTERSKA\\DATASETS\\PREDYKCJA\\images\\stock-photo-human-resources-commission-interviewing-male-applicant-in-office-2409886423.jpg: 480x640 3 no_glassess, 3 no_glovess, 4 no_helmets, 4 no_vests, 26.1ms\n",
      "Speed: 2.6ms preprocess, 73.2ms inference, 0.7ms postprocess per image at shape (1, 3, 480, 640)\n"
     ]
    }
   ],
   "source": [
    "# Load a model\n",
    "model = YOLO('runs/detect/dataset-v2-1/weights/epoch100.pt')\n",
    "\n",
    "# Define path to directory containing images and videos for inference\n",
    "source = '/PRACA_MAGISTERSKA/DATASETS/PREDYKCJA/images'\n",
    "\n",
    "# Run inference on the source\n",
    "results = model(source)  # generator of Results objects\n",
    "\n",
    "predictions = 'predictions/'\n",
    "if not os.path.exists(predictions):\n",
    "  os.mkdir(predictions)\n",
    "\n",
    "# Process results list\n",
    "for id, result in enumerate(results, 1):\n",
    "    boxes = result.boxes          # Boxes object for bounding box outputs\n",
    "    masks = result.masks          # Masks object for segmentation masks outputs\n",
    "    keypoints = result.keypoints  # Keypoints object for pose outputs\n",
    "    probs = result.probs          # Probs object for classification outputs\n",
    "    obb = result.obb              # Oriented boxes object for OBB outputs\n",
    "    result.show()                 # Display to screen\n",
    "    result.save(filename= predictions + 'result_' + str(id) + '.jpg')  # Save to disk"
   ]
  },
  {
   "cell_type": "code",
   "execution_count": 3,
   "id": "f567a165-695d-4a91-9392-f9e6c2cd99db",
   "metadata": {},
   "outputs": [
    {
     "name": "stdout",
     "output_type": "stream",
     "text": [
      "\n",
      "image 1/5 f:\\PRACA_MAGISTERSKA\\DATASETS\\PREDYKCJA\\images\\spacer-seniora1-2048x1362.jpg: 448x640 2 no_glassess, 4 no_glovess, 2 no_helmets, 2 no_vests, 89.4ms\n",
      "image 2/5 f:\\PRACA_MAGISTERSKA\\DATASETS\\PREDYKCJA\\images\\stock-photo-engineers-railway-survey-wearing-safety-uniform-under-conversation-document-and-tablet-on-hand-2468533629.jpg: 480x640 2 no_glovess, 91.6ms\n",
      "image 3/5 f:\\PRACA_MAGISTERSKA\\DATASETS\\PREDYKCJA\\images\\stock-photo-human-resource-team-talking-to-a-candidate-during-a-job-interview-in-the-office-2316131879.jpg: 480x640 3 no_glassess, 6 no_glovess, 4 no_helmets, 5 no_vests, 27.4ms\n",
      "image 4/5 f:\\PRACA_MAGISTERSKA\\DATASETS\\PREDYKCJA\\images\\stock-photo-human-resources-commission-interviewing-male-applicant-in-office-2409886423.jpg: 480x640 3 no_glassess, 3 no_glovess, 4 no_helmets, 2 no_vests, 29.6ms\n",
      "image 5/5 f:\\PRACA_MAGISTERSKA\\DATASETS\\PREDYKCJA\\images\\stock-photo-latin-woman-with-curly-hair-wearing-a-hard-hat-and-reflective-vest-stands-confidently-in-a-city-2576103397.jpg: 480x640 1 no_glasses, 1 no_gloves, 28.5ms\n",
      "Speed: 2.7ms preprocess, 53.3ms inference, 4.4ms postprocess per image at shape (1, 3, 480, 640)\n",
      "Results saved to \u001b[1mruns\\detect\\predict10\u001b[0m\n"
     ]
    }
   ],
   "source": [
    "model = YOLO('runs/detect/dataset-v2-1/weights/epoch100.pt')\n",
    "results = model.predict(source='/PRACA_MAGISTERSKA/DATASETS/PREDYKCJA/images', show_conf=False, show_labels=False, device=0, save=True, conf=0.431)"
   ]
  },
  {
   "cell_type": "code",
   "execution_count": 2,
   "id": "0d5f08bf-807d-4220-81a3-4291fe3f4290",
   "metadata": {},
   "outputs": [],
   "source": [
    "import time"
   ]
  },
  {
   "cell_type": "code",
   "execution_count": 4,
   "id": "746b1f71-6311-45a9-926a-171e7f9d65ac",
   "metadata": {
    "scrolled": true
   },
   "outputs": [
    {
     "name": "stdout",
     "output_type": "stream",
     "text": [
      "\n",
      "\n",
      "WARNING  inference results will accumulate in RAM unless `stream=True` is passed, causing potential out-of-memory\n",
      "errors for large sources or long-running streams and videos. See https://docs.ultralytics.com/modes/predict/ for help.\n",
      "\n",
      "Example:\n",
      "    results = model(source=..., stream=True)  # generator of Results objects\n",
      "    for r in results:\n",
      "        boxes = r.boxes  # Boxes object for bbox outputs\n",
      "        masks = r.masks  # Masks object for segment masks outputs\n",
      "        probs = r.probs  # Class probabilities for classification outputs\n",
      "\n",
      "video 1/4 (frame 1/227) f:\\PRACA_MAGISTERSKA\\DATASETS\\PREDYKCJA\\videos\\las.webm: 352x640 1 no_glasses, 5 no_helmets, 4 no_vests, 12.2ms\n",
      "video 1/4 (frame 2/227) f:\\PRACA_MAGISTERSKA\\DATASETS\\PREDYKCJA\\videos\\las.webm: 352x640 1 no_glasses, 5 no_helmets, 5 no_vests, 12.2ms\n",
      "video 1/4 (frame 3/227) f:\\PRACA_MAGISTERSKA\\DATASETS\\PREDYKCJA\\videos\\las.webm: 352x640 1 no_glasses, 5 no_helmets, 5 no_vests, 12.2ms\n",
      "video 1/4 (frame 4/227) f:\\PRACA_MAGISTERSKA\\DATASETS\\PREDYKCJA\\videos\\las.webm: 352x640 1 no_glasses, 5 no_helmets, 5 no_vests, 12.2ms\n",
      "video 1/4 (frame 5/227) f:\\PRACA_MAGISTERSKA\\DATASETS\\PREDYKCJA\\videos\\las.webm: 352x640 1 no_glasses, 5 no_helmets, 5 no_vests, 12.2ms\n",
      "video 1/4 (frame 6/227) f:\\PRACA_MAGISTERSKA\\DATASETS\\PREDYKCJA\\videos\\las.webm: 352x640 1 no_glasses, 5 no_helmets, 5 no_vests, 12.2ms\n",
      "video 1/4 (frame 7/227) f:\\PRACA_MAGISTERSKA\\DATASETS\\PREDYKCJA\\videos\\las.webm: 352x640 1 no_glasses, 5 no_helmets, 5 no_vests, 12.2ms\n",
      "video 1/4 (frame 8/227) f:\\PRACA_MAGISTERSKA\\DATASETS\\PREDYKCJA\\videos\\las.webm: 352x640 1 no_glasses, 5 no_helmets, 5 no_vests, 12.2ms\n",
      "video 1/4 (frame 9/227) f:\\PRACA_MAGISTERSKA\\DATASETS\\PREDYKCJA\\videos\\las.webm: 352x640 1 no_glasses, 1 no_gloves, 5 no_helmets, 5 no_vests, 12.2ms\n",
      "video 1/4 (frame 10/227) f:\\PRACA_MAGISTERSKA\\DATASETS\\PREDYKCJA\\videos\\las.webm: 352x640 1 no_glasses, 1 no_gloves, 5 no_helmets, 5 no_vests, 12.2ms\n",
      "video 1/4 (frame 11/227) f:\\PRACA_MAGISTERSKA\\DATASETS\\PREDYKCJA\\videos\\las.webm: 352x640 1 no_glasses, 1 no_gloves, 5 no_helmets, 5 no_vests, 12.2ms\n",
      "video 1/4 (frame 12/227) f:\\PRACA_MAGISTERSKA\\DATASETS\\PREDYKCJA\\videos\\las.webm: 352x640 1 no_gloves, 5 no_helmets, 5 no_vests, 12.2ms\n",
      "video 1/4 (frame 13/227) f:\\PRACA_MAGISTERSKA\\DATASETS\\PREDYKCJA\\videos\\las.webm: 352x640 1 no_gloves, 5 no_helmets, 5 no_vests, 12.2ms\n",
      "video 1/4 (frame 14/227) f:\\PRACA_MAGISTERSKA\\DATASETS\\PREDYKCJA\\videos\\las.webm: 352x640 1 no_gloves, 5 no_helmets, 5 no_vests, 12.2ms\n",
      "video 1/4 (frame 15/227) f:\\PRACA_MAGISTERSKA\\DATASETS\\PREDYKCJA\\videos\\las.webm: 352x640 1 no_gloves, 5 no_helmets, 5 no_vests, 12.2ms\n",
      "video 1/4 (frame 16/227) f:\\PRACA_MAGISTERSKA\\DATASETS\\PREDYKCJA\\videos\\las.webm: 352x640 1 no_gloves, 6 no_helmets, 5 no_vests, 12.2ms\n",
      "video 1/4 (frame 17/227) f:\\PRACA_MAGISTERSKA\\DATASETS\\PREDYKCJA\\videos\\las.webm: 352x640 1 no_gloves, 6 no_helmets, 5 no_vests, 12.2ms\n",
      "video 1/4 (frame 18/227) f:\\PRACA_MAGISTERSKA\\DATASETS\\PREDYKCJA\\videos\\las.webm: 352x640 1 no_gloves, 6 no_helmets, 5 no_vests, 12.2ms\n",
      "video 1/4 (frame 19/227) f:\\PRACA_MAGISTERSKA\\DATASETS\\PREDYKCJA\\videos\\las.webm: 352x640 2 no_glovess, 6 no_helmets, 5 no_vests, 12.2ms\n",
      "video 1/4 (frame 20/227) f:\\PRACA_MAGISTERSKA\\DATASETS\\PREDYKCJA\\videos\\las.webm: 352x640 2 no_glovess, 5 no_helmets, 5 no_vests, 12.2ms\n",
      "video 1/4 (frame 21/227) f:\\PRACA_MAGISTERSKA\\DATASETS\\PREDYKCJA\\videos\\las.webm: 352x640 1 no_gloves, 5 no_helmets, 5 no_vests, 12.2ms\n",
      "video 1/4 (frame 22/227) f:\\PRACA_MAGISTERSKA\\DATASETS\\PREDYKCJA\\videos\\las.webm: 352x640 2 no_glovess, 5 no_helmets, 5 no_vests, 12.2ms\n",
      "video 1/4 (frame 23/227) f:\\PRACA_MAGISTERSKA\\DATASETS\\PREDYKCJA\\videos\\las.webm: 352x640 1 no_gloves, 5 no_helmets, 5 no_vests, 12.2ms\n",
      "video 1/4 (frame 24/227) f:\\PRACA_MAGISTERSKA\\DATASETS\\PREDYKCJA\\videos\\las.webm: 352x640 2 no_glovess, 5 no_helmets, 5 no_vests, 12.2ms\n",
      "video 1/4 (frame 25/227) f:\\PRACA_MAGISTERSKA\\DATASETS\\PREDYKCJA\\videos\\las.webm: 352x640 2 no_glovess, 5 no_helmets, 5 no_vests, 12.2ms\n",
      "video 1/4 (frame 26/227) f:\\PRACA_MAGISTERSKA\\DATASETS\\PREDYKCJA\\videos\\las.webm: 352x640 2 no_glovess, 5 no_helmets, 5 no_vests, 12.2ms\n",
      "video 1/4 (frame 27/227) f:\\PRACA_MAGISTERSKA\\DATASETS\\PREDYKCJA\\videos\\las.webm: 352x640 2 no_glovess, 5 no_helmets, 5 no_vests, 12.2ms\n",
      "video 1/4 (frame 28/227) f:\\PRACA_MAGISTERSKA\\DATASETS\\PREDYKCJA\\videos\\las.webm: 352x640 2 no_glovess, 5 no_helmets, 5 no_vests, 12.2ms\n",
      "video 1/4 (frame 29/227) f:\\PRACA_MAGISTERSKA\\DATASETS\\PREDYKCJA\\videos\\las.webm: 352x640 2 no_glovess, 5 no_helmets, 5 no_vests, 12.2ms\n",
      "video 1/4 (frame 30/227) f:\\PRACA_MAGISTERSKA\\DATASETS\\PREDYKCJA\\videos\\las.webm: 352x640 2 no_glovess, 5 no_helmets, 5 no_vests, 12.2ms\n",
      "video 1/4 (frame 31/227) f:\\PRACA_MAGISTERSKA\\DATASETS\\PREDYKCJA\\videos\\las.webm: 352x640 1 no_gloves, 5 no_helmets, 5 no_vests, 12.2ms\n",
      "video 1/4 (frame 32/227) f:\\PRACA_MAGISTERSKA\\DATASETS\\PREDYKCJA\\videos\\las.webm: 352x640 5 no_helmets, 5 no_vests, 12.2ms\n",
      "video 1/4 (frame 33/227) f:\\PRACA_MAGISTERSKA\\DATASETS\\PREDYKCJA\\videos\\las.webm: 352x640 1 no_glasses, 5 no_helmets, 5 no_vests, 12.2ms\n",
      "video 1/4 (frame 34/227) f:\\PRACA_MAGISTERSKA\\DATASETS\\PREDYKCJA\\videos\\las.webm: 352x640 1 no_glasses, 5 no_helmets, 5 no_vests, 12.2ms\n",
      "video 1/4 (frame 35/227) f:\\PRACA_MAGISTERSKA\\DATASETS\\PREDYKCJA\\videos\\las.webm: 352x640 1 no_glasses, 5 no_helmets, 5 no_vests, 12.2ms\n",
      "video 1/4 (frame 36/227) f:\\PRACA_MAGISTERSKA\\DATASETS\\PREDYKCJA\\videos\\las.webm: 352x640 1 no_glasses, 5 no_helmets, 5 no_vests, 12.2ms\n",
      "video 1/4 (frame 37/227) f:\\PRACA_MAGISTERSKA\\DATASETS\\PREDYKCJA\\videos\\las.webm: 352x640 1 no_glasses, 5 no_helmets, 5 no_vests, 12.2ms\n",
      "video 1/4 (frame 38/227) f:\\PRACA_MAGISTERSKA\\DATASETS\\PREDYKCJA\\videos\\las.webm: 352x640 1 no_glasses, 1 no_gloves, 5 no_helmets, 5 no_vests, 12.2ms\n",
      "video 1/4 (frame 39/227) f:\\PRACA_MAGISTERSKA\\DATASETS\\PREDYKCJA\\videos\\las.webm: 352x640 1 no_gloves, 5 no_helmets, 5 no_vests, 12.2ms\n",
      "video 1/4 (frame 40/227) f:\\PRACA_MAGISTERSKA\\DATASETS\\PREDYKCJA\\videos\\las.webm: 352x640 1 no_gloves, 5 no_helmets, 5 no_vests, 12.2ms\n",
      "video 1/4 (frame 41/227) f:\\PRACA_MAGISTERSKA\\DATASETS\\PREDYKCJA\\videos\\las.webm: 352x640 1 no_gloves, 5 no_helmets, 5 no_vests, 12.2ms\n",
      "video 1/4 (frame 42/227) f:\\PRACA_MAGISTERSKA\\DATASETS\\PREDYKCJA\\videos\\las.webm: 352x640 1 no_gloves, 5 no_helmets, 5 no_vests, 12.2ms\n",
      "video 1/4 (frame 43/227) f:\\PRACA_MAGISTERSKA\\DATASETS\\PREDYKCJA\\videos\\las.webm: 352x640 1 no_gloves, 5 no_helmets, 5 no_vests, 12.2ms\n",
      "video 1/4 (frame 44/227) f:\\PRACA_MAGISTERSKA\\DATASETS\\PREDYKCJA\\videos\\las.webm: 352x640 1 no_gloves, 5 no_helmets, 5 no_vests, 12.2ms\n",
      "video 1/4 (frame 45/227) f:\\PRACA_MAGISTERSKA\\DATASETS\\PREDYKCJA\\videos\\las.webm: 352x640 1 no_gloves, 5 no_helmets, 5 no_vests, 12.2ms\n",
      "video 1/4 (frame 46/227) f:\\PRACA_MAGISTERSKA\\DATASETS\\PREDYKCJA\\videos\\las.webm: 352x640 1 no_gloves, 5 no_helmets, 5 no_vests, 12.2ms\n",
      "video 1/4 (frame 47/227) f:\\PRACA_MAGISTERSKA\\DATASETS\\PREDYKCJA\\videos\\las.webm: 352x640 1 no_gloves, 5 no_helmets, 5 no_vests, 12.2ms\n",
      "video 1/4 (frame 48/227) f:\\PRACA_MAGISTERSKA\\DATASETS\\PREDYKCJA\\videos\\las.webm: 352x640 1 no_gloves, 5 no_helmets, 5 no_vests, 12.2ms\n",
      "video 1/4 (frame 49/227) f:\\PRACA_MAGISTERSKA\\DATASETS\\PREDYKCJA\\videos\\las.webm: 352x640 5 no_helmets, 5 no_vests, 12.2ms\n",
      "video 1/4 (frame 50/227) f:\\PRACA_MAGISTERSKA\\DATASETS\\PREDYKCJA\\videos\\las.webm: 352x640 5 no_helmets, 5 no_vests, 12.2ms\n",
      "video 1/4 (frame 51/227) f:\\PRACA_MAGISTERSKA\\DATASETS\\PREDYKCJA\\videos\\las.webm: 352x640 1 no_gloves, 5 no_helmets, 5 no_vests, 12.2ms\n",
      "video 1/4 (frame 52/227) f:\\PRACA_MAGISTERSKA\\DATASETS\\PREDYKCJA\\videos\\las.webm: 352x640 1 no_gloves, 5 no_helmets, 5 no_vests, 12.2ms\n",
      "video 1/4 (frame 53/227) f:\\PRACA_MAGISTERSKA\\DATASETS\\PREDYKCJA\\videos\\las.webm: 352x640 1 no_gloves, 5 no_helmets, 5 no_vests, 12.2ms\n",
      "video 1/4 (frame 54/227) f:\\PRACA_MAGISTERSKA\\DATASETS\\PREDYKCJA\\videos\\las.webm: 352x640 1 no_gloves, 5 no_helmets, 5 no_vests, 12.2ms\n",
      "video 1/4 (frame 55/227) f:\\PRACA_MAGISTERSKA\\DATASETS\\PREDYKCJA\\videos\\las.webm: 352x640 1 no_gloves, 5 no_helmets, 5 no_vests, 12.2ms\n",
      "video 1/4 (frame 56/227) f:\\PRACA_MAGISTERSKA\\DATASETS\\PREDYKCJA\\videos\\las.webm: 352x640 1 no_gloves, 5 no_helmets, 5 no_vests, 12.2ms\n",
      "video 1/4 (frame 57/227) f:\\PRACA_MAGISTERSKA\\DATASETS\\PREDYKCJA\\videos\\las.webm: 352x640 1 no_gloves, 5 no_helmets, 5 no_vests, 12.2ms\n",
      "video 1/4 (frame 58/227) f:\\PRACA_MAGISTERSKA\\DATASETS\\PREDYKCJA\\videos\\las.webm: 352x640 1 no_gloves, 5 no_helmets, 5 no_vests, 12.2ms\n",
      "video 1/4 (frame 59/227) f:\\PRACA_MAGISTERSKA\\DATASETS\\PREDYKCJA\\videos\\las.webm: 352x640 1 no_gloves, 5 no_helmets, 5 no_vests, 12.2ms\n",
      "video 1/4 (frame 60/227) f:\\PRACA_MAGISTERSKA\\DATASETS\\PREDYKCJA\\videos\\las.webm: 352x640 1 no_gloves, 5 no_helmets, 5 no_vests, 12.2ms\n",
      "video 1/4 (frame 61/227) f:\\PRACA_MAGISTERSKA\\DATASETS\\PREDYKCJA\\videos\\las.webm: 352x640 1 no_gloves, 5 no_helmets, 5 no_vests, 12.2ms\n",
      "video 1/4 (frame 62/227) f:\\PRACA_MAGISTERSKA\\DATASETS\\PREDYKCJA\\videos\\las.webm: 352x640 1 no_gloves, 5 no_helmets, 5 no_vests, 12.2ms\n",
      "video 1/4 (frame 63/227) f:\\PRACA_MAGISTERSKA\\DATASETS\\PREDYKCJA\\videos\\las.webm: 352x640 1 no_gloves, 5 no_helmets, 5 no_vests, 12.2ms\n",
      "video 1/4 (frame 64/227) f:\\PRACA_MAGISTERSKA\\DATASETS\\PREDYKCJA\\videos\\las.webm: 352x640 1 no_gloves, 5 no_helmets, 5 no_vests, 12.2ms\n",
      "video 1/4 (frame 65/227) f:\\PRACA_MAGISTERSKA\\DATASETS\\PREDYKCJA\\videos\\las.webm: 352x640 1 no_gloves, 5 no_helmets, 5 no_vests, 11.2ms\n",
      "video 1/4 (frame 66/227) f:\\PRACA_MAGISTERSKA\\DATASETS\\PREDYKCJA\\videos\\las.webm: 352x640 1 no_gloves, 5 no_helmets, 5 no_vests, 11.2ms\n",
      "video 1/4 (frame 67/227) f:\\PRACA_MAGISTERSKA\\DATASETS\\PREDYKCJA\\videos\\las.webm: 352x640 1 no_gloves, 5 no_helmets, 5 no_vests, 11.2ms\n",
      "video 1/4 (frame 68/227) f:\\PRACA_MAGISTERSKA\\DATASETS\\PREDYKCJA\\videos\\las.webm: 352x640 1 no_gloves, 5 no_helmets, 5 no_vests, 11.2ms\n",
      "video 1/4 (frame 69/227) f:\\PRACA_MAGISTERSKA\\DATASETS\\PREDYKCJA\\videos\\las.webm: 352x640 1 no_gloves, 5 no_helmets, 5 no_vests, 11.2ms\n",
      "video 1/4 (frame 70/227) f:\\PRACA_MAGISTERSKA\\DATASETS\\PREDYKCJA\\videos\\las.webm: 352x640 1 no_gloves, 4 no_helmets, 5 no_vests, 11.2ms\n",
      "video 1/4 (frame 71/227) f:\\PRACA_MAGISTERSKA\\DATASETS\\PREDYKCJA\\videos\\las.webm: 352x640 1 no_gloves, 5 no_helmets, 5 no_vests, 11.2ms\n",
      "video 1/4 (frame 72/227) f:\\PRACA_MAGISTERSKA\\DATASETS\\PREDYKCJA\\videos\\las.webm: 352x640 1 no_gloves, 5 no_helmets, 5 no_vests, 11.2ms\n",
      "video 1/4 (frame 73/227) f:\\PRACA_MAGISTERSKA\\DATASETS\\PREDYKCJA\\videos\\las.webm: 352x640 2 no_glovess, 5 no_helmets, 5 no_vests, 11.2ms\n",
      "video 1/4 (frame 74/227) f:\\PRACA_MAGISTERSKA\\DATASETS\\PREDYKCJA\\videos\\las.webm: 352x640 2 no_glovess, 5 no_helmets, 5 no_vests, 11.2ms\n",
      "video 1/4 (frame 75/227) f:\\PRACA_MAGISTERSKA\\DATASETS\\PREDYKCJA\\videos\\las.webm: 352x640 1 no_gloves, 5 no_helmets, 5 no_vests, 11.2ms\n",
      "video 1/4 (frame 76/227) f:\\PRACA_MAGISTERSKA\\DATASETS\\PREDYKCJA\\videos\\las.webm: 352x640 2 no_glovess, 4 no_helmets, 5 no_vests, 11.2ms\n",
      "video 1/4 (frame 77/227) f:\\PRACA_MAGISTERSKA\\DATASETS\\PREDYKCJA\\videos\\las.webm: 352x640 1 no_gloves, 4 no_helmets, 5 no_vests, 11.2ms\n",
      "video 1/4 (frame 78/227) f:\\PRACA_MAGISTERSKA\\DATASETS\\PREDYKCJA\\videos\\las.webm: 352x640 1 no_gloves, 5 no_helmets, 5 no_vests, 11.2ms\n",
      "video 1/4 (frame 79/227) f:\\PRACA_MAGISTERSKA\\DATASETS\\PREDYKCJA\\videos\\las.webm: 352x640 1 no_gloves, 5 no_helmets, 5 no_vests, 11.2ms\n",
      "video 1/4 (frame 80/227) f:\\PRACA_MAGISTERSKA\\DATASETS\\PREDYKCJA\\videos\\las.webm: 352x640 1 no_gloves, 5 no_helmets, 5 no_vests, 11.2ms\n",
      "video 1/4 (frame 81/227) f:\\PRACA_MAGISTERSKA\\DATASETS\\PREDYKCJA\\videos\\las.webm: 352x640 1 no_gloves, 5 no_helmets, 5 no_vests, 11.2ms\n",
      "video 1/4 (frame 82/227) f:\\PRACA_MAGISTERSKA\\DATASETS\\PREDYKCJA\\videos\\las.webm: 352x640 1 no_gloves, 5 no_helmets, 5 no_vests, 11.2ms\n",
      "video 1/4 (frame 83/227) f:\\PRACA_MAGISTERSKA\\DATASETS\\PREDYKCJA\\videos\\las.webm: 352x640 1 no_gloves, 5 no_helmets, 5 no_vests, 11.2ms\n",
      "video 1/4 (frame 84/227) f:\\PRACA_MAGISTERSKA\\DATASETS\\PREDYKCJA\\videos\\las.webm: 352x640 1 no_gloves, 5 no_helmets, 5 no_vests, 11.2ms\n",
      "video 1/4 (frame 85/227) f:\\PRACA_MAGISTERSKA\\DATASETS\\PREDYKCJA\\videos\\las.webm: 352x640 1 no_glasses, 1 no_gloves, 5 no_helmets, 5 no_vests, 11.2ms\n",
      "video 1/4 (frame 86/227) f:\\PRACA_MAGISTERSKA\\DATASETS\\PREDYKCJA\\videos\\las.webm: 352x640 1 no_glasses, 1 no_gloves, 5 no_helmets, 5 no_vests, 11.2ms\n",
      "video 1/4 (frame 87/227) f:\\PRACA_MAGISTERSKA\\DATASETS\\PREDYKCJA\\videos\\las.webm: 352x640 1 no_glasses, 1 no_gloves, 5 no_helmets, 5 no_vests, 11.2ms\n",
      "video 1/4 (frame 88/227) f:\\PRACA_MAGISTERSKA\\DATASETS\\PREDYKCJA\\videos\\las.webm: 352x640 1 no_glasses, 1 no_gloves, 5 no_helmets, 5 no_vests, 11.2ms\n",
      "video 1/4 (frame 89/227) f:\\PRACA_MAGISTERSKA\\DATASETS\\PREDYKCJA\\videos\\las.webm: 352x640 1 no_gloves, 5 no_helmets, 5 no_vests, 11.2ms\n",
      "video 1/4 (frame 90/227) f:\\PRACA_MAGISTERSKA\\DATASETS\\PREDYKCJA\\videos\\las.webm: 352x640 1 no_gloves, 4 no_helmets, 5 no_vests, 11.2ms\n",
      "video 1/4 (frame 91/227) f:\\PRACA_MAGISTERSKA\\DATASETS\\PREDYKCJA\\videos\\las.webm: 352x640 1 no_gloves, 4 no_helmets, 5 no_vests, 11.2ms\n",
      "video 1/4 (frame 92/227) f:\\PRACA_MAGISTERSKA\\DATASETS\\PREDYKCJA\\videos\\las.webm: 352x640 1 no_gloves, 4 no_helmets, 5 no_vests, 11.2ms\n",
      "video 1/4 (frame 93/227) f:\\PRACA_MAGISTERSKA\\DATASETS\\PREDYKCJA\\videos\\las.webm: 352x640 1 no_gloves, 4 no_helmets, 5 no_vests, 11.2ms\n",
      "video 1/4 (frame 94/227) f:\\PRACA_MAGISTERSKA\\DATASETS\\PREDYKCJA\\videos\\las.webm: 352x640 1 no_gloves, 5 no_helmets, 5 no_vests, 11.2ms\n",
      "video 1/4 (frame 95/227) f:\\PRACA_MAGISTERSKA\\DATASETS\\PREDYKCJA\\videos\\las.webm: 352x640 1 no_glasses, 1 no_gloves, 5 no_helmets, 5 no_vests, 11.2ms\n",
      "video 1/4 (frame 96/227) f:\\PRACA_MAGISTERSKA\\DATASETS\\PREDYKCJA\\videos\\las.webm: 352x640 1 no_glasses, 1 no_gloves, 4 no_helmets, 5 no_vests, 11.2ms\n",
      "video 1/4 (frame 97/227) f:\\PRACA_MAGISTERSKA\\DATASETS\\PREDYKCJA\\videos\\las.webm: 352x640 1 no_glasses, 4 no_helmets, 5 no_vests, 11.2ms\n",
      "video 1/4 (frame 98/227) f:\\PRACA_MAGISTERSKA\\DATASETS\\PREDYKCJA\\videos\\las.webm: 352x640 1 no_glasses, 4 no_helmets, 5 no_vests, 11.2ms\n",
      "video 1/4 (frame 99/227) f:\\PRACA_MAGISTERSKA\\DATASETS\\PREDYKCJA\\videos\\las.webm: 352x640 1 no_glasses, 4 no_helmets, 5 no_vests, 11.2ms\n",
      "video 1/4 (frame 100/227) f:\\PRACA_MAGISTERSKA\\DATASETS\\PREDYKCJA\\videos\\las.webm: 352x640 1 no_glasses, 4 no_helmets, 5 no_vests, 11.2ms\n",
      "video 1/4 (frame 101/227) f:\\PRACA_MAGISTERSKA\\DATASETS\\PREDYKCJA\\videos\\las.webm: 352x640 1 no_glasses, 4 no_helmets, 5 no_vests, 11.2ms\n",
      "video 1/4 (frame 102/227) f:\\PRACA_MAGISTERSKA\\DATASETS\\PREDYKCJA\\videos\\las.webm: 352x640 1 no_glasses, 4 no_helmets, 5 no_vests, 11.2ms\n",
      "video 1/4 (frame 103/227) f:\\PRACA_MAGISTERSKA\\DATASETS\\PREDYKCJA\\videos\\las.webm: 352x640 1 no_glasses, 5 no_helmets, 5 no_vests, 11.2ms\n",
      "video 1/4 (frame 104/227) f:\\PRACA_MAGISTERSKA\\DATASETS\\PREDYKCJA\\videos\\las.webm: 352x640 1 no_glasses, 4 no_helmets, 5 no_vests, 11.2ms\n",
      "video 1/4 (frame 105/227) f:\\PRACA_MAGISTERSKA\\DATASETS\\PREDYKCJA\\videos\\las.webm: 352x640 1 no_glasses, 4 no_helmets, 5 no_vests, 11.2ms\n",
      "video 1/4 (frame 106/227) f:\\PRACA_MAGISTERSKA\\DATASETS\\PREDYKCJA\\videos\\las.webm: 352x640 1 no_glasses, 4 no_helmets, 5 no_vests, 11.2ms\n",
      "video 1/4 (frame 107/227) f:\\PRACA_MAGISTERSKA\\DATASETS\\PREDYKCJA\\videos\\las.webm: 352x640 1 no_glasses, 5 no_helmets, 5 no_vests, 11.2ms\n",
      "video 1/4 (frame 108/227) f:\\PRACA_MAGISTERSKA\\DATASETS\\PREDYKCJA\\videos\\las.webm: 352x640 1 no_glasses, 5 no_helmets, 5 no_vests, 11.2ms\n",
      "video 1/4 (frame 109/227) f:\\PRACA_MAGISTERSKA\\DATASETS\\PREDYKCJA\\videos\\las.webm: 352x640 1 no_glasses, 5 no_helmets, 5 no_vests, 11.2ms\n",
      "video 1/4 (frame 110/227) f:\\PRACA_MAGISTERSKA\\DATASETS\\PREDYKCJA\\videos\\las.webm: 352x640 1 no_glasses, 5 no_helmets, 5 no_vests, 11.2ms\n",
      "video 1/4 (frame 111/227) f:\\PRACA_MAGISTERSKA\\DATASETS\\PREDYKCJA\\videos\\las.webm: 352x640 1 no_glasses, 5 no_helmets, 5 no_vests, 11.2ms\n",
      "video 1/4 (frame 112/227) f:\\PRACA_MAGISTERSKA\\DATASETS\\PREDYKCJA\\videos\\las.webm: 352x640 1 no_glasses, 5 no_helmets, 5 no_vests, 11.2ms\n",
      "video 1/4 (frame 113/227) f:\\PRACA_MAGISTERSKA\\DATASETS\\PREDYKCJA\\videos\\las.webm: 352x640 1 no_glasses, 1 no_gloves, 5 no_helmets, 5 no_vests, 11.2ms\n",
      "video 1/4 (frame 114/227) f:\\PRACA_MAGISTERSKA\\DATASETS\\PREDYKCJA\\videos\\las.webm: 352x640 1 no_glasses, 1 no_gloves, 5 no_helmets, 5 no_vests, 11.2ms\n",
      "video 1/4 (frame 115/227) f:\\PRACA_MAGISTERSKA\\DATASETS\\PREDYKCJA\\videos\\las.webm: 352x640 1 no_glasses, 2 no_glovess, 5 no_helmets, 5 no_vests, 11.2ms\n",
      "video 1/4 (frame 116/227) f:\\PRACA_MAGISTERSKA\\DATASETS\\PREDYKCJA\\videos\\las.webm: 352x640 1 no_glasses, 2 no_glovess, 5 no_helmets, 5 no_vests, 11.2ms\n",
      "video 1/4 (frame 117/227) f:\\PRACA_MAGISTERSKA\\DATASETS\\PREDYKCJA\\videos\\las.webm: 352x640 1 no_glasses, 2 no_glovess, 5 no_helmets, 5 no_vests, 11.2ms\n",
      "video 1/4 (frame 118/227) f:\\PRACA_MAGISTERSKA\\DATASETS\\PREDYKCJA\\videos\\las.webm: 352x640 1 no_glasses, 1 no_gloves, 5 no_helmets, 5 no_vests, 11.2ms\n",
      "video 1/4 (frame 119/227) f:\\PRACA_MAGISTERSKA\\DATASETS\\PREDYKCJA\\videos\\las.webm: 352x640 1 no_glasses, 1 no_gloves, 5 no_helmets, 5 no_vests, 11.2ms\n",
      "video 1/4 (frame 120/227) f:\\PRACA_MAGISTERSKA\\DATASETS\\PREDYKCJA\\videos\\las.webm: 352x640 1 no_glasses, 1 no_gloves, 5 no_helmets, 5 no_vests, 11.2ms\n",
      "video 1/4 (frame 121/227) f:\\PRACA_MAGISTERSKA\\DATASETS\\PREDYKCJA\\videos\\las.webm: 352x640 1 no_gloves, 5 no_helmets, 5 no_vests, 11.2ms\n",
      "video 1/4 (frame 122/227) f:\\PRACA_MAGISTERSKA\\DATASETS\\PREDYKCJA\\videos\\las.webm: 352x640 1 no_gloves, 5 no_helmets, 5 no_vests, 11.2ms\n",
      "video 1/4 (frame 123/227) f:\\PRACA_MAGISTERSKA\\DATASETS\\PREDYKCJA\\videos\\las.webm: 352x640 1 no_glasses, 1 no_gloves, 5 no_helmets, 5 no_vests, 11.2ms\n",
      "video 1/4 (frame 124/227) f:\\PRACA_MAGISTERSKA\\DATASETS\\PREDYKCJA\\videos\\las.webm: 352x640 1 no_glasses, 1 no_gloves, 5 no_helmets, 5 no_vests, 11.2ms\n",
      "video 1/4 (frame 125/227) f:\\PRACA_MAGISTERSKA\\DATASETS\\PREDYKCJA\\videos\\las.webm: 352x640 1 no_glasses, 1 no_gloves, 5 no_helmets, 5 no_vests, 11.2ms\n",
      "video 1/4 (frame 126/227) f:\\PRACA_MAGISTERSKA\\DATASETS\\PREDYKCJA\\videos\\las.webm: 352x640 1 no_glasses, 1 no_gloves, 5 no_helmets, 5 no_vests, 11.2ms\n",
      "video 1/4 (frame 127/227) f:\\PRACA_MAGISTERSKA\\DATASETS\\PREDYKCJA\\videos\\las.webm: 352x640 1 no_glasses, 1 no_gloves, 5 no_helmets, 5 no_vests, 11.2ms\n",
      "video 1/4 (frame 128/227) f:\\PRACA_MAGISTERSKA\\DATASETS\\PREDYKCJA\\videos\\las.webm: 352x640 1 no_glasses, 1 no_gloves, 5 no_helmets, 5 no_vests, 11.2ms\n",
      "video 1/4 (frame 129/227) f:\\PRACA_MAGISTERSKA\\DATASETS\\PREDYKCJA\\videos\\las.webm: 352x640 1 no_glasses, 1 no_gloves, 5 no_helmets, 5 no_vests, 11.1ms\n",
      "video 1/4 (frame 130/227) f:\\PRACA_MAGISTERSKA\\DATASETS\\PREDYKCJA\\videos\\las.webm: 352x640 1 no_glasses, 1 no_gloves, 5 no_helmets, 5 no_vests, 11.1ms\n",
      "video 1/4 (frame 131/227) f:\\PRACA_MAGISTERSKA\\DATASETS\\PREDYKCJA\\videos\\las.webm: 352x640 1 no_glasses, 1 no_gloves, 5 no_helmets, 5 no_vests, 11.1ms\n",
      "video 1/4 (frame 132/227) f:\\PRACA_MAGISTERSKA\\DATASETS\\PREDYKCJA\\videos\\las.webm: 352x640 1 no_glasses, 1 no_gloves, 5 no_helmets, 5 no_vests, 11.1ms\n",
      "video 1/4 (frame 133/227) f:\\PRACA_MAGISTERSKA\\DATASETS\\PREDYKCJA\\videos\\las.webm: 352x640 1 no_glasses, 1 no_gloves, 5 no_helmets, 5 no_vests, 11.1ms\n",
      "video 1/4 (frame 134/227) f:\\PRACA_MAGISTERSKA\\DATASETS\\PREDYKCJA\\videos\\las.webm: 352x640 1 no_glasses, 1 no_gloves, 5 no_helmets, 5 no_vests, 11.1ms\n",
      "video 1/4 (frame 135/227) f:\\PRACA_MAGISTERSKA\\DATASETS\\PREDYKCJA\\videos\\las.webm: 352x640 1 no_glasses, 1 no_gloves, 5 no_helmets, 5 no_vests, 11.1ms\n",
      "video 1/4 (frame 136/227) f:\\PRACA_MAGISTERSKA\\DATASETS\\PREDYKCJA\\videos\\las.webm: 352x640 1 no_glasses, 1 no_gloves, 5 no_helmets, 5 no_vests, 11.1ms\n",
      "video 1/4 (frame 137/227) f:\\PRACA_MAGISTERSKA\\DATASETS\\PREDYKCJA\\videos\\las.webm: 352x640 1 no_glasses, 1 no_gloves, 5 no_helmets, 5 no_vests, 11.1ms\n",
      "video 1/4 (frame 138/227) f:\\PRACA_MAGISTERSKA\\DATASETS\\PREDYKCJA\\videos\\las.webm: 352x640 1 no_glasses, 1 no_gloves, 5 no_helmets, 5 no_vests, 11.1ms\n",
      "video 1/4 (frame 139/227) f:\\PRACA_MAGISTERSKA\\DATASETS\\PREDYKCJA\\videos\\las.webm: 352x640 1 no_glasses, 2 no_glovess, 5 no_helmets, 5 no_vests, 11.1ms\n",
      "video 1/4 (frame 140/227) f:\\PRACA_MAGISTERSKA\\DATASETS\\PREDYKCJA\\videos\\las.webm: 352x640 1 no_glasses, 2 no_glovess, 5 no_helmets, 5 no_vests, 11.1ms\n",
      "video 1/4 (frame 141/227) f:\\PRACA_MAGISTERSKA\\DATASETS\\PREDYKCJA\\videos\\las.webm: 352x640 1 no_glasses, 2 no_glovess, 5 no_helmets, 5 no_vests, 11.1ms\n",
      "video 1/4 (frame 142/227) f:\\PRACA_MAGISTERSKA\\DATASETS\\PREDYKCJA\\videos\\las.webm: 352x640 2 no_glovess, 5 no_helmets, 5 no_vests, 11.1ms\n",
      "video 1/4 (frame 143/227) f:\\PRACA_MAGISTERSKA\\DATASETS\\PREDYKCJA\\videos\\las.webm: 352x640 2 no_glovess, 5 no_helmets, 5 no_vests, 11.1ms\n",
      "video 1/4 (frame 144/227) f:\\PRACA_MAGISTERSKA\\DATASETS\\PREDYKCJA\\videos\\las.webm: 352x640 1 no_glasses, 2 no_glovess, 5 no_helmets, 5 no_vests, 11.1ms\n",
      "video 1/4 (frame 145/227) f:\\PRACA_MAGISTERSKA\\DATASETS\\PREDYKCJA\\videos\\las.webm: 352x640 1 no_glasses, 1 no_gloves, 5 no_helmets, 5 no_vests, 11.1ms\n",
      "video 1/4 (frame 146/227) f:\\PRACA_MAGISTERSKA\\DATASETS\\PREDYKCJA\\videos\\las.webm: 352x640 1 no_glasses, 1 no_gloves, 5 no_helmets, 5 no_vests, 11.1ms\n",
      "video 1/4 (frame 147/227) f:\\PRACA_MAGISTERSKA\\DATASETS\\PREDYKCJA\\videos\\las.webm: 352x640 1 no_glasses, 1 no_gloves, 5 no_helmets, 5 no_vests, 11.1ms\n",
      "video 1/4 (frame 148/227) f:\\PRACA_MAGISTERSKA\\DATASETS\\PREDYKCJA\\videos\\las.webm: 352x640 1 no_glasses, 1 no_gloves, 5 no_helmets, 5 no_vests, 11.1ms\n",
      "video 1/4 (frame 149/227) f:\\PRACA_MAGISTERSKA\\DATASETS\\PREDYKCJA\\videos\\las.webm: 352x640 1 no_glasses, 3 no_glovess, 5 no_helmets, 5 no_vests, 11.1ms\n",
      "video 1/4 (frame 150/227) f:\\PRACA_MAGISTERSKA\\DATASETS\\PREDYKCJA\\videos\\las.webm: 352x640 1 no_glasses, 3 no_glovess, 5 no_helmets, 5 no_vests, 11.1ms\n",
      "video 1/4 (frame 151/227) f:\\PRACA_MAGISTERSKA\\DATASETS\\PREDYKCJA\\videos\\las.webm: 352x640 1 no_glasses, 1 no_gloves, 5 no_helmets, 5 no_vests, 11.1ms\n",
      "video 1/4 (frame 152/227) f:\\PRACA_MAGISTERSKA\\DATASETS\\PREDYKCJA\\videos\\las.webm: 352x640 1 no_gloves, 5 no_helmets, 5 no_vests, 11.1ms\n",
      "video 1/4 (frame 153/227) f:\\PRACA_MAGISTERSKA\\DATASETS\\PREDYKCJA\\videos\\las.webm: 352x640 1 no_gloves, 5 no_helmets, 5 no_vests, 11.1ms\n",
      "video 1/4 (frame 154/227) f:\\PRACA_MAGISTERSKA\\DATASETS\\PREDYKCJA\\videos\\las.webm: 352x640 1 no_gloves, 4 no_helmets, 5 no_vests, 11.1ms\n",
      "video 1/4 (frame 155/227) f:\\PRACA_MAGISTERSKA\\DATASETS\\PREDYKCJA\\videos\\las.webm: 352x640 1 no_gloves, 5 no_helmets, 5 no_vests, 11.1ms\n",
      "video 1/4 (frame 156/227) f:\\PRACA_MAGISTERSKA\\DATASETS\\PREDYKCJA\\videos\\las.webm: 352x640 1 no_gloves, 5 no_helmets, 5 no_vests, 11.1ms\n",
      "video 1/4 (frame 157/227) f:\\PRACA_MAGISTERSKA\\DATASETS\\PREDYKCJA\\videos\\las.webm: 352x640 1 no_gloves, 5 no_helmets, 5 no_vests, 11.1ms\n",
      "video 1/4 (frame 158/227) f:\\PRACA_MAGISTERSKA\\DATASETS\\PREDYKCJA\\videos\\las.webm: 352x640 1 no_gloves, 5 no_helmets, 5 no_vests, 11.1ms\n",
      "video 1/4 (frame 159/227) f:\\PRACA_MAGISTERSKA\\DATASETS\\PREDYKCJA\\videos\\las.webm: 352x640 1 no_gloves, 5 no_helmets, 5 no_vests, 11.1ms\n",
      "video 1/4 (frame 160/227) f:\\PRACA_MAGISTERSKA\\DATASETS\\PREDYKCJA\\videos\\las.webm: 352x640 1 no_gloves, 5 no_helmets, 5 no_vests, 11.1ms\n",
      "video 1/4 (frame 161/227) f:\\PRACA_MAGISTERSKA\\DATASETS\\PREDYKCJA\\videos\\las.webm: 352x640 1 no_gloves, 5 no_helmets, 5 no_vests, 11.1ms\n",
      "video 1/4 (frame 162/227) f:\\PRACA_MAGISTERSKA\\DATASETS\\PREDYKCJA\\videos\\las.webm: 352x640 5 no_helmets, 5 no_vests, 11.1ms\n",
      "video 1/4 (frame 163/227) f:\\PRACA_MAGISTERSKA\\DATASETS\\PREDYKCJA\\videos\\las.webm: 352x640 5 no_helmets, 5 no_vests, 11.1ms\n",
      "video 1/4 (frame 164/227) f:\\PRACA_MAGISTERSKA\\DATASETS\\PREDYKCJA\\videos\\las.webm: 352x640 5 no_helmets, 5 no_vests, 11.1ms\n",
      "video 1/4 (frame 165/227) f:\\PRACA_MAGISTERSKA\\DATASETS\\PREDYKCJA\\videos\\las.webm: 352x640 4 no_helmets, 5 no_vests, 11.1ms\n",
      "video 1/4 (frame 166/227) f:\\PRACA_MAGISTERSKA\\DATASETS\\PREDYKCJA\\videos\\las.webm: 352x640 2 no_glovess, 5 no_helmets, 5 no_vests, 11.1ms\n",
      "video 1/4 (frame 167/227) f:\\PRACA_MAGISTERSKA\\DATASETS\\PREDYKCJA\\videos\\las.webm: 352x640 1 no_glasses, 1 no_gloves, 5 no_helmets, 4 no_vests, 11.1ms\n",
      "video 1/4 (frame 168/227) f:\\PRACA_MAGISTERSKA\\DATASETS\\PREDYKCJA\\videos\\las.webm: 352x640 1 no_glasses, 1 no_gloves, 5 no_helmets, 4 no_vests, 11.1ms\n",
      "video 1/4 (frame 169/227) f:\\PRACA_MAGISTERSKA\\DATASETS\\PREDYKCJA\\videos\\las.webm: 352x640 1 no_glasses, 1 no_gloves, 5 no_helmets, 5 no_vests, 11.1ms\n",
      "video 1/4 (frame 170/227) f:\\PRACA_MAGISTERSKA\\DATASETS\\PREDYKCJA\\videos\\las.webm: 352x640 2 no_glassess, 1 no_gloves, 5 no_helmets, 5 no_vests, 11.1ms\n",
      "video 1/4 (frame 171/227) f:\\PRACA_MAGISTERSKA\\DATASETS\\PREDYKCJA\\videos\\las.webm: 352x640 1 no_glasses, 1 no_gloves, 5 no_helmets, 4 no_vests, 11.1ms\n",
      "video 1/4 (frame 172/227) f:\\PRACA_MAGISTERSKA\\DATASETS\\PREDYKCJA\\videos\\las.webm: 352x640 1 no_gloves, 4 no_helmets, 5 no_vests, 11.1ms\n",
      "video 1/4 (frame 173/227) f:\\PRACA_MAGISTERSKA\\DATASETS\\PREDYKCJA\\videos\\las.webm: 352x640 1 no_glasses, 1 no_gloves, 4 no_helmets, 5 no_vests, 11.1ms\n",
      "video 1/4 (frame 174/227) f:\\PRACA_MAGISTERSKA\\DATASETS\\PREDYKCJA\\videos\\las.webm: 352x640 1 no_glasses, 1 no_gloves, 5 no_helmets, 5 no_vests, 11.1ms\n",
      "video 1/4 (frame 175/227) f:\\PRACA_MAGISTERSKA\\DATASETS\\PREDYKCJA\\videos\\las.webm: 352x640 1 no_glasses, 1 no_gloves, 5 no_helmets, 5 no_vests, 11.1ms\n",
      "video 1/4 (frame 176/227) f:\\PRACA_MAGISTERSKA\\DATASETS\\PREDYKCJA\\videos\\las.webm: 352x640 1 no_glasses, 1 no_gloves, 5 no_helmets, 5 no_vests, 11.1ms\n",
      "video 1/4 (frame 177/227) f:\\PRACA_MAGISTERSKA\\DATASETS\\PREDYKCJA\\videos\\las.webm: 352x640 1 no_glasses, 1 no_gloves, 4 no_helmets, 6 no_vests, 11.1ms\n",
      "video 1/4 (frame 178/227) f:\\PRACA_MAGISTERSKA\\DATASETS\\PREDYKCJA\\videos\\las.webm: 352x640 1 no_glasses, 2 no_glovess, 5 no_helmets, 5 no_vests, 11.1ms\n",
      "video 1/4 (frame 179/227) f:\\PRACA_MAGISTERSKA\\DATASETS\\PREDYKCJA\\videos\\las.webm: 352x640 1 no_glasses, 2 no_glovess, 5 no_helmets, 5 no_vests, 11.1ms\n",
      "video 1/4 (frame 180/227) f:\\PRACA_MAGISTERSKA\\DATASETS\\PREDYKCJA\\videos\\las.webm: 352x640 1 no_glasses, 2 no_glovess, 5 no_helmets, 5 no_vests, 11.1ms\n",
      "video 1/4 (frame 181/227) f:\\PRACA_MAGISTERSKA\\DATASETS\\PREDYKCJA\\videos\\las.webm: 352x640 1 no_glasses, 2 no_glovess, 5 no_helmets, 5 no_vests, 11.1ms\n",
      "video 1/4 (frame 182/227) f:\\PRACA_MAGISTERSKA\\DATASETS\\PREDYKCJA\\videos\\las.webm: 352x640 1 no_glasses, 2 no_glovess, 5 no_helmets, 5 no_vests, 11.1ms\n",
      "video 1/4 (frame 183/227) f:\\PRACA_MAGISTERSKA\\DATASETS\\PREDYKCJA\\videos\\las.webm: 352x640 1 no_glasses, 3 no_glovess, 5 no_helmets, 5 no_vests, 11.1ms\n",
      "video 1/4 (frame 184/227) f:\\PRACA_MAGISTERSKA\\DATASETS\\PREDYKCJA\\videos\\las.webm: 352x640 1 no_glasses, 3 no_glovess, 5 no_helmets, 5 no_vests, 11.1ms\n",
      "video 1/4 (frame 185/227) f:\\PRACA_MAGISTERSKA\\DATASETS\\PREDYKCJA\\videos\\las.webm: 352x640 1 no_glasses, 2 no_glovess, 5 no_helmets, 5 no_vests, 11.1ms\n",
      "video 1/4 (frame 186/227) f:\\PRACA_MAGISTERSKA\\DATASETS\\PREDYKCJA\\videos\\las.webm: 352x640 1 no_glasses, 2 no_glovess, 5 no_helmets, 5 no_vests, 11.1ms\n",
      "video 1/4 (frame 187/227) f:\\PRACA_MAGISTERSKA\\DATASETS\\PREDYKCJA\\videos\\las.webm: 352x640 1 no_glasses, 1 no_gloves, 5 no_helmets, 5 no_vests, 11.1ms\n",
      "video 1/4 (frame 188/227) f:\\PRACA_MAGISTERSKA\\DATASETS\\PREDYKCJA\\videos\\las.webm: 352x640 1 no_glasses, 1 no_gloves, 5 no_helmets, 5 no_vests, 11.1ms\n",
      "video 1/4 (frame 189/227) f:\\PRACA_MAGISTERSKA\\DATASETS\\PREDYKCJA\\videos\\las.webm: 352x640 1 no_glasses, 1 no_gloves, 5 no_helmets, 6 no_vests, 11.1ms\n",
      "video 1/4 (frame 190/227) f:\\PRACA_MAGISTERSKA\\DATASETS\\PREDYKCJA\\videos\\las.webm: 352x640 1 no_glasses, 1 no_gloves, 5 no_helmets, 5 no_vests, 11.1ms\n",
      "video 1/4 (frame 191/227) f:\\PRACA_MAGISTERSKA\\DATASETS\\PREDYKCJA\\videos\\las.webm: 352x640 1 no_glasses, 2 no_glovess, 5 no_helmets, 5 no_vests, 11.1ms\n",
      "video 1/4 (frame 192/227) f:\\PRACA_MAGISTERSKA\\DATASETS\\PREDYKCJA\\videos\\las.webm: 352x640 1 no_glasses, 2 no_glovess, 5 no_helmets, 5 no_vests, 11.1ms\n",
      "video 1/4 (frame 193/227) f:\\PRACA_MAGISTERSKA\\DATASETS\\PREDYKCJA\\videos\\las.webm: 640x640 1 no_glasses, 4 no_glovess, 5 no_helmets, 6 no_vests, 21.5ms\n",
      "video 1/4 (frame 194/227) f:\\PRACA_MAGISTERSKA\\DATASETS\\PREDYKCJA\\videos\\las.webm: 640x640 1 no_glasses, 4 no_glovess, 5 no_helmets, 6 no_vests, 21.5ms\n",
      "video 1/4 (frame 195/227) f:\\PRACA_MAGISTERSKA\\DATASETS\\PREDYKCJA\\videos\\las.webm: 640x640 1 no_glasses, 4 no_glovess, 5 no_helmets, 6 no_vests, 21.5ms\n",
      "video 1/4 (frame 196/227) f:\\PRACA_MAGISTERSKA\\DATASETS\\PREDYKCJA\\videos\\las.webm: 640x640 1 no_glasses, 3 no_glovess, 5 no_helmets, 6 no_vests, 21.5ms\n",
      "video 1/4 (frame 197/227) f:\\PRACA_MAGISTERSKA\\DATASETS\\PREDYKCJA\\videos\\las.webm: 640x640 1 no_glasses, 3 no_glovess, 5 no_helmets, 6 no_vests, 21.5ms\n",
      "video 1/4 (frame 198/227) f:\\PRACA_MAGISTERSKA\\DATASETS\\PREDYKCJA\\videos\\las.webm: 640x640 3 no_glovess, 5 no_helmets, 6 no_vests, 21.5ms\n",
      "video 1/4 (frame 199/227) f:\\PRACA_MAGISTERSKA\\DATASETS\\PREDYKCJA\\videos\\las.webm: 640x640 3 no_glovess, 5 no_helmets, 5 no_vests, 21.5ms\n",
      "video 1/4 (frame 200/227) f:\\PRACA_MAGISTERSKA\\DATASETS\\PREDYKCJA\\videos\\las.webm: 640x640 2 no_glovess, 5 no_helmets, 5 no_vests, 21.5ms\n",
      "video 1/4 (frame 201/227) f:\\PRACA_MAGISTERSKA\\DATASETS\\PREDYKCJA\\videos\\las.webm: 640x640 3 no_glovess, 5 no_helmets, 5 no_vests, 21.5ms\n",
      "video 1/4 (frame 202/227) f:\\PRACA_MAGISTERSKA\\DATASETS\\PREDYKCJA\\videos\\las.webm: 640x640 3 no_glovess, 5 no_helmets, 5 no_vests, 21.5ms\n",
      "video 1/4 (frame 203/227) f:\\PRACA_MAGISTERSKA\\DATASETS\\PREDYKCJA\\videos\\las.webm: 640x640 3 no_glovess, 5 no_helmets, 5 no_vests, 21.5ms\n",
      "video 1/4 (frame 204/227) f:\\PRACA_MAGISTERSKA\\DATASETS\\PREDYKCJA\\videos\\las.webm: 640x640 3 no_glovess, 5 no_helmets, 5 no_vests, 21.5ms\n",
      "video 1/4 (frame 205/227) f:\\PRACA_MAGISTERSKA\\DATASETS\\PREDYKCJA\\videos\\las.webm: 640x640 3 no_glovess, 5 no_helmets, 5 no_vests, 21.5ms\n",
      "video 1/4 (frame 206/227) f:\\PRACA_MAGISTERSKA\\DATASETS\\PREDYKCJA\\videos\\las.webm: 640x640 3 no_glovess, 5 no_helmets, 5 no_vests, 21.5ms\n",
      "video 1/4 (frame 207/227) f:\\PRACA_MAGISTERSKA\\DATASETS\\PREDYKCJA\\videos\\las.webm: 640x640 2 no_glovess, 5 no_helmets, 5 no_vests, 21.5ms\n",
      "video 1/4 (frame 208/227) f:\\PRACA_MAGISTERSKA\\DATASETS\\PREDYKCJA\\videos\\las.webm: 640x640 1 no_gloves, 5 no_helmets, 5 no_vests, 21.5ms\n",
      "video 1/4 (frame 209/227) f:\\PRACA_MAGISTERSKA\\DATASETS\\PREDYKCJA\\videos\\las.webm: 640x640 1 no_glasses, 1 no_gloves, 5 no_helmets, 6 no_vests, 21.5ms\n",
      "video 1/4 (frame 210/227) f:\\PRACA_MAGISTERSKA\\DATASETS\\PREDYKCJA\\videos\\las.webm: 640x640 1 no_glasses, 1 no_gloves, 5 no_helmets, 6 no_vests, 21.5ms\n",
      "video 1/4 (frame 211/227) f:\\PRACA_MAGISTERSKA\\DATASETS\\PREDYKCJA\\videos\\las.webm: 640x640 1 no_glasses, 3 no_glovess, 5 no_helmets, 6 no_vests, 21.5ms\n",
      "video 1/4 (frame 212/227) f:\\PRACA_MAGISTERSKA\\DATASETS\\PREDYKCJA\\videos\\las.webm: 640x640 1 no_glasses, 4 no_glovess, 5 no_helmets, 7 no_vests, 21.5ms\n",
      "video 1/4 (frame 213/227) f:\\PRACA_MAGISTERSKA\\DATASETS\\PREDYKCJA\\videos\\las.webm: 640x640 1 no_glasses, 3 no_glovess, 5 no_helmets, 7 no_vests, 21.5ms\n",
      "video 1/4 (frame 214/227) f:\\PRACA_MAGISTERSKA\\DATASETS\\PREDYKCJA\\videos\\las.webm: 640x640 2 no_glassess, 2 no_glovess, 5 no_helmets, 6 no_vests, 21.5ms\n",
      "video 1/4 (frame 215/227) f:\\PRACA_MAGISTERSKA\\DATASETS\\PREDYKCJA\\videos\\las.webm: 640x640 2 no_glassess, 3 no_glovess, 5 no_helmets, 5 no_vests, 21.5ms\n",
      "video 1/4 (frame 216/227) f:\\PRACA_MAGISTERSKA\\DATASETS\\PREDYKCJA\\videos\\las.webm: 640x640 2 no_glassess, 1 no_gloves, 5 no_helmets, 5 no_vests, 21.5ms\n",
      "video 1/4 (frame 217/227) f:\\PRACA_MAGISTERSKA\\DATASETS\\PREDYKCJA\\videos\\las.webm: 640x640 2 no_glassess, 5 no_helmets, 5 no_vests, 21.5ms\n",
      "video 1/4 (frame 218/227) f:\\PRACA_MAGISTERSKA\\DATASETS\\PREDYKCJA\\videos\\las.webm: 640x640 2 no_glassess, 5 no_helmets, 5 no_vests, 21.5ms\n",
      "video 1/4 (frame 219/227) f:\\PRACA_MAGISTERSKA\\DATASETS\\PREDYKCJA\\videos\\las.webm: 640x640 2 no_glassess, 1 no_gloves, 5 no_helmets, 5 no_vests, 21.5ms\n",
      "video 1/4 (frame 220/227) f:\\PRACA_MAGISTERSKA\\DATASETS\\PREDYKCJA\\videos\\las.webm: 640x640 2 no_glassess, 1 no_gloves, 5 no_helmets, 6 no_vests, 21.5ms\n",
      "video 1/4 (frame 221/227) f:\\PRACA_MAGISTERSKA\\DATASETS\\PREDYKCJA\\videos\\las.webm: 640x640 2 no_glassess, 1 no_gloves, 5 no_helmets, 5 no_vests, 21.5ms\n",
      "video 1/4 (frame 222/227) f:\\PRACA_MAGISTERSKA\\DATASETS\\PREDYKCJA\\videos\\las.webm: 640x640 2 no_glassess, 1 no_gloves, 5 no_helmets, 5 no_vests, 21.5ms\n",
      "video 1/4 (frame 223/227) f:\\PRACA_MAGISTERSKA\\DATASETS\\PREDYKCJA\\videos\\las.webm: 640x640 2 no_glassess, 1 no_gloves, 5 no_helmets, 5 no_vests, 21.5ms\n",
      "video 1/4 (frame 224/227) f:\\PRACA_MAGISTERSKA\\DATASETS\\PREDYKCJA\\videos\\las.webm: 640x640 2 no_glassess, 2 no_glovess, 5 no_helmets, 5 no_vests, 21.5ms\n",
      "video 1/4 (frame 225/227) f:\\PRACA_MAGISTERSKA\\DATASETS\\PREDYKCJA\\videos\\las.webm: 640x640 2 no_glassess, 2 no_glovess, 4 no_helmets, 7 no_vests, 21.5ms\n",
      "video 1/4 (frame 226/227) f:\\PRACA_MAGISTERSKA\\DATASETS\\PREDYKCJA\\videos\\las.webm: 640x640 2 no_glassess, 4 no_helmets, 6 no_vests, 21.5ms\n",
      "video 1/4 (frame 227/227) f:\\PRACA_MAGISTERSKA\\DATASETS\\PREDYKCJA\\videos\\las.webm: 640x640 2 no_glassess, 5 no_helmets, 8 no_vests, 21.5ms\n",
      "video 2/4 (frame 1/646) f:\\PRACA_MAGISTERSKA\\DATASETS\\PREDYKCJA\\videos\\pieknie.webm: 640x640 1 no_glasses, 3 no_glovess, 2 no_vests, 21.5ms\n",
      "video 2/4 (frame 2/646) f:\\PRACA_MAGISTERSKA\\DATASETS\\PREDYKCJA\\videos\\pieknie.webm: 640x640 1 no_glasses, 4 no_glovess, 3 no_vests, 21.5ms\n",
      "video 2/4 (frame 3/646) f:\\PRACA_MAGISTERSKA\\DATASETS\\PREDYKCJA\\videos\\pieknie.webm: 640x640 1 no_glasses, 4 no_glovess, 2 no_vests, 21.5ms\n",
      "video 2/4 (frame 4/646) f:\\PRACA_MAGISTERSKA\\DATASETS\\PREDYKCJA\\videos\\pieknie.webm: 640x640 1 no_glasses, 4 no_glovess, 2 no_vests, 21.5ms\n",
      "video 2/4 (frame 5/646) f:\\PRACA_MAGISTERSKA\\DATASETS\\PREDYKCJA\\videos\\pieknie.webm: 640x640 1 no_glasses, 4 no_glovess, 2 no_vests, 21.5ms\n",
      "video 2/4 (frame 6/646) f:\\PRACA_MAGISTERSKA\\DATASETS\\PREDYKCJA\\videos\\pieknie.webm: 640x640 2 no_glassess, 4 no_glovess, 2 no_vests, 21.5ms\n",
      "video 2/4 (frame 7/646) f:\\PRACA_MAGISTERSKA\\DATASETS\\PREDYKCJA\\videos\\pieknie.webm: 640x640 1 no_glasses, 4 no_glovess, 2 no_vests, 21.5ms\n",
      "video 2/4 (frame 8/646) f:\\PRACA_MAGISTERSKA\\DATASETS\\PREDYKCJA\\videos\\pieknie.webm: 640x640 1 no_glasses, 4 no_glovess, 2 no_vests, 21.5ms\n",
      "video 2/4 (frame 9/646) f:\\PRACA_MAGISTERSKA\\DATASETS\\PREDYKCJA\\videos\\pieknie.webm: 640x640 1 no_glasses, 4 no_glovess, 2 no_vests, 21.5ms\n",
      "video 2/4 (frame 10/646) f:\\PRACA_MAGISTERSKA\\DATASETS\\PREDYKCJA\\videos\\pieknie.webm: 640x640 1 no_glasses, 4 no_glovess, 2 no_vests, 21.5ms\n",
      "video 2/4 (frame 11/646) f:\\PRACA_MAGISTERSKA\\DATASETS\\PREDYKCJA\\videos\\pieknie.webm: 640x640 1 no_glasses, 4 no_glovess, 1 no_helmet, 2 no_vests, 21.5ms\n",
      "video 2/4 (frame 12/646) f:\\PRACA_MAGISTERSKA\\DATASETS\\PREDYKCJA\\videos\\pieknie.webm: 640x640 1 no_glasses, 4 no_glovess, 1 no_helmet, 2 no_vests, 21.5ms\n",
      "video 2/4 (frame 13/646) f:\\PRACA_MAGISTERSKA\\DATASETS\\PREDYKCJA\\videos\\pieknie.webm: 640x640 1 no_glasses, 4 no_glovess, 1 no_helmet, 2 no_vests, 21.5ms\n",
      "video 2/4 (frame 14/646) f:\\PRACA_MAGISTERSKA\\DATASETS\\PREDYKCJA\\videos\\pieknie.webm: 640x640 1 no_glasses, 4 no_glovess, 1 no_helmet, 2 no_vests, 21.5ms\n",
      "video 2/4 (frame 15/646) f:\\PRACA_MAGISTERSKA\\DATASETS\\PREDYKCJA\\videos\\pieknie.webm: 640x640 1 no_glasses, 4 no_glovess, 1 no_helmet, 2 no_vests, 21.5ms\n",
      "video 2/4 (frame 16/646) f:\\PRACA_MAGISTERSKA\\DATASETS\\PREDYKCJA\\videos\\pieknie.webm: 640x640 1 no_glasses, 5 no_glovess, 1 no_helmet, 2 no_vests, 21.5ms\n",
      "video 2/4 (frame 17/646) f:\\PRACA_MAGISTERSKA\\DATASETS\\PREDYKCJA\\videos\\pieknie.webm: 640x640 1 no_glasses, 4 no_glovess, 1 no_helmet, 2 no_vests, 21.5ms\n",
      "video 2/4 (frame 18/646) f:\\PRACA_MAGISTERSKA\\DATASETS\\PREDYKCJA\\videos\\pieknie.webm: 640x640 1 no_glasses, 4 no_glovess, 1 no_helmet, 2 no_vests, 21.5ms\n",
      "video 2/4 (frame 19/646) f:\\PRACA_MAGISTERSKA\\DATASETS\\PREDYKCJA\\videos\\pieknie.webm: 640x640 1 no_glasses, 4 no_glovess, 1 no_helmet, 2 no_vests, 21.5ms\n",
      "video 2/4 (frame 20/646) f:\\PRACA_MAGISTERSKA\\DATASETS\\PREDYKCJA\\videos\\pieknie.webm: 640x640 1 no_glasses, 4 no_glovess, 2 no_vests, 21.5ms\n",
      "video 2/4 (frame 21/646) f:\\PRACA_MAGISTERSKA\\DATASETS\\PREDYKCJA\\videos\\pieknie.webm: 640x640 2 no_glassess, 4 no_glovess, 2 no_vests, 21.5ms\n",
      "video 2/4 (frame 22/646) f:\\PRACA_MAGISTERSKA\\DATASETS\\PREDYKCJA\\videos\\pieknie.webm: 640x640 1 no_glasses, 4 no_glovess, 2 no_vests, 21.5ms\n",
      "video 2/4 (frame 23/646) f:\\PRACA_MAGISTERSKA\\DATASETS\\PREDYKCJA\\videos\\pieknie.webm: 640x640 2 no_glassess, 5 no_glovess, 1 no_helmet, 2 no_vests, 21.5ms\n",
      "video 2/4 (frame 24/646) f:\\PRACA_MAGISTERSKA\\DATASETS\\PREDYKCJA\\videos\\pieknie.webm: 640x640 1 no_glasses, 4 no_glovess, 2 no_vests, 21.5ms\n",
      "video 2/4 (frame 25/646) f:\\PRACA_MAGISTERSKA\\DATASETS\\PREDYKCJA\\videos\\pieknie.webm: 640x640 2 no_glassess, 4 no_glovess, 2 no_vests, 21.5ms\n",
      "video 2/4 (frame 26/646) f:\\PRACA_MAGISTERSKA\\DATASETS\\PREDYKCJA\\videos\\pieknie.webm: 640x640 2 no_glassess, 4 no_glovess, 2 no_vests, 21.5ms\n",
      "video 2/4 (frame 27/646) f:\\PRACA_MAGISTERSKA\\DATASETS\\PREDYKCJA\\videos\\pieknie.webm: 640x640 2 no_glassess, 4 no_glovess, 2 no_vests, 21.5ms\n",
      "video 2/4 (frame 28/646) f:\\PRACA_MAGISTERSKA\\DATASETS\\PREDYKCJA\\videos\\pieknie.webm: 640x640 2 no_glassess, 4 no_glovess, 2 no_vests, 21.5ms\n",
      "video 2/4 (frame 29/646) f:\\PRACA_MAGISTERSKA\\DATASETS\\PREDYKCJA\\videos\\pieknie.webm: 640x640 1 no_glasses, 4 no_glovess, 2 no_vests, 21.5ms\n",
      "video 2/4 (frame 30/646) f:\\PRACA_MAGISTERSKA\\DATASETS\\PREDYKCJA\\videos\\pieknie.webm: 384x640 1 no_glasses, 4 no_glovess, 2 no_vests, 12.2ms\n",
      "video 2/4 (frame 31/646) f:\\PRACA_MAGISTERSKA\\DATASETS\\PREDYKCJA\\videos\\pieknie.webm: 384x640 1 no_glasses, 3 no_glovess, 2 no_vests, 12.2ms\n",
      "video 2/4 (frame 32/646) f:\\PRACA_MAGISTERSKA\\DATASETS\\PREDYKCJA\\videos\\pieknie.webm: 384x640 1 no_glasses, 3 no_glovess, 2 no_vests, 12.2ms\n",
      "video 2/4 (frame 33/646) f:\\PRACA_MAGISTERSKA\\DATASETS\\PREDYKCJA\\videos\\pieknie.webm: 384x640 1 no_glasses, 3 no_glovess, 2 no_vests, 12.2ms\n",
      "video 2/4 (frame 34/646) f:\\PRACA_MAGISTERSKA\\DATASETS\\PREDYKCJA\\videos\\pieknie.webm: 384x640 1 no_glasses, 3 no_glovess, 2 no_vests, 12.2ms\n",
      "video 2/4 (frame 35/646) f:\\PRACA_MAGISTERSKA\\DATASETS\\PREDYKCJA\\videos\\pieknie.webm: 384x640 2 no_glassess, 3 no_glovess, 2 no_vests, 12.2ms\n",
      "video 2/4 (frame 36/646) f:\\PRACA_MAGISTERSKA\\DATASETS\\PREDYKCJA\\videos\\pieknie.webm: 384x640 1 no_glasses, 3 no_glovess, 2 no_vests, 12.2ms\n",
      "video 2/4 (frame 37/646) f:\\PRACA_MAGISTERSKA\\DATASETS\\PREDYKCJA\\videos\\pieknie.webm: 384x640 1 no_glasses, 3 no_glovess, 2 no_vests, 12.2ms\n",
      "video 2/4 (frame 38/646) f:\\PRACA_MAGISTERSKA\\DATASETS\\PREDYKCJA\\videos\\pieknie.webm: 384x640 1 no_glasses, 3 no_glovess, 2 no_vests, 12.2ms\n",
      "video 2/4 (frame 39/646) f:\\PRACA_MAGISTERSKA\\DATASETS\\PREDYKCJA\\videos\\pieknie.webm: 384x640 1 no_glasses, 3 no_glovess, 2 no_vests, 12.2ms\n",
      "video 2/4 (frame 40/646) f:\\PRACA_MAGISTERSKA\\DATASETS\\PREDYKCJA\\videos\\pieknie.webm: 384x640 1 no_glasses, 3 no_glovess, 2 no_vests, 12.2ms\n",
      "video 2/4 (frame 41/646) f:\\PRACA_MAGISTERSKA\\DATASETS\\PREDYKCJA\\videos\\pieknie.webm: 384x640 1 no_glasses, 3 no_glovess, 2 no_vests, 12.2ms\n",
      "video 2/4 (frame 42/646) f:\\PRACA_MAGISTERSKA\\DATASETS\\PREDYKCJA\\videos\\pieknie.webm: 384x640 1 no_glasses, 3 no_glovess, 2 no_vests, 12.2ms\n",
      "video 2/4 (frame 43/646) f:\\PRACA_MAGISTERSKA\\DATASETS\\PREDYKCJA\\videos\\pieknie.webm: 384x640 1 no_glasses, 3 no_glovess, 2 no_vests, 12.2ms\n",
      "video 2/4 (frame 44/646) f:\\PRACA_MAGISTERSKA\\DATASETS\\PREDYKCJA\\videos\\pieknie.webm: 384x640 2 no_glassess, 3 no_glovess, 2 no_vests, 12.2ms\n",
      "video 2/4 (frame 45/646) f:\\PRACA_MAGISTERSKA\\DATASETS\\PREDYKCJA\\videos\\pieknie.webm: 384x640 2 no_glassess, 3 no_glovess, 2 no_vests, 12.2ms\n",
      "video 2/4 (frame 46/646) f:\\PRACA_MAGISTERSKA\\DATASETS\\PREDYKCJA\\videos\\pieknie.webm: 384x640 2 no_glassess, 3 no_glovess, 2 no_vests, 12.2ms\n",
      "video 2/4 (frame 47/646) f:\\PRACA_MAGISTERSKA\\DATASETS\\PREDYKCJA\\videos\\pieknie.webm: 384x640 2 no_glassess, 3 no_glovess, 2 no_vests, 12.2ms\n",
      "video 2/4 (frame 48/646) f:\\PRACA_MAGISTERSKA\\DATASETS\\PREDYKCJA\\videos\\pieknie.webm: 384x640 2 no_glassess, 3 no_glovess, 2 no_vests, 12.2ms\n",
      "video 2/4 (frame 49/646) f:\\PRACA_MAGISTERSKA\\DATASETS\\PREDYKCJA\\videos\\pieknie.webm: 384x640 2 no_glassess, 3 no_glovess, 2 no_vests, 12.2ms\n",
      "video 2/4 (frame 50/646) f:\\PRACA_MAGISTERSKA\\DATASETS\\PREDYKCJA\\videos\\pieknie.webm: 384x640 2 no_glassess, 3 no_glovess, 2 no_vests, 12.2ms\n",
      "video 2/4 (frame 51/646) f:\\PRACA_MAGISTERSKA\\DATASETS\\PREDYKCJA\\videos\\pieknie.webm: 384x640 2 no_glassess, 3 no_glovess, 2 no_vests, 12.2ms\n",
      "video 2/4 (frame 52/646) f:\\PRACA_MAGISTERSKA\\DATASETS\\PREDYKCJA\\videos\\pieknie.webm: 384x640 2 no_glassess, 3 no_glovess, 2 no_vests, 12.2ms\n",
      "video 2/4 (frame 53/646) f:\\PRACA_MAGISTERSKA\\DATASETS\\PREDYKCJA\\videos\\pieknie.webm: 384x640 1 no_glasses, 3 no_glovess, 2 no_vests, 12.2ms\n",
      "video 2/4 (frame 54/646) f:\\PRACA_MAGISTERSKA\\DATASETS\\PREDYKCJA\\videos\\pieknie.webm: 384x640 1 no_glasses, 3 no_glovess, 2 no_vests, 12.2ms\n",
      "video 2/4 (frame 55/646) f:\\PRACA_MAGISTERSKA\\DATASETS\\PREDYKCJA\\videos\\pieknie.webm: 384x640 1 no_glasses, 3 no_glovess, 2 no_vests, 12.2ms\n",
      "video 2/4 (frame 56/646) f:\\PRACA_MAGISTERSKA\\DATASETS\\PREDYKCJA\\videos\\pieknie.webm: 384x640 1 no_glasses, 3 no_glovess, 2 no_vests, 12.2ms\n",
      "video 2/4 (frame 57/646) f:\\PRACA_MAGISTERSKA\\DATASETS\\PREDYKCJA\\videos\\pieknie.webm: 384x640 1 no_glasses, 4 no_glovess, 2 no_vests, 12.2ms\n",
      "video 2/4 (frame 58/646) f:\\PRACA_MAGISTERSKA\\DATASETS\\PREDYKCJA\\videos\\pieknie.webm: 384x640 1 no_glasses, 3 no_glovess, 2 no_vests, 12.2ms\n",
      "video 2/4 (frame 59/646) f:\\PRACA_MAGISTERSKA\\DATASETS\\PREDYKCJA\\videos\\pieknie.webm: 384x640 1 no_glasses, 3 no_glovess, 2 no_vests, 12.2ms\n",
      "video 2/4 (frame 60/646) f:\\PRACA_MAGISTERSKA\\DATASETS\\PREDYKCJA\\videos\\pieknie.webm: 384x640 1 no_glasses, 3 no_glovess, 2 no_vests, 12.2ms\n",
      "video 2/4 (frame 61/646) f:\\PRACA_MAGISTERSKA\\DATASETS\\PREDYKCJA\\videos\\pieknie.webm: 384x640 1 no_glasses, 3 no_glovess, 2 no_vests, 12.2ms\n",
      "video 2/4 (frame 62/646) f:\\PRACA_MAGISTERSKA\\DATASETS\\PREDYKCJA\\videos\\pieknie.webm: 384x640 1 no_glasses, 3 no_glovess, 2 no_vests, 12.2ms\n",
      "video 2/4 (frame 63/646) f:\\PRACA_MAGISTERSKA\\DATASETS\\PREDYKCJA\\videos\\pieknie.webm: 384x640 2 no_glassess, 3 no_glovess, 2 no_vests, 12.2ms\n",
      "video 2/4 (frame 64/646) f:\\PRACA_MAGISTERSKA\\DATASETS\\PREDYKCJA\\videos\\pieknie.webm: 384x640 1 no_glasses, 3 no_glovess, 2 no_vests, 12.2ms\n",
      "video 2/4 (frame 65/646) f:\\PRACA_MAGISTERSKA\\DATASETS\\PREDYKCJA\\videos\\pieknie.webm: 384x640 1 no_glasses, 3 no_glovess, 2 no_vests, 12.2ms\n",
      "video 2/4 (frame 66/646) f:\\PRACA_MAGISTERSKA\\DATASETS\\PREDYKCJA\\videos\\pieknie.webm: 384x640 1 no_glasses, 3 no_glovess, 2 no_vests, 12.2ms\n",
      "video 2/4 (frame 67/646) f:\\PRACA_MAGISTERSKA\\DATASETS\\PREDYKCJA\\videos\\pieknie.webm: 384x640 1 no_glasses, 3 no_glovess, 2 no_vests, 12.2ms\n",
      "video 2/4 (frame 68/646) f:\\PRACA_MAGISTERSKA\\DATASETS\\PREDYKCJA\\videos\\pieknie.webm: 384x640 1 no_glasses, 3 no_glovess, 2 no_vests, 12.2ms\n",
      "video 2/4 (frame 69/646) f:\\PRACA_MAGISTERSKA\\DATASETS\\PREDYKCJA\\videos\\pieknie.webm: 384x640 1 no_glasses, 3 no_glovess, 2 no_vests, 12.2ms\n",
      "video 2/4 (frame 70/646) f:\\PRACA_MAGISTERSKA\\DATASETS\\PREDYKCJA\\videos\\pieknie.webm: 384x640 1 no_glasses, 3 no_glovess, 2 no_vests, 12.2ms\n",
      "video 2/4 (frame 71/646) f:\\PRACA_MAGISTERSKA\\DATASETS\\PREDYKCJA\\videos\\pieknie.webm: 384x640 1 no_glasses, 3 no_glovess, 2 no_vests, 12.2ms\n",
      "video 2/4 (frame 72/646) f:\\PRACA_MAGISTERSKA\\DATASETS\\PREDYKCJA\\videos\\pieknie.webm: 384x640 1 no_glasses, 3 no_glovess, 2 no_vests, 12.2ms\n",
      "video 2/4 (frame 73/646) f:\\PRACA_MAGISTERSKA\\DATASETS\\PREDYKCJA\\videos\\pieknie.webm: 384x640 1 no_glasses, 3 no_glovess, 2 no_vests, 12.2ms\n",
      "video 2/4 (frame 74/646) f:\\PRACA_MAGISTERSKA\\DATASETS\\PREDYKCJA\\videos\\pieknie.webm: 384x640 1 no_glasses, 4 no_glovess, 2 no_vests, 12.2ms\n",
      "video 2/4 (frame 75/646) f:\\PRACA_MAGISTERSKA\\DATASETS\\PREDYKCJA\\videos\\pieknie.webm: 384x640 1 no_glasses, 4 no_glovess, 2 no_vests, 12.2ms\n",
      "video 2/4 (frame 76/646) f:\\PRACA_MAGISTERSKA\\DATASETS\\PREDYKCJA\\videos\\pieknie.webm: 384x640 1 no_glasses, 3 no_glovess, 2 no_vests, 12.2ms\n",
      "video 2/4 (frame 77/646) f:\\PRACA_MAGISTERSKA\\DATASETS\\PREDYKCJA\\videos\\pieknie.webm: 384x640 1 no_glasses, 4 no_glovess, 3 no_vests, 12.2ms\n",
      "video 2/4 (frame 78/646) f:\\PRACA_MAGISTERSKA\\DATASETS\\PREDYKCJA\\videos\\pieknie.webm: 384x640 1 no_glasses, 4 no_glovess, 2 no_vests, 12.2ms\n",
      "video 2/4 (frame 79/646) f:\\PRACA_MAGISTERSKA\\DATASETS\\PREDYKCJA\\videos\\pieknie.webm: 384x640 1 no_glasses, 4 no_glovess, 2 no_vests, 12.2ms\n",
      "video 2/4 (frame 80/646) f:\\PRACA_MAGISTERSKA\\DATASETS\\PREDYKCJA\\videos\\pieknie.webm: 384x640 1 no_glasses, 4 no_glovess, 2 no_vests, 12.2ms\n",
      "video 2/4 (frame 81/646) f:\\PRACA_MAGISTERSKA\\DATASETS\\PREDYKCJA\\videos\\pieknie.webm: 384x640 1 no_glasses, 4 no_glovess, 2 no_vests, 12.2ms\n",
      "video 2/4 (frame 82/646) f:\\PRACA_MAGISTERSKA\\DATASETS\\PREDYKCJA\\videos\\pieknie.webm: 384x640 1 no_glasses, 4 no_glovess, 2 no_vests, 12.2ms\n",
      "video 2/4 (frame 83/646) f:\\PRACA_MAGISTERSKA\\DATASETS\\PREDYKCJA\\videos\\pieknie.webm: 384x640 1 no_glasses, 4 no_glovess, 2 no_vests, 12.2ms\n",
      "video 2/4 (frame 84/646) f:\\PRACA_MAGISTERSKA\\DATASETS\\PREDYKCJA\\videos\\pieknie.webm: 384x640 1 no_glasses, 4 no_glovess, 2 no_vests, 12.2ms\n",
      "video 2/4 (frame 85/646) f:\\PRACA_MAGISTERSKA\\DATASETS\\PREDYKCJA\\videos\\pieknie.webm: 384x640 1 no_glasses, 4 no_glovess, 2 no_vests, 12.2ms\n",
      "video 2/4 (frame 86/646) f:\\PRACA_MAGISTERSKA\\DATASETS\\PREDYKCJA\\videos\\pieknie.webm: 384x640 1 no_glasses, 4 no_glovess, 2 no_vests, 12.2ms\n",
      "video 2/4 (frame 87/646) f:\\PRACA_MAGISTERSKA\\DATASETS\\PREDYKCJA\\videos\\pieknie.webm: 384x640 1 no_glasses, 4 no_glovess, 2 no_vests, 12.2ms\n",
      "video 2/4 (frame 88/646) f:\\PRACA_MAGISTERSKA\\DATASETS\\PREDYKCJA\\videos\\pieknie.webm: 384x640 1 no_glasses, 4 no_glovess, 2 no_vests, 12.2ms\n",
      "video 2/4 (frame 89/646) f:\\PRACA_MAGISTERSKA\\DATASETS\\PREDYKCJA\\videos\\pieknie.webm: 384x640 1 no_glasses, 4 no_glovess, 2 no_vests, 12.2ms\n",
      "video 2/4 (frame 90/646) f:\\PRACA_MAGISTERSKA\\DATASETS\\PREDYKCJA\\videos\\pieknie.webm: 384x640 1 no_glasses, 4 no_glovess, 2 no_vests, 12.2ms\n",
      "video 2/4 (frame 91/646) f:\\PRACA_MAGISTERSKA\\DATASETS\\PREDYKCJA\\videos\\pieknie.webm: 384x640 1 no_glasses, 4 no_glovess, 2 no_vests, 12.2ms\n",
      "video 2/4 (frame 92/646) f:\\PRACA_MAGISTERSKA\\DATASETS\\PREDYKCJA\\videos\\pieknie.webm: 384x640 1 no_glasses, 4 no_glovess, 2 no_vests, 12.2ms\n",
      "video 2/4 (frame 93/646) f:\\PRACA_MAGISTERSKA\\DATASETS\\PREDYKCJA\\videos\\pieknie.webm: 384x640 1 no_glasses, 4 no_glovess, 2 no_vests, 12.2ms\n",
      "video 2/4 (frame 94/646) f:\\PRACA_MAGISTERSKA\\DATASETS\\PREDYKCJA\\videos\\pieknie.webm: 384x640 1 no_glasses, 4 no_glovess, 2 no_vests, 12.2ms\n",
      "video 2/4 (frame 95/646) f:\\PRACA_MAGISTERSKA\\DATASETS\\PREDYKCJA\\videos\\pieknie.webm: 384x640 1 no_glasses, 4 no_glovess, 2 no_vests, 12.2ms\n",
      "video 2/4 (frame 96/646) f:\\PRACA_MAGISTERSKA\\DATASETS\\PREDYKCJA\\videos\\pieknie.webm: 384x640 1 no_glasses, 4 no_glovess, 2 no_vests, 12.2ms\n",
      "video 2/4 (frame 97/646) f:\\PRACA_MAGISTERSKA\\DATASETS\\PREDYKCJA\\videos\\pieknie.webm: 384x640 1 no_glasses, 3 no_glovess, 2 no_vests, 12.2ms\n",
      "video 2/4 (frame 98/646) f:\\PRACA_MAGISTERSKA\\DATASETS\\PREDYKCJA\\videos\\pieknie.webm: 384x640 1 no_glasses, 3 no_glovess, 2 no_vests, 12.2ms\n",
      "video 2/4 (frame 99/646) f:\\PRACA_MAGISTERSKA\\DATASETS\\PREDYKCJA\\videos\\pieknie.webm: 384x640 1 no_glasses, 3 no_glovess, 2 no_vests, 12.2ms\n",
      "video 2/4 (frame 100/646) f:\\PRACA_MAGISTERSKA\\DATASETS\\PREDYKCJA\\videos\\pieknie.webm: 384x640 1 no_glasses, 3 no_glovess, 2 no_vests, 12.2ms\n",
      "video 2/4 (frame 101/646) f:\\PRACA_MAGISTERSKA\\DATASETS\\PREDYKCJA\\videos\\pieknie.webm: 384x640 1 no_glasses, 3 no_glovess, 2 no_vests, 12.2ms\n",
      "video 2/4 (frame 102/646) f:\\PRACA_MAGISTERSKA\\DATASETS\\PREDYKCJA\\videos\\pieknie.webm: 384x640 1 no_glasses, 3 no_glovess, 2 no_vests, 12.2ms\n",
      "video 2/4 (frame 103/646) f:\\PRACA_MAGISTERSKA\\DATASETS\\PREDYKCJA\\videos\\pieknie.webm: 384x640 1 no_glasses, 4 no_glovess, 2 no_vests, 12.2ms\n",
      "video 2/4 (frame 104/646) f:\\PRACA_MAGISTERSKA\\DATASETS\\PREDYKCJA\\videos\\pieknie.webm: 384x640 1 no_glasses, 4 no_glovess, 2 no_vests, 12.2ms\n",
      "video 2/4 (frame 105/646) f:\\PRACA_MAGISTERSKA\\DATASETS\\PREDYKCJA\\videos\\pieknie.webm: 384x640 1 no_glasses, 4 no_glovess, 2 no_vests, 12.2ms\n",
      "video 2/4 (frame 106/646) f:\\PRACA_MAGISTERSKA\\DATASETS\\PREDYKCJA\\videos\\pieknie.webm: 384x640 1 no_glasses, 4 no_glovess, 2 no_vests, 12.2ms\n",
      "video 2/4 (frame 107/646) f:\\PRACA_MAGISTERSKA\\DATASETS\\PREDYKCJA\\videos\\pieknie.webm: 384x640 1 no_glasses, 4 no_glovess, 2 no_vests, 12.2ms\n",
      "video 2/4 (frame 108/646) f:\\PRACA_MAGISTERSKA\\DATASETS\\PREDYKCJA\\videos\\pieknie.webm: 384x640 1 no_glasses, 4 no_glovess, 2 no_vests, 12.2ms\n",
      "video 2/4 (frame 109/646) f:\\PRACA_MAGISTERSKA\\DATASETS\\PREDYKCJA\\videos\\pieknie.webm: 384x640 1 no_glasses, 4 no_glovess, 2 no_vests, 12.2ms\n",
      "video 2/4 (frame 110/646) f:\\PRACA_MAGISTERSKA\\DATASETS\\PREDYKCJA\\videos\\pieknie.webm: 384x640 1 no_glasses, 4 no_glovess, 2 no_vests, 12.2ms\n",
      "video 2/4 (frame 111/646) f:\\PRACA_MAGISTERSKA\\DATASETS\\PREDYKCJA\\videos\\pieknie.webm: 384x640 1 no_glasses, 4 no_glovess, 2 no_vests, 12.2ms\n",
      "video 2/4 (frame 112/646) f:\\PRACA_MAGISTERSKA\\DATASETS\\PREDYKCJA\\videos\\pieknie.webm: 384x640 1 no_glasses, 4 no_glovess, 2 no_vests, 12.2ms\n",
      "video 2/4 (frame 113/646) f:\\PRACA_MAGISTERSKA\\DATASETS\\PREDYKCJA\\videos\\pieknie.webm: 384x640 1 no_glasses, 4 no_glovess, 2 no_vests, 12.2ms\n",
      "video 2/4 (frame 114/646) f:\\PRACA_MAGISTERSKA\\DATASETS\\PREDYKCJA\\videos\\pieknie.webm: 384x640 1 no_glasses, 4 no_glovess, 2 no_vests, 12.2ms\n",
      "video 2/4 (frame 115/646) f:\\PRACA_MAGISTERSKA\\DATASETS\\PREDYKCJA\\videos\\pieknie.webm: 384x640 1 no_glasses, 3 no_glovess, 2 no_vests, 12.2ms\n",
      "video 2/4 (frame 116/646) f:\\PRACA_MAGISTERSKA\\DATASETS\\PREDYKCJA\\videos\\pieknie.webm: 384x640 1 no_glasses, 3 no_glovess, 2 no_vests, 12.2ms\n",
      "video 2/4 (frame 117/646) f:\\PRACA_MAGISTERSKA\\DATASETS\\PREDYKCJA\\videos\\pieknie.webm: 384x640 2 no_glassess, 3 no_glovess, 2 no_vests, 12.2ms\n",
      "video 2/4 (frame 118/646) f:\\PRACA_MAGISTERSKA\\DATASETS\\PREDYKCJA\\videos\\pieknie.webm: 384x640 2 no_glassess, 3 no_glovess, 2 no_vests, 12.2ms\n",
      "video 2/4 (frame 119/646) f:\\PRACA_MAGISTERSKA\\DATASETS\\PREDYKCJA\\videos\\pieknie.webm: 384x640 1 no_glasses, 2 no_glovess, 2 no_vests, 12.2ms\n",
      "video 2/4 (frame 120/646) f:\\PRACA_MAGISTERSKA\\DATASETS\\PREDYKCJA\\videos\\pieknie.webm: 384x640 1 no_glasses, 3 no_glovess, 2 no_vests, 12.2ms\n",
      "video 2/4 (frame 121/646) f:\\PRACA_MAGISTERSKA\\DATASETS\\PREDYKCJA\\videos\\pieknie.webm: 384x640 1 no_glasses, 2 no_glovess, 2 no_vests, 12.2ms\n",
      "video 2/4 (frame 122/646) f:\\PRACA_MAGISTERSKA\\DATASETS\\PREDYKCJA\\videos\\pieknie.webm: 384x640 1 no_glasses, 2 no_glovess, 2 no_vests, 12.2ms\n",
      "video 2/4 (frame 123/646) f:\\PRACA_MAGISTERSKA\\DATASETS\\PREDYKCJA\\videos\\pieknie.webm: 384x640 1 no_glasses, 3 no_glovess, 2 no_vests, 12.2ms\n",
      "video 2/4 (frame 124/646) f:\\PRACA_MAGISTERSKA\\DATASETS\\PREDYKCJA\\videos\\pieknie.webm: 384x640 1 no_glasses, 3 no_glovess, 2 no_vests, 12.2ms\n",
      "video 2/4 (frame 125/646) f:\\PRACA_MAGISTERSKA\\DATASETS\\PREDYKCJA\\videos\\pieknie.webm: 384x640 1 no_glasses, 4 no_glovess, 2 no_vests, 12.2ms\n",
      "video 2/4 (frame 126/646) f:\\PRACA_MAGISTERSKA\\DATASETS\\PREDYKCJA\\videos\\pieknie.webm: 384x640 1 no_glasses, 4 no_glovess, 2 no_vests, 12.2ms\n",
      "video 2/4 (frame 127/646) f:\\PRACA_MAGISTERSKA\\DATASETS\\PREDYKCJA\\videos\\pieknie.webm: 384x640 1 no_glasses, 4 no_glovess, 2 no_vests, 12.2ms\n",
      "video 2/4 (frame 128/646) f:\\PRACA_MAGISTERSKA\\DATASETS\\PREDYKCJA\\videos\\pieknie.webm: 384x640 1 no_glasses, 4 no_glovess, 2 no_vests, 12.2ms\n",
      "video 2/4 (frame 129/646) f:\\PRACA_MAGISTERSKA\\DATASETS\\PREDYKCJA\\videos\\pieknie.webm: 384x640 1 no_glasses, 4 no_glovess, 2 no_vests, 12.2ms\n",
      "video 2/4 (frame 130/646) f:\\PRACA_MAGISTERSKA\\DATASETS\\PREDYKCJA\\videos\\pieknie.webm: 384x640 1 no_glasses, 4 no_glovess, 2 no_vests, 12.2ms\n",
      "video 2/4 (frame 131/646) f:\\PRACA_MAGISTERSKA\\DATASETS\\PREDYKCJA\\videos\\pieknie.webm: 384x640 1 no_glasses, 4 no_glovess, 2 no_vests, 12.2ms\n",
      "video 2/4 (frame 132/646) f:\\PRACA_MAGISTERSKA\\DATASETS\\PREDYKCJA\\videos\\pieknie.webm: 384x640 1 no_glasses, 4 no_glovess, 2 no_vests, 12.2ms\n",
      "video 2/4 (frame 133/646) f:\\PRACA_MAGISTERSKA\\DATASETS\\PREDYKCJA\\videos\\pieknie.webm: 384x640 1 no_glasses, 4 no_glovess, 2 no_vests, 12.2ms\n",
      "video 2/4 (frame 134/646) f:\\PRACA_MAGISTERSKA\\DATASETS\\PREDYKCJA\\videos\\pieknie.webm: 384x640 1 no_glasses, 4 no_glovess, 2 no_vests, 12.2ms\n",
      "video 2/4 (frame 135/646) f:\\PRACA_MAGISTERSKA\\DATASETS\\PREDYKCJA\\videos\\pieknie.webm: 384x640 1 no_glasses, 4 no_glovess, 2 no_vests, 12.2ms\n",
      "video 2/4 (frame 136/646) f:\\PRACA_MAGISTERSKA\\DATASETS\\PREDYKCJA\\videos\\pieknie.webm: 384x640 1 no_glasses, 4 no_glovess, 2 no_vests, 12.2ms\n",
      "video 2/4 (frame 137/646) f:\\PRACA_MAGISTERSKA\\DATASETS\\PREDYKCJA\\videos\\pieknie.webm: 384x640 1 no_glasses, 4 no_glovess, 2 no_vests, 12.2ms\n",
      "video 2/4 (frame 138/646) f:\\PRACA_MAGISTERSKA\\DATASETS\\PREDYKCJA\\videos\\pieknie.webm: 384x640 1 no_glasses, 4 no_glovess, 2 no_vests, 12.2ms\n",
      "video 2/4 (frame 139/646) f:\\PRACA_MAGISTERSKA\\DATASETS\\PREDYKCJA\\videos\\pieknie.webm: 384x640 1 no_glasses, 4 no_glovess, 2 no_vests, 12.2ms\n",
      "video 2/4 (frame 140/646) f:\\PRACA_MAGISTERSKA\\DATASETS\\PREDYKCJA\\videos\\pieknie.webm: 384x640 1 no_glasses, 4 no_glovess, 2 no_vests, 12.2ms\n",
      "video 2/4 (frame 141/646) f:\\PRACA_MAGISTERSKA\\DATASETS\\PREDYKCJA\\videos\\pieknie.webm: 384x640 1 no_glasses, 4 no_glovess, 2 no_vests, 12.2ms\n",
      "video 2/4 (frame 142/646) f:\\PRACA_MAGISTERSKA\\DATASETS\\PREDYKCJA\\videos\\pieknie.webm: 384x640 1 no_glasses, 4 no_glovess, 2 no_vests, 12.2ms\n",
      "video 2/4 (frame 143/646) f:\\PRACA_MAGISTERSKA\\DATASETS\\PREDYKCJA\\videos\\pieknie.webm: 384x640 1 no_glasses, 4 no_glovess, 2 no_vests, 12.2ms\n",
      "video 2/4 (frame 144/646) f:\\PRACA_MAGISTERSKA\\DATASETS\\PREDYKCJA\\videos\\pieknie.webm: 384x640 1 no_glasses, 4 no_glovess, 2 no_vests, 12.2ms\n",
      "video 2/4 (frame 145/646) f:\\PRACA_MAGISTERSKA\\DATASETS\\PREDYKCJA\\videos\\pieknie.webm: 384x640 1 no_glasses, 4 no_glovess, 2 no_vests, 12.2ms\n",
      "video 2/4 (frame 146/646) f:\\PRACA_MAGISTERSKA\\DATASETS\\PREDYKCJA\\videos\\pieknie.webm: 384x640 1 no_glasses, 4 no_glovess, 2 no_vests, 12.2ms\n",
      "video 2/4 (frame 147/646) f:\\PRACA_MAGISTERSKA\\DATASETS\\PREDYKCJA\\videos\\pieknie.webm: 384x640 1 no_glasses, 4 no_glovess, 2 no_vests, 12.2ms\n",
      "video 2/4 (frame 148/646) f:\\PRACA_MAGISTERSKA\\DATASETS\\PREDYKCJA\\videos\\pieknie.webm: 384x640 1 no_glasses, 4 no_glovess, 2 no_vests, 12.2ms\n",
      "video 2/4 (frame 149/646) f:\\PRACA_MAGISTERSKA\\DATASETS\\PREDYKCJA\\videos\\pieknie.webm: 384x640 1 no_glasses, 4 no_glovess, 2 no_vests, 12.2ms\n",
      "video 2/4 (frame 150/646) f:\\PRACA_MAGISTERSKA\\DATASETS\\PREDYKCJA\\videos\\pieknie.webm: 384x640 1 no_glasses, 4 no_glovess, 2 no_vests, 12.2ms\n",
      "video 2/4 (frame 151/646) f:\\PRACA_MAGISTERSKA\\DATASETS\\PREDYKCJA\\videos\\pieknie.webm: 384x640 1 no_glasses, 4 no_glovess, 2 no_vests, 12.2ms\n",
      "video 2/4 (frame 152/646) f:\\PRACA_MAGISTERSKA\\DATASETS\\PREDYKCJA\\videos\\pieknie.webm: 384x640 1 no_glasses, 3 no_glovess, 2 no_vests, 12.2ms\n",
      "video 2/4 (frame 153/646) f:\\PRACA_MAGISTERSKA\\DATASETS\\PREDYKCJA\\videos\\pieknie.webm: 384x640 1 no_glasses, 4 no_glovess, 2 no_vests, 12.2ms\n",
      "video 2/4 (frame 154/646) f:\\PRACA_MAGISTERSKA\\DATASETS\\PREDYKCJA\\videos\\pieknie.webm: 384x640 1 no_glasses, 4 no_glovess, 2 no_vests, 12.2ms\n",
      "video 2/4 (frame 155/646) f:\\PRACA_MAGISTERSKA\\DATASETS\\PREDYKCJA\\videos\\pieknie.webm: 384x640 1 no_glasses, 4 no_glovess, 2 no_vests, 12.2ms\n",
      "video 2/4 (frame 156/646) f:\\PRACA_MAGISTERSKA\\DATASETS\\PREDYKCJA\\videos\\pieknie.webm: 384x640 1 no_glasses, 4 no_glovess, 2 no_vests, 12.2ms\n",
      "video 2/4 (frame 157/646) f:\\PRACA_MAGISTERSKA\\DATASETS\\PREDYKCJA\\videos\\pieknie.webm: 384x640 1 no_glasses, 4 no_glovess, 2 no_vests, 12.2ms\n",
      "video 2/4 (frame 158/646) f:\\PRACA_MAGISTERSKA\\DATASETS\\PREDYKCJA\\videos\\pieknie.webm: 384x640 1 no_glasses, 4 no_glovess, 2 no_vests, 12.2ms\n",
      "video 2/4 (frame 159/646) f:\\PRACA_MAGISTERSKA\\DATASETS\\PREDYKCJA\\videos\\pieknie.webm: 384x640 1 no_glasses, 4 no_glovess, 2 no_vests, 12.2ms\n",
      "video 2/4 (frame 160/646) f:\\PRACA_MAGISTERSKA\\DATASETS\\PREDYKCJA\\videos\\pieknie.webm: 384x640 1 no_glasses, 4 no_glovess, 2 no_vests, 12.2ms\n",
      "video 2/4 (frame 161/646) f:\\PRACA_MAGISTERSKA\\DATASETS\\PREDYKCJA\\videos\\pieknie.webm: 384x640 1 no_glasses, 4 no_glovess, 2 no_vests, 12.2ms\n",
      "video 2/4 (frame 162/646) f:\\PRACA_MAGISTERSKA\\DATASETS\\PREDYKCJA\\videos\\pieknie.webm: 384x640 1 no_glasses, 4 no_glovess, 2 no_vests, 12.2ms\n",
      "video 2/4 (frame 163/646) f:\\PRACA_MAGISTERSKA\\DATASETS\\PREDYKCJA\\videos\\pieknie.webm: 384x640 1 no_glasses, 4 no_glovess, 2 no_vests, 12.2ms\n",
      "video 2/4 (frame 164/646) f:\\PRACA_MAGISTERSKA\\DATASETS\\PREDYKCJA\\videos\\pieknie.webm: 384x640 1 no_glasses, 4 no_glovess, 2 no_vests, 12.2ms\n",
      "video 2/4 (frame 165/646) f:\\PRACA_MAGISTERSKA\\DATASETS\\PREDYKCJA\\videos\\pieknie.webm: 384x640 1 no_glasses, 4 no_glovess, 2 no_vests, 12.2ms\n",
      "video 2/4 (frame 166/646) f:\\PRACA_MAGISTERSKA\\DATASETS\\PREDYKCJA\\videos\\pieknie.webm: 384x640 1 no_glasses, 4 no_glovess, 2 no_vests, 12.2ms\n",
      "video 2/4 (frame 167/646) f:\\PRACA_MAGISTERSKA\\DATASETS\\PREDYKCJA\\videos\\pieknie.webm: 384x640 1 no_glasses, 4 no_glovess, 2 no_vests, 12.2ms\n",
      "video 2/4 (frame 168/646) f:\\PRACA_MAGISTERSKA\\DATASETS\\PREDYKCJA\\videos\\pieknie.webm: 384x640 1 no_glasses, 4 no_glovess, 2 no_vests, 12.2ms\n",
      "video 2/4 (frame 169/646) f:\\PRACA_MAGISTERSKA\\DATASETS\\PREDYKCJA\\videos\\pieknie.webm: 384x640 1 no_glasses, 4 no_glovess, 2 no_vests, 12.2ms\n",
      "video 2/4 (frame 170/646) f:\\PRACA_MAGISTERSKA\\DATASETS\\PREDYKCJA\\videos\\pieknie.webm: 384x640 1 no_glasses, 3 no_glovess, 2 no_vests, 12.2ms\n",
      "video 2/4 (frame 171/646) f:\\PRACA_MAGISTERSKA\\DATASETS\\PREDYKCJA\\videos\\pieknie.webm: 384x640 1 no_glasses, 3 no_glovess, 2 no_vests, 12.2ms\n",
      "video 2/4 (frame 172/646) f:\\PRACA_MAGISTERSKA\\DATASETS\\PREDYKCJA\\videos\\pieknie.webm: 384x640 1 no_glasses, 3 no_glovess, 2 no_vests, 12.2ms\n",
      "video 2/4 (frame 173/646) f:\\PRACA_MAGISTERSKA\\DATASETS\\PREDYKCJA\\videos\\pieknie.webm: 384x640 1 no_glasses, 3 no_glovess, 2 no_vests, 12.2ms\n",
      "video 2/4 (frame 174/646) f:\\PRACA_MAGISTERSKA\\DATASETS\\PREDYKCJA\\videos\\pieknie.webm: 384x640 1 no_glasses, 4 no_glovess, 2 no_vests, 12.2ms\n",
      "video 2/4 (frame 175/646) f:\\PRACA_MAGISTERSKA\\DATASETS\\PREDYKCJA\\videos\\pieknie.webm: 384x640 2 no_glassess, 4 no_glovess, 2 no_vests, 12.2ms\n",
      "video 2/4 (frame 176/646) f:\\PRACA_MAGISTERSKA\\DATASETS\\PREDYKCJA\\videos\\pieknie.webm: 384x640 2 no_glassess, 4 no_glovess, 2 no_vests, 12.2ms\n",
      "video 2/4 (frame 177/646) f:\\PRACA_MAGISTERSKA\\DATASETS\\PREDYKCJA\\videos\\pieknie.webm: 384x640 1 no_glasses, 4 no_glovess, 2 no_vests, 12.2ms\n",
      "video 2/4 (frame 178/646) f:\\PRACA_MAGISTERSKA\\DATASETS\\PREDYKCJA\\videos\\pieknie.webm: 384x640 1 no_glasses, 4 no_glovess, 2 no_vests, 12.2ms\n",
      "video 2/4 (frame 179/646) f:\\PRACA_MAGISTERSKA\\DATASETS\\PREDYKCJA\\videos\\pieknie.webm: 384x640 1 no_glasses, 4 no_glovess, 2 no_vests, 12.2ms\n",
      "video 2/4 (frame 180/646) f:\\PRACA_MAGISTERSKA\\DATASETS\\PREDYKCJA\\videos\\pieknie.webm: 384x640 1 no_glasses, 4 no_glovess, 2 no_vests, 12.2ms\n",
      "video 2/4 (frame 181/646) f:\\PRACA_MAGISTERSKA\\DATASETS\\PREDYKCJA\\videos\\pieknie.webm: 384x640 1 no_glasses, 4 no_glovess, 2 no_vests, 12.2ms\n",
      "video 2/4 (frame 182/646) f:\\PRACA_MAGISTERSKA\\DATASETS\\PREDYKCJA\\videos\\pieknie.webm: 384x640 1 no_glasses, 4 no_glovess, 2 no_vests, 12.2ms\n",
      "video 2/4 (frame 183/646) f:\\PRACA_MAGISTERSKA\\DATASETS\\PREDYKCJA\\videos\\pieknie.webm: 384x640 1 no_glasses, 4 no_glovess, 2 no_vests, 12.2ms\n",
      "video 2/4 (frame 184/646) f:\\PRACA_MAGISTERSKA\\DATASETS\\PREDYKCJA\\videos\\pieknie.webm: 384x640 1 no_glasses, 4 no_glovess, 2 no_vests, 12.2ms\n",
      "video 2/4 (frame 185/646) f:\\PRACA_MAGISTERSKA\\DATASETS\\PREDYKCJA\\videos\\pieknie.webm: 384x640 1 no_glasses, 4 no_glovess, 2 no_vests, 12.2ms\n",
      "video 2/4 (frame 186/646) f:\\PRACA_MAGISTERSKA\\DATASETS\\PREDYKCJA\\videos\\pieknie.webm: 384x640 1 no_glasses, 3 no_glovess, 2 no_vests, 12.2ms\n",
      "video 2/4 (frame 187/646) f:\\PRACA_MAGISTERSKA\\DATASETS\\PREDYKCJA\\videos\\pieknie.webm: 384x640 1 no_glasses, 3 no_glovess, 2 no_vests, 12.2ms\n",
      "video 2/4 (frame 188/646) f:\\PRACA_MAGISTERSKA\\DATASETS\\PREDYKCJA\\videos\\pieknie.webm: 384x640 1 no_glasses, 3 no_glovess, 2 no_vests, 12.2ms\n",
      "video 2/4 (frame 189/646) f:\\PRACA_MAGISTERSKA\\DATASETS\\PREDYKCJA\\videos\\pieknie.webm: 384x640 1 no_glasses, 3 no_glovess, 2 no_vests, 12.2ms\n",
      "video 2/4 (frame 190/646) f:\\PRACA_MAGISTERSKA\\DATASETS\\PREDYKCJA\\videos\\pieknie.webm: 384x640 1 no_glasses, 3 no_glovess, 2 no_vests, 12.2ms\n",
      "video 2/4 (frame 191/646) f:\\PRACA_MAGISTERSKA\\DATASETS\\PREDYKCJA\\videos\\pieknie.webm: 384x640 1 no_glasses, 4 no_glovess, 3 no_vests, 12.2ms\n",
      "video 2/4 (frame 192/646) f:\\PRACA_MAGISTERSKA\\DATASETS\\PREDYKCJA\\videos\\pieknie.webm: 384x640 1 no_glasses, 4 no_glovess, 2 no_vests, 12.2ms\n",
      "video 2/4 (frame 193/646) f:\\PRACA_MAGISTERSKA\\DATASETS\\PREDYKCJA\\videos\\pieknie.webm: 384x640 1 no_glasses, 4 no_glovess, 2 no_vests, 12.2ms\n",
      "video 2/4 (frame 194/646) f:\\PRACA_MAGISTERSKA\\DATASETS\\PREDYKCJA\\videos\\pieknie.webm: 384x640 1 no_glasses, 4 no_glovess, 2 no_vests, 12.2ms\n",
      "video 2/4 (frame 195/646) f:\\PRACA_MAGISTERSKA\\DATASETS\\PREDYKCJA\\videos\\pieknie.webm: 384x640 1 no_glasses, 4 no_glovess, 2 no_vests, 12.2ms\n",
      "video 2/4 (frame 196/646) f:\\PRACA_MAGISTERSKA\\DATASETS\\PREDYKCJA\\videos\\pieknie.webm: 384x640 1 no_glasses, 4 no_glovess, 2 no_vests, 12.2ms\n",
      "video 2/4 (frame 197/646) f:\\PRACA_MAGISTERSKA\\DATASETS\\PREDYKCJA\\videos\\pieknie.webm: 384x640 3 no_glassess, 4 no_glovess, 2 no_vests, 12.2ms\n",
      "video 2/4 (frame 198/646) f:\\PRACA_MAGISTERSKA\\DATASETS\\PREDYKCJA\\videos\\pieknie.webm: 384x640 2 no_glassess, 4 no_glovess, 2 no_vests, 12.2ms\n",
      "video 2/4 (frame 199/646) f:\\PRACA_MAGISTERSKA\\DATASETS\\PREDYKCJA\\videos\\pieknie.webm: 384x640 1 no_glasses, 4 no_glovess, 2 no_vests, 12.2ms\n",
      "video 2/4 (frame 200/646) f:\\PRACA_MAGISTERSKA\\DATASETS\\PREDYKCJA\\videos\\pieknie.webm: 384x640 1 no_glasses, 4 no_glovess, 2 no_vests, 12.2ms\n",
      "video 2/4 (frame 201/646) f:\\PRACA_MAGISTERSKA\\DATASETS\\PREDYKCJA\\videos\\pieknie.webm: 384x640 1 no_glasses, 4 no_glovess, 2 no_vests, 12.2ms\n",
      "video 2/4 (frame 202/646) f:\\PRACA_MAGISTERSKA\\DATASETS\\PREDYKCJA\\videos\\pieknie.webm: 384x640 1 no_glasses, 4 no_glovess, 2 no_vests, 12.2ms\n",
      "video 2/4 (frame 203/646) f:\\PRACA_MAGISTERSKA\\DATASETS\\PREDYKCJA\\videos\\pieknie.webm: 384x640 1 no_glasses, 4 no_glovess, 2 no_vests, 12.2ms\n",
      "video 2/4 (frame 204/646) f:\\PRACA_MAGISTERSKA\\DATASETS\\PREDYKCJA\\videos\\pieknie.webm: 384x640 1 no_glasses, 4 no_glovess, 2 no_vests, 12.2ms\n",
      "video 2/4 (frame 205/646) f:\\PRACA_MAGISTERSKA\\DATASETS\\PREDYKCJA\\videos\\pieknie.webm: 384x640 1 no_glasses, 4 no_glovess, 2 no_vests, 12.2ms\n",
      "video 2/4 (frame 206/646) f:\\PRACA_MAGISTERSKA\\DATASETS\\PREDYKCJA\\videos\\pieknie.webm: 384x640 2 no_glassess, 4 no_glovess, 2 no_vests, 12.2ms\n",
      "video 2/4 (frame 207/646) f:\\PRACA_MAGISTERSKA\\DATASETS\\PREDYKCJA\\videos\\pieknie.webm: 384x640 1 no_glasses, 4 no_glovess, 2 no_vests, 12.2ms\n",
      "video 2/4 (frame 208/646) f:\\PRACA_MAGISTERSKA\\DATASETS\\PREDYKCJA\\videos\\pieknie.webm: 384x640 1 no_glasses, 4 no_glovess, 2 no_vests, 12.2ms\n",
      "video 2/4 (frame 209/646) f:\\PRACA_MAGISTERSKA\\DATASETS\\PREDYKCJA\\videos\\pieknie.webm: 384x640 1 no_glasses, 4 no_glovess, 2 no_vests, 12.2ms\n",
      "video 2/4 (frame 210/646) f:\\PRACA_MAGISTERSKA\\DATASETS\\PREDYKCJA\\videos\\pieknie.webm: 384x640 1 no_glasses, 4 no_glovess, 2 no_vests, 12.2ms\n",
      "video 2/4 (frame 211/646) f:\\PRACA_MAGISTERSKA\\DATASETS\\PREDYKCJA\\videos\\pieknie.webm: 384x640 2 no_glassess, 4 no_glovess, 2 no_vests, 12.2ms\n",
      "video 2/4 (frame 212/646) f:\\PRACA_MAGISTERSKA\\DATASETS\\PREDYKCJA\\videos\\pieknie.webm: 384x640 1 no_glasses, 4 no_glovess, 2 no_vests, 12.2ms\n",
      "video 2/4 (frame 213/646) f:\\PRACA_MAGISTERSKA\\DATASETS\\PREDYKCJA\\videos\\pieknie.webm: 384x640 1 no_glasses, 3 no_glovess, 2 no_vests, 12.2ms\n",
      "video 2/4 (frame 214/646) f:\\PRACA_MAGISTERSKA\\DATASETS\\PREDYKCJA\\videos\\pieknie.webm: 384x640 2 no_glassess, 2 no_glovess, 2 no_vests, 12.2ms\n",
      "video 2/4 (frame 215/646) f:\\PRACA_MAGISTERSKA\\DATASETS\\PREDYKCJA\\videos\\pieknie.webm: 384x640 1 no_glasses, 3 no_glovess, 2 no_vests, 12.2ms\n",
      "video 2/4 (frame 216/646) f:\\PRACA_MAGISTERSKA\\DATASETS\\PREDYKCJA\\videos\\pieknie.webm: 384x640 1 no_glasses, 3 no_glovess, 1 no_vest, 12.2ms\n",
      "video 2/4 (frame 217/646) f:\\PRACA_MAGISTERSKA\\DATASETS\\PREDYKCJA\\videos\\pieknie.webm: 384x640 1 no_glasses, 2 no_glovess, 2 no_vests, 12.2ms\n",
      "video 2/4 (frame 218/646) f:\\PRACA_MAGISTERSKA\\DATASETS\\PREDYKCJA\\videos\\pieknie.webm: 384x640 1 no_glasses, 3 no_glovess, 2 no_vests, 12.2ms\n",
      "video 2/4 (frame 219/646) f:\\PRACA_MAGISTERSKA\\DATASETS\\PREDYKCJA\\videos\\pieknie.webm: 384x640 1 no_glasses, 3 no_glovess, 2 no_vests, 12.2ms\n",
      "video 2/4 (frame 220/646) f:\\PRACA_MAGISTERSKA\\DATASETS\\PREDYKCJA\\videos\\pieknie.webm: 384x640 1 no_glasses, 3 no_glovess, 2 no_vests, 12.2ms\n",
      "video 2/4 (frame 221/646) f:\\PRACA_MAGISTERSKA\\DATASETS\\PREDYKCJA\\videos\\pieknie.webm: 384x640 1 no_glasses, 3 no_glovess, 2 no_vests, 12.2ms\n",
      "video 2/4 (frame 222/646) f:\\PRACA_MAGISTERSKA\\DATASETS\\PREDYKCJA\\videos\\pieknie.webm: 384x640 1 no_glasses, 3 no_glovess, 2 no_vests, 12.3ms\n",
      "video 2/4 (frame 223/646) f:\\PRACA_MAGISTERSKA\\DATASETS\\PREDYKCJA\\videos\\pieknie.webm: 384x640 1 no_glasses, 3 no_glovess, 2 no_vests, 12.3ms\n",
      "video 2/4 (frame 224/646) f:\\PRACA_MAGISTERSKA\\DATASETS\\PREDYKCJA\\videos\\pieknie.webm: 384x640 1 no_glasses, 5 no_glovess, 2 no_vests, 12.3ms\n",
      "video 2/4 (frame 225/646) f:\\PRACA_MAGISTERSKA\\DATASETS\\PREDYKCJA\\videos\\pieknie.webm: 384x640 1 no_glasses, 4 no_glovess, 2 no_vests, 12.3ms\n",
      "video 2/4 (frame 226/646) f:\\PRACA_MAGISTERSKA\\DATASETS\\PREDYKCJA\\videos\\pieknie.webm: 384x640 1 no_glasses, 4 no_glovess, 1 no_helmet, 2 no_vests, 12.3ms\n",
      "video 2/4 (frame 227/646) f:\\PRACA_MAGISTERSKA\\DATASETS\\PREDYKCJA\\videos\\pieknie.webm: 384x640 1 no_glasses, 4 no_glovess, 2 no_vests, 12.3ms\n",
      "video 2/4 (frame 228/646) f:\\PRACA_MAGISTERSKA\\DATASETS\\PREDYKCJA\\videos\\pieknie.webm: 384x640 1 no_glasses, 4 no_glovess, 2 no_vests, 12.3ms\n",
      "video 2/4 (frame 229/646) f:\\PRACA_MAGISTERSKA\\DATASETS\\PREDYKCJA\\videos\\pieknie.webm: 384x640 1 no_glasses, 4 no_glovess, 2 no_vests, 12.3ms\n",
      "video 2/4 (frame 230/646) f:\\PRACA_MAGISTERSKA\\DATASETS\\PREDYKCJA\\videos\\pieknie.webm: 384x640 1 no_glasses, 4 no_glovess, 2 no_vests, 12.3ms\n",
      "video 2/4 (frame 231/646) f:\\PRACA_MAGISTERSKA\\DATASETS\\PREDYKCJA\\videos\\pieknie.webm: 384x640 1 no_glasses, 4 no_glovess, 2 no_vests, 12.3ms\n",
      "video 2/4 (frame 232/646) f:\\PRACA_MAGISTERSKA\\DATASETS\\PREDYKCJA\\videos\\pieknie.webm: 384x640 1 no_glasses, 4 no_glovess, 2 no_vests, 12.3ms\n",
      "video 2/4 (frame 233/646) f:\\PRACA_MAGISTERSKA\\DATASETS\\PREDYKCJA\\videos\\pieknie.webm: 384x640 1 no_glasses, 4 no_glovess, 2 no_vests, 12.3ms\n",
      "video 2/4 (frame 234/646) f:\\PRACA_MAGISTERSKA\\DATASETS\\PREDYKCJA\\videos\\pieknie.webm: 384x640 1 no_glasses, 5 no_glovess, 2 no_vests, 12.3ms\n",
      "video 2/4 (frame 235/646) f:\\PRACA_MAGISTERSKA\\DATASETS\\PREDYKCJA\\videos\\pieknie.webm: 384x640 1 no_glasses, 4 no_glovess, 2 no_vests, 12.3ms\n",
      "video 2/4 (frame 236/646) f:\\PRACA_MAGISTERSKA\\DATASETS\\PREDYKCJA\\videos\\pieknie.webm: 384x640 1 no_glasses, 4 no_glovess, 2 no_vests, 12.3ms\n",
      "video 2/4 (frame 237/646) f:\\PRACA_MAGISTERSKA\\DATASETS\\PREDYKCJA\\videos\\pieknie.webm: 384x640 1 no_glasses, 4 no_glovess, 2 no_vests, 12.3ms\n",
      "video 2/4 (frame 238/646) f:\\PRACA_MAGISTERSKA\\DATASETS\\PREDYKCJA\\videos\\pieknie.webm: 384x640 1 no_glasses, 4 no_glovess, 2 no_vests, 12.3ms\n",
      "video 2/4 (frame 239/646) f:\\PRACA_MAGISTERSKA\\DATASETS\\PREDYKCJA\\videos\\pieknie.webm: 384x640 1 no_glasses, 4 no_glovess, 2 no_vests, 12.3ms\n",
      "video 2/4 (frame 240/646) f:\\PRACA_MAGISTERSKA\\DATASETS\\PREDYKCJA\\videos\\pieknie.webm: 384x640 1 no_glasses, 4 no_glovess, 2 no_vests, 12.3ms\n",
      "video 2/4 (frame 241/646) f:\\PRACA_MAGISTERSKA\\DATASETS\\PREDYKCJA\\videos\\pieknie.webm: 384x640 1 no_glasses, 4 no_glovess, 2 no_vests, 12.3ms\n",
      "video 2/4 (frame 242/646) f:\\PRACA_MAGISTERSKA\\DATASETS\\PREDYKCJA\\videos\\pieknie.webm: 384x640 1 no_glasses, 4 no_glovess, 2 no_vests, 12.3ms\n",
      "video 2/4 (frame 243/646) f:\\PRACA_MAGISTERSKA\\DATASETS\\PREDYKCJA\\videos\\pieknie.webm: 384x640 1 no_glasses, 4 no_glovess, 2 no_vests, 12.3ms\n",
      "video 2/4 (frame 244/646) f:\\PRACA_MAGISTERSKA\\DATASETS\\PREDYKCJA\\videos\\pieknie.webm: 384x640 1 no_glasses, 4 no_glovess, 2 no_vests, 12.3ms\n",
      "video 2/4 (frame 245/646) f:\\PRACA_MAGISTERSKA\\DATASETS\\PREDYKCJA\\videos\\pieknie.webm: 384x640 1 no_glasses, 4 no_glovess, 2 no_vests, 12.3ms\n",
      "video 2/4 (frame 246/646) f:\\PRACA_MAGISTERSKA\\DATASETS\\PREDYKCJA\\videos\\pieknie.webm: 384x640 2 no_glassess, 4 no_glovess, 2 no_vests, 12.3ms\n",
      "video 2/4 (frame 247/646) f:\\PRACA_MAGISTERSKA\\DATASETS\\PREDYKCJA\\videos\\pieknie.webm: 384x640 1 no_glasses, 4 no_glovess, 2 no_vests, 12.3ms\n",
      "video 2/4 (frame 248/646) f:\\PRACA_MAGISTERSKA\\DATASETS\\PREDYKCJA\\videos\\pieknie.webm: 384x640 1 no_glasses, 4 no_glovess, 2 no_vests, 12.3ms\n",
      "video 2/4 (frame 249/646) f:\\PRACA_MAGISTERSKA\\DATASETS\\PREDYKCJA\\videos\\pieknie.webm: 384x640 1 no_glasses, 4 no_glovess, 2 no_vests, 12.3ms\n",
      "video 2/4 (frame 250/646) f:\\PRACA_MAGISTERSKA\\DATASETS\\PREDYKCJA\\videos\\pieknie.webm: 384x640 1 no_glasses, 4 no_glovess, 2 no_vests, 12.3ms\n",
      "video 2/4 (frame 251/646) f:\\PRACA_MAGISTERSKA\\DATASETS\\PREDYKCJA\\videos\\pieknie.webm: 384x640 1 no_glasses, 4 no_glovess, 2 no_vests, 12.3ms\n",
      "video 2/4 (frame 252/646) f:\\PRACA_MAGISTERSKA\\DATASETS\\PREDYKCJA\\videos\\pieknie.webm: 384x640 1 no_glasses, 4 no_glovess, 2 no_vests, 12.3ms\n",
      "video 2/4 (frame 253/646) f:\\PRACA_MAGISTERSKA\\DATASETS\\PREDYKCJA\\videos\\pieknie.webm: 384x640 1 no_glasses, 4 no_glovess, 2 no_vests, 12.3ms\n",
      "video 2/4 (frame 254/646) f:\\PRACA_MAGISTERSKA\\DATASETS\\PREDYKCJA\\videos\\pieknie.webm: 384x640 1 no_glasses, 4 no_glovess, 2 no_vests, 12.3ms\n",
      "video 2/4 (frame 255/646) f:\\PRACA_MAGISTERSKA\\DATASETS\\PREDYKCJA\\videos\\pieknie.webm: 384x640 1 no_glasses, 4 no_glovess, 2 no_vests, 12.3ms\n",
      "video 2/4 (frame 256/646) f:\\PRACA_MAGISTERSKA\\DATASETS\\PREDYKCJA\\videos\\pieknie.webm: 384x640 1 no_glasses, 4 no_glovess, 2 no_vests, 12.3ms\n",
      "video 2/4 (frame 257/646) f:\\PRACA_MAGISTERSKA\\DATASETS\\PREDYKCJA\\videos\\pieknie.webm: 384x640 1 no_glasses, 4 no_glovess, 2 no_vests, 12.3ms\n",
      "video 2/4 (frame 258/646) f:\\PRACA_MAGISTERSKA\\DATASETS\\PREDYKCJA\\videos\\pieknie.webm: 384x640 1 no_glasses, 4 no_glovess, 2 no_vests, 12.3ms\n",
      "video 2/4 (frame 259/646) f:\\PRACA_MAGISTERSKA\\DATASETS\\PREDYKCJA\\videos\\pieknie.webm: 384x640 1 no_glasses, 4 no_glovess, 2 no_vests, 12.3ms\n",
      "video 2/4 (frame 260/646) f:\\PRACA_MAGISTERSKA\\DATASETS\\PREDYKCJA\\videos\\pieknie.webm: 384x640 1 no_glasses, 4 no_glovess, 2 no_vests, 12.3ms\n",
      "video 2/4 (frame 261/646) f:\\PRACA_MAGISTERSKA\\DATASETS\\PREDYKCJA\\videos\\pieknie.webm: 384x640 1 no_glasses, 4 no_glovess, 2 no_vests, 12.3ms\n",
      "video 2/4 (frame 262/646) f:\\PRACA_MAGISTERSKA\\DATASETS\\PREDYKCJA\\videos\\pieknie.webm: 384x640 1 no_glasses, 6 no_glovess, 2 no_vests, 12.3ms\n",
      "video 2/4 (frame 263/646) f:\\PRACA_MAGISTERSKA\\DATASETS\\PREDYKCJA\\videos\\pieknie.webm: 384x640 1 no_glasses, 4 no_glovess, 2 no_vests, 12.3ms\n",
      "video 2/4 (frame 264/646) f:\\PRACA_MAGISTERSKA\\DATASETS\\PREDYKCJA\\videos\\pieknie.webm: 384x640 1 no_glasses, 4 no_glovess, 2 no_vests, 12.3ms\n",
      "video 2/4 (frame 265/646) f:\\PRACA_MAGISTERSKA\\DATASETS\\PREDYKCJA\\videos\\pieknie.webm: 384x640 1 no_glasses, 4 no_glovess, 2 no_vests, 12.3ms\n",
      "video 2/4 (frame 266/646) f:\\PRACA_MAGISTERSKA\\DATASETS\\PREDYKCJA\\videos\\pieknie.webm: 384x640 1 no_glasses, 4 no_glovess, 2 no_vests, 12.3ms\n",
      "video 2/4 (frame 267/646) f:\\PRACA_MAGISTERSKA\\DATASETS\\PREDYKCJA\\videos\\pieknie.webm: 384x640 1 no_glasses, 4 no_glovess, 2 no_vests, 12.3ms\n",
      "video 2/4 (frame 268/646) f:\\PRACA_MAGISTERSKA\\DATASETS\\PREDYKCJA\\videos\\pieknie.webm: 384x640 1 no_glasses, 4 no_glovess, 2 no_vests, 12.3ms\n",
      "video 2/4 (frame 269/646) f:\\PRACA_MAGISTERSKA\\DATASETS\\PREDYKCJA\\videos\\pieknie.webm: 384x640 1 no_glasses, 4 no_glovess, 2 no_vests, 12.3ms\n",
      "video 2/4 (frame 270/646) f:\\PRACA_MAGISTERSKA\\DATASETS\\PREDYKCJA\\videos\\pieknie.webm: 384x640 1 no_glasses, 4 no_glovess, 2 no_vests, 12.3ms\n",
      "video 2/4 (frame 271/646) f:\\PRACA_MAGISTERSKA\\DATASETS\\PREDYKCJA\\videos\\pieknie.webm: 384x640 1 no_glasses, 4 no_glovess, 2 no_vests, 12.3ms\n",
      "video 2/4 (frame 272/646) f:\\PRACA_MAGISTERSKA\\DATASETS\\PREDYKCJA\\videos\\pieknie.webm: 384x640 1 no_glasses, 4 no_glovess, 2 no_vests, 12.3ms\n",
      "video 2/4 (frame 273/646) f:\\PRACA_MAGISTERSKA\\DATASETS\\PREDYKCJA\\videos\\pieknie.webm: 384x640 1 no_glasses, 4 no_glovess, 2 no_vests, 12.3ms\n",
      "video 2/4 (frame 274/646) f:\\PRACA_MAGISTERSKA\\DATASETS\\PREDYKCJA\\videos\\pieknie.webm: 384x640 1 no_glasses, 4 no_glovess, 2 no_vests, 12.3ms\n",
      "video 2/4 (frame 275/646) f:\\PRACA_MAGISTERSKA\\DATASETS\\PREDYKCJA\\videos\\pieknie.webm: 384x640 1 no_glasses, 4 no_glovess, 2 no_vests, 12.3ms\n",
      "video 2/4 (frame 276/646) f:\\PRACA_MAGISTERSKA\\DATASETS\\PREDYKCJA\\videos\\pieknie.webm: 384x640 1 no_glasses, 4 no_glovess, 2 no_vests, 12.3ms\n",
      "video 2/4 (frame 277/646) f:\\PRACA_MAGISTERSKA\\DATASETS\\PREDYKCJA\\videos\\pieknie.webm: 384x640 1 no_glasses, 4 no_glovess, 2 no_vests, 12.3ms\n",
      "video 2/4 (frame 278/646) f:\\PRACA_MAGISTERSKA\\DATASETS\\PREDYKCJA\\videos\\pieknie.webm: 384x640 1 no_glasses, 4 no_glovess, 2 no_vests, 12.3ms\n",
      "video 2/4 (frame 279/646) f:\\PRACA_MAGISTERSKA\\DATASETS\\PREDYKCJA\\videos\\pieknie.webm: 384x640 1 no_glasses, 4 no_glovess, 2 no_vests, 12.3ms\n",
      "video 2/4 (frame 280/646) f:\\PRACA_MAGISTERSKA\\DATASETS\\PREDYKCJA\\videos\\pieknie.webm: 384x640 1 no_glasses, 4 no_glovess, 2 no_vests, 12.3ms\n",
      "video 2/4 (frame 281/646) f:\\PRACA_MAGISTERSKA\\DATASETS\\PREDYKCJA\\videos\\pieknie.webm: 384x640 1 no_glasses, 4 no_glovess, 2 no_vests, 12.3ms\n",
      "video 2/4 (frame 282/646) f:\\PRACA_MAGISTERSKA\\DATASETS\\PREDYKCJA\\videos\\pieknie.webm: 384x640 1 no_glasses, 4 no_glovess, 2 no_vests, 12.3ms\n",
      "video 2/4 (frame 283/646) f:\\PRACA_MAGISTERSKA\\DATASETS\\PREDYKCJA\\videos\\pieknie.webm: 384x640 1 no_glasses, 4 no_glovess, 2 no_vests, 12.3ms\n",
      "video 2/4 (frame 284/646) f:\\PRACA_MAGISTERSKA\\DATASETS\\PREDYKCJA\\videos\\pieknie.webm: 384x640 1 no_glasses, 4 no_glovess, 2 no_vests, 12.3ms\n",
      "video 2/4 (frame 285/646) f:\\PRACA_MAGISTERSKA\\DATASETS\\PREDYKCJA\\videos\\pieknie.webm: 384x640 1 no_glasses, 4 no_glovess, 2 no_vests, 12.3ms\n",
      "video 2/4 (frame 286/646) f:\\PRACA_MAGISTERSKA\\DATASETS\\PREDYKCJA\\videos\\pieknie.webm: 384x640 1 no_glasses, 4 no_glovess, 2 no_vests, 12.2ms\n",
      "video 2/4 (frame 287/646) f:\\PRACA_MAGISTERSKA\\DATASETS\\PREDYKCJA\\videos\\pieknie.webm: 384x640 1 no_glasses, 4 no_glovess, 1 no_vest, 12.2ms\n",
      "video 2/4 (frame 288/646) f:\\PRACA_MAGISTERSKA\\DATASETS\\PREDYKCJA\\videos\\pieknie.webm: 384x640 1 no_glasses, 4 no_glovess, 2 no_vests, 12.2ms\n",
      "video 2/4 (frame 289/646) f:\\PRACA_MAGISTERSKA\\DATASETS\\PREDYKCJA\\videos\\pieknie.webm: 384x640 1 no_glasses, 4 no_glovess, 2 no_vests, 12.2ms\n",
      "video 2/4 (frame 290/646) f:\\PRACA_MAGISTERSKA\\DATASETS\\PREDYKCJA\\videos\\pieknie.webm: 384x640 1 no_glasses, 4 no_glovess, 2 no_vests, 12.2ms\n",
      "video 2/4 (frame 291/646) f:\\PRACA_MAGISTERSKA\\DATASETS\\PREDYKCJA\\videos\\pieknie.webm: 384x640 1 no_glasses, 4 no_glovess, 2 no_vests, 12.2ms\n",
      "video 2/4 (frame 292/646) f:\\PRACA_MAGISTERSKA\\DATASETS\\PREDYKCJA\\videos\\pieknie.webm: 384x640 1 no_glasses, 4 no_glovess, 2 no_vests, 12.2ms\n",
      "video 2/4 (frame 293/646) f:\\PRACA_MAGISTERSKA\\DATASETS\\PREDYKCJA\\videos\\pieknie.webm: 384x640 1 no_glasses, 4 no_glovess, 2 no_vests, 12.2ms\n",
      "video 2/4 (frame 294/646) f:\\PRACA_MAGISTERSKA\\DATASETS\\PREDYKCJA\\videos\\pieknie.webm: 384x640 1 no_glasses, 5 no_glovess, 2 no_vests, 12.2ms\n",
      "video 2/4 (frame 295/646) f:\\PRACA_MAGISTERSKA\\DATASETS\\PREDYKCJA\\videos\\pieknie.webm: 384x640 1 no_glasses, 4 no_glovess, 2 no_vests, 12.2ms\n",
      "video 2/4 (frame 296/646) f:\\PRACA_MAGISTERSKA\\DATASETS\\PREDYKCJA\\videos\\pieknie.webm: 384x640 1 no_glasses, 4 no_glovess, 2 no_vests, 12.2ms\n",
      "video 2/4 (frame 297/646) f:\\PRACA_MAGISTERSKA\\DATASETS\\PREDYKCJA\\videos\\pieknie.webm: 384x640 1 no_glasses, 4 no_glovess, 2 no_vests, 12.2ms\n",
      "video 2/4 (frame 298/646) f:\\PRACA_MAGISTERSKA\\DATASETS\\PREDYKCJA\\videos\\pieknie.webm: 384x640 1 no_glasses, 4 no_glovess, 2 no_vests, 12.2ms\n",
      "video 2/4 (frame 299/646) f:\\PRACA_MAGISTERSKA\\DATASETS\\PREDYKCJA\\videos\\pieknie.webm: 384x640 1 no_glasses, 4 no_glovess, 2 no_vests, 12.2ms\n",
      "video 2/4 (frame 300/646) f:\\PRACA_MAGISTERSKA\\DATASETS\\PREDYKCJA\\videos\\pieknie.webm: 384x640 1 no_glasses, 4 no_glovess, 2 no_vests, 12.2ms\n",
      "video 2/4 (frame 301/646) f:\\PRACA_MAGISTERSKA\\DATASETS\\PREDYKCJA\\videos\\pieknie.webm: 384x640 1 no_glasses, 4 no_glovess, 2 no_vests, 12.2ms\n",
      "video 2/4 (frame 302/646) f:\\PRACA_MAGISTERSKA\\DATASETS\\PREDYKCJA\\videos\\pieknie.webm: 384x640 1 no_glasses, 4 no_glovess, 2 no_vests, 12.2ms\n",
      "video 2/4 (frame 303/646) f:\\PRACA_MAGISTERSKA\\DATASETS\\PREDYKCJA\\videos\\pieknie.webm: 384x640 1 no_glasses, 4 no_glovess, 2 no_vests, 12.2ms\n",
      "video 2/4 (frame 304/646) f:\\PRACA_MAGISTERSKA\\DATASETS\\PREDYKCJA\\videos\\pieknie.webm: 384x640 1 no_glasses, 4 no_glovess, 2 no_vests, 12.2ms\n",
      "video 2/4 (frame 305/646) f:\\PRACA_MAGISTERSKA\\DATASETS\\PREDYKCJA\\videos\\pieknie.webm: 384x640 1 no_glasses, 4 no_glovess, 2 no_vests, 12.2ms\n",
      "video 2/4 (frame 306/646) f:\\PRACA_MAGISTERSKA\\DATASETS\\PREDYKCJA\\videos\\pieknie.webm: 384x640 1 no_glasses, 4 no_glovess, 2 no_vests, 12.2ms\n",
      "video 2/4 (frame 307/646) f:\\PRACA_MAGISTERSKA\\DATASETS\\PREDYKCJA\\videos\\pieknie.webm: 384x640 1 no_glasses, 4 no_glovess, 2 no_vests, 12.2ms\n",
      "video 2/4 (frame 308/646) f:\\PRACA_MAGISTERSKA\\DATASETS\\PREDYKCJA\\videos\\pieknie.webm: 384x640 1 no_glasses, 4 no_glovess, 2 no_vests, 12.2ms\n",
      "video 2/4 (frame 309/646) f:\\PRACA_MAGISTERSKA\\DATASETS\\PREDYKCJA\\videos\\pieknie.webm: 384x640 1 no_glasses, 4 no_glovess, 2 no_vests, 12.2ms\n",
      "video 2/4 (frame 310/646) f:\\PRACA_MAGISTERSKA\\DATASETS\\PREDYKCJA\\videos\\pieknie.webm: 384x640 1 no_glasses, 4 no_glovess, 2 no_vests, 12.2ms\n",
      "video 2/4 (frame 311/646) f:\\PRACA_MAGISTERSKA\\DATASETS\\PREDYKCJA\\videos\\pieknie.webm: 384x640 1 no_glasses, 4 no_glovess, 2 no_vests, 12.2ms\n",
      "video 2/4 (frame 312/646) f:\\PRACA_MAGISTERSKA\\DATASETS\\PREDYKCJA\\videos\\pieknie.webm: 384x640 1 no_glasses, 4 no_glovess, 2 no_vests, 12.2ms\n",
      "video 2/4 (frame 313/646) f:\\PRACA_MAGISTERSKA\\DATASETS\\PREDYKCJA\\videos\\pieknie.webm: 384x640 1 no_glasses, 4 no_glovess, 2 no_vests, 12.2ms\n",
      "video 2/4 (frame 314/646) f:\\PRACA_MAGISTERSKA\\DATASETS\\PREDYKCJA\\videos\\pieknie.webm: 384x640 1 no_glasses, 4 no_glovess, 2 no_vests, 12.2ms\n",
      "video 2/4 (frame 315/646) f:\\PRACA_MAGISTERSKA\\DATASETS\\PREDYKCJA\\videos\\pieknie.webm: 384x640 1 no_glasses, 4 no_glovess, 2 no_vests, 12.2ms\n",
      "video 2/4 (frame 316/646) f:\\PRACA_MAGISTERSKA\\DATASETS\\PREDYKCJA\\videos\\pieknie.webm: 384x640 1 no_glasses, 4 no_glovess, 2 no_vests, 12.2ms\n",
      "video 2/4 (frame 317/646) f:\\PRACA_MAGISTERSKA\\DATASETS\\PREDYKCJA\\videos\\pieknie.webm: 384x640 1 no_glasses, 4 no_glovess, 2 no_vests, 12.2ms\n",
      "video 2/4 (frame 318/646) f:\\PRACA_MAGISTERSKA\\DATASETS\\PREDYKCJA\\videos\\pieknie.webm: 384x640 1 no_glasses, 4 no_glovess, 2 no_vests, 12.2ms\n",
      "video 2/4 (frame 319/646) f:\\PRACA_MAGISTERSKA\\DATASETS\\PREDYKCJA\\videos\\pieknie.webm: 384x640 1 no_glasses, 4 no_glovess, 2 no_vests, 12.2ms\n",
      "video 2/4 (frame 320/646) f:\\PRACA_MAGISTERSKA\\DATASETS\\PREDYKCJA\\videos\\pieknie.webm: 384x640 1 no_glasses, 4 no_glovess, 2 no_vests, 12.2ms\n",
      "video 2/4 (frame 321/646) f:\\PRACA_MAGISTERSKA\\DATASETS\\PREDYKCJA\\videos\\pieknie.webm: 384x640 1 no_glasses, 4 no_glovess, 2 no_vests, 12.2ms\n",
      "video 2/4 (frame 322/646) f:\\PRACA_MAGISTERSKA\\DATASETS\\PREDYKCJA\\videos\\pieknie.webm: 384x640 1 no_glasses, 4 no_glovess, 2 no_vests, 12.2ms\n",
      "video 2/4 (frame 323/646) f:\\PRACA_MAGISTERSKA\\DATASETS\\PREDYKCJA\\videos\\pieknie.webm: 384x640 1 no_glasses, 4 no_glovess, 2 no_vests, 12.2ms\n",
      "video 2/4 (frame 324/646) f:\\PRACA_MAGISTERSKA\\DATASETS\\PREDYKCJA\\videos\\pieknie.webm: 384x640 1 no_glasses, 4 no_glovess, 2 no_vests, 12.2ms\n",
      "video 2/4 (frame 325/646) f:\\PRACA_MAGISTERSKA\\DATASETS\\PREDYKCJA\\videos\\pieknie.webm: 384x640 1 no_glasses, 4 no_glovess, 2 no_vests, 12.2ms\n",
      "video 2/4 (frame 326/646) f:\\PRACA_MAGISTERSKA\\DATASETS\\PREDYKCJA\\videos\\pieknie.webm: 384x640 1 no_glasses, 4 no_glovess, 2 no_vests, 12.2ms\n",
      "video 2/4 (frame 327/646) f:\\PRACA_MAGISTERSKA\\DATASETS\\PREDYKCJA\\videos\\pieknie.webm: 384x640 1 no_glasses, 4 no_glovess, 2 no_vests, 12.2ms\n",
      "video 2/4 (frame 328/646) f:\\PRACA_MAGISTERSKA\\DATASETS\\PREDYKCJA\\videos\\pieknie.webm: 384x640 1 no_glasses, 4 no_glovess, 2 no_vests, 12.2ms\n",
      "video 2/4 (frame 329/646) f:\\PRACA_MAGISTERSKA\\DATASETS\\PREDYKCJA\\videos\\pieknie.webm: 384x640 1 no_glasses, 4 no_glovess, 2 no_vests, 12.2ms\n",
      "video 2/4 (frame 330/646) f:\\PRACA_MAGISTERSKA\\DATASETS\\PREDYKCJA\\videos\\pieknie.webm: 384x640 1 no_glasses, 4 no_glovess, 2 no_vests, 12.2ms\n",
      "video 2/4 (frame 331/646) f:\\PRACA_MAGISTERSKA\\DATASETS\\PREDYKCJA\\videos\\pieknie.webm: 384x640 1 no_glasses, 4 no_glovess, 2 no_vests, 12.2ms\n",
      "video 2/4 (frame 332/646) f:\\PRACA_MAGISTERSKA\\DATASETS\\PREDYKCJA\\videos\\pieknie.webm: 384x640 1 no_glasses, 4 no_glovess, 2 no_vests, 12.2ms\n",
      "video 2/4 (frame 333/646) f:\\PRACA_MAGISTERSKA\\DATASETS\\PREDYKCJA\\videos\\pieknie.webm: 384x640 1 no_glasses, 4 no_glovess, 2 no_vests, 12.2ms\n",
      "video 2/4 (frame 334/646) f:\\PRACA_MAGISTERSKA\\DATASETS\\PREDYKCJA\\videos\\pieknie.webm: 384x640 1 no_glasses, 4 no_glovess, 2 no_vests, 12.2ms\n",
      "video 2/4 (frame 335/646) f:\\PRACA_MAGISTERSKA\\DATASETS\\PREDYKCJA\\videos\\pieknie.webm: 384x640 1 no_glasses, 4 no_glovess, 2 no_vests, 12.2ms\n",
      "video 2/4 (frame 336/646) f:\\PRACA_MAGISTERSKA\\DATASETS\\PREDYKCJA\\videos\\pieknie.webm: 384x640 1 no_glasses, 4 no_glovess, 2 no_vests, 12.2ms\n",
      "video 2/4 (frame 337/646) f:\\PRACA_MAGISTERSKA\\DATASETS\\PREDYKCJA\\videos\\pieknie.webm: 384x640 1 no_glasses, 4 no_glovess, 2 no_vests, 12.2ms\n",
      "video 2/4 (frame 338/646) f:\\PRACA_MAGISTERSKA\\DATASETS\\PREDYKCJA\\videos\\pieknie.webm: 384x640 1 no_glasses, 4 no_glovess, 2 no_vests, 12.2ms\n",
      "video 2/4 (frame 339/646) f:\\PRACA_MAGISTERSKA\\DATASETS\\PREDYKCJA\\videos\\pieknie.webm: 384x640 1 no_glasses, 4 no_glovess, 2 no_vests, 12.2ms\n",
      "video 2/4 (frame 340/646) f:\\PRACA_MAGISTERSKA\\DATASETS\\PREDYKCJA\\videos\\pieknie.webm: 384x640 1 no_glasses, 4 no_glovess, 2 no_vests, 12.2ms\n",
      "video 2/4 (frame 341/646) f:\\PRACA_MAGISTERSKA\\DATASETS\\PREDYKCJA\\videos\\pieknie.webm: 384x640 1 no_glasses, 4 no_glovess, 2 no_vests, 12.2ms\n",
      "video 2/4 (frame 342/646) f:\\PRACA_MAGISTERSKA\\DATASETS\\PREDYKCJA\\videos\\pieknie.webm: 384x640 1 no_glasses, 4 no_glovess, 2 no_vests, 12.2ms\n",
      "video 2/4 (frame 343/646) f:\\PRACA_MAGISTERSKA\\DATASETS\\PREDYKCJA\\videos\\pieknie.webm: 384x640 1 no_glasses, 4 no_glovess, 2 no_vests, 12.2ms\n",
      "video 2/4 (frame 344/646) f:\\PRACA_MAGISTERSKA\\DATASETS\\PREDYKCJA\\videos\\pieknie.webm: 384x640 1 no_glasses, 4 no_glovess, 2 no_vests, 12.2ms\n",
      "video 2/4 (frame 345/646) f:\\PRACA_MAGISTERSKA\\DATASETS\\PREDYKCJA\\videos\\pieknie.webm: 384x640 1 no_glasses, 4 no_glovess, 2 no_vests, 12.2ms\n",
      "video 2/4 (frame 346/646) f:\\PRACA_MAGISTERSKA\\DATASETS\\PREDYKCJA\\videos\\pieknie.webm: 384x640 1 no_glasses, 4 no_glovess, 2 no_vests, 12.2ms\n",
      "video 2/4 (frame 347/646) f:\\PRACA_MAGISTERSKA\\DATASETS\\PREDYKCJA\\videos\\pieknie.webm: 384x640 1 no_glasses, 4 no_glovess, 2 no_vests, 12.2ms\n",
      "video 2/4 (frame 348/646) f:\\PRACA_MAGISTERSKA\\DATASETS\\PREDYKCJA\\videos\\pieknie.webm: 384x640 1 no_glasses, 4 no_glovess, 2 no_vests, 12.2ms\n",
      "video 2/4 (frame 349/646) f:\\PRACA_MAGISTERSKA\\DATASETS\\PREDYKCJA\\videos\\pieknie.webm: 384x640 1 no_glasses, 4 no_glovess, 2 no_vests, 12.2ms\n",
      "video 2/4 (frame 350/646) f:\\PRACA_MAGISTERSKA\\DATASETS\\PREDYKCJA\\videos\\pieknie.webm: 384x640 1 no_glasses, 4 no_glovess, 2 no_vests, 12.2ms\n",
      "video 2/4 (frame 351/646) f:\\PRACA_MAGISTERSKA\\DATASETS\\PREDYKCJA\\videos\\pieknie.webm: 384x640 1 no_glasses, 4 no_glovess, 2 no_vests, 12.2ms\n",
      "video 2/4 (frame 352/646) f:\\PRACA_MAGISTERSKA\\DATASETS\\PREDYKCJA\\videos\\pieknie.webm: 384x640 1 no_glasses, 4 no_glovess, 2 no_vests, 12.2ms\n",
      "video 2/4 (frame 353/646) f:\\PRACA_MAGISTERSKA\\DATASETS\\PREDYKCJA\\videos\\pieknie.webm: 384x640 1 no_glasses, 4 no_glovess, 2 no_vests, 12.2ms\n",
      "video 2/4 (frame 354/646) f:\\PRACA_MAGISTERSKA\\DATASETS\\PREDYKCJA\\videos\\pieknie.webm: 384x640 1 no_glasses, 4 no_glovess, 2 no_vests, 12.2ms\n",
      "video 2/4 (frame 355/646) f:\\PRACA_MAGISTERSKA\\DATASETS\\PREDYKCJA\\videos\\pieknie.webm: 384x640 1 no_glasses, 4 no_glovess, 2 no_vests, 12.2ms\n",
      "video 2/4 (frame 356/646) f:\\PRACA_MAGISTERSKA\\DATASETS\\PREDYKCJA\\videos\\pieknie.webm: 384x640 1 no_glasses, 4 no_glovess, 2 no_vests, 12.2ms\n",
      "video 2/4 (frame 357/646) f:\\PRACA_MAGISTERSKA\\DATASETS\\PREDYKCJA\\videos\\pieknie.webm: 384x640 1 no_glasses, 4 no_glovess, 2 no_vests, 12.2ms\n",
      "video 2/4 (frame 358/646) f:\\PRACA_MAGISTERSKA\\DATASETS\\PREDYKCJA\\videos\\pieknie.webm: 384x640 1 no_glasses, 4 no_glovess, 2 no_vests, 12.2ms\n",
      "video 2/4 (frame 359/646) f:\\PRACA_MAGISTERSKA\\DATASETS\\PREDYKCJA\\videos\\pieknie.webm: 384x640 1 no_glasses, 4 no_glovess, 2 no_vests, 12.2ms\n",
      "video 2/4 (frame 360/646) f:\\PRACA_MAGISTERSKA\\DATASETS\\PREDYKCJA\\videos\\pieknie.webm: 384x640 1 no_glasses, 4 no_glovess, 2 no_vests, 12.2ms\n",
      "video 2/4 (frame 361/646) f:\\PRACA_MAGISTERSKA\\DATASETS\\PREDYKCJA\\videos\\pieknie.webm: 384x640 1 no_glasses, 4 no_glovess, 2 no_vests, 12.2ms\n",
      "video 2/4 (frame 362/646) f:\\PRACA_MAGISTERSKA\\DATASETS\\PREDYKCJA\\videos\\pieknie.webm: 384x640 1 no_glasses, 4 no_glovess, 2 no_vests, 12.2ms\n",
      "video 2/4 (frame 363/646) f:\\PRACA_MAGISTERSKA\\DATASETS\\PREDYKCJA\\videos\\pieknie.webm: 384x640 1 no_glasses, 4 no_glovess, 2 no_vests, 12.2ms\n",
      "video 2/4 (frame 364/646) f:\\PRACA_MAGISTERSKA\\DATASETS\\PREDYKCJA\\videos\\pieknie.webm: 384x640 1 no_glasses, 4 no_glovess, 2 no_vests, 12.2ms\n",
      "video 2/4 (frame 365/646) f:\\PRACA_MAGISTERSKA\\DATASETS\\PREDYKCJA\\videos\\pieknie.webm: 384x640 1 no_glasses, 4 no_glovess, 2 no_vests, 12.2ms\n",
      "video 2/4 (frame 366/646) f:\\PRACA_MAGISTERSKA\\DATASETS\\PREDYKCJA\\videos\\pieknie.webm: 384x640 1 no_glasses, 4 no_glovess, 2 no_vests, 12.2ms\n",
      "video 2/4 (frame 367/646) f:\\PRACA_MAGISTERSKA\\DATASETS\\PREDYKCJA\\videos\\pieknie.webm: 384x640 1 no_glasses, 4 no_glovess, 2 no_vests, 12.2ms\n",
      "video 2/4 (frame 368/646) f:\\PRACA_MAGISTERSKA\\DATASETS\\PREDYKCJA\\videos\\pieknie.webm: 384x640 1 no_glasses, 4 no_glovess, 2 no_vests, 12.2ms\n",
      "video 2/4 (frame 369/646) f:\\PRACA_MAGISTERSKA\\DATASETS\\PREDYKCJA\\videos\\pieknie.webm: 384x640 1 no_glasses, 4 no_glovess, 2 no_vests, 12.2ms\n",
      "video 2/4 (frame 370/646) f:\\PRACA_MAGISTERSKA\\DATASETS\\PREDYKCJA\\videos\\pieknie.webm: 384x640 1 no_glasses, 4 no_glovess, 2 no_vests, 12.2ms\n",
      "video 2/4 (frame 371/646) f:\\PRACA_MAGISTERSKA\\DATASETS\\PREDYKCJA\\videos\\pieknie.webm: 384x640 1 no_glasses, 4 no_glovess, 2 no_vests, 12.2ms\n",
      "video 2/4 (frame 372/646) f:\\PRACA_MAGISTERSKA\\DATASETS\\PREDYKCJA\\videos\\pieknie.webm: 384x640 4 no_glovess, 1 no_helmet, 2 no_vests, 12.2ms\n",
      "video 2/4 (frame 373/646) f:\\PRACA_MAGISTERSKA\\DATASETS\\PREDYKCJA\\videos\\pieknie.webm: 384x640 1 no_glasses, 4 no_glovess, 1 no_helmet, 2 no_vests, 12.2ms\n",
      "video 2/4 (frame 374/646) f:\\PRACA_MAGISTERSKA\\DATASETS\\PREDYKCJA\\videos\\pieknie.webm: 384x640 1 no_glasses, 4 no_glovess, 1 no_helmet, 2 no_vests, 12.2ms\n",
      "video 2/4 (frame 375/646) f:\\PRACA_MAGISTERSKA\\DATASETS\\PREDYKCJA\\videos\\pieknie.webm: 384x640 1 no_glasses, 4 no_glovess, 2 no_vests, 12.2ms\n",
      "video 2/4 (frame 376/646) f:\\PRACA_MAGISTERSKA\\DATASETS\\PREDYKCJA\\videos\\pieknie.webm: 384x640 1 no_glasses, 4 no_glovess, 2 no_vests, 12.2ms\n",
      "video 2/4 (frame 377/646) f:\\PRACA_MAGISTERSKA\\DATASETS\\PREDYKCJA\\videos\\pieknie.webm: 384x640 1 no_glasses, 4 no_glovess, 2 no_vests, 12.2ms\n",
      "video 2/4 (frame 378/646) f:\\PRACA_MAGISTERSKA\\DATASETS\\PREDYKCJA\\videos\\pieknie.webm: 384x640 1 no_glasses, 4 no_glovess, 2 no_vests, 12.2ms\n",
      "video 2/4 (frame 379/646) f:\\PRACA_MAGISTERSKA\\DATASETS\\PREDYKCJA\\videos\\pieknie.webm: 384x640 1 no_glasses, 4 no_glovess, 2 no_vests, 12.2ms\n",
      "video 2/4 (frame 380/646) f:\\PRACA_MAGISTERSKA\\DATASETS\\PREDYKCJA\\videos\\pieknie.webm: 384x640 1 no_glasses, 4 no_glovess, 2 no_vests, 12.2ms\n",
      "video 2/4 (frame 381/646) f:\\PRACA_MAGISTERSKA\\DATASETS\\PREDYKCJA\\videos\\pieknie.webm: 384x640 1 no_glasses, 4 no_glovess, 2 no_vests, 12.2ms\n",
      "video 2/4 (frame 382/646) f:\\PRACA_MAGISTERSKA\\DATASETS\\PREDYKCJA\\videos\\pieknie.webm: 384x640 1 no_glasses, 4 no_glovess, 2 no_vests, 12.2ms\n",
      "video 2/4 (frame 383/646) f:\\PRACA_MAGISTERSKA\\DATASETS\\PREDYKCJA\\videos\\pieknie.webm: 384x640 1 no_glasses, 4 no_glovess, 2 no_vests, 12.2ms\n",
      "video 2/4 (frame 384/646) f:\\PRACA_MAGISTERSKA\\DATASETS\\PREDYKCJA\\videos\\pieknie.webm: 384x640 1 no_glasses, 4 no_glovess, 2 no_vests, 12.2ms\n",
      "video 2/4 (frame 385/646) f:\\PRACA_MAGISTERSKA\\DATASETS\\PREDYKCJA\\videos\\pieknie.webm: 384x640 1 no_glasses, 4 no_glovess, 2 no_vests, 12.2ms\n",
      "video 2/4 (frame 386/646) f:\\PRACA_MAGISTERSKA\\DATASETS\\PREDYKCJA\\videos\\pieknie.webm: 384x640 1 no_glasses, 4 no_glovess, 2 no_vests, 12.2ms\n",
      "video 2/4 (frame 387/646) f:\\PRACA_MAGISTERSKA\\DATASETS\\PREDYKCJA\\videos\\pieknie.webm: 384x640 1 no_glasses, 4 no_glovess, 2 no_vests, 12.2ms\n",
      "video 2/4 (frame 388/646) f:\\PRACA_MAGISTERSKA\\DATASETS\\PREDYKCJA\\videos\\pieknie.webm: 384x640 1 no_glasses, 4 no_glovess, 2 no_vests, 12.2ms\n",
      "video 2/4 (frame 389/646) f:\\PRACA_MAGISTERSKA\\DATASETS\\PREDYKCJA\\videos\\pieknie.webm: 384x640 1 no_glasses, 4 no_glovess, 2 no_vests, 12.2ms\n",
      "video 2/4 (frame 390/646) f:\\PRACA_MAGISTERSKA\\DATASETS\\PREDYKCJA\\videos\\pieknie.webm: 384x640 1 no_glasses, 4 no_glovess, 2 no_vests, 12.2ms\n",
      "video 2/4 (frame 391/646) f:\\PRACA_MAGISTERSKA\\DATASETS\\PREDYKCJA\\videos\\pieknie.webm: 384x640 1 no_glasses, 4 no_glovess, 2 no_vests, 12.2ms\n",
      "video 2/4 (frame 392/646) f:\\PRACA_MAGISTERSKA\\DATASETS\\PREDYKCJA\\videos\\pieknie.webm: 384x640 1 no_glasses, 4 no_glovess, 2 no_vests, 12.2ms\n",
      "video 2/4 (frame 393/646) f:\\PRACA_MAGISTERSKA\\DATASETS\\PREDYKCJA\\videos\\pieknie.webm: 384x640 1 no_glasses, 4 no_glovess, 2 no_vests, 12.2ms\n",
      "video 2/4 (frame 394/646) f:\\PRACA_MAGISTERSKA\\DATASETS\\PREDYKCJA\\videos\\pieknie.webm: 384x640 1 no_glasses, 4 no_glovess, 2 no_vests, 12.2ms\n",
      "video 2/4 (frame 395/646) f:\\PRACA_MAGISTERSKA\\DATASETS\\PREDYKCJA\\videos\\pieknie.webm: 384x640 1 no_glasses, 4 no_glovess, 2 no_vests, 12.2ms\n",
      "video 2/4 (frame 396/646) f:\\PRACA_MAGISTERSKA\\DATASETS\\PREDYKCJA\\videos\\pieknie.webm: 384x640 1 no_glasses, 4 no_glovess, 2 no_vests, 12.2ms\n",
      "video 2/4 (frame 397/646) f:\\PRACA_MAGISTERSKA\\DATASETS\\PREDYKCJA\\videos\\pieknie.webm: 384x640 1 no_glasses, 4 no_glovess, 2 no_vests, 12.2ms\n",
      "video 2/4 (frame 398/646) f:\\PRACA_MAGISTERSKA\\DATASETS\\PREDYKCJA\\videos\\pieknie.webm: 384x640 1 no_glasses, 4 no_glovess, 2 no_vests, 12.2ms\n",
      "video 2/4 (frame 399/646) f:\\PRACA_MAGISTERSKA\\DATASETS\\PREDYKCJA\\videos\\pieknie.webm: 384x640 1 no_glasses, 4 no_glovess, 2 no_vests, 12.2ms\n",
      "video 2/4 (frame 400/646) f:\\PRACA_MAGISTERSKA\\DATASETS\\PREDYKCJA\\videos\\pieknie.webm: 384x640 1 no_glasses, 4 no_glovess, 2 no_vests, 12.2ms\n",
      "video 2/4 (frame 401/646) f:\\PRACA_MAGISTERSKA\\DATASETS\\PREDYKCJA\\videos\\pieknie.webm: 384x640 1 no_glasses, 4 no_glovess, 2 no_vests, 12.2ms\n",
      "video 2/4 (frame 402/646) f:\\PRACA_MAGISTERSKA\\DATASETS\\PREDYKCJA\\videos\\pieknie.webm: 384x640 1 no_glasses, 4 no_glovess, 2 no_vests, 12.2ms\n",
      "video 2/4 (frame 403/646) f:\\PRACA_MAGISTERSKA\\DATASETS\\PREDYKCJA\\videos\\pieknie.webm: 384x640 1 no_glasses, 4 no_glovess, 2 no_vests, 12.2ms\n",
      "video 2/4 (frame 404/646) f:\\PRACA_MAGISTERSKA\\DATASETS\\PREDYKCJA\\videos\\pieknie.webm: 384x640 1 no_glasses, 4 no_glovess, 2 no_vests, 12.2ms\n",
      "video 2/4 (frame 405/646) f:\\PRACA_MAGISTERSKA\\DATASETS\\PREDYKCJA\\videos\\pieknie.webm: 384x640 1 no_glasses, 4 no_glovess, 2 no_vests, 12.2ms\n",
      "video 2/4 (frame 406/646) f:\\PRACA_MAGISTERSKA\\DATASETS\\PREDYKCJA\\videos\\pieknie.webm: 384x640 1 no_glasses, 4 no_glovess, 2 no_vests, 12.2ms\n",
      "video 2/4 (frame 407/646) f:\\PRACA_MAGISTERSKA\\DATASETS\\PREDYKCJA\\videos\\pieknie.webm: 384x640 1 no_glasses, 4 no_glovess, 2 no_vests, 12.2ms\n",
      "video 2/4 (frame 408/646) f:\\PRACA_MAGISTERSKA\\DATASETS\\PREDYKCJA\\videos\\pieknie.webm: 384x640 1 no_glasses, 4 no_glovess, 2 no_vests, 12.2ms\n",
      "video 2/4 (frame 409/646) f:\\PRACA_MAGISTERSKA\\DATASETS\\PREDYKCJA\\videos\\pieknie.webm: 384x640 1 no_glasses, 4 no_glovess, 2 no_vests, 12.2ms\n",
      "video 2/4 (frame 410/646) f:\\PRACA_MAGISTERSKA\\DATASETS\\PREDYKCJA\\videos\\pieknie.webm: 384x640 1 no_glasses, 4 no_glovess, 2 no_vests, 12.2ms\n",
      "video 2/4 (frame 411/646) f:\\PRACA_MAGISTERSKA\\DATASETS\\PREDYKCJA\\videos\\pieknie.webm: 384x640 1 no_glasses, 4 no_glovess, 2 no_vests, 12.2ms\n",
      "video 2/4 (frame 412/646) f:\\PRACA_MAGISTERSKA\\DATASETS\\PREDYKCJA\\videos\\pieknie.webm: 384x640 1 no_glasses, 4 no_glovess, 2 no_vests, 12.2ms\n",
      "video 2/4 (frame 413/646) f:\\PRACA_MAGISTERSKA\\DATASETS\\PREDYKCJA\\videos\\pieknie.webm: 384x640 1 no_glasses, 4 no_glovess, 2 no_vests, 12.2ms\n",
      "video 2/4 (frame 414/646) f:\\PRACA_MAGISTERSKA\\DATASETS\\PREDYKCJA\\videos\\pieknie.webm: 384x640 1 no_glasses, 4 no_glovess, 2 no_vests, 12.2ms\n",
      "video 2/4 (frame 415/646) f:\\PRACA_MAGISTERSKA\\DATASETS\\PREDYKCJA\\videos\\pieknie.webm: 384x640 1 no_glasses, 3 no_glovess, 2 no_vests, 12.2ms\n",
      "video 2/4 (frame 416/646) f:\\PRACA_MAGISTERSKA\\DATASETS\\PREDYKCJA\\videos\\pieknie.webm: 384x640 1 no_glasses, 3 no_glovess, 2 no_vests, 12.2ms\n",
      "video 2/4 (frame 417/646) f:\\PRACA_MAGISTERSKA\\DATASETS\\PREDYKCJA\\videos\\pieknie.webm: 384x640 1 no_glasses, 3 no_glovess, 2 no_vests, 12.2ms\n",
      "video 2/4 (frame 418/646) f:\\PRACA_MAGISTERSKA\\DATASETS\\PREDYKCJA\\videos\\pieknie.webm: 384x640 1 no_glasses, 3 no_glovess, 2 no_vests, 12.2ms\n",
      "video 2/4 (frame 419/646) f:\\PRACA_MAGISTERSKA\\DATASETS\\PREDYKCJA\\videos\\pieknie.webm: 384x640 1 no_glasses, 4 no_glovess, 2 no_vests, 12.2ms\n",
      "video 2/4 (frame 420/646) f:\\PRACA_MAGISTERSKA\\DATASETS\\PREDYKCJA\\videos\\pieknie.webm: 384x640 1 no_glasses, 4 no_glovess, 2 no_vests, 12.2ms\n",
      "video 2/4 (frame 421/646) f:\\PRACA_MAGISTERSKA\\DATASETS\\PREDYKCJA\\videos\\pieknie.webm: 384x640 1 no_glasses, 4 no_glovess, 2 no_vests, 12.2ms\n",
      "video 2/4 (frame 422/646) f:\\PRACA_MAGISTERSKA\\DATASETS\\PREDYKCJA\\videos\\pieknie.webm: 384x640 1 no_glasses, 4 no_glovess, 2 no_vests, 12.2ms\n",
      "video 2/4 (frame 423/646) f:\\PRACA_MAGISTERSKA\\DATASETS\\PREDYKCJA\\videos\\pieknie.webm: 384x640 1 no_glasses, 4 no_glovess, 3 no_vests, 12.2ms\n",
      "video 2/4 (frame 424/646) f:\\PRACA_MAGISTERSKA\\DATASETS\\PREDYKCJA\\videos\\pieknie.webm: 384x640 1 no_glasses, 4 no_glovess, 3 no_vests, 12.2ms\n",
      "video 2/4 (frame 425/646) f:\\PRACA_MAGISTERSKA\\DATASETS\\PREDYKCJA\\videos\\pieknie.webm: 384x640 1 no_glasses, 4 no_glovess, 3 no_vests, 12.2ms\n",
      "video 2/4 (frame 426/646) f:\\PRACA_MAGISTERSKA\\DATASETS\\PREDYKCJA\\videos\\pieknie.webm: 384x640 1 no_glasses, 4 no_glovess, 3 no_vests, 12.2ms\n",
      "video 2/4 (frame 427/646) f:\\PRACA_MAGISTERSKA\\DATASETS\\PREDYKCJA\\videos\\pieknie.webm: 384x640 1 no_glasses, 4 no_glovess, 3 no_vests, 12.2ms\n",
      "video 2/4 (frame 428/646) f:\\PRACA_MAGISTERSKA\\DATASETS\\PREDYKCJA\\videos\\pieknie.webm: 384x640 1 no_glasses, 4 no_glovess, 3 no_vests, 12.2ms\n",
      "video 2/4 (frame 429/646) f:\\PRACA_MAGISTERSKA\\DATASETS\\PREDYKCJA\\videos\\pieknie.webm: 384x640 1 no_glasses, 3 no_glovess, 3 no_vests, 12.2ms\n",
      "video 2/4 (frame 430/646) f:\\PRACA_MAGISTERSKA\\DATASETS\\PREDYKCJA\\videos\\pieknie.webm: 384x640 1 no_glasses, 3 no_glovess, 3 no_vests, 12.2ms\n",
      "video 2/4 (frame 431/646) f:\\PRACA_MAGISTERSKA\\DATASETS\\PREDYKCJA\\videos\\pieknie.webm: 384x640 1 no_glasses, 3 no_glovess, 3 no_vests, 12.2ms\n",
      "video 2/4 (frame 432/646) f:\\PRACA_MAGISTERSKA\\DATASETS\\PREDYKCJA\\videos\\pieknie.webm: 384x640 1 no_glasses, 3 no_glovess, 2 no_vests, 12.2ms\n",
      "video 2/4 (frame 433/646) f:\\PRACA_MAGISTERSKA\\DATASETS\\PREDYKCJA\\videos\\pieknie.webm: 384x640 1 no_glasses, 3 no_glovess, 2 no_vests, 12.2ms\n",
      "video 2/4 (frame 434/646) f:\\PRACA_MAGISTERSKA\\DATASETS\\PREDYKCJA\\videos\\pieknie.webm: 384x640 1 no_glasses, 3 no_glovess, 2 no_vests, 12.2ms\n",
      "video 2/4 (frame 435/646) f:\\PRACA_MAGISTERSKA\\DATASETS\\PREDYKCJA\\videos\\pieknie.webm: 384x640 1 no_glasses, 4 no_glovess, 3 no_vests, 12.2ms\n",
      "video 2/4 (frame 436/646) f:\\PRACA_MAGISTERSKA\\DATASETS\\PREDYKCJA\\videos\\pieknie.webm: 384x640 1 no_glasses, 4 no_glovess, 3 no_vests, 12.2ms\n",
      "video 2/4 (frame 437/646) f:\\PRACA_MAGISTERSKA\\DATASETS\\PREDYKCJA\\videos\\pieknie.webm: 384x640 1 no_glasses, 4 no_glovess, 3 no_vests, 12.2ms\n",
      "video 2/4 (frame 438/646) f:\\PRACA_MAGISTERSKA\\DATASETS\\PREDYKCJA\\videos\\pieknie.webm: 384x640 1 no_glasses, 4 no_glovess, 2 no_vests, 12.2ms\n",
      "video 2/4 (frame 439/646) f:\\PRACA_MAGISTERSKA\\DATASETS\\PREDYKCJA\\videos\\pieknie.webm: 384x640 1 no_glasses, 4 no_glovess, 2 no_vests, 12.2ms\n",
      "video 2/4 (frame 440/646) f:\\PRACA_MAGISTERSKA\\DATASETS\\PREDYKCJA\\videos\\pieknie.webm: 384x640 1 no_glasses, 4 no_glovess, 2 no_vests, 12.2ms\n",
      "video 2/4 (frame 441/646) f:\\PRACA_MAGISTERSKA\\DATASETS\\PREDYKCJA\\videos\\pieknie.webm: 384x640 1 no_glasses, 4 no_glovess, 2 no_vests, 12.2ms\n",
      "video 2/4 (frame 442/646) f:\\PRACA_MAGISTERSKA\\DATASETS\\PREDYKCJA\\videos\\pieknie.webm: 384x640 1 no_glasses, 4 no_glovess, 2 no_vests, 12.2ms\n",
      "video 2/4 (frame 443/646) f:\\PRACA_MAGISTERSKA\\DATASETS\\PREDYKCJA\\videos\\pieknie.webm: 384x640 1 no_glasses, 4 no_glovess, 2 no_vests, 12.2ms\n",
      "video 2/4 (frame 444/646) f:\\PRACA_MAGISTERSKA\\DATASETS\\PREDYKCJA\\videos\\pieknie.webm: 384x640 1 no_glasses, 4 no_glovess, 2 no_vests, 12.2ms\n",
      "video 2/4 (frame 445/646) f:\\PRACA_MAGISTERSKA\\DATASETS\\PREDYKCJA\\videos\\pieknie.webm: 384x640 1 no_glasses, 4 no_glovess, 2 no_vests, 12.2ms\n",
      "video 2/4 (frame 446/646) f:\\PRACA_MAGISTERSKA\\DATASETS\\PREDYKCJA\\videos\\pieknie.webm: 384x640 1 no_glasses, 4 no_glovess, 2 no_vests, 12.2ms\n",
      "video 2/4 (frame 447/646) f:\\PRACA_MAGISTERSKA\\DATASETS\\PREDYKCJA\\videos\\pieknie.webm: 384x640 1 no_glasses, 4 no_glovess, 2 no_vests, 12.2ms\n",
      "video 2/4 (frame 448/646) f:\\PRACA_MAGISTERSKA\\DATASETS\\PREDYKCJA\\videos\\pieknie.webm: 384x640 1 no_glasses, 4 no_glovess, 2 no_vests, 12.2ms\n",
      "video 2/4 (frame 449/646) f:\\PRACA_MAGISTERSKA\\DATASETS\\PREDYKCJA\\videos\\pieknie.webm: 384x640 1 no_glasses, 4 no_glovess, 2 no_vests, 12.2ms\n",
      "video 2/4 (frame 450/646) f:\\PRACA_MAGISTERSKA\\DATASETS\\PREDYKCJA\\videos\\pieknie.webm: 384x640 1 no_glasses, 4 no_glovess, 2 no_vests, 12.2ms\n",
      "video 2/4 (frame 451/646) f:\\PRACA_MAGISTERSKA\\DATASETS\\PREDYKCJA\\videos\\pieknie.webm: 384x640 1 no_glasses, 4 no_glovess, 2 no_vests, 12.2ms\n",
      "video 2/4 (frame 452/646) f:\\PRACA_MAGISTERSKA\\DATASETS\\PREDYKCJA\\videos\\pieknie.webm: 384x640 1 no_glasses, 4 no_glovess, 2 no_vests, 12.2ms\n",
      "video 2/4 (frame 453/646) f:\\PRACA_MAGISTERSKA\\DATASETS\\PREDYKCJA\\videos\\pieknie.webm: 384x640 1 no_glasses, 4 no_glovess, 2 no_vests, 12.2ms\n",
      "video 2/4 (frame 454/646) f:\\PRACA_MAGISTERSKA\\DATASETS\\PREDYKCJA\\videos\\pieknie.webm: 384x640 1 no_glasses, 4 no_glovess, 2 no_vests, 12.2ms\n",
      "video 2/4 (frame 455/646) f:\\PRACA_MAGISTERSKA\\DATASETS\\PREDYKCJA\\videos\\pieknie.webm: 384x640 1 no_glasses, 5 no_glovess, 2 no_vests, 12.2ms\n",
      "video 2/4 (frame 456/646) f:\\PRACA_MAGISTERSKA\\DATASETS\\PREDYKCJA\\videos\\pieknie.webm: 384x640 1 no_glasses, 4 no_glovess, 1 no_helmet, 2 no_vests, 12.2ms\n",
      "video 2/4 (frame 457/646) f:\\PRACA_MAGISTERSKA\\DATASETS\\PREDYKCJA\\videos\\pieknie.webm: 384x640 1 no_glasses, 4 no_glovess, 2 no_vests, 12.2ms\n",
      "video 2/4 (frame 458/646) f:\\PRACA_MAGISTERSKA\\DATASETS\\PREDYKCJA\\videos\\pieknie.webm: 384x640 1 no_glasses, 4 no_glovess, 1 no_helmet, 2 no_vests, 12.2ms\n",
      "video 2/4 (frame 459/646) f:\\PRACA_MAGISTERSKA\\DATASETS\\PREDYKCJA\\videos\\pieknie.webm: 384x640 1 no_glasses, 4 no_glovess, 1 no_helmet, 2 no_vests, 12.2ms\n",
      "video 2/4 (frame 460/646) f:\\PRACA_MAGISTERSKA\\DATASETS\\PREDYKCJA\\videos\\pieknie.webm: 384x640 1 no_glasses, 4 no_glovess, 2 no_vests, 12.2ms\n",
      "video 2/4 (frame 461/646) f:\\PRACA_MAGISTERSKA\\DATASETS\\PREDYKCJA\\videos\\pieknie.webm: 384x640 2 no_glassess, 4 no_glovess, 2 no_vests, 12.2ms\n",
      "video 2/4 (frame 462/646) f:\\PRACA_MAGISTERSKA\\DATASETS\\PREDYKCJA\\videos\\pieknie.webm: 384x640 1 no_glasses, 4 no_glovess, 2 no_vests, 12.2ms\n",
      "video 2/4 (frame 463/646) f:\\PRACA_MAGISTERSKA\\DATASETS\\PREDYKCJA\\videos\\pieknie.webm: 384x640 1 no_glasses, 5 no_glovess, 2 no_vests, 12.2ms\n",
      "video 2/4 (frame 464/646) f:\\PRACA_MAGISTERSKA\\DATASETS\\PREDYKCJA\\videos\\pieknie.webm: 384x640 1 no_glasses, 4 no_glovess, 2 no_vests, 12.2ms\n",
      "video 2/4 (frame 465/646) f:\\PRACA_MAGISTERSKA\\DATASETS\\PREDYKCJA\\videos\\pieknie.webm: 384x640 1 no_glasses, 4 no_glovess, 2 no_vests, 12.2ms\n",
      "video 2/4 (frame 466/646) f:\\PRACA_MAGISTERSKA\\DATASETS\\PREDYKCJA\\videos\\pieknie.webm: 384x640 1 no_glasses, 4 no_glovess, 1 no_helmet, 2 no_vests, 12.2ms\n",
      "video 2/4 (frame 467/646) f:\\PRACA_MAGISTERSKA\\DATASETS\\PREDYKCJA\\videos\\pieknie.webm: 384x640 1 no_glasses, 4 no_glovess, 2 no_vests, 12.2ms\n",
      "video 2/4 (frame 468/646) f:\\PRACA_MAGISTERSKA\\DATASETS\\PREDYKCJA\\videos\\pieknie.webm: 384x640 1 no_glasses, 4 no_glovess, 2 no_vests, 12.2ms\n",
      "video 2/4 (frame 469/646) f:\\PRACA_MAGISTERSKA\\DATASETS\\PREDYKCJA\\videos\\pieknie.webm: 384x640 1 no_glasses, 4 no_glovess, 2 no_vests, 12.2ms\n",
      "video 2/4 (frame 470/646) f:\\PRACA_MAGISTERSKA\\DATASETS\\PREDYKCJA\\videos\\pieknie.webm: 384x640 1 no_glasses, 4 no_glovess, 2 no_vests, 12.2ms\n",
      "video 2/4 (frame 471/646) f:\\PRACA_MAGISTERSKA\\DATASETS\\PREDYKCJA\\videos\\pieknie.webm: 384x640 1 no_glasses, 4 no_glovess, 2 no_vests, 12.2ms\n",
      "video 2/4 (frame 472/646) f:\\PRACA_MAGISTERSKA\\DATASETS\\PREDYKCJA\\videos\\pieknie.webm: 384x640 1 no_glasses, 4 no_glovess, 2 no_vests, 12.2ms\n",
      "video 2/4 (frame 473/646) f:\\PRACA_MAGISTERSKA\\DATASETS\\PREDYKCJA\\videos\\pieknie.webm: 384x640 1 no_glasses, 4 no_glovess, 2 no_vests, 12.2ms\n",
      "video 2/4 (frame 474/646) f:\\PRACA_MAGISTERSKA\\DATASETS\\PREDYKCJA\\videos\\pieknie.webm: 384x640 1 no_glasses, 4 no_glovess, 2 no_vests, 12.2ms\n",
      "video 2/4 (frame 475/646) f:\\PRACA_MAGISTERSKA\\DATASETS\\PREDYKCJA\\videos\\pieknie.webm: 384x640 1 no_glasses, 4 no_glovess, 2 no_vests, 12.2ms\n",
      "video 2/4 (frame 476/646) f:\\PRACA_MAGISTERSKA\\DATASETS\\PREDYKCJA\\videos\\pieknie.webm: 384x640 1 no_glasses, 4 no_glovess, 2 no_vests, 12.2ms\n",
      "video 2/4 (frame 477/646) f:\\PRACA_MAGISTERSKA\\DATASETS\\PREDYKCJA\\videos\\pieknie.webm: 384x640 1 no_glasses, 4 no_glovess, 2 no_vests, 12.2ms\n",
      "video 2/4 (frame 478/646) f:\\PRACA_MAGISTERSKA\\DATASETS\\PREDYKCJA\\videos\\pieknie.webm: 384x640 1 no_glasses, 4 no_glovess, 2 no_vests, 12.3ms\n",
      "video 2/4 (frame 479/646) f:\\PRACA_MAGISTERSKA\\DATASETS\\PREDYKCJA\\videos\\pieknie.webm: 384x640 1 no_glasses, 4 no_glovess, 2 no_vests, 12.3ms\n",
      "video 2/4 (frame 480/646) f:\\PRACA_MAGISTERSKA\\DATASETS\\PREDYKCJA\\videos\\pieknie.webm: 384x640 1 no_glasses, 4 no_glovess, 2 no_vests, 12.3ms\n",
      "video 2/4 (frame 481/646) f:\\PRACA_MAGISTERSKA\\DATASETS\\PREDYKCJA\\videos\\pieknie.webm: 384x640 1 no_glasses, 4 no_glovess, 2 no_vests, 12.3ms\n",
      "video 2/4 (frame 482/646) f:\\PRACA_MAGISTERSKA\\DATASETS\\PREDYKCJA\\videos\\pieknie.webm: 384x640 1 no_glasses, 4 no_glovess, 2 no_vests, 12.3ms\n",
      "video 2/4 (frame 483/646) f:\\PRACA_MAGISTERSKA\\DATASETS\\PREDYKCJA\\videos\\pieknie.webm: 384x640 1 no_glasses, 4 no_glovess, 2 no_vests, 12.3ms\n",
      "video 2/4 (frame 484/646) f:\\PRACA_MAGISTERSKA\\DATASETS\\PREDYKCJA\\videos\\pieknie.webm: 384x640 1 no_glasses, 4 no_glovess, 2 no_vests, 12.3ms\n",
      "video 2/4 (frame 485/646) f:\\PRACA_MAGISTERSKA\\DATASETS\\PREDYKCJA\\videos\\pieknie.webm: 384x640 1 no_glasses, 4 no_glovess, 2 no_vests, 12.3ms\n",
      "video 2/4 (frame 486/646) f:\\PRACA_MAGISTERSKA\\DATASETS\\PREDYKCJA\\videos\\pieknie.webm: 384x640 1 no_glasses, 4 no_glovess, 1 no_helmet, 2 no_vests, 12.3ms\n",
      "video 2/4 (frame 487/646) f:\\PRACA_MAGISTERSKA\\DATASETS\\PREDYKCJA\\videos\\pieknie.webm: 384x640 1 no_glasses, 4 no_glovess, 2 no_vests, 12.3ms\n",
      "video 2/4 (frame 488/646) f:\\PRACA_MAGISTERSKA\\DATASETS\\PREDYKCJA\\videos\\pieknie.webm: 384x640 1 no_glasses, 4 no_glovess, 2 no_vests, 12.3ms\n",
      "video 2/4 (frame 489/646) f:\\PRACA_MAGISTERSKA\\DATASETS\\PREDYKCJA\\videos\\pieknie.webm: 384x640 1 no_glasses, 4 no_glovess, 2 no_vests, 12.3ms\n",
      "video 2/4 (frame 490/646) f:\\PRACA_MAGISTERSKA\\DATASETS\\PREDYKCJA\\videos\\pieknie.webm: 384x640 1 no_glasses, 4 no_glovess, 2 no_vests, 12.3ms\n",
      "video 2/4 (frame 491/646) f:\\PRACA_MAGISTERSKA\\DATASETS\\PREDYKCJA\\videos\\pieknie.webm: 384x640 1 no_glasses, 5 no_glovess, 2 no_vests, 12.3ms\n",
      "video 2/4 (frame 492/646) f:\\PRACA_MAGISTERSKA\\DATASETS\\PREDYKCJA\\videos\\pieknie.webm: 384x640 1 no_glasses, 4 no_glovess, 2 no_vests, 12.3ms\n",
      "video 2/4 (frame 493/646) f:\\PRACA_MAGISTERSKA\\DATASETS\\PREDYKCJA\\videos\\pieknie.webm: 384x640 1 no_glasses, 4 no_glovess, 2 no_vests, 12.3ms\n",
      "video 2/4 (frame 494/646) f:\\PRACA_MAGISTERSKA\\DATASETS\\PREDYKCJA\\videos\\pieknie.webm: 384x640 1 no_glasses, 4 no_glovess, 2 no_vests, 12.3ms\n",
      "video 2/4 (frame 495/646) f:\\PRACA_MAGISTERSKA\\DATASETS\\PREDYKCJA\\videos\\pieknie.webm: 384x640 1 no_glasses, 4 no_glovess, 2 no_vests, 12.3ms\n",
      "video 2/4 (frame 496/646) f:\\PRACA_MAGISTERSKA\\DATASETS\\PREDYKCJA\\videos\\pieknie.webm: 384x640 1 no_glasses, 4 no_glovess, 2 no_vests, 12.3ms\n",
      "video 2/4 (frame 497/646) f:\\PRACA_MAGISTERSKA\\DATASETS\\PREDYKCJA\\videos\\pieknie.webm: 384x640 1 no_glasses, 4 no_glovess, 2 no_vests, 12.3ms\n",
      "video 2/4 (frame 498/646) f:\\PRACA_MAGISTERSKA\\DATASETS\\PREDYKCJA\\videos\\pieknie.webm: 384x640 1 no_glasses, 4 no_glovess, 2 no_vests, 12.3ms\n",
      "video 2/4 (frame 499/646) f:\\PRACA_MAGISTERSKA\\DATASETS\\PREDYKCJA\\videos\\pieknie.webm: 384x640 1 no_glasses, 4 no_glovess, 2 no_vests, 12.3ms\n",
      "video 2/4 (frame 500/646) f:\\PRACA_MAGISTERSKA\\DATASETS\\PREDYKCJA\\videos\\pieknie.webm: 384x640 1 no_glasses, 4 no_glovess, 2 no_vests, 12.3ms\n",
      "video 2/4 (frame 501/646) f:\\PRACA_MAGISTERSKA\\DATASETS\\PREDYKCJA\\videos\\pieknie.webm: 384x640 1 no_glasses, 4 no_glovess, 2 no_vests, 12.3ms\n",
      "video 2/4 (frame 502/646) f:\\PRACA_MAGISTERSKA\\DATASETS\\PREDYKCJA\\videos\\pieknie.webm: 384x640 1 no_glasses, 4 no_glovess, 2 no_vests, 12.3ms\n",
      "video 2/4 (frame 503/646) f:\\PRACA_MAGISTERSKA\\DATASETS\\PREDYKCJA\\videos\\pieknie.webm: 384x640 1 no_glasses, 4 no_glovess, 2 no_vests, 12.3ms\n",
      "video 2/4 (frame 504/646) f:\\PRACA_MAGISTERSKA\\DATASETS\\PREDYKCJA\\videos\\pieknie.webm: 384x640 1 no_glasses, 3 no_glovess, 2 no_vests, 12.3ms\n",
      "video 2/4 (frame 505/646) f:\\PRACA_MAGISTERSKA\\DATASETS\\PREDYKCJA\\videos\\pieknie.webm: 384x640 1 no_glasses, 4 no_glovess, 2 no_vests, 12.3ms\n",
      "video 2/4 (frame 506/646) f:\\PRACA_MAGISTERSKA\\DATASETS\\PREDYKCJA\\videos\\pieknie.webm: 384x640 1 no_glasses, 3 no_glovess, 2 no_vests, 12.3ms\n",
      "video 2/4 (frame 507/646) f:\\PRACA_MAGISTERSKA\\DATASETS\\PREDYKCJA\\videos\\pieknie.webm: 384x640 1 no_glasses, 3 no_glovess, 2 no_vests, 12.3ms\n",
      "video 2/4 (frame 508/646) f:\\PRACA_MAGISTERSKA\\DATASETS\\PREDYKCJA\\videos\\pieknie.webm: 384x640 1 no_glasses, 4 no_glovess, 2 no_vests, 12.3ms\n",
      "video 2/4 (frame 509/646) f:\\PRACA_MAGISTERSKA\\DATASETS\\PREDYKCJA\\videos\\pieknie.webm: 384x640 1 no_glasses, 3 no_glovess, 2 no_vests, 12.3ms\n",
      "video 2/4 (frame 510/646) f:\\PRACA_MAGISTERSKA\\DATASETS\\PREDYKCJA\\videos\\pieknie.webm: 384x640 1 no_glasses, 4 no_glovess, 2 no_vests, 12.3ms\n",
      "video 2/4 (frame 511/646) f:\\PRACA_MAGISTERSKA\\DATASETS\\PREDYKCJA\\videos\\pieknie.webm: 384x640 1 no_glasses, 4 no_glovess, 2 no_vests, 12.3ms\n",
      "video 2/4 (frame 512/646) f:\\PRACA_MAGISTERSKA\\DATASETS\\PREDYKCJA\\videos\\pieknie.webm: 384x640 1 no_glasses, 3 no_glovess, 2 no_vests, 12.3ms\n",
      "video 2/4 (frame 513/646) f:\\PRACA_MAGISTERSKA\\DATASETS\\PREDYKCJA\\videos\\pieknie.webm: 384x640 1 no_glasses, 4 no_glovess, 2 no_vests, 12.3ms\n",
      "video 2/4 (frame 514/646) f:\\PRACA_MAGISTERSKA\\DATASETS\\PREDYKCJA\\videos\\pieknie.webm: 384x640 1 no_glasses, 4 no_glovess, 2 no_vests, 12.3ms\n",
      "video 2/4 (frame 515/646) f:\\PRACA_MAGISTERSKA\\DATASETS\\PREDYKCJA\\videos\\pieknie.webm: 384x640 1 no_glasses, 4 no_glovess, 2 no_vests, 12.3ms\n",
      "video 2/4 (frame 516/646) f:\\PRACA_MAGISTERSKA\\DATASETS\\PREDYKCJA\\videos\\pieknie.webm: 384x640 1 no_glasses, 4 no_glovess, 2 no_vests, 12.3ms\n",
      "video 2/4 (frame 517/646) f:\\PRACA_MAGISTERSKA\\DATASETS\\PREDYKCJA\\videos\\pieknie.webm: 384x640 1 no_glasses, 4 no_glovess, 2 no_vests, 12.3ms\n",
      "video 2/4 (frame 518/646) f:\\PRACA_MAGISTERSKA\\DATASETS\\PREDYKCJA\\videos\\pieknie.webm: 384x640 1 no_glasses, 4 no_glovess, 2 no_vests, 12.3ms\n",
      "video 2/4 (frame 519/646) f:\\PRACA_MAGISTERSKA\\DATASETS\\PREDYKCJA\\videos\\pieknie.webm: 384x640 1 no_glasses, 4 no_glovess, 2 no_vests, 12.3ms\n",
      "video 2/4 (frame 520/646) f:\\PRACA_MAGISTERSKA\\DATASETS\\PREDYKCJA\\videos\\pieknie.webm: 384x640 1 no_glasses, 4 no_glovess, 2 no_vests, 12.3ms\n",
      "video 2/4 (frame 521/646) f:\\PRACA_MAGISTERSKA\\DATASETS\\PREDYKCJA\\videos\\pieknie.webm: 384x640 1 no_glasses, 4 no_glovess, 2 no_vests, 12.3ms\n",
      "video 2/4 (frame 522/646) f:\\PRACA_MAGISTERSKA\\DATASETS\\PREDYKCJA\\videos\\pieknie.webm: 384x640 1 no_glasses, 4 no_glovess, 2 no_vests, 12.3ms\n",
      "video 2/4 (frame 523/646) f:\\PRACA_MAGISTERSKA\\DATASETS\\PREDYKCJA\\videos\\pieknie.webm: 384x640 1 no_glasses, 4 no_glovess, 2 no_vests, 12.3ms\n",
      "video 2/4 (frame 524/646) f:\\PRACA_MAGISTERSKA\\DATASETS\\PREDYKCJA\\videos\\pieknie.webm: 384x640 1 no_glasses, 4 no_glovess, 2 no_vests, 12.3ms\n",
      "video 2/4 (frame 525/646) f:\\PRACA_MAGISTERSKA\\DATASETS\\PREDYKCJA\\videos\\pieknie.webm: 384x640 1 no_glasses, 4 no_glovess, 2 no_vests, 12.3ms\n",
      "video 2/4 (frame 526/646) f:\\PRACA_MAGISTERSKA\\DATASETS\\PREDYKCJA\\videos\\pieknie.webm: 384x640 1 no_glasses, 4 no_glovess, 2 no_vests, 12.3ms\n",
      "video 2/4 (frame 527/646) f:\\PRACA_MAGISTERSKA\\DATASETS\\PREDYKCJA\\videos\\pieknie.webm: 384x640 1 no_glasses, 4 no_glovess, 2 no_vests, 12.3ms\n",
      "video 2/4 (frame 528/646) f:\\PRACA_MAGISTERSKA\\DATASETS\\PREDYKCJA\\videos\\pieknie.webm: 384x640 1 no_glasses, 4 no_glovess, 2 no_vests, 12.3ms\n",
      "video 2/4 (frame 529/646) f:\\PRACA_MAGISTERSKA\\DATASETS\\PREDYKCJA\\videos\\pieknie.webm: 384x640 1 no_glasses, 4 no_glovess, 2 no_vests, 12.3ms\n",
      "video 2/4 (frame 530/646) f:\\PRACA_MAGISTERSKA\\DATASETS\\PREDYKCJA\\videos\\pieknie.webm: 384x640 1 no_glasses, 4 no_glovess, 2 no_vests, 12.3ms\n",
      "video 2/4 (frame 531/646) f:\\PRACA_MAGISTERSKA\\DATASETS\\PREDYKCJA\\videos\\pieknie.webm: 384x640 1 no_glasses, 4 no_glovess, 2 no_vests, 12.3ms\n",
      "video 2/4 (frame 532/646) f:\\PRACA_MAGISTERSKA\\DATASETS\\PREDYKCJA\\videos\\pieknie.webm: 384x640 1 no_glasses, 4 no_glovess, 2 no_vests, 12.3ms\n",
      "video 2/4 (frame 533/646) f:\\PRACA_MAGISTERSKA\\DATASETS\\PREDYKCJA\\videos\\pieknie.webm: 384x640 1 no_glasses, 4 no_glovess, 2 no_vests, 12.3ms\n",
      "video 2/4 (frame 534/646) f:\\PRACA_MAGISTERSKA\\DATASETS\\PREDYKCJA\\videos\\pieknie.webm: 384x640 1 no_glasses, 4 no_glovess, 2 no_vests, 12.3ms\n",
      "video 2/4 (frame 535/646) f:\\PRACA_MAGISTERSKA\\DATASETS\\PREDYKCJA\\videos\\pieknie.webm: 384x640 1 no_glasses, 4 no_glovess, 2 no_vests, 12.3ms\n",
      "video 2/4 (frame 536/646) f:\\PRACA_MAGISTERSKA\\DATASETS\\PREDYKCJA\\videos\\pieknie.webm: 384x640 2 no_glassess, 4 no_glovess, 2 no_vests, 12.3ms\n",
      "video 2/4 (frame 537/646) f:\\PRACA_MAGISTERSKA\\DATASETS\\PREDYKCJA\\videos\\pieknie.webm: 384x640 1 no_glasses, 4 no_glovess, 2 no_vests, 12.3ms\n",
      "video 2/4 (frame 538/646) f:\\PRACA_MAGISTERSKA\\DATASETS\\PREDYKCJA\\videos\\pieknie.webm: 384x640 1 no_glasses, 4 no_glovess, 2 no_vests, 12.3ms\n",
      "video 2/4 (frame 539/646) f:\\PRACA_MAGISTERSKA\\DATASETS\\PREDYKCJA\\videos\\pieknie.webm: 384x640 1 no_glasses, 4 no_glovess, 2 no_vests, 12.3ms\n",
      "video 2/4 (frame 540/646) f:\\PRACA_MAGISTERSKA\\DATASETS\\PREDYKCJA\\videos\\pieknie.webm: 384x640 1 no_glasses, 4 no_glovess, 2 no_vests, 12.3ms\n",
      "video 2/4 (frame 541/646) f:\\PRACA_MAGISTERSKA\\DATASETS\\PREDYKCJA\\videos\\pieknie.webm: 384x640 1 no_glasses, 5 no_glovess, 2 no_vests, 12.3ms\n",
      "video 2/4 (frame 542/646) f:\\PRACA_MAGISTERSKA\\DATASETS\\PREDYKCJA\\videos\\pieknie.webm: 384x640 1 no_glasses, 5 no_glovess, 2 no_vests, 12.2ms\n",
      "video 2/4 (frame 543/646) f:\\PRACA_MAGISTERSKA\\DATASETS\\PREDYKCJA\\videos\\pieknie.webm: 384x640 1 no_glasses, 4 no_glovess, 2 no_vests, 12.2ms\n",
      "video 2/4 (frame 544/646) f:\\PRACA_MAGISTERSKA\\DATASETS\\PREDYKCJA\\videos\\pieknie.webm: 384x640 1 no_glasses, 4 no_glovess, 2 no_vests, 12.2ms\n",
      "video 2/4 (frame 545/646) f:\\PRACA_MAGISTERSKA\\DATASETS\\PREDYKCJA\\videos\\pieknie.webm: 384x640 1 no_glasses, 4 no_glovess, 2 no_vests, 12.2ms\n",
      "video 2/4 (frame 546/646) f:\\PRACA_MAGISTERSKA\\DATASETS\\PREDYKCJA\\videos\\pieknie.webm: 384x640 1 no_glasses, 4 no_glovess, 2 no_vests, 12.2ms\n",
      "video 2/4 (frame 547/646) f:\\PRACA_MAGISTERSKA\\DATASETS\\PREDYKCJA\\videos\\pieknie.webm: 384x640 1 no_glasses, 4 no_glovess, 2 no_vests, 12.2ms\n",
      "video 2/4 (frame 548/646) f:\\PRACA_MAGISTERSKA\\DATASETS\\PREDYKCJA\\videos\\pieknie.webm: 384x640 1 no_glasses, 4 no_glovess, 2 no_vests, 12.2ms\n",
      "video 2/4 (frame 549/646) f:\\PRACA_MAGISTERSKA\\DATASETS\\PREDYKCJA\\videos\\pieknie.webm: 384x640 1 no_glasses, 4 no_glovess, 2 no_vests, 12.2ms\n",
      "video 2/4 (frame 550/646) f:\\PRACA_MAGISTERSKA\\DATASETS\\PREDYKCJA\\videos\\pieknie.webm: 384x640 1 no_glasses, 4 no_glovess, 2 no_vests, 12.2ms\n",
      "video 2/4 (frame 551/646) f:\\PRACA_MAGISTERSKA\\DATASETS\\PREDYKCJA\\videos\\pieknie.webm: 384x640 1 no_glasses, 4 no_glovess, 2 no_vests, 12.2ms\n",
      "video 2/4 (frame 552/646) f:\\PRACA_MAGISTERSKA\\DATASETS\\PREDYKCJA\\videos\\pieknie.webm: 384x640 1 no_glasses, 4 no_glovess, 2 no_vests, 12.2ms\n",
      "video 2/4 (frame 553/646) f:\\PRACA_MAGISTERSKA\\DATASETS\\PREDYKCJA\\videos\\pieknie.webm: 384x640 1 no_glasses, 4 no_glovess, 2 no_vests, 12.2ms\n",
      "video 2/4 (frame 554/646) f:\\PRACA_MAGISTERSKA\\DATASETS\\PREDYKCJA\\videos\\pieknie.webm: 384x640 1 no_glasses, 4 no_glovess, 2 no_vests, 12.2ms\n",
      "video 2/4 (frame 555/646) f:\\PRACA_MAGISTERSKA\\DATASETS\\PREDYKCJA\\videos\\pieknie.webm: 384x640 1 no_glasses, 4 no_glovess, 3 no_vests, 12.2ms\n",
      "video 2/4 (frame 556/646) f:\\PRACA_MAGISTERSKA\\DATASETS\\PREDYKCJA\\videos\\pieknie.webm: 384x640 1 no_glasses, 4 no_glovess, 2 no_vests, 12.2ms\n",
      "video 2/4 (frame 557/646) f:\\PRACA_MAGISTERSKA\\DATASETS\\PREDYKCJA\\videos\\pieknie.webm: 384x640 1 no_glasses, 3 no_glovess, 2 no_vests, 12.2ms\n",
      "video 2/4 (frame 558/646) f:\\PRACA_MAGISTERSKA\\DATASETS\\PREDYKCJA\\videos\\pieknie.webm: 384x640 1 no_glasses, 4 no_glovess, 2 no_vests, 12.2ms\n",
      "video 2/4 (frame 559/646) f:\\PRACA_MAGISTERSKA\\DATASETS\\PREDYKCJA\\videos\\pieknie.webm: 384x640 1 no_glasses, 4 no_glovess, 2 no_vests, 12.2ms\n",
      "video 2/4 (frame 560/646) f:\\PRACA_MAGISTERSKA\\DATASETS\\PREDYKCJA\\videos\\pieknie.webm: 384x640 1 no_glasses, 4 no_glovess, 2 no_vests, 12.2ms\n",
      "video 2/4 (frame 561/646) f:\\PRACA_MAGISTERSKA\\DATASETS\\PREDYKCJA\\videos\\pieknie.webm: 384x640 1 no_glasses, 4 no_glovess, 2 no_vests, 12.2ms\n",
      "video 2/4 (frame 562/646) f:\\PRACA_MAGISTERSKA\\DATASETS\\PREDYKCJA\\videos\\pieknie.webm: 384x640 1 no_glasses, 4 no_glovess, 2 no_vests, 12.2ms\n",
      "video 2/4 (frame 563/646) f:\\PRACA_MAGISTERSKA\\DATASETS\\PREDYKCJA\\videos\\pieknie.webm: 384x640 1 no_glasses, 4 no_glovess, 2 no_vests, 12.2ms\n",
      "video 2/4 (frame 564/646) f:\\PRACA_MAGISTERSKA\\DATASETS\\PREDYKCJA\\videos\\pieknie.webm: 384x640 1 no_glasses, 4 no_glovess, 2 no_vests, 12.2ms\n",
      "video 2/4 (frame 565/646) f:\\PRACA_MAGISTERSKA\\DATASETS\\PREDYKCJA\\videos\\pieknie.webm: 384x640 1 no_glasses, 4 no_glovess, 2 no_vests, 12.2ms\n",
      "video 2/4 (frame 566/646) f:\\PRACA_MAGISTERSKA\\DATASETS\\PREDYKCJA\\videos\\pieknie.webm: 384x640 1 no_glasses, 4 no_glovess, 2 no_vests, 12.2ms\n",
      "video 2/4 (frame 567/646) f:\\PRACA_MAGISTERSKA\\DATASETS\\PREDYKCJA\\videos\\pieknie.webm: 384x640 1 no_glasses, 4 no_glovess, 2 no_vests, 12.2ms\n",
      "video 2/4 (frame 568/646) f:\\PRACA_MAGISTERSKA\\DATASETS\\PREDYKCJA\\videos\\pieknie.webm: 384x640 1 no_glasses, 4 no_glovess, 2 no_vests, 12.2ms\n",
      "video 2/4 (frame 569/646) f:\\PRACA_MAGISTERSKA\\DATASETS\\PREDYKCJA\\videos\\pieknie.webm: 384x640 1 no_glasses, 4 no_glovess, 2 no_vests, 12.2ms\n",
      "video 2/4 (frame 570/646) f:\\PRACA_MAGISTERSKA\\DATASETS\\PREDYKCJA\\videos\\pieknie.webm: 384x640 1 no_glasses, 4 no_glovess, 2 no_vests, 12.2ms\n",
      "video 2/4 (frame 571/646) f:\\PRACA_MAGISTERSKA\\DATASETS\\PREDYKCJA\\videos\\pieknie.webm: 384x640 1 no_glasses, 4 no_glovess, 2 no_vests, 12.2ms\n",
      "video 2/4 (frame 572/646) f:\\PRACA_MAGISTERSKA\\DATASETS\\PREDYKCJA\\videos\\pieknie.webm: 384x640 1 no_glasses, 4 no_glovess, 2 no_vests, 12.2ms\n",
      "video 2/4 (frame 573/646) f:\\PRACA_MAGISTERSKA\\DATASETS\\PREDYKCJA\\videos\\pieknie.webm: 384x640 1 no_glasses, 4 no_glovess, 2 no_vests, 12.2ms\n",
      "video 2/4 (frame 574/646) f:\\PRACA_MAGISTERSKA\\DATASETS\\PREDYKCJA\\videos\\pieknie.webm: 384x640 2 no_glassess, 4 no_glovess, 2 no_vests, 12.2ms\n",
      "video 2/4 (frame 575/646) f:\\PRACA_MAGISTERSKA\\DATASETS\\PREDYKCJA\\videos\\pieknie.webm: 384x640 1 no_glasses, 4 no_glovess, 2 no_vests, 12.2ms\n",
      "video 2/4 (frame 576/646) f:\\PRACA_MAGISTERSKA\\DATASETS\\PREDYKCJA\\videos\\pieknie.webm: 384x640 1 no_glasses, 4 no_glovess, 2 no_vests, 12.2ms\n",
      "video 2/4 (frame 577/646) f:\\PRACA_MAGISTERSKA\\DATASETS\\PREDYKCJA\\videos\\pieknie.webm: 384x640 1 no_glasses, 4 no_glovess, 2 no_vests, 12.2ms\n",
      "video 2/4 (frame 578/646) f:\\PRACA_MAGISTERSKA\\DATASETS\\PREDYKCJA\\videos\\pieknie.webm: 384x640 1 no_glasses, 4 no_glovess, 2 no_vests, 12.2ms\n",
      "video 2/4 (frame 579/646) f:\\PRACA_MAGISTERSKA\\DATASETS\\PREDYKCJA\\videos\\pieknie.webm: 384x640 1 no_glasses, 4 no_glovess, 2 no_vests, 12.2ms\n",
      "video 2/4 (frame 580/646) f:\\PRACA_MAGISTERSKA\\DATASETS\\PREDYKCJA\\videos\\pieknie.webm: 384x640 1 no_glasses, 3 no_glovess, 2 no_vests, 12.2ms\n",
      "video 2/4 (frame 581/646) f:\\PRACA_MAGISTERSKA\\DATASETS\\PREDYKCJA\\videos\\pieknie.webm: 384x640 1 no_glasses, 4 no_glovess, 2 no_vests, 12.2ms\n",
      "video 2/4 (frame 582/646) f:\\PRACA_MAGISTERSKA\\DATASETS\\PREDYKCJA\\videos\\pieknie.webm: 384x640 1 no_glasses, 4 no_glovess, 2 no_vests, 12.2ms\n",
      "video 2/4 (frame 583/646) f:\\PRACA_MAGISTERSKA\\DATASETS\\PREDYKCJA\\videos\\pieknie.webm: 384x640 1 no_glasses, 4 no_glovess, 2 no_vests, 12.2ms\n",
      "video 2/4 (frame 584/646) f:\\PRACA_MAGISTERSKA\\DATASETS\\PREDYKCJA\\videos\\pieknie.webm: 384x640 1 no_glasses, 4 no_glovess, 2 no_vests, 12.2ms\n",
      "video 2/4 (frame 585/646) f:\\PRACA_MAGISTERSKA\\DATASETS\\PREDYKCJA\\videos\\pieknie.webm: 384x640 1 no_glasses, 4 no_glovess, 2 no_vests, 12.2ms\n",
      "video 2/4 (frame 586/646) f:\\PRACA_MAGISTERSKA\\DATASETS\\PREDYKCJA\\videos\\pieknie.webm: 384x640 1 no_glasses, 4 no_glovess, 2 no_vests, 12.2ms\n",
      "video 2/4 (frame 587/646) f:\\PRACA_MAGISTERSKA\\DATASETS\\PREDYKCJA\\videos\\pieknie.webm: 384x640 1 no_glasses, 4 no_glovess, 2 no_vests, 12.2ms\n",
      "video 2/4 (frame 588/646) f:\\PRACA_MAGISTERSKA\\DATASETS\\PREDYKCJA\\videos\\pieknie.webm: 384x640 1 no_glasses, 4 no_glovess, 2 no_vests, 12.2ms\n",
      "video 2/4 (frame 589/646) f:\\PRACA_MAGISTERSKA\\DATASETS\\PREDYKCJA\\videos\\pieknie.webm: 384x640 1 no_glasses, 4 no_glovess, 2 no_vests, 12.2ms\n",
      "video 2/4 (frame 590/646) f:\\PRACA_MAGISTERSKA\\DATASETS\\PREDYKCJA\\videos\\pieknie.webm: 384x640 1 no_glasses, 4 no_glovess, 2 no_vests, 12.2ms\n",
      "video 2/4 (frame 591/646) f:\\PRACA_MAGISTERSKA\\DATASETS\\PREDYKCJA\\videos\\pieknie.webm: 384x640 1 no_glasses, 4 no_glovess, 1 no_vest, 12.2ms\n",
      "video 2/4 (frame 592/646) f:\\PRACA_MAGISTERSKA\\DATASETS\\PREDYKCJA\\videos\\pieknie.webm: 384x640 1 no_glasses, 3 no_glovess, 2 no_vests, 12.2ms\n",
      "video 2/4 (frame 593/646) f:\\PRACA_MAGISTERSKA\\DATASETS\\PREDYKCJA\\videos\\pieknie.webm: 384x640 1 no_glasses, 4 no_glovess, 1 no_helmet, 2 no_vests, 12.2ms\n",
      "video 2/4 (frame 594/646) f:\\PRACA_MAGISTERSKA\\DATASETS\\PREDYKCJA\\videos\\pieknie.webm: 384x640 1 no_glasses, 4 no_glovess, 1 no_helmet, 2 no_vests, 12.2ms\n",
      "video 2/4 (frame 595/646) f:\\PRACA_MAGISTERSKA\\DATASETS\\PREDYKCJA\\videos\\pieknie.webm: 384x640 1 no_glasses, 4 no_glovess, 2 no_vests, 12.2ms\n",
      "video 2/4 (frame 596/646) f:\\PRACA_MAGISTERSKA\\DATASETS\\PREDYKCJA\\videos\\pieknie.webm: 384x640 1 no_glasses, 4 no_glovess, 2 no_vests, 12.2ms\n",
      "video 2/4 (frame 597/646) f:\\PRACA_MAGISTERSKA\\DATASETS\\PREDYKCJA\\videos\\pieknie.webm: 384x640 1 no_glasses, 4 no_glovess, 2 no_vests, 12.2ms\n",
      "video 2/4 (frame 598/646) f:\\PRACA_MAGISTERSKA\\DATASETS\\PREDYKCJA\\videos\\pieknie.webm: 384x640 1 no_glasses, 4 no_glovess, 2 no_vests, 12.2ms\n",
      "video 2/4 (frame 599/646) f:\\PRACA_MAGISTERSKA\\DATASETS\\PREDYKCJA\\videos\\pieknie.webm: 384x640 1 no_glasses, 4 no_glovess, 2 no_vests, 12.2ms\n",
      "video 2/4 (frame 600/646) f:\\PRACA_MAGISTERSKA\\DATASETS\\PREDYKCJA\\videos\\pieknie.webm: 384x640 1 no_glasses, 4 no_glovess, 2 no_vests, 12.2ms\n",
      "video 2/4 (frame 601/646) f:\\PRACA_MAGISTERSKA\\DATASETS\\PREDYKCJA\\videos\\pieknie.webm: 384x640 1 no_glasses, 4 no_glovess, 2 no_vests, 12.2ms\n",
      "video 2/4 (frame 602/646) f:\\PRACA_MAGISTERSKA\\DATASETS\\PREDYKCJA\\videos\\pieknie.webm: 384x640 1 no_glasses, 4 no_glovess, 2 no_vests, 12.2ms\n",
      "video 2/4 (frame 603/646) f:\\PRACA_MAGISTERSKA\\DATASETS\\PREDYKCJA\\videos\\pieknie.webm: 384x640 1 no_glasses, 4 no_glovess, 2 no_vests, 12.2ms\n",
      "video 2/4 (frame 604/646) f:\\PRACA_MAGISTERSKA\\DATASETS\\PREDYKCJA\\videos\\pieknie.webm: 384x640 1 no_glasses, 4 no_glovess, 2 no_vests, 12.2ms\n",
      "video 2/4 (frame 605/646) f:\\PRACA_MAGISTERSKA\\DATASETS\\PREDYKCJA\\videos\\pieknie.webm: 384x640 1 no_glasses, 4 no_glovess, 2 no_vests, 12.2ms\n",
      "video 2/4 (frame 606/646) f:\\PRACA_MAGISTERSKA\\DATASETS\\PREDYKCJA\\videos\\pieknie.webm: 384x640 2 no_glassess, 4 no_glovess, 2 no_vests, 12.2ms\n",
      "video 2/4 (frame 607/646) f:\\PRACA_MAGISTERSKA\\DATASETS\\PREDYKCJA\\videos\\pieknie.webm: 384x640 1 no_glasses, 4 no_glovess, 2 no_vests, 12.2ms\n",
      "video 2/4 (frame 608/646) f:\\PRACA_MAGISTERSKA\\DATASETS\\PREDYKCJA\\videos\\pieknie.webm: 384x640 1 no_glasses, 4 no_glovess, 2 no_vests, 12.2ms\n",
      "video 2/4 (frame 609/646) f:\\PRACA_MAGISTERSKA\\DATASETS\\PREDYKCJA\\videos\\pieknie.webm: 384x640 1 no_glasses, 4 no_glovess, 2 no_vests, 12.2ms\n",
      "video 2/4 (frame 610/646) f:\\PRACA_MAGISTERSKA\\DATASETS\\PREDYKCJA\\videos\\pieknie.webm: 384x640 2 no_glassess, 4 no_glovess, 2 no_vests, 12.2ms\n",
      "video 2/4 (frame 611/646) f:\\PRACA_MAGISTERSKA\\DATASETS\\PREDYKCJA\\videos\\pieknie.webm: 384x640 2 no_glassess, 4 no_glovess, 2 no_vests, 12.2ms\n",
      "video 2/4 (frame 612/646) f:\\PRACA_MAGISTERSKA\\DATASETS\\PREDYKCJA\\videos\\pieknie.webm: 384x640 1 no_glasses, 4 no_glovess, 2 no_vests, 12.2ms\n",
      "video 2/4 (frame 613/646) f:\\PRACA_MAGISTERSKA\\DATASETS\\PREDYKCJA\\videos\\pieknie.webm: 384x640 1 no_glasses, 4 no_glovess, 2 no_vests, 12.2ms\n",
      "video 2/4 (frame 614/646) f:\\PRACA_MAGISTERSKA\\DATASETS\\PREDYKCJA\\videos\\pieknie.webm: 384x640 1 no_glasses, 4 no_glovess, 2 no_vests, 12.2ms\n",
      "video 2/4 (frame 615/646) f:\\PRACA_MAGISTERSKA\\DATASETS\\PREDYKCJA\\videos\\pieknie.webm: 384x640 1 no_glasses, 4 no_glovess, 2 no_vests, 12.2ms\n",
      "video 2/4 (frame 616/646) f:\\PRACA_MAGISTERSKA\\DATASETS\\PREDYKCJA\\videos\\pieknie.webm: 384x640 1 no_glasses, 4 no_glovess, 2 no_vests, 12.2ms\n",
      "video 2/4 (frame 617/646) f:\\PRACA_MAGISTERSKA\\DATASETS\\PREDYKCJA\\videos\\pieknie.webm: 384x640 1 no_glasses, 4 no_glovess, 2 no_vests, 12.2ms\n",
      "video 2/4 (frame 618/646) f:\\PRACA_MAGISTERSKA\\DATASETS\\PREDYKCJA\\videos\\pieknie.webm: 384x640 1 no_glasses, 4 no_glovess, 2 no_vests, 12.2ms\n",
      "video 2/4 (frame 619/646) f:\\PRACA_MAGISTERSKA\\DATASETS\\PREDYKCJA\\videos\\pieknie.webm: 384x640 1 no_glasses, 4 no_glovess, 2 no_vests, 12.2ms\n",
      "video 2/4 (frame 620/646) f:\\PRACA_MAGISTERSKA\\DATASETS\\PREDYKCJA\\videos\\pieknie.webm: 384x640 1 no_glasses, 4 no_glovess, 2 no_vests, 12.2ms\n",
      "video 2/4 (frame 621/646) f:\\PRACA_MAGISTERSKA\\DATASETS\\PREDYKCJA\\videos\\pieknie.webm: 384x640 1 no_glasses, 4 no_glovess, 2 no_vests, 12.2ms\n",
      "video 2/4 (frame 622/646) f:\\PRACA_MAGISTERSKA\\DATASETS\\PREDYKCJA\\videos\\pieknie.webm: 384x640 1 no_glasses, 4 no_glovess, 2 no_vests, 12.2ms\n",
      "video 2/4 (frame 623/646) f:\\PRACA_MAGISTERSKA\\DATASETS\\PREDYKCJA\\videos\\pieknie.webm: 384x640 1 no_glasses, 4 no_glovess, 2 no_vests, 12.2ms\n",
      "video 2/4 (frame 624/646) f:\\PRACA_MAGISTERSKA\\DATASETS\\PREDYKCJA\\videos\\pieknie.webm: 384x640 1 no_glasses, 3 no_glovess, 2 no_vests, 12.2ms\n",
      "video 2/4 (frame 625/646) f:\\PRACA_MAGISTERSKA\\DATASETS\\PREDYKCJA\\videos\\pieknie.webm: 384x640 1 no_glasses, 4 no_glovess, 2 no_vests, 12.2ms\n",
      "video 2/4 (frame 626/646) f:\\PRACA_MAGISTERSKA\\DATASETS\\PREDYKCJA\\videos\\pieknie.webm: 384x640 1 no_glasses, 4 no_glovess, 2 no_vests, 12.2ms\n",
      "video 2/4 (frame 627/646) f:\\PRACA_MAGISTERSKA\\DATASETS\\PREDYKCJA\\videos\\pieknie.webm: 384x640 1 no_glasses, 4 no_glovess, 2 no_vests, 12.2ms\n",
      "video 2/4 (frame 628/646) f:\\PRACA_MAGISTERSKA\\DATASETS\\PREDYKCJA\\videos\\pieknie.webm: 384x640 1 no_glasses, 4 no_glovess, 2 no_vests, 12.2ms\n",
      "video 2/4 (frame 629/646) f:\\PRACA_MAGISTERSKA\\DATASETS\\PREDYKCJA\\videos\\pieknie.webm: 384x640 1 no_glasses, 4 no_glovess, 2 no_vests, 12.2ms\n",
      "video 2/4 (frame 630/646) f:\\PRACA_MAGISTERSKA\\DATASETS\\PREDYKCJA\\videos\\pieknie.webm: 384x640 1 no_glasses, 4 no_glovess, 2 no_vests, 12.2ms\n",
      "video 2/4 (frame 631/646) f:\\PRACA_MAGISTERSKA\\DATASETS\\PREDYKCJA\\videos\\pieknie.webm: 384x640 1 no_glasses, 4 no_glovess, 2 no_vests, 12.2ms\n",
      "video 2/4 (frame 632/646) f:\\PRACA_MAGISTERSKA\\DATASETS\\PREDYKCJA\\videos\\pieknie.webm: 384x640 1 no_glasses, 4 no_glovess, 2 no_vests, 12.2ms\n",
      "video 2/4 (frame 633/646) f:\\PRACA_MAGISTERSKA\\DATASETS\\PREDYKCJA\\videos\\pieknie.webm: 384x640 1 no_glasses, 4 no_glovess, 2 no_vests, 12.2ms\n",
      "video 2/4 (frame 634/646) f:\\PRACA_MAGISTERSKA\\DATASETS\\PREDYKCJA\\videos\\pieknie.webm: 384x640 1 no_glasses, 4 no_glovess, 2 no_vests, 12.2ms\n",
      "video 2/4 (frame 635/646) f:\\PRACA_MAGISTERSKA\\DATASETS\\PREDYKCJA\\videos\\pieknie.webm: 384x640 2 no_glassess, 4 no_glovess, 2 no_vests, 12.2ms\n",
      "video 2/4 (frame 636/646) f:\\PRACA_MAGISTERSKA\\DATASETS\\PREDYKCJA\\videos\\pieknie.webm: 384x640 1 no_glasses, 4 no_glovess, 2 no_vests, 12.2ms\n",
      "video 2/4 (frame 637/646) f:\\PRACA_MAGISTERSKA\\DATASETS\\PREDYKCJA\\videos\\pieknie.webm: 384x640 1 no_glasses, 4 no_glovess, 2 no_vests, 12.2ms\n",
      "video 2/4 (frame 638/646) f:\\PRACA_MAGISTERSKA\\DATASETS\\PREDYKCJA\\videos\\pieknie.webm: 384x640 1 no_glasses, 4 no_glovess, 2 no_vests, 12.2ms\n",
      "video 2/4 (frame 639/646) f:\\PRACA_MAGISTERSKA\\DATASETS\\PREDYKCJA\\videos\\pieknie.webm: 384x640 1 no_glasses, 4 no_glovess, 2 no_vests, 12.2ms\n",
      "video 2/4 (frame 640/646) f:\\PRACA_MAGISTERSKA\\DATASETS\\PREDYKCJA\\videos\\pieknie.webm: 384x640 1 no_glasses, 4 no_glovess, 2 no_vests, 12.2ms\n",
      "video 2/4 (frame 641/646) f:\\PRACA_MAGISTERSKA\\DATASETS\\PREDYKCJA\\videos\\pieknie.webm: 384x640 1 no_glasses, 4 no_glovess, 2 no_vests, 12.2ms\n",
      "video 2/4 (frame 642/646) f:\\PRACA_MAGISTERSKA\\DATASETS\\PREDYKCJA\\videos\\pieknie.webm: 384x640 2 no_glassess, 4 no_glovess, 2 no_vests, 12.2ms\n",
      "video 2/4 (frame 643/646) f:\\PRACA_MAGISTERSKA\\DATASETS\\PREDYKCJA\\videos\\pieknie.webm: 384x640 2 no_glassess, 4 no_glovess, 2 no_vests, 12.2ms\n",
      "video 2/4 (frame 644/646) f:\\PRACA_MAGISTERSKA\\DATASETS\\PREDYKCJA\\videos\\pieknie.webm: 384x640 2 no_glassess, 4 no_glovess, 2 no_vests, 12.2ms\n",
      "video 2/4 (frame 645/646) f:\\PRACA_MAGISTERSKA\\DATASETS\\PREDYKCJA\\videos\\pieknie.webm: 384x640 1 no_glasses, 4 no_glovess, 2 no_vests, 12.2ms\n",
      "video 3/4 (frame 1/258) f:\\PRACA_MAGISTERSKA\\DATASETS\\PREDYKCJA\\videos\\slabe.webm: 384x640 2 no_glassess, 6 no_glovess, 2 no_helmets, 4 no_vests, 12.2ms\n",
      "video 3/4 (frame 2/258) f:\\PRACA_MAGISTERSKA\\DATASETS\\PREDYKCJA\\videos\\slabe.webm: 384x640 2 no_glassess, 6 no_glovess, 2 no_helmets, 4 no_vests, 12.2ms\n",
      "video 3/4 (frame 3/258) f:\\PRACA_MAGISTERSKA\\DATASETS\\PREDYKCJA\\videos\\slabe.webm: 384x640 2 no_glassess, 6 no_glovess, 2 no_helmets, 4 no_vests, 12.2ms\n",
      "video 3/4 (frame 4/258) f:\\PRACA_MAGISTERSKA\\DATASETS\\PREDYKCJA\\videos\\slabe.webm: 384x640 2 no_glassess, 6 no_glovess, 2 no_helmets, 4 no_vests, 12.2ms\n",
      "video 3/4 (frame 5/258) f:\\PRACA_MAGISTERSKA\\DATASETS\\PREDYKCJA\\videos\\slabe.webm: 384x640 2 no_glassess, 6 no_glovess, 2 no_helmets, 4 no_vests, 12.2ms\n",
      "video 3/4 (frame 6/258) f:\\PRACA_MAGISTERSKA\\DATASETS\\PREDYKCJA\\videos\\slabe.webm: 384x640 2 no_glassess, 6 no_glovess, 2 no_helmets, 4 no_vests, 12.2ms\n",
      "video 3/4 (frame 7/258) f:\\PRACA_MAGISTERSKA\\DATASETS\\PREDYKCJA\\videos\\slabe.webm: 384x640 2 no_glassess, 6 no_glovess, 2 no_helmets, 4 no_vests, 12.2ms\n",
      "video 3/4 (frame 8/258) f:\\PRACA_MAGISTERSKA\\DATASETS\\PREDYKCJA\\videos\\slabe.webm: 384x640 2 no_glassess, 6 no_glovess, 2 no_helmets, 4 no_vests, 12.2ms\n",
      "video 3/4 (frame 9/258) f:\\PRACA_MAGISTERSKA\\DATASETS\\PREDYKCJA\\videos\\slabe.webm: 384x640 3 no_glassess, 6 no_glovess, 2 no_helmets, 4 no_vests, 12.2ms\n",
      "video 3/4 (frame 10/258) f:\\PRACA_MAGISTERSKA\\DATASETS\\PREDYKCJA\\videos\\slabe.webm: 384x640 1 no_glasses, 6 no_glovess, 2 no_helmets, 4 no_vests, 12.2ms\n",
      "video 3/4 (frame 11/258) f:\\PRACA_MAGISTERSKA\\DATASETS\\PREDYKCJA\\videos\\slabe.webm: 384x640 1 no_glasses, 6 no_glovess, 2 no_helmets, 4 no_vests, 12.2ms\n",
      "video 3/4 (frame 12/258) f:\\PRACA_MAGISTERSKA\\DATASETS\\PREDYKCJA\\videos\\slabe.webm: 384x640 2 no_glassess, 6 no_glovess, 2 no_helmets, 4 no_vests, 12.2ms\n",
      "video 3/4 (frame 13/258) f:\\PRACA_MAGISTERSKA\\DATASETS\\PREDYKCJA\\videos\\slabe.webm: 384x640 2 no_glassess, 6 no_glovess, 2 no_helmets, 4 no_vests, 12.2ms\n",
      "video 3/4 (frame 14/258) f:\\PRACA_MAGISTERSKA\\DATASETS\\PREDYKCJA\\videos\\slabe.webm: 384x640 2 no_glassess, 6 no_glovess, 3 no_helmets, 4 no_vests, 12.2ms\n",
      "video 3/4 (frame 15/258) f:\\PRACA_MAGISTERSKA\\DATASETS\\PREDYKCJA\\videos\\slabe.webm: 384x640 2 no_glassess, 6 no_glovess, 2 no_helmets, 4 no_vests, 12.2ms\n",
      "video 3/4 (frame 16/258) f:\\PRACA_MAGISTERSKA\\DATASETS\\PREDYKCJA\\videos\\slabe.webm: 384x640 2 no_glassess, 6 no_glovess, 2 no_helmets, 4 no_vests, 12.2ms\n",
      "video 3/4 (frame 17/258) f:\\PRACA_MAGISTERSKA\\DATASETS\\PREDYKCJA\\videos\\slabe.webm: 384x640 1 no_glasses, 6 no_glovess, 2 no_helmets, 4 no_vests, 12.2ms\n",
      "video 3/4 (frame 18/258) f:\\PRACA_MAGISTERSKA\\DATASETS\\PREDYKCJA\\videos\\slabe.webm: 384x640 2 no_glassess, 6 no_glovess, 3 no_helmets, 4 no_vests, 12.2ms\n",
      "video 3/4 (frame 19/258) f:\\PRACA_MAGISTERSKA\\DATASETS\\PREDYKCJA\\videos\\slabe.webm: 384x640 2 no_glassess, 6 no_glovess, 2 no_helmets, 4 no_vests, 12.2ms\n",
      "video 3/4 (frame 20/258) f:\\PRACA_MAGISTERSKA\\DATASETS\\PREDYKCJA\\videos\\slabe.webm: 384x640 2 no_glassess, 6 no_glovess, 2 no_helmets, 4 no_vests, 12.2ms\n",
      "video 3/4 (frame 21/258) f:\\PRACA_MAGISTERSKA\\DATASETS\\PREDYKCJA\\videos\\slabe.webm: 384x640 1 no_glasses, 6 no_glovess, 3 no_helmets, 4 no_vests, 12.2ms\n",
      "video 3/4 (frame 22/258) f:\\PRACA_MAGISTERSKA\\DATASETS\\PREDYKCJA\\videos\\slabe.webm: 384x640 2 no_glassess, 7 no_glovess, 2 no_helmets, 4 no_vests, 12.2ms\n",
      "video 3/4 (frame 23/258) f:\\PRACA_MAGISTERSKA\\DATASETS\\PREDYKCJA\\videos\\slabe.webm: 384x640 2 no_glassess, 7 no_glovess, 2 no_helmets, 4 no_vests, 12.2ms\n",
      "video 3/4 (frame 24/258) f:\\PRACA_MAGISTERSKA\\DATASETS\\PREDYKCJA\\videos\\slabe.webm: 384x640 2 no_glassess, 7 no_glovess, 2 no_helmets, 4 no_vests, 12.2ms\n",
      "video 3/4 (frame 25/258) f:\\PRACA_MAGISTERSKA\\DATASETS\\PREDYKCJA\\videos\\slabe.webm: 384x640 1 no_glasses, 7 no_glovess, 3 no_helmets, 4 no_vests, 12.2ms\n",
      "video 3/4 (frame 26/258) f:\\PRACA_MAGISTERSKA\\DATASETS\\PREDYKCJA\\videos\\slabe.webm: 384x640 1 no_glasses, 7 no_glovess, 3 no_helmets, 4 no_vests, 12.2ms\n",
      "video 3/4 (frame 27/258) f:\\PRACA_MAGISTERSKA\\DATASETS\\PREDYKCJA\\videos\\slabe.webm: 384x640 1 no_glasses, 7 no_glovess, 3 no_helmets, 3 no_vests, 12.2ms\n",
      "video 3/4 (frame 28/258) f:\\PRACA_MAGISTERSKA\\DATASETS\\PREDYKCJA\\videos\\slabe.webm: 384x640 1 no_glasses, 7 no_glovess, 3 no_helmets, 4 no_vests, 12.2ms\n",
      "video 3/4 (frame 29/258) f:\\PRACA_MAGISTERSKA\\DATASETS\\PREDYKCJA\\videos\\slabe.webm: 384x640 2 no_glassess, 5 no_glovess, 2 no_helmets, 4 no_vests, 12.2ms\n",
      "video 3/4 (frame 30/258) f:\\PRACA_MAGISTERSKA\\DATASETS\\PREDYKCJA\\videos\\slabe.webm: 384x640 3 no_glassess, 5 no_glovess, 3 no_helmets, 4 no_vests, 12.2ms\n",
      "video 3/4 (frame 31/258) f:\\PRACA_MAGISTERSKA\\DATASETS\\PREDYKCJA\\videos\\slabe.webm: 384x640 2 no_glassess, 6 no_glovess, 2 no_helmets, 4 no_vests, 12.2ms\n",
      "video 3/4 (frame 32/258) f:\\PRACA_MAGISTERSKA\\DATASETS\\PREDYKCJA\\videos\\slabe.webm: 384x640 2 no_glassess, 6 no_glovess, 3 no_helmets, 4 no_vests, 12.2ms\n",
      "video 3/4 (frame 33/258) f:\\PRACA_MAGISTERSKA\\DATASETS\\PREDYKCJA\\videos\\slabe.webm: 384x640 2 no_glassess, 5 no_glovess, 2 no_helmets, 4 no_vests, 12.2ms\n",
      "video 3/4 (frame 34/258) f:\\PRACA_MAGISTERSKA\\DATASETS\\PREDYKCJA\\videos\\slabe.webm: 384x640 1 no_glasses, 5 no_glovess, 3 no_helmets, 4 no_vests, 12.2ms\n",
      "video 3/4 (frame 35/258) f:\\PRACA_MAGISTERSKA\\DATASETS\\PREDYKCJA\\videos\\slabe.webm: 384x640 1 no_glasses, 5 no_glovess, 3 no_helmets, 4 no_vests, 12.2ms\n",
      "video 3/4 (frame 36/258) f:\\PRACA_MAGISTERSKA\\DATASETS\\PREDYKCJA\\videos\\slabe.webm: 384x640 1 no_glasses, 5 no_glovess, 2 no_helmets, 4 no_vests, 12.2ms\n",
      "video 3/4 (frame 37/258) f:\\PRACA_MAGISTERSKA\\DATASETS\\PREDYKCJA\\videos\\slabe.webm: 384x640 2 no_glassess, 6 no_glovess, 2 no_helmets, 4 no_vests, 12.2ms\n",
      "video 3/4 (frame 38/258) f:\\PRACA_MAGISTERSKA\\DATASETS\\PREDYKCJA\\videos\\slabe.webm: 384x640 1 no_glasses, 6 no_glovess, 2 no_helmets, 4 no_vests, 12.2ms\n",
      "video 3/4 (frame 39/258) f:\\PRACA_MAGISTERSKA\\DATASETS\\PREDYKCJA\\videos\\slabe.webm: 384x640 1 no_glasses, 6 no_glovess, 3 no_helmets, 4 no_vests, 12.2ms\n",
      "video 3/4 (frame 40/258) f:\\PRACA_MAGISTERSKA\\DATASETS\\PREDYKCJA\\videos\\slabe.webm: 384x640 2 no_glassess, 6 no_glovess, 2 no_helmets, 4 no_vests, 12.2ms\n",
      "video 3/4 (frame 41/258) f:\\PRACA_MAGISTERSKA\\DATASETS\\PREDYKCJA\\videos\\slabe.webm: 384x640 2 no_glassess, 7 no_glovess, 2 no_helmets, 4 no_vests, 12.2ms\n",
      "video 3/4 (frame 42/258) f:\\PRACA_MAGISTERSKA\\DATASETS\\PREDYKCJA\\videos\\slabe.webm: 384x640 2 no_glassess, 6 no_glovess, 3 no_helmets, 4 no_vests, 12.2ms\n",
      "video 3/4 (frame 43/258) f:\\PRACA_MAGISTERSKA\\DATASETS\\PREDYKCJA\\videos\\slabe.webm: 384x640 2 no_glassess, 7 no_glovess, 2 no_helmets, 4 no_vests, 12.2ms\n",
      "video 3/4 (frame 44/258) f:\\PRACA_MAGISTERSKA\\DATASETS\\PREDYKCJA\\videos\\slabe.webm: 384x640 2 no_glassess, 7 no_glovess, 2 no_helmets, 4 no_vests, 12.2ms\n",
      "video 3/4 (frame 45/258) f:\\PRACA_MAGISTERSKA\\DATASETS\\PREDYKCJA\\videos\\slabe.webm: 384x640 2 no_glassess, 7 no_glovess, 2 no_helmets, 4 no_vests, 12.2ms\n",
      "video 3/4 (frame 46/258) f:\\PRACA_MAGISTERSKA\\DATASETS\\PREDYKCJA\\videos\\slabe.webm: 384x640 2 no_glassess, 6 no_glovess, 3 no_helmets, 4 no_vests, 12.2ms\n",
      "video 3/4 (frame 47/258) f:\\PRACA_MAGISTERSKA\\DATASETS\\PREDYKCJA\\videos\\slabe.webm: 384x640 1 no_glasses, 6 no_glovess, 3 no_helmets, 4 no_vests, 12.2ms\n",
      "video 3/4 (frame 48/258) f:\\PRACA_MAGISTERSKA\\DATASETS\\PREDYKCJA\\videos\\slabe.webm: 384x640 1 no_glasses, 6 no_glovess, 3 no_helmets, 4 no_vests, 12.2ms\n",
      "video 3/4 (frame 49/258) f:\\PRACA_MAGISTERSKA\\DATASETS\\PREDYKCJA\\videos\\slabe.webm: 384x640 1 no_glasses, 6 no_glovess, 2 no_helmets, 4 no_vests, 12.2ms\n",
      "video 3/4 (frame 50/258) f:\\PRACA_MAGISTERSKA\\DATASETS\\PREDYKCJA\\videos\\slabe.webm: 384x640 1 no_glasses, 6 no_glovess, 2 no_helmets, 4 no_vests, 12.2ms\n",
      "video 3/4 (frame 51/258) f:\\PRACA_MAGISTERSKA\\DATASETS\\PREDYKCJA\\videos\\slabe.webm: 384x640 1 no_glasses, 6 no_glovess, 2 no_helmets, 4 no_vests, 12.2ms\n",
      "video 3/4 (frame 52/258) f:\\PRACA_MAGISTERSKA\\DATASETS\\PREDYKCJA\\videos\\slabe.webm: 384x640 1 no_glasses, 7 no_glovess, 2 no_helmets, 4 no_vests, 12.2ms\n",
      "video 3/4 (frame 53/258) f:\\PRACA_MAGISTERSKA\\DATASETS\\PREDYKCJA\\videos\\slabe.webm: 384x640 1 no_glasses, 6 no_glovess, 3 no_helmets, 4 no_vests, 12.2ms\n",
      "video 3/4 (frame 54/258) f:\\PRACA_MAGISTERSKA\\DATASETS\\PREDYKCJA\\videos\\slabe.webm: 384x640 1 no_glasses, 7 no_glovess, 2 no_helmets, 4 no_vests, 12.2ms\n",
      "video 3/4 (frame 55/258) f:\\PRACA_MAGISTERSKA\\DATASETS\\PREDYKCJA\\videos\\slabe.webm: 384x640 1 no_glasses, 6 no_glovess, 3 no_helmets, 4 no_vests, 12.2ms\n",
      "video 3/4 (frame 56/258) f:\\PRACA_MAGISTERSKA\\DATASETS\\PREDYKCJA\\videos\\slabe.webm: 384x640 1 no_glasses, 6 no_glovess, 3 no_helmets, 4 no_vests, 12.2ms\n",
      "video 3/4 (frame 57/258) f:\\PRACA_MAGISTERSKA\\DATASETS\\PREDYKCJA\\videos\\slabe.webm: 384x640 1 no_glasses, 6 no_glovess, 3 no_helmets, 4 no_vests, 12.2ms\n",
      "video 3/4 (frame 58/258) f:\\PRACA_MAGISTERSKA\\DATASETS\\PREDYKCJA\\videos\\slabe.webm: 384x640 1 no_glasses, 6 no_glovess, 2 no_helmets, 4 no_vests, 12.2ms\n",
      "video 3/4 (frame 59/258) f:\\PRACA_MAGISTERSKA\\DATASETS\\PREDYKCJA\\videos\\slabe.webm: 384x640 1 no_glasses, 6 no_glovess, 4 no_helmets, 4 no_vests, 12.2ms\n",
      "video 3/4 (frame 60/258) f:\\PRACA_MAGISTERSKA\\DATASETS\\PREDYKCJA\\videos\\slabe.webm: 384x640 1 no_glasses, 6 no_glovess, 4 no_helmets, 4 no_vests, 12.2ms\n",
      "video 3/4 (frame 61/258) f:\\PRACA_MAGISTERSKA\\DATASETS\\PREDYKCJA\\videos\\slabe.webm: 384x640 1 no_glasses, 8 no_glovess, 4 no_helmets, 4 no_vests, 12.2ms\n",
      "video 3/4 (frame 62/258) f:\\PRACA_MAGISTERSKA\\DATASETS\\PREDYKCJA\\videos\\slabe.webm: 384x640 1 no_glasses, 6 no_glovess, 4 no_helmets, 4 no_vests, 12.2ms\n",
      "video 3/4 (frame 63/258) f:\\PRACA_MAGISTERSKA\\DATASETS\\PREDYKCJA\\videos\\slabe.webm: 384x640 1 no_glasses, 6 no_glovess, 4 no_helmets, 4 no_vests, 12.2ms\n",
      "video 3/4 (frame 64/258) f:\\PRACA_MAGISTERSKA\\DATASETS\\PREDYKCJA\\videos\\slabe.webm: 384x640 1 no_glasses, 7 no_glovess, 2 no_helmets, 4 no_vests, 12.2ms\n",
      "video 3/4 (frame 65/258) f:\\PRACA_MAGISTERSKA\\DATASETS\\PREDYKCJA\\videos\\slabe.webm: 384x640 2 no_glassess, 7 no_glovess, 3 no_helmets, 4 no_vests, 12.2ms\n",
      "video 3/4 (frame 66/258) f:\\PRACA_MAGISTERSKA\\DATASETS\\PREDYKCJA\\videos\\slabe.webm: 384x640 1 no_glasses, 6 no_glovess, 2 no_helmets, 4 no_vests, 12.2ms\n",
      "video 3/4 (frame 67/258) f:\\PRACA_MAGISTERSKA\\DATASETS\\PREDYKCJA\\videos\\slabe.webm: 384x640 1 no_glasses, 6 no_glovess, 4 no_helmets, 4 no_vests, 12.2ms\n",
      "video 3/4 (frame 68/258) f:\\PRACA_MAGISTERSKA\\DATASETS\\PREDYKCJA\\videos\\slabe.webm: 384x640 2 no_glassess, 6 no_glovess, 4 no_helmets, 4 no_vests, 12.2ms\n",
      "video 3/4 (frame 69/258) f:\\PRACA_MAGISTERSKA\\DATASETS\\PREDYKCJA\\videos\\slabe.webm: 384x640 2 no_glassess, 6 no_glovess, 3 no_helmets, 4 no_vests, 12.2ms\n",
      "video 3/4 (frame 70/258) f:\\PRACA_MAGISTERSKA\\DATASETS\\PREDYKCJA\\videos\\slabe.webm: 384x640 2 no_glassess, 6 no_glovess, 4 no_helmets, 4 no_vests, 12.2ms\n",
      "video 3/4 (frame 71/258) f:\\PRACA_MAGISTERSKA\\DATASETS\\PREDYKCJA\\videos\\slabe.webm: 384x640 1 no_glasses, 6 no_glovess, 4 no_helmets, 4 no_vests, 12.2ms\n",
      "video 3/4 (frame 72/258) f:\\PRACA_MAGISTERSKA\\DATASETS\\PREDYKCJA\\videos\\slabe.webm: 384x640 1 no_glasses, 6 no_glovess, 4 no_helmets, 4 no_vests, 12.2ms\n",
      "video 3/4 (frame 73/258) f:\\PRACA_MAGISTERSKA\\DATASETS\\PREDYKCJA\\videos\\slabe.webm: 384x640 1 no_glasses, 6 no_glovess, 4 no_helmets, 4 no_vests, 12.2ms\n",
      "video 3/4 (frame 74/258) f:\\PRACA_MAGISTERSKA\\DATASETS\\PREDYKCJA\\videos\\slabe.webm: 384x640 1 no_glasses, 5 no_glovess, 4 no_helmets, 4 no_vests, 12.2ms\n",
      "video 3/4 (frame 75/258) f:\\PRACA_MAGISTERSKA\\DATASETS\\PREDYKCJA\\videos\\slabe.webm: 384x640 1 no_glasses, 5 no_glovess, 4 no_helmets, 4 no_vests, 12.2ms\n",
      "video 3/4 (frame 76/258) f:\\PRACA_MAGISTERSKA\\DATASETS\\PREDYKCJA\\videos\\slabe.webm: 384x640 1 no_glasses, 4 no_glovess, 4 no_helmets, 4 no_vests, 12.2ms\n",
      "video 3/4 (frame 77/258) f:\\PRACA_MAGISTERSKA\\DATASETS\\PREDYKCJA\\videos\\slabe.webm: 384x640 1 no_glasses, 6 no_glovess, 4 no_helmets, 4 no_vests, 12.2ms\n",
      "video 3/4 (frame 78/258) f:\\PRACA_MAGISTERSKA\\DATASETS\\PREDYKCJA\\videos\\slabe.webm: 384x640 1 no_glasses, 6 no_glovess, 2 no_helmets, 4 no_vests, 12.2ms\n",
      "video 3/4 (frame 79/258) f:\\PRACA_MAGISTERSKA\\DATASETS\\PREDYKCJA\\videos\\slabe.webm: 384x640 1 no_glasses, 6 no_glovess, 2 no_helmets, 4 no_vests, 12.2ms\n",
      "video 3/4 (frame 80/258) f:\\PRACA_MAGISTERSKA\\DATASETS\\PREDYKCJA\\videos\\slabe.webm: 384x640 1 no_glasses, 6 no_glovess, 3 no_helmets, 4 no_vests, 12.2ms\n",
      "video 3/4 (frame 81/258) f:\\PRACA_MAGISTERSKA\\DATASETS\\PREDYKCJA\\videos\\slabe.webm: 384x640 1 no_glasses, 6 no_glovess, 3 no_helmets, 4 no_vests, 12.2ms\n",
      "video 3/4 (frame 82/258) f:\\PRACA_MAGISTERSKA\\DATASETS\\PREDYKCJA\\videos\\slabe.webm: 384x640 1 no_glasses, 6 no_glovess, 4 no_helmets, 4 no_vests, 12.2ms\n",
      "video 3/4 (frame 83/258) f:\\PRACA_MAGISTERSKA\\DATASETS\\PREDYKCJA\\videos\\slabe.webm: 384x640 1 no_glasses, 7 no_glovess, 3 no_helmets, 4 no_vests, 12.2ms\n",
      "video 3/4 (frame 84/258) f:\\PRACA_MAGISTERSKA\\DATASETS\\PREDYKCJA\\videos\\slabe.webm: 384x640 1 no_glasses, 7 no_glovess, 3 no_helmets, 4 no_vests, 12.2ms\n",
      "video 3/4 (frame 85/258) f:\\PRACA_MAGISTERSKA\\DATASETS\\PREDYKCJA\\videos\\slabe.webm: 384x640 1 no_glasses, 7 no_glovess, 3 no_helmets, 4 no_vests, 12.2ms\n",
      "video 3/4 (frame 86/258) f:\\PRACA_MAGISTERSKA\\DATASETS\\PREDYKCJA\\videos\\slabe.webm: 384x640 1 no_glasses, 7 no_glovess, 3 no_helmets, 4 no_vests, 12.2ms\n",
      "video 3/4 (frame 87/258) f:\\PRACA_MAGISTERSKA\\DATASETS\\PREDYKCJA\\videos\\slabe.webm: 384x640 1 no_glasses, 7 no_glovess, 3 no_helmets, 4 no_vests, 12.2ms\n",
      "video 3/4 (frame 88/258) f:\\PRACA_MAGISTERSKA\\DATASETS\\PREDYKCJA\\videos\\slabe.webm: 384x640 1 no_glasses, 8 no_glovess, 3 no_helmets, 4 no_vests, 12.2ms\n",
      "video 3/4 (frame 89/258) f:\\PRACA_MAGISTERSKA\\DATASETS\\PREDYKCJA\\videos\\slabe.webm: 384x640 1 no_glasses, 7 no_glovess, 3 no_helmets, 4 no_vests, 12.3ms\n",
      "video 3/4 (frame 90/258) f:\\PRACA_MAGISTERSKA\\DATASETS\\PREDYKCJA\\videos\\slabe.webm: 384x640 1 no_glasses, 7 no_glovess, 3 no_helmets, 4 no_vests, 12.3ms\n",
      "video 3/4 (frame 91/258) f:\\PRACA_MAGISTERSKA\\DATASETS\\PREDYKCJA\\videos\\slabe.webm: 384x640 1 no_glasses, 7 no_glovess, 2 no_helmets, 4 no_vests, 12.3ms\n",
      "video 3/4 (frame 92/258) f:\\PRACA_MAGISTERSKA\\DATASETS\\PREDYKCJA\\videos\\slabe.webm: 384x640 1 no_glasses, 7 no_glovess, 2 no_helmets, 4 no_vests, 12.3ms\n",
      "video 3/4 (frame 93/258) f:\\PRACA_MAGISTERSKA\\DATASETS\\PREDYKCJA\\videos\\slabe.webm: 384x640 1 no_glasses, 6 no_glovess, 2 no_helmets, 4 no_vests, 12.3ms\n",
      "video 3/4 (frame 94/258) f:\\PRACA_MAGISTERSKA\\DATASETS\\PREDYKCJA\\videos\\slabe.webm: 384x640 1 no_glasses, 5 no_glovess, 2 no_helmets, 4 no_vests, 12.3ms\n",
      "video 3/4 (frame 95/258) f:\\PRACA_MAGISTERSKA\\DATASETS\\PREDYKCJA\\videos\\slabe.webm: 384x640 1 no_glasses, 6 no_glovess, 3 no_helmets, 4 no_vests, 12.3ms\n",
      "video 3/4 (frame 96/258) f:\\PRACA_MAGISTERSKA\\DATASETS\\PREDYKCJA\\videos\\slabe.webm: 384x640 2 no_glassess, 6 no_glovess, 4 no_helmets, 4 no_vests, 12.3ms\n",
      "video 3/4 (frame 97/258) f:\\PRACA_MAGISTERSKA\\DATASETS\\PREDYKCJA\\videos\\slabe.webm: 384x640 1 no_glasses, 5 no_glovess, 4 no_helmets, 4 no_vests, 12.3ms\n",
      "video 3/4 (frame 98/258) f:\\PRACA_MAGISTERSKA\\DATASETS\\PREDYKCJA\\videos\\slabe.webm: 384x640 1 no_glasses, 6 no_glovess, 3 no_helmets, 5 no_vests, 12.3ms\n",
      "video 3/4 (frame 99/258) f:\\PRACA_MAGISTERSKA\\DATASETS\\PREDYKCJA\\videos\\slabe.webm: 384x640 1 no_glasses, 6 no_glovess, 3 no_helmets, 4 no_vests, 12.3ms\n",
      "video 3/4 (frame 100/258) f:\\PRACA_MAGISTERSKA\\DATASETS\\PREDYKCJA\\videos\\slabe.webm: 384x640 1 no_glasses, 6 no_glovess, 3 no_helmets, 4 no_vests, 12.3ms\n",
      "video 3/4 (frame 101/258) f:\\PRACA_MAGISTERSKA\\DATASETS\\PREDYKCJA\\videos\\slabe.webm: 384x640 1 no_glasses, 6 no_glovess, 2 no_helmets, 4 no_vests, 12.3ms\n",
      "video 3/4 (frame 102/258) f:\\PRACA_MAGISTERSKA\\DATASETS\\PREDYKCJA\\videos\\slabe.webm: 384x640 1 no_glasses, 7 no_glovess, 2 no_helmets, 4 no_vests, 12.3ms\n",
      "video 3/4 (frame 103/258) f:\\PRACA_MAGISTERSKA\\DATASETS\\PREDYKCJA\\videos\\slabe.webm: 384x640 1 no_glasses, 7 no_glovess, 2 no_helmets, 4 no_vests, 12.3ms\n",
      "video 3/4 (frame 104/258) f:\\PRACA_MAGISTERSKA\\DATASETS\\PREDYKCJA\\videos\\slabe.webm: 384x640 1 no_glasses, 7 no_glovess, 2 no_helmets, 4 no_vests, 12.3ms\n",
      "video 3/4 (frame 105/258) f:\\PRACA_MAGISTERSKA\\DATASETS\\PREDYKCJA\\videos\\slabe.webm: 384x640 1 no_glasses, 6 no_glovess, 2 no_helmets, 4 no_vests, 12.3ms\n",
      "video 3/4 (frame 106/258) f:\\PRACA_MAGISTERSKA\\DATASETS\\PREDYKCJA\\videos\\slabe.webm: 384x640 1 no_glasses, 6 no_glovess, 2 no_helmets, 4 no_vests, 12.3ms\n",
      "video 3/4 (frame 107/258) f:\\PRACA_MAGISTERSKA\\DATASETS\\PREDYKCJA\\videos\\slabe.webm: 384x640 1 no_glasses, 6 no_glovess, 3 no_helmets, 4 no_vests, 12.3ms\n",
      "video 3/4 (frame 108/258) f:\\PRACA_MAGISTERSKA\\DATASETS\\PREDYKCJA\\videos\\slabe.webm: 384x640 1 no_glasses, 6 no_glovess, 4 no_helmets, 4 no_vests, 12.3ms\n",
      "video 3/4 (frame 109/258) f:\\PRACA_MAGISTERSKA\\DATASETS\\PREDYKCJA\\videos\\slabe.webm: 384x640 1 no_glasses, 5 no_glovess, 3 no_helmets, 4 no_vests, 12.3ms\n",
      "video 3/4 (frame 110/258) f:\\PRACA_MAGISTERSKA\\DATASETS\\PREDYKCJA\\videos\\slabe.webm: 384x640 1 no_glasses, 6 no_glovess, 3 no_helmets, 4 no_vests, 12.3ms\n",
      "video 3/4 (frame 111/258) f:\\PRACA_MAGISTERSKA\\DATASETS\\PREDYKCJA\\videos\\slabe.webm: 384x640 1 no_glasses, 7 no_glovess, 3 no_helmets, 4 no_vests, 12.3ms\n",
      "video 3/4 (frame 112/258) f:\\PRACA_MAGISTERSKA\\DATASETS\\PREDYKCJA\\videos\\slabe.webm: 384x640 1 no_glasses, 6 no_glovess, 3 no_helmets, 4 no_vests, 12.3ms\n",
      "video 3/4 (frame 113/258) f:\\PRACA_MAGISTERSKA\\DATASETS\\PREDYKCJA\\videos\\slabe.webm: 384x640 1 no_glasses, 7 no_glovess, 2 no_helmets, 4 no_vests, 12.3ms\n",
      "video 3/4 (frame 114/258) f:\\PRACA_MAGISTERSKA\\DATASETS\\PREDYKCJA\\videos\\slabe.webm: 384x640 1 no_glasses, 7 no_glovess, 3 no_helmets, 4 no_vests, 12.3ms\n",
      "video 3/4 (frame 115/258) f:\\PRACA_MAGISTERSKA\\DATASETS\\PREDYKCJA\\videos\\slabe.webm: 384x640 1 no_glasses, 5 no_glovess, 3 no_helmets, 4 no_vests, 12.3ms\n",
      "video 3/4 (frame 116/258) f:\\PRACA_MAGISTERSKA\\DATASETS\\PREDYKCJA\\videos\\slabe.webm: 384x640 2 no_glassess, 5 no_glovess, 3 no_helmets, 4 no_vests, 12.3ms\n",
      "video 3/4 (frame 117/258) f:\\PRACA_MAGISTERSKA\\DATASETS\\PREDYKCJA\\videos\\slabe.webm: 384x640 1 no_glasses, 7 no_glovess, 3 no_helmets, 4 no_vests, 12.3ms\n",
      "video 3/4 (frame 118/258) f:\\PRACA_MAGISTERSKA\\DATASETS\\PREDYKCJA\\videos\\slabe.webm: 384x640 1 no_glasses, 6 no_glovess, 3 no_helmets, 4 no_vests, 12.3ms\n",
      "video 3/4 (frame 119/258) f:\\PRACA_MAGISTERSKA\\DATASETS\\PREDYKCJA\\videos\\slabe.webm: 384x640 1 no_glasses, 6 no_glovess, 2 no_helmets, 4 no_vests, 12.3ms\n",
      "video 3/4 (frame 120/258) f:\\PRACA_MAGISTERSKA\\DATASETS\\PREDYKCJA\\videos\\slabe.webm: 384x640 1 no_glasses, 6 no_glovess, 2 no_helmets, 4 no_vests, 12.3ms\n",
      "video 3/4 (frame 121/258) f:\\PRACA_MAGISTERSKA\\DATASETS\\PREDYKCJA\\videos\\slabe.webm: 384x640 1 no_glasses, 6 no_glovess, 2 no_helmets, 4 no_vests, 12.3ms\n",
      "video 3/4 (frame 122/258) f:\\PRACA_MAGISTERSKA\\DATASETS\\PREDYKCJA\\videos\\slabe.webm: 384x640 1 no_glasses, 6 no_glovess, 2 no_helmets, 4 no_vests, 12.3ms\n",
      "video 3/4 (frame 123/258) f:\\PRACA_MAGISTERSKA\\DATASETS\\PREDYKCJA\\videos\\slabe.webm: 384x640 1 no_glasses, 6 no_glovess, 2 no_helmets, 4 no_vests, 12.3ms\n",
      "video 3/4 (frame 124/258) f:\\PRACA_MAGISTERSKA\\DATASETS\\PREDYKCJA\\videos\\slabe.webm: 384x640 1 no_glasses, 6 no_glovess, 2 no_helmets, 4 no_vests, 12.3ms\n",
      "video 3/4 (frame 125/258) f:\\PRACA_MAGISTERSKA\\DATASETS\\PREDYKCJA\\videos\\slabe.webm: 384x640 1 no_glasses, 6 no_glovess, 2 no_helmets, 4 no_vests, 12.3ms\n",
      "video 3/4 (frame 126/258) f:\\PRACA_MAGISTERSKA\\DATASETS\\PREDYKCJA\\videos\\slabe.webm: 384x640 1 no_glasses, 6 no_glovess, 2 no_helmets, 4 no_vests, 12.3ms\n",
      "video 3/4 (frame 127/258) f:\\PRACA_MAGISTERSKA\\DATASETS\\PREDYKCJA\\videos\\slabe.webm: 384x640 1 no_glasses, 6 no_glovess, 4 no_helmets, 4 no_vests, 12.3ms\n",
      "video 3/4 (frame 128/258) f:\\PRACA_MAGISTERSKA\\DATASETS\\PREDYKCJA\\videos\\slabe.webm: 384x640 1 no_glasses, 6 no_glovess, 5 no_helmets, 4 no_vests, 12.3ms\n",
      "video 3/4 (frame 129/258) f:\\PRACA_MAGISTERSKA\\DATASETS\\PREDYKCJA\\videos\\slabe.webm: 384x640 1 no_glasses, 6 no_glovess, 4 no_helmets, 4 no_vests, 12.3ms\n",
      "video 3/4 (frame 130/258) f:\\PRACA_MAGISTERSKA\\DATASETS\\PREDYKCJA\\videos\\slabe.webm: 384x640 1 no_glasses, 6 no_glovess, 4 no_helmets, 4 no_vests, 12.3ms\n",
      "video 3/4 (frame 131/258) f:\\PRACA_MAGISTERSKA\\DATASETS\\PREDYKCJA\\videos\\slabe.webm: 384x640 1 no_glasses, 6 no_glovess, 4 no_helmets, 4 no_vests, 12.3ms\n",
      "video 3/4 (frame 132/258) f:\\PRACA_MAGISTERSKA\\DATASETS\\PREDYKCJA\\videos\\slabe.webm: 384x640 1 no_glasses, 6 no_glovess, 4 no_helmets, 4 no_vests, 12.3ms\n",
      "video 3/4 (frame 133/258) f:\\PRACA_MAGISTERSKA\\DATASETS\\PREDYKCJA\\videos\\slabe.webm: 384x640 1 no_glasses, 6 no_glovess, 4 no_helmets, 4 no_vests, 12.3ms\n",
      "video 3/4 (frame 134/258) f:\\PRACA_MAGISTERSKA\\DATASETS\\PREDYKCJA\\videos\\slabe.webm: 384x640 1 no_glasses, 6 no_glovess, 4 no_helmets, 4 no_vests, 12.3ms\n",
      "video 3/4 (frame 135/258) f:\\PRACA_MAGISTERSKA\\DATASETS\\PREDYKCJA\\videos\\slabe.webm: 384x640 1 no_glasses, 6 no_glovess, 4 no_helmets, 4 no_vests, 12.3ms\n",
      "video 3/4 (frame 136/258) f:\\PRACA_MAGISTERSKA\\DATASETS\\PREDYKCJA\\videos\\slabe.webm: 384x640 1 no_glasses, 6 no_glovess, 4 no_helmets, 4 no_vests, 12.3ms\n",
      "video 3/4 (frame 137/258) f:\\PRACA_MAGISTERSKA\\DATASETS\\PREDYKCJA\\videos\\slabe.webm: 384x640 1 no_glasses, 6 no_glovess, 4 no_helmets, 4 no_vests, 12.3ms\n",
      "video 3/4 (frame 138/258) f:\\PRACA_MAGISTERSKA\\DATASETS\\PREDYKCJA\\videos\\slabe.webm: 384x640 1 no_glasses, 6 no_glovess, 4 no_helmets, 4 no_vests, 12.3ms\n",
      "video 3/4 (frame 139/258) f:\\PRACA_MAGISTERSKA\\DATASETS\\PREDYKCJA\\videos\\slabe.webm: 384x640 6 no_glovess, 4 no_helmets, 4 no_vests, 12.3ms\n",
      "video 3/4 (frame 140/258) f:\\PRACA_MAGISTERSKA\\DATASETS\\PREDYKCJA\\videos\\slabe.webm: 384x640 6 no_glovess, 4 no_helmets, 4 no_vests, 12.3ms\n",
      "video 3/4 (frame 141/258) f:\\PRACA_MAGISTERSKA\\DATASETS\\PREDYKCJA\\videos\\slabe.webm: 384x640 1 no_glasses, 6 no_glovess, 4 no_helmets, 4 no_vests, 12.3ms\n",
      "video 3/4 (frame 142/258) f:\\PRACA_MAGISTERSKA\\DATASETS\\PREDYKCJA\\videos\\slabe.webm: 384x640 1 no_glasses, 6 no_glovess, 4 no_helmets, 4 no_vests, 12.3ms\n",
      "video 3/4 (frame 143/258) f:\\PRACA_MAGISTERSKA\\DATASETS\\PREDYKCJA\\videos\\slabe.webm: 384x640 1 no_glasses, 6 no_glovess, 4 no_helmets, 4 no_vests, 12.3ms\n",
      "video 3/4 (frame 144/258) f:\\PRACA_MAGISTERSKA\\DATASETS\\PREDYKCJA\\videos\\slabe.webm: 384x640 1 no_glasses, 6 no_glovess, 4 no_helmets, 4 no_vests, 12.3ms\n",
      "video 3/4 (frame 145/258) f:\\PRACA_MAGISTERSKA\\DATASETS\\PREDYKCJA\\videos\\slabe.webm: 384x640 1 no_glasses, 6 no_glovess, 4 no_helmets, 4 no_vests, 12.3ms\n",
      "video 3/4 (frame 146/258) f:\\PRACA_MAGISTERSKA\\DATASETS\\PREDYKCJA\\videos\\slabe.webm: 384x640 1 no_glasses, 7 no_glovess, 4 no_helmets, 4 no_vests, 12.3ms\n",
      "video 3/4 (frame 147/258) f:\\PRACA_MAGISTERSKA\\DATASETS\\PREDYKCJA\\videos\\slabe.webm: 384x640 1 no_glasses, 6 no_glovess, 4 no_helmets, 4 no_vests, 12.3ms\n",
      "video 3/4 (frame 148/258) f:\\PRACA_MAGISTERSKA\\DATASETS\\PREDYKCJA\\videos\\slabe.webm: 384x640 1 no_glasses, 6 no_glovess, 5 no_helmets, 4 no_vests, 12.3ms\n",
      "video 3/4 (frame 149/258) f:\\PRACA_MAGISTERSKA\\DATASETS\\PREDYKCJA\\videos\\slabe.webm: 384x640 1 no_glasses, 5 no_glovess, 4 no_helmets, 4 no_vests, 12.3ms\n",
      "video 3/4 (frame 150/258) f:\\PRACA_MAGISTERSKA\\DATASETS\\PREDYKCJA\\videos\\slabe.webm: 384x640 1 no_glasses, 6 no_glovess, 4 no_helmets, 4 no_vests, 12.3ms\n",
      "video 3/4 (frame 151/258) f:\\PRACA_MAGISTERSKA\\DATASETS\\PREDYKCJA\\videos\\slabe.webm: 384x640 1 no_glasses, 6 no_glovess, 4 no_helmets, 3 no_vests, 12.3ms\n",
      "video 3/4 (frame 152/258) f:\\PRACA_MAGISTERSKA\\DATASETS\\PREDYKCJA\\videos\\slabe.webm: 384x640 1 no_glasses, 6 no_glovess, 4 no_helmets, 4 no_vests, 12.3ms\n",
      "video 3/4 (frame 153/258) f:\\PRACA_MAGISTERSKA\\DATASETS\\PREDYKCJA\\videos\\slabe.webm: 384x640 1 no_glasses, 6 no_glovess, 4 no_helmets, 4 no_vests, 12.2ms\n",
      "video 3/4 (frame 154/258) f:\\PRACA_MAGISTERSKA\\DATASETS\\PREDYKCJA\\videos\\slabe.webm: 384x640 1 no_glasses, 6 no_glovess, 4 no_helmets, 4 no_vests, 12.2ms\n",
      "video 3/4 (frame 155/258) f:\\PRACA_MAGISTERSKA\\DATASETS\\PREDYKCJA\\videos\\slabe.webm: 384x640 1 no_glasses, 6 no_glovess, 3 no_helmets, 4 no_vests, 12.2ms\n",
      "video 3/4 (frame 156/258) f:\\PRACA_MAGISTERSKA\\DATASETS\\PREDYKCJA\\videos\\slabe.webm: 384x640 6 no_glovess, 3 no_helmets, 4 no_vests, 12.2ms\n",
      "video 3/4 (frame 157/258) f:\\PRACA_MAGISTERSKA\\DATASETS\\PREDYKCJA\\videos\\slabe.webm: 384x640 6 no_glovess, 3 no_helmets, 4 no_vests, 12.2ms\n",
      "video 3/4 (frame 158/258) f:\\PRACA_MAGISTERSKA\\DATASETS\\PREDYKCJA\\videos\\slabe.webm: 384x640 6 no_glovess, 3 no_helmets, 4 no_vests, 12.2ms\n",
      "video 3/4 (frame 159/258) f:\\PRACA_MAGISTERSKA\\DATASETS\\PREDYKCJA\\videos\\slabe.webm: 384x640 6 no_glovess, 3 no_helmets, 4 no_vests, 12.2ms\n",
      "video 3/4 (frame 160/258) f:\\PRACA_MAGISTERSKA\\DATASETS\\PREDYKCJA\\videos\\slabe.webm: 384x640 6 no_glovess, 3 no_helmets, 4 no_vests, 12.2ms\n",
      "video 3/4 (frame 161/258) f:\\PRACA_MAGISTERSKA\\DATASETS\\PREDYKCJA\\videos\\slabe.webm: 384x640 6 no_glovess, 4 no_helmets, 4 no_vests, 12.2ms\n",
      "video 3/4 (frame 162/258) f:\\PRACA_MAGISTERSKA\\DATASETS\\PREDYKCJA\\videos\\slabe.webm: 384x640 1 no_glasses, 5 no_glovess, 3 no_helmets, 4 no_vests, 12.2ms\n",
      "video 3/4 (frame 163/258) f:\\PRACA_MAGISTERSKA\\DATASETS\\PREDYKCJA\\videos\\slabe.webm: 384x640 1 no_glasses, 5 no_glovess, 4 no_helmets, 4 no_vests, 12.2ms\n",
      "video 3/4 (frame 164/258) f:\\PRACA_MAGISTERSKA\\DATASETS\\PREDYKCJA\\videos\\slabe.webm: 384x640 1 no_glasses, 5 no_glovess, 4 no_helmets, 4 no_vests, 12.2ms\n",
      "video 3/4 (frame 165/258) f:\\PRACA_MAGISTERSKA\\DATASETS\\PREDYKCJA\\videos\\slabe.webm: 384x640 1 no_glasses, 5 no_glovess, 4 no_helmets, 4 no_vests, 12.2ms\n",
      "video 3/4 (frame 166/258) f:\\PRACA_MAGISTERSKA\\DATASETS\\PREDYKCJA\\videos\\slabe.webm: 384x640 1 no_glasses, 6 no_glovess, 4 no_helmets, 4 no_vests, 12.2ms\n",
      "video 3/4 (frame 167/258) f:\\PRACA_MAGISTERSKA\\DATASETS\\PREDYKCJA\\videos\\slabe.webm: 384x640 1 no_glasses, 6 no_glovess, 2 no_helmets, 4 no_vests, 12.2ms\n",
      "video 3/4 (frame 168/258) f:\\PRACA_MAGISTERSKA\\DATASETS\\PREDYKCJA\\videos\\slabe.webm: 384x640 1 no_glasses, 6 no_glovess, 2 no_helmets, 4 no_vests, 12.2ms\n",
      "video 3/4 (frame 169/258) f:\\PRACA_MAGISTERSKA\\DATASETS\\PREDYKCJA\\videos\\slabe.webm: 384x640 1 no_glasses, 6 no_glovess, 3 no_helmets, 4 no_vests, 12.2ms\n",
      "video 3/4 (frame 170/258) f:\\PRACA_MAGISTERSKA\\DATASETS\\PREDYKCJA\\videos\\slabe.webm: 384x640 1 no_glasses, 5 no_glovess, 2 no_helmets, 4 no_vests, 12.2ms\n",
      "video 3/4 (frame 171/258) f:\\PRACA_MAGISTERSKA\\DATASETS\\PREDYKCJA\\videos\\slabe.webm: 384x640 1 no_glasses, 6 no_glovess, 2 no_helmets, 4 no_vests, 12.2ms\n",
      "video 3/4 (frame 172/258) f:\\PRACA_MAGISTERSKA\\DATASETS\\PREDYKCJA\\videos\\slabe.webm: 384x640 1 no_glasses, 5 no_glovess, 2 no_helmets, 4 no_vests, 12.2ms\n",
      "video 3/4 (frame 173/258) f:\\PRACA_MAGISTERSKA\\DATASETS\\PREDYKCJA\\videos\\slabe.webm: 384x640 1 no_glasses, 5 no_glovess, 2 no_helmets, 4 no_vests, 12.2ms\n",
      "video 3/4 (frame 174/258) f:\\PRACA_MAGISTERSKA\\DATASETS\\PREDYKCJA\\videos\\slabe.webm: 384x640 1 no_glasses, 6 no_glovess, 2 no_helmets, 4 no_vests, 12.2ms\n",
      "video 3/4 (frame 175/258) f:\\PRACA_MAGISTERSKA\\DATASETS\\PREDYKCJA\\videos\\slabe.webm: 384x640 1 no_glasses, 6 no_glovess, 2 no_helmets, 4 no_vests, 12.2ms\n",
      "video 3/4 (frame 176/258) f:\\PRACA_MAGISTERSKA\\DATASETS\\PREDYKCJA\\videos\\slabe.webm: 384x640 1 no_glasses, 4 no_glovess, 3 no_helmets, 4 no_vests, 12.2ms\n",
      "video 3/4 (frame 177/258) f:\\PRACA_MAGISTERSKA\\DATASETS\\PREDYKCJA\\videos\\slabe.webm: 384x640 1 no_glasses, 5 no_glovess, 2 no_helmets, 4 no_vests, 12.2ms\n",
      "video 3/4 (frame 178/258) f:\\PRACA_MAGISTERSKA\\DATASETS\\PREDYKCJA\\videos\\slabe.webm: 384x640 1 no_glasses, 5 no_glovess, 2 no_helmets, 4 no_vests, 12.2ms\n",
      "video 3/4 (frame 179/258) f:\\PRACA_MAGISTERSKA\\DATASETS\\PREDYKCJA\\videos\\slabe.webm: 384x640 1 no_glasses, 5 no_glovess, 3 no_helmets, 4 no_vests, 12.2ms\n",
      "video 3/4 (frame 180/258) f:\\PRACA_MAGISTERSKA\\DATASETS\\PREDYKCJA\\videos\\slabe.webm: 384x640 2 no_glassess, 6 no_glovess, 4 no_helmets, 4 no_vests, 12.2ms\n",
      "video 3/4 (frame 181/258) f:\\PRACA_MAGISTERSKA\\DATASETS\\PREDYKCJA\\videos\\slabe.webm: 384x640 2 no_glassess, 6 no_glovess, 3 no_helmets, 4 no_vests, 12.2ms\n",
      "video 3/4 (frame 182/258) f:\\PRACA_MAGISTERSKA\\DATASETS\\PREDYKCJA\\videos\\slabe.webm: 384x640 1 no_glasses, 6 no_glovess, 3 no_helmets, 4 no_vests, 12.2ms\n",
      "video 3/4 (frame 183/258) f:\\PRACA_MAGISTERSKA\\DATASETS\\PREDYKCJA\\videos\\slabe.webm: 384x640 1 no_glasses, 6 no_glovess, 3 no_helmets, 4 no_vests, 12.2ms\n",
      "video 3/4 (frame 184/258) f:\\PRACA_MAGISTERSKA\\DATASETS\\PREDYKCJA\\videos\\slabe.webm: 384x640 1 no_glasses, 6 no_glovess, 3 no_helmets, 4 no_vests, 12.2ms\n",
      "video 3/4 (frame 185/258) f:\\PRACA_MAGISTERSKA\\DATASETS\\PREDYKCJA\\videos\\slabe.webm: 384x640 1 no_glasses, 6 no_glovess, 3 no_helmets, 4 no_vests, 12.2ms\n",
      "video 3/4 (frame 186/258) f:\\PRACA_MAGISTERSKA\\DATASETS\\PREDYKCJA\\videos\\slabe.webm: 384x640 1 no_glasses, 5 no_glovess, 4 no_helmets, 4 no_vests, 12.2ms\n",
      "video 3/4 (frame 187/258) f:\\PRACA_MAGISTERSKA\\DATASETS\\PREDYKCJA\\videos\\slabe.webm: 384x640 2 no_glassess, 4 no_glovess, 4 no_helmets, 4 no_vests, 12.2ms\n",
      "video 3/4 (frame 188/258) f:\\PRACA_MAGISTERSKA\\DATASETS\\PREDYKCJA\\videos\\slabe.webm: 384x640 2 no_glassess, 5 no_glovess, 4 no_helmets, 4 no_vests, 12.2ms\n",
      "video 3/4 (frame 189/258) f:\\PRACA_MAGISTERSKA\\DATASETS\\PREDYKCJA\\videos\\slabe.webm: 384x640 1 no_glasses, 5 no_glovess, 4 no_helmets, 4 no_vests, 12.2ms\n",
      "video 3/4 (frame 190/258) f:\\PRACA_MAGISTERSKA\\DATASETS\\PREDYKCJA\\videos\\slabe.webm: 384x640 1 no_glasses, 6 no_glovess, 4 no_helmets, 4 no_vests, 12.2ms\n",
      "video 3/4 (frame 191/258) f:\\PRACA_MAGISTERSKA\\DATASETS\\PREDYKCJA\\videos\\slabe.webm: 384x640 1 no_glasses, 5 no_glovess, 4 no_helmets, 4 no_vests, 12.2ms\n",
      "video 3/4 (frame 192/258) f:\\PRACA_MAGISTERSKA\\DATASETS\\PREDYKCJA\\videos\\slabe.webm: 384x640 1 no_glasses, 5 no_glovess, 3 no_helmets, 4 no_vests, 12.2ms\n",
      "video 3/4 (frame 193/258) f:\\PRACA_MAGISTERSKA\\DATASETS\\PREDYKCJA\\videos\\slabe.webm: 384x640 1 no_glasses, 6 no_glovess, 2 no_helmets, 4 no_vests, 12.2ms\n",
      "video 3/4 (frame 194/258) f:\\PRACA_MAGISTERSKA\\DATASETS\\PREDYKCJA\\videos\\slabe.webm: 384x640 1 no_glasses, 6 no_glovess, 3 no_helmets, 4 no_vests, 12.2ms\n",
      "video 3/4 (frame 195/258) f:\\PRACA_MAGISTERSKA\\DATASETS\\PREDYKCJA\\videos\\slabe.webm: 384x640 2 no_glassess, 5 no_glovess, 3 no_helmets, 4 no_vests, 12.2ms\n",
      "video 3/4 (frame 196/258) f:\\PRACA_MAGISTERSKA\\DATASETS\\PREDYKCJA\\videos\\slabe.webm: 384x640 1 no_glasses, 5 no_glovess, 3 no_helmets, 4 no_vests, 12.2ms\n",
      "video 3/4 (frame 197/258) f:\\PRACA_MAGISTERSKA\\DATASETS\\PREDYKCJA\\videos\\slabe.webm: 384x640 1 no_glasses, 5 no_glovess, 3 no_helmets, 4 no_vests, 12.2ms\n",
      "video 3/4 (frame 198/258) f:\\PRACA_MAGISTERSKA\\DATASETS\\PREDYKCJA\\videos\\slabe.webm: 384x640 1 no_glasses, 5 no_glovess, 3 no_helmets, 4 no_vests, 12.2ms\n",
      "video 3/4 (frame 199/258) f:\\PRACA_MAGISTERSKA\\DATASETS\\PREDYKCJA\\videos\\slabe.webm: 384x640 1 no_glasses, 5 no_glovess, 3 no_helmets, 4 no_vests, 12.2ms\n",
      "video 3/4 (frame 200/258) f:\\PRACA_MAGISTERSKA\\DATASETS\\PREDYKCJA\\videos\\slabe.webm: 384x640 2 no_glassess, 5 no_glovess, 3 no_helmets, 4 no_vests, 12.2ms\n",
      "video 3/4 (frame 201/258) f:\\PRACA_MAGISTERSKA\\DATASETS\\PREDYKCJA\\videos\\slabe.webm: 384x640 2 no_glassess, 5 no_glovess, 4 no_helmets, 4 no_vests, 12.2ms\n",
      "video 3/4 (frame 202/258) f:\\PRACA_MAGISTERSKA\\DATASETS\\PREDYKCJA\\videos\\slabe.webm: 384x640 2 no_glassess, 4 no_glovess, 3 no_helmets, 4 no_vests, 12.2ms\n",
      "video 3/4 (frame 203/258) f:\\PRACA_MAGISTERSKA\\DATASETS\\PREDYKCJA\\videos\\slabe.webm: 384x640 2 no_glassess, 3 no_glovess, 4 no_helmets, 4 no_vests, 12.2ms\n",
      "video 3/4 (frame 204/258) f:\\PRACA_MAGISTERSKA\\DATASETS\\PREDYKCJA\\videos\\slabe.webm: 384x640 2 no_glassess, 3 no_glovess, 4 no_helmets, 4 no_vests, 12.2ms\n",
      "video 3/4 (frame 205/258) f:\\PRACA_MAGISTERSKA\\DATASETS\\PREDYKCJA\\videos\\slabe.webm: 384x640 1 no_glasses, 3 no_glovess, 4 no_helmets, 4 no_vests, 12.2ms\n",
      "video 3/4 (frame 206/258) f:\\PRACA_MAGISTERSKA\\DATASETS\\PREDYKCJA\\videos\\slabe.webm: 384x640 1 no_glasses, 3 no_glovess, 4 no_helmets, 4 no_vests, 12.2ms\n",
      "video 3/4 (frame 207/258) f:\\PRACA_MAGISTERSKA\\DATASETS\\PREDYKCJA\\videos\\slabe.webm: 384x640 1 no_glasses, 4 no_glovess, 4 no_helmets, 4 no_vests, 12.2ms\n",
      "video 3/4 (frame 208/258) f:\\PRACA_MAGISTERSKA\\DATASETS\\PREDYKCJA\\videos\\slabe.webm: 384x640 1 no_glasses, 4 no_glovess, 3 no_helmets, 4 no_vests, 12.2ms\n",
      "video 3/4 (frame 209/258) f:\\PRACA_MAGISTERSKA\\DATASETS\\PREDYKCJA\\videos\\slabe.webm: 384x640 2 no_glassess, 4 no_glovess, 4 no_helmets, 4 no_vests, 12.2ms\n",
      "video 3/4 (frame 210/258) f:\\PRACA_MAGISTERSKA\\DATASETS\\PREDYKCJA\\videos\\slabe.webm: 384x640 1 no_glasses, 3 no_glovess, 4 no_helmets, 4 no_vests, 12.2ms\n",
      "video 3/4 (frame 211/258) f:\\PRACA_MAGISTERSKA\\DATASETS\\PREDYKCJA\\videos\\slabe.webm: 384x640 4 no_glovess, 4 no_helmets, 4 no_vests, 12.2ms\n",
      "video 3/4 (frame 212/258) f:\\PRACA_MAGISTERSKA\\DATASETS\\PREDYKCJA\\videos\\slabe.webm: 384x640 4 no_glovess, 4 no_helmets, 4 no_vests, 12.2ms\n",
      "video 3/4 (frame 213/258) f:\\PRACA_MAGISTERSKA\\DATASETS\\PREDYKCJA\\videos\\slabe.webm: 384x640 1 no_glasses, 4 no_glovess, 4 no_helmets, 4 no_vests, 12.2ms\n",
      "video 3/4 (frame 214/258) f:\\PRACA_MAGISTERSKA\\DATASETS\\PREDYKCJA\\videos\\slabe.webm: 384x640 1 no_glasses, 4 no_glovess, 4 no_helmets, 4 no_vests, 12.2ms\n",
      "video 3/4 (frame 215/258) f:\\PRACA_MAGISTERSKA\\DATASETS\\PREDYKCJA\\videos\\slabe.webm: 384x640 1 no_glasses, 3 no_glovess, 4 no_helmets, 4 no_vests, 12.2ms\n",
      "video 3/4 (frame 216/258) f:\\PRACA_MAGISTERSKA\\DATASETS\\PREDYKCJA\\videos\\slabe.webm: 384x640 2 no_glassess, 3 no_glovess, 4 no_helmets, 4 no_vests, 12.2ms\n",
      "video 3/4 (frame 217/258) f:\\PRACA_MAGISTERSKA\\DATASETS\\PREDYKCJA\\videos\\slabe.webm: 640x640 1 no_glasses, 4 no_glovess, 4 no_helmets, 4 no_vests, 20.4ms\n",
      "video 3/4 (frame 218/258) f:\\PRACA_MAGISTERSKA\\DATASETS\\PREDYKCJA\\videos\\slabe.webm: 640x640 4 no_glovess, 4 no_helmets, 4 no_vests, 20.4ms\n",
      "video 3/4 (frame 219/258) f:\\PRACA_MAGISTERSKA\\DATASETS\\PREDYKCJA\\videos\\slabe.webm: 640x640 1 no_glasses, 4 no_glovess, 4 no_helmets, 4 no_vests, 20.4ms\n",
      "video 3/4 (frame 220/258) f:\\PRACA_MAGISTERSKA\\DATASETS\\PREDYKCJA\\videos\\slabe.webm: 640x640 5 no_glovess, 4 no_helmets, 4 no_vests, 20.4ms\n",
      "video 3/4 (frame 221/258) f:\\PRACA_MAGISTERSKA\\DATASETS\\PREDYKCJA\\videos\\slabe.webm: 640x640 2 no_glassess, 5 no_glovess, 4 no_helmets, 4 no_vests, 20.4ms\n",
      "video 3/4 (frame 222/258) f:\\PRACA_MAGISTERSKA\\DATASETS\\PREDYKCJA\\videos\\slabe.webm: 640x640 2 no_glassess, 3 no_glovess, 4 no_helmets, 4 no_vests, 20.4ms\n",
      "video 3/4 (frame 223/258) f:\\PRACA_MAGISTERSKA\\DATASETS\\PREDYKCJA\\videos\\slabe.webm: 640x640 6 no_glovess, 4 no_helmets, 4 no_vests, 20.4ms\n",
      "video 3/4 (frame 224/258) f:\\PRACA_MAGISTERSKA\\DATASETS\\PREDYKCJA\\videos\\slabe.webm: 640x640 5 no_glovess, 4 no_helmets, 4 no_vests, 20.4ms\n",
      "video 3/4 (frame 225/258) f:\\PRACA_MAGISTERSKA\\DATASETS\\PREDYKCJA\\videos\\slabe.webm: 640x640 1 no_glasses, 4 no_glovess, 4 no_helmets, 4 no_vests, 20.4ms\n",
      "video 3/4 (frame 226/258) f:\\PRACA_MAGISTERSKA\\DATASETS\\PREDYKCJA\\videos\\slabe.webm: 640x640 1 no_glasses, 4 no_glovess, 4 no_helmets, 4 no_vests, 20.4ms\n",
      "video 3/4 (frame 227/258) f:\\PRACA_MAGISTERSKA\\DATASETS\\PREDYKCJA\\videos\\slabe.webm: 640x640 1 no_glasses, 4 no_glovess, 4 no_helmets, 4 no_vests, 20.4ms\n",
      "video 3/4 (frame 228/258) f:\\PRACA_MAGISTERSKA\\DATASETS\\PREDYKCJA\\videos\\slabe.webm: 640x640 1 no_glasses, 4 no_glovess, 4 no_helmets, 4 no_vests, 20.4ms\n",
      "video 3/4 (frame 229/258) f:\\PRACA_MAGISTERSKA\\DATASETS\\PREDYKCJA\\videos\\slabe.webm: 640x640 1 no_glasses, 3 no_glovess, 4 no_helmets, 4 no_vests, 20.4ms\n",
      "video 3/4 (frame 230/258) f:\\PRACA_MAGISTERSKA\\DATASETS\\PREDYKCJA\\videos\\slabe.webm: 640x640 1 no_glasses, 3 no_glovess, 4 no_helmets, 4 no_vests, 20.4ms\n",
      "video 3/4 (frame 231/258) f:\\PRACA_MAGISTERSKA\\DATASETS\\PREDYKCJA\\videos\\slabe.webm: 640x640 1 no_glasses, 5 no_glovess, 4 no_helmets, 4 no_vests, 20.4ms\n",
      "video 3/4 (frame 232/258) f:\\PRACA_MAGISTERSKA\\DATASETS\\PREDYKCJA\\videos\\slabe.webm: 640x640 1 no_glasses, 5 no_glovess, 4 no_helmets, 4 no_vests, 20.4ms\n",
      "video 3/4 (frame 233/258) f:\\PRACA_MAGISTERSKA\\DATASETS\\PREDYKCJA\\videos\\slabe.webm: 640x640 1 no_glasses, 4 no_glovess, 4 no_helmets, 4 no_vests, 20.4ms\n",
      "video 3/4 (frame 234/258) f:\\PRACA_MAGISTERSKA\\DATASETS\\PREDYKCJA\\videos\\slabe.webm: 640x640 2 no_glassess, 5 no_glovess, 4 no_helmets, 4 no_vests, 20.4ms\n",
      "video 3/4 (frame 235/258) f:\\PRACA_MAGISTERSKA\\DATASETS\\PREDYKCJA\\videos\\slabe.webm: 640x640 1 no_glasses, 5 no_glovess, 4 no_helmets, 4 no_vests, 20.4ms\n",
      "video 3/4 (frame 236/258) f:\\PRACA_MAGISTERSKA\\DATASETS\\PREDYKCJA\\videos\\slabe.webm: 640x640 1 no_glasses, 5 no_glovess, 4 no_helmets, 4 no_vests, 20.4ms\n",
      "video 3/4 (frame 237/258) f:\\PRACA_MAGISTERSKA\\DATASETS\\PREDYKCJA\\videos\\slabe.webm: 640x640 2 no_glassess, 5 no_glovess, 4 no_helmets, 4 no_vests, 20.4ms\n",
      "video 3/4 (frame 238/258) f:\\PRACA_MAGISTERSKA\\DATASETS\\PREDYKCJA\\videos\\slabe.webm: 640x640 3 no_glassess, 5 no_glovess, 4 no_helmets, 4 no_vests, 20.4ms\n",
      "video 3/4 (frame 239/258) f:\\PRACA_MAGISTERSKA\\DATASETS\\PREDYKCJA\\videos\\slabe.webm: 640x640 2 no_glassess, 5 no_glovess, 4 no_helmets, 4 no_vests, 20.4ms\n",
      "video 3/4 (frame 240/258) f:\\PRACA_MAGISTERSKA\\DATASETS\\PREDYKCJA\\videos\\slabe.webm: 640x640 1 no_glasses, 4 no_glovess, 4 no_helmets, 4 no_vests, 20.4ms\n",
      "video 3/4 (frame 241/258) f:\\PRACA_MAGISTERSKA\\DATASETS\\PREDYKCJA\\videos\\slabe.webm: 640x640 4 no_glovess, 4 no_helmets, 4 no_vests, 20.4ms\n",
      "video 3/4 (frame 242/258) f:\\PRACA_MAGISTERSKA\\DATASETS\\PREDYKCJA\\videos\\slabe.webm: 640x640 1 no_glasses, 5 no_glovess, 4 no_helmets, 4 no_vests, 20.4ms\n",
      "video 3/4 (frame 243/258) f:\\PRACA_MAGISTERSKA\\DATASETS\\PREDYKCJA\\videos\\slabe.webm: 640x640 1 no_glasses, 4 no_glovess, 4 no_helmets, 4 no_vests, 20.4ms\n",
      "video 3/4 (frame 244/258) f:\\PRACA_MAGISTERSKA\\DATASETS\\PREDYKCJA\\videos\\slabe.webm: 640x640 3 no_glovess, 4 no_helmets, 4 no_vests, 20.4ms\n",
      "video 3/4 (frame 245/258) f:\\PRACA_MAGISTERSKA\\DATASETS\\PREDYKCJA\\videos\\slabe.webm: 640x640 4 no_glovess, 4 no_helmets, 4 no_vests, 20.4ms\n",
      "video 3/4 (frame 246/258) f:\\PRACA_MAGISTERSKA\\DATASETS\\PREDYKCJA\\videos\\slabe.webm: 640x640 1 no_glasses, 3 no_glovess, 4 no_helmets, 4 no_vests, 20.4ms\n",
      "video 3/4 (frame 247/258) f:\\PRACA_MAGISTERSKA\\DATASETS\\PREDYKCJA\\videos\\slabe.webm: 640x640 1 no_glasses, 3 no_glovess, 4 no_helmets, 4 no_vests, 20.4ms\n",
      "video 3/4 (frame 248/258) f:\\PRACA_MAGISTERSKA\\DATASETS\\PREDYKCJA\\videos\\slabe.webm: 640x640 1 no_glasses, 3 no_glovess, 4 no_helmets, 4 no_vests, 20.4ms\n",
      "video 3/4 (frame 249/258) f:\\PRACA_MAGISTERSKA\\DATASETS\\PREDYKCJA\\videos\\slabe.webm: 640x640 3 no_glovess, 4 no_helmets, 4 no_vests, 20.4ms\n",
      "video 3/4 (frame 250/258) f:\\PRACA_MAGISTERSKA\\DATASETS\\PREDYKCJA\\videos\\slabe.webm: 640x640 3 no_glovess, 4 no_helmets, 4 no_vests, 20.4ms\n",
      "video 3/4 (frame 251/258) f:\\PRACA_MAGISTERSKA\\DATASETS\\PREDYKCJA\\videos\\slabe.webm: 640x640 2 no_glassess, 4 no_glovess, 3 no_helmets, 4 no_vests, 20.4ms\n",
      "video 3/4 (frame 252/258) f:\\PRACA_MAGISTERSKA\\DATASETS\\PREDYKCJA\\videos\\slabe.webm: 640x640 2 no_glassess, 3 no_glovess, 3 no_helmets, 4 no_vests, 20.4ms\n",
      "video 3/4 (frame 253/258) f:\\PRACA_MAGISTERSKA\\DATASETS\\PREDYKCJA\\videos\\slabe.webm: 640x640 1 no_glasses, 2 no_glovess, 3 no_helmets, 4 no_vests, 20.4ms\n",
      "video 3/4 (frame 254/258) f:\\PRACA_MAGISTERSKA\\DATASETS\\PREDYKCJA\\videos\\slabe.webm: 640x640 1 no_glasses, 2 no_glovess, 3 no_helmets, 4 no_vests, 20.4ms\n",
      "video 3/4 (frame 255/258) f:\\PRACA_MAGISTERSKA\\DATASETS\\PREDYKCJA\\videos\\slabe.webm: 640x640 1 no_glasses, 2 no_glovess, 3 no_helmets, 4 no_vests, 20.4ms\n",
      "video 3/4 (frame 256/258) f:\\PRACA_MAGISTERSKA\\DATASETS\\PREDYKCJA\\videos\\slabe.webm: 640x640 1 no_glasses, 4 no_glovess, 3 no_helmets, 4 no_vests, 20.4ms\n",
      "video 3/4 (frame 257/258) f:\\PRACA_MAGISTERSKA\\DATASETS\\PREDYKCJA\\videos\\slabe.webm: 640x640 1 no_glasses, 3 no_glovess, 3 no_helmets, 4 no_vests, 20.4ms\n",
      "video 3/4 (frame 258/258) f:\\PRACA_MAGISTERSKA\\DATASETS\\PREDYKCJA\\videos\\slabe.webm: 640x640 1 no_glasses, 3 no_glovess, 3 no_helmets, 4 no_vests, 20.4ms\n",
      "video 4/4 (frame 1/301) f:\\PRACA_MAGISTERSKA\\DATASETS\\PREDYKCJA\\videos\\taczka.mp4: 640x640 1 no_glasses, 2 no_glovess, 2 no_helmets, 2 no_vests, 20.4ms\n",
      "video 4/4 (frame 2/301) f:\\PRACA_MAGISTERSKA\\DATASETS\\PREDYKCJA\\videos\\taczka.mp4: 640x640 1 no_glasses, 2 no_glovess, 2 no_helmets, 2 no_vests, 20.4ms\n",
      "video 4/4 (frame 3/301) f:\\PRACA_MAGISTERSKA\\DATASETS\\PREDYKCJA\\videos\\taczka.mp4: 640x640 1 no_glasses, 2 no_glovess, 2 no_helmets, 2 no_vests, 20.4ms\n",
      "video 4/4 (frame 4/301) f:\\PRACA_MAGISTERSKA\\DATASETS\\PREDYKCJA\\videos\\taczka.mp4: 640x640 1 no_glasses, 2 no_glovess, 2 no_helmets, 2 no_vests, 20.4ms\n",
      "video 4/4 (frame 5/301) f:\\PRACA_MAGISTERSKA\\DATASETS\\PREDYKCJA\\videos\\taczka.mp4: 640x640 1 no_glasses, 2 no_glovess, 2 no_helmets, 2 no_vests, 20.4ms\n",
      "video 4/4 (frame 6/301) f:\\PRACA_MAGISTERSKA\\DATASETS\\PREDYKCJA\\videos\\taczka.mp4: 640x640 1 no_glasses, 2 no_glovess, 2 no_helmets, 2 no_vests, 20.4ms\n",
      "video 4/4 (frame 7/301) f:\\PRACA_MAGISTERSKA\\DATASETS\\PREDYKCJA\\videos\\taczka.mp4: 640x640 1 no_glasses, 2 no_glovess, 2 no_helmets, 2 no_vests, 20.4ms\n",
      "video 4/4 (frame 8/301) f:\\PRACA_MAGISTERSKA\\DATASETS\\PREDYKCJA\\videos\\taczka.mp4: 640x640 1 no_glasses, 2 no_glovess, 2 no_helmets, 2 no_vests, 20.4ms\n",
      "video 4/4 (frame 9/301) f:\\PRACA_MAGISTERSKA\\DATASETS\\PREDYKCJA\\videos\\taczka.mp4: 640x640 1 no_glasses, 2 no_glovess, 2 no_helmets, 2 no_vests, 20.4ms\n",
      "video 4/4 (frame 10/301) f:\\PRACA_MAGISTERSKA\\DATASETS\\PREDYKCJA\\videos\\taczka.mp4: 640x640 1 no_glasses, 2 no_glovess, 2 no_helmets, 2 no_vests, 20.4ms\n",
      "video 4/4 (frame 11/301) f:\\PRACA_MAGISTERSKA\\DATASETS\\PREDYKCJA\\videos\\taczka.mp4: 640x640 1 no_glasses, 2 no_glovess, 2 no_helmets, 2 no_vests, 20.4ms\n",
      "video 4/4 (frame 12/301) f:\\PRACA_MAGISTERSKA\\DATASETS\\PREDYKCJA\\videos\\taczka.mp4: 640x640 1 no_glasses, 2 no_glovess, 2 no_helmets, 2 no_vests, 20.4ms\n",
      "video 4/4 (frame 13/301) f:\\PRACA_MAGISTERSKA\\DATASETS\\PREDYKCJA\\videos\\taczka.mp4: 640x640 1 no_glasses, 2 no_glovess, 2 no_helmets, 2 no_vests, 20.4ms\n",
      "video 4/4 (frame 14/301) f:\\PRACA_MAGISTERSKA\\DATASETS\\PREDYKCJA\\videos\\taczka.mp4: 640x640 1 no_glasses, 2 no_glovess, 2 no_helmets, 2 no_vests, 20.4ms\n",
      "video 4/4 (frame 15/301) f:\\PRACA_MAGISTERSKA\\DATASETS\\PREDYKCJA\\videos\\taczka.mp4: 640x640 1 no_glasses, 2 no_glovess, 2 no_helmets, 2 no_vests, 20.4ms\n",
      "video 4/4 (frame 16/301) f:\\PRACA_MAGISTERSKA\\DATASETS\\PREDYKCJA\\videos\\taczka.mp4: 640x640 1 no_glasses, 2 no_glovess, 1 no_helmet, 2 no_vests, 20.4ms\n",
      "video 4/4 (frame 17/301) f:\\PRACA_MAGISTERSKA\\DATASETS\\PREDYKCJA\\videos\\taczka.mp4: 640x640 1 no_glasses, 2 no_glovess, 1 no_helmet, 2 no_vests, 20.4ms\n",
      "video 4/4 (frame 18/301) f:\\PRACA_MAGISTERSKA\\DATASETS\\PREDYKCJA\\videos\\taczka.mp4: 640x640 1 no_glasses, 2 no_glovess, 2 no_vests, 20.4ms\n",
      "video 4/4 (frame 19/301) f:\\PRACA_MAGISTERSKA\\DATASETS\\PREDYKCJA\\videos\\taczka.mp4: 640x640 1 no_glasses, 2 no_glovess, 1 no_helmet, 2 no_vests, 20.4ms\n",
      "video 4/4 (frame 20/301) f:\\PRACA_MAGISTERSKA\\DATASETS\\PREDYKCJA\\videos\\taczka.mp4: 640x640 1 no_glasses, 2 no_glovess, 1 no_helmet, 2 no_vests, 20.4ms\n",
      "video 4/4 (frame 21/301) f:\\PRACA_MAGISTERSKA\\DATASETS\\PREDYKCJA\\videos\\taczka.mp4: 640x640 1 no_glasses, 2 no_glovess, 1 no_helmet, 2 no_vests, 20.4ms\n",
      "video 4/4 (frame 22/301) f:\\PRACA_MAGISTERSKA\\DATASETS\\PREDYKCJA\\videos\\taczka.mp4: 640x640 1 no_glasses, 2 no_glovess, 1 no_helmet, 2 no_vests, 20.4ms\n",
      "video 4/4 (frame 23/301) f:\\PRACA_MAGISTERSKA\\DATASETS\\PREDYKCJA\\videos\\taczka.mp4: 384x640 1 no_glasses, 2 no_glovess, 1 no_helmet, 2 no_vests, 12.2ms\n",
      "video 4/4 (frame 24/301) f:\\PRACA_MAGISTERSKA\\DATASETS\\PREDYKCJA\\videos\\taczka.mp4: 384x640 1 no_glasses, 2 no_glovess, 1 no_vest, 12.2ms\n",
      "video 4/4 (frame 25/301) f:\\PRACA_MAGISTERSKA\\DATASETS\\PREDYKCJA\\videos\\taczka.mp4: 384x640 1 no_glasses, 2 no_glovess, 1 no_vest, 12.2ms\n",
      "video 4/4 (frame 26/301) f:\\PRACA_MAGISTERSKA\\DATASETS\\PREDYKCJA\\videos\\taczka.mp4: 384x640 1 no_glasses, 2 no_glovess, 2 no_vests, 12.2ms\n",
      "video 4/4 (frame 27/301) f:\\PRACA_MAGISTERSKA\\DATASETS\\PREDYKCJA\\videos\\taczka.mp4: 384x640 1 no_glasses, 2 no_glovess, 1 no_vest, 12.2ms\n",
      "video 4/4 (frame 28/301) f:\\PRACA_MAGISTERSKA\\DATASETS\\PREDYKCJA\\videos\\taczka.mp4: 384x640 1 no_glasses, 3 no_glovess, 1 no_vest, 12.2ms\n",
      "video 4/4 (frame 29/301) f:\\PRACA_MAGISTERSKA\\DATASETS\\PREDYKCJA\\videos\\taczka.mp4: 384x640 1 no_glasses, 3 no_glovess, 1 no_vest, 12.2ms\n",
      "video 4/4 (frame 30/301) f:\\PRACA_MAGISTERSKA\\DATASETS\\PREDYKCJA\\videos\\taczka.mp4: 384x640 1 no_glasses, 2 no_glovess, 1 no_vest, 12.2ms\n",
      "video 4/4 (frame 31/301) f:\\PRACA_MAGISTERSKA\\DATASETS\\PREDYKCJA\\videos\\taczka.mp4: 384x640 1 no_glasses, 2 no_glovess, 1 no_vest, 12.2ms\n",
      "video 4/4 (frame 32/301) f:\\PRACA_MAGISTERSKA\\DATASETS\\PREDYKCJA\\videos\\taczka.mp4: 384x640 1 no_glasses, 2 no_glovess, 1 no_vest, 12.2ms\n",
      "video 4/4 (frame 33/301) f:\\PRACA_MAGISTERSKA\\DATASETS\\PREDYKCJA\\videos\\taczka.mp4: 384x640 1 no_glasses, 1 no_gloves, 1 no_vest, 12.2ms\n",
      "video 4/4 (frame 34/301) f:\\PRACA_MAGISTERSKA\\DATASETS\\PREDYKCJA\\videos\\taczka.mp4: 384x640 1 no_glasses, 1 no_gloves, 1 no_vest, 12.2ms\n",
      "video 4/4 (frame 35/301) f:\\PRACA_MAGISTERSKA\\DATASETS\\PREDYKCJA\\videos\\taczka.mp4: 384x640 1 no_gloves, 1 no_vest, 12.2ms\n",
      "video 4/4 (frame 36/301) f:\\PRACA_MAGISTERSKA\\DATASETS\\PREDYKCJA\\videos\\taczka.mp4: 384x640 1 no_gloves, 1 no_vest, 12.2ms\n",
      "video 4/4 (frame 37/301) f:\\PRACA_MAGISTERSKA\\DATASETS\\PREDYKCJA\\videos\\taczka.mp4: 384x640 1 no_gloves, 1 no_vest, 12.2ms\n",
      "video 4/4 (frame 38/301) f:\\PRACA_MAGISTERSKA\\DATASETS\\PREDYKCJA\\videos\\taczka.mp4: 384x640 1 no_gloves, 1 no_vest, 12.2ms\n",
      "video 4/4 (frame 39/301) f:\\PRACA_MAGISTERSKA\\DATASETS\\PREDYKCJA\\videos\\taczka.mp4: 384x640 1 no_gloves, 1 no_vest, 12.2ms\n",
      "video 4/4 (frame 40/301) f:\\PRACA_MAGISTERSKA\\DATASETS\\PREDYKCJA\\videos\\taczka.mp4: 384x640 1 no_gloves, 1 no_vest, 12.2ms\n",
      "video 4/4 (frame 41/301) f:\\PRACA_MAGISTERSKA\\DATASETS\\PREDYKCJA\\videos\\taczka.mp4: 384x640 1 no_gloves, 1 no_helmet, 2 no_vests, 12.2ms\n",
      "video 4/4 (frame 42/301) f:\\PRACA_MAGISTERSKA\\DATASETS\\PREDYKCJA\\videos\\taczka.mp4: 384x640 1 no_gloves, 2 no_vests, 12.2ms\n",
      "video 4/4 (frame 43/301) f:\\PRACA_MAGISTERSKA\\DATASETS\\PREDYKCJA\\videos\\taczka.mp4: 384x640 1 no_gloves, 1 no_helmet, 2 no_vests, 12.2ms\n",
      "video 4/4 (frame 44/301) f:\\PRACA_MAGISTERSKA\\DATASETS\\PREDYKCJA\\videos\\taczka.mp4: 384x640 1 no_gloves, 2 no_vests, 12.2ms\n",
      "video 4/4 (frame 45/301) f:\\PRACA_MAGISTERSKA\\DATASETS\\PREDYKCJA\\videos\\taczka.mp4: 384x640 1 no_gloves, 2 no_vests, 12.2ms\n",
      "video 4/4 (frame 46/301) f:\\PRACA_MAGISTERSKA\\DATASETS\\PREDYKCJA\\videos\\taczka.mp4: 384x640 1 no_gloves, 2 no_vests, 12.2ms\n",
      "video 4/4 (frame 47/301) f:\\PRACA_MAGISTERSKA\\DATASETS\\PREDYKCJA\\videos\\taczka.mp4: 384x640 1 no_gloves, 2 no_vests, 12.2ms\n",
      "video 4/4 (frame 48/301) f:\\PRACA_MAGISTERSKA\\DATASETS\\PREDYKCJA\\videos\\taczka.mp4: 384x640 1 no_gloves, 1 no_vest, 12.2ms\n",
      "video 4/4 (frame 49/301) f:\\PRACA_MAGISTERSKA\\DATASETS\\PREDYKCJA\\videos\\taczka.mp4: 384x640 1 no_gloves, 1 no_helmet, 1 no_vest, 12.2ms\n",
      "video 4/4 (frame 50/301) f:\\PRACA_MAGISTERSKA\\DATASETS\\PREDYKCJA\\videos\\taczka.mp4: 384x640 1 no_gloves, 1 no_vest, 12.2ms\n",
      "video 4/4 (frame 51/301) f:\\PRACA_MAGISTERSKA\\DATASETS\\PREDYKCJA\\videos\\taczka.mp4: 384x640 1 no_gloves, 1 no_vest, 12.2ms\n",
      "video 4/4 (frame 52/301) f:\\PRACA_MAGISTERSKA\\DATASETS\\PREDYKCJA\\videos\\taczka.mp4: 384x640 1 no_gloves, 1 no_vest, 12.2ms\n",
      "video 4/4 (frame 53/301) f:\\PRACA_MAGISTERSKA\\DATASETS\\PREDYKCJA\\videos\\taczka.mp4: 384x640 1 no_gloves, 1 no_vest, 12.2ms\n",
      "video 4/4 (frame 54/301) f:\\PRACA_MAGISTERSKA\\DATASETS\\PREDYKCJA\\videos\\taczka.mp4: 384x640 1 no_gloves, 1 no_vest, 12.2ms\n",
      "video 4/4 (frame 55/301) f:\\PRACA_MAGISTERSKA\\DATASETS\\PREDYKCJA\\videos\\taczka.mp4: 384x640 1 no_gloves, 2 no_vests, 12.2ms\n",
      "video 4/4 (frame 56/301) f:\\PRACA_MAGISTERSKA\\DATASETS\\PREDYKCJA\\videos\\taczka.mp4: 384x640 1 no_gloves, 2 no_vests, 12.2ms\n",
      "video 4/4 (frame 57/301) f:\\PRACA_MAGISTERSKA\\DATASETS\\PREDYKCJA\\videos\\taczka.mp4: 384x640 1 no_gloves, 2 no_vests, 12.2ms\n",
      "video 4/4 (frame 58/301) f:\\PRACA_MAGISTERSKA\\DATASETS\\PREDYKCJA\\videos\\taczka.mp4: 384x640 1 no_gloves, 1 no_vest, 12.2ms\n",
      "video 4/4 (frame 59/301) f:\\PRACA_MAGISTERSKA\\DATASETS\\PREDYKCJA\\videos\\taczka.mp4: 384x640 1 no_gloves, 1 no_vest, 12.2ms\n",
      "video 4/4 (frame 60/301) f:\\PRACA_MAGISTERSKA\\DATASETS\\PREDYKCJA\\videos\\taczka.mp4: 384x640 1 no_gloves, 1 no_vest, 12.2ms\n",
      "video 4/4 (frame 61/301) f:\\PRACA_MAGISTERSKA\\DATASETS\\PREDYKCJA\\videos\\taczka.mp4: 384x640 1 no_gloves, 1 no_vest, 12.2ms\n",
      "video 4/4 (frame 62/301) f:\\PRACA_MAGISTERSKA\\DATASETS\\PREDYKCJA\\videos\\taczka.mp4: 384x640 1 no_gloves, 1 no_vest, 12.2ms\n",
      "video 4/4 (frame 63/301) f:\\PRACA_MAGISTERSKA\\DATASETS\\PREDYKCJA\\videos\\taczka.mp4: 384x640 1 no_gloves, 1 no_vest, 12.2ms\n",
      "video 4/4 (frame 64/301) f:\\PRACA_MAGISTERSKA\\DATASETS\\PREDYKCJA\\videos\\taczka.mp4: 384x640 1 no_gloves, 1 no_vest, 12.2ms\n",
      "video 4/4 (frame 65/301) f:\\PRACA_MAGISTERSKA\\DATASETS\\PREDYKCJA\\videos\\taczka.mp4: 384x640 1 no_gloves, 1 no_vest, 12.2ms\n",
      "video 4/4 (frame 66/301) f:\\PRACA_MAGISTERSKA\\DATASETS\\PREDYKCJA\\videos\\taczka.mp4: 384x640 1 no_gloves, 1 no_vest, 12.2ms\n",
      "video 4/4 (frame 67/301) f:\\PRACA_MAGISTERSKA\\DATASETS\\PREDYKCJA\\videos\\taczka.mp4: 384x640 1 no_gloves, 1 no_vest, 12.2ms\n",
      "video 4/4 (frame 68/301) f:\\PRACA_MAGISTERSKA\\DATASETS\\PREDYKCJA\\videos\\taczka.mp4: 384x640 1 no_gloves, 1 no_vest, 12.2ms\n",
      "video 4/4 (frame 69/301) f:\\PRACA_MAGISTERSKA\\DATASETS\\PREDYKCJA\\videos\\taczka.mp4: 384x640 1 no_gloves, 1 no_vest, 12.2ms\n",
      "video 4/4 (frame 70/301) f:\\PRACA_MAGISTERSKA\\DATASETS\\PREDYKCJA\\videos\\taczka.mp4: 384x640 1 no_gloves, 2 no_vests, 12.2ms\n",
      "video 4/4 (frame 71/301) f:\\PRACA_MAGISTERSKA\\DATASETS\\PREDYKCJA\\videos\\taczka.mp4: 384x640 1 no_gloves, 2 no_vests, 12.2ms\n",
      "video 4/4 (frame 72/301) f:\\PRACA_MAGISTERSKA\\DATASETS\\PREDYKCJA\\videos\\taczka.mp4: 384x640 1 no_gloves, 2 no_vests, 12.2ms\n",
      "video 4/4 (frame 73/301) f:\\PRACA_MAGISTERSKA\\DATASETS\\PREDYKCJA\\videos\\taczka.mp4: 384x640 1 no_gloves, 2 no_vests, 12.2ms\n",
      "video 4/4 (frame 74/301) f:\\PRACA_MAGISTERSKA\\DATASETS\\PREDYKCJA\\videos\\taczka.mp4: 384x640 1 no_gloves, 2 no_vests, 12.2ms\n",
      "video 4/4 (frame 75/301) f:\\PRACA_MAGISTERSKA\\DATASETS\\PREDYKCJA\\videos\\taczka.mp4: 384x640 2 no_glovess, 2 no_vests, 12.2ms\n",
      "video 4/4 (frame 76/301) f:\\PRACA_MAGISTERSKA\\DATASETS\\PREDYKCJA\\videos\\taczka.mp4: 384x640 2 no_glovess, 2 no_vests, 12.2ms\n",
      "video 4/4 (frame 77/301) f:\\PRACA_MAGISTERSKA\\DATASETS\\PREDYKCJA\\videos\\taczka.mp4: 384x640 2 no_glovess, 2 no_vests, 12.2ms\n",
      "video 4/4 (frame 78/301) f:\\PRACA_MAGISTERSKA\\DATASETS\\PREDYKCJA\\videos\\taczka.mp4: 384x640 2 no_glovess, 2 no_vests, 12.2ms\n",
      "video 4/4 (frame 79/301) f:\\PRACA_MAGISTERSKA\\DATASETS\\PREDYKCJA\\videos\\taczka.mp4: 384x640 2 no_glovess, 2 no_vests, 12.2ms\n",
      "video 4/4 (frame 80/301) f:\\PRACA_MAGISTERSKA\\DATASETS\\PREDYKCJA\\videos\\taczka.mp4: 384x640 2 no_glovess, 2 no_vests, 12.2ms\n",
      "video 4/4 (frame 81/301) f:\\PRACA_MAGISTERSKA\\DATASETS\\PREDYKCJA\\videos\\taczka.mp4: 384x640 1 no_glasses, 2 no_glovess, 2 no_vests, 12.2ms\n",
      "video 4/4 (frame 82/301) f:\\PRACA_MAGISTERSKA\\DATASETS\\PREDYKCJA\\videos\\taczka.mp4: 384x640 1 no_glasses, 2 no_glovess, 2 no_vests, 12.2ms\n",
      "video 4/4 (frame 83/301) f:\\PRACA_MAGISTERSKA\\DATASETS\\PREDYKCJA\\videos\\taczka.mp4: 384x640 1 no_glasses, 1 no_gloves, 2 no_vests, 12.2ms\n",
      "video 4/4 (frame 84/301) f:\\PRACA_MAGISTERSKA\\DATASETS\\PREDYKCJA\\videos\\taczka.mp4: 384x640 1 no_glasses, 2 no_glovess, 2 no_vests, 12.2ms\n",
      "video 4/4 (frame 85/301) f:\\PRACA_MAGISTERSKA\\DATASETS\\PREDYKCJA\\videos\\taczka.mp4: 384x640 1 no_glasses, 2 no_glovess, 2 no_vests, 12.2ms\n",
      "video 4/4 (frame 86/301) f:\\PRACA_MAGISTERSKA\\DATASETS\\PREDYKCJA\\videos\\taczka.mp4: 384x640 1 no_glasses, 1 no_gloves, 2 no_vests, 12.2ms\n",
      "video 4/4 (frame 87/301) f:\\PRACA_MAGISTERSKA\\DATASETS\\PREDYKCJA\\videos\\taczka.mp4: 384x640 1 no_glasses, 2 no_glovess, 2 no_vests, 12.2ms\n",
      "video 4/4 (frame 88/301) f:\\PRACA_MAGISTERSKA\\DATASETS\\PREDYKCJA\\videos\\taczka.mp4: 384x640 1 no_glasses, 1 no_gloves, 1 no_helmet, 2 no_vests, 12.2ms\n",
      "video 4/4 (frame 89/301) f:\\PRACA_MAGISTERSKA\\DATASETS\\PREDYKCJA\\videos\\taczka.mp4: 384x640 1 no_glasses, 1 no_gloves, 1 no_helmet, 2 no_vests, 12.2ms\n",
      "video 4/4 (frame 90/301) f:\\PRACA_MAGISTERSKA\\DATASETS\\PREDYKCJA\\videos\\taczka.mp4: 384x640 1 no_glasses, 1 no_gloves, 1 no_helmet, 2 no_vests, 12.2ms\n",
      "video 4/4 (frame 91/301) f:\\PRACA_MAGISTERSKA\\DATASETS\\PREDYKCJA\\videos\\taczka.mp4: 384x640 1 no_gloves, 1 no_helmet, 2 no_vests, 12.2ms\n",
      "video 4/4 (frame 92/301) f:\\PRACA_MAGISTERSKA\\DATASETS\\PREDYKCJA\\videos\\taczka.mp4: 384x640 1 no_glasses, 1 no_gloves, 1 no_helmet, 2 no_vests, 12.2ms\n",
      "video 4/4 (frame 93/301) f:\\PRACA_MAGISTERSKA\\DATASETS\\PREDYKCJA\\videos\\taczka.mp4: 384x640 1 no_glasses, 1 no_gloves, 1 no_helmet, 2 no_vests, 12.2ms\n",
      "video 4/4 (frame 94/301) f:\\PRACA_MAGISTERSKA\\DATASETS\\PREDYKCJA\\videos\\taczka.mp4: 384x640 1 no_glasses, 1 no_helmet, 2 no_vests, 12.2ms\n",
      "video 4/4 (frame 95/301) f:\\PRACA_MAGISTERSKA\\DATASETS\\PREDYKCJA\\videos\\taczka.mp4: 384x640 1 no_glasses, 1 no_helmet, 2 no_vests, 12.2ms\n",
      "video 4/4 (frame 96/301) f:\\PRACA_MAGISTERSKA\\DATASETS\\PREDYKCJA\\videos\\taczka.mp4: 384x640 1 no_glasses, 1 no_helmet, 2 no_vests, 12.2ms\n",
      "video 4/4 (frame 97/301) f:\\PRACA_MAGISTERSKA\\DATASETS\\PREDYKCJA\\videos\\taczka.mp4: 384x640 1 no_glasses, 1 no_gloves, 1 no_helmet, 2 no_vests, 12.2ms\n",
      "video 4/4 (frame 98/301) f:\\PRACA_MAGISTERSKA\\DATASETS\\PREDYKCJA\\videos\\taczka.mp4: 384x640 1 no_glasses, 1 no_helmet, 2 no_vests, 12.2ms\n",
      "video 4/4 (frame 99/301) f:\\PRACA_MAGISTERSKA\\DATASETS\\PREDYKCJA\\videos\\taczka.mp4: 384x640 1 no_glasses, 1 no_helmet, 2 no_vests, 12.2ms\n",
      "video 4/4 (frame 100/301) f:\\PRACA_MAGISTERSKA\\DATASETS\\PREDYKCJA\\videos\\taczka.mp4: 384x640 1 no_helmet, 2 no_vests, 12.2ms\n",
      "video 4/4 (frame 101/301) f:\\PRACA_MAGISTERSKA\\DATASETS\\PREDYKCJA\\videos\\taczka.mp4: 384x640 1 no_glasses, 1 no_helmet, 2 no_vests, 12.2ms\n",
      "video 4/4 (frame 102/301) f:\\PRACA_MAGISTERSKA\\DATASETS\\PREDYKCJA\\videos\\taczka.mp4: 384x640 1 no_glasses, 1 no_helmet, 2 no_vests, 12.2ms\n",
      "video 4/4 (frame 103/301) f:\\PRACA_MAGISTERSKA\\DATASETS\\PREDYKCJA\\videos\\taczka.mp4: 384x640 1 no_glasses, 1 no_gloves, 1 no_helmet, 2 no_vests, 12.2ms\n",
      "video 4/4 (frame 104/301) f:\\PRACA_MAGISTERSKA\\DATASETS\\PREDYKCJA\\videos\\taczka.mp4: 384x640 1 no_glasses, 1 no_gloves, 1 no_helmet, 2 no_vests, 12.2ms\n",
      "video 4/4 (frame 105/301) f:\\PRACA_MAGISTERSKA\\DATASETS\\PREDYKCJA\\videos\\taczka.mp4: 384x640 1 no_glasses, 2 no_glovess, 1 no_helmet, 2 no_vests, 12.2ms\n",
      "video 4/4 (frame 106/301) f:\\PRACA_MAGISTERSKA\\DATASETS\\PREDYKCJA\\videos\\taczka.mp4: 384x640 1 no_glasses, 1 no_gloves, 1 no_helmet, 2 no_vests, 12.2ms\n",
      "video 4/4 (frame 107/301) f:\\PRACA_MAGISTERSKA\\DATASETS\\PREDYKCJA\\videos\\taczka.mp4: 384x640 1 no_glasses, 1 no_gloves, 1 no_helmet, 2 no_vests, 12.2ms\n",
      "video 4/4 (frame 108/301) f:\\PRACA_MAGISTERSKA\\DATASETS\\PREDYKCJA\\videos\\taczka.mp4: 384x640 1 no_glasses, 1 no_gloves, 1 no_helmet, 2 no_vests, 12.2ms\n",
      "video 4/4 (frame 109/301) f:\\PRACA_MAGISTERSKA\\DATASETS\\PREDYKCJA\\videos\\taczka.mp4: 384x640 1 no_glasses, 2 no_glovess, 1 no_helmet, 2 no_vests, 12.2ms\n",
      "video 4/4 (frame 110/301) f:\\PRACA_MAGISTERSKA\\DATASETS\\PREDYKCJA\\videos\\taczka.mp4: 384x640 1 no_glasses, 1 no_gloves, 1 no_helmet, 2 no_vests, 12.2ms\n",
      "video 4/4 (frame 111/301) f:\\PRACA_MAGISTERSKA\\DATASETS\\PREDYKCJA\\videos\\taczka.mp4: 384x640 1 no_glasses, 2 no_glovess, 1 no_helmet, 2 no_vests, 12.2ms\n",
      "video 4/4 (frame 112/301) f:\\PRACA_MAGISTERSKA\\DATASETS\\PREDYKCJA\\videos\\taczka.mp4: 384x640 1 no_glasses, 2 no_glovess, 1 no_helmet, 2 no_vests, 12.2ms\n",
      "video 4/4 (frame 113/301) f:\\PRACA_MAGISTERSKA\\DATASETS\\PREDYKCJA\\videos\\taczka.mp4: 384x640 1 no_glasses, 2 no_glovess, 1 no_helmet, 2 no_vests, 12.2ms\n",
      "video 4/4 (frame 114/301) f:\\PRACA_MAGISTERSKA\\DATASETS\\PREDYKCJA\\videos\\taczka.mp4: 384x640 1 no_glasses, 2 no_glovess, 1 no_helmet, 2 no_vests, 12.2ms\n",
      "video 4/4 (frame 115/301) f:\\PRACA_MAGISTERSKA\\DATASETS\\PREDYKCJA\\videos\\taczka.mp4: 384x640 1 no_glasses, 2 no_glovess, 1 no_helmet, 2 no_vests, 12.2ms\n",
      "video 4/4 (frame 116/301) f:\\PRACA_MAGISTERSKA\\DATASETS\\PREDYKCJA\\videos\\taczka.mp4: 384x640 1 no_glasses, 2 no_glovess, 1 no_helmet, 2 no_vests, 12.2ms\n",
      "video 4/4 (frame 117/301) f:\\PRACA_MAGISTERSKA\\DATASETS\\PREDYKCJA\\videos\\taczka.mp4: 384x640 1 no_glasses, 2 no_glovess, 1 no_helmet, 2 no_vests, 12.2ms\n",
      "video 4/4 (frame 118/301) f:\\PRACA_MAGISTERSKA\\DATASETS\\PREDYKCJA\\videos\\taczka.mp4: 384x640 1 no_glasses, 2 no_glovess, 1 no_helmet, 2 no_vests, 12.2ms\n",
      "video 4/4 (frame 119/301) f:\\PRACA_MAGISTERSKA\\DATASETS\\PREDYKCJA\\videos\\taczka.mp4: 384x640 1 no_glasses, 2 no_glovess, 1 no_helmet, 2 no_vests, 12.2ms\n",
      "video 4/4 (frame 120/301) f:\\PRACA_MAGISTERSKA\\DATASETS\\PREDYKCJA\\videos\\taczka.mp4: 384x640 1 no_glasses, 2 no_glovess, 1 no_helmet, 2 no_vests, 12.2ms\n",
      "video 4/4 (frame 121/301) f:\\PRACA_MAGISTERSKA\\DATASETS\\PREDYKCJA\\videos\\taczka.mp4: 384x640 1 no_glasses, 2 no_glovess, 2 no_vests, 12.2ms\n",
      "video 4/4 (frame 122/301) f:\\PRACA_MAGISTERSKA\\DATASETS\\PREDYKCJA\\videos\\taczka.mp4: 384x640 1 no_glasses, 2 no_glovess, 2 no_vests, 12.2ms\n",
      "video 4/4 (frame 123/301) f:\\PRACA_MAGISTERSKA\\DATASETS\\PREDYKCJA\\videos\\taczka.mp4: 384x640 1 no_glasses, 2 no_glovess, 2 no_vests, 12.2ms\n",
      "video 4/4 (frame 124/301) f:\\PRACA_MAGISTERSKA\\DATASETS\\PREDYKCJA\\videos\\taczka.mp4: 384x640 1 no_glasses, 2 no_glovess, 2 no_vests, 12.2ms\n",
      "video 4/4 (frame 125/301) f:\\PRACA_MAGISTERSKA\\DATASETS\\PREDYKCJA\\videos\\taczka.mp4: 384x640 2 no_glovess, 2 no_vests, 12.2ms\n",
      "video 4/4 (frame 126/301) f:\\PRACA_MAGISTERSKA\\DATASETS\\PREDYKCJA\\videos\\taczka.mp4: 384x640 1 no_glasses, 2 no_glovess, 2 no_vests, 12.2ms\n",
      "video 4/4 (frame 127/301) f:\\PRACA_MAGISTERSKA\\DATASETS\\PREDYKCJA\\videos\\taczka.mp4: 384x640 1 no_glasses, 2 no_glovess, 2 no_vests, 12.2ms\n",
      "video 4/4 (frame 128/301) f:\\PRACA_MAGISTERSKA\\DATASETS\\PREDYKCJA\\videos\\taczka.mp4: 384x640 1 no_glasses, 2 no_glovess, 2 no_vests, 12.2ms\n",
      "video 4/4 (frame 129/301) f:\\PRACA_MAGISTERSKA\\DATASETS\\PREDYKCJA\\videos\\taczka.mp4: 384x640 2 no_glovess, 2 no_vests, 12.2ms\n",
      "video 4/4 (frame 130/301) f:\\PRACA_MAGISTERSKA\\DATASETS\\PREDYKCJA\\videos\\taczka.mp4: 384x640 2 no_glovess, 2 no_vests, 12.2ms\n",
      "video 4/4 (frame 131/301) f:\\PRACA_MAGISTERSKA\\DATASETS\\PREDYKCJA\\videos\\taczka.mp4: 384x640 2 no_glovess, 2 no_vests, 12.2ms\n",
      "video 4/4 (frame 132/301) f:\\PRACA_MAGISTERSKA\\DATASETS\\PREDYKCJA\\videos\\taczka.mp4: 384x640 2 no_glovess, 2 no_vests, 12.2ms\n",
      "video 4/4 (frame 133/301) f:\\PRACA_MAGISTERSKA\\DATASETS\\PREDYKCJA\\videos\\taczka.mp4: 384x640 2 no_glovess, 2 no_vests, 12.2ms\n",
      "video 4/4 (frame 134/301) f:\\PRACA_MAGISTERSKA\\DATASETS\\PREDYKCJA\\videos\\taczka.mp4: 384x640 2 no_glovess, 2 no_vests, 12.2ms\n",
      "video 4/4 (frame 135/301) f:\\PRACA_MAGISTERSKA\\DATASETS\\PREDYKCJA\\videos\\taczka.mp4: 384x640 1 no_gloves, 2 no_vests, 12.2ms\n",
      "video 4/4 (frame 136/301) f:\\PRACA_MAGISTERSKA\\DATASETS\\PREDYKCJA\\videos\\taczka.mp4: 384x640 1 no_gloves, 2 no_vests, 12.2ms\n",
      "video 4/4 (frame 137/301) f:\\PRACA_MAGISTERSKA\\DATASETS\\PREDYKCJA\\videos\\taczka.mp4: 384x640 1 no_gloves, 2 no_vests, 12.2ms\n",
      "video 4/4 (frame 138/301) f:\\PRACA_MAGISTERSKA\\DATASETS\\PREDYKCJA\\videos\\taczka.mp4: 384x640 1 no_gloves, 3 no_vests, 12.2ms\n",
      "video 4/4 (frame 139/301) f:\\PRACA_MAGISTERSKA\\DATASETS\\PREDYKCJA\\videos\\taczka.mp4: 384x640 1 no_gloves, 2 no_vests, 12.2ms\n",
      "video 4/4 (frame 140/301) f:\\PRACA_MAGISTERSKA\\DATASETS\\PREDYKCJA\\videos\\taczka.mp4: 384x640 1 no_gloves, 3 no_vests, 12.2ms\n",
      "video 4/4 (frame 141/301) f:\\PRACA_MAGISTERSKA\\DATASETS\\PREDYKCJA\\videos\\taczka.mp4: 384x640 1 no_gloves, 3 no_vests, 12.2ms\n",
      "video 4/4 (frame 142/301) f:\\PRACA_MAGISTERSKA\\DATASETS\\PREDYKCJA\\videos\\taczka.mp4: 384x640 1 no_gloves, 4 no_vests, 12.2ms\n",
      "video 4/4 (frame 143/301) f:\\PRACA_MAGISTERSKA\\DATASETS\\PREDYKCJA\\videos\\taczka.mp4: 384x640 1 no_gloves, 3 no_vests, 12.2ms\n",
      "video 4/4 (frame 144/301) f:\\PRACA_MAGISTERSKA\\DATASETS\\PREDYKCJA\\videos\\taczka.mp4: 384x640 1 no_gloves, 1 no_helmet, 3 no_vests, 12.2ms\n",
      "video 4/4 (frame 145/301) f:\\PRACA_MAGISTERSKA\\DATASETS\\PREDYKCJA\\videos\\taczka.mp4: 384x640 2 no_glovess, 1 no_helmet, 3 no_vests, 12.2ms\n",
      "video 4/4 (frame 146/301) f:\\PRACA_MAGISTERSKA\\DATASETS\\PREDYKCJA\\videos\\taczka.mp4: 384x640 1 no_gloves, 1 no_helmet, 3 no_vests, 12.2ms\n",
      "video 4/4 (frame 147/301) f:\\PRACA_MAGISTERSKA\\DATASETS\\PREDYKCJA\\videos\\taczka.mp4: 384x640 1 no_gloves, 1 no_helmet, 3 no_vests, 12.2ms\n",
      "video 4/4 (frame 148/301) f:\\PRACA_MAGISTERSKA\\DATASETS\\PREDYKCJA\\videos\\taczka.mp4: 384x640 1 no_glasses, 1 no_gloves, 1 no_helmet, 3 no_vests, 12.2ms\n",
      "video 4/4 (frame 149/301) f:\\PRACA_MAGISTERSKA\\DATASETS\\PREDYKCJA\\videos\\taczka.mp4: 384x640 1 no_glasses, 1 no_gloves, 1 no_helmet, 3 no_vests, 12.2ms\n",
      "video 4/4 (frame 150/301) f:\\PRACA_MAGISTERSKA\\DATASETS\\PREDYKCJA\\videos\\taczka.mp4: 384x640 1 no_gloves, 1 no_helmet, 3 no_vests, 12.2ms\n",
      "video 4/4 (frame 151/301) f:\\PRACA_MAGISTERSKA\\DATASETS\\PREDYKCJA\\videos\\taczka.mp4: 384x640 1 no_gloves, 1 no_helmet, 3 no_vests, 12.2ms\n",
      "video 4/4 (frame 152/301) f:\\PRACA_MAGISTERSKA\\DATASETS\\PREDYKCJA\\videos\\taczka.mp4: 384x640 1 no_gloves, 1 no_helmet, 3 no_vests, 12.2ms\n",
      "video 4/4 (frame 153/301) f:\\PRACA_MAGISTERSKA\\DATASETS\\PREDYKCJA\\videos\\taczka.mp4: 384x640 1 no_gloves, 1 no_helmet, 3 no_vests, 12.2ms\n",
      "video 4/4 (frame 154/301) f:\\PRACA_MAGISTERSKA\\DATASETS\\PREDYKCJA\\videos\\taczka.mp4: 384x640 1 no_gloves, 1 no_helmet, 3 no_vests, 12.2ms\n",
      "video 4/4 (frame 155/301) f:\\PRACA_MAGISTERSKA\\DATASETS\\PREDYKCJA\\videos\\taczka.mp4: 384x640 1 no_gloves, 1 no_helmet, 3 no_vests, 12.2ms\n",
      "video 4/4 (frame 156/301) f:\\PRACA_MAGISTERSKA\\DATASETS\\PREDYKCJA\\videos\\taczka.mp4: 384x640 1 no_gloves, 1 no_helmet, 3 no_vests, 12.2ms\n",
      "video 4/4 (frame 157/301) f:\\PRACA_MAGISTERSKA\\DATASETS\\PREDYKCJA\\videos\\taczka.mp4: 384x640 1 no_gloves, 1 no_helmet, 3 no_vests, 12.2ms\n",
      "video 4/4 (frame 158/301) f:\\PRACA_MAGISTERSKA\\DATASETS\\PREDYKCJA\\videos\\taczka.mp4: 384x640 1 no_gloves, 1 no_helmet, 3 no_vests, 12.2ms\n",
      "video 4/4 (frame 159/301) f:\\PRACA_MAGISTERSKA\\DATASETS\\PREDYKCJA\\videos\\taczka.mp4: 384x640 1 no_gloves, 1 no_helmet, 3 no_vests, 12.2ms\n",
      "video 4/4 (frame 160/301) f:\\PRACA_MAGISTERSKA\\DATASETS\\PREDYKCJA\\videos\\taczka.mp4: 384x640 1 no_gloves, 1 no_helmet, 3 no_vests, 12.2ms\n",
      "video 4/4 (frame 161/301) f:\\PRACA_MAGISTERSKA\\DATASETS\\PREDYKCJA\\videos\\taczka.mp4: 384x640 1 no_gloves, 1 no_helmet, 3 no_vests, 12.2ms\n",
      "video 4/4 (frame 162/301) f:\\PRACA_MAGISTERSKA\\DATASETS\\PREDYKCJA\\videos\\taczka.mp4: 384x640 1 no_gloves, 1 no_helmet, 2 no_vests, 12.2ms\n",
      "video 4/4 (frame 163/301) f:\\PRACA_MAGISTERSKA\\DATASETS\\PREDYKCJA\\videos\\taczka.mp4: 384x640 1 no_gloves, 1 no_helmet, 2 no_vests, 12.2ms\n",
      "video 4/4 (frame 164/301) f:\\PRACA_MAGISTERSKA\\DATASETS\\PREDYKCJA\\videos\\taczka.mp4: 384x640 2 no_glovess, 1 no_helmet, 2 no_vests, 12.2ms\n",
      "video 4/4 (frame 165/301) f:\\PRACA_MAGISTERSKA\\DATASETS\\PREDYKCJA\\videos\\taczka.mp4: 384x640 4 no_glovess, 1 no_helmet, 2 no_vests, 12.2ms\n",
      "video 4/4 (frame 166/301) f:\\PRACA_MAGISTERSKA\\DATASETS\\PREDYKCJA\\videos\\taczka.mp4: 384x640 2 no_glovess, 1 no_helmet, 2 no_vests, 12.2ms\n",
      "video 4/4 (frame 167/301) f:\\PRACA_MAGISTERSKA\\DATASETS\\PREDYKCJA\\videos\\taczka.mp4: 384x640 2 no_glovess, 1 no_helmet, 2 no_vests, 12.2ms\n",
      "video 4/4 (frame 168/301) f:\\PRACA_MAGISTERSKA\\DATASETS\\PREDYKCJA\\videos\\taczka.mp4: 384x640 4 no_glovess, 1 no_helmet, 2 no_vests, 12.2ms\n",
      "video 4/4 (frame 169/301) f:\\PRACA_MAGISTERSKA\\DATASETS\\PREDYKCJA\\videos\\taczka.mp4: 384x640 4 no_glovess, 1 no_helmet, 2 no_vests, 12.2ms\n",
      "video 4/4 (frame 170/301) f:\\PRACA_MAGISTERSKA\\DATASETS\\PREDYKCJA\\videos\\taczka.mp4: 384x640 3 no_glovess, 1 no_helmet, 2 no_vests, 12.2ms\n",
      "video 4/4 (frame 171/301) f:\\PRACA_MAGISTERSKA\\DATASETS\\PREDYKCJA\\videos\\taczka.mp4: 384x640 4 no_glovess, 1 no_helmet, 2 no_vests, 12.2ms\n",
      "video 4/4 (frame 172/301) f:\\PRACA_MAGISTERSKA\\DATASETS\\PREDYKCJA\\videos\\taczka.mp4: 384x640 4 no_glovess, 1 no_helmet, 2 no_vests, 12.2ms\n",
      "video 4/4 (frame 173/301) f:\\PRACA_MAGISTERSKA\\DATASETS\\PREDYKCJA\\videos\\taczka.mp4: 384x640 3 no_glovess, 1 no_helmet, 2 no_vests, 12.2ms\n",
      "video 4/4 (frame 174/301) f:\\PRACA_MAGISTERSKA\\DATASETS\\PREDYKCJA\\videos\\taczka.mp4: 384x640 3 no_glovess, 1 no_helmet, 2 no_vests, 12.2ms\n",
      "video 4/4 (frame 175/301) f:\\PRACA_MAGISTERSKA\\DATASETS\\PREDYKCJA\\videos\\taczka.mp4: 384x640 3 no_glovess, 1 no_helmet, 2 no_vests, 12.2ms\n",
      "video 4/4 (frame 176/301) f:\\PRACA_MAGISTERSKA\\DATASETS\\PREDYKCJA\\videos\\taczka.mp4: 384x640 3 no_glovess, 1 no_helmet, 2 no_vests, 12.2ms\n",
      "video 4/4 (frame 177/301) f:\\PRACA_MAGISTERSKA\\DATASETS\\PREDYKCJA\\videos\\taczka.mp4: 384x640 2 no_glovess, 1 no_helmet, 2 no_vests, 12.2ms\n",
      "video 4/4 (frame 178/301) f:\\PRACA_MAGISTERSKA\\DATASETS\\PREDYKCJA\\videos\\taczka.mp4: 384x640 2 no_glovess, 1 no_helmet, 2 no_vests, 12.2ms\n",
      "video 4/4 (frame 179/301) f:\\PRACA_MAGISTERSKA\\DATASETS\\PREDYKCJA\\videos\\taczka.mp4: 384x640 2 no_glovess, 1 no_helmet, 2 no_vests, 12.2ms\n",
      "video 4/4 (frame 180/301) f:\\PRACA_MAGISTERSKA\\DATASETS\\PREDYKCJA\\videos\\taczka.mp4: 384x640 2 no_glovess, 1 no_helmet, 2 no_vests, 12.2ms\n",
      "video 4/4 (frame 181/301) f:\\PRACA_MAGISTERSKA\\DATASETS\\PREDYKCJA\\videos\\taczka.mp4: 384x640 2 no_glovess, 1 no_helmet, 3 no_vests, 12.2ms\n",
      "video 4/4 (frame 182/301) f:\\PRACA_MAGISTERSKA\\DATASETS\\PREDYKCJA\\videos\\taczka.mp4: 384x640 2 no_glovess, 1 no_helmet, 2 no_vests, 12.2ms\n",
      "video 4/4 (frame 183/301) f:\\PRACA_MAGISTERSKA\\DATASETS\\PREDYKCJA\\videos\\taczka.mp4: 384x640 2 no_glovess, 1 no_helmet, 2 no_vests, 12.2ms\n",
      "video 4/4 (frame 184/301) f:\\PRACA_MAGISTERSKA\\DATASETS\\PREDYKCJA\\videos\\taczka.mp4: 384x640 2 no_glovess, 1 no_helmet, 2 no_vests, 12.2ms\n",
      "video 4/4 (frame 185/301) f:\\PRACA_MAGISTERSKA\\DATASETS\\PREDYKCJA\\videos\\taczka.mp4: 384x640 2 no_glovess, 1 no_helmet, 2 no_vests, 12.2ms\n",
      "video 4/4 (frame 186/301) f:\\PRACA_MAGISTERSKA\\DATASETS\\PREDYKCJA\\videos\\taczka.mp4: 384x640 2 no_glovess, 1 no_helmet, 2 no_vests, 12.2ms\n",
      "video 4/4 (frame 187/301) f:\\PRACA_MAGISTERSKA\\DATASETS\\PREDYKCJA\\videos\\taczka.mp4: 384x640 2 no_glovess, 1 no_helmet, 2 no_vests, 12.2ms\n",
      "video 4/4 (frame 188/301) f:\\PRACA_MAGISTERSKA\\DATASETS\\PREDYKCJA\\videos\\taczka.mp4: 384x640 2 no_glovess, 1 no_helmet, 2 no_vests, 12.2ms\n",
      "video 4/4 (frame 189/301) f:\\PRACA_MAGISTERSKA\\DATASETS\\PREDYKCJA\\videos\\taczka.mp4: 384x640 2 no_glovess, 1 no_helmet, 1 no_vest, 12.2ms\n",
      "video 4/4 (frame 190/301) f:\\PRACA_MAGISTERSKA\\DATASETS\\PREDYKCJA\\videos\\taczka.mp4: 384x640 2 no_glovess, 1 no_helmet, 2 no_vests, 12.2ms\n",
      "video 4/4 (frame 191/301) f:\\PRACA_MAGISTERSKA\\DATASETS\\PREDYKCJA\\videos\\taczka.mp4: 384x640 2 no_glovess, 1 no_helmet, 2 no_vests, 12.2ms\n",
      "video 4/4 (frame 192/301) f:\\PRACA_MAGISTERSKA\\DATASETS\\PREDYKCJA\\videos\\taczka.mp4: 384x640 2 no_glovess, 1 no_helmet, 2 no_vests, 12.2ms\n",
      "video 4/4 (frame 193/301) f:\\PRACA_MAGISTERSKA\\DATASETS\\PREDYKCJA\\videos\\taczka.mp4: 384x640 2 no_glovess, 1 no_helmet, 2 no_vests, 12.2ms\n",
      "video 4/4 (frame 194/301) f:\\PRACA_MAGISTERSKA\\DATASETS\\PREDYKCJA\\videos\\taczka.mp4: 384x640 2 no_glovess, 2 no_vests, 12.2ms\n",
      "video 4/4 (frame 195/301) f:\\PRACA_MAGISTERSKA\\DATASETS\\PREDYKCJA\\videos\\taczka.mp4: 384x640 2 no_glovess, 2 no_vests, 12.2ms\n",
      "video 4/4 (frame 196/301) f:\\PRACA_MAGISTERSKA\\DATASETS\\PREDYKCJA\\videos\\taczka.mp4: 384x640 2 no_glovess, 2 no_vests, 12.2ms\n",
      "video 4/4 (frame 197/301) f:\\PRACA_MAGISTERSKA\\DATASETS\\PREDYKCJA\\videos\\taczka.mp4: 384x640 2 no_glovess, 2 no_vests, 12.2ms\n",
      "video 4/4 (frame 198/301) f:\\PRACA_MAGISTERSKA\\DATASETS\\PREDYKCJA\\videos\\taczka.mp4: 384x640 2 no_glovess, 1 no_helmet, 2 no_vests, 12.2ms\n",
      "video 4/4 (frame 199/301) f:\\PRACA_MAGISTERSKA\\DATASETS\\PREDYKCJA\\videos\\taczka.mp4: 384x640 2 no_glovess, 1 no_helmet, 3 no_vests, 12.2ms\n",
      "video 4/4 (frame 200/301) f:\\PRACA_MAGISTERSKA\\DATASETS\\PREDYKCJA\\videos\\taczka.mp4: 384x640 2 no_glovess, 1 no_helmet, 2 no_vests, 12.2ms\n",
      "video 4/4 (frame 201/301) f:\\PRACA_MAGISTERSKA\\DATASETS\\PREDYKCJA\\videos\\taczka.mp4: 384x640 2 no_glovess, 1 no_helmet, 2 no_vests, 12.2ms\n",
      "video 4/4 (frame 202/301) f:\\PRACA_MAGISTERSKA\\DATASETS\\PREDYKCJA\\videos\\taczka.mp4: 384x640 2 no_glovess, 2 no_vests, 12.2ms\n",
      "video 4/4 (frame 203/301) f:\\PRACA_MAGISTERSKA\\DATASETS\\PREDYKCJA\\videos\\taczka.mp4: 384x640 2 no_glovess, 2 no_vests, 12.2ms\n",
      "video 4/4 (frame 204/301) f:\\PRACA_MAGISTERSKA\\DATASETS\\PREDYKCJA\\videos\\taczka.mp4: 384x640 2 no_glovess, 2 no_vests, 12.2ms\n",
      "video 4/4 (frame 205/301) f:\\PRACA_MAGISTERSKA\\DATASETS\\PREDYKCJA\\videos\\taczka.mp4: 384x640 2 no_glovess, 2 no_vests, 12.2ms\n",
      "video 4/4 (frame 206/301) f:\\PRACA_MAGISTERSKA\\DATASETS\\PREDYKCJA\\videos\\taczka.mp4: 384x640 2 no_glovess, 2 no_vests, 12.2ms\n",
      "video 4/4 (frame 207/301) f:\\PRACA_MAGISTERSKA\\DATASETS\\PREDYKCJA\\videos\\taczka.mp4: 384x640 2 no_glovess, 2 no_vests, 12.2ms\n",
      "video 4/4 (frame 208/301) f:\\PRACA_MAGISTERSKA\\DATASETS\\PREDYKCJA\\videos\\taczka.mp4: 384x640 2 no_glovess, 2 no_vests, 12.2ms\n",
      "video 4/4 (frame 209/301) f:\\PRACA_MAGISTERSKA\\DATASETS\\PREDYKCJA\\videos\\taczka.mp4: 384x640 2 no_glovess, 2 no_vests, 12.2ms\n",
      "video 4/4 (frame 210/301) f:\\PRACA_MAGISTERSKA\\DATASETS\\PREDYKCJA\\videos\\taczka.mp4: 384x640 2 no_glovess, 2 no_vests, 12.2ms\n",
      "video 4/4 (frame 211/301) f:\\PRACA_MAGISTERSKA\\DATASETS\\PREDYKCJA\\videos\\taczka.mp4: 384x640 2 no_glovess, 2 no_vests, 12.2ms\n",
      "video 4/4 (frame 212/301) f:\\PRACA_MAGISTERSKA\\DATASETS\\PREDYKCJA\\videos\\taczka.mp4: 384x640 2 no_glovess, 2 no_vests, 12.2ms\n",
      "video 4/4 (frame 213/301) f:\\PRACA_MAGISTERSKA\\DATASETS\\PREDYKCJA\\videos\\taczka.mp4: 384x640 2 no_glovess, 2 no_vests, 12.2ms\n",
      "video 4/4 (frame 214/301) f:\\PRACA_MAGISTERSKA\\DATASETS\\PREDYKCJA\\videos\\taczka.mp4: 384x640 2 no_glovess, 2 no_vests, 12.2ms\n",
      "video 4/4 (frame 215/301) f:\\PRACA_MAGISTERSKA\\DATASETS\\PREDYKCJA\\videos\\taczka.mp4: 384x640 2 no_glovess, 2 no_vests, 12.4ms\n",
      "video 4/4 (frame 216/301) f:\\PRACA_MAGISTERSKA\\DATASETS\\PREDYKCJA\\videos\\taczka.mp4: 384x640 2 no_glovess, 2 no_vests, 12.4ms\n",
      "video 4/4 (frame 217/301) f:\\PRACA_MAGISTERSKA\\DATASETS\\PREDYKCJA\\videos\\taczka.mp4: 384x640 2 no_glovess, 2 no_vests, 12.4ms\n",
      "video 4/4 (frame 218/301) f:\\PRACA_MAGISTERSKA\\DATASETS\\PREDYKCJA\\videos\\taczka.mp4: 384x640 2 no_glovess, 1 no_vest, 12.4ms\n",
      "video 4/4 (frame 219/301) f:\\PRACA_MAGISTERSKA\\DATASETS\\PREDYKCJA\\videos\\taczka.mp4: 384x640 2 no_glovess, 1 no_vest, 12.4ms\n",
      "video 4/4 (frame 220/301) f:\\PRACA_MAGISTERSKA\\DATASETS\\PREDYKCJA\\videos\\taczka.mp4: 384x640 2 no_glovess, 1 no_vest, 12.4ms\n",
      "video 4/4 (frame 221/301) f:\\PRACA_MAGISTERSKA\\DATASETS\\PREDYKCJA\\videos\\taczka.mp4: 384x640 2 no_glovess, 1 no_vest, 12.4ms\n",
      "video 4/4 (frame 222/301) f:\\PRACA_MAGISTERSKA\\DATASETS\\PREDYKCJA\\videos\\taczka.mp4: 384x640 2 no_glovess, 12.4ms\n",
      "video 4/4 (frame 223/301) f:\\PRACA_MAGISTERSKA\\DATASETS\\PREDYKCJA\\videos\\taczka.mp4: 384x640 2 no_glovess, 12.4ms\n",
      "video 4/4 (frame 224/301) f:\\PRACA_MAGISTERSKA\\DATASETS\\PREDYKCJA\\videos\\taczka.mp4: 384x640 1 no_gloves, 12.4ms\n",
      "video 4/4 (frame 225/301) f:\\PRACA_MAGISTERSKA\\DATASETS\\PREDYKCJA\\videos\\taczka.mp4: 384x640 2 no_glovess, 12.4ms\n",
      "video 4/4 (frame 226/301) f:\\PRACA_MAGISTERSKA\\DATASETS\\PREDYKCJA\\videos\\taczka.mp4: 384x640 1 no_gloves, 12.4ms\n",
      "video 4/4 (frame 227/301) f:\\PRACA_MAGISTERSKA\\DATASETS\\PREDYKCJA\\videos\\taczka.mp4: 384x640 2 no_glovess, 12.4ms\n",
      "video 4/4 (frame 228/301) f:\\PRACA_MAGISTERSKA\\DATASETS\\PREDYKCJA\\videos\\taczka.mp4: 384x640 2 no_glovess, 12.4ms\n",
      "video 4/4 (frame 229/301) f:\\PRACA_MAGISTERSKA\\DATASETS\\PREDYKCJA\\videos\\taczka.mp4: 384x640 2 no_glovess, 12.4ms\n",
      "video 4/4 (frame 230/301) f:\\PRACA_MAGISTERSKA\\DATASETS\\PREDYKCJA\\videos\\taczka.mp4: 384x640 2 no_glovess, 12.4ms\n",
      "video 4/4 (frame 231/301) f:\\PRACA_MAGISTERSKA\\DATASETS\\PREDYKCJA\\videos\\taczka.mp4: 384x640 2 no_glovess, 12.4ms\n",
      "video 4/4 (frame 232/301) f:\\PRACA_MAGISTERSKA\\DATASETS\\PREDYKCJA\\videos\\taczka.mp4: 384x640 2 no_glovess, 12.4ms\n",
      "video 4/4 (frame 233/301) f:\\PRACA_MAGISTERSKA\\DATASETS\\PREDYKCJA\\videos\\taczka.mp4: 384x640 2 no_glovess, 12.4ms\n",
      "video 4/4 (frame 234/301) f:\\PRACA_MAGISTERSKA\\DATASETS\\PREDYKCJA\\videos\\taczka.mp4: 384x640 2 no_glovess, 12.4ms\n",
      "video 4/4 (frame 235/301) f:\\PRACA_MAGISTERSKA\\DATASETS\\PREDYKCJA\\videos\\taczka.mp4: 384x640 2 no_glovess, 12.4ms\n",
      "video 4/4 (frame 236/301) f:\\PRACA_MAGISTERSKA\\DATASETS\\PREDYKCJA\\videos\\taczka.mp4: 384x640 2 no_glovess, 12.4ms\n",
      "video 4/4 (frame 237/301) f:\\PRACA_MAGISTERSKA\\DATASETS\\PREDYKCJA\\videos\\taczka.mp4: 384x640 2 no_glovess, 12.4ms\n",
      "video 4/4 (frame 238/301) f:\\PRACA_MAGISTERSKA\\DATASETS\\PREDYKCJA\\videos\\taczka.mp4: 384x640 2 no_glovess, 12.4ms\n",
      "video 4/4 (frame 239/301) f:\\PRACA_MAGISTERSKA\\DATASETS\\PREDYKCJA\\videos\\taczka.mp4: 384x640 2 no_glovess, 12.4ms\n",
      "video 4/4 (frame 240/301) f:\\PRACA_MAGISTERSKA\\DATASETS\\PREDYKCJA\\videos\\taczka.mp4: 384x640 2 no_glovess, 12.4ms\n",
      "video 4/4 (frame 241/301) f:\\PRACA_MAGISTERSKA\\DATASETS\\PREDYKCJA\\videos\\taczka.mp4: 384x640 2 no_glovess, 12.4ms\n",
      "video 4/4 (frame 242/301) f:\\PRACA_MAGISTERSKA\\DATASETS\\PREDYKCJA\\videos\\taczka.mp4: 384x640 3 no_glovess, 12.4ms\n",
      "video 4/4 (frame 243/301) f:\\PRACA_MAGISTERSKA\\DATASETS\\PREDYKCJA\\videos\\taczka.mp4: 384x640 3 no_glovess, 12.4ms\n",
      "video 4/4 (frame 244/301) f:\\PRACA_MAGISTERSKA\\DATASETS\\PREDYKCJA\\videos\\taczka.mp4: 384x640 3 no_glovess, 12.4ms\n",
      "video 4/4 (frame 245/301) f:\\PRACA_MAGISTERSKA\\DATASETS\\PREDYKCJA\\videos\\taczka.mp4: 384x640 2 no_glovess, 12.4ms\n",
      "video 4/4 (frame 246/301) f:\\PRACA_MAGISTERSKA\\DATASETS\\PREDYKCJA\\videos\\taczka.mp4: 384x640 2 no_glovess, 12.4ms\n",
      "video 4/4 (frame 247/301) f:\\PRACA_MAGISTERSKA\\DATASETS\\PREDYKCJA\\videos\\taczka.mp4: 384x640 2 no_glovess, 12.4ms\n",
      "video 4/4 (frame 248/301) f:\\PRACA_MAGISTERSKA\\DATASETS\\PREDYKCJA\\videos\\taczka.mp4: 384x640 3 no_glovess, 12.4ms\n",
      "video 4/4 (frame 249/301) f:\\PRACA_MAGISTERSKA\\DATASETS\\PREDYKCJA\\videos\\taczka.mp4: 384x640 3 no_glovess, 12.4ms\n",
      "video 4/4 (frame 250/301) f:\\PRACA_MAGISTERSKA\\DATASETS\\PREDYKCJA\\videos\\taczka.mp4: 384x640 3 no_glovess, 12.4ms\n",
      "video 4/4 (frame 251/301) f:\\PRACA_MAGISTERSKA\\DATASETS\\PREDYKCJA\\videos\\taczka.mp4: 384x640 3 no_glovess, 12.4ms\n",
      "video 4/4 (frame 252/301) f:\\PRACA_MAGISTERSKA\\DATASETS\\PREDYKCJA\\videos\\taczka.mp4: 384x640 3 no_glovess, 12.4ms\n",
      "video 4/4 (frame 253/301) f:\\PRACA_MAGISTERSKA\\DATASETS\\PREDYKCJA\\videos\\taczka.mp4: 384x640 2 no_glovess, 12.4ms\n",
      "video 4/4 (frame 254/301) f:\\PRACA_MAGISTERSKA\\DATASETS\\PREDYKCJA\\videos\\taczka.mp4: 384x640 4 no_glovess, 12.4ms\n",
      "video 4/4 (frame 255/301) f:\\PRACA_MAGISTERSKA\\DATASETS\\PREDYKCJA\\videos\\taczka.mp4: 384x640 4 no_glovess, 1 no_vest, 12.4ms\n",
      "video 4/4 (frame 256/301) f:\\PRACA_MAGISTERSKA\\DATASETS\\PREDYKCJA\\videos\\taczka.mp4: 384x640 4 no_glovess, 1 no_vest, 12.4ms\n",
      "video 4/4 (frame 257/301) f:\\PRACA_MAGISTERSKA\\DATASETS\\PREDYKCJA\\videos\\taczka.mp4: 384x640 4 no_glovess, 1 no_vest, 12.4ms\n",
      "video 4/4 (frame 258/301) f:\\PRACA_MAGISTERSKA\\DATASETS\\PREDYKCJA\\videos\\taczka.mp4: 384x640 4 no_glovess, 1 no_vest, 12.4ms\n",
      "video 4/4 (frame 259/301) f:\\PRACA_MAGISTERSKA\\DATASETS\\PREDYKCJA\\videos\\taczka.mp4: 384x640 4 no_glovess, 1 no_vest, 12.4ms\n",
      "video 4/4 (frame 260/301) f:\\PRACA_MAGISTERSKA\\DATASETS\\PREDYKCJA\\videos\\taczka.mp4: 384x640 4 no_glovess, 1 no_vest, 12.4ms\n",
      "video 4/4 (frame 261/301) f:\\PRACA_MAGISTERSKA\\DATASETS\\PREDYKCJA\\videos\\taczka.mp4: 384x640 4 no_glovess, 1 no_vest, 12.4ms\n",
      "video 4/4 (frame 262/301) f:\\PRACA_MAGISTERSKA\\DATASETS\\PREDYKCJA\\videos\\taczka.mp4: 384x640 4 no_glovess, 12.4ms\n",
      "video 4/4 (frame 263/301) f:\\PRACA_MAGISTERSKA\\DATASETS\\PREDYKCJA\\videos\\taczka.mp4: 384x640 4 no_glovess, 12.4ms\n",
      "video 4/4 (frame 264/301) f:\\PRACA_MAGISTERSKA\\DATASETS\\PREDYKCJA\\videos\\taczka.mp4: 384x640 4 no_glovess, 12.4ms\n",
      "video 4/4 (frame 265/301) f:\\PRACA_MAGISTERSKA\\DATASETS\\PREDYKCJA\\videos\\taczka.mp4: 384x640 4 no_glovess, 12.4ms\n",
      "video 4/4 (frame 266/301) f:\\PRACA_MAGISTERSKA\\DATASETS\\PREDYKCJA\\videos\\taczka.mp4: 384x640 4 no_glovess, 12.4ms\n",
      "video 4/4 (frame 267/301) f:\\PRACA_MAGISTERSKA\\DATASETS\\PREDYKCJA\\videos\\taczka.mp4: 384x640 4 no_glovess, 12.4ms\n",
      "video 4/4 (frame 268/301) f:\\PRACA_MAGISTERSKA\\DATASETS\\PREDYKCJA\\videos\\taczka.mp4: 384x640 4 no_glovess, 12.4ms\n",
      "video 4/4 (frame 269/301) f:\\PRACA_MAGISTERSKA\\DATASETS\\PREDYKCJA\\videos\\taczka.mp4: 384x640 4 no_glovess, 12.4ms\n",
      "video 4/4 (frame 270/301) f:\\PRACA_MAGISTERSKA\\DATASETS\\PREDYKCJA\\videos\\taczka.mp4: 384x640 4 no_glovess, 12.4ms\n",
      "video 4/4 (frame 271/301) f:\\PRACA_MAGISTERSKA\\DATASETS\\PREDYKCJA\\videos\\taczka.mp4: 384x640 4 no_glovess, 12.4ms\n",
      "video 4/4 (frame 272/301) f:\\PRACA_MAGISTERSKA\\DATASETS\\PREDYKCJA\\videos\\taczka.mp4: 384x640 4 no_glovess, 1 no_vest, 12.4ms\n",
      "video 4/4 (frame 273/301) f:\\PRACA_MAGISTERSKA\\DATASETS\\PREDYKCJA\\videos\\taczka.mp4: 384x640 3 no_glovess, 1 no_vest, 12.4ms\n",
      "video 4/4 (frame 274/301) f:\\PRACA_MAGISTERSKA\\DATASETS\\PREDYKCJA\\videos\\taczka.mp4: 384x640 3 no_glovess, 1 no_vest, 12.4ms\n",
      "video 4/4 (frame 275/301) f:\\PRACA_MAGISTERSKA\\DATASETS\\PREDYKCJA\\videos\\taczka.mp4: 384x640 3 no_glovess, 1 no_vest, 12.4ms\n",
      "video 4/4 (frame 276/301) f:\\PRACA_MAGISTERSKA\\DATASETS\\PREDYKCJA\\videos\\taczka.mp4: 384x640 3 no_glovess, 1 no_vest, 12.4ms\n",
      "video 4/4 (frame 277/301) f:\\PRACA_MAGISTERSKA\\DATASETS\\PREDYKCJA\\videos\\taczka.mp4: 384x640 3 no_glovess, 1 no_vest, 12.4ms\n",
      "video 4/4 (frame 278/301) f:\\PRACA_MAGISTERSKA\\DATASETS\\PREDYKCJA\\videos\\taczka.mp4: 384x640 2 no_glovess, 1 no_vest, 12.4ms\n",
      "video 4/4 (frame 279/301) f:\\PRACA_MAGISTERSKA\\DATASETS\\PREDYKCJA\\videos\\taczka.mp4: 384x640 3 no_glovess, 1 no_vest, 12.4ms\n",
      "video 4/4 (frame 280/301) f:\\PRACA_MAGISTERSKA\\DATASETS\\PREDYKCJA\\videos\\taczka.mp4: 384x640 3 no_glovess, 1 no_vest, 12.4ms\n",
      "video 4/4 (frame 281/301) f:\\PRACA_MAGISTERSKA\\DATASETS\\PREDYKCJA\\videos\\taczka.mp4: 384x640 3 no_glovess, 1 no_vest, 12.4ms\n",
      "video 4/4 (frame 282/301) f:\\PRACA_MAGISTERSKA\\DATASETS\\PREDYKCJA\\videos\\taczka.mp4: 384x640 3 no_glovess, 1 no_vest, 12.4ms\n",
      "video 4/4 (frame 283/301) f:\\PRACA_MAGISTERSKA\\DATASETS\\PREDYKCJA\\videos\\taczka.mp4: 384x640 3 no_glovess, 1 no_vest, 12.4ms\n",
      "video 4/4 (frame 284/301) f:\\PRACA_MAGISTERSKA\\DATASETS\\PREDYKCJA\\videos\\taczka.mp4: 384x640 2 no_glovess, 2 no_vests, 12.4ms\n",
      "video 4/4 (frame 285/301) f:\\PRACA_MAGISTERSKA\\DATASETS\\PREDYKCJA\\videos\\taczka.mp4: 384x640 1 no_gloves, 2 no_vests, 12.4ms\n",
      "video 4/4 (frame 286/301) f:\\PRACA_MAGISTERSKA\\DATASETS\\PREDYKCJA\\videos\\taczka.mp4: 384x640 1 no_gloves, 2 no_vests, 12.4ms\n",
      "video 4/4 (frame 287/301) f:\\PRACA_MAGISTERSKA\\DATASETS\\PREDYKCJA\\videos\\taczka.mp4: 384x640 2 no_glovess, 2 no_vests, 12.4ms\n",
      "video 4/4 (frame 288/301) f:\\PRACA_MAGISTERSKA\\DATASETS\\PREDYKCJA\\videos\\taczka.mp4: 384x640 1 no_gloves, 2 no_vests, 12.4ms\n",
      "video 4/4 (frame 289/301) f:\\PRACA_MAGISTERSKA\\DATASETS\\PREDYKCJA\\videos\\taczka.mp4: 384x640 1 no_gloves, 2 no_vests, 12.4ms\n",
      "video 4/4 (frame 290/301) f:\\PRACA_MAGISTERSKA\\DATASETS\\PREDYKCJA\\videos\\taczka.mp4: 384x640 1 no_gloves, 2 no_vests, 12.4ms\n",
      "video 4/4 (frame 291/301) f:\\PRACA_MAGISTERSKA\\DATASETS\\PREDYKCJA\\videos\\taczka.mp4: 384x640 2 no_glovess, 2 no_vests, 12.4ms\n",
      "video 4/4 (frame 292/301) f:\\PRACA_MAGISTERSKA\\DATASETS\\PREDYKCJA\\videos\\taczka.mp4: 384x640 1 no_gloves, 1 no_vest, 12.4ms\n",
      "video 4/4 (frame 293/301) f:\\PRACA_MAGISTERSKA\\DATASETS\\PREDYKCJA\\videos\\taczka.mp4: 384x640 2 no_glovess, 1 no_vest, 12.4ms\n",
      "video 4/4 (frame 294/301) f:\\PRACA_MAGISTERSKA\\DATASETS\\PREDYKCJA\\videos\\taczka.mp4: 384x640 2 no_glovess, 2 no_vests, 12.4ms\n",
      "video 4/4 (frame 295/301) f:\\PRACA_MAGISTERSKA\\DATASETS\\PREDYKCJA\\videos\\taczka.mp4: 384x640 2 no_glovess, 1 no_vest, 12.4ms\n",
      "video 4/4 (frame 296/301) f:\\PRACA_MAGISTERSKA\\DATASETS\\PREDYKCJA\\videos\\taczka.mp4: 384x640 2 no_glovess, 1 no_vest, 12.4ms\n",
      "video 4/4 (frame 297/301) f:\\PRACA_MAGISTERSKA\\DATASETS\\PREDYKCJA\\videos\\taczka.mp4: 384x640 2 no_glovess, 1 no_vest, 12.4ms\n",
      "video 4/4 (frame 298/301) f:\\PRACA_MAGISTERSKA\\DATASETS\\PREDYKCJA\\videos\\taczka.mp4: 384x640 2 no_glovess, 2 no_vests, 12.4ms\n",
      "video 4/4 (frame 299/301) f:\\PRACA_MAGISTERSKA\\DATASETS\\PREDYKCJA\\videos\\taczka.mp4: 384x640 2 no_glovess, 2 no_vests, 12.4ms\n",
      "video 4/4 (frame 300/301) f:\\PRACA_MAGISTERSKA\\DATASETS\\PREDYKCJA\\videos\\taczka.mp4: 384x640 2 no_glovess, 1 no_vest, 12.4ms\n",
      "Speed: 1.8ms preprocess, 12.9ms inference, 0.6ms postprocess per image at shape (64, 3, 384, 640)\n",
      "Results saved to \u001b[1mruns\\detect\\predict11\u001b[0m\n"
     ]
    }
   ],
   "source": [
    "model = YOLO('runs/detect/dataset-v2-1/weights/epoch100.pt')\n",
    "start_time = time.time()\n",
    "results = model.predict(source=\"/PRACA_MAGISTERSKA/DATASETS/PREDYKCJA/videos\", show=False, device=0, save=True, show_conf=False, show_labels=False, conf=0.431, batch=64)\n",
    "end_time = time.time()"
   ]
  },
  {
   "cell_type": "code",
   "execution_count": 2,
   "id": "135c2fd2-424c-41f5-aca7-3efb35b3336e",
   "metadata": {},
   "outputs": [],
   "source": [
    "torch.cuda.empty_cache()"
   ]
  },
  {
   "cell_type": "code",
   "execution_count": 5,
   "id": "08061437-5cba-4791-9bc7-e72121b16f6e",
   "metadata": {},
   "outputs": [],
   "source": [
    "frame_count=1432\n",
    "total_time = end_time - start_time\n",
    "avg_fps = frame_count / total_time if total_time > 0 else 0"
   ]
  },
  {
   "cell_type": "code",
   "execution_count": 6,
   "id": "66a1178f-d241-4d78-875a-b1f3e0319fad",
   "metadata": {},
   "outputs": [
    {
     "data": {
      "text/plain": [
       "43.705152709520554"
      ]
     },
     "execution_count": 6,
     "metadata": {},
     "output_type": "execute_result"
    }
   ],
   "source": [
    "avg_fps"
   ]
  },
  {
   "cell_type": "code",
   "execution_count": null,
   "id": "cf462e85-e77f-4e43-92d1-75f4ed62c325",
   "metadata": {},
   "outputs": [],
   "source": []
  }
 ],
 "metadata": {
  "kernelspec": {
   "display_name": "Python 3 (ipykernel)",
   "language": "python",
   "name": "python3"
  },
  "language_info": {
   "codemirror_mode": {
    "name": "ipython",
    "version": 3
   },
   "file_extension": ".py",
   "mimetype": "text/x-python",
   "name": "python",
   "nbconvert_exporter": "python",
   "pygments_lexer": "ipython3",
   "version": "3.11.11"
  }
 },
 "nbformat": 4,
 "nbformat_minor": 5
}
