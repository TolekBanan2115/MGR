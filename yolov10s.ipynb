{
 "cells": [
  {
   "cell_type": "code",
   "execution_count": 1,
   "id": "d45c0da7-72f8-4f5e-ba70-7d79a4a522cf",
   "metadata": {},
   "outputs": [],
   "source": [
    "from ultralytics import YOLO\n",
    "import os\n",
    "import tensorboard\n",
    "import torch"
   ]
  },
  {
   "cell_type": "code",
   "execution_count": 2,
   "id": "92d6d0f3-9493-4a2c-9c8d-3d5ec5110c4a",
   "metadata": {},
   "outputs": [
    {
     "name": "stdout",
     "output_type": "stream",
     "text": [
      " Volume in drive F is superszybkissd\n",
      " Volume Serial Number is 98A2-EE81\n",
      "\n",
      " Directory of f:\\PRACA_MAGISTERSKA\\UCZENIE_MODELI\\yolov10s\n",
      "\n",
      "16.06.2025  14:54    <DIR>          .\n",
      "23.06.2025  14:58    <DIR>          ..\n",
      "23.03.2025  03:27    <DIR>          .ipynb_checkpoints\n",
      "23.03.2025  03:27               150 data.yaml\n",
      "05.03.2025  23:03    <DIR>          predictions\n",
      "04.03.2025  22:30    <DIR>          runs\n",
      "04.03.2025  22:30         5˙613˙764 yolo11n.pt\n",
      "16.06.2025  14:54           838˙962 yolov10s.ipynb\n",
      "26.02.2025  13:18        16˙623˙111 yolov10s.pt\n",
      "               4 File(s)     23˙075˙987 bytes\n",
      "               5 Dir(s)  81˙529˙495˙552 bytes free\n"
     ]
    }
   ],
   "source": [
    "ls"
   ]
  },
  {
   "cell_type": "code",
   "execution_count": 3,
   "id": "1236cc0c-eac3-4693-8c4b-c7272ebf210b",
   "metadata": {},
   "outputs": [
    {
     "data": {
      "text/plain": [
       "Reusing TensorBoard on port 6008 (pid 22704), started 1 day, 0:20:39 ago. (Use '!kill 22704' to kill it.)"
      ]
     },
     "metadata": {},
     "output_type": "display_data"
    },
    {
     "data": {
      "text/html": [
       "\n",
       "      <iframe id=\"tensorboard-frame-db1ada85a0d649ab\" width=\"100%\" height=\"800\" frameborder=\"0\">\n",
       "      </iframe>\n",
       "      <script>\n",
       "        (function() {\n",
       "          const frame = document.getElementById(\"tensorboard-frame-db1ada85a0d649ab\");\n",
       "          const url = new URL(\"/\", window.location);\n",
       "          const port = 6008;\n",
       "          if (port) {\n",
       "            url.port = port;\n",
       "          }\n",
       "          frame.src = url;\n",
       "        })();\n",
       "      </script>\n",
       "    "
      ],
      "text/plain": [
       "<IPython.core.display.HTML object>"
      ]
     },
     "metadata": {},
     "output_type": "display_data"
    }
   ],
   "source": [
    "%load_ext tensorboard\n",
    "%tensorboard --logdir runs/detect"
   ]
  },
  {
   "cell_type": "code",
   "execution_count": 4,
   "id": "d01d6854-8c36-44b1-8280-7399ea1e20e3",
   "metadata": {
    "scrolled": true
   },
   "outputs": [
    {
     "name": "stdout",
     "output_type": "stream",
     "text": [
      "YOLOv10s summary: 234 layers, 8,128,272 parameters, 0 gradients, 25.1 GFLOPs\n",
      "New https://pypi.org/project/ultralytics/8.3.108 available  Update with 'pip install -U ultralytics'\n",
      "Ultralytics 8.3.82  Python-3.11.11 torch-2.5.1 CUDA:0 (NVIDIA GeForce RTX 3060, 12288MiB)\n",
      "\u001b[34m\u001b[1mengine\\trainer: \u001b[0mtask=detect, mode=train, model=yolov10s.pt, data=data.yaml, epochs=300, time=None, patience=30, batch=0.8, imgsz=640, save=True, save_period=10, cache=False, device=0, workers=8, project=None, name=dataset-v2-finetune-1, exist_ok=False, pretrained=True, optimizer=auto, verbose=True, seed=0, deterministic=True, single_cls=False, rect=False, cos_lr=False, close_mosaic=10, resume=False, amp=True, fraction=1.0, profile=False, freeze=10, multi_scale=False, overlap_mask=True, mask_ratio=4, dropout=0.0, val=True, split=val, save_json=False, save_hybrid=False, conf=None, iou=0.7, max_det=300, half=False, dnn=False, plots=True, source=None, vid_stride=1, stream_buffer=False, visualize=False, augment=False, agnostic_nms=False, classes=None, retina_masks=False, embed=None, show=False, save_frames=False, save_txt=False, save_conf=False, save_crop=False, show_labels=True, show_conf=True, show_boxes=True, line_width=None, format=torchscript, keras=False, optimize=False, int8=False, dynamic=False, simplify=True, opset=None, workspace=None, nms=False, lr0=0.01, lrf=0.01, momentum=0.937, weight_decay=0.0005, warmup_epochs=3.0, warmup_momentum=0.8, warmup_bias_lr=0.1, box=7.5, cls=0.5, dfl=1.5, pose=12.0, kobj=1.0, nbs=64, hsv_h=0.015, hsv_s=0.7, hsv_v=0.4, degrees=0.0, translate=0.1, scale=0.5, shear=0.0, perspective=0.0, flipud=0.0, fliplr=0.5, bgr=0.0, mosaic=1.0, mixup=0.0, copy_paste=0.0, copy_paste_mode=flip, auto_augment=randaugment, erasing=0.4, crop_fraction=1.0, cfg=None, tracker=botsort.yaml, save_dir=runs\\detect\\dataset-v2-finetune-1\n",
      "Overriding model.yaml nc=80 with nc=4\n",
      "\n",
      "                   from  n    params  module                                       arguments                     \n",
      "  0                  -1  1       928  ultralytics.nn.modules.conv.Conv             [3, 32, 3, 2]                 \n",
      "  1                  -1  1     18560  ultralytics.nn.modules.conv.Conv             [32, 64, 3, 2]                \n",
      "  2                  -1  1     29056  ultralytics.nn.modules.block.C2f             [64, 64, 1, True]             \n",
      "  3                  -1  1     73984  ultralytics.nn.modules.conv.Conv             [64, 128, 3, 2]               \n",
      "  4                  -1  2    197632  ultralytics.nn.modules.block.C2f             [128, 128, 2, True]           \n",
      "  5                  -1  1     36096  ultralytics.nn.modules.block.SCDown          [128, 256, 3, 2]              \n",
      "  6                  -1  2    788480  ultralytics.nn.modules.block.C2f             [256, 256, 2, True]           \n",
      "  7                  -1  1    137728  ultralytics.nn.modules.block.SCDown          [256, 512, 3, 2]              \n",
      "  8                  -1  1    958464  ultralytics.nn.modules.block.C2fCIB          [512, 512, 1, True, True]     \n",
      "  9                  -1  1    656896  ultralytics.nn.modules.block.SPPF            [512, 512, 5]                 \n",
      " 10                  -1  1    990976  ultralytics.nn.modules.block.PSA             [512, 512]                    \n",
      " 11                  -1  1         0  torch.nn.modules.upsampling.Upsample         [None, 2, 'nearest']          \n",
      " 12             [-1, 6]  1         0  ultralytics.nn.modules.conv.Concat           [1]                           \n",
      " 13                  -1  1    591360  ultralytics.nn.modules.block.C2f             [768, 256, 1]                 \n",
      " 14                  -1  1         0  torch.nn.modules.upsampling.Upsample         [None, 2, 'nearest']          \n",
      " 15             [-1, 4]  1         0  ultralytics.nn.modules.conv.Concat           [1]                           \n",
      " 16                  -1  1    148224  ultralytics.nn.modules.block.C2f             [384, 128, 1]                 \n",
      " 17                  -1  1    147712  ultralytics.nn.modules.conv.Conv             [128, 128, 3, 2]              \n",
      " 18            [-1, 13]  1         0  ultralytics.nn.modules.conv.Concat           [1]                           \n",
      " 19                  -1  1    493056  ultralytics.nn.modules.block.C2f             [384, 256, 1]                 \n",
      " 20                  -1  1     68864  ultralytics.nn.modules.block.SCDown          [256, 256, 3, 2]              \n",
      " 21            [-1, 10]  1         0  ultralytics.nn.modules.conv.Concat           [1]                           \n",
      " 22                  -1  1   1089536  ultralytics.nn.modules.block.C2fCIB          [768, 512, 1, True, True]     \n",
      " 23        [16, 19, 22]  1   1641896  ultralytics.nn.modules.head.v10Detect        [4, [128, 256, 512]]          \n",
      "YOLOv10s summary: 234 layers, 8,069,448 parameters, 8,069,432 gradients, 24.8 GFLOPs\n",
      "\n",
      "Transferred 607/619 items from pretrained weights\n",
      "\u001b[34m\u001b[1mTensorBoard: \u001b[0mStart with 'tensorboard --logdir runs\\detect\\dataset-v2-finetune-1', view at http://localhost:6006/\n",
      "Freezing layer 'model.0.conv.weight'\n",
      "Freezing layer 'model.0.bn.weight'\n",
      "Freezing layer 'model.0.bn.bias'\n",
      "Freezing layer 'model.1.conv.weight'\n",
      "Freezing layer 'model.1.bn.weight'\n",
      "Freezing layer 'model.1.bn.bias'\n",
      "Freezing layer 'model.2.cv1.conv.weight'\n",
      "Freezing layer 'model.2.cv1.bn.weight'\n",
      "Freezing layer 'model.2.cv1.bn.bias'\n",
      "Freezing layer 'model.2.cv2.conv.weight'\n",
      "Freezing layer 'model.2.cv2.bn.weight'\n",
      "Freezing layer 'model.2.cv2.bn.bias'\n",
      "Freezing layer 'model.2.m.0.cv1.conv.weight'\n",
      "Freezing layer 'model.2.m.0.cv1.bn.weight'\n",
      "Freezing layer 'model.2.m.0.cv1.bn.bias'\n",
      "Freezing layer 'model.2.m.0.cv2.conv.weight'\n",
      "Freezing layer 'model.2.m.0.cv2.bn.weight'\n",
      "Freezing layer 'model.2.m.0.cv2.bn.bias'\n",
      "Freezing layer 'model.3.conv.weight'\n",
      "Freezing layer 'model.3.bn.weight'\n",
      "Freezing layer 'model.3.bn.bias'\n",
      "Freezing layer 'model.4.cv1.conv.weight'\n",
      "Freezing layer 'model.4.cv1.bn.weight'\n",
      "Freezing layer 'model.4.cv1.bn.bias'\n",
      "Freezing layer 'model.4.cv2.conv.weight'\n",
      "Freezing layer 'model.4.cv2.bn.weight'\n",
      "Freezing layer 'model.4.cv2.bn.bias'\n",
      "Freezing layer 'model.4.m.0.cv1.conv.weight'\n",
      "Freezing layer 'model.4.m.0.cv1.bn.weight'\n",
      "Freezing layer 'model.4.m.0.cv1.bn.bias'\n",
      "Freezing layer 'model.4.m.0.cv2.conv.weight'\n",
      "Freezing layer 'model.4.m.0.cv2.bn.weight'\n",
      "Freezing layer 'model.4.m.0.cv2.bn.bias'\n",
      "Freezing layer 'model.4.m.1.cv1.conv.weight'\n",
      "Freezing layer 'model.4.m.1.cv1.bn.weight'\n",
      "Freezing layer 'model.4.m.1.cv1.bn.bias'\n",
      "Freezing layer 'model.4.m.1.cv2.conv.weight'\n",
      "Freezing layer 'model.4.m.1.cv2.bn.weight'\n",
      "Freezing layer 'model.4.m.1.cv2.bn.bias'\n",
      "Freezing layer 'model.5.cv1.conv.weight'\n",
      "Freezing layer 'model.5.cv1.bn.weight'\n",
      "Freezing layer 'model.5.cv1.bn.bias'\n",
      "Freezing layer 'model.5.cv2.conv.weight'\n",
      "Freezing layer 'model.5.cv2.bn.weight'\n",
      "Freezing layer 'model.5.cv2.bn.bias'\n",
      "Freezing layer 'model.6.cv1.conv.weight'\n",
      "Freezing layer 'model.6.cv1.bn.weight'\n",
      "Freezing layer 'model.6.cv1.bn.bias'\n",
      "Freezing layer 'model.6.cv2.conv.weight'\n",
      "Freezing layer 'model.6.cv2.bn.weight'\n",
      "Freezing layer 'model.6.cv2.bn.bias'\n",
      "Freezing layer 'model.6.m.0.cv1.conv.weight'\n",
      "Freezing layer 'model.6.m.0.cv1.bn.weight'\n",
      "Freezing layer 'model.6.m.0.cv1.bn.bias'\n",
      "Freezing layer 'model.6.m.0.cv2.conv.weight'\n",
      "Freezing layer 'model.6.m.0.cv2.bn.weight'\n",
      "Freezing layer 'model.6.m.0.cv2.bn.bias'\n",
      "Freezing layer 'model.6.m.1.cv1.conv.weight'\n",
      "Freezing layer 'model.6.m.1.cv1.bn.weight'\n",
      "Freezing layer 'model.6.m.1.cv1.bn.bias'\n",
      "Freezing layer 'model.6.m.1.cv2.conv.weight'\n",
      "Freezing layer 'model.6.m.1.cv2.bn.weight'\n",
      "Freezing layer 'model.6.m.1.cv2.bn.bias'\n",
      "Freezing layer 'model.7.cv1.conv.weight'\n",
      "Freezing layer 'model.7.cv1.bn.weight'\n",
      "Freezing layer 'model.7.cv1.bn.bias'\n",
      "Freezing layer 'model.7.cv2.conv.weight'\n",
      "Freezing layer 'model.7.cv2.bn.weight'\n",
      "Freezing layer 'model.7.cv2.bn.bias'\n",
      "Freezing layer 'model.8.cv1.conv.weight'\n",
      "Freezing layer 'model.8.cv1.bn.weight'\n",
      "Freezing layer 'model.8.cv1.bn.bias'\n",
      "Freezing layer 'model.8.cv2.conv.weight'\n",
      "Freezing layer 'model.8.cv2.bn.weight'\n",
      "Freezing layer 'model.8.cv2.bn.bias'\n",
      "Freezing layer 'model.8.m.0.cv1.0.conv.weight'\n",
      "Freezing layer 'model.8.m.0.cv1.0.bn.weight'\n",
      "Freezing layer 'model.8.m.0.cv1.0.bn.bias'\n",
      "Freezing layer 'model.8.m.0.cv1.1.conv.weight'\n",
      "Freezing layer 'model.8.m.0.cv1.1.bn.weight'\n",
      "Freezing layer 'model.8.m.0.cv1.1.bn.bias'\n",
      "Freezing layer 'model.8.m.0.cv1.2.conv.conv.weight'\n",
      "Freezing layer 'model.8.m.0.cv1.2.conv.bn.weight'\n",
      "Freezing layer 'model.8.m.0.cv1.2.conv.bn.bias'\n",
      "Freezing layer 'model.8.m.0.cv1.2.conv1.conv.weight'\n",
      "Freezing layer 'model.8.m.0.cv1.2.conv1.bn.weight'\n",
      "Freezing layer 'model.8.m.0.cv1.2.conv1.bn.bias'\n",
      "Freezing layer 'model.8.m.0.cv1.3.conv.weight'\n",
      "Freezing layer 'model.8.m.0.cv1.3.bn.weight'\n",
      "Freezing layer 'model.8.m.0.cv1.3.bn.bias'\n",
      "Freezing layer 'model.8.m.0.cv1.4.conv.weight'\n",
      "Freezing layer 'model.8.m.0.cv1.4.bn.weight'\n",
      "Freezing layer 'model.8.m.0.cv1.4.bn.bias'\n",
      "Freezing layer 'model.9.cv1.conv.weight'\n",
      "Freezing layer 'model.9.cv1.bn.weight'\n",
      "Freezing layer 'model.9.cv1.bn.bias'\n",
      "Freezing layer 'model.9.cv2.conv.weight'\n",
      "Freezing layer 'model.9.cv2.bn.weight'\n",
      "Freezing layer 'model.9.cv2.bn.bias'\n",
      "Freezing layer 'model.23.dfl.conv.weight'\n",
      "\u001b[34m\u001b[1mAMP: \u001b[0mrunning Automatic Mixed Precision (AMP) checks...\n",
      "\u001b[34m\u001b[1mAMP: \u001b[0mchecks passed \n"
     ]
    },
    {
     "name": "stderr",
     "output_type": "stream",
     "text": [
      "\u001b[34m\u001b[1mtrain: \u001b[0mScanning F:\\PRACA_MAGISTERSKA\\DATASETS\\MAGISTERKA-V2\\labels\\train.cache... 2036 images, 436 backgrounds, 0 corru\u001b[0m\n"
     ]
    },
    {
     "name": "stdout",
     "output_type": "stream",
     "text": [
      "\u001b[34m\u001b[1mAutoBatch: \u001b[0mComputing optimal batch size for imgsz=640 at 80.0% CUDA memory utilization.\n",
      "\u001b[34m\u001b[1mAutoBatch: \u001b[0mCUDA:0 (NVIDIA GeForce RTX 3060) 12.00G total, 0.12G reserved, 0.09G allocated, 11.79G free\n",
      "      Params      GFLOPs  GPU_mem (GB)  forward (ms) backward (ms)                   input                  output\n",
      "     8069448       24.78         0.642         65.84           nan        (1, 3, 640, 640)                    list\n",
      "     8069448       49.57         1.212         69.84           nan        (2, 3, 640, 640)                    list\n",
      "     8069448       99.13         1.957         58.61           nan        (4, 3, 640, 640)                    list\n",
      "     8069448       198.3         3.636         63.03           nan        (8, 3, 640, 640)                    list\n",
      "     8069448       396.5         6.715          92.5           nan       (16, 3, 640, 640)                    list\n",
      "\u001b[34m\u001b[1mAutoBatch: \u001b[0mUsing batch-size 25 for CUDA:0 9.74G/12.00G (81%) \n"
     ]
    },
    {
     "name": "stderr",
     "output_type": "stream",
     "text": [
      "\u001b[34m\u001b[1mtrain: \u001b[0mScanning F:\\PRACA_MAGISTERSKA\\DATASETS\\MAGISTERKA-V2\\labels\\train.cache... 2036 images, 436 backgrounds, 0 corru\u001b[0m\n",
      "\u001b[34m\u001b[1mval: \u001b[0mScanning F:\\PRACA_MAGISTERSKA\\DATASETS\\MAGISTERKA-V2\\labels\\val.cache... 679 images, 154 backgrounds, 0 corrupt: 1\u001b[0m\n"
     ]
    },
    {
     "name": "stdout",
     "output_type": "stream",
     "text": [
      "Plotting labels to runs\\detect\\dataset-v2-finetune-1\\labels.jpg... \n",
      "\u001b[34m\u001b[1moptimizer:\u001b[0m 'optimizer=auto' found, ignoring 'lr0=0.01' and 'momentum=0.937' and determining best 'optimizer', 'lr0' and 'momentum' automatically... \n",
      "\u001b[34m\u001b[1moptimizer:\u001b[0m AdamW(lr=0.00125, momentum=0.9) with parameter groups 99 weight(decay=0.0), 112 weight(decay=0.0005859375000000001), 111 bias(decay=0.0)\n",
      "\u001b[34m\u001b[1mTensorBoard: \u001b[0mmodel graph visualization added \n",
      "Image sizes 640 train, 640 val\n",
      "Using 6 dataloader workers\n",
      "Logging results to \u001b[1mruns\\detect\\dataset-v2-finetune-1\u001b[0m\n",
      "Starting training for 300 epochs...\n",
      "\n",
      "      Epoch    GPU_mem   box_loss   cls_loss   dfl_loss  Instances       Size\n"
     ]
    },
    {
     "name": "stderr",
     "output_type": "stream",
     "text": [
      "      1/300      4.39G      3.548      5.241      2.879         84        640: 100%|██████████| 82/82 [00:30<00:00,  2.\n",
      "                 Class     Images  Instances      Box(P          R      mAP50  mAP50-95): 100%|██████████| 14/14 [00:05"
     ]
    },
    {
     "name": "stdout",
     "output_type": "stream",
     "text": [
      "                   all        679       3388      0.666      0.702      0.742      0.408\n"
     ]
    },
    {
     "name": "stderr",
     "output_type": "stream",
     "text": [
      "\n"
     ]
    },
    {
     "name": "stdout",
     "output_type": "stream",
     "text": [
      "\n",
      "      Epoch    GPU_mem   box_loss   cls_loss   dfl_loss  Instances       Size\n"
     ]
    },
    {
     "name": "stderr",
     "output_type": "stream",
     "text": [
      "      2/300      4.32G      3.118      2.359      2.545         85        640: 100%|██████████| 82/82 [00:27<00:00,  3.\n",
      "                 Class     Images  Instances      Box(P          R      mAP50  mAP50-95): 100%|██████████| 14/14 [00:05"
     ]
    },
    {
     "name": "stdout",
     "output_type": "stream",
     "text": [
      "                   all        679       3388      0.752      0.757      0.815      0.463\n"
     ]
    },
    {
     "name": "stderr",
     "output_type": "stream",
     "text": [
      "\n"
     ]
    },
    {
     "name": "stdout",
     "output_type": "stream",
     "text": [
      "\n",
      "      Epoch    GPU_mem   box_loss   cls_loss   dfl_loss  Instances       Size\n"
     ]
    },
    {
     "name": "stderr",
     "output_type": "stream",
     "text": [
      "      3/300      4.08G      3.168      2.144      2.582        115        640: 100%|██████████| 82/82 [00:27<00:00,  3.\n",
      "                 Class     Images  Instances      Box(P          R      mAP50  mAP50-95): 100%|██████████| 14/14 [00:05"
     ]
    },
    {
     "name": "stdout",
     "output_type": "stream",
     "text": [
      "                   all        679       3388      0.774      0.765      0.833      0.474\n"
     ]
    },
    {
     "name": "stderr",
     "output_type": "stream",
     "text": [
      "\n"
     ]
    },
    {
     "name": "stdout",
     "output_type": "stream",
     "text": [
      "\n",
      "      Epoch    GPU_mem   box_loss   cls_loss   dfl_loss  Instances       Size\n"
     ]
    },
    {
     "name": "stderr",
     "output_type": "stream",
     "text": [
      "      4/300      4.19G      3.074      1.996      2.519         50        640: 100%|██████████| 82/82 [00:26<00:00,  3.\n",
      "                 Class     Images  Instances      Box(P          R      mAP50  mAP50-95): 100%|██████████| 14/14 [00:05"
     ]
    },
    {
     "name": "stdout",
     "output_type": "stream",
     "text": [
      "                   all        679       3388      0.832      0.779      0.862      0.504\n"
     ]
    },
    {
     "name": "stderr",
     "output_type": "stream",
     "text": [
      "\n"
     ]
    },
    {
     "name": "stdout",
     "output_type": "stream",
     "text": [
      "\n",
      "      Epoch    GPU_mem   box_loss   cls_loss   dfl_loss  Instances       Size\n"
     ]
    },
    {
     "name": "stderr",
     "output_type": "stream",
     "text": [
      "      5/300       4.2G      2.974      1.859      2.477         53        640: 100%|██████████| 82/82 [00:26<00:00,  3.\n",
      "                 Class     Images  Instances      Box(P          R      mAP50  mAP50-95): 100%|██████████| 14/14 [00:05"
     ]
    },
    {
     "name": "stdout",
     "output_type": "stream",
     "text": [
      "                   all        679       3388      0.865      0.801      0.892      0.517\n"
     ]
    },
    {
     "name": "stderr",
     "output_type": "stream",
     "text": [
      "\n"
     ]
    },
    {
     "name": "stdout",
     "output_type": "stream",
     "text": [
      "\n",
      "      Epoch    GPU_mem   box_loss   cls_loss   dfl_loss  Instances       Size\n"
     ]
    },
    {
     "name": "stderr",
     "output_type": "stream",
     "text": [
      "      6/300      4.19G      2.968      1.782      2.468         71        640: 100%|██████████| 82/82 [00:26<00:00,  3.\n",
      "                 Class     Images  Instances      Box(P          R      mAP50  mAP50-95): 100%|██████████| 14/14 [00:05"
     ]
    },
    {
     "name": "stdout",
     "output_type": "stream",
     "text": [
      "                   all        679       3388       0.86      0.833      0.901      0.537\n"
     ]
    },
    {
     "name": "stderr",
     "output_type": "stream",
     "text": [
      "\n"
     ]
    },
    {
     "name": "stdout",
     "output_type": "stream",
     "text": [
      "\n",
      "      Epoch    GPU_mem   box_loss   cls_loss   dfl_loss  Instances       Size\n"
     ]
    },
    {
     "name": "stderr",
     "output_type": "stream",
     "text": [
      "      7/300      4.32G      2.939      1.731      2.449         96        640: 100%|██████████| 82/82 [00:26<00:00,  3.\n",
      "                 Class     Images  Instances      Box(P          R      mAP50  mAP50-95): 100%|██████████| 14/14 [00:05"
     ]
    },
    {
     "name": "stdout",
     "output_type": "stream",
     "text": [
      "                   all        679       3388       0.87      0.831       0.91      0.553\n"
     ]
    },
    {
     "name": "stderr",
     "output_type": "stream",
     "text": [
      "\n"
     ]
    },
    {
     "name": "stdout",
     "output_type": "stream",
     "text": [
      "\n",
      "      Epoch    GPU_mem   box_loss   cls_loss   dfl_loss  Instances       Size\n"
     ]
    },
    {
     "name": "stderr",
     "output_type": "stream",
     "text": [
      "      8/300      4.14G      2.888      1.665      2.423         87        640: 100%|██████████| 82/82 [00:26<00:00,  3.\n",
      "                 Class     Images  Instances      Box(P          R      mAP50  mAP50-95): 100%|██████████| 14/14 [00:05"
     ]
    },
    {
     "name": "stdout",
     "output_type": "stream",
     "text": [
      "                   all        679       3388      0.865      0.836      0.911      0.545\n"
     ]
    },
    {
     "name": "stderr",
     "output_type": "stream",
     "text": [
      "\n"
     ]
    },
    {
     "name": "stdout",
     "output_type": "stream",
     "text": [
      "\n",
      "      Epoch    GPU_mem   box_loss   cls_loss   dfl_loss  Instances       Size\n"
     ]
    },
    {
     "name": "stderr",
     "output_type": "stream",
     "text": [
      "      9/300      4.22G      2.862      1.636       2.41        112        640: 100%|██████████| 82/82 [00:26<00:00,  3.\n",
      "                 Class     Images  Instances      Box(P          R      mAP50  mAP50-95): 100%|██████████| 14/14 [00:05"
     ]
    },
    {
     "name": "stdout",
     "output_type": "stream",
     "text": [
      "                   all        679       3388      0.881      0.836      0.913      0.554\n"
     ]
    },
    {
     "name": "stderr",
     "output_type": "stream",
     "text": [
      "\n"
     ]
    },
    {
     "name": "stdout",
     "output_type": "stream",
     "text": [
      "\n",
      "      Epoch    GPU_mem   box_loss   cls_loss   dfl_loss  Instances       Size\n"
     ]
    },
    {
     "name": "stderr",
     "output_type": "stream",
     "text": [
      "     10/300      4.12G      2.856       1.61      2.388        107        640: 100%|██████████| 82/82 [00:26<00:00,  3.\n",
      "                 Class     Images  Instances      Box(P          R      mAP50  mAP50-95): 100%|██████████| 14/14 [00:05"
     ]
    },
    {
     "name": "stdout",
     "output_type": "stream",
     "text": [
      "                   all        679       3388      0.894      0.844      0.929      0.567\n"
     ]
    },
    {
     "name": "stderr",
     "output_type": "stream",
     "text": [
      "\n"
     ]
    },
    {
     "name": "stdout",
     "output_type": "stream",
     "text": [
      "\n",
      "      Epoch    GPU_mem   box_loss   cls_loss   dfl_loss  Instances       Size\n"
     ]
    },
    {
     "name": "stderr",
     "output_type": "stream",
     "text": [
      "     11/300      4.24G       2.82      1.564      2.373         45        640: 100%|██████████| 82/82 [00:26<00:00,  3.\n",
      "                 Class     Images  Instances      Box(P          R      mAP50  mAP50-95): 100%|██████████| 14/14 [00:05"
     ]
    },
    {
     "name": "stdout",
     "output_type": "stream",
     "text": [
      "                   all        679       3388      0.891      0.856       0.93      0.569\n"
     ]
    },
    {
     "name": "stderr",
     "output_type": "stream",
     "text": [
      "\n"
     ]
    },
    {
     "name": "stdout",
     "output_type": "stream",
     "text": [
      "\n",
      "      Epoch    GPU_mem   box_loss   cls_loss   dfl_loss  Instances       Size\n"
     ]
    },
    {
     "name": "stderr",
     "output_type": "stream",
     "text": [
      "     12/300      4.26G      2.784      1.556      2.358        106        640: 100%|██████████| 82/82 [00:26<00:00,  3.\n",
      "                 Class     Images  Instances      Box(P          R      mAP50  mAP50-95): 100%|██████████| 14/14 [00:05"
     ]
    },
    {
     "name": "stdout",
     "output_type": "stream",
     "text": [
      "                   all        679       3388      0.898      0.856      0.932      0.571\n"
     ]
    },
    {
     "name": "stderr",
     "output_type": "stream",
     "text": [
      "\n"
     ]
    },
    {
     "name": "stdout",
     "output_type": "stream",
     "text": [
      "\n",
      "      Epoch    GPU_mem   box_loss   cls_loss   dfl_loss  Instances       Size\n"
     ]
    },
    {
     "name": "stderr",
     "output_type": "stream",
     "text": [
      "     13/300      4.21G      2.775      1.526       2.35        102        640: 100%|██████████| 82/82 [00:26<00:00,  3.\n",
      "                 Class     Images  Instances      Box(P          R      mAP50  mAP50-95): 100%|██████████| 14/14 [00:05"
     ]
    },
    {
     "name": "stdout",
     "output_type": "stream",
     "text": [
      "                   all        679       3388      0.878      0.874      0.934      0.576\n"
     ]
    },
    {
     "name": "stderr",
     "output_type": "stream",
     "text": [
      "\n"
     ]
    },
    {
     "name": "stdout",
     "output_type": "stream",
     "text": [
      "\n",
      "      Epoch    GPU_mem   box_loss   cls_loss   dfl_loss  Instances       Size\n"
     ]
    },
    {
     "name": "stderr",
     "output_type": "stream",
     "text": [
      "     14/300      4.28G      2.762      1.531      2.349        102        640: 100%|██████████| 82/82 [00:26<00:00,  3.\n",
      "                 Class     Images  Instances      Box(P          R      mAP50  mAP50-95): 100%|██████████| 14/14 [00:05"
     ]
    },
    {
     "name": "stdout",
     "output_type": "stream",
     "text": [
      "                   all        679       3388       0.89      0.866      0.931      0.578\n"
     ]
    },
    {
     "name": "stderr",
     "output_type": "stream",
     "text": [
      "\n"
     ]
    },
    {
     "name": "stdout",
     "output_type": "stream",
     "text": [
      "\n",
      "      Epoch    GPU_mem   box_loss   cls_loss   dfl_loss  Instances       Size\n"
     ]
    },
    {
     "name": "stderr",
     "output_type": "stream",
     "text": [
      "     15/300      4.29G      2.747      1.486      2.347        120        640: 100%|██████████| 82/82 [00:26<00:00,  3.\n",
      "                 Class     Images  Instances      Box(P          R      mAP50  mAP50-95): 100%|██████████| 14/14 [00:05"
     ]
    },
    {
     "name": "stdout",
     "output_type": "stream",
     "text": [
      "                   all        679       3388       0.89      0.877      0.938      0.579\n"
     ]
    },
    {
     "name": "stderr",
     "output_type": "stream",
     "text": [
      "\n"
     ]
    },
    {
     "name": "stdout",
     "output_type": "stream",
     "text": [
      "\n",
      "      Epoch    GPU_mem   box_loss   cls_loss   dfl_loss  Instances       Size\n"
     ]
    },
    {
     "name": "stderr",
     "output_type": "stream",
     "text": [
      "     16/300      4.12G      2.735       1.48       2.34        108        640: 100%|██████████| 82/82 [00:26<00:00,  3.\n",
      "                 Class     Images  Instances      Box(P          R      mAP50  mAP50-95): 100%|██████████| 14/14 [00:05"
     ]
    },
    {
     "name": "stdout",
     "output_type": "stream",
     "text": [
      "                   all        679       3388      0.901      0.866      0.939      0.582\n"
     ]
    },
    {
     "name": "stderr",
     "output_type": "stream",
     "text": [
      "\n"
     ]
    },
    {
     "name": "stdout",
     "output_type": "stream",
     "text": [
      "\n",
      "      Epoch    GPU_mem   box_loss   cls_loss   dfl_loss  Instances       Size\n"
     ]
    },
    {
     "name": "stderr",
     "output_type": "stream",
     "text": [
      "     17/300      4.29G      2.686      1.444      2.294         71        640: 100%|██████████| 82/82 [00:26<00:00,  3.\n",
      "                 Class     Images  Instances      Box(P          R      mAP50  mAP50-95): 100%|██████████| 14/14 [00:05"
     ]
    },
    {
     "name": "stdout",
     "output_type": "stream",
     "text": [
      "                   all        679       3388      0.894      0.885       0.94       0.59\n"
     ]
    },
    {
     "name": "stderr",
     "output_type": "stream",
     "text": [
      "\n"
     ]
    },
    {
     "name": "stdout",
     "output_type": "stream",
     "text": [
      "\n",
      "      Epoch    GPU_mem   box_loss   cls_loss   dfl_loss  Instances       Size\n"
     ]
    },
    {
     "name": "stderr",
     "output_type": "stream",
     "text": [
      "     18/300      4.17G      2.689       1.45      2.317         61        640: 100%|██████████| 82/82 [00:26<00:00,  3.\n",
      "                 Class     Images  Instances      Box(P          R      mAP50  mAP50-95): 100%|██████████| 14/14 [00:05"
     ]
    },
    {
     "name": "stdout",
     "output_type": "stream",
     "text": [
      "                   all        679       3388      0.898      0.881      0.942      0.597\n"
     ]
    },
    {
     "name": "stderr",
     "output_type": "stream",
     "text": [
      "\n"
     ]
    },
    {
     "name": "stdout",
     "output_type": "stream",
     "text": [
      "\n",
      "      Epoch    GPU_mem   box_loss   cls_loss   dfl_loss  Instances       Size\n"
     ]
    },
    {
     "name": "stderr",
     "output_type": "stream",
     "text": [
      "     19/300       4.1G      2.652      1.405      2.286         88        640: 100%|██████████| 82/82 [00:26<00:00,  3.\n",
      "                 Class     Images  Instances      Box(P          R      mAP50  mAP50-95): 100%|██████████| 14/14 [00:05"
     ]
    },
    {
     "name": "stdout",
     "output_type": "stream",
     "text": [
      "                   all        679       3388      0.912       0.87      0.942      0.596\n"
     ]
    },
    {
     "name": "stderr",
     "output_type": "stream",
     "text": [
      "\n"
     ]
    },
    {
     "name": "stdout",
     "output_type": "stream",
     "text": [
      "\n",
      "      Epoch    GPU_mem   box_loss   cls_loss   dfl_loss  Instances       Size\n"
     ]
    },
    {
     "name": "stderr",
     "output_type": "stream",
     "text": [
      "     20/300      4.13G      2.637      1.398      2.278         97        640: 100%|██████████| 82/82 [00:26<00:00,  3.\n",
      "                 Class     Images  Instances      Box(P          R      mAP50  mAP50-95): 100%|██████████| 14/14 [00:05"
     ]
    },
    {
     "name": "stdout",
     "output_type": "stream",
     "text": [
      "                   all        679       3388      0.913      0.878      0.946      0.594\n"
     ]
    },
    {
     "name": "stderr",
     "output_type": "stream",
     "text": [
      "\n"
     ]
    },
    {
     "name": "stdout",
     "output_type": "stream",
     "text": [
      "\n",
      "      Epoch    GPU_mem   box_loss   cls_loss   dfl_loss  Instances       Size\n"
     ]
    },
    {
     "name": "stderr",
     "output_type": "stream",
     "text": [
      "     21/300      4.22G      2.643      1.394      2.279        124        640: 100%|██████████| 82/82 [00:26<00:00,  3.\n",
      "                 Class     Images  Instances      Box(P          R      mAP50  mAP50-95): 100%|██████████| 14/14 [00:05"
     ]
    },
    {
     "name": "stdout",
     "output_type": "stream",
     "text": [
      "                   all        679       3388      0.901      0.882      0.941       0.59\n"
     ]
    },
    {
     "name": "stderr",
     "output_type": "stream",
     "text": [
      "\n"
     ]
    },
    {
     "name": "stdout",
     "output_type": "stream",
     "text": [
      "\n",
      "      Epoch    GPU_mem   box_loss   cls_loss   dfl_loss  Instances       Size\n"
     ]
    },
    {
     "name": "stderr",
     "output_type": "stream",
     "text": [
      "     22/300      4.25G      2.625      1.398      2.285         64        640: 100%|██████████| 82/82 [00:26<00:00,  3.\n",
      "                 Class     Images  Instances      Box(P          R      mAP50  mAP50-95): 100%|██████████| 14/14 [00:05"
     ]
    },
    {
     "name": "stdout",
     "output_type": "stream",
     "text": [
      "                   all        679       3388      0.907      0.883      0.945      0.599\n"
     ]
    },
    {
     "name": "stderr",
     "output_type": "stream",
     "text": [
      "\n"
     ]
    },
    {
     "name": "stdout",
     "output_type": "stream",
     "text": [
      "\n",
      "      Epoch    GPU_mem   box_loss   cls_loss   dfl_loss  Instances       Size\n"
     ]
    },
    {
     "name": "stderr",
     "output_type": "stream",
     "text": [
      "     23/300      4.24G      2.596      1.347      2.262        107        640: 100%|██████████| 82/82 [00:26<00:00,  3.\n",
      "                 Class     Images  Instances      Box(P          R      mAP50  mAP50-95): 100%|██████████| 14/14 [00:05"
     ]
    },
    {
     "name": "stdout",
     "output_type": "stream",
     "text": [
      "                   all        679       3388      0.919      0.878      0.948      0.597\n"
     ]
    },
    {
     "name": "stderr",
     "output_type": "stream",
     "text": [
      "\n"
     ]
    },
    {
     "name": "stdout",
     "output_type": "stream",
     "text": [
      "\n",
      "      Epoch    GPU_mem   box_loss   cls_loss   dfl_loss  Instances       Size\n"
     ]
    },
    {
     "name": "stderr",
     "output_type": "stream",
     "text": [
      "     24/300       4.2G      2.607      1.341      2.267        143        640: 100%|██████████| 82/82 [00:26<00:00,  3.\n",
      "                 Class     Images  Instances      Box(P          R      mAP50  mAP50-95): 100%|██████████| 14/14 [00:05"
     ]
    },
    {
     "name": "stdout",
     "output_type": "stream",
     "text": [
      "                   all        679       3388       0.91      0.881      0.944      0.598\n"
     ]
    },
    {
     "name": "stderr",
     "output_type": "stream",
     "text": [
      "\n"
     ]
    },
    {
     "name": "stdout",
     "output_type": "stream",
     "text": [
      "\n",
      "      Epoch    GPU_mem   box_loss   cls_loss   dfl_loss  Instances       Size\n"
     ]
    },
    {
     "name": "stderr",
     "output_type": "stream",
     "text": [
      "     25/300      4.22G      2.576      1.336      2.249        101        640: 100%|██████████| 82/82 [00:26<00:00,  3.\n",
      "                 Class     Images  Instances      Box(P          R      mAP50  mAP50-95): 100%|██████████| 14/14 [00:05"
     ]
    },
    {
     "name": "stdout",
     "output_type": "stream",
     "text": [
      "                   all        679       3388      0.917       0.87      0.943      0.595\n"
     ]
    },
    {
     "name": "stderr",
     "output_type": "stream",
     "text": [
      "\n"
     ]
    },
    {
     "name": "stdout",
     "output_type": "stream",
     "text": [
      "\n",
      "      Epoch    GPU_mem   box_loss   cls_loss   dfl_loss  Instances       Size\n"
     ]
    },
    {
     "name": "stderr",
     "output_type": "stream",
     "text": [
      "     26/300      4.24G       2.55      1.319      2.247        105        640: 100%|██████████| 82/82 [00:25<00:00,  3.\n",
      "                 Class     Images  Instances      Box(P          R      mAP50  mAP50-95): 100%|██████████| 14/14 [00:05"
     ]
    },
    {
     "name": "stdout",
     "output_type": "stream",
     "text": [
      "                   all        679       3388      0.913      0.876      0.944      0.593\n"
     ]
    },
    {
     "name": "stderr",
     "output_type": "stream",
     "text": [
      "\n"
     ]
    },
    {
     "name": "stdout",
     "output_type": "stream",
     "text": [
      "\n",
      "      Epoch    GPU_mem   box_loss   cls_loss   dfl_loss  Instances       Size\n"
     ]
    },
    {
     "name": "stderr",
     "output_type": "stream",
     "text": [
      "     27/300      4.23G      2.558      1.309      2.231         72        640: 100%|██████████| 82/82 [00:25<00:00,  3.\n",
      "                 Class     Images  Instances      Box(P          R      mAP50  mAP50-95): 100%|██████████| 14/14 [00:05"
     ]
    },
    {
     "name": "stdout",
     "output_type": "stream",
     "text": [
      "                   all        679       3388      0.918       0.88      0.946      0.594\n"
     ]
    },
    {
     "name": "stderr",
     "output_type": "stream",
     "text": [
      "\n"
     ]
    },
    {
     "name": "stdout",
     "output_type": "stream",
     "text": [
      "\n",
      "      Epoch    GPU_mem   box_loss   cls_loss   dfl_loss  Instances       Size\n"
     ]
    },
    {
     "name": "stderr",
     "output_type": "stream",
     "text": [
      "     28/300      4.22G       2.57      1.316      2.235         83        640: 100%|██████████| 82/82 [00:25<00:00,  3.\n",
      "                 Class     Images  Instances      Box(P          R      mAP50  mAP50-95): 100%|██████████| 14/14 [00:05"
     ]
    },
    {
     "name": "stdout",
     "output_type": "stream",
     "text": [
      "                   all        679       3388      0.906      0.888       0.95      0.604\n"
     ]
    },
    {
     "name": "stderr",
     "output_type": "stream",
     "text": [
      "\n"
     ]
    },
    {
     "name": "stdout",
     "output_type": "stream",
     "text": [
      "\n",
      "      Epoch    GPU_mem   box_loss   cls_loss   dfl_loss  Instances       Size\n"
     ]
    },
    {
     "name": "stderr",
     "output_type": "stream",
     "text": [
      "     29/300      4.17G      2.542      1.285      2.216        101        640: 100%|██████████| 82/82 [00:25<00:00,  3.\n",
      "                 Class     Images  Instances      Box(P          R      mAP50  mAP50-95): 100%|██████████| 14/14 [00:05"
     ]
    },
    {
     "name": "stdout",
     "output_type": "stream",
     "text": [
      "                   all        679       3388      0.916      0.889       0.95      0.602\n"
     ]
    },
    {
     "name": "stderr",
     "output_type": "stream",
     "text": [
      "\n"
     ]
    },
    {
     "name": "stdout",
     "output_type": "stream",
     "text": [
      "\n",
      "      Epoch    GPU_mem   box_loss   cls_loss   dfl_loss  Instances       Size\n"
     ]
    },
    {
     "name": "stderr",
     "output_type": "stream",
     "text": [
      "     30/300      4.18G      2.533      1.281      2.226         83        640: 100%|██████████| 82/82 [00:25<00:00,  3.\n",
      "                 Class     Images  Instances      Box(P          R      mAP50  mAP50-95): 100%|██████████| 14/14 [00:05"
     ]
    },
    {
     "name": "stdout",
     "output_type": "stream",
     "text": [
      "                   all        679       3388      0.915      0.879      0.947      0.602\n"
     ]
    },
    {
     "name": "stderr",
     "output_type": "stream",
     "text": [
      "\n"
     ]
    },
    {
     "name": "stdout",
     "output_type": "stream",
     "text": [
      "\n",
      "      Epoch    GPU_mem   box_loss   cls_loss   dfl_loss  Instances       Size\n"
     ]
    },
    {
     "name": "stderr",
     "output_type": "stream",
     "text": [
      "     31/300      4.13G      2.506      1.293      2.212         91        640: 100%|██████████| 82/82 [00:25<00:00,  3.\n",
      "                 Class     Images  Instances      Box(P          R      mAP50  mAP50-95): 100%|██████████| 14/14 [00:05"
     ]
    },
    {
     "name": "stdout",
     "output_type": "stream",
     "text": [
      "                   all        679       3388      0.911      0.896      0.948      0.602\n"
     ]
    },
    {
     "name": "stderr",
     "output_type": "stream",
     "text": [
      "\n"
     ]
    },
    {
     "name": "stdout",
     "output_type": "stream",
     "text": [
      "\n",
      "      Epoch    GPU_mem   box_loss   cls_loss   dfl_loss  Instances       Size\n"
     ]
    },
    {
     "name": "stderr",
     "output_type": "stream",
     "text": [
      "     32/300      4.22G      2.526      1.277      2.204        106        640: 100%|██████████| 82/82 [00:25<00:00,  3.\n",
      "                 Class     Images  Instances      Box(P          R      mAP50  mAP50-95): 100%|██████████| 14/14 [00:05"
     ]
    },
    {
     "name": "stdout",
     "output_type": "stream",
     "text": [
      "                   all        679       3388      0.905       0.89      0.951      0.603\n"
     ]
    },
    {
     "name": "stderr",
     "output_type": "stream",
     "text": [
      "\n"
     ]
    },
    {
     "name": "stdout",
     "output_type": "stream",
     "text": [
      "\n",
      "      Epoch    GPU_mem   box_loss   cls_loss   dfl_loss  Instances       Size\n"
     ]
    },
    {
     "name": "stderr",
     "output_type": "stream",
     "text": [
      "     33/300      4.24G       2.48      1.265      2.199         63        640: 100%|██████████| 82/82 [00:25<00:00,  3.\n",
      "                 Class     Images  Instances      Box(P          R      mAP50  mAP50-95): 100%|██████████| 14/14 [00:05"
     ]
    },
    {
     "name": "stdout",
     "output_type": "stream",
     "text": [
      "                   all        679       3388      0.911      0.898      0.949      0.603\n"
     ]
    },
    {
     "name": "stderr",
     "output_type": "stream",
     "text": [
      "\n"
     ]
    },
    {
     "name": "stdout",
     "output_type": "stream",
     "text": [
      "\n",
      "      Epoch    GPU_mem   box_loss   cls_loss   dfl_loss  Instances       Size\n"
     ]
    },
    {
     "name": "stderr",
     "output_type": "stream",
     "text": [
      "     34/300      4.29G      2.497      1.262      2.207        130        640: 100%|██████████| 82/82 [00:26<00:00,  3.\n",
      "                 Class     Images  Instances      Box(P          R      mAP50  mAP50-95): 100%|██████████| 14/14 [00:05"
     ]
    },
    {
     "name": "stdout",
     "output_type": "stream",
     "text": [
      "                   all        679       3388      0.926      0.881       0.95        0.6\n"
     ]
    },
    {
     "name": "stderr",
     "output_type": "stream",
     "text": [
      "\n"
     ]
    },
    {
     "name": "stdout",
     "output_type": "stream",
     "text": [
      "\n",
      "      Epoch    GPU_mem   box_loss   cls_loss   dfl_loss  Instances       Size\n"
     ]
    },
    {
     "name": "stderr",
     "output_type": "stream",
     "text": [
      "     35/300      4.12G      2.496      1.264       2.22        115        640: 100%|██████████| 82/82 [00:25<00:00,  3.\n",
      "                 Class     Images  Instances      Box(P          R      mAP50  mAP50-95): 100%|██████████| 14/14 [00:05"
     ]
    },
    {
     "name": "stdout",
     "output_type": "stream",
     "text": [
      "                   all        679       3388      0.916      0.894       0.95      0.602\n"
     ]
    },
    {
     "name": "stderr",
     "output_type": "stream",
     "text": [
      "\n"
     ]
    },
    {
     "name": "stdout",
     "output_type": "stream",
     "text": [
      "\n",
      "      Epoch    GPU_mem   box_loss   cls_loss   dfl_loss  Instances       Size\n"
     ]
    },
    {
     "name": "stderr",
     "output_type": "stream",
     "text": [
      "     36/300       4.2G      2.473      1.238      2.185         77        640: 100%|██████████| 82/82 [00:25<00:00,  3.\n",
      "                 Class     Images  Instances      Box(P          R      mAP50  mAP50-95): 100%|██████████| 14/14 [00:05"
     ]
    },
    {
     "name": "stdout",
     "output_type": "stream",
     "text": [
      "                   all        679       3388       0.93      0.875      0.949      0.609\n"
     ]
    },
    {
     "name": "stderr",
     "output_type": "stream",
     "text": [
      "\n"
     ]
    },
    {
     "name": "stdout",
     "output_type": "stream",
     "text": [
      "\n",
      "      Epoch    GPU_mem   box_loss   cls_loss   dfl_loss  Instances       Size\n"
     ]
    },
    {
     "name": "stderr",
     "output_type": "stream",
     "text": [
      "     37/300       4.2G      2.479      1.243      2.197         93        640: 100%|██████████| 82/82 [00:25<00:00,  3.\n",
      "                 Class     Images  Instances      Box(P          R      mAP50  mAP50-95): 100%|██████████| 14/14 [00:05"
     ]
    },
    {
     "name": "stdout",
     "output_type": "stream",
     "text": [
      "                   all        679       3388      0.927      0.874      0.949      0.609\n"
     ]
    },
    {
     "name": "stderr",
     "output_type": "stream",
     "text": [
      "\n"
     ]
    },
    {
     "name": "stdout",
     "output_type": "stream",
     "text": [
      "\n",
      "      Epoch    GPU_mem   box_loss   cls_loss   dfl_loss  Instances       Size\n"
     ]
    },
    {
     "name": "stderr",
     "output_type": "stream",
     "text": [
      "     38/300      4.18G      2.445      1.206      2.188        100        640: 100%|██████████| 82/82 [00:25<00:00,  3.\n",
      "                 Class     Images  Instances      Box(P          R      mAP50  mAP50-95): 100%|██████████| 14/14 [00:05"
     ]
    },
    {
     "name": "stdout",
     "output_type": "stream",
     "text": [
      "                   all        679       3388      0.925      0.887      0.952      0.606\n"
     ]
    },
    {
     "name": "stderr",
     "output_type": "stream",
     "text": [
      "\n"
     ]
    },
    {
     "name": "stdout",
     "output_type": "stream",
     "text": [
      "\n",
      "      Epoch    GPU_mem   box_loss   cls_loss   dfl_loss  Instances       Size\n"
     ]
    },
    {
     "name": "stderr",
     "output_type": "stream",
     "text": [
      "     39/300       4.4G       2.47      1.226      2.178        114        640: 100%|██████████| 82/82 [00:25<00:00,  3.\n",
      "                 Class     Images  Instances      Box(P          R      mAP50  mAP50-95): 100%|██████████| 14/14 [00:05"
     ]
    },
    {
     "name": "stdout",
     "output_type": "stream",
     "text": [
      "                   all        679       3388      0.931      0.894      0.956      0.608\n"
     ]
    },
    {
     "name": "stderr",
     "output_type": "stream",
     "text": [
      "\n"
     ]
    },
    {
     "name": "stdout",
     "output_type": "stream",
     "text": [
      "\n",
      "      Epoch    GPU_mem   box_loss   cls_loss   dfl_loss  Instances       Size\n"
     ]
    },
    {
     "name": "stderr",
     "output_type": "stream",
     "text": [
      "     40/300      4.13G      2.423      1.213      2.181         92        640: 100%|██████████| 82/82 [00:25<00:00,  3.\n",
      "                 Class     Images  Instances      Box(P          R      mAP50  mAP50-95): 100%|██████████| 14/14 [00:05"
     ]
    },
    {
     "name": "stdout",
     "output_type": "stream",
     "text": [
      "                   all        679       3388       0.92      0.901      0.956       0.61\n"
     ]
    },
    {
     "name": "stderr",
     "output_type": "stream",
     "text": [
      "\n"
     ]
    },
    {
     "name": "stdout",
     "output_type": "stream",
     "text": [
      "\n",
      "      Epoch    GPU_mem   box_loss   cls_loss   dfl_loss  Instances       Size\n"
     ]
    },
    {
     "name": "stderr",
     "output_type": "stream",
     "text": [
      "     41/300      4.33G      2.447      1.217      2.165         72        640: 100%|██████████| 82/82 [00:25<00:00,  3.\n",
      "                 Class     Images  Instances      Box(P          R      mAP50  mAP50-95): 100%|██████████| 14/14 [00:05"
     ]
    },
    {
     "name": "stdout",
     "output_type": "stream",
     "text": [
      "                   all        679       3388      0.926      0.893      0.954      0.611\n"
     ]
    },
    {
     "name": "stderr",
     "output_type": "stream",
     "text": [
      "\n"
     ]
    },
    {
     "name": "stdout",
     "output_type": "stream",
     "text": [
      "\n",
      "      Epoch    GPU_mem   box_loss   cls_loss   dfl_loss  Instances       Size\n"
     ]
    },
    {
     "name": "stderr",
     "output_type": "stream",
     "text": [
      "     42/300       4.2G      2.417      1.189      2.162         91        640: 100%|██████████| 82/82 [00:25<00:00,  3.\n",
      "                 Class     Images  Instances      Box(P          R      mAP50  mAP50-95): 100%|██████████| 14/14 [00:05"
     ]
    },
    {
     "name": "stdout",
     "output_type": "stream",
     "text": [
      "                   all        679       3388      0.933      0.889      0.955      0.612\n"
     ]
    },
    {
     "name": "stderr",
     "output_type": "stream",
     "text": [
      "\n"
     ]
    },
    {
     "name": "stdout",
     "output_type": "stream",
     "text": [
      "\n",
      "      Epoch    GPU_mem   box_loss   cls_loss   dfl_loss  Instances       Size\n"
     ]
    },
    {
     "name": "stderr",
     "output_type": "stream",
     "text": [
      "     43/300      4.12G      2.411      1.182      2.152        115        640: 100%|██████████| 82/82 [00:25<00:00,  3.\n",
      "                 Class     Images  Instances      Box(P          R      mAP50  mAP50-95): 100%|██████████| 14/14 [00:05"
     ]
    },
    {
     "name": "stdout",
     "output_type": "stream",
     "text": [
      "                   all        679       3388      0.923      0.891      0.953      0.608\n"
     ]
    },
    {
     "name": "stderr",
     "output_type": "stream",
     "text": [
      "\n"
     ]
    },
    {
     "name": "stdout",
     "output_type": "stream",
     "text": [
      "\n",
      "      Epoch    GPU_mem   box_loss   cls_loss   dfl_loss  Instances       Size\n"
     ]
    },
    {
     "name": "stderr",
     "output_type": "stream",
     "text": [
      "     44/300      4.29G       2.42       1.19      2.172         91        640: 100%|██████████| 82/82 [00:25<00:00,  3.\n",
      "                 Class     Images  Instances      Box(P          R      mAP50  mAP50-95): 100%|██████████| 14/14 [00:05"
     ]
    },
    {
     "name": "stdout",
     "output_type": "stream",
     "text": [
      "                   all        679       3388       0.93       0.89      0.952      0.613\n"
     ]
    },
    {
     "name": "stderr",
     "output_type": "stream",
     "text": [
      "\n"
     ]
    },
    {
     "name": "stdout",
     "output_type": "stream",
     "text": [
      "\n",
      "      Epoch    GPU_mem   box_loss   cls_loss   dfl_loss  Instances       Size\n"
     ]
    },
    {
     "name": "stderr",
     "output_type": "stream",
     "text": [
      "     45/300      4.17G      2.409      1.192      2.157        115        640: 100%|██████████| 82/82 [00:25<00:00,  3.\n",
      "                 Class     Images  Instances      Box(P          R      mAP50  mAP50-95): 100%|██████████| 14/14 [00:05"
     ]
    },
    {
     "name": "stdout",
     "output_type": "stream",
     "text": [
      "                   all        679       3388      0.924      0.894      0.954       0.61\n"
     ]
    },
    {
     "name": "stderr",
     "output_type": "stream",
     "text": [
      "\n"
     ]
    },
    {
     "name": "stdout",
     "output_type": "stream",
     "text": [
      "\n",
      "      Epoch    GPU_mem   box_loss   cls_loss   dfl_loss  Instances       Size\n"
     ]
    },
    {
     "name": "stderr",
     "output_type": "stream",
     "text": [
      "     46/300      4.13G      2.394      1.188       2.16         78        640: 100%|██████████| 82/82 [00:25<00:00,  3.\n",
      "                 Class     Images  Instances      Box(P          R      mAP50  mAP50-95): 100%|██████████| 14/14 [00:05"
     ]
    },
    {
     "name": "stdout",
     "output_type": "stream",
     "text": [
      "                   all        679       3388      0.931      0.885      0.953      0.612\n"
     ]
    },
    {
     "name": "stderr",
     "output_type": "stream",
     "text": [
      "\n"
     ]
    },
    {
     "name": "stdout",
     "output_type": "stream",
     "text": [
      "\n",
      "      Epoch    GPU_mem   box_loss   cls_loss   dfl_loss  Instances       Size\n"
     ]
    },
    {
     "name": "stderr",
     "output_type": "stream",
     "text": [
      "     47/300      4.16G       2.41      1.197      2.162         95        640: 100%|██████████| 82/82 [00:25<00:00,  3.\n",
      "                 Class     Images  Instances      Box(P          R      mAP50  mAP50-95): 100%|██████████| 14/14 [00:05"
     ]
    },
    {
     "name": "stdout",
     "output_type": "stream",
     "text": [
      "                   all        679       3388      0.934      0.888      0.956      0.613\n"
     ]
    },
    {
     "name": "stderr",
     "output_type": "stream",
     "text": [
      "\n"
     ]
    },
    {
     "name": "stdout",
     "output_type": "stream",
     "text": [
      "\n",
      "      Epoch    GPU_mem   box_loss   cls_loss   dfl_loss  Instances       Size\n"
     ]
    },
    {
     "name": "stderr",
     "output_type": "stream",
     "text": [
      "     48/300      4.32G      2.375      1.185      2.131         57        640: 100%|██████████| 82/82 [00:25<00:00,  3.\n",
      "                 Class     Images  Instances      Box(P          R      mAP50  mAP50-95): 100%|██████████| 14/14 [00:05"
     ]
    },
    {
     "name": "stdout",
     "output_type": "stream",
     "text": [
      "                   all        679       3388      0.938      0.878      0.952      0.615\n"
     ]
    },
    {
     "name": "stderr",
     "output_type": "stream",
     "text": [
      "\n"
     ]
    },
    {
     "name": "stdout",
     "output_type": "stream",
     "text": [
      "\n",
      "      Epoch    GPU_mem   box_loss   cls_loss   dfl_loss  Instances       Size\n"
     ]
    },
    {
     "name": "stderr",
     "output_type": "stream",
     "text": [
      "     49/300       4.1G      2.379      1.173      2.152         81        640: 100%|██████████| 82/82 [00:25<00:00,  3.\n",
      "                 Class     Images  Instances      Box(P          R      mAP50  mAP50-95): 100%|██████████| 14/14 [00:05"
     ]
    },
    {
     "name": "stdout",
     "output_type": "stream",
     "text": [
      "                   all        679       3388      0.926      0.888      0.952      0.617\n"
     ]
    },
    {
     "name": "stderr",
     "output_type": "stream",
     "text": [
      "\n"
     ]
    },
    {
     "name": "stdout",
     "output_type": "stream",
     "text": [
      "\n",
      "      Epoch    GPU_mem   box_loss   cls_loss   dfl_loss  Instances       Size\n"
     ]
    },
    {
     "name": "stderr",
     "output_type": "stream",
     "text": [
      "     50/300       4.2G       2.36      1.144       2.13         74        640: 100%|██████████| 82/82 [00:25<00:00,  3.\n",
      "                 Class     Images  Instances      Box(P          R      mAP50  mAP50-95): 100%|██████████| 14/14 [00:05"
     ]
    },
    {
     "name": "stdout",
     "output_type": "stream",
     "text": [
      "                   all        679       3388       0.93      0.895      0.956      0.608\n"
     ]
    },
    {
     "name": "stderr",
     "output_type": "stream",
     "text": [
      "\n"
     ]
    },
    {
     "name": "stdout",
     "output_type": "stream",
     "text": [
      "\n",
      "      Epoch    GPU_mem   box_loss   cls_loss   dfl_loss  Instances       Size\n"
     ]
    },
    {
     "name": "stderr",
     "output_type": "stream",
     "text": [
      "     51/300      4.25G      2.351      1.141      2.117        109        640: 100%|██████████| 82/82 [00:26<00:00,  3.\n",
      "                 Class     Images  Instances      Box(P          R      mAP50  mAP50-95): 100%|██████████| 14/14 [00:05"
     ]
    },
    {
     "name": "stdout",
     "output_type": "stream",
     "text": [
      "                   all        679       3388       0.93      0.897      0.956      0.614\n"
     ]
    },
    {
     "name": "stderr",
     "output_type": "stream",
     "text": [
      "\n"
     ]
    },
    {
     "name": "stdout",
     "output_type": "stream",
     "text": [
      "\n",
      "      Epoch    GPU_mem   box_loss   cls_loss   dfl_loss  Instances       Size\n"
     ]
    },
    {
     "name": "stderr",
     "output_type": "stream",
     "text": [
      "     52/300      4.19G      2.331      1.131      2.142         51        640: 100%|██████████| 82/82 [00:25<00:00,  3.\n",
      "                 Class     Images  Instances      Box(P          R      mAP50  mAP50-95): 100%|██████████| 14/14 [00:05"
     ]
    },
    {
     "name": "stdout",
     "output_type": "stream",
     "text": [
      "                   all        679       3388       0.93      0.896      0.957      0.612\n"
     ]
    },
    {
     "name": "stderr",
     "output_type": "stream",
     "text": [
      "\n"
     ]
    },
    {
     "name": "stdout",
     "output_type": "stream",
     "text": [
      "\n",
      "      Epoch    GPU_mem   box_loss   cls_loss   dfl_loss  Instances       Size\n"
     ]
    },
    {
     "name": "stderr",
     "output_type": "stream",
     "text": [
      "     53/300      4.17G       2.35      1.142      2.127         81        640: 100%|██████████| 82/82 [00:25<00:00,  3.\n",
      "                 Class     Images  Instances      Box(P          R      mAP50  mAP50-95): 100%|██████████| 14/14 [00:05"
     ]
    },
    {
     "name": "stdout",
     "output_type": "stream",
     "text": [
      "                   all        679       3388      0.936      0.891      0.957      0.614\n"
     ]
    },
    {
     "name": "stderr",
     "output_type": "stream",
     "text": [
      "\n"
     ]
    },
    {
     "name": "stdout",
     "output_type": "stream",
     "text": [
      "\n",
      "      Epoch    GPU_mem   box_loss   cls_loss   dfl_loss  Instances       Size\n"
     ]
    },
    {
     "name": "stderr",
     "output_type": "stream",
     "text": [
      "     54/300      4.23G      2.318      1.114       2.11         75        640: 100%|██████████| 82/82 [00:26<00:00,  3.\n",
      "                 Class     Images  Instances      Box(P          R      mAP50  mAP50-95): 100%|██████████| 14/14 [00:05"
     ]
    },
    {
     "name": "stdout",
     "output_type": "stream",
     "text": [
      "                   all        679       3388       0.94      0.883      0.957      0.619\n"
     ]
    },
    {
     "name": "stderr",
     "output_type": "stream",
     "text": [
      "\n"
     ]
    },
    {
     "name": "stdout",
     "output_type": "stream",
     "text": [
      "\n",
      "      Epoch    GPU_mem   box_loss   cls_loss   dfl_loss  Instances       Size\n"
     ]
    },
    {
     "name": "stderr",
     "output_type": "stream",
     "text": [
      "     55/300      4.11G      2.341      1.136      2.123        137        640: 100%|██████████| 82/82 [00:25<00:00,  3.\n",
      "                 Class     Images  Instances      Box(P          R      mAP50  mAP50-95): 100%|██████████| 14/14 [00:05"
     ]
    },
    {
     "name": "stdout",
     "output_type": "stream",
     "text": [
      "                   all        679       3388      0.938      0.889      0.953      0.612\n"
     ]
    },
    {
     "name": "stderr",
     "output_type": "stream",
     "text": [
      "\n"
     ]
    },
    {
     "name": "stdout",
     "output_type": "stream",
     "text": [
      "\n",
      "      Epoch    GPU_mem   box_loss   cls_loss   dfl_loss  Instances       Size\n"
     ]
    },
    {
     "name": "stderr",
     "output_type": "stream",
     "text": [
      "     56/300      4.18G      2.313      1.129      2.106         67        640: 100%|██████████| 82/82 [00:25<00:00,  3.\n",
      "                 Class     Images  Instances      Box(P          R      mAP50  mAP50-95): 100%|██████████| 14/14 [00:05"
     ]
    },
    {
     "name": "stdout",
     "output_type": "stream",
     "text": [
      "                   all        679       3388      0.916      0.901      0.953      0.613\n"
     ]
    },
    {
     "name": "stderr",
     "output_type": "stream",
     "text": [
      "\n"
     ]
    },
    {
     "name": "stdout",
     "output_type": "stream",
     "text": [
      "\n",
      "      Epoch    GPU_mem   box_loss   cls_loss   dfl_loss  Instances       Size\n"
     ]
    },
    {
     "name": "stderr",
     "output_type": "stream",
     "text": [
      "     57/300      4.17G      2.328      1.132      2.096        149        640: 100%|██████████| 82/82 [00:25<00:00,  3.\n",
      "                 Class     Images  Instances      Box(P          R      mAP50  mAP50-95): 100%|██████████| 14/14 [00:05"
     ]
    },
    {
     "name": "stdout",
     "output_type": "stream",
     "text": [
      "                   all        679       3388      0.928      0.893      0.956      0.616\n"
     ]
    },
    {
     "name": "stderr",
     "output_type": "stream",
     "text": [
      "\n"
     ]
    },
    {
     "name": "stdout",
     "output_type": "stream",
     "text": [
      "\n",
      "      Epoch    GPU_mem   box_loss   cls_loss   dfl_loss  Instances       Size\n"
     ]
    },
    {
     "name": "stderr",
     "output_type": "stream",
     "text": [
      "     58/300      4.19G      2.313      1.143       2.12        123        640: 100%|██████████| 82/82 [00:25<00:00,  3.\n",
      "                 Class     Images  Instances      Box(P          R      mAP50  mAP50-95): 100%|██████████| 14/14 [00:05"
     ]
    },
    {
     "name": "stdout",
     "output_type": "stream",
     "text": [
      "                   all        679       3388      0.933      0.888      0.956      0.616\n"
     ]
    },
    {
     "name": "stderr",
     "output_type": "stream",
     "text": [
      "\n"
     ]
    },
    {
     "name": "stdout",
     "output_type": "stream",
     "text": [
      "\n",
      "      Epoch    GPU_mem   box_loss   cls_loss   dfl_loss  Instances       Size\n"
     ]
    },
    {
     "name": "stderr",
     "output_type": "stream",
     "text": [
      "     59/300      4.25G      2.302      1.115      2.119         90        640: 100%|██████████| 82/82 [00:25<00:00,  3.\n",
      "                 Class     Images  Instances      Box(P          R      mAP50  mAP50-95): 100%|██████████| 14/14 [00:05"
     ]
    },
    {
     "name": "stdout",
     "output_type": "stream",
     "text": [
      "                   all        679       3388      0.937      0.895      0.957      0.612\n"
     ]
    },
    {
     "name": "stderr",
     "output_type": "stream",
     "text": [
      "\n"
     ]
    },
    {
     "name": "stdout",
     "output_type": "stream",
     "text": [
      "\n",
      "      Epoch    GPU_mem   box_loss   cls_loss   dfl_loss  Instances       Size\n"
     ]
    },
    {
     "name": "stderr",
     "output_type": "stream",
     "text": [
      "     60/300       4.2G      2.282      1.113      2.102        112        640: 100%|██████████| 82/82 [00:25<00:00,  3.\n",
      "                 Class     Images  Instances      Box(P          R      mAP50  mAP50-95): 100%|██████████| 14/14 [00:05"
     ]
    },
    {
     "name": "stdout",
     "output_type": "stream",
     "text": [
      "                   all        679       3388      0.921      0.891      0.954      0.616\n"
     ]
    },
    {
     "name": "stderr",
     "output_type": "stream",
     "text": [
      "\n"
     ]
    },
    {
     "name": "stdout",
     "output_type": "stream",
     "text": [
      "\n",
      "      Epoch    GPU_mem   box_loss   cls_loss   dfl_loss  Instances       Size\n"
     ]
    },
    {
     "name": "stderr",
     "output_type": "stream",
     "text": [
      "     61/300      4.12G      2.275      1.103        2.1         87        640: 100%|██████████| 82/82 [00:25<00:00,  3.\n",
      "                 Class     Images  Instances      Box(P          R      mAP50  mAP50-95): 100%|██████████| 14/14 [00:05"
     ]
    },
    {
     "name": "stdout",
     "output_type": "stream",
     "text": [
      "                   all        679       3388      0.933      0.891      0.956      0.613\n"
     ]
    },
    {
     "name": "stderr",
     "output_type": "stream",
     "text": [
      "\n"
     ]
    },
    {
     "name": "stdout",
     "output_type": "stream",
     "text": [
      "\n",
      "      Epoch    GPU_mem   box_loss   cls_loss   dfl_loss  Instances       Size\n"
     ]
    },
    {
     "name": "stderr",
     "output_type": "stream",
     "text": [
      "     62/300       4.2G      2.299      1.106      2.095         78        640: 100%|██████████| 82/82 [00:25<00:00,  3.\n",
      "                 Class     Images  Instances      Box(P          R      mAP50  mAP50-95): 100%|██████████| 14/14 [00:05"
     ]
    },
    {
     "name": "stdout",
     "output_type": "stream",
     "text": [
      "                   all        679       3388      0.928       0.89      0.955      0.618\n"
     ]
    },
    {
     "name": "stderr",
     "output_type": "stream",
     "text": [
      "\n"
     ]
    },
    {
     "name": "stdout",
     "output_type": "stream",
     "text": [
      "\n",
      "      Epoch    GPU_mem   box_loss   cls_loss   dfl_loss  Instances       Size\n"
     ]
    },
    {
     "name": "stderr",
     "output_type": "stream",
     "text": [
      "     63/300      4.22G      2.296      1.122      2.087         85        640: 100%|██████████| 82/82 [00:25<00:00,  3.\n",
      "                 Class     Images  Instances      Box(P          R      mAP50  mAP50-95): 100%|██████████| 14/14 [00:05"
     ]
    },
    {
     "name": "stdout",
     "output_type": "stream",
     "text": [
      "                   all        679       3388      0.933      0.885      0.953      0.616\n"
     ]
    },
    {
     "name": "stderr",
     "output_type": "stream",
     "text": [
      "\n"
     ]
    },
    {
     "name": "stdout",
     "output_type": "stream",
     "text": [
      "\n",
      "      Epoch    GPU_mem   box_loss   cls_loss   dfl_loss  Instances       Size\n"
     ]
    },
    {
     "name": "stderr",
     "output_type": "stream",
     "text": [
      "     64/300       4.1G      2.251      1.111       2.09         75        640: 100%|██████████| 82/82 [00:25<00:00,  3.\n",
      "                 Class     Images  Instances      Box(P          R      mAP50  mAP50-95): 100%|██████████| 14/14 [00:05"
     ]
    },
    {
     "name": "stdout",
     "output_type": "stream",
     "text": [
      "                   all        679       3388      0.928      0.901      0.956      0.615\n"
     ]
    },
    {
     "name": "stderr",
     "output_type": "stream",
     "text": [
      "\n"
     ]
    },
    {
     "name": "stdout",
     "output_type": "stream",
     "text": [
      "\n",
      "      Epoch    GPU_mem   box_loss   cls_loss   dfl_loss  Instances       Size\n"
     ]
    },
    {
     "name": "stderr",
     "output_type": "stream",
     "text": [
      "     65/300      4.11G      2.272      1.089      2.082        119        640: 100%|██████████| 82/82 [00:25<00:00,  3.\n",
      "                 Class     Images  Instances      Box(P          R      mAP50  mAP50-95): 100%|██████████| 14/14 [00:05"
     ]
    },
    {
     "name": "stdout",
     "output_type": "stream",
     "text": [
      "                   all        679       3388      0.929      0.895      0.955      0.612\n"
     ]
    },
    {
     "name": "stderr",
     "output_type": "stream",
     "text": [
      "\n"
     ]
    },
    {
     "name": "stdout",
     "output_type": "stream",
     "text": [
      "\n",
      "      Epoch    GPU_mem   box_loss   cls_loss   dfl_loss  Instances       Size\n"
     ]
    },
    {
     "name": "stderr",
     "output_type": "stream",
     "text": [
      "     66/300       4.2G      2.261      1.087      2.067         76        640: 100%|██████████| 82/82 [00:25<00:00,  3.\n",
      "                 Class     Images  Instances      Box(P          R      mAP50  mAP50-95): 100%|██████████| 14/14 [00:05"
     ]
    },
    {
     "name": "stdout",
     "output_type": "stream",
     "text": [
      "                   all        679       3388       0.93      0.896      0.956      0.617\n"
     ]
    },
    {
     "name": "stderr",
     "output_type": "stream",
     "text": [
      "\n"
     ]
    },
    {
     "name": "stdout",
     "output_type": "stream",
     "text": [
      "\n",
      "      Epoch    GPU_mem   box_loss   cls_loss   dfl_loss  Instances       Size\n"
     ]
    },
    {
     "name": "stderr",
     "output_type": "stream",
     "text": [
      "     67/300      4.12G      2.243      1.087      2.081         70        640: 100%|██████████| 82/82 [00:25<00:00,  3.\n",
      "                 Class     Images  Instances      Box(P          R      mAP50  mAP50-95): 100%|██████████| 14/14 [00:05"
     ]
    },
    {
     "name": "stdout",
     "output_type": "stream",
     "text": [
      "                   all        679       3388       0.93      0.903      0.958      0.616\n"
     ]
    },
    {
     "name": "stderr",
     "output_type": "stream",
     "text": [
      "\n"
     ]
    },
    {
     "name": "stdout",
     "output_type": "stream",
     "text": [
      "\n",
      "      Epoch    GPU_mem   box_loss   cls_loss   dfl_loss  Instances       Size\n"
     ]
    },
    {
     "name": "stderr",
     "output_type": "stream",
     "text": [
      "     68/300      4.21G      2.218      1.075      2.067        119        640: 100%|██████████| 82/82 [00:25<00:00,  3.\n",
      "                 Class     Images  Instances      Box(P          R      mAP50  mAP50-95): 100%|██████████| 14/14 [00:05"
     ]
    },
    {
     "name": "stdout",
     "output_type": "stream",
     "text": [
      "                   all        679       3388       0.93      0.892      0.957      0.618\n"
     ]
    },
    {
     "name": "stderr",
     "output_type": "stream",
     "text": [
      "\n"
     ]
    },
    {
     "name": "stdout",
     "output_type": "stream",
     "text": [
      "\n",
      "      Epoch    GPU_mem   box_loss   cls_loss   dfl_loss  Instances       Size\n"
     ]
    },
    {
     "name": "stderr",
     "output_type": "stream",
     "text": [
      "     69/300      4.14G      2.235      1.093      2.078         68        640: 100%|██████████| 82/82 [00:25<00:00,  3.\n",
      "                 Class     Images  Instances      Box(P          R      mAP50  mAP50-95): 100%|██████████| 14/14 [00:05"
     ]
    },
    {
     "name": "stdout",
     "output_type": "stream",
     "text": [
      "                   all        679       3388      0.924      0.896      0.956      0.618\n"
     ]
    },
    {
     "name": "stderr",
     "output_type": "stream",
     "text": [
      "\n"
     ]
    },
    {
     "name": "stdout",
     "output_type": "stream",
     "text": [
      "\n",
      "      Epoch    GPU_mem   box_loss   cls_loss   dfl_loss  Instances       Size\n"
     ]
    },
    {
     "name": "stderr",
     "output_type": "stream",
     "text": [
      "     70/300       4.1G      2.215      1.057      2.075        148        640: 100%|██████████| 82/82 [00:25<00:00,  3.\n",
      "                 Class     Images  Instances      Box(P          R      mAP50  mAP50-95): 100%|██████████| 14/14 [00:05"
     ]
    },
    {
     "name": "stdout",
     "output_type": "stream",
     "text": [
      "                   all        679       3388      0.931      0.902      0.956      0.619\n"
     ]
    },
    {
     "name": "stderr",
     "output_type": "stream",
     "text": [
      "\n"
     ]
    },
    {
     "name": "stdout",
     "output_type": "stream",
     "text": [
      "\n",
      "      Epoch    GPU_mem   box_loss   cls_loss   dfl_loss  Instances       Size\n"
     ]
    },
    {
     "name": "stderr",
     "output_type": "stream",
     "text": [
      "     71/300      4.17G      2.258      1.077       2.08        128        640: 100%|██████████| 82/82 [00:25<00:00,  3.\n",
      "                 Class     Images  Instances      Box(P          R      mAP50  mAP50-95): 100%|██████████| 14/14 [00:05"
     ]
    },
    {
     "name": "stdout",
     "output_type": "stream",
     "text": [
      "                   all        679       3388      0.931       0.89      0.956      0.618\n"
     ]
    },
    {
     "name": "stderr",
     "output_type": "stream",
     "text": [
      "\n"
     ]
    },
    {
     "name": "stdout",
     "output_type": "stream",
     "text": [
      "\n",
      "      Epoch    GPU_mem   box_loss   cls_loss   dfl_loss  Instances       Size\n"
     ]
    },
    {
     "name": "stderr",
     "output_type": "stream",
     "text": [
      "     72/300      4.23G      2.226      1.058       2.05         84        640: 100%|██████████| 82/82 [00:25<00:00,  3.\n",
      "                 Class     Images  Instances      Box(P          R      mAP50  mAP50-95): 100%|██████████| 14/14 [00:05"
     ]
    },
    {
     "name": "stdout",
     "output_type": "stream",
     "text": [
      "                   all        679       3388      0.937      0.894      0.956       0.62\n"
     ]
    },
    {
     "name": "stderr",
     "output_type": "stream",
     "text": [
      "\n"
     ]
    },
    {
     "name": "stdout",
     "output_type": "stream",
     "text": [
      "\n",
      "      Epoch    GPU_mem   box_loss   cls_loss   dfl_loss  Instances       Size\n"
     ]
    },
    {
     "name": "stderr",
     "output_type": "stream",
     "text": [
      "     73/300      4.12G      2.199      1.047      2.073         63        640: 100%|██████████| 82/82 [00:25<00:00,  3.\n",
      "                 Class     Images  Instances      Box(P          R      mAP50  mAP50-95): 100%|██████████| 14/14 [00:05"
     ]
    },
    {
     "name": "stdout",
     "output_type": "stream",
     "text": [
      "                   all        679       3388      0.925      0.895      0.956      0.617\n"
     ]
    },
    {
     "name": "stderr",
     "output_type": "stream",
     "text": [
      "\n"
     ]
    },
    {
     "name": "stdout",
     "output_type": "stream",
     "text": [
      "\n",
      "      Epoch    GPU_mem   box_loss   cls_loss   dfl_loss  Instances       Size\n"
     ]
    },
    {
     "name": "stderr",
     "output_type": "stream",
     "text": [
      "     74/300      4.21G      2.235      1.085      2.078        114        640: 100%|██████████| 82/82 [00:25<00:00,  3.\n",
      "                 Class     Images  Instances      Box(P          R      mAP50  mAP50-95): 100%|██████████| 14/14 [00:05"
     ]
    },
    {
     "name": "stdout",
     "output_type": "stream",
     "text": [
      "                   all        679       3388      0.925        0.9      0.958       0.62\n"
     ]
    },
    {
     "name": "stderr",
     "output_type": "stream",
     "text": [
      "\n"
     ]
    },
    {
     "name": "stdout",
     "output_type": "stream",
     "text": [
      "\n",
      "      Epoch    GPU_mem   box_loss   cls_loss   dfl_loss  Instances       Size\n"
     ]
    },
    {
     "name": "stderr",
     "output_type": "stream",
     "text": [
      "     75/300      4.15G      2.211      1.063      2.064         76        640: 100%|██████████| 82/82 [00:25<00:00,  3.\n",
      "                 Class     Images  Instances      Box(P          R      mAP50  mAP50-95): 100%|██████████| 14/14 [00:05"
     ]
    },
    {
     "name": "stdout",
     "output_type": "stream",
     "text": [
      "                   all        679       3388      0.936      0.896      0.958      0.617\n"
     ]
    },
    {
     "name": "stderr",
     "output_type": "stream",
     "text": [
      "\n"
     ]
    },
    {
     "name": "stdout",
     "output_type": "stream",
     "text": [
      "\n",
      "      Epoch    GPU_mem   box_loss   cls_loss   dfl_loss  Instances       Size\n"
     ]
    },
    {
     "name": "stderr",
     "output_type": "stream",
     "text": [
      "     76/300      4.12G      2.197      1.039       2.03        110        640: 100%|██████████| 82/82 [00:25<00:00,  3.\n",
      "                 Class     Images  Instances      Box(P          R      mAP50  mAP50-95): 100%|██████████| 14/14 [00:05"
     ]
    },
    {
     "name": "stdout",
     "output_type": "stream",
     "text": [
      "                   all        679       3388       0.95      0.883      0.956      0.617\n"
     ]
    },
    {
     "name": "stderr",
     "output_type": "stream",
     "text": [
      "\n"
     ]
    },
    {
     "name": "stdout",
     "output_type": "stream",
     "text": [
      "\n",
      "      Epoch    GPU_mem   box_loss   cls_loss   dfl_loss  Instances       Size\n"
     ]
    },
    {
     "name": "stderr",
     "output_type": "stream",
     "text": [
      "     77/300      4.43G      2.185      1.042      2.054        120        640: 100%|██████████| 82/82 [00:25<00:00,  3.\n",
      "                 Class     Images  Instances      Box(P          R      mAP50  mAP50-95): 100%|██████████| 14/14 [00:05"
     ]
    },
    {
     "name": "stdout",
     "output_type": "stream",
     "text": [
      "                   all        679       3388      0.936      0.904      0.959      0.614\n"
     ]
    },
    {
     "name": "stderr",
     "output_type": "stream",
     "text": [
      "\n"
     ]
    },
    {
     "name": "stdout",
     "output_type": "stream",
     "text": [
      "\n",
      "      Epoch    GPU_mem   box_loss   cls_loss   dfl_loss  Instances       Size\n"
     ]
    },
    {
     "name": "stderr",
     "output_type": "stream",
     "text": [
      "     78/300      4.16G      2.191      1.029      2.039         98        640: 100%|██████████| 82/82 [00:25<00:00,  3.\n",
      "                 Class     Images  Instances      Box(P          R      mAP50  mAP50-95): 100%|██████████| 14/14 [00:05"
     ]
    },
    {
     "name": "stdout",
     "output_type": "stream",
     "text": [
      "                   all        679       3388      0.939      0.896      0.957      0.617\n"
     ]
    },
    {
     "name": "stderr",
     "output_type": "stream",
     "text": [
      "\n"
     ]
    },
    {
     "name": "stdout",
     "output_type": "stream",
     "text": [
      "\n",
      "      Epoch    GPU_mem   box_loss   cls_loss   dfl_loss  Instances       Size\n"
     ]
    },
    {
     "name": "stderr",
     "output_type": "stream",
     "text": [
      "     79/300      4.18G      2.163      1.026      2.042        113        640: 100%|██████████| 82/82 [00:25<00:00,  3.\n",
      "                 Class     Images  Instances      Box(P          R      mAP50  mAP50-95): 100%|██████████| 14/14 [00:05"
     ]
    },
    {
     "name": "stdout",
     "output_type": "stream",
     "text": [
      "                   all        679       3388      0.936      0.891      0.957      0.618\n"
     ]
    },
    {
     "name": "stderr",
     "output_type": "stream",
     "text": [
      "\n"
     ]
    },
    {
     "name": "stdout",
     "output_type": "stream",
     "text": [
      "\n",
      "      Epoch    GPU_mem   box_loss   cls_loss   dfl_loss  Instances       Size\n"
     ]
    },
    {
     "name": "stderr",
     "output_type": "stream",
     "text": [
      "     80/300      4.18G      2.175       1.04      2.052        140        640: 100%|██████████| 82/82 [00:25<00:00,  3.\n",
      "                 Class     Images  Instances      Box(P          R      mAP50  mAP50-95): 100%|██████████| 14/14 [00:05"
     ]
    },
    {
     "name": "stdout",
     "output_type": "stream",
     "text": [
      "                   all        679       3388      0.932      0.898      0.958      0.619\n"
     ]
    },
    {
     "name": "stderr",
     "output_type": "stream",
     "text": [
      "\n"
     ]
    },
    {
     "name": "stdout",
     "output_type": "stream",
     "text": [
      "\n",
      "      Epoch    GPU_mem   box_loss   cls_loss   dfl_loss  Instances       Size\n"
     ]
    },
    {
     "name": "stderr",
     "output_type": "stream",
     "text": [
      "     81/300      4.37G       2.18      1.053      2.046         59        640: 100%|██████████| 82/82 [00:25<00:00,  3.\n",
      "                 Class     Images  Instances      Box(P          R      mAP50  mAP50-95): 100%|██████████| 14/14 [00:05"
     ]
    },
    {
     "name": "stdout",
     "output_type": "stream",
     "text": [
      "                   all        679       3388      0.941      0.896      0.961      0.619\n"
     ]
    },
    {
     "name": "stderr",
     "output_type": "stream",
     "text": [
      "\n"
     ]
    },
    {
     "name": "stdout",
     "output_type": "stream",
     "text": [
      "\n",
      "      Epoch    GPU_mem   box_loss   cls_loss   dfl_loss  Instances       Size\n"
     ]
    },
    {
     "name": "stderr",
     "output_type": "stream",
     "text": [
      "     82/300      4.23G      2.179      1.039      2.052        108        640: 100%|██████████| 82/82 [00:25<00:00,  3.\n",
      "                 Class     Images  Instances      Box(P          R      mAP50  mAP50-95): 100%|██████████| 14/14 [00:05"
     ]
    },
    {
     "name": "stdout",
     "output_type": "stream",
     "text": [
      "                   all        679       3388      0.938      0.891      0.956      0.614\n"
     ]
    },
    {
     "name": "stderr",
     "output_type": "stream",
     "text": [
      "\n"
     ]
    },
    {
     "name": "stdout",
     "output_type": "stream",
     "text": [
      "\n",
      "      Epoch    GPU_mem   box_loss   cls_loss   dfl_loss  Instances       Size\n"
     ]
    },
    {
     "name": "stderr",
     "output_type": "stream",
     "text": [
      "     83/300       4.2G      2.172      1.033      2.041         76        640: 100%|██████████| 82/82 [00:25<00:00,  3.\n",
      "                 Class     Images  Instances      Box(P          R      mAP50  mAP50-95): 100%|██████████| 14/14 [00:05"
     ]
    },
    {
     "name": "stdout",
     "output_type": "stream",
     "text": [
      "                   all        679       3388      0.925      0.896      0.956      0.616\n"
     ]
    },
    {
     "name": "stderr",
     "output_type": "stream",
     "text": [
      "\n"
     ]
    },
    {
     "name": "stdout",
     "output_type": "stream",
     "text": [
      "\n",
      "      Epoch    GPU_mem   box_loss   cls_loss   dfl_loss  Instances       Size\n"
     ]
    },
    {
     "name": "stderr",
     "output_type": "stream",
     "text": [
      "     84/300       4.4G      2.162      1.027      2.037         95        640: 100%|██████████| 82/82 [00:25<00:00,  3.\n",
      "                 Class     Images  Instances      Box(P          R      mAP50  mAP50-95): 100%|██████████| 14/14 [00:05"
     ]
    },
    {
     "name": "stdout",
     "output_type": "stream",
     "text": [
      "                   all        679       3388       0.94        0.9       0.96      0.618\n"
     ]
    },
    {
     "name": "stderr",
     "output_type": "stream",
     "text": [
      "\n"
     ]
    },
    {
     "name": "stdout",
     "output_type": "stream",
     "text": [
      "\n",
      "      Epoch    GPU_mem   box_loss   cls_loss   dfl_loss  Instances       Size\n"
     ]
    },
    {
     "name": "stderr",
     "output_type": "stream",
     "text": [
      "     85/300      4.12G      2.179      1.034      2.037        126        640: 100%|██████████| 82/82 [00:25<00:00,  3.\n",
      "                 Class     Images  Instances      Box(P          R      mAP50  mAP50-95): 100%|██████████| 14/14 [00:05"
     ]
    },
    {
     "name": "stdout",
     "output_type": "stream",
     "text": [
      "                   all        679       3388      0.948      0.891      0.961      0.619\n"
     ]
    },
    {
     "name": "stderr",
     "output_type": "stream",
     "text": [
      "\n"
     ]
    },
    {
     "name": "stdout",
     "output_type": "stream",
     "text": [
      "\n",
      "      Epoch    GPU_mem   box_loss   cls_loss   dfl_loss  Instances       Size\n"
     ]
    },
    {
     "name": "stderr",
     "output_type": "stream",
     "text": [
      "     86/300      4.11G      2.179      1.027      2.046         88        640: 100%|██████████| 82/82 [00:25<00:00,  3.\n",
      "                 Class     Images  Instances      Box(P          R      mAP50  mAP50-95): 100%|██████████| 14/14 [00:05"
     ]
    },
    {
     "name": "stdout",
     "output_type": "stream",
     "text": [
      "                   all        679       3388      0.948      0.882      0.959      0.619\n"
     ]
    },
    {
     "name": "stderr",
     "output_type": "stream",
     "text": [
      "\n"
     ]
    },
    {
     "name": "stdout",
     "output_type": "stream",
     "text": [
      "\n",
      "      Epoch    GPU_mem   box_loss   cls_loss   dfl_loss  Instances       Size\n"
     ]
    },
    {
     "name": "stderr",
     "output_type": "stream",
     "text": [
      "     87/300      4.18G       2.13      1.009       2.02        140        640: 100%|██████████| 82/82 [00:25<00:00,  3.\n",
      "                 Class     Images  Instances      Box(P          R      mAP50  mAP50-95): 100%|██████████| 14/14 [00:05"
     ]
    },
    {
     "name": "stdout",
     "output_type": "stream",
     "text": [
      "                   all        679       3388      0.935      0.896      0.955      0.622\n"
     ]
    },
    {
     "name": "stderr",
     "output_type": "stream",
     "text": [
      "\n"
     ]
    },
    {
     "name": "stdout",
     "output_type": "stream",
     "text": [
      "\n",
      "      Epoch    GPU_mem   box_loss   cls_loss   dfl_loss  Instances       Size\n"
     ]
    },
    {
     "name": "stderr",
     "output_type": "stream",
     "text": [
      "     88/300      4.16G       2.14     0.9981      2.017        103        640: 100%|██████████| 82/82 [00:25<00:00,  3.\n",
      "                 Class     Images  Instances      Box(P          R      mAP50  mAP50-95): 100%|██████████| 14/14 [00:05"
     ]
    },
    {
     "name": "stdout",
     "output_type": "stream",
     "text": [
      "                   all        679       3388      0.935      0.902      0.959      0.622\n"
     ]
    },
    {
     "name": "stderr",
     "output_type": "stream",
     "text": [
      "\n"
     ]
    },
    {
     "name": "stdout",
     "output_type": "stream",
     "text": [
      "\n",
      "      Epoch    GPU_mem   box_loss   cls_loss   dfl_loss  Instances       Size\n"
     ]
    },
    {
     "name": "stderr",
     "output_type": "stream",
     "text": [
      "     89/300      4.25G      2.127     0.9973       2.02        156        640: 100%|██████████| 82/82 [00:25<00:00,  3.\n",
      "                 Class     Images  Instances      Box(P          R      mAP50  mAP50-95): 100%|██████████| 14/14 [00:05"
     ]
    },
    {
     "name": "stdout",
     "output_type": "stream",
     "text": [
      "                   all        679       3388       0.93      0.901      0.959      0.618\n"
     ]
    },
    {
     "name": "stderr",
     "output_type": "stream",
     "text": [
      "\n"
     ]
    },
    {
     "name": "stdout",
     "output_type": "stream",
     "text": [
      "\n",
      "      Epoch    GPU_mem   box_loss   cls_loss   dfl_loss  Instances       Size\n"
     ]
    },
    {
     "name": "stderr",
     "output_type": "stream",
     "text": [
      "     90/300      4.36G      2.139      1.005      2.023        116        640: 100%|██████████| 82/82 [00:25<00:00,  3.\n",
      "                 Class     Images  Instances      Box(P          R      mAP50  mAP50-95): 100%|██████████| 14/14 [00:05"
     ]
    },
    {
     "name": "stdout",
     "output_type": "stream",
     "text": [
      "                   all        679       3388      0.931      0.895      0.958       0.62\n"
     ]
    },
    {
     "name": "stderr",
     "output_type": "stream",
     "text": [
      "\n"
     ]
    },
    {
     "name": "stdout",
     "output_type": "stream",
     "text": [
      "\n",
      "      Epoch    GPU_mem   box_loss   cls_loss   dfl_loss  Instances       Size\n"
     ]
    },
    {
     "name": "stderr",
     "output_type": "stream",
     "text": [
      "     91/300      4.23G      2.153      1.015      2.026        108        640: 100%|██████████| 82/82 [00:25<00:00,  3.\n",
      "                 Class     Images  Instances      Box(P          R      mAP50  mAP50-95): 100%|██████████| 14/14 [00:05"
     ]
    },
    {
     "name": "stdout",
     "output_type": "stream",
     "text": [
      "                   all        679       3388       0.94      0.889      0.958      0.621\n"
     ]
    },
    {
     "name": "stderr",
     "output_type": "stream",
     "text": [
      "\n"
     ]
    },
    {
     "name": "stdout",
     "output_type": "stream",
     "text": [
      "\n",
      "      Epoch    GPU_mem   box_loss   cls_loss   dfl_loss  Instances       Size\n"
     ]
    },
    {
     "name": "stderr",
     "output_type": "stream",
     "text": [
      "     92/300      4.18G      2.116     0.9908      2.014        125        640: 100%|██████████| 82/82 [00:25<00:00,  3.\n",
      "                 Class     Images  Instances      Box(P          R      mAP50  mAP50-95): 100%|██████████| 14/14 [00:05"
     ]
    },
    {
     "name": "stdout",
     "output_type": "stream",
     "text": [
      "                   all        679       3388      0.942        0.9      0.959      0.619\n"
     ]
    },
    {
     "name": "stderr",
     "output_type": "stream",
     "text": [
      "\n"
     ]
    },
    {
     "name": "stdout",
     "output_type": "stream",
     "text": [
      "\n",
      "      Epoch    GPU_mem   box_loss   cls_loss   dfl_loss  Instances       Size\n"
     ]
    },
    {
     "name": "stderr",
     "output_type": "stream",
     "text": [
      "     93/300      4.36G      2.121     0.9945      2.009        109        640: 100%|██████████| 82/82 [00:25<00:00,  3.\n",
      "                 Class     Images  Instances      Box(P          R      mAP50  mAP50-95): 100%|██████████| 14/14 [00:05"
     ]
    },
    {
     "name": "stdout",
     "output_type": "stream",
     "text": [
      "                   all        679       3388      0.926      0.908      0.958      0.622\n"
     ]
    },
    {
     "name": "stderr",
     "output_type": "stream",
     "text": [
      "\n"
     ]
    },
    {
     "name": "stdout",
     "output_type": "stream",
     "text": [
      "\n",
      "      Epoch    GPU_mem   box_loss   cls_loss   dfl_loss  Instances       Size\n"
     ]
    },
    {
     "name": "stderr",
     "output_type": "stream",
     "text": [
      "     94/300      4.22G      2.131      1.019      2.022        155        640: 100%|██████████| 82/82 [00:25<00:00,  3.\n",
      "                 Class     Images  Instances      Box(P          R      mAP50  mAP50-95): 100%|██████████| 14/14 [00:05"
     ]
    },
    {
     "name": "stdout",
     "output_type": "stream",
     "text": [
      "                   all        679       3388      0.939      0.896      0.959      0.623\n"
     ]
    },
    {
     "name": "stderr",
     "output_type": "stream",
     "text": [
      "\n"
     ]
    },
    {
     "name": "stdout",
     "output_type": "stream",
     "text": [
      "\n",
      "      Epoch    GPU_mem   box_loss   cls_loss   dfl_loss  Instances       Size\n"
     ]
    },
    {
     "name": "stderr",
     "output_type": "stream",
     "text": [
      "     95/300       4.4G      2.099     0.9993      2.006        116        640: 100%|██████████| 82/82 [00:25<00:00,  3.\n",
      "                 Class     Images  Instances      Box(P          R      mAP50  mAP50-95): 100%|██████████| 14/14 [00:05"
     ]
    },
    {
     "name": "stdout",
     "output_type": "stream",
     "text": [
      "                   all        679       3388       0.94      0.897      0.958      0.623\n"
     ]
    },
    {
     "name": "stderr",
     "output_type": "stream",
     "text": [
      "\n"
     ]
    },
    {
     "name": "stdout",
     "output_type": "stream",
     "text": [
      "\n",
      "      Epoch    GPU_mem   box_loss   cls_loss   dfl_loss  Instances       Size\n"
     ]
    },
    {
     "name": "stderr",
     "output_type": "stream",
     "text": [
      "     96/300      4.28G      2.093     0.9848      2.007         78        640: 100%|██████████| 82/82 [00:25<00:00,  3.\n",
      "                 Class     Images  Instances      Box(P          R      mAP50  mAP50-95): 100%|██████████| 14/14 [00:05"
     ]
    },
    {
     "name": "stdout",
     "output_type": "stream",
     "text": [
      "                   all        679       3388      0.937      0.887      0.956      0.619\n"
     ]
    },
    {
     "name": "stderr",
     "output_type": "stream",
     "text": [
      "\n"
     ]
    },
    {
     "name": "stdout",
     "output_type": "stream",
     "text": [
      "\n",
      "      Epoch    GPU_mem   box_loss   cls_loss   dfl_loss  Instances       Size\n"
     ]
    },
    {
     "name": "stderr",
     "output_type": "stream",
     "text": [
      "     97/300      4.29G      2.095     0.9847      2.007         66        640: 100%|██████████| 82/82 [00:25<00:00,  3.\n",
      "                 Class     Images  Instances      Box(P          R      mAP50  mAP50-95): 100%|██████████| 14/14 [00:05"
     ]
    },
    {
     "name": "stdout",
     "output_type": "stream",
     "text": [
      "                   all        679       3388      0.926       0.91       0.96      0.622\n"
     ]
    },
    {
     "name": "stderr",
     "output_type": "stream",
     "text": [
      "\n"
     ]
    },
    {
     "name": "stdout",
     "output_type": "stream",
     "text": [
      "\n",
      "      Epoch    GPU_mem   box_loss   cls_loss   dfl_loss  Instances       Size\n"
     ]
    },
    {
     "name": "stderr",
     "output_type": "stream",
     "text": [
      "     98/300      4.13G      2.082     0.9729       1.99        123        640: 100%|██████████| 82/82 [00:25<00:00,  3.\n",
      "                 Class     Images  Instances      Box(P          R      mAP50  mAP50-95): 100%|██████████| 14/14 [00:05"
     ]
    },
    {
     "name": "stdout",
     "output_type": "stream",
     "text": [
      "                   all        679       3388      0.928      0.904      0.959      0.621\n"
     ]
    },
    {
     "name": "stderr",
     "output_type": "stream",
     "text": [
      "\n"
     ]
    },
    {
     "name": "stdout",
     "output_type": "stream",
     "text": [
      "\n",
      "      Epoch    GPU_mem   box_loss   cls_loss   dfl_loss  Instances       Size\n"
     ]
    },
    {
     "name": "stderr",
     "output_type": "stream",
     "text": [
      "     99/300      4.17G      2.071     0.9715      1.989         79        640: 100%|██████████| 82/82 [00:25<00:00,  3.\n",
      "                 Class     Images  Instances      Box(P          R      mAP50  mAP50-95): 100%|██████████| 14/14 [00:05"
     ]
    },
    {
     "name": "stdout",
     "output_type": "stream",
     "text": [
      "                   all        679       3388      0.922      0.905      0.958       0.62\n"
     ]
    },
    {
     "name": "stderr",
     "output_type": "stream",
     "text": [
      "\n"
     ]
    },
    {
     "name": "stdout",
     "output_type": "stream",
     "text": [
      "\n",
      "      Epoch    GPU_mem   box_loss   cls_loss   dfl_loss  Instances       Size\n"
     ]
    },
    {
     "name": "stderr",
     "output_type": "stream",
     "text": [
      "    100/300      4.21G      2.103     0.9994      2.021         80        640: 100%|██████████| 82/82 [00:25<00:00,  3.\n",
      "                 Class     Images  Instances      Box(P          R      mAP50  mAP50-95): 100%|██████████| 14/14 [00:05"
     ]
    },
    {
     "name": "stdout",
     "output_type": "stream",
     "text": [
      "                   all        679       3388      0.924      0.909      0.959      0.615\n"
     ]
    },
    {
     "name": "stderr",
     "output_type": "stream",
     "text": [
      "\n"
     ]
    },
    {
     "name": "stdout",
     "output_type": "stream",
     "text": [
      "\n",
      "      Epoch    GPU_mem   box_loss   cls_loss   dfl_loss  Instances       Size\n"
     ]
    },
    {
     "name": "stderr",
     "output_type": "stream",
     "text": [
      "    101/300      4.24G       2.07     0.9827      1.998         98        640: 100%|██████████| 82/82 [00:25<00:00,  3.\n",
      "                 Class     Images  Instances      Box(P          R      mAP50  mAP50-95): 100%|██████████| 14/14 [00:05"
     ]
    },
    {
     "name": "stdout",
     "output_type": "stream",
     "text": [
      "                   all        679       3388      0.939      0.899      0.959       0.62\n"
     ]
    },
    {
     "name": "stderr",
     "output_type": "stream",
     "text": [
      "\n"
     ]
    },
    {
     "name": "stdout",
     "output_type": "stream",
     "text": [
      "\n",
      "      Epoch    GPU_mem   box_loss   cls_loss   dfl_loss  Instances       Size\n"
     ]
    },
    {
     "name": "stderr",
     "output_type": "stream",
     "text": [
      "    102/300      4.37G      2.075     0.9798      1.996         65        640: 100%|██████████| 82/82 [00:25<00:00,  3.\n",
      "                 Class     Images  Instances      Box(P          R      mAP50  mAP50-95): 100%|██████████| 14/14 [00:05"
     ]
    },
    {
     "name": "stdout",
     "output_type": "stream",
     "text": [
      "                   all        679       3388      0.923       0.91      0.959      0.618\n"
     ]
    },
    {
     "name": "stderr",
     "output_type": "stream",
     "text": [
      "\n"
     ]
    },
    {
     "name": "stdout",
     "output_type": "stream",
     "text": [
      "\n",
      "      Epoch    GPU_mem   box_loss   cls_loss   dfl_loss  Instances       Size\n"
     ]
    },
    {
     "name": "stderr",
     "output_type": "stream",
     "text": [
      "    103/300      4.12G       2.09     0.9839      2.002         74        640: 100%|██████████| 82/82 [00:25<00:00,  3.\n",
      "                 Class     Images  Instances      Box(P          R      mAP50  mAP50-95): 100%|██████████| 14/14 [00:05"
     ]
    },
    {
     "name": "stdout",
     "output_type": "stream",
     "text": [
      "                   all        679       3388      0.939        0.9      0.962      0.614\n"
     ]
    },
    {
     "name": "stderr",
     "output_type": "stream",
     "text": [
      "\n"
     ]
    },
    {
     "name": "stdout",
     "output_type": "stream",
     "text": [
      "\n",
      "      Epoch    GPU_mem   box_loss   cls_loss   dfl_loss  Instances       Size\n"
     ]
    },
    {
     "name": "stderr",
     "output_type": "stream",
     "text": [
      "    104/300      4.11G      2.043     0.9439      1.979         98        640: 100%|██████████| 82/82 [00:25<00:00,  3.\n",
      "                 Class     Images  Instances      Box(P          R      mAP50  mAP50-95): 100%|██████████| 14/14 [00:05"
     ]
    },
    {
     "name": "stdout",
     "output_type": "stream",
     "text": [
      "                   all        679       3388      0.928      0.902      0.958       0.62\n"
     ]
    },
    {
     "name": "stderr",
     "output_type": "stream",
     "text": [
      "\n"
     ]
    },
    {
     "name": "stdout",
     "output_type": "stream",
     "text": [
      "\n",
      "      Epoch    GPU_mem   box_loss   cls_loss   dfl_loss  Instances       Size\n"
     ]
    },
    {
     "name": "stderr",
     "output_type": "stream",
     "text": [
      "    105/300      4.22G      2.033      0.946      1.985        100        640: 100%|██████████| 82/82 [00:25<00:00,  3.\n",
      "                 Class     Images  Instances      Box(P          R      mAP50  mAP50-95): 100%|██████████| 14/14 [00:05"
     ]
    },
    {
     "name": "stdout",
     "output_type": "stream",
     "text": [
      "                   all        679       3388       0.93      0.908      0.959       0.62\n"
     ]
    },
    {
     "name": "stderr",
     "output_type": "stream",
     "text": [
      "\n"
     ]
    },
    {
     "name": "stdout",
     "output_type": "stream",
     "text": [
      "\n",
      "      Epoch    GPU_mem   box_loss   cls_loss   dfl_loss  Instances       Size\n"
     ]
    },
    {
     "name": "stderr",
     "output_type": "stream",
     "text": [
      "    106/300       4.2G      2.069      0.985      1.999         70        640: 100%|██████████| 82/82 [00:25<00:00,  3.\n",
      "                 Class     Images  Instances      Box(P          R      mAP50  mAP50-95): 100%|██████████| 14/14 [00:05"
     ]
    },
    {
     "name": "stdout",
     "output_type": "stream",
     "text": [
      "                   all        679       3388       0.93      0.904      0.958      0.618\n"
     ]
    },
    {
     "name": "stderr",
     "output_type": "stream",
     "text": [
      "\n"
     ]
    },
    {
     "name": "stdout",
     "output_type": "stream",
     "text": [
      "\n",
      "      Epoch    GPU_mem   box_loss   cls_loss   dfl_loss  Instances       Size\n"
     ]
    },
    {
     "name": "stderr",
     "output_type": "stream",
     "text": [
      "    107/300      4.11G      2.078     0.9656      1.992         46        640: 100%|██████████| 82/82 [00:25<00:00,  3.\n",
      "                 Class     Images  Instances      Box(P          R      mAP50  mAP50-95): 100%|██████████| 14/14 [00:05"
     ]
    },
    {
     "name": "stdout",
     "output_type": "stream",
     "text": [
      "                   all        679       3388      0.933      0.905       0.96      0.621\n"
     ]
    },
    {
     "name": "stderr",
     "output_type": "stream",
     "text": [
      "\n"
     ]
    },
    {
     "name": "stdout",
     "output_type": "stream",
     "text": [
      "\n",
      "      Epoch    GPU_mem   box_loss   cls_loss   dfl_loss  Instances       Size\n"
     ]
    },
    {
     "name": "stderr",
     "output_type": "stream",
     "text": [
      "    108/300      4.22G      2.062     0.9752      1.999         98        640: 100%|██████████| 82/82 [00:25<00:00,  3.\n",
      "                 Class     Images  Instances      Box(P          R      mAP50  mAP50-95): 100%|██████████| 14/14 [00:05"
     ]
    },
    {
     "name": "stdout",
     "output_type": "stream",
     "text": [
      "                   all        679       3388      0.936      0.895      0.959      0.619\n"
     ]
    },
    {
     "name": "stderr",
     "output_type": "stream",
     "text": [
      "\n"
     ]
    },
    {
     "name": "stdout",
     "output_type": "stream",
     "text": [
      "\n",
      "      Epoch    GPU_mem   box_loss   cls_loss   dfl_loss  Instances       Size\n"
     ]
    },
    {
     "name": "stderr",
     "output_type": "stream",
     "text": [
      "    109/300       4.1G      2.026     0.9523      1.975        102        640: 100%|██████████| 82/82 [00:25<00:00,  3.\n",
      "                 Class     Images  Instances      Box(P          R      mAP50  mAP50-95): 100%|██████████| 14/14 [00:05"
     ]
    },
    {
     "name": "stdout",
     "output_type": "stream",
     "text": [
      "                   all        679       3388      0.931      0.909      0.962      0.621\n"
     ]
    },
    {
     "name": "stderr",
     "output_type": "stream",
     "text": [
      "\n"
     ]
    },
    {
     "name": "stdout",
     "output_type": "stream",
     "text": [
      "\n",
      "      Epoch    GPU_mem   box_loss   cls_loss   dfl_loss  Instances       Size\n"
     ]
    },
    {
     "name": "stderr",
     "output_type": "stream",
     "text": [
      "    110/300      4.14G      2.055      0.956       1.99        161        640: 100%|██████████| 82/82 [00:25<00:00,  3.\n",
      "                 Class     Images  Instances      Box(P          R      mAP50  mAP50-95): 100%|██████████| 14/14 [00:05"
     ]
    },
    {
     "name": "stdout",
     "output_type": "stream",
     "text": [
      "                   all        679       3388      0.943        0.9      0.962      0.623\n"
     ]
    },
    {
     "name": "stderr",
     "output_type": "stream",
     "text": [
      "\n"
     ]
    },
    {
     "name": "stdout",
     "output_type": "stream",
     "text": [
      "\n",
      "      Epoch    GPU_mem   box_loss   cls_loss   dfl_loss  Instances       Size\n"
     ]
    },
    {
     "name": "stderr",
     "output_type": "stream",
     "text": [
      "    111/300      4.33G      2.047     0.9706      1.993         52        640: 100%|██████████| 82/82 [00:25<00:00,  3.\n",
      "                 Class     Images  Instances      Box(P          R      mAP50  mAP50-95): 100%|██████████| 14/14 [00:05"
     ]
    },
    {
     "name": "stdout",
     "output_type": "stream",
     "text": [
      "                   all        679       3388      0.944      0.893       0.96      0.622\n"
     ]
    },
    {
     "name": "stderr",
     "output_type": "stream",
     "text": [
      "\n"
     ]
    },
    {
     "name": "stdout",
     "output_type": "stream",
     "text": [
      "\n",
      "      Epoch    GPU_mem   box_loss   cls_loss   dfl_loss  Instances       Size\n"
     ]
    },
    {
     "name": "stderr",
     "output_type": "stream",
     "text": [
      "    112/300      4.18G      2.044     0.9477       1.98         64        640: 100%|██████████| 82/82 [00:25<00:00,  3.\n",
      "                 Class     Images  Instances      Box(P          R      mAP50  mAP50-95): 100%|██████████| 14/14 [00:05"
     ]
    },
    {
     "name": "stdout",
     "output_type": "stream",
     "text": [
      "                   all        679       3388       0.94      0.901      0.959      0.622\n"
     ]
    },
    {
     "name": "stderr",
     "output_type": "stream",
     "text": [
      "\n"
     ]
    },
    {
     "name": "stdout",
     "output_type": "stream",
     "text": [
      "\n",
      "      Epoch    GPU_mem   box_loss   cls_loss   dfl_loss  Instances       Size\n"
     ]
    },
    {
     "name": "stderr",
     "output_type": "stream",
     "text": [
      "    113/300      4.23G      2.026     0.9527      1.978         55        640: 100%|██████████| 82/82 [00:25<00:00,  3.\n",
      "                 Class     Images  Instances      Box(P          R      mAP50  mAP50-95): 100%|██████████| 14/14 [00:05"
     ]
    },
    {
     "name": "stdout",
     "output_type": "stream",
     "text": [
      "                   all        679       3388      0.932      0.903      0.958      0.621\n"
     ]
    },
    {
     "name": "stderr",
     "output_type": "stream",
     "text": [
      "\n"
     ]
    },
    {
     "name": "stdout",
     "output_type": "stream",
     "text": [
      "\n",
      "      Epoch    GPU_mem   box_loss   cls_loss   dfl_loss  Instances       Size\n"
     ]
    },
    {
     "name": "stderr",
     "output_type": "stream",
     "text": [
      "    114/300      4.32G      2.027     0.9522      1.975         68        640: 100%|██████████| 82/82 [00:25<00:00,  3.\n",
      "                 Class     Images  Instances      Box(P          R      mAP50  mAP50-95): 100%|██████████| 14/14 [00:05"
     ]
    },
    {
     "name": "stdout",
     "output_type": "stream",
     "text": [
      "                   all        679       3388      0.933      0.906      0.958       0.62\n"
     ]
    },
    {
     "name": "stderr",
     "output_type": "stream",
     "text": [
      "\n"
     ]
    },
    {
     "name": "stdout",
     "output_type": "stream",
     "text": [
      "\n",
      "      Epoch    GPU_mem   box_loss   cls_loss   dfl_loss  Instances       Size\n"
     ]
    },
    {
     "name": "stderr",
     "output_type": "stream",
     "text": [
      "    115/300      4.23G      2.029     0.9496      1.982         78        640: 100%|██████████| 82/82 [00:25<00:00,  3.\n",
      "                 Class     Images  Instances      Box(P          R      mAP50  mAP50-95): 100%|██████████| 14/14 [00:05"
     ]
    },
    {
     "name": "stdout",
     "output_type": "stream",
     "text": [
      "                   all        679       3388      0.934      0.905      0.958      0.618\n"
     ]
    },
    {
     "name": "stderr",
     "output_type": "stream",
     "text": [
      "\n"
     ]
    },
    {
     "name": "stdout",
     "output_type": "stream",
     "text": [
      "\n",
      "      Epoch    GPU_mem   box_loss   cls_loss   dfl_loss  Instances       Size\n"
     ]
    },
    {
     "name": "stderr",
     "output_type": "stream",
     "text": [
      "    116/300      4.19G      2.033     0.9486      1.973        115        640: 100%|██████████| 82/82 [00:25<00:00,  3.\n",
      "                 Class     Images  Instances      Box(P          R      mAP50  mAP50-95): 100%|██████████| 14/14 [00:05"
     ]
    },
    {
     "name": "stdout",
     "output_type": "stream",
     "text": [
      "                   all        679       3388      0.936        0.9      0.957       0.62\n"
     ]
    },
    {
     "name": "stderr",
     "output_type": "stream",
     "text": [
      "\n"
     ]
    },
    {
     "name": "stdout",
     "output_type": "stream",
     "text": [
      "\n",
      "      Epoch    GPU_mem   box_loss   cls_loss   dfl_loss  Instances       Size\n"
     ]
    },
    {
     "name": "stderr",
     "output_type": "stream",
     "text": [
      "    117/300      4.15G      2.014      0.938       1.97         98        640: 100%|██████████| 82/82 [00:25<00:00,  3.\n",
      "                 Class     Images  Instances      Box(P          R      mAP50  mAP50-95): 100%|██████████| 14/14 [00:05"
     ]
    },
    {
     "name": "stdout",
     "output_type": "stream",
     "text": [
      "                   all        679       3388      0.932       0.91      0.958      0.622\n"
     ]
    },
    {
     "name": "stderr",
     "output_type": "stream",
     "text": [
      "\n"
     ]
    },
    {
     "name": "stdout",
     "output_type": "stream",
     "text": [
      "\n",
      "      Epoch    GPU_mem   box_loss   cls_loss   dfl_loss  Instances       Size\n"
     ]
    },
    {
     "name": "stderr",
     "output_type": "stream",
     "text": [
      "    118/300      4.21G      2.008      0.937      1.978        131        640: 100%|██████████| 82/82 [00:25<00:00,  3.\n",
      "                 Class     Images  Instances      Box(P          R      mAP50  mAP50-95): 100%|██████████| 14/14 [00:05"
     ]
    },
    {
     "name": "stdout",
     "output_type": "stream",
     "text": [
      "                   all        679       3388      0.939      0.904       0.96      0.621\n"
     ]
    },
    {
     "name": "stderr",
     "output_type": "stream",
     "text": [
      "\n"
     ]
    },
    {
     "name": "stdout",
     "output_type": "stream",
     "text": [
      "\n",
      "      Epoch    GPU_mem   box_loss   cls_loss   dfl_loss  Instances       Size\n"
     ]
    },
    {
     "name": "stderr",
     "output_type": "stream",
     "text": [
      "    119/300      4.19G      2.038     0.9549      1.977         75        640: 100%|██████████| 82/82 [00:26<00:00,  3.\n",
      "                 Class     Images  Instances      Box(P          R      mAP50  mAP50-95): 100%|██████████| 14/14 [00:05"
     ]
    },
    {
     "name": "stdout",
     "output_type": "stream",
     "text": [
      "                   all        679       3388      0.929      0.915      0.961      0.621\n"
     ]
    },
    {
     "name": "stderr",
     "output_type": "stream",
     "text": [
      "\n"
     ]
    },
    {
     "name": "stdout",
     "output_type": "stream",
     "text": [
      "\n",
      "      Epoch    GPU_mem   box_loss   cls_loss   dfl_loss  Instances       Size\n"
     ]
    },
    {
     "name": "stderr",
     "output_type": "stream",
     "text": [
      "    120/300      4.17G      2.024     0.9428      1.972         73        640: 100%|██████████| 82/82 [00:26<00:00,  3.\n",
      "                 Class     Images  Instances      Box(P          R      mAP50  mAP50-95): 100%|██████████| 14/14 [00:05"
     ]
    },
    {
     "name": "stdout",
     "output_type": "stream",
     "text": [
      "                   all        679       3388       0.94      0.902      0.959      0.621\n"
     ]
    },
    {
     "name": "stderr",
     "output_type": "stream",
     "text": [
      "\n"
     ]
    },
    {
     "name": "stdout",
     "output_type": "stream",
     "text": [
      "\n",
      "      Epoch    GPU_mem   box_loss   cls_loss   dfl_loss  Instances       Size\n"
     ]
    },
    {
     "name": "stderr",
     "output_type": "stream",
     "text": [
      "    121/300      4.12G      2.007     0.9435      1.971        125        640: 100%|██████████| 82/82 [00:25<00:00,  3.\n",
      "                 Class     Images  Instances      Box(P          R      mAP50  mAP50-95): 100%|██████████| 14/14 [00:05"
     ]
    },
    {
     "name": "stdout",
     "output_type": "stream",
     "text": [
      "                   all        679       3388      0.953      0.892       0.96      0.624\n"
     ]
    },
    {
     "name": "stderr",
     "output_type": "stream",
     "text": [
      "\n"
     ]
    },
    {
     "name": "stdout",
     "output_type": "stream",
     "text": [
      "\n",
      "      Epoch    GPU_mem   box_loss   cls_loss   dfl_loss  Instances       Size\n"
     ]
    },
    {
     "name": "stderr",
     "output_type": "stream",
     "text": [
      "    122/300      4.21G      2.006     0.9409      1.964         99        640: 100%|██████████| 82/82 [00:25<00:00,  3.\n",
      "                 Class     Images  Instances      Box(P          R      mAP50  mAP50-95): 100%|██████████| 14/14 [00:05"
     ]
    },
    {
     "name": "stdout",
     "output_type": "stream",
     "text": [
      "                   all        679       3388      0.936      0.904      0.959      0.626\n"
     ]
    },
    {
     "name": "stderr",
     "output_type": "stream",
     "text": [
      "\n"
     ]
    },
    {
     "name": "stdout",
     "output_type": "stream",
     "text": [
      "\n",
      "      Epoch    GPU_mem   box_loss   cls_loss   dfl_loss  Instances       Size\n"
     ]
    },
    {
     "name": "stderr",
     "output_type": "stream",
     "text": [
      "    123/300      4.34G      2.007     0.9381      1.972         95        640: 100%|██████████| 82/82 [00:25<00:00,  3.\n",
      "                 Class     Images  Instances      Box(P          R      mAP50  mAP50-95): 100%|██████████| 14/14 [00:05"
     ]
    },
    {
     "name": "stdout",
     "output_type": "stream",
     "text": [
      "                   all        679       3388      0.936      0.909       0.96      0.623\n"
     ]
    },
    {
     "name": "stderr",
     "output_type": "stream",
     "text": [
      "\n"
     ]
    },
    {
     "name": "stdout",
     "output_type": "stream",
     "text": [
      "\n",
      "      Epoch    GPU_mem   box_loss   cls_loss   dfl_loss  Instances       Size\n"
     ]
    },
    {
     "name": "stderr",
     "output_type": "stream",
     "text": [
      "    124/300      4.14G      1.992      0.931      1.963         84        640: 100%|██████████| 82/82 [00:25<00:00,  3.\n",
      "                 Class     Images  Instances      Box(P          R      mAP50  mAP50-95): 100%|██████████| 14/14 [00:05"
     ]
    },
    {
     "name": "stdout",
     "output_type": "stream",
     "text": [
      "                   all        679       3388      0.937      0.906      0.961      0.623\n"
     ]
    },
    {
     "name": "stderr",
     "output_type": "stream",
     "text": [
      "\n"
     ]
    },
    {
     "name": "stdout",
     "output_type": "stream",
     "text": [
      "\n",
      "      Epoch    GPU_mem   box_loss   cls_loss   dfl_loss  Instances       Size\n"
     ]
    },
    {
     "name": "stderr",
     "output_type": "stream",
     "text": [
      "    125/300      4.16G      2.002     0.9294       1.96         79        640: 100%|██████████| 82/82 [00:25<00:00,  3.\n",
      "                 Class     Images  Instances      Box(P          R      mAP50  mAP50-95): 100%|██████████| 14/14 [00:05"
     ]
    },
    {
     "name": "stdout",
     "output_type": "stream",
     "text": [
      "                   all        679       3388      0.936        0.9      0.959      0.621\n"
     ]
    },
    {
     "name": "stderr",
     "output_type": "stream",
     "text": [
      "\n"
     ]
    },
    {
     "name": "stdout",
     "output_type": "stream",
     "text": [
      "\n",
      "      Epoch    GPU_mem   box_loss   cls_loss   dfl_loss  Instances       Size\n"
     ]
    },
    {
     "name": "stderr",
     "output_type": "stream",
     "text": [
      "    126/300      4.17G      2.005     0.9501      1.972        116        640: 100%|██████████| 82/82 [00:25<00:00,  3.\n",
      "                 Class     Images  Instances      Box(P          R      mAP50  mAP50-95): 100%|██████████| 14/14 [00:05"
     ]
    },
    {
     "name": "stdout",
     "output_type": "stream",
     "text": [
      "                   all        679       3388      0.926      0.906      0.959      0.622\n"
     ]
    },
    {
     "name": "stderr",
     "output_type": "stream",
     "text": [
      "\n"
     ]
    },
    {
     "name": "stdout",
     "output_type": "stream",
     "text": [
      "\n",
      "      Epoch    GPU_mem   box_loss   cls_loss   dfl_loss  Instances       Size\n"
     ]
    },
    {
     "name": "stderr",
     "output_type": "stream",
     "text": [
      "    127/300      4.22G      1.977     0.9126      1.948        113        640: 100%|██████████| 82/82 [00:25<00:00,  3.\n",
      "                 Class     Images  Instances      Box(P          R      mAP50  mAP50-95): 100%|██████████| 14/14 [00:05"
     ]
    },
    {
     "name": "stdout",
     "output_type": "stream",
     "text": [
      "                   all        679       3388      0.945      0.896       0.96      0.623\n"
     ]
    },
    {
     "name": "stderr",
     "output_type": "stream",
     "text": [
      "\n"
     ]
    },
    {
     "name": "stdout",
     "output_type": "stream",
     "text": [
      "\n",
      "      Epoch    GPU_mem   box_loss   cls_loss   dfl_loss  Instances       Size\n"
     ]
    },
    {
     "name": "stderr",
     "output_type": "stream",
     "text": [
      "    128/300      4.27G      1.973     0.9321      1.953         81        640: 100%|██████████| 82/82 [00:25<00:00,  3.\n",
      "                 Class     Images  Instances      Box(P          R      mAP50  mAP50-95): 100%|██████████| 14/14 [00:05"
     ]
    },
    {
     "name": "stdout",
     "output_type": "stream",
     "text": [
      "                   all        679       3388      0.942      0.899      0.961      0.621\n"
     ]
    },
    {
     "name": "stderr",
     "output_type": "stream",
     "text": [
      "\n"
     ]
    },
    {
     "name": "stdout",
     "output_type": "stream",
     "text": [
      "\n",
      "      Epoch    GPU_mem   box_loss   cls_loss   dfl_loss  Instances       Size\n"
     ]
    },
    {
     "name": "stderr",
     "output_type": "stream",
     "text": [
      "    129/300      4.18G      1.986     0.9237      1.957         87        640: 100%|██████████| 82/82 [00:25<00:00,  3.\n",
      "                 Class     Images  Instances      Box(P          R      mAP50  mAP50-95): 100%|██████████| 14/14 [00:05"
     ]
    },
    {
     "name": "stdout",
     "output_type": "stream",
     "text": [
      "                   all        679       3388      0.937        0.9      0.959      0.623\n"
     ]
    },
    {
     "name": "stderr",
     "output_type": "stream",
     "text": [
      "\n"
     ]
    },
    {
     "name": "stdout",
     "output_type": "stream",
     "text": [
      "\n",
      "      Epoch    GPU_mem   box_loss   cls_loss   dfl_loss  Instances       Size\n"
     ]
    },
    {
     "name": "stderr",
     "output_type": "stream",
     "text": [
      "    130/300      4.22G      1.984     0.9315      1.957        145        640: 100%|██████████| 82/82 [00:25<00:00,  3.\n",
      "                 Class     Images  Instances      Box(P          R      mAP50  mAP50-95): 100%|██████████| 14/14 [00:05"
     ]
    },
    {
     "name": "stdout",
     "output_type": "stream",
     "text": [
      "                   all        679       3388      0.931      0.904      0.957      0.623\n"
     ]
    },
    {
     "name": "stderr",
     "output_type": "stream",
     "text": [
      "\n"
     ]
    },
    {
     "name": "stdout",
     "output_type": "stream",
     "text": [
      "\n",
      "      Epoch    GPU_mem   box_loss   cls_loss   dfl_loss  Instances       Size\n"
     ]
    },
    {
     "name": "stderr",
     "output_type": "stream",
     "text": [
      "    131/300      4.36G      1.954     0.9129       1.94         79        640: 100%|██████████| 82/82 [00:25<00:00,  3.\n",
      "                 Class     Images  Instances      Box(P          R      mAP50  mAP50-95): 100%|██████████| 14/14 [00:05"
     ]
    },
    {
     "name": "stdout",
     "output_type": "stream",
     "text": [
      "                   all        679       3388      0.927      0.916      0.959      0.621\n"
     ]
    },
    {
     "name": "stderr",
     "output_type": "stream",
     "text": [
      "\n"
     ]
    },
    {
     "name": "stdout",
     "output_type": "stream",
     "text": [
      "\n",
      "      Epoch    GPU_mem   box_loss   cls_loss   dfl_loss  Instances       Size\n"
     ]
    },
    {
     "name": "stderr",
     "output_type": "stream",
     "text": [
      "    132/300      4.21G      1.964      0.921      1.948        124        640: 100%|██████████| 82/82 [00:25<00:00,  3.\n",
      "                 Class     Images  Instances      Box(P          R      mAP50  mAP50-95): 100%|██████████| 14/14 [00:05"
     ]
    },
    {
     "name": "stdout",
     "output_type": "stream",
     "text": [
      "                   all        679       3388      0.942      0.905      0.958      0.622\n"
     ]
    },
    {
     "name": "stderr",
     "output_type": "stream",
     "text": [
      "\n"
     ]
    },
    {
     "name": "stdout",
     "output_type": "stream",
     "text": [
      "\n",
      "      Epoch    GPU_mem   box_loss   cls_loss   dfl_loss  Instances       Size\n"
     ]
    },
    {
     "name": "stderr",
     "output_type": "stream",
     "text": [
      "    133/300      4.32G      1.959     0.9203      1.936        115        640: 100%|██████████| 82/82 [00:25<00:00,  3.\n",
      "                 Class     Images  Instances      Box(P          R      mAP50  mAP50-95): 100%|██████████| 14/14 [00:05"
     ]
    },
    {
     "name": "stdout",
     "output_type": "stream",
     "text": [
      "                   all        679       3388      0.936      0.908       0.96      0.622\n"
     ]
    },
    {
     "name": "stderr",
     "output_type": "stream",
     "text": [
      "\n"
     ]
    },
    {
     "name": "stdout",
     "output_type": "stream",
     "text": [
      "\n",
      "      Epoch    GPU_mem   box_loss   cls_loss   dfl_loss  Instances       Size\n"
     ]
    },
    {
     "name": "stderr",
     "output_type": "stream",
     "text": [
      "    134/300      4.21G      1.954     0.9107      1.941         77        640: 100%|██████████| 82/82 [00:25<00:00,  3.\n",
      "                 Class     Images  Instances      Box(P          R      mAP50  mAP50-95): 100%|██████████| 14/14 [00:05"
     ]
    },
    {
     "name": "stdout",
     "output_type": "stream",
     "text": [
      "                   all        679       3388      0.934      0.909      0.961       0.62\n"
     ]
    },
    {
     "name": "stderr",
     "output_type": "stream",
     "text": [
      "\n"
     ]
    },
    {
     "name": "stdout",
     "output_type": "stream",
     "text": [
      "\n",
      "      Epoch    GPU_mem   box_loss   cls_loss   dfl_loss  Instances       Size\n"
     ]
    },
    {
     "name": "stderr",
     "output_type": "stream",
     "text": [
      "    135/300      4.31G      1.961     0.9114      1.951         60        640: 100%|██████████| 82/82 [00:25<00:00,  3.\n",
      "                 Class     Images  Instances      Box(P          R      mAP50  mAP50-95): 100%|██████████| 14/14 [00:05"
     ]
    },
    {
     "name": "stdout",
     "output_type": "stream",
     "text": [
      "                   all        679       3388      0.941      0.898      0.958      0.621\n"
     ]
    },
    {
     "name": "stderr",
     "output_type": "stream",
     "text": [
      "\n"
     ]
    },
    {
     "name": "stdout",
     "output_type": "stream",
     "text": [
      "\n",
      "      Epoch    GPU_mem   box_loss   cls_loss   dfl_loss  Instances       Size\n"
     ]
    },
    {
     "name": "stderr",
     "output_type": "stream",
     "text": [
      "    136/300      4.23G      1.951      0.911       1.94         87        640: 100%|██████████| 82/82 [00:25<00:00,  3.\n",
      "                 Class     Images  Instances      Box(P          R      mAP50  mAP50-95): 100%|██████████| 14/14 [00:05"
     ]
    },
    {
     "name": "stdout",
     "output_type": "stream",
     "text": [
      "                   all        679       3388      0.947      0.899      0.959      0.621\n"
     ]
    },
    {
     "name": "stderr",
     "output_type": "stream",
     "text": [
      "\n"
     ]
    },
    {
     "name": "stdout",
     "output_type": "stream",
     "text": [
      "\n",
      "      Epoch    GPU_mem   box_loss   cls_loss   dfl_loss  Instances       Size\n"
     ]
    },
    {
     "name": "stderr",
     "output_type": "stream",
     "text": [
      "    137/300      4.22G      1.939     0.9089      1.947        141        640: 100%|██████████| 82/82 [00:25<00:00,  3.\n",
      "                 Class     Images  Instances      Box(P          R      mAP50  mAP50-95): 100%|██████████| 14/14 [00:05"
     ]
    },
    {
     "name": "stdout",
     "output_type": "stream",
     "text": [
      "                   all        679       3388      0.932      0.908      0.959      0.624\n"
     ]
    },
    {
     "name": "stderr",
     "output_type": "stream",
     "text": [
      "\n"
     ]
    },
    {
     "name": "stdout",
     "output_type": "stream",
     "text": [
      "\n",
      "      Epoch    GPU_mem   box_loss   cls_loss   dfl_loss  Instances       Size\n"
     ]
    },
    {
     "name": "stderr",
     "output_type": "stream",
     "text": [
      "    138/300      4.14G      1.926      0.893      1.932         57        640: 100%|██████████| 82/82 [00:25<00:00,  3.\n",
      "                 Class     Images  Instances      Box(P          R      mAP50  mAP50-95): 100%|██████████| 14/14 [00:05"
     ]
    },
    {
     "name": "stdout",
     "output_type": "stream",
     "text": [
      "                   all        679       3388      0.934      0.903      0.956      0.622\n"
     ]
    },
    {
     "name": "stderr",
     "output_type": "stream",
     "text": [
      "\n"
     ]
    },
    {
     "name": "stdout",
     "output_type": "stream",
     "text": [
      "\n",
      "      Epoch    GPU_mem   box_loss   cls_loss   dfl_loss  Instances       Size\n"
     ]
    },
    {
     "name": "stderr",
     "output_type": "stream",
     "text": [
      "    139/300       4.1G      1.956      0.906      1.937        129        640: 100%|██████████| 82/82 [00:25<00:00,  3.\n",
      "                 Class     Images  Instances      Box(P          R      mAP50  mAP50-95): 100%|██████████| 14/14 [00:05"
     ]
    },
    {
     "name": "stdout",
     "output_type": "stream",
     "text": [
      "                   all        679       3388      0.936      0.906      0.961      0.624\n"
     ]
    },
    {
     "name": "stderr",
     "output_type": "stream",
     "text": [
      "\n"
     ]
    },
    {
     "name": "stdout",
     "output_type": "stream",
     "text": [
      "\n",
      "      Epoch    GPU_mem   box_loss   cls_loss   dfl_loss  Instances       Size\n"
     ]
    },
    {
     "name": "stderr",
     "output_type": "stream",
     "text": [
      "    140/300       4.2G      1.926     0.8914      1.931         78        640: 100%|██████████| 82/82 [00:25<00:00,  3.\n",
      "                 Class     Images  Instances      Box(P          R      mAP50  mAP50-95): 100%|██████████| 14/14 [00:05"
     ]
    },
    {
     "name": "stdout",
     "output_type": "stream",
     "text": [
      "                   all        679       3388      0.935      0.904      0.958      0.621\n"
     ]
    },
    {
     "name": "stderr",
     "output_type": "stream",
     "text": [
      "\n"
     ]
    },
    {
     "name": "stdout",
     "output_type": "stream",
     "text": [
      "\n",
      "      Epoch    GPU_mem   box_loss   cls_loss   dfl_loss  Instances       Size\n"
     ]
    },
    {
     "name": "stderr",
     "output_type": "stream",
     "text": [
      "    141/300      4.17G      1.931     0.8991      1.946         74        640: 100%|██████████| 82/82 [00:25<00:00,  3.\n",
      "                 Class     Images  Instances      Box(P          R      mAP50  mAP50-95): 100%|██████████| 14/14 [00:05"
     ]
    },
    {
     "name": "stdout",
     "output_type": "stream",
     "text": [
      "                   all        679       3388      0.934      0.909      0.959      0.623\n"
     ]
    },
    {
     "name": "stderr",
     "output_type": "stream",
     "text": [
      "\n"
     ]
    },
    {
     "name": "stdout",
     "output_type": "stream",
     "text": [
      "\n",
      "      Epoch    GPU_mem   box_loss   cls_loss   dfl_loss  Instances       Size\n"
     ]
    },
    {
     "name": "stderr",
     "output_type": "stream",
     "text": [
      "    142/300      4.16G      1.938     0.9089      1.932         80        640: 100%|██████████| 82/82 [00:25<00:00,  3.\n",
      "                 Class     Images  Instances      Box(P          R      mAP50  mAP50-95): 100%|██████████| 14/14 [00:05"
     ]
    },
    {
     "name": "stdout",
     "output_type": "stream",
     "text": [
      "                   all        679       3388      0.941      0.901      0.958      0.623\n"
     ]
    },
    {
     "name": "stderr",
     "output_type": "stream",
     "text": [
      "\n"
     ]
    },
    {
     "name": "stdout",
     "output_type": "stream",
     "text": [
      "\n",
      "      Epoch    GPU_mem   box_loss   cls_loss   dfl_loss  Instances       Size\n"
     ]
    },
    {
     "name": "stderr",
     "output_type": "stream",
     "text": [
      "    143/300      4.26G      1.938     0.8936      1.942         63        640: 100%|██████████| 82/82 [00:25<00:00,  3.\n",
      "                 Class     Images  Instances      Box(P          R      mAP50  mAP50-95): 100%|██████████| 14/14 [00:05"
     ]
    },
    {
     "name": "stdout",
     "output_type": "stream",
     "text": [
      "                   all        679       3388      0.935      0.902      0.957      0.623\n"
     ]
    },
    {
     "name": "stderr",
     "output_type": "stream",
     "text": [
      "\n"
     ]
    },
    {
     "name": "stdout",
     "output_type": "stream",
     "text": [
      "\n",
      "      Epoch    GPU_mem   box_loss   cls_loss   dfl_loss  Instances       Size\n"
     ]
    },
    {
     "name": "stderr",
     "output_type": "stream",
     "text": [
      "    144/300      4.32G      1.928     0.8989       1.94         73        640: 100%|██████████| 82/82 [00:25<00:00,  3.\n",
      "                 Class     Images  Instances      Box(P          R      mAP50  mAP50-95): 100%|██████████| 14/14 [00:05"
     ]
    },
    {
     "name": "stdout",
     "output_type": "stream",
     "text": [
      "                   all        679       3388      0.934      0.897      0.957      0.625\n"
     ]
    },
    {
     "name": "stderr",
     "output_type": "stream",
     "text": [
      "\n"
     ]
    },
    {
     "name": "stdout",
     "output_type": "stream",
     "text": [
      "\n",
      "      Epoch    GPU_mem   box_loss   cls_loss   dfl_loss  Instances       Size\n"
     ]
    },
    {
     "name": "stderr",
     "output_type": "stream",
     "text": [
      "    145/300      4.36G      1.928     0.8903      1.933         68        640: 100%|██████████| 82/82 [00:25<00:00,  3.\n",
      "                 Class     Images  Instances      Box(P          R      mAP50  mAP50-95): 100%|██████████| 14/14 [00:05"
     ]
    },
    {
     "name": "stdout",
     "output_type": "stream",
     "text": [
      "                   all        679       3388      0.941      0.895      0.959      0.624\n"
     ]
    },
    {
     "name": "stderr",
     "output_type": "stream",
     "text": [
      "\n"
     ]
    },
    {
     "name": "stdout",
     "output_type": "stream",
     "text": [
      "\n",
      "      Epoch    GPU_mem   box_loss   cls_loss   dfl_loss  Instances       Size\n"
     ]
    },
    {
     "name": "stderr",
     "output_type": "stream",
     "text": [
      "    146/300      4.35G      1.927     0.8862      1.926        109        640: 100%|██████████| 82/82 [00:25<00:00,  3.\n",
      "                 Class     Images  Instances      Box(P          R      mAP50  mAP50-95): 100%|██████████| 14/14 [00:05"
     ]
    },
    {
     "name": "stdout",
     "output_type": "stream",
     "text": [
      "                   all        679       3388      0.936        0.9      0.958      0.627\n"
     ]
    },
    {
     "name": "stderr",
     "output_type": "stream",
     "text": [
      "\n"
     ]
    },
    {
     "name": "stdout",
     "output_type": "stream",
     "text": [
      "\n",
      "      Epoch    GPU_mem   box_loss   cls_loss   dfl_loss  Instances       Size\n"
     ]
    },
    {
     "name": "stderr",
     "output_type": "stream",
     "text": [
      "    147/300      4.31G      1.915     0.8807      1.924        109        640: 100%|██████████| 82/82 [00:25<00:00,  3.\n",
      "                 Class     Images  Instances      Box(P          R      mAP50  mAP50-95): 100%|██████████| 14/14 [00:05"
     ]
    },
    {
     "name": "stdout",
     "output_type": "stream",
     "text": [
      "                   all        679       3388      0.949      0.889      0.957      0.626\n"
     ]
    },
    {
     "name": "stderr",
     "output_type": "stream",
     "text": [
      "\n"
     ]
    },
    {
     "name": "stdout",
     "output_type": "stream",
     "text": [
      "\n",
      "      Epoch    GPU_mem   box_loss   cls_loss   dfl_loss  Instances       Size\n"
     ]
    },
    {
     "name": "stderr",
     "output_type": "stream",
     "text": [
      "    148/300       4.1G      1.916     0.8899       1.93         96        640: 100%|██████████| 82/82 [00:25<00:00,  3.\n",
      "                 Class     Images  Instances      Box(P          R      mAP50  mAP50-95): 100%|██████████| 14/14 [00:05"
     ]
    },
    {
     "name": "stdout",
     "output_type": "stream",
     "text": [
      "                   all        679       3388      0.948      0.893      0.959      0.627\n"
     ]
    },
    {
     "name": "stderr",
     "output_type": "stream",
     "text": [
      "\n"
     ]
    },
    {
     "name": "stdout",
     "output_type": "stream",
     "text": [
      "\n",
      "      Epoch    GPU_mem   box_loss   cls_loss   dfl_loss  Instances       Size\n"
     ]
    },
    {
     "name": "stderr",
     "output_type": "stream",
     "text": [
      "    149/300      4.14G      1.925     0.8914      1.935         93        640: 100%|██████████| 82/82 [00:25<00:00,  3.\n",
      "                 Class     Images  Instances      Box(P          R      mAP50  mAP50-95): 100%|██████████| 14/14 [00:05"
     ]
    },
    {
     "name": "stdout",
     "output_type": "stream",
     "text": [
      "                   all        679       3388       0.94      0.906      0.959      0.625\n"
     ]
    },
    {
     "name": "stderr",
     "output_type": "stream",
     "text": [
      "\n"
     ]
    },
    {
     "name": "stdout",
     "output_type": "stream",
     "text": [
      "\n",
      "      Epoch    GPU_mem   box_loss   cls_loss   dfl_loss  Instances       Size\n"
     ]
    },
    {
     "name": "stderr",
     "output_type": "stream",
     "text": [
      "    150/300      4.17G      1.902     0.8841      1.923         90        640: 100%|██████████| 82/82 [00:25<00:00,  3.\n",
      "                 Class     Images  Instances      Box(P          R      mAP50  mAP50-95): 100%|██████████| 14/14 [00:05"
     ]
    },
    {
     "name": "stdout",
     "output_type": "stream",
     "text": [
      "                   all        679       3388      0.922      0.913      0.956      0.624\n"
     ]
    },
    {
     "name": "stderr",
     "output_type": "stream",
     "text": [
      "\n"
     ]
    },
    {
     "name": "stdout",
     "output_type": "stream",
     "text": [
      "\n",
      "      Epoch    GPU_mem   box_loss   cls_loss   dfl_loss  Instances       Size\n"
     ]
    },
    {
     "name": "stderr",
     "output_type": "stream",
     "text": [
      "    151/300      4.21G      1.913     0.8899      1.925        102        640: 100%|██████████| 82/82 [00:25<00:00,  3.\n",
      "                 Class     Images  Instances      Box(P          R      mAP50  mAP50-95): 100%|██████████| 14/14 [00:05"
     ]
    },
    {
     "name": "stdout",
     "output_type": "stream",
     "text": [
      "                   all        679       3388      0.944      0.901      0.958      0.621\n"
     ]
    },
    {
     "name": "stderr",
     "output_type": "stream",
     "text": [
      "\n"
     ]
    },
    {
     "name": "stdout",
     "output_type": "stream",
     "text": [
      "\n",
      "      Epoch    GPU_mem   box_loss   cls_loss   dfl_loss  Instances       Size\n"
     ]
    },
    {
     "name": "stderr",
     "output_type": "stream",
     "text": [
      "    152/300       4.2G      1.929     0.9007      1.929         85        640: 100%|██████████| 82/82 [00:25<00:00,  3.\n",
      "                 Class     Images  Instances      Box(P          R      mAP50  mAP50-95): 100%|██████████| 14/14 [00:05"
     ]
    },
    {
     "name": "stdout",
     "output_type": "stream",
     "text": [
      "                   all        679       3388       0.94      0.893      0.957      0.622\n"
     ]
    },
    {
     "name": "stderr",
     "output_type": "stream",
     "text": [
      "\n"
     ]
    },
    {
     "name": "stdout",
     "output_type": "stream",
     "text": [
      "\n",
      "      Epoch    GPU_mem   box_loss   cls_loss   dfl_loss  Instances       Size\n"
     ]
    },
    {
     "name": "stderr",
     "output_type": "stream",
     "text": [
      "    153/300      4.17G      1.904      0.888      1.924         98        640: 100%|██████████| 82/82 [00:25<00:00,  3.\n",
      "                 Class     Images  Instances      Box(P          R      mAP50  mAP50-95): 100%|██████████| 14/14 [00:05"
     ]
    },
    {
     "name": "stdout",
     "output_type": "stream",
     "text": [
      "                   all        679       3388      0.929      0.909      0.957      0.625\n"
     ]
    },
    {
     "name": "stderr",
     "output_type": "stream",
     "text": [
      "\n"
     ]
    },
    {
     "name": "stdout",
     "output_type": "stream",
     "text": [
      "\n",
      "      Epoch    GPU_mem   box_loss   cls_loss   dfl_loss  Instances       Size\n"
     ]
    },
    {
     "name": "stderr",
     "output_type": "stream",
     "text": [
      "    154/300       4.1G      1.899     0.8759      1.925        112        640: 100%|██████████| 82/82 [00:25<00:00,  3.\n",
      "                 Class     Images  Instances      Box(P          R      mAP50  mAP50-95): 100%|██████████| 14/14 [00:05"
     ]
    },
    {
     "name": "stdout",
     "output_type": "stream",
     "text": [
      "                   all        679       3388      0.942      0.899      0.956      0.625\n"
     ]
    },
    {
     "name": "stderr",
     "output_type": "stream",
     "text": [
      "\n"
     ]
    },
    {
     "name": "stdout",
     "output_type": "stream",
     "text": [
      "\n",
      "      Epoch    GPU_mem   box_loss   cls_loss   dfl_loss  Instances       Size\n"
     ]
    },
    {
     "name": "stderr",
     "output_type": "stream",
     "text": [
      "    155/300      4.24G      1.894     0.8785      1.929        115        640: 100%|██████████| 82/82 [00:25<00:00,  3.\n",
      "                 Class     Images  Instances      Box(P          R      mAP50  mAP50-95): 100%|██████████| 14/14 [00:05"
     ]
    },
    {
     "name": "stdout",
     "output_type": "stream",
     "text": [
      "                   all        679       3388      0.935      0.906       0.96      0.628\n"
     ]
    },
    {
     "name": "stderr",
     "output_type": "stream",
     "text": [
      "\n"
     ]
    },
    {
     "name": "stdout",
     "output_type": "stream",
     "text": [
      "\n",
      "      Epoch    GPU_mem   box_loss   cls_loss   dfl_loss  Instances       Size\n"
     ]
    },
    {
     "name": "stderr",
     "output_type": "stream",
     "text": [
      "    156/300      4.22G        1.9     0.8801      1.918         44        640: 100%|██████████| 82/82 [00:25<00:00,  3.\n",
      "                 Class     Images  Instances      Box(P          R      mAP50  mAP50-95): 100%|██████████| 14/14 [00:05"
     ]
    },
    {
     "name": "stdout",
     "output_type": "stream",
     "text": [
      "                   all        679       3388      0.938        0.9      0.956      0.626\n"
     ]
    },
    {
     "name": "stderr",
     "output_type": "stream",
     "text": [
      "\n"
     ]
    },
    {
     "name": "stdout",
     "output_type": "stream",
     "text": [
      "\n",
      "      Epoch    GPU_mem   box_loss   cls_loss   dfl_loss  Instances       Size\n"
     ]
    },
    {
     "name": "stderr",
     "output_type": "stream",
     "text": [
      "    157/300      4.22G      1.893     0.8757      1.912         84        640: 100%|██████████| 82/82 [00:25<00:00,  3.\n",
      "                 Class     Images  Instances      Box(P          R      mAP50  mAP50-95): 100%|██████████| 14/14 [00:05"
     ]
    },
    {
     "name": "stdout",
     "output_type": "stream",
     "text": [
      "                   all        679       3388      0.932      0.907      0.959      0.624\n"
     ]
    },
    {
     "name": "stderr",
     "output_type": "stream",
     "text": [
      "\n"
     ]
    },
    {
     "name": "stdout",
     "output_type": "stream",
     "text": [
      "\n",
      "      Epoch    GPU_mem   box_loss   cls_loss   dfl_loss  Instances       Size\n"
     ]
    },
    {
     "name": "stderr",
     "output_type": "stream",
     "text": [
      "    158/300      4.25G      1.895      0.877      1.926        112        640: 100%|██████████| 82/82 [00:25<00:00,  3.\n",
      "                 Class     Images  Instances      Box(P          R      mAP50  mAP50-95): 100%|██████████| 14/14 [00:05"
     ]
    },
    {
     "name": "stdout",
     "output_type": "stream",
     "text": [
      "                   all        679       3388      0.936      0.911      0.958      0.623\n"
     ]
    },
    {
     "name": "stderr",
     "output_type": "stream",
     "text": [
      "\n"
     ]
    },
    {
     "name": "stdout",
     "output_type": "stream",
     "text": [
      "\n",
      "      Epoch    GPU_mem   box_loss   cls_loss   dfl_loss  Instances       Size\n"
     ]
    },
    {
     "name": "stderr",
     "output_type": "stream",
     "text": [
      "    159/300      4.25G      1.914     0.8864      1.924        101        640: 100%|██████████| 82/82 [00:25<00:00,  3.\n",
      "                 Class     Images  Instances      Box(P          R      mAP50  mAP50-95): 100%|██████████| 14/14 [00:05"
     ]
    },
    {
     "name": "stdout",
     "output_type": "stream",
     "text": [
      "                   all        679       3388      0.931      0.911      0.957      0.623\n"
     ]
    },
    {
     "name": "stderr",
     "output_type": "stream",
     "text": [
      "\n"
     ]
    },
    {
     "name": "stdout",
     "output_type": "stream",
     "text": [
      "\n",
      "      Epoch    GPU_mem   box_loss   cls_loss   dfl_loss  Instances       Size\n"
     ]
    },
    {
     "name": "stderr",
     "output_type": "stream",
     "text": [
      "    160/300      4.16G      1.886     0.8719      1.927        128        640: 100%|██████████| 82/82 [00:25<00:00,  3.\n",
      "                 Class     Images  Instances      Box(P          R      mAP50  mAP50-95): 100%|██████████| 14/14 [00:05"
     ]
    },
    {
     "name": "stdout",
     "output_type": "stream",
     "text": [
      "                   all        679       3388      0.936      0.906      0.958      0.624\n"
     ]
    },
    {
     "name": "stderr",
     "output_type": "stream",
     "text": [
      "\n"
     ]
    },
    {
     "name": "stdout",
     "output_type": "stream",
     "text": [
      "\n",
      "      Epoch    GPU_mem   box_loss   cls_loss   dfl_loss  Instances       Size\n"
     ]
    },
    {
     "name": "stderr",
     "output_type": "stream",
     "text": [
      "    161/300      4.37G      1.898     0.8791       1.92         75        640: 100%|██████████| 82/82 [00:25<00:00,  3.\n",
      "                 Class     Images  Instances      Box(P          R      mAP50  mAP50-95): 100%|██████████| 14/14 [00:05"
     ]
    },
    {
     "name": "stdout",
     "output_type": "stream",
     "text": [
      "                   all        679       3388      0.935      0.907      0.958      0.627\n"
     ]
    },
    {
     "name": "stderr",
     "output_type": "stream",
     "text": [
      "\n"
     ]
    },
    {
     "name": "stdout",
     "output_type": "stream",
     "text": [
      "\n",
      "      Epoch    GPU_mem   box_loss   cls_loss   dfl_loss  Instances       Size\n"
     ]
    },
    {
     "name": "stderr",
     "output_type": "stream",
     "text": [
      "    162/300      4.11G      1.889     0.8699      1.915         89        640: 100%|██████████| 82/82 [00:25<00:00,  3.\n",
      "                 Class     Images  Instances      Box(P          R      mAP50  mAP50-95): 100%|██████████| 14/14 [00:05"
     ]
    },
    {
     "name": "stdout",
     "output_type": "stream",
     "text": [
      "                   all        679       3388      0.941      0.906      0.959      0.628\n"
     ]
    },
    {
     "name": "stderr",
     "output_type": "stream",
     "text": [
      "\n"
     ]
    },
    {
     "name": "stdout",
     "output_type": "stream",
     "text": [
      "\n",
      "      Epoch    GPU_mem   box_loss   cls_loss   dfl_loss  Instances       Size\n"
     ]
    },
    {
     "name": "stderr",
     "output_type": "stream",
     "text": [
      "    163/300      4.36G      1.899     0.8779      1.916         96        640: 100%|██████████| 82/82 [00:25<00:00,  3.\n",
      "                 Class     Images  Instances      Box(P          R      mAP50  mAP50-95): 100%|██████████| 14/14 [00:05"
     ]
    },
    {
     "name": "stdout",
     "output_type": "stream",
     "text": [
      "                   all        679       3388       0.94      0.902      0.959      0.628\n"
     ]
    },
    {
     "name": "stderr",
     "output_type": "stream",
     "text": [
      "\n"
     ]
    },
    {
     "name": "stdout",
     "output_type": "stream",
     "text": [
      "\n",
      "      Epoch    GPU_mem   box_loss   cls_loss   dfl_loss  Instances       Size\n"
     ]
    },
    {
     "name": "stderr",
     "output_type": "stream",
     "text": [
      "    164/300      4.33G      1.868     0.8598       1.91         92        640: 100%|██████████| 82/82 [00:25<00:00,  3.\n",
      "                 Class     Images  Instances      Box(P          R      mAP50  mAP50-95): 100%|██████████| 14/14 [00:05"
     ]
    },
    {
     "name": "stdout",
     "output_type": "stream",
     "text": [
      "                   all        679       3388      0.934      0.902      0.958      0.628\n"
     ]
    },
    {
     "name": "stderr",
     "output_type": "stream",
     "text": [
      "\n"
     ]
    },
    {
     "name": "stdout",
     "output_type": "stream",
     "text": [
      "\n",
      "      Epoch    GPU_mem   box_loss   cls_loss   dfl_loss  Instances       Size\n"
     ]
    },
    {
     "name": "stderr",
     "output_type": "stream",
     "text": [
      "    165/300      4.26G      1.868     0.8642      1.913         86        640: 100%|██████████| 82/82 [00:25<00:00,  3.\n",
      "                 Class     Images  Instances      Box(P          R      mAP50  mAP50-95): 100%|██████████| 14/14 [00:05"
     ]
    },
    {
     "name": "stdout",
     "output_type": "stream",
     "text": [
      "                   all        679       3388       0.93      0.906      0.959      0.626\n"
     ]
    },
    {
     "name": "stderr",
     "output_type": "stream",
     "text": [
      "\n"
     ]
    },
    {
     "name": "stdout",
     "output_type": "stream",
     "text": [
      "\n",
      "      Epoch    GPU_mem   box_loss   cls_loss   dfl_loss  Instances       Size\n"
     ]
    },
    {
     "name": "stderr",
     "output_type": "stream",
     "text": [
      "    166/300      4.19G      1.859     0.8556      1.909        132        640: 100%|██████████| 82/82 [00:25<00:00,  3.\n",
      "                 Class     Images  Instances      Box(P          R      mAP50  mAP50-95): 100%|██████████| 14/14 [00:05"
     ]
    },
    {
     "name": "stdout",
     "output_type": "stream",
     "text": [
      "                   all        679       3388      0.936      0.908      0.958      0.626\n"
     ]
    },
    {
     "name": "stderr",
     "output_type": "stream",
     "text": [
      "\n"
     ]
    },
    {
     "name": "stdout",
     "output_type": "stream",
     "text": [
      "\n",
      "      Epoch    GPU_mem   box_loss   cls_loss   dfl_loss  Instances       Size\n"
     ]
    },
    {
     "name": "stderr",
     "output_type": "stream",
     "text": [
      "    167/300      4.12G      1.867     0.8709      1.908         90        640: 100%|██████████| 82/82 [00:25<00:00,  3.\n",
      "                 Class     Images  Instances      Box(P          R      mAP50  mAP50-95): 100%|██████████| 14/14 [00:05"
     ]
    },
    {
     "name": "stdout",
     "output_type": "stream",
     "text": [
      "                   all        679       3388      0.935      0.902      0.957      0.623\n"
     ]
    },
    {
     "name": "stderr",
     "output_type": "stream",
     "text": [
      "\n"
     ]
    },
    {
     "name": "stdout",
     "output_type": "stream",
     "text": [
      "\n",
      "      Epoch    GPU_mem   box_loss   cls_loss   dfl_loss  Instances       Size\n"
     ]
    },
    {
     "name": "stderr",
     "output_type": "stream",
     "text": [
      "    168/300      4.35G      1.872      0.866      1.908        129        640: 100%|██████████| 82/82 [00:25<00:00,  3.\n",
      "                 Class     Images  Instances      Box(P          R      mAP50  mAP50-95): 100%|██████████| 14/14 [00:05"
     ]
    },
    {
     "name": "stdout",
     "output_type": "stream",
     "text": [
      "                   all        679       3388      0.931      0.908      0.957      0.624\n"
     ]
    },
    {
     "name": "stderr",
     "output_type": "stream",
     "text": [
      "\n"
     ]
    },
    {
     "name": "stdout",
     "output_type": "stream",
     "text": [
      "\n",
      "      Epoch    GPU_mem   box_loss   cls_loss   dfl_loss  Instances       Size\n"
     ]
    },
    {
     "name": "stderr",
     "output_type": "stream",
     "text": [
      "    169/300      4.27G      1.865     0.8644        1.9        133        640: 100%|██████████| 82/82 [00:25<00:00,  3.\n",
      "                 Class     Images  Instances      Box(P          R      mAP50  mAP50-95): 100%|██████████| 14/14 [00:05"
     ]
    },
    {
     "name": "stdout",
     "output_type": "stream",
     "text": [
      "                   all        679       3388      0.936      0.906      0.957      0.623\n"
     ]
    },
    {
     "name": "stderr",
     "output_type": "stream",
     "text": [
      "\n"
     ]
    },
    {
     "name": "stdout",
     "output_type": "stream",
     "text": [
      "\n",
      "      Epoch    GPU_mem   box_loss   cls_loss   dfl_loss  Instances       Size\n"
     ]
    },
    {
     "name": "stderr",
     "output_type": "stream",
     "text": [
      "    170/300      4.25G      1.871     0.8668      1.909         94        640: 100%|██████████| 82/82 [00:25<00:00,  3.\n",
      "                 Class     Images  Instances      Box(P          R      mAP50  mAP50-95): 100%|██████████| 14/14 [00:05"
     ]
    },
    {
     "name": "stdout",
     "output_type": "stream",
     "text": [
      "                   all        679       3388      0.942      0.896      0.957      0.626\n"
     ]
    },
    {
     "name": "stderr",
     "output_type": "stream",
     "text": [
      "\n"
     ]
    },
    {
     "name": "stdout",
     "output_type": "stream",
     "text": [
      "\n",
      "      Epoch    GPU_mem   box_loss   cls_loss   dfl_loss  Instances       Size\n"
     ]
    },
    {
     "name": "stderr",
     "output_type": "stream",
     "text": [
      "    171/300      4.24G      1.847     0.8519      1.912        102        640: 100%|██████████| 82/82 [00:25<00:00,  3.\n",
      "                 Class     Images  Instances      Box(P          R      mAP50  mAP50-95): 100%|██████████| 14/14 [00:05"
     ]
    },
    {
     "name": "stdout",
     "output_type": "stream",
     "text": [
      "                   all        679       3388      0.936      0.904      0.958      0.624\n"
     ]
    },
    {
     "name": "stderr",
     "output_type": "stream",
     "text": [
      "\n"
     ]
    },
    {
     "name": "stdout",
     "output_type": "stream",
     "text": [
      "\n",
      "      Epoch    GPU_mem   box_loss   cls_loss   dfl_loss  Instances       Size\n"
     ]
    },
    {
     "name": "stderr",
     "output_type": "stream",
     "text": [
      "    172/300       4.2G       1.88     0.8707      1.903        103        640: 100%|██████████| 82/82 [00:25<00:00,  3.\n",
      "                 Class     Images  Instances      Box(P          R      mAP50  mAP50-95): 100%|██████████| 14/14 [00:05"
     ]
    },
    {
     "name": "stdout",
     "output_type": "stream",
     "text": [
      "                   all        679       3388      0.923      0.911      0.957      0.623\n"
     ]
    },
    {
     "name": "stderr",
     "output_type": "stream",
     "text": [
      "\n"
     ]
    },
    {
     "name": "stdout",
     "output_type": "stream",
     "text": [
      "\n",
      "      Epoch    GPU_mem   box_loss   cls_loss   dfl_loss  Instances       Size\n"
     ]
    },
    {
     "name": "stderr",
     "output_type": "stream",
     "text": [
      "    173/300      4.13G      1.828     0.8373      1.901        114        640: 100%|██████████| 82/82 [00:25<00:00,  3.\n",
      "                 Class     Images  Instances      Box(P          R      mAP50  mAP50-95): 100%|██████████| 14/14 [00:05"
     ]
    },
    {
     "name": "stdout",
     "output_type": "stream",
     "text": [
      "                   all        679       3388      0.934      0.912       0.96      0.626\n"
     ]
    },
    {
     "name": "stderr",
     "output_type": "stream",
     "text": [
      "\n"
     ]
    },
    {
     "name": "stdout",
     "output_type": "stream",
     "text": [
      "\n",
      "      Epoch    GPU_mem   box_loss   cls_loss   dfl_loss  Instances       Size\n"
     ]
    },
    {
     "name": "stderr",
     "output_type": "stream",
     "text": [
      "    174/300       4.2G      1.852     0.8526      1.901         64        640: 100%|██████████| 82/82 [00:25<00:00,  3.\n",
      "                 Class     Images  Instances      Box(P          R      mAP50  mAP50-95): 100%|██████████| 14/14 [00:05"
     ]
    },
    {
     "name": "stdout",
     "output_type": "stream",
     "text": [
      "                   all        679       3388      0.934      0.904      0.958      0.623\n"
     ]
    },
    {
     "name": "stderr",
     "output_type": "stream",
     "text": [
      "\n"
     ]
    },
    {
     "name": "stdout",
     "output_type": "stream",
     "text": [
      "\n",
      "      Epoch    GPU_mem   box_loss   cls_loss   dfl_loss  Instances       Size\n"
     ]
    },
    {
     "name": "stderr",
     "output_type": "stream",
     "text": [
      "    175/300      4.11G       1.85     0.8533      1.905         96        640: 100%|██████████| 82/82 [00:25<00:00,  3.\n",
      "                 Class     Images  Instances      Box(P          R      mAP50  mAP50-95): 100%|██████████| 14/14 [00:05"
     ]
    },
    {
     "name": "stdout",
     "output_type": "stream",
     "text": [
      "                   all        679       3388      0.933      0.908      0.959      0.627\n"
     ]
    },
    {
     "name": "stderr",
     "output_type": "stream",
     "text": [
      "\n"
     ]
    },
    {
     "name": "stdout",
     "output_type": "stream",
     "text": [
      "\n",
      "      Epoch    GPU_mem   box_loss   cls_loss   dfl_loss  Instances       Size\n"
     ]
    },
    {
     "name": "stderr",
     "output_type": "stream",
     "text": [
      "    176/300       4.2G      1.831     0.8381      1.882        104        640: 100%|██████████| 82/82 [00:25<00:00,  3.\n",
      "                 Class     Images  Instances      Box(P          R      mAP50  mAP50-95): 100%|██████████| 14/14 [00:05"
     ]
    },
    {
     "name": "stdout",
     "output_type": "stream",
     "text": [
      "                   all        679       3388      0.944      0.901       0.96      0.624\n"
     ]
    },
    {
     "name": "stderr",
     "output_type": "stream",
     "text": [
      "\n"
     ]
    },
    {
     "name": "stdout",
     "output_type": "stream",
     "text": [
      "\n",
      "      Epoch    GPU_mem   box_loss   cls_loss   dfl_loss  Instances       Size\n"
     ]
    },
    {
     "name": "stderr",
     "output_type": "stream",
     "text": [
      "    177/300      4.23G       1.83     0.8446      1.897         87        640: 100%|██████████| 82/82 [00:25<00:00,  3.\n",
      "                 Class     Images  Instances      Box(P          R      mAP50  mAP50-95): 100%|██████████| 14/14 [00:05"
     ]
    },
    {
     "name": "stdout",
     "output_type": "stream",
     "text": [
      "                   all        679       3388      0.935      0.906      0.959      0.625\n"
     ]
    },
    {
     "name": "stderr",
     "output_type": "stream",
     "text": [
      "\n"
     ]
    },
    {
     "name": "stdout",
     "output_type": "stream",
     "text": [
      "\n",
      "      Epoch    GPU_mem   box_loss   cls_loss   dfl_loss  Instances       Size\n"
     ]
    },
    {
     "name": "stderr",
     "output_type": "stream",
     "text": [
      "    178/300       4.2G      1.827     0.8363      1.882         80        640: 100%|██████████| 82/82 [00:25<00:00,  3.\n",
      "                 Class     Images  Instances      Box(P          R      mAP50  mAP50-95): 100%|██████████| 14/14 [00:05"
     ]
    },
    {
     "name": "stdout",
     "output_type": "stream",
     "text": [
      "                   all        679       3388       0.93      0.909      0.958      0.625\n"
     ]
    },
    {
     "name": "stderr",
     "output_type": "stream",
     "text": [
      "\n"
     ]
    },
    {
     "name": "stdout",
     "output_type": "stream",
     "text": [
      "\n",
      "      Epoch    GPU_mem   box_loss   cls_loss   dfl_loss  Instances       Size\n"
     ]
    },
    {
     "name": "stderr",
     "output_type": "stream",
     "text": [
      "    179/300      4.12G      1.828     0.8507      1.897        127        640: 100%|██████████| 82/82 [00:25<00:00,  3.\n",
      "                 Class     Images  Instances      Box(P          R      mAP50  mAP50-95): 100%|██████████| 14/14 [00:05"
     ]
    },
    {
     "name": "stdout",
     "output_type": "stream",
     "text": [
      "                   all        679       3388      0.934      0.903      0.956      0.622\n"
     ]
    },
    {
     "name": "stderr",
     "output_type": "stream",
     "text": [
      "\n"
     ]
    },
    {
     "name": "stdout",
     "output_type": "stream",
     "text": [
      "\n",
      "      Epoch    GPU_mem   box_loss   cls_loss   dfl_loss  Instances       Size\n"
     ]
    },
    {
     "name": "stderr",
     "output_type": "stream",
     "text": [
      "    180/300      4.19G      1.822     0.8433      1.884        118        640: 100%|██████████| 82/82 [00:25<00:00,  3.\n",
      "                 Class     Images  Instances      Box(P          R      mAP50  mAP50-95): 100%|██████████| 14/14 [00:05"
     ]
    },
    {
     "name": "stdout",
     "output_type": "stream",
     "text": [
      "                   all        679       3388      0.937      0.898      0.957      0.625\n"
     ]
    },
    {
     "name": "stderr",
     "output_type": "stream",
     "text": [
      "\n"
     ]
    },
    {
     "name": "stdout",
     "output_type": "stream",
     "text": [
      "\n",
      "      Epoch    GPU_mem   box_loss   cls_loss   dfl_loss  Instances       Size\n"
     ]
    },
    {
     "name": "stderr",
     "output_type": "stream",
     "text": [
      "    181/300       4.1G      1.823     0.8512      1.894        124        640: 100%|██████████| 82/82 [00:25<00:00,  3.\n",
      "                 Class     Images  Instances      Box(P          R      mAP50  mAP50-95): 100%|██████████| 14/14 [00:05"
     ]
    },
    {
     "name": "stdout",
     "output_type": "stream",
     "text": [
      "                   all        679       3388      0.939      0.907      0.958      0.627\n"
     ]
    },
    {
     "name": "stderr",
     "output_type": "stream",
     "text": [
      "\n"
     ]
    },
    {
     "name": "stdout",
     "output_type": "stream",
     "text": [
      "\n",
      "      Epoch    GPU_mem   box_loss   cls_loss   dfl_loss  Instances       Size\n"
     ]
    },
    {
     "name": "stderr",
     "output_type": "stream",
     "text": [
      "    182/300      4.35G       1.86     0.8635      1.893        102        640: 100%|██████████| 82/82 [00:25<00:00,  3.\n",
      "                 Class     Images  Instances      Box(P          R      mAP50  mAP50-95): 100%|██████████| 14/14 [00:05"
     ]
    },
    {
     "name": "stdout",
     "output_type": "stream",
     "text": [
      "                   all        679       3388      0.951      0.892      0.959      0.625\n"
     ]
    },
    {
     "name": "stderr",
     "output_type": "stream",
     "text": [
      "\n"
     ]
    },
    {
     "name": "stdout",
     "output_type": "stream",
     "text": [
      "\n",
      "      Epoch    GPU_mem   box_loss   cls_loss   dfl_loss  Instances       Size\n"
     ]
    },
    {
     "name": "stderr",
     "output_type": "stream",
     "text": [
      "    183/300      4.34G      1.828     0.8435      1.887        108        640: 100%|██████████| 82/82 [00:25<00:00,  3.\n",
      "                 Class     Images  Instances      Box(P          R      mAP50  mAP50-95): 100%|██████████| 14/14 [00:05"
     ]
    },
    {
     "name": "stdout",
     "output_type": "stream",
     "text": [
      "                   all        679       3388      0.934      0.911      0.959      0.625\n"
     ]
    },
    {
     "name": "stderr",
     "output_type": "stream",
     "text": [
      "\n"
     ]
    },
    {
     "name": "stdout",
     "output_type": "stream",
     "text": [
      "\n",
      "      Epoch    GPU_mem   box_loss   cls_loss   dfl_loss  Instances       Size\n"
     ]
    },
    {
     "name": "stderr",
     "output_type": "stream",
     "text": [
      "    184/300      4.11G       1.83     0.8446      1.886        130        640: 100%|██████████| 82/82 [00:25<00:00,  3.\n",
      "                 Class     Images  Instances      Box(P          R      mAP50  mAP50-95): 100%|██████████| 14/14 [00:05"
     ]
    },
    {
     "name": "stdout",
     "output_type": "stream",
     "text": [
      "                   all        679       3388      0.934      0.908       0.96      0.628\n"
     ]
    },
    {
     "name": "stderr",
     "output_type": "stream",
     "text": [
      "\n"
     ]
    },
    {
     "name": "stdout",
     "output_type": "stream",
     "text": [
      "\n",
      "      Epoch    GPU_mem   box_loss   cls_loss   dfl_loss  Instances       Size\n"
     ]
    },
    {
     "name": "stderr",
     "output_type": "stream",
     "text": [
      "    185/300      4.41G      1.821     0.8427      1.906        105        640: 100%|██████████| 82/82 [00:25<00:00,  3.\n",
      "                 Class     Images  Instances      Box(P          R      mAP50  mAP50-95): 100%|██████████| 14/14 [00:05"
     ]
    },
    {
     "name": "stdout",
     "output_type": "stream",
     "text": [
      "                   all        679       3388      0.937      0.905      0.959      0.627\n",
      "\u001b[34m\u001b[1mEarlyStopping: \u001b[0mTraining stopped early as no improvement observed in last 30 epochs. Best results observed at epoch 155, best model saved as best.pt.\n",
      "To update EarlyStopping(patience=30) pass a new patience value, i.e. `patience=300` or use `patience=0` to disable EarlyStopping.\n"
     ]
    },
    {
     "name": "stderr",
     "output_type": "stream",
     "text": [
      "\n"
     ]
    },
    {
     "name": "stdout",
     "output_type": "stream",
     "text": [
      "\n",
      "185 epochs completed in 1.653 hours.\n",
      "Optimizer stripped from runs\\detect\\dataset-v2-finetune-1\\weights\\last.pt, 16.5MB\n",
      "Optimizer stripped from runs\\detect\\dataset-v2-finetune-1\\weights\\best.pt, 16.5MB\n",
      "\n",
      "Validating runs\\detect\\dataset-v2-finetune-1\\weights\\best.pt...\n",
      "Ultralytics 8.3.82  Python-3.11.11 torch-2.5.1 CUDA:0 (NVIDIA GeForce RTX 3060, 12288MiB)\n",
      "YOLOv10s summary (fused): 129 layers, 8,038,056 parameters, 0 gradients, 24.5 GFLOPs\n"
     ]
    },
    {
     "name": "stderr",
     "output_type": "stream",
     "text": [
      "                 Class     Images  Instances      Box(P          R      mAP50  mAP50-95): 100%|██████████| 14/14 [00:06\n"
     ]
    },
    {
     "name": "stdout",
     "output_type": "stream",
     "text": [
      "                   all        679       3388      0.939      0.901      0.959      0.628\n",
      "            no_glasses        407        605      0.927      0.884      0.957      0.574\n",
      "             no_gloves        472       1207      0.922      0.863      0.933      0.582\n",
      "             no_helmet        449        760      0.958      0.933      0.972       0.63\n",
      "               no_vest        481        816       0.95      0.923      0.976      0.727\n",
      "Speed: 0.1ms preprocess, 2.9ms inference, 0.0ms loss, 0.3ms postprocess per image\n",
      "Results saved to \u001b[1mruns\\detect\\dataset-v2-finetune-1\u001b[0m\n",
      "Ultralytics 8.3.82  Python-3.11.11 torch-2.5.1 CPU (Intel Core(TM) i5-8400 2.80GHz)\n",
      "YOLOv10s summary (fused): 129 layers, 8,038,056 parameters, 0 gradients, 24.5 GFLOPs\n",
      "\n",
      "\u001b[34m\u001b[1mPyTorch:\u001b[0m starting from 'runs\\detect\\dataset-v2-finetune-1\\weights\\best.pt' with input shape (1, 3, 640, 640) BCHW and output shape(s) (1, 300, 6) (15.8 MB)\n",
      "\n",
      "\u001b[34m\u001b[1mTorchScript:\u001b[0m starting export with torch 2.5.1...\n",
      "\u001b[34m\u001b[1mTorchScript:\u001b[0m export success  3.0s, saved as 'runs\\detect\\dataset-v2-finetune-1\\weights\\best.torchscript' (31.3 MB)\n",
      "\n",
      "Export complete (3.6s)\n",
      "Results saved to \u001b[1mF:\\PRACA_MAGISTERSKA\\UCZENIE_MODELI\\yolov10s\\runs\\detect\\dataset-v2-finetune-1\\weights\u001b[0m\n",
      "Predict:         yolo predict task=detect model=runs\\detect\\dataset-v2-finetune-1\\weights\\best.torchscript imgsz=640  \n",
      "Validate:        yolo val task=detect model=runs\\detect\\dataset-v2-finetune-1\\weights\\best.torchscript imgsz=640 data=data.yaml  \n",
      "Visualize:       https://netron.app\n"
     ]
    }
   ],
   "source": [
    "torch.cuda.empty_cache()\n",
    "\n",
    "# Load a COCO-pretrained model\n",
    "model = YOLO('yolov10s.pt')\n",
    "\n",
    "# Display model information (optional)\n",
    "model.info()\n",
    "\n",
    "# Train the model (100 epochs)\n",
    "results = model.train(data='data.yaml', epochs=300, imgsz=640, device=0, patience=30, batch=0.8, save_period=10, warmup_epochs=3.0, name='dataset-v2-finetune-1', freeze=10)\n",
    "\n",
    "# Export the mode\n",
    "path = model.export(format=\"torchscript\")  # return path to exported model"
   ]
  },
  {
   "cell_type": "code",
   "execution_count": 3,
   "id": "6c2967d8-b85b-4b83-ab79-19baaea63f8e",
   "metadata": {},
   "outputs": [],
   "source": [
    "torch.cuda.empty_cache()"
   ]
  },
  {
   "cell_type": "markdown",
   "id": "38bb2a6c-e9ac-4813-a1f6-0f797f3cac4e",
   "metadata": {},
   "source": [
    "Ewaluacja modelu"
   ]
  },
  {
   "cell_type": "code",
   "execution_count": 3,
   "id": "ad9a3ca2-b49f-4423-9349-cc725be2fe3b",
   "metadata": {},
   "outputs": [
    {
     "name": "stdout",
     "output_type": "stream",
     "text": [
      "Ultralytics 8.3.82  Python-3.11.11 torch-2.5.1 CUDA:0 (NVIDIA GeForce RTX 3060, 12288MiB)\n",
      "YOLOv10s summary (fused): 129 layers, 8,038,056 parameters, 0 gradients, 24.5 GFLOPs\n"
     ]
    },
    {
     "name": "stderr",
     "output_type": "stream",
     "text": [
      "\u001b[34m\u001b[1mval: \u001b[0mScanning F:\\PRACA_MAGISTERSKA\\DATASETS\\MAGISTERKA-V2\\labels\\val.cache... 679 images, 154 backgrounds, 0 corrupt: 1\u001b[0m\n",
      "                 Class     Images  Instances      Box(P          R      mAP50  mAP50-95): 100%|██████████| 43/43 [00:08\n"
     ]
    },
    {
     "name": "stdout",
     "output_type": "stream",
     "text": [
      "                   all        679       3388      0.939      0.892      0.952      0.616\n",
      "            no_glasses        407        605      0.937      0.909      0.958      0.565\n",
      "             no_gloves        472       1207      0.912       0.83      0.912       0.57\n",
      "             no_helmet        449        760      0.955      0.926      0.972      0.618\n",
      "               no_vest        481        816      0.951      0.906      0.968      0.709\n",
      "Speed: 0.2ms preprocess, 5.6ms inference, 0.0ms loss, 0.5ms postprocess per image\n",
      "Results saved to \u001b[1mruns\\detect\\val11\u001b[0m\n"
     ]
    },
    {
     "data": {
      "text/plain": [
       "np.float64(0.699454160301759)"
      ]
     },
     "execution_count": 3,
     "metadata": {},
     "output_type": "execute_result"
    }
   ],
   "source": [
    "# Load a model\n",
    "model = YOLO('runs/detect/dataset-v2-1/weights/epoch130.pt')\n",
    "\n",
    "# Validate a model\n",
    "metrics = model.val(iou=0.6)   # no arguments needed, dataset and settings remembered\n",
    "metrics.box.map         # map50-95\n",
    "metrics.box.map50       # map50\n",
    "metrics.box.map75       # map75"
   ]
  },
  {
   "cell_type": "code",
   "execution_count": 5,
   "id": "cace4e0d-0220-45cb-b29f-b2857435792b",
   "metadata": {},
   "outputs": [],
   "source": [
    "import numpy as np\n",
    "import matplotlib.pyplot as plt\n",
    "%matplotlib inline"
   ]
  },
  {
   "cell_type": "code",
   "execution_count": 18,
   "id": "fe4c4865-bea3-47ba-88b6-7a1bb0770e24",
   "metadata": {},
   "outputs": [
    {
     "data": {
      "text/plain": [
       "np.float64(0.9148060314495752)"
      ]
     },
     "execution_count": 18,
     "metadata": {},
     "output_type": "execute_result"
    }
   ],
   "source": [
    "np.mean(metrics.box.f1)"
   ]
  },
  {
   "cell_type": "code",
   "execution_count": 19,
   "id": "f8aac2b8-fcfb-4cbd-a09d-82ec80b731b3",
   "metadata": {},
   "outputs": [
    {
     "data": {
      "text/plain": [
       "array([    0.92253,     0.86897,     0.94011,     0.92761])"
      ]
     },
     "execution_count": 19,
     "metadata": {},
     "output_type": "execute_result"
    }
   ],
   "source": [
    "metrics.box.f1"
   ]
  },
  {
   "cell_type": "code",
   "execution_count": 20,
   "id": "c152eaeb-ae96-4ca8-a715-7e881aa13114",
   "metadata": {},
   "outputs": [
    {
     "data": {
      "text/plain": [
       "4.883882474219471"
      ]
     },
     "execution_count": 20,
     "metadata": {},
     "output_type": "execute_result"
    }
   ],
   "source": [
    "metrics.speed['inference']"
   ]
  },
  {
   "cell_type": "code",
   "execution_count": 6,
   "id": "451cbf28-e92a-49bb-9b24-7fe9d80655af",
   "metadata": {},
   "outputs": [],
   "source": [
    "import numpy as np\n",
    "import matplotlib.pyplot as plt\n",
    "import seaborn as sn\n",
    "import warnings\n",
    "\n",
    "def plot_confusion_matrix(matrix, normalize=True, names=()):\n",
    "    \"\"\"\n",
    "    Plot the confusion matrix using seaborn.\n",
    "    należy dwukrotnie wywołać funkcję aby zwiększył się rozmiar opisów\n",
    "\n",
    "    Args:\n",
    "        matrix (np.ndarray): Macierz pomyłek (np. metrics.confusion_matrix.matrix)\n",
    "        normalize (bool, optional): Czy normalizować macierz. Default: True\n",
    "        names (tuple, optional): Nazwy klas, używane jako etykiety na wykresie.\n",
    "    \"\"\"\n",
    "    array = matrix / ((matrix.sum(0).reshape(1, -1) + 1e-9) if normalize else 1)  # normalizacja kolumn\n",
    "    array[array < 0.005] = np.nan  # nie pokazuj wartości poniżej 0.005 (będzie pusty)\n",
    "\n",
    "    fig, ax = plt.subplots(1, 1, figsize=(12, 9), tight_layout=True)\n",
    "    nc = metrics.confusion_matrix.nc\n",
    "    nn = len(names)  # liczba nazw\n",
    "    sn.set(font_scale=1.5 if nc < 50 else 0.8)  # rozmiar czcionki\n",
    "    labels = (0 < nn < 99) and (nn == nc)  # czy zastosować nazwy jako etykiety\n",
    "    ticklabels = (list(names.values()) + [\"background\"]) if labels else \"auto\"\n",
    "    with warnings.catch_warnings():\n",
    "        warnings.simplefilter(\"ignore\")  # ignoruj ostrzeżenia o pustej macierzy\n",
    "        sn.heatmap(\n",
    "            array,\n",
    "            ax=ax,\n",
    "            annot=nc < 30,\n",
    "            annot_kws={\"size\": 18},\n",
    "            cmap=\"Blues\",\n",
    "            fmt=\".2f\" if normalize else \".0f\",\n",
    "            square=True,\n",
    "            vmin=0.0,\n",
    "            xticklabels=ticklabels,\n",
    "            yticklabels=ticklabels,\n",
    "        ).set_facecolor((1, 1, 1))\n",
    "    title = \"Confusion Matrix\" + (\" Normalized\" if normalize else \"\")\n",
    "    ax.set_xlabel(\"True\")\n",
    "    ax.set_ylabel(\"Predicted\")\n",
    "    ax.set_title(title)\n",
    "    plt.show()"
   ]
  },
  {
   "cell_type": "code",
   "execution_count": 7,
   "id": "2b272f59-1783-4682-ab22-dc38554c0f10",
   "metadata": {},
   "outputs": [],
   "source": [
    "def plot_mc_curve(px, py, names=(), xlabel=\"Confidence\", ylabel=\"Metric\"):\n",
    "    \"\"\"Plots a metric-confidence curve.\"\"\"\n",
    "    fig, ax = plt.subplots(1, 1, figsize=(9, 6), tight_layout=True)\n",
    "\n",
    "    if 0 < len(names) < 21:  # display per-class legend if < 21 classes\n",
    "        for i, y in enumerate(py):\n",
    "            ax.plot(px, y, linewidth=1, label=f\"{names[i]}\")  # plot(confidence, metric)\n",
    "    else:\n",
    "        ax.plot(px, py.T, linewidth=1, color=\"grey\")  # plot(confidence, metric)\n",
    "\n",
    "    y = smooth(py.mean(0), 0.05)\n",
    "    ax.plot(px, y, linewidth=3, color=\"blue\", label=f\"all classes, best Confidence {y.max():.2f} at {px[y.argmax()]:.3f}\")\n",
    "    ax.set_xlabel(xlabel, fontsize=17)\n",
    "    ax.set_ylabel(ylabel, fontsize=17)\n",
    "    ax.set_xlim(0, 1)\n",
    "    ax.set_ylim(0, 1)\n",
    "    ax.grid(True)\n",
    "    ax.legend(fontsize=17)\n",
    "    plt.xticks(fontsize=15)\n",
    "    plt.yticks(fontsize=15)\n",
    "    ax.set_title(f\"{ylabel}-Confidence Curve\", fontsize=18)\n",
    "    plt.show()"
   ]
  },
  {
   "cell_type": "code",
   "execution_count": 8,
   "id": "f1ef870c-2b28-4b03-8782-69676452b09d",
   "metadata": {},
   "outputs": [],
   "source": [
    "def plot_pr_curve(px, py, ap, names=()):\n",
    "    \"\"\"Plots a precision-recall curve.\"\"\"\n",
    "    fig, ax = plt.subplots(1, 1, figsize=(9, 6), tight_layout=True)\n",
    "    py = np.stack(py, axis=1)  # shape (len(px), num_classes)\n",
    "    ap = np.array(ap).flatten()  # zapewnia 1D\n",
    "\n",
    "    if 0 < len(names) < 21:\n",
    "        for i, y in enumerate(py.T):\n",
    "            ax.plot(px, y, linewidth=1, label=f\"{names[i]} {ap[i]:.3f}\")\n",
    "    else:\n",
    "        ax.plot(px, py, linewidth=1, color=\"grey\")\n",
    "\n",
    "    ax.plot(px, py.mean(1), linewidth=3, color=\"blue\", label=f\"all classes {ap.mean():.3f} mAP@0.5\")\n",
    "    ax.set_xlabel(\"Recall\", fontsize=17)\n",
    "    ax.set_ylabel(\"Precision\", fontsize=17)\n",
    "    ax.set_xlim(0, 1)\n",
    "    ax.set_ylim(0, 1)\n",
    "    ax.legend(loc='lower left', fontsize=17)\n",
    "    plt.xticks(fontsize=15)\n",
    "    plt.yticks(fontsize=15)\n",
    "    ax.grid(True)\n",
    "    ax.set_title(\"Precision-Recall Curve\", fontsize=18)\n",
    "    plt.show()"
   ]
  },
  {
   "cell_type": "code",
   "execution_count": 9,
   "id": "e8d59c04-0f70-4d1a-bd50-3ceb2082928b",
   "metadata": {},
   "outputs": [],
   "source": [
    "def smooth(y, f=0.05):\n",
    "    \"\"\"Box filter of fraction f.\"\"\"\n",
    "    nf = round(len(y) * f * 2) // 2 + 1  # number of filter elements (must be odd)\n",
    "    p = np.ones(nf // 2)  # ones padding\n",
    "    yp = np.concatenate((p * y[0], y, p * y[-1]), 0)  # y padded\n",
    "    return np.convolve(yp, np.ones(nf) / nf, mode=\"valid\")  # y-smoothed"
   ]
  },
  {
   "cell_type": "code",
   "execution_count": 11,
   "id": "d3a21178-4f6e-47f1-9195-eb7d73be6ef9",
   "metadata": {},
   "outputs": [
    {
     "data": {
      "image/png": "[encoded data removed]",
      "text/plain": [
       "<Figure size 900x600 with 1 Axes>"
      ]
     },
     "metadata": {},
     "output_type": "display_data"
    }
   ],
   "source": [
    "x, prec_values = np.linspace(0, 1, 1000), []\n",
    "\n",
    "f1_curve = metrics.box.f1_curve\n",
    "metrics.names\n",
    "plot_mc_curve(x, f1_curve, metrics.names, ylabel=\"F1\")"
   ]
  },
  {
   "cell_type": "code",
   "execution_count": 12,
   "id": "3cc3ebd2-0cac-49c2-b6e2-1487e5a3b881",
   "metadata": {},
   "outputs": [
    {
     "data": {
      "image/png": "[encoded data removed]",
      "text/plain": [
       "<Figure size 900x600 with 1 Axes>"
      ]
     },
     "metadata": {},
     "output_type": "display_data"
    }
   ],
   "source": [
    "plot_mc_curve(x, metrics.box.r_curve, metrics.names, ylabel=\"Recall\")"
   ]
  },
  {
   "cell_type": "code",
   "execution_count": 13,
   "id": "02277383-dba9-4afe-96bf-554fb4feb2d7",
   "metadata": {},
   "outputs": [
    {
     "data": {
      "image/png": "[encoded data removed]",
      "text/plain": [
       "<Figure size 900x600 with 1 Axes>"
      ]
     },
     "metadata": {},
     "output_type": "display_data"
    }
   ],
   "source": [
    "plot_mc_curve(x, metrics.box.p_curve, metrics.names, ylabel=\"Precision\")"
   ]
  },
  {
   "cell_type": "code",
   "execution_count": 14,
   "id": "a14d7010-a868-4ac2-8126-b56f62c48120",
   "metadata": {},
   "outputs": [
    {
     "data": {
      "image/png": "[encoded data removed]",
      "text/plain": [
       "<Figure size 900x600 with 1 Axes>"
      ]
     },
     "metadata": {},
     "output_type": "display_data"
    }
   ],
   "source": [
    "plot_pr_curve(x, metrics.box.prec_values, metrics.box.ap, metrics.names)"
   ]
  },
  {
   "cell_type": "code",
   "execution_count": 10,
   "id": "35a4e4ad-2bb8-40bc-8157-b8a1739a1e87",
   "metadata": {},
   "outputs": [
    {
     "data": {
      "image/png": "[encoded data removed]",
      "text/plain": [
       "<Figure size 1200x900 with 2 Axes>"
      ]
     },
     "metadata": {},
     "output_type": "display_data"
    }
   ],
   "source": [
    "plot_confusion_matrix(metrics.confusion_matrix.matrix, normalize=False, names=metrics.names)"
   ]
  },
  {
   "cell_type": "markdown",
   "id": "7e7dfdab-fcf7-4df3-93d9-f7e20c90a075",
   "metadata": {},
   "source": [
    "Predykcja"
   ]
  },
  {
   "cell_type": "code",
   "execution_count": 6,
   "id": "b8614e61-cf9a-412d-986b-3211d78d23d8",
   "metadata": {},
   "outputs": [
    {
     "name": "stdout",
     "output_type": "stream",
     "text": [
      "\n",
      "image 1/3 f:\\PRACA_MAGISTERSKA\\DATASETS\\PREDYKCJA\\images\\spacer-seniora1-2048x1362.jpg: 448x640 2 no_glassess, 4 no_glovess, 2 no_helmets, 2 no_vests, 88.3ms\n",
      "image 2/3 f:\\PRACA_MAGISTERSKA\\DATASETS\\PREDYKCJA\\images\\stock-photo-human-resource-team-talking-to-a-candidate-during-a-job-interview-in-the-office-2316131879.jpg: 480x640 3 no_glassess, 7 no_glovess, 5 no_helmets, 4 no_vests, 86.6ms\n",
      "image 3/3 f:\\PRACA_MAGISTERSKA\\DATASETS\\PREDYKCJA\\images\\stock-photo-human-resources-commission-interviewing-male-applicant-in-office-2409886423.jpg: 480x640 4 no_glassess, 5 no_glovess, 4 no_helmets, 4 no_vests, 17.6ms\n",
      "Speed: 2.8ms preprocess, 64.2ms inference, 0.8ms postprocess per image at shape (1, 3, 480, 640)\n"
     ]
    }
   ],
   "source": [
    "# Load a model\n",
    "model = YOLO('runs/detect/dataset-v2-finetune-1/weights/last.pt')\n",
    "\n",
    "# Define path to directory containing images and videos for inference\n",
    "source = '/PRACA_MAGISTERSKA/DATASETS/PREDYKCJA/images'\n",
    "\n",
    "# Run inference on the source\n",
    "results = model(source)  # generator of Results objects\n",
    "\n",
    "predictions = 'predictions/'\n",
    "if not os.path.exists(predictions):\n",
    "  os.mkdir(predictions)\n",
    "\n",
    "# Process results list\n",
    "for id, result in enumerate(results, 1):\n",
    "    boxes = result.boxes          # Boxes object for bounding box outputs\n",
    "    masks = result.masks          # Masks object for segmentation masks outputs\n",
    "    keypoints = result.keypoints  # Keypoints object for pose outputs\n",
    "    probs = result.probs          # Probs object for classification outputs\n",
    "    obb = result.obb              # Oriented boxes object for OBB outputs\n",
    "    result.show()                 # Display to screen\n",
    "    result.save(filename= predictions + 'result_' + str(id) + '.jpg')  # Save to disk"
   ]
  },
  {
   "cell_type": "code",
   "execution_count": 3,
   "id": "ac25b026-8b01-4b33-9e04-00b4a42ba31e",
   "metadata": {},
   "outputs": [
    {
     "name": "stdout",
     "output_type": "stream",
     "text": [
      "\n",
      "image 1/5 f:\\PRACA_MAGISTERSKA\\DATASETS\\PREDYKCJA\\images\\spacer-seniora1-2048x1362.jpg: 448x640 2 no_glassess, 3 no_glovess, 2 no_helmets, 2 no_vests, 83.1ms\n",
      "image 2/5 f:\\PRACA_MAGISTERSKA\\DATASETS\\PREDYKCJA\\images\\stock-photo-engineers-railway-survey-wearing-safety-uniform-under-conversation-document-and-tablet-on-hand-2468533629.jpg: 480x640 (no detections), 75.9ms\n",
      "image 3/5 f:\\PRACA_MAGISTERSKA\\DATASETS\\PREDYKCJA\\images\\stock-photo-human-resource-team-talking-to-a-candidate-during-a-job-interview-in-the-office-2316131879.jpg: 480x640 3 no_glassess, 5 no_glovess, 4 no_helmets, 4 no_vests, 19.8ms\n",
      "image 4/5 f:\\PRACA_MAGISTERSKA\\DATASETS\\PREDYKCJA\\images\\stock-photo-human-resources-commission-interviewing-male-applicant-in-office-2409886423.jpg: 480x640 3 no_glassess, 4 no_glovess, 4 no_helmets, 4 no_vests, 22.4ms\n",
      "image 5/5 f:\\PRACA_MAGISTERSKA\\DATASETS\\PREDYKCJA\\images\\stock-photo-latin-woman-with-curly-hair-wearing-a-hard-hat-and-reflective-vest-stands-confidently-in-a-city-2576103397.jpg: 480x640 1 no_glasses, 1 no_gloves, 19.4ms\n",
      "Speed: 2.5ms preprocess, 44.1ms inference, 4.2ms postprocess per image at shape (1, 3, 480, 640)\n",
      "Results saved to \u001b[1mruns\\detect\\predict5\u001b[0m\n"
     ]
    }
   ],
   "source": [
    "model = YOLO('runs/detect/dataset-v2-1/weights/epoch130.pt')\n",
    "results = model.predict(source='/PRACA_MAGISTERSKA/DATASETS/PREDYKCJA/images', show_conf=False, show_labels=False, device=0, save=True, conf=0.364)"
   ]
  },
  {
   "cell_type": "code",
   "execution_count": 2,
   "id": "eec73ab6-c4c5-4684-8c88-09b715efefd6",
   "metadata": {},
   "outputs": [],
   "source": [
    "import time"
   ]
  },
  {
   "cell_type": "code",
   "execution_count": 4,
   "id": "746b1f71-6311-45a9-926a-171e7f9d65ac",
   "metadata": {
    "scrolled": true
   },
   "outputs": [
    {
     "name": "stdout",
     "output_type": "stream",
     "text": [
      "\n",
      "\n",
      "WARNING  inference results will accumulate in RAM unless `stream=True` is passed, causing potential out-of-memory\n",
      "errors for large sources or long-running streams and videos. See https://docs.ultralytics.com/modes/predict/ for help.\n",
      "\n",
      "Example:\n",
      "    results = model(source=..., stream=True)  # generator of Results objects\n",
      "    for r in results:\n",
      "        boxes = r.boxes  # Boxes object for bbox outputs\n",
      "        masks = r.masks  # Masks object for segment masks outputs\n",
      "        probs = r.probs  # Class probabilities for classification outputs\n",
      "\n",
      "video 1/4 (frame 1/227) f:\\PRACA_MAGISTERSKA\\DATASETS\\PREDYKCJA\\videos\\las.webm: 352x640 3 no_glassess, 3 no_glovess, 5 no_helmets, 5 no_vests, 6.1ms\n",
      "video 1/4 (frame 2/227) f:\\PRACA_MAGISTERSKA\\DATASETS\\PREDYKCJA\\videos\\las.webm: 352x640 3 no_glassess, 3 no_glovess, 5 no_helmets, 5 no_vests, 6.1ms\n",
      "video 1/4 (frame 3/227) f:\\PRACA_MAGISTERSKA\\DATASETS\\PREDYKCJA\\videos\\las.webm: 352x640 2 no_glassess, 2 no_glovess, 5 no_helmets, 5 no_vests, 6.1ms\n",
      "video 1/4 (frame 4/227) f:\\PRACA_MAGISTERSKA\\DATASETS\\PREDYKCJA\\videos\\las.webm: 352x640 2 no_glassess, 2 no_glovess, 5 no_helmets, 5 no_vests, 6.1ms\n",
      "video 1/4 (frame 5/227) f:\\PRACA_MAGISTERSKA\\DATASETS\\PREDYKCJA\\videos\\las.webm: 352x640 2 no_glassess, 1 no_gloves, 5 no_helmets, 5 no_vests, 6.1ms\n",
      "video 1/4 (frame 6/227) f:\\PRACA_MAGISTERSKA\\DATASETS\\PREDYKCJA\\videos\\las.webm: 352x640 2 no_glassess, 1 no_gloves, 5 no_helmets, 5 no_vests, 6.1ms\n",
      "video 1/4 (frame 7/227) f:\\PRACA_MAGISTERSKA\\DATASETS\\PREDYKCJA\\videos\\las.webm: 352x640 1 no_glasses, 1 no_gloves, 6 no_helmets, 5 no_vests, 6.1ms\n",
      "video 1/4 (frame 8/227) f:\\PRACA_MAGISTERSKA\\DATASETS\\PREDYKCJA\\videos\\las.webm: 352x640 1 no_glasses, 2 no_glovess, 5 no_helmets, 5 no_vests, 6.1ms\n",
      "video 1/4 (frame 9/227) f:\\PRACA_MAGISTERSKA\\DATASETS\\PREDYKCJA\\videos\\las.webm: 352x640 3 no_glassess, 2 no_glovess, 5 no_helmets, 5 no_vests, 6.1ms\n",
      "video 1/4 (frame 10/227) f:\\PRACA_MAGISTERSKA\\DATASETS\\PREDYKCJA\\videos\\las.webm: 352x640 3 no_glassess, 1 no_gloves, 5 no_helmets, 5 no_vests, 6.1ms\n",
      "video 1/4 (frame 11/227) f:\\PRACA_MAGISTERSKA\\DATASETS\\PREDYKCJA\\videos\\las.webm: 352x640 3 no_glassess, 2 no_glovess, 5 no_helmets, 4 no_vests, 6.1ms\n",
      "video 1/4 (frame 12/227) f:\\PRACA_MAGISTERSKA\\DATASETS\\PREDYKCJA\\videos\\las.webm: 352x640 3 no_glassess, 1 no_gloves, 5 no_helmets, 4 no_vests, 6.1ms\n",
      "video 1/4 (frame 13/227) f:\\PRACA_MAGISTERSKA\\DATASETS\\PREDYKCJA\\videos\\las.webm: 352x640 2 no_glassess, 1 no_gloves, 5 no_helmets, 5 no_vests, 6.1ms\n",
      "video 1/4 (frame 14/227) f:\\PRACA_MAGISTERSKA\\DATASETS\\PREDYKCJA\\videos\\las.webm: 352x640 2 no_glassess, 1 no_gloves, 5 no_helmets, 5 no_vests, 6.1ms\n",
      "video 1/4 (frame 15/227) f:\\PRACA_MAGISTERSKA\\DATASETS\\PREDYKCJA\\videos\\las.webm: 352x640 3 no_glassess, 2 no_glovess, 5 no_helmets, 5 no_vests, 6.1ms\n",
      "video 1/4 (frame 16/227) f:\\PRACA_MAGISTERSKA\\DATASETS\\PREDYKCJA\\videos\\las.webm: 352x640 3 no_glassess, 2 no_glovess, 5 no_helmets, 5 no_vests, 6.1ms\n",
      "video 1/4 (frame 17/227) f:\\PRACA_MAGISTERSKA\\DATASETS\\PREDYKCJA\\videos\\las.webm: 352x640 3 no_glassess, 2 no_glovess, 5 no_helmets, 4 no_vests, 6.1ms\n",
      "video 1/4 (frame 18/227) f:\\PRACA_MAGISTERSKA\\DATASETS\\PREDYKCJA\\videos\\las.webm: 352x640 3 no_glassess, 2 no_glovess, 5 no_helmets, 4 no_vests, 6.1ms\n",
      "video 1/4 (frame 19/227) f:\\PRACA_MAGISTERSKA\\DATASETS\\PREDYKCJA\\videos\\las.webm: 352x640 3 no_glassess, 2 no_glovess, 5 no_helmets, 4 no_vests, 6.1ms\n",
      "video 1/4 (frame 20/227) f:\\PRACA_MAGISTERSKA\\DATASETS\\PREDYKCJA\\videos\\las.webm: 352x640 3 no_glassess, 2 no_glovess, 5 no_helmets, 4 no_vests, 6.1ms\n",
      "video 1/4 (frame 21/227) f:\\PRACA_MAGISTERSKA\\DATASETS\\PREDYKCJA\\videos\\las.webm: 352x640 3 no_glassess, 2 no_glovess, 5 no_helmets, 4 no_vests, 6.1ms\n",
      "video 1/4 (frame 22/227) f:\\PRACA_MAGISTERSKA\\DATASETS\\PREDYKCJA\\videos\\las.webm: 352x640 3 no_glassess, 3 no_glovess, 5 no_helmets, 4 no_vests, 6.1ms\n",
      "video 1/4 (frame 23/227) f:\\PRACA_MAGISTERSKA\\DATASETS\\PREDYKCJA\\videos\\las.webm: 352x640 3 no_glassess, 3 no_glovess, 5 no_helmets, 4 no_vests, 6.1ms\n",
      "video 1/4 (frame 24/227) f:\\PRACA_MAGISTERSKA\\DATASETS\\PREDYKCJA\\videos\\las.webm: 352x640 3 no_glassess, 3 no_glovess, 5 no_helmets, 4 no_vests, 6.1ms\n",
      "video 1/4 (frame 25/227) f:\\PRACA_MAGISTERSKA\\DATASETS\\PREDYKCJA\\videos\\las.webm: 352x640 3 no_glassess, 3 no_glovess, 5 no_helmets, 4 no_vests, 6.1ms\n",
      "video 1/4 (frame 26/227) f:\\PRACA_MAGISTERSKA\\DATASETS\\PREDYKCJA\\videos\\las.webm: 352x640 3 no_glassess, 3 no_glovess, 6 no_helmets, 4 no_vests, 6.1ms\n",
      "video 1/4 (frame 27/227) f:\\PRACA_MAGISTERSKA\\DATASETS\\PREDYKCJA\\videos\\las.webm: 352x640 3 no_glassess, 2 no_glovess, 6 no_helmets, 4 no_vests, 6.1ms\n",
      "video 1/4 (frame 28/227) f:\\PRACA_MAGISTERSKA\\DATASETS\\PREDYKCJA\\videos\\las.webm: 352x640 3 no_glassess, 2 no_glovess, 6 no_helmets, 4 no_vests, 6.1ms\n",
      "video 1/4 (frame 29/227) f:\\PRACA_MAGISTERSKA\\DATASETS\\PREDYKCJA\\videos\\las.webm: 352x640 3 no_glassess, 2 no_glovess, 6 no_helmets, 4 no_vests, 6.1ms\n",
      "video 1/4 (frame 30/227) f:\\PRACA_MAGISTERSKA\\DATASETS\\PREDYKCJA\\videos\\las.webm: 352x640 3 no_glassess, 2 no_glovess, 5 no_helmets, 4 no_vests, 6.1ms\n",
      "video 1/4 (frame 31/227) f:\\PRACA_MAGISTERSKA\\DATASETS\\PREDYKCJA\\videos\\las.webm: 352x640 3 no_glassess, 2 no_glovess, 5 no_helmets, 4 no_vests, 6.1ms\n",
      "video 1/4 (frame 32/227) f:\\PRACA_MAGISTERSKA\\DATASETS\\PREDYKCJA\\videos\\las.webm: 352x640 2 no_glassess, 2 no_glovess, 5 no_helmets, 4 no_vests, 6.1ms\n",
      "video 1/4 (frame 33/227) f:\\PRACA_MAGISTERSKA\\DATASETS\\PREDYKCJA\\videos\\las.webm: 352x640 3 no_glassess, 2 no_glovess, 5 no_helmets, 4 no_vests, 6.1ms\n",
      "video 1/4 (frame 34/227) f:\\PRACA_MAGISTERSKA\\DATASETS\\PREDYKCJA\\videos\\las.webm: 352x640 3 no_glassess, 2 no_glovess, 5 no_helmets, 4 no_vests, 6.1ms\n",
      "video 1/4 (frame 35/227) f:\\PRACA_MAGISTERSKA\\DATASETS\\PREDYKCJA\\videos\\las.webm: 352x640 3 no_glassess, 2 no_glovess, 5 no_helmets, 4 no_vests, 6.1ms\n",
      "video 1/4 (frame 36/227) f:\\PRACA_MAGISTERSKA\\DATASETS\\PREDYKCJA\\videos\\las.webm: 352x640 3 no_glassess, 2 no_glovess, 5 no_helmets, 4 no_vests, 6.1ms\n",
      "video 1/4 (frame 37/227) f:\\PRACA_MAGISTERSKA\\DATASETS\\PREDYKCJA\\videos\\las.webm: 352x640 3 no_glassess, 2 no_glovess, 5 no_helmets, 4 no_vests, 6.1ms\n",
      "video 1/4 (frame 38/227) f:\\PRACA_MAGISTERSKA\\DATASETS\\PREDYKCJA\\videos\\las.webm: 352x640 3 no_glassess, 2 no_glovess, 5 no_helmets, 4 no_vests, 6.1ms\n",
      "video 1/4 (frame 39/227) f:\\PRACA_MAGISTERSKA\\DATASETS\\PREDYKCJA\\videos\\las.webm: 352x640 3 no_glassess, 2 no_glovess, 5 no_helmets, 4 no_vests, 6.1ms\n",
      "video 1/4 (frame 40/227) f:\\PRACA_MAGISTERSKA\\DATASETS\\PREDYKCJA\\videos\\las.webm: 352x640 3 no_glassess, 2 no_glovess, 5 no_helmets, 4 no_vests, 6.1ms\n",
      "video 1/4 (frame 41/227) f:\\PRACA_MAGISTERSKA\\DATASETS\\PREDYKCJA\\videos\\las.webm: 352x640 2 no_glassess, 2 no_glovess, 5 no_helmets, 4 no_vests, 6.1ms\n",
      "video 1/4 (frame 42/227) f:\\PRACA_MAGISTERSKA\\DATASETS\\PREDYKCJA\\videos\\las.webm: 352x640 2 no_glassess, 2 no_glovess, 5 no_helmets, 4 no_vests, 6.1ms\n",
      "video 1/4 (frame 43/227) f:\\PRACA_MAGISTERSKA\\DATASETS\\PREDYKCJA\\videos\\las.webm: 352x640 2 no_glassess, 2 no_glovess, 5 no_helmets, 4 no_vests, 6.1ms\n",
      "video 1/4 (frame 44/227) f:\\PRACA_MAGISTERSKA\\DATASETS\\PREDYKCJA\\videos\\las.webm: 352x640 1 no_glasses, 2 no_glovess, 5 no_helmets, 4 no_vests, 6.1ms\n",
      "video 1/4 (frame 45/227) f:\\PRACA_MAGISTERSKA\\DATASETS\\PREDYKCJA\\videos\\las.webm: 352x640 2 no_glassess, 2 no_glovess, 5 no_helmets, 4 no_vests, 6.1ms\n",
      "video 1/4 (frame 46/227) f:\\PRACA_MAGISTERSKA\\DATASETS\\PREDYKCJA\\videos\\las.webm: 352x640 1 no_glasses, 2 no_glovess, 5 no_helmets, 4 no_vests, 6.1ms\n",
      "video 1/4 (frame 47/227) f:\\PRACA_MAGISTERSKA\\DATASETS\\PREDYKCJA\\videos\\las.webm: 352x640 3 no_glassess, 2 no_glovess, 5 no_helmets, 4 no_vests, 6.1ms\n",
      "video 1/4 (frame 48/227) f:\\PRACA_MAGISTERSKA\\DATASETS\\PREDYKCJA\\videos\\las.webm: 352x640 2 no_glassess, 2 no_glovess, 5 no_helmets, 4 no_vests, 6.1ms\n",
      "video 1/4 (frame 49/227) f:\\PRACA_MAGISTERSKA\\DATASETS\\PREDYKCJA\\videos\\las.webm: 352x640 3 no_glassess, 2 no_glovess, 5 no_helmets, 4 no_vests, 6.1ms\n",
      "video 1/4 (frame 50/227) f:\\PRACA_MAGISTERSKA\\DATASETS\\PREDYKCJA\\videos\\las.webm: 352x640 3 no_glassess, 2 no_glovess, 5 no_helmets, 4 no_vests, 6.1ms\n",
      "video 1/4 (frame 51/227) f:\\PRACA_MAGISTERSKA\\DATASETS\\PREDYKCJA\\videos\\las.webm: 352x640 3 no_glassess, 2 no_glovess, 5 no_helmets, 4 no_vests, 6.1ms\n",
      "video 1/4 (frame 52/227) f:\\PRACA_MAGISTERSKA\\DATASETS\\PREDYKCJA\\videos\\las.webm: 352x640 3 no_glassess, 2 no_glovess, 5 no_helmets, 5 no_vests, 6.1ms\n",
      "video 1/4 (frame 53/227) f:\\PRACA_MAGISTERSKA\\DATASETS\\PREDYKCJA\\videos\\las.webm: 352x640 3 no_glassess, 2 no_glovess, 5 no_helmets, 5 no_vests, 6.1ms\n",
      "video 1/4 (frame 54/227) f:\\PRACA_MAGISTERSKA\\DATASETS\\PREDYKCJA\\videos\\las.webm: 352x640 3 no_glassess, 2 no_glovess, 5 no_helmets, 5 no_vests, 6.1ms\n",
      "video 1/4 (frame 55/227) f:\\PRACA_MAGISTERSKA\\DATASETS\\PREDYKCJA\\videos\\las.webm: 352x640 2 no_glassess, 2 no_glovess, 5 no_helmets, 5 no_vests, 6.1ms\n",
      "video 1/4 (frame 56/227) f:\\PRACA_MAGISTERSKA\\DATASETS\\PREDYKCJA\\videos\\las.webm: 352x640 2 no_glassess, 2 no_glovess, 4 no_helmets, 6 no_vests, 6.1ms\n",
      "video 1/4 (frame 57/227) f:\\PRACA_MAGISTERSKA\\DATASETS\\PREDYKCJA\\videos\\las.webm: 352x640 2 no_glassess, 2 no_glovess, 5 no_helmets, 4 no_vests, 6.1ms\n",
      "video 1/4 (frame 58/227) f:\\PRACA_MAGISTERSKA\\DATASETS\\PREDYKCJA\\videos\\las.webm: 352x640 2 no_glassess, 2 no_glovess, 5 no_helmets, 5 no_vests, 6.1ms\n",
      "video 1/4 (frame 59/227) f:\\PRACA_MAGISTERSKA\\DATASETS\\PREDYKCJA\\videos\\las.webm: 352x640 3 no_glassess, 2 no_glovess, 5 no_helmets, 5 no_vests, 6.1ms\n",
      "video 1/4 (frame 60/227) f:\\PRACA_MAGISTERSKA\\DATASETS\\PREDYKCJA\\videos\\las.webm: 352x640 3 no_glassess, 2 no_glovess, 5 no_helmets, 5 no_vests, 6.1ms\n",
      "video 1/4 (frame 61/227) f:\\PRACA_MAGISTERSKA\\DATASETS\\PREDYKCJA\\videos\\las.webm: 352x640 3 no_glassess, 2 no_glovess, 5 no_helmets, 4 no_vests, 6.1ms\n",
      "video 1/4 (frame 62/227) f:\\PRACA_MAGISTERSKA\\DATASETS\\PREDYKCJA\\videos\\las.webm: 352x640 3 no_glassess, 2 no_glovess, 5 no_helmets, 4 no_vests, 6.1ms\n",
      "video 1/4 (frame 63/227) f:\\PRACA_MAGISTERSKA\\DATASETS\\PREDYKCJA\\videos\\las.webm: 352x640 3 no_glassess, 2 no_glovess, 5 no_helmets, 5 no_vests, 6.1ms\n",
      "video 1/4 (frame 64/227) f:\\PRACA_MAGISTERSKA\\DATASETS\\PREDYKCJA\\videos\\las.webm: 352x640 3 no_glassess, 2 no_glovess, 5 no_helmets, 5 no_vests, 6.1ms\n",
      "video 1/4 (frame 65/227) f:\\PRACA_MAGISTERSKA\\DATASETS\\PREDYKCJA\\videos\\las.webm: 352x640 3 no_glassess, 2 no_glovess, 5 no_helmets, 6 no_vests, 3.2ms\n",
      "video 1/4 (frame 66/227) f:\\PRACA_MAGISTERSKA\\DATASETS\\PREDYKCJA\\videos\\las.webm: 352x640 3 no_glassess, 2 no_glovess, 5 no_helmets, 5 no_vests, 3.2ms\n",
      "video 1/4 (frame 67/227) f:\\PRACA_MAGISTERSKA\\DATASETS\\PREDYKCJA\\videos\\las.webm: 352x640 2 no_glassess, 2 no_glovess, 5 no_helmets, 5 no_vests, 3.2ms\n",
      "video 1/4 (frame 68/227) f:\\PRACA_MAGISTERSKA\\DATASETS\\PREDYKCJA\\videos\\las.webm: 352x640 2 no_glassess, 2 no_glovess, 5 no_helmets, 5 no_vests, 3.2ms\n",
      "video 1/4 (frame 69/227) f:\\PRACA_MAGISTERSKA\\DATASETS\\PREDYKCJA\\videos\\las.webm: 352x640 2 no_glassess, 2 no_glovess, 5 no_helmets, 5 no_vests, 3.2ms\n",
      "video 1/4 (frame 70/227) f:\\PRACA_MAGISTERSKA\\DATASETS\\PREDYKCJA\\videos\\las.webm: 352x640 2 no_glassess, 2 no_glovess, 5 no_helmets, 5 no_vests, 3.2ms\n",
      "video 1/4 (frame 71/227) f:\\PRACA_MAGISTERSKA\\DATASETS\\PREDYKCJA\\videos\\las.webm: 352x640 2 no_glassess, 2 no_glovess, 5 no_helmets, 6 no_vests, 3.2ms\n",
      "video 1/4 (frame 72/227) f:\\PRACA_MAGISTERSKA\\DATASETS\\PREDYKCJA\\videos\\las.webm: 352x640 2 no_glassess, 2 no_glovess, 5 no_helmets, 4 no_vests, 3.2ms\n",
      "video 1/4 (frame 73/227) f:\\PRACA_MAGISTERSKA\\DATASETS\\PREDYKCJA\\videos\\las.webm: 352x640 2 no_glassess, 2 no_glovess, 5 no_helmets, 4 no_vests, 3.2ms\n",
      "video 1/4 (frame 74/227) f:\\PRACA_MAGISTERSKA\\DATASETS\\PREDYKCJA\\videos\\las.webm: 352x640 2 no_glassess, 2 no_glovess, 5 no_helmets, 4 no_vests, 3.2ms\n",
      "video 1/4 (frame 75/227) f:\\PRACA_MAGISTERSKA\\DATASETS\\PREDYKCJA\\videos\\las.webm: 352x640 2 no_glassess, 2 no_glovess, 5 no_helmets, 5 no_vests, 3.2ms\n",
      "video 1/4 (frame 76/227) f:\\PRACA_MAGISTERSKA\\DATASETS\\PREDYKCJA\\videos\\las.webm: 352x640 2 no_glassess, 2 no_glovess, 5 no_helmets, 6 no_vests, 3.2ms\n",
      "video 1/4 (frame 77/227) f:\\PRACA_MAGISTERSKA\\DATASETS\\PREDYKCJA\\videos\\las.webm: 352x640 2 no_glassess, 2 no_glovess, 5 no_helmets, 6 no_vests, 3.2ms\n",
      "video 1/4 (frame 78/227) f:\\PRACA_MAGISTERSKA\\DATASETS\\PREDYKCJA\\videos\\las.webm: 352x640 2 no_glassess, 2 no_glovess, 5 no_helmets, 6 no_vests, 3.2ms\n",
      "video 1/4 (frame 79/227) f:\\PRACA_MAGISTERSKA\\DATASETS\\PREDYKCJA\\videos\\las.webm: 352x640 2 no_glassess, 2 no_glovess, 5 no_helmets, 5 no_vests, 3.2ms\n",
      "video 1/4 (frame 80/227) f:\\PRACA_MAGISTERSKA\\DATASETS\\PREDYKCJA\\videos\\las.webm: 352x640 2 no_glassess, 2 no_glovess, 5 no_helmets, 5 no_vests, 3.2ms\n",
      "video 1/4 (frame 81/227) f:\\PRACA_MAGISTERSKA\\DATASETS\\PREDYKCJA\\videos\\las.webm: 352x640 2 no_glassess, 2 no_glovess, 5 no_helmets, 5 no_vests, 3.2ms\n",
      "video 1/4 (frame 82/227) f:\\PRACA_MAGISTERSKA\\DATASETS\\PREDYKCJA\\videos\\las.webm: 352x640 2 no_glassess, 2 no_glovess, 5 no_helmets, 5 no_vests, 3.2ms\n",
      "video 1/4 (frame 83/227) f:\\PRACA_MAGISTERSKA\\DATASETS\\PREDYKCJA\\videos\\las.webm: 352x640 2 no_glassess, 2 no_glovess, 5 no_helmets, 6 no_vests, 3.2ms\n",
      "video 1/4 (frame 84/227) f:\\PRACA_MAGISTERSKA\\DATASETS\\PREDYKCJA\\videos\\las.webm: 352x640 2 no_glassess, 2 no_glovess, 5 no_helmets, 5 no_vests, 3.2ms\n",
      "video 1/4 (frame 85/227) f:\\PRACA_MAGISTERSKA\\DATASETS\\PREDYKCJA\\videos\\las.webm: 352x640 2 no_glassess, 2 no_glovess, 5 no_helmets, 5 no_vests, 3.2ms\n",
      "video 1/4 (frame 86/227) f:\\PRACA_MAGISTERSKA\\DATASETS\\PREDYKCJA\\videos\\las.webm: 352x640 2 no_glassess, 2 no_glovess, 5 no_helmets, 5 no_vests, 3.2ms\n",
      "video 1/4 (frame 87/227) f:\\PRACA_MAGISTERSKA\\DATASETS\\PREDYKCJA\\videos\\las.webm: 352x640 2 no_glassess, 2 no_glovess, 5 no_helmets, 5 no_vests, 3.2ms\n",
      "video 1/4 (frame 88/227) f:\\PRACA_MAGISTERSKA\\DATASETS\\PREDYKCJA\\videos\\las.webm: 352x640 2 no_glassess, 2 no_glovess, 5 no_helmets, 5 no_vests, 3.2ms\n",
      "video 1/4 (frame 89/227) f:\\PRACA_MAGISTERSKA\\DATASETS\\PREDYKCJA\\videos\\las.webm: 352x640 2 no_glassess, 2 no_glovess, 5 no_helmets, 6 no_vests, 3.2ms\n",
      "video 1/4 (frame 90/227) f:\\PRACA_MAGISTERSKA\\DATASETS\\PREDYKCJA\\videos\\las.webm: 352x640 2 no_glassess, 2 no_glovess, 5 no_helmets, 6 no_vests, 3.2ms\n",
      "video 1/4 (frame 91/227) f:\\PRACA_MAGISTERSKA\\DATASETS\\PREDYKCJA\\videos\\las.webm: 352x640 2 no_glassess, 2 no_glovess, 5 no_helmets, 5 no_vests, 3.2ms\n",
      "video 1/4 (frame 92/227) f:\\PRACA_MAGISTERSKA\\DATASETS\\PREDYKCJA\\videos\\las.webm: 352x640 2 no_glassess, 2 no_glovess, 5 no_helmets, 5 no_vests, 3.2ms\n",
      "video 1/4 (frame 93/227) f:\\PRACA_MAGISTERSKA\\DATASETS\\PREDYKCJA\\videos\\las.webm: 352x640 3 no_glassess, 2 no_glovess, 5 no_helmets, 5 no_vests, 3.2ms\n",
      "video 1/4 (frame 94/227) f:\\PRACA_MAGISTERSKA\\DATASETS\\PREDYKCJA\\videos\\las.webm: 352x640 3 no_glassess, 2 no_glovess, 5 no_helmets, 5 no_vests, 3.2ms\n",
      "video 1/4 (frame 95/227) f:\\PRACA_MAGISTERSKA\\DATASETS\\PREDYKCJA\\videos\\las.webm: 352x640 3 no_glassess, 2 no_glovess, 4 no_helmets, 6 no_vests, 3.2ms\n",
      "video 1/4 (frame 96/227) f:\\PRACA_MAGISTERSKA\\DATASETS\\PREDYKCJA\\videos\\las.webm: 352x640 3 no_glassess, 2 no_glovess, 5 no_helmets, 6 no_vests, 3.2ms\n",
      "video 1/4 (frame 97/227) f:\\PRACA_MAGISTERSKA\\DATASETS\\PREDYKCJA\\videos\\las.webm: 352x640 3 no_glassess, 2 no_glovess, 5 no_helmets, 5 no_vests, 3.2ms\n",
      "video 1/4 (frame 98/227) f:\\PRACA_MAGISTERSKA\\DATASETS\\PREDYKCJA\\videos\\las.webm: 352x640 3 no_glassess, 2 no_glovess, 5 no_helmets, 5 no_vests, 3.2ms\n",
      "video 1/4 (frame 99/227) f:\\PRACA_MAGISTERSKA\\DATASETS\\PREDYKCJA\\videos\\las.webm: 352x640 3 no_glassess, 2 no_glovess, 5 no_helmets, 5 no_vests, 3.2ms\n",
      "video 1/4 (frame 100/227) f:\\PRACA_MAGISTERSKA\\DATASETS\\PREDYKCJA\\videos\\las.webm: 352x640 3 no_glassess, 2 no_glovess, 5 no_helmets, 5 no_vests, 3.2ms\n",
      "video 1/4 (frame 101/227) f:\\PRACA_MAGISTERSKA\\DATASETS\\PREDYKCJA\\videos\\las.webm: 352x640 3 no_glassess, 3 no_glovess, 5 no_helmets, 5 no_vests, 3.2ms\n",
      "video 1/4 (frame 102/227) f:\\PRACA_MAGISTERSKA\\DATASETS\\PREDYKCJA\\videos\\las.webm: 352x640 3 no_glassess, 3 no_glovess, 5 no_helmets, 5 no_vests, 3.2ms\n",
      "video 1/4 (frame 103/227) f:\\PRACA_MAGISTERSKA\\DATASETS\\PREDYKCJA\\videos\\las.webm: 352x640 3 no_glassess, 3 no_glovess, 5 no_helmets, 5 no_vests, 3.2ms\n",
      "video 1/4 (frame 104/227) f:\\PRACA_MAGISTERSKA\\DATASETS\\PREDYKCJA\\videos\\las.webm: 352x640 3 no_glassess, 2 no_glovess, 5 no_helmets, 5 no_vests, 3.2ms\n",
      "video 1/4 (frame 105/227) f:\\PRACA_MAGISTERSKA\\DATASETS\\PREDYKCJA\\videos\\las.webm: 352x640 3 no_glassess, 3 no_glovess, 5 no_helmets, 5 no_vests, 3.2ms\n",
      "video 1/4 (frame 106/227) f:\\PRACA_MAGISTERSKA\\DATASETS\\PREDYKCJA\\videos\\las.webm: 352x640 3 no_glassess, 3 no_glovess, 5 no_helmets, 5 no_vests, 3.2ms\n",
      "video 1/4 (frame 107/227) f:\\PRACA_MAGISTERSKA\\DATASETS\\PREDYKCJA\\videos\\las.webm: 352x640 3 no_glassess, 2 no_glovess, 5 no_helmets, 5 no_vests, 3.2ms\n",
      "video 1/4 (frame 108/227) f:\\PRACA_MAGISTERSKA\\DATASETS\\PREDYKCJA\\videos\\las.webm: 352x640 3 no_glassess, 2 no_glovess, 5 no_helmets, 5 no_vests, 3.2ms\n",
      "video 1/4 (frame 109/227) f:\\PRACA_MAGISTERSKA\\DATASETS\\PREDYKCJA\\videos\\las.webm: 352x640 3 no_glassess, 2 no_glovess, 5 no_helmets, 6 no_vests, 3.2ms\n",
      "video 1/4 (frame 110/227) f:\\PRACA_MAGISTERSKA\\DATASETS\\PREDYKCJA\\videos\\las.webm: 352x640 3 no_glassess, 2 no_glovess, 5 no_helmets, 6 no_vests, 3.2ms\n",
      "video 1/4 (frame 111/227) f:\\PRACA_MAGISTERSKA\\DATASETS\\PREDYKCJA\\videos\\las.webm: 352x640 3 no_glassess, 2 no_glovess, 5 no_helmets, 4 no_vests, 3.2ms\n",
      "video 1/4 (frame 112/227) f:\\PRACA_MAGISTERSKA\\DATASETS\\PREDYKCJA\\videos\\las.webm: 352x640 3 no_glassess, 2 no_glovess, 5 no_helmets, 5 no_vests, 3.2ms\n",
      "video 1/4 (frame 113/227) f:\\PRACA_MAGISTERSKA\\DATASETS\\PREDYKCJA\\videos\\las.webm: 352x640 3 no_glassess, 2 no_glovess, 5 no_helmets, 4 no_vests, 3.2ms\n",
      "video 1/4 (frame 114/227) f:\\PRACA_MAGISTERSKA\\DATASETS\\PREDYKCJA\\videos\\las.webm: 352x640 3 no_glassess, 2 no_glovess, 5 no_helmets, 4 no_vests, 3.2ms\n",
      "video 1/4 (frame 115/227) f:\\PRACA_MAGISTERSKA\\DATASETS\\PREDYKCJA\\videos\\las.webm: 352x640 3 no_glassess, 2 no_glovess, 5 no_helmets, 4 no_vests, 3.2ms\n",
      "video 1/4 (frame 116/227) f:\\PRACA_MAGISTERSKA\\DATASETS\\PREDYKCJA\\videos\\las.webm: 352x640 3 no_glassess, 2 no_glovess, 5 no_helmets, 4 no_vests, 3.2ms\n",
      "video 1/4 (frame 117/227) f:\\PRACA_MAGISTERSKA\\DATASETS\\PREDYKCJA\\videos\\las.webm: 352x640 3 no_glassess, 2 no_glovess, 5 no_helmets, 5 no_vests, 3.2ms\n",
      "video 1/4 (frame 118/227) f:\\PRACA_MAGISTERSKA\\DATASETS\\PREDYKCJA\\videos\\las.webm: 352x640 3 no_glassess, 2 no_glovess, 5 no_helmets, 5 no_vests, 3.2ms\n",
      "video 1/4 (frame 119/227) f:\\PRACA_MAGISTERSKA\\DATASETS\\PREDYKCJA\\videos\\las.webm: 352x640 3 no_glassess, 2 no_glovess, 5 no_helmets, 6 no_vests, 3.2ms\n",
      "video 1/4 (frame 120/227) f:\\PRACA_MAGISTERSKA\\DATASETS\\PREDYKCJA\\videos\\las.webm: 352x640 3 no_glassess, 2 no_glovess, 5 no_helmets, 5 no_vests, 3.2ms\n",
      "video 1/4 (frame 121/227) f:\\PRACA_MAGISTERSKA\\DATASETS\\PREDYKCJA\\videos\\las.webm: 352x640 3 no_glassess, 2 no_glovess, 5 no_helmets, 5 no_vests, 3.2ms\n",
      "video 1/4 (frame 122/227) f:\\PRACA_MAGISTERSKA\\DATASETS\\PREDYKCJA\\videos\\las.webm: 352x640 3 no_glassess, 2 no_glovess, 5 no_helmets, 5 no_vests, 3.2ms\n",
      "video 1/4 (frame 123/227) f:\\PRACA_MAGISTERSKA\\DATASETS\\PREDYKCJA\\videos\\las.webm: 352x640 3 no_glassess, 2 no_glovess, 5 no_helmets, 5 no_vests, 3.2ms\n",
      "video 1/4 (frame 124/227) f:\\PRACA_MAGISTERSKA\\DATASETS\\PREDYKCJA\\videos\\las.webm: 352x640 3 no_glassess, 2 no_glovess, 5 no_helmets, 5 no_vests, 3.2ms\n",
      "video 1/4 (frame 125/227) f:\\PRACA_MAGISTERSKA\\DATASETS\\PREDYKCJA\\videos\\las.webm: 352x640 4 no_glassess, 2 no_glovess, 5 no_helmets, 5 no_vests, 3.2ms\n",
      "video 1/4 (frame 126/227) f:\\PRACA_MAGISTERSKA\\DATASETS\\PREDYKCJA\\videos\\las.webm: 352x640 4 no_glassess, 2 no_glovess, 5 no_helmets, 6 no_vests, 3.2ms\n",
      "video 1/4 (frame 127/227) f:\\PRACA_MAGISTERSKA\\DATASETS\\PREDYKCJA\\videos\\las.webm: 352x640 3 no_glassess, 2 no_glovess, 5 no_helmets, 5 no_vests, 3.2ms\n",
      "video 1/4 (frame 128/227) f:\\PRACA_MAGISTERSKA\\DATASETS\\PREDYKCJA\\videos\\las.webm: 352x640 3 no_glassess, 2 no_glovess, 5 no_helmets, 5 no_vests, 3.2ms\n",
      "video 1/4 (frame 129/227) f:\\PRACA_MAGISTERSKA\\DATASETS\\PREDYKCJA\\videos\\las.webm: 352x640 2 no_glassess, 2 no_glovess, 5 no_helmets, 5 no_vests, 3.2ms\n",
      "video 1/4 (frame 130/227) f:\\PRACA_MAGISTERSKA\\DATASETS\\PREDYKCJA\\videos\\las.webm: 352x640 2 no_glassess, 2 no_glovess, 5 no_helmets, 5 no_vests, 3.2ms\n",
      "video 1/4 (frame 131/227) f:\\PRACA_MAGISTERSKA\\DATASETS\\PREDYKCJA\\videos\\las.webm: 352x640 3 no_glassess, 2 no_glovess, 5 no_helmets, 5 no_vests, 3.2ms\n",
      "video 1/4 (frame 132/227) f:\\PRACA_MAGISTERSKA\\DATASETS\\PREDYKCJA\\videos\\las.webm: 352x640 2 no_glassess, 2 no_glovess, 5 no_helmets, 5 no_vests, 3.2ms\n",
      "video 1/4 (frame 133/227) f:\\PRACA_MAGISTERSKA\\DATASETS\\PREDYKCJA\\videos\\las.webm: 352x640 3 no_glassess, 1 no_gloves, 5 no_helmets, 5 no_vests, 3.2ms\n",
      "video 1/4 (frame 134/227) f:\\PRACA_MAGISTERSKA\\DATASETS\\PREDYKCJA\\videos\\las.webm: 352x640 3 no_glassess, 2 no_glovess, 5 no_helmets, 5 no_vests, 3.2ms\n",
      "video 1/4 (frame 135/227) f:\\PRACA_MAGISTERSKA\\DATASETS\\PREDYKCJA\\videos\\las.webm: 352x640 3 no_glassess, 2 no_glovess, 5 no_helmets, 5 no_vests, 3.2ms\n",
      "video 1/4 (frame 136/227) f:\\PRACA_MAGISTERSKA\\DATASETS\\PREDYKCJA\\videos\\las.webm: 352x640 3 no_glassess, 4 no_glovess, 5 no_helmets, 5 no_vests, 3.2ms\n",
      "video 1/4 (frame 137/227) f:\\PRACA_MAGISTERSKA\\DATASETS\\PREDYKCJA\\videos\\las.webm: 352x640 2 no_glassess, 3 no_glovess, 5 no_helmets, 5 no_vests, 3.2ms\n",
      "video 1/4 (frame 138/227) f:\\PRACA_MAGISTERSKA\\DATASETS\\PREDYKCJA\\videos\\las.webm: 352x640 3 no_glassess, 3 no_glovess, 5 no_helmets, 5 no_vests, 3.2ms\n",
      "video 1/4 (frame 139/227) f:\\PRACA_MAGISTERSKA\\DATASETS\\PREDYKCJA\\videos\\las.webm: 352x640 2 no_glassess, 3 no_glovess, 5 no_helmets, 4 no_vests, 3.2ms\n",
      "video 1/4 (frame 140/227) f:\\PRACA_MAGISTERSKA\\DATASETS\\PREDYKCJA\\videos\\las.webm: 352x640 3 no_glassess, 3 no_glovess, 5 no_helmets, 5 no_vests, 3.2ms\n",
      "video 1/4 (frame 141/227) f:\\PRACA_MAGISTERSKA\\DATASETS\\PREDYKCJA\\videos\\las.webm: 352x640 2 no_glassess, 3 no_glovess, 5 no_helmets, 5 no_vests, 3.2ms\n",
      "video 1/4 (frame 142/227) f:\\PRACA_MAGISTERSKA\\DATASETS\\PREDYKCJA\\videos\\las.webm: 352x640 3 no_glassess, 3 no_glovess, 5 no_helmets, 5 no_vests, 3.2ms\n",
      "video 1/4 (frame 143/227) f:\\PRACA_MAGISTERSKA\\DATASETS\\PREDYKCJA\\videos\\las.webm: 352x640 4 no_glassess, 3 no_glovess, 5 no_helmets, 5 no_vests, 3.2ms\n",
      "video 1/4 (frame 144/227) f:\\PRACA_MAGISTERSKA\\DATASETS\\PREDYKCJA\\videos\\las.webm: 352x640 3 no_glassess, 3 no_glovess, 5 no_helmets, 5 no_vests, 3.2ms\n",
      "video 1/4 (frame 145/227) f:\\PRACA_MAGISTERSKA\\DATASETS\\PREDYKCJA\\videos\\las.webm: 352x640 3 no_glassess, 3 no_glovess, 5 no_helmets, 5 no_vests, 3.2ms\n",
      "video 1/4 (frame 146/227) f:\\PRACA_MAGISTERSKA\\DATASETS\\PREDYKCJA\\videos\\las.webm: 352x640 4 no_glassess, 3 no_glovess, 5 no_helmets, 4 no_vests, 3.2ms\n",
      "video 1/4 (frame 147/227) f:\\PRACA_MAGISTERSKA\\DATASETS\\PREDYKCJA\\videos\\las.webm: 352x640 4 no_glassess, 2 no_glovess, 5 no_helmets, 3 no_vests, 3.2ms\n",
      "video 1/4 (frame 148/227) f:\\PRACA_MAGISTERSKA\\DATASETS\\PREDYKCJA\\videos\\las.webm: 352x640 4 no_glassess, 2 no_glovess, 5 no_helmets, 5 no_vests, 3.2ms\n",
      "video 1/4 (frame 149/227) f:\\PRACA_MAGISTERSKA\\DATASETS\\PREDYKCJA\\videos\\las.webm: 352x640 3 no_glassess, 3 no_glovess, 5 no_helmets, 4 no_vests, 3.2ms\n",
      "video 1/4 (frame 150/227) f:\\PRACA_MAGISTERSKA\\DATASETS\\PREDYKCJA\\videos\\las.webm: 352x640 3 no_glassess, 3 no_glovess, 5 no_helmets, 5 no_vests, 3.2ms\n",
      "video 1/4 (frame 151/227) f:\\PRACA_MAGISTERSKA\\DATASETS\\PREDYKCJA\\videos\\las.webm: 352x640 3 no_glassess, 3 no_glovess, 5 no_helmets, 5 no_vests, 3.2ms\n",
      "video 1/4 (frame 152/227) f:\\PRACA_MAGISTERSKA\\DATASETS\\PREDYKCJA\\videos\\las.webm: 352x640 3 no_glassess, 2 no_glovess, 5 no_helmets, 3 no_vests, 3.2ms\n",
      "video 1/4 (frame 153/227) f:\\PRACA_MAGISTERSKA\\DATASETS\\PREDYKCJA\\videos\\las.webm: 352x640 2 no_glassess, 2 no_glovess, 5 no_helmets, 4 no_vests, 3.2ms\n",
      "video 1/4 (frame 154/227) f:\\PRACA_MAGISTERSKA\\DATASETS\\PREDYKCJA\\videos\\las.webm: 352x640 2 no_glassess, 3 no_glovess, 5 no_helmets, 3 no_vests, 3.2ms\n",
      "video 1/4 (frame 155/227) f:\\PRACA_MAGISTERSKA\\DATASETS\\PREDYKCJA\\videos\\las.webm: 352x640 2 no_glassess, 3 no_glovess, 5 no_helmets, 3 no_vests, 3.2ms\n",
      "video 1/4 (frame 156/227) f:\\PRACA_MAGISTERSKA\\DATASETS\\PREDYKCJA\\videos\\las.webm: 352x640 2 no_glassess, 3 no_glovess, 5 no_helmets, 3 no_vests, 3.2ms\n",
      "video 1/4 (frame 157/227) f:\\PRACA_MAGISTERSKA\\DATASETS\\PREDYKCJA\\videos\\las.webm: 352x640 2 no_glassess, 2 no_glovess, 5 no_helmets, 4 no_vests, 3.2ms\n",
      "video 1/4 (frame 158/227) f:\\PRACA_MAGISTERSKA\\DATASETS\\PREDYKCJA\\videos\\las.webm: 352x640 2 no_glassess, 3 no_glovess, 5 no_helmets, 4 no_vests, 3.2ms\n",
      "video 1/4 (frame 159/227) f:\\PRACA_MAGISTERSKA\\DATASETS\\PREDYKCJA\\videos\\las.webm: 352x640 2 no_glassess, 3 no_glovess, 4 no_helmets, 5 no_vests, 3.2ms\n",
      "video 1/4 (frame 160/227) f:\\PRACA_MAGISTERSKA\\DATASETS\\PREDYKCJA\\videos\\las.webm: 352x640 2 no_glassess, 3 no_glovess, 4 no_helmets, 5 no_vests, 3.2ms\n",
      "video 1/4 (frame 161/227) f:\\PRACA_MAGISTERSKA\\DATASETS\\PREDYKCJA\\videos\\las.webm: 352x640 2 no_glassess, 3 no_glovess, 4 no_helmets, 4 no_vests, 3.2ms\n",
      "video 1/4 (frame 162/227) f:\\PRACA_MAGISTERSKA\\DATASETS\\PREDYKCJA\\videos\\las.webm: 352x640 2 no_glassess, 3 no_glovess, 4 no_helmets, 4 no_vests, 3.2ms\n",
      "video 1/4 (frame 163/227) f:\\PRACA_MAGISTERSKA\\DATASETS\\PREDYKCJA\\videos\\las.webm: 352x640 2 no_glassess, 3 no_glovess, 4 no_helmets, 4 no_vests, 3.2ms\n",
      "video 1/4 (frame 164/227) f:\\PRACA_MAGISTERSKA\\DATASETS\\PREDYKCJA\\videos\\las.webm: 352x640 2 no_glassess, 3 no_glovess, 4 no_helmets, 4 no_vests, 3.2ms\n",
      "video 1/4 (frame 165/227) f:\\PRACA_MAGISTERSKA\\DATASETS\\PREDYKCJA\\videos\\las.webm: 352x640 2 no_glassess, 3 no_glovess, 4 no_helmets, 4 no_vests, 3.2ms\n",
      "video 1/4 (frame 166/227) f:\\PRACA_MAGISTERSKA\\DATASETS\\PREDYKCJA\\videos\\las.webm: 352x640 2 no_glassess, 4 no_glovess, 5 no_helmets, 3 no_vests, 3.2ms\n",
      "video 1/4 (frame 167/227) f:\\PRACA_MAGISTERSKA\\DATASETS\\PREDYKCJA\\videos\\las.webm: 352x640 3 no_glassess, 2 no_glovess, 5 no_helmets, 4 no_vests, 3.2ms\n",
      "video 1/4 (frame 168/227) f:\\PRACA_MAGISTERSKA\\DATASETS\\PREDYKCJA\\videos\\las.webm: 352x640 3 no_glassess, 1 no_gloves, 5 no_helmets, 4 no_vests, 3.2ms\n",
      "video 1/4 (frame 169/227) f:\\PRACA_MAGISTERSKA\\DATASETS\\PREDYKCJA\\videos\\las.webm: 352x640 3 no_glassess, 2 no_glovess, 5 no_helmets, 4 no_vests, 3.2ms\n",
      "video 1/4 (frame 170/227) f:\\PRACA_MAGISTERSKA\\DATASETS\\PREDYKCJA\\videos\\las.webm: 352x640 3 no_glassess, 2 no_glovess, 5 no_helmets, 4 no_vests, 3.2ms\n",
      "video 1/4 (frame 171/227) f:\\PRACA_MAGISTERSKA\\DATASETS\\PREDYKCJA\\videos\\las.webm: 352x640 2 no_glassess, 1 no_gloves, 5 no_helmets, 4 no_vests, 3.2ms\n",
      "video 1/4 (frame 172/227) f:\\PRACA_MAGISTERSKA\\DATASETS\\PREDYKCJA\\videos\\las.webm: 352x640 3 no_glassess, 1 no_gloves, 5 no_helmets, 4 no_vests, 3.2ms\n",
      "video 1/4 (frame 173/227) f:\\PRACA_MAGISTERSKA\\DATASETS\\PREDYKCJA\\videos\\las.webm: 352x640 3 no_glassess, 1 no_gloves, 5 no_helmets, 4 no_vests, 3.2ms\n",
      "video 1/4 (frame 174/227) f:\\PRACA_MAGISTERSKA\\DATASETS\\PREDYKCJA\\videos\\las.webm: 352x640 2 no_glassess, 1 no_gloves, 5 no_helmets, 4 no_vests, 3.2ms\n",
      "video 1/4 (frame 175/227) f:\\PRACA_MAGISTERSKA\\DATASETS\\PREDYKCJA\\videos\\las.webm: 352x640 2 no_glassess, 2 no_glovess, 5 no_helmets, 4 no_vests, 3.2ms\n",
      "video 1/4 (frame 176/227) f:\\PRACA_MAGISTERSKA\\DATASETS\\PREDYKCJA\\videos\\las.webm: 352x640 2 no_glassess, 2 no_glovess, 5 no_helmets, 4 no_vests, 3.2ms\n",
      "video 1/4 (frame 177/227) f:\\PRACA_MAGISTERSKA\\DATASETS\\PREDYKCJA\\videos\\las.webm: 352x640 3 no_glassess, 3 no_glovess, 5 no_helmets, 4 no_vests, 3.2ms\n",
      "video 1/4 (frame 178/227) f:\\PRACA_MAGISTERSKA\\DATASETS\\PREDYKCJA\\videos\\las.webm: 352x640 3 no_glassess, 3 no_glovess, 5 no_helmets, 4 no_vests, 3.2ms\n",
      "video 1/4 (frame 179/227) f:\\PRACA_MAGISTERSKA\\DATASETS\\PREDYKCJA\\videos\\las.webm: 352x640 3 no_glassess, 3 no_glovess, 5 no_helmets, 5 no_vests, 3.2ms\n",
      "video 1/4 (frame 180/227) f:\\PRACA_MAGISTERSKA\\DATASETS\\PREDYKCJA\\videos\\las.webm: 352x640 3 no_glassess, 3 no_glovess, 5 no_helmets, 5 no_vests, 3.2ms\n",
      "video 1/4 (frame 181/227) f:\\PRACA_MAGISTERSKA\\DATASETS\\PREDYKCJA\\videos\\las.webm: 352x640 3 no_glassess, 3 no_glovess, 5 no_helmets, 5 no_vests, 3.2ms\n",
      "video 1/4 (frame 182/227) f:\\PRACA_MAGISTERSKA\\DATASETS\\PREDYKCJA\\videos\\las.webm: 352x640 3 no_glassess, 3 no_glovess, 5 no_helmets, 4 no_vests, 3.2ms\n",
      "video 1/4 (frame 183/227) f:\\PRACA_MAGISTERSKA\\DATASETS\\PREDYKCJA\\videos\\las.webm: 352x640 3 no_glassess, 2 no_glovess, 5 no_helmets, 5 no_vests, 3.2ms\n",
      "video 1/4 (frame 184/227) f:\\PRACA_MAGISTERSKA\\DATASETS\\PREDYKCJA\\videos\\las.webm: 352x640 3 no_glassess, 2 no_glovess, 5 no_helmets, 5 no_vests, 3.2ms\n",
      "video 1/4 (frame 185/227) f:\\PRACA_MAGISTERSKA\\DATASETS\\PREDYKCJA\\videos\\las.webm: 352x640 3 no_glassess, 1 no_gloves, 5 no_helmets, 4 no_vests, 3.2ms\n",
      "video 1/4 (frame 186/227) f:\\PRACA_MAGISTERSKA\\DATASETS\\PREDYKCJA\\videos\\las.webm: 352x640 3 no_glassess, 1 no_gloves, 5 no_helmets, 4 no_vests, 3.2ms\n",
      "video 1/4 (frame 187/227) f:\\PRACA_MAGISTERSKA\\DATASETS\\PREDYKCJA\\videos\\las.webm: 352x640 2 no_glassess, 1 no_gloves, 5 no_helmets, 4 no_vests, 3.2ms\n",
      "video 1/4 (frame 188/227) f:\\PRACA_MAGISTERSKA\\DATASETS\\PREDYKCJA\\videos\\las.webm: 352x640 2 no_glassess, 1 no_gloves, 5 no_helmets, 5 no_vests, 3.2ms\n",
      "video 1/4 (frame 189/227) f:\\PRACA_MAGISTERSKA\\DATASETS\\PREDYKCJA\\videos\\las.webm: 352x640 2 no_glassess, 1 no_gloves, 5 no_helmets, 4 no_vests, 3.2ms\n",
      "video 1/4 (frame 190/227) f:\\PRACA_MAGISTERSKA\\DATASETS\\PREDYKCJA\\videos\\las.webm: 352x640 2 no_glassess, 1 no_gloves, 5 no_helmets, 4 no_vests, 3.2ms\n",
      "video 1/4 (frame 191/227) f:\\PRACA_MAGISTERSKA\\DATASETS\\PREDYKCJA\\videos\\las.webm: 352x640 2 no_glassess, 2 no_glovess, 5 no_helmets, 4 no_vests, 3.2ms\n",
      "video 1/4 (frame 192/227) f:\\PRACA_MAGISTERSKA\\DATASETS\\PREDYKCJA\\videos\\las.webm: 352x640 2 no_glassess, 2 no_glovess, 5 no_helmets, 5 no_vests, 3.2ms\n",
      "video 1/4 (frame 193/227) f:\\PRACA_MAGISTERSKA\\DATASETS\\PREDYKCJA\\videos\\las.webm: 640x640 2 no_glassess, 3 no_glovess, 5 no_helmets, 4 no_vests, 6.2ms\n",
      "video 1/4 (frame 194/227) f:\\PRACA_MAGISTERSKA\\DATASETS\\PREDYKCJA\\videos\\las.webm: 640x640 3 no_glassess, 2 no_glovess, 5 no_helmets, 4 no_vests, 6.2ms\n",
      "video 1/4 (frame 195/227) f:\\PRACA_MAGISTERSKA\\DATASETS\\PREDYKCJA\\videos\\las.webm: 640x640 3 no_glassess, 2 no_glovess, 5 no_helmets, 4 no_vests, 6.2ms\n",
      "video 1/4 (frame 196/227) f:\\PRACA_MAGISTERSKA\\DATASETS\\PREDYKCJA\\videos\\las.webm: 640x640 3 no_glassess, 2 no_glovess, 5 no_helmets, 4 no_vests, 6.2ms\n",
      "video 1/4 (frame 197/227) f:\\PRACA_MAGISTERSKA\\DATASETS\\PREDYKCJA\\videos\\las.webm: 640x640 3 no_glassess, 3 no_glovess, 5 no_helmets, 4 no_vests, 6.2ms\n",
      "video 1/4 (frame 198/227) f:\\PRACA_MAGISTERSKA\\DATASETS\\PREDYKCJA\\videos\\las.webm: 640x640 3 no_glassess, 3 no_glovess, 5 no_helmets, 4 no_vests, 6.2ms\n",
      "video 1/4 (frame 199/227) f:\\PRACA_MAGISTERSKA\\DATASETS\\PREDYKCJA\\videos\\las.webm: 640x640 3 no_glassess, 3 no_glovess, 5 no_helmets, 4 no_vests, 6.2ms\n",
      "video 1/4 (frame 200/227) f:\\PRACA_MAGISTERSKA\\DATASETS\\PREDYKCJA\\videos\\las.webm: 640x640 3 no_glassess, 3 no_glovess, 5 no_helmets, 4 no_vests, 6.2ms\n",
      "video 1/4 (frame 201/227) f:\\PRACA_MAGISTERSKA\\DATASETS\\PREDYKCJA\\videos\\las.webm: 640x640 2 no_glassess, 3 no_glovess, 5 no_helmets, 4 no_vests, 6.2ms\n",
      "video 1/4 (frame 202/227) f:\\PRACA_MAGISTERSKA\\DATASETS\\PREDYKCJA\\videos\\las.webm: 640x640 2 no_glassess, 4 no_glovess, 5 no_helmets, 4 no_vests, 6.2ms\n",
      "video 1/4 (frame 203/227) f:\\PRACA_MAGISTERSKA\\DATASETS\\PREDYKCJA\\videos\\las.webm: 640x640 2 no_glassess, 3 no_glovess, 5 no_helmets, 4 no_vests, 6.2ms\n",
      "video 1/4 (frame 204/227) f:\\PRACA_MAGISTERSKA\\DATASETS\\PREDYKCJA\\videos\\las.webm: 640x640 2 no_glassess, 3 no_glovess, 5 no_helmets, 4 no_vests, 6.2ms\n",
      "video 1/4 (frame 205/227) f:\\PRACA_MAGISTERSKA\\DATASETS\\PREDYKCJA\\videos\\las.webm: 640x640 2 no_glassess, 2 no_glovess, 6 no_helmets, 4 no_vests, 6.2ms\n",
      "video 1/4 (frame 206/227) f:\\PRACA_MAGISTERSKA\\DATASETS\\PREDYKCJA\\videos\\las.webm: 640x640 2 no_glassess, 2 no_glovess, 6 no_helmets, 4 no_vests, 6.2ms\n",
      "video 1/4 (frame 207/227) f:\\PRACA_MAGISTERSKA\\DATASETS\\PREDYKCJA\\videos\\las.webm: 640x640 2 no_glassess, 2 no_glovess, 6 no_helmets, 4 no_vests, 6.2ms\n",
      "video 1/4 (frame 208/227) f:\\PRACA_MAGISTERSKA\\DATASETS\\PREDYKCJA\\videos\\las.webm: 640x640 2 no_glassess, 2 no_glovess, 6 no_helmets, 5 no_vests, 6.2ms\n",
      "video 1/4 (frame 209/227) f:\\PRACA_MAGISTERSKA\\DATASETS\\PREDYKCJA\\videos\\las.webm: 640x640 2 no_glassess, 2 no_glovess, 6 no_helmets, 4 no_vests, 6.2ms\n",
      "video 1/4 (frame 210/227) f:\\PRACA_MAGISTERSKA\\DATASETS\\PREDYKCJA\\videos\\las.webm: 640x640 2 no_glassess, 2 no_glovess, 6 no_helmets, 4 no_vests, 6.2ms\n",
      "video 1/4 (frame 211/227) f:\\PRACA_MAGISTERSKA\\DATASETS\\PREDYKCJA\\videos\\las.webm: 640x640 2 no_glassess, 3 no_glovess, 6 no_helmets, 4 no_vests, 6.2ms\n",
      "video 1/4 (frame 212/227) f:\\PRACA_MAGISTERSKA\\DATASETS\\PREDYKCJA\\videos\\las.webm: 640x640 2 no_glassess, 3 no_glovess, 6 no_helmets, 4 no_vests, 6.2ms\n",
      "video 1/4 (frame 213/227) f:\\PRACA_MAGISTERSKA\\DATASETS\\PREDYKCJA\\videos\\las.webm: 640x640 2 no_glassess, 2 no_glovess, 6 no_helmets, 4 no_vests, 6.2ms\n",
      "video 1/4 (frame 214/227) f:\\PRACA_MAGISTERSKA\\DATASETS\\PREDYKCJA\\videos\\las.webm: 640x640 2 no_glassess, 2 no_glovess, 4 no_helmets, 4 no_vests, 6.2ms\n",
      "video 1/4 (frame 215/227) f:\\PRACA_MAGISTERSKA\\DATASETS\\PREDYKCJA\\videos\\las.webm: 640x640 2 no_glassess, 2 no_glovess, 5 no_helmets, 4 no_vests, 6.2ms\n",
      "video 1/4 (frame 216/227) f:\\PRACA_MAGISTERSKA\\DATASETS\\PREDYKCJA\\videos\\las.webm: 640x640 2 no_glassess, 3 no_glovess, 5 no_helmets, 5 no_vests, 6.2ms\n",
      "video 1/4 (frame 217/227) f:\\PRACA_MAGISTERSKA\\DATASETS\\PREDYKCJA\\videos\\las.webm: 640x640 2 no_glassess, 2 no_glovess, 5 no_helmets, 5 no_vests, 6.2ms\n",
      "video 1/4 (frame 218/227) f:\\PRACA_MAGISTERSKA\\DATASETS\\PREDYKCJA\\videos\\las.webm: 640x640 3 no_glassess, 1 no_gloves, 3 no_helmets, 5 no_vests, 6.2ms\n",
      "video 1/4 (frame 219/227) f:\\PRACA_MAGISTERSKA\\DATASETS\\PREDYKCJA\\videos\\las.webm: 640x640 3 no_glassess, 1 no_gloves, 4 no_helmets, 6 no_vests, 6.2ms\n",
      "video 1/4 (frame 220/227) f:\\PRACA_MAGISTERSKA\\DATASETS\\PREDYKCJA\\videos\\las.webm: 640x640 3 no_glassess, 1 no_gloves, 4 no_helmets, 5 no_vests, 6.2ms\n",
      "video 1/4 (frame 221/227) f:\\PRACA_MAGISTERSKA\\DATASETS\\PREDYKCJA\\videos\\las.webm: 640x640 3 no_glassess, 1 no_gloves, 5 no_helmets, 6 no_vests, 6.2ms\n",
      "video 1/4 (frame 222/227) f:\\PRACA_MAGISTERSKA\\DATASETS\\PREDYKCJA\\videos\\las.webm: 640x640 3 no_glassess, 1 no_gloves, 4 no_helmets, 5 no_vests, 6.2ms\n",
      "video 1/4 (frame 223/227) f:\\PRACA_MAGISTERSKA\\DATASETS\\PREDYKCJA\\videos\\las.webm: 640x640 2 no_glassess, 3 no_helmets, 5 no_vests, 6.2ms\n",
      "video 1/4 (frame 224/227) f:\\PRACA_MAGISTERSKA\\DATASETS\\PREDYKCJA\\videos\\las.webm: 640x640 2 no_glassess, 1 no_gloves, 5 no_helmets, 5 no_vests, 6.2ms\n",
      "video 1/4 (frame 225/227) f:\\PRACA_MAGISTERSKA\\DATASETS\\PREDYKCJA\\videos\\las.webm: 640x640 2 no_glassess, 1 no_gloves, 4 no_helmets, 5 no_vests, 6.2ms\n",
      "video 1/4 (frame 226/227) f:\\PRACA_MAGISTERSKA\\DATASETS\\PREDYKCJA\\videos\\las.webm: 640x640 2 no_glassess, 1 no_gloves, 4 no_helmets, 5 no_vests, 6.2ms\n",
      "video 1/4 (frame 227/227) f:\\PRACA_MAGISTERSKA\\DATASETS\\PREDYKCJA\\videos\\las.webm: 640x640 2 no_glassess, 2 no_glovess, 4 no_helmets, 5 no_vests, 6.2ms\n",
      "video 2/4 (frame 1/646) f:\\PRACA_MAGISTERSKA\\DATASETS\\PREDYKCJA\\videos\\pieknie.webm: 640x640 1 no_glasses, 4 no_glovess, 1 no_helmet, 2 no_vests, 6.2ms\n",
      "video 2/4 (frame 2/646) f:\\PRACA_MAGISTERSKA\\DATASETS\\PREDYKCJA\\videos\\pieknie.webm: 640x640 1 no_glasses, 4 no_glovess, 2 no_vests, 6.2ms\n",
      "video 2/4 (frame 3/646) f:\\PRACA_MAGISTERSKA\\DATASETS\\PREDYKCJA\\videos\\pieknie.webm: 640x640 1 no_glasses, 4 no_glovess, 2 no_vests, 6.2ms\n",
      "video 2/4 (frame 4/646) f:\\PRACA_MAGISTERSKA\\DATASETS\\PREDYKCJA\\videos\\pieknie.webm: 640x640 1 no_glasses, 4 no_glovess, 2 no_vests, 6.2ms\n",
      "video 2/4 (frame 5/646) f:\\PRACA_MAGISTERSKA\\DATASETS\\PREDYKCJA\\videos\\pieknie.webm: 640x640 1 no_glasses, 4 no_glovess, 2 no_vests, 6.2ms\n",
      "video 2/4 (frame 6/646) f:\\PRACA_MAGISTERSKA\\DATASETS\\PREDYKCJA\\videos\\pieknie.webm: 640x640 1 no_glasses, 4 no_glovess, 2 no_vests, 6.2ms\n",
      "video 2/4 (frame 7/646) f:\\PRACA_MAGISTERSKA\\DATASETS\\PREDYKCJA\\videos\\pieknie.webm: 640x640 1 no_glasses, 4 no_glovess, 2 no_vests, 6.2ms\n",
      "video 2/4 (frame 8/646) f:\\PRACA_MAGISTERSKA\\DATASETS\\PREDYKCJA\\videos\\pieknie.webm: 640x640 4 no_glovess, 1 no_helmet, 2 no_vests, 6.2ms\n",
      "video 2/4 (frame 9/646) f:\\PRACA_MAGISTERSKA\\DATASETS\\PREDYKCJA\\videos\\pieknie.webm: 640x640 1 no_glasses, 4 no_glovess, 1 no_helmet, 2 no_vests, 6.2ms\n",
      "video 2/4 (frame 10/646) f:\\PRACA_MAGISTERSKA\\DATASETS\\PREDYKCJA\\videos\\pieknie.webm: 640x640 1 no_glasses, 3 no_glovess, 1 no_helmet, 2 no_vests, 6.2ms\n",
      "video 2/4 (frame 11/646) f:\\PRACA_MAGISTERSKA\\DATASETS\\PREDYKCJA\\videos\\pieknie.webm: 640x640 1 no_glasses, 3 no_glovess, 1 no_helmet, 2 no_vests, 6.2ms\n",
      "video 2/4 (frame 12/646) f:\\PRACA_MAGISTERSKA\\DATASETS\\PREDYKCJA\\videos\\pieknie.webm: 640x640 1 no_glasses, 4 no_glovess, 2 no_vests, 6.2ms\n",
      "video 2/4 (frame 13/646) f:\\PRACA_MAGISTERSKA\\DATASETS\\PREDYKCJA\\videos\\pieknie.webm: 640x640 1 no_glasses, 4 no_glovess, 2 no_vests, 6.2ms\n",
      "video 2/4 (frame 14/646) f:\\PRACA_MAGISTERSKA\\DATASETS\\PREDYKCJA\\videos\\pieknie.webm: 640x640 1 no_glasses, 4 no_glovess, 2 no_helmets, 2 no_vests, 6.2ms\n",
      "video 2/4 (frame 15/646) f:\\PRACA_MAGISTERSKA\\DATASETS\\PREDYKCJA\\videos\\pieknie.webm: 640x640 1 no_glasses, 4 no_glovess, 1 no_helmet, 2 no_vests, 6.2ms\n",
      "video 2/4 (frame 16/646) f:\\PRACA_MAGISTERSKA\\DATASETS\\PREDYKCJA\\videos\\pieknie.webm: 640x640 1 no_glasses, 3 no_glovess, 1 no_helmet, 2 no_vests, 6.2ms\n",
      "video 2/4 (frame 17/646) f:\\PRACA_MAGISTERSKA\\DATASETS\\PREDYKCJA\\videos\\pieknie.webm: 640x640 1 no_glasses, 4 no_glovess, 1 no_helmet, 2 no_vests, 6.2ms\n",
      "video 2/4 (frame 18/646) f:\\PRACA_MAGISTERSKA\\DATASETS\\PREDYKCJA\\videos\\pieknie.webm: 640x640 1 no_glasses, 4 no_glovess, 2 no_helmets, 2 no_vests, 6.2ms\n",
      "video 2/4 (frame 19/646) f:\\PRACA_MAGISTERSKA\\DATASETS\\PREDYKCJA\\videos\\pieknie.webm: 640x640 1 no_glasses, 4 no_glovess, 2 no_helmets, 2 no_vests, 6.2ms\n",
      "video 2/4 (frame 20/646) f:\\PRACA_MAGISTERSKA\\DATASETS\\PREDYKCJA\\videos\\pieknie.webm: 640x640 1 no_glasses, 4 no_glovess, 2 no_helmets, 2 no_vests, 6.2ms\n",
      "video 2/4 (frame 21/646) f:\\PRACA_MAGISTERSKA\\DATASETS\\PREDYKCJA\\videos\\pieknie.webm: 640x640 1 no_glasses, 4 no_glovess, 2 no_helmets, 2 no_vests, 6.2ms\n",
      "video 2/4 (frame 22/646) f:\\PRACA_MAGISTERSKA\\DATASETS\\PREDYKCJA\\videos\\pieknie.webm: 640x640 1 no_glasses, 4 no_glovess, 2 no_helmets, 2 no_vests, 6.2ms\n",
      "video 2/4 (frame 23/646) f:\\PRACA_MAGISTERSKA\\DATASETS\\PREDYKCJA\\videos\\pieknie.webm: 640x640 1 no_glasses, 4 no_glovess, 2 no_helmets, 2 no_vests, 6.2ms\n",
      "video 2/4 (frame 24/646) f:\\PRACA_MAGISTERSKA\\DATASETS\\PREDYKCJA\\videos\\pieknie.webm: 640x640 1 no_glasses, 4 no_glovess, 1 no_helmet, 2 no_vests, 6.2ms\n",
      "video 2/4 (frame 25/646) f:\\PRACA_MAGISTERSKA\\DATASETS\\PREDYKCJA\\videos\\pieknie.webm: 640x640 1 no_glasses, 4 no_glovess, 2 no_vests, 6.2ms\n",
      "video 2/4 (frame 26/646) f:\\PRACA_MAGISTERSKA\\DATASETS\\PREDYKCJA\\videos\\pieknie.webm: 640x640 1 no_glasses, 4 no_glovess, 1 no_helmet, 2 no_vests, 6.2ms\n",
      "video 2/4 (frame 27/646) f:\\PRACA_MAGISTERSKA\\DATASETS\\PREDYKCJA\\videos\\pieknie.webm: 640x640 1 no_glasses, 4 no_glovess, 1 no_helmet, 2 no_vests, 6.2ms\n",
      "video 2/4 (frame 28/646) f:\\PRACA_MAGISTERSKA\\DATASETS\\PREDYKCJA\\videos\\pieknie.webm: 640x640 1 no_glasses, 4 no_glovess, 1 no_helmet, 2 no_vests, 6.2ms\n",
      "video 2/4 (frame 29/646) f:\\PRACA_MAGISTERSKA\\DATASETS\\PREDYKCJA\\videos\\pieknie.webm: 640x640 1 no_glasses, 3 no_glovess, 1 no_helmet, 2 no_vests, 6.2ms\n",
      "video 2/4 (frame 30/646) f:\\PRACA_MAGISTERSKA\\DATASETS\\PREDYKCJA\\videos\\pieknie.webm: 384x640 1 no_glasses, 4 no_glovess, 1 no_helmet, 2 no_vests, 3.5ms\n",
      "video 2/4 (frame 31/646) f:\\PRACA_MAGISTERSKA\\DATASETS\\PREDYKCJA\\videos\\pieknie.webm: 384x640 1 no_glasses, 3 no_glovess, 2 no_vests, 3.5ms\n",
      "video 2/4 (frame 32/646) f:\\PRACA_MAGISTERSKA\\DATASETS\\PREDYKCJA\\videos\\pieknie.webm: 384x640 1 no_glasses, 3 no_glovess, 2 no_vests, 3.5ms\n",
      "video 2/4 (frame 33/646) f:\\PRACA_MAGISTERSKA\\DATASETS\\PREDYKCJA\\videos\\pieknie.webm: 384x640 1 no_glasses, 4 no_glovess, 2 no_vests, 3.5ms\n",
      "video 2/4 (frame 34/646) f:\\PRACA_MAGISTERSKA\\DATASETS\\PREDYKCJA\\videos\\pieknie.webm: 384x640 1 no_glasses, 3 no_glovess, 2 no_vests, 3.5ms\n",
      "video 2/4 (frame 35/646) f:\\PRACA_MAGISTERSKA\\DATASETS\\PREDYKCJA\\videos\\pieknie.webm: 384x640 1 no_glasses, 3 no_glovess, 2 no_vests, 3.5ms\n",
      "video 2/4 (frame 36/646) f:\\PRACA_MAGISTERSKA\\DATASETS\\PREDYKCJA\\videos\\pieknie.webm: 384x640 1 no_glasses, 3 no_glovess, 2 no_vests, 3.5ms\n",
      "video 2/4 (frame 37/646) f:\\PRACA_MAGISTERSKA\\DATASETS\\PREDYKCJA\\videos\\pieknie.webm: 384x640 1 no_glasses, 3 no_glovess, 2 no_vests, 3.5ms\n",
      "video 2/4 (frame 38/646) f:\\PRACA_MAGISTERSKA\\DATASETS\\PREDYKCJA\\videos\\pieknie.webm: 384x640 1 no_glasses, 3 no_glovess, 2 no_vests, 3.5ms\n",
      "video 2/4 (frame 39/646) f:\\PRACA_MAGISTERSKA\\DATASETS\\PREDYKCJA\\videos\\pieknie.webm: 384x640 1 no_glasses, 3 no_glovess, 2 no_vests, 3.5ms\n",
      "video 2/4 (frame 40/646) f:\\PRACA_MAGISTERSKA\\DATASETS\\PREDYKCJA\\videos\\pieknie.webm: 384x640 1 no_glasses, 3 no_glovess, 2 no_vests, 3.5ms\n",
      "video 2/4 (frame 41/646) f:\\PRACA_MAGISTERSKA\\DATASETS\\PREDYKCJA\\videos\\pieknie.webm: 384x640 1 no_glasses, 3 no_glovess, 2 no_vests, 3.5ms\n",
      "video 2/4 (frame 42/646) f:\\PRACA_MAGISTERSKA\\DATASETS\\PREDYKCJA\\videos\\pieknie.webm: 384x640 1 no_glasses, 2 no_glovess, 2 no_vests, 3.5ms\n",
      "video 2/4 (frame 43/646) f:\\PRACA_MAGISTERSKA\\DATASETS\\PREDYKCJA\\videos\\pieknie.webm: 384x640 1 no_glasses, 3 no_glovess, 2 no_vests, 3.5ms\n",
      "video 2/4 (frame 44/646) f:\\PRACA_MAGISTERSKA\\DATASETS\\PREDYKCJA\\videos\\pieknie.webm: 384x640 1 no_glasses, 4 no_glovess, 2 no_vests, 3.5ms\n",
      "video 2/4 (frame 45/646) f:\\PRACA_MAGISTERSKA\\DATASETS\\PREDYKCJA\\videos\\pieknie.webm: 384x640 1 no_glasses, 4 no_glovess, 1 no_helmet, 2 no_vests, 3.5ms\n",
      "video 2/4 (frame 46/646) f:\\PRACA_MAGISTERSKA\\DATASETS\\PREDYKCJA\\videos\\pieknie.webm: 384x640 1 no_glasses, 4 no_glovess, 1 no_helmet, 2 no_vests, 3.5ms\n",
      "video 2/4 (frame 47/646) f:\\PRACA_MAGISTERSKA\\DATASETS\\PREDYKCJA\\videos\\pieknie.webm: 384x640 1 no_glasses, 3 no_glovess, 1 no_helmet, 2 no_vests, 3.5ms\n",
      "video 2/4 (frame 48/646) f:\\PRACA_MAGISTERSKA\\DATASETS\\PREDYKCJA\\videos\\pieknie.webm: 384x640 1 no_glasses, 3 no_glovess, 1 no_helmet, 2 no_vests, 3.5ms\n",
      "video 2/4 (frame 49/646) f:\\PRACA_MAGISTERSKA\\DATASETS\\PREDYKCJA\\videos\\pieknie.webm: 384x640 1 no_glasses, 3 no_glovess, 1 no_helmet, 2 no_vests, 3.5ms\n",
      "video 2/4 (frame 50/646) f:\\PRACA_MAGISTERSKA\\DATASETS\\PREDYKCJA\\videos\\pieknie.webm: 384x640 1 no_glasses, 4 no_glovess, 2 no_vests, 3.5ms\n",
      "video 2/4 (frame 51/646) f:\\PRACA_MAGISTERSKA\\DATASETS\\PREDYKCJA\\videos\\pieknie.webm: 384x640 1 no_glasses, 3 no_glovess, 2 no_vests, 3.5ms\n",
      "video 2/4 (frame 52/646) f:\\PRACA_MAGISTERSKA\\DATASETS\\PREDYKCJA\\videos\\pieknie.webm: 384x640 1 no_glasses, 3 no_glovess, 2 no_vests, 3.5ms\n",
      "video 2/4 (frame 53/646) f:\\PRACA_MAGISTERSKA\\DATASETS\\PREDYKCJA\\videos\\pieknie.webm: 384x640 1 no_glasses, 3 no_glovess, 2 no_vests, 3.5ms\n",
      "video 2/4 (frame 54/646) f:\\PRACA_MAGISTERSKA\\DATASETS\\PREDYKCJA\\videos\\pieknie.webm: 384x640 1 no_glasses, 4 no_glovess, 2 no_vests, 3.5ms\n",
      "video 2/4 (frame 55/646) f:\\PRACA_MAGISTERSKA\\DATASETS\\PREDYKCJA\\videos\\pieknie.webm: 384x640 1 no_glasses, 4 no_glovess, 2 no_vests, 3.5ms\n",
      "video 2/4 (frame 56/646) f:\\PRACA_MAGISTERSKA\\DATASETS\\PREDYKCJA\\videos\\pieknie.webm: 384x640 1 no_glasses, 4 no_glovess, 2 no_vests, 3.5ms\n",
      "video 2/4 (frame 57/646) f:\\PRACA_MAGISTERSKA\\DATASETS\\PREDYKCJA\\videos\\pieknie.webm: 384x640 1 no_glasses, 4 no_glovess, 2 no_vests, 3.5ms\n",
      "video 2/4 (frame 58/646) f:\\PRACA_MAGISTERSKA\\DATASETS\\PREDYKCJA\\videos\\pieknie.webm: 384x640 1 no_glasses, 5 no_glovess, 2 no_vests, 3.5ms\n",
      "video 2/4 (frame 59/646) f:\\PRACA_MAGISTERSKA\\DATASETS\\PREDYKCJA\\videos\\pieknie.webm: 384x640 1 no_glasses, 4 no_glovess, 1 no_helmet, 2 no_vests, 3.5ms\n",
      "video 2/4 (frame 60/646) f:\\PRACA_MAGISTERSKA\\DATASETS\\PREDYKCJA\\videos\\pieknie.webm: 384x640 1 no_glasses, 4 no_glovess, 1 no_helmet, 2 no_vests, 3.5ms\n",
      "video 2/4 (frame 61/646) f:\\PRACA_MAGISTERSKA\\DATASETS\\PREDYKCJA\\videos\\pieknie.webm: 384x640 1 no_glasses, 4 no_glovess, 1 no_helmet, 2 no_vests, 3.5ms\n",
      "video 2/4 (frame 62/646) f:\\PRACA_MAGISTERSKA\\DATASETS\\PREDYKCJA\\videos\\pieknie.webm: 384x640 1 no_glasses, 4 no_glovess, 1 no_helmet, 2 no_vests, 3.5ms\n",
      "video 2/4 (frame 63/646) f:\\PRACA_MAGISTERSKA\\DATASETS\\PREDYKCJA\\videos\\pieknie.webm: 384x640 1 no_glasses, 3 no_glovess, 1 no_helmet, 2 no_vests, 3.5ms\n",
      "video 2/4 (frame 64/646) f:\\PRACA_MAGISTERSKA\\DATASETS\\PREDYKCJA\\videos\\pieknie.webm: 384x640 1 no_glasses, 4 no_glovess, 1 no_helmet, 2 no_vests, 3.5ms\n",
      "video 2/4 (frame 65/646) f:\\PRACA_MAGISTERSKA\\DATASETS\\PREDYKCJA\\videos\\pieknie.webm: 384x640 1 no_glasses, 4 no_glovess, 1 no_helmet, 2 no_vests, 3.5ms\n",
      "video 2/4 (frame 66/646) f:\\PRACA_MAGISTERSKA\\DATASETS\\PREDYKCJA\\videos\\pieknie.webm: 384x640 1 no_glasses, 4 no_glovess, 1 no_helmet, 2 no_vests, 3.5ms\n",
      "video 2/4 (frame 67/646) f:\\PRACA_MAGISTERSKA\\DATASETS\\PREDYKCJA\\videos\\pieknie.webm: 384x640 1 no_glasses, 3 no_glovess, 1 no_helmet, 2 no_vests, 3.5ms\n",
      "video 2/4 (frame 68/646) f:\\PRACA_MAGISTERSKA\\DATASETS\\PREDYKCJA\\videos\\pieknie.webm: 384x640 1 no_glasses, 4 no_glovess, 1 no_helmet, 2 no_vests, 3.5ms\n",
      "video 2/4 (frame 69/646) f:\\PRACA_MAGISTERSKA\\DATASETS\\PREDYKCJA\\videos\\pieknie.webm: 384x640 1 no_glasses, 3 no_glovess, 1 no_helmet, 2 no_vests, 3.5ms\n",
      "video 2/4 (frame 70/646) f:\\PRACA_MAGISTERSKA\\DATASETS\\PREDYKCJA\\videos\\pieknie.webm: 384x640 1 no_glasses, 3 no_glovess, 1 no_helmet, 2 no_vests, 3.5ms\n",
      "video 2/4 (frame 71/646) f:\\PRACA_MAGISTERSKA\\DATASETS\\PREDYKCJA\\videos\\pieknie.webm: 384x640 1 no_glasses, 3 no_glovess, 1 no_helmet, 2 no_vests, 3.5ms\n",
      "video 2/4 (frame 72/646) f:\\PRACA_MAGISTERSKA\\DATASETS\\PREDYKCJA\\videos\\pieknie.webm: 384x640 1 no_glasses, 3 no_glovess, 1 no_helmet, 2 no_vests, 3.5ms\n",
      "video 2/4 (frame 73/646) f:\\PRACA_MAGISTERSKA\\DATASETS\\PREDYKCJA\\videos\\pieknie.webm: 384x640 1 no_glasses, 3 no_glovess, 1 no_helmet, 2 no_vests, 3.5ms\n",
      "video 2/4 (frame 74/646) f:\\PRACA_MAGISTERSKA\\DATASETS\\PREDYKCJA\\videos\\pieknie.webm: 384x640 1 no_glasses, 3 no_glovess, 1 no_helmet, 2 no_vests, 3.5ms\n",
      "video 2/4 (frame 75/646) f:\\PRACA_MAGISTERSKA\\DATASETS\\PREDYKCJA\\videos\\pieknie.webm: 384x640 1 no_glasses, 3 no_glovess, 1 no_helmet, 2 no_vests, 3.5ms\n",
      "video 2/4 (frame 76/646) f:\\PRACA_MAGISTERSKA\\DATASETS\\PREDYKCJA\\videos\\pieknie.webm: 384x640 1 no_glasses, 3 no_glovess, 1 no_helmet, 2 no_vests, 3.5ms\n",
      "video 2/4 (frame 77/646) f:\\PRACA_MAGISTERSKA\\DATASETS\\PREDYKCJA\\videos\\pieknie.webm: 384x640 1 no_glasses, 4 no_glovess, 1 no_helmet, 2 no_vests, 3.5ms\n",
      "video 2/4 (frame 78/646) f:\\PRACA_MAGISTERSKA\\DATASETS\\PREDYKCJA\\videos\\pieknie.webm: 384x640 1 no_glasses, 4 no_glovess, 2 no_helmets, 2 no_vests, 3.5ms\n",
      "video 2/4 (frame 79/646) f:\\PRACA_MAGISTERSKA\\DATASETS\\PREDYKCJA\\videos\\pieknie.webm: 384x640 1 no_glasses, 4 no_glovess, 2 no_helmets, 2 no_vests, 3.5ms\n",
      "video 2/4 (frame 80/646) f:\\PRACA_MAGISTERSKA\\DATASETS\\PREDYKCJA\\videos\\pieknie.webm: 384x640 1 no_glasses, 4 no_glovess, 2 no_helmets, 2 no_vests, 3.5ms\n",
      "video 2/4 (frame 81/646) f:\\PRACA_MAGISTERSKA\\DATASETS\\PREDYKCJA\\videos\\pieknie.webm: 384x640 1 no_glasses, 4 no_glovess, 2 no_helmets, 2 no_vests, 3.5ms\n",
      "video 2/4 (frame 82/646) f:\\PRACA_MAGISTERSKA\\DATASETS\\PREDYKCJA\\videos\\pieknie.webm: 384x640 1 no_glasses, 4 no_glovess, 2 no_helmets, 2 no_vests, 3.5ms\n",
      "video 2/4 (frame 83/646) f:\\PRACA_MAGISTERSKA\\DATASETS\\PREDYKCJA\\videos\\pieknie.webm: 384x640 1 no_glasses, 4 no_glovess, 2 no_helmets, 2 no_vests, 3.5ms\n",
      "video 2/4 (frame 84/646) f:\\PRACA_MAGISTERSKA\\DATASETS\\PREDYKCJA\\videos\\pieknie.webm: 384x640 1 no_glasses, 4 no_glovess, 2 no_helmets, 2 no_vests, 3.5ms\n",
      "video 2/4 (frame 85/646) f:\\PRACA_MAGISTERSKA\\DATASETS\\PREDYKCJA\\videos\\pieknie.webm: 384x640 1 no_glasses, 4 no_glovess, 2 no_helmets, 2 no_vests, 3.5ms\n",
      "video 2/4 (frame 86/646) f:\\PRACA_MAGISTERSKA\\DATASETS\\PREDYKCJA\\videos\\pieknie.webm: 384x640 1 no_glasses, 4 no_glovess, 2 no_helmets, 2 no_vests, 3.5ms\n",
      "video 2/4 (frame 87/646) f:\\PRACA_MAGISTERSKA\\DATASETS\\PREDYKCJA\\videos\\pieknie.webm: 384x640 1 no_glasses, 4 no_glovess, 2 no_helmets, 2 no_vests, 3.5ms\n",
      "video 2/4 (frame 88/646) f:\\PRACA_MAGISTERSKA\\DATASETS\\PREDYKCJA\\videos\\pieknie.webm: 384x640 1 no_glasses, 4 no_glovess, 1 no_helmet, 2 no_vests, 3.5ms\n",
      "video 2/4 (frame 89/646) f:\\PRACA_MAGISTERSKA\\DATASETS\\PREDYKCJA\\videos\\pieknie.webm: 384x640 1 no_glasses, 4 no_glovess, 2 no_helmets, 2 no_vests, 3.5ms\n",
      "video 2/4 (frame 90/646) f:\\PRACA_MAGISTERSKA\\DATASETS\\PREDYKCJA\\videos\\pieknie.webm: 384x640 1 no_glasses, 4 no_glovess, 2 no_helmets, 2 no_vests, 3.5ms\n",
      "video 2/4 (frame 91/646) f:\\PRACA_MAGISTERSKA\\DATASETS\\PREDYKCJA\\videos\\pieknie.webm: 384x640 1 no_glasses, 4 no_glovess, 2 no_helmets, 2 no_vests, 3.5ms\n",
      "video 2/4 (frame 92/646) f:\\PRACA_MAGISTERSKA\\DATASETS\\PREDYKCJA\\videos\\pieknie.webm: 384x640 1 no_glasses, 4 no_glovess, 1 no_helmet, 2 no_vests, 3.5ms\n",
      "video 2/4 (frame 93/646) f:\\PRACA_MAGISTERSKA\\DATASETS\\PREDYKCJA\\videos\\pieknie.webm: 384x640 1 no_glasses, 4 no_glovess, 1 no_helmet, 2 no_vests, 3.5ms\n",
      "video 2/4 (frame 94/646) f:\\PRACA_MAGISTERSKA\\DATASETS\\PREDYKCJA\\videos\\pieknie.webm: 384x640 1 no_glasses, 4 no_glovess, 1 no_helmet, 2 no_vests, 3.5ms\n",
      "video 2/4 (frame 95/646) f:\\PRACA_MAGISTERSKA\\DATASETS\\PREDYKCJA\\videos\\pieknie.webm: 384x640 1 no_glasses, 4 no_glovess, 1 no_helmet, 2 no_vests, 3.5ms\n",
      "video 2/4 (frame 96/646) f:\\PRACA_MAGISTERSKA\\DATASETS\\PREDYKCJA\\videos\\pieknie.webm: 384x640 1 no_glasses, 4 no_glovess, 1 no_helmet, 2 no_vests, 3.5ms\n",
      "video 2/4 (frame 97/646) f:\\PRACA_MAGISTERSKA\\DATASETS\\PREDYKCJA\\videos\\pieknie.webm: 384x640 1 no_glasses, 4 no_glovess, 1 no_helmet, 2 no_vests, 3.5ms\n",
      "video 2/4 (frame 98/646) f:\\PRACA_MAGISTERSKA\\DATASETS\\PREDYKCJA\\videos\\pieknie.webm: 384x640 1 no_glasses, 4 no_glovess, 1 no_helmet, 2 no_vests, 3.5ms\n",
      "video 2/4 (frame 99/646) f:\\PRACA_MAGISTERSKA\\DATASETS\\PREDYKCJA\\videos\\pieknie.webm: 384x640 1 no_glasses, 3 no_glovess, 1 no_helmet, 2 no_vests, 3.5ms\n",
      "video 2/4 (frame 100/646) f:\\PRACA_MAGISTERSKA\\DATASETS\\PREDYKCJA\\videos\\pieknie.webm: 384x640 1 no_glasses, 3 no_glovess, 1 no_helmet, 2 no_vests, 3.5ms\n",
      "video 2/4 (frame 101/646) f:\\PRACA_MAGISTERSKA\\DATASETS\\PREDYKCJA\\videos\\pieknie.webm: 384x640 1 no_glasses, 3 no_glovess, 1 no_helmet, 2 no_vests, 3.5ms\n",
      "video 2/4 (frame 102/646) f:\\PRACA_MAGISTERSKA\\DATASETS\\PREDYKCJA\\videos\\pieknie.webm: 384x640 1 no_glasses, 3 no_glovess, 1 no_helmet, 2 no_vests, 3.5ms\n",
      "video 2/4 (frame 103/646) f:\\PRACA_MAGISTERSKA\\DATASETS\\PREDYKCJA\\videos\\pieknie.webm: 384x640 2 no_glassess, 4 no_glovess, 1 no_helmet, 2 no_vests, 3.5ms\n",
      "video 2/4 (frame 104/646) f:\\PRACA_MAGISTERSKA\\DATASETS\\PREDYKCJA\\videos\\pieknie.webm: 384x640 1 no_glasses, 4 no_glovess, 1 no_helmet, 2 no_vests, 3.5ms\n",
      "video 2/4 (frame 105/646) f:\\PRACA_MAGISTERSKA\\DATASETS\\PREDYKCJA\\videos\\pieknie.webm: 384x640 1 no_glasses, 4 no_glovess, 1 no_helmet, 2 no_vests, 3.5ms\n",
      "video 2/4 (frame 106/646) f:\\PRACA_MAGISTERSKA\\DATASETS\\PREDYKCJA\\videos\\pieknie.webm: 384x640 1 no_glasses, 4 no_glovess, 1 no_helmet, 2 no_vests, 3.5ms\n",
      "video 2/4 (frame 107/646) f:\\PRACA_MAGISTERSKA\\DATASETS\\PREDYKCJA\\videos\\pieknie.webm: 384x640 1 no_glasses, 4 no_glovess, 1 no_helmet, 2 no_vests, 3.5ms\n",
      "video 2/4 (frame 108/646) f:\\PRACA_MAGISTERSKA\\DATASETS\\PREDYKCJA\\videos\\pieknie.webm: 384x640 1 no_glasses, 4 no_glovess, 1 no_helmet, 2 no_vests, 3.5ms\n",
      "video 2/4 (frame 109/646) f:\\PRACA_MAGISTERSKA\\DATASETS\\PREDYKCJA\\videos\\pieknie.webm: 384x640 1 no_glasses, 4 no_glovess, 1 no_helmet, 2 no_vests, 3.5ms\n",
      "video 2/4 (frame 110/646) f:\\PRACA_MAGISTERSKA\\DATASETS\\PREDYKCJA\\videos\\pieknie.webm: 384x640 1 no_glasses, 4 no_glovess, 1 no_helmet, 2 no_vests, 3.5ms\n",
      "video 2/4 (frame 111/646) f:\\PRACA_MAGISTERSKA\\DATASETS\\PREDYKCJA\\videos\\pieknie.webm: 384x640 1 no_glasses, 4 no_glovess, 1 no_helmet, 2 no_vests, 3.5ms\n",
      "video 2/4 (frame 112/646) f:\\PRACA_MAGISTERSKA\\DATASETS\\PREDYKCJA\\videos\\pieknie.webm: 384x640 1 no_glasses, 5 no_glovess, 1 no_helmet, 2 no_vests, 3.5ms\n",
      "video 2/4 (frame 113/646) f:\\PRACA_MAGISTERSKA\\DATASETS\\PREDYKCJA\\videos\\pieknie.webm: 384x640 1 no_glasses, 3 no_glovess, 1 no_helmet, 2 no_vests, 3.5ms\n",
      "video 2/4 (frame 114/646) f:\\PRACA_MAGISTERSKA\\DATASETS\\PREDYKCJA\\videos\\pieknie.webm: 384x640 1 no_glasses, 3 no_glovess, 1 no_helmet, 2 no_vests, 3.5ms\n",
      "video 2/4 (frame 115/646) f:\\PRACA_MAGISTERSKA\\DATASETS\\PREDYKCJA\\videos\\pieknie.webm: 384x640 1 no_glasses, 2 no_glovess, 1 no_helmet, 2 no_vests, 3.5ms\n",
      "video 2/4 (frame 116/646) f:\\PRACA_MAGISTERSKA\\DATASETS\\PREDYKCJA\\videos\\pieknie.webm: 384x640 1 no_glasses, 2 no_glovess, 1 no_helmet, 2 no_vests, 3.5ms\n",
      "video 2/4 (frame 117/646) f:\\PRACA_MAGISTERSKA\\DATASETS\\PREDYKCJA\\videos\\pieknie.webm: 384x640 1 no_glasses, 2 no_glovess, 1 no_helmet, 2 no_vests, 3.5ms\n",
      "video 2/4 (frame 118/646) f:\\PRACA_MAGISTERSKA\\DATASETS\\PREDYKCJA\\videos\\pieknie.webm: 384x640 1 no_glasses, 2 no_glovess, 1 no_helmet, 2 no_vests, 3.5ms\n",
      "video 2/4 (frame 119/646) f:\\PRACA_MAGISTERSKA\\DATASETS\\PREDYKCJA\\videos\\pieknie.webm: 384x640 1 no_glasses, 2 no_glovess, 1 no_helmet, 2 no_vests, 3.5ms\n",
      "video 2/4 (frame 120/646) f:\\PRACA_MAGISTERSKA\\DATASETS\\PREDYKCJA\\videos\\pieknie.webm: 384x640 1 no_glasses, 2 no_glovess, 1 no_helmet, 2 no_vests, 3.5ms\n",
      "video 2/4 (frame 121/646) f:\\PRACA_MAGISTERSKA\\DATASETS\\PREDYKCJA\\videos\\pieknie.webm: 384x640 1 no_glasses, 2 no_glovess, 1 no_helmet, 2 no_vests, 3.5ms\n",
      "video 2/4 (frame 122/646) f:\\PRACA_MAGISTERSKA\\DATASETS\\PREDYKCJA\\videos\\pieknie.webm: 384x640 1 no_glasses, 2 no_glovess, 1 no_helmet, 2 no_vests, 3.5ms\n",
      "video 2/4 (frame 123/646) f:\\PRACA_MAGISTERSKA\\DATASETS\\PREDYKCJA\\videos\\pieknie.webm: 384x640 1 no_glasses, 3 no_glovess, 1 no_helmet, 2 no_vests, 3.5ms\n",
      "video 2/4 (frame 124/646) f:\\PRACA_MAGISTERSKA\\DATASETS\\PREDYKCJA\\videos\\pieknie.webm: 384x640 1 no_glasses, 3 no_glovess, 1 no_helmet, 2 no_vests, 3.5ms\n",
      "video 2/4 (frame 125/646) f:\\PRACA_MAGISTERSKA\\DATASETS\\PREDYKCJA\\videos\\pieknie.webm: 384x640 1 no_glasses, 3 no_glovess, 1 no_helmet, 2 no_vests, 3.5ms\n",
      "video 2/4 (frame 126/646) f:\\PRACA_MAGISTERSKA\\DATASETS\\PREDYKCJA\\videos\\pieknie.webm: 384x640 1 no_glasses, 4 no_glovess, 1 no_helmet, 2 no_vests, 3.5ms\n",
      "video 2/4 (frame 127/646) f:\\PRACA_MAGISTERSKA\\DATASETS\\PREDYKCJA\\videos\\pieknie.webm: 384x640 1 no_glasses, 4 no_glovess, 1 no_helmet, 2 no_vests, 3.5ms\n",
      "video 2/4 (frame 128/646) f:\\PRACA_MAGISTERSKA\\DATASETS\\PREDYKCJA\\videos\\pieknie.webm: 384x640 1 no_glasses, 4 no_glovess, 1 no_helmet, 2 no_vests, 3.5ms\n",
      "video 2/4 (frame 129/646) f:\\PRACA_MAGISTERSKA\\DATASETS\\PREDYKCJA\\videos\\pieknie.webm: 384x640 1 no_glasses, 4 no_glovess, 1 no_helmet, 2 no_vests, 3.5ms\n",
      "video 2/4 (frame 130/646) f:\\PRACA_MAGISTERSKA\\DATASETS\\PREDYKCJA\\videos\\pieknie.webm: 384x640 1 no_glasses, 4 no_glovess, 1 no_helmet, 2 no_vests, 3.5ms\n",
      "video 2/4 (frame 131/646) f:\\PRACA_MAGISTERSKA\\DATASETS\\PREDYKCJA\\videos\\pieknie.webm: 384x640 1 no_glasses, 4 no_glovess, 1 no_helmet, 2 no_vests, 3.5ms\n",
      "video 2/4 (frame 132/646) f:\\PRACA_MAGISTERSKA\\DATASETS\\PREDYKCJA\\videos\\pieknie.webm: 384x640 1 no_glasses, 4 no_glovess, 1 no_helmet, 2 no_vests, 3.5ms\n",
      "video 2/4 (frame 133/646) f:\\PRACA_MAGISTERSKA\\DATASETS\\PREDYKCJA\\videos\\pieknie.webm: 384x640 1 no_glasses, 4 no_glovess, 1 no_helmet, 2 no_vests, 3.5ms\n",
      "video 2/4 (frame 134/646) f:\\PRACA_MAGISTERSKA\\DATASETS\\PREDYKCJA\\videos\\pieknie.webm: 384x640 1 no_glasses, 4 no_glovess, 1 no_helmet, 2 no_vests, 3.5ms\n",
      "video 2/4 (frame 135/646) f:\\PRACA_MAGISTERSKA\\DATASETS\\PREDYKCJA\\videos\\pieknie.webm: 384x640 1 no_glasses, 4 no_glovess, 1 no_helmet, 2 no_vests, 3.5ms\n",
      "video 2/4 (frame 136/646) f:\\PRACA_MAGISTERSKA\\DATASETS\\PREDYKCJA\\videos\\pieknie.webm: 384x640 1 no_glasses, 4 no_glovess, 1 no_helmet, 2 no_vests, 3.5ms\n",
      "video 2/4 (frame 137/646) f:\\PRACA_MAGISTERSKA\\DATASETS\\PREDYKCJA\\videos\\pieknie.webm: 384x640 1 no_glasses, 4 no_glovess, 1 no_helmet, 2 no_vests, 3.5ms\n",
      "video 2/4 (frame 138/646) f:\\PRACA_MAGISTERSKA\\DATASETS\\PREDYKCJA\\videos\\pieknie.webm: 384x640 1 no_glasses, 3 no_glovess, 1 no_helmet, 2 no_vests, 3.5ms\n",
      "video 2/4 (frame 139/646) f:\\PRACA_MAGISTERSKA\\DATASETS\\PREDYKCJA\\videos\\pieknie.webm: 384x640 1 no_glasses, 4 no_glovess, 1 no_helmet, 2 no_vests, 3.5ms\n",
      "video 2/4 (frame 140/646) f:\\PRACA_MAGISTERSKA\\DATASETS\\PREDYKCJA\\videos\\pieknie.webm: 384x640 1 no_glasses, 4 no_glovess, 1 no_helmet, 2 no_vests, 3.5ms\n",
      "video 2/4 (frame 141/646) f:\\PRACA_MAGISTERSKA\\DATASETS\\PREDYKCJA\\videos\\pieknie.webm: 384x640 1 no_glasses, 4 no_glovess, 1 no_helmet, 2 no_vests, 3.5ms\n",
      "video 2/4 (frame 142/646) f:\\PRACA_MAGISTERSKA\\DATASETS\\PREDYKCJA\\videos\\pieknie.webm: 384x640 1 no_glasses, 4 no_glovess, 1 no_helmet, 2 no_vests, 3.5ms\n",
      "video 2/4 (frame 143/646) f:\\PRACA_MAGISTERSKA\\DATASETS\\PREDYKCJA\\videos\\pieknie.webm: 384x640 1 no_glasses, 3 no_glovess, 1 no_helmet, 2 no_vests, 3.5ms\n",
      "video 2/4 (frame 144/646) f:\\PRACA_MAGISTERSKA\\DATASETS\\PREDYKCJA\\videos\\pieknie.webm: 384x640 1 no_glasses, 4 no_glovess, 1 no_helmet, 2 no_vests, 3.5ms\n",
      "video 2/4 (frame 145/646) f:\\PRACA_MAGISTERSKA\\DATASETS\\PREDYKCJA\\videos\\pieknie.webm: 384x640 1 no_glasses, 4 no_glovess, 1 no_helmet, 2 no_vests, 3.5ms\n",
      "video 2/4 (frame 146/646) f:\\PRACA_MAGISTERSKA\\DATASETS\\PREDYKCJA\\videos\\pieknie.webm: 384x640 1 no_glasses, 4 no_glovess, 1 no_helmet, 2 no_vests, 3.5ms\n",
      "video 2/4 (frame 147/646) f:\\PRACA_MAGISTERSKA\\DATASETS\\PREDYKCJA\\videos\\pieknie.webm: 384x640 1 no_glasses, 4 no_glovess, 1 no_helmet, 2 no_vests, 3.5ms\n",
      "video 2/4 (frame 148/646) f:\\PRACA_MAGISTERSKA\\DATASETS\\PREDYKCJA\\videos\\pieknie.webm: 384x640 1 no_glasses, 4 no_glovess, 1 no_helmet, 2 no_vests, 3.5ms\n",
      "video 2/4 (frame 149/646) f:\\PRACA_MAGISTERSKA\\DATASETS\\PREDYKCJA\\videos\\pieknie.webm: 384x640 1 no_glasses, 4 no_glovess, 1 no_helmet, 2 no_vests, 3.5ms\n",
      "video 2/4 (frame 150/646) f:\\PRACA_MAGISTERSKA\\DATASETS\\PREDYKCJA\\videos\\pieknie.webm: 384x640 1 no_glasses, 4 no_glovess, 1 no_helmet, 2 no_vests, 3.5ms\n",
      "video 2/4 (frame 151/646) f:\\PRACA_MAGISTERSKA\\DATASETS\\PREDYKCJA\\videos\\pieknie.webm: 384x640 1 no_glasses, 4 no_glovess, 1 no_helmet, 2 no_vests, 3.5ms\n",
      "video 2/4 (frame 152/646) f:\\PRACA_MAGISTERSKA\\DATASETS\\PREDYKCJA\\videos\\pieknie.webm: 384x640 2 no_glassess, 4 no_glovess, 1 no_helmet, 2 no_vests, 3.5ms\n",
      "video 2/4 (frame 153/646) f:\\PRACA_MAGISTERSKA\\DATASETS\\PREDYKCJA\\videos\\pieknie.webm: 384x640 2 no_glassess, 4 no_glovess, 1 no_helmet, 2 no_vests, 3.5ms\n",
      "video 2/4 (frame 154/646) f:\\PRACA_MAGISTERSKA\\DATASETS\\PREDYKCJA\\videos\\pieknie.webm: 384x640 1 no_glasses, 4 no_glovess, 1 no_helmet, 2 no_vests, 3.5ms\n",
      "video 2/4 (frame 155/646) f:\\PRACA_MAGISTERSKA\\DATASETS\\PREDYKCJA\\videos\\pieknie.webm: 384x640 1 no_glasses, 4 no_glovess, 1 no_helmet, 2 no_vests, 3.5ms\n",
      "video 2/4 (frame 156/646) f:\\PRACA_MAGISTERSKA\\DATASETS\\PREDYKCJA\\videos\\pieknie.webm: 384x640 1 no_glasses, 4 no_glovess, 1 no_helmet, 2 no_vests, 3.5ms\n",
      "video 2/4 (frame 157/646) f:\\PRACA_MAGISTERSKA\\DATASETS\\PREDYKCJA\\videos\\pieknie.webm: 384x640 1 no_glasses, 4 no_glovess, 1 no_helmet, 2 no_vests, 3.5ms\n",
      "video 2/4 (frame 158/646) f:\\PRACA_MAGISTERSKA\\DATASETS\\PREDYKCJA\\videos\\pieknie.webm: 384x640 1 no_glasses, 4 no_glovess, 1 no_helmet, 2 no_vests, 3.5ms\n",
      "video 2/4 (frame 159/646) f:\\PRACA_MAGISTERSKA\\DATASETS\\PREDYKCJA\\videos\\pieknie.webm: 384x640 1 no_glasses, 4 no_glovess, 1 no_helmet, 2 no_vests, 3.5ms\n",
      "video 2/4 (frame 160/646) f:\\PRACA_MAGISTERSKA\\DATASETS\\PREDYKCJA\\videos\\pieknie.webm: 384x640 1 no_glasses, 4 no_glovess, 1 no_helmet, 2 no_vests, 3.5ms\n",
      "video 2/4 (frame 161/646) f:\\PRACA_MAGISTERSKA\\DATASETS\\PREDYKCJA\\videos\\pieknie.webm: 384x640 1 no_glasses, 4 no_glovess, 1 no_helmet, 2 no_vests, 3.5ms\n",
      "video 2/4 (frame 162/646) f:\\PRACA_MAGISTERSKA\\DATASETS\\PREDYKCJA\\videos\\pieknie.webm: 384x640 1 no_glasses, 4 no_glovess, 1 no_helmet, 2 no_vests, 3.5ms\n",
      "video 2/4 (frame 163/646) f:\\PRACA_MAGISTERSKA\\DATASETS\\PREDYKCJA\\videos\\pieknie.webm: 384x640 1 no_glasses, 4 no_glovess, 1 no_helmet, 2 no_vests, 3.5ms\n",
      "video 2/4 (frame 164/646) f:\\PRACA_MAGISTERSKA\\DATASETS\\PREDYKCJA\\videos\\pieknie.webm: 384x640 1 no_glasses, 4 no_glovess, 1 no_helmet, 2 no_vests, 3.5ms\n",
      "video 2/4 (frame 165/646) f:\\PRACA_MAGISTERSKA\\DATASETS\\PREDYKCJA\\videos\\pieknie.webm: 384x640 1 no_glasses, 4 no_glovess, 1 no_helmet, 2 no_vests, 3.5ms\n",
      "video 2/4 (frame 166/646) f:\\PRACA_MAGISTERSKA\\DATASETS\\PREDYKCJA\\videos\\pieknie.webm: 384x640 1 no_glasses, 4 no_glovess, 1 no_helmet, 2 no_vests, 3.5ms\n",
      "video 2/4 (frame 167/646) f:\\PRACA_MAGISTERSKA\\DATASETS\\PREDYKCJA\\videos\\pieknie.webm: 384x640 1 no_glasses, 4 no_glovess, 1 no_helmet, 2 no_vests, 3.5ms\n",
      "video 2/4 (frame 168/646) f:\\PRACA_MAGISTERSKA\\DATASETS\\PREDYKCJA\\videos\\pieknie.webm: 384x640 1 no_glasses, 4 no_glovess, 1 no_helmet, 2 no_vests, 3.5ms\n",
      "video 2/4 (frame 169/646) f:\\PRACA_MAGISTERSKA\\DATASETS\\PREDYKCJA\\videos\\pieknie.webm: 384x640 1 no_glasses, 4 no_glovess, 1 no_helmet, 2 no_vests, 3.5ms\n",
      "video 2/4 (frame 170/646) f:\\PRACA_MAGISTERSKA\\DATASETS\\PREDYKCJA\\videos\\pieknie.webm: 384x640 1 no_glasses, 4 no_glovess, 1 no_helmet, 2 no_vests, 3.5ms\n",
      "video 2/4 (frame 171/646) f:\\PRACA_MAGISTERSKA\\DATASETS\\PREDYKCJA\\videos\\pieknie.webm: 384x640 1 no_glasses, 4 no_glovess, 1 no_helmet, 2 no_vests, 3.5ms\n",
      "video 2/4 (frame 172/646) f:\\PRACA_MAGISTERSKA\\DATASETS\\PREDYKCJA\\videos\\pieknie.webm: 384x640 1 no_glasses, 4 no_glovess, 1 no_helmet, 2 no_vests, 3.5ms\n",
      "video 2/4 (frame 173/646) f:\\PRACA_MAGISTERSKA\\DATASETS\\PREDYKCJA\\videos\\pieknie.webm: 384x640 1 no_glasses, 3 no_glovess, 1 no_helmet, 2 no_vests, 3.5ms\n",
      "video 2/4 (frame 174/646) f:\\PRACA_MAGISTERSKA\\DATASETS\\PREDYKCJA\\videos\\pieknie.webm: 384x640 1 no_glasses, 4 no_glovess, 1 no_helmet, 2 no_vests, 3.5ms\n",
      "video 2/4 (frame 175/646) f:\\PRACA_MAGISTERSKA\\DATASETS\\PREDYKCJA\\videos\\pieknie.webm: 384x640 1 no_glasses, 4 no_glovess, 1 no_helmet, 2 no_vests, 3.5ms\n",
      "video 2/4 (frame 176/646) f:\\PRACA_MAGISTERSKA\\DATASETS\\PREDYKCJA\\videos\\pieknie.webm: 384x640 1 no_glasses, 4 no_glovess, 1 no_helmet, 2 no_vests, 3.5ms\n",
      "video 2/4 (frame 177/646) f:\\PRACA_MAGISTERSKA\\DATASETS\\PREDYKCJA\\videos\\pieknie.webm: 384x640 1 no_glasses, 4 no_glovess, 1 no_helmet, 2 no_vests, 3.5ms\n",
      "video 2/4 (frame 178/646) f:\\PRACA_MAGISTERSKA\\DATASETS\\PREDYKCJA\\videos\\pieknie.webm: 384x640 1 no_glasses, 4 no_glovess, 1 no_helmet, 2 no_vests, 3.5ms\n",
      "video 2/4 (frame 179/646) f:\\PRACA_MAGISTERSKA\\DATASETS\\PREDYKCJA\\videos\\pieknie.webm: 384x640 1 no_glasses, 4 no_glovess, 1 no_helmet, 2 no_vests, 3.5ms\n",
      "video 2/4 (frame 180/646) f:\\PRACA_MAGISTERSKA\\DATASETS\\PREDYKCJA\\videos\\pieknie.webm: 384x640 1 no_glasses, 3 no_glovess, 1 no_helmet, 2 no_vests, 3.5ms\n",
      "video 2/4 (frame 181/646) f:\\PRACA_MAGISTERSKA\\DATASETS\\PREDYKCJA\\videos\\pieknie.webm: 384x640 1 no_glasses, 5 no_glovess, 2 no_vests, 3.5ms\n",
      "video 2/4 (frame 182/646) f:\\PRACA_MAGISTERSKA\\DATASETS\\PREDYKCJA\\videos\\pieknie.webm: 384x640 1 no_glasses, 5 no_glovess, 2 no_vests, 3.5ms\n",
      "video 2/4 (frame 183/646) f:\\PRACA_MAGISTERSKA\\DATASETS\\PREDYKCJA\\videos\\pieknie.webm: 384x640 1 no_glasses, 4 no_glovess, 2 no_vests, 3.5ms\n",
      "video 2/4 (frame 184/646) f:\\PRACA_MAGISTERSKA\\DATASETS\\PREDYKCJA\\videos\\pieknie.webm: 384x640 1 no_glasses, 4 no_glovess, 2 no_vests, 3.5ms\n",
      "video 2/4 (frame 185/646) f:\\PRACA_MAGISTERSKA\\DATASETS\\PREDYKCJA\\videos\\pieknie.webm: 384x640 1 no_glasses, 4 no_glovess, 2 no_vests, 3.5ms\n",
      "video 2/4 (frame 186/646) f:\\PRACA_MAGISTERSKA\\DATASETS\\PREDYKCJA\\videos\\pieknie.webm: 384x640 1 no_glasses, 4 no_glovess, 2 no_vests, 3.5ms\n",
      "video 2/4 (frame 187/646) f:\\PRACA_MAGISTERSKA\\DATASETS\\PREDYKCJA\\videos\\pieknie.webm: 384x640 1 no_glasses, 3 no_glovess, 2 no_vests, 3.5ms\n",
      "video 2/4 (frame 188/646) f:\\PRACA_MAGISTERSKA\\DATASETS\\PREDYKCJA\\videos\\pieknie.webm: 384x640 1 no_glasses, 3 no_glovess, 2 no_vests, 3.5ms\n",
      "video 2/4 (frame 189/646) f:\\PRACA_MAGISTERSKA\\DATASETS\\PREDYKCJA\\videos\\pieknie.webm: 384x640 1 no_glasses, 3 no_glovess, 2 no_vests, 3.5ms\n",
      "video 2/4 (frame 190/646) f:\\PRACA_MAGISTERSKA\\DATASETS\\PREDYKCJA\\videos\\pieknie.webm: 384x640 2 no_glassess, 3 no_glovess, 2 no_vests, 3.5ms\n",
      "video 2/4 (frame 191/646) f:\\PRACA_MAGISTERSKA\\DATASETS\\PREDYKCJA\\videos\\pieknie.webm: 384x640 1 no_glasses, 4 no_glovess, 2 no_vests, 3.5ms\n",
      "video 2/4 (frame 192/646) f:\\PRACA_MAGISTERSKA\\DATASETS\\PREDYKCJA\\videos\\pieknie.webm: 384x640 1 no_glasses, 4 no_glovess, 2 no_vests, 3.5ms\n",
      "video 2/4 (frame 193/646) f:\\PRACA_MAGISTERSKA\\DATASETS\\PREDYKCJA\\videos\\pieknie.webm: 384x640 1 no_glasses, 4 no_glovess, 2 no_vests, 3.5ms\n",
      "video 2/4 (frame 194/646) f:\\PRACA_MAGISTERSKA\\DATASETS\\PREDYKCJA\\videos\\pieknie.webm: 384x640 1 no_glasses, 4 no_glovess, 2 no_vests, 3.5ms\n",
      "video 2/4 (frame 195/646) f:\\PRACA_MAGISTERSKA\\DATASETS\\PREDYKCJA\\videos\\pieknie.webm: 384x640 1 no_glasses, 4 no_glovess, 2 no_vests, 3.5ms\n",
      "video 2/4 (frame 196/646) f:\\PRACA_MAGISTERSKA\\DATASETS\\PREDYKCJA\\videos\\pieknie.webm: 384x640 1 no_glasses, 4 no_glovess, 2 no_vests, 3.5ms\n",
      "video 2/4 (frame 197/646) f:\\PRACA_MAGISTERSKA\\DATASETS\\PREDYKCJA\\videos\\pieknie.webm: 384x640 2 no_glassess, 4 no_glovess, 2 no_vests, 3.5ms\n",
      "video 2/4 (frame 198/646) f:\\PRACA_MAGISTERSKA\\DATASETS\\PREDYKCJA\\videos\\pieknie.webm: 384x640 1 no_glasses, 4 no_glovess, 2 no_vests, 3.5ms\n",
      "video 2/4 (frame 199/646) f:\\PRACA_MAGISTERSKA\\DATASETS\\PREDYKCJA\\videos\\pieknie.webm: 384x640 1 no_glasses, 4 no_glovess, 2 no_vests, 3.5ms\n",
      "video 2/4 (frame 200/646) f:\\PRACA_MAGISTERSKA\\DATASETS\\PREDYKCJA\\videos\\pieknie.webm: 384x640 1 no_glasses, 4 no_glovess, 2 no_vests, 3.5ms\n",
      "video 2/4 (frame 201/646) f:\\PRACA_MAGISTERSKA\\DATASETS\\PREDYKCJA\\videos\\pieknie.webm: 384x640 2 no_glassess, 4 no_glovess, 2 no_vests, 3.5ms\n",
      "video 2/4 (frame 202/646) f:\\PRACA_MAGISTERSKA\\DATASETS\\PREDYKCJA\\videos\\pieknie.webm: 384x640 1 no_glasses, 4 no_glovess, 2 no_vests, 3.5ms\n",
      "video 2/4 (frame 203/646) f:\\PRACA_MAGISTERSKA\\DATASETS\\PREDYKCJA\\videos\\pieknie.webm: 384x640 1 no_glasses, 5 no_glovess, 2 no_vests, 3.5ms\n",
      "video 2/4 (frame 204/646) f:\\PRACA_MAGISTERSKA\\DATASETS\\PREDYKCJA\\videos\\pieknie.webm: 384x640 1 no_glasses, 4 no_glovess, 2 no_vests, 3.5ms\n",
      "video 2/4 (frame 205/646) f:\\PRACA_MAGISTERSKA\\DATASETS\\PREDYKCJA\\videos\\pieknie.webm: 384x640 1 no_glasses, 3 no_glovess, 2 no_vests, 3.5ms\n",
      "video 2/4 (frame 206/646) f:\\PRACA_MAGISTERSKA\\DATASETS\\PREDYKCJA\\videos\\pieknie.webm: 384x640 1 no_glasses, 4 no_glovess, 2 no_vests, 3.5ms\n",
      "video 2/4 (frame 207/646) f:\\PRACA_MAGISTERSKA\\DATASETS\\PREDYKCJA\\videos\\pieknie.webm: 384x640 1 no_glasses, 4 no_glovess, 2 no_vests, 3.5ms\n",
      "video 2/4 (frame 208/646) f:\\PRACA_MAGISTERSKA\\DATASETS\\PREDYKCJA\\videos\\pieknie.webm: 384x640 1 no_glasses, 4 no_glovess, 2 no_vests, 3.5ms\n",
      "video 2/4 (frame 209/646) f:\\PRACA_MAGISTERSKA\\DATASETS\\PREDYKCJA\\videos\\pieknie.webm: 384x640 1 no_glasses, 4 no_glovess, 2 no_vests, 3.5ms\n",
      "video 2/4 (frame 210/646) f:\\PRACA_MAGISTERSKA\\DATASETS\\PREDYKCJA\\videos\\pieknie.webm: 384x640 1 no_glasses, 4 no_glovess, 2 no_vests, 3.5ms\n",
      "video 2/4 (frame 211/646) f:\\PRACA_MAGISTERSKA\\DATASETS\\PREDYKCJA\\videos\\pieknie.webm: 384x640 1 no_glasses, 4 no_glovess, 2 no_vests, 3.5ms\n",
      "video 2/4 (frame 212/646) f:\\PRACA_MAGISTERSKA\\DATASETS\\PREDYKCJA\\videos\\pieknie.webm: 384x640 2 no_glassess, 4 no_glovess, 2 no_vests, 3.5ms\n",
      "video 2/4 (frame 213/646) f:\\PRACA_MAGISTERSKA\\DATASETS\\PREDYKCJA\\videos\\pieknie.webm: 384x640 1 no_glasses, 3 no_glovess, 2 no_vests, 3.5ms\n",
      "video 2/4 (frame 214/646) f:\\PRACA_MAGISTERSKA\\DATASETS\\PREDYKCJA\\videos\\pieknie.webm: 384x640 1 no_glasses, 3 no_glovess, 2 no_vests, 3.5ms\n",
      "video 2/4 (frame 215/646) f:\\PRACA_MAGISTERSKA\\DATASETS\\PREDYKCJA\\videos\\pieknie.webm: 384x640 1 no_glasses, 3 no_glovess, 2 no_vests, 3.5ms\n",
      "video 2/4 (frame 216/646) f:\\PRACA_MAGISTERSKA\\DATASETS\\PREDYKCJA\\videos\\pieknie.webm: 384x640 1 no_glasses, 3 no_glovess, 2 no_vests, 3.5ms\n",
      "video 2/4 (frame 217/646) f:\\PRACA_MAGISTERSKA\\DATASETS\\PREDYKCJA\\videos\\pieknie.webm: 384x640 1 no_glasses, 2 no_glovess, 2 no_vests, 3.5ms\n",
      "video 2/4 (frame 218/646) f:\\PRACA_MAGISTERSKA\\DATASETS\\PREDYKCJA\\videos\\pieknie.webm: 384x640 1 no_glasses, 3 no_glovess, 2 no_vests, 3.5ms\n",
      "video 2/4 (frame 219/646) f:\\PRACA_MAGISTERSKA\\DATASETS\\PREDYKCJA\\videos\\pieknie.webm: 384x640 1 no_glasses, 3 no_glovess, 2 no_vests, 3.5ms\n",
      "video 2/4 (frame 220/646) f:\\PRACA_MAGISTERSKA\\DATASETS\\PREDYKCJA\\videos\\pieknie.webm: 384x640 1 no_glasses, 3 no_glovess, 2 no_vests, 3.5ms\n",
      "video 2/4 (frame 221/646) f:\\PRACA_MAGISTERSKA\\DATASETS\\PREDYKCJA\\videos\\pieknie.webm: 384x640 1 no_glasses, 3 no_glovess, 2 no_vests, 3.5ms\n",
      "video 2/4 (frame 222/646) f:\\PRACA_MAGISTERSKA\\DATASETS\\PREDYKCJA\\videos\\pieknie.webm: 384x640 1 no_glasses, 3 no_glovess, 2 no_vests, 3.4ms\n",
      "video 2/4 (frame 223/646) f:\\PRACA_MAGISTERSKA\\DATASETS\\PREDYKCJA\\videos\\pieknie.webm: 384x640 1 no_glasses, 3 no_glovess, 2 no_vests, 3.4ms\n",
      "video 2/4 (frame 224/646) f:\\PRACA_MAGISTERSKA\\DATASETS\\PREDYKCJA\\videos\\pieknie.webm: 384x640 1 no_glasses, 4 no_glovess, 2 no_vests, 3.4ms\n",
      "video 2/4 (frame 225/646) f:\\PRACA_MAGISTERSKA\\DATASETS\\PREDYKCJA\\videos\\pieknie.webm: 384x640 1 no_glasses, 4 no_glovess, 2 no_vests, 3.4ms\n",
      "video 2/4 (frame 226/646) f:\\PRACA_MAGISTERSKA\\DATASETS\\PREDYKCJA\\videos\\pieknie.webm: 384x640 1 no_glasses, 4 no_glovess, 3 no_vests, 3.4ms\n",
      "video 2/4 (frame 227/646) f:\\PRACA_MAGISTERSKA\\DATASETS\\PREDYKCJA\\videos\\pieknie.webm: 384x640 1 no_glasses, 4 no_glovess, 2 no_vests, 3.4ms\n",
      "video 2/4 (frame 228/646) f:\\PRACA_MAGISTERSKA\\DATASETS\\PREDYKCJA\\videos\\pieknie.webm: 384x640 1 no_glasses, 5 no_glovess, 2 no_vests, 3.4ms\n",
      "video 2/4 (frame 229/646) f:\\PRACA_MAGISTERSKA\\DATASETS\\PREDYKCJA\\videos\\pieknie.webm: 384x640 1 no_glasses, 4 no_glovess, 2 no_vests, 3.4ms\n",
      "video 2/4 (frame 230/646) f:\\PRACA_MAGISTERSKA\\DATASETS\\PREDYKCJA\\videos\\pieknie.webm: 384x640 1 no_glasses, 4 no_glovess, 2 no_vests, 3.4ms\n",
      "video 2/4 (frame 231/646) f:\\PRACA_MAGISTERSKA\\DATASETS\\PREDYKCJA\\videos\\pieknie.webm: 384x640 1 no_glasses, 4 no_glovess, 2 no_vests, 3.4ms\n",
      "video 2/4 (frame 232/646) f:\\PRACA_MAGISTERSKA\\DATASETS\\PREDYKCJA\\videos\\pieknie.webm: 384x640 1 no_glasses, 3 no_glovess, 2 no_vests, 3.4ms\n",
      "video 2/4 (frame 233/646) f:\\PRACA_MAGISTERSKA\\DATASETS\\PREDYKCJA\\videos\\pieknie.webm: 384x640 1 no_glasses, 4 no_glovess, 2 no_vests, 3.4ms\n",
      "video 2/4 (frame 234/646) f:\\PRACA_MAGISTERSKA\\DATASETS\\PREDYKCJA\\videos\\pieknie.webm: 384x640 1 no_glasses, 4 no_glovess, 2 no_vests, 3.4ms\n",
      "video 2/4 (frame 235/646) f:\\PRACA_MAGISTERSKA\\DATASETS\\PREDYKCJA\\videos\\pieknie.webm: 384x640 1 no_glasses, 4 no_glovess, 2 no_vests, 3.4ms\n",
      "video 2/4 (frame 236/646) f:\\PRACA_MAGISTERSKA\\DATASETS\\PREDYKCJA\\videos\\pieknie.webm: 384x640 1 no_glasses, 4 no_glovess, 2 no_vests, 3.4ms\n",
      "video 2/4 (frame 237/646) f:\\PRACA_MAGISTERSKA\\DATASETS\\PREDYKCJA\\videos\\pieknie.webm: 384x640 1 no_glasses, 4 no_glovess, 2 no_vests, 3.4ms\n",
      "video 2/4 (frame 238/646) f:\\PRACA_MAGISTERSKA\\DATASETS\\PREDYKCJA\\videos\\pieknie.webm: 384x640 1 no_glasses, 4 no_glovess, 1 no_vest, 3.4ms\n",
      "video 2/4 (frame 239/646) f:\\PRACA_MAGISTERSKA\\DATASETS\\PREDYKCJA\\videos\\pieknie.webm: 384x640 1 no_glasses, 4 no_glovess, 2 no_vests, 3.4ms\n",
      "video 2/4 (frame 240/646) f:\\PRACA_MAGISTERSKA\\DATASETS\\PREDYKCJA\\videos\\pieknie.webm: 384x640 1 no_glasses, 4 no_glovess, 2 no_vests, 3.4ms\n",
      "video 2/4 (frame 241/646) f:\\PRACA_MAGISTERSKA\\DATASETS\\PREDYKCJA\\videos\\pieknie.webm: 384x640 1 no_glasses, 4 no_glovess, 2 no_vests, 3.4ms\n",
      "video 2/4 (frame 242/646) f:\\PRACA_MAGISTERSKA\\DATASETS\\PREDYKCJA\\videos\\pieknie.webm: 384x640 1 no_glasses, 3 no_glovess, 2 no_vests, 3.4ms\n",
      "video 2/4 (frame 243/646) f:\\PRACA_MAGISTERSKA\\DATASETS\\PREDYKCJA\\videos\\pieknie.webm: 384x640 1 no_glasses, 4 no_glovess, 2 no_vests, 3.4ms\n",
      "video 2/4 (frame 244/646) f:\\PRACA_MAGISTERSKA\\DATASETS\\PREDYKCJA\\videos\\pieknie.webm: 384x640 1 no_glasses, 4 no_glovess, 2 no_vests, 3.4ms\n",
      "video 2/4 (frame 245/646) f:\\PRACA_MAGISTERSKA\\DATASETS\\PREDYKCJA\\videos\\pieknie.webm: 384x640 1 no_glasses, 4 no_glovess, 2 no_vests, 3.4ms\n",
      "video 2/4 (frame 246/646) f:\\PRACA_MAGISTERSKA\\DATASETS\\PREDYKCJA\\videos\\pieknie.webm: 384x640 1 no_glasses, 4 no_glovess, 2 no_vests, 3.4ms\n",
      "video 2/4 (frame 247/646) f:\\PRACA_MAGISTERSKA\\DATASETS\\PREDYKCJA\\videos\\pieknie.webm: 384x640 1 no_glasses, 4 no_glovess, 2 no_vests, 3.4ms\n",
      "video 2/4 (frame 248/646) f:\\PRACA_MAGISTERSKA\\DATASETS\\PREDYKCJA\\videos\\pieknie.webm: 384x640 1 no_glasses, 3 no_glovess, 2 no_vests, 3.4ms\n",
      "video 2/4 (frame 249/646) f:\\PRACA_MAGISTERSKA\\DATASETS\\PREDYKCJA\\videos\\pieknie.webm: 384x640 1 no_glasses, 4 no_glovess, 2 no_vests, 3.4ms\n",
      "video 2/4 (frame 250/646) f:\\PRACA_MAGISTERSKA\\DATASETS\\PREDYKCJA\\videos\\pieknie.webm: 384x640 1 no_glasses, 4 no_glovess, 2 no_vests, 3.4ms\n",
      "video 2/4 (frame 251/646) f:\\PRACA_MAGISTERSKA\\DATASETS\\PREDYKCJA\\videos\\pieknie.webm: 384x640 1 no_glasses, 4 no_glovess, 2 no_vests, 3.4ms\n",
      "video 2/4 (frame 252/646) f:\\PRACA_MAGISTERSKA\\DATASETS\\PREDYKCJA\\videos\\pieknie.webm: 384x640 1 no_glasses, 4 no_glovess, 2 no_vests, 3.4ms\n",
      "video 2/4 (frame 253/646) f:\\PRACA_MAGISTERSKA\\DATASETS\\PREDYKCJA\\videos\\pieknie.webm: 384x640 1 no_glasses, 3 no_glovess, 2 no_vests, 3.4ms\n",
      "video 2/4 (frame 254/646) f:\\PRACA_MAGISTERSKA\\DATASETS\\PREDYKCJA\\videos\\pieknie.webm: 384x640 1 no_glasses, 4 no_glovess, 2 no_vests, 3.4ms\n",
      "video 2/4 (frame 255/646) f:\\PRACA_MAGISTERSKA\\DATASETS\\PREDYKCJA\\videos\\pieknie.webm: 384x640 1 no_glasses, 4 no_glovess, 2 no_vests, 3.4ms\n",
      "video 2/4 (frame 256/646) f:\\PRACA_MAGISTERSKA\\DATASETS\\PREDYKCJA\\videos\\pieknie.webm: 384x640 1 no_glasses, 4 no_glovess, 2 no_vests, 3.4ms\n",
      "video 2/4 (frame 257/646) f:\\PRACA_MAGISTERSKA\\DATASETS\\PREDYKCJA\\videos\\pieknie.webm: 384x640 1 no_glasses, 4 no_glovess, 2 no_vests, 3.4ms\n",
      "video 2/4 (frame 258/646) f:\\PRACA_MAGISTERSKA\\DATASETS\\PREDYKCJA\\videos\\pieknie.webm: 384x640 1 no_glasses, 4 no_glovess, 2 no_vests, 3.4ms\n",
      "video 2/4 (frame 259/646) f:\\PRACA_MAGISTERSKA\\DATASETS\\PREDYKCJA\\videos\\pieknie.webm: 384x640 1 no_glasses, 4 no_glovess, 2 no_vests, 3.4ms\n",
      "video 2/4 (frame 260/646) f:\\PRACA_MAGISTERSKA\\DATASETS\\PREDYKCJA\\videos\\pieknie.webm: 384x640 1 no_glasses, 4 no_glovess, 2 no_vests, 3.4ms\n",
      "video 2/4 (frame 261/646) f:\\PRACA_MAGISTERSKA\\DATASETS\\PREDYKCJA\\videos\\pieknie.webm: 384x640 1 no_glasses, 4 no_glovess, 2 no_vests, 3.4ms\n",
      "video 2/4 (frame 262/646) f:\\PRACA_MAGISTERSKA\\DATASETS\\PREDYKCJA\\videos\\pieknie.webm: 384x640 1 no_glasses, 4 no_glovess, 2 no_vests, 3.4ms\n",
      "video 2/4 (frame 263/646) f:\\PRACA_MAGISTERSKA\\DATASETS\\PREDYKCJA\\videos\\pieknie.webm: 384x640 1 no_glasses, 4 no_glovess, 2 no_vests, 3.4ms\n",
      "video 2/4 (frame 264/646) f:\\PRACA_MAGISTERSKA\\DATASETS\\PREDYKCJA\\videos\\pieknie.webm: 384x640 1 no_glasses, 4 no_glovess, 2 no_vests, 3.4ms\n",
      "video 2/4 (frame 265/646) f:\\PRACA_MAGISTERSKA\\DATASETS\\PREDYKCJA\\videos\\pieknie.webm: 384x640 1 no_glasses, 4 no_glovess, 1 no_helmet, 2 no_vests, 3.4ms\n",
      "video 2/4 (frame 266/646) f:\\PRACA_MAGISTERSKA\\DATASETS\\PREDYKCJA\\videos\\pieknie.webm: 384x640 1 no_glasses, 4 no_glovess, 1 no_helmet, 2 no_vests, 3.4ms\n",
      "video 2/4 (frame 267/646) f:\\PRACA_MAGISTERSKA\\DATASETS\\PREDYKCJA\\videos\\pieknie.webm: 384x640 1 no_glasses, 4 no_glovess, 2 no_vests, 3.4ms\n",
      "video 2/4 (frame 268/646) f:\\PRACA_MAGISTERSKA\\DATASETS\\PREDYKCJA\\videos\\pieknie.webm: 384x640 1 no_glasses, 4 no_glovess, 2 no_vests, 3.4ms\n",
      "video 2/4 (frame 269/646) f:\\PRACA_MAGISTERSKA\\DATASETS\\PREDYKCJA\\videos\\pieknie.webm: 384x640 1 no_glasses, 4 no_glovess, 2 no_vests, 3.4ms\n",
      "video 2/4 (frame 270/646) f:\\PRACA_MAGISTERSKA\\DATASETS\\PREDYKCJA\\videos\\pieknie.webm: 384x640 1 no_glasses, 4 no_glovess, 1 no_helmet, 2 no_vests, 3.4ms\n",
      "video 2/4 (frame 271/646) f:\\PRACA_MAGISTERSKA\\DATASETS\\PREDYKCJA\\videos\\pieknie.webm: 384x640 1 no_glasses, 4 no_glovess, 1 no_helmet, 2 no_vests, 3.4ms\n",
      "video 2/4 (frame 272/646) f:\\PRACA_MAGISTERSKA\\DATASETS\\PREDYKCJA\\videos\\pieknie.webm: 384x640 1 no_glasses, 4 no_glovess, 2 no_vests, 3.4ms\n",
      "video 2/4 (frame 273/646) f:\\PRACA_MAGISTERSKA\\DATASETS\\PREDYKCJA\\videos\\pieknie.webm: 384x640 1 no_glasses, 5 no_glovess, 2 no_vests, 3.4ms\n",
      "video 2/4 (frame 274/646) f:\\PRACA_MAGISTERSKA\\DATASETS\\PREDYKCJA\\videos\\pieknie.webm: 384x640 1 no_glasses, 4 no_glovess, 1 no_helmet, 2 no_vests, 3.4ms\n",
      "video 2/4 (frame 275/646) f:\\PRACA_MAGISTERSKA\\DATASETS\\PREDYKCJA\\videos\\pieknie.webm: 384x640 1 no_glasses, 4 no_glovess, 1 no_helmet, 2 no_vests, 3.4ms\n",
      "video 2/4 (frame 276/646) f:\\PRACA_MAGISTERSKA\\DATASETS\\PREDYKCJA\\videos\\pieknie.webm: 384x640 1 no_glasses, 4 no_glovess, 2 no_vests, 3.4ms\n",
      "video 2/4 (frame 277/646) f:\\PRACA_MAGISTERSKA\\DATASETS\\PREDYKCJA\\videos\\pieknie.webm: 384x640 1 no_glasses, 4 no_glovess, 2 no_vests, 3.4ms\n",
      "video 2/4 (frame 278/646) f:\\PRACA_MAGISTERSKA\\DATASETS\\PREDYKCJA\\videos\\pieknie.webm: 384x640 1 no_glasses, 4 no_glovess, 2 no_vests, 3.4ms\n",
      "video 2/4 (frame 279/646) f:\\PRACA_MAGISTERSKA\\DATASETS\\PREDYKCJA\\videos\\pieknie.webm: 384x640 1 no_glasses, 4 no_glovess, 2 no_vests, 3.4ms\n",
      "video 2/4 (frame 280/646) f:\\PRACA_MAGISTERSKA\\DATASETS\\PREDYKCJA\\videos\\pieknie.webm: 384x640 1 no_glasses, 4 no_glovess, 2 no_vests, 3.4ms\n",
      "video 2/4 (frame 281/646) f:\\PRACA_MAGISTERSKA\\DATASETS\\PREDYKCJA\\videos\\pieknie.webm: 384x640 1 no_glasses, 4 no_glovess, 2 no_vests, 3.4ms\n",
      "video 2/4 (frame 282/646) f:\\PRACA_MAGISTERSKA\\DATASETS\\PREDYKCJA\\videos\\pieknie.webm: 384x640 1 no_glasses, 4 no_glovess, 2 no_vests, 3.4ms\n",
      "video 2/4 (frame 283/646) f:\\PRACA_MAGISTERSKA\\DATASETS\\PREDYKCJA\\videos\\pieknie.webm: 384x640 1 no_glasses, 4 no_glovess, 2 no_vests, 3.4ms\n",
      "video 2/4 (frame 284/646) f:\\PRACA_MAGISTERSKA\\DATASETS\\PREDYKCJA\\videos\\pieknie.webm: 384x640 1 no_glasses, 3 no_glovess, 2 no_vests, 3.4ms\n",
      "video 2/4 (frame 285/646) f:\\PRACA_MAGISTERSKA\\DATASETS\\PREDYKCJA\\videos\\pieknie.webm: 384x640 1 no_glasses, 4 no_glovess, 2 no_vests, 3.4ms\n",
      "video 2/4 (frame 286/646) f:\\PRACA_MAGISTERSKA\\DATASETS\\PREDYKCJA\\videos\\pieknie.webm: 384x640 1 no_glasses, 4 no_glovess, 2 no_vests, 3.5ms\n",
      "video 2/4 (frame 287/646) f:\\PRACA_MAGISTERSKA\\DATASETS\\PREDYKCJA\\videos\\pieknie.webm: 384x640 1 no_glasses, 4 no_glovess, 2 no_vests, 3.5ms\n",
      "video 2/4 (frame 288/646) f:\\PRACA_MAGISTERSKA\\DATASETS\\PREDYKCJA\\videos\\pieknie.webm: 384x640 1 no_glasses, 4 no_glovess, 2 no_vests, 3.5ms\n",
      "video 2/4 (frame 289/646) f:\\PRACA_MAGISTERSKA\\DATASETS\\PREDYKCJA\\videos\\pieknie.webm: 384x640 1 no_glasses, 4 no_glovess, 2 no_vests, 3.5ms\n",
      "video 2/4 (frame 290/646) f:\\PRACA_MAGISTERSKA\\DATASETS\\PREDYKCJA\\videos\\pieknie.webm: 384x640 1 no_glasses, 4 no_glovess, 2 no_vests, 3.5ms\n",
      "video 2/4 (frame 291/646) f:\\PRACA_MAGISTERSKA\\DATASETS\\PREDYKCJA\\videos\\pieknie.webm: 384x640 1 no_glasses, 4 no_glovess, 2 no_vests, 3.5ms\n",
      "video 2/4 (frame 292/646) f:\\PRACA_MAGISTERSKA\\DATASETS\\PREDYKCJA\\videos\\pieknie.webm: 384x640 1 no_glasses, 4 no_glovess, 2 no_vests, 3.5ms\n",
      "video 2/4 (frame 293/646) f:\\PRACA_MAGISTERSKA\\DATASETS\\PREDYKCJA\\videos\\pieknie.webm: 384x640 1 no_glasses, 4 no_glovess, 2 no_vests, 3.5ms\n",
      "video 2/4 (frame 294/646) f:\\PRACA_MAGISTERSKA\\DATASETS\\PREDYKCJA\\videos\\pieknie.webm: 384x640 1 no_glasses, 4 no_glovess, 2 no_vests, 3.5ms\n",
      "video 2/4 (frame 295/646) f:\\PRACA_MAGISTERSKA\\DATASETS\\PREDYKCJA\\videos\\pieknie.webm: 384x640 2 no_glassess, 4 no_glovess, 2 no_vests, 3.5ms\n",
      "video 2/4 (frame 296/646) f:\\PRACA_MAGISTERSKA\\DATASETS\\PREDYKCJA\\videos\\pieknie.webm: 384x640 2 no_glassess, 4 no_glovess, 2 no_vests, 3.5ms\n",
      "video 2/4 (frame 297/646) f:\\PRACA_MAGISTERSKA\\DATASETS\\PREDYKCJA\\videos\\pieknie.webm: 384x640 1 no_glasses, 4 no_glovess, 2 no_vests, 3.5ms\n",
      "video 2/4 (frame 298/646) f:\\PRACA_MAGISTERSKA\\DATASETS\\PREDYKCJA\\videos\\pieknie.webm: 384x640 1 no_glasses, 4 no_glovess, 2 no_vests, 3.5ms\n",
      "video 2/4 (frame 299/646) f:\\PRACA_MAGISTERSKA\\DATASETS\\PREDYKCJA\\videos\\pieknie.webm: 384x640 1 no_glasses, 4 no_glovess, 2 no_vests, 3.5ms\n",
      "video 2/4 (frame 300/646) f:\\PRACA_MAGISTERSKA\\DATASETS\\PREDYKCJA\\videos\\pieknie.webm: 384x640 1 no_glasses, 4 no_glovess, 2 no_vests, 3.5ms\n",
      "video 2/4 (frame 301/646) f:\\PRACA_MAGISTERSKA\\DATASETS\\PREDYKCJA\\videos\\pieknie.webm: 384x640 1 no_glasses, 4 no_glovess, 2 no_vests, 3.5ms\n",
      "video 2/4 (frame 302/646) f:\\PRACA_MAGISTERSKA\\DATASETS\\PREDYKCJA\\videos\\pieknie.webm: 384x640 1 no_glasses, 4 no_glovess, 2 no_vests, 3.5ms\n",
      "video 2/4 (frame 303/646) f:\\PRACA_MAGISTERSKA\\DATASETS\\PREDYKCJA\\videos\\pieknie.webm: 384x640 1 no_glasses, 4 no_glovess, 2 no_vests, 3.5ms\n",
      "video 2/4 (frame 304/646) f:\\PRACA_MAGISTERSKA\\DATASETS\\PREDYKCJA\\videos\\pieknie.webm: 384x640 1 no_glasses, 4 no_glovess, 2 no_vests, 3.5ms\n",
      "video 2/4 (frame 305/646) f:\\PRACA_MAGISTERSKA\\DATASETS\\PREDYKCJA\\videos\\pieknie.webm: 384x640 1 no_glasses, 4 no_glovess, 2 no_vests, 3.5ms\n",
      "video 2/4 (frame 306/646) f:\\PRACA_MAGISTERSKA\\DATASETS\\PREDYKCJA\\videos\\pieknie.webm: 384x640 1 no_glasses, 4 no_glovess, 2 no_vests, 3.5ms\n",
      "video 2/4 (frame 307/646) f:\\PRACA_MAGISTERSKA\\DATASETS\\PREDYKCJA\\videos\\pieknie.webm: 384x640 1 no_glasses, 4 no_glovess, 2 no_vests, 3.5ms\n",
      "video 2/4 (frame 308/646) f:\\PRACA_MAGISTERSKA\\DATASETS\\PREDYKCJA\\videos\\pieknie.webm: 384x640 1 no_glasses, 4 no_glovess, 2 no_vests, 3.5ms\n",
      "video 2/4 (frame 309/646) f:\\PRACA_MAGISTERSKA\\DATASETS\\PREDYKCJA\\videos\\pieknie.webm: 384x640 1 no_glasses, 4 no_glovess, 2 no_vests, 3.5ms\n",
      "video 2/4 (frame 310/646) f:\\PRACA_MAGISTERSKA\\DATASETS\\PREDYKCJA\\videos\\pieknie.webm: 384x640 1 no_glasses, 4 no_glovess, 2 no_vests, 3.5ms\n",
      "video 2/4 (frame 311/646) f:\\PRACA_MAGISTERSKA\\DATASETS\\PREDYKCJA\\videos\\pieknie.webm: 384x640 1 no_glasses, 4 no_glovess, 2 no_vests, 3.5ms\n",
      "video 2/4 (frame 312/646) f:\\PRACA_MAGISTERSKA\\DATASETS\\PREDYKCJA\\videos\\pieknie.webm: 384x640 1 no_glasses, 4 no_glovess, 2 no_vests, 3.5ms\n",
      "video 2/4 (frame 313/646) f:\\PRACA_MAGISTERSKA\\DATASETS\\PREDYKCJA\\videos\\pieknie.webm: 384x640 1 no_glasses, 4 no_glovess, 2 no_vests, 3.5ms\n",
      "video 2/4 (frame 314/646) f:\\PRACA_MAGISTERSKA\\DATASETS\\PREDYKCJA\\videos\\pieknie.webm: 384x640 1 no_glasses, 3 no_glovess, 2 no_vests, 3.5ms\n",
      "video 2/4 (frame 315/646) f:\\PRACA_MAGISTERSKA\\DATASETS\\PREDYKCJA\\videos\\pieknie.webm: 384x640 1 no_glasses, 4 no_glovess, 2 no_vests, 3.5ms\n",
      "video 2/4 (frame 316/646) f:\\PRACA_MAGISTERSKA\\DATASETS\\PREDYKCJA\\videos\\pieknie.webm: 384x640 1 no_glasses, 4 no_glovess, 2 no_vests, 3.5ms\n",
      "video 2/4 (frame 317/646) f:\\PRACA_MAGISTERSKA\\DATASETS\\PREDYKCJA\\videos\\pieknie.webm: 384x640 1 no_glasses, 4 no_glovess, 2 no_vests, 3.5ms\n",
      "video 2/4 (frame 318/646) f:\\PRACA_MAGISTERSKA\\DATASETS\\PREDYKCJA\\videos\\pieknie.webm: 384x640 1 no_glasses, 4 no_glovess, 2 no_vests, 3.5ms\n",
      "video 2/4 (frame 319/646) f:\\PRACA_MAGISTERSKA\\DATASETS\\PREDYKCJA\\videos\\pieknie.webm: 384x640 1 no_glasses, 4 no_glovess, 2 no_vests, 3.5ms\n",
      "video 2/4 (frame 320/646) f:\\PRACA_MAGISTERSKA\\DATASETS\\PREDYKCJA\\videos\\pieknie.webm: 384x640 1 no_glasses, 4 no_glovess, 2 no_vests, 3.5ms\n",
      "video 2/4 (frame 321/646) f:\\PRACA_MAGISTERSKA\\DATASETS\\PREDYKCJA\\videos\\pieknie.webm: 384x640 1 no_glasses, 4 no_glovess, 1 no_helmet, 2 no_vests, 3.5ms\n",
      "video 2/4 (frame 322/646) f:\\PRACA_MAGISTERSKA\\DATASETS\\PREDYKCJA\\videos\\pieknie.webm: 384x640 1 no_glasses, 4 no_glovess, 2 no_vests, 3.5ms\n",
      "video 2/4 (frame 323/646) f:\\PRACA_MAGISTERSKA\\DATASETS\\PREDYKCJA\\videos\\pieknie.webm: 384x640 1 no_glasses, 4 no_glovess, 2 no_vests, 3.5ms\n",
      "video 2/4 (frame 324/646) f:\\PRACA_MAGISTERSKA\\DATASETS\\PREDYKCJA\\videos\\pieknie.webm: 384x640 1 no_glasses, 4 no_glovess, 1 no_helmet, 2 no_vests, 3.5ms\n",
      "video 2/4 (frame 325/646) f:\\PRACA_MAGISTERSKA\\DATASETS\\PREDYKCJA\\videos\\pieknie.webm: 384x640 1 no_glasses, 4 no_glovess, 1 no_helmet, 2 no_vests, 3.5ms\n",
      "video 2/4 (frame 326/646) f:\\PRACA_MAGISTERSKA\\DATASETS\\PREDYKCJA\\videos\\pieknie.webm: 384x640 1 no_glasses, 4 no_glovess, 1 no_helmet, 2 no_vests, 3.5ms\n",
      "video 2/4 (frame 327/646) f:\\PRACA_MAGISTERSKA\\DATASETS\\PREDYKCJA\\videos\\pieknie.webm: 384x640 1 no_glasses, 4 no_glovess, 1 no_helmet, 2 no_vests, 3.5ms\n",
      "video 2/4 (frame 328/646) f:\\PRACA_MAGISTERSKA\\DATASETS\\PREDYKCJA\\videos\\pieknie.webm: 384x640 1 no_glasses, 4 no_glovess, 1 no_helmet, 2 no_vests, 3.5ms\n",
      "video 2/4 (frame 329/646) f:\\PRACA_MAGISTERSKA\\DATASETS\\PREDYKCJA\\videos\\pieknie.webm: 384x640 1 no_glasses, 4 no_glovess, 2 no_vests, 3.5ms\n",
      "video 2/4 (frame 330/646) f:\\PRACA_MAGISTERSKA\\DATASETS\\PREDYKCJA\\videos\\pieknie.webm: 384x640 1 no_glasses, 5 no_glovess, 1 no_helmet, 2 no_vests, 3.5ms\n",
      "video 2/4 (frame 331/646) f:\\PRACA_MAGISTERSKA\\DATASETS\\PREDYKCJA\\videos\\pieknie.webm: 384x640 1 no_glasses, 4 no_glovess, 2 no_vests, 3.5ms\n",
      "video 2/4 (frame 332/646) f:\\PRACA_MAGISTERSKA\\DATASETS\\PREDYKCJA\\videos\\pieknie.webm: 384x640 1 no_glasses, 4 no_glovess, 2 no_vests, 3.5ms\n",
      "video 2/4 (frame 333/646) f:\\PRACA_MAGISTERSKA\\DATASETS\\PREDYKCJA\\videos\\pieknie.webm: 384x640 2 no_glassess, 4 no_glovess, 2 no_vests, 3.5ms\n",
      "video 2/4 (frame 334/646) f:\\PRACA_MAGISTERSKA\\DATASETS\\PREDYKCJA\\videos\\pieknie.webm: 384x640 1 no_glasses, 4 no_glovess, 2 no_vests, 3.5ms\n",
      "video 2/4 (frame 335/646) f:\\PRACA_MAGISTERSKA\\DATASETS\\PREDYKCJA\\videos\\pieknie.webm: 384x640 1 no_glasses, 4 no_glovess, 2 no_vests, 3.5ms\n",
      "video 2/4 (frame 336/646) f:\\PRACA_MAGISTERSKA\\DATASETS\\PREDYKCJA\\videos\\pieknie.webm: 384x640 1 no_glasses, 4 no_glovess, 2 no_vests, 3.5ms\n",
      "video 2/4 (frame 337/646) f:\\PRACA_MAGISTERSKA\\DATASETS\\PREDYKCJA\\videos\\pieknie.webm: 384x640 1 no_glasses, 4 no_glovess, 2 no_vests, 3.5ms\n",
      "video 2/4 (frame 338/646) f:\\PRACA_MAGISTERSKA\\DATASETS\\PREDYKCJA\\videos\\pieknie.webm: 384x640 1 no_glasses, 4 no_glovess, 1 no_helmet, 2 no_vests, 3.5ms\n",
      "video 2/4 (frame 339/646) f:\\PRACA_MAGISTERSKA\\DATASETS\\PREDYKCJA\\videos\\pieknie.webm: 384x640 1 no_glasses, 4 no_glovess, 2 no_vests, 3.5ms\n",
      "video 2/4 (frame 340/646) f:\\PRACA_MAGISTERSKA\\DATASETS\\PREDYKCJA\\videos\\pieknie.webm: 384x640 1 no_glasses, 4 no_glovess, 2 no_vests, 3.5ms\n",
      "video 2/4 (frame 341/646) f:\\PRACA_MAGISTERSKA\\DATASETS\\PREDYKCJA\\videos\\pieknie.webm: 384x640 1 no_glasses, 4 no_glovess, 1 no_helmet, 2 no_vests, 3.5ms\n",
      "video 2/4 (frame 342/646) f:\\PRACA_MAGISTERSKA\\DATASETS\\PREDYKCJA\\videos\\pieknie.webm: 384x640 1 no_glasses, 4 no_glovess, 2 no_vests, 3.5ms\n",
      "video 2/4 (frame 343/646) f:\\PRACA_MAGISTERSKA\\DATASETS\\PREDYKCJA\\videos\\pieknie.webm: 384x640 1 no_glasses, 4 no_glovess, 2 no_vests, 3.5ms\n",
      "video 2/4 (frame 344/646) f:\\PRACA_MAGISTERSKA\\DATASETS\\PREDYKCJA\\videos\\pieknie.webm: 384x640 1 no_glasses, 4 no_glovess, 2 no_vests, 3.5ms\n",
      "video 2/4 (frame 345/646) f:\\PRACA_MAGISTERSKA\\DATASETS\\PREDYKCJA\\videos\\pieknie.webm: 384x640 1 no_glasses, 4 no_glovess, 2 no_vests, 3.5ms\n",
      "video 2/4 (frame 346/646) f:\\PRACA_MAGISTERSKA\\DATASETS\\PREDYKCJA\\videos\\pieknie.webm: 384x640 1 no_glasses, 4 no_glovess, 2 no_vests, 3.5ms\n",
      "video 2/4 (frame 347/646) f:\\PRACA_MAGISTERSKA\\DATASETS\\PREDYKCJA\\videos\\pieknie.webm: 384x640 1 no_glasses, 5 no_glovess, 2 no_vests, 3.5ms\n",
      "video 2/4 (frame 348/646) f:\\PRACA_MAGISTERSKA\\DATASETS\\PREDYKCJA\\videos\\pieknie.webm: 384x640 1 no_glasses, 3 no_glovess, 2 no_vests, 3.5ms\n",
      "video 2/4 (frame 349/646) f:\\PRACA_MAGISTERSKA\\DATASETS\\PREDYKCJA\\videos\\pieknie.webm: 384x640 1 no_glasses, 4 no_glovess, 2 no_vests, 3.5ms\n",
      "video 2/4 (frame 350/646) f:\\PRACA_MAGISTERSKA\\DATASETS\\PREDYKCJA\\videos\\pieknie.webm: 384x640 1 no_glasses, 4 no_glovess, 2 no_vests, 3.6ms\n",
      "video 2/4 (frame 351/646) f:\\PRACA_MAGISTERSKA\\DATASETS\\PREDYKCJA\\videos\\pieknie.webm: 384x640 1 no_glasses, 4 no_glovess, 2 no_vests, 3.6ms\n",
      "video 2/4 (frame 352/646) f:\\PRACA_MAGISTERSKA\\DATASETS\\PREDYKCJA\\videos\\pieknie.webm: 384x640 1 no_glasses, 4 no_glovess, 2 no_vests, 3.6ms\n",
      "video 2/4 (frame 353/646) f:\\PRACA_MAGISTERSKA\\DATASETS\\PREDYKCJA\\videos\\pieknie.webm: 384x640 1 no_glasses, 4 no_glovess, 2 no_vests, 3.6ms\n",
      "video 2/4 (frame 354/646) f:\\PRACA_MAGISTERSKA\\DATASETS\\PREDYKCJA\\videos\\pieknie.webm: 384x640 1 no_glasses, 4 no_glovess, 1 no_helmet, 2 no_vests, 3.6ms\n",
      "video 2/4 (frame 355/646) f:\\PRACA_MAGISTERSKA\\DATASETS\\PREDYKCJA\\videos\\pieknie.webm: 384x640 1 no_glasses, 4 no_glovess, 2 no_vests, 3.6ms\n",
      "video 2/4 (frame 356/646) f:\\PRACA_MAGISTERSKA\\DATASETS\\PREDYKCJA\\videos\\pieknie.webm: 384x640 1 no_glasses, 4 no_glovess, 2 no_vests, 3.6ms\n",
      "video 2/4 (frame 357/646) f:\\PRACA_MAGISTERSKA\\DATASETS\\PREDYKCJA\\videos\\pieknie.webm: 384x640 1 no_glasses, 4 no_glovess, 2 no_vests, 3.6ms\n",
      "video 2/4 (frame 358/646) f:\\PRACA_MAGISTERSKA\\DATASETS\\PREDYKCJA\\videos\\pieknie.webm: 384x640 1 no_glasses, 4 no_glovess, 2 no_vests, 3.6ms\n",
      "video 2/4 (frame 359/646) f:\\PRACA_MAGISTERSKA\\DATASETS\\PREDYKCJA\\videos\\pieknie.webm: 384x640 1 no_glasses, 4 no_glovess, 2 no_vests, 3.6ms\n",
      "video 2/4 (frame 360/646) f:\\PRACA_MAGISTERSKA\\DATASETS\\PREDYKCJA\\videos\\pieknie.webm: 384x640 1 no_glasses, 4 no_glovess, 2 no_vests, 3.6ms\n",
      "video 2/4 (frame 361/646) f:\\PRACA_MAGISTERSKA\\DATASETS\\PREDYKCJA\\videos\\pieknie.webm: 384x640 1 no_glasses, 4 no_glovess, 2 no_vests, 3.6ms\n",
      "video 2/4 (frame 362/646) f:\\PRACA_MAGISTERSKA\\DATASETS\\PREDYKCJA\\videos\\pieknie.webm: 384x640 1 no_glasses, 4 no_glovess, 2 no_vests, 3.6ms\n",
      "video 2/4 (frame 363/646) f:\\PRACA_MAGISTERSKA\\DATASETS\\PREDYKCJA\\videos\\pieknie.webm: 384x640 1 no_glasses, 4 no_glovess, 1 no_helmet, 2 no_vests, 3.6ms\n",
      "video 2/4 (frame 364/646) f:\\PRACA_MAGISTERSKA\\DATASETS\\PREDYKCJA\\videos\\pieknie.webm: 384x640 1 no_glasses, 4 no_glovess, 2 no_vests, 3.6ms\n",
      "video 2/4 (frame 365/646) f:\\PRACA_MAGISTERSKA\\DATASETS\\PREDYKCJA\\videos\\pieknie.webm: 384x640 1 no_glasses, 4 no_glovess, 2 no_vests, 3.6ms\n",
      "video 2/4 (frame 366/646) f:\\PRACA_MAGISTERSKA\\DATASETS\\PREDYKCJA\\videos\\pieknie.webm: 384x640 1 no_glasses, 3 no_glovess, 2 no_vests, 3.6ms\n",
      "video 2/4 (frame 367/646) f:\\PRACA_MAGISTERSKA\\DATASETS\\PREDYKCJA\\videos\\pieknie.webm: 384x640 1 no_glasses, 4 no_glovess, 2 no_vests, 3.6ms\n",
      "video 2/4 (frame 368/646) f:\\PRACA_MAGISTERSKA\\DATASETS\\PREDYKCJA\\videos\\pieknie.webm: 384x640 1 no_glasses, 4 no_glovess, 2 no_vests, 3.6ms\n",
      "video 2/4 (frame 369/646) f:\\PRACA_MAGISTERSKA\\DATASETS\\PREDYKCJA\\videos\\pieknie.webm: 384x640 1 no_glasses, 4 no_glovess, 2 no_vests, 3.6ms\n",
      "video 2/4 (frame 370/646) f:\\PRACA_MAGISTERSKA\\DATASETS\\PREDYKCJA\\videos\\pieknie.webm: 384x640 1 no_glasses, 4 no_glovess, 2 no_vests, 3.6ms\n",
      "video 2/4 (frame 371/646) f:\\PRACA_MAGISTERSKA\\DATASETS\\PREDYKCJA\\videos\\pieknie.webm: 384x640 1 no_glasses, 4 no_glovess, 2 no_vests, 3.6ms\n",
      "video 2/4 (frame 372/646) f:\\PRACA_MAGISTERSKA\\DATASETS\\PREDYKCJA\\videos\\pieknie.webm: 384x640 1 no_glasses, 4 no_glovess, 1 no_helmet, 2 no_vests, 3.6ms\n",
      "video 2/4 (frame 373/646) f:\\PRACA_MAGISTERSKA\\DATASETS\\PREDYKCJA\\videos\\pieknie.webm: 384x640 1 no_glasses, 4 no_glovess, 1 no_helmet, 2 no_vests, 3.6ms\n",
      "video 2/4 (frame 374/646) f:\\PRACA_MAGISTERSKA\\DATASETS\\PREDYKCJA\\videos\\pieknie.webm: 384x640 1 no_glasses, 4 no_glovess, 1 no_helmet, 2 no_vests, 3.6ms\n",
      "video 2/4 (frame 375/646) f:\\PRACA_MAGISTERSKA\\DATASETS\\PREDYKCJA\\videos\\pieknie.webm: 384x640 1 no_glasses, 4 no_glovess, 1 no_helmet, 2 no_vests, 3.6ms\n",
      "video 2/4 (frame 376/646) f:\\PRACA_MAGISTERSKA\\DATASETS\\PREDYKCJA\\videos\\pieknie.webm: 384x640 1 no_glasses, 4 no_glovess, 1 no_helmet, 2 no_vests, 3.6ms\n",
      "video 2/4 (frame 377/646) f:\\PRACA_MAGISTERSKA\\DATASETS\\PREDYKCJA\\videos\\pieknie.webm: 384x640 1 no_glasses, 4 no_glovess, 1 no_helmet, 2 no_vests, 3.6ms\n",
      "video 2/4 (frame 378/646) f:\\PRACA_MAGISTERSKA\\DATASETS\\PREDYKCJA\\videos\\pieknie.webm: 384x640 1 no_glasses, 4 no_glovess, 1 no_helmet, 2 no_vests, 3.6ms\n",
      "video 2/4 (frame 379/646) f:\\PRACA_MAGISTERSKA\\DATASETS\\PREDYKCJA\\videos\\pieknie.webm: 384x640 1 no_glasses, 4 no_glovess, 1 no_helmet, 2 no_vests, 3.6ms\n",
      "video 2/4 (frame 380/646) f:\\PRACA_MAGISTERSKA\\DATASETS\\PREDYKCJA\\videos\\pieknie.webm: 384x640 1 no_glasses, 4 no_glovess, 1 no_helmet, 2 no_vests, 3.6ms\n",
      "video 2/4 (frame 381/646) f:\\PRACA_MAGISTERSKA\\DATASETS\\PREDYKCJA\\videos\\pieknie.webm: 384x640 1 no_glasses, 4 no_glovess, 1 no_helmet, 2 no_vests, 3.6ms\n",
      "video 2/4 (frame 382/646) f:\\PRACA_MAGISTERSKA\\DATASETS\\PREDYKCJA\\videos\\pieknie.webm: 384x640 1 no_glasses, 4 no_glovess, 1 no_helmet, 2 no_vests, 3.6ms\n",
      "video 2/4 (frame 383/646) f:\\PRACA_MAGISTERSKA\\DATASETS\\PREDYKCJA\\videos\\pieknie.webm: 384x640 1 no_glasses, 4 no_glovess, 1 no_helmet, 2 no_vests, 3.6ms\n",
      "video 2/4 (frame 384/646) f:\\PRACA_MAGISTERSKA\\DATASETS\\PREDYKCJA\\videos\\pieknie.webm: 384x640 1 no_glasses, 4 no_glovess, 1 no_helmet, 2 no_vests, 3.6ms\n",
      "video 2/4 (frame 385/646) f:\\PRACA_MAGISTERSKA\\DATASETS\\PREDYKCJA\\videos\\pieknie.webm: 384x640 1 no_glasses, 4 no_glovess, 1 no_helmet, 2 no_vests, 3.6ms\n",
      "video 2/4 (frame 386/646) f:\\PRACA_MAGISTERSKA\\DATASETS\\PREDYKCJA\\videos\\pieknie.webm: 384x640 1 no_glasses, 4 no_glovess, 1 no_helmet, 2 no_vests, 3.6ms\n",
      "video 2/4 (frame 387/646) f:\\PRACA_MAGISTERSKA\\DATASETS\\PREDYKCJA\\videos\\pieknie.webm: 384x640 1 no_glasses, 4 no_glovess, 1 no_helmet, 2 no_vests, 3.6ms\n",
      "video 2/4 (frame 388/646) f:\\PRACA_MAGISTERSKA\\DATASETS\\PREDYKCJA\\videos\\pieknie.webm: 384x640 1 no_glasses, 4 no_glovess, 2 no_vests, 3.6ms\n",
      "video 2/4 (frame 389/646) f:\\PRACA_MAGISTERSKA\\DATASETS\\PREDYKCJA\\videos\\pieknie.webm: 384x640 1 no_glasses, 4 no_glovess, 2 no_vests, 3.6ms\n",
      "video 2/4 (frame 390/646) f:\\PRACA_MAGISTERSKA\\DATASETS\\PREDYKCJA\\videos\\pieknie.webm: 384x640 1 no_glasses, 4 no_glovess, 2 no_vests, 3.6ms\n",
      "video 2/4 (frame 391/646) f:\\PRACA_MAGISTERSKA\\DATASETS\\PREDYKCJA\\videos\\pieknie.webm: 384x640 1 no_glasses, 4 no_glovess, 2 no_vests, 3.6ms\n",
      "video 2/4 (frame 392/646) f:\\PRACA_MAGISTERSKA\\DATASETS\\PREDYKCJA\\videos\\pieknie.webm: 384x640 1 no_glasses, 4 no_glovess, 3 no_vests, 3.6ms\n",
      "video 2/4 (frame 393/646) f:\\PRACA_MAGISTERSKA\\DATASETS\\PREDYKCJA\\videos\\pieknie.webm: 384x640 1 no_glasses, 4 no_glovess, 2 no_vests, 3.6ms\n",
      "video 2/4 (frame 394/646) f:\\PRACA_MAGISTERSKA\\DATASETS\\PREDYKCJA\\videos\\pieknie.webm: 384x640 1 no_glasses, 4 no_glovess, 2 no_vests, 3.6ms\n",
      "video 2/4 (frame 395/646) f:\\PRACA_MAGISTERSKA\\DATASETS\\PREDYKCJA\\videos\\pieknie.webm: 384x640 1 no_glasses, 4 no_glovess, 2 no_vests, 3.6ms\n",
      "video 2/4 (frame 396/646) f:\\PRACA_MAGISTERSKA\\DATASETS\\PREDYKCJA\\videos\\pieknie.webm: 384x640 1 no_glasses, 4 no_glovess, 2 no_vests, 3.6ms\n",
      "video 2/4 (frame 397/646) f:\\PRACA_MAGISTERSKA\\DATASETS\\PREDYKCJA\\videos\\pieknie.webm: 384x640 1 no_glasses, 4 no_glovess, 2 no_vests, 3.6ms\n",
      "video 2/4 (frame 398/646) f:\\PRACA_MAGISTERSKA\\DATASETS\\PREDYKCJA\\videos\\pieknie.webm: 384x640 1 no_glasses, 4 no_glovess, 2 no_vests, 3.6ms\n",
      "video 2/4 (frame 399/646) f:\\PRACA_MAGISTERSKA\\DATASETS\\PREDYKCJA\\videos\\pieknie.webm: 384x640 1 no_glasses, 4 no_glovess, 2 no_vests, 3.6ms\n",
      "video 2/4 (frame 400/646) f:\\PRACA_MAGISTERSKA\\DATASETS\\PREDYKCJA\\videos\\pieknie.webm: 384x640 1 no_glasses, 4 no_glovess, 2 no_vests, 3.6ms\n",
      "video 2/4 (frame 401/646) f:\\PRACA_MAGISTERSKA\\DATASETS\\PREDYKCJA\\videos\\pieknie.webm: 384x640 1 no_glasses, 4 no_glovess, 2 no_vests, 3.6ms\n",
      "video 2/4 (frame 402/646) f:\\PRACA_MAGISTERSKA\\DATASETS\\PREDYKCJA\\videos\\pieknie.webm: 384x640 1 no_glasses, 4 no_glovess, 2 no_vests, 3.6ms\n",
      "video 2/4 (frame 403/646) f:\\PRACA_MAGISTERSKA\\DATASETS\\PREDYKCJA\\videos\\pieknie.webm: 384x640 1 no_glasses, 4 no_glovess, 2 no_vests, 3.6ms\n",
      "video 2/4 (frame 404/646) f:\\PRACA_MAGISTERSKA\\DATASETS\\PREDYKCJA\\videos\\pieknie.webm: 384x640 1 no_glasses, 4 no_glovess, 2 no_vests, 3.6ms\n",
      "video 2/4 (frame 405/646) f:\\PRACA_MAGISTERSKA\\DATASETS\\PREDYKCJA\\videos\\pieknie.webm: 384x640 1 no_glasses, 4 no_glovess, 2 no_vests, 3.6ms\n",
      "video 2/4 (frame 406/646) f:\\PRACA_MAGISTERSKA\\DATASETS\\PREDYKCJA\\videos\\pieknie.webm: 384x640 1 no_glasses, 4 no_glovess, 2 no_vests, 3.6ms\n",
      "video 2/4 (frame 407/646) f:\\PRACA_MAGISTERSKA\\DATASETS\\PREDYKCJA\\videos\\pieknie.webm: 384x640 1 no_glasses, 4 no_glovess, 2 no_vests, 3.6ms\n",
      "video 2/4 (frame 408/646) f:\\PRACA_MAGISTERSKA\\DATASETS\\PREDYKCJA\\videos\\pieknie.webm: 384x640 1 no_glasses, 4 no_glovess, 2 no_vests, 3.6ms\n",
      "video 2/4 (frame 409/646) f:\\PRACA_MAGISTERSKA\\DATASETS\\PREDYKCJA\\videos\\pieknie.webm: 384x640 1 no_glasses, 4 no_glovess, 2 no_vests, 3.6ms\n",
      "video 2/4 (frame 410/646) f:\\PRACA_MAGISTERSKA\\DATASETS\\PREDYKCJA\\videos\\pieknie.webm: 384x640 1 no_glasses, 4 no_glovess, 2 no_vests, 3.6ms\n",
      "video 2/4 (frame 411/646) f:\\PRACA_MAGISTERSKA\\DATASETS\\PREDYKCJA\\videos\\pieknie.webm: 384x640 1 no_glasses, 4 no_glovess, 2 no_vests, 3.6ms\n",
      "video 2/4 (frame 412/646) f:\\PRACA_MAGISTERSKA\\DATASETS\\PREDYKCJA\\videos\\pieknie.webm: 384x640 1 no_glasses, 3 no_glovess, 2 no_vests, 3.6ms\n",
      "video 2/4 (frame 413/646) f:\\PRACA_MAGISTERSKA\\DATASETS\\PREDYKCJA\\videos\\pieknie.webm: 384x640 1 no_glasses, 4 no_glovess, 2 no_vests, 3.6ms\n",
      "video 2/4 (frame 414/646) f:\\PRACA_MAGISTERSKA\\DATASETS\\PREDYKCJA\\videos\\pieknie.webm: 384x640 1 no_glasses, 4 no_glovess, 2 no_vests, 3.5ms\n",
      "video 2/4 (frame 415/646) f:\\PRACA_MAGISTERSKA\\DATASETS\\PREDYKCJA\\videos\\pieknie.webm: 384x640 1 no_glasses, 4 no_glovess, 2 no_vests, 3.5ms\n",
      "video 2/4 (frame 416/646) f:\\PRACA_MAGISTERSKA\\DATASETS\\PREDYKCJA\\videos\\pieknie.webm: 384x640 1 no_glasses, 4 no_glovess, 2 no_vests, 3.5ms\n",
      "video 2/4 (frame 417/646) f:\\PRACA_MAGISTERSKA\\DATASETS\\PREDYKCJA\\videos\\pieknie.webm: 384x640 1 no_glasses, 4 no_glovess, 2 no_vests, 3.5ms\n",
      "video 2/4 (frame 418/646) f:\\PRACA_MAGISTERSKA\\DATASETS\\PREDYKCJA\\videos\\pieknie.webm: 384x640 1 no_glasses, 4 no_glovess, 2 no_vests, 3.5ms\n",
      "video 2/4 (frame 419/646) f:\\PRACA_MAGISTERSKA\\DATASETS\\PREDYKCJA\\videos\\pieknie.webm: 384x640 1 no_glasses, 4 no_glovess, 2 no_vests, 3.5ms\n",
      "video 2/4 (frame 420/646) f:\\PRACA_MAGISTERSKA\\DATASETS\\PREDYKCJA\\videos\\pieknie.webm: 384x640 1 no_glasses, 4 no_glovess, 2 no_vests, 3.5ms\n",
      "video 2/4 (frame 421/646) f:\\PRACA_MAGISTERSKA\\DATASETS\\PREDYKCJA\\videos\\pieknie.webm: 384x640 1 no_glasses, 4 no_glovess, 2 no_vests, 3.5ms\n",
      "video 2/4 (frame 422/646) f:\\PRACA_MAGISTERSKA\\DATASETS\\PREDYKCJA\\videos\\pieknie.webm: 384x640 1 no_glasses, 4 no_glovess, 2 no_vests, 3.5ms\n",
      "video 2/4 (frame 423/646) f:\\PRACA_MAGISTERSKA\\DATASETS\\PREDYKCJA\\videos\\pieknie.webm: 384x640 1 no_glasses, 4 no_glovess, 2 no_vests, 3.5ms\n",
      "video 2/4 (frame 424/646) f:\\PRACA_MAGISTERSKA\\DATASETS\\PREDYKCJA\\videos\\pieknie.webm: 384x640 1 no_glasses, 4 no_glovess, 2 no_vests, 3.5ms\n",
      "video 2/4 (frame 425/646) f:\\PRACA_MAGISTERSKA\\DATASETS\\PREDYKCJA\\videos\\pieknie.webm: 384x640 1 no_glasses, 4 no_glovess, 2 no_vests, 3.5ms\n",
      "video 2/4 (frame 426/646) f:\\PRACA_MAGISTERSKA\\DATASETS\\PREDYKCJA\\videos\\pieknie.webm: 384x640 1 no_glasses, 4 no_glovess, 2 no_vests, 3.5ms\n",
      "video 2/4 (frame 427/646) f:\\PRACA_MAGISTERSKA\\DATASETS\\PREDYKCJA\\videos\\pieknie.webm: 384x640 1 no_glasses, 4 no_glovess, 2 no_vests, 3.5ms\n",
      "video 2/4 (frame 428/646) f:\\PRACA_MAGISTERSKA\\DATASETS\\PREDYKCJA\\videos\\pieknie.webm: 384x640 1 no_glasses, 5 no_glovess, 2 no_vests, 3.5ms\n",
      "video 2/4 (frame 429/646) f:\\PRACA_MAGISTERSKA\\DATASETS\\PREDYKCJA\\videos\\pieknie.webm: 384x640 1 no_glasses, 3 no_glovess, 2 no_vests, 3.5ms\n",
      "video 2/4 (frame 430/646) f:\\PRACA_MAGISTERSKA\\DATASETS\\PREDYKCJA\\videos\\pieknie.webm: 384x640 1 no_glasses, 4 no_glovess, 2 no_vests, 3.5ms\n",
      "video 2/4 (frame 431/646) f:\\PRACA_MAGISTERSKA\\DATASETS\\PREDYKCJA\\videos\\pieknie.webm: 384x640 2 no_glassess, 4 no_glovess, 2 no_vests, 3.5ms\n",
      "video 2/4 (frame 432/646) f:\\PRACA_MAGISTERSKA\\DATASETS\\PREDYKCJA\\videos\\pieknie.webm: 384x640 2 no_glassess, 4 no_glovess, 2 no_vests, 3.5ms\n",
      "video 2/4 (frame 433/646) f:\\PRACA_MAGISTERSKA\\DATASETS\\PREDYKCJA\\videos\\pieknie.webm: 384x640 1 no_glasses, 3 no_glovess, 2 no_vests, 3.5ms\n",
      "video 2/4 (frame 434/646) f:\\PRACA_MAGISTERSKA\\DATASETS\\PREDYKCJA\\videos\\pieknie.webm: 384x640 1 no_glasses, 4 no_glovess, 2 no_vests, 3.5ms\n",
      "video 2/4 (frame 435/646) f:\\PRACA_MAGISTERSKA\\DATASETS\\PREDYKCJA\\videos\\pieknie.webm: 384x640 1 no_glasses, 4 no_glovess, 1 no_helmet, 2 no_vests, 3.5ms\n",
      "video 2/4 (frame 436/646) f:\\PRACA_MAGISTERSKA\\DATASETS\\PREDYKCJA\\videos\\pieknie.webm: 384x640 1 no_glasses, 4 no_glovess, 1 no_helmet, 2 no_vests, 3.5ms\n",
      "video 2/4 (frame 437/646) f:\\PRACA_MAGISTERSKA\\DATASETS\\PREDYKCJA\\videos\\pieknie.webm: 384x640 1 no_glasses, 4 no_glovess, 1 no_helmet, 2 no_vests, 3.5ms\n",
      "video 2/4 (frame 438/646) f:\\PRACA_MAGISTERSKA\\DATASETS\\PREDYKCJA\\videos\\pieknie.webm: 384x640 1 no_glasses, 4 no_glovess, 2 no_vests, 3.5ms\n",
      "video 2/4 (frame 439/646) f:\\PRACA_MAGISTERSKA\\DATASETS\\PREDYKCJA\\videos\\pieknie.webm: 384x640 1 no_glasses, 4 no_glovess, 2 no_vests, 3.5ms\n",
      "video 2/4 (frame 440/646) f:\\PRACA_MAGISTERSKA\\DATASETS\\PREDYKCJA\\videos\\pieknie.webm: 384x640 1 no_glasses, 4 no_glovess, 2 no_vests, 3.5ms\n",
      "video 2/4 (frame 441/646) f:\\PRACA_MAGISTERSKA\\DATASETS\\PREDYKCJA\\videos\\pieknie.webm: 384x640 1 no_glasses, 3 no_glovess, 2 no_vests, 3.5ms\n",
      "video 2/4 (frame 442/646) f:\\PRACA_MAGISTERSKA\\DATASETS\\PREDYKCJA\\videos\\pieknie.webm: 384x640 1 no_glasses, 4 no_glovess, 2 no_vests, 3.5ms\n",
      "video 2/4 (frame 443/646) f:\\PRACA_MAGISTERSKA\\DATASETS\\PREDYKCJA\\videos\\pieknie.webm: 384x640 1 no_glasses, 4 no_glovess, 2 no_vests, 3.5ms\n",
      "video 2/4 (frame 444/646) f:\\PRACA_MAGISTERSKA\\DATASETS\\PREDYKCJA\\videos\\pieknie.webm: 384x640 1 no_glasses, 4 no_glovess, 2 no_vests, 3.5ms\n",
      "video 2/4 (frame 445/646) f:\\PRACA_MAGISTERSKA\\DATASETS\\PREDYKCJA\\videos\\pieknie.webm: 384x640 1 no_glasses, 4 no_glovess, 2 no_vests, 3.5ms\n",
      "video 2/4 (frame 446/646) f:\\PRACA_MAGISTERSKA\\DATASETS\\PREDYKCJA\\videos\\pieknie.webm: 384x640 1 no_glasses, 4 no_glovess, 2 no_vests, 3.5ms\n",
      "video 2/4 (frame 447/646) f:\\PRACA_MAGISTERSKA\\DATASETS\\PREDYKCJA\\videos\\pieknie.webm: 384x640 1 no_glasses, 4 no_glovess, 2 no_vests, 3.5ms\n",
      "video 2/4 (frame 448/646) f:\\PRACA_MAGISTERSKA\\DATASETS\\PREDYKCJA\\videos\\pieknie.webm: 384x640 1 no_glasses, 4 no_glovess, 2 no_vests, 3.5ms\n",
      "video 2/4 (frame 449/646) f:\\PRACA_MAGISTERSKA\\DATASETS\\PREDYKCJA\\videos\\pieknie.webm: 384x640 1 no_glasses, 4 no_glovess, 2 no_vests, 3.5ms\n",
      "video 2/4 (frame 450/646) f:\\PRACA_MAGISTERSKA\\DATASETS\\PREDYKCJA\\videos\\pieknie.webm: 384x640 1 no_glasses, 4 no_glovess, 2 no_vests, 3.5ms\n",
      "video 2/4 (frame 451/646) f:\\PRACA_MAGISTERSKA\\DATASETS\\PREDYKCJA\\videos\\pieknie.webm: 384x640 1 no_glasses, 4 no_glovess, 1 no_helmet, 2 no_vests, 3.5ms\n",
      "video 2/4 (frame 452/646) f:\\PRACA_MAGISTERSKA\\DATASETS\\PREDYKCJA\\videos\\pieknie.webm: 384x640 1 no_glasses, 4 no_glovess, 1 no_helmet, 3 no_vests, 3.5ms\n",
      "video 2/4 (frame 453/646) f:\\PRACA_MAGISTERSKA\\DATASETS\\PREDYKCJA\\videos\\pieknie.webm: 384x640 1 no_glasses, 4 no_glovess, 1 no_helmet, 2 no_vests, 3.5ms\n",
      "video 2/4 (frame 454/646) f:\\PRACA_MAGISTERSKA\\DATASETS\\PREDYKCJA\\videos\\pieknie.webm: 384x640 1 no_glasses, 4 no_glovess, 1 no_helmet, 2 no_vests, 3.5ms\n",
      "video 2/4 (frame 455/646) f:\\PRACA_MAGISTERSKA\\DATASETS\\PREDYKCJA\\videos\\pieknie.webm: 384x640 1 no_glasses, 4 no_glovess, 1 no_helmet, 2 no_vests, 3.5ms\n",
      "video 2/4 (frame 456/646) f:\\PRACA_MAGISTERSKA\\DATASETS\\PREDYKCJA\\videos\\pieknie.webm: 384x640 1 no_glasses, 4 no_glovess, 1 no_helmet, 2 no_vests, 3.5ms\n",
      "video 2/4 (frame 457/646) f:\\PRACA_MAGISTERSKA\\DATASETS\\PREDYKCJA\\videos\\pieknie.webm: 384x640 1 no_glasses, 4 no_glovess, 1 no_helmet, 2 no_vests, 3.5ms\n",
      "video 2/4 (frame 458/646) f:\\PRACA_MAGISTERSKA\\DATASETS\\PREDYKCJA\\videos\\pieknie.webm: 384x640 1 no_glasses, 3 no_glovess, 1 no_helmet, 2 no_vests, 3.5ms\n",
      "video 2/4 (frame 459/646) f:\\PRACA_MAGISTERSKA\\DATASETS\\PREDYKCJA\\videos\\pieknie.webm: 384x640 1 no_glasses, 3 no_glovess, 1 no_helmet, 2 no_vests, 3.5ms\n",
      "video 2/4 (frame 460/646) f:\\PRACA_MAGISTERSKA\\DATASETS\\PREDYKCJA\\videos\\pieknie.webm: 384x640 1 no_glasses, 4 no_glovess, 1 no_helmet, 2 no_vests, 3.5ms\n",
      "video 2/4 (frame 461/646) f:\\PRACA_MAGISTERSKA\\DATASETS\\PREDYKCJA\\videos\\pieknie.webm: 384x640 1 no_glasses, 4 no_glovess, 1 no_helmet, 2 no_vests, 3.5ms\n",
      "video 2/4 (frame 462/646) f:\\PRACA_MAGISTERSKA\\DATASETS\\PREDYKCJA\\videos\\pieknie.webm: 384x640 1 no_glasses, 4 no_glovess, 2 no_vests, 3.5ms\n",
      "video 2/4 (frame 463/646) f:\\PRACA_MAGISTERSKA\\DATASETS\\PREDYKCJA\\videos\\pieknie.webm: 384x640 1 no_glasses, 4 no_glovess, 2 no_vests, 3.5ms\n",
      "video 2/4 (frame 464/646) f:\\PRACA_MAGISTERSKA\\DATASETS\\PREDYKCJA\\videos\\pieknie.webm: 384x640 1 no_glasses, 4 no_glovess, 2 no_vests, 3.5ms\n",
      "video 2/4 (frame 465/646) f:\\PRACA_MAGISTERSKA\\DATASETS\\PREDYKCJA\\videos\\pieknie.webm: 384x640 1 no_glasses, 4 no_glovess, 1 no_helmet, 2 no_vests, 3.5ms\n",
      "video 2/4 (frame 466/646) f:\\PRACA_MAGISTERSKA\\DATASETS\\PREDYKCJA\\videos\\pieknie.webm: 384x640 1 no_glasses, 4 no_glovess, 1 no_helmet, 2 no_vests, 3.5ms\n",
      "video 2/4 (frame 467/646) f:\\PRACA_MAGISTERSKA\\DATASETS\\PREDYKCJA\\videos\\pieknie.webm: 384x640 1 no_glasses, 4 no_glovess, 1 no_helmet, 2 no_vests, 3.5ms\n",
      "video 2/4 (frame 468/646) f:\\PRACA_MAGISTERSKA\\DATASETS\\PREDYKCJA\\videos\\pieknie.webm: 384x640 1 no_glasses, 4 no_glovess, 1 no_helmet, 2 no_vests, 3.5ms\n",
      "video 2/4 (frame 469/646) f:\\PRACA_MAGISTERSKA\\DATASETS\\PREDYKCJA\\videos\\pieknie.webm: 384x640 1 no_glasses, 4 no_glovess, 1 no_helmet, 2 no_vests, 3.5ms\n",
      "video 2/4 (frame 470/646) f:\\PRACA_MAGISTERSKA\\DATASETS\\PREDYKCJA\\videos\\pieknie.webm: 384x640 1 no_glasses, 4 no_glovess, 1 no_helmet, 2 no_vests, 3.5ms\n",
      "video 2/4 (frame 471/646) f:\\PRACA_MAGISTERSKA\\DATASETS\\PREDYKCJA\\videos\\pieknie.webm: 384x640 1 no_glasses, 4 no_glovess, 1 no_helmet, 2 no_vests, 3.5ms\n",
      "video 2/4 (frame 472/646) f:\\PRACA_MAGISTERSKA\\DATASETS\\PREDYKCJA\\videos\\pieknie.webm: 384x640 1 no_glasses, 4 no_glovess, 1 no_helmet, 2 no_vests, 3.5ms\n",
      "video 2/4 (frame 473/646) f:\\PRACA_MAGISTERSKA\\DATASETS\\PREDYKCJA\\videos\\pieknie.webm: 384x640 1 no_glasses, 4 no_glovess, 1 no_helmet, 2 no_vests, 3.5ms\n",
      "video 2/4 (frame 474/646) f:\\PRACA_MAGISTERSKA\\DATASETS\\PREDYKCJA\\videos\\pieknie.webm: 384x640 1 no_glasses, 4 no_glovess, 1 no_helmet, 2 no_vests, 3.5ms\n",
      "video 2/4 (frame 475/646) f:\\PRACA_MAGISTERSKA\\DATASETS\\PREDYKCJA\\videos\\pieknie.webm: 384x640 1 no_glasses, 4 no_glovess, 2 no_vests, 3.5ms\n",
      "video 2/4 (frame 476/646) f:\\PRACA_MAGISTERSKA\\DATASETS\\PREDYKCJA\\videos\\pieknie.webm: 384x640 1 no_glasses, 4 no_glovess, 2 no_vests, 3.5ms\n",
      "video 2/4 (frame 477/646) f:\\PRACA_MAGISTERSKA\\DATASETS\\PREDYKCJA\\videos\\pieknie.webm: 384x640 1 no_glasses, 4 no_glovess, 2 no_vests, 3.5ms\n",
      "video 2/4 (frame 478/646) f:\\PRACA_MAGISTERSKA\\DATASETS\\PREDYKCJA\\videos\\pieknie.webm: 384x640 2 no_glassess, 4 no_glovess, 2 no_vests, 3.4ms\n",
      "video 2/4 (frame 479/646) f:\\PRACA_MAGISTERSKA\\DATASETS\\PREDYKCJA\\videos\\pieknie.webm: 384x640 1 no_glasses, 4 no_glovess, 2 no_vests, 3.4ms\n",
      "video 2/4 (frame 480/646) f:\\PRACA_MAGISTERSKA\\DATASETS\\PREDYKCJA\\videos\\pieknie.webm: 384x640 1 no_glasses, 4 no_glovess, 2 no_vests, 3.4ms\n",
      "video 2/4 (frame 481/646) f:\\PRACA_MAGISTERSKA\\DATASETS\\PREDYKCJA\\videos\\pieknie.webm: 384x640 1 no_glasses, 4 no_glovess, 2 no_vests, 3.4ms\n",
      "video 2/4 (frame 482/646) f:\\PRACA_MAGISTERSKA\\DATASETS\\PREDYKCJA\\videos\\pieknie.webm: 384x640 1 no_glasses, 4 no_glovess, 2 no_vests, 3.4ms\n",
      "video 2/4 (frame 483/646) f:\\PRACA_MAGISTERSKA\\DATASETS\\PREDYKCJA\\videos\\pieknie.webm: 384x640 1 no_glasses, 4 no_glovess, 2 no_vests, 3.4ms\n",
      "video 2/4 (frame 484/646) f:\\PRACA_MAGISTERSKA\\DATASETS\\PREDYKCJA\\videos\\pieknie.webm: 384x640 1 no_glasses, 4 no_glovess, 2 no_vests, 3.4ms\n",
      "video 2/4 (frame 485/646) f:\\PRACA_MAGISTERSKA\\DATASETS\\PREDYKCJA\\videos\\pieknie.webm: 384x640 1 no_glasses, 4 no_glovess, 2 no_vests, 3.4ms\n",
      "video 2/4 (frame 486/646) f:\\PRACA_MAGISTERSKA\\DATASETS\\PREDYKCJA\\videos\\pieknie.webm: 384x640 1 no_glasses, 4 no_glovess, 2 no_vests, 3.4ms\n",
      "video 2/4 (frame 487/646) f:\\PRACA_MAGISTERSKA\\DATASETS\\PREDYKCJA\\videos\\pieknie.webm: 384x640 1 no_glasses, 4 no_glovess, 2 no_vests, 3.4ms\n",
      "video 2/4 (frame 488/646) f:\\PRACA_MAGISTERSKA\\DATASETS\\PREDYKCJA\\videos\\pieknie.webm: 384x640 1 no_glasses, 4 no_glovess, 1 no_helmet, 2 no_vests, 3.4ms\n",
      "video 2/4 (frame 489/646) f:\\PRACA_MAGISTERSKA\\DATASETS\\PREDYKCJA\\videos\\pieknie.webm: 384x640 1 no_glasses, 4 no_glovess, 2 no_vests, 3.4ms\n",
      "video 2/4 (frame 490/646) f:\\PRACA_MAGISTERSKA\\DATASETS\\PREDYKCJA\\videos\\pieknie.webm: 384x640 1 no_glasses, 4 no_glovess, 2 no_vests, 3.4ms\n",
      "video 2/4 (frame 491/646) f:\\PRACA_MAGISTERSKA\\DATASETS\\PREDYKCJA\\videos\\pieknie.webm: 384x640 1 no_glasses, 4 no_glovess, 2 no_vests, 3.4ms\n",
      "video 2/4 (frame 492/646) f:\\PRACA_MAGISTERSKA\\DATASETS\\PREDYKCJA\\videos\\pieknie.webm: 384x640 1 no_glasses, 4 no_glovess, 2 no_vests, 3.4ms\n",
      "video 2/4 (frame 493/646) f:\\PRACA_MAGISTERSKA\\DATASETS\\PREDYKCJA\\videos\\pieknie.webm: 384x640 1 no_glasses, 4 no_glovess, 2 no_vests, 3.4ms\n",
      "video 2/4 (frame 494/646) f:\\PRACA_MAGISTERSKA\\DATASETS\\PREDYKCJA\\videos\\pieknie.webm: 384x640 1 no_glasses, 4 no_glovess, 2 no_vests, 3.4ms\n",
      "video 2/4 (frame 495/646) f:\\PRACA_MAGISTERSKA\\DATASETS\\PREDYKCJA\\videos\\pieknie.webm: 384x640 1 no_glasses, 4 no_glovess, 1 no_helmet, 2 no_vests, 3.4ms\n",
      "video 2/4 (frame 496/646) f:\\PRACA_MAGISTERSKA\\DATASETS\\PREDYKCJA\\videos\\pieknie.webm: 384x640 1 no_glasses, 4 no_glovess, 1 no_helmet, 2 no_vests, 3.4ms\n",
      "video 2/4 (frame 497/646) f:\\PRACA_MAGISTERSKA\\DATASETS\\PREDYKCJA\\videos\\pieknie.webm: 384x640 1 no_glasses, 4 no_glovess, 2 no_vests, 3.4ms\n",
      "video 2/4 (frame 498/646) f:\\PRACA_MAGISTERSKA\\DATASETS\\PREDYKCJA\\videos\\pieknie.webm: 384x640 1 no_glasses, 4 no_glovess, 2 no_vests, 3.4ms\n",
      "video 2/4 (frame 499/646) f:\\PRACA_MAGISTERSKA\\DATASETS\\PREDYKCJA\\videos\\pieknie.webm: 384x640 1 no_glasses, 4 no_glovess, 2 no_vests, 3.4ms\n",
      "video 2/4 (frame 500/646) f:\\PRACA_MAGISTERSKA\\DATASETS\\PREDYKCJA\\videos\\pieknie.webm: 384x640 1 no_glasses, 4 no_glovess, 2 no_vests, 3.4ms\n",
      "video 2/4 (frame 501/646) f:\\PRACA_MAGISTERSKA\\DATASETS\\PREDYKCJA\\videos\\pieknie.webm: 384x640 1 no_glasses, 4 no_glovess, 2 no_vests, 3.4ms\n",
      "video 2/4 (frame 502/646) f:\\PRACA_MAGISTERSKA\\DATASETS\\PREDYKCJA\\videos\\pieknie.webm: 384x640 1 no_glasses, 4 no_glovess, 2 no_vests, 3.4ms\n",
      "video 2/4 (frame 503/646) f:\\PRACA_MAGISTERSKA\\DATASETS\\PREDYKCJA\\videos\\pieknie.webm: 384x640 1 no_glasses, 5 no_glovess, 2 no_vests, 3.4ms\n",
      "video 2/4 (frame 504/646) f:\\PRACA_MAGISTERSKA\\DATASETS\\PREDYKCJA\\videos\\pieknie.webm: 384x640 1 no_glasses, 3 no_glovess, 2 no_vests, 3.4ms\n",
      "video 2/4 (frame 505/646) f:\\PRACA_MAGISTERSKA\\DATASETS\\PREDYKCJA\\videos\\pieknie.webm: 384x640 1 no_glasses, 3 no_glovess, 2 no_vests, 3.4ms\n",
      "video 2/4 (frame 506/646) f:\\PRACA_MAGISTERSKA\\DATASETS\\PREDYKCJA\\videos\\pieknie.webm: 384x640 1 no_glasses, 3 no_glovess, 2 no_vests, 3.4ms\n",
      "video 2/4 (frame 507/646) f:\\PRACA_MAGISTERSKA\\DATASETS\\PREDYKCJA\\videos\\pieknie.webm: 384x640 1 no_glasses, 4 no_glovess, 2 no_vests, 3.4ms\n",
      "video 2/4 (frame 508/646) f:\\PRACA_MAGISTERSKA\\DATASETS\\PREDYKCJA\\videos\\pieknie.webm: 384x640 1 no_glasses, 4 no_glovess, 2 no_vests, 3.4ms\n",
      "video 2/4 (frame 509/646) f:\\PRACA_MAGISTERSKA\\DATASETS\\PREDYKCJA\\videos\\pieknie.webm: 384x640 1 no_glasses, 4 no_glovess, 2 no_vests, 3.4ms\n",
      "video 2/4 (frame 510/646) f:\\PRACA_MAGISTERSKA\\DATASETS\\PREDYKCJA\\videos\\pieknie.webm: 384x640 1 no_glasses, 3 no_glovess, 2 no_vests, 3.4ms\n",
      "video 2/4 (frame 511/646) f:\\PRACA_MAGISTERSKA\\DATASETS\\PREDYKCJA\\videos\\pieknie.webm: 384x640 1 no_glasses, 3 no_glovess, 2 no_vests, 3.4ms\n",
      "video 2/4 (frame 512/646) f:\\PRACA_MAGISTERSKA\\DATASETS\\PREDYKCJA\\videos\\pieknie.webm: 384x640 1 no_glasses, 3 no_glovess, 2 no_vests, 3.4ms\n",
      "video 2/4 (frame 513/646) f:\\PRACA_MAGISTERSKA\\DATASETS\\PREDYKCJA\\videos\\pieknie.webm: 384x640 1 no_glasses, 4 no_glovess, 2 no_vests, 3.4ms\n",
      "video 2/4 (frame 514/646) f:\\PRACA_MAGISTERSKA\\DATASETS\\PREDYKCJA\\videos\\pieknie.webm: 384x640 1 no_glasses, 4 no_glovess, 2 no_vests, 3.4ms\n",
      "video 2/4 (frame 515/646) f:\\PRACA_MAGISTERSKA\\DATASETS\\PREDYKCJA\\videos\\pieknie.webm: 384x640 1 no_glasses, 4 no_glovess, 2 no_vests, 3.4ms\n",
      "video 2/4 (frame 516/646) f:\\PRACA_MAGISTERSKA\\DATASETS\\PREDYKCJA\\videos\\pieknie.webm: 384x640 1 no_glasses, 4 no_glovess, 2 no_vests, 3.4ms\n",
      "video 2/4 (frame 517/646) f:\\PRACA_MAGISTERSKA\\DATASETS\\PREDYKCJA\\videos\\pieknie.webm: 384x640 1 no_glasses, 4 no_glovess, 2 no_vests, 3.4ms\n",
      "video 2/4 (frame 518/646) f:\\PRACA_MAGISTERSKA\\DATASETS\\PREDYKCJA\\videos\\pieknie.webm: 384x640 1 no_glasses, 4 no_glovess, 2 no_vests, 3.4ms\n",
      "video 2/4 (frame 519/646) f:\\PRACA_MAGISTERSKA\\DATASETS\\PREDYKCJA\\videos\\pieknie.webm: 384x640 1 no_glasses, 4 no_glovess, 2 no_vests, 3.4ms\n",
      "video 2/4 (frame 520/646) f:\\PRACA_MAGISTERSKA\\DATASETS\\PREDYKCJA\\videos\\pieknie.webm: 384x640 1 no_glasses, 4 no_glovess, 2 no_vests, 3.4ms\n",
      "video 2/4 (frame 521/646) f:\\PRACA_MAGISTERSKA\\DATASETS\\PREDYKCJA\\videos\\pieknie.webm: 384x640 1 no_glasses, 4 no_glovess, 2 no_vests, 3.4ms\n",
      "video 2/4 (frame 522/646) f:\\PRACA_MAGISTERSKA\\DATASETS\\PREDYKCJA\\videos\\pieknie.webm: 384x640 1 no_glasses, 4 no_glovess, 2 no_vests, 3.4ms\n",
      "video 2/4 (frame 523/646) f:\\PRACA_MAGISTERSKA\\DATASETS\\PREDYKCJA\\videos\\pieknie.webm: 384x640 1 no_glasses, 4 no_glovess, 2 no_vests, 3.4ms\n",
      "video 2/4 (frame 524/646) f:\\PRACA_MAGISTERSKA\\DATASETS\\PREDYKCJA\\videos\\pieknie.webm: 384x640 1 no_glasses, 4 no_glovess, 2 no_vests, 3.4ms\n",
      "video 2/4 (frame 525/646) f:\\PRACA_MAGISTERSKA\\DATASETS\\PREDYKCJA\\videos\\pieknie.webm: 384x640 1 no_glasses, 4 no_glovess, 2 no_vests, 3.4ms\n",
      "video 2/4 (frame 526/646) f:\\PRACA_MAGISTERSKA\\DATASETS\\PREDYKCJA\\videos\\pieknie.webm: 384x640 1 no_glasses, 4 no_glovess, 2 no_vests, 3.4ms\n",
      "video 2/4 (frame 527/646) f:\\PRACA_MAGISTERSKA\\DATASETS\\PREDYKCJA\\videos\\pieknie.webm: 384x640 1 no_glasses, 4 no_glovess, 2 no_vests, 3.4ms\n",
      "video 2/4 (frame 528/646) f:\\PRACA_MAGISTERSKA\\DATASETS\\PREDYKCJA\\videos\\pieknie.webm: 384x640 1 no_glasses, 4 no_glovess, 2 no_vests, 3.4ms\n",
      "video 2/4 (frame 529/646) f:\\PRACA_MAGISTERSKA\\DATASETS\\PREDYKCJA\\videos\\pieknie.webm: 384x640 1 no_glasses, 4 no_glovess, 2 no_vests, 3.4ms\n",
      "video 2/4 (frame 530/646) f:\\PRACA_MAGISTERSKA\\DATASETS\\PREDYKCJA\\videos\\pieknie.webm: 384x640 1 no_glasses, 4 no_glovess, 2 no_vests, 3.4ms\n",
      "video 2/4 (frame 531/646) f:\\PRACA_MAGISTERSKA\\DATASETS\\PREDYKCJA\\videos\\pieknie.webm: 384x640 1 no_glasses, 4 no_glovess, 2 no_vests, 3.4ms\n",
      "video 2/4 (frame 532/646) f:\\PRACA_MAGISTERSKA\\DATASETS\\PREDYKCJA\\videos\\pieknie.webm: 384x640 1 no_glasses, 4 no_glovess, 2 no_vests, 3.4ms\n",
      "video 2/4 (frame 533/646) f:\\PRACA_MAGISTERSKA\\DATASETS\\PREDYKCJA\\videos\\pieknie.webm: 384x640 2 no_glassess, 3 no_glovess, 2 no_vests, 3.4ms\n",
      "video 2/4 (frame 534/646) f:\\PRACA_MAGISTERSKA\\DATASETS\\PREDYKCJA\\videos\\pieknie.webm: 384x640 1 no_glasses, 3 no_glovess, 2 no_vests, 3.4ms\n",
      "video 2/4 (frame 535/646) f:\\PRACA_MAGISTERSKA\\DATASETS\\PREDYKCJA\\videos\\pieknie.webm: 384x640 1 no_glasses, 3 no_glovess, 2 no_vests, 3.4ms\n",
      "video 2/4 (frame 536/646) f:\\PRACA_MAGISTERSKA\\DATASETS\\PREDYKCJA\\videos\\pieknie.webm: 384x640 1 no_glasses, 3 no_glovess, 2 no_vests, 3.4ms\n",
      "video 2/4 (frame 537/646) f:\\PRACA_MAGISTERSKA\\DATASETS\\PREDYKCJA\\videos\\pieknie.webm: 384x640 1 no_glasses, 2 no_glovess, 2 no_vests, 3.4ms\n",
      "video 2/4 (frame 538/646) f:\\PRACA_MAGISTERSKA\\DATASETS\\PREDYKCJA\\videos\\pieknie.webm: 384x640 1 no_glasses, 4 no_glovess, 2 no_vests, 3.4ms\n",
      "video 2/4 (frame 539/646) f:\\PRACA_MAGISTERSKA\\DATASETS\\PREDYKCJA\\videos\\pieknie.webm: 384x640 1 no_glasses, 4 no_glovess, 2 no_vests, 3.4ms\n",
      "video 2/4 (frame 540/646) f:\\PRACA_MAGISTERSKA\\DATASETS\\PREDYKCJA\\videos\\pieknie.webm: 384x640 1 no_glasses, 3 no_glovess, 2 no_vests, 3.4ms\n",
      "video 2/4 (frame 541/646) f:\\PRACA_MAGISTERSKA\\DATASETS\\PREDYKCJA\\videos\\pieknie.webm: 384x640 1 no_glasses, 3 no_glovess, 2 no_vests, 3.4ms\n",
      "video 2/4 (frame 542/646) f:\\PRACA_MAGISTERSKA\\DATASETS\\PREDYKCJA\\videos\\pieknie.webm: 384x640 1 no_glasses, 3 no_glovess, 2 no_vests, 3.4ms\n",
      "video 2/4 (frame 543/646) f:\\PRACA_MAGISTERSKA\\DATASETS\\PREDYKCJA\\videos\\pieknie.webm: 384x640 1 no_glasses, 2 no_glovess, 2 no_vests, 3.4ms\n",
      "video 2/4 (frame 544/646) f:\\PRACA_MAGISTERSKA\\DATASETS\\PREDYKCJA\\videos\\pieknie.webm: 384x640 1 no_glasses, 3 no_glovess, 2 no_vests, 3.4ms\n",
      "video 2/4 (frame 545/646) f:\\PRACA_MAGISTERSKA\\DATASETS\\PREDYKCJA\\videos\\pieknie.webm: 384x640 1 no_glasses, 4 no_glovess, 2 no_vests, 3.4ms\n",
      "video 2/4 (frame 546/646) f:\\PRACA_MAGISTERSKA\\DATASETS\\PREDYKCJA\\videos\\pieknie.webm: 384x640 1 no_glasses, 4 no_glovess, 2 no_vests, 3.4ms\n",
      "video 2/4 (frame 547/646) f:\\PRACA_MAGISTERSKA\\DATASETS\\PREDYKCJA\\videos\\pieknie.webm: 384x640 1 no_glasses, 4 no_glovess, 2 no_vests, 3.4ms\n",
      "video 2/4 (frame 548/646) f:\\PRACA_MAGISTERSKA\\DATASETS\\PREDYKCJA\\videos\\pieknie.webm: 384x640 1 no_glasses, 4 no_glovess, 2 no_vests, 3.4ms\n",
      "video 2/4 (frame 549/646) f:\\PRACA_MAGISTERSKA\\DATASETS\\PREDYKCJA\\videos\\pieknie.webm: 384x640 1 no_glasses, 4 no_glovess, 2 no_vests, 3.4ms\n",
      "video 2/4 (frame 550/646) f:\\PRACA_MAGISTERSKA\\DATASETS\\PREDYKCJA\\videos\\pieknie.webm: 384x640 1 no_glasses, 4 no_glovess, 2 no_vests, 3.4ms\n",
      "video 2/4 (frame 551/646) f:\\PRACA_MAGISTERSKA\\DATASETS\\PREDYKCJA\\videos\\pieknie.webm: 384x640 1 no_glasses, 4 no_glovess, 2 no_vests, 3.4ms\n",
      "video 2/4 (frame 552/646) f:\\PRACA_MAGISTERSKA\\DATASETS\\PREDYKCJA\\videos\\pieknie.webm: 384x640 1 no_glasses, 3 no_glovess, 2 no_vests, 3.4ms\n",
      "video 2/4 (frame 553/646) f:\\PRACA_MAGISTERSKA\\DATASETS\\PREDYKCJA\\videos\\pieknie.webm: 384x640 1 no_glasses, 4 no_glovess, 2 no_vests, 3.4ms\n",
      "video 2/4 (frame 554/646) f:\\PRACA_MAGISTERSKA\\DATASETS\\PREDYKCJA\\videos\\pieknie.webm: 384x640 1 no_glasses, 4 no_glovess, 2 no_vests, 3.4ms\n",
      "video 2/4 (frame 555/646) f:\\PRACA_MAGISTERSKA\\DATASETS\\PREDYKCJA\\videos\\pieknie.webm: 384x640 1 no_glasses, 6 no_glovess, 2 no_vests, 3.4ms\n",
      "video 2/4 (frame 556/646) f:\\PRACA_MAGISTERSKA\\DATASETS\\PREDYKCJA\\videos\\pieknie.webm: 384x640 1 no_glasses, 4 no_glovess, 2 no_vests, 3.4ms\n",
      "video 2/4 (frame 557/646) f:\\PRACA_MAGISTERSKA\\DATASETS\\PREDYKCJA\\videos\\pieknie.webm: 384x640 1 no_glasses, 5 no_glovess, 2 no_vests, 3.4ms\n",
      "video 2/4 (frame 558/646) f:\\PRACA_MAGISTERSKA\\DATASETS\\PREDYKCJA\\videos\\pieknie.webm: 384x640 1 no_glasses, 4 no_glovess, 2 no_vests, 3.4ms\n",
      "video 2/4 (frame 559/646) f:\\PRACA_MAGISTERSKA\\DATASETS\\PREDYKCJA\\videos\\pieknie.webm: 384x640 2 no_glassess, 5 no_glovess, 2 no_vests, 3.4ms\n",
      "video 2/4 (frame 560/646) f:\\PRACA_MAGISTERSKA\\DATASETS\\PREDYKCJA\\videos\\pieknie.webm: 384x640 2 no_glassess, 4 no_glovess, 2 no_vests, 3.4ms\n",
      "video 2/4 (frame 561/646) f:\\PRACA_MAGISTERSKA\\DATASETS\\PREDYKCJA\\videos\\pieknie.webm: 384x640 2 no_glassess, 4 no_glovess, 2 no_vests, 3.4ms\n",
      "video 2/4 (frame 562/646) f:\\PRACA_MAGISTERSKA\\DATASETS\\PREDYKCJA\\videos\\pieknie.webm: 384x640 2 no_glassess, 4 no_glovess, 2 no_vests, 3.4ms\n",
      "video 2/4 (frame 563/646) f:\\PRACA_MAGISTERSKA\\DATASETS\\PREDYKCJA\\videos\\pieknie.webm: 384x640 1 no_glasses, 4 no_glovess, 2 no_vests, 3.4ms\n",
      "video 2/4 (frame 564/646) f:\\PRACA_MAGISTERSKA\\DATASETS\\PREDYKCJA\\videos\\pieknie.webm: 384x640 1 no_glasses, 4 no_glovess, 2 no_vests, 3.4ms\n",
      "video 2/4 (frame 565/646) f:\\PRACA_MAGISTERSKA\\DATASETS\\PREDYKCJA\\videos\\pieknie.webm: 384x640 1 no_glasses, 4 no_glovess, 2 no_vests, 3.4ms\n",
      "video 2/4 (frame 566/646) f:\\PRACA_MAGISTERSKA\\DATASETS\\PREDYKCJA\\videos\\pieknie.webm: 384x640 2 no_glassess, 4 no_glovess, 2 no_vests, 3.4ms\n",
      "video 2/4 (frame 567/646) f:\\PRACA_MAGISTERSKA\\DATASETS\\PREDYKCJA\\videos\\pieknie.webm: 384x640 1 no_glasses, 4 no_glovess, 2 no_vests, 3.4ms\n",
      "video 2/4 (frame 568/646) f:\\PRACA_MAGISTERSKA\\DATASETS\\PREDYKCJA\\videos\\pieknie.webm: 384x640 1 no_glasses, 4 no_glovess, 2 no_vests, 3.4ms\n",
      "video 2/4 (frame 569/646) f:\\PRACA_MAGISTERSKA\\DATASETS\\PREDYKCJA\\videos\\pieknie.webm: 384x640 1 no_glasses, 4 no_glovess, 2 no_vests, 3.4ms\n",
      "video 2/4 (frame 570/646) f:\\PRACA_MAGISTERSKA\\DATASETS\\PREDYKCJA\\videos\\pieknie.webm: 384x640 1 no_glasses, 3 no_glovess, 2 no_vests, 3.4ms\n",
      "video 2/4 (frame 571/646) f:\\PRACA_MAGISTERSKA\\DATASETS\\PREDYKCJA\\videos\\pieknie.webm: 384x640 1 no_glasses, 3 no_glovess, 2 no_vests, 3.4ms\n",
      "video 2/4 (frame 572/646) f:\\PRACA_MAGISTERSKA\\DATASETS\\PREDYKCJA\\videos\\pieknie.webm: 384x640 1 no_glasses, 3 no_glovess, 2 no_vests, 3.4ms\n",
      "video 2/4 (frame 573/646) f:\\PRACA_MAGISTERSKA\\DATASETS\\PREDYKCJA\\videos\\pieknie.webm: 384x640 1 no_glasses, 4 no_glovess, 2 no_vests, 3.4ms\n",
      "video 2/4 (frame 574/646) f:\\PRACA_MAGISTERSKA\\DATASETS\\PREDYKCJA\\videos\\pieknie.webm: 384x640 1 no_glasses, 4 no_glovess, 2 no_vests, 3.4ms\n",
      "video 2/4 (frame 575/646) f:\\PRACA_MAGISTERSKA\\DATASETS\\PREDYKCJA\\videos\\pieknie.webm: 384x640 2 no_glassess, 3 no_glovess, 2 no_vests, 3.4ms\n",
      "video 2/4 (frame 576/646) f:\\PRACA_MAGISTERSKA\\DATASETS\\PREDYKCJA\\videos\\pieknie.webm: 384x640 1 no_glasses, 3 no_glovess, 2 no_vests, 3.4ms\n",
      "video 2/4 (frame 577/646) f:\\PRACA_MAGISTERSKA\\DATASETS\\PREDYKCJA\\videos\\pieknie.webm: 384x640 1 no_glasses, 5 no_glovess, 2 no_vests, 3.4ms\n",
      "video 2/4 (frame 578/646) f:\\PRACA_MAGISTERSKA\\DATASETS\\PREDYKCJA\\videos\\pieknie.webm: 384x640 1 no_glasses, 5 no_glovess, 2 no_vests, 3.4ms\n",
      "video 2/4 (frame 579/646) f:\\PRACA_MAGISTERSKA\\DATASETS\\PREDYKCJA\\videos\\pieknie.webm: 384x640 1 no_glasses, 3 no_glovess, 2 no_vests, 3.4ms\n",
      "video 2/4 (frame 580/646) f:\\PRACA_MAGISTERSKA\\DATASETS\\PREDYKCJA\\videos\\pieknie.webm: 384x640 1 no_glasses, 3 no_glovess, 2 no_vests, 3.4ms\n",
      "video 2/4 (frame 581/646) f:\\PRACA_MAGISTERSKA\\DATASETS\\PREDYKCJA\\videos\\pieknie.webm: 384x640 1 no_glasses, 3 no_glovess, 2 no_vests, 3.4ms\n",
      "video 2/4 (frame 582/646) f:\\PRACA_MAGISTERSKA\\DATASETS\\PREDYKCJA\\videos\\pieknie.webm: 384x640 1 no_glasses, 4 no_glovess, 3 no_vests, 3.4ms\n",
      "video 2/4 (frame 583/646) f:\\PRACA_MAGISTERSKA\\DATASETS\\PREDYKCJA\\videos\\pieknie.webm: 384x640 1 no_glasses, 4 no_glovess, 2 no_vests, 3.4ms\n",
      "video 2/4 (frame 584/646) f:\\PRACA_MAGISTERSKA\\DATASETS\\PREDYKCJA\\videos\\pieknie.webm: 384x640 2 no_glassess, 3 no_glovess, 2 no_vests, 3.4ms\n",
      "video 2/4 (frame 585/646) f:\\PRACA_MAGISTERSKA\\DATASETS\\PREDYKCJA\\videos\\pieknie.webm: 384x640 1 no_glasses, 3 no_glovess, 2 no_vests, 3.4ms\n",
      "video 2/4 (frame 586/646) f:\\PRACA_MAGISTERSKA\\DATASETS\\PREDYKCJA\\videos\\pieknie.webm: 384x640 1 no_glasses, 4 no_glovess, 2 no_vests, 3.4ms\n",
      "video 2/4 (frame 587/646) f:\\PRACA_MAGISTERSKA\\DATASETS\\PREDYKCJA\\videos\\pieknie.webm: 384x640 1 no_glasses, 4 no_glovess, 2 no_vests, 3.4ms\n",
      "video 2/4 (frame 588/646) f:\\PRACA_MAGISTERSKA\\DATASETS\\PREDYKCJA\\videos\\pieknie.webm: 384x640 1 no_glasses, 5 no_glovess, 2 no_vests, 3.4ms\n",
      "video 2/4 (frame 589/646) f:\\PRACA_MAGISTERSKA\\DATASETS\\PREDYKCJA\\videos\\pieknie.webm: 384x640 1 no_glasses, 4 no_glovess, 2 no_vests, 3.4ms\n",
      "video 2/4 (frame 590/646) f:\\PRACA_MAGISTERSKA\\DATASETS\\PREDYKCJA\\videos\\pieknie.webm: 384x640 1 no_glasses, 4 no_glovess, 2 no_vests, 3.4ms\n",
      "video 2/4 (frame 591/646) f:\\PRACA_MAGISTERSKA\\DATASETS\\PREDYKCJA\\videos\\pieknie.webm: 384x640 1 no_glasses, 4 no_glovess, 2 no_vests, 3.4ms\n",
      "video 2/4 (frame 592/646) f:\\PRACA_MAGISTERSKA\\DATASETS\\PREDYKCJA\\videos\\pieknie.webm: 384x640 1 no_glasses, 5 no_glovess, 2 no_vests, 3.4ms\n",
      "video 2/4 (frame 593/646) f:\\PRACA_MAGISTERSKA\\DATASETS\\PREDYKCJA\\videos\\pieknie.webm: 384x640 1 no_glasses, 3 no_glovess, 2 no_vests, 3.4ms\n",
      "video 2/4 (frame 594/646) f:\\PRACA_MAGISTERSKA\\DATASETS\\PREDYKCJA\\videos\\pieknie.webm: 384x640 1 no_glasses, 3 no_glovess, 2 no_vests, 3.4ms\n",
      "video 2/4 (frame 595/646) f:\\PRACA_MAGISTERSKA\\DATASETS\\PREDYKCJA\\videos\\pieknie.webm: 384x640 1 no_glasses, 3 no_glovess, 2 no_vests, 3.4ms\n",
      "video 2/4 (frame 596/646) f:\\PRACA_MAGISTERSKA\\DATASETS\\PREDYKCJA\\videos\\pieknie.webm: 384x640 1 no_glasses, 2 no_glovess, 2 no_vests, 3.4ms\n",
      "video 2/4 (frame 597/646) f:\\PRACA_MAGISTERSKA\\DATASETS\\PREDYKCJA\\videos\\pieknie.webm: 384x640 1 no_glasses, 3 no_glovess, 2 no_vests, 3.4ms\n",
      "video 2/4 (frame 598/646) f:\\PRACA_MAGISTERSKA\\DATASETS\\PREDYKCJA\\videos\\pieknie.webm: 384x640 1 no_glasses, 3 no_glovess, 2 no_vests, 3.4ms\n",
      "video 2/4 (frame 599/646) f:\\PRACA_MAGISTERSKA\\DATASETS\\PREDYKCJA\\videos\\pieknie.webm: 384x640 1 no_glasses, 3 no_glovess, 2 no_vests, 3.4ms\n",
      "video 2/4 (frame 600/646) f:\\PRACA_MAGISTERSKA\\DATASETS\\PREDYKCJA\\videos\\pieknie.webm: 384x640 2 no_glassess, 3 no_glovess, 2 no_vests, 3.4ms\n",
      "video 2/4 (frame 601/646) f:\\PRACA_MAGISTERSKA\\DATASETS\\PREDYKCJA\\videos\\pieknie.webm: 384x640 2 no_glassess, 2 no_glovess, 2 no_vests, 3.4ms\n",
      "video 2/4 (frame 602/646) f:\\PRACA_MAGISTERSKA\\DATASETS\\PREDYKCJA\\videos\\pieknie.webm: 384x640 2 no_glassess, 3 no_glovess, 2 no_vests, 3.4ms\n",
      "video 2/4 (frame 603/646) f:\\PRACA_MAGISTERSKA\\DATASETS\\PREDYKCJA\\videos\\pieknie.webm: 384x640 2 no_glassess, 3 no_glovess, 2 no_vests, 3.4ms\n",
      "video 2/4 (frame 604/646) f:\\PRACA_MAGISTERSKA\\DATASETS\\PREDYKCJA\\videos\\pieknie.webm: 384x640 1 no_glasses, 3 no_glovess, 2 no_vests, 3.4ms\n",
      "video 2/4 (frame 605/646) f:\\PRACA_MAGISTERSKA\\DATASETS\\PREDYKCJA\\videos\\pieknie.webm: 384x640 1 no_glasses, 4 no_glovess, 2 no_vests, 3.4ms\n",
      "video 2/4 (frame 606/646) f:\\PRACA_MAGISTERSKA\\DATASETS\\PREDYKCJA\\videos\\pieknie.webm: 384x640 1 no_glasses, 2 no_glovess, 2 no_vests, 3.4ms\n",
      "video 2/4 (frame 607/646) f:\\PRACA_MAGISTERSKA\\DATASETS\\PREDYKCJA\\videos\\pieknie.webm: 384x640 1 no_glasses, 5 no_glovess, 2 no_vests, 3.4ms\n",
      "video 2/4 (frame 608/646) f:\\PRACA_MAGISTERSKA\\DATASETS\\PREDYKCJA\\videos\\pieknie.webm: 384x640 1 no_glasses, 4 no_glovess, 2 no_vests, 3.4ms\n",
      "video 2/4 (frame 609/646) f:\\PRACA_MAGISTERSKA\\DATASETS\\PREDYKCJA\\videos\\pieknie.webm: 384x640 1 no_glasses, 4 no_glovess, 2 no_vests, 3.4ms\n",
      "video 2/4 (frame 610/646) f:\\PRACA_MAGISTERSKA\\DATASETS\\PREDYKCJA\\videos\\pieknie.webm: 384x640 1 no_glasses, 4 no_glovess, 2 no_vests, 3.4ms\n",
      "video 2/4 (frame 611/646) f:\\PRACA_MAGISTERSKA\\DATASETS\\PREDYKCJA\\videos\\pieknie.webm: 384x640 1 no_glasses, 4 no_glovess, 2 no_vests, 3.4ms\n",
      "video 2/4 (frame 612/646) f:\\PRACA_MAGISTERSKA\\DATASETS\\PREDYKCJA\\videos\\pieknie.webm: 384x640 1 no_glasses, 4 no_glovess, 2 no_vests, 3.4ms\n",
      "video 2/4 (frame 613/646) f:\\PRACA_MAGISTERSKA\\DATASETS\\PREDYKCJA\\videos\\pieknie.webm: 384x640 1 no_glasses, 3 no_glovess, 2 no_vests, 3.4ms\n",
      "video 2/4 (frame 614/646) f:\\PRACA_MAGISTERSKA\\DATASETS\\PREDYKCJA\\videos\\pieknie.webm: 384x640 1 no_glasses, 4 no_glovess, 2 no_vests, 3.4ms\n",
      "video 2/4 (frame 615/646) f:\\PRACA_MAGISTERSKA\\DATASETS\\PREDYKCJA\\videos\\pieknie.webm: 384x640 2 no_glassess, 4 no_glovess, 2 no_vests, 3.4ms\n",
      "video 2/4 (frame 616/646) f:\\PRACA_MAGISTERSKA\\DATASETS\\PREDYKCJA\\videos\\pieknie.webm: 384x640 1 no_glasses, 4 no_glovess, 2 no_vests, 3.4ms\n",
      "video 2/4 (frame 617/646) f:\\PRACA_MAGISTERSKA\\DATASETS\\PREDYKCJA\\videos\\pieknie.webm: 384x640 1 no_glasses, 4 no_glovess, 2 no_vests, 3.4ms\n",
      "video 2/4 (frame 618/646) f:\\PRACA_MAGISTERSKA\\DATASETS\\PREDYKCJA\\videos\\pieknie.webm: 384x640 1 no_glasses, 4 no_glovess, 2 no_vests, 3.4ms\n",
      "video 2/4 (frame 619/646) f:\\PRACA_MAGISTERSKA\\DATASETS\\PREDYKCJA\\videos\\pieknie.webm: 384x640 1 no_glasses, 4 no_glovess, 2 no_vests, 3.4ms\n",
      "video 2/4 (frame 620/646) f:\\PRACA_MAGISTERSKA\\DATASETS\\PREDYKCJA\\videos\\pieknie.webm: 384x640 1 no_glasses, 4 no_glovess, 2 no_vests, 3.4ms\n",
      "video 2/4 (frame 621/646) f:\\PRACA_MAGISTERSKA\\DATASETS\\PREDYKCJA\\videos\\pieknie.webm: 384x640 1 no_glasses, 4 no_glovess, 2 no_vests, 3.4ms\n",
      "video 2/4 (frame 622/646) f:\\PRACA_MAGISTERSKA\\DATASETS\\PREDYKCJA\\videos\\pieknie.webm: 384x640 1 no_glasses, 4 no_glovess, 2 no_vests, 3.4ms\n",
      "video 2/4 (frame 623/646) f:\\PRACA_MAGISTERSKA\\DATASETS\\PREDYKCJA\\videos\\pieknie.webm: 384x640 1 no_glasses, 4 no_glovess, 2 no_vests, 3.4ms\n",
      "video 2/4 (frame 624/646) f:\\PRACA_MAGISTERSKA\\DATASETS\\PREDYKCJA\\videos\\pieknie.webm: 384x640 1 no_glasses, 5 no_glovess, 2 no_vests, 3.4ms\n",
      "video 2/4 (frame 625/646) f:\\PRACA_MAGISTERSKA\\DATASETS\\PREDYKCJA\\videos\\pieknie.webm: 384x640 1 no_glasses, 4 no_glovess, 2 no_vests, 3.4ms\n",
      "video 2/4 (frame 626/646) f:\\PRACA_MAGISTERSKA\\DATASETS\\PREDYKCJA\\videos\\pieknie.webm: 384x640 1 no_glasses, 4 no_glovess, 2 no_vests, 3.4ms\n",
      "video 2/4 (frame 627/646) f:\\PRACA_MAGISTERSKA\\DATASETS\\PREDYKCJA\\videos\\pieknie.webm: 384x640 1 no_glasses, 4 no_glovess, 2 no_vests, 3.4ms\n",
      "video 2/4 (frame 628/646) f:\\PRACA_MAGISTERSKA\\DATASETS\\PREDYKCJA\\videos\\pieknie.webm: 384x640 1 no_glasses, 4 no_glovess, 2 no_vests, 3.4ms\n",
      "video 2/4 (frame 629/646) f:\\PRACA_MAGISTERSKA\\DATASETS\\PREDYKCJA\\videos\\pieknie.webm: 384x640 1 no_glasses, 4 no_glovess, 2 no_vests, 3.4ms\n",
      "video 2/4 (frame 630/646) f:\\PRACA_MAGISTERSKA\\DATASETS\\PREDYKCJA\\videos\\pieknie.webm: 384x640 1 no_glasses, 4 no_glovess, 2 no_vests, 3.4ms\n",
      "video 2/4 (frame 631/646) f:\\PRACA_MAGISTERSKA\\DATASETS\\PREDYKCJA\\videos\\pieknie.webm: 384x640 1 no_glasses, 4 no_glovess, 2 no_vests, 3.4ms\n",
      "video 2/4 (frame 632/646) f:\\PRACA_MAGISTERSKA\\DATASETS\\PREDYKCJA\\videos\\pieknie.webm: 384x640 1 no_glasses, 4 no_glovess, 2 no_vests, 3.4ms\n",
      "video 2/4 (frame 633/646) f:\\PRACA_MAGISTERSKA\\DATASETS\\PREDYKCJA\\videos\\pieknie.webm: 384x640 2 no_glassess, 4 no_glovess, 2 no_vests, 3.4ms\n",
      "video 2/4 (frame 634/646) f:\\PRACA_MAGISTERSKA\\DATASETS\\PREDYKCJA\\videos\\pieknie.webm: 384x640 2 no_glassess, 4 no_glovess, 2 no_vests, 3.4ms\n",
      "video 2/4 (frame 635/646) f:\\PRACA_MAGISTERSKA\\DATASETS\\PREDYKCJA\\videos\\pieknie.webm: 384x640 1 no_glasses, 4 no_glovess, 2 no_vests, 3.4ms\n",
      "video 2/4 (frame 636/646) f:\\PRACA_MAGISTERSKA\\DATASETS\\PREDYKCJA\\videos\\pieknie.webm: 384x640 2 no_glassess, 4 no_glovess, 2 no_vests, 3.4ms\n",
      "video 2/4 (frame 637/646) f:\\PRACA_MAGISTERSKA\\DATASETS\\PREDYKCJA\\videos\\pieknie.webm: 384x640 1 no_glasses, 4 no_glovess, 2 no_vests, 3.4ms\n",
      "video 2/4 (frame 638/646) f:\\PRACA_MAGISTERSKA\\DATASETS\\PREDYKCJA\\videos\\pieknie.webm: 384x640 1 no_glasses, 4 no_glovess, 2 no_vests, 3.4ms\n",
      "video 2/4 (frame 639/646) f:\\PRACA_MAGISTERSKA\\DATASETS\\PREDYKCJA\\videos\\pieknie.webm: 384x640 1 no_glasses, 4 no_glovess, 2 no_vests, 3.4ms\n",
      "video 2/4 (frame 640/646) f:\\PRACA_MAGISTERSKA\\DATASETS\\PREDYKCJA\\videos\\pieknie.webm: 384x640 1 no_glasses, 4 no_glovess, 2 no_vests, 3.4ms\n",
      "video 2/4 (frame 641/646) f:\\PRACA_MAGISTERSKA\\DATASETS\\PREDYKCJA\\videos\\pieknie.webm: 384x640 1 no_glasses, 4 no_glovess, 2 no_vests, 3.4ms\n",
      "video 2/4 (frame 642/646) f:\\PRACA_MAGISTERSKA\\DATASETS\\PREDYKCJA\\videos\\pieknie.webm: 384x640 1 no_glasses, 4 no_glovess, 2 no_vests, 3.4ms\n",
      "video 2/4 (frame 643/646) f:\\PRACA_MAGISTERSKA\\DATASETS\\PREDYKCJA\\videos\\pieknie.webm: 384x640 1 no_glasses, 4 no_glovess, 2 no_vests, 3.4ms\n",
      "video 2/4 (frame 644/646) f:\\PRACA_MAGISTERSKA\\DATASETS\\PREDYKCJA\\videos\\pieknie.webm: 384x640 1 no_glasses, 4 no_glovess, 2 no_vests, 3.4ms\n",
      "video 2/4 (frame 645/646) f:\\PRACA_MAGISTERSKA\\DATASETS\\PREDYKCJA\\videos\\pieknie.webm: 384x640 1 no_glasses, 4 no_glovess, 2 no_vests, 3.4ms\n",
      "video 3/4 (frame 1/258) f:\\PRACA_MAGISTERSKA\\DATASETS\\PREDYKCJA\\videos\\slabe.webm: 384x640 2 no_glassess, 7 no_glovess, 4 no_helmets, 4 no_vests, 3.4ms\n",
      "video 3/4 (frame 2/258) f:\\PRACA_MAGISTERSKA\\DATASETS\\PREDYKCJA\\videos\\slabe.webm: 384x640 2 no_glassess, 7 no_glovess, 4 no_helmets, 4 no_vests, 3.4ms\n",
      "video 3/4 (frame 3/258) f:\\PRACA_MAGISTERSKA\\DATASETS\\PREDYKCJA\\videos\\slabe.webm: 384x640 2 no_glassess, 7 no_glovess, 4 no_helmets, 4 no_vests, 3.4ms\n",
      "video 3/4 (frame 4/258) f:\\PRACA_MAGISTERSKA\\DATASETS\\PREDYKCJA\\videos\\slabe.webm: 384x640 3 no_glassess, 7 no_glovess, 3 no_helmets, 3 no_vests, 3.4ms\n",
      "video 3/4 (frame 5/258) f:\\PRACA_MAGISTERSKA\\DATASETS\\PREDYKCJA\\videos\\slabe.webm: 384x640 2 no_glassess, 7 no_glovess, 3 no_helmets, 3 no_vests, 3.4ms\n",
      "video 3/4 (frame 6/258) f:\\PRACA_MAGISTERSKA\\DATASETS\\PREDYKCJA\\videos\\slabe.webm: 384x640 2 no_glassess, 7 no_glovess, 3 no_helmets, 3 no_vests, 3.4ms\n",
      "video 3/4 (frame 7/258) f:\\PRACA_MAGISTERSKA\\DATASETS\\PREDYKCJA\\videos\\slabe.webm: 384x640 2 no_glassess, 7 no_glovess, 4 no_helmets, 3 no_vests, 3.4ms\n",
      "video 3/4 (frame 8/258) f:\\PRACA_MAGISTERSKA\\DATASETS\\PREDYKCJA\\videos\\slabe.webm: 384x640 2 no_glassess, 7 no_glovess, 3 no_helmets, 4 no_vests, 3.4ms\n",
      "video 3/4 (frame 9/258) f:\\PRACA_MAGISTERSKA\\DATASETS\\PREDYKCJA\\videos\\slabe.webm: 384x640 2 no_glassess, 6 no_glovess, 4 no_helmets, 4 no_vests, 3.4ms\n",
      "video 3/4 (frame 10/258) f:\\PRACA_MAGISTERSKA\\DATASETS\\PREDYKCJA\\videos\\slabe.webm: 384x640 2 no_glassess, 6 no_glovess, 3 no_helmets, 4 no_vests, 3.4ms\n",
      "video 3/4 (frame 11/258) f:\\PRACA_MAGISTERSKA\\DATASETS\\PREDYKCJA\\videos\\slabe.webm: 384x640 2 no_glassess, 6 no_glovess, 4 no_helmets, 3 no_vests, 3.4ms\n",
      "video 3/4 (frame 12/258) f:\\PRACA_MAGISTERSKA\\DATASETS\\PREDYKCJA\\videos\\slabe.webm: 384x640 2 no_glassess, 7 no_glovess, 4 no_helmets, 4 no_vests, 3.4ms\n",
      "video 3/4 (frame 13/258) f:\\PRACA_MAGISTERSKA\\DATASETS\\PREDYKCJA\\videos\\slabe.webm: 384x640 3 no_glassess, 7 no_glovess, 4 no_helmets, 4 no_vests, 3.4ms\n",
      "video 3/4 (frame 14/258) f:\\PRACA_MAGISTERSKA\\DATASETS\\PREDYKCJA\\videos\\slabe.webm: 384x640 2 no_glassess, 6 no_glovess, 4 no_helmets, 4 no_vests, 3.4ms\n",
      "video 3/4 (frame 15/258) f:\\PRACA_MAGISTERSKA\\DATASETS\\PREDYKCJA\\videos\\slabe.webm: 384x640 2 no_glassess, 6 no_glovess, 4 no_helmets, 4 no_vests, 3.4ms\n",
      "video 3/4 (frame 16/258) f:\\PRACA_MAGISTERSKA\\DATASETS\\PREDYKCJA\\videos\\slabe.webm: 384x640 2 no_glassess, 6 no_glovess, 4 no_helmets, 3 no_vests, 3.4ms\n",
      "video 3/4 (frame 17/258) f:\\PRACA_MAGISTERSKA\\DATASETS\\PREDYKCJA\\videos\\slabe.webm: 384x640 2 no_glassess, 7 no_glovess, 4 no_helmets, 4 no_vests, 3.4ms\n",
      "video 3/4 (frame 18/258) f:\\PRACA_MAGISTERSKA\\DATASETS\\PREDYKCJA\\videos\\slabe.webm: 384x640 2 no_glassess, 6 no_glovess, 4 no_helmets, 4 no_vests, 3.4ms\n",
      "video 3/4 (frame 19/258) f:\\PRACA_MAGISTERSKA\\DATASETS\\PREDYKCJA\\videos\\slabe.webm: 384x640 2 no_glassess, 5 no_glovess, 4 no_helmets, 4 no_vests, 3.4ms\n",
      "video 3/4 (frame 20/258) f:\\PRACA_MAGISTERSKA\\DATASETS\\PREDYKCJA\\videos\\slabe.webm: 384x640 2 no_glassess, 6 no_glovess, 3 no_helmets, 4 no_vests, 3.4ms\n",
      "video 3/4 (frame 21/258) f:\\PRACA_MAGISTERSKA\\DATASETS\\PREDYKCJA\\videos\\slabe.webm: 384x640 2 no_glassess, 6 no_glovess, 4 no_helmets, 5 no_vests, 3.4ms\n",
      "video 3/4 (frame 22/258) f:\\PRACA_MAGISTERSKA\\DATASETS\\PREDYKCJA\\videos\\slabe.webm: 384x640 2 no_glassess, 6 no_glovess, 4 no_helmets, 4 no_vests, 3.4ms\n",
      "video 3/4 (frame 23/258) f:\\PRACA_MAGISTERSKA\\DATASETS\\PREDYKCJA\\videos\\slabe.webm: 384x640 2 no_glassess, 6 no_glovess, 4 no_helmets, 4 no_vests, 3.4ms\n",
      "video 3/4 (frame 24/258) f:\\PRACA_MAGISTERSKA\\DATASETS\\PREDYKCJA\\videos\\slabe.webm: 384x640 1 no_glasses, 7 no_glovess, 3 no_helmets, 4 no_vests, 3.4ms\n",
      "video 3/4 (frame 25/258) f:\\PRACA_MAGISTERSKA\\DATASETS\\PREDYKCJA\\videos\\slabe.webm: 384x640 2 no_glassess, 8 no_glovess, 4 no_helmets, 4 no_vests, 3.4ms\n",
      "video 3/4 (frame 26/258) f:\\PRACA_MAGISTERSKA\\DATASETS\\PREDYKCJA\\videos\\slabe.webm: 384x640 2 no_glassess, 7 no_glovess, 3 no_helmets, 4 no_vests, 3.4ms\n",
      "video 3/4 (frame 27/258) f:\\PRACA_MAGISTERSKA\\DATASETS\\PREDYKCJA\\videos\\slabe.webm: 384x640 1 no_glasses, 6 no_glovess, 4 no_helmets, 4 no_vests, 3.4ms\n",
      "video 3/4 (frame 28/258) f:\\PRACA_MAGISTERSKA\\DATASETS\\PREDYKCJA\\videos\\slabe.webm: 384x640 1 no_glasses, 6 no_glovess, 3 no_helmets, 4 no_vests, 3.4ms\n",
      "video 3/4 (frame 29/258) f:\\PRACA_MAGISTERSKA\\DATASETS\\PREDYKCJA\\videos\\slabe.webm: 384x640 1 no_glasses, 6 no_glovess, 3 no_helmets, 4 no_vests, 3.4ms\n",
      "video 3/4 (frame 30/258) f:\\PRACA_MAGISTERSKA\\DATASETS\\PREDYKCJA\\videos\\slabe.webm: 384x640 1 no_glasses, 7 no_glovess, 3 no_helmets, 4 no_vests, 3.4ms\n",
      "video 3/4 (frame 31/258) f:\\PRACA_MAGISTERSKA\\DATASETS\\PREDYKCJA\\videos\\slabe.webm: 384x640 1 no_glasses, 6 no_glovess, 3 no_helmets, 4 no_vests, 3.4ms\n",
      "video 3/4 (frame 32/258) f:\\PRACA_MAGISTERSKA\\DATASETS\\PREDYKCJA\\videos\\slabe.webm: 384x640 1 no_glasses, 5 no_glovess, 3 no_helmets, 4 no_vests, 3.4ms\n",
      "video 3/4 (frame 33/258) f:\\PRACA_MAGISTERSKA\\DATASETS\\PREDYKCJA\\videos\\slabe.webm: 384x640 1 no_glasses, 5 no_glovess, 3 no_helmets, 4 no_vests, 3.4ms\n",
      "video 3/4 (frame 34/258) f:\\PRACA_MAGISTERSKA\\DATASETS\\PREDYKCJA\\videos\\slabe.webm: 384x640 1 no_glasses, 5 no_glovess, 3 no_helmets, 4 no_vests, 3.4ms\n",
      "video 3/4 (frame 35/258) f:\\PRACA_MAGISTERSKA\\DATASETS\\PREDYKCJA\\videos\\slabe.webm: 384x640 1 no_glasses, 5 no_glovess, 3 no_helmets, 4 no_vests, 3.4ms\n",
      "video 3/4 (frame 36/258) f:\\PRACA_MAGISTERSKA\\DATASETS\\PREDYKCJA\\videos\\slabe.webm: 384x640 1 no_glasses, 5 no_glovess, 3 no_helmets, 4 no_vests, 3.4ms\n",
      "video 3/4 (frame 37/258) f:\\PRACA_MAGISTERSKA\\DATASETS\\PREDYKCJA\\videos\\slabe.webm: 384x640 2 no_glassess, 5 no_glovess, 2 no_helmets, 4 no_vests, 3.4ms\n",
      "video 3/4 (frame 38/258) f:\\PRACA_MAGISTERSKA\\DATASETS\\PREDYKCJA\\videos\\slabe.webm: 384x640 2 no_glassess, 5 no_glovess, 2 no_helmets, 4 no_vests, 3.4ms\n",
      "video 3/4 (frame 39/258) f:\\PRACA_MAGISTERSKA\\DATASETS\\PREDYKCJA\\videos\\slabe.webm: 384x640 2 no_glassess, 6 no_glovess, 4 no_helmets, 4 no_vests, 3.4ms\n",
      "video 3/4 (frame 40/258) f:\\PRACA_MAGISTERSKA\\DATASETS\\PREDYKCJA\\videos\\slabe.webm: 384x640 2 no_glassess, 6 no_glovess, 4 no_helmets, 4 no_vests, 3.4ms\n",
      "video 3/4 (frame 41/258) f:\\PRACA_MAGISTERSKA\\DATASETS\\PREDYKCJA\\videos\\slabe.webm: 384x640 2 no_glassess, 7 no_glovess, 2 no_helmets, 4 no_vests, 3.4ms\n",
      "video 3/4 (frame 42/258) f:\\PRACA_MAGISTERSKA\\DATASETS\\PREDYKCJA\\videos\\slabe.webm: 384x640 2 no_glassess, 7 no_glovess, 4 no_helmets, 4 no_vests, 3.4ms\n",
      "video 3/4 (frame 43/258) f:\\PRACA_MAGISTERSKA\\DATASETS\\PREDYKCJA\\videos\\slabe.webm: 384x640 2 no_glassess, 7 no_glovess, 3 no_helmets, 4 no_vests, 3.4ms\n",
      "video 3/4 (frame 44/258) f:\\PRACA_MAGISTERSKA\\DATASETS\\PREDYKCJA\\videos\\slabe.webm: 384x640 2 no_glassess, 6 no_glovess, 3 no_helmets, 4 no_vests, 3.4ms\n",
      "video 3/4 (frame 45/258) f:\\PRACA_MAGISTERSKA\\DATASETS\\PREDYKCJA\\videos\\slabe.webm: 384x640 2 no_glassess, 7 no_glovess, 4 no_helmets, 4 no_vests, 3.4ms\n",
      "video 3/4 (frame 46/258) f:\\PRACA_MAGISTERSKA\\DATASETS\\PREDYKCJA\\videos\\slabe.webm: 384x640 2 no_glassess, 6 no_glovess, 3 no_helmets, 4 no_vests, 3.4ms\n",
      "video 3/4 (frame 47/258) f:\\PRACA_MAGISTERSKA\\DATASETS\\PREDYKCJA\\videos\\slabe.webm: 384x640 2 no_glassess, 6 no_glovess, 3 no_helmets, 4 no_vests, 3.4ms\n",
      "video 3/4 (frame 48/258) f:\\PRACA_MAGISTERSKA\\DATASETS\\PREDYKCJA\\videos\\slabe.webm: 384x640 1 no_glasses, 5 no_glovess, 3 no_helmets, 4 no_vests, 3.4ms\n",
      "video 3/4 (frame 49/258) f:\\PRACA_MAGISTERSKA\\DATASETS\\PREDYKCJA\\videos\\slabe.webm: 384x640 6 no_glovess, 3 no_helmets, 4 no_vests, 3.4ms\n",
      "video 3/4 (frame 50/258) f:\\PRACA_MAGISTERSKA\\DATASETS\\PREDYKCJA\\videos\\slabe.webm: 384x640 6 no_glovess, 3 no_helmets, 4 no_vests, 3.4ms\n",
      "video 3/4 (frame 51/258) f:\\PRACA_MAGISTERSKA\\DATASETS\\PREDYKCJA\\videos\\slabe.webm: 384x640 1 no_glasses, 7 no_glovess, 3 no_helmets, 4 no_vests, 3.4ms\n",
      "video 3/4 (frame 52/258) f:\\PRACA_MAGISTERSKA\\DATASETS\\PREDYKCJA\\videos\\slabe.webm: 384x640 2 no_glassess, 8 no_glovess, 3 no_helmets, 4 no_vests, 3.4ms\n",
      "video 3/4 (frame 53/258) f:\\PRACA_MAGISTERSKA\\DATASETS\\PREDYKCJA\\videos\\slabe.webm: 384x640 2 no_glassess, 7 no_glovess, 4 no_helmets, 4 no_vests, 3.4ms\n",
      "video 3/4 (frame 54/258) f:\\PRACA_MAGISTERSKA\\DATASETS\\PREDYKCJA\\videos\\slabe.webm: 384x640 1 no_glasses, 7 no_glovess, 4 no_helmets, 4 no_vests, 3.4ms\n",
      "video 3/4 (frame 55/258) f:\\PRACA_MAGISTERSKA\\DATASETS\\PREDYKCJA\\videos\\slabe.webm: 384x640 2 no_glassess, 6 no_glovess, 3 no_helmets, 4 no_vests, 3.4ms\n",
      "video 3/4 (frame 56/258) f:\\PRACA_MAGISTERSKA\\DATASETS\\PREDYKCJA\\videos\\slabe.webm: 384x640 2 no_glassess, 6 no_glovess, 4 no_helmets, 4 no_vests, 3.4ms\n",
      "video 3/4 (frame 57/258) f:\\PRACA_MAGISTERSKA\\DATASETS\\PREDYKCJA\\videos\\slabe.webm: 384x640 2 no_glassess, 6 no_glovess, 4 no_helmets, 4 no_vests, 3.4ms\n",
      "video 3/4 (frame 58/258) f:\\PRACA_MAGISTERSKA\\DATASETS\\PREDYKCJA\\videos\\slabe.webm: 384x640 1 no_glasses, 6 no_glovess, 4 no_helmets, 4 no_vests, 3.4ms\n",
      "video 3/4 (frame 59/258) f:\\PRACA_MAGISTERSKA\\DATASETS\\PREDYKCJA\\videos\\slabe.webm: 384x640 1 no_glasses, 6 no_glovess, 4 no_helmets, 5 no_vests, 3.4ms\n",
      "video 3/4 (frame 60/258) f:\\PRACA_MAGISTERSKA\\DATASETS\\PREDYKCJA\\videos\\slabe.webm: 384x640 1 no_glasses, 6 no_glovess, 4 no_helmets, 4 no_vests, 3.4ms\n",
      "video 3/4 (frame 61/258) f:\\PRACA_MAGISTERSKA\\DATASETS\\PREDYKCJA\\videos\\slabe.webm: 384x640 1 no_glasses, 7 no_glovess, 4 no_helmets, 5 no_vests, 3.4ms\n",
      "video 3/4 (frame 62/258) f:\\PRACA_MAGISTERSKA\\DATASETS\\PREDYKCJA\\videos\\slabe.webm: 384x640 2 no_glassess, 5 no_glovess, 4 no_helmets, 5 no_vests, 3.4ms\n",
      "video 3/4 (frame 63/258) f:\\PRACA_MAGISTERSKA\\DATASETS\\PREDYKCJA\\videos\\slabe.webm: 384x640 2 no_glassess, 5 no_glovess, 5 no_helmets, 5 no_vests, 3.4ms\n",
      "video 3/4 (frame 64/258) f:\\PRACA_MAGISTERSKA\\DATASETS\\PREDYKCJA\\videos\\slabe.webm: 384x640 2 no_glassess, 5 no_glovess, 4 no_helmets, 4 no_vests, 3.4ms\n",
      "video 3/4 (frame 65/258) f:\\PRACA_MAGISTERSKA\\DATASETS\\PREDYKCJA\\videos\\slabe.webm: 384x640 2 no_glassess, 5 no_glovess, 4 no_helmets, 4 no_vests, 3.4ms\n",
      "video 3/4 (frame 66/258) f:\\PRACA_MAGISTERSKA\\DATASETS\\PREDYKCJA\\videos\\slabe.webm: 384x640 2 no_glassess, 6 no_glovess, 4 no_helmets, 5 no_vests, 3.4ms\n",
      "video 3/4 (frame 67/258) f:\\PRACA_MAGISTERSKA\\DATASETS\\PREDYKCJA\\videos\\slabe.webm: 384x640 1 no_glasses, 7 no_glovess, 4 no_helmets, 4 no_vests, 3.4ms\n",
      "video 3/4 (frame 68/258) f:\\PRACA_MAGISTERSKA\\DATASETS\\PREDYKCJA\\videos\\slabe.webm: 384x640 2 no_glassess, 7 no_glovess, 4 no_helmets, 4 no_vests, 3.4ms\n",
      "video 3/4 (frame 69/258) f:\\PRACA_MAGISTERSKA\\DATASETS\\PREDYKCJA\\videos\\slabe.webm: 384x640 2 no_glassess, 7 no_glovess, 4 no_helmets, 4 no_vests, 3.4ms\n",
      "video 3/4 (frame 70/258) f:\\PRACA_MAGISTERSKA\\DATASETS\\PREDYKCJA\\videos\\slabe.webm: 384x640 2 no_glassess, 6 no_glovess, 4 no_helmets, 4 no_vests, 3.4ms\n",
      "video 3/4 (frame 71/258) f:\\PRACA_MAGISTERSKA\\DATASETS\\PREDYKCJA\\videos\\slabe.webm: 384x640 2 no_glassess, 6 no_glovess, 4 no_helmets, 4 no_vests, 3.4ms\n",
      "video 3/4 (frame 72/258) f:\\PRACA_MAGISTERSKA\\DATASETS\\PREDYKCJA\\videos\\slabe.webm: 384x640 2 no_glassess, 7 no_glovess, 4 no_helmets, 4 no_vests, 3.4ms\n",
      "video 3/4 (frame 73/258) f:\\PRACA_MAGISTERSKA\\DATASETS\\PREDYKCJA\\videos\\slabe.webm: 384x640 2 no_glassess, 6 no_glovess, 4 no_helmets, 4 no_vests, 3.4ms\n",
      "video 3/4 (frame 74/258) f:\\PRACA_MAGISTERSKA\\DATASETS\\PREDYKCJA\\videos\\slabe.webm: 384x640 2 no_glassess, 6 no_glovess, 4 no_helmets, 4 no_vests, 3.4ms\n",
      "video 3/4 (frame 75/258) f:\\PRACA_MAGISTERSKA\\DATASETS\\PREDYKCJA\\videos\\slabe.webm: 384x640 2 no_glassess, 5 no_glovess, 4 no_helmets, 4 no_vests, 3.4ms\n",
      "video 3/4 (frame 76/258) f:\\PRACA_MAGISTERSKA\\DATASETS\\PREDYKCJA\\videos\\slabe.webm: 384x640 2 no_glassess, 5 no_glovess, 4 no_helmets, 4 no_vests, 3.4ms\n",
      "video 3/4 (frame 77/258) f:\\PRACA_MAGISTERSKA\\DATASETS\\PREDYKCJA\\videos\\slabe.webm: 384x640 2 no_glassess, 6 no_glovess, 3 no_helmets, 4 no_vests, 3.4ms\n",
      "video 3/4 (frame 78/258) f:\\PRACA_MAGISTERSKA\\DATASETS\\PREDYKCJA\\videos\\slabe.webm: 384x640 5 no_glovess, 3 no_helmets, 4 no_vests, 3.4ms\n",
      "video 3/4 (frame 79/258) f:\\PRACA_MAGISTERSKA\\DATASETS\\PREDYKCJA\\videos\\slabe.webm: 384x640 1 no_glasses, 5 no_glovess, 3 no_helmets, 4 no_vests, 3.4ms\n",
      "video 3/4 (frame 80/258) f:\\PRACA_MAGISTERSKA\\DATASETS\\PREDYKCJA\\videos\\slabe.webm: 384x640 1 no_glasses, 5 no_glovess, 4 no_helmets, 4 no_vests, 3.4ms\n",
      "video 3/4 (frame 81/258) f:\\PRACA_MAGISTERSKA\\DATASETS\\PREDYKCJA\\videos\\slabe.webm: 384x640 1 no_glasses, 6 no_glovess, 3 no_helmets, 5 no_vests, 3.4ms\n",
      "video 3/4 (frame 82/258) f:\\PRACA_MAGISTERSKA\\DATASETS\\PREDYKCJA\\videos\\slabe.webm: 384x640 1 no_glasses, 5 no_glovess, 4 no_helmets, 4 no_vests, 3.4ms\n",
      "video 3/4 (frame 83/258) f:\\PRACA_MAGISTERSKA\\DATASETS\\PREDYKCJA\\videos\\slabe.webm: 384x640 2 no_glassess, 5 no_glovess, 4 no_helmets, 4 no_vests, 3.4ms\n",
      "video 3/4 (frame 84/258) f:\\PRACA_MAGISTERSKA\\DATASETS\\PREDYKCJA\\videos\\slabe.webm: 384x640 2 no_glassess, 7 no_glovess, 3 no_helmets, 4 no_vests, 3.4ms\n",
      "video 3/4 (frame 85/258) f:\\PRACA_MAGISTERSKA\\DATASETS\\PREDYKCJA\\videos\\slabe.webm: 384x640 2 no_glassess, 7 no_glovess, 3 no_helmets, 4 no_vests, 3.4ms\n",
      "video 3/4 (frame 86/258) f:\\PRACA_MAGISTERSKA\\DATASETS\\PREDYKCJA\\videos\\slabe.webm: 384x640 2 no_glassess, 7 no_glovess, 3 no_helmets, 4 no_vests, 3.4ms\n",
      "video 3/4 (frame 87/258) f:\\PRACA_MAGISTERSKA\\DATASETS\\PREDYKCJA\\videos\\slabe.webm: 384x640 2 no_glassess, 7 no_glovess, 3 no_helmets, 4 no_vests, 3.4ms\n",
      "video 3/4 (frame 88/258) f:\\PRACA_MAGISTERSKA\\DATASETS\\PREDYKCJA\\videos\\slabe.webm: 384x640 1 no_glasses, 7 no_glovess, 3 no_helmets, 4 no_vests, 3.4ms\n",
      "video 3/4 (frame 89/258) f:\\PRACA_MAGISTERSKA\\DATASETS\\PREDYKCJA\\videos\\slabe.webm: 384x640 1 no_glasses, 7 no_glovess, 4 no_helmets, 4 no_vests, 3.5ms\n",
      "video 3/4 (frame 90/258) f:\\PRACA_MAGISTERSKA\\DATASETS\\PREDYKCJA\\videos\\slabe.webm: 384x640 1 no_glasses, 8 no_glovess, 3 no_helmets, 4 no_vests, 3.5ms\n",
      "video 3/4 (frame 91/258) f:\\PRACA_MAGISTERSKA\\DATASETS\\PREDYKCJA\\videos\\slabe.webm: 384x640 1 no_glasses, 7 no_glovess, 4 no_helmets, 3 no_vests, 3.5ms\n",
      "video 3/4 (frame 92/258) f:\\PRACA_MAGISTERSKA\\DATASETS\\PREDYKCJA\\videos\\slabe.webm: 384x640 2 no_glassess, 6 no_glovess, 4 no_helmets, 4 no_vests, 3.5ms\n",
      "video 3/4 (frame 93/258) f:\\PRACA_MAGISTERSKA\\DATASETS\\PREDYKCJA\\videos\\slabe.webm: 384x640 2 no_glassess, 7 no_glovess, 4 no_helmets, 4 no_vests, 3.5ms\n",
      "video 3/4 (frame 94/258) f:\\PRACA_MAGISTERSKA\\DATASETS\\PREDYKCJA\\videos\\slabe.webm: 384x640 2 no_glassess, 7 no_glovess, 3 no_helmets, 4 no_vests, 3.5ms\n",
      "video 3/4 (frame 95/258) f:\\PRACA_MAGISTERSKA\\DATASETS\\PREDYKCJA\\videos\\slabe.webm: 384x640 2 no_glassess, 7 no_glovess, 3 no_helmets, 4 no_vests, 3.5ms\n",
      "video 3/4 (frame 96/258) f:\\PRACA_MAGISTERSKA\\DATASETS\\PREDYKCJA\\videos\\slabe.webm: 384x640 2 no_glassess, 6 no_glovess, 3 no_helmets, 4 no_vests, 3.5ms\n",
      "video 3/4 (frame 97/258) f:\\PRACA_MAGISTERSKA\\DATASETS\\PREDYKCJA\\videos\\slabe.webm: 384x640 2 no_glassess, 6 no_glovess, 3 no_helmets, 4 no_vests, 3.5ms\n",
      "video 3/4 (frame 98/258) f:\\PRACA_MAGISTERSKA\\DATASETS\\PREDYKCJA\\videos\\slabe.webm: 384x640 2 no_glassess, 6 no_glovess, 3 no_helmets, 5 no_vests, 3.5ms\n",
      "video 3/4 (frame 99/258) f:\\PRACA_MAGISTERSKA\\DATASETS\\PREDYKCJA\\videos\\slabe.webm: 384x640 1 no_glasses, 6 no_glovess, 4 no_helmets, 4 no_vests, 3.5ms\n",
      "video 3/4 (frame 100/258) f:\\PRACA_MAGISTERSKA\\DATASETS\\PREDYKCJA\\videos\\slabe.webm: 384x640 2 no_glassess, 6 no_glovess, 4 no_helmets, 5 no_vests, 3.5ms\n",
      "video 3/4 (frame 101/258) f:\\PRACA_MAGISTERSKA\\DATASETS\\PREDYKCJA\\videos\\slabe.webm: 384x640 1 no_glasses, 6 no_glovess, 4 no_helmets, 4 no_vests, 3.5ms\n",
      "video 3/4 (frame 102/258) f:\\PRACA_MAGISTERSKA\\DATASETS\\PREDYKCJA\\videos\\slabe.webm: 384x640 1 no_glasses, 7 no_glovess, 3 no_helmets, 4 no_vests, 3.5ms\n",
      "video 3/4 (frame 103/258) f:\\PRACA_MAGISTERSKA\\DATASETS\\PREDYKCJA\\videos\\slabe.webm: 384x640 1 no_glasses, 6 no_glovess, 3 no_helmets, 4 no_vests, 3.5ms\n",
      "video 3/4 (frame 104/258) f:\\PRACA_MAGISTERSKA\\DATASETS\\PREDYKCJA\\videos\\slabe.webm: 384x640 1 no_glasses, 6 no_glovess, 3 no_helmets, 4 no_vests, 3.5ms\n",
      "video 3/4 (frame 105/258) f:\\PRACA_MAGISTERSKA\\DATASETS\\PREDYKCJA\\videos\\slabe.webm: 384x640 1 no_glasses, 7 no_glovess, 4 no_helmets, 4 no_vests, 3.5ms\n",
      "video 3/4 (frame 106/258) f:\\PRACA_MAGISTERSKA\\DATASETS\\PREDYKCJA\\videos\\slabe.webm: 384x640 1 no_glasses, 6 no_glovess, 4 no_helmets, 4 no_vests, 3.5ms\n",
      "video 3/4 (frame 107/258) f:\\PRACA_MAGISTERSKA\\DATASETS\\PREDYKCJA\\videos\\slabe.webm: 384x640 1 no_glasses, 6 no_glovess, 4 no_helmets, 4 no_vests, 3.5ms\n",
      "video 3/4 (frame 108/258) f:\\PRACA_MAGISTERSKA\\DATASETS\\PREDYKCJA\\videos\\slabe.webm: 384x640 1 no_glasses, 7 no_glovess, 4 no_helmets, 4 no_vests, 3.5ms\n",
      "video 3/4 (frame 109/258) f:\\PRACA_MAGISTERSKA\\DATASETS\\PREDYKCJA\\videos\\slabe.webm: 384x640 1 no_glasses, 5 no_glovess, 4 no_helmets, 4 no_vests, 3.5ms\n",
      "video 3/4 (frame 110/258) f:\\PRACA_MAGISTERSKA\\DATASETS\\PREDYKCJA\\videos\\slabe.webm: 384x640 1 no_glasses, 5 no_glovess, 4 no_helmets, 4 no_vests, 3.5ms\n",
      "video 3/4 (frame 111/258) f:\\PRACA_MAGISTERSKA\\DATASETS\\PREDYKCJA\\videos\\slabe.webm: 384x640 1 no_glasses, 5 no_glovess, 4 no_helmets, 4 no_vests, 3.5ms\n",
      "video 3/4 (frame 112/258) f:\\PRACA_MAGISTERSKA\\DATASETS\\PREDYKCJA\\videos\\slabe.webm: 384x640 2 no_glassess, 5 no_glovess, 4 no_helmets, 4 no_vests, 3.5ms\n",
      "video 3/4 (frame 113/258) f:\\PRACA_MAGISTERSKA\\DATASETS\\PREDYKCJA\\videos\\slabe.webm: 384x640 1 no_glasses, 5 no_glovess, 4 no_helmets, 4 no_vests, 3.5ms\n",
      "video 3/4 (frame 114/258) f:\\PRACA_MAGISTERSKA\\DATASETS\\PREDYKCJA\\videos\\slabe.webm: 384x640 1 no_glasses, 6 no_glovess, 4 no_helmets, 4 no_vests, 3.5ms\n",
      "video 3/4 (frame 115/258) f:\\PRACA_MAGISTERSKA\\DATASETS\\PREDYKCJA\\videos\\slabe.webm: 384x640 2 no_glassess, 5 no_glovess, 5 no_helmets, 4 no_vests, 3.5ms\n",
      "video 3/4 (frame 116/258) f:\\PRACA_MAGISTERSKA\\DATASETS\\PREDYKCJA\\videos\\slabe.webm: 384x640 2 no_glassess, 5 no_glovess, 4 no_helmets, 4 no_vests, 3.5ms\n",
      "video 3/4 (frame 117/258) f:\\PRACA_MAGISTERSKA\\DATASETS\\PREDYKCJA\\videos\\slabe.webm: 384x640 1 no_glasses, 5 no_glovess, 4 no_helmets, 4 no_vests, 3.5ms\n",
      "video 3/4 (frame 118/258) f:\\PRACA_MAGISTERSKA\\DATASETS\\PREDYKCJA\\videos\\slabe.webm: 384x640 1 no_glasses, 6 no_glovess, 4 no_helmets, 4 no_vests, 3.5ms\n",
      "video 3/4 (frame 119/258) f:\\PRACA_MAGISTERSKA\\DATASETS\\PREDYKCJA\\videos\\slabe.webm: 384x640 7 no_glovess, 4 no_helmets, 4 no_vests, 3.5ms\n",
      "video 3/4 (frame 120/258) f:\\PRACA_MAGISTERSKA\\DATASETS\\PREDYKCJA\\videos\\slabe.webm: 384x640 6 no_glovess, 3 no_helmets, 4 no_vests, 3.5ms\n",
      "video 3/4 (frame 121/258) f:\\PRACA_MAGISTERSKA\\DATASETS\\PREDYKCJA\\videos\\slabe.webm: 384x640 1 no_glasses, 6 no_glovess, 4 no_helmets, 4 no_vests, 3.5ms\n",
      "video 3/4 (frame 122/258) f:\\PRACA_MAGISTERSKA\\DATASETS\\PREDYKCJA\\videos\\slabe.webm: 384x640 1 no_glasses, 6 no_glovess, 4 no_helmets, 4 no_vests, 3.5ms\n",
      "video 3/4 (frame 123/258) f:\\PRACA_MAGISTERSKA\\DATASETS\\PREDYKCJA\\videos\\slabe.webm: 384x640 1 no_glasses, 6 no_glovess, 4 no_helmets, 4 no_vests, 3.5ms\n",
      "video 3/4 (frame 124/258) f:\\PRACA_MAGISTERSKA\\DATASETS\\PREDYKCJA\\videos\\slabe.webm: 384x640 1 no_glasses, 6 no_glovess, 5 no_helmets, 4 no_vests, 3.5ms\n",
      "video 3/4 (frame 125/258) f:\\PRACA_MAGISTERSKA\\DATASETS\\PREDYKCJA\\videos\\slabe.webm: 384x640 1 no_glasses, 6 no_glovess, 4 no_helmets, 4 no_vests, 3.5ms\n",
      "video 3/4 (frame 126/258) f:\\PRACA_MAGISTERSKA\\DATASETS\\PREDYKCJA\\videos\\slabe.webm: 384x640 1 no_glasses, 6 no_glovess, 4 no_helmets, 4 no_vests, 3.5ms\n",
      "video 3/4 (frame 127/258) f:\\PRACA_MAGISTERSKA\\DATASETS\\PREDYKCJA\\videos\\slabe.webm: 384x640 1 no_glasses, 7 no_glovess, 4 no_helmets, 4 no_vests, 3.5ms\n",
      "video 3/4 (frame 128/258) f:\\PRACA_MAGISTERSKA\\DATASETS\\PREDYKCJA\\videos\\slabe.webm: 384x640 1 no_glasses, 6 no_glovess, 4 no_helmets, 4 no_vests, 3.5ms\n",
      "video 3/4 (frame 129/258) f:\\PRACA_MAGISTERSKA\\DATASETS\\PREDYKCJA\\videos\\slabe.webm: 384x640 1 no_glasses, 6 no_glovess, 4 no_helmets, 4 no_vests, 3.5ms\n",
      "video 3/4 (frame 130/258) f:\\PRACA_MAGISTERSKA\\DATASETS\\PREDYKCJA\\videos\\slabe.webm: 384x640 2 no_glassess, 6 no_glovess, 4 no_helmets, 3 no_vests, 3.5ms\n",
      "video 3/4 (frame 131/258) f:\\PRACA_MAGISTERSKA\\DATASETS\\PREDYKCJA\\videos\\slabe.webm: 384x640 1 no_glasses, 6 no_glovess, 5 no_helmets, 4 no_vests, 3.5ms\n",
      "video 3/4 (frame 132/258) f:\\PRACA_MAGISTERSKA\\DATASETS\\PREDYKCJA\\videos\\slabe.webm: 384x640 1 no_glasses, 6 no_glovess, 4 no_helmets, 4 no_vests, 3.5ms\n",
      "video 3/4 (frame 133/258) f:\\PRACA_MAGISTERSKA\\DATASETS\\PREDYKCJA\\videos\\slabe.webm: 384x640 1 no_glasses, 6 no_glovess, 4 no_helmets, 4 no_vests, 3.5ms\n",
      "video 3/4 (frame 134/258) f:\\PRACA_MAGISTERSKA\\DATASETS\\PREDYKCJA\\videos\\slabe.webm: 384x640 1 no_glasses, 6 no_glovess, 4 no_helmets, 4 no_vests, 3.5ms\n",
      "video 3/4 (frame 135/258) f:\\PRACA_MAGISTERSKA\\DATASETS\\PREDYKCJA\\videos\\slabe.webm: 384x640 2 no_glassess, 6 no_glovess, 4 no_helmets, 3 no_vests, 3.5ms\n",
      "video 3/4 (frame 136/258) f:\\PRACA_MAGISTERSKA\\DATASETS\\PREDYKCJA\\videos\\slabe.webm: 384x640 1 no_glasses, 6 no_glovess, 4 no_helmets, 4 no_vests, 3.5ms\n",
      "video 3/4 (frame 137/258) f:\\PRACA_MAGISTERSKA\\DATASETS\\PREDYKCJA\\videos\\slabe.webm: 384x640 6 no_glovess, 4 no_helmets, 3 no_vests, 3.5ms\n",
      "video 3/4 (frame 138/258) f:\\PRACA_MAGISTERSKA\\DATASETS\\PREDYKCJA\\videos\\slabe.webm: 384x640 1 no_glasses, 6 no_glovess, 4 no_helmets, 4 no_vests, 3.5ms\n",
      "video 3/4 (frame 139/258) f:\\PRACA_MAGISTERSKA\\DATASETS\\PREDYKCJA\\videos\\slabe.webm: 384x640 1 no_glasses, 6 no_glovess, 4 no_helmets, 4 no_vests, 3.5ms\n",
      "video 3/4 (frame 140/258) f:\\PRACA_MAGISTERSKA\\DATASETS\\PREDYKCJA\\videos\\slabe.webm: 384x640 2 no_glassess, 6 no_glovess, 4 no_helmets, 4 no_vests, 3.5ms\n",
      "video 3/4 (frame 141/258) f:\\PRACA_MAGISTERSKA\\DATASETS\\PREDYKCJA\\videos\\slabe.webm: 384x640 6 no_glovess, 4 no_helmets, 4 no_vests, 3.5ms\n",
      "video 3/4 (frame 142/258) f:\\PRACA_MAGISTERSKA\\DATASETS\\PREDYKCJA\\videos\\slabe.webm: 384x640 6 no_glovess, 4 no_helmets, 4 no_vests, 3.5ms\n",
      "video 3/4 (frame 143/258) f:\\PRACA_MAGISTERSKA\\DATASETS\\PREDYKCJA\\videos\\slabe.webm: 384x640 1 no_glasses, 6 no_glovess, 4 no_helmets, 4 no_vests, 3.5ms\n",
      "video 3/4 (frame 144/258) f:\\PRACA_MAGISTERSKA\\DATASETS\\PREDYKCJA\\videos\\slabe.webm: 384x640 1 no_glasses, 6 no_glovess, 4 no_helmets, 3 no_vests, 3.5ms\n",
      "video 3/4 (frame 145/258) f:\\PRACA_MAGISTERSKA\\DATASETS\\PREDYKCJA\\videos\\slabe.webm: 384x640 1 no_glasses, 7 no_glovess, 4 no_helmets, 4 no_vests, 3.5ms\n",
      "video 3/4 (frame 146/258) f:\\PRACA_MAGISTERSKA\\DATASETS\\PREDYKCJA\\videos\\slabe.webm: 384x640 1 no_glasses, 7 no_glovess, 4 no_helmets, 4 no_vests, 3.5ms\n",
      "video 3/4 (frame 147/258) f:\\PRACA_MAGISTERSKA\\DATASETS\\PREDYKCJA\\videos\\slabe.webm: 384x640 1 no_glasses, 6 no_glovess, 4 no_helmets, 4 no_vests, 3.5ms\n",
      "video 3/4 (frame 148/258) f:\\PRACA_MAGISTERSKA\\DATASETS\\PREDYKCJA\\videos\\slabe.webm: 384x640 2 no_glassess, 5 no_glovess, 4 no_helmets, 4 no_vests, 3.5ms\n",
      "video 3/4 (frame 149/258) f:\\PRACA_MAGISTERSKA\\DATASETS\\PREDYKCJA\\videos\\slabe.webm: 384x640 1 no_glasses, 6 no_glovess, 4 no_helmets, 4 no_vests, 3.5ms\n",
      "video 3/4 (frame 150/258) f:\\PRACA_MAGISTERSKA\\DATASETS\\PREDYKCJA\\videos\\slabe.webm: 384x640 1 no_glasses, 6 no_glovess, 4 no_helmets, 5 no_vests, 3.5ms\n",
      "video 3/4 (frame 151/258) f:\\PRACA_MAGISTERSKA\\DATASETS\\PREDYKCJA\\videos\\slabe.webm: 384x640 6 no_glovess, 4 no_helmets, 4 no_vests, 3.5ms\n",
      "video 3/4 (frame 152/258) f:\\PRACA_MAGISTERSKA\\DATASETS\\PREDYKCJA\\videos\\slabe.webm: 384x640 7 no_glovess, 4 no_helmets, 4 no_vests, 3.5ms\n",
      "video 3/4 (frame 153/258) f:\\PRACA_MAGISTERSKA\\DATASETS\\PREDYKCJA\\videos\\slabe.webm: 384x640 6 no_glovess, 4 no_helmets, 4 no_vests, 3.5ms\n",
      "video 3/4 (frame 154/258) f:\\PRACA_MAGISTERSKA\\DATASETS\\PREDYKCJA\\videos\\slabe.webm: 384x640 1 no_glasses, 7 no_glovess, 4 no_helmets, 4 no_vests, 3.5ms\n",
      "video 3/4 (frame 155/258) f:\\PRACA_MAGISTERSKA\\DATASETS\\PREDYKCJA\\videos\\slabe.webm: 384x640 6 no_glovess, 4 no_helmets, 4 no_vests, 3.5ms\n",
      "video 3/4 (frame 156/258) f:\\PRACA_MAGISTERSKA\\DATASETS\\PREDYKCJA\\videos\\slabe.webm: 384x640 6 no_glovess, 4 no_helmets, 4 no_vests, 3.5ms\n",
      "video 3/4 (frame 157/258) f:\\PRACA_MAGISTERSKA\\DATASETS\\PREDYKCJA\\videos\\slabe.webm: 384x640 6 no_glovess, 4 no_helmets, 4 no_vests, 3.5ms\n",
      "video 3/4 (frame 158/258) f:\\PRACA_MAGISTERSKA\\DATASETS\\PREDYKCJA\\videos\\slabe.webm: 384x640 6 no_glovess, 4 no_helmets, 4 no_vests, 3.5ms\n",
      "video 3/4 (frame 159/258) f:\\PRACA_MAGISTERSKA\\DATASETS\\PREDYKCJA\\videos\\slabe.webm: 384x640 6 no_glovess, 4 no_helmets, 4 no_vests, 3.5ms\n",
      "video 3/4 (frame 160/258) f:\\PRACA_MAGISTERSKA\\DATASETS\\PREDYKCJA\\videos\\slabe.webm: 384x640 6 no_glovess, 4 no_helmets, 4 no_vests, 3.5ms\n",
      "video 3/4 (frame 161/258) f:\\PRACA_MAGISTERSKA\\DATASETS\\PREDYKCJA\\videos\\slabe.webm: 384x640 5 no_glovess, 4 no_helmets, 4 no_vests, 3.5ms\n",
      "video 3/4 (frame 162/258) f:\\PRACA_MAGISTERSKA\\DATASETS\\PREDYKCJA\\videos\\slabe.webm: 384x640 1 no_glasses, 5 no_glovess, 4 no_helmets, 4 no_vests, 3.5ms\n",
      "video 3/4 (frame 163/258) f:\\PRACA_MAGISTERSKA\\DATASETS\\PREDYKCJA\\videos\\slabe.webm: 384x640 1 no_glasses, 6 no_glovess, 4 no_helmets, 4 no_vests, 3.5ms\n",
      "video 3/4 (frame 164/258) f:\\PRACA_MAGISTERSKA\\DATASETS\\PREDYKCJA\\videos\\slabe.webm: 384x640 1 no_glasses, 6 no_glovess, 4 no_helmets, 4 no_vests, 3.5ms\n",
      "video 3/4 (frame 165/258) f:\\PRACA_MAGISTERSKA\\DATASETS\\PREDYKCJA\\videos\\slabe.webm: 384x640 1 no_glasses, 6 no_glovess, 4 no_helmets, 4 no_vests, 3.5ms\n",
      "video 3/4 (frame 166/258) f:\\PRACA_MAGISTERSKA\\DATASETS\\PREDYKCJA\\videos\\slabe.webm: 384x640 1 no_glasses, 6 no_glovess, 4 no_helmets, 4 no_vests, 3.5ms\n",
      "video 3/4 (frame 167/258) f:\\PRACA_MAGISTERSKA\\DATASETS\\PREDYKCJA\\videos\\slabe.webm: 384x640 1 no_glasses, 6 no_glovess, 3 no_helmets, 4 no_vests, 3.5ms\n",
      "video 3/4 (frame 168/258) f:\\PRACA_MAGISTERSKA\\DATASETS\\PREDYKCJA\\videos\\slabe.webm: 384x640 1 no_glasses, 7 no_glovess, 5 no_helmets, 4 no_vests, 3.5ms\n",
      "video 3/4 (frame 169/258) f:\\PRACA_MAGISTERSKA\\DATASETS\\PREDYKCJA\\videos\\slabe.webm: 384x640 1 no_glasses, 6 no_glovess, 3 no_helmets, 4 no_vests, 3.5ms\n",
      "video 3/4 (frame 170/258) f:\\PRACA_MAGISTERSKA\\DATASETS\\PREDYKCJA\\videos\\slabe.webm: 384x640 1 no_glasses, 6 no_glovess, 4 no_helmets, 4 no_vests, 3.5ms\n",
      "video 3/4 (frame 171/258) f:\\PRACA_MAGISTERSKA\\DATASETS\\PREDYKCJA\\videos\\slabe.webm: 384x640 1 no_glasses, 6 no_glovess, 4 no_helmets, 4 no_vests, 3.5ms\n",
      "video 3/4 (frame 172/258) f:\\PRACA_MAGISTERSKA\\DATASETS\\PREDYKCJA\\videos\\slabe.webm: 384x640 1 no_glasses, 7 no_glovess, 4 no_helmets, 4 no_vests, 3.5ms\n",
      "video 3/4 (frame 173/258) f:\\PRACA_MAGISTERSKA\\DATASETS\\PREDYKCJA\\videos\\slabe.webm: 384x640 2 no_glassess, 7 no_glovess, 4 no_helmets, 4 no_vests, 3.5ms\n",
      "video 3/4 (frame 174/258) f:\\PRACA_MAGISTERSKA\\DATASETS\\PREDYKCJA\\videos\\slabe.webm: 384x640 2 no_glassess, 6 no_glovess, 4 no_helmets, 4 no_vests, 3.5ms\n",
      "video 3/4 (frame 175/258) f:\\PRACA_MAGISTERSKA\\DATASETS\\PREDYKCJA\\videos\\slabe.webm: 384x640 1 no_glasses, 7 no_glovess, 4 no_helmets, 4 no_vests, 3.5ms\n",
      "video 3/4 (frame 176/258) f:\\PRACA_MAGISTERSKA\\DATASETS\\PREDYKCJA\\videos\\slabe.webm: 384x640 2 no_glassess, 5 no_glovess, 4 no_helmets, 4 no_vests, 3.5ms\n",
      "video 3/4 (frame 177/258) f:\\PRACA_MAGISTERSKA\\DATASETS\\PREDYKCJA\\videos\\slabe.webm: 384x640 1 no_glasses, 5 no_glovess, 4 no_helmets, 4 no_vests, 3.5ms\n",
      "video 3/4 (frame 178/258) f:\\PRACA_MAGISTERSKA\\DATASETS\\PREDYKCJA\\videos\\slabe.webm: 384x640 2 no_glassess, 6 no_glovess, 4 no_helmets, 4 no_vests, 3.5ms\n",
      "video 3/4 (frame 179/258) f:\\PRACA_MAGISTERSKA\\DATASETS\\PREDYKCJA\\videos\\slabe.webm: 384x640 1 no_glasses, 6 no_glovess, 4 no_helmets, 4 no_vests, 3.5ms\n",
      "video 3/4 (frame 180/258) f:\\PRACA_MAGISTERSKA\\DATASETS\\PREDYKCJA\\videos\\slabe.webm: 384x640 1 no_glasses, 6 no_glovess, 4 no_helmets, 4 no_vests, 3.5ms\n",
      "video 3/4 (frame 181/258) f:\\PRACA_MAGISTERSKA\\DATASETS\\PREDYKCJA\\videos\\slabe.webm: 384x640 1 no_glasses, 6 no_glovess, 4 no_helmets, 4 no_vests, 3.5ms\n",
      "video 3/4 (frame 182/258) f:\\PRACA_MAGISTERSKA\\DATASETS\\PREDYKCJA\\videos\\slabe.webm: 384x640 1 no_glasses, 7 no_glovess, 4 no_helmets, 4 no_vests, 3.5ms\n",
      "video 3/4 (frame 183/258) f:\\PRACA_MAGISTERSKA\\DATASETS\\PREDYKCJA\\videos\\slabe.webm: 384x640 1 no_glasses, 6 no_glovess, 4 no_helmets, 4 no_vests, 3.5ms\n",
      "video 3/4 (frame 184/258) f:\\PRACA_MAGISTERSKA\\DATASETS\\PREDYKCJA\\videos\\slabe.webm: 384x640 1 no_glasses, 6 no_glovess, 4 no_helmets, 4 no_vests, 3.5ms\n",
      "video 3/4 (frame 185/258) f:\\PRACA_MAGISTERSKA\\DATASETS\\PREDYKCJA\\videos\\slabe.webm: 384x640 5 no_glovess, 4 no_helmets, 4 no_vests, 3.5ms\n",
      "video 3/4 (frame 186/258) f:\\PRACA_MAGISTERSKA\\DATASETS\\PREDYKCJA\\videos\\slabe.webm: 384x640 6 no_glovess, 4 no_helmets, 4 no_vests, 3.5ms\n",
      "video 3/4 (frame 187/258) f:\\PRACA_MAGISTERSKA\\DATASETS\\PREDYKCJA\\videos\\slabe.webm: 384x640 4 no_glovess, 4 no_helmets, 4 no_vests, 3.5ms\n",
      "video 3/4 (frame 188/258) f:\\PRACA_MAGISTERSKA\\DATASETS\\PREDYKCJA\\videos\\slabe.webm: 384x640 6 no_glovess, 3 no_helmets, 3 no_vests, 3.5ms\n",
      "video 3/4 (frame 189/258) f:\\PRACA_MAGISTERSKA\\DATASETS\\PREDYKCJA\\videos\\slabe.webm: 384x640 5 no_glovess, 4 no_helmets, 4 no_vests, 3.5ms\n",
      "video 3/4 (frame 190/258) f:\\PRACA_MAGISTERSKA\\DATASETS\\PREDYKCJA\\videos\\slabe.webm: 384x640 6 no_glovess, 4 no_helmets, 4 no_vests, 3.5ms\n",
      "video 3/4 (frame 191/258) f:\\PRACA_MAGISTERSKA\\DATASETS\\PREDYKCJA\\videos\\slabe.webm: 384x640 6 no_glovess, 4 no_helmets, 4 no_vests, 3.5ms\n",
      "video 3/4 (frame 192/258) f:\\PRACA_MAGISTERSKA\\DATASETS\\PREDYKCJA\\videos\\slabe.webm: 384x640 1 no_glasses, 6 no_glovess, 3 no_helmets, 4 no_vests, 3.5ms\n",
      "video 3/4 (frame 193/258) f:\\PRACA_MAGISTERSKA\\DATASETS\\PREDYKCJA\\videos\\slabe.webm: 384x640 2 no_glassess, 6 no_glovess, 3 no_helmets, 4 no_vests, 3.5ms\n",
      "video 3/4 (frame 194/258) f:\\PRACA_MAGISTERSKA\\DATASETS\\PREDYKCJA\\videos\\slabe.webm: 384x640 1 no_glasses, 5 no_glovess, 3 no_helmets, 4 no_vests, 3.5ms\n",
      "video 3/4 (frame 195/258) f:\\PRACA_MAGISTERSKA\\DATASETS\\PREDYKCJA\\videos\\slabe.webm: 384x640 1 no_glasses, 5 no_glovess, 3 no_helmets, 4 no_vests, 3.5ms\n",
      "video 3/4 (frame 196/258) f:\\PRACA_MAGISTERSKA\\DATASETS\\PREDYKCJA\\videos\\slabe.webm: 384x640 5 no_glovess, 3 no_helmets, 4 no_vests, 3.5ms\n",
      "video 3/4 (frame 197/258) f:\\PRACA_MAGISTERSKA\\DATASETS\\PREDYKCJA\\videos\\slabe.webm: 384x640 1 no_glasses, 5 no_glovess, 4 no_helmets, 5 no_vests, 3.5ms\n",
      "video 3/4 (frame 198/258) f:\\PRACA_MAGISTERSKA\\DATASETS\\PREDYKCJA\\videos\\slabe.webm: 384x640 1 no_glasses, 5 no_glovess, 4 no_helmets, 5 no_vests, 3.5ms\n",
      "video 3/4 (frame 199/258) f:\\PRACA_MAGISTERSKA\\DATASETS\\PREDYKCJA\\videos\\slabe.webm: 384x640 1 no_glasses, 5 no_glovess, 4 no_helmets, 4 no_vests, 3.5ms\n",
      "video 3/4 (frame 200/258) f:\\PRACA_MAGISTERSKA\\DATASETS\\PREDYKCJA\\videos\\slabe.webm: 384x640 1 no_glasses, 5 no_glovess, 3 no_helmets, 4 no_vests, 3.5ms\n",
      "video 3/4 (frame 201/258) f:\\PRACA_MAGISTERSKA\\DATASETS\\PREDYKCJA\\videos\\slabe.webm: 384x640 4 no_glovess, 3 no_helmets, 4 no_vests, 3.5ms\n",
      "video 3/4 (frame 202/258) f:\\PRACA_MAGISTERSKA\\DATASETS\\PREDYKCJA\\videos\\slabe.webm: 384x640 3 no_glovess, 3 no_helmets, 4 no_vests, 3.5ms\n",
      "video 3/4 (frame 203/258) f:\\PRACA_MAGISTERSKA\\DATASETS\\PREDYKCJA\\videos\\slabe.webm: 384x640 3 no_glovess, 3 no_helmets, 4 no_vests, 3.5ms\n",
      "video 3/4 (frame 204/258) f:\\PRACA_MAGISTERSKA\\DATASETS\\PREDYKCJA\\videos\\slabe.webm: 384x640 3 no_glovess, 3 no_helmets, 4 no_vests, 3.5ms\n",
      "video 3/4 (frame 205/258) f:\\PRACA_MAGISTERSKA\\DATASETS\\PREDYKCJA\\videos\\slabe.webm: 384x640 3 no_glovess, 3 no_helmets, 4 no_vests, 3.5ms\n",
      "video 3/4 (frame 206/258) f:\\PRACA_MAGISTERSKA\\DATASETS\\PREDYKCJA\\videos\\slabe.webm: 384x640 3 no_glovess, 3 no_helmets, 4 no_vests, 3.5ms\n",
      "video 3/4 (frame 207/258) f:\\PRACA_MAGISTERSKA\\DATASETS\\PREDYKCJA\\videos\\slabe.webm: 384x640 4 no_glovess, 3 no_helmets, 4 no_vests, 3.5ms\n",
      "video 3/4 (frame 208/258) f:\\PRACA_MAGISTERSKA\\DATASETS\\PREDYKCJA\\videos\\slabe.webm: 384x640 3 no_glovess, 3 no_helmets, 4 no_vests, 3.5ms\n",
      "video 3/4 (frame 209/258) f:\\PRACA_MAGISTERSKA\\DATASETS\\PREDYKCJA\\videos\\slabe.webm: 384x640 3 no_glovess, 3 no_helmets, 4 no_vests, 3.5ms\n",
      "video 3/4 (frame 210/258) f:\\PRACA_MAGISTERSKA\\DATASETS\\PREDYKCJA\\videos\\slabe.webm: 384x640 3 no_glovess, 3 no_helmets, 4 no_vests, 3.5ms\n",
      "video 3/4 (frame 211/258) f:\\PRACA_MAGISTERSKA\\DATASETS\\PREDYKCJA\\videos\\slabe.webm: 384x640 3 no_glovess, 3 no_helmets, 4 no_vests, 3.5ms\n",
      "video 3/4 (frame 212/258) f:\\PRACA_MAGISTERSKA\\DATASETS\\PREDYKCJA\\videos\\slabe.webm: 384x640 3 no_glovess, 3 no_helmets, 4 no_vests, 3.5ms\n",
      "video 3/4 (frame 213/258) f:\\PRACA_MAGISTERSKA\\DATASETS\\PREDYKCJA\\videos\\slabe.webm: 384x640 4 no_glovess, 3 no_helmets, 4 no_vests, 3.5ms\n",
      "video 3/4 (frame 214/258) f:\\PRACA_MAGISTERSKA\\DATASETS\\PREDYKCJA\\videos\\slabe.webm: 384x640 4 no_glovess, 3 no_helmets, 4 no_vests, 3.5ms\n",
      "video 3/4 (frame 215/258) f:\\PRACA_MAGISTERSKA\\DATASETS\\PREDYKCJA\\videos\\slabe.webm: 384x640 4 no_glovess, 3 no_helmets, 4 no_vests, 3.5ms\n",
      "video 3/4 (frame 216/258) f:\\PRACA_MAGISTERSKA\\DATASETS\\PREDYKCJA\\videos\\slabe.webm: 384x640 4 no_glovess, 3 no_helmets, 4 no_vests, 3.5ms\n",
      "video 3/4 (frame 217/258) f:\\PRACA_MAGISTERSKA\\DATASETS\\PREDYKCJA\\videos\\slabe.webm: 640x640 4 no_glovess, 4 no_helmets, 4 no_vests, 5.8ms\n",
      "video 3/4 (frame 218/258) f:\\PRACA_MAGISTERSKA\\DATASETS\\PREDYKCJA\\videos\\slabe.webm: 640x640 4 no_glovess, 3 no_helmets, 4 no_vests, 5.8ms\n",
      "video 3/4 (frame 219/258) f:\\PRACA_MAGISTERSKA\\DATASETS\\PREDYKCJA\\videos\\slabe.webm: 640x640 5 no_glovess, 3 no_helmets, 4 no_vests, 5.8ms\n",
      "video 3/4 (frame 220/258) f:\\PRACA_MAGISTERSKA\\DATASETS\\PREDYKCJA\\videos\\slabe.webm: 640x640 4 no_glovess, 3 no_helmets, 4 no_vests, 5.8ms\n",
      "video 3/4 (frame 221/258) f:\\PRACA_MAGISTERSKA\\DATASETS\\PREDYKCJA\\videos\\slabe.webm: 640x640 6 no_glovess, 3 no_helmets, 4 no_vests, 5.8ms\n",
      "video 3/4 (frame 222/258) f:\\PRACA_MAGISTERSKA\\DATASETS\\PREDYKCJA\\videos\\slabe.webm: 640x640 5 no_glovess, 4 no_helmets, 4 no_vests, 5.8ms\n",
      "video 3/4 (frame 223/258) f:\\PRACA_MAGISTERSKA\\DATASETS\\PREDYKCJA\\videos\\slabe.webm: 640x640 1 no_glasses, 5 no_glovess, 4 no_helmets, 3 no_vests, 5.8ms\n",
      "video 3/4 (frame 224/258) f:\\PRACA_MAGISTERSKA\\DATASETS\\PREDYKCJA\\videos\\slabe.webm: 640x640 5 no_glovess, 4 no_helmets, 4 no_vests, 5.8ms\n",
      "video 3/4 (frame 225/258) f:\\PRACA_MAGISTERSKA\\DATASETS\\PREDYKCJA\\videos\\slabe.webm: 640x640 4 no_glovess, 4 no_helmets, 4 no_vests, 5.8ms\n",
      "video 3/4 (frame 226/258) f:\\PRACA_MAGISTERSKA\\DATASETS\\PREDYKCJA\\videos\\slabe.webm: 640x640 1 no_glasses, 3 no_glovess, 4 no_helmets, 4 no_vests, 5.8ms\n",
      "video 3/4 (frame 227/258) f:\\PRACA_MAGISTERSKA\\DATASETS\\PREDYKCJA\\videos\\slabe.webm: 640x640 1 no_glasses, 4 no_glovess, 4 no_helmets, 4 no_vests, 5.8ms\n",
      "video 3/4 (frame 228/258) f:\\PRACA_MAGISTERSKA\\DATASETS\\PREDYKCJA\\videos\\slabe.webm: 640x640 1 no_glasses, 3 no_glovess, 4 no_helmets, 4 no_vests, 5.8ms\n",
      "video 3/4 (frame 229/258) f:\\PRACA_MAGISTERSKA\\DATASETS\\PREDYKCJA\\videos\\slabe.webm: 640x640 1 no_glasses, 3 no_glovess, 4 no_helmets, 4 no_vests, 5.8ms\n",
      "video 3/4 (frame 230/258) f:\\PRACA_MAGISTERSKA\\DATASETS\\PREDYKCJA\\videos\\slabe.webm: 640x640 1 no_glasses, 5 no_glovess, 5 no_helmets, 4 no_vests, 5.8ms\n",
      "video 3/4 (frame 231/258) f:\\PRACA_MAGISTERSKA\\DATASETS\\PREDYKCJA\\videos\\slabe.webm: 640x640 1 no_glasses, 5 no_glovess, 4 no_helmets, 4 no_vests, 5.8ms\n",
      "video 3/4 (frame 232/258) f:\\PRACA_MAGISTERSKA\\DATASETS\\PREDYKCJA\\videos\\slabe.webm: 640x640 5 no_glovess, 4 no_helmets, 5 no_vests, 5.8ms\n",
      "video 3/4 (frame 233/258) f:\\PRACA_MAGISTERSKA\\DATASETS\\PREDYKCJA\\videos\\slabe.webm: 640x640 1 no_glasses, 5 no_glovess, 4 no_helmets, 4 no_vests, 5.8ms\n",
      "video 3/4 (frame 234/258) f:\\PRACA_MAGISTERSKA\\DATASETS\\PREDYKCJA\\videos\\slabe.webm: 640x640 1 no_glasses, 5 no_glovess, 4 no_helmets, 4 no_vests, 5.8ms\n",
      "video 3/4 (frame 235/258) f:\\PRACA_MAGISTERSKA\\DATASETS\\PREDYKCJA\\videos\\slabe.webm: 640x640 6 no_glovess, 4 no_helmets, 4 no_vests, 5.8ms\n",
      "video 3/4 (frame 236/258) f:\\PRACA_MAGISTERSKA\\DATASETS\\PREDYKCJA\\videos\\slabe.webm: 640x640 6 no_glovess, 4 no_helmets, 4 no_vests, 5.8ms\n",
      "video 3/4 (frame 237/258) f:\\PRACA_MAGISTERSKA\\DATASETS\\PREDYKCJA\\videos\\slabe.webm: 640x640 7 no_glovess, 4 no_helmets, 4 no_vests, 5.8ms\n",
      "video 3/4 (frame 238/258) f:\\PRACA_MAGISTERSKA\\DATASETS\\PREDYKCJA\\videos\\slabe.webm: 640x640 5 no_glovess, 4 no_helmets, 4 no_vests, 5.8ms\n",
      "video 3/4 (frame 239/258) f:\\PRACA_MAGISTERSKA\\DATASETS\\PREDYKCJA\\videos\\slabe.webm: 640x640 4 no_glovess, 4 no_helmets, 4 no_vests, 5.8ms\n",
      "video 3/4 (frame 240/258) f:\\PRACA_MAGISTERSKA\\DATASETS\\PREDYKCJA\\videos\\slabe.webm: 640x640 4 no_glovess, 4 no_helmets, 4 no_vests, 5.8ms\n",
      "video 3/4 (frame 241/258) f:\\PRACA_MAGISTERSKA\\DATASETS\\PREDYKCJA\\videos\\slabe.webm: 640x640 3 no_glovess, 5 no_helmets, 5 no_vests, 5.8ms\n",
      "video 3/4 (frame 242/258) f:\\PRACA_MAGISTERSKA\\DATASETS\\PREDYKCJA\\videos\\slabe.webm: 640x640 4 no_glovess, 4 no_helmets, 4 no_vests, 5.8ms\n",
      "video 3/4 (frame 243/258) f:\\PRACA_MAGISTERSKA\\DATASETS\\PREDYKCJA\\videos\\slabe.webm: 640x640 1 no_glasses, 3 no_glovess, 4 no_helmets, 5 no_vests, 5.8ms\n",
      "video 3/4 (frame 244/258) f:\\PRACA_MAGISTERSKA\\DATASETS\\PREDYKCJA\\videos\\slabe.webm: 640x640 1 no_glasses, 2 no_glovess, 4 no_helmets, 3 no_vests, 5.8ms\n",
      "video 3/4 (frame 245/258) f:\\PRACA_MAGISTERSKA\\DATASETS\\PREDYKCJA\\videos\\slabe.webm: 640x640 1 no_glasses, 2 no_glovess, 4 no_helmets, 4 no_vests, 5.8ms\n",
      "video 3/4 (frame 246/258) f:\\PRACA_MAGISTERSKA\\DATASETS\\PREDYKCJA\\videos\\slabe.webm: 640x640 1 no_glasses, 3 no_glovess, 4 no_helmets, 4 no_vests, 5.8ms\n",
      "video 3/4 (frame 247/258) f:\\PRACA_MAGISTERSKA\\DATASETS\\PREDYKCJA\\videos\\slabe.webm: 640x640 3 no_glovess, 4 no_helmets, 4 no_vests, 5.8ms\n",
      "video 3/4 (frame 248/258) f:\\PRACA_MAGISTERSKA\\DATASETS\\PREDYKCJA\\videos\\slabe.webm: 640x640 1 no_glasses, 3 no_glovess, 4 no_helmets, 4 no_vests, 5.8ms\n",
      "video 3/4 (frame 249/258) f:\\PRACA_MAGISTERSKA\\DATASETS\\PREDYKCJA\\videos\\slabe.webm: 640x640 1 no_glasses, 3 no_glovess, 4 no_helmets, 4 no_vests, 5.8ms\n",
      "video 3/4 (frame 250/258) f:\\PRACA_MAGISTERSKA\\DATASETS\\PREDYKCJA\\videos\\slabe.webm: 640x640 2 no_glassess, 3 no_glovess, 4 no_helmets, 3 no_vests, 5.8ms\n",
      "video 3/4 (frame 251/258) f:\\PRACA_MAGISTERSKA\\DATASETS\\PREDYKCJA\\videos\\slabe.webm: 640x640 2 no_glassess, 2 no_glovess, 4 no_helmets, 5 no_vests, 5.8ms\n",
      "video 3/4 (frame 252/258) f:\\PRACA_MAGISTERSKA\\DATASETS\\PREDYKCJA\\videos\\slabe.webm: 640x640 1 no_glasses, 1 no_gloves, 4 no_helmets, 5 no_vests, 5.8ms\n",
      "video 3/4 (frame 253/258) f:\\PRACA_MAGISTERSKA\\DATASETS\\PREDYKCJA\\videos\\slabe.webm: 640x640 2 no_glassess, 2 no_glovess, 4 no_helmets, 4 no_vests, 5.8ms\n",
      "video 3/4 (frame 254/258) f:\\PRACA_MAGISTERSKA\\DATASETS\\PREDYKCJA\\videos\\slabe.webm: 640x640 3 no_glovess, 4 no_helmets, 4 no_vests, 5.8ms\n",
      "video 3/4 (frame 255/258) f:\\PRACA_MAGISTERSKA\\DATASETS\\PREDYKCJA\\videos\\slabe.webm: 640x640 3 no_glovess, 4 no_helmets, 4 no_vests, 5.8ms\n",
      "video 3/4 (frame 256/258) f:\\PRACA_MAGISTERSKA\\DATASETS\\PREDYKCJA\\videos\\slabe.webm: 640x640 2 no_glovess, 4 no_helmets, 4 no_vests, 5.8ms\n",
      "video 3/4 (frame 257/258) f:\\PRACA_MAGISTERSKA\\DATASETS\\PREDYKCJA\\videos\\slabe.webm: 640x640 1 no_glasses, 2 no_glovess, 4 no_helmets, 4 no_vests, 5.8ms\n",
      "video 3/4 (frame 258/258) f:\\PRACA_MAGISTERSKA\\DATASETS\\PREDYKCJA\\videos\\slabe.webm: 640x640 1 no_glasses, 2 no_glovess, 4 no_helmets, 4 no_vests, 5.8ms\n",
      "video 4/4 (frame 1/301) f:\\PRACA_MAGISTERSKA\\DATASETS\\PREDYKCJA\\videos\\taczka.mp4: 640x640 1 no_glasses, 2 no_glovess, 2 no_helmets, 3 no_vests, 5.8ms\n",
      "video 4/4 (frame 2/301) f:\\PRACA_MAGISTERSKA\\DATASETS\\PREDYKCJA\\videos\\taczka.mp4: 640x640 1 no_glasses, 2 no_glovess, 2 no_helmets, 3 no_vests, 5.8ms\n",
      "video 4/4 (frame 3/301) f:\\PRACA_MAGISTERSKA\\DATASETS\\PREDYKCJA\\videos\\taczka.mp4: 640x640 1 no_glasses, 2 no_glovess, 2 no_helmets, 3 no_vests, 5.8ms\n",
      "video 4/4 (frame 4/301) f:\\PRACA_MAGISTERSKA\\DATASETS\\PREDYKCJA\\videos\\taczka.mp4: 640x640 1 no_glasses, 2 no_glovess, 2 no_helmets, 3 no_vests, 5.8ms\n",
      "video 4/4 (frame 5/301) f:\\PRACA_MAGISTERSKA\\DATASETS\\PREDYKCJA\\videos\\taczka.mp4: 640x640 2 no_glassess, 2 no_glovess, 2 no_helmets, 2 no_vests, 5.8ms\n",
      "video 4/4 (frame 6/301) f:\\PRACA_MAGISTERSKA\\DATASETS\\PREDYKCJA\\videos\\taczka.mp4: 640x640 1 no_glasses, 2 no_glovess, 2 no_helmets, 2 no_vests, 5.8ms\n",
      "video 4/4 (frame 7/301) f:\\PRACA_MAGISTERSKA\\DATASETS\\PREDYKCJA\\videos\\taczka.mp4: 640x640 1 no_glasses, 2 no_glovess, 2 no_helmets, 2 no_vests, 5.8ms\n",
      "video 4/4 (frame 8/301) f:\\PRACA_MAGISTERSKA\\DATASETS\\PREDYKCJA\\videos\\taczka.mp4: 640x640 1 no_glasses, 2 no_glovess, 2 no_helmets, 2 no_vests, 5.8ms\n",
      "video 4/4 (frame 9/301) f:\\PRACA_MAGISTERSKA\\DATASETS\\PREDYKCJA\\videos\\taczka.mp4: 640x640 1 no_glasses, 2 no_glovess, 2 no_helmets, 2 no_vests, 5.8ms\n",
      "video 4/4 (frame 10/301) f:\\PRACA_MAGISTERSKA\\DATASETS\\PREDYKCJA\\videos\\taczka.mp4: 640x640 1 no_glasses, 2 no_glovess, 2 no_helmets, 1 no_vest, 5.8ms\n",
      "video 4/4 (frame 11/301) f:\\PRACA_MAGISTERSKA\\DATASETS\\PREDYKCJA\\videos\\taczka.mp4: 640x640 1 no_glasses, 2 no_glovess, 2 no_helmets, 2 no_vests, 5.8ms\n",
      "video 4/4 (frame 12/301) f:\\PRACA_MAGISTERSKA\\DATASETS\\PREDYKCJA\\videos\\taczka.mp4: 640x640 1 no_glasses, 2 no_glovess, 2 no_helmets, 2 no_vests, 5.8ms\n",
      "video 4/4 (frame 13/301) f:\\PRACA_MAGISTERSKA\\DATASETS\\PREDYKCJA\\videos\\taczka.mp4: 640x640 2 no_glassess, 2 no_glovess, 2 no_helmets, 2 no_vests, 5.8ms\n",
      "video 4/4 (frame 14/301) f:\\PRACA_MAGISTERSKA\\DATASETS\\PREDYKCJA\\videos\\taczka.mp4: 640x640 1 no_glasses, 2 no_glovess, 2 no_helmets, 2 no_vests, 5.8ms\n",
      "video 4/4 (frame 15/301) f:\\PRACA_MAGISTERSKA\\DATASETS\\PREDYKCJA\\videos\\taczka.mp4: 640x640 1 no_glasses, 2 no_glovess, 2 no_helmets, 1 no_vest, 5.8ms\n",
      "video 4/4 (frame 16/301) f:\\PRACA_MAGISTERSKA\\DATASETS\\PREDYKCJA\\videos\\taczka.mp4: 640x640 1 no_glasses, 2 no_glovess, 2 no_helmets, 1 no_vest, 5.8ms\n",
      "video 4/4 (frame 17/301) f:\\PRACA_MAGISTERSKA\\DATASETS\\PREDYKCJA\\videos\\taczka.mp4: 640x640 1 no_glasses, 2 no_glovess, 2 no_helmets, 1 no_vest, 5.8ms\n",
      "video 4/4 (frame 18/301) f:\\PRACA_MAGISTERSKA\\DATASETS\\PREDYKCJA\\videos\\taczka.mp4: 640x640 1 no_glasses, 2 no_glovess, 2 no_helmets, 2 no_vests, 5.8ms\n",
      "video 4/4 (frame 19/301) f:\\PRACA_MAGISTERSKA\\DATASETS\\PREDYKCJA\\videos\\taczka.mp4: 640x640 1 no_glasses, 2 no_glovess, 1 no_helmet, 1 no_vest, 5.8ms\n",
      "video 4/4 (frame 20/301) f:\\PRACA_MAGISTERSKA\\DATASETS\\PREDYKCJA\\videos\\taczka.mp4: 640x640 1 no_glasses, 2 no_glovess, 1 no_helmet, 2 no_vests, 5.8ms\n",
      "video 4/4 (frame 21/301) f:\\PRACA_MAGISTERSKA\\DATASETS\\PREDYKCJA\\videos\\taczka.mp4: 640x640 1 no_glasses, 2 no_glovess, 1 no_helmet, 2 no_vests, 5.8ms\n",
      "video 4/4 (frame 22/301) f:\\PRACA_MAGISTERSKA\\DATASETS\\PREDYKCJA\\videos\\taczka.mp4: 640x640 1 no_glasses, 2 no_glovess, 1 no_helmet, 1 no_vest, 5.8ms\n",
      "video 4/4 (frame 23/301) f:\\PRACA_MAGISTERSKA\\DATASETS\\PREDYKCJA\\videos\\taczka.mp4: 384x640 1 no_glasses, 2 no_glovess, 1 no_helmet, 1 no_vest, 3.5ms\n",
      "video 4/4 (frame 24/301) f:\\PRACA_MAGISTERSKA\\DATASETS\\PREDYKCJA\\videos\\taczka.mp4: 384x640 1 no_glasses, 2 no_glovess, 1 no_helmet, 1 no_vest, 3.5ms\n",
      "video 4/4 (frame 25/301) f:\\PRACA_MAGISTERSKA\\DATASETS\\PREDYKCJA\\videos\\taczka.mp4: 384x640 1 no_glasses, 2 no_glovess, 2 no_vests, 3.5ms\n",
      "video 4/4 (frame 26/301) f:\\PRACA_MAGISTERSKA\\DATASETS\\PREDYKCJA\\videos\\taczka.mp4: 384x640 1 no_glasses, 2 no_glovess, 2 no_vests, 3.5ms\n",
      "video 4/4 (frame 27/301) f:\\PRACA_MAGISTERSKA\\DATASETS\\PREDYKCJA\\videos\\taczka.mp4: 384x640 1 no_glasses, 2 no_glovess, 2 no_vests, 3.5ms\n",
      "video 4/4 (frame 28/301) f:\\PRACA_MAGISTERSKA\\DATASETS\\PREDYKCJA\\videos\\taczka.mp4: 384x640 1 no_glasses, 2 no_glovess, 2 no_vests, 3.5ms\n",
      "video 4/4 (frame 29/301) f:\\PRACA_MAGISTERSKA\\DATASETS\\PREDYKCJA\\videos\\taczka.mp4: 384x640 1 no_glasses, 2 no_glovess, 2 no_vests, 3.5ms\n",
      "video 4/4 (frame 30/301) f:\\PRACA_MAGISTERSKA\\DATASETS\\PREDYKCJA\\videos\\taczka.mp4: 384x640 1 no_glasses, 2 no_glovess, 2 no_vests, 3.5ms\n",
      "video 4/4 (frame 31/301) f:\\PRACA_MAGISTERSKA\\DATASETS\\PREDYKCJA\\videos\\taczka.mp4: 384x640 1 no_glasses, 2 no_glovess, 2 no_vests, 3.5ms\n",
      "video 4/4 (frame 32/301) f:\\PRACA_MAGISTERSKA\\DATASETS\\PREDYKCJA\\videos\\taczka.mp4: 384x640 2 no_glovess, 2 no_vests, 3.5ms\n",
      "video 4/4 (frame 33/301) f:\\PRACA_MAGISTERSKA\\DATASETS\\PREDYKCJA\\videos\\taczka.mp4: 384x640 1 no_glasses, 1 no_gloves, 1 no_helmet, 2 no_vests, 3.5ms\n",
      "video 4/4 (frame 34/301) f:\\PRACA_MAGISTERSKA\\DATASETS\\PREDYKCJA\\videos\\taczka.mp4: 384x640 1 no_gloves, 1 no_helmet, 2 no_vests, 3.5ms\n",
      "video 4/4 (frame 35/301) f:\\PRACA_MAGISTERSKA\\DATASETS\\PREDYKCJA\\videos\\taczka.mp4: 384x640 1 no_gloves, 1 no_helmet, 2 no_vests, 3.5ms\n",
      "video 4/4 (frame 36/301) f:\\PRACA_MAGISTERSKA\\DATASETS\\PREDYKCJA\\videos\\taczka.mp4: 384x640 1 no_helmet, 2 no_vests, 3.5ms\n",
      "video 4/4 (frame 37/301) f:\\PRACA_MAGISTERSKA\\DATASETS\\PREDYKCJA\\videos\\taczka.mp4: 384x640 1 no_helmet, 2 no_vests, 3.5ms\n",
      "video 4/4 (frame 38/301) f:\\PRACA_MAGISTERSKA\\DATASETS\\PREDYKCJA\\videos\\taczka.mp4: 384x640 1 no_helmet, 2 no_vests, 3.5ms\n",
      "video 4/4 (frame 39/301) f:\\PRACA_MAGISTERSKA\\DATASETS\\PREDYKCJA\\videos\\taczka.mp4: 384x640 1 no_helmet, 2 no_vests, 3.5ms\n",
      "video 4/4 (frame 40/301) f:\\PRACA_MAGISTERSKA\\DATASETS\\PREDYKCJA\\videos\\taczka.mp4: 384x640 1 no_helmet, 2 no_vests, 3.5ms\n",
      "video 4/4 (frame 41/301) f:\\PRACA_MAGISTERSKA\\DATASETS\\PREDYKCJA\\videos\\taczka.mp4: 384x640 1 no_helmet, 2 no_vests, 3.5ms\n",
      "video 4/4 (frame 42/301) f:\\PRACA_MAGISTERSKA\\DATASETS\\PREDYKCJA\\videos\\taczka.mp4: 384x640 1 no_helmet, 2 no_vests, 3.5ms\n",
      "video 4/4 (frame 43/301) f:\\PRACA_MAGISTERSKA\\DATASETS\\PREDYKCJA\\videos\\taczka.mp4: 384x640 1 no_helmet, 2 no_vests, 3.5ms\n",
      "video 4/4 (frame 44/301) f:\\PRACA_MAGISTERSKA\\DATASETS\\PREDYKCJA\\videos\\taczka.mp4: 384x640 1 no_gloves, 1 no_helmet, 2 no_vests, 3.5ms\n",
      "video 4/4 (frame 45/301) f:\\PRACA_MAGISTERSKA\\DATASETS\\PREDYKCJA\\videos\\taczka.mp4: 384x640 1 no_gloves, 1 no_helmet, 2 no_vests, 3.5ms\n",
      "video 4/4 (frame 46/301) f:\\PRACA_MAGISTERSKA\\DATASETS\\PREDYKCJA\\videos\\taczka.mp4: 384x640 1 no_gloves, 1 no_helmet, 2 no_vests, 3.5ms\n",
      "video 4/4 (frame 47/301) f:\\PRACA_MAGISTERSKA\\DATASETS\\PREDYKCJA\\videos\\taczka.mp4: 384x640 1 no_gloves, 1 no_helmet, 2 no_vests, 3.5ms\n",
      "video 4/4 (frame 48/301) f:\\PRACA_MAGISTERSKA\\DATASETS\\PREDYKCJA\\videos\\taczka.mp4: 384x640 1 no_gloves, 1 no_helmet, 2 no_vests, 3.5ms\n",
      "video 4/4 (frame 49/301) f:\\PRACA_MAGISTERSKA\\DATASETS\\PREDYKCJA\\videos\\taczka.mp4: 384x640 1 no_gloves, 1 no_helmet, 2 no_vests, 3.5ms\n",
      "video 4/4 (frame 50/301) f:\\PRACA_MAGISTERSKA\\DATASETS\\PREDYKCJA\\videos\\taczka.mp4: 384x640 1 no_gloves, 1 no_helmet, 2 no_vests, 3.5ms\n",
      "video 4/4 (frame 51/301) f:\\PRACA_MAGISTERSKA\\DATASETS\\PREDYKCJA\\videos\\taczka.mp4: 384x640 1 no_gloves, 1 no_helmet, 2 no_vests, 3.5ms\n",
      "video 4/4 (frame 52/301) f:\\PRACA_MAGISTERSKA\\DATASETS\\PREDYKCJA\\videos\\taczka.mp4: 384x640 1 no_gloves, 1 no_helmet, 2 no_vests, 3.5ms\n",
      "video 4/4 (frame 53/301) f:\\PRACA_MAGISTERSKA\\DATASETS\\PREDYKCJA\\videos\\taczka.mp4: 384x640 1 no_gloves, 1 no_helmet, 2 no_vests, 3.5ms\n",
      "video 4/4 (frame 54/301) f:\\PRACA_MAGISTERSKA\\DATASETS\\PREDYKCJA\\videos\\taczka.mp4: 384x640 1 no_gloves, 1 no_helmet, 2 no_vests, 3.5ms\n",
      "video 4/4 (frame 55/301) f:\\PRACA_MAGISTERSKA\\DATASETS\\PREDYKCJA\\videos\\taczka.mp4: 384x640 1 no_gloves, 1 no_helmet, 2 no_vests, 3.5ms\n",
      "video 4/4 (frame 56/301) f:\\PRACA_MAGISTERSKA\\DATASETS\\PREDYKCJA\\videos\\taczka.mp4: 384x640 1 no_gloves, 1 no_helmet, 2 no_vests, 3.5ms\n",
      "video 4/4 (frame 57/301) f:\\PRACA_MAGISTERSKA\\DATASETS\\PREDYKCJA\\videos\\taczka.mp4: 384x640 1 no_gloves, 1 no_helmet, 2 no_vests, 3.5ms\n",
      "video 4/4 (frame 58/301) f:\\PRACA_MAGISTERSKA\\DATASETS\\PREDYKCJA\\videos\\taczka.mp4: 384x640 1 no_gloves, 1 no_helmet, 1 no_vest, 3.5ms\n",
      "video 4/4 (frame 59/301) f:\\PRACA_MAGISTERSKA\\DATASETS\\PREDYKCJA\\videos\\taczka.mp4: 384x640 1 no_gloves, 1 no_helmet, 2 no_vests, 3.5ms\n",
      "video 4/4 (frame 60/301) f:\\PRACA_MAGISTERSKA\\DATASETS\\PREDYKCJA\\videos\\taczka.mp4: 384x640 1 no_gloves, 1 no_helmet, 2 no_vests, 3.5ms\n",
      "video 4/4 (frame 61/301) f:\\PRACA_MAGISTERSKA\\DATASETS\\PREDYKCJA\\videos\\taczka.mp4: 384x640 1 no_gloves, 2 no_vests, 3.5ms\n",
      "video 4/4 (frame 62/301) f:\\PRACA_MAGISTERSKA\\DATASETS\\PREDYKCJA\\videos\\taczka.mp4: 384x640 1 no_gloves, 2 no_vests, 3.5ms\n",
      "video 4/4 (frame 63/301) f:\\PRACA_MAGISTERSKA\\DATASETS\\PREDYKCJA\\videos\\taczka.mp4: 384x640 1 no_gloves, 2 no_vests, 3.5ms\n",
      "video 4/4 (frame 64/301) f:\\PRACA_MAGISTERSKA\\DATASETS\\PREDYKCJA\\videos\\taczka.mp4: 384x640 1 no_gloves, 1 no_vest, 3.5ms\n",
      "video 4/4 (frame 65/301) f:\\PRACA_MAGISTERSKA\\DATASETS\\PREDYKCJA\\videos\\taczka.mp4: 384x640 1 no_gloves, 2 no_vests, 3.5ms\n",
      "video 4/4 (frame 66/301) f:\\PRACA_MAGISTERSKA\\DATASETS\\PREDYKCJA\\videos\\taczka.mp4: 384x640 1 no_gloves, 1 no_vest, 3.5ms\n",
      "video 4/4 (frame 67/301) f:\\PRACA_MAGISTERSKA\\DATASETS\\PREDYKCJA\\videos\\taczka.mp4: 384x640 1 no_gloves, 1 no_vest, 3.5ms\n",
      "video 4/4 (frame 68/301) f:\\PRACA_MAGISTERSKA\\DATASETS\\PREDYKCJA\\videos\\taczka.mp4: 384x640 1 no_gloves, 1 no_vest, 3.5ms\n",
      "video 4/4 (frame 69/301) f:\\PRACA_MAGISTERSKA\\DATASETS\\PREDYKCJA\\videos\\taczka.mp4: 384x640 1 no_gloves, 1 no_vest, 3.5ms\n",
      "video 4/4 (frame 70/301) f:\\PRACA_MAGISTERSKA\\DATASETS\\PREDYKCJA\\videos\\taczka.mp4: 384x640 1 no_gloves, 1 no_vest, 3.5ms\n",
      "video 4/4 (frame 71/301) f:\\PRACA_MAGISTERSKA\\DATASETS\\PREDYKCJA\\videos\\taczka.mp4: 384x640 1 no_gloves, 1 no_vest, 3.5ms\n",
      "video 4/4 (frame 72/301) f:\\PRACA_MAGISTERSKA\\DATASETS\\PREDYKCJA\\videos\\taczka.mp4: 384x640 1 no_glasses, 1 no_gloves, 2 no_vests, 3.5ms\n",
      "video 4/4 (frame 73/301) f:\\PRACA_MAGISTERSKA\\DATASETS\\PREDYKCJA\\videos\\taczka.mp4: 384x640 1 no_gloves, 4 no_vests, 3.5ms\n",
      "video 4/4 (frame 74/301) f:\\PRACA_MAGISTERSKA\\DATASETS\\PREDYKCJA\\videos\\taczka.mp4: 384x640 3 no_vests, 3.5ms\n",
      "video 4/4 (frame 75/301) f:\\PRACA_MAGISTERSKA\\DATASETS\\PREDYKCJA\\videos\\taczka.mp4: 384x640 1 no_gloves, 2 no_vests, 3.5ms\n",
      "video 4/4 (frame 76/301) f:\\PRACA_MAGISTERSKA\\DATASETS\\PREDYKCJA\\videos\\taczka.mp4: 384x640 2 no_glovess, 2 no_vests, 3.5ms\n",
      "video 4/4 (frame 77/301) f:\\PRACA_MAGISTERSKA\\DATASETS\\PREDYKCJA\\videos\\taczka.mp4: 384x640 1 no_glasses, 1 no_gloves, 3 no_vests, 3.5ms\n",
      "video 4/4 (frame 78/301) f:\\PRACA_MAGISTERSKA\\DATASETS\\PREDYKCJA\\videos\\taczka.mp4: 384x640 1 no_glasses, 1 no_gloves, 2 no_vests, 3.5ms\n",
      "video 4/4 (frame 79/301) f:\\PRACA_MAGISTERSKA\\DATASETS\\PREDYKCJA\\videos\\taczka.mp4: 384x640 1 no_glasses, 1 no_gloves, 2 no_vests, 3.5ms\n",
      "video 4/4 (frame 80/301) f:\\PRACA_MAGISTERSKA\\DATASETS\\PREDYKCJA\\videos\\taczka.mp4: 384x640 1 no_gloves, 2 no_vests, 3.5ms\n",
      "video 4/4 (frame 81/301) f:\\PRACA_MAGISTERSKA\\DATASETS\\PREDYKCJA\\videos\\taczka.mp4: 384x640 1 no_glasses, 1 no_gloves, 2 no_vests, 3.5ms\n",
      "video 4/4 (frame 82/301) f:\\PRACA_MAGISTERSKA\\DATASETS\\PREDYKCJA\\videos\\taczka.mp4: 384x640 1 no_glasses, 1 no_gloves, 2 no_vests, 3.5ms\n",
      "video 4/4 (frame 83/301) f:\\PRACA_MAGISTERSKA\\DATASETS\\PREDYKCJA\\videos\\taczka.mp4: 384x640 1 no_glasses, 3 no_vests, 3.5ms\n",
      "video 4/4 (frame 84/301) f:\\PRACA_MAGISTERSKA\\DATASETS\\PREDYKCJA\\videos\\taczka.mp4: 384x640 1 no_glasses, 1 no_gloves, 3 no_vests, 3.5ms\n",
      "video 4/4 (frame 85/301) f:\\PRACA_MAGISTERSKA\\DATASETS\\PREDYKCJA\\videos\\taczka.mp4: 384x640 1 no_glasses, 2 no_glovess, 1 no_helmet, 3 no_vests, 3.5ms\n",
      "video 4/4 (frame 86/301) f:\\PRACA_MAGISTERSKA\\DATASETS\\PREDYKCJA\\videos\\taczka.mp4: 384x640 1 no_glasses, 2 no_glovess, 1 no_helmet, 3 no_vests, 3.5ms\n",
      "video 4/4 (frame 87/301) f:\\PRACA_MAGISTERSKA\\DATASETS\\PREDYKCJA\\videos\\taczka.mp4: 384x640 1 no_glasses, 3 no_glovess, 1 no_helmet, 2 no_vests, 3.4ms\n",
      "video 4/4 (frame 88/301) f:\\PRACA_MAGISTERSKA\\DATASETS\\PREDYKCJA\\videos\\taczka.mp4: 384x640 1 no_glasses, 2 no_glovess, 1 no_helmet, 2 no_vests, 3.4ms\n",
      "video 4/4 (frame 89/301) f:\\PRACA_MAGISTERSKA\\DATASETS\\PREDYKCJA\\videos\\taczka.mp4: 384x640 1 no_glasses, 1 no_gloves, 1 no_helmet, 1 no_vest, 3.4ms\n",
      "video 4/4 (frame 90/301) f:\\PRACA_MAGISTERSKA\\DATASETS\\PREDYKCJA\\videos\\taczka.mp4: 384x640 1 no_glasses, 2 no_glovess, 1 no_helmet, 1 no_vest, 3.4ms\n",
      "video 4/4 (frame 91/301) f:\\PRACA_MAGISTERSKA\\DATASETS\\PREDYKCJA\\videos\\taczka.mp4: 384x640 1 no_gloves, 1 no_helmet, 1 no_vest, 3.4ms\n",
      "video 4/4 (frame 92/301) f:\\PRACA_MAGISTERSKA\\DATASETS\\PREDYKCJA\\videos\\taczka.mp4: 384x640 1 no_glasses, 1 no_gloves, 1 no_helmet, 2 no_vests, 3.4ms\n",
      "video 4/4 (frame 93/301) f:\\PRACA_MAGISTERSKA\\DATASETS\\PREDYKCJA\\videos\\taczka.mp4: 384x640 1 no_glasses, 1 no_helmet, 2 no_vests, 3.4ms\n",
      "video 4/4 (frame 94/301) f:\\PRACA_MAGISTERSKA\\DATASETS\\PREDYKCJA\\videos\\taczka.mp4: 384x640 1 no_glasses, 1 no_helmet, 2 no_vests, 3.4ms\n",
      "video 4/4 (frame 95/301) f:\\PRACA_MAGISTERSKA\\DATASETS\\PREDYKCJA\\videos\\taczka.mp4: 384x640 1 no_glasses, 1 no_helmet, 2 no_vests, 3.4ms\n",
      "video 4/4 (frame 96/301) f:\\PRACA_MAGISTERSKA\\DATASETS\\PREDYKCJA\\videos\\taczka.mp4: 384x640 1 no_glasses, 1 no_helmet, 1 no_vest, 3.4ms\n",
      "video 4/4 (frame 97/301) f:\\PRACA_MAGISTERSKA\\DATASETS\\PREDYKCJA\\videos\\taczka.mp4: 384x640 1 no_glasses, 1 no_helmet, 1 no_vest, 3.4ms\n",
      "video 4/4 (frame 98/301) f:\\PRACA_MAGISTERSKA\\DATASETS\\PREDYKCJA\\videos\\taczka.mp4: 384x640 1 no_glasses, 1 no_gloves, 1 no_helmet, 1 no_vest, 3.4ms\n",
      "video 4/4 (frame 99/301) f:\\PRACA_MAGISTERSKA\\DATASETS\\PREDYKCJA\\videos\\taczka.mp4: 384x640 2 no_glassess, 1 no_helmet, 1 no_vest, 3.4ms\n",
      "video 4/4 (frame 100/301) f:\\PRACA_MAGISTERSKA\\DATASETS\\PREDYKCJA\\videos\\taczka.mp4: 384x640 1 no_glasses, 1 no_gloves, 2 no_helmets, 1 no_vest, 3.4ms\n",
      "video 4/4 (frame 101/301) f:\\PRACA_MAGISTERSKA\\DATASETS\\PREDYKCJA\\videos\\taczka.mp4: 384x640 1 no_glasses, 1 no_helmet, 1 no_vest, 3.4ms\n",
      "video 4/4 (frame 102/301) f:\\PRACA_MAGISTERSKA\\DATASETS\\PREDYKCJA\\videos\\taczka.mp4: 384x640 1 no_glasses, 1 no_gloves, 1 no_helmet, 2 no_vests, 3.4ms\n",
      "video 4/4 (frame 103/301) f:\\PRACA_MAGISTERSKA\\DATASETS\\PREDYKCJA\\videos\\taczka.mp4: 384x640 1 no_glasses, 2 no_glovess, 1 no_helmet, 2 no_vests, 3.4ms\n",
      "video 4/4 (frame 104/301) f:\\PRACA_MAGISTERSKA\\DATASETS\\PREDYKCJA\\videos\\taczka.mp4: 384x640 1 no_glasses, 2 no_glovess, 1 no_helmet, 2 no_vests, 3.4ms\n",
      "video 4/4 (frame 105/301) f:\\PRACA_MAGISTERSKA\\DATASETS\\PREDYKCJA\\videos\\taczka.mp4: 384x640 1 no_glasses, 2 no_glovess, 1 no_helmet, 2 no_vests, 3.4ms\n",
      "video 4/4 (frame 106/301) f:\\PRACA_MAGISTERSKA\\DATASETS\\PREDYKCJA\\videos\\taczka.mp4: 384x640 1 no_glasses, 2 no_glovess, 1 no_helmet, 1 no_vest, 3.4ms\n",
      "video 4/4 (frame 107/301) f:\\PRACA_MAGISTERSKA\\DATASETS\\PREDYKCJA\\videos\\taczka.mp4: 384x640 1 no_glasses, 1 no_gloves, 1 no_helmet, 1 no_vest, 3.4ms\n",
      "video 4/4 (frame 108/301) f:\\PRACA_MAGISTERSKA\\DATASETS\\PREDYKCJA\\videos\\taczka.mp4: 384x640 1 no_glasses, 1 no_gloves, 1 no_helmet, 1 no_vest, 3.4ms\n",
      "video 4/4 (frame 109/301) f:\\PRACA_MAGISTERSKA\\DATASETS\\PREDYKCJA\\videos\\taczka.mp4: 384x640 1 no_glasses, 1 no_gloves, 1 no_helmet, 2 no_vests, 3.4ms\n",
      "video 4/4 (frame 110/301) f:\\PRACA_MAGISTERSKA\\DATASETS\\PREDYKCJA\\videos\\taczka.mp4: 384x640 1 no_glasses, 1 no_gloves, 1 no_helmet, 2 no_vests, 3.4ms\n",
      "video 4/4 (frame 111/301) f:\\PRACA_MAGISTERSKA\\DATASETS\\PREDYKCJA\\videos\\taczka.mp4: 384x640 1 no_glasses, 1 no_gloves, 1 no_helmet, 2 no_vests, 3.4ms\n",
      "video 4/4 (frame 112/301) f:\\PRACA_MAGISTERSKA\\DATASETS\\PREDYKCJA\\videos\\taczka.mp4: 384x640 1 no_glasses, 1 no_gloves, 1 no_helmet, 2 no_vests, 3.4ms\n",
      "video 4/4 (frame 113/301) f:\\PRACA_MAGISTERSKA\\DATASETS\\PREDYKCJA\\videos\\taczka.mp4: 384x640 1 no_glasses, 1 no_gloves, 1 no_helmet, 2 no_vests, 3.4ms\n",
      "video 4/4 (frame 114/301) f:\\PRACA_MAGISTERSKA\\DATASETS\\PREDYKCJA\\videos\\taczka.mp4: 384x640 1 no_glasses, 2 no_glovess, 1 no_helmet, 2 no_vests, 3.4ms\n",
      "video 4/4 (frame 115/301) f:\\PRACA_MAGISTERSKA\\DATASETS\\PREDYKCJA\\videos\\taczka.mp4: 384x640 1 no_glasses, 2 no_glovess, 1 no_helmet, 2 no_vests, 3.4ms\n",
      "video 4/4 (frame 116/301) f:\\PRACA_MAGISTERSKA\\DATASETS\\PREDYKCJA\\videos\\taczka.mp4: 384x640 1 no_glasses, 2 no_glovess, 1 no_helmet, 2 no_vests, 3.4ms\n",
      "video 4/4 (frame 117/301) f:\\PRACA_MAGISTERSKA\\DATASETS\\PREDYKCJA\\videos\\taczka.mp4: 384x640 2 no_glovess, 1 no_helmet, 2 no_vests, 3.4ms\n",
      "video 4/4 (frame 118/301) f:\\PRACA_MAGISTERSKA\\DATASETS\\PREDYKCJA\\videos\\taczka.mp4: 384x640 1 no_glasses, 1 no_gloves, 1 no_helmet, 2 no_vests, 3.4ms\n",
      "video 4/4 (frame 119/301) f:\\PRACA_MAGISTERSKA\\DATASETS\\PREDYKCJA\\videos\\taczka.mp4: 384x640 1 no_glasses, 1 no_gloves, 1 no_helmet, 1 no_vest, 3.4ms\n",
      "video 4/4 (frame 120/301) f:\\PRACA_MAGISTERSKA\\DATASETS\\PREDYKCJA\\videos\\taczka.mp4: 384x640 1 no_glasses, 1 no_gloves, 1 no_helmet, 2 no_vests, 3.4ms\n",
      "video 4/4 (frame 121/301) f:\\PRACA_MAGISTERSKA\\DATASETS\\PREDYKCJA\\videos\\taczka.mp4: 384x640 1 no_glasses, 1 no_gloves, 1 no_helmet, 2 no_vests, 3.4ms\n",
      "video 4/4 (frame 122/301) f:\\PRACA_MAGISTERSKA\\DATASETS\\PREDYKCJA\\videos\\taczka.mp4: 384x640 1 no_glasses, 2 no_glovess, 2 no_vests, 3.4ms\n",
      "video 4/4 (frame 123/301) f:\\PRACA_MAGISTERSKA\\DATASETS\\PREDYKCJA\\videos\\taczka.mp4: 384x640 1 no_glasses, 2 no_glovess, 3 no_vests, 3.4ms\n",
      "video 4/4 (frame 124/301) f:\\PRACA_MAGISTERSKA\\DATASETS\\PREDYKCJA\\videos\\taczka.mp4: 384x640 1 no_glasses, 2 no_glovess, 1 no_vest, 3.4ms\n",
      "video 4/4 (frame 125/301) f:\\PRACA_MAGISTERSKA\\DATASETS\\PREDYKCJA\\videos\\taczka.mp4: 384x640 2 no_glovess, 2 no_vests, 3.4ms\n",
      "video 4/4 (frame 126/301) f:\\PRACA_MAGISTERSKA\\DATASETS\\PREDYKCJA\\videos\\taczka.mp4: 384x640 1 no_glasses, 2 no_glovess, 2 no_vests, 3.4ms\n",
      "video 4/4 (frame 127/301) f:\\PRACA_MAGISTERSKA\\DATASETS\\PREDYKCJA\\videos\\taczka.mp4: 384x640 1 no_glasses, 2 no_glovess, 1 no_vest, 3.4ms\n",
      "video 4/4 (frame 128/301) f:\\PRACA_MAGISTERSKA\\DATASETS\\PREDYKCJA\\videos\\taczka.mp4: 384x640 1 no_glasses, 2 no_glovess, 1 no_vest, 3.4ms\n",
      "video 4/4 (frame 129/301) f:\\PRACA_MAGISTERSKA\\DATASETS\\PREDYKCJA\\videos\\taczka.mp4: 384x640 2 no_glovess, 1 no_vest, 3.4ms\n",
      "video 4/4 (frame 130/301) f:\\PRACA_MAGISTERSKA\\DATASETS\\PREDYKCJA\\videos\\taczka.mp4: 384x640 2 no_glovess, 1 no_vest, 3.4ms\n",
      "video 4/4 (frame 131/301) f:\\PRACA_MAGISTERSKA\\DATASETS\\PREDYKCJA\\videos\\taczka.mp4: 384x640 2 no_glovess, 2 no_vests, 3.4ms\n",
      "video 4/4 (frame 132/301) f:\\PRACA_MAGISTERSKA\\DATASETS\\PREDYKCJA\\videos\\taczka.mp4: 384x640 2 no_glovess, 1 no_vest, 3.4ms\n",
      "video 4/4 (frame 133/301) f:\\PRACA_MAGISTERSKA\\DATASETS\\PREDYKCJA\\videos\\taczka.mp4: 384x640 2 no_glovess, 2 no_vests, 3.4ms\n",
      "video 4/4 (frame 134/301) f:\\PRACA_MAGISTERSKA\\DATASETS\\PREDYKCJA\\videos\\taczka.mp4: 384x640 1 no_gloves, 1 no_vest, 3.4ms\n",
      "video 4/4 (frame 135/301) f:\\PRACA_MAGISTERSKA\\DATASETS\\PREDYKCJA\\videos\\taczka.mp4: 384x640 1 no_gloves, 1 no_vest, 3.4ms\n",
      "video 4/4 (frame 136/301) f:\\PRACA_MAGISTERSKA\\DATASETS\\PREDYKCJA\\videos\\taczka.mp4: 384x640 1 no_vest, 3.4ms\n",
      "video 4/4 (frame 137/301) f:\\PRACA_MAGISTERSKA\\DATASETS\\PREDYKCJA\\videos\\taczka.mp4: 384x640 1 no_gloves, 1 no_vest, 3.4ms\n",
      "video 4/4 (frame 138/301) f:\\PRACA_MAGISTERSKA\\DATASETS\\PREDYKCJA\\videos\\taczka.mp4: 384x640 1 no_gloves, 3 no_vests, 3.4ms\n",
      "video 4/4 (frame 139/301) f:\\PRACA_MAGISTERSKA\\DATASETS\\PREDYKCJA\\videos\\taczka.mp4: 384x640 1 no_gloves, 3 no_vests, 3.4ms\n",
      "video 4/4 (frame 140/301) f:\\PRACA_MAGISTERSKA\\DATASETS\\PREDYKCJA\\videos\\taczka.mp4: 384x640 1 no_gloves, 3 no_vests, 3.4ms\n",
      "video 4/4 (frame 141/301) f:\\PRACA_MAGISTERSKA\\DATASETS\\PREDYKCJA\\videos\\taczka.mp4: 384x640 1 no_gloves, 3 no_vests, 3.4ms\n",
      "video 4/4 (frame 142/301) f:\\PRACA_MAGISTERSKA\\DATASETS\\PREDYKCJA\\videos\\taczka.mp4: 384x640 1 no_gloves, 2 no_vests, 3.4ms\n",
      "video 4/4 (frame 143/301) f:\\PRACA_MAGISTERSKA\\DATASETS\\PREDYKCJA\\videos\\taczka.mp4: 384x640 1 no_gloves, 1 no_helmet, 1 no_vest, 3.4ms\n",
      "video 4/4 (frame 144/301) f:\\PRACA_MAGISTERSKA\\DATASETS\\PREDYKCJA\\videos\\taczka.mp4: 384x640 1 no_gloves, 1 no_helmet, 1 no_vest, 3.4ms\n",
      "video 4/4 (frame 145/301) f:\\PRACA_MAGISTERSKA\\DATASETS\\PREDYKCJA\\videos\\taczka.mp4: 384x640 2 no_glovess, 1 no_helmet, 1 no_vest, 3.4ms\n",
      "video 4/4 (frame 146/301) f:\\PRACA_MAGISTERSKA\\DATASETS\\PREDYKCJA\\videos\\taczka.mp4: 384x640 2 no_glovess, 1 no_helmet, 1 no_vest, 3.4ms\n",
      "video 4/4 (frame 147/301) f:\\PRACA_MAGISTERSKA\\DATASETS\\PREDYKCJA\\videos\\taczka.mp4: 384x640 1 no_gloves, 1 no_helmet, 1 no_vest, 3.4ms\n",
      "video 4/4 (frame 148/301) f:\\PRACA_MAGISTERSKA\\DATASETS\\PREDYKCJA\\videos\\taczka.mp4: 384x640 1 no_glasses, 1 no_gloves, 1 no_helmet, 1 no_vest, 3.4ms\n",
      "video 4/4 (frame 149/301) f:\\PRACA_MAGISTERSKA\\DATASETS\\PREDYKCJA\\videos\\taczka.mp4: 384x640 1 no_gloves, 1 no_helmet, 1 no_vest, 3.4ms\n",
      "video 4/4 (frame 150/301) f:\\PRACA_MAGISTERSKA\\DATASETS\\PREDYKCJA\\videos\\taczka.mp4: 384x640 1 no_gloves, 1 no_helmet, 1 no_vest, 3.4ms\n",
      "video 4/4 (frame 151/301) f:\\PRACA_MAGISTERSKA\\DATASETS\\PREDYKCJA\\videos\\taczka.mp4: 384x640 1 no_gloves, 1 no_helmet, 1 no_vest, 3.4ms\n",
      "video 4/4 (frame 152/301) f:\\PRACA_MAGISTERSKA\\DATASETS\\PREDYKCJA\\videos\\taczka.mp4: 384x640 1 no_gloves, 1 no_helmet, 1 no_vest, 3.4ms\n",
      "video 4/4 (frame 153/301) f:\\PRACA_MAGISTERSKA\\DATASETS\\PREDYKCJA\\videos\\taczka.mp4: 384x640 1 no_gloves, 1 no_helmet, 1 no_vest, 3.4ms\n",
      "video 4/4 (frame 154/301) f:\\PRACA_MAGISTERSKA\\DATASETS\\PREDYKCJA\\videos\\taczka.mp4: 384x640 1 no_gloves, 1 no_helmet, 1 no_vest, 3.4ms\n",
      "video 4/4 (frame 155/301) f:\\PRACA_MAGISTERSKA\\DATASETS\\PREDYKCJA\\videos\\taczka.mp4: 384x640 1 no_gloves, 1 no_helmet, 1 no_vest, 3.4ms\n",
      "video 4/4 (frame 156/301) f:\\PRACA_MAGISTERSKA\\DATASETS\\PREDYKCJA\\videos\\taczka.mp4: 384x640 1 no_gloves, 1 no_helmet, 1 no_vest, 3.4ms\n",
      "video 4/4 (frame 157/301) f:\\PRACA_MAGISTERSKA\\DATASETS\\PREDYKCJA\\videos\\taczka.mp4: 384x640 1 no_gloves, 1 no_helmet, 1 no_vest, 3.4ms\n",
      "video 4/4 (frame 158/301) f:\\PRACA_MAGISTERSKA\\DATASETS\\PREDYKCJA\\videos\\taczka.mp4: 384x640 1 no_gloves, 1 no_helmet, 2 no_vests, 3.4ms\n",
      "video 4/4 (frame 159/301) f:\\PRACA_MAGISTERSKA\\DATASETS\\PREDYKCJA\\videos\\taczka.mp4: 384x640 1 no_gloves, 1 no_helmet, 1 no_vest, 3.4ms\n",
      "video 4/4 (frame 160/301) f:\\PRACA_MAGISTERSKA\\DATASETS\\PREDYKCJA\\videos\\taczka.mp4: 384x640 1 no_gloves, 1 no_helmet, 1 no_vest, 3.4ms\n",
      "video 4/4 (frame 161/301) f:\\PRACA_MAGISTERSKA\\DATASETS\\PREDYKCJA\\videos\\taczka.mp4: 384x640 1 no_gloves, 1 no_helmet, 1 no_vest, 3.4ms\n",
      "video 4/4 (frame 162/301) f:\\PRACA_MAGISTERSKA\\DATASETS\\PREDYKCJA\\videos\\taczka.mp4: 384x640 1 no_gloves, 1 no_helmet, 1 no_vest, 3.4ms\n",
      "video 4/4 (frame 163/301) f:\\PRACA_MAGISTERSKA\\DATASETS\\PREDYKCJA\\videos\\taczka.mp4: 384x640 1 no_gloves, 1 no_helmet, 2 no_vests, 3.4ms\n",
      "video 4/4 (frame 164/301) f:\\PRACA_MAGISTERSKA\\DATASETS\\PREDYKCJA\\videos\\taczka.mp4: 384x640 1 no_gloves, 1 no_helmet, 1 no_vest, 3.4ms\n",
      "video 4/4 (frame 165/301) f:\\PRACA_MAGISTERSKA\\DATASETS\\PREDYKCJA\\videos\\taczka.mp4: 384x640 1 no_gloves, 1 no_helmet, 3 no_vests, 3.4ms\n",
      "video 4/4 (frame 166/301) f:\\PRACA_MAGISTERSKA\\DATASETS\\PREDYKCJA\\videos\\taczka.mp4: 384x640 2 no_glovess, 1 no_helmet, 3 no_vests, 3.4ms\n",
      "video 4/4 (frame 167/301) f:\\PRACA_MAGISTERSKA\\DATASETS\\PREDYKCJA\\videos\\taczka.mp4: 384x640 2 no_glovess, 1 no_helmet, 3 no_vests, 3.4ms\n",
      "video 4/4 (frame 168/301) f:\\PRACA_MAGISTERSKA\\DATASETS\\PREDYKCJA\\videos\\taczka.mp4: 384x640 2 no_glovess, 1 no_helmet, 3 no_vests, 3.4ms\n",
      "video 4/4 (frame 169/301) f:\\PRACA_MAGISTERSKA\\DATASETS\\PREDYKCJA\\videos\\taczka.mp4: 384x640 2 no_glovess, 1 no_helmet, 2 no_vests, 3.4ms\n",
      "video 4/4 (frame 170/301) f:\\PRACA_MAGISTERSKA\\DATASETS\\PREDYKCJA\\videos\\taczka.mp4: 384x640 3 no_glovess, 1 no_helmet, 2 no_vests, 3.4ms\n",
      "video 4/4 (frame 171/301) f:\\PRACA_MAGISTERSKA\\DATASETS\\PREDYKCJA\\videos\\taczka.mp4: 384x640 3 no_glovess, 1 no_helmet, 3 no_vests, 3.4ms\n",
      "video 4/4 (frame 172/301) f:\\PRACA_MAGISTERSKA\\DATASETS\\PREDYKCJA\\videos\\taczka.mp4: 384x640 2 no_glovess, 1 no_helmet, 2 no_vests, 3.4ms\n",
      "video 4/4 (frame 173/301) f:\\PRACA_MAGISTERSKA\\DATASETS\\PREDYKCJA\\videos\\taczka.mp4: 384x640 2 no_glovess, 1 no_helmet, 3 no_vests, 3.4ms\n",
      "video 4/4 (frame 174/301) f:\\PRACA_MAGISTERSKA\\DATASETS\\PREDYKCJA\\videos\\taczka.mp4: 384x640 2 no_glovess, 1 no_helmet, 3 no_vests, 3.4ms\n",
      "video 4/4 (frame 175/301) f:\\PRACA_MAGISTERSKA\\DATASETS\\PREDYKCJA\\videos\\taczka.mp4: 384x640 2 no_glovess, 1 no_helmet, 3 no_vests, 3.4ms\n",
      "video 4/4 (frame 176/301) f:\\PRACA_MAGISTERSKA\\DATASETS\\PREDYKCJA\\videos\\taczka.mp4: 384x640 1 no_gloves, 1 no_helmet, 3 no_vests, 3.4ms\n",
      "video 4/4 (frame 177/301) f:\\PRACA_MAGISTERSKA\\DATASETS\\PREDYKCJA\\videos\\taczka.mp4: 384x640 2 no_glovess, 1 no_helmet, 2 no_vests, 3.4ms\n",
      "video 4/4 (frame 178/301) f:\\PRACA_MAGISTERSKA\\DATASETS\\PREDYKCJA\\videos\\taczka.mp4: 384x640 2 no_glovess, 1 no_helmet, 2 no_vests, 3.4ms\n",
      "video 4/4 (frame 179/301) f:\\PRACA_MAGISTERSKA\\DATASETS\\PREDYKCJA\\videos\\taczka.mp4: 384x640 2 no_glovess, 1 no_helmet, 2 no_vests, 3.4ms\n",
      "video 4/4 (frame 180/301) f:\\PRACA_MAGISTERSKA\\DATASETS\\PREDYKCJA\\videos\\taczka.mp4: 384x640 2 no_glovess, 1 no_helmet, 2 no_vests, 3.4ms\n",
      "video 4/4 (frame 181/301) f:\\PRACA_MAGISTERSKA\\DATASETS\\PREDYKCJA\\videos\\taczka.mp4: 384x640 3 no_glovess, 1 no_helmet, 1 no_vest, 3.4ms\n",
      "video 4/4 (frame 182/301) f:\\PRACA_MAGISTERSKA\\DATASETS\\PREDYKCJA\\videos\\taczka.mp4: 384x640 3 no_glovess, 1 no_helmet, 1 no_vest, 3.4ms\n",
      "video 4/4 (frame 183/301) f:\\PRACA_MAGISTERSKA\\DATASETS\\PREDYKCJA\\videos\\taczka.mp4: 384x640 3 no_glovess, 1 no_helmet, 1 no_vest, 3.4ms\n",
      "video 4/4 (frame 184/301) f:\\PRACA_MAGISTERSKA\\DATASETS\\PREDYKCJA\\videos\\taczka.mp4: 384x640 3 no_glovess, 1 no_helmet, 1 no_vest, 3.4ms\n",
      "video 4/4 (frame 185/301) f:\\PRACA_MAGISTERSKA\\DATASETS\\PREDYKCJA\\videos\\taczka.mp4: 384x640 2 no_glovess, 1 no_helmet, 2 no_vests, 3.4ms\n",
      "video 4/4 (frame 186/301) f:\\PRACA_MAGISTERSKA\\DATASETS\\PREDYKCJA\\videos\\taczka.mp4: 384x640 2 no_glovess, 1 no_helmet, 2 no_vests, 3.4ms\n",
      "video 4/4 (frame 187/301) f:\\PRACA_MAGISTERSKA\\DATASETS\\PREDYKCJA\\videos\\taczka.mp4: 384x640 2 no_glovess, 1 no_helmet, 2 no_vests, 3.4ms\n",
      "video 4/4 (frame 188/301) f:\\PRACA_MAGISTERSKA\\DATASETS\\PREDYKCJA\\videos\\taczka.mp4: 384x640 2 no_glovess, 1 no_helmet, 2 no_vests, 3.4ms\n",
      "video 4/4 (frame 189/301) f:\\PRACA_MAGISTERSKA\\DATASETS\\PREDYKCJA\\videos\\taczka.mp4: 384x640 2 no_glovess, 1 no_helmet, 2 no_vests, 3.4ms\n",
      "video 4/4 (frame 190/301) f:\\PRACA_MAGISTERSKA\\DATASETS\\PREDYKCJA\\videos\\taczka.mp4: 384x640 2 no_glovess, 1 no_helmet, 1 no_vest, 3.4ms\n",
      "video 4/4 (frame 191/301) f:\\PRACA_MAGISTERSKA\\DATASETS\\PREDYKCJA\\videos\\taczka.mp4: 384x640 2 no_glovess, 2 no_helmets, 2 no_vests, 3.4ms\n",
      "video 4/4 (frame 192/301) f:\\PRACA_MAGISTERSKA\\DATASETS\\PREDYKCJA\\videos\\taczka.mp4: 384x640 2 no_glovess, 1 no_helmet, 1 no_vest, 3.4ms\n",
      "video 4/4 (frame 193/301) f:\\PRACA_MAGISTERSKA\\DATASETS\\PREDYKCJA\\videos\\taczka.mp4: 384x640 2 no_glovess, 1 no_helmet, 1 no_vest, 3.4ms\n",
      "video 4/4 (frame 194/301) f:\\PRACA_MAGISTERSKA\\DATASETS\\PREDYKCJA\\videos\\taczka.mp4: 384x640 1 no_glasses, 2 no_glovess, 1 no_helmet, 2 no_vests, 3.4ms\n",
      "video 4/4 (frame 195/301) f:\\PRACA_MAGISTERSKA\\DATASETS\\PREDYKCJA\\videos\\taczka.mp4: 384x640 2 no_glovess, 1 no_helmet, 2 no_vests, 3.4ms\n",
      "video 4/4 (frame 196/301) f:\\PRACA_MAGISTERSKA\\DATASETS\\PREDYKCJA\\videos\\taczka.mp4: 384x640 2 no_glovess, 1 no_helmet, 3 no_vests, 3.4ms\n",
      "video 4/4 (frame 197/301) f:\\PRACA_MAGISTERSKA\\DATASETS\\PREDYKCJA\\videos\\taczka.mp4: 384x640 2 no_glovess, 1 no_helmet, 3 no_vests, 3.4ms\n",
      "video 4/4 (frame 198/301) f:\\PRACA_MAGISTERSKA\\DATASETS\\PREDYKCJA\\videos\\taczka.mp4: 384x640 2 no_glovess, 2 no_vests, 3.4ms\n",
      "video 4/4 (frame 199/301) f:\\PRACA_MAGISTERSKA\\DATASETS\\PREDYKCJA\\videos\\taczka.mp4: 384x640 2 no_glovess, 2 no_vests, 3.4ms\n",
      "video 4/4 (frame 200/301) f:\\PRACA_MAGISTERSKA\\DATASETS\\PREDYKCJA\\videos\\taczka.mp4: 384x640 2 no_glovess, 2 no_vests, 3.4ms\n",
      "video 4/4 (frame 201/301) f:\\PRACA_MAGISTERSKA\\DATASETS\\PREDYKCJA\\videos\\taczka.mp4: 384x640 2 no_glovess, 2 no_vests, 3.4ms\n",
      "video 4/4 (frame 202/301) f:\\PRACA_MAGISTERSKA\\DATASETS\\PREDYKCJA\\videos\\taczka.mp4: 384x640 2 no_glovess, 1 no_vest, 3.4ms\n",
      "video 4/4 (frame 203/301) f:\\PRACA_MAGISTERSKA\\DATASETS\\PREDYKCJA\\videos\\taczka.mp4: 384x640 2 no_glovess, 2 no_vests, 3.4ms\n",
      "video 4/4 (frame 204/301) f:\\PRACA_MAGISTERSKA\\DATASETS\\PREDYKCJA\\videos\\taczka.mp4: 384x640 2 no_glovess, 2 no_vests, 3.4ms\n",
      "video 4/4 (frame 205/301) f:\\PRACA_MAGISTERSKA\\DATASETS\\PREDYKCJA\\videos\\taczka.mp4: 384x640 2 no_glovess, 3 no_vests, 3.4ms\n",
      "video 4/4 (frame 206/301) f:\\PRACA_MAGISTERSKA\\DATASETS\\PREDYKCJA\\videos\\taczka.mp4: 384x640 2 no_glovess, 3 no_vests, 3.4ms\n",
      "video 4/4 (frame 207/301) f:\\PRACA_MAGISTERSKA\\DATASETS\\PREDYKCJA\\videos\\taczka.mp4: 384x640 3 no_glovess, 3 no_vests, 3.4ms\n",
      "video 4/4 (frame 208/301) f:\\PRACA_MAGISTERSKA\\DATASETS\\PREDYKCJA\\videos\\taczka.mp4: 384x640 2 no_glovess, 2 no_vests, 3.4ms\n",
      "video 4/4 (frame 209/301) f:\\PRACA_MAGISTERSKA\\DATASETS\\PREDYKCJA\\videos\\taczka.mp4: 384x640 2 no_glovess, 3 no_vests, 3.4ms\n",
      "video 4/4 (frame 210/301) f:\\PRACA_MAGISTERSKA\\DATASETS\\PREDYKCJA\\videos\\taczka.mp4: 384x640 2 no_glovess, 2 no_vests, 3.4ms\n",
      "video 4/4 (frame 211/301) f:\\PRACA_MAGISTERSKA\\DATASETS\\PREDYKCJA\\videos\\taczka.mp4: 384x640 2 no_glovess, 3 no_vests, 3.4ms\n",
      "video 4/4 (frame 212/301) f:\\PRACA_MAGISTERSKA\\DATASETS\\PREDYKCJA\\videos\\taczka.mp4: 384x640 2 no_glovess, 2 no_vests, 3.4ms\n",
      "video 4/4 (frame 213/301) f:\\PRACA_MAGISTERSKA\\DATASETS\\PREDYKCJA\\videos\\taczka.mp4: 384x640 2 no_glovess, 2 no_vests, 3.4ms\n",
      "video 4/4 (frame 214/301) f:\\PRACA_MAGISTERSKA\\DATASETS\\PREDYKCJA\\videos\\taczka.mp4: 384x640 2 no_glovess, 2 no_vests, 3.4ms\n",
      "video 4/4 (frame 215/301) f:\\PRACA_MAGISTERSKA\\DATASETS\\PREDYKCJA\\videos\\taczka.mp4: 384x640 2 no_glovess, 2 no_vests, 3.5ms\n",
      "video 4/4 (frame 216/301) f:\\PRACA_MAGISTERSKA\\DATASETS\\PREDYKCJA\\videos\\taczka.mp4: 384x640 2 no_glovess, 1 no_vest, 3.5ms\n",
      "video 4/4 (frame 217/301) f:\\PRACA_MAGISTERSKA\\DATASETS\\PREDYKCJA\\videos\\taczka.mp4: 384x640 2 no_glovess, 3.5ms\n",
      "video 4/4 (frame 218/301) f:\\PRACA_MAGISTERSKA\\DATASETS\\PREDYKCJA\\videos\\taczka.mp4: 384x640 2 no_glovess, 3.5ms\n",
      "video 4/4 (frame 219/301) f:\\PRACA_MAGISTERSKA\\DATASETS\\PREDYKCJA\\videos\\taczka.mp4: 384x640 2 no_glovess, 3.5ms\n",
      "video 4/4 (frame 220/301) f:\\PRACA_MAGISTERSKA\\DATASETS\\PREDYKCJA\\videos\\taczka.mp4: 384x640 2 no_glovess, 3.5ms\n",
      "video 4/4 (frame 221/301) f:\\PRACA_MAGISTERSKA\\DATASETS\\PREDYKCJA\\videos\\taczka.mp4: 384x640 2 no_glovess, 3.5ms\n",
      "video 4/4 (frame 222/301) f:\\PRACA_MAGISTERSKA\\DATASETS\\PREDYKCJA\\videos\\taczka.mp4: 384x640 2 no_glovess, 3.5ms\n",
      "video 4/4 (frame 223/301) f:\\PRACA_MAGISTERSKA\\DATASETS\\PREDYKCJA\\videos\\taczka.mp4: 384x640 2 no_glovess, 3.5ms\n",
      "video 4/4 (frame 224/301) f:\\PRACA_MAGISTERSKA\\DATASETS\\PREDYKCJA\\videos\\taczka.mp4: 384x640 2 no_glovess, 3.5ms\n",
      "video 4/4 (frame 225/301) f:\\PRACA_MAGISTERSKA\\DATASETS\\PREDYKCJA\\videos\\taczka.mp4: 384x640 2 no_glovess, 3.5ms\n",
      "video 4/4 (frame 226/301) f:\\PRACA_MAGISTERSKA\\DATASETS\\PREDYKCJA\\videos\\taczka.mp4: 384x640 2 no_glovess, 3.5ms\n",
      "video 4/4 (frame 227/301) f:\\PRACA_MAGISTERSKA\\DATASETS\\PREDYKCJA\\videos\\taczka.mp4: 384x640 2 no_glovess, 3.5ms\n",
      "video 4/4 (frame 228/301) f:\\PRACA_MAGISTERSKA\\DATASETS\\PREDYKCJA\\videos\\taczka.mp4: 384x640 2 no_glovess, 3.5ms\n",
      "video 4/4 (frame 229/301) f:\\PRACA_MAGISTERSKA\\DATASETS\\PREDYKCJA\\videos\\taczka.mp4: 384x640 2 no_glovess, 1 no_vest, 3.5ms\n",
      "video 4/4 (frame 230/301) f:\\PRACA_MAGISTERSKA\\DATASETS\\PREDYKCJA\\videos\\taczka.mp4: 384x640 2 no_glovess, 1 no_vest, 3.5ms\n",
      "video 4/4 (frame 231/301) f:\\PRACA_MAGISTERSKA\\DATASETS\\PREDYKCJA\\videos\\taczka.mp4: 384x640 2 no_glovess, 1 no_vest, 3.5ms\n",
      "video 4/4 (frame 232/301) f:\\PRACA_MAGISTERSKA\\DATASETS\\PREDYKCJA\\videos\\taczka.mp4: 384x640 2 no_glovess, 3.5ms\n",
      "video 4/4 (frame 233/301) f:\\PRACA_MAGISTERSKA\\DATASETS\\PREDYKCJA\\videos\\taczka.mp4: 384x640 2 no_glovess, 1 no_vest, 3.5ms\n",
      "video 4/4 (frame 234/301) f:\\PRACA_MAGISTERSKA\\DATASETS\\PREDYKCJA\\videos\\taczka.mp4: 384x640 2 no_glovess, 1 no_vest, 3.5ms\n",
      "video 4/4 (frame 235/301) f:\\PRACA_MAGISTERSKA\\DATASETS\\PREDYKCJA\\videos\\taczka.mp4: 384x640 2 no_glovess, 3.5ms\n",
      "video 4/4 (frame 236/301) f:\\PRACA_MAGISTERSKA\\DATASETS\\PREDYKCJA\\videos\\taczka.mp4: 384x640 2 no_glovess, 3.5ms\n",
      "video 4/4 (frame 237/301) f:\\PRACA_MAGISTERSKA\\DATASETS\\PREDYKCJA\\videos\\taczka.mp4: 384x640 2 no_glovess, 3.5ms\n",
      "video 4/4 (frame 238/301) f:\\PRACA_MAGISTERSKA\\DATASETS\\PREDYKCJA\\videos\\taczka.mp4: 384x640 2 no_glovess, 3.5ms\n",
      "video 4/4 (frame 239/301) f:\\PRACA_MAGISTERSKA\\DATASETS\\PREDYKCJA\\videos\\taczka.mp4: 384x640 2 no_glovess, 3.5ms\n",
      "video 4/4 (frame 240/301) f:\\PRACA_MAGISTERSKA\\DATASETS\\PREDYKCJA\\videos\\taczka.mp4: 384x640 2 no_glovess, 3.5ms\n",
      "video 4/4 (frame 241/301) f:\\PRACA_MAGISTERSKA\\DATASETS\\PREDYKCJA\\videos\\taczka.mp4: 384x640 2 no_glovess, 3.5ms\n",
      "video 4/4 (frame 242/301) f:\\PRACA_MAGISTERSKA\\DATASETS\\PREDYKCJA\\videos\\taczka.mp4: 384x640 2 no_glovess, 3.5ms\n",
      "video 4/4 (frame 243/301) f:\\PRACA_MAGISTERSKA\\DATASETS\\PREDYKCJA\\videos\\taczka.mp4: 384x640 3 no_glovess, 3.5ms\n",
      "video 4/4 (frame 244/301) f:\\PRACA_MAGISTERSKA\\DATASETS\\PREDYKCJA\\videos\\taczka.mp4: 384x640 3 no_glovess, 3.5ms\n",
      "video 4/4 (frame 245/301) f:\\PRACA_MAGISTERSKA\\DATASETS\\PREDYKCJA\\videos\\taczka.mp4: 384x640 3 no_glovess, 3.5ms\n",
      "video 4/4 (frame 246/301) f:\\PRACA_MAGISTERSKA\\DATASETS\\PREDYKCJA\\videos\\taczka.mp4: 384x640 3 no_glovess, 3.5ms\n",
      "video 4/4 (frame 247/301) f:\\PRACA_MAGISTERSKA\\DATASETS\\PREDYKCJA\\videos\\taczka.mp4: 384x640 2 no_glovess, 3.5ms\n",
      "video 4/4 (frame 248/301) f:\\PRACA_MAGISTERSKA\\DATASETS\\PREDYKCJA\\videos\\taczka.mp4: 384x640 3 no_glovess, 3.5ms\n",
      "video 4/4 (frame 249/301) f:\\PRACA_MAGISTERSKA\\DATASETS\\PREDYKCJA\\videos\\taczka.mp4: 384x640 3 no_glovess, 3.5ms\n",
      "video 4/4 (frame 250/301) f:\\PRACA_MAGISTERSKA\\DATASETS\\PREDYKCJA\\videos\\taczka.mp4: 384x640 3 no_glovess, 3.5ms\n",
      "video 4/4 (frame 251/301) f:\\PRACA_MAGISTERSKA\\DATASETS\\PREDYKCJA\\videos\\taczka.mp4: 384x640 3 no_glovess, 1 no_vest, 3.5ms\n",
      "video 4/4 (frame 252/301) f:\\PRACA_MAGISTERSKA\\DATASETS\\PREDYKCJA\\videos\\taczka.mp4: 384x640 3 no_glovess, 1 no_vest, 3.5ms\n",
      "video 4/4 (frame 253/301) f:\\PRACA_MAGISTERSKA\\DATASETS\\PREDYKCJA\\videos\\taczka.mp4: 384x640 5 no_glovess, 3.5ms\n",
      "video 4/4 (frame 254/301) f:\\PRACA_MAGISTERSKA\\DATASETS\\PREDYKCJA\\videos\\taczka.mp4: 384x640 4 no_glovess, 2 no_vests, 3.5ms\n",
      "video 4/4 (frame 255/301) f:\\PRACA_MAGISTERSKA\\DATASETS\\PREDYKCJA\\videos\\taczka.mp4: 384x640 4 no_glovess, 1 no_vest, 3.5ms\n",
      "video 4/4 (frame 256/301) f:\\PRACA_MAGISTERSKA\\DATASETS\\PREDYKCJA\\videos\\taczka.mp4: 384x640 4 no_glovess, 1 no_vest, 3.5ms\n",
      "video 4/4 (frame 257/301) f:\\PRACA_MAGISTERSKA\\DATASETS\\PREDYKCJA\\videos\\taczka.mp4: 384x640 4 no_glovess, 1 no_vest, 3.5ms\n",
      "video 4/4 (frame 258/301) f:\\PRACA_MAGISTERSKA\\DATASETS\\PREDYKCJA\\videos\\taczka.mp4: 384x640 4 no_glovess, 1 no_vest, 3.5ms\n",
      "video 4/4 (frame 259/301) f:\\PRACA_MAGISTERSKA\\DATASETS\\PREDYKCJA\\videos\\taczka.mp4: 384x640 5 no_glovess, 1 no_vest, 3.5ms\n",
      "video 4/4 (frame 260/301) f:\\PRACA_MAGISTERSKA\\DATASETS\\PREDYKCJA\\videos\\taczka.mp4: 384x640 5 no_glovess, 1 no_vest, 3.5ms\n",
      "video 4/4 (frame 261/301) f:\\PRACA_MAGISTERSKA\\DATASETS\\PREDYKCJA\\videos\\taczka.mp4: 384x640 4 no_glovess, 1 no_vest, 3.5ms\n",
      "video 4/4 (frame 262/301) f:\\PRACA_MAGISTERSKA\\DATASETS\\PREDYKCJA\\videos\\taczka.mp4: 384x640 4 no_glovess, 3.5ms\n",
      "video 4/4 (frame 263/301) f:\\PRACA_MAGISTERSKA\\DATASETS\\PREDYKCJA\\videos\\taczka.mp4: 384x640 4 no_glovess, 3.5ms\n",
      "video 4/4 (frame 264/301) f:\\PRACA_MAGISTERSKA\\DATASETS\\PREDYKCJA\\videos\\taczka.mp4: 384x640 4 no_glovess, 3.5ms\n",
      "video 4/4 (frame 265/301) f:\\PRACA_MAGISTERSKA\\DATASETS\\PREDYKCJA\\videos\\taczka.mp4: 384x640 5 no_glovess, 3.5ms\n",
      "video 4/4 (frame 266/301) f:\\PRACA_MAGISTERSKA\\DATASETS\\PREDYKCJA\\videos\\taczka.mp4: 384x640 3 no_glovess, 3.5ms\n",
      "video 4/4 (frame 267/301) f:\\PRACA_MAGISTERSKA\\DATASETS\\PREDYKCJA\\videos\\taczka.mp4: 384x640 4 no_glovess, 3.5ms\n",
      "video 4/4 (frame 268/301) f:\\PRACA_MAGISTERSKA\\DATASETS\\PREDYKCJA\\videos\\taczka.mp4: 384x640 4 no_glovess, 3.5ms\n",
      "video 4/4 (frame 269/301) f:\\PRACA_MAGISTERSKA\\DATASETS\\PREDYKCJA\\videos\\taczka.mp4: 384x640 4 no_glovess, 3.5ms\n",
      "video 4/4 (frame 270/301) f:\\PRACA_MAGISTERSKA\\DATASETS\\PREDYKCJA\\videos\\taczka.mp4: 384x640 4 no_glovess, 3.5ms\n",
      "video 4/4 (frame 271/301) f:\\PRACA_MAGISTERSKA\\DATASETS\\PREDYKCJA\\videos\\taczka.mp4: 384x640 4 no_glovess, 3.5ms\n",
      "video 4/4 (frame 272/301) f:\\PRACA_MAGISTERSKA\\DATASETS\\PREDYKCJA\\videos\\taczka.mp4: 384x640 3 no_glovess, 3.5ms\n",
      "video 4/4 (frame 273/301) f:\\PRACA_MAGISTERSKA\\DATASETS\\PREDYKCJA\\videos\\taczka.mp4: 384x640 3 no_glovess, 3.5ms\n",
      "video 4/4 (frame 274/301) f:\\PRACA_MAGISTERSKA\\DATASETS\\PREDYKCJA\\videos\\taczka.mp4: 384x640 5 no_glovess, 1 no_vest, 3.5ms\n",
      "video 4/4 (frame 275/301) f:\\PRACA_MAGISTERSKA\\DATASETS\\PREDYKCJA\\videos\\taczka.mp4: 384x640 4 no_glovess, 1 no_vest, 3.5ms\n",
      "video 4/4 (frame 276/301) f:\\PRACA_MAGISTERSKA\\DATASETS\\PREDYKCJA\\videos\\taczka.mp4: 384x640 3 no_glovess, 1 no_vest, 3.5ms\n",
      "video 4/4 (frame 277/301) f:\\PRACA_MAGISTERSKA\\DATASETS\\PREDYKCJA\\videos\\taczka.mp4: 384x640 2 no_glovess, 1 no_vest, 3.5ms\n",
      "video 4/4 (frame 278/301) f:\\PRACA_MAGISTERSKA\\DATASETS\\PREDYKCJA\\videos\\taczka.mp4: 384x640 2 no_glovess, 2 no_vests, 3.5ms\n",
      "video 4/4 (frame 279/301) f:\\PRACA_MAGISTERSKA\\DATASETS\\PREDYKCJA\\videos\\taczka.mp4: 384x640 3 no_glovess, 2 no_vests, 4.1ms\n",
      "video 4/4 (frame 280/301) f:\\PRACA_MAGISTERSKA\\DATASETS\\PREDYKCJA\\videos\\taczka.mp4: 384x640 3 no_glovess, 1 no_vest, 4.1ms\n",
      "video 4/4 (frame 281/301) f:\\PRACA_MAGISTERSKA\\DATASETS\\PREDYKCJA\\videos\\taczka.mp4: 384x640 4 no_glovess, 1 no_vest, 4.1ms\n",
      "video 4/4 (frame 282/301) f:\\PRACA_MAGISTERSKA\\DATASETS\\PREDYKCJA\\videos\\taczka.mp4: 384x640 3 no_glovess, 1 no_vest, 4.1ms\n",
      "video 4/4 (frame 283/301) f:\\PRACA_MAGISTERSKA\\DATASETS\\PREDYKCJA\\videos\\taczka.mp4: 384x640 3 no_glovess, 1 no_vest, 4.1ms\n",
      "video 4/4 (frame 284/301) f:\\PRACA_MAGISTERSKA\\DATASETS\\PREDYKCJA\\videos\\taczka.mp4: 384x640 2 no_glovess, 2 no_vests, 4.1ms\n",
      "video 4/4 (frame 285/301) f:\\PRACA_MAGISTERSKA\\DATASETS\\PREDYKCJA\\videos\\taczka.mp4: 384x640 1 no_gloves, 2 no_vests, 4.1ms\n",
      "video 4/4 (frame 286/301) f:\\PRACA_MAGISTERSKA\\DATASETS\\PREDYKCJA\\videos\\taczka.mp4: 384x640 1 no_gloves, 2 no_vests, 4.1ms\n",
      "video 4/4 (frame 287/301) f:\\PRACA_MAGISTERSKA\\DATASETS\\PREDYKCJA\\videos\\taczka.mp4: 384x640 2 no_glovess, 2 no_vests, 4.1ms\n",
      "video 4/4 (frame 288/301) f:\\PRACA_MAGISTERSKA\\DATASETS\\PREDYKCJA\\videos\\taczka.mp4: 384x640 1 no_vest, 4.1ms\n",
      "video 4/4 (frame 289/301) f:\\PRACA_MAGISTERSKA\\DATASETS\\PREDYKCJA\\videos\\taczka.mp4: 384x640 1 no_vest, 4.1ms\n",
      "video 4/4 (frame 290/301) f:\\PRACA_MAGISTERSKA\\DATASETS\\PREDYKCJA\\videos\\taczka.mp4: 384x640 2 no_vests, 4.1ms\n",
      "video 4/4 (frame 291/301) f:\\PRACA_MAGISTERSKA\\DATASETS\\PREDYKCJA\\videos\\taczka.mp4: 384x640 1 no_vest, 4.1ms\n",
      "video 4/4 (frame 292/301) f:\\PRACA_MAGISTERSKA\\DATASETS\\PREDYKCJA\\videos\\taczka.mp4: 384x640 (no detections), 4.1ms\n",
      "video 4/4 (frame 293/301) f:\\PRACA_MAGISTERSKA\\DATASETS\\PREDYKCJA\\videos\\taczka.mp4: 384x640 1 no_gloves, 1 no_vest, 4.1ms\n",
      "video 4/4 (frame 294/301) f:\\PRACA_MAGISTERSKA\\DATASETS\\PREDYKCJA\\videos\\taczka.mp4: 384x640 2 no_glovess, 1 no_vest, 4.1ms\n",
      "video 4/4 (frame 295/301) f:\\PRACA_MAGISTERSKA\\DATASETS\\PREDYKCJA\\videos\\taczka.mp4: 384x640 2 no_glovess, 1 no_vest, 4.1ms\n",
      "video 4/4 (frame 296/301) f:\\PRACA_MAGISTERSKA\\DATASETS\\PREDYKCJA\\videos\\taczka.mp4: 384x640 2 no_glovess, 1 no_vest, 4.1ms\n",
      "video 4/4 (frame 297/301) f:\\PRACA_MAGISTERSKA\\DATASETS\\PREDYKCJA\\videos\\taczka.mp4: 384x640 3 no_glovess, 1 no_vest, 4.1ms\n",
      "video 4/4 (frame 298/301) f:\\PRACA_MAGISTERSKA\\DATASETS\\PREDYKCJA\\videos\\taczka.mp4: 384x640 2 no_glovess, 4.1ms\n",
      "video 4/4 (frame 299/301) f:\\PRACA_MAGISTERSKA\\DATASETS\\PREDYKCJA\\videos\\taczka.mp4: 384x640 2 no_glovess, 4.1ms\n",
      "video 4/4 (frame 300/301) f:\\PRACA_MAGISTERSKA\\DATASETS\\PREDYKCJA\\videos\\taczka.mp4: 384x640 2 no_glovess, 4.1ms\n",
      "Speed: 1.9ms preprocess, 3.8ms inference, 0.7ms postprocess per image at shape (64, 3, 384, 640)\n",
      "Results saved to \u001b[1mruns\\detect\\predict6\u001b[0m\n"
     ]
    }
   ],
   "source": [
    "model = YOLO('runs/detect/dataset-v2-1/weights/epoch130.pt')\n",
    "start_time = time.time()\n",
    "results = model.predict(source=\"/PRACA_MAGISTERSKA/DATASETS/PREDYKCJA/videos\", show=False, device=0, save=True, show_conf=False, show_labels=False, conf=0.364, batch=64)\n",
    "end_time = time.time()"
   ]
  },
  {
   "cell_type": "code",
   "execution_count": 17,
   "id": "135c2fd2-424c-41f5-aca7-3efb35b3336e",
   "metadata": {},
   "outputs": [],
   "source": [
    "torch.cuda.empty_cache()"
   ]
  },
  {
   "cell_type": "code",
   "execution_count": 5,
   "id": "5e824b8a-8fc1-42d5-9623-05634c5cec11",
   "metadata": {},
   "outputs": [],
   "source": [
    "frame_count=1432\n",
    "total_time = end_time - start_time\n",
    "avg_fps = frame_count / total_time if total_time > 0 else 0"
   ]
  },
  {
   "cell_type": "code",
   "execution_count": 6,
   "id": "8da1ee40-ceef-41e0-b9be-5412854bf212",
   "metadata": {},
   "outputs": [
    {
     "data": {
      "text/plain": [
       "71.45238417940803"
      ]
     },
     "execution_count": 6,
     "metadata": {},
     "output_type": "execute_result"
    }
   ],
   "source": [
    "avg_fps"
   ]
  },
  {
   "cell_type": "code",
   "execution_count": null,
   "id": "dd4ca68d-d212-47d5-9cb2-a5d15e9ed8fe",
   "metadata": {},
   "outputs": [],
   "source": []
  }
 ],
 "metadata": {
  "kernelspec": {
   "display_name": "Python 3 (ipykernel)",
   "language": "python",
   "name": "python3"
  },
  "language_info": {
   "codemirror_mode": {
    "name": "ipython",
    "version": 3
   },
   "file_extension": ".py",
   "mimetype": "text/x-python",
   "name": "python",
   "nbconvert_exporter": "python",
   "pygments_lexer": "ipython3",
   "version": "3.11.11"
  }
 },
 "nbformat": 4,
 "nbformat_minor": 5
}
