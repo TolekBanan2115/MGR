{
 "cells": [
  {
   "cell_type": "code",
   "execution_count": 1,
   "id": "d45c0da7-72f8-4f5e-ba70-7d79a4a522cf",
   "metadata": {},
   "outputs": [],
   "source": [
    "from ultralytics import YOLO\n",
    "import os\n",
    "import tensorboard"
   ]
  },
  {
   "cell_type": "code",
   "execution_count": 2,
   "id": "92d6d0f3-9493-4a2c-9c8d-3d5ec5110c4a",
   "metadata": {},
   "outputs": [
    {
     "name": "stdout",
     "output_type": "stream",
     "text": [
      " Volume in drive F is superszybkissd\n",
      " Volume Serial Number is 98A2-EE81\n",
      "\n",
      " Directory of f:\\PRACA_MAGISTERSKA\\UCZENIE_MODELI\\yolov10x\n",
      "\n",
      "16.06.2025  15:12    <DIR>          .\n",
      "23.06.2025  14:58    <DIR>          ..\n",
      "22.03.2025  03:21    <DIR>          .ipynb_checkpoints\n",
      "22.03.2025  03:21               150 data.yaml\n",
      "03.03.2025  17:19    <DIR>          predictions\n",
      "03.03.2025  01:42    <DIR>          runs\n",
      "03.03.2025  01:42         5˙613˙764 yolo11n.pt\n",
      "16.06.2025  15:12           850˙256 yolov10x.ipynb\n",
      "26.02.2025  13:18        64˙395˙854 yolov10x.pt\n",
      "               4 File(s)     70˙860˙024 bytes\n",
      "               5 Dir(s)  81˙516˙949˙504 bytes free\n"
     ]
    }
   ],
   "source": [
    "ls"
   ]
  },
  {
   "cell_type": "code",
   "execution_count": 3,
   "id": "1236cc0c-eac3-4693-8c4b-c7272ebf210b",
   "metadata": {},
   "outputs": [
    {
     "data": {
      "text/html": [
       "\n",
       "      <iframe id=\"tensorboard-frame-bbdf69484aa3ffb9\" width=\"100%\" height=\"800\" frameborder=\"0\">\n",
       "      </iframe>\n",
       "      <script>\n",
       "        (function() {\n",
       "          const frame = document.getElementById(\"tensorboard-frame-bbdf69484aa3ffb9\");\n",
       "          const url = new URL(\"/\", window.location);\n",
       "          const port = 6007;\n",
       "          if (port) {\n",
       "            url.port = port;\n",
       "          }\n",
       "          frame.src = url;\n",
       "        })();\n",
       "      </script>\n",
       "    "
      ],
      "text/plain": [
       "<IPython.core.display.HTML object>"
      ]
     },
     "metadata": {},
     "output_type": "display_data"
    }
   ],
   "source": [
    "%load_ext tensorboard\n",
    "%tensorboard --logdir runs/detect"
   ]
  },
  {
   "cell_type": "code",
   "execution_count": 5,
   "id": "d01d6854-8c36-44b1-8280-7399ea1e20e3",
   "metadata": {
    "scrolled": true
   },
   "outputs": [
    {
     "name": "stdout",
     "output_type": "stream",
     "text": [
      "YOLOv10x summary: 400 layers, 31,808,960 parameters, 0 gradients, 171.8 GFLOPs\n",
      "New https://pypi.org/project/ultralytics/8.3.107 available  Update with 'pip install -U ultralytics'\n",
      "Ultralytics 8.3.82  Python-3.11.11 torch-2.5.1 CUDA:0 (NVIDIA GeForce RTX 3060, 12288MiB)\n",
      "\u001b[34m\u001b[1mengine\\trainer: \u001b[0mtask=detect, mode=train, model=yolov10x.pt, data=data.yaml, epochs=200, time=None, patience=40, batch=0.9, imgsz=640, save=True, save_period=10, cache=False, device=0, workers=8, project=None, name=dataset-v2-finetune-1, exist_ok=False, pretrained=True, optimizer=auto, verbose=True, seed=0, deterministic=True, single_cls=False, rect=False, cos_lr=False, close_mosaic=10, resume=False, amp=True, fraction=1.0, profile=False, freeze=10, multi_scale=False, overlap_mask=True, mask_ratio=4, dropout=0.0, val=True, split=val, save_json=False, save_hybrid=False, conf=None, iou=0.7, max_det=300, half=False, dnn=False, plots=True, source=None, vid_stride=1, stream_buffer=False, visualize=False, augment=False, agnostic_nms=False, classes=None, retina_masks=False, embed=None, show=False, save_frames=False, save_txt=False, save_conf=False, save_crop=False, show_labels=True, show_conf=True, show_boxes=True, line_width=None, format=torchscript, keras=False, optimize=False, int8=False, dynamic=False, simplify=True, opset=None, workspace=None, nms=False, lr0=0.01, lrf=0.01, momentum=0.937, weight_decay=0.0005, warmup_epochs=3.0, warmup_momentum=0.8, warmup_bias_lr=0.1, box=7.5, cls=0.5, dfl=1.5, pose=12.0, kobj=1.0, nbs=64, hsv_h=0.015, hsv_s=0.7, hsv_v=0.4, degrees=0.0, translate=0.1, scale=0.5, shear=0.0, perspective=0.0, flipud=0.0, fliplr=0.5, bgr=0.0, mosaic=1.0, mixup=0.0, copy_paste=0.0, copy_paste_mode=flip, auto_augment=randaugment, erasing=0.4, crop_fraction=1.0, cfg=None, tracker=botsort.yaml, save_dir=runs\\detect\\dataset-v2-finetune-1\n",
      "Overriding model.yaml nc=80 with nc=4\n",
      "\n",
      "                   from  n    params  module                                       arguments                     \n",
      "  0                  -1  1      2320  ultralytics.nn.modules.conv.Conv             [3, 80, 3, 2]                 \n",
      "  1                  -1  1    115520  ultralytics.nn.modules.conv.Conv             [80, 160, 3, 2]               \n",
      "  2                  -1  3    436800  ultralytics.nn.modules.block.C2f             [160, 160, 3, True]           \n",
      "  3                  -1  1    461440  ultralytics.nn.modules.conv.Conv             [160, 320, 3, 2]              \n",
      "  4                  -1  6   3281920  ultralytics.nn.modules.block.C2f             [320, 320, 6, True]           \n",
      "  5                  -1  1    213120  ultralytics.nn.modules.block.SCDown          [320, 640, 3, 2]              \n",
      "  6                  -1  6   4604160  ultralytics.nn.modules.block.C2fCIB          [640, 640, 6, True]           \n",
      "  7                  -1  1    417920  ultralytics.nn.modules.block.SCDown          [640, 640, 3, 2]              \n",
      "  8                  -1  3   2712960  ultralytics.nn.modules.block.C2fCIB          [640, 640, 3, True]           \n",
      "  9                  -1  1   1025920  ultralytics.nn.modules.block.SPPF            [640, 640, 5]                 \n",
      " 10                  -1  1   1545920  ultralytics.nn.modules.block.PSA             [640, 640]                    \n",
      " 11                  -1  1         0  torch.nn.modules.upsampling.Upsample         [None, 2, 'nearest']          \n",
      " 12             [-1, 6]  1         0  ultralytics.nn.modules.conv.Concat           [1]                           \n",
      " 13                  -1  3   3122560  ultralytics.nn.modules.block.C2fCIB          [1280, 640, 3, True]          \n",
      " 14                  -1  1         0  torch.nn.modules.upsampling.Upsample         [None, 2, 'nearest']          \n",
      " 15             [-1, 4]  1         0  ultralytics.nn.modules.conv.Concat           [1]                           \n",
      " 16                  -1  3   1948800  ultralytics.nn.modules.block.C2f             [960, 320, 3]                 \n",
      " 17                  -1  1    922240  ultralytics.nn.modules.conv.Conv             [320, 320, 3, 2]              \n",
      " 18            [-1, 13]  1         0  ultralytics.nn.modules.conv.Concat           [1]                           \n",
      " 19                  -1  3   2917760  ultralytics.nn.modules.block.C2fCIB          [960, 640, 3, True]           \n",
      " 20                  -1  1    417920  ultralytics.nn.modules.block.SCDown          [640, 640, 3, 2]              \n",
      " 21            [-1, 10]  1         0  ultralytics.nn.modules.conv.Concat           [1]                           \n",
      " 22                  -1  3   3122560  ultralytics.nn.modules.block.C2fCIB          [1280, 640, 3, True]          \n",
      " 23        [16, 19, 22]  1   4392744  ultralytics.nn.modules.head.v10Detect        [4, [320, 640, 640]]          \n",
      "YOLOv10x summary: 400 layers, 31,662,584 parameters, 31,662,568 gradients, 171.0 GFLOPs\n",
      "\n",
      "Transferred 1123/1135 items from pretrained weights\n",
      "\u001b[34m\u001b[1mTensorBoard: \u001b[0mStart with 'tensorboard --logdir runs\\detect\\dataset-v2-finetune-1', view at http://localhost:6006/\n",
      "Freezing layer 'model.0.conv.weight'\n",
      "Freezing layer 'model.0.bn.weight'\n",
      "Freezing layer 'model.0.bn.bias'\n",
      "Freezing layer 'model.1.conv.weight'\n",
      "Freezing layer 'model.1.bn.weight'\n",
      "Freezing layer 'model.1.bn.bias'\n",
      "Freezing layer 'model.2.cv1.conv.weight'\n",
      "Freezing layer 'model.2.cv1.bn.weight'\n",
      "Freezing layer 'model.2.cv1.bn.bias'\n",
      "Freezing layer 'model.2.cv2.conv.weight'\n",
      "Freezing layer 'model.2.cv2.bn.weight'\n",
      "Freezing layer 'model.2.cv2.bn.bias'\n",
      "Freezing layer 'model.2.m.0.cv1.conv.weight'\n",
      "Freezing layer 'model.2.m.0.cv1.bn.weight'\n",
      "Freezing layer 'model.2.m.0.cv1.bn.bias'\n",
      "Freezing layer 'model.2.m.0.cv2.conv.weight'\n",
      "Freezing layer 'model.2.m.0.cv2.bn.weight'\n",
      "Freezing layer 'model.2.m.0.cv2.bn.bias'\n",
      "Freezing layer 'model.2.m.1.cv1.conv.weight'\n",
      "Freezing layer 'model.2.m.1.cv1.bn.weight'\n",
      "Freezing layer 'model.2.m.1.cv1.bn.bias'\n",
      "Freezing layer 'model.2.m.1.cv2.conv.weight'\n",
      "Freezing layer 'model.2.m.1.cv2.bn.weight'\n",
      "Freezing layer 'model.2.m.1.cv2.bn.bias'\n",
      "Freezing layer 'model.2.m.2.cv1.conv.weight'\n",
      "Freezing layer 'model.2.m.2.cv1.bn.weight'\n",
      "Freezing layer 'model.2.m.2.cv1.bn.bias'\n",
      "Freezing layer 'model.2.m.2.cv2.conv.weight'\n",
      "Freezing layer 'model.2.m.2.cv2.bn.weight'\n",
      "Freezing layer 'model.2.m.2.cv2.bn.bias'\n",
      "Freezing layer 'model.3.conv.weight'\n",
      "Freezing layer 'model.3.bn.weight'\n",
      "Freezing layer 'model.3.bn.bias'\n",
      "Freezing layer 'model.4.cv1.conv.weight'\n",
      "Freezing layer 'model.4.cv1.bn.weight'\n",
      "Freezing layer 'model.4.cv1.bn.bias'\n",
      "Freezing layer 'model.4.cv2.conv.weight'\n",
      "Freezing layer 'model.4.cv2.bn.weight'\n",
      "Freezing layer 'model.4.cv2.bn.bias'\n",
      "Freezing layer 'model.4.m.0.cv1.conv.weight'\n",
      "Freezing layer 'model.4.m.0.cv1.bn.weight'\n",
      "Freezing layer 'model.4.m.0.cv1.bn.bias'\n",
      "Freezing layer 'model.4.m.0.cv2.conv.weight'\n",
      "Freezing layer 'model.4.m.0.cv2.bn.weight'\n",
      "Freezing layer 'model.4.m.0.cv2.bn.bias'\n",
      "Freezing layer 'model.4.m.1.cv1.conv.weight'\n",
      "Freezing layer 'model.4.m.1.cv1.bn.weight'\n",
      "Freezing layer 'model.4.m.1.cv1.bn.bias'\n",
      "Freezing layer 'model.4.m.1.cv2.conv.weight'\n",
      "Freezing layer 'model.4.m.1.cv2.bn.weight'\n",
      "Freezing layer 'model.4.m.1.cv2.bn.bias'\n",
      "Freezing layer 'model.4.m.2.cv1.conv.weight'\n",
      "Freezing layer 'model.4.m.2.cv1.bn.weight'\n",
      "Freezing layer 'model.4.m.2.cv1.bn.bias'\n",
      "Freezing layer 'model.4.m.2.cv2.conv.weight'\n",
      "Freezing layer 'model.4.m.2.cv2.bn.weight'\n",
      "Freezing layer 'model.4.m.2.cv2.bn.bias'\n",
      "Freezing layer 'model.4.m.3.cv1.conv.weight'\n",
      "Freezing layer 'model.4.m.3.cv1.bn.weight'\n",
      "Freezing layer 'model.4.m.3.cv1.bn.bias'\n",
      "Freezing layer 'model.4.m.3.cv2.conv.weight'\n",
      "Freezing layer 'model.4.m.3.cv2.bn.weight'\n",
      "Freezing layer 'model.4.m.3.cv2.bn.bias'\n",
      "Freezing layer 'model.4.m.4.cv1.conv.weight'\n",
      "Freezing layer 'model.4.m.4.cv1.bn.weight'\n",
      "Freezing layer 'model.4.m.4.cv1.bn.bias'\n",
      "Freezing layer 'model.4.m.4.cv2.conv.weight'\n",
      "Freezing layer 'model.4.m.4.cv2.bn.weight'\n",
      "Freezing layer 'model.4.m.4.cv2.bn.bias'\n",
      "Freezing layer 'model.4.m.5.cv1.conv.weight'\n",
      "Freezing layer 'model.4.m.5.cv1.bn.weight'\n",
      "Freezing layer 'model.4.m.5.cv1.bn.bias'\n",
      "Freezing layer 'model.4.m.5.cv2.conv.weight'\n",
      "Freezing layer 'model.4.m.5.cv2.bn.weight'\n",
      "Freezing layer 'model.4.m.5.cv2.bn.bias'\n",
      "Freezing layer 'model.5.cv1.conv.weight'\n",
      "Freezing layer 'model.5.cv1.bn.weight'\n",
      "Freezing layer 'model.5.cv1.bn.bias'\n",
      "Freezing layer 'model.5.cv2.conv.weight'\n",
      "Freezing layer 'model.5.cv2.bn.weight'\n",
      "Freezing layer 'model.5.cv2.bn.bias'\n",
      "Freezing layer 'model.6.cv1.conv.weight'\n",
      "Freezing layer 'model.6.cv1.bn.weight'\n",
      "Freezing layer 'model.6.cv1.bn.bias'\n",
      "Freezing layer 'model.6.cv2.conv.weight'\n",
      "Freezing layer 'model.6.cv2.bn.weight'\n",
      "Freezing layer 'model.6.cv2.bn.bias'\n",
      "Freezing layer 'model.6.m.0.cv1.0.conv.weight'\n",
      "Freezing layer 'model.6.m.0.cv1.0.bn.weight'\n",
      "Freezing layer 'model.6.m.0.cv1.0.bn.bias'\n",
      "Freezing layer 'model.6.m.0.cv1.1.conv.weight'\n",
      "Freezing layer 'model.6.m.0.cv1.1.bn.weight'\n",
      "Freezing layer 'model.6.m.0.cv1.1.bn.bias'\n",
      "Freezing layer 'model.6.m.0.cv1.2.conv.weight'\n",
      "Freezing layer 'model.6.m.0.cv1.2.bn.weight'\n",
      "Freezing layer 'model.6.m.0.cv1.2.bn.bias'\n",
      "Freezing layer 'model.6.m.0.cv1.3.conv.weight'\n",
      "Freezing layer 'model.6.m.0.cv1.3.bn.weight'\n",
      "Freezing layer 'model.6.m.0.cv1.3.bn.bias'\n",
      "Freezing layer 'model.6.m.0.cv1.4.conv.weight'\n",
      "Freezing layer 'model.6.m.0.cv1.4.bn.weight'\n",
      "Freezing layer 'model.6.m.0.cv1.4.bn.bias'\n",
      "Freezing layer 'model.6.m.1.cv1.0.conv.weight'\n",
      "Freezing layer 'model.6.m.1.cv1.0.bn.weight'\n",
      "Freezing layer 'model.6.m.1.cv1.0.bn.bias'\n",
      "Freezing layer 'model.6.m.1.cv1.1.conv.weight'\n",
      "Freezing layer 'model.6.m.1.cv1.1.bn.weight'\n",
      "Freezing layer 'model.6.m.1.cv1.1.bn.bias'\n",
      "Freezing layer 'model.6.m.1.cv1.2.conv.weight'\n",
      "Freezing layer 'model.6.m.1.cv1.2.bn.weight'\n",
      "Freezing layer 'model.6.m.1.cv1.2.bn.bias'\n",
      "Freezing layer 'model.6.m.1.cv1.3.conv.weight'\n",
      "Freezing layer 'model.6.m.1.cv1.3.bn.weight'\n",
      "Freezing layer 'model.6.m.1.cv1.3.bn.bias'\n",
      "Freezing layer 'model.6.m.1.cv1.4.conv.weight'\n",
      "Freezing layer 'model.6.m.1.cv1.4.bn.weight'\n",
      "Freezing layer 'model.6.m.1.cv1.4.bn.bias'\n",
      "Freezing layer 'model.6.m.2.cv1.0.conv.weight'\n",
      "Freezing layer 'model.6.m.2.cv1.0.bn.weight'\n",
      "Freezing layer 'model.6.m.2.cv1.0.bn.bias'\n",
      "Freezing layer 'model.6.m.2.cv1.1.conv.weight'\n",
      "Freezing layer 'model.6.m.2.cv1.1.bn.weight'\n",
      "Freezing layer 'model.6.m.2.cv1.1.bn.bias'\n",
      "Freezing layer 'model.6.m.2.cv1.2.conv.weight'\n",
      "Freezing layer 'model.6.m.2.cv1.2.bn.weight'\n",
      "Freezing layer 'model.6.m.2.cv1.2.bn.bias'\n",
      "Freezing layer 'model.6.m.2.cv1.3.conv.weight'\n",
      "Freezing layer 'model.6.m.2.cv1.3.bn.weight'\n",
      "Freezing layer 'model.6.m.2.cv1.3.bn.bias'\n",
      "Freezing layer 'model.6.m.2.cv1.4.conv.weight'\n",
      "Freezing layer 'model.6.m.2.cv1.4.bn.weight'\n",
      "Freezing layer 'model.6.m.2.cv1.4.bn.bias'\n",
      "Freezing layer 'model.6.m.3.cv1.0.conv.weight'\n",
      "Freezing layer 'model.6.m.3.cv1.0.bn.weight'\n",
      "Freezing layer 'model.6.m.3.cv1.0.bn.bias'\n",
      "Freezing layer 'model.6.m.3.cv1.1.conv.weight'\n",
      "Freezing layer 'model.6.m.3.cv1.1.bn.weight'\n",
      "Freezing layer 'model.6.m.3.cv1.1.bn.bias'\n",
      "Freezing layer 'model.6.m.3.cv1.2.conv.weight'\n",
      "Freezing layer 'model.6.m.3.cv1.2.bn.weight'\n",
      "Freezing layer 'model.6.m.3.cv1.2.bn.bias'\n",
      "Freezing layer 'model.6.m.3.cv1.3.conv.weight'\n",
      "Freezing layer 'model.6.m.3.cv1.3.bn.weight'\n",
      "Freezing layer 'model.6.m.3.cv1.3.bn.bias'\n",
      "Freezing layer 'model.6.m.3.cv1.4.conv.weight'\n",
      "Freezing layer 'model.6.m.3.cv1.4.bn.weight'\n",
      "Freezing layer 'model.6.m.3.cv1.4.bn.bias'\n",
      "Freezing layer 'model.6.m.4.cv1.0.conv.weight'\n",
      "Freezing layer 'model.6.m.4.cv1.0.bn.weight'\n",
      "Freezing layer 'model.6.m.4.cv1.0.bn.bias'\n",
      "Freezing layer 'model.6.m.4.cv1.1.conv.weight'\n",
      "Freezing layer 'model.6.m.4.cv1.1.bn.weight'\n",
      "Freezing layer 'model.6.m.4.cv1.1.bn.bias'\n",
      "Freezing layer 'model.6.m.4.cv1.2.conv.weight'\n",
      "Freezing layer 'model.6.m.4.cv1.2.bn.weight'\n",
      "Freezing layer 'model.6.m.4.cv1.2.bn.bias'\n",
      "Freezing layer 'model.6.m.4.cv1.3.conv.weight'\n",
      "Freezing layer 'model.6.m.4.cv1.3.bn.weight'\n",
      "Freezing layer 'model.6.m.4.cv1.3.bn.bias'\n",
      "Freezing layer 'model.6.m.4.cv1.4.conv.weight'\n",
      "Freezing layer 'model.6.m.4.cv1.4.bn.weight'\n",
      "Freezing layer 'model.6.m.4.cv1.4.bn.bias'\n",
      "Freezing layer 'model.6.m.5.cv1.0.conv.weight'\n",
      "Freezing layer 'model.6.m.5.cv1.0.bn.weight'\n",
      "Freezing layer 'model.6.m.5.cv1.0.bn.bias'\n",
      "Freezing layer 'model.6.m.5.cv1.1.conv.weight'\n",
      "Freezing layer 'model.6.m.5.cv1.1.bn.weight'\n",
      "Freezing layer 'model.6.m.5.cv1.1.bn.bias'\n",
      "Freezing layer 'model.6.m.5.cv1.2.conv.weight'\n",
      "Freezing layer 'model.6.m.5.cv1.2.bn.weight'\n",
      "Freezing layer 'model.6.m.5.cv1.2.bn.bias'\n",
      "Freezing layer 'model.6.m.5.cv1.3.conv.weight'\n",
      "Freezing layer 'model.6.m.5.cv1.3.bn.weight'\n",
      "Freezing layer 'model.6.m.5.cv1.3.bn.bias'\n",
      "Freezing layer 'model.6.m.5.cv1.4.conv.weight'\n",
      "Freezing layer 'model.6.m.5.cv1.4.bn.weight'\n",
      "Freezing layer 'model.6.m.5.cv1.4.bn.bias'\n",
      "Freezing layer 'model.7.cv1.conv.weight'\n",
      "Freezing layer 'model.7.cv1.bn.weight'\n",
      "Freezing layer 'model.7.cv1.bn.bias'\n",
      "Freezing layer 'model.7.cv2.conv.weight'\n",
      "Freezing layer 'model.7.cv2.bn.weight'\n",
      "Freezing layer 'model.7.cv2.bn.bias'\n",
      "Freezing layer 'model.8.cv1.conv.weight'\n",
      "Freezing layer 'model.8.cv1.bn.weight'\n",
      "Freezing layer 'model.8.cv1.bn.bias'\n",
      "Freezing layer 'model.8.cv2.conv.weight'\n",
      "Freezing layer 'model.8.cv2.bn.weight'\n",
      "Freezing layer 'model.8.cv2.bn.bias'\n",
      "Freezing layer 'model.8.m.0.cv1.0.conv.weight'\n",
      "Freezing layer 'model.8.m.0.cv1.0.bn.weight'\n",
      "Freezing layer 'model.8.m.0.cv1.0.bn.bias'\n",
      "Freezing layer 'model.8.m.0.cv1.1.conv.weight'\n",
      "Freezing layer 'model.8.m.0.cv1.1.bn.weight'\n",
      "Freezing layer 'model.8.m.0.cv1.1.bn.bias'\n",
      "Freezing layer 'model.8.m.0.cv1.2.conv.weight'\n",
      "Freezing layer 'model.8.m.0.cv1.2.bn.weight'\n",
      "Freezing layer 'model.8.m.0.cv1.2.bn.bias'\n",
      "Freezing layer 'model.8.m.0.cv1.3.conv.weight'\n",
      "Freezing layer 'model.8.m.0.cv1.3.bn.weight'\n",
      "Freezing layer 'model.8.m.0.cv1.3.bn.bias'\n",
      "Freezing layer 'model.8.m.0.cv1.4.conv.weight'\n",
      "Freezing layer 'model.8.m.0.cv1.4.bn.weight'\n",
      "Freezing layer 'model.8.m.0.cv1.4.bn.bias'\n",
      "Freezing layer 'model.8.m.1.cv1.0.conv.weight'\n",
      "Freezing layer 'model.8.m.1.cv1.0.bn.weight'\n",
      "Freezing layer 'model.8.m.1.cv1.0.bn.bias'\n",
      "Freezing layer 'model.8.m.1.cv1.1.conv.weight'\n",
      "Freezing layer 'model.8.m.1.cv1.1.bn.weight'\n",
      "Freezing layer 'model.8.m.1.cv1.1.bn.bias'\n",
      "Freezing layer 'model.8.m.1.cv1.2.conv.weight'\n",
      "Freezing layer 'model.8.m.1.cv1.2.bn.weight'\n",
      "Freezing layer 'model.8.m.1.cv1.2.bn.bias'\n",
      "Freezing layer 'model.8.m.1.cv1.3.conv.weight'\n",
      "Freezing layer 'model.8.m.1.cv1.3.bn.weight'\n",
      "Freezing layer 'model.8.m.1.cv1.3.bn.bias'\n",
      "Freezing layer 'model.8.m.1.cv1.4.conv.weight'\n",
      "Freezing layer 'model.8.m.1.cv1.4.bn.weight'\n",
      "Freezing layer 'model.8.m.1.cv1.4.bn.bias'\n",
      "Freezing layer 'model.8.m.2.cv1.0.conv.weight'\n",
      "Freezing layer 'model.8.m.2.cv1.0.bn.weight'\n",
      "Freezing layer 'model.8.m.2.cv1.0.bn.bias'\n",
      "Freezing layer 'model.8.m.2.cv1.1.conv.weight'\n",
      "Freezing layer 'model.8.m.2.cv1.1.bn.weight'\n",
      "Freezing layer 'model.8.m.2.cv1.1.bn.bias'\n",
      "Freezing layer 'model.8.m.2.cv1.2.conv.weight'\n",
      "Freezing layer 'model.8.m.2.cv1.2.bn.weight'\n",
      "Freezing layer 'model.8.m.2.cv1.2.bn.bias'\n",
      "Freezing layer 'model.8.m.2.cv1.3.conv.weight'\n",
      "Freezing layer 'model.8.m.2.cv1.3.bn.weight'\n",
      "Freezing layer 'model.8.m.2.cv1.3.bn.bias'\n",
      "Freezing layer 'model.8.m.2.cv1.4.conv.weight'\n",
      "Freezing layer 'model.8.m.2.cv1.4.bn.weight'\n",
      "Freezing layer 'model.8.m.2.cv1.4.bn.bias'\n",
      "Freezing layer 'model.9.cv1.conv.weight'\n",
      "Freezing layer 'model.9.cv1.bn.weight'\n",
      "Freezing layer 'model.9.cv1.bn.bias'\n",
      "Freezing layer 'model.9.cv2.conv.weight'\n",
      "Freezing layer 'model.9.cv2.bn.weight'\n",
      "Freezing layer 'model.9.cv2.bn.bias'\n",
      "Freezing layer 'model.23.dfl.conv.weight'\n",
      "\u001b[34m\u001b[1mAMP: \u001b[0mrunning Automatic Mixed Precision (AMP) checks...\n",
      "\u001b[34m\u001b[1mAMP: \u001b[0mchecks passed \n"
     ]
    },
    {
     "name": "stderr",
     "output_type": "stream",
     "text": [
      "\u001b[34m\u001b[1mtrain: \u001b[0mScanning F:\\PRACA_MAGISTERSKA\\DATASETS\\MAGISTERKA-V2\\labels\\train.cache... 2036 images, 436 backgrounds, 0 corru\u001b[0m\n"
     ]
    },
    {
     "name": "stdout",
     "output_type": "stream",
     "text": [
      "\u001b[34m\u001b[1mAutoBatch: \u001b[0mComputing optimal batch size for imgsz=640 at 90.0% CUDA memory utilization.\n",
      "\u001b[34m\u001b[1mAutoBatch: \u001b[0mCUDA:0 (NVIDIA GeForce RTX 3060) 12.00G total, 0.28G reserved, 0.27G allocated, 11.45G free\n",
      "      Params      GFLOPs  GPU_mem (GB)  forward (ms) backward (ms)                   input                  output\n",
      "    31662584         171         1.984         128.3           nan        (1, 3, 640, 640)                    list\n",
      "    31662584       342.1         3.662         92.09           nan        (2, 3, 640, 640)                    list\n",
      "    31662584       684.1         6.031         106.8           nan        (4, 3, 640, 640)                    list\n",
      "    31662584        1368        10.838         163.4           nan        (8, 3, 640, 640)                    list\n",
      "    31662584        2736        20.428          2244           nan       (16, 3, 640, 640)                    list\n",
      "\u001b[34m\u001b[1mAutoBatch: \u001b[0mUsing batch-size 8 for CUDA:0 11.35G/12.00G (95%) \n"
     ]
    },
    {
     "name": "stderr",
     "output_type": "stream",
     "text": [
      "\u001b[34m\u001b[1mtrain: \u001b[0mScanning F:\\PRACA_MAGISTERSKA\\DATASETS\\MAGISTERKA-V2\\labels\\train.cache... 2036 images, 436 backgrounds, 0 corru\u001b[0m\n",
      "\u001b[34m\u001b[1mval: \u001b[0mScanning F:\\PRACA_MAGISTERSKA\\DATASETS\\MAGISTERKA-V2\\labels\\val.cache... 679 images, 154 backgrounds, 0 corrupt: 1\u001b[0m\n"
     ]
    },
    {
     "name": "stdout",
     "output_type": "stream",
     "text": [
      "Plotting labels to runs\\detect\\dataset-v2-finetune-1\\labels.jpg... \n",
      "\u001b[34m\u001b[1moptimizer:\u001b[0m 'optimizer=auto' found, ignoring 'lr0=0.01' and 'momentum=0.937' and determining best 'optimizer', 'lr0' and 'momentum' automatically... \n",
      "\u001b[34m\u001b[1moptimizer:\u001b[0m AdamW(lr=0.00125, momentum=0.9) with parameter groups 185 weight(decay=0.0), 198 weight(decay=0.0005), 197 bias(decay=0.0)\n",
      "\u001b[34m\u001b[1mTensorBoard: \u001b[0mmodel graph visualization added \n",
      "Image sizes 640 train, 640 val\n",
      "Using 6 dataloader workers\n",
      "Logging results to \u001b[1mruns\\detect\\dataset-v2-finetune-1\u001b[0m\n",
      "Starting training for 200 epochs...\n",
      "\n",
      "      Epoch    GPU_mem   box_loss   cls_loss   dfl_loss  Instances       Size\n"
     ]
    },
    {
     "name": "stderr",
     "output_type": "stream",
     "text": [
      "      1/200      4.58G      3.243      3.017      2.762         37        640: 100%|██████████| 255/255 [01:39<00:00,  \n",
      "                 Class     Images  Instances      Box(P          R      mAP50  mAP50-95): 100%|██████████| 43/43 [00:13"
     ]
    },
    {
     "name": "stdout",
     "output_type": "stream",
     "text": [
      "                   all        679       3388      0.721      0.796      0.807      0.447\n"
     ]
    },
    {
     "name": "stderr",
     "output_type": "stream",
     "text": [
      "\n"
     ]
    },
    {
     "name": "stdout",
     "output_type": "stream",
     "text": [
      "\n",
      "      Epoch    GPU_mem   box_loss   cls_loss   dfl_loss  Instances       Size\n"
     ]
    },
    {
     "name": "stderr",
     "output_type": "stream",
     "text": [
      "      2/200       4.5G      3.127      1.933       2.67         17        640: 100%|██████████| 255/255 [01:31<00:00,  \n",
      "                 Class     Images  Instances      Box(P          R      mAP50  mAP50-95): 100%|██████████| 43/43 [00:13"
     ]
    },
    {
     "name": "stdout",
     "output_type": "stream",
     "text": [
      "                   all        679       3388      0.872      0.821      0.899      0.519\n"
     ]
    },
    {
     "name": "stderr",
     "output_type": "stream",
     "text": [
      "\n"
     ]
    },
    {
     "name": "stdout",
     "output_type": "stream",
     "text": [
      "\n",
      "      Epoch    GPU_mem   box_loss   cls_loss   dfl_loss  Instances       Size\n"
     ]
    },
    {
     "name": "stderr",
     "output_type": "stream",
     "text": [
      "      3/200       4.3G      3.095      1.838      2.646         32        640: 100%|██████████| 255/255 [01:28<00:00,  \n",
      "                 Class     Images  Instances      Box(P          R      mAP50  mAP50-95): 100%|██████████| 43/43 [00:13"
     ]
    },
    {
     "name": "stdout",
     "output_type": "stream",
     "text": [
      "                   all        679       3388      0.877      0.847      0.918      0.535\n"
     ]
    },
    {
     "name": "stderr",
     "output_type": "stream",
     "text": [
      "\n"
     ]
    },
    {
     "name": "stdout",
     "output_type": "stream",
     "text": [
      "\n",
      "      Epoch    GPU_mem   box_loss   cls_loss   dfl_loss  Instances       Size\n"
     ]
    },
    {
     "name": "stderr",
     "output_type": "stream",
     "text": [
      "      4/200      4.47G      3.011       1.73      2.609         76        640: 100%|██████████| 255/255 [01:28<00:00,  \n",
      "                 Class     Images  Instances      Box(P          R      mAP50  mAP50-95): 100%|██████████| 43/43 [00:13"
     ]
    },
    {
     "name": "stdout",
     "output_type": "stream",
     "text": [
      "                   all        679       3388      0.882      0.839      0.919      0.534\n"
     ]
    },
    {
     "name": "stderr",
     "output_type": "stream",
     "text": [
      "\n"
     ]
    },
    {
     "name": "stdout",
     "output_type": "stream",
     "text": [
      "\n",
      "      Epoch    GPU_mem   box_loss   cls_loss   dfl_loss  Instances       Size\n"
     ]
    },
    {
     "name": "stderr",
     "output_type": "stream",
     "text": [
      "      5/200      4.45G      2.911      1.622      2.549         37        640: 100%|██████████| 255/255 [01:28<00:00,  \n",
      "                 Class     Images  Instances      Box(P          R      mAP50  mAP50-95): 100%|██████████| 43/43 [00:13"
     ]
    },
    {
     "name": "stdout",
     "output_type": "stream",
     "text": [
      "                   all        679       3388       0.89       0.87      0.933      0.569\n"
     ]
    },
    {
     "name": "stderr",
     "output_type": "stream",
     "text": [
      "\n"
     ]
    },
    {
     "name": "stdout",
     "output_type": "stream",
     "text": [
      "\n",
      "      Epoch    GPU_mem   box_loss   cls_loss   dfl_loss  Instances       Size\n"
     ]
    },
    {
     "name": "stderr",
     "output_type": "stream",
     "text": [
      "      6/200      4.42G      2.861       1.56       2.52         67        640: 100%|██████████| 255/255 [01:28<00:00,  \n",
      "                 Class     Images  Instances      Box(P          R      mAP50  mAP50-95): 100%|██████████| 43/43 [00:13"
     ]
    },
    {
     "name": "stdout",
     "output_type": "stream",
     "text": [
      "                   all        679       3388      0.897      0.884      0.941      0.578\n"
     ]
    },
    {
     "name": "stderr",
     "output_type": "stream",
     "text": [
      "\n"
     ]
    },
    {
     "name": "stdout",
     "output_type": "stream",
     "text": [
      "\n",
      "      Epoch    GPU_mem   box_loss   cls_loss   dfl_loss  Instances       Size\n"
     ]
    },
    {
     "name": "stderr",
     "output_type": "stream",
     "text": [
      "      7/200      4.47G      2.824      1.516      2.494         33        640: 100%|██████████| 255/255 [01:28<00:00,  \n",
      "                 Class     Images  Instances      Box(P          R      mAP50  mAP50-95): 100%|██████████| 43/43 [00:13"
     ]
    },
    {
     "name": "stdout",
     "output_type": "stream",
     "text": [
      "                   all        679       3388      0.911      0.865       0.94      0.576\n"
     ]
    },
    {
     "name": "stderr",
     "output_type": "stream",
     "text": [
      "\n"
     ]
    },
    {
     "name": "stdout",
     "output_type": "stream",
     "text": [
      "\n",
      "      Epoch    GPU_mem   box_loss   cls_loss   dfl_loss  Instances       Size\n"
     ]
    },
    {
     "name": "stderr",
     "output_type": "stream",
     "text": [
      "      8/200       4.3G      2.774      1.462       2.48         32        640: 100%|██████████| 255/255 [01:27<00:00,  \n",
      "                 Class     Images  Instances      Box(P          R      mAP50  mAP50-95): 100%|██████████| 43/43 [00:13"
     ]
    },
    {
     "name": "stdout",
     "output_type": "stream",
     "text": [
      "                   all        679       3388      0.896       0.89      0.942      0.585\n"
     ]
    },
    {
     "name": "stderr",
     "output_type": "stream",
     "text": [
      "\n"
     ]
    },
    {
     "name": "stdout",
     "output_type": "stream",
     "text": [
      "\n",
      "      Epoch    GPU_mem   box_loss   cls_loss   dfl_loss  Instances       Size\n"
     ]
    },
    {
     "name": "stderr",
     "output_type": "stream",
     "text": [
      "      9/200       4.3G      2.734      1.418      2.462         27        640: 100%|██████████| 255/255 [01:27<00:00,  \n",
      "                 Class     Images  Instances      Box(P          R      mAP50  mAP50-95): 100%|██████████| 43/43 [00:13"
     ]
    },
    {
     "name": "stdout",
     "output_type": "stream",
     "text": [
      "                   all        679       3388      0.894      0.893      0.946      0.589\n"
     ]
    },
    {
     "name": "stderr",
     "output_type": "stream",
     "text": [
      "\n"
     ]
    },
    {
     "name": "stdout",
     "output_type": "stream",
     "text": [
      "\n",
      "      Epoch    GPU_mem   box_loss   cls_loss   dfl_loss  Instances       Size\n"
     ]
    },
    {
     "name": "stderr",
     "output_type": "stream",
     "text": [
      "     10/200      4.48G      2.733      1.406      2.446         16        640: 100%|██████████| 255/255 [01:27<00:00,  \n",
      "                 Class     Images  Instances      Box(P          R      mAP50  mAP50-95): 100%|██████████| 43/43 [00:13"
     ]
    },
    {
     "name": "stdout",
     "output_type": "stream",
     "text": [
      "                   all        679       3388      0.936      0.858      0.946      0.598\n"
     ]
    },
    {
     "name": "stderr",
     "output_type": "stream",
     "text": [
      "\n"
     ]
    },
    {
     "name": "stdout",
     "output_type": "stream",
     "text": [
      "\n",
      "      Epoch    GPU_mem   box_loss   cls_loss   dfl_loss  Instances       Size\n"
     ]
    },
    {
     "name": "stderr",
     "output_type": "stream",
     "text": [
      "     11/200      4.41G       2.68      1.375      2.424         73        640: 100%|██████████| 255/255 [01:28<00:00,  \n",
      "                 Class     Images  Instances      Box(P          R      mAP50  mAP50-95): 100%|██████████| 43/43 [00:13"
     ]
    },
    {
     "name": "stdout",
     "output_type": "stream",
     "text": [
      "                   all        679       3388      0.913      0.891      0.951      0.603\n"
     ]
    },
    {
     "name": "stderr",
     "output_type": "stream",
     "text": [
      "\n"
     ]
    },
    {
     "name": "stdout",
     "output_type": "stream",
     "text": [
      "\n",
      "      Epoch    GPU_mem   box_loss   cls_loss   dfl_loss  Instances       Size\n"
     ]
    },
    {
     "name": "stderr",
     "output_type": "stream",
     "text": [
      "     12/200      4.47G      2.662      1.324       2.38         41        640: 100%|██████████| 255/255 [01:27<00:00,  \n",
      "                 Class     Images  Instances      Box(P          R      mAP50  mAP50-95): 100%|██████████| 43/43 [00:13"
     ]
    },
    {
     "name": "stdout",
     "output_type": "stream",
     "text": [
      "                   all        679       3388      0.924      0.893      0.954      0.609\n"
     ]
    },
    {
     "name": "stderr",
     "output_type": "stream",
     "text": [
      "\n"
     ]
    },
    {
     "name": "stdout",
     "output_type": "stream",
     "text": [
      "\n",
      "      Epoch    GPU_mem   box_loss   cls_loss   dfl_loss  Instances       Size\n"
     ]
    },
    {
     "name": "stderr",
     "output_type": "stream",
     "text": [
      "     13/200      4.41G      2.637      1.319      2.392         24        640: 100%|██████████| 255/255 [01:28<00:00,  \n",
      "                 Class     Images  Instances      Box(P          R      mAP50  mAP50-95): 100%|██████████| 43/43 [00:13"
     ]
    },
    {
     "name": "stdout",
     "output_type": "stream",
     "text": [
      "                   all        679       3388      0.926      0.896      0.954      0.608\n"
     ]
    },
    {
     "name": "stderr",
     "output_type": "stream",
     "text": [
      "\n"
     ]
    },
    {
     "name": "stdout",
     "output_type": "stream",
     "text": [
      "\n",
      "      Epoch    GPU_mem   box_loss   cls_loss   dfl_loss  Instances       Size\n"
     ]
    },
    {
     "name": "stderr",
     "output_type": "stream",
     "text": [
      "     14/200      4.38G      2.625      1.305      2.389         55        640: 100%|██████████| 255/255 [01:26<00:00,  \n",
      "                 Class     Images  Instances      Box(P          R      mAP50  mAP50-95): 100%|██████████| 43/43 [00:12"
     ]
    },
    {
     "name": "stdout",
     "output_type": "stream",
     "text": [
      "                   all        679       3388      0.915        0.9      0.956      0.605\n"
     ]
    },
    {
     "name": "stderr",
     "output_type": "stream",
     "text": [
      "\n"
     ]
    },
    {
     "name": "stdout",
     "output_type": "stream",
     "text": [
      "\n",
      "      Epoch    GPU_mem   box_loss   cls_loss   dfl_loss  Instances       Size\n"
     ]
    },
    {
     "name": "stderr",
     "output_type": "stream",
     "text": [
      "     15/200      4.41G      2.566      1.272      2.367         55        640: 100%|██████████| 255/255 [01:26<00:00,  \n",
      "                 Class     Images  Instances      Box(P          R      mAP50  mAP50-95): 100%|██████████| 43/43 [00:13"
     ]
    },
    {
     "name": "stdout",
     "output_type": "stream",
     "text": [
      "                   all        679       3388      0.935      0.886      0.955      0.615\n"
     ]
    },
    {
     "name": "stderr",
     "output_type": "stream",
     "text": [
      "\n"
     ]
    },
    {
     "name": "stdout",
     "output_type": "stream",
     "text": [
      "\n",
      "      Epoch    GPU_mem   box_loss   cls_loss   dfl_loss  Instances       Size\n"
     ]
    },
    {
     "name": "stderr",
     "output_type": "stream",
     "text": [
      "     16/200      4.28G      2.587       1.26      2.375         49        640: 100%|██████████| 255/255 [01:26<00:00,  \n",
      "                 Class     Images  Instances      Box(P          R      mAP50  mAP50-95): 100%|██████████| 43/43 [00:12"
     ]
    },
    {
     "name": "stdout",
     "output_type": "stream",
     "text": [
      "                   all        679       3388      0.923      0.897      0.957      0.611\n"
     ]
    },
    {
     "name": "stderr",
     "output_type": "stream",
     "text": [
      "\n"
     ]
    },
    {
     "name": "stdout",
     "output_type": "stream",
     "text": [
      "\n",
      "      Epoch    GPU_mem   box_loss   cls_loss   dfl_loss  Instances       Size\n"
     ]
    },
    {
     "name": "stderr",
     "output_type": "stream",
     "text": [
      "     17/200      4.46G      2.557      1.263      2.347         31        640: 100%|██████████| 255/255 [01:26<00:00,  \n",
      "                 Class     Images  Instances      Box(P          R      mAP50  mAP50-95): 100%|██████████| 43/43 [00:12"
     ]
    },
    {
     "name": "stdout",
     "output_type": "stream",
     "text": [
      "                   all        679       3388      0.924      0.902       0.96      0.615\n"
     ]
    },
    {
     "name": "stderr",
     "output_type": "stream",
     "text": [
      "\n"
     ]
    },
    {
     "name": "stdout",
     "output_type": "stream",
     "text": [
      "\n",
      "      Epoch    GPU_mem   box_loss   cls_loss   dfl_loss  Instances       Size\n"
     ]
    },
    {
     "name": "stderr",
     "output_type": "stream",
     "text": [
      "     18/200      4.42G      2.535      1.224      2.349          9        640: 100%|██████████| 255/255 [01:26<00:00,  \n",
      "                 Class     Images  Instances      Box(P          R      mAP50  mAP50-95): 100%|██████████| 43/43 [00:12"
     ]
    },
    {
     "name": "stdout",
     "output_type": "stream",
     "text": [
      "                   all        679       3388      0.924      0.892      0.957      0.621\n"
     ]
    },
    {
     "name": "stderr",
     "output_type": "stream",
     "text": [
      "\n"
     ]
    },
    {
     "name": "stdout",
     "output_type": "stream",
     "text": [
      "\n",
      "      Epoch    GPU_mem   box_loss   cls_loss   dfl_loss  Instances       Size\n"
     ]
    },
    {
     "name": "stderr",
     "output_type": "stream",
     "text": [
      "     19/200      4.42G      2.523       1.22      2.341         33        640: 100%|██████████| 255/255 [01:26<00:00,  \n",
      "                 Class     Images  Instances      Box(P          R      mAP50  mAP50-95): 100%|██████████| 43/43 [00:13"
     ]
    },
    {
     "name": "stdout",
     "output_type": "stream",
     "text": [
      "                   all        679       3388      0.936      0.904      0.963      0.621\n"
     ]
    },
    {
     "name": "stderr",
     "output_type": "stream",
     "text": [
      "\n"
     ]
    },
    {
     "name": "stdout",
     "output_type": "stream",
     "text": [
      "\n",
      "      Epoch    GPU_mem   box_loss   cls_loss   dfl_loss  Instances       Size\n"
     ]
    },
    {
     "name": "stderr",
     "output_type": "stream",
     "text": [
      "     20/200      4.46G      2.502      1.197      2.305         37        640: 100%|██████████| 255/255 [01:26<00:00,  \n",
      "                 Class     Images  Instances      Box(P          R      mAP50  mAP50-95): 100%|██████████| 43/43 [00:12"
     ]
    },
    {
     "name": "stdout",
     "output_type": "stream",
     "text": [
      "                   all        679       3388      0.925      0.904      0.959      0.619\n"
     ]
    },
    {
     "name": "stderr",
     "output_type": "stream",
     "text": [
      "\n"
     ]
    },
    {
     "name": "stdout",
     "output_type": "stream",
     "text": [
      "\n",
      "      Epoch    GPU_mem   box_loss   cls_loss   dfl_loss  Instances       Size\n"
     ]
    },
    {
     "name": "stderr",
     "output_type": "stream",
     "text": [
      "     21/200      4.34G      2.482       1.21      2.315         39        640: 100%|██████████| 255/255 [01:26<00:00,  \n",
      "                 Class     Images  Instances      Box(P          R      mAP50  mAP50-95): 100%|██████████| 43/43 [00:13"
     ]
    },
    {
     "name": "stdout",
     "output_type": "stream",
     "text": [
      "                   all        679       3388      0.917      0.906      0.959      0.622\n"
     ]
    },
    {
     "name": "stderr",
     "output_type": "stream",
     "text": [
      "\n"
     ]
    },
    {
     "name": "stdout",
     "output_type": "stream",
     "text": [
      "\n",
      "      Epoch    GPU_mem   box_loss   cls_loss   dfl_loss  Instances       Size\n"
     ]
    },
    {
     "name": "stderr",
     "output_type": "stream",
     "text": [
      "     22/200      4.37G       2.49      1.211      2.312         24        640: 100%|██████████| 255/255 [01:26<00:00,  \n",
      "                 Class     Images  Instances      Box(P          R      mAP50  mAP50-95): 100%|██████████| 43/43 [00:12"
     ]
    },
    {
     "name": "stdout",
     "output_type": "stream",
     "text": [
      "                   all        679       3388      0.925      0.919      0.963       0.62\n"
     ]
    },
    {
     "name": "stderr",
     "output_type": "stream",
     "text": [
      "\n"
     ]
    },
    {
     "name": "stdout",
     "output_type": "stream",
     "text": [
      "\n",
      "      Epoch    GPU_mem   box_loss   cls_loss   dfl_loss  Instances       Size\n"
     ]
    },
    {
     "name": "stderr",
     "output_type": "stream",
     "text": [
      "     23/200      4.46G      2.451      1.174      2.277         26        640: 100%|██████████| 255/255 [01:26<00:00,  \n",
      "                 Class     Images  Instances      Box(P          R      mAP50  mAP50-95): 100%|██████████| 43/43 [00:12"
     ]
    },
    {
     "name": "stdout",
     "output_type": "stream",
     "text": [
      "                   all        679       3388      0.924      0.909      0.957      0.615\n"
     ]
    },
    {
     "name": "stderr",
     "output_type": "stream",
     "text": [
      "\n"
     ]
    },
    {
     "name": "stdout",
     "output_type": "stream",
     "text": [
      "\n",
      "      Epoch    GPU_mem   box_loss   cls_loss   dfl_loss  Instances       Size\n"
     ]
    },
    {
     "name": "stderr",
     "output_type": "stream",
     "text": [
      "     24/200      4.27G       2.44      1.155       2.29         57        640: 100%|██████████| 255/255 [01:26<00:00,  \n",
      "                 Class     Images  Instances      Box(P          R      mAP50  mAP50-95): 100%|██████████| 43/43 [00:13"
     ]
    },
    {
     "name": "stdout",
     "output_type": "stream",
     "text": [
      "                   all        679       3388      0.933      0.908      0.962      0.625\n"
     ]
    },
    {
     "name": "stderr",
     "output_type": "stream",
     "text": [
      "\n"
     ]
    },
    {
     "name": "stdout",
     "output_type": "stream",
     "text": [
      "\n",
      "      Epoch    GPU_mem   box_loss   cls_loss   dfl_loss  Instances       Size\n"
     ]
    },
    {
     "name": "stderr",
     "output_type": "stream",
     "text": [
      "     25/200      4.42G      2.424      1.138      2.279         54        640: 100%|██████████| 255/255 [01:26<00:00,  \n",
      "                 Class     Images  Instances      Box(P          R      mAP50  mAP50-95): 100%|██████████| 43/43 [00:13"
     ]
    },
    {
     "name": "stdout",
     "output_type": "stream",
     "text": [
      "                   all        679       3388      0.923       0.92      0.964      0.624\n"
     ]
    },
    {
     "name": "stderr",
     "output_type": "stream",
     "text": [
      "\n"
     ]
    },
    {
     "name": "stdout",
     "output_type": "stream",
     "text": [
      "\n",
      "      Epoch    GPU_mem   box_loss   cls_loss   dfl_loss  Instances       Size\n"
     ]
    },
    {
     "name": "stderr",
     "output_type": "stream",
     "text": [
      "     26/200      4.46G      2.416      1.154      2.268         51        640: 100%|██████████| 255/255 [01:26<00:00,  \n",
      "                 Class     Images  Instances      Box(P          R      mAP50  mAP50-95): 100%|██████████| 43/43 [00:12"
     ]
    },
    {
     "name": "stdout",
     "output_type": "stream",
     "text": [
      "                   all        679       3388      0.928      0.915      0.964       0.63\n"
     ]
    },
    {
     "name": "stderr",
     "output_type": "stream",
     "text": [
      "\n"
     ]
    },
    {
     "name": "stdout",
     "output_type": "stream",
     "text": [
      "\n",
      "      Epoch    GPU_mem   box_loss   cls_loss   dfl_loss  Instances       Size\n"
     ]
    },
    {
     "name": "stderr",
     "output_type": "stream",
     "text": [
      "     27/200      4.42G      2.414       1.12      2.268         33        640: 100%|██████████| 255/255 [01:26<00:00,  \n",
      "                 Class     Images  Instances      Box(P          R      mAP50  mAP50-95): 100%|██████████| 43/43 [00:12"
     ]
    },
    {
     "name": "stdout",
     "output_type": "stream",
     "text": [
      "                   all        679       3388       0.93      0.911      0.962       0.62\n"
     ]
    },
    {
     "name": "stderr",
     "output_type": "stream",
     "text": [
      "\n"
     ]
    },
    {
     "name": "stdout",
     "output_type": "stream",
     "text": [
      "\n",
      "      Epoch    GPU_mem   box_loss   cls_loss   dfl_loss  Instances       Size\n"
     ]
    },
    {
     "name": "stderr",
     "output_type": "stream",
     "text": [
      "     28/200      4.32G      2.411      1.135      2.272         54        640: 100%|██████████| 255/255 [01:26<00:00,  \n",
      "                 Class     Images  Instances      Box(P          R      mAP50  mAP50-95): 100%|██████████| 43/43 [00:12"
     ]
    },
    {
     "name": "stdout",
     "output_type": "stream",
     "text": [
      "                   all        679       3388      0.928      0.904       0.96      0.624\n"
     ]
    },
    {
     "name": "stderr",
     "output_type": "stream",
     "text": [
      "\n"
     ]
    },
    {
     "name": "stdout",
     "output_type": "stream",
     "text": [
      "\n",
      "      Epoch    GPU_mem   box_loss   cls_loss   dfl_loss  Instances       Size\n"
     ]
    },
    {
     "name": "stderr",
     "output_type": "stream",
     "text": [
      "     29/200      4.46G      2.361      1.104      2.234         34        640: 100%|██████████| 255/255 [01:26<00:00,  \n",
      "                 Class     Images  Instances      Box(P          R      mAP50  mAP50-95): 100%|██████████| 43/43 [00:12"
     ]
    },
    {
     "name": "stdout",
     "output_type": "stream",
     "text": [
      "                   all        679       3388      0.928       0.92      0.964      0.627\n"
     ]
    },
    {
     "name": "stderr",
     "output_type": "stream",
     "text": [
      "\n"
     ]
    },
    {
     "name": "stdout",
     "output_type": "stream",
     "text": [
      "\n",
      "      Epoch    GPU_mem   box_loss   cls_loss   dfl_loss  Instances       Size\n"
     ]
    },
    {
     "name": "stderr",
     "output_type": "stream",
     "text": [
      "     30/200      4.39G      2.352      1.101      2.253         42        640: 100%|██████████| 255/255 [01:26<00:00,  \n",
      "                 Class     Images  Instances      Box(P          R      mAP50  mAP50-95): 100%|██████████| 43/43 [00:13"
     ]
    },
    {
     "name": "stdout",
     "output_type": "stream",
     "text": [
      "                   all        679       3388      0.927       0.92      0.961      0.627\n"
     ]
    },
    {
     "name": "stderr",
     "output_type": "stream",
     "text": [
      "\n"
     ]
    },
    {
     "name": "stdout",
     "output_type": "stream",
     "text": [
      "\n",
      "      Epoch    GPU_mem   box_loss   cls_loss   dfl_loss  Instances       Size\n"
     ]
    },
    {
     "name": "stderr",
     "output_type": "stream",
     "text": [
      "     31/200      4.42G      2.343      1.091      2.225         19        640: 100%|██████████| 255/255 [01:26<00:00,  \n",
      "                 Class     Images  Instances      Box(P          R      mAP50  mAP50-95): 100%|██████████| 43/43 [00:13"
     ]
    },
    {
     "name": "stdout",
     "output_type": "stream",
     "text": [
      "                   all        679       3388      0.919      0.918      0.964      0.634\n"
     ]
    },
    {
     "name": "stderr",
     "output_type": "stream",
     "text": [
      "\n"
     ]
    },
    {
     "name": "stdout",
     "output_type": "stream",
     "text": [
      "\n",
      "      Epoch    GPU_mem   box_loss   cls_loss   dfl_loss  Instances       Size\n"
     ]
    },
    {
     "name": "stderr",
     "output_type": "stream",
     "text": [
      "     32/200      4.28G      2.336      1.096      2.209         37        640: 100%|██████████| 255/255 [01:26<00:00,  \n",
      "                 Class     Images  Instances      Box(P          R      mAP50  mAP50-95): 100%|██████████| 43/43 [00:13"
     ]
    },
    {
     "name": "stdout",
     "output_type": "stream",
     "text": [
      "                   all        679       3388      0.928      0.913      0.963       0.63\n"
     ]
    },
    {
     "name": "stderr",
     "output_type": "stream",
     "text": [
      "\n"
     ]
    },
    {
     "name": "stdout",
     "output_type": "stream",
     "text": [
      "\n",
      "      Epoch    GPU_mem   box_loss   cls_loss   dfl_loss  Instances       Size\n"
     ]
    },
    {
     "name": "stderr",
     "output_type": "stream",
     "text": [
      "     33/200      4.41G      2.311      1.074      2.225         82        640: 100%|██████████| 255/255 [01:26<00:00,  \n",
      "                 Class     Images  Instances      Box(P          R      mAP50  mAP50-95): 100%|██████████| 43/43 [00:12"
     ]
    },
    {
     "name": "stdout",
     "output_type": "stream",
     "text": [
      "                   all        679       3388      0.941      0.918      0.966      0.633\n"
     ]
    },
    {
     "name": "stderr",
     "output_type": "stream",
     "text": [
      "\n"
     ]
    },
    {
     "name": "stdout",
     "output_type": "stream",
     "text": [
      "\n",
      "      Epoch    GPU_mem   box_loss   cls_loss   dfl_loss  Instances       Size\n"
     ]
    },
    {
     "name": "stderr",
     "output_type": "stream",
     "text": [
      "     34/200      4.46G        2.3      1.062      2.229         21        640: 100%|██████████| 255/255 [01:26<00:00,  \n",
      "                 Class     Images  Instances      Box(P          R      mAP50  mAP50-95): 100%|██████████| 43/43 [00:13"
     ]
    },
    {
     "name": "stdout",
     "output_type": "stream",
     "text": [
      "                   all        679       3388      0.944      0.908      0.967      0.635\n"
     ]
    },
    {
     "name": "stderr",
     "output_type": "stream",
     "text": [
      "\n"
     ]
    },
    {
     "name": "stdout",
     "output_type": "stream",
     "text": [
      "\n",
      "      Epoch    GPU_mem   box_loss   cls_loss   dfl_loss  Instances       Size\n"
     ]
    },
    {
     "name": "stderr",
     "output_type": "stream",
     "text": [
      "     35/200      4.41G      2.326      1.089      2.237         27        640: 100%|██████████| 255/255 [01:26<00:00,  \n",
      "                 Class     Images  Instances      Box(P          R      mAP50  mAP50-95): 100%|██████████| 43/43 [00:12"
     ]
    },
    {
     "name": "stdout",
     "output_type": "stream",
     "text": [
      "                   all        679       3388      0.935      0.918      0.966      0.631\n"
     ]
    },
    {
     "name": "stderr",
     "output_type": "stream",
     "text": [
      "\n"
     ]
    },
    {
     "name": "stdout",
     "output_type": "stream",
     "text": [
      "\n",
      "      Epoch    GPU_mem   box_loss   cls_loss   dfl_loss  Instances       Size\n"
     ]
    },
    {
     "name": "stderr",
     "output_type": "stream",
     "text": [
      "     36/200      4.47G      2.294       1.07      2.201         32        640: 100%|██████████| 255/255 [01:26<00:00,  \n",
      "                 Class     Images  Instances      Box(P          R      mAP50  mAP50-95): 100%|██████████| 43/43 [00:13"
     ]
    },
    {
     "name": "stdout",
     "output_type": "stream",
     "text": [
      "                   all        679       3388       0.93      0.914      0.965      0.631\n"
     ]
    },
    {
     "name": "stderr",
     "output_type": "stream",
     "text": [
      "\n"
     ]
    },
    {
     "name": "stdout",
     "output_type": "stream",
     "text": [
      "\n",
      "      Epoch    GPU_mem   box_loss   cls_loss   dfl_loss  Instances       Size\n"
     ]
    },
    {
     "name": "stderr",
     "output_type": "stream",
     "text": [
      "     37/200      4.46G      2.234       1.04      2.184         78        640: 100%|██████████| 255/255 [01:26<00:00,  \n",
      "                 Class     Images  Instances      Box(P          R      mAP50  mAP50-95): 100%|██████████| 43/43 [00:12"
     ]
    },
    {
     "name": "stdout",
     "output_type": "stream",
     "text": [
      "                   all        679       3388      0.934      0.915      0.967      0.633\n"
     ]
    },
    {
     "name": "stderr",
     "output_type": "stream",
     "text": [
      "\n"
     ]
    },
    {
     "name": "stdout",
     "output_type": "stream",
     "text": [
      "\n",
      "      Epoch    GPU_mem   box_loss   cls_loss   dfl_loss  Instances       Size\n"
     ]
    },
    {
     "name": "stderr",
     "output_type": "stream",
     "text": [
      "     38/200      4.38G      2.234      1.007      2.187         45        640: 100%|██████████| 255/255 [01:26<00:00,  \n",
      "                 Class     Images  Instances      Box(P          R      mAP50  mAP50-95): 100%|██████████| 43/43 [00:13"
     ]
    },
    {
     "name": "stdout",
     "output_type": "stream",
     "text": [
      "                   all        679       3388      0.941      0.916      0.968      0.635\n"
     ]
    },
    {
     "name": "stderr",
     "output_type": "stream",
     "text": [
      "\n"
     ]
    },
    {
     "name": "stdout",
     "output_type": "stream",
     "text": [
      "\n",
      "      Epoch    GPU_mem   box_loss   cls_loss   dfl_loss  Instances       Size\n"
     ]
    },
    {
     "name": "stderr",
     "output_type": "stream",
     "text": [
      "     39/200      4.42G      2.246      1.033       2.18         35        640: 100%|██████████| 255/255 [01:26<00:00,  \n",
      "                 Class     Images  Instances      Box(P          R      mAP50  mAP50-95): 100%|██████████| 43/43 [00:12"
     ]
    },
    {
     "name": "stdout",
     "output_type": "stream",
     "text": [
      "                   all        679       3388      0.926      0.912      0.962      0.625\n"
     ]
    },
    {
     "name": "stderr",
     "output_type": "stream",
     "text": [
      "\n"
     ]
    },
    {
     "name": "stdout",
     "output_type": "stream",
     "text": [
      "\n",
      "      Epoch    GPU_mem   box_loss   cls_loss   dfl_loss  Instances       Size\n"
     ]
    },
    {
     "name": "stderr",
     "output_type": "stream",
     "text": [
      "     40/200      4.27G      2.276      1.046      2.202        108        640: 100%|██████████| 255/255 [01:26<00:00,  \n",
      "                 Class     Images  Instances      Box(P          R      mAP50  mAP50-95): 100%|██████████| 43/43 [00:13"
     ]
    },
    {
     "name": "stdout",
     "output_type": "stream",
     "text": [
      "                   all        679       3388      0.939      0.912      0.964      0.628\n"
     ]
    },
    {
     "name": "stderr",
     "output_type": "stream",
     "text": [
      "\n"
     ]
    },
    {
     "name": "stdout",
     "output_type": "stream",
     "text": [
      "\n",
      "      Epoch    GPU_mem   box_loss   cls_loss   dfl_loss  Instances       Size\n"
     ]
    },
    {
     "name": "stderr",
     "output_type": "stream",
     "text": [
      "     41/200      4.42G      2.248      1.029      2.168         20        640: 100%|██████████| 255/255 [01:26<00:00,  \n",
      "                 Class     Images  Instances      Box(P          R      mAP50  mAP50-95): 100%|██████████| 43/43 [00:12"
     ]
    },
    {
     "name": "stdout",
     "output_type": "stream",
     "text": [
      "                   all        679       3388       0.94      0.909      0.963       0.63\n"
     ]
    },
    {
     "name": "stderr",
     "output_type": "stream",
     "text": [
      "\n"
     ]
    },
    {
     "name": "stdout",
     "output_type": "stream",
     "text": [
      "\n",
      "      Epoch    GPU_mem   box_loss   cls_loss   dfl_loss  Instances       Size\n"
     ]
    },
    {
     "name": "stderr",
     "output_type": "stream",
     "text": [
      "     42/200      4.46G      2.232      1.015      2.172         36        640: 100%|██████████| 255/255 [01:26<00:00,  \n",
      "                 Class     Images  Instances      Box(P          R      mAP50  mAP50-95): 100%|██████████| 43/43 [00:13"
     ]
    },
    {
     "name": "stdout",
     "output_type": "stream",
     "text": [
      "                   all        679       3388      0.942      0.903      0.962      0.632\n"
     ]
    },
    {
     "name": "stderr",
     "output_type": "stream",
     "text": [
      "\n"
     ]
    },
    {
     "name": "stdout",
     "output_type": "stream",
     "text": [
      "\n",
      "      Epoch    GPU_mem   box_loss   cls_loss   dfl_loss  Instances       Size\n"
     ]
    },
    {
     "name": "stderr",
     "output_type": "stream",
     "text": [
      "     43/200      4.46G      2.206     0.9999      2.161         28        640: 100%|██████████| 255/255 [01:26<00:00,  \n",
      "                 Class     Images  Instances      Box(P          R      mAP50  mAP50-95): 100%|██████████| 43/43 [00:12"
     ]
    },
    {
     "name": "stdout",
     "output_type": "stream",
     "text": [
      "                   all        679       3388      0.946      0.909      0.965      0.628\n"
     ]
    },
    {
     "name": "stderr",
     "output_type": "stream",
     "text": [
      "\n"
     ]
    },
    {
     "name": "stdout",
     "output_type": "stream",
     "text": [
      "\n",
      "      Epoch    GPU_mem   box_loss   cls_loss   dfl_loss  Instances       Size\n"
     ]
    },
    {
     "name": "stderr",
     "output_type": "stream",
     "text": [
      "     44/200       4.4G      2.204      1.012      2.169         17        640: 100%|██████████| 255/255 [01:26<00:00,  \n",
      "                 Class     Images  Instances      Box(P          R      mAP50  mAP50-95): 100%|██████████| 43/43 [00:12"
     ]
    },
    {
     "name": "stdout",
     "output_type": "stream",
     "text": [
      "                   all        679       3388      0.934      0.918      0.965      0.633\n"
     ]
    },
    {
     "name": "stderr",
     "output_type": "stream",
     "text": [
      "\n"
     ]
    },
    {
     "name": "stdout",
     "output_type": "stream",
     "text": [
      "\n",
      "      Epoch    GPU_mem   box_loss   cls_loss   dfl_loss  Instances       Size\n"
     ]
    },
    {
     "name": "stderr",
     "output_type": "stream",
     "text": [
      "     45/200      4.43G      2.217      1.003      2.168         38        640: 100%|██████████| 255/255 [01:26<00:00,  \n",
      "                 Class     Images  Instances      Box(P          R      mAP50  mAP50-95): 100%|██████████| 43/43 [00:13"
     ]
    },
    {
     "name": "stdout",
     "output_type": "stream",
     "text": [
      "                   all        679       3388      0.931      0.912      0.965      0.633\n"
     ]
    },
    {
     "name": "stderr",
     "output_type": "stream",
     "text": [
      "\n"
     ]
    },
    {
     "name": "stdout",
     "output_type": "stream",
     "text": [
      "\n",
      "      Epoch    GPU_mem   box_loss   cls_loss   dfl_loss  Instances       Size\n"
     ]
    },
    {
     "name": "stderr",
     "output_type": "stream",
     "text": [
      "     46/200      4.25G      2.165     0.9699      2.158         35        640: 100%|██████████| 255/255 [01:26<00:00,  \n",
      "                 Class     Images  Instances      Box(P          R      mAP50  mAP50-95): 100%|██████████| 43/43 [00:12"
     ]
    },
    {
     "name": "stdout",
     "output_type": "stream",
     "text": [
      "                   all        679       3388      0.942      0.908      0.966      0.632\n"
     ]
    },
    {
     "name": "stderr",
     "output_type": "stream",
     "text": [
      "\n"
     ]
    },
    {
     "name": "stdout",
     "output_type": "stream",
     "text": [
      "\n",
      "      Epoch    GPU_mem   box_loss   cls_loss   dfl_loss  Instances       Size\n"
     ]
    },
    {
     "name": "stderr",
     "output_type": "stream",
     "text": [
      "     47/200      4.45G      2.176     0.9732      2.143         33        640: 100%|██████████| 255/255 [01:26<00:00,  \n",
      "                 Class     Images  Instances      Box(P          R      mAP50  mAP50-95): 100%|██████████| 43/43 [00:13"
     ]
    },
    {
     "name": "stdout",
     "output_type": "stream",
     "text": [
      "                   all        679       3388      0.933      0.917      0.964      0.628\n"
     ]
    },
    {
     "name": "stderr",
     "output_type": "stream",
     "text": [
      "\n"
     ]
    },
    {
     "name": "stdout",
     "output_type": "stream",
     "text": [
      "\n",
      "      Epoch    GPU_mem   box_loss   cls_loss   dfl_loss  Instances       Size\n"
     ]
    },
    {
     "name": "stderr",
     "output_type": "stream",
     "text": [
      "     48/200      4.32G      2.143     0.9634      2.122         18        640: 100%|██████████| 255/255 [01:26<00:00,  \n",
      "                 Class     Images  Instances      Box(P          R      mAP50  mAP50-95): 100%|██████████| 43/43 [00:12"
     ]
    },
    {
     "name": "stdout",
     "output_type": "stream",
     "text": [
      "                   all        679       3388       0.93      0.912      0.961      0.631\n"
     ]
    },
    {
     "name": "stderr",
     "output_type": "stream",
     "text": [
      "\n"
     ]
    },
    {
     "name": "stdout",
     "output_type": "stream",
     "text": [
      "\n",
      "      Epoch    GPU_mem   box_loss   cls_loss   dfl_loss  Instances       Size\n"
     ]
    },
    {
     "name": "stderr",
     "output_type": "stream",
     "text": [
      "     49/200      4.43G      2.147     0.9639       2.14         38        640: 100%|██████████| 255/255 [01:26<00:00,  \n",
      "                 Class     Images  Instances      Box(P          R      mAP50  mAP50-95): 100%|██████████| 43/43 [00:12"
     ]
    },
    {
     "name": "stdout",
     "output_type": "stream",
     "text": [
      "                   all        679       3388      0.933      0.921      0.966      0.634\n"
     ]
    },
    {
     "name": "stderr",
     "output_type": "stream",
     "text": [
      "\n"
     ]
    },
    {
     "name": "stdout",
     "output_type": "stream",
     "text": [
      "\n",
      "      Epoch    GPU_mem   box_loss   cls_loss   dfl_loss  Instances       Size\n"
     ]
    },
    {
     "name": "stderr",
     "output_type": "stream",
     "text": [
      "     50/200      4.31G      2.155     0.9682       2.12         42        640: 100%|██████████| 255/255 [01:26<00:00,  \n",
      "                 Class     Images  Instances      Box(P          R      mAP50  mAP50-95): 100%|██████████| 43/43 [00:13"
     ]
    },
    {
     "name": "stdout",
     "output_type": "stream",
     "text": [
      "                   all        679       3388      0.939      0.912      0.966      0.635\n"
     ]
    },
    {
     "name": "stderr",
     "output_type": "stream",
     "text": [
      "\n"
     ]
    },
    {
     "name": "stdout",
     "output_type": "stream",
     "text": [
      "\n",
      "      Epoch    GPU_mem   box_loss   cls_loss   dfl_loss  Instances       Size\n"
     ]
    },
    {
     "name": "stderr",
     "output_type": "stream",
     "text": [
      "     51/200      4.44G      2.149     0.9658      2.118         17        640: 100%|██████████| 255/255 [01:26<00:00,  \n",
      "                 Class     Images  Instances      Box(P          R      mAP50  mAP50-95): 100%|██████████| 43/43 [00:13"
     ]
    },
    {
     "name": "stdout",
     "output_type": "stream",
     "text": [
      "                   all        679       3388      0.926      0.923      0.965      0.635\n"
     ]
    },
    {
     "name": "stderr",
     "output_type": "stream",
     "text": [
      "\n"
     ]
    },
    {
     "name": "stdout",
     "output_type": "stream",
     "text": [
      "\n",
      "      Epoch    GPU_mem   box_loss   cls_loss   dfl_loss  Instances       Size\n"
     ]
    },
    {
     "name": "stderr",
     "output_type": "stream",
     "text": [
      "     52/200      4.48G      2.119      0.953      2.138         48        640: 100%|██████████| 255/255 [01:26<00:00,  \n",
      "                 Class     Images  Instances      Box(P          R      mAP50  mAP50-95): 100%|██████████| 43/43 [00:13"
     ]
    },
    {
     "name": "stdout",
     "output_type": "stream",
     "text": [
      "                   all        679       3388      0.944      0.916      0.966      0.636\n"
     ]
    },
    {
     "name": "stderr",
     "output_type": "stream",
     "text": [
      "\n"
     ]
    },
    {
     "name": "stdout",
     "output_type": "stream",
     "text": [
      "\n",
      "      Epoch    GPU_mem   box_loss   cls_loss   dfl_loss  Instances       Size\n"
     ]
    },
    {
     "name": "stderr",
     "output_type": "stream",
     "text": [
      "     53/200      4.46G      2.119     0.9559      2.126         41        640: 100%|██████████| 255/255 [01:26<00:00,  \n",
      "                 Class     Images  Instances      Box(P          R      mAP50  mAP50-95): 100%|██████████| 43/43 [00:13"
     ]
    },
    {
     "name": "stdout",
     "output_type": "stream",
     "text": [
      "                   all        679       3388      0.921      0.921      0.964      0.632\n"
     ]
    },
    {
     "name": "stderr",
     "output_type": "stream",
     "text": [
      "\n"
     ]
    },
    {
     "name": "stdout",
     "output_type": "stream",
     "text": [
      "\n",
      "      Epoch    GPU_mem   box_loss   cls_loss   dfl_loss  Instances       Size\n"
     ]
    },
    {
     "name": "stderr",
     "output_type": "stream",
     "text": [
      "     54/200      4.44G      2.086     0.9388      2.108         48        640: 100%|██████████| 255/255 [01:26<00:00,  \n",
      "                 Class     Images  Instances      Box(P          R      mAP50  mAP50-95): 100%|██████████| 43/43 [00:13"
     ]
    },
    {
     "name": "stdout",
     "output_type": "stream",
     "text": [
      "                   all        679       3388      0.943      0.914      0.964      0.634\n"
     ]
    },
    {
     "name": "stderr",
     "output_type": "stream",
     "text": [
      "\n"
     ]
    },
    {
     "name": "stdout",
     "output_type": "stream",
     "text": [
      "\n",
      "      Epoch    GPU_mem   box_loss   cls_loss   dfl_loss  Instances       Size\n"
     ]
    },
    {
     "name": "stderr",
     "output_type": "stream",
     "text": [
      "     55/200      4.42G       2.11     0.9556      2.107         29        640: 100%|██████████| 255/255 [01:26<00:00,  \n",
      "                 Class     Images  Instances      Box(P          R      mAP50  mAP50-95): 100%|██████████| 43/43 [00:13"
     ]
    },
    {
     "name": "stdout",
     "output_type": "stream",
     "text": [
      "                   all        679       3388      0.932      0.912      0.964      0.636\n"
     ]
    },
    {
     "name": "stderr",
     "output_type": "stream",
     "text": [
      "\n"
     ]
    },
    {
     "name": "stdout",
     "output_type": "stream",
     "text": [
      "\n",
      "      Epoch    GPU_mem   box_loss   cls_loss   dfl_loss  Instances       Size\n"
     ]
    },
    {
     "name": "stderr",
     "output_type": "stream",
     "text": [
      "     56/200       4.3G      2.098     0.9488       2.11         26        640: 100%|██████████| 255/255 [01:26<00:00,  \n",
      "                 Class     Images  Instances      Box(P          R      mAP50  mAP50-95): 100%|██████████| 43/43 [00:12"
     ]
    },
    {
     "name": "stdout",
     "output_type": "stream",
     "text": [
      "                   all        679       3388      0.938      0.922      0.965      0.632\n"
     ]
    },
    {
     "name": "stderr",
     "output_type": "stream",
     "text": [
      "\n"
     ]
    },
    {
     "name": "stdout",
     "output_type": "stream",
     "text": [
      "\n",
      "      Epoch    GPU_mem   box_loss   cls_loss   dfl_loss  Instances       Size\n"
     ]
    },
    {
     "name": "stderr",
     "output_type": "stream",
     "text": [
      "     57/200       4.4G      2.068     0.9239      2.086         20        640: 100%|██████████| 255/255 [01:26<00:00,  \n",
      "                 Class     Images  Instances      Box(P          R      mAP50  mAP50-95): 100%|██████████| 43/43 [00:12"
     ]
    },
    {
     "name": "stdout",
     "output_type": "stream",
     "text": [
      "                   all        679       3388      0.944      0.906      0.966      0.637\n"
     ]
    },
    {
     "name": "stderr",
     "output_type": "stream",
     "text": [
      "\n"
     ]
    },
    {
     "name": "stdout",
     "output_type": "stream",
     "text": [
      "\n",
      "      Epoch    GPU_mem   box_loss   cls_loss   dfl_loss  Instances       Size\n"
     ]
    },
    {
     "name": "stderr",
     "output_type": "stream",
     "text": [
      "     58/200      4.42G      2.074     0.9309        2.1         37        640: 100%|██████████| 255/255 [01:26<00:00,  \n",
      "                 Class     Images  Instances      Box(P          R      mAP50  mAP50-95): 100%|██████████| 43/43 [00:12"
     ]
    },
    {
     "name": "stdout",
     "output_type": "stream",
     "text": [
      "                   all        679       3388      0.932      0.921      0.966      0.635\n"
     ]
    },
    {
     "name": "stderr",
     "output_type": "stream",
     "text": [
      "\n"
     ]
    },
    {
     "name": "stdout",
     "output_type": "stream",
     "text": [
      "\n",
      "      Epoch    GPU_mem   box_loss   cls_loss   dfl_loss  Instances       Size\n"
     ]
    },
    {
     "name": "stderr",
     "output_type": "stream",
     "text": [
      "     59/200      4.47G      2.071     0.9182      2.106         46        640: 100%|██████████| 255/255 [01:26<00:00,  \n",
      "                 Class     Images  Instances      Box(P          R      mAP50  mAP50-95): 100%|██████████| 43/43 [00:12"
     ]
    },
    {
     "name": "stdout",
     "output_type": "stream",
     "text": [
      "                   all        679       3388      0.939      0.921      0.966      0.632\n"
     ]
    },
    {
     "name": "stderr",
     "output_type": "stream",
     "text": [
      "\n"
     ]
    },
    {
     "name": "stdout",
     "output_type": "stream",
     "text": [
      "\n",
      "      Epoch    GPU_mem   box_loss   cls_loss   dfl_loss  Instances       Size\n"
     ]
    },
    {
     "name": "stderr",
     "output_type": "stream",
     "text": [
      "     60/200      4.42G      2.047     0.9267      2.082         26        640: 100%|██████████| 255/255 [01:26<00:00,  \n",
      "                 Class     Images  Instances      Box(P          R      mAP50  mAP50-95): 100%|██████████| 43/43 [00:12"
     ]
    },
    {
     "name": "stdout",
     "output_type": "stream",
     "text": [
      "                   all        679       3388       0.94      0.921      0.967      0.635\n"
     ]
    },
    {
     "name": "stderr",
     "output_type": "stream",
     "text": [
      "\n"
     ]
    },
    {
     "name": "stdout",
     "output_type": "stream",
     "text": [
      "\n",
      "      Epoch    GPU_mem   box_loss   cls_loss   dfl_loss  Instances       Size\n"
     ]
    },
    {
     "name": "stderr",
     "output_type": "stream",
     "text": [
      "     61/200      4.46G      2.028     0.9009      2.086         17        640: 100%|██████████| 255/255 [01:26<00:00,  \n",
      "                 Class     Images  Instances      Box(P          R      mAP50  mAP50-95): 100%|██████████| 43/43 [00:12"
     ]
    },
    {
     "name": "stdout",
     "output_type": "stream",
     "text": [
      "                   all        679       3388      0.951      0.907      0.967      0.636\n"
     ]
    },
    {
     "name": "stderr",
     "output_type": "stream",
     "text": [
      "\n"
     ]
    },
    {
     "name": "stdout",
     "output_type": "stream",
     "text": [
      "\n",
      "      Epoch    GPU_mem   box_loss   cls_loss   dfl_loss  Instances       Size\n"
     ]
    },
    {
     "name": "stderr",
     "output_type": "stream",
     "text": [
      "     62/200      4.28G      2.041     0.9085      2.061         39        640: 100%|██████████| 255/255 [01:26<00:00,  \n",
      "                 Class     Images  Instances      Box(P          R      mAP50  mAP50-95): 100%|██████████| 43/43 [00:12"
     ]
    },
    {
     "name": "stdout",
     "output_type": "stream",
     "text": [
      "                   all        679       3388      0.931      0.914      0.963      0.632\n"
     ]
    },
    {
     "name": "stderr",
     "output_type": "stream",
     "text": [
      "\n"
     ]
    },
    {
     "name": "stdout",
     "output_type": "stream",
     "text": [
      "\n",
      "      Epoch    GPU_mem   box_loss   cls_loss   dfl_loss  Instances       Size\n"
     ]
    },
    {
     "name": "stderr",
     "output_type": "stream",
     "text": [
      "     63/200      4.45G       2.04      0.922      2.089         24        640: 100%|██████████| 255/255 [01:26<00:00,  \n",
      "                 Class     Images  Instances      Box(P          R      mAP50  mAP50-95): 100%|██████████| 43/43 [00:12"
     ]
    },
    {
     "name": "stdout",
     "output_type": "stream",
     "text": [
      "                   all        679       3388      0.946      0.912      0.966      0.637\n"
     ]
    },
    {
     "name": "stderr",
     "output_type": "stream",
     "text": [
      "\n"
     ]
    },
    {
     "name": "stdout",
     "output_type": "stream",
     "text": [
      "\n",
      "      Epoch    GPU_mem   box_loss   cls_loss   dfl_loss  Instances       Size\n"
     ]
    },
    {
     "name": "stderr",
     "output_type": "stream",
     "text": [
      "     64/200      4.31G      2.008      0.889      2.072         78        640: 100%|██████████| 255/255 [01:26<00:00,  \n",
      "                 Class     Images  Instances      Box(P          R      mAP50  mAP50-95): 100%|██████████| 43/43 [00:12"
     ]
    },
    {
     "name": "stdout",
     "output_type": "stream",
     "text": [
      "                   all        679       3388      0.936      0.915      0.964      0.633\n"
     ]
    },
    {
     "name": "stderr",
     "output_type": "stream",
     "text": [
      "\n"
     ]
    },
    {
     "name": "stdout",
     "output_type": "stream",
     "text": [
      "\n",
      "      Epoch    GPU_mem   box_loss   cls_loss   dfl_loss  Instances       Size\n"
     ]
    },
    {
     "name": "stderr",
     "output_type": "stream",
     "text": [
      "     65/200      4.45G      2.021     0.8973      2.068         51        640: 100%|██████████| 255/255 [01:26<00:00,  \n",
      "                 Class     Images  Instances      Box(P          R      mAP50  mAP50-95): 100%|██████████| 43/43 [00:12"
     ]
    },
    {
     "name": "stdout",
     "output_type": "stream",
     "text": [
      "                   all        679       3388       0.94      0.918      0.965      0.633\n"
     ]
    },
    {
     "name": "stderr",
     "output_type": "stream",
     "text": [
      "\n"
     ]
    },
    {
     "name": "stdout",
     "output_type": "stream",
     "text": [
      "\n",
      "      Epoch    GPU_mem   box_loss   cls_loss   dfl_loss  Instances       Size\n"
     ]
    },
    {
     "name": "stderr",
     "output_type": "stream",
     "text": [
      "     66/200      4.42G      2.012     0.8972      2.069         22        640: 100%|██████████| 255/255 [01:26<00:00,  \n",
      "                 Class     Images  Instances      Box(P          R      mAP50  mAP50-95): 100%|██████████| 43/43 [00:13"
     ]
    },
    {
     "name": "stdout",
     "output_type": "stream",
     "text": [
      "                   all        679       3388      0.936      0.919      0.965      0.633\n"
     ]
    },
    {
     "name": "stderr",
     "output_type": "stream",
     "text": [
      "\n"
     ]
    },
    {
     "name": "stdout",
     "output_type": "stream",
     "text": [
      "\n",
      "      Epoch    GPU_mem   box_loss   cls_loss   dfl_loss  Instances       Size\n"
     ]
    },
    {
     "name": "stderr",
     "output_type": "stream",
     "text": [
      "     67/200      4.47G      2.009     0.8906      2.053         74        640: 100%|██████████| 255/255 [01:26<00:00,  \n",
      "                 Class     Images  Instances      Box(P          R      mAP50  mAP50-95): 100%|██████████| 43/43 [00:13"
     ]
    },
    {
     "name": "stdout",
     "output_type": "stream",
     "text": [
      "                   all        679       3388      0.939      0.916      0.966      0.635\n"
     ]
    },
    {
     "name": "stderr",
     "output_type": "stream",
     "text": [
      "\n"
     ]
    },
    {
     "name": "stdout",
     "output_type": "stream",
     "text": [
      "\n",
      "      Epoch    GPU_mem   box_loss   cls_loss   dfl_loss  Instances       Size\n"
     ]
    },
    {
     "name": "stderr",
     "output_type": "stream",
     "text": [
      "     68/200      4.46G      2.008     0.8921      2.057         70        640: 100%|██████████| 255/255 [01:26<00:00,  \n",
      "                 Class     Images  Instances      Box(P          R      mAP50  mAP50-95): 100%|██████████| 43/43 [00:12"
     ]
    },
    {
     "name": "stdout",
     "output_type": "stream",
     "text": [
      "                   all        679       3388      0.951      0.909      0.966       0.64\n"
     ]
    },
    {
     "name": "stderr",
     "output_type": "stream",
     "text": [
      "\n"
     ]
    },
    {
     "name": "stdout",
     "output_type": "stream",
     "text": [
      "\n",
      "      Epoch    GPU_mem   box_loss   cls_loss   dfl_loss  Instances       Size\n"
     ]
    },
    {
     "name": "stderr",
     "output_type": "stream",
     "text": [
      "     69/200       4.4G      1.999     0.8974      2.058         33        640: 100%|██████████| 255/255 [01:26<00:00,  \n",
      "                 Class     Images  Instances      Box(P          R      mAP50  mAP50-95): 100%|██████████| 43/43 [00:12"
     ]
    },
    {
     "name": "stdout",
     "output_type": "stream",
     "text": [
      "                   all        679       3388      0.945      0.926      0.965      0.634\n"
     ]
    },
    {
     "name": "stderr",
     "output_type": "stream",
     "text": [
      "\n"
     ]
    },
    {
     "name": "stdout",
     "output_type": "stream",
     "text": [
      "\n",
      "      Epoch    GPU_mem   box_loss   cls_loss   dfl_loss  Instances       Size\n"
     ]
    },
    {
     "name": "stderr",
     "output_type": "stream",
     "text": [
      "     70/200      4.38G      1.981     0.8853      2.055         48        640: 100%|██████████| 255/255 [01:26<00:00,  \n",
      "                 Class     Images  Instances      Box(P          R      mAP50  mAP50-95): 100%|██████████| 43/43 [00:13"
     ]
    },
    {
     "name": "stdout",
     "output_type": "stream",
     "text": [
      "                   all        679       3388      0.945      0.918      0.967       0.64\n"
     ]
    },
    {
     "name": "stderr",
     "output_type": "stream",
     "text": [
      "\n"
     ]
    },
    {
     "name": "stdout",
     "output_type": "stream",
     "text": [
      "\n",
      "      Epoch    GPU_mem   box_loss   cls_loss   dfl_loss  Instances       Size\n"
     ]
    },
    {
     "name": "stderr",
     "output_type": "stream",
     "text": [
      "     71/200      4.46G      1.985     0.8814      2.053         31        640: 100%|██████████| 255/255 [01:26<00:00,  \n",
      "                 Class     Images  Instances      Box(P          R      mAP50  mAP50-95): 100%|██████████| 43/43 [00:12"
     ]
    },
    {
     "name": "stdout",
     "output_type": "stream",
     "text": [
      "                   all        679       3388      0.942      0.912      0.967      0.634\n"
     ]
    },
    {
     "name": "stderr",
     "output_type": "stream",
     "text": [
      "\n"
     ]
    },
    {
     "name": "stdout",
     "output_type": "stream",
     "text": [
      "\n",
      "      Epoch    GPU_mem   box_loss   cls_loss   dfl_loss  Instances       Size\n"
     ]
    },
    {
     "name": "stderr",
     "output_type": "stream",
     "text": [
      "     72/200      4.31G      1.959     0.8545      2.041         35        640: 100%|██████████| 255/255 [01:26<00:00,  \n",
      "                 Class     Images  Instances      Box(P          R      mAP50  mAP50-95): 100%|██████████| 43/43 [00:13"
     ]
    },
    {
     "name": "stdout",
     "output_type": "stream",
     "text": [
      "                   all        679       3388      0.939      0.921      0.968       0.64\n"
     ]
    },
    {
     "name": "stderr",
     "output_type": "stream",
     "text": [
      "\n"
     ]
    },
    {
     "name": "stdout",
     "output_type": "stream",
     "text": [
      "\n",
      "      Epoch    GPU_mem   box_loss   cls_loss   dfl_loss  Instances       Size\n"
     ]
    },
    {
     "name": "stderr",
     "output_type": "stream",
     "text": [
      "     73/200       4.4G      1.962     0.8683      2.056         21        640: 100%|██████████| 255/255 [01:26<00:00,  \n",
      "                 Class     Images  Instances      Box(P          R      mAP50  mAP50-95): 100%|██████████| 43/43 [00:13"
     ]
    },
    {
     "name": "stdout",
     "output_type": "stream",
     "text": [
      "                   all        679       3388      0.947      0.921      0.967      0.639\n"
     ]
    },
    {
     "name": "stderr",
     "output_type": "stream",
     "text": [
      "\n"
     ]
    },
    {
     "name": "stdout",
     "output_type": "stream",
     "text": [
      "\n",
      "      Epoch    GPU_mem   box_loss   cls_loss   dfl_loss  Instances       Size\n"
     ]
    },
    {
     "name": "stderr",
     "output_type": "stream",
     "text": [
      "     74/200       4.4G      1.967     0.8897      2.061         46        640: 100%|██████████| 255/255 [01:26<00:00,  \n",
      "                 Class     Images  Instances      Box(P          R      mAP50  mAP50-95): 100%|██████████| 43/43 [00:12"
     ]
    },
    {
     "name": "stdout",
     "output_type": "stream",
     "text": [
      "                   all        679       3388      0.937      0.915      0.966      0.636\n"
     ]
    },
    {
     "name": "stderr",
     "output_type": "stream",
     "text": [
      "\n"
     ]
    },
    {
     "name": "stdout",
     "output_type": "stream",
     "text": [
      "\n",
      "      Epoch    GPU_mem   box_loss   cls_loss   dfl_loss  Instances       Size\n"
     ]
    },
    {
     "name": "stderr",
     "output_type": "stream",
     "text": [
      "     75/200      4.41G      1.964     0.8789      2.037         17        640: 100%|██████████| 255/255 [01:26<00:00,  \n",
      "                 Class     Images  Instances      Box(P          R      mAP50  mAP50-95): 100%|██████████| 43/43 [00:13"
     ]
    },
    {
     "name": "stdout",
     "output_type": "stream",
     "text": [
      "                   all        679       3388      0.947       0.91      0.965      0.639\n"
     ]
    },
    {
     "name": "stderr",
     "output_type": "stream",
     "text": [
      "\n"
     ]
    },
    {
     "name": "stdout",
     "output_type": "stream",
     "text": [
      "\n",
      "      Epoch    GPU_mem   box_loss   cls_loss   dfl_loss  Instances       Size\n"
     ]
    },
    {
     "name": "stderr",
     "output_type": "stream",
     "text": [
      "     76/200       4.4G       1.91     0.8473      2.033         39        640: 100%|██████████| 255/255 [01:26<00:00,  \n",
      "                 Class     Images  Instances      Box(P          R      mAP50  mAP50-95): 100%|██████████| 43/43 [00:12"
     ]
    },
    {
     "name": "stdout",
     "output_type": "stream",
     "text": [
      "                   all        679       3388      0.946      0.915      0.967      0.636\n"
     ]
    },
    {
     "name": "stderr",
     "output_type": "stream",
     "text": [
      "\n"
     ]
    },
    {
     "name": "stdout",
     "output_type": "stream",
     "text": [
      "\n",
      "      Epoch    GPU_mem   box_loss   cls_loss   dfl_loss  Instances       Size\n"
     ]
    },
    {
     "name": "stderr",
     "output_type": "stream",
     "text": [
      "     77/200      4.46G       1.92     0.8592      2.024         22        640: 100%|██████████| 255/255 [01:26<00:00,  \n",
      "                 Class     Images  Instances      Box(P          R      mAP50  mAP50-95): 100%|██████████| 43/43 [00:12"
     ]
    },
    {
     "name": "stdout",
     "output_type": "stream",
     "text": [
      "                   all        679       3388      0.958      0.907      0.969      0.641\n"
     ]
    },
    {
     "name": "stderr",
     "output_type": "stream",
     "text": [
      "\n"
     ]
    },
    {
     "name": "stdout",
     "output_type": "stream",
     "text": [
      "\n",
      "      Epoch    GPU_mem   box_loss   cls_loss   dfl_loss  Instances       Size\n"
     ]
    },
    {
     "name": "stderr",
     "output_type": "stream",
     "text": [
      "     78/200      4.39G       1.93     0.8532      2.016         36        640: 100%|██████████| 255/255 [01:26<00:00,  \n",
      "                 Class     Images  Instances      Box(P          R      mAP50  mAP50-95): 100%|██████████| 43/43 [00:13"
     ]
    },
    {
     "name": "stdout",
     "output_type": "stream",
     "text": [
      "                   all        679       3388      0.941      0.922      0.967      0.637\n"
     ]
    },
    {
     "name": "stderr",
     "output_type": "stream",
     "text": [
      "\n"
     ]
    },
    {
     "name": "stdout",
     "output_type": "stream",
     "text": [
      "\n",
      "      Epoch    GPU_mem   box_loss   cls_loss   dfl_loss  Instances       Size\n"
     ]
    },
    {
     "name": "stderr",
     "output_type": "stream",
     "text": [
      "     79/200      4.46G      1.892     0.8186      2.016         41        640: 100%|██████████| 255/255 [01:26<00:00,  \n",
      "                 Class     Images  Instances      Box(P          R      mAP50  mAP50-95): 100%|██████████| 43/43 [00:13"
     ]
    },
    {
     "name": "stdout",
     "output_type": "stream",
     "text": [
      "                   all        679       3388      0.941       0.92      0.968      0.642\n"
     ]
    },
    {
     "name": "stderr",
     "output_type": "stream",
     "text": [
      "\n"
     ]
    },
    {
     "name": "stdout",
     "output_type": "stream",
     "text": [
      "\n",
      "      Epoch    GPU_mem   box_loss   cls_loss   dfl_loss  Instances       Size\n"
     ]
    },
    {
     "name": "stderr",
     "output_type": "stream",
     "text": [
      "     80/200      4.28G      1.908     0.8502      2.019         38        640: 100%|██████████| 255/255 [01:26<00:00,  \n",
      "                 Class     Images  Instances      Box(P          R      mAP50  mAP50-95): 100%|██████████| 43/43 [00:13"
     ]
    },
    {
     "name": "stdout",
     "output_type": "stream",
     "text": [
      "                   all        679       3388      0.946      0.916      0.967      0.639\n"
     ]
    },
    {
     "name": "stderr",
     "output_type": "stream",
     "text": [
      "\n"
     ]
    },
    {
     "name": "stdout",
     "output_type": "stream",
     "text": [
      "\n",
      "      Epoch    GPU_mem   box_loss   cls_loss   dfl_loss  Instances       Size\n"
     ]
    },
    {
     "name": "stderr",
     "output_type": "stream",
     "text": [
      "     81/200      4.41G      1.909     0.8455      2.027         30        640: 100%|██████████| 255/255 [01:26<00:00,  \n",
      "                 Class     Images  Instances      Box(P          R      mAP50  mAP50-95): 100%|██████████| 43/43 [00:12"
     ]
    },
    {
     "name": "stdout",
     "output_type": "stream",
     "text": [
      "                   all        679       3388      0.942      0.923      0.967      0.643\n"
     ]
    },
    {
     "name": "stderr",
     "output_type": "stream",
     "text": [
      "\n"
     ]
    },
    {
     "name": "stdout",
     "output_type": "stream",
     "text": [
      "\n",
      "      Epoch    GPU_mem   box_loss   cls_loss   dfl_loss  Instances       Size\n"
     ]
    },
    {
     "name": "stderr",
     "output_type": "stream",
     "text": [
      "     82/200      4.43G      1.911     0.8474      2.021         18        640: 100%|██████████| 255/255 [01:26<00:00,  \n",
      "                 Class     Images  Instances      Box(P          R      mAP50  mAP50-95): 100%|██████████| 43/43 [00:12"
     ]
    },
    {
     "name": "stdout",
     "output_type": "stream",
     "text": [
      "                   all        679       3388      0.942       0.92      0.968      0.641\n"
     ]
    },
    {
     "name": "stderr",
     "output_type": "stream",
     "text": [
      "\n"
     ]
    },
    {
     "name": "stdout",
     "output_type": "stream",
     "text": [
      "\n",
      "      Epoch    GPU_mem   box_loss   cls_loss   dfl_loss  Instances       Size\n"
     ]
    },
    {
     "name": "stderr",
     "output_type": "stream",
     "text": [
      "     83/200      4.36G      1.868     0.8221      1.995         16        640: 100%|██████████| 255/255 [01:26<00:00,  \n",
      "                 Class     Images  Instances      Box(P          R      mAP50  mAP50-95): 100%|██████████| 43/43 [00:12"
     ]
    },
    {
     "name": "stdout",
     "output_type": "stream",
     "text": [
      "                   all        679       3388      0.951      0.908      0.967      0.636\n"
     ]
    },
    {
     "name": "stderr",
     "output_type": "stream",
     "text": [
      "\n"
     ]
    },
    {
     "name": "stdout",
     "output_type": "stream",
     "text": [
      "\n",
      "      Epoch    GPU_mem   box_loss   cls_loss   dfl_loss  Instances       Size\n"
     ]
    },
    {
     "name": "stderr",
     "output_type": "stream",
     "text": [
      "     84/200      4.32G       1.88     0.8286       2.01         19        640: 100%|██████████| 255/255 [01:26<00:00,  \n",
      "                 Class     Images  Instances      Box(P          R      mAP50  mAP50-95): 100%|██████████| 43/43 [00:12"
     ]
    },
    {
     "name": "stdout",
     "output_type": "stream",
     "text": [
      "                   all        679       3388      0.953      0.919      0.967      0.637\n"
     ]
    },
    {
     "name": "stderr",
     "output_type": "stream",
     "text": [
      "\n"
     ]
    },
    {
     "name": "stdout",
     "output_type": "stream",
     "text": [
      "\n",
      "      Epoch    GPU_mem   box_loss   cls_loss   dfl_loss  Instances       Size\n"
     ]
    },
    {
     "name": "stderr",
     "output_type": "stream",
     "text": [
      "     85/200      4.42G      1.876     0.8172      1.983         26        640: 100%|██████████| 255/255 [01:26<00:00,  \n",
      "                 Class     Images  Instances      Box(P          R      mAP50  mAP50-95): 100%|██████████| 43/43 [00:13"
     ]
    },
    {
     "name": "stdout",
     "output_type": "stream",
     "text": [
      "                   all        679       3388      0.946      0.923      0.967      0.637\n"
     ]
    },
    {
     "name": "stderr",
     "output_type": "stream",
     "text": [
      "\n"
     ]
    },
    {
     "name": "stdout",
     "output_type": "stream",
     "text": [
      "\n",
      "      Epoch    GPU_mem   box_loss   cls_loss   dfl_loss  Instances       Size\n"
     ]
    },
    {
     "name": "stderr",
     "output_type": "stream",
     "text": [
      "     86/200      4.24G      1.877     0.8285      2.006         29        640: 100%|██████████| 255/255 [01:26<00:00,  \n",
      "                 Class     Images  Instances      Box(P          R      mAP50  mAP50-95): 100%|██████████| 43/43 [00:12"
     ]
    },
    {
     "name": "stdout",
     "output_type": "stream",
     "text": [
      "                   all        679       3388      0.947      0.918      0.968      0.641\n"
     ]
    },
    {
     "name": "stderr",
     "output_type": "stream",
     "text": [
      "\n"
     ]
    },
    {
     "name": "stdout",
     "output_type": "stream",
     "text": [
      "\n",
      "      Epoch    GPU_mem   box_loss   cls_loss   dfl_loss  Instances       Size\n"
     ]
    },
    {
     "name": "stderr",
     "output_type": "stream",
     "text": [
      "     87/200      4.46G      1.874     0.8191      2.009         39        640: 100%|██████████| 255/255 [01:26<00:00,  \n",
      "                 Class     Images  Instances      Box(P          R      mAP50  mAP50-95): 100%|██████████| 43/43 [00:12"
     ]
    },
    {
     "name": "stdout",
     "output_type": "stream",
     "text": [
      "                   all        679       3388      0.948      0.916      0.965      0.641\n"
     ]
    },
    {
     "name": "stderr",
     "output_type": "stream",
     "text": [
      "\n"
     ]
    },
    {
     "name": "stdout",
     "output_type": "stream",
     "text": [
      "\n",
      "      Epoch    GPU_mem   box_loss   cls_loss   dfl_loss  Instances       Size\n"
     ]
    },
    {
     "name": "stderr",
     "output_type": "stream",
     "text": [
      "     88/200      4.28G      1.852     0.8106      1.999         47        640: 100%|██████████| 255/255 [01:26<00:00,  \n",
      "                 Class     Images  Instances      Box(P          R      mAP50  mAP50-95): 100%|██████████| 43/43 [00:12"
     ]
    },
    {
     "name": "stdout",
     "output_type": "stream",
     "text": [
      "                   all        679       3388      0.955      0.909      0.965      0.639\n"
     ]
    },
    {
     "name": "stderr",
     "output_type": "stream",
     "text": [
      "\n"
     ]
    },
    {
     "name": "stdout",
     "output_type": "stream",
     "text": [
      "\n",
      "      Epoch    GPU_mem   box_loss   cls_loss   dfl_loss  Instances       Size\n"
     ]
    },
    {
     "name": "stderr",
     "output_type": "stream",
     "text": [
      "     89/200      4.42G       1.84     0.8152      1.994         25        640: 100%|██████████| 255/255 [01:27<00:00,  \n",
      "                 Class     Images  Instances      Box(P          R      mAP50  mAP50-95): 100%|██████████| 43/43 [00:13"
     ]
    },
    {
     "name": "stdout",
     "output_type": "stream",
     "text": [
      "                   all        679       3388      0.942      0.919      0.966      0.636\n"
     ]
    },
    {
     "name": "stderr",
     "output_type": "stream",
     "text": [
      "\n"
     ]
    },
    {
     "name": "stdout",
     "output_type": "stream",
     "text": [
      "\n",
      "      Epoch    GPU_mem   box_loss   cls_loss   dfl_loss  Instances       Size\n"
     ]
    },
    {
     "name": "stderr",
     "output_type": "stream",
     "text": [
      "     90/200      4.47G      1.831     0.7999      1.981         18        640: 100%|██████████| 255/255 [01:26<00:00,  \n",
      "                 Class     Images  Instances      Box(P          R      mAP50  mAP50-95): 100%|██████████| 43/43 [00:12"
     ]
    },
    {
     "name": "stdout",
     "output_type": "stream",
     "text": [
      "                   all        679       3388      0.937      0.918      0.966      0.638\n"
     ]
    },
    {
     "name": "stderr",
     "output_type": "stream",
     "text": [
      "\n"
     ]
    },
    {
     "name": "stdout",
     "output_type": "stream",
     "text": [
      "\n",
      "      Epoch    GPU_mem   box_loss   cls_loss   dfl_loss  Instances       Size\n"
     ]
    },
    {
     "name": "stderr",
     "output_type": "stream",
     "text": [
      "     91/200      4.42G      1.841     0.8075      1.995         41        640: 100%|██████████| 255/255 [01:26<00:00,  \n",
      "                 Class     Images  Instances      Box(P          R      mAP50  mAP50-95): 100%|██████████| 43/43 [00:13"
     ]
    },
    {
     "name": "stdout",
     "output_type": "stream",
     "text": [
      "                   all        679       3388      0.942      0.919      0.967      0.638\n"
     ]
    },
    {
     "name": "stderr",
     "output_type": "stream",
     "text": [
      "\n"
     ]
    },
    {
     "name": "stdout",
     "output_type": "stream",
     "text": [
      "\n",
      "      Epoch    GPU_mem   box_loss   cls_loss   dfl_loss  Instances       Size\n"
     ]
    },
    {
     "name": "stderr",
     "output_type": "stream",
     "text": [
      "     92/200      4.48G      1.808     0.7914      1.976         41        640: 100%|██████████| 255/255 [01:26<00:00,  \n",
      "                 Class     Images  Instances      Box(P          R      mAP50  mAP50-95): 100%|██████████| 43/43 [00:12"
     ]
    },
    {
     "name": "stdout",
     "output_type": "stream",
     "text": [
      "                   all        679       3388      0.946      0.919      0.966      0.639\n"
     ]
    },
    {
     "name": "stderr",
     "output_type": "stream",
     "text": [
      "\n"
     ]
    },
    {
     "name": "stdout",
     "output_type": "stream",
     "text": [
      "\n",
      "      Epoch    GPU_mem   box_loss   cls_loss   dfl_loss  Instances       Size\n"
     ]
    },
    {
     "name": "stderr",
     "output_type": "stream",
     "text": [
      "     93/200      4.45G      1.808     0.7953      1.972         22        640: 100%|██████████| 255/255 [01:26<00:00,  \n",
      "                 Class     Images  Instances      Box(P          R      mAP50  mAP50-95): 100%|██████████| 43/43 [00:12"
     ]
    },
    {
     "name": "stdout",
     "output_type": "stream",
     "text": [
      "                   all        679       3388      0.945      0.916      0.967      0.642\n"
     ]
    },
    {
     "name": "stderr",
     "output_type": "stream",
     "text": [
      "\n"
     ]
    },
    {
     "name": "stdout",
     "output_type": "stream",
     "text": [
      "\n",
      "      Epoch    GPU_mem   box_loss   cls_loss   dfl_loss  Instances       Size\n"
     ]
    },
    {
     "name": "stderr",
     "output_type": "stream",
     "text": [
      "     94/200      4.38G      1.792     0.7808       1.97         19        640: 100%|██████████| 255/255 [01:26<00:00,  \n",
      "                 Class     Images  Instances      Box(P          R      mAP50  mAP50-95): 100%|██████████| 43/43 [00:13"
     ]
    },
    {
     "name": "stdout",
     "output_type": "stream",
     "text": [
      "                   all        679       3388      0.945       0.92      0.967      0.641\n"
     ]
    },
    {
     "name": "stderr",
     "output_type": "stream",
     "text": [
      "\n"
     ]
    },
    {
     "name": "stdout",
     "output_type": "stream",
     "text": [
      "\n",
      "      Epoch    GPU_mem   box_loss   cls_loss   dfl_loss  Instances       Size\n"
     ]
    },
    {
     "name": "stderr",
     "output_type": "stream",
     "text": [
      "     95/200      4.46G      1.797     0.7928      1.972         11        640: 100%|██████████| 255/255 [01:26<00:00,  \n",
      "                 Class     Images  Instances      Box(P          R      mAP50  mAP50-95): 100%|██████████| 43/43 [00:12"
     ]
    },
    {
     "name": "stdout",
     "output_type": "stream",
     "text": [
      "                   all        679       3388      0.941      0.916      0.965       0.64\n"
     ]
    },
    {
     "name": "stderr",
     "output_type": "stream",
     "text": [
      "\n"
     ]
    },
    {
     "name": "stdout",
     "output_type": "stream",
     "text": [
      "\n",
      "      Epoch    GPU_mem   box_loss   cls_loss   dfl_loss  Instances       Size\n"
     ]
    },
    {
     "name": "stderr",
     "output_type": "stream",
     "text": [
      "     96/200      4.29G      1.776     0.7719      1.964         33        640: 100%|██████████| 255/255 [01:26<00:00,  \n",
      "                 Class     Images  Instances      Box(P          R      mAP50  mAP50-95): 100%|██████████| 43/43 [00:12"
     ]
    },
    {
     "name": "stdout",
     "output_type": "stream",
     "text": [
      "                   all        679       3388      0.946      0.915      0.965      0.641\n"
     ]
    },
    {
     "name": "stderr",
     "output_type": "stream",
     "text": [
      "\n"
     ]
    },
    {
     "name": "stdout",
     "output_type": "stream",
     "text": [
      "\n",
      "      Epoch    GPU_mem   box_loss   cls_loss   dfl_loss  Instances       Size\n"
     ]
    },
    {
     "name": "stderr",
     "output_type": "stream",
     "text": [
      "     97/200      4.47G      1.786     0.7771      1.957         26        640: 100%|██████████| 255/255 [01:26<00:00,  \n",
      "                 Class     Images  Instances      Box(P          R      mAP50  mAP50-95): 100%|██████████| 43/43 [00:12"
     ]
    },
    {
     "name": "stdout",
     "output_type": "stream",
     "text": [
      "                   all        679       3388      0.947      0.918      0.967      0.643\n"
     ]
    },
    {
     "name": "stderr",
     "output_type": "stream",
     "text": [
      "\n"
     ]
    },
    {
     "name": "stdout",
     "output_type": "stream",
     "text": [
      "\n",
      "      Epoch    GPU_mem   box_loss   cls_loss   dfl_loss  Instances       Size\n"
     ]
    },
    {
     "name": "stderr",
     "output_type": "stream",
     "text": [
      "     98/200      4.47G      1.771     0.7735      1.953         47        640: 100%|██████████| 255/255 [01:26<00:00,  \n",
      "                 Class     Images  Instances      Box(P          R      mAP50  mAP50-95): 100%|██████████| 43/43 [00:12"
     ]
    },
    {
     "name": "stdout",
     "output_type": "stream",
     "text": [
      "                   all        679       3388      0.946      0.911      0.966      0.638\n"
     ]
    },
    {
     "name": "stderr",
     "output_type": "stream",
     "text": [
      "\n"
     ]
    },
    {
     "name": "stdout",
     "output_type": "stream",
     "text": [
      "\n",
      "      Epoch    GPU_mem   box_loss   cls_loss   dfl_loss  Instances       Size\n"
     ]
    },
    {
     "name": "stderr",
     "output_type": "stream",
     "text": [
      "     99/200      4.46G      1.783      0.774      1.955         37        640: 100%|██████████| 255/255 [01:26<00:00,  \n",
      "                 Class     Images  Instances      Box(P          R      mAP50  mAP50-95): 100%|██████████| 43/43 [00:12"
     ]
    },
    {
     "name": "stdout",
     "output_type": "stream",
     "text": [
      "                   all        679       3388      0.941      0.918      0.967      0.636\n"
     ]
    },
    {
     "name": "stderr",
     "output_type": "stream",
     "text": [
      "\n"
     ]
    },
    {
     "name": "stdout",
     "output_type": "stream",
     "text": [
      "\n",
      "      Epoch    GPU_mem   box_loss   cls_loss   dfl_loss  Instances       Size\n"
     ]
    },
    {
     "name": "stderr",
     "output_type": "stream",
     "text": [
      "    100/200       4.4G      1.766      0.778       1.96         23        640: 100%|██████████| 255/255 [01:26<00:00,  \n",
      "                 Class     Images  Instances      Box(P          R      mAP50  mAP50-95): 100%|██████████| 43/43 [00:12"
     ]
    },
    {
     "name": "stdout",
     "output_type": "stream",
     "text": [
      "                   all        679       3388      0.956      0.911      0.966      0.642\n"
     ]
    },
    {
     "name": "stderr",
     "output_type": "stream",
     "text": [
      "\n"
     ]
    },
    {
     "name": "stdout",
     "output_type": "stream",
     "text": [
      "\n",
      "      Epoch    GPU_mem   box_loss   cls_loss   dfl_loss  Instances       Size\n"
     ]
    },
    {
     "name": "stderr",
     "output_type": "stream",
     "text": [
      "    101/200      4.41G      1.766     0.7682       1.95         52        640: 100%|██████████| 255/255 [01:26<00:00,  \n",
      "                 Class     Images  Instances      Box(P          R      mAP50  mAP50-95): 100%|██████████| 43/43 [00:12"
     ]
    },
    {
     "name": "stdout",
     "output_type": "stream",
     "text": [
      "                   all        679       3388      0.949       0.92      0.969      0.639\n"
     ]
    },
    {
     "name": "stderr",
     "output_type": "stream",
     "text": [
      "\n"
     ]
    },
    {
     "name": "stdout",
     "output_type": "stream",
     "text": [
      "\n",
      "      Epoch    GPU_mem   box_loss   cls_loss   dfl_loss  Instances       Size\n"
     ]
    },
    {
     "name": "stderr",
     "output_type": "stream",
     "text": [
      "    102/200      4.42G      1.745     0.7637      1.947         42        640: 100%|██████████| 255/255 [01:26<00:00,  \n",
      "                 Class     Images  Instances      Box(P          R      mAP50  mAP50-95): 100%|██████████| 43/43 [00:13"
     ]
    },
    {
     "name": "stdout",
     "output_type": "stream",
     "text": [
      "                   all        679       3388      0.937      0.926      0.968      0.638\n"
     ]
    },
    {
     "name": "stderr",
     "output_type": "stream",
     "text": [
      "\n"
     ]
    },
    {
     "name": "stdout",
     "output_type": "stream",
     "text": [
      "\n",
      "      Epoch    GPU_mem   box_loss   cls_loss   dfl_loss  Instances       Size\n"
     ]
    },
    {
     "name": "stderr",
     "output_type": "stream",
     "text": [
      "    103/200      4.46G      1.769     0.7638      1.953         31        640: 100%|██████████| 255/255 [01:26<00:00,  \n",
      "                 Class     Images  Instances      Box(P          R      mAP50  mAP50-95): 100%|██████████| 43/43 [00:13"
     ]
    },
    {
     "name": "stdout",
     "output_type": "stream",
     "text": [
      "                   all        679       3388      0.947      0.918      0.965      0.636\n"
     ]
    },
    {
     "name": "stderr",
     "output_type": "stream",
     "text": [
      "\n"
     ]
    },
    {
     "name": "stdout",
     "output_type": "stream",
     "text": [
      "\n",
      "      Epoch    GPU_mem   box_loss   cls_loss   dfl_loss  Instances       Size\n"
     ]
    },
    {
     "name": "stderr",
     "output_type": "stream",
     "text": [
      "    104/200       4.3G      1.751     0.7614       1.95         43        640: 100%|██████████| 255/255 [01:26<00:00,  \n",
      "                 Class     Images  Instances      Box(P          R      mAP50  mAP50-95): 100%|██████████| 43/43 [00:13"
     ]
    },
    {
     "name": "stdout",
     "output_type": "stream",
     "text": [
      "                   all        679       3388       0.95      0.918      0.968      0.641\n"
     ]
    },
    {
     "name": "stderr",
     "output_type": "stream",
     "text": [
      "\n"
     ]
    },
    {
     "name": "stdout",
     "output_type": "stream",
     "text": [
      "\n",
      "      Epoch    GPU_mem   box_loss   cls_loss   dfl_loss  Instances       Size\n"
     ]
    },
    {
     "name": "stderr",
     "output_type": "stream",
     "text": [
      "    105/200      4.43G      1.737     0.7571      1.949         52        640: 100%|██████████| 255/255 [01:26<00:00,  \n",
      "                 Class     Images  Instances      Box(P          R      mAP50  mAP50-95): 100%|██████████| 43/43 [00:13"
     ]
    },
    {
     "name": "stdout",
     "output_type": "stream",
     "text": [
      "                   all        679       3388      0.936      0.924      0.967      0.638\n"
     ]
    },
    {
     "name": "stderr",
     "output_type": "stream",
     "text": [
      "\n"
     ]
    },
    {
     "name": "stdout",
     "output_type": "stream",
     "text": [
      "\n",
      "      Epoch    GPU_mem   box_loss   cls_loss   dfl_loss  Instances       Size\n"
     ]
    },
    {
     "name": "stderr",
     "output_type": "stream",
     "text": [
      "    106/200      4.48G      1.731     0.7551      1.943         57        640: 100%|██████████| 255/255 [01:26<00:00,  \n",
      "                 Class     Images  Instances      Box(P          R      mAP50  mAP50-95): 100%|██████████| 43/43 [00:12"
     ]
    },
    {
     "name": "stdout",
     "output_type": "stream",
     "text": [
      "                   all        679       3388      0.943       0.92      0.967       0.64\n"
     ]
    },
    {
     "name": "stderr",
     "output_type": "stream",
     "text": [
      "\n"
     ]
    },
    {
     "name": "stdout",
     "output_type": "stream",
     "text": [
      "\n",
      "      Epoch    GPU_mem   box_loss   cls_loss   dfl_loss  Instances       Size\n"
     ]
    },
    {
     "name": "stderr",
     "output_type": "stream",
     "text": [
      "    107/200       4.4G      1.739     0.7722      1.946         23        640: 100%|██████████| 255/255 [01:26<00:00,  \n",
      "                 Class     Images  Instances      Box(P          R      mAP50  mAP50-95): 100%|██████████| 43/43 [00:12"
     ]
    },
    {
     "name": "stdout",
     "output_type": "stream",
     "text": [
      "                   all        679       3388      0.946       0.92      0.966      0.636\n"
     ]
    },
    {
     "name": "stderr",
     "output_type": "stream",
     "text": [
      "\n"
     ]
    },
    {
     "name": "stdout",
     "output_type": "stream",
     "text": [
      "\n",
      "      Epoch    GPU_mem   box_loss   cls_loss   dfl_loss  Instances       Size\n"
     ]
    },
    {
     "name": "stderr",
     "output_type": "stream",
     "text": [
      "    108/200      4.29G      1.719     0.7429      1.934         56        640: 100%|██████████| 255/255 [01:26<00:00,  \n",
      "                 Class     Images  Instances      Box(P          R      mAP50  mAP50-95): 100%|██████████| 43/43 [00:12"
     ]
    },
    {
     "name": "stdout",
     "output_type": "stream",
     "text": [
      "                   all        679       3388       0.95      0.917      0.967      0.642\n"
     ]
    },
    {
     "name": "stderr",
     "output_type": "stream",
     "text": [
      "\n"
     ]
    },
    {
     "name": "stdout",
     "output_type": "stream",
     "text": [
      "\n",
      "      Epoch    GPU_mem   box_loss   cls_loss   dfl_loss  Instances       Size\n"
     ]
    },
    {
     "name": "stderr",
     "output_type": "stream",
     "text": [
      "    109/200      4.47G      1.716     0.7528      1.936         26        640: 100%|██████████| 255/255 [01:26<00:00,  \n",
      "                 Class     Images  Instances      Box(P          R      mAP50  mAP50-95): 100%|██████████| 43/43 [00:12"
     ]
    },
    {
     "name": "stdout",
     "output_type": "stream",
     "text": [
      "                   all        679       3388      0.951      0.917      0.967       0.64\n"
     ]
    },
    {
     "name": "stderr",
     "output_type": "stream",
     "text": [
      "\n"
     ]
    },
    {
     "name": "stdout",
     "output_type": "stream",
     "text": [
      "\n",
      "      Epoch    GPU_mem   box_loss   cls_loss   dfl_loss  Instances       Size\n"
     ]
    },
    {
     "name": "stderr",
     "output_type": "stream",
     "text": [
      "    110/200      4.42G       1.72     0.7439      1.946         37        640: 100%|██████████| 255/255 [01:26<00:00,  \n",
      "                 Class     Images  Instances      Box(P          R      mAP50  mAP50-95): 100%|██████████| 43/43 [00:13"
     ]
    },
    {
     "name": "stdout",
     "output_type": "stream",
     "text": [
      "                   all        679       3388      0.947      0.924      0.968      0.635\n"
     ]
    },
    {
     "name": "stderr",
     "output_type": "stream",
     "text": [
      "\n"
     ]
    },
    {
     "name": "stdout",
     "output_type": "stream",
     "text": [
      "\n",
      "      Epoch    GPU_mem   box_loss   cls_loss   dfl_loss  Instances       Size\n"
     ]
    },
    {
     "name": "stderr",
     "output_type": "stream",
     "text": [
      "    111/200      4.41G      1.717      0.752      1.932         26        640: 100%|██████████| 255/255 [01:26<00:00,  \n",
      "                 Class     Images  Instances      Box(P          R      mAP50  mAP50-95): 100%|██████████| 43/43 [00:13"
     ]
    },
    {
     "name": "stdout",
     "output_type": "stream",
     "text": [
      "                   all        679       3388      0.949      0.919      0.968       0.64\n"
     ]
    },
    {
     "name": "stderr",
     "output_type": "stream",
     "text": [
      "\n"
     ]
    },
    {
     "name": "stdout",
     "output_type": "stream",
     "text": [
      "\n",
      "      Epoch    GPU_mem   box_loss   cls_loss   dfl_loss  Instances       Size\n"
     ]
    },
    {
     "name": "stderr",
     "output_type": "stream",
     "text": [
      "    112/200      4.28G      1.707     0.7443      1.937         32        640: 100%|██████████| 255/255 [01:26<00:00,  \n",
      "                 Class     Images  Instances      Box(P          R      mAP50  mAP50-95): 100%|██████████| 43/43 [00:12"
     ]
    },
    {
     "name": "stdout",
     "output_type": "stream",
     "text": [
      "                   all        679       3388      0.952      0.916      0.968      0.642\n"
     ]
    },
    {
     "name": "stderr",
     "output_type": "stream",
     "text": [
      "\n"
     ]
    },
    {
     "name": "stdout",
     "output_type": "stream",
     "text": [
      "\n",
      "      Epoch    GPU_mem   box_loss   cls_loss   dfl_loss  Instances       Size\n"
     ]
    },
    {
     "name": "stderr",
     "output_type": "stream",
     "text": [
      "    113/200      4.46G      1.696     0.7368      1.928         20        640: 100%|██████████| 255/255 [01:26<00:00,  \n",
      "                 Class     Images  Instances      Box(P          R      mAP50  mAP50-95): 100%|██████████| 43/43 [00:12"
     ]
    },
    {
     "name": "stdout",
     "output_type": "stream",
     "text": [
      "                   all        679       3388      0.949      0.917      0.966       0.64\n"
     ]
    },
    {
     "name": "stderr",
     "output_type": "stream",
     "text": [
      "\n"
     ]
    },
    {
     "name": "stdout",
     "output_type": "stream",
     "text": [
      "\n",
      "      Epoch    GPU_mem   box_loss   cls_loss   dfl_loss  Instances       Size\n"
     ]
    },
    {
     "name": "stderr",
     "output_type": "stream",
     "text": [
      "    114/200      4.42G      1.693     0.7394      1.926          6        640: 100%|██████████| 255/255 [01:26<00:00,  \n",
      "                 Class     Images  Instances      Box(P          R      mAP50  mAP50-95): 100%|██████████| 43/43 [00:12"
     ]
    },
    {
     "name": "stdout",
     "output_type": "stream",
     "text": [
      "                   all        679       3388      0.955      0.912      0.966      0.642\n"
     ]
    },
    {
     "name": "stderr",
     "output_type": "stream",
     "text": [
      "\n"
     ]
    },
    {
     "name": "stdout",
     "output_type": "stream",
     "text": [
      "\n",
      "      Epoch    GPU_mem   box_loss   cls_loss   dfl_loss  Instances       Size\n"
     ]
    },
    {
     "name": "stderr",
     "output_type": "stream",
     "text": [
      "    115/200      4.46G        1.7     0.7336      1.926         29        640: 100%|██████████| 255/255 [01:26<00:00,  \n",
      "                 Class     Images  Instances      Box(P          R      mAP50  mAP50-95): 100%|██████████| 43/43 [00:12"
     ]
    },
    {
     "name": "stdout",
     "output_type": "stream",
     "text": [
      "                   all        679       3388      0.959      0.907      0.965      0.646\n"
     ]
    },
    {
     "name": "stderr",
     "output_type": "stream",
     "text": [
      "\n"
     ]
    },
    {
     "name": "stdout",
     "output_type": "stream",
     "text": [
      "\n",
      "      Epoch    GPU_mem   box_loss   cls_loss   dfl_loss  Instances       Size\n"
     ]
    },
    {
     "name": "stderr",
     "output_type": "stream",
     "text": [
      "    116/200      4.48G      1.683     0.7352      1.921         58        640: 100%|██████████| 255/255 [01:26<00:00,  \n",
      "                 Class     Images  Instances      Box(P          R      mAP50  mAP50-95): 100%|██████████| 43/43 [00:12"
     ]
    },
    {
     "name": "stdout",
     "output_type": "stream",
     "text": [
      "                   all        679       3388      0.955      0.913      0.965       0.64\n"
     ]
    },
    {
     "name": "stderr",
     "output_type": "stream",
     "text": [
      "\n"
     ]
    },
    {
     "name": "stdout",
     "output_type": "stream",
     "text": [
      "\n",
      "      Epoch    GPU_mem   box_loss   cls_loss   dfl_loss  Instances       Size\n"
     ]
    },
    {
     "name": "stderr",
     "output_type": "stream",
     "text": [
      "    117/200      4.44G      1.656     0.7153      1.917         39        640: 100%|██████████| 255/255 [01:26<00:00,  \n",
      "                 Class     Images  Instances      Box(P          R      mAP50  mAP50-95): 100%|██████████| 43/43 [00:12"
     ]
    },
    {
     "name": "stdout",
     "output_type": "stream",
     "text": [
      "                   all        679       3388       0.94      0.927      0.967      0.642\n"
     ]
    },
    {
     "name": "stderr",
     "output_type": "stream",
     "text": [
      "\n"
     ]
    },
    {
     "name": "stdout",
     "output_type": "stream",
     "text": [
      "\n",
      "      Epoch    GPU_mem   box_loss   cls_loss   dfl_loss  Instances       Size\n"
     ]
    },
    {
     "name": "stderr",
     "output_type": "stream",
     "text": [
      "    118/200      4.38G       1.67     0.7291       1.93         21        640: 100%|██████████| 255/255 [01:26<00:00,  \n",
      "                 Class     Images  Instances      Box(P          R      mAP50  mAP50-95): 100%|██████████| 43/43 [00:12"
     ]
    },
    {
     "name": "stdout",
     "output_type": "stream",
     "text": [
      "                   all        679       3388      0.947      0.928      0.968      0.642\n"
     ]
    },
    {
     "name": "stderr",
     "output_type": "stream",
     "text": [
      "\n"
     ]
    },
    {
     "name": "stdout",
     "output_type": "stream",
     "text": [
      "\n",
      "      Epoch    GPU_mem   box_loss   cls_loss   dfl_loss  Instances       Size\n"
     ]
    },
    {
     "name": "stderr",
     "output_type": "stream",
     "text": [
      "    119/200      4.46G      1.666     0.7265      1.923         35        640: 100%|██████████| 255/255 [01:26<00:00,  \n",
      "                 Class     Images  Instances      Box(P          R      mAP50  mAP50-95): 100%|██████████| 43/43 [00:12"
     ]
    },
    {
     "name": "stdout",
     "output_type": "stream",
     "text": [
      "                   all        679       3388       0.95      0.914      0.967      0.645\n"
     ]
    },
    {
     "name": "stderr",
     "output_type": "stream",
     "text": [
      "\n"
     ]
    },
    {
     "name": "stdout",
     "output_type": "stream",
     "text": [
      "\n",
      "      Epoch    GPU_mem   box_loss   cls_loss   dfl_loss  Instances       Size\n"
     ]
    },
    {
     "name": "stderr",
     "output_type": "stream",
     "text": [
      "    120/200      4.27G      1.692     0.7272      1.925         39        640: 100%|██████████| 255/255 [01:26<00:00,  \n",
      "                 Class     Images  Instances      Box(P          R      mAP50  mAP50-95): 100%|██████████| 43/43 [00:12"
     ]
    },
    {
     "name": "stdout",
     "output_type": "stream",
     "text": [
      "                   all        679       3388      0.944      0.925      0.968      0.645\n"
     ]
    },
    {
     "name": "stderr",
     "output_type": "stream",
     "text": [
      "\n"
     ]
    },
    {
     "name": "stdout",
     "output_type": "stream",
     "text": [
      "\n",
      "      Epoch    GPU_mem   box_loss   cls_loss   dfl_loss  Instances       Size\n"
     ]
    },
    {
     "name": "stderr",
     "output_type": "stream",
     "text": [
      "    121/200      4.42G      1.668     0.7171      1.915         48        640: 100%|██████████| 255/255 [01:26<00:00,  \n",
      "                 Class     Images  Instances      Box(P          R      mAP50  mAP50-95): 100%|██████████| 43/43 [00:12"
     ]
    },
    {
     "name": "stdout",
     "output_type": "stream",
     "text": [
      "                   all        679       3388      0.959      0.911      0.967      0.643\n"
     ]
    },
    {
     "name": "stderr",
     "output_type": "stream",
     "text": [
      "\n"
     ]
    },
    {
     "name": "stdout",
     "output_type": "stream",
     "text": [
      "\n",
      "      Epoch    GPU_mem   box_loss   cls_loss   dfl_loss  Instances       Size\n"
     ]
    },
    {
     "name": "stderr",
     "output_type": "stream",
     "text": [
      "    122/200      4.46G      1.658     0.7284      1.917         82        640: 100%|██████████| 255/255 [01:26<00:00,  \n",
      "                 Class     Images  Instances      Box(P          R      mAP50  mAP50-95): 100%|██████████| 43/43 [00:12"
     ]
    },
    {
     "name": "stdout",
     "output_type": "stream",
     "text": [
      "                   all        679       3388      0.953      0.922      0.967      0.639\n"
     ]
    },
    {
     "name": "stderr",
     "output_type": "stream",
     "text": [
      "\n"
     ]
    },
    {
     "name": "stdout",
     "output_type": "stream",
     "text": [
      "\n",
      "      Epoch    GPU_mem   box_loss   cls_loss   dfl_loss  Instances       Size\n"
     ]
    },
    {
     "name": "stderr",
     "output_type": "stream",
     "text": [
      "    123/200      4.31G      1.633     0.7131      1.904         82        640: 100%|██████████| 255/255 [01:26<00:00,  \n",
      "                 Class     Images  Instances      Box(P          R      mAP50  mAP50-95): 100%|██████████| 43/43 [00:12"
     ]
    },
    {
     "name": "stdout",
     "output_type": "stream",
     "text": [
      "                   all        679       3388      0.952      0.918      0.968      0.643\n"
     ]
    },
    {
     "name": "stderr",
     "output_type": "stream",
     "text": [
      "\n"
     ]
    },
    {
     "name": "stdout",
     "output_type": "stream",
     "text": [
      "\n",
      "      Epoch    GPU_mem   box_loss   cls_loss   dfl_loss  Instances       Size\n"
     ]
    },
    {
     "name": "stderr",
     "output_type": "stream",
     "text": [
      "    124/200      4.41G      1.656     0.7139      1.915         29        640: 100%|██████████| 255/255 [01:26<00:00,  \n",
      "                 Class     Images  Instances      Box(P          R      mAP50  mAP50-95): 100%|██████████| 43/43 [00:12"
     ]
    },
    {
     "name": "stdout",
     "output_type": "stream",
     "text": [
      "                   all        679       3388      0.954      0.917      0.968      0.644\n"
     ]
    },
    {
     "name": "stderr",
     "output_type": "stream",
     "text": [
      "\n"
     ]
    },
    {
     "name": "stdout",
     "output_type": "stream",
     "text": [
      "\n",
      "      Epoch    GPU_mem   box_loss   cls_loss   dfl_loss  Instances       Size\n"
     ]
    },
    {
     "name": "stderr",
     "output_type": "stream",
     "text": [
      "    125/200      4.45G       1.64     0.7152      1.906         41        640: 100%|██████████| 255/255 [01:26<00:00,  \n",
      "                 Class     Images  Instances      Box(P          R      mAP50  mAP50-95): 100%|██████████| 43/43 [00:12"
     ]
    },
    {
     "name": "stdout",
     "output_type": "stream",
     "text": [
      "                   all        679       3388      0.946      0.927      0.967      0.644\n"
     ]
    },
    {
     "name": "stderr",
     "output_type": "stream",
     "text": [
      "\n"
     ]
    },
    {
     "name": "stdout",
     "output_type": "stream",
     "text": [
      "\n",
      "      Epoch    GPU_mem   box_loss   cls_loss   dfl_loss  Instances       Size\n"
     ]
    },
    {
     "name": "stderr",
     "output_type": "stream",
     "text": [
      "    126/200      4.44G      1.638     0.7127      1.907         45        640: 100%|██████████| 255/255 [01:26<00:00,  \n",
      "                 Class     Images  Instances      Box(P          R      mAP50  mAP50-95): 100%|██████████| 43/43 [00:12"
     ]
    },
    {
     "name": "stdout",
     "output_type": "stream",
     "text": [
      "                   all        679       3388      0.958      0.915      0.966      0.643\n"
     ]
    },
    {
     "name": "stderr",
     "output_type": "stream",
     "text": [
      "\n"
     ]
    },
    {
     "name": "stdout",
     "output_type": "stream",
     "text": [
      "\n",
      "      Epoch    GPU_mem   box_loss   cls_loss   dfl_loss  Instances       Size\n"
     ]
    },
    {
     "name": "stderr",
     "output_type": "stream",
     "text": [
      "    127/200      4.44G      1.629     0.7179      1.898         36        640: 100%|██████████| 255/255 [01:26<00:00,  \n",
      "                 Class     Images  Instances      Box(P          R      mAP50  mAP50-95): 100%|██████████| 43/43 [00:12"
     ]
    },
    {
     "name": "stdout",
     "output_type": "stream",
     "text": [
      "                   all        679       3388       0.95      0.914      0.965      0.645\n"
     ]
    },
    {
     "name": "stderr",
     "output_type": "stream",
     "text": [
      "\n"
     ]
    },
    {
     "name": "stdout",
     "output_type": "stream",
     "text": [
      "\n",
      "      Epoch    GPU_mem   box_loss   cls_loss   dfl_loss  Instances       Size\n"
     ]
    },
    {
     "name": "stderr",
     "output_type": "stream",
     "text": [
      "    128/200      4.29G      1.635     0.7119      1.895         38        640: 100%|██████████| 255/255 [01:26<00:00,  \n",
      "                 Class     Images  Instances      Box(P          R      mAP50  mAP50-95): 100%|██████████| 43/43 [00:13"
     ]
    },
    {
     "name": "stdout",
     "output_type": "stream",
     "text": [
      "                   all        679       3388      0.949      0.923      0.967      0.646\n"
     ]
    },
    {
     "name": "stderr",
     "output_type": "stream",
     "text": [
      "\n"
     ]
    },
    {
     "name": "stdout",
     "output_type": "stream",
     "text": [
      "\n",
      "      Epoch    GPU_mem   box_loss   cls_loss   dfl_loss  Instances       Size\n"
     ]
    },
    {
     "name": "stderr",
     "output_type": "stream",
     "text": [
      "    129/200      4.42G      1.623      0.703      1.895         21        640: 100%|██████████| 255/255 [01:26<00:00,  \n",
      "                 Class     Images  Instances      Box(P          R      mAP50  mAP50-95): 100%|██████████| 43/43 [00:12"
     ]
    },
    {
     "name": "stdout",
     "output_type": "stream",
     "text": [
      "                   all        679       3388      0.947      0.922      0.967      0.645\n"
     ]
    },
    {
     "name": "stderr",
     "output_type": "stream",
     "text": [
      "\n"
     ]
    },
    {
     "name": "stdout",
     "output_type": "stream",
     "text": [
      "\n",
      "      Epoch    GPU_mem   box_loss   cls_loss   dfl_loss  Instances       Size\n"
     ]
    },
    {
     "name": "stderr",
     "output_type": "stream",
     "text": [
      "    130/200      4.35G      1.617     0.6958       1.89         30        640: 100%|██████████| 255/255 [01:26<00:00,  \n",
      "                 Class     Images  Instances      Box(P          R      mAP50  mAP50-95): 100%|██████████| 43/43 [00:12"
     ]
    },
    {
     "name": "stdout",
     "output_type": "stream",
     "text": [
      "                   all        679       3388      0.957      0.912      0.968      0.645\n"
     ]
    },
    {
     "name": "stderr",
     "output_type": "stream",
     "text": [
      "\n"
     ]
    },
    {
     "name": "stdout",
     "output_type": "stream",
     "text": [
      "\n",
      "      Epoch    GPU_mem   box_loss   cls_loss   dfl_loss  Instances       Size\n"
     ]
    },
    {
     "name": "stderr",
     "output_type": "stream",
     "text": [
      "    131/200      4.47G      1.619     0.7096      1.898         36        640: 100%|██████████| 255/255 [01:26<00:00,  \n",
      "                 Class     Images  Instances      Box(P          R      mAP50  mAP50-95): 100%|██████████| 43/43 [00:12"
     ]
    },
    {
     "name": "stdout",
     "output_type": "stream",
     "text": [
      "                   all        679       3388      0.948      0.925      0.968      0.643\n"
     ]
    },
    {
     "name": "stderr",
     "output_type": "stream",
     "text": [
      "\n"
     ]
    },
    {
     "name": "stdout",
     "output_type": "stream",
     "text": [
      "\n",
      "      Epoch    GPU_mem   box_loss   cls_loss   dfl_loss  Instances       Size\n"
     ]
    },
    {
     "name": "stderr",
     "output_type": "stream",
     "text": [
      "    132/200      4.42G      1.587      0.688      1.885         32        640: 100%|██████████| 255/255 [01:26<00:00,  \n",
      "                 Class     Images  Instances      Box(P          R      mAP50  mAP50-95): 100%|██████████| 43/43 [00:12"
     ]
    },
    {
     "name": "stdout",
     "output_type": "stream",
     "text": [
      "                   all        679       3388      0.949      0.918      0.966      0.643\n"
     ]
    },
    {
     "name": "stderr",
     "output_type": "stream",
     "text": [
      "\n"
     ]
    },
    {
     "name": "stdout",
     "output_type": "stream",
     "text": [
      "\n",
      "      Epoch    GPU_mem   box_loss   cls_loss   dfl_loss  Instances       Size\n"
     ]
    },
    {
     "name": "stderr",
     "output_type": "stream",
     "text": [
      "    133/200      4.46G      1.607     0.7016       1.89         35        640: 100%|██████████| 255/255 [01:26<00:00,  \n",
      "                 Class     Images  Instances      Box(P          R      mAP50  mAP50-95): 100%|██████████| 43/43 [00:12"
     ]
    },
    {
     "name": "stdout",
     "output_type": "stream",
     "text": [
      "                   all        679       3388      0.947      0.921      0.966      0.644\n"
     ]
    },
    {
     "name": "stderr",
     "output_type": "stream",
     "text": [
      "\n"
     ]
    },
    {
     "name": "stdout",
     "output_type": "stream",
     "text": [
      "\n",
      "      Epoch    GPU_mem   box_loss   cls_loss   dfl_loss  Instances       Size\n"
     ]
    },
    {
     "name": "stderr",
     "output_type": "stream",
     "text": [
      "    134/200      4.44G      1.601     0.6887      1.885         43        640: 100%|██████████| 255/255 [01:26<00:00,  \n",
      "                 Class     Images  Instances      Box(P          R      mAP50  mAP50-95): 100%|██████████| 43/43 [00:12"
     ]
    },
    {
     "name": "stdout",
     "output_type": "stream",
     "text": [
      "                   all        679       3388      0.953       0.92      0.968      0.646\n"
     ]
    },
    {
     "name": "stderr",
     "output_type": "stream",
     "text": [
      "\n"
     ]
    },
    {
     "name": "stdout",
     "output_type": "stream",
     "text": [
      "\n",
      "      Epoch    GPU_mem   box_loss   cls_loss   dfl_loss  Instances       Size\n"
     ]
    },
    {
     "name": "stderr",
     "output_type": "stream",
     "text": [
      "    135/200       4.4G      1.588     0.6874      1.883         22        640: 100%|██████████| 255/255 [01:26<00:00,  \n",
      "                 Class     Images  Instances      Box(P          R      mAP50  mAP50-95): 100%|██████████| 43/43 [00:12"
     ]
    },
    {
     "name": "stdout",
     "output_type": "stream",
     "text": [
      "                   all        679       3388      0.951      0.921      0.968      0.645\n"
     ]
    },
    {
     "name": "stderr",
     "output_type": "stream",
     "text": [
      "\n"
     ]
    },
    {
     "name": "stdout",
     "output_type": "stream",
     "text": [
      "\n",
      "      Epoch    GPU_mem   box_loss   cls_loss   dfl_loss  Instances       Size\n"
     ]
    },
    {
     "name": "stderr",
     "output_type": "stream",
     "text": [
      "    136/200       4.3G      1.595     0.6978      1.891         39        640: 100%|██████████| 255/255 [01:26<00:00,  \n",
      "                 Class     Images  Instances      Box(P          R      mAP50  mAP50-95): 100%|██████████| 43/43 [00:12"
     ]
    },
    {
     "name": "stdout",
     "output_type": "stream",
     "text": [
      "                   all        679       3388      0.955      0.916      0.968      0.645\n"
     ]
    },
    {
     "name": "stderr",
     "output_type": "stream",
     "text": [
      "\n"
     ]
    },
    {
     "name": "stdout",
     "output_type": "stream",
     "text": [
      "\n",
      "      Epoch    GPU_mem   box_loss   cls_loss   dfl_loss  Instances       Size\n"
     ]
    },
    {
     "name": "stderr",
     "output_type": "stream",
     "text": [
      "    137/200      4.48G      1.577     0.6817      1.887          9        640: 100%|██████████| 255/255 [01:26<00:00,  \n",
      "                 Class     Images  Instances      Box(P          R      mAP50  mAP50-95): 100%|██████████| 43/43 [00:12"
     ]
    },
    {
     "name": "stdout",
     "output_type": "stream",
     "text": [
      "                   all        679       3388      0.958      0.916      0.967      0.645\n"
     ]
    },
    {
     "name": "stderr",
     "output_type": "stream",
     "text": [
      "\n"
     ]
    },
    {
     "name": "stdout",
     "output_type": "stream",
     "text": [
      "\n",
      "      Epoch    GPU_mem   box_loss   cls_loss   dfl_loss  Instances       Size\n"
     ]
    },
    {
     "name": "stderr",
     "output_type": "stream",
     "text": [
      "    138/200      4.42G      1.585     0.6841      1.897         34        640: 100%|██████████| 255/255 [01:26<00:00,  \n",
      "                 Class     Images  Instances      Box(P          R      mAP50  mAP50-95): 100%|██████████| 43/43 [00:13"
     ]
    },
    {
     "name": "stdout",
     "output_type": "stream",
     "text": [
      "                   all        679       3388       0.95      0.925      0.968      0.645\n"
     ]
    },
    {
     "name": "stderr",
     "output_type": "stream",
     "text": [
      "\n"
     ]
    },
    {
     "name": "stdout",
     "output_type": "stream",
     "text": [
      "\n",
      "      Epoch    GPU_mem   box_loss   cls_loss   dfl_loss  Instances       Size\n"
     ]
    },
    {
     "name": "stderr",
     "output_type": "stream",
     "text": [
      "    139/200      4.47G      1.592     0.6879      1.873         83        640: 100%|██████████| 255/255 [01:26<00:00,  \n",
      "                 Class     Images  Instances      Box(P          R      mAP50  mAP50-95): 100%|██████████| 43/43 [00:12"
     ]
    },
    {
     "name": "stdout",
     "output_type": "stream",
     "text": [
      "                   all        679       3388      0.954      0.916      0.968      0.644\n"
     ]
    },
    {
     "name": "stderr",
     "output_type": "stream",
     "text": [
      "\n"
     ]
    },
    {
     "name": "stdout",
     "output_type": "stream",
     "text": [
      "\n",
      "      Epoch    GPU_mem   box_loss   cls_loss   dfl_loss  Instances       Size\n"
     ]
    },
    {
     "name": "stderr",
     "output_type": "stream",
     "text": [
      "    140/200      4.41G       1.58     0.6923      1.885         14        640: 100%|██████████| 255/255 [01:26<00:00,  \n",
      "                 Class     Images  Instances      Box(P          R      mAP50  mAP50-95): 100%|██████████| 43/43 [00:12"
     ]
    },
    {
     "name": "stdout",
     "output_type": "stream",
     "text": [
      "                   all        679       3388      0.953       0.92      0.967      0.643\n"
     ]
    },
    {
     "name": "stderr",
     "output_type": "stream",
     "text": [
      "\n"
     ]
    },
    {
     "name": "stdout",
     "output_type": "stream",
     "text": [
      "\n",
      "      Epoch    GPU_mem   box_loss   cls_loss   dfl_loss  Instances       Size\n"
     ]
    },
    {
     "name": "stderr",
     "output_type": "stream",
     "text": [
      "    141/200      4.41G      1.562     0.6829      1.871         41        640: 100%|██████████| 255/255 [01:26<00:00,  \n",
      "                 Class     Images  Instances      Box(P          R      mAP50  mAP50-95): 100%|██████████| 43/43 [00:13"
     ]
    },
    {
     "name": "stdout",
     "output_type": "stream",
     "text": [
      "                   all        679       3388      0.942      0.928      0.967      0.646\n"
     ]
    },
    {
     "name": "stderr",
     "output_type": "stream",
     "text": [
      "\n"
     ]
    },
    {
     "name": "stdout",
     "output_type": "stream",
     "text": [
      "\n",
      "      Epoch    GPU_mem   box_loss   cls_loss   dfl_loss  Instances       Size\n"
     ]
    },
    {
     "name": "stderr",
     "output_type": "stream",
     "text": [
      "    142/200      4.43G      1.562      0.678      1.889         24        640: 100%|██████████| 255/255 [01:26<00:00,  \n",
      "                 Class     Images  Instances      Box(P          R      mAP50  mAP50-95): 100%|██████████| 43/43 [00:12"
     ]
    },
    {
     "name": "stdout",
     "output_type": "stream",
     "text": [
      "                   all        679       3388      0.944      0.917      0.965      0.644\n"
     ]
    },
    {
     "name": "stderr",
     "output_type": "stream",
     "text": [
      "\n"
     ]
    },
    {
     "name": "stdout",
     "output_type": "stream",
     "text": [
      "\n",
      "      Epoch    GPU_mem   box_loss   cls_loss   dfl_loss  Instances       Size\n"
     ]
    },
    {
     "name": "stderr",
     "output_type": "stream",
     "text": [
      "    143/200      4.42G      1.565     0.6715      1.872         60        640: 100%|██████████| 255/255 [01:26<00:00,  \n",
      "                 Class     Images  Instances      Box(P          R      mAP50  mAP50-95): 100%|██████████| 43/43 [00:12"
     ]
    },
    {
     "name": "stdout",
     "output_type": "stream",
     "text": [
      "                   all        679       3388       0.95       0.92      0.967      0.645\n"
     ]
    },
    {
     "name": "stderr",
     "output_type": "stream",
     "text": [
      "\n"
     ]
    },
    {
     "name": "stdout",
     "output_type": "stream",
     "text": [
      "\n",
      "      Epoch    GPU_mem   box_loss   cls_loss   dfl_loss  Instances       Size\n"
     ]
    },
    {
     "name": "stderr",
     "output_type": "stream",
     "text": [
      "    144/200      4.31G       1.59     0.6833      1.889         13        640: 100%|██████████| 255/255 [01:26<00:00,  \n",
      "                 Class     Images  Instances      Box(P          R      mAP50  mAP50-95): 100%|██████████| 43/43 [00:12"
     ]
    },
    {
     "name": "stdout",
     "output_type": "stream",
     "text": [
      "                   all        679       3388      0.947      0.919      0.967      0.645\n"
     ]
    },
    {
     "name": "stderr",
     "output_type": "stream",
     "text": [
      "\n"
     ]
    },
    {
     "name": "stdout",
     "output_type": "stream",
     "text": [
      "\n",
      "      Epoch    GPU_mem   box_loss   cls_loss   dfl_loss  Instances       Size\n"
     ]
    },
    {
     "name": "stderr",
     "output_type": "stream",
     "text": [
      "    145/200      4.41G      1.549     0.6742       1.87         16        640: 100%|██████████| 255/255 [01:26<00:00,  \n",
      "                 Class     Images  Instances      Box(P          R      mAP50  mAP50-95): 100%|██████████| 43/43 [00:13"
     ]
    },
    {
     "name": "stdout",
     "output_type": "stream",
     "text": [
      "                   all        679       3388      0.959      0.908      0.968      0.647\n"
     ]
    },
    {
     "name": "stderr",
     "output_type": "stream",
     "text": [
      "\n"
     ]
    },
    {
     "name": "stdout",
     "output_type": "stream",
     "text": [
      "\n",
      "      Epoch    GPU_mem   box_loss   cls_loss   dfl_loss  Instances       Size\n"
     ]
    },
    {
     "name": "stderr",
     "output_type": "stream",
     "text": [
      "    146/200      4.45G      1.543      0.663      1.865         36        640: 100%|██████████| 255/255 [01:26<00:00,  \n",
      "                 Class     Images  Instances      Box(P          R      mAP50  mAP50-95): 100%|██████████| 43/43 [00:12"
     ]
    },
    {
     "name": "stdout",
     "output_type": "stream",
     "text": [
      "                   all        679       3388       0.95      0.916      0.967      0.647\n"
     ]
    },
    {
     "name": "stderr",
     "output_type": "stream",
     "text": [
      "\n"
     ]
    },
    {
     "name": "stdout",
     "output_type": "stream",
     "text": [
      "\n",
      "      Epoch    GPU_mem   box_loss   cls_loss   dfl_loss  Instances       Size\n"
     ]
    },
    {
     "name": "stderr",
     "output_type": "stream",
     "text": [
      "    147/200       4.4G      1.537     0.6634      1.867         21        640: 100%|██████████| 255/255 [01:26<00:00,  \n",
      "                 Class     Images  Instances      Box(P          R      mAP50  mAP50-95): 100%|██████████| 43/43 [00:12"
     ]
    },
    {
     "name": "stdout",
     "output_type": "stream",
     "text": [
      "                   all        679       3388      0.953      0.916      0.967      0.648\n"
     ]
    },
    {
     "name": "stderr",
     "output_type": "stream",
     "text": [
      "\n"
     ]
    },
    {
     "name": "stdout",
     "output_type": "stream",
     "text": [
      "\n",
      "      Epoch    GPU_mem   box_loss   cls_loss   dfl_loss  Instances       Size\n"
     ]
    },
    {
     "name": "stderr",
     "output_type": "stream",
     "text": [
      "    148/200      4.35G      1.539     0.6628      1.868         31        640: 100%|██████████| 255/255 [01:26<00:00,  \n",
      "                 Class     Images  Instances      Box(P          R      mAP50  mAP50-95): 100%|██████████| 43/43 [00:12"
     ]
    },
    {
     "name": "stdout",
     "output_type": "stream",
     "text": [
      "                   all        679       3388       0.95      0.921      0.966      0.646\n"
     ]
    },
    {
     "name": "stderr",
     "output_type": "stream",
     "text": [
      "\n"
     ]
    },
    {
     "name": "stdout",
     "output_type": "stream",
     "text": [
      "\n",
      "      Epoch    GPU_mem   box_loss   cls_loss   dfl_loss  Instances       Size\n"
     ]
    },
    {
     "name": "stderr",
     "output_type": "stream",
     "text": [
      "    149/200      4.47G      1.526     0.6617      1.852         25        640: 100%|██████████| 255/255 [01:26<00:00,  \n",
      "                 Class     Images  Instances      Box(P          R      mAP50  mAP50-95): 100%|██████████| 43/43 [00:12"
     ]
    },
    {
     "name": "stdout",
     "output_type": "stream",
     "text": [
      "                   all        679       3388      0.943      0.931      0.966      0.645\n"
     ]
    },
    {
     "name": "stderr",
     "output_type": "stream",
     "text": [
      "\n"
     ]
    },
    {
     "name": "stdout",
     "output_type": "stream",
     "text": [
      "\n",
      "      Epoch    GPU_mem   box_loss   cls_loss   dfl_loss  Instances       Size\n"
     ]
    },
    {
     "name": "stderr",
     "output_type": "stream",
     "text": [
      "    150/200       4.4G      1.512     0.6589      1.867         54        640: 100%|██████████| 255/255 [01:26<00:00,  \n",
      "                 Class     Images  Instances      Box(P          R      mAP50  mAP50-95): 100%|██████████| 43/43 [00:12"
     ]
    },
    {
     "name": "stdout",
     "output_type": "stream",
     "text": [
      "                   all        679       3388      0.954       0.92      0.966      0.647\n"
     ]
    },
    {
     "name": "stderr",
     "output_type": "stream",
     "text": [
      "\n"
     ]
    },
    {
     "name": "stdout",
     "output_type": "stream",
     "text": [
      "\n",
      "      Epoch    GPU_mem   box_loss   cls_loss   dfl_loss  Instances       Size\n"
     ]
    },
    {
     "name": "stderr",
     "output_type": "stream",
     "text": [
      "    151/200      4.43G      1.538     0.6626      1.866         33        640: 100%|██████████| 255/255 [01:26<00:00,  \n",
      "                 Class     Images  Instances      Box(P          R      mAP50  mAP50-95): 100%|██████████| 43/43 [00:12"
     ]
    },
    {
     "name": "stdout",
     "output_type": "stream",
     "text": [
      "                   all        679       3388      0.954      0.923      0.967      0.646\n"
     ]
    },
    {
     "name": "stderr",
     "output_type": "stream",
     "text": [
      "\n"
     ]
    },
    {
     "name": "stdout",
     "output_type": "stream",
     "text": [
      "\n",
      "      Epoch    GPU_mem   box_loss   cls_loss   dfl_loss  Instances       Size\n"
     ]
    },
    {
     "name": "stderr",
     "output_type": "stream",
     "text": [
      "    152/200      4.34G      1.522      0.655      1.857         20        640: 100%|██████████| 255/255 [01:26<00:00,  \n",
      "                 Class     Images  Instances      Box(P          R      mAP50  mAP50-95): 100%|██████████| 43/43 [00:13"
     ]
    },
    {
     "name": "stdout",
     "output_type": "stream",
     "text": [
      "                   all        679       3388      0.947      0.925      0.965      0.644\n"
     ]
    },
    {
     "name": "stderr",
     "output_type": "stream",
     "text": [
      "\n"
     ]
    },
    {
     "name": "stdout",
     "output_type": "stream",
     "text": [
      "\n",
      "      Epoch    GPU_mem   box_loss   cls_loss   dfl_loss  Instances       Size\n"
     ]
    },
    {
     "name": "stderr",
     "output_type": "stream",
     "text": [
      "    153/200      4.43G      1.499      0.655      1.867         27        640: 100%|██████████| 255/255 [01:26<00:00,  \n",
      "                 Class     Images  Instances      Box(P          R      mAP50  mAP50-95): 100%|██████████| 43/43 [00:12"
     ]
    },
    {
     "name": "stdout",
     "output_type": "stream",
     "text": [
      "                   all        679       3388      0.948      0.923      0.968      0.647\n"
     ]
    },
    {
     "name": "stderr",
     "output_type": "stream",
     "text": [
      "\n"
     ]
    },
    {
     "name": "stdout",
     "output_type": "stream",
     "text": [
      "\n",
      "      Epoch    GPU_mem   box_loss   cls_loss   dfl_loss  Instances       Size\n"
     ]
    },
    {
     "name": "stderr",
     "output_type": "stream",
     "text": [
      "    154/200      4.43G      1.523     0.6567      1.857         32        640: 100%|██████████| 255/255 [01:26<00:00,  \n",
      "                 Class     Images  Instances      Box(P          R      mAP50  mAP50-95): 100%|██████████| 43/43 [00:12"
     ]
    },
    {
     "name": "stdout",
     "output_type": "stream",
     "text": [
      "                   all        679       3388       0.96      0.918      0.966      0.644\n"
     ]
    },
    {
     "name": "stderr",
     "output_type": "stream",
     "text": [
      "\n"
     ]
    },
    {
     "name": "stdout",
     "output_type": "stream",
     "text": [
      "\n",
      "      Epoch    GPU_mem   box_loss   cls_loss   dfl_loss  Instances       Size\n"
     ]
    },
    {
     "name": "stderr",
     "output_type": "stream",
     "text": [
      "    155/200       4.4G      1.518     0.6587      1.857         23        640: 100%|██████████| 255/255 [01:26<00:00,  \n",
      "                 Class     Images  Instances      Box(P          R      mAP50  mAP50-95): 100%|██████████| 43/43 [00:13"
     ]
    },
    {
     "name": "stdout",
     "output_type": "stream",
     "text": [
      "                   all        679       3388      0.957      0.913      0.965      0.641\n"
     ]
    },
    {
     "name": "stderr",
     "output_type": "stream",
     "text": [
      "\n"
     ]
    },
    {
     "name": "stdout",
     "output_type": "stream",
     "text": [
      "\n",
      "      Epoch    GPU_mem   box_loss   cls_loss   dfl_loss  Instances       Size\n"
     ]
    },
    {
     "name": "stderr",
     "output_type": "stream",
     "text": [
      "    156/200      4.44G      1.493     0.6415      1.848         65        640: 100%|██████████| 255/255 [01:26<00:00,  \n",
      "                 Class     Images  Instances      Box(P          R      mAP50  mAP50-95): 100%|██████████| 43/43 [00:12"
     ]
    },
    {
     "name": "stdout",
     "output_type": "stream",
     "text": [
      "                   all        679       3388      0.952       0.92      0.964      0.645\n"
     ]
    },
    {
     "name": "stderr",
     "output_type": "stream",
     "text": [
      "\n"
     ]
    },
    {
     "name": "stdout",
     "output_type": "stream",
     "text": [
      "\n",
      "      Epoch    GPU_mem   box_loss   cls_loss   dfl_loss  Instances       Size\n"
     ]
    },
    {
     "name": "stderr",
     "output_type": "stream",
     "text": [
      "    157/200      4.47G      1.516     0.6549      1.857         61        640: 100%|██████████| 255/255 [01:26<00:00,  \n",
      "                 Class     Images  Instances      Box(P          R      mAP50  mAP50-95): 100%|██████████| 43/43 [00:12"
     ]
    },
    {
     "name": "stdout",
     "output_type": "stream",
     "text": [
      "                   all        679       3388      0.958      0.913      0.966      0.642\n"
     ]
    },
    {
     "name": "stderr",
     "output_type": "stream",
     "text": [
      "\n"
     ]
    },
    {
     "name": "stdout",
     "output_type": "stream",
     "text": [
      "\n",
      "      Epoch    GPU_mem   box_loss   cls_loss   dfl_loss  Instances       Size\n"
     ]
    },
    {
     "name": "stderr",
     "output_type": "stream",
     "text": [
      "    158/200      4.39G      1.501     0.6522      1.854         41        640: 100%|██████████| 255/255 [01:26<00:00,  \n",
      "                 Class     Images  Instances      Box(P          R      mAP50  mAP50-95): 100%|██████████| 43/43 [00:12"
     ]
    },
    {
     "name": "stdout",
     "output_type": "stream",
     "text": [
      "                   all        679       3388      0.964       0.91      0.967      0.645\n"
     ]
    },
    {
     "name": "stderr",
     "output_type": "stream",
     "text": [
      "\n"
     ]
    },
    {
     "name": "stdout",
     "output_type": "stream",
     "text": [
      "\n",
      "      Epoch    GPU_mem   box_loss   cls_loss   dfl_loss  Instances       Size\n"
     ]
    },
    {
     "name": "stderr",
     "output_type": "stream",
     "text": [
      "    159/200      4.45G      1.491     0.6423      1.846         44        640: 100%|██████████| 255/255 [01:26<00:00,  \n",
      "                 Class     Images  Instances      Box(P          R      mAP50  mAP50-95): 100%|██████████| 43/43 [00:12"
     ]
    },
    {
     "name": "stdout",
     "output_type": "stream",
     "text": [
      "                   all        679       3388      0.951      0.924      0.967      0.648\n"
     ]
    },
    {
     "name": "stderr",
     "output_type": "stream",
     "text": [
      "\n"
     ]
    },
    {
     "name": "stdout",
     "output_type": "stream",
     "text": [
      "\n",
      "      Epoch    GPU_mem   box_loss   cls_loss   dfl_loss  Instances       Size\n"
     ]
    },
    {
     "name": "stderr",
     "output_type": "stream",
     "text": [
      "    160/200      4.28G      1.489     0.6511      1.851         25        640: 100%|██████████| 255/255 [01:26<00:00,  \n",
      "                 Class     Images  Instances      Box(P          R      mAP50  mAP50-95): 100%|██████████| 43/43 [00:13"
     ]
    },
    {
     "name": "stdout",
     "output_type": "stream",
     "text": [
      "                   all        679       3388      0.955       0.92      0.967      0.646\n"
     ]
    },
    {
     "name": "stderr",
     "output_type": "stream",
     "text": [
      "\n"
     ]
    },
    {
     "name": "stdout",
     "output_type": "stream",
     "text": [
      "\n",
      "      Epoch    GPU_mem   box_loss   cls_loss   dfl_loss  Instances       Size\n"
     ]
    },
    {
     "name": "stderr",
     "output_type": "stream",
     "text": [
      "    161/200      4.31G      1.503     0.6461      1.853         24        640: 100%|██████████| 255/255 [01:26<00:00,  \n",
      "                 Class     Images  Instances      Box(P          R      mAP50  mAP50-95): 100%|██████████| 43/43 [00:12"
     ]
    },
    {
     "name": "stdout",
     "output_type": "stream",
     "text": [
      "                   all        679       3388      0.948       0.92      0.967      0.646\n"
     ]
    },
    {
     "name": "stderr",
     "output_type": "stream",
     "text": [
      "\n"
     ]
    },
    {
     "name": "stdout",
     "output_type": "stream",
     "text": [
      "\n",
      "      Epoch    GPU_mem   box_loss   cls_loss   dfl_loss  Instances       Size\n"
     ]
    },
    {
     "name": "stderr",
     "output_type": "stream",
     "text": [
      "    162/200      4.47G      1.503     0.6481      1.852         32        640: 100%|██████████| 255/255 [01:26<00:00,  \n",
      "                 Class     Images  Instances      Box(P          R      mAP50  mAP50-95): 100%|██████████| 43/43 [00:12"
     ]
    },
    {
     "name": "stdout",
     "output_type": "stream",
     "text": [
      "                   all        679       3388      0.949      0.923      0.966      0.646\n"
     ]
    },
    {
     "name": "stderr",
     "output_type": "stream",
     "text": [
      "\n"
     ]
    },
    {
     "name": "stdout",
     "output_type": "stream",
     "text": [
      "\n",
      "      Epoch    GPU_mem   box_loss   cls_loss   dfl_loss  Instances       Size\n"
     ]
    },
    {
     "name": "stderr",
     "output_type": "stream",
     "text": [
      "    163/200      4.41G      1.496     0.6469      1.845         56        640: 100%|██████████| 255/255 [01:26<00:00,  \n",
      "                 Class     Images  Instances      Box(P          R      mAP50  mAP50-95): 100%|██████████| 43/43 [00:12"
     ]
    },
    {
     "name": "stdout",
     "output_type": "stream",
     "text": [
      "                   all        679       3388      0.947      0.924      0.965      0.646\n"
     ]
    },
    {
     "name": "stderr",
     "output_type": "stream",
     "text": [
      "\n"
     ]
    },
    {
     "name": "stdout",
     "output_type": "stream",
     "text": [
      "\n",
      "      Epoch    GPU_mem   box_loss   cls_loss   dfl_loss  Instances       Size\n"
     ]
    },
    {
     "name": "stderr",
     "output_type": "stream",
     "text": [
      "    164/200      4.41G      1.462     0.6337      1.842         27        640: 100%|██████████| 255/255 [01:26<00:00,  \n",
      "                 Class     Images  Instances      Box(P          R      mAP50  mAP50-95): 100%|██████████| 43/43 [00:12"
     ]
    },
    {
     "name": "stdout",
     "output_type": "stream",
     "text": [
      "                   all        679       3388      0.947      0.929      0.964      0.643\n"
     ]
    },
    {
     "name": "stderr",
     "output_type": "stream",
     "text": [
      "\n"
     ]
    },
    {
     "name": "stdout",
     "output_type": "stream",
     "text": [
      "\n",
      "      Epoch    GPU_mem   box_loss   cls_loss   dfl_loss  Instances       Size\n"
     ]
    },
    {
     "name": "stderr",
     "output_type": "stream",
     "text": [
      "    165/200       4.3G       1.47     0.6366      1.856         31        640: 100%|██████████| 255/255 [01:26<00:00,  \n",
      "                 Class     Images  Instances      Box(P          R      mAP50  mAP50-95): 100%|██████████| 43/43 [00:12"
     ]
    },
    {
     "name": "stdout",
     "output_type": "stream",
     "text": [
      "                   all        679       3388      0.952      0.924      0.966      0.645\n"
     ]
    },
    {
     "name": "stderr",
     "output_type": "stream",
     "text": [
      "\n"
     ]
    },
    {
     "name": "stdout",
     "output_type": "stream",
     "text": [
      "\n",
      "      Epoch    GPU_mem   box_loss   cls_loss   dfl_loss  Instances       Size\n"
     ]
    },
    {
     "name": "stderr",
     "output_type": "stream",
     "text": [
      "    166/200      4.38G      1.454     0.6324      1.827         25        640: 100%|██████████| 255/255 [01:26<00:00,  \n",
      "                 Class     Images  Instances      Box(P          R      mAP50  mAP50-95): 100%|██████████| 43/43 [00:12"
     ]
    },
    {
     "name": "stdout",
     "output_type": "stream",
     "text": [
      "                   all        679       3388      0.952       0.92      0.965      0.646\n"
     ]
    },
    {
     "name": "stderr",
     "output_type": "stream",
     "text": [
      "\n"
     ]
    },
    {
     "name": "stdout",
     "output_type": "stream",
     "text": [
      "\n",
      "      Epoch    GPU_mem   box_loss   cls_loss   dfl_loss  Instances       Size\n"
     ]
    },
    {
     "name": "stderr",
     "output_type": "stream",
     "text": [
      "    167/200      4.46G      1.454     0.6304      1.839         17        640: 100%|██████████| 255/255 [01:26<00:00,  \n",
      "                 Class     Images  Instances      Box(P          R      mAP50  mAP50-95): 100%|██████████| 43/43 [00:12"
     ]
    },
    {
     "name": "stdout",
     "output_type": "stream",
     "text": [
      "                   all        679       3388      0.947      0.921      0.966      0.646\n"
     ]
    },
    {
     "name": "stderr",
     "output_type": "stream",
     "text": [
      "\n"
     ]
    },
    {
     "name": "stdout",
     "output_type": "stream",
     "text": [
      "\n",
      "      Epoch    GPU_mem   box_loss   cls_loss   dfl_loss  Instances       Size\n"
     ]
    },
    {
     "name": "stderr",
     "output_type": "stream",
     "text": [
      "    168/200      4.31G      1.461     0.6392       1.84         54        640: 100%|██████████| 255/255 [01:26<00:00,  \n",
      "                 Class     Images  Instances      Box(P          R      mAP50  mAP50-95): 100%|██████████| 43/43 [00:12"
     ]
    },
    {
     "name": "stdout",
     "output_type": "stream",
     "text": [
      "                   all        679       3388      0.955      0.919      0.967      0.646\n"
     ]
    },
    {
     "name": "stderr",
     "output_type": "stream",
     "text": [
      "\n"
     ]
    },
    {
     "name": "stdout",
     "output_type": "stream",
     "text": [
      "\n",
      "      Epoch    GPU_mem   box_loss   cls_loss   dfl_loss  Instances       Size\n"
     ]
    },
    {
     "name": "stderr",
     "output_type": "stream",
     "text": [
      "    169/200       4.4G      1.467     0.6308      1.841         34        640: 100%|██████████| 255/255 [01:26<00:00,  \n",
      "                 Class     Images  Instances      Box(P          R      mAP50  mAP50-95): 100%|██████████| 43/43 [00:12"
     ]
    },
    {
     "name": "stdout",
     "output_type": "stream",
     "text": [
      "                   all        679       3388      0.956      0.917      0.966      0.645\n"
     ]
    },
    {
     "name": "stderr",
     "output_type": "stream",
     "text": [
      "\n"
     ]
    },
    {
     "name": "stdout",
     "output_type": "stream",
     "text": [
      "\n",
      "      Epoch    GPU_mem   box_loss   cls_loss   dfl_loss  Instances       Size\n"
     ]
    },
    {
     "name": "stderr",
     "output_type": "stream",
     "text": [
      "    170/200      4.43G       1.46      0.633      1.833         43        640: 100%|██████████| 255/255 [01:26<00:00,  \n",
      "                 Class     Images  Instances      Box(P          R      mAP50  mAP50-95): 100%|██████████| 43/43 [00:12"
     ]
    },
    {
     "name": "stdout",
     "output_type": "stream",
     "text": [
      "                   all        679       3388      0.956      0.921      0.967      0.645\n"
     ]
    },
    {
     "name": "stderr",
     "output_type": "stream",
     "text": [
      "\n"
     ]
    },
    {
     "name": "stdout",
     "output_type": "stream",
     "text": [
      "\n",
      "      Epoch    GPU_mem   box_loss   cls_loss   dfl_loss  Instances       Size\n"
     ]
    },
    {
     "name": "stderr",
     "output_type": "stream",
     "text": [
      "    171/200      4.41G      1.448     0.6303       1.84         23        640: 100%|██████████| 255/255 [01:26<00:00,  \n",
      "                 Class     Images  Instances      Box(P          R      mAP50  mAP50-95): 100%|██████████| 43/43 [00:12"
     ]
    },
    {
     "name": "stdout",
     "output_type": "stream",
     "text": [
      "                   all        679       3388      0.951      0.925      0.966      0.644\n"
     ]
    },
    {
     "name": "stderr",
     "output_type": "stream",
     "text": [
      "\n"
     ]
    },
    {
     "name": "stdout",
     "output_type": "stream",
     "text": [
      "\n",
      "      Epoch    GPU_mem   box_loss   cls_loss   dfl_loss  Instances       Size\n"
     ]
    },
    {
     "name": "stderr",
     "output_type": "stream",
     "text": [
      "    172/200      4.45G      1.447     0.6246       1.84         35        640: 100%|██████████| 255/255 [01:26<00:00,  \n",
      "                 Class     Images  Instances      Box(P          R      mAP50  mAP50-95): 100%|██████████| 43/43 [00:12"
     ]
    },
    {
     "name": "stdout",
     "output_type": "stream",
     "text": [
      "                   all        679       3388      0.953      0.922      0.965      0.646\n"
     ]
    },
    {
     "name": "stderr",
     "output_type": "stream",
     "text": [
      "\n"
     ]
    },
    {
     "name": "stdout",
     "output_type": "stream",
     "text": [
      "\n",
      "      Epoch    GPU_mem   box_loss   cls_loss   dfl_loss  Instances       Size\n"
     ]
    },
    {
     "name": "stderr",
     "output_type": "stream",
     "text": [
      "    173/200      4.42G      1.437      0.628      1.838         59        640: 100%|██████████| 255/255 [01:26<00:00,  \n",
      "                 Class     Images  Instances      Box(P          R      mAP50  mAP50-95): 100%|██████████| 43/43 [00:12"
     ]
    },
    {
     "name": "stdout",
     "output_type": "stream",
     "text": [
      "                   all        679       3388      0.951      0.922      0.965      0.645\n"
     ]
    },
    {
     "name": "stderr",
     "output_type": "stream",
     "text": [
      "\n"
     ]
    },
    {
     "name": "stdout",
     "output_type": "stream",
     "text": [
      "\n",
      "      Epoch    GPU_mem   box_loss   cls_loss   dfl_loss  Instances       Size\n"
     ]
    },
    {
     "name": "stderr",
     "output_type": "stream",
     "text": [
      "    174/200      4.42G      1.448     0.6283      1.827         32        640: 100%|██████████| 255/255 [01:26<00:00,  \n",
      "                 Class     Images  Instances      Box(P          R      mAP50  mAP50-95): 100%|██████████| 43/43 [00:12"
     ]
    },
    {
     "name": "stdout",
     "output_type": "stream",
     "text": [
      "                   all        679       3388      0.949      0.922      0.965      0.645\n"
     ]
    },
    {
     "name": "stderr",
     "output_type": "stream",
     "text": [
      "\n"
     ]
    },
    {
     "name": "stdout",
     "output_type": "stream",
     "text": [
      "\n",
      "      Epoch    GPU_mem   box_loss   cls_loss   dfl_loss  Instances       Size\n"
     ]
    },
    {
     "name": "stderr",
     "output_type": "stream",
     "text": [
      "    175/200      4.45G      1.426     0.6162      1.828         38        640: 100%|██████████| 255/255 [01:26<00:00,  \n",
      "                 Class     Images  Instances      Box(P          R      mAP50  mAP50-95): 100%|██████████| 43/43 [00:12"
     ]
    },
    {
     "name": "stdout",
     "output_type": "stream",
     "text": [
      "                   all        679       3388      0.955      0.921      0.965      0.646\n"
     ]
    },
    {
     "name": "stderr",
     "output_type": "stream",
     "text": [
      "\n"
     ]
    },
    {
     "name": "stdout",
     "output_type": "stream",
     "text": [
      "\n",
      "      Epoch    GPU_mem   box_loss   cls_loss   dfl_loss  Instances       Size\n"
     ]
    },
    {
     "name": "stderr",
     "output_type": "stream",
     "text": [
      "    176/200      4.31G      1.439      0.623      1.816         34        640: 100%|██████████| 255/255 [01:26<00:00,  \n",
      "                 Class     Images  Instances      Box(P          R      mAP50  mAP50-95): 100%|██████████| 43/43 [00:12"
     ]
    },
    {
     "name": "stdout",
     "output_type": "stream",
     "text": [
      "                   all        679       3388      0.954      0.922      0.965      0.646\n"
     ]
    },
    {
     "name": "stderr",
     "output_type": "stream",
     "text": [
      "\n"
     ]
    },
    {
     "name": "stdout",
     "output_type": "stream",
     "text": [
      "\n",
      "      Epoch    GPU_mem   box_loss   cls_loss   dfl_loss  Instances       Size\n"
     ]
    },
    {
     "name": "stderr",
     "output_type": "stream",
     "text": [
      "    177/200      4.45G      1.418     0.6148       1.82         27        640: 100%|██████████| 255/255 [01:26<00:00,  \n",
      "                 Class     Images  Instances      Box(P          R      mAP50  mAP50-95): 100%|██████████| 43/43 [00:12"
     ]
    },
    {
     "name": "stdout",
     "output_type": "stream",
     "text": [
      "                   all        679       3388      0.958      0.919      0.966      0.646\n"
     ]
    },
    {
     "name": "stderr",
     "output_type": "stream",
     "text": [
      "\n"
     ]
    },
    {
     "name": "stdout",
     "output_type": "stream",
     "text": [
      "\n",
      "      Epoch    GPU_mem   box_loss   cls_loss   dfl_loss  Instances       Size\n"
     ]
    },
    {
     "name": "stderr",
     "output_type": "stream",
     "text": [
      "    178/200      4.47G      1.415     0.6074      1.823         29        640: 100%|██████████| 255/255 [01:26<00:00,  \n",
      "                 Class     Images  Instances      Box(P          R      mAP50  mAP50-95): 100%|██████████| 43/43 [00:12"
     ]
    },
    {
     "name": "stdout",
     "output_type": "stream",
     "text": [
      "                   all        679       3388      0.952      0.921      0.966      0.647\n"
     ]
    },
    {
     "name": "stderr",
     "output_type": "stream",
     "text": [
      "\n"
     ]
    },
    {
     "name": "stdout",
     "output_type": "stream",
     "text": [
      "\n",
      "      Epoch    GPU_mem   box_loss   cls_loss   dfl_loss  Instances       Size\n"
     ]
    },
    {
     "name": "stderr",
     "output_type": "stream",
     "text": [
      "    179/200      4.46G      1.428     0.6154      1.822         36        640: 100%|██████████| 255/255 [01:26<00:00,  \n",
      "                 Class     Images  Instances      Box(P          R      mAP50  mAP50-95): 100%|██████████| 43/43 [00:13"
     ]
    },
    {
     "name": "stdout",
     "output_type": "stream",
     "text": [
      "                   all        679       3388      0.954      0.917      0.965      0.647\n"
     ]
    },
    {
     "name": "stderr",
     "output_type": "stream",
     "text": [
      "\n"
     ]
    },
    {
     "name": "stdout",
     "output_type": "stream",
     "text": [
      "\n",
      "      Epoch    GPU_mem   box_loss   cls_loss   dfl_loss  Instances       Size\n"
     ]
    },
    {
     "name": "stderr",
     "output_type": "stream",
     "text": [
      "    180/200      4.47G      1.417     0.6131      1.814         37        640: 100%|██████████| 255/255 [01:26<00:00,  \n",
      "                 Class     Images  Instances      Box(P          R      mAP50  mAP50-95): 100%|██████████| 43/43 [00:12"
     ]
    },
    {
     "name": "stdout",
     "output_type": "stream",
     "text": [
      "                   all        679       3388      0.952      0.919      0.966      0.648\n"
     ]
    },
    {
     "name": "stderr",
     "output_type": "stream",
     "text": [
      "\n"
     ]
    },
    {
     "name": "stdout",
     "output_type": "stream",
     "text": [
      "\n",
      "      Epoch    GPU_mem   box_loss   cls_loss   dfl_loss  Instances       Size\n"
     ]
    },
    {
     "name": "stderr",
     "output_type": "stream",
     "text": [
      "    181/200      4.47G      1.421     0.6151      1.827         16        640: 100%|██████████| 255/255 [01:26<00:00,  \n",
      "                 Class     Images  Instances      Box(P          R      mAP50  mAP50-95): 100%|██████████| 43/43 [00:12"
     ]
    },
    {
     "name": "stdout",
     "output_type": "stream",
     "text": [
      "                   all        679       3388      0.952      0.918      0.966       0.65\n"
     ]
    },
    {
     "name": "stderr",
     "output_type": "stream",
     "text": [
      "\n"
     ]
    },
    {
     "name": "stdout",
     "output_type": "stream",
     "text": [
      "\n",
      "      Epoch    GPU_mem   box_loss   cls_loss   dfl_loss  Instances       Size\n"
     ]
    },
    {
     "name": "stderr",
     "output_type": "stream",
     "text": [
      "    182/200      4.44G      1.417     0.6049      1.821         29        640: 100%|██████████| 255/255 [01:26<00:00,  \n",
      "                 Class     Images  Instances      Box(P          R      mAP50  mAP50-95): 100%|██████████| 43/43 [00:12"
     ]
    },
    {
     "name": "stdout",
     "output_type": "stream",
     "text": [
      "                   all        679       3388      0.949      0.923      0.967      0.648\n"
     ]
    },
    {
     "name": "stderr",
     "output_type": "stream",
     "text": [
      "\n"
     ]
    },
    {
     "name": "stdout",
     "output_type": "stream",
     "text": [
      "\n",
      "      Epoch    GPU_mem   box_loss   cls_loss   dfl_loss  Instances       Size\n"
     ]
    },
    {
     "name": "stderr",
     "output_type": "stream",
     "text": [
      "    183/200      4.41G      1.404     0.6026      1.821         39        640: 100%|██████████| 255/255 [01:26<00:00,  \n",
      "                 Class     Images  Instances      Box(P          R      mAP50  mAP50-95): 100%|██████████| 43/43 [00:12"
     ]
    },
    {
     "name": "stdout",
     "output_type": "stream",
     "text": [
      "                   all        679       3388      0.957      0.914      0.967      0.649\n"
     ]
    },
    {
     "name": "stderr",
     "output_type": "stream",
     "text": [
      "\n"
     ]
    },
    {
     "name": "stdout",
     "output_type": "stream",
     "text": [
      "\n",
      "      Epoch    GPU_mem   box_loss   cls_loss   dfl_loss  Instances       Size\n"
     ]
    },
    {
     "name": "stderr",
     "output_type": "stream",
     "text": [
      "    184/200      4.29G      1.407     0.6068      1.822         39        640: 100%|██████████| 255/255 [01:26<00:00,  \n",
      "                 Class     Images  Instances      Box(P          R      mAP50  mAP50-95): 100%|██████████| 43/43 [00:13"
     ]
    },
    {
     "name": "stdout",
     "output_type": "stream",
     "text": [
      "                   all        679       3388       0.96       0.91      0.967      0.649\n"
     ]
    },
    {
     "name": "stderr",
     "output_type": "stream",
     "text": [
      "\n"
     ]
    },
    {
     "name": "stdout",
     "output_type": "stream",
     "text": [
      "\n",
      "      Epoch    GPU_mem   box_loss   cls_loss   dfl_loss  Instances       Size\n"
     ]
    },
    {
     "name": "stderr",
     "output_type": "stream",
     "text": [
      "    185/200      4.45G      1.419      0.615      1.823         57        640: 100%|██████████| 255/255 [01:26<00:00,  \n",
      "                 Class     Images  Instances      Box(P          R      mAP50  mAP50-95): 100%|██████████| 43/43 [00:12"
     ]
    },
    {
     "name": "stdout",
     "output_type": "stream",
     "text": [
      "                   all        679       3388      0.961      0.909      0.966      0.648\n"
     ]
    },
    {
     "name": "stderr",
     "output_type": "stream",
     "text": [
      "\n"
     ]
    },
    {
     "name": "stdout",
     "output_type": "stream",
     "text": [
      "\n",
      "      Epoch    GPU_mem   box_loss   cls_loss   dfl_loss  Instances       Size\n"
     ]
    },
    {
     "name": "stderr",
     "output_type": "stream",
     "text": [
      "    186/200      4.43G      1.403     0.6112      1.827         64        640: 100%|██████████| 255/255 [01:26<00:00,  \n",
      "                 Class     Images  Instances      Box(P          R      mAP50  mAP50-95): 100%|██████████| 43/43 [00:12"
     ]
    },
    {
     "name": "stdout",
     "output_type": "stream",
     "text": [
      "                   all        679       3388      0.954      0.913      0.966      0.648\n"
     ]
    },
    {
     "name": "stderr",
     "output_type": "stream",
     "text": [
      "\n"
     ]
    },
    {
     "name": "stdout",
     "output_type": "stream",
     "text": [
      "\n",
      "      Epoch    GPU_mem   box_loss   cls_loss   dfl_loss  Instances       Size\n"
     ]
    },
    {
     "name": "stderr",
     "output_type": "stream",
     "text": [
      "    187/200      4.42G      1.411     0.6042      1.818         17        640: 100%|██████████| 255/255 [01:26<00:00,  \n",
      "                 Class     Images  Instances      Box(P          R      mAP50  mAP50-95): 100%|██████████| 43/43 [00:12"
     ]
    },
    {
     "name": "stdout",
     "output_type": "stream",
     "text": [
      "                   all        679       3388      0.959      0.915      0.967      0.647\n"
     ]
    },
    {
     "name": "stderr",
     "output_type": "stream",
     "text": [
      "\n"
     ]
    },
    {
     "name": "stdout",
     "output_type": "stream",
     "text": [
      "\n",
      "      Epoch    GPU_mem   box_loss   cls_loss   dfl_loss  Instances       Size\n"
     ]
    },
    {
     "name": "stderr",
     "output_type": "stream",
     "text": [
      "    188/200      4.46G      1.383     0.5972      1.816         32        640: 100%|██████████| 255/255 [01:26<00:00,  \n",
      "                 Class     Images  Instances      Box(P          R      mAP50  mAP50-95): 100%|██████████| 43/43 [00:12"
     ]
    },
    {
     "name": "stdout",
     "output_type": "stream",
     "text": [
      "                   all        679       3388      0.953      0.917      0.966      0.648\n"
     ]
    },
    {
     "name": "stderr",
     "output_type": "stream",
     "text": [
      "\n"
     ]
    },
    {
     "name": "stdout",
     "output_type": "stream",
     "text": [
      "\n",
      "      Epoch    GPU_mem   box_loss   cls_loss   dfl_loss  Instances       Size\n"
     ]
    },
    {
     "name": "stderr",
     "output_type": "stream",
     "text": [
      "    189/200      4.42G      1.382     0.5971      1.819         60        640: 100%|██████████| 255/255 [01:26<00:00,  \n",
      "                 Class     Images  Instances      Box(P          R      mAP50  mAP50-95): 100%|██████████| 43/43 [00:12"
     ]
    },
    {
     "name": "stdout",
     "output_type": "stream",
     "text": [
      "                   all        679       3388      0.942      0.926      0.966      0.647\n"
     ]
    },
    {
     "name": "stderr",
     "output_type": "stream",
     "text": [
      "\n"
     ]
    },
    {
     "name": "stdout",
     "output_type": "stream",
     "text": [
      "\n",
      "      Epoch    GPU_mem   box_loss   cls_loss   dfl_loss  Instances       Size\n"
     ]
    },
    {
     "name": "stderr",
     "output_type": "stream",
     "text": [
      "    190/200      4.37G       1.39     0.5966      1.812         18        640: 100%|██████████| 255/255 [01:26<00:00,  \n",
      "                 Class     Images  Instances      Box(P          R      mAP50  mAP50-95): 100%|██████████| 43/43 [00:12"
     ]
    },
    {
     "name": "stdout",
     "output_type": "stream",
     "text": [
      "                   all        679       3388      0.957      0.918      0.966      0.648\n"
     ]
    },
    {
     "name": "stderr",
     "output_type": "stream",
     "text": [
      "\n"
     ]
    },
    {
     "name": "stdout",
     "output_type": "stream",
     "text": [
      "Closing dataloader mosaic\n",
      "\n",
      "      Epoch    GPU_mem   box_loss   cls_loss   dfl_loss  Instances       Size\n"
     ]
    },
    {
     "name": "stderr",
     "output_type": "stream",
     "text": [
      "    191/200      4.41G      1.287      0.495      1.774         14        640: 100%|██████████| 255/255 [01:26<00:00,  \n",
      "                 Class     Images  Instances      Box(P          R      mAP50  mAP50-95): 100%|██████████| 43/43 [00:13"
     ]
    },
    {
     "name": "stdout",
     "output_type": "stream",
     "text": [
      "                   all        679       3388      0.951       0.92      0.967      0.646\n"
     ]
    },
    {
     "name": "stderr",
     "output_type": "stream",
     "text": [
      "\n"
     ]
    },
    {
     "name": "stdout",
     "output_type": "stream",
     "text": [
      "\n",
      "      Epoch    GPU_mem   box_loss   cls_loss   dfl_loss  Instances       Size\n"
     ]
    },
    {
     "name": "stderr",
     "output_type": "stream",
     "text": [
      "    192/200      4.25G      1.281     0.4922      1.769         20        640: 100%|██████████| 255/255 [01:25<00:00,  \n",
      "                 Class     Images  Instances      Box(P          R      mAP50  mAP50-95): 100%|██████████| 43/43 [00:12"
     ]
    },
    {
     "name": "stdout",
     "output_type": "stream",
     "text": [
      "                   all        679       3388      0.959      0.913      0.967      0.646\n"
     ]
    },
    {
     "name": "stderr",
     "output_type": "stream",
     "text": [
      "\n"
     ]
    },
    {
     "name": "stdout",
     "output_type": "stream",
     "text": [
      "\n",
      "      Epoch    GPU_mem   box_loss   cls_loss   dfl_loss  Instances       Size\n"
     ]
    },
    {
     "name": "stderr",
     "output_type": "stream",
     "text": [
      "    193/200       4.4G      1.275     0.4856      1.783         18        640: 100%|██████████| 255/255 [01:26<00:00,  \n",
      "                 Class     Images  Instances      Box(P          R      mAP50  mAP50-95): 100%|██████████| 43/43 [00:13"
     ]
    },
    {
     "name": "stdout",
     "output_type": "stream",
     "text": [
      "                   all        679       3388      0.956      0.915      0.967      0.645\n"
     ]
    },
    {
     "name": "stderr",
     "output_type": "stream",
     "text": [
      "\n"
     ]
    },
    {
     "name": "stdout",
     "output_type": "stream",
     "text": [
      "\n",
      "      Epoch    GPU_mem   box_loss   cls_loss   dfl_loss  Instances       Size\n"
     ]
    },
    {
     "name": "stderr",
     "output_type": "stream",
     "text": [
      "    194/200       4.4G       1.28     0.4959      1.777         11        640: 100%|██████████| 255/255 [01:26<00:00,  \n",
      "                 Class     Images  Instances      Box(P          R      mAP50  mAP50-95): 100%|██████████| 43/43 [00:12"
     ]
    },
    {
     "name": "stdout",
     "output_type": "stream",
     "text": [
      "                   all        679       3388      0.953      0.916      0.966      0.645\n"
     ]
    },
    {
     "name": "stderr",
     "output_type": "stream",
     "text": [
      "\n"
     ]
    },
    {
     "name": "stdout",
     "output_type": "stream",
     "text": [
      "\n",
      "      Epoch    GPU_mem   box_loss   cls_loss   dfl_loss  Instances       Size\n"
     ]
    },
    {
     "name": "stderr",
     "output_type": "stream",
     "text": [
      "    195/200       4.4G      1.272     0.4935      1.772          6        640: 100%|██████████| 255/255 [01:26<00:00,  \n",
      "                 Class     Images  Instances      Box(P          R      mAP50  mAP50-95): 100%|██████████| 43/43 [00:13"
     ]
    },
    {
     "name": "stdout",
     "output_type": "stream",
     "text": [
      "                   all        679       3388      0.952      0.915      0.966      0.646\n"
     ]
    },
    {
     "name": "stderr",
     "output_type": "stream",
     "text": [
      "\n"
     ]
    },
    {
     "name": "stdout",
     "output_type": "stream",
     "text": [
      "\n",
      "      Epoch    GPU_mem   box_loss   cls_loss   dfl_loss  Instances       Size\n"
     ]
    },
    {
     "name": "stderr",
     "output_type": "stream",
     "text": [
      "    196/200      4.41G      1.284     0.4947      1.772         23        640: 100%|██████████| 255/255 [01:25<00:00,  \n",
      "                 Class     Images  Instances      Box(P          R      mAP50  mAP50-95): 100%|██████████| 43/43 [00:12"
     ]
    },
    {
     "name": "stdout",
     "output_type": "stream",
     "text": [
      "                   all        679       3388      0.948      0.921      0.967      0.646\n"
     ]
    },
    {
     "name": "stderr",
     "output_type": "stream",
     "text": [
      "\n"
     ]
    },
    {
     "name": "stdout",
     "output_type": "stream",
     "text": [
      "\n",
      "      Epoch    GPU_mem   box_loss   cls_loss   dfl_loss  Instances       Size\n"
     ]
    },
    {
     "name": "stderr",
     "output_type": "stream",
     "text": [
      "    197/200      4.42G      1.266     0.4905      1.773         10        640: 100%|██████████| 255/255 [01:26<00:00,  \n",
      "                 Class     Images  Instances      Box(P          R      mAP50  mAP50-95): 100%|██████████| 43/43 [00:12"
     ]
    },
    {
     "name": "stdout",
     "output_type": "stream",
     "text": [
      "                   all        679       3388      0.957      0.913      0.966      0.644\n"
     ]
    },
    {
     "name": "stderr",
     "output_type": "stream",
     "text": [
      "\n"
     ]
    },
    {
     "name": "stdout",
     "output_type": "stream",
     "text": [
      "\n",
      "      Epoch    GPU_mem   box_loss   cls_loss   dfl_loss  Instances       Size\n"
     ]
    },
    {
     "name": "stderr",
     "output_type": "stream",
     "text": [
      "    198/200      4.38G      1.253     0.4847      1.759         11        640: 100%|██████████| 255/255 [01:26<00:00,  \n",
      "                 Class     Images  Instances      Box(P          R      mAP50  mAP50-95): 100%|██████████| 43/43 [00:12"
     ]
    },
    {
     "name": "stdout",
     "output_type": "stream",
     "text": [
      "                   all        679       3388       0.95       0.92      0.966      0.646\n"
     ]
    },
    {
     "name": "stderr",
     "output_type": "stream",
     "text": [
      "\n"
     ]
    },
    {
     "name": "stdout",
     "output_type": "stream",
     "text": [
      "\n",
      "      Epoch    GPU_mem   box_loss   cls_loss   dfl_loss  Instances       Size\n"
     ]
    },
    {
     "name": "stderr",
     "output_type": "stream",
     "text": [
      "    199/200      4.35G      1.256     0.4855      1.764         29        640: 100%|██████████| 255/255 [01:26<00:00,  \n",
      "                 Class     Images  Instances      Box(P          R      mAP50  mAP50-95): 100%|██████████| 43/43 [00:12"
     ]
    },
    {
     "name": "stdout",
     "output_type": "stream",
     "text": [
      "                   all        679       3388      0.949      0.918      0.966      0.645\n"
     ]
    },
    {
     "name": "stderr",
     "output_type": "stream",
     "text": [
      "\n"
     ]
    },
    {
     "name": "stdout",
     "output_type": "stream",
     "text": [
      "\n",
      "      Epoch    GPU_mem   box_loss   cls_loss   dfl_loss  Instances       Size\n"
     ]
    },
    {
     "name": "stderr",
     "output_type": "stream",
     "text": [
      "    200/200      4.26G      1.273     0.4934      1.766         39        640: 100%|██████████| 255/255 [01:25<00:00,  \n",
      "                 Class     Images  Instances      Box(P          R      mAP50  mAP50-95): 100%|██████████| 43/43 [00:12"
     ]
    },
    {
     "name": "stdout",
     "output_type": "stream",
     "text": [
      "                   all        679       3388      0.954      0.917      0.966      0.646\n"
     ]
    },
    {
     "name": "stderr",
     "output_type": "stream",
     "text": [
      "\n"
     ]
    },
    {
     "name": "stdout",
     "output_type": "stream",
     "text": [
      "\n",
      "200 epochs completed in 5.644 hours.\n",
      "Optimizer stripped from runs\\detect\\dataset-v2-finetune-1\\weights\\last.pt, 64.1MB\n",
      "Optimizer stripped from runs\\detect\\dataset-v2-finetune-1\\weights\\best.pt, 64.1MB\n",
      "\n",
      "Validating runs\\detect\\dataset-v2-finetune-1\\weights\\best.pt...\n",
      "Ultralytics 8.3.82  Python-3.11.11 torch-2.5.1 CUDA:0 (NVIDIA GeForce RTX 3060, 12288MiB)\n",
      "YOLOv10x summary (fused): 215 layers, 31,591,784 parameters, 0 gradients, 169.8 GFLOPs\n"
     ]
    },
    {
     "name": "stderr",
     "output_type": "stream",
     "text": [
      "                 Class     Images  Instances      Box(P          R      mAP50  mAP50-95): 100%|██████████| 43/43 [00:12\n"
     ]
    },
    {
     "name": "stdout",
     "output_type": "stream",
     "text": [
      "                   all        679       3388      0.957      0.911      0.966      0.651\n",
      "            no_glasses        407        605      0.945      0.899      0.965      0.586\n",
      "             no_gloves        472       1207      0.948       0.88      0.945      0.629\n",
      "             no_helmet        449        760      0.963      0.943      0.978      0.646\n",
      "               no_vest        481        816      0.973      0.921      0.978      0.742\n",
      "Speed: 0.2ms preprocess, 13.1ms inference, 0.0ms loss, 0.3ms postprocess per image\n",
      "Results saved to \u001b[1mruns\\detect\\dataset-v2-finetune-1\u001b[0m\n",
      "Ultralytics 8.3.82  Python-3.11.11 torch-2.5.1 CPU (Intel Core(TM) i5-8400 2.80GHz)\n",
      "YOLOv10x summary (fused): 215 layers, 31,591,784 parameters, 0 gradients, 169.8 GFLOPs\n",
      "\n",
      "\u001b[34m\u001b[1mPyTorch:\u001b[0m starting from 'runs\\detect\\dataset-v2-finetune-1\\weights\\best.pt' with input shape (1, 3, 640, 640) BCHW and output shape(s) (1, 300, 6) (61.1 MB)\n",
      "\n",
      "\u001b[34m\u001b[1mTorchScript:\u001b[0m starting export with torch 2.5.1...\n",
      "\u001b[34m\u001b[1mTorchScript:\u001b[0m export success  7.3s, saved as 'runs\\detect\\dataset-v2-finetune-1\\weights\\best.torchscript' (121.6 MB)\n",
      "\n",
      "Export complete (9.2s)\n",
      "Results saved to \u001b[1mF:\\PRACA_MAGISTERSKA\\UCZENIE_MODELI\\yolov10x\\runs\\detect\\dataset-v2-finetune-1\\weights\u001b[0m\n",
      "Predict:         yolo predict task=detect model=runs\\detect\\dataset-v2-finetune-1\\weights\\best.torchscript imgsz=640  \n",
      "Validate:        yolo val task=detect model=runs\\detect\\dataset-v2-finetune-1\\weights\\best.torchscript imgsz=640 data=data.yaml  \n",
      "Visualize:       https://netron.app\n"
     ]
    }
   ],
   "source": [
    "# Load a COCO-pretrained model\n",
    "model = YOLO('yolov10x.pt')\n",
    "\n",
    "# Display model information (optional)\n",
    "model.info()\n",
    "\n",
    "# Train the model (100 epochs)\n",
    "results = model.train(data='data.yaml', epochs=200, imgsz=640, device=0, patience=40, batch=0.9, save_period=10, warmup_epochs=3.0, name='dataset-v2-finetune-1', freeze=10)\n",
    "\n",
    "# Export the mode\n",
    "path = model.export(format=\"torchscript\")  # return path to exported model"
   ]
  },
  {
   "cell_type": "markdown",
   "id": "38bb2a6c-e9ac-4813-a1f6-0f797f3cac4e",
   "metadata": {},
   "source": [
    "Ewaluacja modelu"
   ]
  },
  {
   "cell_type": "code",
   "execution_count": 3,
   "id": "ad9a3ca2-b49f-4423-9349-cc725be2fe3b",
   "metadata": {},
   "outputs": [
    {
     "name": "stdout",
     "output_type": "stream",
     "text": [
      "Ultralytics 8.3.82  Python-3.11.11 torch-2.5.1 CUDA:0 (NVIDIA GeForce RTX 3060, 12288MiB)\n",
      "YOLOv10x summary (fused): 215 layers, 31,591,784 parameters, 0 gradients, 169.8 GFLOPs\n"
     ]
    },
    {
     "name": "stderr",
     "output_type": "stream",
     "text": [
      "\u001b[34m\u001b[1mval: \u001b[0mScanning F:\\PRACA_MAGISTERSKA\\DATASETS\\MAGISTERKA-V2\\labels\\val.cache... 679 images, 154 backgrounds, 0 corrupt: 1\u001b[0m\n",
      "                 Class     Images  Instances      Box(P          R      mAP50  mAP50-95): 100%|██████████| 43/43 [00:23\n"
     ]
    },
    {
     "name": "stdout",
     "output_type": "stream",
     "text": [
      "                   all        679       3388      0.943      0.914      0.967      0.634\n",
      "            no_glasses        407        605      0.939       0.89      0.962      0.571\n",
      "             no_gloves        472       1207      0.926      0.893      0.948      0.609\n",
      "             no_helmet        449        760      0.949      0.933      0.976       0.63\n",
      "               no_vest        481        816      0.956      0.939      0.981      0.725\n",
      "Speed: 0.2ms preprocess, 28.8ms inference, 0.0ms loss, 0.2ms postprocess per image\n",
      "Results saved to \u001b[1mruns\\detect\\val11\u001b[0m\n"
     ]
    },
    {
     "data": {
      "text/plain": [
       "array([    0.57107,     0.60929,     0.63029,     0.72549])"
      ]
     },
     "execution_count": 3,
     "metadata": {},
     "output_type": "execute_result"
    }
   ],
   "source": [
    "# Load a model\n",
    "model = YOLO('runs/detect/dataset-v2-finetune-1/weights/epoch70.pt')\n",
    "\n",
    "# Validate a model\n",
    "metrics = model.val(iou=0.6)   # no arguments needed, dataset and settings remembered\n",
    "metrics.box.map         # map50-95\n",
    "metrics.box.map50       # map50\n",
    "metrics.box.map75       # map75\n",
    "metrics.box.maps        # a list contains map50-95 of each category"
   ]
  },
  {
   "cell_type": "code",
   "execution_count": 4,
   "id": "4e9b6ee5-41e6-480f-927d-dadbea5849d0",
   "metadata": {},
   "outputs": [],
   "source": [
    "import numpy as np\n",
    "import matplotlib.pyplot as plt\n",
    "%matplotlib inline"
   ]
  },
  {
   "cell_type": "code",
   "execution_count": 14,
   "id": "9a44957a-3ce1-46c3-bc23-61f59e08ae50",
   "metadata": {},
   "outputs": [
    {
     "data": {
      "text/plain": [
       "np.float64(0.9278350674599447)"
      ]
     },
     "execution_count": 14,
     "metadata": {},
     "output_type": "execute_result"
    }
   ],
   "source": [
    "np.mean(metrics.box.f1)"
   ]
  },
  {
   "cell_type": "code",
   "execution_count": 15,
   "id": "d862b8c8-1c0d-42c2-8195-fc6c3124100c",
   "metadata": {},
   "outputs": [
    {
     "data": {
      "text/plain": [
       "array([    0.91395,     0.90908,     0.94097,     0.94734])"
      ]
     },
     "execution_count": 15,
     "metadata": {},
     "output_type": "execute_result"
    }
   ],
   "source": [
    "metrics.box.f1"
   ]
  },
  {
   "cell_type": "code",
   "execution_count": 8,
   "id": "a6343768-97df-44ba-947f-4a771377ce2a",
   "metadata": {},
   "outputs": [
    {
     "data": {
      "text/plain": [
       "25.677953902795736"
      ]
     },
     "execution_count": 8,
     "metadata": {},
     "output_type": "execute_result"
    }
   ],
   "source": [
    "metrics.speed['inference']"
   ]
  },
  {
   "cell_type": "code",
   "execution_count": 5,
   "id": "b5b24e91-bfeb-4b17-bf84-437754eb81f1",
   "metadata": {},
   "outputs": [],
   "source": [
    "import numpy as np\n",
    "import matplotlib.pyplot as plt\n",
    "import seaborn as sn\n",
    "import warnings\n",
    "\n",
    "def plot_confusion_matrix(matrix, normalize=True, names=()):\n",
    "    \"\"\"\n",
    "    Plot the confusion matrix using seaborn.\n",
    "    należy dwukrotnie wywołać funkcję aby zwiększył się rozmiar opisów\n",
    "\n",
    "    Args:\n",
    "        matrix (np.ndarray): Macierz pomyłek (np. metrics.confusion_matrix.matrix)\n",
    "        normalize (bool, optional): Czy normalizować macierz. Default: True\n",
    "        names (tuple, optional): Nazwy klas, używane jako etykiety na wykresie.\n",
    "    \"\"\"\n",
    "    array = matrix / ((matrix.sum(0).reshape(1, -1) + 1e-9) if normalize else 1)  # normalizacja kolumn\n",
    "    array[array < 0.005] = np.nan  # nie pokazuj wartości poniżej 0.005 (będzie pusty)\n",
    "\n",
    "    fig, ax = plt.subplots(1, 1, figsize=(12, 9), tight_layout=True)\n",
    "    nc = metrics.confusion_matrix.nc\n",
    "    nn = len(names)  # liczba nazw\n",
    "    sn.set(font_scale=1.5 if nc < 50 else 0.8)  # rozmiar czcionki\n",
    "    labels = (0 < nn < 99) and (nn == nc)  # czy zastosować nazwy jako etykiety\n",
    "    ticklabels = (list(names.values()) + [\"background\"]) if labels else \"auto\"\n",
    "    with warnings.catch_warnings():\n",
    "        warnings.simplefilter(\"ignore\")  # ignoruj ostrzeżenia o pustej macierzy\n",
    "        sn.heatmap(\n",
    "            array,\n",
    "            ax=ax,\n",
    "            annot=nc < 30,\n",
    "            annot_kws={\"size\": 18},\n",
    "            cmap=\"Blues\",\n",
    "            fmt=\".2f\" if normalize else \".0f\",\n",
    "            square=True,\n",
    "            vmin=0.0,\n",
    "            xticklabels=ticklabels,\n",
    "            yticklabels=ticklabels,\n",
    "        ).set_facecolor((1, 1, 1))\n",
    "    title = \"Confusion Matrix\" + (\" Normalized\" if normalize else \"\")\n",
    "    ax.set_xlabel(\"True\")\n",
    "    ax.set_ylabel(\"Predicted\")\n",
    "    ax.set_title(title)\n",
    "    plt.show()"
   ]
  },
  {
   "cell_type": "code",
   "execution_count": 6,
   "id": "c489bf54-f574-4e8a-9ce6-c99e668b89f0",
   "metadata": {},
   "outputs": [],
   "source": [
    "def plot_mc_curve(px, py, names=(), xlabel=\"Confidence\", ylabel=\"Metric\"):\n",
    "    \"\"\"Plots a metric-confidence curve.\"\"\"\n",
    "    fig, ax = plt.subplots(1, 1, figsize=(9, 6), tight_layout=True)\n",
    "\n",
    "    if 0 < len(names) < 21:  # display per-class legend if < 21 classes\n",
    "        for i, y in enumerate(py):\n",
    "            ax.plot(px, y, linewidth=1, label=f\"{names[i]}\")  # plot(confidence, metric)\n",
    "    else:\n",
    "        ax.plot(px, py.T, linewidth=1, color=\"grey\")  # plot(confidence, metric)\n",
    "\n",
    "    y = smooth(py.mean(0), 0.05)\n",
    "    ax.plot(px, y, linewidth=3, color=\"blue\", label=f\"all classes, best Confidence {y.max():.2f} at {px[y.argmax()]:.3f}\")\n",
    "    ax.set_xlabel(xlabel, fontsize=17)\n",
    "    ax.set_ylabel(ylabel, fontsize=17)\n",
    "    ax.set_xlim(0, 1)\n",
    "    ax.set_ylim(0, 1)\n",
    "    ax.grid(True)\n",
    "    ax.legend(fontsize=17)\n",
    "    plt.xticks(fontsize=15)\n",
    "    plt.yticks(fontsize=15)\n",
    "    ax.set_title(f\"{ylabel}-Confidence Curve\", fontsize=18)\n",
    "    plt.show()"
   ]
  },
  {
   "cell_type": "code",
   "execution_count": 7,
   "id": "5cf1f710-b18f-45fb-bb31-215685026dea",
   "metadata": {},
   "outputs": [],
   "source": [
    "def plot_pr_curve(px, py, ap, names=()):\n",
    "    \"\"\"Plots a precision-recall curve.\"\"\"\n",
    "    fig, ax = plt.subplots(1, 1, figsize=(9, 6), tight_layout=True)\n",
    "    py = np.stack(py, axis=1)  # shape (len(px), num_classes)\n",
    "    ap = np.array(ap).flatten()  # zapewnia 1D\n",
    "\n",
    "    if 0 < len(names) < 21:\n",
    "        for i, y in enumerate(py.T):\n",
    "            ax.plot(px, y, linewidth=1, label=f\"{names[i]} {ap[i]:.3f}\")\n",
    "    else:\n",
    "        ax.plot(px, py, linewidth=1, color=\"grey\")\n",
    "\n",
    "    ax.plot(px, py.mean(1), linewidth=3, color=\"blue\", label=f\"all classes {ap.mean():.3f} mAP@0.5\")\n",
    "    ax.set_xlabel(\"Recall\", fontsize=17)\n",
    "    ax.set_ylabel(\"Precision\", fontsize=17)\n",
    "    ax.set_xlim(0, 1)\n",
    "    ax.set_ylim(0, 1)\n",
    "    ax.legend(loc='lower left', fontsize=17)\n",
    "    plt.xticks(fontsize=15)\n",
    "    plt.yticks(fontsize=15)\n",
    "    ax.grid(True)\n",
    "    ax.set_title(\"Precision-Recall Curve\", fontsize=18)\n",
    "    plt.show()"
   ]
  },
  {
   "cell_type": "code",
   "execution_count": 8,
   "id": "0e253837-6a86-4910-abc7-e64bfaa68ef4",
   "metadata": {},
   "outputs": [],
   "source": [
    "def smooth(y, f=0.05):\n",
    "    \"\"\"Box filter of fraction f.\"\"\"\n",
    "    nf = round(len(y) * f * 2) // 2 + 1  # number of filter elements (must be odd)\n",
    "    p = np.ones(nf // 2)  # ones padding\n",
    "    yp = np.concatenate((p * y[0], y, p * y[-1]), 0)  # y padded\n",
    "    return np.convolve(yp, np.ones(nf) / nf, mode=\"valid\")  # y-smoothed"
   ]
  },
  {
   "cell_type": "code",
   "execution_count": 9,
   "id": "faebc78d-55db-497a-9ea9-8ab31e366247",
   "metadata": {},
   "outputs": [
    {
     "data": {
      "image/png": "[encoded data removed]",
      "text/plain": [
       "<Figure size 900x600 with 1 Axes>"
      ]
     },
     "metadata": {},
     "output_type": "display_data"
    }
   ],
   "source": [
    "x, prec_values = np.linspace(0, 1, 1000), []\n",
    "\n",
    "f1_curve = metrics.box.f1_curve\n",
    "metrics.names\n",
    "plot_mc_curve(x, f1_curve, metrics.names, ylabel=\"F1\")"
   ]
  },
  {
   "cell_type": "code",
   "execution_count": 10,
   "id": "60a3b87a-1010-4a1f-aa4c-9b5d4f868b3a",
   "metadata": {},
   "outputs": [
    {
     "data": {
      "image/png": "[encoded data removed]",
      "text/plain": [
       "<Figure size 900x600 with 1 Axes>"
      ]
     },
     "metadata": {},
     "output_type": "display_data"
    }
   ],
   "source": [
    "plot_mc_curve(x, metrics.box.r_curve, metrics.names, ylabel=\"Recall\")"
   ]
  },
  {
   "cell_type": "code",
   "execution_count": 11,
   "id": "b5080b3e-1c37-4f74-9a57-adbdf1887e4d",
   "metadata": {},
   "outputs": [
    {
     "data": {
      "image/png": "[encoded data removed]",
      "text/plain": [
       "<Figure size 900x600 with 1 Axes>"
      ]
     },
     "metadata": {},
     "output_type": "display_data"
    }
   ],
   "source": [
    "plot_mc_curve(x, metrics.box.p_curve, metrics.names, ylabel=\"Precision\")"
   ]
  },
  {
   "cell_type": "code",
   "execution_count": 12,
   "id": "dbdbf2eb-7371-4ef1-9e6f-2db6c0cdff94",
   "metadata": {},
   "outputs": [
    {
     "data": {
      "image/png": "[encoded data removed]",
      "text/plain": [
       "<Figure size 900x600 with 1 Axes>"
      ]
     },
     "metadata": {},
     "output_type": "display_data"
    }
   ],
   "source": [
    "plot_pr_curve(x, metrics.box.prec_values, metrics.box.ap, metrics.names)"
   ]
  },
  {
   "cell_type": "code",
   "execution_count": 26,
   "id": "78025cdb-a9a7-4c20-9567-1b4b6d08225e",
   "metadata": {},
   "outputs": [
    {
     "data": {
      "image/png": "[encoded data removed]",
      "text/plain": [
       "<Figure size 1200x900 with 2 Axes>"
      ]
     },
     "metadata": {},
     "output_type": "display_data"
    }
   ],
   "source": [
    "plot_confusion_matrix(metrics.confusion_matrix.matrix, normalize=False, names=metrics.names)"
   ]
  },
  {
   "cell_type": "markdown",
   "id": "7e7dfdab-fcf7-4df3-93d9-f7e20c90a075",
   "metadata": {},
   "source": [
    "Predykcja"
   ]
  },
  {
   "cell_type": "code",
   "execution_count": 53,
   "id": "b8614e61-cf9a-412d-986b-3211d78d23d8",
   "metadata": {},
   "outputs": [
    {
     "name": "stdout",
     "output_type": "stream",
     "text": [
      "\n",
      "image 1/3 f:\\PRACA_MAGISTERSKA\\DATASETS\\PREDYKCJA\\images\\spacer-seniora1-2048x1362.jpg: 448x640 2 no_glassess, 4 no_glovess, 2 no_helmets, 2 no_vests, 28.6ms\n",
      "image 2/3 f:\\PRACA_MAGISTERSKA\\DATASETS\\PREDYKCJA\\images\\stock-photo-human-resource-team-talking-to-a-candidate-during-a-job-interview-in-the-office-2316131879.jpg: 480x640 3 no_glassess, 6 no_glovess, 3 no_helmets, 5 no_vests, 42.3ms\n",
      "image 3/3 f:\\PRACA_MAGISTERSKA\\DATASETS\\PREDYKCJA\\images\\stock-photo-human-resources-commission-interviewing-male-applicant-in-office-2409886423.jpg: 480x640 4 no_glassess, 5 no_glovess, 4 no_helmets, 4 no_vests, 29.1ms\n",
      "Speed: 2.6ms preprocess, 33.4ms inference, 0.9ms postprocess per image at shape (1, 3, 480, 640)\n"
     ]
    }
   ],
   "source": [
    "# Load a model\n",
    "model = YOLO('runs/detect/dataset-v2-finetune-1/weights/epoch70.pt')\n",
    "\n",
    "# Define path to directory containing images and videos for inference\n",
    "source = '/PRACA_MAGISTERSKA/DATASETS/PREDYKCJA/images'\n",
    "\n",
    "# Run inference on the source\n",
    "results = model(source, conf=0.35, show_conf=False, show_labels=False)  # generator of Results objects\n",
    "\n",
    "predictions = 'predictions/'\n",
    "if not os.path.exists(predictions):\n",
    "  os.mkdir(predictions)\n",
    "\n",
    "# Process results list\n",
    "for id, result in enumerate(results, 1):\n",
    "    boxes = result.boxes          # Boxes object for bounding box outputs\n",
    "    masks = result.masks          # Masks object for segmentation masks outputs\n",
    "    keypoints = result.keypoints  # Keypoints object for pose outputs\n",
    "    probs = result.probs          # Probs object for classification outputs\n",
    "    obb = result.obb              # Oriented boxes object for OBB outputs\n",
    "    result.show()                 # Display to screen\n",
    "    result.save(filename= predictions + 'result_' + str(id) + '.jpg')  # Save to disk"
   ]
  },
  {
   "cell_type": "code",
   "execution_count": 2,
   "id": "43f9c9be-bf01-4888-a98e-ce685daf9bfa",
   "metadata": {},
   "outputs": [
    {
     "name": "stdout",
     "output_type": "stream",
     "text": [
      "\n",
      "image 1/6 f:\\PRACA_MAGISTERSKA\\DATASETS\\PREDYKCJA\\images\\spacer-seniora1-2048x1362.jpg: 448x640 2 no_glassess, 4 no_glovess, 2 no_helmets, 2 no_vests, 92.8ms\n",
      "image 2/6 f:\\PRACA_MAGISTERSKA\\DATASETS\\PREDYKCJA\\images\\stock-photo-engineers-railway-survey-wearing-safety-uniform-under-conversation-document-and-tablet-on-hand-2468533629.jpg: 480x640 1 no_gloves, 90.3ms\n",
      "image 3/6 f:\\PRACA_MAGISTERSKA\\DATASETS\\PREDYKCJA\\images\\stock-photo-human-resource-team-talking-to-a-candidate-during-a-job-interview-in-the-office-2316131879.jpg: 480x640 3 no_glassess, 6 no_glovess, 3 no_helmets, 5 no_vests, 35.0ms\n",
      "image 4/6 f:\\PRACA_MAGISTERSKA\\DATASETS\\PREDYKCJA\\images\\stock-photo-human-resources-commission-interviewing-male-applicant-in-office-2409886423.jpg: 480x640 4 no_glassess, 5 no_glovess, 4 no_helmets, 4 no_vests, 32.6ms\n",
      "image 5/6 f:\\PRACA_MAGISTERSKA\\DATASETS\\PREDYKCJA\\images\\stock-photo-latin-woman-with-curly-hair-wearing-a-hard-hat-and-reflective-vest-stands-confidently-in-a-city-2576103397.jpg: 480x640 1 no_glasses, 1 no_gloves, 37.3ms\n",
      "image 6/6 f:\\PRACA_MAGISTERSKA\\DATASETS\\PREDYKCJA\\images\\stock-photo-pouring-cement-or-concrete-with-a-concrete-mixer-truck-construction-site-with-a-reinforced-2143145861.jpg: 480x640 (no detections), 29.0ms\n",
      "Speed: 2.7ms preprocess, 52.8ms inference, 3.6ms postprocess per image at shape (1, 3, 480, 640)\n",
      "Results saved to \u001b[1mruns\\detect\\predict23\u001b[0m\n"
     ]
    }
   ],
   "source": [
    "model = YOLO('runs/detect/dataset-v2-finetune-1/weights/epoch70.pt')\n",
    "results = model.predict(source='/PRACA_MAGISTERSKA/DATASETS/PREDYKCJA/images', show_conf=False, show_labels=False, device=0, save=True, conf=0.334)"
   ]
  },
  {
   "cell_type": "code",
   "execution_count": 2,
   "id": "1e20eeb8-c9d0-4824-8f95-002ca52ce3ab",
   "metadata": {},
   "outputs": [],
   "source": [
    "import time"
   ]
  },
  {
   "cell_type": "code",
   "execution_count": 4,
   "id": "746b1f71-6311-45a9-926a-171e7f9d65ac",
   "metadata": {
    "scrolled": true
   },
   "outputs": [
    {
     "name": "stdout",
     "output_type": "stream",
     "text": [
      "\n",
      "\n",
      "WARNING  inference results will accumulate in RAM unless `stream=True` is passed, causing potential out-of-memory\n",
      "errors for large sources or long-running streams and videos. See https://docs.ultralytics.com/modes/predict/ for help.\n",
      "\n",
      "Example:\n",
      "    results = model(source=..., stream=True)  # generator of Results objects\n",
      "    for r in results:\n",
      "        boxes = r.boxes  # Boxes object for bbox outputs\n",
      "        masks = r.masks  # Masks object for segment masks outputs\n",
      "        probs = r.probs  # Class probabilities for classification outputs\n",
      "\n",
      "video 1/4 (frame 1/227) f:\\PRACA_MAGISTERSKA\\DATASETS\\PREDYKCJA\\videos\\las.webm: 352x640 1 no_glasses, 2 no_glovess, 6 no_helmets, 6 no_vests, 18.3ms\n",
      "video 1/4 (frame 2/227) f:\\PRACA_MAGISTERSKA\\DATASETS\\PREDYKCJA\\videos\\las.webm: 352x640 1 no_glasses, 2 no_glovess, 6 no_helmets, 5 no_vests, 18.3ms\n",
      "video 1/4 (frame 3/227) f:\\PRACA_MAGISTERSKA\\DATASETS\\PREDYKCJA\\videos\\las.webm: 352x640 1 no_glasses, 2 no_glovess, 6 no_helmets, 6 no_vests, 18.3ms\n",
      "video 1/4 (frame 4/227) f:\\PRACA_MAGISTERSKA\\DATASETS\\PREDYKCJA\\videos\\las.webm: 352x640 1 no_glasses, 2 no_glovess, 6 no_helmets, 6 no_vests, 18.3ms\n",
      "video 1/4 (frame 5/227) f:\\PRACA_MAGISTERSKA\\DATASETS\\PREDYKCJA\\videos\\las.webm: 352x640 1 no_glasses, 2 no_glovess, 6 no_helmets, 8 no_vests, 18.3ms\n",
      "video 1/4 (frame 6/227) f:\\PRACA_MAGISTERSKA\\DATASETS\\PREDYKCJA\\videos\\las.webm: 352x640 2 no_glovess, 6 no_helmets, 8 no_vests, 18.3ms\n",
      "video 1/4 (frame 7/227) f:\\PRACA_MAGISTERSKA\\DATASETS\\PREDYKCJA\\videos\\las.webm: 352x640 2 no_glovess, 7 no_helmets, 7 no_vests, 18.3ms\n",
      "video 1/4 (frame 8/227) f:\\PRACA_MAGISTERSKA\\DATASETS\\PREDYKCJA\\videos\\las.webm: 352x640 2 no_glovess, 7 no_helmets, 6 no_vests, 18.3ms\n",
      "video 1/4 (frame 9/227) f:\\PRACA_MAGISTERSKA\\DATASETS\\PREDYKCJA\\videos\\las.webm: 352x640 3 no_glovess, 6 no_helmets, 6 no_vests, 18.3ms\n",
      "video 1/4 (frame 10/227) f:\\PRACA_MAGISTERSKA\\DATASETS\\PREDYKCJA\\videos\\las.webm: 352x640 3 no_glovess, 7 no_helmets, 6 no_vests, 18.3ms\n",
      "video 1/4 (frame 11/227) f:\\PRACA_MAGISTERSKA\\DATASETS\\PREDYKCJA\\videos\\las.webm: 352x640 3 no_glovess, 7 no_helmets, 6 no_vests, 18.3ms\n",
      "video 1/4 (frame 12/227) f:\\PRACA_MAGISTERSKA\\DATASETS\\PREDYKCJA\\videos\\las.webm: 352x640 3 no_glovess, 7 no_helmets, 6 no_vests, 18.3ms\n",
      "video 1/4 (frame 13/227) f:\\PRACA_MAGISTERSKA\\DATASETS\\PREDYKCJA\\videos\\las.webm: 352x640 1 no_glasses, 3 no_glovess, 7 no_helmets, 7 no_vests, 18.3ms\n",
      "video 1/4 (frame 14/227) f:\\PRACA_MAGISTERSKA\\DATASETS\\PREDYKCJA\\videos\\las.webm: 352x640 1 no_glasses, 3 no_glovess, 7 no_helmets, 7 no_vests, 18.3ms\n",
      "video 1/4 (frame 15/227) f:\\PRACA_MAGISTERSKA\\DATASETS\\PREDYKCJA\\videos\\las.webm: 352x640 1 no_glasses, 3 no_glovess, 7 no_helmets, 7 no_vests, 18.3ms\n",
      "video 1/4 (frame 16/227) f:\\PRACA_MAGISTERSKA\\DATASETS\\PREDYKCJA\\videos\\las.webm: 352x640 1 no_glasses, 2 no_glovess, 7 no_helmets, 7 no_vests, 18.3ms\n",
      "video 1/4 (frame 17/227) f:\\PRACA_MAGISTERSKA\\DATASETS\\PREDYKCJA\\videos\\las.webm: 352x640 1 no_glasses, 4 no_glovess, 7 no_helmets, 5 no_vests, 18.3ms\n",
      "video 1/4 (frame 18/227) f:\\PRACA_MAGISTERSKA\\DATASETS\\PREDYKCJA\\videos\\las.webm: 352x640 1 no_glasses, 4 no_glovess, 7 no_helmets, 5 no_vests, 18.3ms\n",
      "video 1/4 (frame 19/227) f:\\PRACA_MAGISTERSKA\\DATASETS\\PREDYKCJA\\videos\\las.webm: 352x640 1 no_glasses, 3 no_glovess, 7 no_helmets, 5 no_vests, 18.3ms\n",
      "video 1/4 (frame 20/227) f:\\PRACA_MAGISTERSKA\\DATASETS\\PREDYKCJA\\videos\\las.webm: 352x640 1 no_glasses, 2 no_glovess, 7 no_helmets, 5 no_vests, 18.3ms\n",
      "video 1/4 (frame 21/227) f:\\PRACA_MAGISTERSKA\\DATASETS\\PREDYKCJA\\videos\\las.webm: 352x640 1 no_glasses, 2 no_glovess, 6 no_helmets, 7 no_vests, 18.3ms\n",
      "video 1/4 (frame 22/227) f:\\PRACA_MAGISTERSKA\\DATASETS\\PREDYKCJA\\videos\\las.webm: 352x640 1 no_glasses, 2 no_glovess, 7 no_helmets, 7 no_vests, 18.3ms\n",
      "video 1/4 (frame 23/227) f:\\PRACA_MAGISTERSKA\\DATASETS\\PREDYKCJA\\videos\\las.webm: 352x640 1 no_glasses, 2 no_glovess, 6 no_helmets, 6 no_vests, 18.3ms\n",
      "video 1/4 (frame 24/227) f:\\PRACA_MAGISTERSKA\\DATASETS\\PREDYKCJA\\videos\\las.webm: 352x640 1 no_glasses, 2 no_glovess, 6 no_helmets, 7 no_vests, 18.3ms\n",
      "video 1/4 (frame 25/227) f:\\PRACA_MAGISTERSKA\\DATASETS\\PREDYKCJA\\videos\\las.webm: 352x640 1 no_glasses, 2 no_glovess, 6 no_helmets, 6 no_vests, 18.3ms\n",
      "video 1/4 (frame 26/227) f:\\PRACA_MAGISTERSKA\\DATASETS\\PREDYKCJA\\videos\\las.webm: 352x640 1 no_glasses, 2 no_glovess, 6 no_helmets, 6 no_vests, 18.3ms\n",
      "video 1/4 (frame 27/227) f:\\PRACA_MAGISTERSKA\\DATASETS\\PREDYKCJA\\videos\\las.webm: 352x640 1 no_glasses, 2 no_glovess, 6 no_helmets, 5 no_vests, 18.3ms\n",
      "video 1/4 (frame 28/227) f:\\PRACA_MAGISTERSKA\\DATASETS\\PREDYKCJA\\videos\\las.webm: 352x640 1 no_glasses, 2 no_glovess, 6 no_helmets, 6 no_vests, 18.3ms\n",
      "video 1/4 (frame 29/227) f:\\PRACA_MAGISTERSKA\\DATASETS\\PREDYKCJA\\videos\\las.webm: 352x640 2 no_glassess, 2 no_glovess, 6 no_helmets, 5 no_vests, 18.3ms\n",
      "video 1/4 (frame 30/227) f:\\PRACA_MAGISTERSKA\\DATASETS\\PREDYKCJA\\videos\\las.webm: 352x640 2 no_glassess, 2 no_glovess, 6 no_helmets, 6 no_vests, 18.3ms\n",
      "video 1/4 (frame 31/227) f:\\PRACA_MAGISTERSKA\\DATASETS\\PREDYKCJA\\videos\\las.webm: 352x640 2 no_glassess, 2 no_glovess, 6 no_helmets, 6 no_vests, 18.3ms\n",
      "video 1/4 (frame 32/227) f:\\PRACA_MAGISTERSKA\\DATASETS\\PREDYKCJA\\videos\\las.webm: 352x640 2 no_glassess, 2 no_glovess, 6 no_helmets, 4 no_vests, 18.3ms\n",
      "video 1/4 (frame 33/227) f:\\PRACA_MAGISTERSKA\\DATASETS\\PREDYKCJA\\videos\\las.webm: 352x640 2 no_glassess, 2 no_glovess, 6 no_helmets, 6 no_vests, 18.3ms\n",
      "video 1/4 (frame 34/227) f:\\PRACA_MAGISTERSKA\\DATASETS\\PREDYKCJA\\videos\\las.webm: 352x640 2 no_glassess, 2 no_glovess, 6 no_helmets, 6 no_vests, 18.3ms\n",
      "video 1/4 (frame 35/227) f:\\PRACA_MAGISTERSKA\\DATASETS\\PREDYKCJA\\videos\\las.webm: 352x640 2 no_glassess, 2 no_glovess, 6 no_helmets, 5 no_vests, 18.3ms\n",
      "video 1/4 (frame 36/227) f:\\PRACA_MAGISTERSKA\\DATASETS\\PREDYKCJA\\videos\\las.webm: 352x640 2 no_glassess, 2 no_glovess, 7 no_helmets, 6 no_vests, 18.3ms\n",
      "video 1/4 (frame 37/227) f:\\PRACA_MAGISTERSKA\\DATASETS\\PREDYKCJA\\videos\\las.webm: 352x640 2 no_glassess, 1 no_gloves, 6 no_helmets, 7 no_vests, 18.3ms\n",
      "video 1/4 (frame 38/227) f:\\PRACA_MAGISTERSKA\\DATASETS\\PREDYKCJA\\videos\\las.webm: 352x640 2 no_glassess, 1 no_gloves, 7 no_helmets, 7 no_vests, 18.3ms\n",
      "video 1/4 (frame 39/227) f:\\PRACA_MAGISTERSKA\\DATASETS\\PREDYKCJA\\videos\\las.webm: 352x640 2 no_glassess, 1 no_gloves, 7 no_helmets, 7 no_vests, 18.3ms\n",
      "video 1/4 (frame 40/227) f:\\PRACA_MAGISTERSKA\\DATASETS\\PREDYKCJA\\videos\\las.webm: 352x640 2 no_glassess, 1 no_gloves, 7 no_helmets, 7 no_vests, 18.3ms\n",
      "video 1/4 (frame 41/227) f:\\PRACA_MAGISTERSKA\\DATASETS\\PREDYKCJA\\videos\\las.webm: 352x640 1 no_glasses, 1 no_gloves, 6 no_helmets, 7 no_vests, 18.3ms\n",
      "video 1/4 (frame 42/227) f:\\PRACA_MAGISTERSKA\\DATASETS\\PREDYKCJA\\videos\\las.webm: 352x640 1 no_glasses, 1 no_gloves, 6 no_helmets, 6 no_vests, 18.3ms\n",
      "video 1/4 (frame 43/227) f:\\PRACA_MAGISTERSKA\\DATASETS\\PREDYKCJA\\videos\\las.webm: 352x640 1 no_glasses, 1 no_gloves, 6 no_helmets, 6 no_vests, 18.3ms\n",
      "video 1/4 (frame 44/227) f:\\PRACA_MAGISTERSKA\\DATASETS\\PREDYKCJA\\videos\\las.webm: 352x640 2 no_glassess, 1 no_gloves, 7 no_helmets, 6 no_vests, 18.3ms\n",
      "video 1/4 (frame 45/227) f:\\PRACA_MAGISTERSKA\\DATASETS\\PREDYKCJA\\videos\\las.webm: 352x640 1 no_glasses, 2 no_glovess, 7 no_helmets, 6 no_vests, 18.3ms\n",
      "video 1/4 (frame 46/227) f:\\PRACA_MAGISTERSKA\\DATASETS\\PREDYKCJA\\videos\\las.webm: 352x640 1 no_glasses, 2 no_glovess, 7 no_helmets, 6 no_vests, 18.3ms\n",
      "video 1/4 (frame 47/227) f:\\PRACA_MAGISTERSKA\\DATASETS\\PREDYKCJA\\videos\\las.webm: 352x640 1 no_glasses, 2 no_glovess, 5 no_helmets, 6 no_vests, 18.3ms\n",
      "video 1/4 (frame 48/227) f:\\PRACA_MAGISTERSKA\\DATASETS\\PREDYKCJA\\videos\\las.webm: 352x640 1 no_glasses, 3 no_glovess, 6 no_helmets, 6 no_vests, 18.3ms\n",
      "video 1/4 (frame 49/227) f:\\PRACA_MAGISTERSKA\\DATASETS\\PREDYKCJA\\videos\\las.webm: 352x640 2 no_glassess, 3 no_glovess, 7 no_helmets, 6 no_vests, 18.3ms\n",
      "video 1/4 (frame 50/227) f:\\PRACA_MAGISTERSKA\\DATASETS\\PREDYKCJA\\videos\\las.webm: 352x640 2 no_glassess, 3 no_glovess, 5 no_helmets, 6 no_vests, 18.3ms\n",
      "video 1/4 (frame 51/227) f:\\PRACA_MAGISTERSKA\\DATASETS\\PREDYKCJA\\videos\\las.webm: 352x640 2 no_glassess, 1 no_gloves, 6 no_helmets, 6 no_vests, 18.3ms\n",
      "video 1/4 (frame 52/227) f:\\PRACA_MAGISTERSKA\\DATASETS\\PREDYKCJA\\videos\\las.webm: 352x640 2 no_glassess, 1 no_gloves, 6 no_helmets, 6 no_vests, 18.3ms\n",
      "video 1/4 (frame 53/227) f:\\PRACA_MAGISTERSKA\\DATASETS\\PREDYKCJA\\videos\\las.webm: 352x640 2 no_glassess, 2 no_glovess, 5 no_helmets, 5 no_vests, 18.3ms\n",
      "video 1/4 (frame 54/227) f:\\PRACA_MAGISTERSKA\\DATASETS\\PREDYKCJA\\videos\\las.webm: 352x640 2 no_glassess, 1 no_gloves, 5 no_helmets, 5 no_vests, 18.3ms\n",
      "video 1/4 (frame 55/227) f:\\PRACA_MAGISTERSKA\\DATASETS\\PREDYKCJA\\videos\\las.webm: 352x640 2 no_glassess, 1 no_gloves, 5 no_helmets, 4 no_vests, 18.3ms\n",
      "video 1/4 (frame 56/227) f:\\PRACA_MAGISTERSKA\\DATASETS\\PREDYKCJA\\videos\\las.webm: 352x640 2 no_glassess, 1 no_gloves, 6 no_helmets, 4 no_vests, 18.3ms\n",
      "video 1/4 (frame 57/227) f:\\PRACA_MAGISTERSKA\\DATASETS\\PREDYKCJA\\videos\\las.webm: 352x640 1 no_glasses, 1 no_gloves, 7 no_helmets, 5 no_vests, 18.3ms\n",
      "video 1/4 (frame 58/227) f:\\PRACA_MAGISTERSKA\\DATASETS\\PREDYKCJA\\videos\\las.webm: 352x640 1 no_glasses, 2 no_glovess, 6 no_helmets, 5 no_vests, 18.3ms\n",
      "video 1/4 (frame 59/227) f:\\PRACA_MAGISTERSKA\\DATASETS\\PREDYKCJA\\videos\\las.webm: 352x640 2 no_glassess, 2 no_glovess, 6 no_helmets, 4 no_vests, 18.3ms\n",
      "video 1/4 (frame 60/227) f:\\PRACA_MAGISTERSKA\\DATASETS\\PREDYKCJA\\videos\\las.webm: 352x640 2 no_glassess, 2 no_glovess, 6 no_helmets, 4 no_vests, 18.3ms\n",
      "video 1/4 (frame 61/227) f:\\PRACA_MAGISTERSKA\\DATASETS\\PREDYKCJA\\videos\\las.webm: 352x640 2 no_glassess, 2 no_glovess, 6 no_helmets, 5 no_vests, 18.3ms\n",
      "video 1/4 (frame 62/227) f:\\PRACA_MAGISTERSKA\\DATASETS\\PREDYKCJA\\videos\\las.webm: 352x640 2 no_glassess, 2 no_glovess, 6 no_helmets, 5 no_vests, 18.3ms\n",
      "video 1/4 (frame 63/227) f:\\PRACA_MAGISTERSKA\\DATASETS\\PREDYKCJA\\videos\\las.webm: 352x640 2 no_glassess, 2 no_glovess, 6 no_helmets, 5 no_vests, 18.3ms\n",
      "video 1/4 (frame 64/227) f:\\PRACA_MAGISTERSKA\\DATASETS\\PREDYKCJA\\videos\\las.webm: 352x640 2 no_glassess, 2 no_glovess, 6 no_helmets, 5 no_vests, 18.3ms\n",
      "video 1/4 (frame 65/227) f:\\PRACA_MAGISTERSKA\\DATASETS\\PREDYKCJA\\videos\\las.webm: 352x640 2 no_glassess, 2 no_glovess, 6 no_helmets, 6 no_vests, 17.2ms\n",
      "video 1/4 (frame 66/227) f:\\PRACA_MAGISTERSKA\\DATASETS\\PREDYKCJA\\videos\\las.webm: 352x640 1 no_glasses, 2 no_glovess, 6 no_helmets, 5 no_vests, 17.2ms\n",
      "video 1/4 (frame 67/227) f:\\PRACA_MAGISTERSKA\\DATASETS\\PREDYKCJA\\videos\\las.webm: 352x640 1 no_glasses, 1 no_gloves, 6 no_helmets, 6 no_vests, 17.2ms\n",
      "video 1/4 (frame 68/227) f:\\PRACA_MAGISTERSKA\\DATASETS\\PREDYKCJA\\videos\\las.webm: 352x640 1 no_glasses, 2 no_glovess, 6 no_helmets, 5 no_vests, 17.2ms\n",
      "video 1/4 (frame 69/227) f:\\PRACA_MAGISTERSKA\\DATASETS\\PREDYKCJA\\videos\\las.webm: 352x640 1 no_glasses, 2 no_glovess, 6 no_helmets, 5 no_vests, 17.2ms\n",
      "video 1/4 (frame 70/227) f:\\PRACA_MAGISTERSKA\\DATASETS\\PREDYKCJA\\videos\\las.webm: 352x640 1 no_glasses, 2 no_glovess, 6 no_helmets, 5 no_vests, 17.2ms\n",
      "video 1/4 (frame 71/227) f:\\PRACA_MAGISTERSKA\\DATASETS\\PREDYKCJA\\videos\\las.webm: 352x640 1 no_glasses, 3 no_glovess, 7 no_helmets, 5 no_vests, 17.2ms\n",
      "video 1/4 (frame 72/227) f:\\PRACA_MAGISTERSKA\\DATASETS\\PREDYKCJA\\videos\\las.webm: 352x640 1 no_glasses, 3 no_glovess, 7 no_helmets, 5 no_vests, 17.2ms\n",
      "video 1/4 (frame 73/227) f:\\PRACA_MAGISTERSKA\\DATASETS\\PREDYKCJA\\videos\\las.webm: 352x640 1 no_glasses, 3 no_glovess, 6 no_helmets, 3 no_vests, 17.2ms\n",
      "video 1/4 (frame 74/227) f:\\PRACA_MAGISTERSKA\\DATASETS\\PREDYKCJA\\videos\\las.webm: 352x640 1 no_glasses, 3 no_glovess, 6 no_helmets, 4 no_vests, 17.2ms\n",
      "video 1/4 (frame 75/227) f:\\PRACA_MAGISTERSKA\\DATASETS\\PREDYKCJA\\videos\\las.webm: 352x640 1 no_glasses, 3 no_glovess, 6 no_helmets, 4 no_vests, 17.2ms\n",
      "video 1/4 (frame 76/227) f:\\PRACA_MAGISTERSKA\\DATASETS\\PREDYKCJA\\videos\\las.webm: 352x640 1 no_glasses, 3 no_glovess, 6 no_helmets, 4 no_vests, 17.2ms\n",
      "video 1/4 (frame 77/227) f:\\PRACA_MAGISTERSKA\\DATASETS\\PREDYKCJA\\videos\\las.webm: 352x640 1 no_glasses, 3 no_glovess, 6 no_helmets, 4 no_vests, 17.2ms\n",
      "video 1/4 (frame 78/227) f:\\PRACA_MAGISTERSKA\\DATASETS\\PREDYKCJA\\videos\\las.webm: 352x640 1 no_glasses, 3 no_glovess, 6 no_helmets, 4 no_vests, 17.2ms\n",
      "video 1/4 (frame 79/227) f:\\PRACA_MAGISTERSKA\\DATASETS\\PREDYKCJA\\videos\\las.webm: 352x640 1 no_glasses, 3 no_glovess, 6 no_helmets, 4 no_vests, 17.2ms\n",
      "video 1/4 (frame 80/227) f:\\PRACA_MAGISTERSKA\\DATASETS\\PREDYKCJA\\videos\\las.webm: 352x640 1 no_glasses, 3 no_glovess, 6 no_helmets, 3 no_vests, 17.2ms\n",
      "video 1/4 (frame 81/227) f:\\PRACA_MAGISTERSKA\\DATASETS\\PREDYKCJA\\videos\\las.webm: 352x640 1 no_glasses, 3 no_glovess, 6 no_helmets, 5 no_vests, 17.2ms\n",
      "video 1/4 (frame 82/227) f:\\PRACA_MAGISTERSKA\\DATASETS\\PREDYKCJA\\videos\\las.webm: 352x640 1 no_glasses, 2 no_glovess, 6 no_helmets, 7 no_vests, 17.2ms\n",
      "video 1/4 (frame 83/227) f:\\PRACA_MAGISTERSKA\\DATASETS\\PREDYKCJA\\videos\\las.webm: 352x640 1 no_glasses, 2 no_glovess, 6 no_helmets, 6 no_vests, 17.2ms\n",
      "video 1/4 (frame 84/227) f:\\PRACA_MAGISTERSKA\\DATASETS\\PREDYKCJA\\videos\\las.webm: 352x640 1 no_glasses, 2 no_glovess, 6 no_helmets, 6 no_vests, 17.2ms\n",
      "video 1/4 (frame 85/227) f:\\PRACA_MAGISTERSKA\\DATASETS\\PREDYKCJA\\videos\\las.webm: 352x640 1 no_glasses, 3 no_glovess, 6 no_helmets, 5 no_vests, 17.2ms\n",
      "video 1/4 (frame 86/227) f:\\PRACA_MAGISTERSKA\\DATASETS\\PREDYKCJA\\videos\\las.webm: 352x640 1 no_glasses, 3 no_glovess, 6 no_helmets, 6 no_vests, 17.2ms\n",
      "video 1/4 (frame 87/227) f:\\PRACA_MAGISTERSKA\\DATASETS\\PREDYKCJA\\videos\\las.webm: 352x640 1 no_glasses, 3 no_glovess, 6 no_helmets, 6 no_vests, 17.2ms\n",
      "video 1/4 (frame 88/227) f:\\PRACA_MAGISTERSKA\\DATASETS\\PREDYKCJA\\videos\\las.webm: 352x640 1 no_glasses, 3 no_glovess, 6 no_helmets, 6 no_vests, 17.2ms\n",
      "video 1/4 (frame 89/227) f:\\PRACA_MAGISTERSKA\\DATASETS\\PREDYKCJA\\videos\\las.webm: 352x640 1 no_glasses, 2 no_glovess, 6 no_helmets, 6 no_vests, 17.2ms\n",
      "video 1/4 (frame 90/227) f:\\PRACA_MAGISTERSKA\\DATASETS\\PREDYKCJA\\videos\\las.webm: 352x640 1 no_glasses, 1 no_gloves, 6 no_helmets, 5 no_vests, 17.2ms\n",
      "video 1/4 (frame 91/227) f:\\PRACA_MAGISTERSKA\\DATASETS\\PREDYKCJA\\videos\\las.webm: 352x640 1 no_glasses, 1 no_gloves, 6 no_helmets, 5 no_vests, 17.2ms\n",
      "video 1/4 (frame 92/227) f:\\PRACA_MAGISTERSKA\\DATASETS\\PREDYKCJA\\videos\\las.webm: 352x640 1 no_glasses, 1 no_gloves, 6 no_helmets, 5 no_vests, 17.2ms\n",
      "video 1/4 (frame 93/227) f:\\PRACA_MAGISTERSKA\\DATASETS\\PREDYKCJA\\videos\\las.webm: 352x640 1 no_glasses, 1 no_gloves, 6 no_helmets, 5 no_vests, 17.2ms\n",
      "video 1/4 (frame 94/227) f:\\PRACA_MAGISTERSKA\\DATASETS\\PREDYKCJA\\videos\\las.webm: 352x640 1 no_glasses, 1 no_gloves, 6 no_helmets, 5 no_vests, 17.2ms\n",
      "video 1/4 (frame 95/227) f:\\PRACA_MAGISTERSKA\\DATASETS\\PREDYKCJA\\videos\\las.webm: 352x640 1 no_glasses, 1 no_gloves, 6 no_helmets, 4 no_vests, 17.2ms\n",
      "video 1/4 (frame 96/227) f:\\PRACA_MAGISTERSKA\\DATASETS\\PREDYKCJA\\videos\\las.webm: 352x640 1 no_glasses, 2 no_glovess, 6 no_helmets, 5 no_vests, 17.2ms\n",
      "video 1/4 (frame 97/227) f:\\PRACA_MAGISTERSKA\\DATASETS\\PREDYKCJA\\videos\\las.webm: 352x640 1 no_glasses, 2 no_glovess, 6 no_helmets, 6 no_vests, 17.2ms\n",
      "video 1/4 (frame 98/227) f:\\PRACA_MAGISTERSKA\\DATASETS\\PREDYKCJA\\videos\\las.webm: 352x640 1 no_glasses, 2 no_glovess, 6 no_helmets, 6 no_vests, 17.2ms\n",
      "video 1/4 (frame 99/227) f:\\PRACA_MAGISTERSKA\\DATASETS\\PREDYKCJA\\videos\\las.webm: 352x640 1 no_glasses, 3 no_glovess, 6 no_helmets, 6 no_vests, 17.2ms\n",
      "video 1/4 (frame 100/227) f:\\PRACA_MAGISTERSKA\\DATASETS\\PREDYKCJA\\videos\\las.webm: 352x640 1 no_glasses, 3 no_glovess, 6 no_helmets, 6 no_vests, 17.2ms\n",
      "video 1/4 (frame 101/227) f:\\PRACA_MAGISTERSKA\\DATASETS\\PREDYKCJA\\videos\\las.webm: 352x640 1 no_glasses, 2 no_glovess, 7 no_helmets, 6 no_vests, 17.2ms\n",
      "video 1/4 (frame 102/227) f:\\PRACA_MAGISTERSKA\\DATASETS\\PREDYKCJA\\videos\\las.webm: 352x640 1 no_glasses, 2 no_glovess, 6 no_helmets, 4 no_vests, 17.2ms\n",
      "video 1/4 (frame 103/227) f:\\PRACA_MAGISTERSKA\\DATASETS\\PREDYKCJA\\videos\\las.webm: 352x640 1 no_glasses, 2 no_glovess, 6 no_helmets, 5 no_vests, 17.2ms\n",
      "video 1/4 (frame 104/227) f:\\PRACA_MAGISTERSKA\\DATASETS\\PREDYKCJA\\videos\\las.webm: 352x640 1 no_glasses, 2 no_glovess, 6 no_helmets, 7 no_vests, 17.2ms\n",
      "video 1/4 (frame 105/227) f:\\PRACA_MAGISTERSKA\\DATASETS\\PREDYKCJA\\videos\\las.webm: 352x640 1 no_glasses, 1 no_gloves, 6 no_helmets, 6 no_vests, 17.2ms\n",
      "video 1/4 (frame 106/227) f:\\PRACA_MAGISTERSKA\\DATASETS\\PREDYKCJA\\videos\\las.webm: 352x640 1 no_glasses, 1 no_gloves, 6 no_helmets, 5 no_vests, 17.2ms\n",
      "video 1/4 (frame 107/227) f:\\PRACA_MAGISTERSKA\\DATASETS\\PREDYKCJA\\videos\\las.webm: 352x640 1 no_glasses, 1 no_gloves, 6 no_helmets, 6 no_vests, 17.2ms\n",
      "video 1/4 (frame 108/227) f:\\PRACA_MAGISTERSKA\\DATASETS\\PREDYKCJA\\videos\\las.webm: 352x640 1 no_glasses, 1 no_gloves, 6 no_helmets, 6 no_vests, 17.2ms\n",
      "video 1/4 (frame 109/227) f:\\PRACA_MAGISTERSKA\\DATASETS\\PREDYKCJA\\videos\\las.webm: 352x640 1 no_glasses, 1 no_gloves, 6 no_helmets, 5 no_vests, 17.2ms\n",
      "video 1/4 (frame 110/227) f:\\PRACA_MAGISTERSKA\\DATASETS\\PREDYKCJA\\videos\\las.webm: 352x640 1 no_glasses, 1 no_gloves, 5 no_helmets, 4 no_vests, 17.2ms\n",
      "video 1/4 (frame 111/227) f:\\PRACA_MAGISTERSKA\\DATASETS\\PREDYKCJA\\videos\\las.webm: 352x640 1 no_glasses, 1 no_gloves, 6 no_helmets, 5 no_vests, 17.2ms\n",
      "video 1/4 (frame 112/227) f:\\PRACA_MAGISTERSKA\\DATASETS\\PREDYKCJA\\videos\\las.webm: 352x640 1 no_glasses, 1 no_gloves, 6 no_helmets, 5 no_vests, 17.2ms\n",
      "video 1/4 (frame 113/227) f:\\PRACA_MAGISTERSKA\\DATASETS\\PREDYKCJA\\videos\\las.webm: 352x640 1 no_glasses, 2 no_glovess, 6 no_helmets, 4 no_vests, 17.2ms\n",
      "video 1/4 (frame 114/227) f:\\PRACA_MAGISTERSKA\\DATASETS\\PREDYKCJA\\videos\\las.webm: 352x640 1 no_glasses, 2 no_glovess, 5 no_helmets, 3 no_vests, 17.2ms\n",
      "video 1/4 (frame 115/227) f:\\PRACA_MAGISTERSKA\\DATASETS\\PREDYKCJA\\videos\\las.webm: 352x640 1 no_glasses, 2 no_glovess, 5 no_helmets, 4 no_vests, 17.2ms\n",
      "video 1/4 (frame 116/227) f:\\PRACA_MAGISTERSKA\\DATASETS\\PREDYKCJA\\videos\\las.webm: 352x640 1 no_glasses, 1 no_gloves, 5 no_helmets, 4 no_vests, 17.2ms\n",
      "video 1/4 (frame 117/227) f:\\PRACA_MAGISTERSKA\\DATASETS\\PREDYKCJA\\videos\\las.webm: 352x640 1 no_glasses, 1 no_gloves, 5 no_helmets, 4 no_vests, 17.2ms\n",
      "video 1/4 (frame 118/227) f:\\PRACA_MAGISTERSKA\\DATASETS\\PREDYKCJA\\videos\\las.webm: 352x640 1 no_glasses, 1 no_gloves, 5 no_helmets, 4 no_vests, 17.2ms\n",
      "video 1/4 (frame 119/227) f:\\PRACA_MAGISTERSKA\\DATASETS\\PREDYKCJA\\videos\\las.webm: 352x640 1 no_glasses, 1 no_gloves, 6 no_helmets, 4 no_vests, 17.2ms\n",
      "video 1/4 (frame 120/227) f:\\PRACA_MAGISTERSKA\\DATASETS\\PREDYKCJA\\videos\\las.webm: 352x640 1 no_glasses, 1 no_gloves, 6 no_helmets, 5 no_vests, 17.2ms\n",
      "video 1/4 (frame 121/227) f:\\PRACA_MAGISTERSKA\\DATASETS\\PREDYKCJA\\videos\\las.webm: 352x640 1 no_gloves, 6 no_helmets, 5 no_vests, 17.2ms\n",
      "video 1/4 (frame 122/227) f:\\PRACA_MAGISTERSKA\\DATASETS\\PREDYKCJA\\videos\\las.webm: 352x640 1 no_gloves, 6 no_helmets, 5 no_vests, 17.2ms\n",
      "video 1/4 (frame 123/227) f:\\PRACA_MAGISTERSKA\\DATASETS\\PREDYKCJA\\videos\\las.webm: 352x640 1 no_gloves, 6 no_helmets, 5 no_vests, 17.2ms\n",
      "video 1/4 (frame 124/227) f:\\PRACA_MAGISTERSKA\\DATASETS\\PREDYKCJA\\videos\\las.webm: 352x640 1 no_gloves, 6 no_helmets, 5 no_vests, 17.2ms\n",
      "video 1/4 (frame 125/227) f:\\PRACA_MAGISTERSKA\\DATASETS\\PREDYKCJA\\videos\\las.webm: 352x640 1 no_glasses, 1 no_gloves, 6 no_helmets, 4 no_vests, 17.2ms\n",
      "video 1/4 (frame 126/227) f:\\PRACA_MAGISTERSKA\\DATASETS\\PREDYKCJA\\videos\\las.webm: 352x640 1 no_glasses, 1 no_gloves, 6 no_helmets, 4 no_vests, 17.2ms\n",
      "video 1/4 (frame 127/227) f:\\PRACA_MAGISTERSKA\\DATASETS\\PREDYKCJA\\videos\\las.webm: 352x640 1 no_glasses, 1 no_gloves, 6 no_helmets, 4 no_vests, 17.2ms\n",
      "video 1/4 (frame 128/227) f:\\PRACA_MAGISTERSKA\\DATASETS\\PREDYKCJA\\videos\\las.webm: 352x640 1 no_glasses, 1 no_gloves, 6 no_helmets, 4 no_vests, 17.2ms\n",
      "video 1/4 (frame 129/227) f:\\PRACA_MAGISTERSKA\\DATASETS\\PREDYKCJA\\videos\\las.webm: 352x640 1 no_glasses, 2 no_glovess, 7 no_helmets, 7 no_vests, 17.3ms\n",
      "video 1/4 (frame 130/227) f:\\PRACA_MAGISTERSKA\\DATASETS\\PREDYKCJA\\videos\\las.webm: 352x640 1 no_glasses, 2 no_glovess, 7 no_helmets, 7 no_vests, 17.3ms\n",
      "video 1/4 (frame 131/227) f:\\PRACA_MAGISTERSKA\\DATASETS\\PREDYKCJA\\videos\\las.webm: 352x640 1 no_glasses, 2 no_glovess, 7 no_helmets, 6 no_vests, 17.3ms\n",
      "video 1/4 (frame 132/227) f:\\PRACA_MAGISTERSKA\\DATASETS\\PREDYKCJA\\videos\\las.webm: 352x640 1 no_glasses, 2 no_glovess, 7 no_helmets, 6 no_vests, 17.3ms\n",
      "video 1/4 (frame 133/227) f:\\PRACA_MAGISTERSKA\\DATASETS\\PREDYKCJA\\videos\\las.webm: 352x640 1 no_glasses, 2 no_glovess, 7 no_helmets, 7 no_vests, 17.3ms\n",
      "video 1/4 (frame 134/227) f:\\PRACA_MAGISTERSKA\\DATASETS\\PREDYKCJA\\videos\\las.webm: 352x640 1 no_glasses, 2 no_glovess, 6 no_helmets, 7 no_vests, 17.3ms\n",
      "video 1/4 (frame 135/227) f:\\PRACA_MAGISTERSKA\\DATASETS\\PREDYKCJA\\videos\\las.webm: 352x640 1 no_glasses, 2 no_glovess, 8 no_helmets, 5 no_vests, 17.3ms\n",
      "video 1/4 (frame 136/227) f:\\PRACA_MAGISTERSKA\\DATASETS\\PREDYKCJA\\videos\\las.webm: 352x640 1 no_glasses, 1 no_gloves, 8 no_helmets, 6 no_vests, 17.3ms\n",
      "video 1/4 (frame 137/227) f:\\PRACA_MAGISTERSKA\\DATASETS\\PREDYKCJA\\videos\\las.webm: 352x640 1 no_glasses, 2 no_glovess, 8 no_helmets, 7 no_vests, 17.3ms\n",
      "video 1/4 (frame 138/227) f:\\PRACA_MAGISTERSKA\\DATASETS\\PREDYKCJA\\videos\\las.webm: 352x640 1 no_glasses, 2 no_glovess, 7 no_helmets, 7 no_vests, 17.3ms\n",
      "video 1/4 (frame 139/227) f:\\PRACA_MAGISTERSKA\\DATASETS\\PREDYKCJA\\videos\\las.webm: 352x640 1 no_glasses, 2 no_glovess, 7 no_helmets, 8 no_vests, 17.3ms\n",
      "video 1/4 (frame 140/227) f:\\PRACA_MAGISTERSKA\\DATASETS\\PREDYKCJA\\videos\\las.webm: 352x640 1 no_glasses, 2 no_glovess, 7 no_helmets, 7 no_vests, 17.3ms\n",
      "video 1/4 (frame 141/227) f:\\PRACA_MAGISTERSKA\\DATASETS\\PREDYKCJA\\videos\\las.webm: 352x640 1 no_glasses, 2 no_glovess, 7 no_helmets, 7 no_vests, 17.3ms\n",
      "video 1/4 (frame 142/227) f:\\PRACA_MAGISTERSKA\\DATASETS\\PREDYKCJA\\videos\\las.webm: 352x640 1 no_glasses, 2 no_glovess, 7 no_helmets, 7 no_vests, 17.3ms\n",
      "video 1/4 (frame 143/227) f:\\PRACA_MAGISTERSKA\\DATASETS\\PREDYKCJA\\videos\\las.webm: 352x640 2 no_glovess, 6 no_helmets, 7 no_vests, 17.3ms\n",
      "video 1/4 (frame 144/227) f:\\PRACA_MAGISTERSKA\\DATASETS\\PREDYKCJA\\videos\\las.webm: 352x640 1 no_glasses, 2 no_glovess, 6 no_helmets, 7 no_vests, 17.3ms\n",
      "video 1/4 (frame 145/227) f:\\PRACA_MAGISTERSKA\\DATASETS\\PREDYKCJA\\videos\\las.webm: 352x640 1 no_glasses, 2 no_glovess, 5 no_helmets, 6 no_vests, 17.3ms\n",
      "video 1/4 (frame 146/227) f:\\PRACA_MAGISTERSKA\\DATASETS\\PREDYKCJA\\videos\\las.webm: 352x640 1 no_glasses, 1 no_gloves, 5 no_helmets, 6 no_vests, 17.3ms\n",
      "video 1/4 (frame 147/227) f:\\PRACA_MAGISTERSKA\\DATASETS\\PREDYKCJA\\videos\\las.webm: 352x640 1 no_glasses, 1 no_gloves, 6 no_helmets, 6 no_vests, 17.3ms\n",
      "video 1/4 (frame 148/227) f:\\PRACA_MAGISTERSKA\\DATASETS\\PREDYKCJA\\videos\\las.webm: 352x640 1 no_glasses, 1 no_gloves, 6 no_helmets, 5 no_vests, 17.3ms\n",
      "video 1/4 (frame 149/227) f:\\PRACA_MAGISTERSKA\\DATASETS\\PREDYKCJA\\videos\\las.webm: 352x640 1 no_glasses, 1 no_gloves, 6 no_helmets, 5 no_vests, 17.3ms\n",
      "video 1/4 (frame 150/227) f:\\PRACA_MAGISTERSKA\\DATASETS\\PREDYKCJA\\videos\\las.webm: 352x640 1 no_glasses, 1 no_gloves, 6 no_helmets, 5 no_vests, 17.3ms\n",
      "video 1/4 (frame 151/227) f:\\PRACA_MAGISTERSKA\\DATASETS\\PREDYKCJA\\videos\\las.webm: 352x640 1 no_glasses, 1 no_gloves, 7 no_helmets, 6 no_vests, 17.3ms\n",
      "video 1/4 (frame 152/227) f:\\PRACA_MAGISTERSKA\\DATASETS\\PREDYKCJA\\videos\\las.webm: 352x640 1 no_glasses, 1 no_gloves, 7 no_helmets, 5 no_vests, 17.3ms\n",
      "video 1/4 (frame 153/227) f:\\PRACA_MAGISTERSKA\\DATASETS\\PREDYKCJA\\videos\\las.webm: 352x640 1 no_glasses, 1 no_gloves, 6 no_helmets, 6 no_vests, 17.3ms\n",
      "video 1/4 (frame 154/227) f:\\PRACA_MAGISTERSKA\\DATASETS\\PREDYKCJA\\videos\\las.webm: 352x640 1 no_glasses, 1 no_gloves, 6 no_helmets, 6 no_vests, 17.3ms\n",
      "video 1/4 (frame 155/227) f:\\PRACA_MAGISTERSKA\\DATASETS\\PREDYKCJA\\videos\\las.webm: 352x640 1 no_glasses, 1 no_gloves, 6 no_helmets, 7 no_vests, 17.3ms\n",
      "video 1/4 (frame 156/227) f:\\PRACA_MAGISTERSKA\\DATASETS\\PREDYKCJA\\videos\\las.webm: 352x640 1 no_glasses, 1 no_gloves, 6 no_helmets, 6 no_vests, 17.3ms\n",
      "video 1/4 (frame 157/227) f:\\PRACA_MAGISTERSKA\\DATASETS\\PREDYKCJA\\videos\\las.webm: 352x640 1 no_glasses, 1 no_gloves, 6 no_helmets, 6 no_vests, 17.3ms\n",
      "video 1/4 (frame 158/227) f:\\PRACA_MAGISTERSKA\\DATASETS\\PREDYKCJA\\videos\\las.webm: 352x640 1 no_glasses, 1 no_gloves, 6 no_helmets, 7 no_vests, 17.3ms\n",
      "video 1/4 (frame 159/227) f:\\PRACA_MAGISTERSKA\\DATASETS\\PREDYKCJA\\videos\\las.webm: 352x640 1 no_glasses, 1 no_gloves, 6 no_helmets, 7 no_vests, 17.3ms\n",
      "video 1/4 (frame 160/227) f:\\PRACA_MAGISTERSKA\\DATASETS\\PREDYKCJA\\videos\\las.webm: 352x640 1 no_glasses, 1 no_gloves, 6 no_helmets, 7 no_vests, 17.3ms\n",
      "video 1/4 (frame 161/227) f:\\PRACA_MAGISTERSKA\\DATASETS\\PREDYKCJA\\videos\\las.webm: 352x640 2 no_glassess, 1 no_gloves, 6 no_helmets, 7 no_vests, 17.3ms\n",
      "video 1/4 (frame 162/227) f:\\PRACA_MAGISTERSKA\\DATASETS\\PREDYKCJA\\videos\\las.webm: 352x640 2 no_glassess, 1 no_gloves, 6 no_helmets, 7 no_vests, 17.3ms\n",
      "video 1/4 (frame 163/227) f:\\PRACA_MAGISTERSKA\\DATASETS\\PREDYKCJA\\videos\\las.webm: 352x640 1 no_glasses, 1 no_gloves, 6 no_helmets, 7 no_vests, 17.3ms\n",
      "video 1/4 (frame 164/227) f:\\PRACA_MAGISTERSKA\\DATASETS\\PREDYKCJA\\videos\\las.webm: 352x640 2 no_glassess, 1 no_gloves, 6 no_helmets, 6 no_vests, 17.3ms\n",
      "video 1/4 (frame 165/227) f:\\PRACA_MAGISTERSKA\\DATASETS\\PREDYKCJA\\videos\\las.webm: 352x640 1 no_glasses, 1 no_gloves, 6 no_helmets, 5 no_vests, 17.3ms\n",
      "video 1/4 (frame 166/227) f:\\PRACA_MAGISTERSKA\\DATASETS\\PREDYKCJA\\videos\\las.webm: 352x640 1 no_glasses, 1 no_gloves, 6 no_helmets, 7 no_vests, 17.3ms\n",
      "video 1/4 (frame 167/227) f:\\PRACA_MAGISTERSKA\\DATASETS\\PREDYKCJA\\videos\\las.webm: 352x640 1 no_glasses, 1 no_gloves, 6 no_helmets, 7 no_vests, 17.3ms\n",
      "video 1/4 (frame 168/227) f:\\PRACA_MAGISTERSKA\\DATASETS\\PREDYKCJA\\videos\\las.webm: 352x640 1 no_glasses, 1 no_gloves, 6 no_helmets, 7 no_vests, 17.3ms\n",
      "video 1/4 (frame 169/227) f:\\PRACA_MAGISTERSKA\\DATASETS\\PREDYKCJA\\videos\\las.webm: 352x640 2 no_glassess, 2 no_glovess, 6 no_helmets, 7 no_vests, 17.3ms\n",
      "video 1/4 (frame 170/227) f:\\PRACA_MAGISTERSKA\\DATASETS\\PREDYKCJA\\videos\\las.webm: 352x640 2 no_glassess, 1 no_gloves, 6 no_helmets, 6 no_vests, 17.3ms\n",
      "video 1/4 (frame 171/227) f:\\PRACA_MAGISTERSKA\\DATASETS\\PREDYKCJA\\videos\\las.webm: 352x640 2 no_glassess, 1 no_gloves, 8 no_helmets, 7 no_vests, 17.3ms\n",
      "video 1/4 (frame 172/227) f:\\PRACA_MAGISTERSKA\\DATASETS\\PREDYKCJA\\videos\\las.webm: 352x640 2 no_glassess, 1 no_gloves, 7 no_helmets, 7 no_vests, 17.3ms\n",
      "video 1/4 (frame 173/227) f:\\PRACA_MAGISTERSKA\\DATASETS\\PREDYKCJA\\videos\\las.webm: 352x640 2 no_glassess, 1 no_gloves, 5 no_helmets, 7 no_vests, 17.3ms\n",
      "video 1/4 (frame 174/227) f:\\PRACA_MAGISTERSKA\\DATASETS\\PREDYKCJA\\videos\\las.webm: 352x640 2 no_glassess, 2 no_glovess, 6 no_helmets, 6 no_vests, 17.3ms\n",
      "video 1/4 (frame 175/227) f:\\PRACA_MAGISTERSKA\\DATASETS\\PREDYKCJA\\videos\\las.webm: 352x640 2 no_glassess, 2 no_glovess, 5 no_helmets, 7 no_vests, 17.3ms\n",
      "video 1/4 (frame 176/227) f:\\PRACA_MAGISTERSKA\\DATASETS\\PREDYKCJA\\videos\\las.webm: 352x640 2 no_glassess, 2 no_glovess, 5 no_helmets, 7 no_vests, 17.3ms\n",
      "video 1/4 (frame 177/227) f:\\PRACA_MAGISTERSKA\\DATASETS\\PREDYKCJA\\videos\\las.webm: 352x640 2 no_glassess, 2 no_glovess, 6 no_helmets, 7 no_vests, 17.3ms\n",
      "video 1/4 (frame 178/227) f:\\PRACA_MAGISTERSKA\\DATASETS\\PREDYKCJA\\videos\\las.webm: 352x640 2 no_glassess, 2 no_glovess, 6 no_helmets, 7 no_vests, 17.3ms\n",
      "video 1/4 (frame 179/227) f:\\PRACA_MAGISTERSKA\\DATASETS\\PREDYKCJA\\videos\\las.webm: 352x640 2 no_glassess, 2 no_glovess, 5 no_helmets, 5 no_vests, 17.3ms\n",
      "video 1/4 (frame 180/227) f:\\PRACA_MAGISTERSKA\\DATASETS\\PREDYKCJA\\videos\\las.webm: 352x640 2 no_glassess, 2 no_glovess, 5 no_helmets, 6 no_vests, 17.3ms\n",
      "video 1/4 (frame 181/227) f:\\PRACA_MAGISTERSKA\\DATASETS\\PREDYKCJA\\videos\\las.webm: 352x640 2 no_glassess, 2 no_glovess, 5 no_helmets, 8 no_vests, 17.3ms\n",
      "video 1/4 (frame 182/227) f:\\PRACA_MAGISTERSKA\\DATASETS\\PREDYKCJA\\videos\\las.webm: 352x640 2 no_glassess, 2 no_glovess, 5 no_helmets, 7 no_vests, 17.3ms\n",
      "video 1/4 (frame 183/227) f:\\PRACA_MAGISTERSKA\\DATASETS\\PREDYKCJA\\videos\\las.webm: 352x640 2 no_glassess, 2 no_glovess, 5 no_helmets, 7 no_vests, 17.3ms\n",
      "video 1/4 (frame 184/227) f:\\PRACA_MAGISTERSKA\\DATASETS\\PREDYKCJA\\videos\\las.webm: 352x640 2 no_glassess, 2 no_glovess, 5 no_helmets, 7 no_vests, 17.3ms\n",
      "video 1/4 (frame 185/227) f:\\PRACA_MAGISTERSKA\\DATASETS\\PREDYKCJA\\videos\\las.webm: 352x640 2 no_glassess, 2 no_glovess, 5 no_helmets, 6 no_vests, 17.3ms\n",
      "video 1/4 (frame 186/227) f:\\PRACA_MAGISTERSKA\\DATASETS\\PREDYKCJA\\videos\\las.webm: 352x640 2 no_glassess, 2 no_glovess, 5 no_helmets, 7 no_vests, 17.3ms\n",
      "video 1/4 (frame 187/227) f:\\PRACA_MAGISTERSKA\\DATASETS\\PREDYKCJA\\videos\\las.webm: 352x640 2 no_glassess, 2 no_glovess, 5 no_helmets, 7 no_vests, 17.3ms\n",
      "video 1/4 (frame 188/227) f:\\PRACA_MAGISTERSKA\\DATASETS\\PREDYKCJA\\videos\\las.webm: 352x640 2 no_glassess, 2 no_glovess, 5 no_helmets, 7 no_vests, 17.3ms\n",
      "video 1/4 (frame 189/227) f:\\PRACA_MAGISTERSKA\\DATASETS\\PREDYKCJA\\videos\\las.webm: 352x640 2 no_glassess, 2 no_glovess, 5 no_helmets, 6 no_vests, 17.3ms\n",
      "video 1/4 (frame 190/227) f:\\PRACA_MAGISTERSKA\\DATASETS\\PREDYKCJA\\videos\\las.webm: 352x640 2 no_glassess, 3 no_glovess, 5 no_helmets, 6 no_vests, 17.3ms\n",
      "video 1/4 (frame 191/227) f:\\PRACA_MAGISTERSKA\\DATASETS\\PREDYKCJA\\videos\\las.webm: 352x640 2 no_glassess, 3 no_glovess, 5 no_helmets, 6 no_vests, 17.3ms\n",
      "video 1/4 (frame 192/227) f:\\PRACA_MAGISTERSKA\\DATASETS\\PREDYKCJA\\videos\\las.webm: 352x640 2 no_glassess, 2 no_glovess, 5 no_helmets, 6 no_vests, 17.3ms\n",
      "video 1/4 (frame 193/227) f:\\PRACA_MAGISTERSKA\\DATASETS\\PREDYKCJA\\videos\\las.webm: 640x640 2 no_glassess, 3 no_glovess, 5 no_helmets, 6 no_vests, 47.5ms\n",
      "video 1/4 (frame 194/227) f:\\PRACA_MAGISTERSKA\\DATASETS\\PREDYKCJA\\videos\\las.webm: 640x640 2 no_glassess, 3 no_glovess, 5 no_helmets, 6 no_vests, 47.5ms\n",
      "video 1/4 (frame 195/227) f:\\PRACA_MAGISTERSKA\\DATASETS\\PREDYKCJA\\videos\\las.webm: 640x640 1 no_glasses, 3 no_glovess, 5 no_helmets, 6 no_vests, 47.5ms\n",
      "video 1/4 (frame 196/227) f:\\PRACA_MAGISTERSKA\\DATASETS\\PREDYKCJA\\videos\\las.webm: 640x640 1 no_glasses, 3 no_glovess, 5 no_helmets, 6 no_vests, 47.5ms\n",
      "video 1/4 (frame 197/227) f:\\PRACA_MAGISTERSKA\\DATASETS\\PREDYKCJA\\videos\\las.webm: 640x640 2 no_glassess, 3 no_glovess, 5 no_helmets, 7 no_vests, 47.5ms\n",
      "video 1/4 (frame 198/227) f:\\PRACA_MAGISTERSKA\\DATASETS\\PREDYKCJA\\videos\\las.webm: 640x640 2 no_glassess, 3 no_glovess, 5 no_helmets, 6 no_vests, 47.5ms\n",
      "video 1/4 (frame 199/227) f:\\PRACA_MAGISTERSKA\\DATASETS\\PREDYKCJA\\videos\\las.webm: 640x640 2 no_glassess, 3 no_glovess, 5 no_helmets, 5 no_vests, 47.5ms\n",
      "video 1/4 (frame 200/227) f:\\PRACA_MAGISTERSKA\\DATASETS\\PREDYKCJA\\videos\\las.webm: 640x640 1 no_glasses, 3 no_glovess, 5 no_helmets, 5 no_vests, 47.5ms\n",
      "video 1/4 (frame 201/227) f:\\PRACA_MAGISTERSKA\\DATASETS\\PREDYKCJA\\videos\\las.webm: 640x640 2 no_glassess, 4 no_glovess, 5 no_helmets, 7 no_vests, 47.5ms\n",
      "video 1/4 (frame 202/227) f:\\PRACA_MAGISTERSKA\\DATASETS\\PREDYKCJA\\videos\\las.webm: 640x640 2 no_glassess, 4 no_glovess, 5 no_helmets, 7 no_vests, 47.5ms\n",
      "video 1/4 (frame 203/227) f:\\PRACA_MAGISTERSKA\\DATASETS\\PREDYKCJA\\videos\\las.webm: 640x640 2 no_glassess, 2 no_glovess, 5 no_helmets, 8 no_vests, 47.5ms\n",
      "video 1/4 (frame 204/227) f:\\PRACA_MAGISTERSKA\\DATASETS\\PREDYKCJA\\videos\\las.webm: 640x640 2 no_glassess, 2 no_glovess, 5 no_helmets, 7 no_vests, 47.5ms\n",
      "video 1/4 (frame 205/227) f:\\PRACA_MAGISTERSKA\\DATASETS\\PREDYKCJA\\videos\\las.webm: 640x640 2 no_glassess, 3 no_glovess, 5 no_helmets, 6 no_vests, 47.5ms\n",
      "video 1/4 (frame 206/227) f:\\PRACA_MAGISTERSKA\\DATASETS\\PREDYKCJA\\videos\\las.webm: 640x640 2 no_glassess, 3 no_glovess, 5 no_helmets, 6 no_vests, 47.5ms\n",
      "video 1/4 (frame 207/227) f:\\PRACA_MAGISTERSKA\\DATASETS\\PREDYKCJA\\videos\\las.webm: 640x640 2 no_glassess, 2 no_glovess, 5 no_helmets, 7 no_vests, 47.5ms\n",
      "video 1/4 (frame 208/227) f:\\PRACA_MAGISTERSKA\\DATASETS\\PREDYKCJA\\videos\\las.webm: 640x640 2 no_glassess, 2 no_glovess, 5 no_helmets, 6 no_vests, 47.5ms\n",
      "video 1/4 (frame 209/227) f:\\PRACA_MAGISTERSKA\\DATASETS\\PREDYKCJA\\videos\\las.webm: 640x640 2 no_glassess, 4 no_glovess, 5 no_helmets, 7 no_vests, 47.5ms\n",
      "video 1/4 (frame 210/227) f:\\PRACA_MAGISTERSKA\\DATASETS\\PREDYKCJA\\videos\\las.webm: 640x640 2 no_glassess, 4 no_glovess, 5 no_helmets, 7 no_vests, 47.5ms\n",
      "video 1/4 (frame 211/227) f:\\PRACA_MAGISTERSKA\\DATASETS\\PREDYKCJA\\videos\\las.webm: 640x640 2 no_glassess, 3 no_glovess, 5 no_helmets, 7 no_vests, 47.5ms\n",
      "video 1/4 (frame 212/227) f:\\PRACA_MAGISTERSKA\\DATASETS\\PREDYKCJA\\videos\\las.webm: 640x640 2 no_glassess, 3 no_glovess, 5 no_helmets, 7 no_vests, 47.5ms\n",
      "video 1/4 (frame 213/227) f:\\PRACA_MAGISTERSKA\\DATASETS\\PREDYKCJA\\videos\\las.webm: 640x640 2 no_glassess, 3 no_glovess, 5 no_helmets, 7 no_vests, 47.5ms\n",
      "video 1/4 (frame 214/227) f:\\PRACA_MAGISTERSKA\\DATASETS\\PREDYKCJA\\videos\\las.webm: 640x640 2 no_glassess, 3 no_glovess, 5 no_helmets, 7 no_vests, 47.5ms\n",
      "video 1/4 (frame 215/227) f:\\PRACA_MAGISTERSKA\\DATASETS\\PREDYKCJA\\videos\\las.webm: 640x640 2 no_glassess, 4 no_glovess, 5 no_helmets, 7 no_vests, 47.5ms\n",
      "video 1/4 (frame 216/227) f:\\PRACA_MAGISTERSKA\\DATASETS\\PREDYKCJA\\videos\\las.webm: 640x640 2 no_glassess, 3 no_glovess, 5 no_helmets, 6 no_vests, 47.5ms\n",
      "video 1/4 (frame 217/227) f:\\PRACA_MAGISTERSKA\\DATASETS\\PREDYKCJA\\videos\\las.webm: 640x640 2 no_glassess, 5 no_glovess, 5 no_helmets, 6 no_vests, 47.5ms\n",
      "video 1/4 (frame 218/227) f:\\PRACA_MAGISTERSKA\\DATASETS\\PREDYKCJA\\videos\\las.webm: 640x640 2 no_glassess, 4 no_glovess, 6 no_helmets, 5 no_vests, 47.5ms\n",
      "video 1/4 (frame 219/227) f:\\PRACA_MAGISTERSKA\\DATASETS\\PREDYKCJA\\videos\\las.webm: 640x640 2 no_glassess, 5 no_glovess, 5 no_helmets, 7 no_vests, 47.5ms\n",
      "video 1/4 (frame 220/227) f:\\PRACA_MAGISTERSKA\\DATASETS\\PREDYKCJA\\videos\\las.webm: 640x640 2 no_glassess, 5 no_glovess, 5 no_helmets, 5 no_vests, 47.5ms\n",
      "video 1/4 (frame 221/227) f:\\PRACA_MAGISTERSKA\\DATASETS\\PREDYKCJA\\videos\\las.webm: 640x640 2 no_glassess, 5 no_glovess, 5 no_helmets, 6 no_vests, 47.5ms\n",
      "video 1/4 (frame 222/227) f:\\PRACA_MAGISTERSKA\\DATASETS\\PREDYKCJA\\videos\\las.webm: 640x640 2 no_glassess, 4 no_glovess, 5 no_helmets, 6 no_vests, 47.5ms\n",
      "video 1/4 (frame 223/227) f:\\PRACA_MAGISTERSKA\\DATASETS\\PREDYKCJA\\videos\\las.webm: 640x640 1 no_glasses, 6 no_glovess, 6 no_helmets, 6 no_vests, 47.5ms\n",
      "video 1/4 (frame 224/227) f:\\PRACA_MAGISTERSKA\\DATASETS\\PREDYKCJA\\videos\\las.webm: 640x640 2 no_glassess, 5 no_glovess, 6 no_helmets, 6 no_vests, 47.5ms\n",
      "video 1/4 (frame 225/227) f:\\PRACA_MAGISTERSKA\\DATASETS\\PREDYKCJA\\videos\\las.webm: 640x640 2 no_glassess, 5 no_glovess, 6 no_helmets, 7 no_vests, 47.5ms\n",
      "video 1/4 (frame 226/227) f:\\PRACA_MAGISTERSKA\\DATASETS\\PREDYKCJA\\videos\\las.webm: 640x640 2 no_glassess, 5 no_glovess, 6 no_helmets, 7 no_vests, 47.5ms\n",
      "video 1/4 (frame 227/227) f:\\PRACA_MAGISTERSKA\\DATASETS\\PREDYKCJA\\videos\\las.webm: 640x640 2 no_glassess, 4 no_glovess, 6 no_helmets, 6 no_vests, 47.5ms\n",
      "video 2/4 (frame 1/646) f:\\PRACA_MAGISTERSKA\\DATASETS\\PREDYKCJA\\videos\\pieknie.webm: 640x640 1 no_glasses, 4 no_glovess, 2 no_vests, 47.5ms\n",
      "video 2/4 (frame 2/646) f:\\PRACA_MAGISTERSKA\\DATASETS\\PREDYKCJA\\videos\\pieknie.webm: 640x640 1 no_glasses, 4 no_glovess, 2 no_vests, 47.5ms\n",
      "video 2/4 (frame 3/646) f:\\PRACA_MAGISTERSKA\\DATASETS\\PREDYKCJA\\videos\\pieknie.webm: 640x640 1 no_glasses, 4 no_glovess, 2 no_vests, 47.5ms\n",
      "video 2/4 (frame 4/646) f:\\PRACA_MAGISTERSKA\\DATASETS\\PREDYKCJA\\videos\\pieknie.webm: 640x640 1 no_glasses, 4 no_glovess, 2 no_vests, 47.5ms\n",
      "video 2/4 (frame 5/646) f:\\PRACA_MAGISTERSKA\\DATASETS\\PREDYKCJA\\videos\\pieknie.webm: 640x640 1 no_glasses, 4 no_glovess, 2 no_vests, 47.5ms\n",
      "video 2/4 (frame 6/646) f:\\PRACA_MAGISTERSKA\\DATASETS\\PREDYKCJA\\videos\\pieknie.webm: 640x640 2 no_glassess, 4 no_glovess, 2 no_vests, 47.5ms\n",
      "video 2/4 (frame 7/646) f:\\PRACA_MAGISTERSKA\\DATASETS\\PREDYKCJA\\videos\\pieknie.webm: 640x640 1 no_glasses, 4 no_glovess, 2 no_vests, 47.5ms\n",
      "video 2/4 (frame 8/646) f:\\PRACA_MAGISTERSKA\\DATASETS\\PREDYKCJA\\videos\\pieknie.webm: 640x640 1 no_glasses, 4 no_glovess, 2 no_vests, 47.5ms\n",
      "video 2/4 (frame 9/646) f:\\PRACA_MAGISTERSKA\\DATASETS\\PREDYKCJA\\videos\\pieknie.webm: 640x640 1 no_glasses, 4 no_glovess, 2 no_vests, 47.5ms\n",
      "video 2/4 (frame 10/646) f:\\PRACA_MAGISTERSKA\\DATASETS\\PREDYKCJA\\videos\\pieknie.webm: 640x640 1 no_glasses, 4 no_glovess, 2 no_vests, 47.5ms\n",
      "video 2/4 (frame 11/646) f:\\PRACA_MAGISTERSKA\\DATASETS\\PREDYKCJA\\videos\\pieknie.webm: 640x640 1 no_glasses, 4 no_glovess, 2 no_vests, 47.5ms\n",
      "video 2/4 (frame 12/646) f:\\PRACA_MAGISTERSKA\\DATASETS\\PREDYKCJA\\videos\\pieknie.webm: 640x640 1 no_glasses, 4 no_glovess, 2 no_vests, 47.5ms\n",
      "video 2/4 (frame 13/646) f:\\PRACA_MAGISTERSKA\\DATASETS\\PREDYKCJA\\videos\\pieknie.webm: 640x640 1 no_glasses, 4 no_glovess, 2 no_vests, 47.5ms\n",
      "video 2/4 (frame 14/646) f:\\PRACA_MAGISTERSKA\\DATASETS\\PREDYKCJA\\videos\\pieknie.webm: 640x640 1 no_glasses, 4 no_glovess, 2 no_vests, 47.5ms\n",
      "video 2/4 (frame 15/646) f:\\PRACA_MAGISTERSKA\\DATASETS\\PREDYKCJA\\videos\\pieknie.webm: 640x640 1 no_glasses, 3 no_glovess, 2 no_vests, 47.5ms\n",
      "video 2/4 (frame 16/646) f:\\PRACA_MAGISTERSKA\\DATASETS\\PREDYKCJA\\videos\\pieknie.webm: 640x640 1 no_glasses, 4 no_glovess, 2 no_vests, 47.5ms\n",
      "video 2/4 (frame 17/646) f:\\PRACA_MAGISTERSKA\\DATASETS\\PREDYKCJA\\videos\\pieknie.webm: 640x640 1 no_glasses, 4 no_glovess, 2 no_vests, 47.5ms\n",
      "video 2/4 (frame 18/646) f:\\PRACA_MAGISTERSKA\\DATASETS\\PREDYKCJA\\videos\\pieknie.webm: 640x640 1 no_glasses, 4 no_glovess, 2 no_vests, 47.5ms\n",
      "video 2/4 (frame 19/646) f:\\PRACA_MAGISTERSKA\\DATASETS\\PREDYKCJA\\videos\\pieknie.webm: 640x640 1 no_glasses, 4 no_glovess, 2 no_vests, 47.5ms\n",
      "video 2/4 (frame 20/646) f:\\PRACA_MAGISTERSKA\\DATASETS\\PREDYKCJA\\videos\\pieknie.webm: 640x640 1 no_glasses, 4 no_glovess, 2 no_vests, 47.5ms\n",
      "video 2/4 (frame 21/646) f:\\PRACA_MAGISTERSKA\\DATASETS\\PREDYKCJA\\videos\\pieknie.webm: 640x640 1 no_glasses, 4 no_glovess, 2 no_vests, 47.5ms\n",
      "video 2/4 (frame 22/646) f:\\PRACA_MAGISTERSKA\\DATASETS\\PREDYKCJA\\videos\\pieknie.webm: 640x640 1 no_glasses, 5 no_glovess, 2 no_vests, 47.5ms\n",
      "video 2/4 (frame 23/646) f:\\PRACA_MAGISTERSKA\\DATASETS\\PREDYKCJA\\videos\\pieknie.webm: 640x640 1 no_glasses, 4 no_glovess, 2 no_vests, 47.5ms\n",
      "video 2/4 (frame 24/646) f:\\PRACA_MAGISTERSKA\\DATASETS\\PREDYKCJA\\videos\\pieknie.webm: 640x640 1 no_glasses, 4 no_glovess, 2 no_vests, 47.5ms\n",
      "video 2/4 (frame 25/646) f:\\PRACA_MAGISTERSKA\\DATASETS\\PREDYKCJA\\videos\\pieknie.webm: 640x640 1 no_glasses, 4 no_glovess, 2 no_vests, 47.5ms\n",
      "video 2/4 (frame 26/646) f:\\PRACA_MAGISTERSKA\\DATASETS\\PREDYKCJA\\videos\\pieknie.webm: 640x640 1 no_glasses, 4 no_glovess, 2 no_vests, 47.5ms\n",
      "video 2/4 (frame 27/646) f:\\PRACA_MAGISTERSKA\\DATASETS\\PREDYKCJA\\videos\\pieknie.webm: 640x640 1 no_glasses, 5 no_glovess, 2 no_vests, 47.5ms\n",
      "video 2/4 (frame 28/646) f:\\PRACA_MAGISTERSKA\\DATASETS\\PREDYKCJA\\videos\\pieknie.webm: 640x640 1 no_glasses, 3 no_glovess, 2 no_vests, 47.5ms\n",
      "video 2/4 (frame 29/646) f:\\PRACA_MAGISTERSKA\\DATASETS\\PREDYKCJA\\videos\\pieknie.webm: 640x640 1 no_glasses, 4 no_glovess, 2 no_vests, 47.5ms\n",
      "video 2/4 (frame 30/646) f:\\PRACA_MAGISTERSKA\\DATASETS\\PREDYKCJA\\videos\\pieknie.webm: 384x640 1 no_glasses, 4 no_glovess, 2 no_vests, 18.8ms\n",
      "video 2/4 (frame 31/646) f:\\PRACA_MAGISTERSKA\\DATASETS\\PREDYKCJA\\videos\\pieknie.webm: 384x640 1 no_glasses, 3 no_glovess, 2 no_vests, 18.8ms\n",
      "video 2/4 (frame 32/646) f:\\PRACA_MAGISTERSKA\\DATASETS\\PREDYKCJA\\videos\\pieknie.webm: 384x640 1 no_glasses, 4 no_glovess, 2 no_vests, 18.8ms\n",
      "video 2/4 (frame 33/646) f:\\PRACA_MAGISTERSKA\\DATASETS\\PREDYKCJA\\videos\\pieknie.webm: 384x640 2 no_glassess, 4 no_glovess, 2 no_vests, 18.8ms\n",
      "video 2/4 (frame 34/646) f:\\PRACA_MAGISTERSKA\\DATASETS\\PREDYKCJA\\videos\\pieknie.webm: 384x640 1 no_glasses, 4 no_glovess, 2 no_vests, 18.8ms\n",
      "video 2/4 (frame 35/646) f:\\PRACA_MAGISTERSKA\\DATASETS\\PREDYKCJA\\videos\\pieknie.webm: 384x640 1 no_glasses, 4 no_glovess, 2 no_vests, 18.8ms\n",
      "video 2/4 (frame 36/646) f:\\PRACA_MAGISTERSKA\\DATASETS\\PREDYKCJA\\videos\\pieknie.webm: 384x640 1 no_glasses, 3 no_glovess, 2 no_vests, 18.8ms\n",
      "video 2/4 (frame 37/646) f:\\PRACA_MAGISTERSKA\\DATASETS\\PREDYKCJA\\videos\\pieknie.webm: 384x640 1 no_glasses, 4 no_glovess, 2 no_vests, 18.8ms\n",
      "video 2/4 (frame 38/646) f:\\PRACA_MAGISTERSKA\\DATASETS\\PREDYKCJA\\videos\\pieknie.webm: 384x640 1 no_glasses, 4 no_glovess, 2 no_vests, 18.8ms\n",
      "video 2/4 (frame 39/646) f:\\PRACA_MAGISTERSKA\\DATASETS\\PREDYKCJA\\videos\\pieknie.webm: 384x640 1 no_glasses, 4 no_glovess, 2 no_vests, 18.8ms\n",
      "video 2/4 (frame 40/646) f:\\PRACA_MAGISTERSKA\\DATASETS\\PREDYKCJA\\videos\\pieknie.webm: 384x640 1 no_glasses, 4 no_glovess, 2 no_vests, 18.8ms\n",
      "video 2/4 (frame 41/646) f:\\PRACA_MAGISTERSKA\\DATASETS\\PREDYKCJA\\videos\\pieknie.webm: 384x640 1 no_glasses, 4 no_glovess, 2 no_vests, 18.8ms\n",
      "video 2/4 (frame 42/646) f:\\PRACA_MAGISTERSKA\\DATASETS\\PREDYKCJA\\videos\\pieknie.webm: 384x640 1 no_glasses, 4 no_glovess, 2 no_vests, 18.8ms\n",
      "video 2/4 (frame 43/646) f:\\PRACA_MAGISTERSKA\\DATASETS\\PREDYKCJA\\videos\\pieknie.webm: 384x640 1 no_glasses, 4 no_glovess, 2 no_vests, 18.8ms\n",
      "video 2/4 (frame 44/646) f:\\PRACA_MAGISTERSKA\\DATASETS\\PREDYKCJA\\videos\\pieknie.webm: 384x640 1 no_glasses, 4 no_glovess, 2 no_vests, 18.8ms\n",
      "video 2/4 (frame 45/646) f:\\PRACA_MAGISTERSKA\\DATASETS\\PREDYKCJA\\videos\\pieknie.webm: 384x640 1 no_glasses, 4 no_glovess, 2 no_vests, 18.8ms\n",
      "video 2/4 (frame 46/646) f:\\PRACA_MAGISTERSKA\\DATASETS\\PREDYKCJA\\videos\\pieknie.webm: 384x640 1 no_glasses, 3 no_glovess, 2 no_vests, 18.8ms\n",
      "video 2/4 (frame 47/646) f:\\PRACA_MAGISTERSKA\\DATASETS\\PREDYKCJA\\videos\\pieknie.webm: 384x640 1 no_glasses, 4 no_glovess, 2 no_vests, 18.8ms\n",
      "video 2/4 (frame 48/646) f:\\PRACA_MAGISTERSKA\\DATASETS\\PREDYKCJA\\videos\\pieknie.webm: 384x640 1 no_glasses, 4 no_glovess, 2 no_vests, 18.8ms\n",
      "video 2/4 (frame 49/646) f:\\PRACA_MAGISTERSKA\\DATASETS\\PREDYKCJA\\videos\\pieknie.webm: 384x640 1 no_glasses, 4 no_glovess, 2 no_vests, 18.8ms\n",
      "video 2/4 (frame 50/646) f:\\PRACA_MAGISTERSKA\\DATASETS\\PREDYKCJA\\videos\\pieknie.webm: 384x640 1 no_glasses, 4 no_glovess, 2 no_vests, 18.8ms\n",
      "video 2/4 (frame 51/646) f:\\PRACA_MAGISTERSKA\\DATASETS\\PREDYKCJA\\videos\\pieknie.webm: 384x640 2 no_glassess, 4 no_glovess, 2 no_vests, 18.8ms\n",
      "video 2/4 (frame 52/646) f:\\PRACA_MAGISTERSKA\\DATASETS\\PREDYKCJA\\videos\\pieknie.webm: 384x640 2 no_glassess, 4 no_glovess, 2 no_vests, 18.8ms\n",
      "video 2/4 (frame 53/646) f:\\PRACA_MAGISTERSKA\\DATASETS\\PREDYKCJA\\videos\\pieknie.webm: 384x640 2 no_glassess, 4 no_glovess, 2 no_vests, 18.8ms\n",
      "video 2/4 (frame 54/646) f:\\PRACA_MAGISTERSKA\\DATASETS\\PREDYKCJA\\videos\\pieknie.webm: 384x640 1 no_glasses, 4 no_glovess, 2 no_vests, 18.8ms\n",
      "video 2/4 (frame 55/646) f:\\PRACA_MAGISTERSKA\\DATASETS\\PREDYKCJA\\videos\\pieknie.webm: 384x640 1 no_glasses, 4 no_glovess, 2 no_vests, 18.8ms\n",
      "video 2/4 (frame 56/646) f:\\PRACA_MAGISTERSKA\\DATASETS\\PREDYKCJA\\videos\\pieknie.webm: 384x640 1 no_glasses, 4 no_glovess, 2 no_vests, 18.8ms\n",
      "video 2/4 (frame 57/646) f:\\PRACA_MAGISTERSKA\\DATASETS\\PREDYKCJA\\videos\\pieknie.webm: 384x640 1 no_glasses, 4 no_glovess, 2 no_vests, 18.8ms\n",
      "video 2/4 (frame 58/646) f:\\PRACA_MAGISTERSKA\\DATASETS\\PREDYKCJA\\videos\\pieknie.webm: 384x640 1 no_glasses, 4 no_glovess, 2 no_vests, 18.8ms\n",
      "video 2/4 (frame 59/646) f:\\PRACA_MAGISTERSKA\\DATASETS\\PREDYKCJA\\videos\\pieknie.webm: 384x640 1 no_glasses, 4 no_glovess, 2 no_vests, 18.8ms\n",
      "video 2/4 (frame 60/646) f:\\PRACA_MAGISTERSKA\\DATASETS\\PREDYKCJA\\videos\\pieknie.webm: 384x640 1 no_glasses, 4 no_glovess, 2 no_vests, 18.8ms\n",
      "video 2/4 (frame 61/646) f:\\PRACA_MAGISTERSKA\\DATASETS\\PREDYKCJA\\videos\\pieknie.webm: 384x640 1 no_glasses, 4 no_glovess, 2 no_vests, 18.8ms\n",
      "video 2/4 (frame 62/646) f:\\PRACA_MAGISTERSKA\\DATASETS\\PREDYKCJA\\videos\\pieknie.webm: 384x640 1 no_glasses, 4 no_glovess, 2 no_vests, 18.8ms\n",
      "video 2/4 (frame 63/646) f:\\PRACA_MAGISTERSKA\\DATASETS\\PREDYKCJA\\videos\\pieknie.webm: 384x640 1 no_glasses, 4 no_glovess, 2 no_vests, 18.8ms\n",
      "video 2/4 (frame 64/646) f:\\PRACA_MAGISTERSKA\\DATASETS\\PREDYKCJA\\videos\\pieknie.webm: 384x640 1 no_glasses, 4 no_glovess, 2 no_vests, 18.8ms\n",
      "video 2/4 (frame 65/646) f:\\PRACA_MAGISTERSKA\\DATASETS\\PREDYKCJA\\videos\\pieknie.webm: 384x640 1 no_glasses, 4 no_glovess, 2 no_vests, 18.8ms\n",
      "video 2/4 (frame 66/646) f:\\PRACA_MAGISTERSKA\\DATASETS\\PREDYKCJA\\videos\\pieknie.webm: 384x640 1 no_glasses, 4 no_glovess, 2 no_vests, 18.8ms\n",
      "video 2/4 (frame 67/646) f:\\PRACA_MAGISTERSKA\\DATASETS\\PREDYKCJA\\videos\\pieknie.webm: 384x640 1 no_glasses, 4 no_glovess, 2 no_vests, 18.8ms\n",
      "video 2/4 (frame 68/646) f:\\PRACA_MAGISTERSKA\\DATASETS\\PREDYKCJA\\videos\\pieknie.webm: 384x640 1 no_glasses, 4 no_glovess, 2 no_vests, 18.8ms\n",
      "video 2/4 (frame 69/646) f:\\PRACA_MAGISTERSKA\\DATASETS\\PREDYKCJA\\videos\\pieknie.webm: 384x640 1 no_glasses, 4 no_glovess, 2 no_vests, 18.8ms\n",
      "video 2/4 (frame 70/646) f:\\PRACA_MAGISTERSKA\\DATASETS\\PREDYKCJA\\videos\\pieknie.webm: 384x640 1 no_glasses, 4 no_glovess, 2 no_vests, 18.8ms\n",
      "video 2/4 (frame 71/646) f:\\PRACA_MAGISTERSKA\\DATASETS\\PREDYKCJA\\videos\\pieknie.webm: 384x640 1 no_glasses, 4 no_glovess, 2 no_vests, 18.8ms\n",
      "video 2/4 (frame 72/646) f:\\PRACA_MAGISTERSKA\\DATASETS\\PREDYKCJA\\videos\\pieknie.webm: 384x640 1 no_glasses, 4 no_glovess, 2 no_vests, 18.8ms\n",
      "video 2/4 (frame 73/646) f:\\PRACA_MAGISTERSKA\\DATASETS\\PREDYKCJA\\videos\\pieknie.webm: 384x640 1 no_glasses, 4 no_glovess, 2 no_vests, 18.8ms\n",
      "video 2/4 (frame 74/646) f:\\PRACA_MAGISTERSKA\\DATASETS\\PREDYKCJA\\videos\\pieknie.webm: 384x640 1 no_glasses, 3 no_glovess, 2 no_vests, 18.8ms\n",
      "video 2/4 (frame 75/646) f:\\PRACA_MAGISTERSKA\\DATASETS\\PREDYKCJA\\videos\\pieknie.webm: 384x640 1 no_glasses, 3 no_glovess, 2 no_vests, 18.8ms\n",
      "video 2/4 (frame 76/646) f:\\PRACA_MAGISTERSKA\\DATASETS\\PREDYKCJA\\videos\\pieknie.webm: 384x640 1 no_glasses, 4 no_glovess, 2 no_vests, 18.8ms\n",
      "video 2/4 (frame 77/646) f:\\PRACA_MAGISTERSKA\\DATASETS\\PREDYKCJA\\videos\\pieknie.webm: 384x640 1 no_glasses, 4 no_glovess, 2 no_vests, 18.8ms\n",
      "video 2/4 (frame 78/646) f:\\PRACA_MAGISTERSKA\\DATASETS\\PREDYKCJA\\videos\\pieknie.webm: 384x640 1 no_glasses, 4 no_glovess, 2 no_vests, 18.8ms\n",
      "video 2/4 (frame 79/646) f:\\PRACA_MAGISTERSKA\\DATASETS\\PREDYKCJA\\videos\\pieknie.webm: 384x640 1 no_glasses, 5 no_glovess, 2 no_vests, 18.8ms\n",
      "video 2/4 (frame 80/646) f:\\PRACA_MAGISTERSKA\\DATASETS\\PREDYKCJA\\videos\\pieknie.webm: 384x640 1 no_glasses, 4 no_glovess, 2 no_vests, 18.8ms\n",
      "video 2/4 (frame 81/646) f:\\PRACA_MAGISTERSKA\\DATASETS\\PREDYKCJA\\videos\\pieknie.webm: 384x640 1 no_glasses, 4 no_glovess, 2 no_vests, 18.8ms\n",
      "video 2/4 (frame 82/646) f:\\PRACA_MAGISTERSKA\\DATASETS\\PREDYKCJA\\videos\\pieknie.webm: 384x640 1 no_glasses, 4 no_glovess, 2 no_vests, 18.8ms\n",
      "video 2/4 (frame 83/646) f:\\PRACA_MAGISTERSKA\\DATASETS\\PREDYKCJA\\videos\\pieknie.webm: 384x640 1 no_glasses, 4 no_glovess, 2 no_vests, 18.8ms\n",
      "video 2/4 (frame 84/646) f:\\PRACA_MAGISTERSKA\\DATASETS\\PREDYKCJA\\videos\\pieknie.webm: 384x640 2 no_glassess, 4 no_glovess, 2 no_vests, 18.8ms\n",
      "video 2/4 (frame 85/646) f:\\PRACA_MAGISTERSKA\\DATASETS\\PREDYKCJA\\videos\\pieknie.webm: 384x640 1 no_glasses, 4 no_glovess, 2 no_vests, 18.8ms\n",
      "video 2/4 (frame 86/646) f:\\PRACA_MAGISTERSKA\\DATASETS\\PREDYKCJA\\videos\\pieknie.webm: 384x640 1 no_glasses, 4 no_glovess, 2 no_vests, 18.8ms\n",
      "video 2/4 (frame 87/646) f:\\PRACA_MAGISTERSKA\\DATASETS\\PREDYKCJA\\videos\\pieknie.webm: 384x640 1 no_glasses, 4 no_glovess, 2 no_vests, 18.8ms\n",
      "video 2/4 (frame 88/646) f:\\PRACA_MAGISTERSKA\\DATASETS\\PREDYKCJA\\videos\\pieknie.webm: 384x640 1 no_glasses, 4 no_glovess, 2 no_vests, 18.8ms\n",
      "video 2/4 (frame 89/646) f:\\PRACA_MAGISTERSKA\\DATASETS\\PREDYKCJA\\videos\\pieknie.webm: 384x640 1 no_glasses, 3 no_glovess, 2 no_vests, 18.8ms\n",
      "video 2/4 (frame 90/646) f:\\PRACA_MAGISTERSKA\\DATASETS\\PREDYKCJA\\videos\\pieknie.webm: 384x640 1 no_glasses, 3 no_glovess, 2 no_vests, 18.8ms\n",
      "video 2/4 (frame 91/646) f:\\PRACA_MAGISTERSKA\\DATASETS\\PREDYKCJA\\videos\\pieknie.webm: 384x640 1 no_glasses, 4 no_glovess, 2 no_vests, 18.8ms\n",
      "video 2/4 (frame 92/646) f:\\PRACA_MAGISTERSKA\\DATASETS\\PREDYKCJA\\videos\\pieknie.webm: 384x640 2 no_glassess, 4 no_glovess, 2 no_vests, 18.8ms\n",
      "video 2/4 (frame 93/646) f:\\PRACA_MAGISTERSKA\\DATASETS\\PREDYKCJA\\videos\\pieknie.webm: 384x640 1 no_glasses, 4 no_glovess, 2 no_vests, 18.8ms\n",
      "video 2/4 (frame 94/646) f:\\PRACA_MAGISTERSKA\\DATASETS\\PREDYKCJA\\videos\\pieknie.webm: 384x640 1 no_glasses, 4 no_glovess, 2 no_vests, 18.7ms\n",
      "video 2/4 (frame 95/646) f:\\PRACA_MAGISTERSKA\\DATASETS\\PREDYKCJA\\videos\\pieknie.webm: 384x640 1 no_glasses, 4 no_glovess, 2 no_vests, 18.7ms\n",
      "video 2/4 (frame 96/646) f:\\PRACA_MAGISTERSKA\\DATASETS\\PREDYKCJA\\videos\\pieknie.webm: 384x640 1 no_glasses, 4 no_glovess, 2 no_vests, 18.7ms\n",
      "video 2/4 (frame 97/646) f:\\PRACA_MAGISTERSKA\\DATASETS\\PREDYKCJA\\videos\\pieknie.webm: 384x640 1 no_glasses, 3 no_glovess, 2 no_vests, 18.7ms\n",
      "video 2/4 (frame 98/646) f:\\PRACA_MAGISTERSKA\\DATASETS\\PREDYKCJA\\videos\\pieknie.webm: 384x640 1 no_glasses, 3 no_glovess, 2 no_vests, 18.7ms\n",
      "video 2/4 (frame 99/646) f:\\PRACA_MAGISTERSKA\\DATASETS\\PREDYKCJA\\videos\\pieknie.webm: 384x640 1 no_glasses, 3 no_glovess, 2 no_vests, 18.7ms\n",
      "video 2/4 (frame 100/646) f:\\PRACA_MAGISTERSKA\\DATASETS\\PREDYKCJA\\videos\\pieknie.webm: 384x640 1 no_glasses, 3 no_glovess, 2 no_vests, 18.7ms\n",
      "video 2/4 (frame 101/646) f:\\PRACA_MAGISTERSKA\\DATASETS\\PREDYKCJA\\videos\\pieknie.webm: 384x640 2 no_glassess, 3 no_glovess, 2 no_vests, 18.7ms\n",
      "video 2/4 (frame 102/646) f:\\PRACA_MAGISTERSKA\\DATASETS\\PREDYKCJA\\videos\\pieknie.webm: 384x640 2 no_glassess, 4 no_glovess, 2 no_vests, 18.7ms\n",
      "video 2/4 (frame 103/646) f:\\PRACA_MAGISTERSKA\\DATASETS\\PREDYKCJA\\videos\\pieknie.webm: 384x640 3 no_glassess, 4 no_glovess, 2 no_vests, 18.7ms\n",
      "video 2/4 (frame 104/646) f:\\PRACA_MAGISTERSKA\\DATASETS\\PREDYKCJA\\videos\\pieknie.webm: 384x640 2 no_glassess, 5 no_glovess, 2 no_vests, 18.7ms\n",
      "video 2/4 (frame 105/646) f:\\PRACA_MAGISTERSKA\\DATASETS\\PREDYKCJA\\videos\\pieknie.webm: 384x640 2 no_glassess, 4 no_glovess, 2 no_vests, 18.7ms\n",
      "video 2/4 (frame 106/646) f:\\PRACA_MAGISTERSKA\\DATASETS\\PREDYKCJA\\videos\\pieknie.webm: 384x640 1 no_glasses, 4 no_glovess, 2 no_vests, 18.7ms\n",
      "video 2/4 (frame 107/646) f:\\PRACA_MAGISTERSKA\\DATASETS\\PREDYKCJA\\videos\\pieknie.webm: 384x640 1 no_glasses, 4 no_glovess, 1 no_vest, 18.7ms\n",
      "video 2/4 (frame 108/646) f:\\PRACA_MAGISTERSKA\\DATASETS\\PREDYKCJA\\videos\\pieknie.webm: 384x640 1 no_glasses, 4 no_glovess, 2 no_vests, 18.7ms\n",
      "video 2/4 (frame 109/646) f:\\PRACA_MAGISTERSKA\\DATASETS\\PREDYKCJA\\videos\\pieknie.webm: 384x640 1 no_glasses, 3 no_glovess, 2 no_vests, 18.7ms\n",
      "video 2/4 (frame 110/646) f:\\PRACA_MAGISTERSKA\\DATASETS\\PREDYKCJA\\videos\\pieknie.webm: 384x640 1 no_glasses, 3 no_glovess, 2 no_vests, 18.7ms\n",
      "video 2/4 (frame 111/646) f:\\PRACA_MAGISTERSKA\\DATASETS\\PREDYKCJA\\videos\\pieknie.webm: 384x640 1 no_glasses, 4 no_glovess, 2 no_vests, 18.7ms\n",
      "video 2/4 (frame 112/646) f:\\PRACA_MAGISTERSKA\\DATASETS\\PREDYKCJA\\videos\\pieknie.webm: 384x640 1 no_glasses, 4 no_glovess, 2 no_vests, 18.7ms\n",
      "video 2/4 (frame 113/646) f:\\PRACA_MAGISTERSKA\\DATASETS\\PREDYKCJA\\videos\\pieknie.webm: 384x640 1 no_glasses, 3 no_glovess, 3 no_vests, 18.7ms\n",
      "video 2/4 (frame 114/646) f:\\PRACA_MAGISTERSKA\\DATASETS\\PREDYKCJA\\videos\\pieknie.webm: 384x640 2 no_glassess, 3 no_glovess, 3 no_vests, 18.7ms\n",
      "video 2/4 (frame 115/646) f:\\PRACA_MAGISTERSKA\\DATASETS\\PREDYKCJA\\videos\\pieknie.webm: 384x640 2 no_glassess, 3 no_glovess, 2 no_vests, 18.7ms\n",
      "video 2/4 (frame 116/646) f:\\PRACA_MAGISTERSKA\\DATASETS\\PREDYKCJA\\videos\\pieknie.webm: 384x640 2 no_glassess, 3 no_glovess, 3 no_vests, 18.7ms\n",
      "video 2/4 (frame 117/646) f:\\PRACA_MAGISTERSKA\\DATASETS\\PREDYKCJA\\videos\\pieknie.webm: 384x640 1 no_glasses, 3 no_glovess, 2 no_vests, 18.7ms\n",
      "video 2/4 (frame 118/646) f:\\PRACA_MAGISTERSKA\\DATASETS\\PREDYKCJA\\videos\\pieknie.webm: 384x640 2 no_glassess, 3 no_glovess, 2 no_vests, 18.7ms\n",
      "video 2/4 (frame 119/646) f:\\PRACA_MAGISTERSKA\\DATASETS\\PREDYKCJA\\videos\\pieknie.webm: 384x640 2 no_glassess, 3 no_glovess, 2 no_vests, 18.7ms\n",
      "video 2/4 (frame 120/646) f:\\PRACA_MAGISTERSKA\\DATASETS\\PREDYKCJA\\videos\\pieknie.webm: 384x640 1 no_glasses, 2 no_glovess, 2 no_vests, 18.7ms\n",
      "video 2/4 (frame 121/646) f:\\PRACA_MAGISTERSKA\\DATASETS\\PREDYKCJA\\videos\\pieknie.webm: 384x640 1 no_glasses, 2 no_glovess, 3 no_vests, 18.7ms\n",
      "video 2/4 (frame 122/646) f:\\PRACA_MAGISTERSKA\\DATASETS\\PREDYKCJA\\videos\\pieknie.webm: 384x640 2 no_glassess, 2 no_glovess, 2 no_vests, 18.7ms\n",
      "video 2/4 (frame 123/646) f:\\PRACA_MAGISTERSKA\\DATASETS\\PREDYKCJA\\videos\\pieknie.webm: 384x640 2 no_glassess, 3 no_glovess, 2 no_vests, 18.7ms\n",
      "video 2/4 (frame 124/646) f:\\PRACA_MAGISTERSKA\\DATASETS\\PREDYKCJA\\videos\\pieknie.webm: 384x640 2 no_glassess, 2 no_glovess, 2 no_vests, 18.7ms\n",
      "video 2/4 (frame 125/646) f:\\PRACA_MAGISTERSKA\\DATASETS\\PREDYKCJA\\videos\\pieknie.webm: 384x640 1 no_glasses, 2 no_glovess, 2 no_vests, 18.7ms\n",
      "video 2/4 (frame 126/646) f:\\PRACA_MAGISTERSKA\\DATASETS\\PREDYKCJA\\videos\\pieknie.webm: 384x640 2 no_glassess, 2 no_glovess, 2 no_vests, 18.7ms\n",
      "video 2/4 (frame 127/646) f:\\PRACA_MAGISTERSKA\\DATASETS\\PREDYKCJA\\videos\\pieknie.webm: 384x640 2 no_glassess, 3 no_glovess, 2 no_vests, 18.7ms\n",
      "video 2/4 (frame 128/646) f:\\PRACA_MAGISTERSKA\\DATASETS\\PREDYKCJA\\videos\\pieknie.webm: 384x640 1 no_glasses, 2 no_glovess, 2 no_vests, 18.7ms\n",
      "video 2/4 (frame 129/646) f:\\PRACA_MAGISTERSKA\\DATASETS\\PREDYKCJA\\videos\\pieknie.webm: 384x640 1 no_glasses, 5 no_glovess, 2 no_vests, 18.7ms\n",
      "video 2/4 (frame 130/646) f:\\PRACA_MAGISTERSKA\\DATASETS\\PREDYKCJA\\videos\\pieknie.webm: 384x640 1 no_glasses, 4 no_glovess, 2 no_vests, 18.7ms\n",
      "video 2/4 (frame 131/646) f:\\PRACA_MAGISTERSKA\\DATASETS\\PREDYKCJA\\videos\\pieknie.webm: 384x640 2 no_glassess, 4 no_glovess, 2 no_vests, 18.7ms\n",
      "video 2/4 (frame 132/646) f:\\PRACA_MAGISTERSKA\\DATASETS\\PREDYKCJA\\videos\\pieknie.webm: 384x640 2 no_glassess, 4 no_glovess, 2 no_vests, 18.7ms\n",
      "video 2/4 (frame 133/646) f:\\PRACA_MAGISTERSKA\\DATASETS\\PREDYKCJA\\videos\\pieknie.webm: 384x640 1 no_glasses, 4 no_glovess, 2 no_vests, 18.7ms\n",
      "video 2/4 (frame 134/646) f:\\PRACA_MAGISTERSKA\\DATASETS\\PREDYKCJA\\videos\\pieknie.webm: 384x640 1 no_glasses, 4 no_glovess, 2 no_vests, 18.7ms\n",
      "video 2/4 (frame 135/646) f:\\PRACA_MAGISTERSKA\\DATASETS\\PREDYKCJA\\videos\\pieknie.webm: 384x640 2 no_glassess, 4 no_glovess, 2 no_vests, 18.7ms\n",
      "video 2/4 (frame 136/646) f:\\PRACA_MAGISTERSKA\\DATASETS\\PREDYKCJA\\videos\\pieknie.webm: 384x640 1 no_glasses, 4 no_glovess, 2 no_vests, 18.7ms\n",
      "video 2/4 (frame 137/646) f:\\PRACA_MAGISTERSKA\\DATASETS\\PREDYKCJA\\videos\\pieknie.webm: 384x640 2 no_glassess, 4 no_glovess, 2 no_vests, 18.7ms\n",
      "video 2/4 (frame 138/646) f:\\PRACA_MAGISTERSKA\\DATASETS\\PREDYKCJA\\videos\\pieknie.webm: 384x640 1 no_glasses, 4 no_glovess, 2 no_vests, 18.7ms\n",
      "video 2/4 (frame 139/646) f:\\PRACA_MAGISTERSKA\\DATASETS\\PREDYKCJA\\videos\\pieknie.webm: 384x640 1 no_glasses, 5 no_glovess, 2 no_vests, 18.7ms\n",
      "video 2/4 (frame 140/646) f:\\PRACA_MAGISTERSKA\\DATASETS\\PREDYKCJA\\videos\\pieknie.webm: 384x640 1 no_glasses, 4 no_glovess, 2 no_vests, 18.7ms\n",
      "video 2/4 (frame 141/646) f:\\PRACA_MAGISTERSKA\\DATASETS\\PREDYKCJA\\videos\\pieknie.webm: 384x640 1 no_glasses, 4 no_glovess, 2 no_vests, 18.7ms\n",
      "video 2/4 (frame 142/646) f:\\PRACA_MAGISTERSKA\\DATASETS\\PREDYKCJA\\videos\\pieknie.webm: 384x640 1 no_glasses, 4 no_glovess, 2 no_vests, 18.7ms\n",
      "video 2/4 (frame 143/646) f:\\PRACA_MAGISTERSKA\\DATASETS\\PREDYKCJA\\videos\\pieknie.webm: 384x640 1 no_glasses, 4 no_glovess, 2 no_vests, 18.7ms\n",
      "video 2/4 (frame 144/646) f:\\PRACA_MAGISTERSKA\\DATASETS\\PREDYKCJA\\videos\\pieknie.webm: 384x640 1 no_glasses, 4 no_glovess, 2 no_vests, 18.7ms\n",
      "video 2/4 (frame 145/646) f:\\PRACA_MAGISTERSKA\\DATASETS\\PREDYKCJA\\videos\\pieknie.webm: 384x640 1 no_glasses, 4 no_glovess, 2 no_vests, 18.7ms\n",
      "video 2/4 (frame 146/646) f:\\PRACA_MAGISTERSKA\\DATASETS\\PREDYKCJA\\videos\\pieknie.webm: 384x640 1 no_glasses, 4 no_glovess, 2 no_vests, 18.7ms\n",
      "video 2/4 (frame 147/646) f:\\PRACA_MAGISTERSKA\\DATASETS\\PREDYKCJA\\videos\\pieknie.webm: 384x640 2 no_glassess, 4 no_glovess, 2 no_vests, 18.7ms\n",
      "video 2/4 (frame 148/646) f:\\PRACA_MAGISTERSKA\\DATASETS\\PREDYKCJA\\videos\\pieknie.webm: 384x640 2 no_glassess, 4 no_glovess, 2 no_vests, 18.7ms\n",
      "video 2/4 (frame 149/646) f:\\PRACA_MAGISTERSKA\\DATASETS\\PREDYKCJA\\videos\\pieknie.webm: 384x640 2 no_glassess, 4 no_glovess, 2 no_vests, 18.7ms\n",
      "video 2/4 (frame 150/646) f:\\PRACA_MAGISTERSKA\\DATASETS\\PREDYKCJA\\videos\\pieknie.webm: 384x640 2 no_glassess, 4 no_glovess, 2 no_vests, 18.7ms\n",
      "video 2/4 (frame 151/646) f:\\PRACA_MAGISTERSKA\\DATASETS\\PREDYKCJA\\videos\\pieknie.webm: 384x640 1 no_glasses, 4 no_glovess, 2 no_vests, 18.7ms\n",
      "video 2/4 (frame 152/646) f:\\PRACA_MAGISTERSKA\\DATASETS\\PREDYKCJA\\videos\\pieknie.webm: 384x640 1 no_glasses, 4 no_glovess, 2 no_vests, 18.7ms\n",
      "video 2/4 (frame 153/646) f:\\PRACA_MAGISTERSKA\\DATASETS\\PREDYKCJA\\videos\\pieknie.webm: 384x640 2 no_glassess, 4 no_glovess, 2 no_vests, 18.7ms\n",
      "video 2/4 (frame 154/646) f:\\PRACA_MAGISTERSKA\\DATASETS\\PREDYKCJA\\videos\\pieknie.webm: 384x640 2 no_glassess, 4 no_glovess, 2 no_vests, 18.7ms\n",
      "video 2/4 (frame 155/646) f:\\PRACA_MAGISTERSKA\\DATASETS\\PREDYKCJA\\videos\\pieknie.webm: 384x640 1 no_glasses, 4 no_glovess, 2 no_vests, 18.7ms\n",
      "video 2/4 (frame 156/646) f:\\PRACA_MAGISTERSKA\\DATASETS\\PREDYKCJA\\videos\\pieknie.webm: 384x640 2 no_glassess, 4 no_glovess, 2 no_vests, 18.7ms\n",
      "video 2/4 (frame 157/646) f:\\PRACA_MAGISTERSKA\\DATASETS\\PREDYKCJA\\videos\\pieknie.webm: 384x640 2 no_glassess, 4 no_glovess, 2 no_vests, 18.7ms\n",
      "video 2/4 (frame 158/646) f:\\PRACA_MAGISTERSKA\\DATASETS\\PREDYKCJA\\videos\\pieknie.webm: 384x640 2 no_glassess, 4 no_glovess, 2 no_vests, 18.6ms\n",
      "video 2/4 (frame 159/646) f:\\PRACA_MAGISTERSKA\\DATASETS\\PREDYKCJA\\videos\\pieknie.webm: 384x640 1 no_glasses, 4 no_glovess, 2 no_vests, 18.6ms\n",
      "video 2/4 (frame 160/646) f:\\PRACA_MAGISTERSKA\\DATASETS\\PREDYKCJA\\videos\\pieknie.webm: 384x640 2 no_glassess, 4 no_glovess, 2 no_vests, 18.6ms\n",
      "video 2/4 (frame 161/646) f:\\PRACA_MAGISTERSKA\\DATASETS\\PREDYKCJA\\videos\\pieknie.webm: 384x640 3 no_glassess, 4 no_glovess, 2 no_vests, 18.6ms\n",
      "video 2/4 (frame 162/646) f:\\PRACA_MAGISTERSKA\\DATASETS\\PREDYKCJA\\videos\\pieknie.webm: 384x640 2 no_glassess, 4 no_glovess, 2 no_vests, 18.6ms\n",
      "video 2/4 (frame 163/646) f:\\PRACA_MAGISTERSKA\\DATASETS\\PREDYKCJA\\videos\\pieknie.webm: 384x640 2 no_glassess, 4 no_glovess, 2 no_vests, 18.6ms\n",
      "video 2/4 (frame 164/646) f:\\PRACA_MAGISTERSKA\\DATASETS\\PREDYKCJA\\videos\\pieknie.webm: 384x640 2 no_glassess, 4 no_glovess, 2 no_vests, 18.6ms\n",
      "video 2/4 (frame 165/646) f:\\PRACA_MAGISTERSKA\\DATASETS\\PREDYKCJA\\videos\\pieknie.webm: 384x640 1 no_glasses, 4 no_glovess, 2 no_vests, 18.6ms\n",
      "video 2/4 (frame 166/646) f:\\PRACA_MAGISTERSKA\\DATASETS\\PREDYKCJA\\videos\\pieknie.webm: 384x640 1 no_glasses, 4 no_glovess, 2 no_vests, 18.6ms\n",
      "video 2/4 (frame 167/646) f:\\PRACA_MAGISTERSKA\\DATASETS\\PREDYKCJA\\videos\\pieknie.webm: 384x640 1 no_glasses, 4 no_glovess, 2 no_vests, 18.6ms\n",
      "video 2/4 (frame 168/646) f:\\PRACA_MAGISTERSKA\\DATASETS\\PREDYKCJA\\videos\\pieknie.webm: 384x640 2 no_glassess, 4 no_glovess, 2 no_vests, 18.6ms\n",
      "video 2/4 (frame 169/646) f:\\PRACA_MAGISTERSKA\\DATASETS\\PREDYKCJA\\videos\\pieknie.webm: 384x640 2 no_glassess, 4 no_glovess, 2 no_vests, 18.6ms\n",
      "video 2/4 (frame 170/646) f:\\PRACA_MAGISTERSKA\\DATASETS\\PREDYKCJA\\videos\\pieknie.webm: 384x640 1 no_glasses, 4 no_glovess, 2 no_vests, 18.6ms\n",
      "video 2/4 (frame 171/646) f:\\PRACA_MAGISTERSKA\\DATASETS\\PREDYKCJA\\videos\\pieknie.webm: 384x640 1 no_glasses, 4 no_glovess, 2 no_vests, 18.6ms\n",
      "video 2/4 (frame 172/646) f:\\PRACA_MAGISTERSKA\\DATASETS\\PREDYKCJA\\videos\\pieknie.webm: 384x640 1 no_glasses, 4 no_glovess, 2 no_vests, 18.6ms\n",
      "video 2/4 (frame 173/646) f:\\PRACA_MAGISTERSKA\\DATASETS\\PREDYKCJA\\videos\\pieknie.webm: 384x640 1 no_glasses, 4 no_glovess, 2 no_vests, 18.6ms\n",
      "video 2/4 (frame 174/646) f:\\PRACA_MAGISTERSKA\\DATASETS\\PREDYKCJA\\videos\\pieknie.webm: 384x640 1 no_glasses, 4 no_glovess, 2 no_vests, 18.6ms\n",
      "video 2/4 (frame 175/646) f:\\PRACA_MAGISTERSKA\\DATASETS\\PREDYKCJA\\videos\\pieknie.webm: 384x640 2 no_glassess, 4 no_glovess, 2 no_vests, 18.6ms\n",
      "video 2/4 (frame 176/646) f:\\PRACA_MAGISTERSKA\\DATASETS\\PREDYKCJA\\videos\\pieknie.webm: 384x640 2 no_glassess, 4 no_glovess, 2 no_vests, 18.6ms\n",
      "video 2/4 (frame 177/646) f:\\PRACA_MAGISTERSKA\\DATASETS\\PREDYKCJA\\videos\\pieknie.webm: 384x640 2 no_glassess, 4 no_glovess, 2 no_vests, 18.6ms\n",
      "video 2/4 (frame 178/646) f:\\PRACA_MAGISTERSKA\\DATASETS\\PREDYKCJA\\videos\\pieknie.webm: 384x640 1 no_glasses, 4 no_glovess, 2 no_vests, 18.6ms\n",
      "video 2/4 (frame 179/646) f:\\PRACA_MAGISTERSKA\\DATASETS\\PREDYKCJA\\videos\\pieknie.webm: 384x640 1 no_glasses, 5 no_glovess, 2 no_vests, 18.6ms\n",
      "video 2/4 (frame 180/646) f:\\PRACA_MAGISTERSKA\\DATASETS\\PREDYKCJA\\videos\\pieknie.webm: 384x640 1 no_glasses, 4 no_glovess, 2 no_vests, 18.6ms\n",
      "video 2/4 (frame 181/646) f:\\PRACA_MAGISTERSKA\\DATASETS\\PREDYKCJA\\videos\\pieknie.webm: 384x640 1 no_glasses, 4 no_glovess, 2 no_vests, 18.6ms\n",
      "video 2/4 (frame 182/646) f:\\PRACA_MAGISTERSKA\\DATASETS\\PREDYKCJA\\videos\\pieknie.webm: 384x640 1 no_glasses, 5 no_glovess, 2 no_vests, 18.6ms\n",
      "video 2/4 (frame 183/646) f:\\PRACA_MAGISTERSKA\\DATASETS\\PREDYKCJA\\videos\\pieknie.webm: 384x640 1 no_glasses, 4 no_glovess, 2 no_vests, 18.6ms\n",
      "video 2/4 (frame 184/646) f:\\PRACA_MAGISTERSKA\\DATASETS\\PREDYKCJA\\videos\\pieknie.webm: 384x640 1 no_glasses, 4 no_glovess, 2 no_vests, 18.6ms\n",
      "video 2/4 (frame 185/646) f:\\PRACA_MAGISTERSKA\\DATASETS\\PREDYKCJA\\videos\\pieknie.webm: 384x640 2 no_glassess, 5 no_glovess, 2 no_vests, 18.6ms\n",
      "video 2/4 (frame 186/646) f:\\PRACA_MAGISTERSKA\\DATASETS\\PREDYKCJA\\videos\\pieknie.webm: 384x640 1 no_glasses, 4 no_glovess, 2 no_vests, 18.6ms\n",
      "video 2/4 (frame 187/646) f:\\PRACA_MAGISTERSKA\\DATASETS\\PREDYKCJA\\videos\\pieknie.webm: 384x640 1 no_glasses, 4 no_glovess, 2 no_vests, 18.6ms\n",
      "video 2/4 (frame 188/646) f:\\PRACA_MAGISTERSKA\\DATASETS\\PREDYKCJA\\videos\\pieknie.webm: 384x640 1 no_glasses, 4 no_glovess, 2 no_vests, 18.6ms\n",
      "video 2/4 (frame 189/646) f:\\PRACA_MAGISTERSKA\\DATASETS\\PREDYKCJA\\videos\\pieknie.webm: 384x640 1 no_glasses, 4 no_glovess, 2 no_vests, 18.6ms\n",
      "video 2/4 (frame 190/646) f:\\PRACA_MAGISTERSKA\\DATASETS\\PREDYKCJA\\videos\\pieknie.webm: 384x640 1 no_glasses, 4 no_glovess, 2 no_vests, 18.6ms\n",
      "video 2/4 (frame 191/646) f:\\PRACA_MAGISTERSKA\\DATASETS\\PREDYKCJA\\videos\\pieknie.webm: 384x640 1 no_glasses, 4 no_glovess, 2 no_vests, 18.6ms\n",
      "video 2/4 (frame 192/646) f:\\PRACA_MAGISTERSKA\\DATASETS\\PREDYKCJA\\videos\\pieknie.webm: 384x640 1 no_glasses, 4 no_glovess, 2 no_vests, 18.6ms\n",
      "video 2/4 (frame 193/646) f:\\PRACA_MAGISTERSKA\\DATASETS\\PREDYKCJA\\videos\\pieknie.webm: 384x640 1 no_glasses, 4 no_glovess, 2 no_vests, 18.6ms\n",
      "video 2/4 (frame 194/646) f:\\PRACA_MAGISTERSKA\\DATASETS\\PREDYKCJA\\videos\\pieknie.webm: 384x640 1 no_glasses, 4 no_glovess, 2 no_vests, 18.6ms\n",
      "video 2/4 (frame 195/646) f:\\PRACA_MAGISTERSKA\\DATASETS\\PREDYKCJA\\videos\\pieknie.webm: 384x640 2 no_glassess, 3 no_glovess, 2 no_vests, 18.6ms\n",
      "video 2/4 (frame 196/646) f:\\PRACA_MAGISTERSKA\\DATASETS\\PREDYKCJA\\videos\\pieknie.webm: 384x640 2 no_glassess, 4 no_glovess, 2 no_vests, 18.6ms\n",
      "video 2/4 (frame 197/646) f:\\PRACA_MAGISTERSKA\\DATASETS\\PREDYKCJA\\videos\\pieknie.webm: 384x640 2 no_glassess, 5 no_glovess, 2 no_vests, 18.6ms\n",
      "video 2/4 (frame 198/646) f:\\PRACA_MAGISTERSKA\\DATASETS\\PREDYKCJA\\videos\\pieknie.webm: 384x640 2 no_glassess, 4 no_glovess, 2 no_vests, 18.6ms\n",
      "video 2/4 (frame 199/646) f:\\PRACA_MAGISTERSKA\\DATASETS\\PREDYKCJA\\videos\\pieknie.webm: 384x640 1 no_glasses, 4 no_glovess, 2 no_vests, 18.6ms\n",
      "video 2/4 (frame 200/646) f:\\PRACA_MAGISTERSKA\\DATASETS\\PREDYKCJA\\videos\\pieknie.webm: 384x640 2 no_glassess, 4 no_glovess, 2 no_vests, 18.6ms\n",
      "video 2/4 (frame 201/646) f:\\PRACA_MAGISTERSKA\\DATASETS\\PREDYKCJA\\videos\\pieknie.webm: 384x640 1 no_glasses, 4 no_glovess, 2 no_vests, 18.6ms\n",
      "video 2/4 (frame 202/646) f:\\PRACA_MAGISTERSKA\\DATASETS\\PREDYKCJA\\videos\\pieknie.webm: 384x640 1 no_glasses, 4 no_glovess, 2 no_vests, 18.6ms\n",
      "video 2/4 (frame 203/646) f:\\PRACA_MAGISTERSKA\\DATASETS\\PREDYKCJA\\videos\\pieknie.webm: 384x640 1 no_glasses, 4 no_glovess, 2 no_vests, 18.6ms\n",
      "video 2/4 (frame 204/646) f:\\PRACA_MAGISTERSKA\\DATASETS\\PREDYKCJA\\videos\\pieknie.webm: 384x640 1 no_glasses, 5 no_glovess, 2 no_vests, 18.6ms\n",
      "video 2/4 (frame 205/646) f:\\PRACA_MAGISTERSKA\\DATASETS\\PREDYKCJA\\videos\\pieknie.webm: 384x640 1 no_glasses, 4 no_glovess, 2 no_vests, 18.6ms\n",
      "video 2/4 (frame 206/646) f:\\PRACA_MAGISTERSKA\\DATASETS\\PREDYKCJA\\videos\\pieknie.webm: 384x640 1 no_glasses, 4 no_glovess, 2 no_vests, 18.6ms\n",
      "video 2/4 (frame 207/646) f:\\PRACA_MAGISTERSKA\\DATASETS\\PREDYKCJA\\videos\\pieknie.webm: 384x640 2 no_glassess, 4 no_glovess, 2 no_vests, 18.6ms\n",
      "video 2/4 (frame 208/646) f:\\PRACA_MAGISTERSKA\\DATASETS\\PREDYKCJA\\videos\\pieknie.webm: 384x640 2 no_glassess, 4 no_glovess, 2 no_vests, 18.6ms\n",
      "video 2/4 (frame 209/646) f:\\PRACA_MAGISTERSKA\\DATASETS\\PREDYKCJA\\videos\\pieknie.webm: 384x640 1 no_glasses, 4 no_glovess, 2 no_vests, 18.6ms\n",
      "video 2/4 (frame 210/646) f:\\PRACA_MAGISTERSKA\\DATASETS\\PREDYKCJA\\videos\\pieknie.webm: 384x640 1 no_glasses, 4 no_glovess, 2 no_vests, 18.6ms\n",
      "video 2/4 (frame 211/646) f:\\PRACA_MAGISTERSKA\\DATASETS\\PREDYKCJA\\videos\\pieknie.webm: 384x640 2 no_glassess, 4 no_glovess, 2 no_vests, 18.6ms\n",
      "video 2/4 (frame 212/646) f:\\PRACA_MAGISTERSKA\\DATASETS\\PREDYKCJA\\videos\\pieknie.webm: 384x640 1 no_glasses, 4 no_glovess, 2 no_vests, 18.6ms\n",
      "video 2/4 (frame 213/646) f:\\PRACA_MAGISTERSKA\\DATASETS\\PREDYKCJA\\videos\\pieknie.webm: 384x640 1 no_glasses, 4 no_glovess, 2 no_vests, 18.6ms\n",
      "video 2/4 (frame 214/646) f:\\PRACA_MAGISTERSKA\\DATASETS\\PREDYKCJA\\videos\\pieknie.webm: 384x640 2 no_glassess, 4 no_glovess, 2 no_vests, 18.6ms\n",
      "video 2/4 (frame 215/646) f:\\PRACA_MAGISTERSKA\\DATASETS\\PREDYKCJA\\videos\\pieknie.webm: 384x640 1 no_glasses, 4 no_glovess, 2 no_vests, 18.6ms\n",
      "video 2/4 (frame 216/646) f:\\PRACA_MAGISTERSKA\\DATASETS\\PREDYKCJA\\videos\\pieknie.webm: 384x640 3 no_glassess, 4 no_glovess, 2 no_vests, 18.6ms\n",
      "video 2/4 (frame 217/646) f:\\PRACA_MAGISTERSKA\\DATASETS\\PREDYKCJA\\videos\\pieknie.webm: 384x640 2 no_glassess, 4 no_glovess, 2 no_vests, 18.6ms\n",
      "video 2/4 (frame 218/646) f:\\PRACA_MAGISTERSKA\\DATASETS\\PREDYKCJA\\videos\\pieknie.webm: 384x640 1 no_glasses, 4 no_glovess, 2 no_vests, 18.6ms\n",
      "video 2/4 (frame 219/646) f:\\PRACA_MAGISTERSKA\\DATASETS\\PREDYKCJA\\videos\\pieknie.webm: 384x640 2 no_glassess, 4 no_glovess, 2 no_vests, 18.6ms\n",
      "video 2/4 (frame 220/646) f:\\PRACA_MAGISTERSKA\\DATASETS\\PREDYKCJA\\videos\\pieknie.webm: 384x640 1 no_glasses, 4 no_glovess, 2 no_vests, 18.6ms\n",
      "video 2/4 (frame 221/646) f:\\PRACA_MAGISTERSKA\\DATASETS\\PREDYKCJA\\videos\\pieknie.webm: 384x640 1 no_glasses, 4 no_glovess, 2 no_vests, 18.6ms\n",
      "video 2/4 (frame 222/646) f:\\PRACA_MAGISTERSKA\\DATASETS\\PREDYKCJA\\videos\\pieknie.webm: 384x640 1 no_glasses, 4 no_glovess, 2 no_vests, 18.7ms\n",
      "video 2/4 (frame 223/646) f:\\PRACA_MAGISTERSKA\\DATASETS\\PREDYKCJA\\videos\\pieknie.webm: 384x640 1 no_glasses, 4 no_glovess, 2 no_vests, 18.7ms\n",
      "video 2/4 (frame 224/646) f:\\PRACA_MAGISTERSKA\\DATASETS\\PREDYKCJA\\videos\\pieknie.webm: 384x640 1 no_glasses, 4 no_glovess, 2 no_vests, 18.7ms\n",
      "video 2/4 (frame 225/646) f:\\PRACA_MAGISTERSKA\\DATASETS\\PREDYKCJA\\videos\\pieknie.webm: 384x640 1 no_glasses, 4 no_glovess, 2 no_vests, 18.7ms\n",
      "video 2/4 (frame 226/646) f:\\PRACA_MAGISTERSKA\\DATASETS\\PREDYKCJA\\videos\\pieknie.webm: 384x640 1 no_glasses, 4 no_glovess, 2 no_vests, 18.7ms\n",
      "video 2/4 (frame 227/646) f:\\PRACA_MAGISTERSKA\\DATASETS\\PREDYKCJA\\videos\\pieknie.webm: 384x640 1 no_glasses, 5 no_glovess, 2 no_vests, 18.7ms\n",
      "video 2/4 (frame 228/646) f:\\PRACA_MAGISTERSKA\\DATASETS\\PREDYKCJA\\videos\\pieknie.webm: 384x640 1 no_glasses, 3 no_glovess, 2 no_vests, 18.7ms\n",
      "video 2/4 (frame 229/646) f:\\PRACA_MAGISTERSKA\\DATASETS\\PREDYKCJA\\videos\\pieknie.webm: 384x640 4 no_glovess, 2 no_vests, 18.7ms\n",
      "video 2/4 (frame 230/646) f:\\PRACA_MAGISTERSKA\\DATASETS\\PREDYKCJA\\videos\\pieknie.webm: 384x640 1 no_glasses, 4 no_glovess, 2 no_vests, 18.7ms\n",
      "video 2/4 (frame 231/646) f:\\PRACA_MAGISTERSKA\\DATASETS\\PREDYKCJA\\videos\\pieknie.webm: 384x640 1 no_glasses, 4 no_glovess, 2 no_vests, 18.7ms\n",
      "video 2/4 (frame 232/646) f:\\PRACA_MAGISTERSKA\\DATASETS\\PREDYKCJA\\videos\\pieknie.webm: 384x640 4 no_glovess, 2 no_vests, 18.7ms\n",
      "video 2/4 (frame 233/646) f:\\PRACA_MAGISTERSKA\\DATASETS\\PREDYKCJA\\videos\\pieknie.webm: 384x640 1 no_glasses, 4 no_glovess, 2 no_vests, 18.7ms\n",
      "video 2/4 (frame 234/646) f:\\PRACA_MAGISTERSKA\\DATASETS\\PREDYKCJA\\videos\\pieknie.webm: 384x640 1 no_glasses, 4 no_glovess, 2 no_vests, 18.7ms\n",
      "video 2/4 (frame 235/646) f:\\PRACA_MAGISTERSKA\\DATASETS\\PREDYKCJA\\videos\\pieknie.webm: 384x640 2 no_glassess, 4 no_glovess, 2 no_vests, 18.7ms\n",
      "video 2/4 (frame 236/646) f:\\PRACA_MAGISTERSKA\\DATASETS\\PREDYKCJA\\videos\\pieknie.webm: 384x640 2 no_glassess, 4 no_glovess, 2 no_vests, 18.7ms\n",
      "video 2/4 (frame 237/646) f:\\PRACA_MAGISTERSKA\\DATASETS\\PREDYKCJA\\videos\\pieknie.webm: 384x640 2 no_glassess, 4 no_glovess, 2 no_vests, 18.7ms\n",
      "video 2/4 (frame 238/646) f:\\PRACA_MAGISTERSKA\\DATASETS\\PREDYKCJA\\videos\\pieknie.webm: 384x640 2 no_glassess, 4 no_glovess, 2 no_vests, 18.7ms\n",
      "video 2/4 (frame 239/646) f:\\PRACA_MAGISTERSKA\\DATASETS\\PREDYKCJA\\videos\\pieknie.webm: 384x640 1 no_glasses, 4 no_glovess, 2 no_vests, 18.7ms\n",
      "video 2/4 (frame 240/646) f:\\PRACA_MAGISTERSKA\\DATASETS\\PREDYKCJA\\videos\\pieknie.webm: 384x640 1 no_glasses, 4 no_glovess, 2 no_vests, 18.7ms\n",
      "video 2/4 (frame 241/646) f:\\PRACA_MAGISTERSKA\\DATASETS\\PREDYKCJA\\videos\\pieknie.webm: 384x640 2 no_glassess, 4 no_glovess, 2 no_vests, 18.7ms\n",
      "video 2/4 (frame 242/646) f:\\PRACA_MAGISTERSKA\\DATASETS\\PREDYKCJA\\videos\\pieknie.webm: 384x640 2 no_glassess, 4 no_glovess, 2 no_vests, 18.7ms\n",
      "video 2/4 (frame 243/646) f:\\PRACA_MAGISTERSKA\\DATASETS\\PREDYKCJA\\videos\\pieknie.webm: 384x640 2 no_glassess, 4 no_glovess, 2 no_vests, 18.7ms\n",
      "video 2/4 (frame 244/646) f:\\PRACA_MAGISTERSKA\\DATASETS\\PREDYKCJA\\videos\\pieknie.webm: 384x640 1 no_glasses, 5 no_glovess, 2 no_vests, 18.7ms\n",
      "video 2/4 (frame 245/646) f:\\PRACA_MAGISTERSKA\\DATASETS\\PREDYKCJA\\videos\\pieknie.webm: 384x640 2 no_glassess, 4 no_glovess, 2 no_vests, 18.7ms\n",
      "video 2/4 (frame 246/646) f:\\PRACA_MAGISTERSKA\\DATASETS\\PREDYKCJA\\videos\\pieknie.webm: 384x640 2 no_glassess, 4 no_glovess, 2 no_vests, 18.7ms\n",
      "video 2/4 (frame 247/646) f:\\PRACA_MAGISTERSKA\\DATASETS\\PREDYKCJA\\videos\\pieknie.webm: 384x640 1 no_glasses, 4 no_glovess, 2 no_vests, 18.7ms\n",
      "video 2/4 (frame 248/646) f:\\PRACA_MAGISTERSKA\\DATASETS\\PREDYKCJA\\videos\\pieknie.webm: 384x640 1 no_glasses, 4 no_glovess, 2 no_vests, 18.7ms\n",
      "video 2/4 (frame 249/646) f:\\PRACA_MAGISTERSKA\\DATASETS\\PREDYKCJA\\videos\\pieknie.webm: 384x640 1 no_glasses, 4 no_glovess, 2 no_vests, 18.7ms\n",
      "video 2/4 (frame 250/646) f:\\PRACA_MAGISTERSKA\\DATASETS\\PREDYKCJA\\videos\\pieknie.webm: 384x640 2 no_glassess, 4 no_glovess, 2 no_vests, 18.7ms\n",
      "video 2/4 (frame 251/646) f:\\PRACA_MAGISTERSKA\\DATASETS\\PREDYKCJA\\videos\\pieknie.webm: 384x640 1 no_glasses, 4 no_glovess, 2 no_vests, 18.7ms\n",
      "video 2/4 (frame 252/646) f:\\PRACA_MAGISTERSKA\\DATASETS\\PREDYKCJA\\videos\\pieknie.webm: 384x640 1 no_glasses, 4 no_glovess, 2 no_vests, 18.7ms\n",
      "video 2/4 (frame 253/646) f:\\PRACA_MAGISTERSKA\\DATASETS\\PREDYKCJA\\videos\\pieknie.webm: 384x640 1 no_glasses, 4 no_glovess, 2 no_vests, 18.7ms\n",
      "video 2/4 (frame 254/646) f:\\PRACA_MAGISTERSKA\\DATASETS\\PREDYKCJA\\videos\\pieknie.webm: 384x640 1 no_glasses, 4 no_glovess, 2 no_vests, 18.7ms\n",
      "video 2/4 (frame 255/646) f:\\PRACA_MAGISTERSKA\\DATASETS\\PREDYKCJA\\videos\\pieknie.webm: 384x640 1 no_glasses, 4 no_glovess, 2 no_vests, 18.7ms\n",
      "video 2/4 (frame 256/646) f:\\PRACA_MAGISTERSKA\\DATASETS\\PREDYKCJA\\videos\\pieknie.webm: 384x640 1 no_glasses, 4 no_glovess, 2 no_vests, 18.7ms\n",
      "video 2/4 (frame 257/646) f:\\PRACA_MAGISTERSKA\\DATASETS\\PREDYKCJA\\videos\\pieknie.webm: 384x640 2 no_glassess, 4 no_glovess, 2 no_vests, 18.7ms\n",
      "video 2/4 (frame 258/646) f:\\PRACA_MAGISTERSKA\\DATASETS\\PREDYKCJA\\videos\\pieknie.webm: 384x640 1 no_glasses, 4 no_glovess, 2 no_vests, 18.7ms\n",
      "video 2/4 (frame 259/646) f:\\PRACA_MAGISTERSKA\\DATASETS\\PREDYKCJA\\videos\\pieknie.webm: 384x640 1 no_glasses, 4 no_glovess, 2 no_vests, 18.7ms\n",
      "video 2/4 (frame 260/646) f:\\PRACA_MAGISTERSKA\\DATASETS\\PREDYKCJA\\videos\\pieknie.webm: 384x640 1 no_glasses, 4 no_glovess, 2 no_vests, 18.7ms\n",
      "video 2/4 (frame 261/646) f:\\PRACA_MAGISTERSKA\\DATASETS\\PREDYKCJA\\videos\\pieknie.webm: 384x640 1 no_glasses, 4 no_glovess, 2 no_vests, 18.7ms\n",
      "video 2/4 (frame 262/646) f:\\PRACA_MAGISTERSKA\\DATASETS\\PREDYKCJA\\videos\\pieknie.webm: 384x640 1 no_glasses, 4 no_glovess, 2 no_vests, 18.7ms\n",
      "video 2/4 (frame 263/646) f:\\PRACA_MAGISTERSKA\\DATASETS\\PREDYKCJA\\videos\\pieknie.webm: 384x640 1 no_glasses, 4 no_glovess, 2 no_vests, 18.7ms\n",
      "video 2/4 (frame 264/646) f:\\PRACA_MAGISTERSKA\\DATASETS\\PREDYKCJA\\videos\\pieknie.webm: 384x640 1 no_glasses, 5 no_glovess, 2 no_vests, 18.7ms\n",
      "video 2/4 (frame 265/646) f:\\PRACA_MAGISTERSKA\\DATASETS\\PREDYKCJA\\videos\\pieknie.webm: 384x640 1 no_glasses, 4 no_glovess, 2 no_vests, 18.7ms\n",
      "video 2/4 (frame 266/646) f:\\PRACA_MAGISTERSKA\\DATASETS\\PREDYKCJA\\videos\\pieknie.webm: 384x640 2 no_glassess, 4 no_glovess, 2 no_vests, 18.7ms\n",
      "video 2/4 (frame 267/646) f:\\PRACA_MAGISTERSKA\\DATASETS\\PREDYKCJA\\videos\\pieknie.webm: 384x640 2 no_glassess, 4 no_glovess, 2 no_vests, 18.7ms\n",
      "video 2/4 (frame 268/646) f:\\PRACA_MAGISTERSKA\\DATASETS\\PREDYKCJA\\videos\\pieknie.webm: 384x640 2 no_glassess, 4 no_glovess, 2 no_vests, 18.7ms\n",
      "video 2/4 (frame 269/646) f:\\PRACA_MAGISTERSKA\\DATASETS\\PREDYKCJA\\videos\\pieknie.webm: 384x640 2 no_glassess, 4 no_glovess, 2 no_vests, 18.7ms\n",
      "video 2/4 (frame 270/646) f:\\PRACA_MAGISTERSKA\\DATASETS\\PREDYKCJA\\videos\\pieknie.webm: 384x640 2 no_glassess, 4 no_glovess, 2 no_vests, 18.7ms\n",
      "video 2/4 (frame 271/646) f:\\PRACA_MAGISTERSKA\\DATASETS\\PREDYKCJA\\videos\\pieknie.webm: 384x640 3 no_glassess, 4 no_glovess, 2 no_vests, 18.7ms\n",
      "video 2/4 (frame 272/646) f:\\PRACA_MAGISTERSKA\\DATASETS\\PREDYKCJA\\videos\\pieknie.webm: 384x640 2 no_glassess, 4 no_glovess, 2 no_vests, 18.7ms\n",
      "video 2/4 (frame 273/646) f:\\PRACA_MAGISTERSKA\\DATASETS\\PREDYKCJA\\videos\\pieknie.webm: 384x640 1 no_glasses, 4 no_glovess, 2 no_vests, 18.7ms\n",
      "video 2/4 (frame 274/646) f:\\PRACA_MAGISTERSKA\\DATASETS\\PREDYKCJA\\videos\\pieknie.webm: 384x640 1 no_glasses, 4 no_glovess, 2 no_vests, 18.7ms\n",
      "video 2/4 (frame 275/646) f:\\PRACA_MAGISTERSKA\\DATASETS\\PREDYKCJA\\videos\\pieknie.webm: 384x640 2 no_glassess, 4 no_glovess, 2 no_vests, 18.7ms\n",
      "video 2/4 (frame 276/646) f:\\PRACA_MAGISTERSKA\\DATASETS\\PREDYKCJA\\videos\\pieknie.webm: 384x640 2 no_glassess, 4 no_glovess, 2 no_vests, 18.7ms\n",
      "video 2/4 (frame 277/646) f:\\PRACA_MAGISTERSKA\\DATASETS\\PREDYKCJA\\videos\\pieknie.webm: 384x640 2 no_glassess, 4 no_glovess, 2 no_vests, 18.7ms\n",
      "video 2/4 (frame 278/646) f:\\PRACA_MAGISTERSKA\\DATASETS\\PREDYKCJA\\videos\\pieknie.webm: 384x640 1 no_glasses, 4 no_glovess, 2 no_vests, 18.7ms\n",
      "video 2/4 (frame 279/646) f:\\PRACA_MAGISTERSKA\\DATASETS\\PREDYKCJA\\videos\\pieknie.webm: 384x640 1 no_glasses, 4 no_glovess, 2 no_vests, 18.7ms\n",
      "video 2/4 (frame 280/646) f:\\PRACA_MAGISTERSKA\\DATASETS\\PREDYKCJA\\videos\\pieknie.webm: 384x640 1 no_glasses, 4 no_glovess, 2 no_vests, 18.7ms\n",
      "video 2/4 (frame 281/646) f:\\PRACA_MAGISTERSKA\\DATASETS\\PREDYKCJA\\videos\\pieknie.webm: 384x640 1 no_glasses, 4 no_glovess, 2 no_vests, 18.7ms\n",
      "video 2/4 (frame 282/646) f:\\PRACA_MAGISTERSKA\\DATASETS\\PREDYKCJA\\videos\\pieknie.webm: 384x640 1 no_glasses, 4 no_glovess, 2 no_vests, 18.7ms\n",
      "video 2/4 (frame 283/646) f:\\PRACA_MAGISTERSKA\\DATASETS\\PREDYKCJA\\videos\\pieknie.webm: 384x640 1 no_glasses, 4 no_glovess, 2 no_vests, 18.7ms\n",
      "video 2/4 (frame 284/646) f:\\PRACA_MAGISTERSKA\\DATASETS\\PREDYKCJA\\videos\\pieknie.webm: 384x640 1 no_glasses, 4 no_glovess, 2 no_vests, 18.7ms\n",
      "video 2/4 (frame 285/646) f:\\PRACA_MAGISTERSKA\\DATASETS\\PREDYKCJA\\videos\\pieknie.webm: 384x640 1 no_glasses, 4 no_glovess, 2 no_vests, 18.7ms\n",
      "video 2/4 (frame 286/646) f:\\PRACA_MAGISTERSKA\\DATASETS\\PREDYKCJA\\videos\\pieknie.webm: 384x640 1 no_glasses, 4 no_glovess, 2 no_vests, 18.7ms\n",
      "video 2/4 (frame 287/646) f:\\PRACA_MAGISTERSKA\\DATASETS\\PREDYKCJA\\videos\\pieknie.webm: 384x640 1 no_glasses, 4 no_glovess, 2 no_vests, 18.7ms\n",
      "video 2/4 (frame 288/646) f:\\PRACA_MAGISTERSKA\\DATASETS\\PREDYKCJA\\videos\\pieknie.webm: 384x640 4 no_glovess, 2 no_vests, 18.7ms\n",
      "video 2/4 (frame 289/646) f:\\PRACA_MAGISTERSKA\\DATASETS\\PREDYKCJA\\videos\\pieknie.webm: 384x640 1 no_glasses, 4 no_glovess, 2 no_vests, 18.7ms\n",
      "video 2/4 (frame 290/646) f:\\PRACA_MAGISTERSKA\\DATASETS\\PREDYKCJA\\videos\\pieknie.webm: 384x640 2 no_glassess, 4 no_glovess, 2 no_vests, 18.7ms\n",
      "video 2/4 (frame 291/646) f:\\PRACA_MAGISTERSKA\\DATASETS\\PREDYKCJA\\videos\\pieknie.webm: 384x640 2 no_glassess, 4 no_glovess, 2 no_vests, 18.7ms\n",
      "video 2/4 (frame 292/646) f:\\PRACA_MAGISTERSKA\\DATASETS\\PREDYKCJA\\videos\\pieknie.webm: 384x640 2 no_glassess, 4 no_glovess, 2 no_vests, 18.7ms\n",
      "video 2/4 (frame 293/646) f:\\PRACA_MAGISTERSKA\\DATASETS\\PREDYKCJA\\videos\\pieknie.webm: 384x640 2 no_glassess, 3 no_glovess, 2 no_vests, 18.7ms\n",
      "video 2/4 (frame 294/646) f:\\PRACA_MAGISTERSKA\\DATASETS\\PREDYKCJA\\videos\\pieknie.webm: 384x640 1 no_glasses, 4 no_glovess, 2 no_vests, 18.7ms\n",
      "video 2/4 (frame 295/646) f:\\PRACA_MAGISTERSKA\\DATASETS\\PREDYKCJA\\videos\\pieknie.webm: 384x640 2 no_glassess, 4 no_glovess, 2 no_vests, 18.7ms\n",
      "video 2/4 (frame 296/646) f:\\PRACA_MAGISTERSKA\\DATASETS\\PREDYKCJA\\videos\\pieknie.webm: 384x640 2 no_glassess, 4 no_glovess, 2 no_vests, 18.7ms\n",
      "video 2/4 (frame 297/646) f:\\PRACA_MAGISTERSKA\\DATASETS\\PREDYKCJA\\videos\\pieknie.webm: 384x640 2 no_glassess, 4 no_glovess, 2 no_vests, 18.7ms\n",
      "video 2/4 (frame 298/646) f:\\PRACA_MAGISTERSKA\\DATASETS\\PREDYKCJA\\videos\\pieknie.webm: 384x640 1 no_glasses, 4 no_glovess, 2 no_vests, 18.7ms\n",
      "video 2/4 (frame 299/646) f:\\PRACA_MAGISTERSKA\\DATASETS\\PREDYKCJA\\videos\\pieknie.webm: 384x640 1 no_glasses, 4 no_glovess, 2 no_vests, 18.7ms\n",
      "video 2/4 (frame 300/646) f:\\PRACA_MAGISTERSKA\\DATASETS\\PREDYKCJA\\videos\\pieknie.webm: 384x640 1 no_glasses, 4 no_glovess, 2 no_vests, 18.7ms\n",
      "video 2/4 (frame 301/646) f:\\PRACA_MAGISTERSKA\\DATASETS\\PREDYKCJA\\videos\\pieknie.webm: 384x640 2 no_glassess, 4 no_glovess, 2 no_vests, 18.7ms\n",
      "video 2/4 (frame 302/646) f:\\PRACA_MAGISTERSKA\\DATASETS\\PREDYKCJA\\videos\\pieknie.webm: 384x640 2 no_glassess, 4 no_glovess, 2 no_vests, 18.7ms\n",
      "video 2/4 (frame 303/646) f:\\PRACA_MAGISTERSKA\\DATASETS\\PREDYKCJA\\videos\\pieknie.webm: 384x640 2 no_glassess, 4 no_glovess, 2 no_vests, 18.7ms\n",
      "video 2/4 (frame 304/646) f:\\PRACA_MAGISTERSKA\\DATASETS\\PREDYKCJA\\videos\\pieknie.webm: 384x640 1 no_glasses, 4 no_glovess, 2 no_vests, 18.7ms\n",
      "video 2/4 (frame 305/646) f:\\PRACA_MAGISTERSKA\\DATASETS\\PREDYKCJA\\videos\\pieknie.webm: 384x640 2 no_glassess, 4 no_glovess, 2 no_vests, 18.7ms\n",
      "video 2/4 (frame 306/646) f:\\PRACA_MAGISTERSKA\\DATASETS\\PREDYKCJA\\videos\\pieknie.webm: 384x640 1 no_glasses, 4 no_glovess, 2 no_vests, 18.7ms\n",
      "video 2/4 (frame 307/646) f:\\PRACA_MAGISTERSKA\\DATASETS\\PREDYKCJA\\videos\\pieknie.webm: 384x640 2 no_glassess, 4 no_glovess, 2 no_vests, 18.7ms\n",
      "video 2/4 (frame 308/646) f:\\PRACA_MAGISTERSKA\\DATASETS\\PREDYKCJA\\videos\\pieknie.webm: 384x640 2 no_glassess, 4 no_glovess, 2 no_vests, 18.7ms\n",
      "video 2/4 (frame 309/646) f:\\PRACA_MAGISTERSKA\\DATASETS\\PREDYKCJA\\videos\\pieknie.webm: 384x640 1 no_glasses, 4 no_glovess, 2 no_vests, 18.7ms\n",
      "video 2/4 (frame 310/646) f:\\PRACA_MAGISTERSKA\\DATASETS\\PREDYKCJA\\videos\\pieknie.webm: 384x640 1 no_glasses, 4 no_glovess, 2 no_vests, 18.7ms\n",
      "video 2/4 (frame 311/646) f:\\PRACA_MAGISTERSKA\\DATASETS\\PREDYKCJA\\videos\\pieknie.webm: 384x640 1 no_glasses, 4 no_glovess, 2 no_vests, 18.7ms\n",
      "video 2/4 (frame 312/646) f:\\PRACA_MAGISTERSKA\\DATASETS\\PREDYKCJA\\videos\\pieknie.webm: 384x640 1 no_glasses, 4 no_glovess, 2 no_vests, 18.7ms\n",
      "video 2/4 (frame 313/646) f:\\PRACA_MAGISTERSKA\\DATASETS\\PREDYKCJA\\videos\\pieknie.webm: 384x640 1 no_glasses, 4 no_glovess, 2 no_vests, 18.7ms\n",
      "video 2/4 (frame 314/646) f:\\PRACA_MAGISTERSKA\\DATASETS\\PREDYKCJA\\videos\\pieknie.webm: 384x640 1 no_glasses, 4 no_glovess, 2 no_vests, 18.7ms\n",
      "video 2/4 (frame 315/646) f:\\PRACA_MAGISTERSKA\\DATASETS\\PREDYKCJA\\videos\\pieknie.webm: 384x640 1 no_glasses, 4 no_glovess, 2 no_vests, 18.7ms\n",
      "video 2/4 (frame 316/646) f:\\PRACA_MAGISTERSKA\\DATASETS\\PREDYKCJA\\videos\\pieknie.webm: 384x640 1 no_glasses, 4 no_glovess, 2 no_vests, 18.7ms\n",
      "video 2/4 (frame 317/646) f:\\PRACA_MAGISTERSKA\\DATASETS\\PREDYKCJA\\videos\\pieknie.webm: 384x640 1 no_glasses, 4 no_glovess, 2 no_vests, 18.7ms\n",
      "video 2/4 (frame 318/646) f:\\PRACA_MAGISTERSKA\\DATASETS\\PREDYKCJA\\videos\\pieknie.webm: 384x640 1 no_glasses, 4 no_glovess, 2 no_vests, 18.7ms\n",
      "video 2/4 (frame 319/646) f:\\PRACA_MAGISTERSKA\\DATASETS\\PREDYKCJA\\videos\\pieknie.webm: 384x640 2 no_glassess, 4 no_glovess, 2 no_vests, 18.7ms\n",
      "video 2/4 (frame 320/646) f:\\PRACA_MAGISTERSKA\\DATASETS\\PREDYKCJA\\videos\\pieknie.webm: 384x640 2 no_glassess, 4 no_glovess, 2 no_vests, 18.7ms\n",
      "video 2/4 (frame 321/646) f:\\PRACA_MAGISTERSKA\\DATASETS\\PREDYKCJA\\videos\\pieknie.webm: 384x640 1 no_glasses, 4 no_glovess, 2 no_vests, 18.7ms\n",
      "video 2/4 (frame 322/646) f:\\PRACA_MAGISTERSKA\\DATASETS\\PREDYKCJA\\videos\\pieknie.webm: 384x640 2 no_glassess, 4 no_glovess, 2 no_vests, 18.7ms\n",
      "video 2/4 (frame 323/646) f:\\PRACA_MAGISTERSKA\\DATASETS\\PREDYKCJA\\videos\\pieknie.webm: 384x640 2 no_glassess, 5 no_glovess, 2 no_vests, 18.7ms\n",
      "video 2/4 (frame 324/646) f:\\PRACA_MAGISTERSKA\\DATASETS\\PREDYKCJA\\videos\\pieknie.webm: 384x640 2 no_glassess, 4 no_glovess, 2 no_vests, 18.7ms\n",
      "video 2/4 (frame 325/646) f:\\PRACA_MAGISTERSKA\\DATASETS\\PREDYKCJA\\videos\\pieknie.webm: 384x640 1 no_glasses, 4 no_glovess, 2 no_vests, 18.7ms\n",
      "video 2/4 (frame 326/646) f:\\PRACA_MAGISTERSKA\\DATASETS\\PREDYKCJA\\videos\\pieknie.webm: 384x640 1 no_glasses, 4 no_glovess, 2 no_vests, 18.7ms\n",
      "video 2/4 (frame 327/646) f:\\PRACA_MAGISTERSKA\\DATASETS\\PREDYKCJA\\videos\\pieknie.webm: 384x640 1 no_glasses, 4 no_glovess, 2 no_vests, 18.7ms\n",
      "video 2/4 (frame 328/646) f:\\PRACA_MAGISTERSKA\\DATASETS\\PREDYKCJA\\videos\\pieknie.webm: 384x640 2 no_glassess, 4 no_glovess, 2 no_vests, 18.7ms\n",
      "video 2/4 (frame 329/646) f:\\PRACA_MAGISTERSKA\\DATASETS\\PREDYKCJA\\videos\\pieknie.webm: 384x640 1 no_glasses, 4 no_glovess, 2 no_vests, 18.7ms\n",
      "video 2/4 (frame 330/646) f:\\PRACA_MAGISTERSKA\\DATASETS\\PREDYKCJA\\videos\\pieknie.webm: 384x640 1 no_glasses, 4 no_glovess, 2 no_vests, 18.7ms\n",
      "video 2/4 (frame 331/646) f:\\PRACA_MAGISTERSKA\\DATASETS\\PREDYKCJA\\videos\\pieknie.webm: 384x640 2 no_glassess, 4 no_glovess, 2 no_vests, 18.7ms\n",
      "video 2/4 (frame 332/646) f:\\PRACA_MAGISTERSKA\\DATASETS\\PREDYKCJA\\videos\\pieknie.webm: 384x640 1 no_glasses, 4 no_glovess, 2 no_vests, 18.7ms\n",
      "video 2/4 (frame 333/646) f:\\PRACA_MAGISTERSKA\\DATASETS\\PREDYKCJA\\videos\\pieknie.webm: 384x640 1 no_glasses, 4 no_glovess, 2 no_vests, 18.7ms\n",
      "video 2/4 (frame 334/646) f:\\PRACA_MAGISTERSKA\\DATASETS\\PREDYKCJA\\videos\\pieknie.webm: 384x640 1 no_glasses, 5 no_glovess, 2 no_vests, 18.7ms\n",
      "video 2/4 (frame 335/646) f:\\PRACA_MAGISTERSKA\\DATASETS\\PREDYKCJA\\videos\\pieknie.webm: 384x640 1 no_glasses, 4 no_glovess, 2 no_vests, 18.7ms\n",
      "video 2/4 (frame 336/646) f:\\PRACA_MAGISTERSKA\\DATASETS\\PREDYKCJA\\videos\\pieknie.webm: 384x640 1 no_glasses, 4 no_glovess, 2 no_vests, 18.7ms\n",
      "video 2/4 (frame 337/646) f:\\PRACA_MAGISTERSKA\\DATASETS\\PREDYKCJA\\videos\\pieknie.webm: 384x640 1 no_glasses, 4 no_glovess, 2 no_vests, 18.7ms\n",
      "video 2/4 (frame 338/646) f:\\PRACA_MAGISTERSKA\\DATASETS\\PREDYKCJA\\videos\\pieknie.webm: 384x640 1 no_glasses, 4 no_glovess, 2 no_vests, 18.7ms\n",
      "video 2/4 (frame 339/646) f:\\PRACA_MAGISTERSKA\\DATASETS\\PREDYKCJA\\videos\\pieknie.webm: 384x640 2 no_glassess, 4 no_glovess, 2 no_vests, 18.7ms\n",
      "video 2/4 (frame 340/646) f:\\PRACA_MAGISTERSKA\\DATASETS\\PREDYKCJA\\videos\\pieknie.webm: 384x640 2 no_glassess, 4 no_glovess, 2 no_vests, 18.7ms\n",
      "video 2/4 (frame 341/646) f:\\PRACA_MAGISTERSKA\\DATASETS\\PREDYKCJA\\videos\\pieknie.webm: 384x640 1 no_glasses, 4 no_glovess, 2 no_vests, 18.7ms\n",
      "video 2/4 (frame 342/646) f:\\PRACA_MAGISTERSKA\\DATASETS\\PREDYKCJA\\videos\\pieknie.webm: 384x640 1 no_glasses, 4 no_glovess, 2 no_vests, 18.7ms\n",
      "video 2/4 (frame 343/646) f:\\PRACA_MAGISTERSKA\\DATASETS\\PREDYKCJA\\videos\\pieknie.webm: 384x640 1 no_glasses, 4 no_glovess, 2 no_vests, 18.7ms\n",
      "video 2/4 (frame 344/646) f:\\PRACA_MAGISTERSKA\\DATASETS\\PREDYKCJA\\videos\\pieknie.webm: 384x640 1 no_glasses, 3 no_glovess, 2 no_vests, 18.7ms\n",
      "video 2/4 (frame 345/646) f:\\PRACA_MAGISTERSKA\\DATASETS\\PREDYKCJA\\videos\\pieknie.webm: 384x640 2 no_glassess, 4 no_glovess, 2 no_vests, 18.7ms\n",
      "video 2/4 (frame 346/646) f:\\PRACA_MAGISTERSKA\\DATASETS\\PREDYKCJA\\videos\\pieknie.webm: 384x640 1 no_glasses, 4 no_glovess, 2 no_vests, 18.7ms\n",
      "video 2/4 (frame 347/646) f:\\PRACA_MAGISTERSKA\\DATASETS\\PREDYKCJA\\videos\\pieknie.webm: 384x640 2 no_glassess, 4 no_glovess, 2 no_vests, 18.7ms\n",
      "video 2/4 (frame 348/646) f:\\PRACA_MAGISTERSKA\\DATASETS\\PREDYKCJA\\videos\\pieknie.webm: 384x640 1 no_glasses, 4 no_glovess, 2 no_vests, 18.7ms\n",
      "video 2/4 (frame 349/646) f:\\PRACA_MAGISTERSKA\\DATASETS\\PREDYKCJA\\videos\\pieknie.webm: 384x640 1 no_glasses, 4 no_glovess, 2 no_vests, 18.7ms\n",
      "video 2/4 (frame 350/646) f:\\PRACA_MAGISTERSKA\\DATASETS\\PREDYKCJA\\videos\\pieknie.webm: 384x640 1 no_glasses, 4 no_glovess, 2 no_vests, 18.6ms\n",
      "video 2/4 (frame 351/646) f:\\PRACA_MAGISTERSKA\\DATASETS\\PREDYKCJA\\videos\\pieknie.webm: 384x640 1 no_glasses, 4 no_glovess, 2 no_vests, 18.6ms\n",
      "video 2/4 (frame 352/646) f:\\PRACA_MAGISTERSKA\\DATASETS\\PREDYKCJA\\videos\\pieknie.webm: 384x640 1 no_glasses, 4 no_glovess, 2 no_vests, 18.6ms\n",
      "video 2/4 (frame 353/646) f:\\PRACA_MAGISTERSKA\\DATASETS\\PREDYKCJA\\videos\\pieknie.webm: 384x640 1 no_glasses, 4 no_glovess, 2 no_vests, 18.6ms\n",
      "video 2/4 (frame 354/646) f:\\PRACA_MAGISTERSKA\\DATASETS\\PREDYKCJA\\videos\\pieknie.webm: 384x640 1 no_glasses, 4 no_glovess, 2 no_vests, 18.6ms\n",
      "video 2/4 (frame 355/646) f:\\PRACA_MAGISTERSKA\\DATASETS\\PREDYKCJA\\videos\\pieknie.webm: 384x640 1 no_glasses, 4 no_glovess, 2 no_vests, 18.6ms\n",
      "video 2/4 (frame 356/646) f:\\PRACA_MAGISTERSKA\\DATASETS\\PREDYKCJA\\videos\\pieknie.webm: 384x640 1 no_glasses, 3 no_glovess, 2 no_vests, 18.6ms\n",
      "video 2/4 (frame 357/646) f:\\PRACA_MAGISTERSKA\\DATASETS\\PREDYKCJA\\videos\\pieknie.webm: 384x640 2 no_glassess, 4 no_glovess, 2 no_vests, 18.6ms\n",
      "video 2/4 (frame 358/646) f:\\PRACA_MAGISTERSKA\\DATASETS\\PREDYKCJA\\videos\\pieknie.webm: 384x640 1 no_glasses, 4 no_glovess, 2 no_vests, 18.6ms\n",
      "video 2/4 (frame 359/646) f:\\PRACA_MAGISTERSKA\\DATASETS\\PREDYKCJA\\videos\\pieknie.webm: 384x640 1 no_glasses, 4 no_glovess, 2 no_vests, 18.6ms\n",
      "video 2/4 (frame 360/646) f:\\PRACA_MAGISTERSKA\\DATASETS\\PREDYKCJA\\videos\\pieknie.webm: 384x640 1 no_glasses, 4 no_glovess, 2 no_vests, 18.6ms\n",
      "video 2/4 (frame 361/646) f:\\PRACA_MAGISTERSKA\\DATASETS\\PREDYKCJA\\videos\\pieknie.webm: 384x640 1 no_glasses, 4 no_glovess, 2 no_vests, 18.6ms\n",
      "video 2/4 (frame 362/646) f:\\PRACA_MAGISTERSKA\\DATASETS\\PREDYKCJA\\videos\\pieknie.webm: 384x640 1 no_glasses, 4 no_glovess, 2 no_vests, 18.6ms\n",
      "video 2/4 (frame 363/646) f:\\PRACA_MAGISTERSKA\\DATASETS\\PREDYKCJA\\videos\\pieknie.webm: 384x640 1 no_glasses, 4 no_glovess, 2 no_vests, 18.6ms\n",
      "video 2/4 (frame 364/646) f:\\PRACA_MAGISTERSKA\\DATASETS\\PREDYKCJA\\videos\\pieknie.webm: 384x640 1 no_glasses, 4 no_glovess, 2 no_vests, 18.6ms\n",
      "video 2/4 (frame 365/646) f:\\PRACA_MAGISTERSKA\\DATASETS\\PREDYKCJA\\videos\\pieknie.webm: 384x640 1 no_glasses, 4 no_glovess, 2 no_vests, 18.6ms\n",
      "video 2/4 (frame 366/646) f:\\PRACA_MAGISTERSKA\\DATASETS\\PREDYKCJA\\videos\\pieknie.webm: 384x640 1 no_glasses, 4 no_glovess, 2 no_vests, 18.6ms\n",
      "video 2/4 (frame 367/646) f:\\PRACA_MAGISTERSKA\\DATASETS\\PREDYKCJA\\videos\\pieknie.webm: 384x640 1 no_glasses, 4 no_glovess, 2 no_vests, 18.6ms\n",
      "video 2/4 (frame 368/646) f:\\PRACA_MAGISTERSKA\\DATASETS\\PREDYKCJA\\videos\\pieknie.webm: 384x640 1 no_glasses, 4 no_glovess, 2 no_vests, 18.6ms\n",
      "video 2/4 (frame 369/646) f:\\PRACA_MAGISTERSKA\\DATASETS\\PREDYKCJA\\videos\\pieknie.webm: 384x640 1 no_glasses, 4 no_glovess, 2 no_vests, 18.6ms\n",
      "video 2/4 (frame 370/646) f:\\PRACA_MAGISTERSKA\\DATASETS\\PREDYKCJA\\videos\\pieknie.webm: 384x640 1 no_glasses, 4 no_glovess, 2 no_vests, 18.6ms\n",
      "video 2/4 (frame 371/646) f:\\PRACA_MAGISTERSKA\\DATASETS\\PREDYKCJA\\videos\\pieknie.webm: 384x640 1 no_glasses, 4 no_glovess, 2 no_vests, 18.6ms\n",
      "video 2/4 (frame 372/646) f:\\PRACA_MAGISTERSKA\\DATASETS\\PREDYKCJA\\videos\\pieknie.webm: 384x640 1 no_glasses, 4 no_glovess, 2 no_vests, 18.6ms\n",
      "video 2/4 (frame 373/646) f:\\PRACA_MAGISTERSKA\\DATASETS\\PREDYKCJA\\videos\\pieknie.webm: 384x640 4 no_glovess, 2 no_vests, 18.6ms\n",
      "video 2/4 (frame 374/646) f:\\PRACA_MAGISTERSKA\\DATASETS\\PREDYKCJA\\videos\\pieknie.webm: 384x640 1 no_glasses, 4 no_glovess, 2 no_vests, 18.6ms\n",
      "video 2/4 (frame 375/646) f:\\PRACA_MAGISTERSKA\\DATASETS\\PREDYKCJA\\videos\\pieknie.webm: 384x640 1 no_glasses, 4 no_glovess, 2 no_vests, 18.6ms\n",
      "video 2/4 (frame 376/646) f:\\PRACA_MAGISTERSKA\\DATASETS\\PREDYKCJA\\videos\\pieknie.webm: 384x640 1 no_glasses, 4 no_glovess, 2 no_vests, 18.6ms\n",
      "video 2/4 (frame 377/646) f:\\PRACA_MAGISTERSKA\\DATASETS\\PREDYKCJA\\videos\\pieknie.webm: 384x640 1 no_glasses, 4 no_glovess, 2 no_vests, 18.6ms\n",
      "video 2/4 (frame 378/646) f:\\PRACA_MAGISTERSKA\\DATASETS\\PREDYKCJA\\videos\\pieknie.webm: 384x640 1 no_glasses, 5 no_glovess, 2 no_vests, 18.6ms\n",
      "video 2/4 (frame 379/646) f:\\PRACA_MAGISTERSKA\\DATASETS\\PREDYKCJA\\videos\\pieknie.webm: 384x640 1 no_glasses, 4 no_glovess, 2 no_vests, 18.6ms\n",
      "video 2/4 (frame 380/646) f:\\PRACA_MAGISTERSKA\\DATASETS\\PREDYKCJA\\videos\\pieknie.webm: 384x640 1 no_glasses, 4 no_glovess, 2 no_vests, 18.6ms\n",
      "video 2/4 (frame 381/646) f:\\PRACA_MAGISTERSKA\\DATASETS\\PREDYKCJA\\videos\\pieknie.webm: 384x640 1 no_glasses, 4 no_glovess, 2 no_vests, 18.6ms\n",
      "video 2/4 (frame 382/646) f:\\PRACA_MAGISTERSKA\\DATASETS\\PREDYKCJA\\videos\\pieknie.webm: 384x640 1 no_glasses, 4 no_glovess, 2 no_vests, 18.6ms\n",
      "video 2/4 (frame 383/646) f:\\PRACA_MAGISTERSKA\\DATASETS\\PREDYKCJA\\videos\\pieknie.webm: 384x640 1 no_glasses, 4 no_glovess, 2 no_vests, 18.6ms\n",
      "video 2/4 (frame 384/646) f:\\PRACA_MAGISTERSKA\\DATASETS\\PREDYKCJA\\videos\\pieknie.webm: 384x640 1 no_glasses, 4 no_glovess, 2 no_vests, 18.6ms\n",
      "video 2/4 (frame 385/646) f:\\PRACA_MAGISTERSKA\\DATASETS\\PREDYKCJA\\videos\\pieknie.webm: 384x640 1 no_glasses, 4 no_glovess, 2 no_vests, 18.6ms\n",
      "video 2/4 (frame 386/646) f:\\PRACA_MAGISTERSKA\\DATASETS\\PREDYKCJA\\videos\\pieknie.webm: 384x640 1 no_glasses, 4 no_glovess, 2 no_vests, 18.6ms\n",
      "video 2/4 (frame 387/646) f:\\PRACA_MAGISTERSKA\\DATASETS\\PREDYKCJA\\videos\\pieknie.webm: 384x640 1 no_glasses, 4 no_glovess, 2 no_vests, 18.6ms\n",
      "video 2/4 (frame 388/646) f:\\PRACA_MAGISTERSKA\\DATASETS\\PREDYKCJA\\videos\\pieknie.webm: 384x640 1 no_glasses, 4 no_glovess, 2 no_vests, 18.6ms\n",
      "video 2/4 (frame 389/646) f:\\PRACA_MAGISTERSKA\\DATASETS\\PREDYKCJA\\videos\\pieknie.webm: 384x640 1 no_glasses, 4 no_glovess, 2 no_vests, 18.6ms\n",
      "video 2/4 (frame 390/646) f:\\PRACA_MAGISTERSKA\\DATASETS\\PREDYKCJA\\videos\\pieknie.webm: 384x640 1 no_glasses, 4 no_glovess, 2 no_vests, 18.6ms\n",
      "video 2/4 (frame 391/646) f:\\PRACA_MAGISTERSKA\\DATASETS\\PREDYKCJA\\videos\\pieknie.webm: 384x640 1 no_glasses, 4 no_glovess, 2 no_vests, 18.6ms\n",
      "video 2/4 (frame 392/646) f:\\PRACA_MAGISTERSKA\\DATASETS\\PREDYKCJA\\videos\\pieknie.webm: 384x640 1 no_glasses, 4 no_glovess, 2 no_vests, 18.6ms\n",
      "video 2/4 (frame 393/646) f:\\PRACA_MAGISTERSKA\\DATASETS\\PREDYKCJA\\videos\\pieknie.webm: 384x640 1 no_glasses, 5 no_glovess, 2 no_vests, 18.6ms\n",
      "video 2/4 (frame 394/646) f:\\PRACA_MAGISTERSKA\\DATASETS\\PREDYKCJA\\videos\\pieknie.webm: 384x640 1 no_glasses, 4 no_glovess, 2 no_vests, 18.6ms\n",
      "video 2/4 (frame 395/646) f:\\PRACA_MAGISTERSKA\\DATASETS\\PREDYKCJA\\videos\\pieknie.webm: 384x640 2 no_glassess, 4 no_glovess, 2 no_vests, 18.6ms\n",
      "video 2/4 (frame 396/646) f:\\PRACA_MAGISTERSKA\\DATASETS\\PREDYKCJA\\videos\\pieknie.webm: 384x640 1 no_glasses, 4 no_glovess, 2 no_vests, 18.6ms\n",
      "video 2/4 (frame 397/646) f:\\PRACA_MAGISTERSKA\\DATASETS\\PREDYKCJA\\videos\\pieknie.webm: 384x640 1 no_glasses, 4 no_glovess, 2 no_vests, 18.6ms\n",
      "video 2/4 (frame 398/646) f:\\PRACA_MAGISTERSKA\\DATASETS\\PREDYKCJA\\videos\\pieknie.webm: 384x640 1 no_glasses, 4 no_glovess, 2 no_vests, 18.6ms\n",
      "video 2/4 (frame 399/646) f:\\PRACA_MAGISTERSKA\\DATASETS\\PREDYKCJA\\videos\\pieknie.webm: 384x640 1 no_glasses, 4 no_glovess, 2 no_vests, 18.6ms\n",
      "video 2/4 (frame 400/646) f:\\PRACA_MAGISTERSKA\\DATASETS\\PREDYKCJA\\videos\\pieknie.webm: 384x640 1 no_glasses, 4 no_glovess, 2 no_vests, 18.6ms\n",
      "video 2/4 (frame 401/646) f:\\PRACA_MAGISTERSKA\\DATASETS\\PREDYKCJA\\videos\\pieknie.webm: 384x640 1 no_glasses, 4 no_glovess, 2 no_vests, 18.6ms\n",
      "video 2/4 (frame 402/646) f:\\PRACA_MAGISTERSKA\\DATASETS\\PREDYKCJA\\videos\\pieknie.webm: 384x640 1 no_glasses, 4 no_glovess, 2 no_vests, 18.6ms\n",
      "video 2/4 (frame 403/646) f:\\PRACA_MAGISTERSKA\\DATASETS\\PREDYKCJA\\videos\\pieknie.webm: 384x640 1 no_glasses, 4 no_glovess, 2 no_vests, 18.6ms\n",
      "video 2/4 (frame 404/646) f:\\PRACA_MAGISTERSKA\\DATASETS\\PREDYKCJA\\videos\\pieknie.webm: 384x640 1 no_glasses, 4 no_glovess, 2 no_vests, 18.6ms\n",
      "video 2/4 (frame 405/646) f:\\PRACA_MAGISTERSKA\\DATASETS\\PREDYKCJA\\videos\\pieknie.webm: 384x640 1 no_glasses, 4 no_glovess, 2 no_vests, 18.6ms\n",
      "video 2/4 (frame 406/646) f:\\PRACA_MAGISTERSKA\\DATASETS\\PREDYKCJA\\videos\\pieknie.webm: 384x640 1 no_glasses, 4 no_glovess, 2 no_vests, 18.6ms\n",
      "video 2/4 (frame 407/646) f:\\PRACA_MAGISTERSKA\\DATASETS\\PREDYKCJA\\videos\\pieknie.webm: 384x640 1 no_glasses, 4 no_glovess, 2 no_vests, 18.6ms\n",
      "video 2/4 (frame 408/646) f:\\PRACA_MAGISTERSKA\\DATASETS\\PREDYKCJA\\videos\\pieknie.webm: 384x640 1 no_glasses, 4 no_glovess, 2 no_vests, 18.6ms\n",
      "video 2/4 (frame 409/646) f:\\PRACA_MAGISTERSKA\\DATASETS\\PREDYKCJA\\videos\\pieknie.webm: 384x640 1 no_glasses, 4 no_glovess, 2 no_vests, 18.6ms\n",
      "video 2/4 (frame 410/646) f:\\PRACA_MAGISTERSKA\\DATASETS\\PREDYKCJA\\videos\\pieknie.webm: 384x640 1 no_glasses, 4 no_glovess, 2 no_vests, 18.6ms\n",
      "video 2/4 (frame 411/646) f:\\PRACA_MAGISTERSKA\\DATASETS\\PREDYKCJA\\videos\\pieknie.webm: 384x640 1 no_glasses, 4 no_glovess, 2 no_vests, 18.6ms\n",
      "video 2/4 (frame 412/646) f:\\PRACA_MAGISTERSKA\\DATASETS\\PREDYKCJA\\videos\\pieknie.webm: 384x640 1 no_glasses, 4 no_glovess, 2 no_vests, 18.6ms\n",
      "video 2/4 (frame 413/646) f:\\PRACA_MAGISTERSKA\\DATASETS\\PREDYKCJA\\videos\\pieknie.webm: 384x640 1 no_glasses, 4 no_glovess, 2 no_vests, 18.6ms\n",
      "video 2/4 (frame 414/646) f:\\PRACA_MAGISTERSKA\\DATASETS\\PREDYKCJA\\videos\\pieknie.webm: 384x640 1 no_glasses, 4 no_glovess, 2 no_vests, 18.5ms\n",
      "video 2/4 (frame 415/646) f:\\PRACA_MAGISTERSKA\\DATASETS\\PREDYKCJA\\videos\\pieknie.webm: 384x640 1 no_glasses, 4 no_glovess, 2 no_vests, 18.5ms\n",
      "video 2/4 (frame 416/646) f:\\PRACA_MAGISTERSKA\\DATASETS\\PREDYKCJA\\videos\\pieknie.webm: 384x640 1 no_glasses, 4 no_glovess, 2 no_vests, 18.5ms\n",
      "video 2/4 (frame 417/646) f:\\PRACA_MAGISTERSKA\\DATASETS\\PREDYKCJA\\videos\\pieknie.webm: 384x640 1 no_glasses, 4 no_glovess, 2 no_vests, 18.5ms\n",
      "video 2/4 (frame 418/646) f:\\PRACA_MAGISTERSKA\\DATASETS\\PREDYKCJA\\videos\\pieknie.webm: 384x640 1 no_glasses, 4 no_glovess, 2 no_vests, 18.5ms\n",
      "video 2/4 (frame 419/646) f:\\PRACA_MAGISTERSKA\\DATASETS\\PREDYKCJA\\videos\\pieknie.webm: 384x640 1 no_glasses, 4 no_glovess, 2 no_vests, 18.5ms\n",
      "video 2/4 (frame 420/646) f:\\PRACA_MAGISTERSKA\\DATASETS\\PREDYKCJA\\videos\\pieknie.webm: 384x640 1 no_glasses, 4 no_glovess, 2 no_vests, 18.5ms\n",
      "video 2/4 (frame 421/646) f:\\PRACA_MAGISTERSKA\\DATASETS\\PREDYKCJA\\videos\\pieknie.webm: 384x640 2 no_glassess, 4 no_glovess, 2 no_vests, 18.5ms\n",
      "video 2/4 (frame 422/646) f:\\PRACA_MAGISTERSKA\\DATASETS\\PREDYKCJA\\videos\\pieknie.webm: 384x640 1 no_glasses, 4 no_glovess, 2 no_vests, 18.5ms\n",
      "video 2/4 (frame 423/646) f:\\PRACA_MAGISTERSKA\\DATASETS\\PREDYKCJA\\videos\\pieknie.webm: 384x640 1 no_glasses, 4 no_glovess, 2 no_vests, 18.5ms\n",
      "video 2/4 (frame 424/646) f:\\PRACA_MAGISTERSKA\\DATASETS\\PREDYKCJA\\videos\\pieknie.webm: 384x640 1 no_glasses, 4 no_glovess, 2 no_vests, 18.5ms\n",
      "video 2/4 (frame 425/646) f:\\PRACA_MAGISTERSKA\\DATASETS\\PREDYKCJA\\videos\\pieknie.webm: 384x640 1 no_glasses, 4 no_glovess, 2 no_vests, 18.5ms\n",
      "video 2/4 (frame 426/646) f:\\PRACA_MAGISTERSKA\\DATASETS\\PREDYKCJA\\videos\\pieknie.webm: 384x640 1 no_glasses, 4 no_glovess, 2 no_vests, 18.5ms\n",
      "video 2/4 (frame 427/646) f:\\PRACA_MAGISTERSKA\\DATASETS\\PREDYKCJA\\videos\\pieknie.webm: 384x640 1 no_glasses, 4 no_glovess, 2 no_vests, 18.5ms\n",
      "video 2/4 (frame 428/646) f:\\PRACA_MAGISTERSKA\\DATASETS\\PREDYKCJA\\videos\\pieknie.webm: 384x640 1 no_glasses, 4 no_glovess, 2 no_vests, 18.5ms\n",
      "video 2/4 (frame 429/646) f:\\PRACA_MAGISTERSKA\\DATASETS\\PREDYKCJA\\videos\\pieknie.webm: 384x640 1 no_glasses, 4 no_glovess, 2 no_vests, 18.5ms\n",
      "video 2/4 (frame 430/646) f:\\PRACA_MAGISTERSKA\\DATASETS\\PREDYKCJA\\videos\\pieknie.webm: 384x640 1 no_glasses, 4 no_glovess, 2 no_vests, 18.5ms\n",
      "video 2/4 (frame 431/646) f:\\PRACA_MAGISTERSKA\\DATASETS\\PREDYKCJA\\videos\\pieknie.webm: 384x640 1 no_glasses, 3 no_glovess, 2 no_vests, 18.5ms\n",
      "video 2/4 (frame 432/646) f:\\PRACA_MAGISTERSKA\\DATASETS\\PREDYKCJA\\videos\\pieknie.webm: 384x640 2 no_glassess, 3 no_glovess, 2 no_vests, 18.5ms\n",
      "video 2/4 (frame 433/646) f:\\PRACA_MAGISTERSKA\\DATASETS\\PREDYKCJA\\videos\\pieknie.webm: 384x640 1 no_glasses, 4 no_glovess, 2 no_vests, 18.5ms\n",
      "video 2/4 (frame 434/646) f:\\PRACA_MAGISTERSKA\\DATASETS\\PREDYKCJA\\videos\\pieknie.webm: 384x640 1 no_glasses, 4 no_glovess, 2 no_vests, 18.5ms\n",
      "video 2/4 (frame 435/646) f:\\PRACA_MAGISTERSKA\\DATASETS\\PREDYKCJA\\videos\\pieknie.webm: 384x640 1 no_glasses, 4 no_glovess, 2 no_vests, 18.5ms\n",
      "video 2/4 (frame 436/646) f:\\PRACA_MAGISTERSKA\\DATASETS\\PREDYKCJA\\videos\\pieknie.webm: 384x640 1 no_glasses, 4 no_glovess, 2 no_vests, 18.5ms\n",
      "video 2/4 (frame 437/646) f:\\PRACA_MAGISTERSKA\\DATASETS\\PREDYKCJA\\videos\\pieknie.webm: 384x640 1 no_glasses, 4 no_glovess, 2 no_vests, 18.5ms\n",
      "video 2/4 (frame 438/646) f:\\PRACA_MAGISTERSKA\\DATASETS\\PREDYKCJA\\videos\\pieknie.webm: 384x640 1 no_glasses, 4 no_glovess, 2 no_vests, 18.5ms\n",
      "video 2/4 (frame 439/646) f:\\PRACA_MAGISTERSKA\\DATASETS\\PREDYKCJA\\videos\\pieknie.webm: 384x640 1 no_glasses, 4 no_glovess, 2 no_vests, 18.5ms\n",
      "video 2/4 (frame 440/646) f:\\PRACA_MAGISTERSKA\\DATASETS\\PREDYKCJA\\videos\\pieknie.webm: 384x640 1 no_glasses, 4 no_glovess, 2 no_vests, 18.5ms\n",
      "video 2/4 (frame 441/646) f:\\PRACA_MAGISTERSKA\\DATASETS\\PREDYKCJA\\videos\\pieknie.webm: 384x640 1 no_glasses, 4 no_glovess, 2 no_vests, 18.5ms\n",
      "video 2/4 (frame 442/646) f:\\PRACA_MAGISTERSKA\\DATASETS\\PREDYKCJA\\videos\\pieknie.webm: 384x640 1 no_glasses, 4 no_glovess, 2 no_vests, 18.5ms\n",
      "video 2/4 (frame 443/646) f:\\PRACA_MAGISTERSKA\\DATASETS\\PREDYKCJA\\videos\\pieknie.webm: 384x640 1 no_glasses, 4 no_glovess, 2 no_vests, 18.5ms\n",
      "video 2/4 (frame 444/646) f:\\PRACA_MAGISTERSKA\\DATASETS\\PREDYKCJA\\videos\\pieknie.webm: 384x640 1 no_glasses, 4 no_glovess, 2 no_vests, 18.5ms\n",
      "video 2/4 (frame 445/646) f:\\PRACA_MAGISTERSKA\\DATASETS\\PREDYKCJA\\videos\\pieknie.webm: 384x640 1 no_glasses, 4 no_glovess, 2 no_vests, 18.5ms\n",
      "video 2/4 (frame 446/646) f:\\PRACA_MAGISTERSKA\\DATASETS\\PREDYKCJA\\videos\\pieknie.webm: 384x640 1 no_glasses, 4 no_glovess, 2 no_vests, 18.5ms\n",
      "video 2/4 (frame 447/646) f:\\PRACA_MAGISTERSKA\\DATASETS\\PREDYKCJA\\videos\\pieknie.webm: 384x640 1 no_glasses, 4 no_glovess, 2 no_vests, 18.5ms\n",
      "video 2/4 (frame 448/646) f:\\PRACA_MAGISTERSKA\\DATASETS\\PREDYKCJA\\videos\\pieknie.webm: 384x640 1 no_glasses, 4 no_glovess, 2 no_vests, 18.5ms\n",
      "video 2/4 (frame 449/646) f:\\PRACA_MAGISTERSKA\\DATASETS\\PREDYKCJA\\videos\\pieknie.webm: 384x640 1 no_glasses, 4 no_glovess, 2 no_vests, 18.5ms\n",
      "video 2/4 (frame 450/646) f:\\PRACA_MAGISTERSKA\\DATASETS\\PREDYKCJA\\videos\\pieknie.webm: 384x640 1 no_glasses, 4 no_glovess, 2 no_vests, 18.5ms\n",
      "video 2/4 (frame 451/646) f:\\PRACA_MAGISTERSKA\\DATASETS\\PREDYKCJA\\videos\\pieknie.webm: 384x640 1 no_glasses, 4 no_glovess, 2 no_vests, 18.5ms\n",
      "video 2/4 (frame 452/646) f:\\PRACA_MAGISTERSKA\\DATASETS\\PREDYKCJA\\videos\\pieknie.webm: 384x640 1 no_glasses, 4 no_glovess, 2 no_vests, 18.5ms\n",
      "video 2/4 (frame 453/646) f:\\PRACA_MAGISTERSKA\\DATASETS\\PREDYKCJA\\videos\\pieknie.webm: 384x640 1 no_glasses, 4 no_glovess, 2 no_vests, 18.5ms\n",
      "video 2/4 (frame 454/646) f:\\PRACA_MAGISTERSKA\\DATASETS\\PREDYKCJA\\videos\\pieknie.webm: 384x640 1 no_glasses, 4 no_glovess, 2 no_vests, 18.5ms\n",
      "video 2/4 (frame 455/646) f:\\PRACA_MAGISTERSKA\\DATASETS\\PREDYKCJA\\videos\\pieknie.webm: 384x640 1 no_glasses, 4 no_glovess, 2 no_vests, 18.5ms\n",
      "video 2/4 (frame 456/646) f:\\PRACA_MAGISTERSKA\\DATASETS\\PREDYKCJA\\videos\\pieknie.webm: 384x640 1 no_glasses, 4 no_glovess, 2 no_vests, 18.5ms\n",
      "video 2/4 (frame 457/646) f:\\PRACA_MAGISTERSKA\\DATASETS\\PREDYKCJA\\videos\\pieknie.webm: 384x640 1 no_glasses, 4 no_glovess, 2 no_vests, 18.5ms\n",
      "video 2/4 (frame 458/646) f:\\PRACA_MAGISTERSKA\\DATASETS\\PREDYKCJA\\videos\\pieknie.webm: 384x640 1 no_glasses, 4 no_glovess, 2 no_vests, 18.5ms\n",
      "video 2/4 (frame 459/646) f:\\PRACA_MAGISTERSKA\\DATASETS\\PREDYKCJA\\videos\\pieknie.webm: 384x640 1 no_glasses, 5 no_glovess, 2 no_vests, 18.5ms\n",
      "video 2/4 (frame 460/646) f:\\PRACA_MAGISTERSKA\\DATASETS\\PREDYKCJA\\videos\\pieknie.webm: 384x640 1 no_glasses, 4 no_glovess, 2 no_vests, 18.5ms\n",
      "video 2/4 (frame 461/646) f:\\PRACA_MAGISTERSKA\\DATASETS\\PREDYKCJA\\videos\\pieknie.webm: 384x640 1 no_glasses, 4 no_glovess, 2 no_vests, 18.5ms\n",
      "video 2/4 (frame 462/646) f:\\PRACA_MAGISTERSKA\\DATASETS\\PREDYKCJA\\videos\\pieknie.webm: 384x640 1 no_glasses, 4 no_glovess, 2 no_vests, 18.5ms\n",
      "video 2/4 (frame 463/646) f:\\PRACA_MAGISTERSKA\\DATASETS\\PREDYKCJA\\videos\\pieknie.webm: 384x640 1 no_glasses, 5 no_glovess, 2 no_vests, 18.5ms\n",
      "video 2/4 (frame 464/646) f:\\PRACA_MAGISTERSKA\\DATASETS\\PREDYKCJA\\videos\\pieknie.webm: 384x640 1 no_glasses, 4 no_glovess, 2 no_vests, 18.5ms\n",
      "video 2/4 (frame 465/646) f:\\PRACA_MAGISTERSKA\\DATASETS\\PREDYKCJA\\videos\\pieknie.webm: 384x640 1 no_glasses, 4 no_glovess, 2 no_vests, 18.5ms\n",
      "video 2/4 (frame 466/646) f:\\PRACA_MAGISTERSKA\\DATASETS\\PREDYKCJA\\videos\\pieknie.webm: 384x640 1 no_glasses, 4 no_glovess, 2 no_vests, 18.5ms\n",
      "video 2/4 (frame 467/646) f:\\PRACA_MAGISTERSKA\\DATASETS\\PREDYKCJA\\videos\\pieknie.webm: 384x640 1 no_glasses, 4 no_glovess, 2 no_vests, 18.5ms\n",
      "video 2/4 (frame 468/646) f:\\PRACA_MAGISTERSKA\\DATASETS\\PREDYKCJA\\videos\\pieknie.webm: 384x640 1 no_glasses, 4 no_glovess, 2 no_vests, 18.5ms\n",
      "video 2/4 (frame 469/646) f:\\PRACA_MAGISTERSKA\\DATASETS\\PREDYKCJA\\videos\\pieknie.webm: 384x640 2 no_glassess, 4 no_glovess, 2 no_vests, 18.5ms\n",
      "video 2/4 (frame 470/646) f:\\PRACA_MAGISTERSKA\\DATASETS\\PREDYKCJA\\videos\\pieknie.webm: 384x640 1 no_glasses, 4 no_glovess, 2 no_vests, 18.5ms\n",
      "video 2/4 (frame 471/646) f:\\PRACA_MAGISTERSKA\\DATASETS\\PREDYKCJA\\videos\\pieknie.webm: 384x640 1 no_glasses, 4 no_glovess, 2 no_vests, 18.5ms\n",
      "video 2/4 (frame 472/646) f:\\PRACA_MAGISTERSKA\\DATASETS\\PREDYKCJA\\videos\\pieknie.webm: 384x640 1 no_glasses, 5 no_glovess, 2 no_vests, 18.5ms\n",
      "video 2/4 (frame 473/646) f:\\PRACA_MAGISTERSKA\\DATASETS\\PREDYKCJA\\videos\\pieknie.webm: 384x640 1 no_glasses, 4 no_glovess, 2 no_vests, 18.5ms\n",
      "video 2/4 (frame 474/646) f:\\PRACA_MAGISTERSKA\\DATASETS\\PREDYKCJA\\videos\\pieknie.webm: 384x640 1 no_glasses, 4 no_glovess, 2 no_vests, 18.5ms\n",
      "video 2/4 (frame 475/646) f:\\PRACA_MAGISTERSKA\\DATASETS\\PREDYKCJA\\videos\\pieknie.webm: 384x640 1 no_glasses, 4 no_glovess, 2 no_vests, 18.5ms\n",
      "video 2/4 (frame 476/646) f:\\PRACA_MAGISTERSKA\\DATASETS\\PREDYKCJA\\videos\\pieknie.webm: 384x640 2 no_glassess, 4 no_glovess, 2 no_vests, 18.5ms\n",
      "video 2/4 (frame 477/646) f:\\PRACA_MAGISTERSKA\\DATASETS\\PREDYKCJA\\videos\\pieknie.webm: 384x640 1 no_glasses, 4 no_glovess, 2 no_vests, 18.5ms\n",
      "video 2/4 (frame 478/646) f:\\PRACA_MAGISTERSKA\\DATASETS\\PREDYKCJA\\videos\\pieknie.webm: 384x640 1 no_glasses, 4 no_glovess, 2 no_vests, 18.6ms\n",
      "video 2/4 (frame 479/646) f:\\PRACA_MAGISTERSKA\\DATASETS\\PREDYKCJA\\videos\\pieknie.webm: 384x640 2 no_glassess, 4 no_glovess, 2 no_vests, 18.6ms\n",
      "video 2/4 (frame 480/646) f:\\PRACA_MAGISTERSKA\\DATASETS\\PREDYKCJA\\videos\\pieknie.webm: 384x640 1 no_glasses, 3 no_glovess, 2 no_vests, 18.6ms\n",
      "video 2/4 (frame 481/646) f:\\PRACA_MAGISTERSKA\\DATASETS\\PREDYKCJA\\videos\\pieknie.webm: 384x640 1 no_glasses, 4 no_glovess, 2 no_vests, 18.6ms\n",
      "video 2/4 (frame 482/646) f:\\PRACA_MAGISTERSKA\\DATASETS\\PREDYKCJA\\videos\\pieknie.webm: 384x640 1 no_glasses, 4 no_glovess, 2 no_vests, 18.6ms\n",
      "video 2/4 (frame 483/646) f:\\PRACA_MAGISTERSKA\\DATASETS\\PREDYKCJA\\videos\\pieknie.webm: 384x640 1 no_glasses, 4 no_glovess, 2 no_vests, 18.6ms\n",
      "video 2/4 (frame 484/646) f:\\PRACA_MAGISTERSKA\\DATASETS\\PREDYKCJA\\videos\\pieknie.webm: 384x640 1 no_glasses, 4 no_glovess, 2 no_vests, 18.6ms\n",
      "video 2/4 (frame 485/646) f:\\PRACA_MAGISTERSKA\\DATASETS\\PREDYKCJA\\videos\\pieknie.webm: 384x640 1 no_glasses, 4 no_glovess, 2 no_vests, 18.6ms\n",
      "video 2/4 (frame 486/646) f:\\PRACA_MAGISTERSKA\\DATASETS\\PREDYKCJA\\videos\\pieknie.webm: 384x640 1 no_glasses, 4 no_glovess, 2 no_vests, 18.6ms\n",
      "video 2/4 (frame 487/646) f:\\PRACA_MAGISTERSKA\\DATASETS\\PREDYKCJA\\videos\\pieknie.webm: 384x640 1 no_glasses, 4 no_glovess, 2 no_vests, 18.6ms\n",
      "video 2/4 (frame 488/646) f:\\PRACA_MAGISTERSKA\\DATASETS\\PREDYKCJA\\videos\\pieknie.webm: 384x640 1 no_glasses, 4 no_glovess, 2 no_vests, 18.6ms\n",
      "video 2/4 (frame 489/646) f:\\PRACA_MAGISTERSKA\\DATASETS\\PREDYKCJA\\videos\\pieknie.webm: 384x640 1 no_glasses, 4 no_glovess, 2 no_vests, 18.6ms\n",
      "video 2/4 (frame 490/646) f:\\PRACA_MAGISTERSKA\\DATASETS\\PREDYKCJA\\videos\\pieknie.webm: 384x640 1 no_glasses, 4 no_glovess, 2 no_vests, 18.6ms\n",
      "video 2/4 (frame 491/646) f:\\PRACA_MAGISTERSKA\\DATASETS\\PREDYKCJA\\videos\\pieknie.webm: 384x640 1 no_glasses, 4 no_glovess, 2 no_vests, 18.6ms\n",
      "video 2/4 (frame 492/646) f:\\PRACA_MAGISTERSKA\\DATASETS\\PREDYKCJA\\videos\\pieknie.webm: 384x640 2 no_glassess, 4 no_glovess, 2 no_vests, 18.6ms\n",
      "video 2/4 (frame 493/646) f:\\PRACA_MAGISTERSKA\\DATASETS\\PREDYKCJA\\videos\\pieknie.webm: 384x640 1 no_glasses, 4 no_glovess, 2 no_vests, 18.6ms\n",
      "video 2/4 (frame 494/646) f:\\PRACA_MAGISTERSKA\\DATASETS\\PREDYKCJA\\videos\\pieknie.webm: 384x640 1 no_glasses, 4 no_glovess, 2 no_vests, 18.6ms\n",
      "video 2/4 (frame 495/646) f:\\PRACA_MAGISTERSKA\\DATASETS\\PREDYKCJA\\videos\\pieknie.webm: 384x640 2 no_glassess, 4 no_glovess, 2 no_vests, 18.6ms\n",
      "video 2/4 (frame 496/646) f:\\PRACA_MAGISTERSKA\\DATASETS\\PREDYKCJA\\videos\\pieknie.webm: 384x640 2 no_glassess, 4 no_glovess, 2 no_vests, 18.6ms\n",
      "video 2/4 (frame 497/646) f:\\PRACA_MAGISTERSKA\\DATASETS\\PREDYKCJA\\videos\\pieknie.webm: 384x640 2 no_glassess, 4 no_glovess, 2 no_vests, 18.6ms\n",
      "video 2/4 (frame 498/646) f:\\PRACA_MAGISTERSKA\\DATASETS\\PREDYKCJA\\videos\\pieknie.webm: 384x640 1 no_glasses, 4 no_glovess, 2 no_vests, 18.6ms\n",
      "video 2/4 (frame 499/646) f:\\PRACA_MAGISTERSKA\\DATASETS\\PREDYKCJA\\videos\\pieknie.webm: 384x640 2 no_glassess, 5 no_glovess, 2 no_vests, 18.6ms\n",
      "video 2/4 (frame 500/646) f:\\PRACA_MAGISTERSKA\\DATASETS\\PREDYKCJA\\videos\\pieknie.webm: 384x640 2 no_glassess, 5 no_glovess, 1 no_vest, 18.6ms\n",
      "video 2/4 (frame 501/646) f:\\PRACA_MAGISTERSKA\\DATASETS\\PREDYKCJA\\videos\\pieknie.webm: 384x640 1 no_glasses, 4 no_glovess, 2 no_vests, 18.6ms\n",
      "video 2/4 (frame 502/646) f:\\PRACA_MAGISTERSKA\\DATASETS\\PREDYKCJA\\videos\\pieknie.webm: 384x640 1 no_glasses, 4 no_glovess, 2 no_vests, 18.6ms\n",
      "video 2/4 (frame 503/646) f:\\PRACA_MAGISTERSKA\\DATASETS\\PREDYKCJA\\videos\\pieknie.webm: 384x640 1 no_glasses, 4 no_glovess, 2 no_vests, 18.6ms\n",
      "video 2/4 (frame 504/646) f:\\PRACA_MAGISTERSKA\\DATASETS\\PREDYKCJA\\videos\\pieknie.webm: 384x640 1 no_glasses, 4 no_glovess, 2 no_vests, 18.6ms\n",
      "video 2/4 (frame 505/646) f:\\PRACA_MAGISTERSKA\\DATASETS\\PREDYKCJA\\videos\\pieknie.webm: 384x640 1 no_glasses, 3 no_glovess, 2 no_vests, 18.6ms\n",
      "video 2/4 (frame 506/646) f:\\PRACA_MAGISTERSKA\\DATASETS\\PREDYKCJA\\videos\\pieknie.webm: 384x640 1 no_glasses, 4 no_glovess, 2 no_vests, 18.6ms\n",
      "video 2/4 (frame 507/646) f:\\PRACA_MAGISTERSKA\\DATASETS\\PREDYKCJA\\videos\\pieknie.webm: 384x640 1 no_glasses, 5 no_glovess, 2 no_vests, 18.6ms\n",
      "video 2/4 (frame 508/646) f:\\PRACA_MAGISTERSKA\\DATASETS\\PREDYKCJA\\videos\\pieknie.webm: 384x640 1 no_glasses, 4 no_glovess, 2 no_vests, 18.6ms\n",
      "video 2/4 (frame 509/646) f:\\PRACA_MAGISTERSKA\\DATASETS\\PREDYKCJA\\videos\\pieknie.webm: 384x640 1 no_glasses, 4 no_glovess, 2 no_vests, 18.6ms\n",
      "video 2/4 (frame 510/646) f:\\PRACA_MAGISTERSKA\\DATASETS\\PREDYKCJA\\videos\\pieknie.webm: 384x640 1 no_glasses, 4 no_glovess, 2 no_vests, 18.6ms\n",
      "video 2/4 (frame 511/646) f:\\PRACA_MAGISTERSKA\\DATASETS\\PREDYKCJA\\videos\\pieknie.webm: 384x640 2 no_glassess, 4 no_glovess, 2 no_vests, 18.6ms\n",
      "video 2/4 (frame 512/646) f:\\PRACA_MAGISTERSKA\\DATASETS\\PREDYKCJA\\videos\\pieknie.webm: 384x640 1 no_glasses, 3 no_glovess, 2 no_vests, 18.6ms\n",
      "video 2/4 (frame 513/646) f:\\PRACA_MAGISTERSKA\\DATASETS\\PREDYKCJA\\videos\\pieknie.webm: 384x640 1 no_glasses, 4 no_glovess, 2 no_vests, 18.6ms\n",
      "video 2/4 (frame 514/646) f:\\PRACA_MAGISTERSKA\\DATASETS\\PREDYKCJA\\videos\\pieknie.webm: 384x640 1 no_glasses, 4 no_glovess, 2 no_vests, 18.6ms\n",
      "video 2/4 (frame 515/646) f:\\PRACA_MAGISTERSKA\\DATASETS\\PREDYKCJA\\videos\\pieknie.webm: 384x640 1 no_glasses, 4 no_glovess, 2 no_vests, 18.6ms\n",
      "video 2/4 (frame 516/646) f:\\PRACA_MAGISTERSKA\\DATASETS\\PREDYKCJA\\videos\\pieknie.webm: 384x640 1 no_glasses, 4 no_glovess, 2 no_vests, 18.6ms\n",
      "video 2/4 (frame 517/646) f:\\PRACA_MAGISTERSKA\\DATASETS\\PREDYKCJA\\videos\\pieknie.webm: 384x640 1 no_glasses, 4 no_glovess, 2 no_vests, 18.6ms\n",
      "video 2/4 (frame 518/646) f:\\PRACA_MAGISTERSKA\\DATASETS\\PREDYKCJA\\videos\\pieknie.webm: 384x640 1 no_glasses, 4 no_glovess, 2 no_vests, 18.6ms\n",
      "video 2/4 (frame 519/646) f:\\PRACA_MAGISTERSKA\\DATASETS\\PREDYKCJA\\videos\\pieknie.webm: 384x640 1 no_glasses, 4 no_glovess, 2 no_vests, 18.6ms\n",
      "video 2/4 (frame 520/646) f:\\PRACA_MAGISTERSKA\\DATASETS\\PREDYKCJA\\videos\\pieknie.webm: 384x640 1 no_glasses, 4 no_glovess, 2 no_vests, 18.6ms\n",
      "video 2/4 (frame 521/646) f:\\PRACA_MAGISTERSKA\\DATASETS\\PREDYKCJA\\videos\\pieknie.webm: 384x640 1 no_glasses, 3 no_glovess, 2 no_vests, 18.6ms\n",
      "video 2/4 (frame 522/646) f:\\PRACA_MAGISTERSKA\\DATASETS\\PREDYKCJA\\videos\\pieknie.webm: 384x640 2 no_glassess, 3 no_glovess, 2 no_vests, 18.6ms\n",
      "video 2/4 (frame 523/646) f:\\PRACA_MAGISTERSKA\\DATASETS\\PREDYKCJA\\videos\\pieknie.webm: 384x640 1 no_glasses, 4 no_glovess, 2 no_vests, 18.6ms\n",
      "video 2/4 (frame 524/646) f:\\PRACA_MAGISTERSKA\\DATASETS\\PREDYKCJA\\videos\\pieknie.webm: 384x640 1 no_glasses, 4 no_glovess, 2 no_vests, 18.6ms\n",
      "video 2/4 (frame 525/646) f:\\PRACA_MAGISTERSKA\\DATASETS\\PREDYKCJA\\videos\\pieknie.webm: 384x640 1 no_glasses, 4 no_glovess, 2 no_vests, 18.6ms\n",
      "video 2/4 (frame 526/646) f:\\PRACA_MAGISTERSKA\\DATASETS\\PREDYKCJA\\videos\\pieknie.webm: 384x640 1 no_glasses, 4 no_glovess, 2 no_vests, 18.6ms\n",
      "video 2/4 (frame 527/646) f:\\PRACA_MAGISTERSKA\\DATASETS\\PREDYKCJA\\videos\\pieknie.webm: 384x640 1 no_glasses, 4 no_glovess, 2 no_vests, 18.6ms\n",
      "video 2/4 (frame 528/646) f:\\PRACA_MAGISTERSKA\\DATASETS\\PREDYKCJA\\videos\\pieknie.webm: 384x640 1 no_glasses, 4 no_glovess, 2 no_vests, 18.6ms\n",
      "video 2/4 (frame 529/646) f:\\PRACA_MAGISTERSKA\\DATASETS\\PREDYKCJA\\videos\\pieknie.webm: 384x640 1 no_glasses, 4 no_glovess, 2 no_vests, 18.6ms\n",
      "video 2/4 (frame 530/646) f:\\PRACA_MAGISTERSKA\\DATASETS\\PREDYKCJA\\videos\\pieknie.webm: 384x640 1 no_glasses, 4 no_glovess, 2 no_vests, 18.6ms\n",
      "video 2/4 (frame 531/646) f:\\PRACA_MAGISTERSKA\\DATASETS\\PREDYKCJA\\videos\\pieknie.webm: 384x640 1 no_glasses, 4 no_glovess, 2 no_vests, 18.6ms\n",
      "video 2/4 (frame 532/646) f:\\PRACA_MAGISTERSKA\\DATASETS\\PREDYKCJA\\videos\\pieknie.webm: 384x640 1 no_glasses, 4 no_glovess, 2 no_vests, 18.6ms\n",
      "video 2/4 (frame 533/646) f:\\PRACA_MAGISTERSKA\\DATASETS\\PREDYKCJA\\videos\\pieknie.webm: 384x640 1 no_glasses, 4 no_glovess, 2 no_vests, 18.6ms\n",
      "video 2/4 (frame 534/646) f:\\PRACA_MAGISTERSKA\\DATASETS\\PREDYKCJA\\videos\\pieknie.webm: 384x640 1 no_glasses, 5 no_glovess, 2 no_vests, 18.6ms\n",
      "video 2/4 (frame 535/646) f:\\PRACA_MAGISTERSKA\\DATASETS\\PREDYKCJA\\videos\\pieknie.webm: 384x640 1 no_glasses, 3 no_glovess, 2 no_vests, 18.6ms\n",
      "video 2/4 (frame 536/646) f:\\PRACA_MAGISTERSKA\\DATASETS\\PREDYKCJA\\videos\\pieknie.webm: 384x640 1 no_glasses, 4 no_glovess, 2 no_vests, 18.6ms\n",
      "video 2/4 (frame 537/646) f:\\PRACA_MAGISTERSKA\\DATASETS\\PREDYKCJA\\videos\\pieknie.webm: 384x640 1 no_glasses, 4 no_glovess, 2 no_vests, 18.6ms\n",
      "video 2/4 (frame 538/646) f:\\PRACA_MAGISTERSKA\\DATASETS\\PREDYKCJA\\videos\\pieknie.webm: 384x640 2 no_glassess, 4 no_glovess, 2 no_vests, 18.6ms\n",
      "video 2/4 (frame 539/646) f:\\PRACA_MAGISTERSKA\\DATASETS\\PREDYKCJA\\videos\\pieknie.webm: 384x640 2 no_glassess, 4 no_glovess, 2 no_vests, 18.6ms\n",
      "video 2/4 (frame 540/646) f:\\PRACA_MAGISTERSKA\\DATASETS\\PREDYKCJA\\videos\\pieknie.webm: 384x640 2 no_glassess, 4 no_glovess, 2 no_vests, 18.6ms\n",
      "video 2/4 (frame 541/646) f:\\PRACA_MAGISTERSKA\\DATASETS\\PREDYKCJA\\videos\\pieknie.webm: 384x640 2 no_glassess, 4 no_glovess, 2 no_vests, 18.6ms\n",
      "video 2/4 (frame 542/646) f:\\PRACA_MAGISTERSKA\\DATASETS\\PREDYKCJA\\videos\\pieknie.webm: 384x640 2 no_glassess, 4 no_glovess, 2 no_vests, 18.5ms\n",
      "video 2/4 (frame 543/646) f:\\PRACA_MAGISTERSKA\\DATASETS\\PREDYKCJA\\videos\\pieknie.webm: 384x640 2 no_glassess, 4 no_glovess, 2 no_vests, 18.5ms\n",
      "video 2/4 (frame 544/646) f:\\PRACA_MAGISTERSKA\\DATASETS\\PREDYKCJA\\videos\\pieknie.webm: 384x640 2 no_glassess, 4 no_glovess, 2 no_vests, 18.5ms\n",
      "video 2/4 (frame 545/646) f:\\PRACA_MAGISTERSKA\\DATASETS\\PREDYKCJA\\videos\\pieknie.webm: 384x640 2 no_glassess, 4 no_glovess, 2 no_vests, 18.5ms\n",
      "video 2/4 (frame 546/646) f:\\PRACA_MAGISTERSKA\\DATASETS\\PREDYKCJA\\videos\\pieknie.webm: 384x640 1 no_glasses, 4 no_glovess, 2 no_vests, 18.5ms\n",
      "video 2/4 (frame 547/646) f:\\PRACA_MAGISTERSKA\\DATASETS\\PREDYKCJA\\videos\\pieknie.webm: 384x640 1 no_glasses, 4 no_glovess, 2 no_vests, 18.5ms\n",
      "video 2/4 (frame 548/646) f:\\PRACA_MAGISTERSKA\\DATASETS\\PREDYKCJA\\videos\\pieknie.webm: 384x640 1 no_glasses, 4 no_glovess, 2 no_vests, 18.5ms\n",
      "video 2/4 (frame 549/646) f:\\PRACA_MAGISTERSKA\\DATASETS\\PREDYKCJA\\videos\\pieknie.webm: 384x640 2 no_glassess, 4 no_glovess, 2 no_vests, 18.5ms\n",
      "video 2/4 (frame 550/646) f:\\PRACA_MAGISTERSKA\\DATASETS\\PREDYKCJA\\videos\\pieknie.webm: 384x640 2 no_glassess, 4 no_glovess, 2 no_vests, 18.5ms\n",
      "video 2/4 (frame 551/646) f:\\PRACA_MAGISTERSKA\\DATASETS\\PREDYKCJA\\videos\\pieknie.webm: 384x640 2 no_glassess, 4 no_glovess, 2 no_vests, 18.5ms\n",
      "video 2/4 (frame 552/646) f:\\PRACA_MAGISTERSKA\\DATASETS\\PREDYKCJA\\videos\\pieknie.webm: 384x640 2 no_glassess, 4 no_glovess, 2 no_vests, 18.5ms\n",
      "video 2/4 (frame 553/646) f:\\PRACA_MAGISTERSKA\\DATASETS\\PREDYKCJA\\videos\\pieknie.webm: 384x640 2 no_glassess, 4 no_glovess, 2 no_vests, 18.5ms\n",
      "video 2/4 (frame 554/646) f:\\PRACA_MAGISTERSKA\\DATASETS\\PREDYKCJA\\videos\\pieknie.webm: 384x640 2 no_glassess, 4 no_glovess, 2 no_vests, 18.5ms\n",
      "video 2/4 (frame 555/646) f:\\PRACA_MAGISTERSKA\\DATASETS\\PREDYKCJA\\videos\\pieknie.webm: 384x640 2 no_glassess, 4 no_glovess, 2 no_vests, 18.5ms\n",
      "video 2/4 (frame 556/646) f:\\PRACA_MAGISTERSKA\\DATASETS\\PREDYKCJA\\videos\\pieknie.webm: 384x640 2 no_glassess, 4 no_glovess, 2 no_vests, 18.5ms\n",
      "video 2/4 (frame 557/646) f:\\PRACA_MAGISTERSKA\\DATASETS\\PREDYKCJA\\videos\\pieknie.webm: 384x640 2 no_glassess, 4 no_glovess, 2 no_vests, 18.5ms\n",
      "video 2/4 (frame 558/646) f:\\PRACA_MAGISTERSKA\\DATASETS\\PREDYKCJA\\videos\\pieknie.webm: 384x640 2 no_glassess, 4 no_glovess, 2 no_vests, 18.5ms\n",
      "video 2/4 (frame 559/646) f:\\PRACA_MAGISTERSKA\\DATASETS\\PREDYKCJA\\videos\\pieknie.webm: 384x640 1 no_glasses, 4 no_glovess, 2 no_vests, 18.5ms\n",
      "video 2/4 (frame 560/646) f:\\PRACA_MAGISTERSKA\\DATASETS\\PREDYKCJA\\videos\\pieknie.webm: 384x640 1 no_glasses, 4 no_glovess, 2 no_vests, 18.5ms\n",
      "video 2/4 (frame 561/646) f:\\PRACA_MAGISTERSKA\\DATASETS\\PREDYKCJA\\videos\\pieknie.webm: 384x640 1 no_glasses, 4 no_glovess, 2 no_vests, 18.5ms\n",
      "video 2/4 (frame 562/646) f:\\PRACA_MAGISTERSKA\\DATASETS\\PREDYKCJA\\videos\\pieknie.webm: 384x640 2 no_glassess, 4 no_glovess, 2 no_vests, 18.5ms\n",
      "video 2/4 (frame 563/646) f:\\PRACA_MAGISTERSKA\\DATASETS\\PREDYKCJA\\videos\\pieknie.webm: 384x640 1 no_glasses, 4 no_glovess, 2 no_vests, 18.5ms\n",
      "video 2/4 (frame 564/646) f:\\PRACA_MAGISTERSKA\\DATASETS\\PREDYKCJA\\videos\\pieknie.webm: 384x640 1 no_glasses, 4 no_glovess, 2 no_vests, 18.5ms\n",
      "video 2/4 (frame 565/646) f:\\PRACA_MAGISTERSKA\\DATASETS\\PREDYKCJA\\videos\\pieknie.webm: 384x640 1 no_glasses, 4 no_glovess, 2 no_vests, 18.5ms\n",
      "video 2/4 (frame 566/646) f:\\PRACA_MAGISTERSKA\\DATASETS\\PREDYKCJA\\videos\\pieknie.webm: 384x640 2 no_glassess, 4 no_glovess, 2 no_vests, 18.5ms\n",
      "video 2/4 (frame 567/646) f:\\PRACA_MAGISTERSKA\\DATASETS\\PREDYKCJA\\videos\\pieknie.webm: 384x640 3 no_glassess, 4 no_glovess, 2 no_vests, 18.5ms\n",
      "video 2/4 (frame 568/646) f:\\PRACA_MAGISTERSKA\\DATASETS\\PREDYKCJA\\videos\\pieknie.webm: 384x640 2 no_glassess, 4 no_glovess, 2 no_vests, 18.5ms\n",
      "video 2/4 (frame 569/646) f:\\PRACA_MAGISTERSKA\\DATASETS\\PREDYKCJA\\videos\\pieknie.webm: 384x640 2 no_glassess, 4 no_glovess, 2 no_vests, 18.5ms\n",
      "video 2/4 (frame 570/646) f:\\PRACA_MAGISTERSKA\\DATASETS\\PREDYKCJA\\videos\\pieknie.webm: 384x640 2 no_glassess, 4 no_glovess, 2 no_vests, 18.5ms\n",
      "video 2/4 (frame 571/646) f:\\PRACA_MAGISTERSKA\\DATASETS\\PREDYKCJA\\videos\\pieknie.webm: 384x640 2 no_glassess, 4 no_glovess, 2 no_vests, 18.5ms\n",
      "video 2/4 (frame 572/646) f:\\PRACA_MAGISTERSKA\\DATASETS\\PREDYKCJA\\videos\\pieknie.webm: 384x640 2 no_glassess, 4 no_glovess, 2 no_vests, 18.5ms\n",
      "video 2/4 (frame 573/646) f:\\PRACA_MAGISTERSKA\\DATASETS\\PREDYKCJA\\videos\\pieknie.webm: 384x640 1 no_glasses, 4 no_glovess, 2 no_vests, 18.5ms\n",
      "video 2/4 (frame 574/646) f:\\PRACA_MAGISTERSKA\\DATASETS\\PREDYKCJA\\videos\\pieknie.webm: 384x640 2 no_glassess, 4 no_glovess, 2 no_vests, 18.5ms\n",
      "video 2/4 (frame 575/646) f:\\PRACA_MAGISTERSKA\\DATASETS\\PREDYKCJA\\videos\\pieknie.webm: 384x640 1 no_glasses, 4 no_glovess, 2 no_vests, 18.5ms\n",
      "video 2/4 (frame 576/646) f:\\PRACA_MAGISTERSKA\\DATASETS\\PREDYKCJA\\videos\\pieknie.webm: 384x640 2 no_glassess, 4 no_glovess, 2 no_vests, 18.5ms\n",
      "video 2/4 (frame 577/646) f:\\PRACA_MAGISTERSKA\\DATASETS\\PREDYKCJA\\videos\\pieknie.webm: 384x640 2 no_glassess, 4 no_glovess, 2 no_vests, 18.5ms\n",
      "video 2/4 (frame 578/646) f:\\PRACA_MAGISTERSKA\\DATASETS\\PREDYKCJA\\videos\\pieknie.webm: 384x640 1 no_glasses, 4 no_glovess, 2 no_vests, 18.5ms\n",
      "video 2/4 (frame 579/646) f:\\PRACA_MAGISTERSKA\\DATASETS\\PREDYKCJA\\videos\\pieknie.webm: 384x640 1 no_glasses, 4 no_glovess, 2 no_vests, 18.5ms\n",
      "video 2/4 (frame 580/646) f:\\PRACA_MAGISTERSKA\\DATASETS\\PREDYKCJA\\videos\\pieknie.webm: 384x640 1 no_glasses, 3 no_glovess, 2 no_vests, 18.5ms\n",
      "video 2/4 (frame 581/646) f:\\PRACA_MAGISTERSKA\\DATASETS\\PREDYKCJA\\videos\\pieknie.webm: 384x640 1 no_glasses, 4 no_glovess, 2 no_vests, 18.5ms\n",
      "video 2/4 (frame 582/646) f:\\PRACA_MAGISTERSKA\\DATASETS\\PREDYKCJA\\videos\\pieknie.webm: 384x640 1 no_glasses, 4 no_glovess, 2 no_vests, 18.5ms\n",
      "video 2/4 (frame 583/646) f:\\PRACA_MAGISTERSKA\\DATASETS\\PREDYKCJA\\videos\\pieknie.webm: 384x640 1 no_glasses, 4 no_glovess, 2 no_vests, 18.5ms\n",
      "video 2/4 (frame 584/646) f:\\PRACA_MAGISTERSKA\\DATASETS\\PREDYKCJA\\videos\\pieknie.webm: 384x640 2 no_glassess, 4 no_glovess, 2 no_vests, 18.5ms\n",
      "video 2/4 (frame 585/646) f:\\PRACA_MAGISTERSKA\\DATASETS\\PREDYKCJA\\videos\\pieknie.webm: 384x640 3 no_glassess, 4 no_glovess, 2 no_vests, 18.5ms\n",
      "video 2/4 (frame 586/646) f:\\PRACA_MAGISTERSKA\\DATASETS\\PREDYKCJA\\videos\\pieknie.webm: 384x640 2 no_glassess, 4 no_glovess, 2 no_vests, 18.5ms\n",
      "video 2/4 (frame 587/646) f:\\PRACA_MAGISTERSKA\\DATASETS\\PREDYKCJA\\videos\\pieknie.webm: 384x640 2 no_glassess, 4 no_glovess, 2 no_vests, 18.5ms\n",
      "video 2/4 (frame 588/646) f:\\PRACA_MAGISTERSKA\\DATASETS\\PREDYKCJA\\videos\\pieknie.webm: 384x640 4 no_glovess, 2 no_vests, 18.5ms\n",
      "video 2/4 (frame 589/646) f:\\PRACA_MAGISTERSKA\\DATASETS\\PREDYKCJA\\videos\\pieknie.webm: 384x640 2 no_glassess, 1 no_gloves, 2 no_vests, 18.5ms\n",
      "video 2/4 (frame 590/646) f:\\PRACA_MAGISTERSKA\\DATASETS\\PREDYKCJA\\videos\\pieknie.webm: 384x640 2 no_glassess, 4 no_glovess, 2 no_vests, 18.5ms\n",
      "video 2/4 (frame 591/646) f:\\PRACA_MAGISTERSKA\\DATASETS\\PREDYKCJA\\videos\\pieknie.webm: 384x640 1 no_glasses, 4 no_glovess, 2 no_vests, 18.5ms\n",
      "video 2/4 (frame 592/646) f:\\PRACA_MAGISTERSKA\\DATASETS\\PREDYKCJA\\videos\\pieknie.webm: 384x640 1 no_glasses, 4 no_glovess, 2 no_vests, 18.5ms\n",
      "video 2/4 (frame 593/646) f:\\PRACA_MAGISTERSKA\\DATASETS\\PREDYKCJA\\videos\\pieknie.webm: 384x640 1 no_glasses, 4 no_glovess, 2 no_vests, 18.5ms\n",
      "video 2/4 (frame 594/646) f:\\PRACA_MAGISTERSKA\\DATASETS\\PREDYKCJA\\videos\\pieknie.webm: 384x640 1 no_glasses, 3 no_glovess, 2 no_vests, 18.5ms\n",
      "video 2/4 (frame 595/646) f:\\PRACA_MAGISTERSKA\\DATASETS\\PREDYKCJA\\videos\\pieknie.webm: 384x640 1 no_glasses, 4 no_glovess, 2 no_vests, 18.5ms\n",
      "video 2/4 (frame 596/646) f:\\PRACA_MAGISTERSKA\\DATASETS\\PREDYKCJA\\videos\\pieknie.webm: 384x640 1 no_glasses, 4 no_glovess, 2 no_vests, 18.5ms\n",
      "video 2/4 (frame 597/646) f:\\PRACA_MAGISTERSKA\\DATASETS\\PREDYKCJA\\videos\\pieknie.webm: 384x640 2 no_glassess, 4 no_glovess, 2 no_vests, 18.5ms\n",
      "video 2/4 (frame 598/646) f:\\PRACA_MAGISTERSKA\\DATASETS\\PREDYKCJA\\videos\\pieknie.webm: 384x640 2 no_glassess, 4 no_glovess, 2 no_vests, 18.5ms\n",
      "video 2/4 (frame 599/646) f:\\PRACA_MAGISTERSKA\\DATASETS\\PREDYKCJA\\videos\\pieknie.webm: 384x640 2 no_glassess, 4 no_glovess, 2 no_vests, 18.5ms\n",
      "video 2/4 (frame 600/646) f:\\PRACA_MAGISTERSKA\\DATASETS\\PREDYKCJA\\videos\\pieknie.webm: 384x640 2 no_glassess, 4 no_glovess, 2 no_vests, 18.5ms\n",
      "video 2/4 (frame 601/646) f:\\PRACA_MAGISTERSKA\\DATASETS\\PREDYKCJA\\videos\\pieknie.webm: 384x640 1 no_glasses, 4 no_glovess, 2 no_vests, 18.5ms\n",
      "video 2/4 (frame 602/646) f:\\PRACA_MAGISTERSKA\\DATASETS\\PREDYKCJA\\videos\\pieknie.webm: 384x640 2 no_glassess, 4 no_glovess, 2 no_vests, 18.5ms\n",
      "video 2/4 (frame 603/646) f:\\PRACA_MAGISTERSKA\\DATASETS\\PREDYKCJA\\videos\\pieknie.webm: 384x640 2 no_glassess, 4 no_glovess, 2 no_vests, 18.5ms\n",
      "video 2/4 (frame 604/646) f:\\PRACA_MAGISTERSKA\\DATASETS\\PREDYKCJA\\videos\\pieknie.webm: 384x640 2 no_glassess, 4 no_glovess, 2 no_vests, 18.5ms\n",
      "video 2/4 (frame 605/646) f:\\PRACA_MAGISTERSKA\\DATASETS\\PREDYKCJA\\videos\\pieknie.webm: 384x640 2 no_glassess, 4 no_glovess, 2 no_vests, 18.5ms\n",
      "video 2/4 (frame 606/646) f:\\PRACA_MAGISTERSKA\\DATASETS\\PREDYKCJA\\videos\\pieknie.webm: 384x640 2 no_glassess, 4 no_glovess, 2 no_vests, 18.6ms\n",
      "video 2/4 (frame 607/646) f:\\PRACA_MAGISTERSKA\\DATASETS\\PREDYKCJA\\videos\\pieknie.webm: 384x640 3 no_glassess, 3 no_glovess, 2 no_vests, 18.6ms\n",
      "video 2/4 (frame 608/646) f:\\PRACA_MAGISTERSKA\\DATASETS\\PREDYKCJA\\videos\\pieknie.webm: 384x640 2 no_glassess, 4 no_glovess, 2 no_vests, 18.6ms\n",
      "video 2/4 (frame 609/646) f:\\PRACA_MAGISTERSKA\\DATASETS\\PREDYKCJA\\videos\\pieknie.webm: 384x640 2 no_glassess, 4 no_glovess, 2 no_vests, 18.6ms\n",
      "video 2/4 (frame 610/646) f:\\PRACA_MAGISTERSKA\\DATASETS\\PREDYKCJA\\videos\\pieknie.webm: 384x640 2 no_glassess, 4 no_glovess, 2 no_vests, 18.6ms\n",
      "video 2/4 (frame 611/646) f:\\PRACA_MAGISTERSKA\\DATASETS\\PREDYKCJA\\videos\\pieknie.webm: 384x640 2 no_glassess, 4 no_glovess, 2 no_vests, 18.6ms\n",
      "video 2/4 (frame 612/646) f:\\PRACA_MAGISTERSKA\\DATASETS\\PREDYKCJA\\videos\\pieknie.webm: 384x640 2 no_glassess, 4 no_glovess, 2 no_vests, 18.6ms\n",
      "video 2/4 (frame 613/646) f:\\PRACA_MAGISTERSKA\\DATASETS\\PREDYKCJA\\videos\\pieknie.webm: 384x640 2 no_glassess, 4 no_glovess, 2 no_vests, 18.6ms\n",
      "video 2/4 (frame 614/646) f:\\PRACA_MAGISTERSKA\\DATASETS\\PREDYKCJA\\videos\\pieknie.webm: 384x640 1 no_glasses, 4 no_glovess, 2 no_vests, 18.6ms\n",
      "video 2/4 (frame 615/646) f:\\PRACA_MAGISTERSKA\\DATASETS\\PREDYKCJA\\videos\\pieknie.webm: 384x640 1 no_glasses, 4 no_glovess, 2 no_vests, 18.6ms\n",
      "video 2/4 (frame 616/646) f:\\PRACA_MAGISTERSKA\\DATASETS\\PREDYKCJA\\videos\\pieknie.webm: 384x640 1 no_glasses, 4 no_glovess, 2 no_vests, 18.6ms\n",
      "video 2/4 (frame 617/646) f:\\PRACA_MAGISTERSKA\\DATASETS\\PREDYKCJA\\videos\\pieknie.webm: 384x640 1 no_glasses, 4 no_glovess, 2 no_vests, 18.6ms\n",
      "video 2/4 (frame 618/646) f:\\PRACA_MAGISTERSKA\\DATASETS\\PREDYKCJA\\videos\\pieknie.webm: 384x640 2 no_glassess, 4 no_glovess, 2 no_vests, 18.6ms\n",
      "video 2/4 (frame 619/646) f:\\PRACA_MAGISTERSKA\\DATASETS\\PREDYKCJA\\videos\\pieknie.webm: 384x640 2 no_glassess, 4 no_glovess, 2 no_vests, 18.6ms\n",
      "video 2/4 (frame 620/646) f:\\PRACA_MAGISTERSKA\\DATASETS\\PREDYKCJA\\videos\\pieknie.webm: 384x640 2 no_glassess, 4 no_glovess, 2 no_vests, 18.6ms\n",
      "video 2/4 (frame 621/646) f:\\PRACA_MAGISTERSKA\\DATASETS\\PREDYKCJA\\videos\\pieknie.webm: 384x640 2 no_glassess, 4 no_glovess, 2 no_vests, 18.6ms\n",
      "video 2/4 (frame 622/646) f:\\PRACA_MAGISTERSKA\\DATASETS\\PREDYKCJA\\videos\\pieknie.webm: 384x640 2 no_glassess, 4 no_glovess, 2 no_vests, 18.6ms\n",
      "video 2/4 (frame 623/646) f:\\PRACA_MAGISTERSKA\\DATASETS\\PREDYKCJA\\videos\\pieknie.webm: 384x640 2 no_glassess, 3 no_glovess, 2 no_vests, 18.6ms\n",
      "video 2/4 (frame 624/646) f:\\PRACA_MAGISTERSKA\\DATASETS\\PREDYKCJA\\videos\\pieknie.webm: 384x640 2 no_glassess, 4 no_glovess, 2 no_vests, 18.6ms\n",
      "video 2/4 (frame 625/646) f:\\PRACA_MAGISTERSKA\\DATASETS\\PREDYKCJA\\videos\\pieknie.webm: 384x640 2 no_glassess, 4 no_glovess, 2 no_vests, 18.6ms\n",
      "video 2/4 (frame 626/646) f:\\PRACA_MAGISTERSKA\\DATASETS\\PREDYKCJA\\videos\\pieknie.webm: 384x640 2 no_glassess, 4 no_glovess, 2 no_vests, 18.6ms\n",
      "video 2/4 (frame 627/646) f:\\PRACA_MAGISTERSKA\\DATASETS\\PREDYKCJA\\videos\\pieknie.webm: 384x640 2 no_glassess, 4 no_glovess, 2 no_vests, 18.6ms\n",
      "video 2/4 (frame 628/646) f:\\PRACA_MAGISTERSKA\\DATASETS\\PREDYKCJA\\videos\\pieknie.webm: 384x640 2 no_glassess, 4 no_glovess, 2 no_vests, 18.6ms\n",
      "video 2/4 (frame 629/646) f:\\PRACA_MAGISTERSKA\\DATASETS\\PREDYKCJA\\videos\\pieknie.webm: 384x640 2 no_glassess, 4 no_glovess, 2 no_vests, 18.6ms\n",
      "video 2/4 (frame 630/646) f:\\PRACA_MAGISTERSKA\\DATASETS\\PREDYKCJA\\videos\\pieknie.webm: 384x640 2 no_glassess, 4 no_glovess, 2 no_vests, 18.6ms\n",
      "video 2/4 (frame 631/646) f:\\PRACA_MAGISTERSKA\\DATASETS\\PREDYKCJA\\videos\\pieknie.webm: 384x640 2 no_glassess, 4 no_glovess, 2 no_vests, 18.6ms\n",
      "video 2/4 (frame 632/646) f:\\PRACA_MAGISTERSKA\\DATASETS\\PREDYKCJA\\videos\\pieknie.webm: 384x640 2 no_glassess, 4 no_glovess, 2 no_vests, 18.6ms\n",
      "video 2/4 (frame 633/646) f:\\PRACA_MAGISTERSKA\\DATASETS\\PREDYKCJA\\videos\\pieknie.webm: 384x640 2 no_glassess, 4 no_glovess, 2 no_vests, 18.6ms\n",
      "video 2/4 (frame 634/646) f:\\PRACA_MAGISTERSKA\\DATASETS\\PREDYKCJA\\videos\\pieknie.webm: 384x640 2 no_glassess, 4 no_glovess, 2 no_vests, 18.6ms\n",
      "video 2/4 (frame 635/646) f:\\PRACA_MAGISTERSKA\\DATASETS\\PREDYKCJA\\videos\\pieknie.webm: 384x640 2 no_glassess, 4 no_glovess, 2 no_vests, 18.6ms\n",
      "video 2/4 (frame 636/646) f:\\PRACA_MAGISTERSKA\\DATASETS\\PREDYKCJA\\videos\\pieknie.webm: 384x640 2 no_glassess, 4 no_glovess, 2 no_vests, 18.6ms\n",
      "video 2/4 (frame 637/646) f:\\PRACA_MAGISTERSKA\\DATASETS\\PREDYKCJA\\videos\\pieknie.webm: 384x640 1 no_glasses, 4 no_glovess, 2 no_vests, 18.6ms\n",
      "video 2/4 (frame 638/646) f:\\PRACA_MAGISTERSKA\\DATASETS\\PREDYKCJA\\videos\\pieknie.webm: 384x640 1 no_glasses, 4 no_glovess, 2 no_vests, 18.6ms\n",
      "video 2/4 (frame 639/646) f:\\PRACA_MAGISTERSKA\\DATASETS\\PREDYKCJA\\videos\\pieknie.webm: 384x640 1 no_glasses, 4 no_glovess, 2 no_vests, 18.6ms\n",
      "video 2/4 (frame 640/646) f:\\PRACA_MAGISTERSKA\\DATASETS\\PREDYKCJA\\videos\\pieknie.webm: 384x640 2 no_glassess, 4 no_glovess, 2 no_vests, 18.6ms\n",
      "video 2/4 (frame 641/646) f:\\PRACA_MAGISTERSKA\\DATASETS\\PREDYKCJA\\videos\\pieknie.webm: 384x640 3 no_glassess, 5 no_glovess, 2 no_vests, 18.6ms\n",
      "video 2/4 (frame 642/646) f:\\PRACA_MAGISTERSKA\\DATASETS\\PREDYKCJA\\videos\\pieknie.webm: 384x640 2 no_glassess, 4 no_glovess, 2 no_vests, 18.6ms\n",
      "video 2/4 (frame 643/646) f:\\PRACA_MAGISTERSKA\\DATASETS\\PREDYKCJA\\videos\\pieknie.webm: 384x640 2 no_glassess, 4 no_glovess, 2 no_vests, 18.6ms\n",
      "video 2/4 (frame 644/646) f:\\PRACA_MAGISTERSKA\\DATASETS\\PREDYKCJA\\videos\\pieknie.webm: 384x640 2 no_glassess, 4 no_glovess, 2 no_vests, 18.6ms\n",
      "video 2/4 (frame 645/646) f:\\PRACA_MAGISTERSKA\\DATASETS\\PREDYKCJA\\videos\\pieknie.webm: 384x640 2 no_glassess, 4 no_glovess, 2 no_vests, 18.6ms\n",
      "video 3/4 (frame 1/258) f:\\PRACA_MAGISTERSKA\\DATASETS\\PREDYKCJA\\videos\\slabe.webm: 384x640 2 no_glassess, 7 no_glovess, 2 no_helmets, 4 no_vests, 18.6ms\n",
      "video 3/4 (frame 2/258) f:\\PRACA_MAGISTERSKA\\DATASETS\\PREDYKCJA\\videos\\slabe.webm: 384x640 2 no_glassess, 7 no_glovess, 2 no_helmets, 4 no_vests, 18.6ms\n",
      "video 3/4 (frame 3/258) f:\\PRACA_MAGISTERSKA\\DATASETS\\PREDYKCJA\\videos\\slabe.webm: 384x640 2 no_glassess, 7 no_glovess, 2 no_helmets, 4 no_vests, 18.6ms\n",
      "video 3/4 (frame 4/258) f:\\PRACA_MAGISTERSKA\\DATASETS\\PREDYKCJA\\videos\\slabe.webm: 384x640 2 no_glassess, 7 no_glovess, 2 no_helmets, 4 no_vests, 18.6ms\n",
      "video 3/4 (frame 5/258) f:\\PRACA_MAGISTERSKA\\DATASETS\\PREDYKCJA\\videos\\slabe.webm: 384x640 3 no_glassess, 7 no_glovess, 2 no_helmets, 4 no_vests, 18.6ms\n",
      "video 3/4 (frame 6/258) f:\\PRACA_MAGISTERSKA\\DATASETS\\PREDYKCJA\\videos\\slabe.webm: 384x640 2 no_glassess, 7 no_glovess, 2 no_helmets, 4 no_vests, 18.6ms\n",
      "video 3/4 (frame 7/258) f:\\PRACA_MAGISTERSKA\\DATASETS\\PREDYKCJA\\videos\\slabe.webm: 384x640 3 no_glassess, 7 no_glovess, 2 no_helmets, 4 no_vests, 18.6ms\n",
      "video 3/4 (frame 8/258) f:\\PRACA_MAGISTERSKA\\DATASETS\\PREDYKCJA\\videos\\slabe.webm: 384x640 3 no_glassess, 7 no_glovess, 2 no_helmets, 4 no_vests, 18.6ms\n",
      "video 3/4 (frame 9/258) f:\\PRACA_MAGISTERSKA\\DATASETS\\PREDYKCJA\\videos\\slabe.webm: 384x640 2 no_glassess, 7 no_glovess, 2 no_helmets, 4 no_vests, 18.6ms\n",
      "video 3/4 (frame 10/258) f:\\PRACA_MAGISTERSKA\\DATASETS\\PREDYKCJA\\videos\\slabe.webm: 384x640 4 no_glassess, 8 no_glovess, 2 no_helmets, 4 no_vests, 18.6ms\n",
      "video 3/4 (frame 11/258) f:\\PRACA_MAGISTERSKA\\DATASETS\\PREDYKCJA\\videos\\slabe.webm: 384x640 2 no_glassess, 7 no_glovess, 2 no_helmets, 4 no_vests, 18.6ms\n",
      "video 3/4 (frame 12/258) f:\\PRACA_MAGISTERSKA\\DATASETS\\PREDYKCJA\\videos\\slabe.webm: 384x640 2 no_glassess, 8 no_glovess, 2 no_helmets, 4 no_vests, 18.6ms\n",
      "video 3/4 (frame 13/258) f:\\PRACA_MAGISTERSKA\\DATASETS\\PREDYKCJA\\videos\\slabe.webm: 384x640 2 no_glassess, 7 no_glovess, 2 no_helmets, 4 no_vests, 18.6ms\n",
      "video 3/4 (frame 14/258) f:\\PRACA_MAGISTERSKA\\DATASETS\\PREDYKCJA\\videos\\slabe.webm: 384x640 3 no_glassess, 7 no_glovess, 2 no_helmets, 4 no_vests, 18.6ms\n",
      "video 3/4 (frame 15/258) f:\\PRACA_MAGISTERSKA\\DATASETS\\PREDYKCJA\\videos\\slabe.webm: 384x640 2 no_glassess, 7 no_glovess, 2 no_helmets, 4 no_vests, 18.6ms\n",
      "video 3/4 (frame 16/258) f:\\PRACA_MAGISTERSKA\\DATASETS\\PREDYKCJA\\videos\\slabe.webm: 384x640 2 no_glassess, 7 no_glovess, 3 no_helmets, 4 no_vests, 18.6ms\n",
      "video 3/4 (frame 17/258) f:\\PRACA_MAGISTERSKA\\DATASETS\\PREDYKCJA\\videos\\slabe.webm: 384x640 2 no_glassess, 7 no_glovess, 2 no_helmets, 4 no_vests, 18.6ms\n",
      "video 3/4 (frame 18/258) f:\\PRACA_MAGISTERSKA\\DATASETS\\PREDYKCJA\\videos\\slabe.webm: 384x640 2 no_glassess, 7 no_glovess, 2 no_helmets, 4 no_vests, 18.6ms\n",
      "video 3/4 (frame 19/258) f:\\PRACA_MAGISTERSKA\\DATASETS\\PREDYKCJA\\videos\\slabe.webm: 384x640 3 no_glassess, 7 no_glovess, 2 no_helmets, 4 no_vests, 18.6ms\n",
      "video 3/4 (frame 20/258) f:\\PRACA_MAGISTERSKA\\DATASETS\\PREDYKCJA\\videos\\slabe.webm: 384x640 3 no_glassess, 7 no_glovess, 2 no_helmets, 4 no_vests, 18.6ms\n",
      "video 3/4 (frame 21/258) f:\\PRACA_MAGISTERSKA\\DATASETS\\PREDYKCJA\\videos\\slabe.webm: 384x640 2 no_glassess, 7 no_glovess, 2 no_helmets, 4 no_vests, 18.6ms\n",
      "video 3/4 (frame 22/258) f:\\PRACA_MAGISTERSKA\\DATASETS\\PREDYKCJA\\videos\\slabe.webm: 384x640 2 no_glassess, 7 no_glovess, 2 no_helmets, 4 no_vests, 18.6ms\n",
      "video 3/4 (frame 23/258) f:\\PRACA_MAGISTERSKA\\DATASETS\\PREDYKCJA\\videos\\slabe.webm: 384x640 4 no_glassess, 7 no_glovess, 2 no_helmets, 4 no_vests, 18.6ms\n",
      "video 3/4 (frame 24/258) f:\\PRACA_MAGISTERSKA\\DATASETS\\PREDYKCJA\\videos\\slabe.webm: 384x640 3 no_glassess, 7 no_glovess, 2 no_helmets, 4 no_vests, 18.6ms\n",
      "video 3/4 (frame 25/258) f:\\PRACA_MAGISTERSKA\\DATASETS\\PREDYKCJA\\videos\\slabe.webm: 384x640 2 no_glassess, 7 no_glovess, 2 no_helmets, 4 no_vests, 18.6ms\n",
      "video 3/4 (frame 26/258) f:\\PRACA_MAGISTERSKA\\DATASETS\\PREDYKCJA\\videos\\slabe.webm: 384x640 3 no_glassess, 7 no_glovess, 2 no_helmets, 4 no_vests, 18.6ms\n",
      "video 3/4 (frame 27/258) f:\\PRACA_MAGISTERSKA\\DATASETS\\PREDYKCJA\\videos\\slabe.webm: 384x640 2 no_glassess, 7 no_glovess, 2 no_helmets, 4 no_vests, 18.6ms\n",
      "video 3/4 (frame 28/258) f:\\PRACA_MAGISTERSKA\\DATASETS\\PREDYKCJA\\videos\\slabe.webm: 384x640 3 no_glassess, 7 no_glovess, 2 no_helmets, 4 no_vests, 18.6ms\n",
      "video 3/4 (frame 29/258) f:\\PRACA_MAGISTERSKA\\DATASETS\\PREDYKCJA\\videos\\slabe.webm: 384x640 3 no_glassess, 7 no_glovess, 2 no_helmets, 4 no_vests, 18.6ms\n",
      "video 3/4 (frame 30/258) f:\\PRACA_MAGISTERSKA\\DATASETS\\PREDYKCJA\\videos\\slabe.webm: 384x640 3 no_glassess, 7 no_glovess, 2 no_helmets, 4 no_vests, 18.6ms\n",
      "video 3/4 (frame 31/258) f:\\PRACA_MAGISTERSKA\\DATASETS\\PREDYKCJA\\videos\\slabe.webm: 384x640 3 no_glassess, 6 no_glovess, 2 no_helmets, 4 no_vests, 18.6ms\n",
      "video 3/4 (frame 32/258) f:\\PRACA_MAGISTERSKA\\DATASETS\\PREDYKCJA\\videos\\slabe.webm: 384x640 2 no_glassess, 6 no_glovess, 2 no_helmets, 4 no_vests, 18.6ms\n",
      "video 3/4 (frame 33/258) f:\\PRACA_MAGISTERSKA\\DATASETS\\PREDYKCJA\\videos\\slabe.webm: 384x640 2 no_glassess, 6 no_glovess, 2 no_helmets, 4 no_vests, 18.6ms\n",
      "video 3/4 (frame 34/258) f:\\PRACA_MAGISTERSKA\\DATASETS\\PREDYKCJA\\videos\\slabe.webm: 384x640 3 no_glassess, 6 no_glovess, 2 no_helmets, 4 no_vests, 18.6ms\n",
      "video 3/4 (frame 35/258) f:\\PRACA_MAGISTERSKA\\DATASETS\\PREDYKCJA\\videos\\slabe.webm: 384x640 2 no_glassess, 6 no_glovess, 2 no_helmets, 4 no_vests, 18.6ms\n",
      "video 3/4 (frame 36/258) f:\\PRACA_MAGISTERSKA\\DATASETS\\PREDYKCJA\\videos\\slabe.webm: 384x640 1 no_glasses, 6 no_glovess, 2 no_helmets, 4 no_vests, 18.6ms\n",
      "video 3/4 (frame 37/258) f:\\PRACA_MAGISTERSKA\\DATASETS\\PREDYKCJA\\videos\\slabe.webm: 384x640 3 no_glassess, 6 no_glovess, 2 no_helmets, 4 no_vests, 18.6ms\n",
      "video 3/4 (frame 38/258) f:\\PRACA_MAGISTERSKA\\DATASETS\\PREDYKCJA\\videos\\slabe.webm: 384x640 1 no_glasses, 6 no_glovess, 2 no_helmets, 4 no_vests, 18.6ms\n",
      "video 3/4 (frame 39/258) f:\\PRACA_MAGISTERSKA\\DATASETS\\PREDYKCJA\\videos\\slabe.webm: 384x640 1 no_glasses, 6 no_glovess, 2 no_helmets, 4 no_vests, 18.6ms\n",
      "video 3/4 (frame 40/258) f:\\PRACA_MAGISTERSKA\\DATASETS\\PREDYKCJA\\videos\\slabe.webm: 384x640 2 no_glassess, 5 no_glovess, 2 no_helmets, 4 no_vests, 18.6ms\n",
      "video 3/4 (frame 41/258) f:\\PRACA_MAGISTERSKA\\DATASETS\\PREDYKCJA\\videos\\slabe.webm: 384x640 2 no_glassess, 6 no_glovess, 2 no_helmets, 4 no_vests, 18.6ms\n",
      "video 3/4 (frame 42/258) f:\\PRACA_MAGISTERSKA\\DATASETS\\PREDYKCJA\\videos\\slabe.webm: 384x640 1 no_glasses, 7 no_glovess, 2 no_helmets, 4 no_vests, 18.6ms\n",
      "video 3/4 (frame 43/258) f:\\PRACA_MAGISTERSKA\\DATASETS\\PREDYKCJA\\videos\\slabe.webm: 384x640 2 no_glassess, 7 no_glovess, 2 no_helmets, 4 no_vests, 18.6ms\n",
      "video 3/4 (frame 44/258) f:\\PRACA_MAGISTERSKA\\DATASETS\\PREDYKCJA\\videos\\slabe.webm: 384x640 2 no_glassess, 6 no_glovess, 2 no_helmets, 4 no_vests, 18.6ms\n",
      "video 3/4 (frame 45/258) f:\\PRACA_MAGISTERSKA\\DATASETS\\PREDYKCJA\\videos\\slabe.webm: 384x640 3 no_glassess, 7 no_glovess, 2 no_helmets, 4 no_vests, 18.6ms\n",
      "video 3/4 (frame 46/258) f:\\PRACA_MAGISTERSKA\\DATASETS\\PREDYKCJA\\videos\\slabe.webm: 384x640 3 no_glassess, 7 no_glovess, 2 no_helmets, 4 no_vests, 18.6ms\n",
      "video 3/4 (frame 47/258) f:\\PRACA_MAGISTERSKA\\DATASETS\\PREDYKCJA\\videos\\slabe.webm: 384x640 3 no_glassess, 7 no_glovess, 2 no_helmets, 4 no_vests, 18.6ms\n",
      "video 3/4 (frame 48/258) f:\\PRACA_MAGISTERSKA\\DATASETS\\PREDYKCJA\\videos\\slabe.webm: 384x640 2 no_glassess, 7 no_glovess, 2 no_helmets, 4 no_vests, 18.6ms\n",
      "video 3/4 (frame 49/258) f:\\PRACA_MAGISTERSKA\\DATASETS\\PREDYKCJA\\videos\\slabe.webm: 384x640 1 no_glasses, 7 no_glovess, 2 no_helmets, 4 no_vests, 18.6ms\n",
      "video 3/4 (frame 50/258) f:\\PRACA_MAGISTERSKA\\DATASETS\\PREDYKCJA\\videos\\slabe.webm: 384x640 1 no_glasses, 6 no_glovess, 2 no_helmets, 4 no_vests, 18.6ms\n",
      "video 3/4 (frame 51/258) f:\\PRACA_MAGISTERSKA\\DATASETS\\PREDYKCJA\\videos\\slabe.webm: 384x640 1 no_glasses, 7 no_glovess, 2 no_helmets, 4 no_vests, 18.6ms\n",
      "video 3/4 (frame 52/258) f:\\PRACA_MAGISTERSKA\\DATASETS\\PREDYKCJA\\videos\\slabe.webm: 384x640 2 no_glassess, 7 no_glovess, 2 no_helmets, 4 no_vests, 18.6ms\n",
      "video 3/4 (frame 53/258) f:\\PRACA_MAGISTERSKA\\DATASETS\\PREDYKCJA\\videos\\slabe.webm: 384x640 1 no_glasses, 6 no_glovess, 2 no_helmets, 4 no_vests, 18.6ms\n",
      "video 3/4 (frame 54/258) f:\\PRACA_MAGISTERSKA\\DATASETS\\PREDYKCJA\\videos\\slabe.webm: 384x640 1 no_glasses, 5 no_glovess, 1 no_helmet, 4 no_vests, 18.6ms\n",
      "video 3/4 (frame 55/258) f:\\PRACA_MAGISTERSKA\\DATASETS\\PREDYKCJA\\videos\\slabe.webm: 384x640 1 no_glasses, 6 no_glovess, 2 no_helmets, 4 no_vests, 18.6ms\n",
      "video 3/4 (frame 56/258) f:\\PRACA_MAGISTERSKA\\DATASETS\\PREDYKCJA\\videos\\slabe.webm: 384x640 3 no_glassess, 6 no_glovess, 2 no_helmets, 4 no_vests, 18.6ms\n",
      "video 3/4 (frame 57/258) f:\\PRACA_MAGISTERSKA\\DATASETS\\PREDYKCJA\\videos\\slabe.webm: 384x640 2 no_glassess, 7 no_glovess, 2 no_helmets, 4 no_vests, 18.6ms\n",
      "video 3/4 (frame 58/258) f:\\PRACA_MAGISTERSKA\\DATASETS\\PREDYKCJA\\videos\\slabe.webm: 384x640 2 no_glassess, 7 no_glovess, 2 no_helmets, 4 no_vests, 18.6ms\n",
      "video 3/4 (frame 59/258) f:\\PRACA_MAGISTERSKA\\DATASETS\\PREDYKCJA\\videos\\slabe.webm: 384x640 3 no_glassess, 6 no_glovess, 2 no_helmets, 4 no_vests, 18.6ms\n",
      "video 3/4 (frame 60/258) f:\\PRACA_MAGISTERSKA\\DATASETS\\PREDYKCJA\\videos\\slabe.webm: 384x640 3 no_glassess, 6 no_glovess, 2 no_helmets, 4 no_vests, 18.6ms\n",
      "video 3/4 (frame 61/258) f:\\PRACA_MAGISTERSKA\\DATASETS\\PREDYKCJA\\videos\\slabe.webm: 384x640 3 no_glassess, 6 no_glovess, 2 no_helmets, 4 no_vests, 18.6ms\n",
      "video 3/4 (frame 62/258) f:\\PRACA_MAGISTERSKA\\DATASETS\\PREDYKCJA\\videos\\slabe.webm: 384x640 2 no_glassess, 6 no_glovess, 2 no_helmets, 4 no_vests, 18.6ms\n",
      "video 3/4 (frame 63/258) f:\\PRACA_MAGISTERSKA\\DATASETS\\PREDYKCJA\\videos\\slabe.webm: 384x640 2 no_glassess, 6 no_glovess, 2 no_helmets, 4 no_vests, 18.6ms\n",
      "video 3/4 (frame 64/258) f:\\PRACA_MAGISTERSKA\\DATASETS\\PREDYKCJA\\videos\\slabe.webm: 384x640 2 no_glassess, 7 no_glovess, 2 no_helmets, 4 no_vests, 18.6ms\n",
      "video 3/4 (frame 65/258) f:\\PRACA_MAGISTERSKA\\DATASETS\\PREDYKCJA\\videos\\slabe.webm: 384x640 2 no_glassess, 7 no_glovess, 2 no_helmets, 4 no_vests, 18.6ms\n",
      "video 3/4 (frame 66/258) f:\\PRACA_MAGISTERSKA\\DATASETS\\PREDYKCJA\\videos\\slabe.webm: 384x640 2 no_glassess, 7 no_glovess, 2 no_helmets, 4 no_vests, 18.6ms\n",
      "video 3/4 (frame 67/258) f:\\PRACA_MAGISTERSKA\\DATASETS\\PREDYKCJA\\videos\\slabe.webm: 384x640 3 no_glassess, 7 no_glovess, 2 no_helmets, 4 no_vests, 18.6ms\n",
      "video 3/4 (frame 68/258) f:\\PRACA_MAGISTERSKA\\DATASETS\\PREDYKCJA\\videos\\slabe.webm: 384x640 4 no_glassess, 7 no_glovess, 2 no_helmets, 4 no_vests, 18.6ms\n",
      "video 3/4 (frame 69/258) f:\\PRACA_MAGISTERSKA\\DATASETS\\PREDYKCJA\\videos\\slabe.webm: 384x640 2 no_glassess, 7 no_glovess, 2 no_helmets, 4 no_vests, 18.6ms\n",
      "video 3/4 (frame 70/258) f:\\PRACA_MAGISTERSKA\\DATASETS\\PREDYKCJA\\videos\\slabe.webm: 384x640 1 no_glasses, 7 no_glovess, 2 no_helmets, 4 no_vests, 18.6ms\n",
      "video 3/4 (frame 71/258) f:\\PRACA_MAGISTERSKA\\DATASETS\\PREDYKCJA\\videos\\slabe.webm: 384x640 1 no_glasses, 6 no_glovess, 2 no_helmets, 4 no_vests, 18.6ms\n",
      "video 3/4 (frame 72/258) f:\\PRACA_MAGISTERSKA\\DATASETS\\PREDYKCJA\\videos\\slabe.webm: 384x640 1 no_glasses, 7 no_glovess, 2 no_helmets, 4 no_vests, 18.6ms\n",
      "video 3/4 (frame 73/258) f:\\PRACA_MAGISTERSKA\\DATASETS\\PREDYKCJA\\videos\\slabe.webm: 384x640 2 no_glassess, 7 no_glovess, 2 no_helmets, 4 no_vests, 18.6ms\n",
      "video 3/4 (frame 74/258) f:\\PRACA_MAGISTERSKA\\DATASETS\\PREDYKCJA\\videos\\slabe.webm: 384x640 2 no_glassess, 7 no_glovess, 2 no_helmets, 4 no_vests, 18.6ms\n",
      "video 3/4 (frame 75/258) f:\\PRACA_MAGISTERSKA\\DATASETS\\PREDYKCJA\\videos\\slabe.webm: 384x640 2 no_glassess, 8 no_glovess, 2 no_helmets, 4 no_vests, 18.6ms\n",
      "video 3/4 (frame 76/258) f:\\PRACA_MAGISTERSKA\\DATASETS\\PREDYKCJA\\videos\\slabe.webm: 384x640 1 no_glasses, 7 no_glovess, 2 no_helmets, 4 no_vests, 18.6ms\n",
      "video 3/4 (frame 77/258) f:\\PRACA_MAGISTERSKA\\DATASETS\\PREDYKCJA\\videos\\slabe.webm: 384x640 2 no_glassess, 7 no_glovess, 2 no_helmets, 4 no_vests, 18.6ms\n",
      "video 3/4 (frame 78/258) f:\\PRACA_MAGISTERSKA\\DATASETS\\PREDYKCJA\\videos\\slabe.webm: 384x640 3 no_glassess, 7 no_glovess, 2 no_helmets, 4 no_vests, 18.6ms\n",
      "video 3/4 (frame 79/258) f:\\PRACA_MAGISTERSKA\\DATASETS\\PREDYKCJA\\videos\\slabe.webm: 384x640 1 no_glasses, 7 no_glovess, 2 no_helmets, 4 no_vests, 18.6ms\n",
      "video 3/4 (frame 80/258) f:\\PRACA_MAGISTERSKA\\DATASETS\\PREDYKCJA\\videos\\slabe.webm: 384x640 1 no_glasses, 7 no_glovess, 2 no_helmets, 4 no_vests, 18.6ms\n",
      "video 3/4 (frame 81/258) f:\\PRACA_MAGISTERSKA\\DATASETS\\PREDYKCJA\\videos\\slabe.webm: 384x640 2 no_glassess, 7 no_glovess, 2 no_helmets, 4 no_vests, 18.6ms\n",
      "video 3/4 (frame 82/258) f:\\PRACA_MAGISTERSKA\\DATASETS\\PREDYKCJA\\videos\\slabe.webm: 384x640 1 no_glasses, 7 no_glovess, 2 no_helmets, 4 no_vests, 18.6ms\n",
      "video 3/4 (frame 83/258) f:\\PRACA_MAGISTERSKA\\DATASETS\\PREDYKCJA\\videos\\slabe.webm: 384x640 2 no_glassess, 7 no_glovess, 2 no_helmets, 4 no_vests, 18.6ms\n",
      "video 3/4 (frame 84/258) f:\\PRACA_MAGISTERSKA\\DATASETS\\PREDYKCJA\\videos\\slabe.webm: 384x640 1 no_glasses, 7 no_glovess, 2 no_helmets, 5 no_vests, 18.6ms\n",
      "video 3/4 (frame 85/258) f:\\PRACA_MAGISTERSKA\\DATASETS\\PREDYKCJA\\videos\\slabe.webm: 384x640 2 no_glassess, 6 no_glovess, 2 no_helmets, 4 no_vests, 18.6ms\n",
      "video 3/4 (frame 86/258) f:\\PRACA_MAGISTERSKA\\DATASETS\\PREDYKCJA\\videos\\slabe.webm: 384x640 2 no_glassess, 7 no_glovess, 2 no_helmets, 4 no_vests, 18.6ms\n",
      "video 3/4 (frame 87/258) f:\\PRACA_MAGISTERSKA\\DATASETS\\PREDYKCJA\\videos\\slabe.webm: 384x640 2 no_glassess, 7 no_glovess, 2 no_helmets, 4 no_vests, 18.6ms\n",
      "video 3/4 (frame 88/258) f:\\PRACA_MAGISTERSKA\\DATASETS\\PREDYKCJA\\videos\\slabe.webm: 384x640 2 no_glassess, 7 no_glovess, 2 no_helmets, 4 no_vests, 18.6ms\n",
      "video 3/4 (frame 89/258) f:\\PRACA_MAGISTERSKA\\DATASETS\\PREDYKCJA\\videos\\slabe.webm: 384x640 2 no_glassess, 7 no_glovess, 2 no_helmets, 4 no_vests, 18.7ms\n",
      "video 3/4 (frame 90/258) f:\\PRACA_MAGISTERSKA\\DATASETS\\PREDYKCJA\\videos\\slabe.webm: 384x640 2 no_glassess, 7 no_glovess, 2 no_helmets, 4 no_vests, 18.7ms\n",
      "video 3/4 (frame 91/258) f:\\PRACA_MAGISTERSKA\\DATASETS\\PREDYKCJA\\videos\\slabe.webm: 384x640 2 no_glassess, 7 no_glovess, 3 no_helmets, 4 no_vests, 18.7ms\n",
      "video 3/4 (frame 92/258) f:\\PRACA_MAGISTERSKA\\DATASETS\\PREDYKCJA\\videos\\slabe.webm: 384x640 2 no_glassess, 7 no_glovess, 2 no_helmets, 4 no_vests, 18.7ms\n",
      "video 3/4 (frame 93/258) f:\\PRACA_MAGISTERSKA\\DATASETS\\PREDYKCJA\\videos\\slabe.webm: 384x640 1 no_glasses, 7 no_glovess, 2 no_helmets, 4 no_vests, 18.7ms\n",
      "video 3/4 (frame 94/258) f:\\PRACA_MAGISTERSKA\\DATASETS\\PREDYKCJA\\videos\\slabe.webm: 384x640 1 no_glasses, 7 no_glovess, 2 no_helmets, 4 no_vests, 18.7ms\n",
      "video 3/4 (frame 95/258) f:\\PRACA_MAGISTERSKA\\DATASETS\\PREDYKCJA\\videos\\slabe.webm: 384x640 2 no_glassess, 7 no_glovess, 2 no_helmets, 4 no_vests, 18.7ms\n",
      "video 3/4 (frame 96/258) f:\\PRACA_MAGISTERSKA\\DATASETS\\PREDYKCJA\\videos\\slabe.webm: 384x640 2 no_glassess, 7 no_glovess, 2 no_helmets, 4 no_vests, 18.7ms\n",
      "video 3/4 (frame 97/258) f:\\PRACA_MAGISTERSKA\\DATASETS\\PREDYKCJA\\videos\\slabe.webm: 384x640 2 no_glassess, 7 no_glovess, 2 no_helmets, 4 no_vests, 18.7ms\n",
      "video 3/4 (frame 98/258) f:\\PRACA_MAGISTERSKA\\DATASETS\\PREDYKCJA\\videos\\slabe.webm: 384x640 2 no_glassess, 7 no_glovess, 2 no_helmets, 4 no_vests, 18.7ms\n",
      "video 3/4 (frame 99/258) f:\\PRACA_MAGISTERSKA\\DATASETS\\PREDYKCJA\\videos\\slabe.webm: 384x640 1 no_glasses, 7 no_glovess, 2 no_helmets, 4 no_vests, 18.7ms\n",
      "video 3/4 (frame 100/258) f:\\PRACA_MAGISTERSKA\\DATASETS\\PREDYKCJA\\videos\\slabe.webm: 384x640 2 no_glassess, 7 no_glovess, 2 no_helmets, 4 no_vests, 18.7ms\n",
      "video 3/4 (frame 101/258) f:\\PRACA_MAGISTERSKA\\DATASETS\\PREDYKCJA\\videos\\slabe.webm: 384x640 2 no_glassess, 7 no_glovess, 2 no_helmets, 4 no_vests, 18.7ms\n",
      "video 3/4 (frame 102/258) f:\\PRACA_MAGISTERSKA\\DATASETS\\PREDYKCJA\\videos\\slabe.webm: 384x640 2 no_glassess, 7 no_glovess, 2 no_helmets, 4 no_vests, 18.7ms\n",
      "video 3/4 (frame 103/258) f:\\PRACA_MAGISTERSKA\\DATASETS\\PREDYKCJA\\videos\\slabe.webm: 384x640 2 no_glassess, 7 no_glovess, 2 no_helmets, 4 no_vests, 18.7ms\n",
      "video 3/4 (frame 104/258) f:\\PRACA_MAGISTERSKA\\DATASETS\\PREDYKCJA\\videos\\slabe.webm: 384x640 2 no_glassess, 7 no_glovess, 2 no_helmets, 4 no_vests, 18.7ms\n",
      "video 3/4 (frame 105/258) f:\\PRACA_MAGISTERSKA\\DATASETS\\PREDYKCJA\\videos\\slabe.webm: 384x640 2 no_glassess, 6 no_glovess, 2 no_helmets, 4 no_vests, 18.7ms\n",
      "video 3/4 (frame 106/258) f:\\PRACA_MAGISTERSKA\\DATASETS\\PREDYKCJA\\videos\\slabe.webm: 384x640 2 no_glassess, 6 no_glovess, 3 no_helmets, 4 no_vests, 18.7ms\n",
      "video 3/4 (frame 107/258) f:\\PRACA_MAGISTERSKA\\DATASETS\\PREDYKCJA\\videos\\slabe.webm: 384x640 2 no_glassess, 7 no_glovess, 3 no_helmets, 4 no_vests, 18.7ms\n",
      "video 3/4 (frame 108/258) f:\\PRACA_MAGISTERSKA\\DATASETS\\PREDYKCJA\\videos\\slabe.webm: 384x640 2 no_glassess, 7 no_glovess, 3 no_helmets, 4 no_vests, 18.7ms\n",
      "video 3/4 (frame 109/258) f:\\PRACA_MAGISTERSKA\\DATASETS\\PREDYKCJA\\videos\\slabe.webm: 384x640 1 no_glasses, 7 no_glovess, 3 no_helmets, 4 no_vests, 18.7ms\n",
      "video 3/4 (frame 110/258) f:\\PRACA_MAGISTERSKA\\DATASETS\\PREDYKCJA\\videos\\slabe.webm: 384x640 2 no_glassess, 7 no_glovess, 1 no_helmet, 4 no_vests, 18.7ms\n",
      "video 3/4 (frame 111/258) f:\\PRACA_MAGISTERSKA\\DATASETS\\PREDYKCJA\\videos\\slabe.webm: 384x640 2 no_glassess, 7 no_glovess, 2 no_helmets, 4 no_vests, 18.7ms\n",
      "video 3/4 (frame 112/258) f:\\PRACA_MAGISTERSKA\\DATASETS\\PREDYKCJA\\videos\\slabe.webm: 384x640 2 no_glassess, 6 no_glovess, 2 no_helmets, 4 no_vests, 18.7ms\n",
      "video 3/4 (frame 113/258) f:\\PRACA_MAGISTERSKA\\DATASETS\\PREDYKCJA\\videos\\slabe.webm: 384x640 2 no_glassess, 7 no_glovess, 2 no_helmets, 4 no_vests, 18.7ms\n",
      "video 3/4 (frame 114/258) f:\\PRACA_MAGISTERSKA\\DATASETS\\PREDYKCJA\\videos\\slabe.webm: 384x640 1 no_glasses, 7 no_glovess, 2 no_helmets, 4 no_vests, 18.7ms\n",
      "video 3/4 (frame 115/258) f:\\PRACA_MAGISTERSKA\\DATASETS\\PREDYKCJA\\videos\\slabe.webm: 384x640 2 no_glassess, 6 no_glovess, 2 no_helmets, 4 no_vests, 18.7ms\n",
      "video 3/4 (frame 116/258) f:\\PRACA_MAGISTERSKA\\DATASETS\\PREDYKCJA\\videos\\slabe.webm: 384x640 2 no_glassess, 6 no_glovess, 3 no_helmets, 4 no_vests, 18.7ms\n",
      "video 3/4 (frame 117/258) f:\\PRACA_MAGISTERSKA\\DATASETS\\PREDYKCJA\\videos\\slabe.webm: 384x640 2 no_glassess, 6 no_glovess, 2 no_helmets, 4 no_vests, 18.7ms\n",
      "video 3/4 (frame 118/258) f:\\PRACA_MAGISTERSKA\\DATASETS\\PREDYKCJA\\videos\\slabe.webm: 384x640 3 no_glassess, 6 no_glovess, 2 no_helmets, 4 no_vests, 18.7ms\n",
      "video 3/4 (frame 119/258) f:\\PRACA_MAGISTERSKA\\DATASETS\\PREDYKCJA\\videos\\slabe.webm: 384x640 3 no_glassess, 6 no_glovess, 2 no_helmets, 4 no_vests, 18.7ms\n",
      "video 3/4 (frame 120/258) f:\\PRACA_MAGISTERSKA\\DATASETS\\PREDYKCJA\\videos\\slabe.webm: 384x640 2 no_glassess, 7 no_glovess, 3 no_helmets, 4 no_vests, 18.7ms\n",
      "video 3/4 (frame 121/258) f:\\PRACA_MAGISTERSKA\\DATASETS\\PREDYKCJA\\videos\\slabe.webm: 384x640 2 no_glassess, 7 no_glovess, 1 no_helmet, 4 no_vests, 18.7ms\n",
      "video 3/4 (frame 122/258) f:\\PRACA_MAGISTERSKA\\DATASETS\\PREDYKCJA\\videos\\slabe.webm: 384x640 2 no_glassess, 7 no_glovess, 2 no_helmets, 4 no_vests, 18.7ms\n",
      "video 3/4 (frame 123/258) f:\\PRACA_MAGISTERSKA\\DATASETS\\PREDYKCJA\\videos\\slabe.webm: 384x640 2 no_glassess, 7 no_glovess, 2 no_helmets, 4 no_vests, 18.7ms\n",
      "video 3/4 (frame 124/258) f:\\PRACA_MAGISTERSKA\\DATASETS\\PREDYKCJA\\videos\\slabe.webm: 384x640 2 no_glassess, 6 no_glovess, 2 no_helmets, 4 no_vests, 18.7ms\n",
      "video 3/4 (frame 125/258) f:\\PRACA_MAGISTERSKA\\DATASETS\\PREDYKCJA\\videos\\slabe.webm: 384x640 2 no_glassess, 6 no_glovess, 2 no_helmets, 4 no_vests, 18.7ms\n",
      "video 3/4 (frame 126/258) f:\\PRACA_MAGISTERSKA\\DATASETS\\PREDYKCJA\\videos\\slabe.webm: 384x640 2 no_glassess, 7 no_glovess, 2 no_helmets, 4 no_vests, 18.7ms\n",
      "video 3/4 (frame 127/258) f:\\PRACA_MAGISTERSKA\\DATASETS\\PREDYKCJA\\videos\\slabe.webm: 384x640 2 no_glassess, 7 no_glovess, 3 no_helmets, 4 no_vests, 18.7ms\n",
      "video 3/4 (frame 128/258) f:\\PRACA_MAGISTERSKA\\DATASETS\\PREDYKCJA\\videos\\slabe.webm: 384x640 2 no_glassess, 7 no_glovess, 2 no_helmets, 4 no_vests, 18.7ms\n",
      "video 3/4 (frame 129/258) f:\\PRACA_MAGISTERSKA\\DATASETS\\PREDYKCJA\\videos\\slabe.webm: 384x640 2 no_glassess, 6 no_glovess, 2 no_helmets, 4 no_vests, 18.7ms\n",
      "video 3/4 (frame 130/258) f:\\PRACA_MAGISTERSKA\\DATASETS\\PREDYKCJA\\videos\\slabe.webm: 384x640 1 no_glasses, 6 no_glovess, 3 no_helmets, 4 no_vests, 18.7ms\n",
      "video 3/4 (frame 131/258) f:\\PRACA_MAGISTERSKA\\DATASETS\\PREDYKCJA\\videos\\slabe.webm: 384x640 1 no_glasses, 7 no_glovess, 3 no_helmets, 4 no_vests, 18.7ms\n",
      "video 3/4 (frame 132/258) f:\\PRACA_MAGISTERSKA\\DATASETS\\PREDYKCJA\\videos\\slabe.webm: 384x640 2 no_glassess, 7 no_glovess, 3 no_helmets, 4 no_vests, 18.7ms\n",
      "video 3/4 (frame 133/258) f:\\PRACA_MAGISTERSKA\\DATASETS\\PREDYKCJA\\videos\\slabe.webm: 384x640 2 no_glassess, 6 no_glovess, 3 no_helmets, 4 no_vests, 18.7ms\n",
      "video 3/4 (frame 134/258) f:\\PRACA_MAGISTERSKA\\DATASETS\\PREDYKCJA\\videos\\slabe.webm: 384x640 2 no_glassess, 6 no_glovess, 3 no_helmets, 4 no_vests, 18.7ms\n",
      "video 3/4 (frame 135/258) f:\\PRACA_MAGISTERSKA\\DATASETS\\PREDYKCJA\\videos\\slabe.webm: 384x640 1 no_glasses, 7 no_glovess, 2 no_helmets, 4 no_vests, 18.7ms\n",
      "video 3/4 (frame 136/258) f:\\PRACA_MAGISTERSKA\\DATASETS\\PREDYKCJA\\videos\\slabe.webm: 384x640 1 no_glasses, 6 no_glovess, 2 no_helmets, 4 no_vests, 18.7ms\n",
      "video 3/4 (frame 137/258) f:\\PRACA_MAGISTERSKA\\DATASETS\\PREDYKCJA\\videos\\slabe.webm: 384x640 2 no_glassess, 8 no_glovess, 2 no_helmets, 4 no_vests, 18.7ms\n",
      "video 3/4 (frame 138/258) f:\\PRACA_MAGISTERSKA\\DATASETS\\PREDYKCJA\\videos\\slabe.webm: 384x640 1 no_glasses, 5 no_glovess, 2 no_helmets, 4 no_vests, 18.7ms\n",
      "video 3/4 (frame 139/258) f:\\PRACA_MAGISTERSKA\\DATASETS\\PREDYKCJA\\videos\\slabe.webm: 384x640 1 no_glasses, 6 no_glovess, 2 no_helmets, 4 no_vests, 18.7ms\n",
      "video 3/4 (frame 140/258) f:\\PRACA_MAGISTERSKA\\DATASETS\\PREDYKCJA\\videos\\slabe.webm: 384x640 1 no_glasses, 6 no_glovess, 2 no_helmets, 4 no_vests, 18.7ms\n",
      "video 3/4 (frame 141/258) f:\\PRACA_MAGISTERSKA\\DATASETS\\PREDYKCJA\\videos\\slabe.webm: 384x640 1 no_glasses, 6 no_glovess, 2 no_helmets, 4 no_vests, 18.7ms\n",
      "video 3/4 (frame 142/258) f:\\PRACA_MAGISTERSKA\\DATASETS\\PREDYKCJA\\videos\\slabe.webm: 384x640 2 no_glassess, 7 no_glovess, 2 no_helmets, 4 no_vests, 18.7ms\n",
      "video 3/4 (frame 143/258) f:\\PRACA_MAGISTERSKA\\DATASETS\\PREDYKCJA\\videos\\slabe.webm: 384x640 1 no_glasses, 6 no_glovess, 2 no_helmets, 4 no_vests, 18.7ms\n",
      "video 3/4 (frame 144/258) f:\\PRACA_MAGISTERSKA\\DATASETS\\PREDYKCJA\\videos\\slabe.webm: 384x640 1 no_glasses, 6 no_glovess, 2 no_helmets, 4 no_vests, 18.7ms\n",
      "video 3/4 (frame 145/258) f:\\PRACA_MAGISTERSKA\\DATASETS\\PREDYKCJA\\videos\\slabe.webm: 384x640 2 no_glassess, 6 no_glovess, 2 no_helmets, 4 no_vests, 18.7ms\n",
      "video 3/4 (frame 146/258) f:\\PRACA_MAGISTERSKA\\DATASETS\\PREDYKCJA\\videos\\slabe.webm: 384x640 2 no_glassess, 6 no_glovess, 2 no_helmets, 4 no_vests, 18.7ms\n",
      "video 3/4 (frame 147/258) f:\\PRACA_MAGISTERSKA\\DATASETS\\PREDYKCJA\\videos\\slabe.webm: 384x640 2 no_glassess, 7 no_glovess, 2 no_helmets, 4 no_vests, 18.7ms\n",
      "video 3/4 (frame 148/258) f:\\PRACA_MAGISTERSKA\\DATASETS\\PREDYKCJA\\videos\\slabe.webm: 384x640 2 no_glassess, 6 no_glovess, 2 no_helmets, 4 no_vests, 18.7ms\n",
      "video 3/4 (frame 149/258) f:\\PRACA_MAGISTERSKA\\DATASETS\\PREDYKCJA\\videos\\slabe.webm: 384x640 2 no_glassess, 6 no_glovess, 2 no_helmets, 4 no_vests, 18.7ms\n",
      "video 3/4 (frame 150/258) f:\\PRACA_MAGISTERSKA\\DATASETS\\PREDYKCJA\\videos\\slabe.webm: 384x640 2 no_glassess, 6 no_glovess, 3 no_helmets, 4 no_vests, 18.7ms\n",
      "video 3/4 (frame 151/258) f:\\PRACA_MAGISTERSKA\\DATASETS\\PREDYKCJA\\videos\\slabe.webm: 384x640 2 no_glassess, 6 no_glovess, 2 no_helmets, 4 no_vests, 18.7ms\n",
      "video 3/4 (frame 152/258) f:\\PRACA_MAGISTERSKA\\DATASETS\\PREDYKCJA\\videos\\slabe.webm: 384x640 2 no_glassess, 6 no_glovess, 2 no_helmets, 4 no_vests, 18.7ms\n",
      "video 3/4 (frame 153/258) f:\\PRACA_MAGISTERSKA\\DATASETS\\PREDYKCJA\\videos\\slabe.webm: 384x640 2 no_glassess, 7 no_glovess, 3 no_helmets, 4 no_vests, 18.5ms\n",
      "video 3/4 (frame 154/258) f:\\PRACA_MAGISTERSKA\\DATASETS\\PREDYKCJA\\videos\\slabe.webm: 384x640 3 no_glassess, 7 no_glovess, 3 no_helmets, 4 no_vests, 18.5ms\n",
      "video 3/4 (frame 155/258) f:\\PRACA_MAGISTERSKA\\DATASETS\\PREDYKCJA\\videos\\slabe.webm: 384x640 2 no_glassess, 7 no_glovess, 2 no_helmets, 4 no_vests, 18.5ms\n",
      "video 3/4 (frame 156/258) f:\\PRACA_MAGISTERSKA\\DATASETS\\PREDYKCJA\\videos\\slabe.webm: 384x640 2 no_glassess, 8 no_glovess, 2 no_helmets, 4 no_vests, 18.5ms\n",
      "video 3/4 (frame 157/258) f:\\PRACA_MAGISTERSKA\\DATASETS\\PREDYKCJA\\videos\\slabe.webm: 384x640 2 no_glassess, 7 no_glovess, 2 no_helmets, 4 no_vests, 18.5ms\n",
      "video 3/4 (frame 158/258) f:\\PRACA_MAGISTERSKA\\DATASETS\\PREDYKCJA\\videos\\slabe.webm: 384x640 2 no_glassess, 7 no_glovess, 2 no_helmets, 4 no_vests, 18.5ms\n",
      "video 3/4 (frame 159/258) f:\\PRACA_MAGISTERSKA\\DATASETS\\PREDYKCJA\\videos\\slabe.webm: 384x640 3 no_glassess, 7 no_glovess, 2 no_helmets, 4 no_vests, 18.5ms\n",
      "video 3/4 (frame 160/258) f:\\PRACA_MAGISTERSKA\\DATASETS\\PREDYKCJA\\videos\\slabe.webm: 384x640 2 no_glassess, 6 no_glovess, 2 no_helmets, 4 no_vests, 18.5ms\n",
      "video 3/4 (frame 161/258) f:\\PRACA_MAGISTERSKA\\DATASETS\\PREDYKCJA\\videos\\slabe.webm: 384x640 3 no_glassess, 5 no_glovess, 2 no_helmets, 4 no_vests, 18.5ms\n",
      "video 3/4 (frame 162/258) f:\\PRACA_MAGISTERSKA\\DATASETS\\PREDYKCJA\\videos\\slabe.webm: 384x640 2 no_glassess, 5 no_glovess, 2 no_helmets, 4 no_vests, 18.5ms\n",
      "video 3/4 (frame 163/258) f:\\PRACA_MAGISTERSKA\\DATASETS\\PREDYKCJA\\videos\\slabe.webm: 384x640 2 no_glassess, 5 no_glovess, 2 no_helmets, 4 no_vests, 18.5ms\n",
      "video 3/4 (frame 164/258) f:\\PRACA_MAGISTERSKA\\DATASETS\\PREDYKCJA\\videos\\slabe.webm: 384x640 2 no_glassess, 6 no_glovess, 2 no_helmets, 4 no_vests, 18.5ms\n",
      "video 3/4 (frame 165/258) f:\\PRACA_MAGISTERSKA\\DATASETS\\PREDYKCJA\\videos\\slabe.webm: 384x640 1 no_glasses, 6 no_glovess, 2 no_helmets, 4 no_vests, 18.5ms\n",
      "video 3/4 (frame 166/258) f:\\PRACA_MAGISTERSKA\\DATASETS\\PREDYKCJA\\videos\\slabe.webm: 384x640 2 no_glassess, 6 no_glovess, 2 no_helmets, 4 no_vests, 18.5ms\n",
      "video 3/4 (frame 167/258) f:\\PRACA_MAGISTERSKA\\DATASETS\\PREDYKCJA\\videos\\slabe.webm: 384x640 1 no_glasses, 7 no_glovess, 2 no_helmets, 4 no_vests, 18.5ms\n",
      "video 3/4 (frame 168/258) f:\\PRACA_MAGISTERSKA\\DATASETS\\PREDYKCJA\\videos\\slabe.webm: 384x640 2 no_glassess, 6 no_glovess, 2 no_helmets, 4 no_vests, 18.5ms\n",
      "video 3/4 (frame 169/258) f:\\PRACA_MAGISTERSKA\\DATASETS\\PREDYKCJA\\videos\\slabe.webm: 384x640 2 no_glassess, 7 no_glovess, 2 no_helmets, 4 no_vests, 18.5ms\n",
      "video 3/4 (frame 170/258) f:\\PRACA_MAGISTERSKA\\DATASETS\\PREDYKCJA\\videos\\slabe.webm: 384x640 2 no_glassess, 8 no_glovess, 2 no_helmets, 4 no_vests, 18.5ms\n",
      "video 3/4 (frame 171/258) f:\\PRACA_MAGISTERSKA\\DATASETS\\PREDYKCJA\\videos\\slabe.webm: 384x640 2 no_glassess, 7 no_glovess, 2 no_helmets, 4 no_vests, 18.5ms\n",
      "video 3/4 (frame 172/258) f:\\PRACA_MAGISTERSKA\\DATASETS\\PREDYKCJA\\videos\\slabe.webm: 384x640 2 no_glassess, 6 no_glovess, 2 no_helmets, 4 no_vests, 18.5ms\n",
      "video 3/4 (frame 173/258) f:\\PRACA_MAGISTERSKA\\DATASETS\\PREDYKCJA\\videos\\slabe.webm: 384x640 2 no_glassess, 5 no_glovess, 2 no_helmets, 4 no_vests, 18.5ms\n",
      "video 3/4 (frame 174/258) f:\\PRACA_MAGISTERSKA\\DATASETS\\PREDYKCJA\\videos\\slabe.webm: 384x640 2 no_glassess, 6 no_glovess, 2 no_helmets, 4 no_vests, 18.5ms\n",
      "video 3/4 (frame 175/258) f:\\PRACA_MAGISTERSKA\\DATASETS\\PREDYKCJA\\videos\\slabe.webm: 384x640 2 no_glassess, 8 no_glovess, 2 no_helmets, 4 no_vests, 18.5ms\n",
      "video 3/4 (frame 176/258) f:\\PRACA_MAGISTERSKA\\DATASETS\\PREDYKCJA\\videos\\slabe.webm: 384x640 2 no_glassess, 6 no_glovess, 2 no_helmets, 4 no_vests, 18.5ms\n",
      "video 3/4 (frame 177/258) f:\\PRACA_MAGISTERSKA\\DATASETS\\PREDYKCJA\\videos\\slabe.webm: 384x640 2 no_glassess, 6 no_glovess, 2 no_helmets, 4 no_vests, 18.5ms\n",
      "video 3/4 (frame 178/258) f:\\PRACA_MAGISTERSKA\\DATASETS\\PREDYKCJA\\videos\\slabe.webm: 384x640 2 no_glassess, 7 no_glovess, 2 no_helmets, 4 no_vests, 18.5ms\n",
      "video 3/4 (frame 179/258) f:\\PRACA_MAGISTERSKA\\DATASETS\\PREDYKCJA\\videos\\slabe.webm: 384x640 2 no_glassess, 7 no_glovess, 2 no_helmets, 4 no_vests, 18.5ms\n",
      "video 3/4 (frame 180/258) f:\\PRACA_MAGISTERSKA\\DATASETS\\PREDYKCJA\\videos\\slabe.webm: 384x640 1 no_glasses, 7 no_glovess, 3 no_helmets, 4 no_vests, 18.5ms\n",
      "video 3/4 (frame 181/258) f:\\PRACA_MAGISTERSKA\\DATASETS\\PREDYKCJA\\videos\\slabe.webm: 384x640 2 no_glassess, 7 no_glovess, 3 no_helmets, 4 no_vests, 18.5ms\n",
      "video 3/4 (frame 182/258) f:\\PRACA_MAGISTERSKA\\DATASETS\\PREDYKCJA\\videos\\slabe.webm: 384x640 2 no_glassess, 6 no_glovess, 2 no_helmets, 4 no_vests, 18.5ms\n",
      "video 3/4 (frame 183/258) f:\\PRACA_MAGISTERSKA\\DATASETS\\PREDYKCJA\\videos\\slabe.webm: 384x640 2 no_glassess, 6 no_glovess, 2 no_helmets, 4 no_vests, 18.5ms\n",
      "video 3/4 (frame 184/258) f:\\PRACA_MAGISTERSKA\\DATASETS\\PREDYKCJA\\videos\\slabe.webm: 384x640 2 no_glassess, 7 no_glovess, 2 no_helmets, 4 no_vests, 18.5ms\n",
      "video 3/4 (frame 185/258) f:\\PRACA_MAGISTERSKA\\DATASETS\\PREDYKCJA\\videos\\slabe.webm: 384x640 2 no_glassess, 6 no_glovess, 2 no_helmets, 4 no_vests, 18.5ms\n",
      "video 3/4 (frame 186/258) f:\\PRACA_MAGISTERSKA\\DATASETS\\PREDYKCJA\\videos\\slabe.webm: 384x640 2 no_glassess, 5 no_glovess, 2 no_helmets, 4 no_vests, 18.5ms\n",
      "video 3/4 (frame 187/258) f:\\PRACA_MAGISTERSKA\\DATASETS\\PREDYKCJA\\videos\\slabe.webm: 384x640 2 no_glassess, 6 no_glovess, 3 no_helmets, 4 no_vests, 18.5ms\n",
      "video 3/4 (frame 188/258) f:\\PRACA_MAGISTERSKA\\DATASETS\\PREDYKCJA\\videos\\slabe.webm: 384x640 2 no_glassess, 6 no_glovess, 3 no_helmets, 4 no_vests, 18.5ms\n",
      "video 3/4 (frame 189/258) f:\\PRACA_MAGISTERSKA\\DATASETS\\PREDYKCJA\\videos\\slabe.webm: 384x640 2 no_glassess, 6 no_glovess, 2 no_helmets, 4 no_vests, 18.5ms\n",
      "video 3/4 (frame 190/258) f:\\PRACA_MAGISTERSKA\\DATASETS\\PREDYKCJA\\videos\\slabe.webm: 384x640 2 no_glassess, 7 no_glovess, 2 no_helmets, 4 no_vests, 18.5ms\n",
      "video 3/4 (frame 191/258) f:\\PRACA_MAGISTERSKA\\DATASETS\\PREDYKCJA\\videos\\slabe.webm: 384x640 2 no_glassess, 7 no_glovess, 2 no_helmets, 4 no_vests, 18.5ms\n",
      "video 3/4 (frame 192/258) f:\\PRACA_MAGISTERSKA\\DATASETS\\PREDYKCJA\\videos\\slabe.webm: 384x640 2 no_glassess, 7 no_glovess, 2 no_helmets, 4 no_vests, 18.5ms\n",
      "video 3/4 (frame 193/258) f:\\PRACA_MAGISTERSKA\\DATASETS\\PREDYKCJA\\videos\\slabe.webm: 384x640 2 no_glassess, 5 no_glovess, 2 no_helmets, 4 no_vests, 18.5ms\n",
      "video 3/4 (frame 194/258) f:\\PRACA_MAGISTERSKA\\DATASETS\\PREDYKCJA\\videos\\slabe.webm: 384x640 1 no_glasses, 6 no_glovess, 2 no_helmets, 4 no_vests, 18.5ms\n",
      "video 3/4 (frame 195/258) f:\\PRACA_MAGISTERSKA\\DATASETS\\PREDYKCJA\\videos\\slabe.webm: 384x640 3 no_glassess, 6 no_glovess, 2 no_helmets, 4 no_vests, 18.5ms\n",
      "video 3/4 (frame 196/258) f:\\PRACA_MAGISTERSKA\\DATASETS\\PREDYKCJA\\videos\\slabe.webm: 384x640 3 no_glassess, 8 no_glovess, 2 no_helmets, 4 no_vests, 18.5ms\n",
      "video 3/4 (frame 197/258) f:\\PRACA_MAGISTERSKA\\DATASETS\\PREDYKCJA\\videos\\slabe.webm: 384x640 2 no_glassess, 7 no_glovess, 2 no_helmets, 4 no_vests, 18.5ms\n",
      "video 3/4 (frame 198/258) f:\\PRACA_MAGISTERSKA\\DATASETS\\PREDYKCJA\\videos\\slabe.webm: 384x640 2 no_glassess, 7 no_glovess, 2 no_helmets, 4 no_vests, 18.5ms\n",
      "video 3/4 (frame 199/258) f:\\PRACA_MAGISTERSKA\\DATASETS\\PREDYKCJA\\videos\\slabe.webm: 384x640 2 no_glassess, 6 no_glovess, 2 no_helmets, 4 no_vests, 18.5ms\n",
      "video 3/4 (frame 200/258) f:\\PRACA_MAGISTERSKA\\DATASETS\\PREDYKCJA\\videos\\slabe.webm: 384x640 1 no_glasses, 7 no_glovess, 2 no_helmets, 4 no_vests, 18.5ms\n",
      "video 3/4 (frame 201/258) f:\\PRACA_MAGISTERSKA\\DATASETS\\PREDYKCJA\\videos\\slabe.webm: 384x640 2 no_glassess, 6 no_glovess, 2 no_helmets, 4 no_vests, 18.5ms\n",
      "video 3/4 (frame 202/258) f:\\PRACA_MAGISTERSKA\\DATASETS\\PREDYKCJA\\videos\\slabe.webm: 384x640 2 no_glassess, 5 no_glovess, 2 no_helmets, 4 no_vests, 18.5ms\n",
      "video 3/4 (frame 203/258) f:\\PRACA_MAGISTERSKA\\DATASETS\\PREDYKCJA\\videos\\slabe.webm: 384x640 3 no_glassess, 5 no_glovess, 2 no_helmets, 4 no_vests, 18.5ms\n",
      "video 3/4 (frame 204/258) f:\\PRACA_MAGISTERSKA\\DATASETS\\PREDYKCJA\\videos\\slabe.webm: 384x640 3 no_glassess, 4 no_glovess, 2 no_helmets, 4 no_vests, 18.5ms\n",
      "video 3/4 (frame 205/258) f:\\PRACA_MAGISTERSKA\\DATASETS\\PREDYKCJA\\videos\\slabe.webm: 384x640 2 no_glassess, 4 no_glovess, 2 no_helmets, 4 no_vests, 18.5ms\n",
      "video 3/4 (frame 206/258) f:\\PRACA_MAGISTERSKA\\DATASETS\\PREDYKCJA\\videos\\slabe.webm: 384x640 2 no_glassess, 4 no_glovess, 2 no_helmets, 4 no_vests, 18.5ms\n",
      "video 3/4 (frame 207/258) f:\\PRACA_MAGISTERSKA\\DATASETS\\PREDYKCJA\\videos\\slabe.webm: 384x640 2 no_glassess, 4 no_glovess, 2 no_helmets, 4 no_vests, 18.5ms\n",
      "video 3/4 (frame 208/258) f:\\PRACA_MAGISTERSKA\\DATASETS\\PREDYKCJA\\videos\\slabe.webm: 384x640 2 no_glassess, 4 no_glovess, 2 no_helmets, 4 no_vests, 18.5ms\n",
      "video 3/4 (frame 209/258) f:\\PRACA_MAGISTERSKA\\DATASETS\\PREDYKCJA\\videos\\slabe.webm: 384x640 2 no_glassess, 4 no_glovess, 2 no_helmets, 4 no_vests, 18.5ms\n",
      "video 3/4 (frame 210/258) f:\\PRACA_MAGISTERSKA\\DATASETS\\PREDYKCJA\\videos\\slabe.webm: 384x640 2 no_glassess, 4 no_glovess, 2 no_helmets, 4 no_vests, 18.5ms\n",
      "video 3/4 (frame 211/258) f:\\PRACA_MAGISTERSKA\\DATASETS\\PREDYKCJA\\videos\\slabe.webm: 384x640 2 no_glassess, 4 no_glovess, 2 no_helmets, 4 no_vests, 18.5ms\n",
      "video 3/4 (frame 212/258) f:\\PRACA_MAGISTERSKA\\DATASETS\\PREDYKCJA\\videos\\slabe.webm: 384x640 1 no_glasses, 6 no_glovess, 1 no_helmet, 4 no_vests, 18.5ms\n",
      "video 3/4 (frame 213/258) f:\\PRACA_MAGISTERSKA\\DATASETS\\PREDYKCJA\\videos\\slabe.webm: 384x640 2 no_glassess, 6 no_glovess, 3 no_helmets, 4 no_vests, 18.5ms\n",
      "video 3/4 (frame 214/258) f:\\PRACA_MAGISTERSKA\\DATASETS\\PREDYKCJA\\videos\\slabe.webm: 384x640 2 no_glassess, 6 no_glovess, 2 no_helmets, 4 no_vests, 18.5ms\n",
      "video 3/4 (frame 215/258) f:\\PRACA_MAGISTERSKA\\DATASETS\\PREDYKCJA\\videos\\slabe.webm: 384x640 3 no_glassess, 5 no_glovess, 2 no_helmets, 4 no_vests, 18.5ms\n",
      "video 3/4 (frame 216/258) f:\\PRACA_MAGISTERSKA\\DATASETS\\PREDYKCJA\\videos\\slabe.webm: 384x640 2 no_glassess, 5 no_glovess, 2 no_helmets, 4 no_vests, 18.5ms\n",
      "video 3/4 (frame 217/258) f:\\PRACA_MAGISTERSKA\\DATASETS\\PREDYKCJA\\videos\\slabe.webm: 640x640 2 no_glassess, 5 no_glovess, 2 no_helmets, 4 no_vests, 41.7ms\n",
      "video 3/4 (frame 218/258) f:\\PRACA_MAGISTERSKA\\DATASETS\\PREDYKCJA\\videos\\slabe.webm: 640x640 2 no_glassess, 7 no_glovess, 2 no_helmets, 4 no_vests, 41.7ms\n",
      "video 3/4 (frame 219/258) f:\\PRACA_MAGISTERSKA\\DATASETS\\PREDYKCJA\\videos\\slabe.webm: 640x640 2 no_glassess, 7 no_glovess, 2 no_helmets, 4 no_vests, 41.7ms\n",
      "video 3/4 (frame 220/258) f:\\PRACA_MAGISTERSKA\\DATASETS\\PREDYKCJA\\videos\\slabe.webm: 640x640 2 no_glassess, 6 no_glovess, 2 no_helmets, 4 no_vests, 41.7ms\n",
      "video 3/4 (frame 221/258) f:\\PRACA_MAGISTERSKA\\DATASETS\\PREDYKCJA\\videos\\slabe.webm: 640x640 3 no_glassess, 6 no_glovess, 2 no_helmets, 4 no_vests, 41.7ms\n",
      "video 3/4 (frame 222/258) f:\\PRACA_MAGISTERSKA\\DATASETS\\PREDYKCJA\\videos\\slabe.webm: 640x640 2 no_glassess, 6 no_glovess, 2 no_helmets, 4 no_vests, 41.7ms\n",
      "video 3/4 (frame 223/258) f:\\PRACA_MAGISTERSKA\\DATASETS\\PREDYKCJA\\videos\\slabe.webm: 640x640 1 no_glasses, 7 no_glovess, 2 no_helmets, 4 no_vests, 41.7ms\n",
      "video 3/4 (frame 224/258) f:\\PRACA_MAGISTERSKA\\DATASETS\\PREDYKCJA\\videos\\slabe.webm: 640x640 1 no_glasses, 6 no_glovess, 2 no_helmets, 4 no_vests, 41.7ms\n",
      "video 3/4 (frame 225/258) f:\\PRACA_MAGISTERSKA\\DATASETS\\PREDYKCJA\\videos\\slabe.webm: 640x640 2 no_glassess, 7 no_glovess, 2 no_helmets, 4 no_vests, 41.7ms\n",
      "video 3/4 (frame 226/258) f:\\PRACA_MAGISTERSKA\\DATASETS\\PREDYKCJA\\videos\\slabe.webm: 640x640 1 no_glasses, 7 no_glovess, 2 no_helmets, 4 no_vests, 41.7ms\n",
      "video 3/4 (frame 227/258) f:\\PRACA_MAGISTERSKA\\DATASETS\\PREDYKCJA\\videos\\slabe.webm: 640x640 1 no_glasses, 7 no_glovess, 2 no_helmets, 4 no_vests, 41.7ms\n",
      "video 3/4 (frame 228/258) f:\\PRACA_MAGISTERSKA\\DATASETS\\PREDYKCJA\\videos\\slabe.webm: 640x640 1 no_glasses, 7 no_glovess, 2 no_helmets, 4 no_vests, 41.7ms\n",
      "video 3/4 (frame 229/258) f:\\PRACA_MAGISTERSKA\\DATASETS\\PREDYKCJA\\videos\\slabe.webm: 640x640 2 no_glassess, 6 no_glovess, 2 no_helmets, 4 no_vests, 41.7ms\n",
      "video 3/4 (frame 230/258) f:\\PRACA_MAGISTERSKA\\DATASETS\\PREDYKCJA\\videos\\slabe.webm: 640x640 2 no_glassess, 7 no_glovess, 2 no_helmets, 4 no_vests, 41.7ms\n",
      "video 3/4 (frame 231/258) f:\\PRACA_MAGISTERSKA\\DATASETS\\PREDYKCJA\\videos\\slabe.webm: 640x640 2 no_glassess, 6 no_glovess, 2 no_helmets, 4 no_vests, 41.7ms\n",
      "video 3/4 (frame 232/258) f:\\PRACA_MAGISTERSKA\\DATASETS\\PREDYKCJA\\videos\\slabe.webm: 640x640 3 no_glassess, 8 no_glovess, 2 no_helmets, 4 no_vests, 41.7ms\n",
      "video 3/4 (frame 233/258) f:\\PRACA_MAGISTERSKA\\DATASETS\\PREDYKCJA\\videos\\slabe.webm: 640x640 2 no_glassess, 7 no_glovess, 3 no_helmets, 4 no_vests, 41.7ms\n",
      "video 3/4 (frame 234/258) f:\\PRACA_MAGISTERSKA\\DATASETS\\PREDYKCJA\\videos\\slabe.webm: 640x640 3 no_glassess, 7 no_glovess, 3 no_helmets, 4 no_vests, 41.7ms\n",
      "video 3/4 (frame 235/258) f:\\PRACA_MAGISTERSKA\\DATASETS\\PREDYKCJA\\videos\\slabe.webm: 640x640 3 no_glassess, 7 no_glovess, 2 no_helmets, 4 no_vests, 41.7ms\n",
      "video 3/4 (frame 236/258) f:\\PRACA_MAGISTERSKA\\DATASETS\\PREDYKCJA\\videos\\slabe.webm: 640x640 3 no_glassess, 6 no_glovess, 3 no_helmets, 4 no_vests, 41.7ms\n",
      "video 3/4 (frame 237/258) f:\\PRACA_MAGISTERSKA\\DATASETS\\PREDYKCJA\\videos\\slabe.webm: 640x640 2 no_glassess, 5 no_glovess, 3 no_helmets, 4 no_vests, 41.7ms\n",
      "video 3/4 (frame 238/258) f:\\PRACA_MAGISTERSKA\\DATASETS\\PREDYKCJA\\videos\\slabe.webm: 640x640 2 no_glassess, 5 no_glovess, 3 no_helmets, 4 no_vests, 41.7ms\n",
      "video 3/4 (frame 239/258) f:\\PRACA_MAGISTERSKA\\DATASETS\\PREDYKCJA\\videos\\slabe.webm: 640x640 1 no_glasses, 5 no_glovess, 3 no_helmets, 4 no_vests, 41.7ms\n",
      "video 3/4 (frame 240/258) f:\\PRACA_MAGISTERSKA\\DATASETS\\PREDYKCJA\\videos\\slabe.webm: 640x640 2 no_glassess, 5 no_glovess, 3 no_helmets, 4 no_vests, 41.7ms\n",
      "video 3/4 (frame 241/258) f:\\PRACA_MAGISTERSKA\\DATASETS\\PREDYKCJA\\videos\\slabe.webm: 640x640 2 no_glassess, 4 no_glovess, 2 no_helmets, 4 no_vests, 41.7ms\n",
      "video 3/4 (frame 242/258) f:\\PRACA_MAGISTERSKA\\DATASETS\\PREDYKCJA\\videos\\slabe.webm: 640x640 2 no_glassess, 4 no_glovess, 2 no_helmets, 4 no_vests, 41.7ms\n",
      "video 3/4 (frame 243/258) f:\\PRACA_MAGISTERSKA\\DATASETS\\PREDYKCJA\\videos\\slabe.webm: 640x640 1 no_glasses, 5 no_glovess, 2 no_helmets, 4 no_vests, 41.7ms\n",
      "video 3/4 (frame 244/258) f:\\PRACA_MAGISTERSKA\\DATASETS\\PREDYKCJA\\videos\\slabe.webm: 640x640 2 no_glassess, 4 no_glovess, 2 no_helmets, 4 no_vests, 41.7ms\n",
      "video 3/4 (frame 245/258) f:\\PRACA_MAGISTERSKA\\DATASETS\\PREDYKCJA\\videos\\slabe.webm: 640x640 2 no_glassess, 6 no_glovess, 2 no_helmets, 4 no_vests, 41.7ms\n",
      "video 3/4 (frame 246/258) f:\\PRACA_MAGISTERSKA\\DATASETS\\PREDYKCJA\\videos\\slabe.webm: 640x640 3 no_glassess, 5 no_glovess, 3 no_helmets, 4 no_vests, 41.7ms\n",
      "video 3/4 (frame 247/258) f:\\PRACA_MAGISTERSKA\\DATASETS\\PREDYKCJA\\videos\\slabe.webm: 640x640 2 no_glassess, 3 no_glovess, 2 no_helmets, 4 no_vests, 41.7ms\n",
      "video 3/4 (frame 248/258) f:\\PRACA_MAGISTERSKA\\DATASETS\\PREDYKCJA\\videos\\slabe.webm: 640x640 2 no_glassess, 6 no_glovess, 2 no_helmets, 4 no_vests, 41.7ms\n",
      "video 3/4 (frame 249/258) f:\\PRACA_MAGISTERSKA\\DATASETS\\PREDYKCJA\\videos\\slabe.webm: 640x640 3 no_glassess, 6 no_glovess, 2 no_helmets, 4 no_vests, 41.7ms\n",
      "video 3/4 (frame 250/258) f:\\PRACA_MAGISTERSKA\\DATASETS\\PREDYKCJA\\videos\\slabe.webm: 640x640 3 no_glassess, 6 no_glovess, 2 no_helmets, 4 no_vests, 41.7ms\n",
      "video 3/4 (frame 251/258) f:\\PRACA_MAGISTERSKA\\DATASETS\\PREDYKCJA\\videos\\slabe.webm: 640x640 3 no_glassess, 5 no_glovess, 2 no_helmets, 4 no_vests, 41.7ms\n",
      "video 3/4 (frame 252/258) f:\\PRACA_MAGISTERSKA\\DATASETS\\PREDYKCJA\\videos\\slabe.webm: 640x640 3 no_glassess, 3 no_glovess, 2 no_helmets, 4 no_vests, 41.7ms\n",
      "video 3/4 (frame 253/258) f:\\PRACA_MAGISTERSKA\\DATASETS\\PREDYKCJA\\videos\\slabe.webm: 640x640 3 no_glassess, 4 no_glovess, 2 no_helmets, 4 no_vests, 41.7ms\n",
      "video 3/4 (frame 254/258) f:\\PRACA_MAGISTERSKA\\DATASETS\\PREDYKCJA\\videos\\slabe.webm: 640x640 2 no_glassess, 3 no_glovess, 2 no_helmets, 4 no_vests, 41.7ms\n",
      "video 3/4 (frame 255/258) f:\\PRACA_MAGISTERSKA\\DATASETS\\PREDYKCJA\\videos\\slabe.webm: 640x640 2 no_glassess, 4 no_glovess, 2 no_helmets, 4 no_vests, 41.7ms\n",
      "video 3/4 (frame 256/258) f:\\PRACA_MAGISTERSKA\\DATASETS\\PREDYKCJA\\videos\\slabe.webm: 640x640 1 no_glasses, 4 no_glovess, 2 no_helmets, 4 no_vests, 41.7ms\n",
      "video 3/4 (frame 257/258) f:\\PRACA_MAGISTERSKA\\DATASETS\\PREDYKCJA\\videos\\slabe.webm: 640x640 2 no_glassess, 4 no_glovess, 2 no_helmets, 4 no_vests, 41.7ms\n",
      "video 3/4 (frame 258/258) f:\\PRACA_MAGISTERSKA\\DATASETS\\PREDYKCJA\\videos\\slabe.webm: 640x640 2 no_glassess, 4 no_glovess, 2 no_helmets, 4 no_vests, 41.7ms\n",
      "video 4/4 (frame 1/301) f:\\PRACA_MAGISTERSKA\\DATASETS\\PREDYKCJA\\videos\\taczka.mp4: 640x640 1 no_glasses, 2 no_glovess, 2 no_helmets, 2 no_vests, 41.7ms\n",
      "video 4/4 (frame 2/301) f:\\PRACA_MAGISTERSKA\\DATASETS\\PREDYKCJA\\videos\\taczka.mp4: 640x640 1 no_glasses, 2 no_glovess, 2 no_helmets, 2 no_vests, 41.7ms\n",
      "video 4/4 (frame 3/301) f:\\PRACA_MAGISTERSKA\\DATASETS\\PREDYKCJA\\videos\\taczka.mp4: 640x640 2 no_glovess, 2 no_helmets, 2 no_vests, 41.7ms\n",
      "video 4/4 (frame 4/301) f:\\PRACA_MAGISTERSKA\\DATASETS\\PREDYKCJA\\videos\\taczka.mp4: 640x640 1 no_glasses, 2 no_glovess, 3 no_helmets, 2 no_vests, 41.7ms\n",
      "video 4/4 (frame 5/301) f:\\PRACA_MAGISTERSKA\\DATASETS\\PREDYKCJA\\videos\\taczka.mp4: 640x640 1 no_glasses, 2 no_glovess, 2 no_helmets, 2 no_vests, 41.7ms\n",
      "video 4/4 (frame 6/301) f:\\PRACA_MAGISTERSKA\\DATASETS\\PREDYKCJA\\videos\\taczka.mp4: 640x640 2 no_glassess, 2 no_glovess, 2 no_helmets, 2 no_vests, 41.7ms\n",
      "video 4/4 (frame 7/301) f:\\PRACA_MAGISTERSKA\\DATASETS\\PREDYKCJA\\videos\\taczka.mp4: 640x640 1 no_glasses, 2 no_glovess, 2 no_helmets, 2 no_vests, 41.7ms\n",
      "video 4/4 (frame 8/301) f:\\PRACA_MAGISTERSKA\\DATASETS\\PREDYKCJA\\videos\\taczka.mp4: 640x640 1 no_glasses, 2 no_glovess, 2 no_helmets, 2 no_vests, 41.7ms\n",
      "video 4/4 (frame 9/301) f:\\PRACA_MAGISTERSKA\\DATASETS\\PREDYKCJA\\videos\\taczka.mp4: 640x640 1 no_glasses, 2 no_glovess, 2 no_helmets, 2 no_vests, 41.7ms\n",
      "video 4/4 (frame 10/301) f:\\PRACA_MAGISTERSKA\\DATASETS\\PREDYKCJA\\videos\\taczka.mp4: 640x640 1 no_glasses, 3 no_glovess, 2 no_helmets, 2 no_vests, 41.7ms\n",
      "video 4/4 (frame 11/301) f:\\PRACA_MAGISTERSKA\\DATASETS\\PREDYKCJA\\videos\\taczka.mp4: 640x640 1 no_glasses, 2 no_glovess, 2 no_helmets, 3 no_vests, 41.7ms\n",
      "video 4/4 (frame 12/301) f:\\PRACA_MAGISTERSKA\\DATASETS\\PREDYKCJA\\videos\\taczka.mp4: 640x640 1 no_glasses, 2 no_glovess, 2 no_helmets, 3 no_vests, 41.7ms\n",
      "video 4/4 (frame 13/301) f:\\PRACA_MAGISTERSKA\\DATASETS\\PREDYKCJA\\videos\\taczka.mp4: 640x640 1 no_glasses, 2 no_glovess, 2 no_helmets, 3 no_vests, 41.7ms\n",
      "video 4/4 (frame 14/301) f:\\PRACA_MAGISTERSKA\\DATASETS\\PREDYKCJA\\videos\\taczka.mp4: 640x640 1 no_glasses, 2 no_glovess, 2 no_helmets, 3 no_vests, 41.7ms\n",
      "video 4/4 (frame 15/301) f:\\PRACA_MAGISTERSKA\\DATASETS\\PREDYKCJA\\videos\\taczka.mp4: 640x640 1 no_glasses, 2 no_glovess, 3 no_helmets, 2 no_vests, 41.7ms\n",
      "video 4/4 (frame 16/301) f:\\PRACA_MAGISTERSKA\\DATASETS\\PREDYKCJA\\videos\\taczka.mp4: 640x640 1 no_glasses, 2 no_glovess, 2 no_helmets, 1 no_vest, 41.7ms\n",
      "video 4/4 (frame 17/301) f:\\PRACA_MAGISTERSKA\\DATASETS\\PREDYKCJA\\videos\\taczka.mp4: 640x640 1 no_glasses, 2 no_glovess, 2 no_helmets, 1 no_vest, 41.7ms\n",
      "video 4/4 (frame 18/301) f:\\PRACA_MAGISTERSKA\\DATASETS\\PREDYKCJA\\videos\\taczka.mp4: 640x640 1 no_glasses, 2 no_glovess, 2 no_helmets, 1 no_vest, 41.7ms\n",
      "video 4/4 (frame 19/301) f:\\PRACA_MAGISTERSKA\\DATASETS\\PREDYKCJA\\videos\\taczka.mp4: 640x640 1 no_glasses, 2 no_glovess, 2 no_helmets, 1 no_vest, 41.7ms\n",
      "video 4/4 (frame 20/301) f:\\PRACA_MAGISTERSKA\\DATASETS\\PREDYKCJA\\videos\\taczka.mp4: 640x640 1 no_glasses, 2 no_glovess, 1 no_helmet, 1 no_vest, 41.7ms\n",
      "video 4/4 (frame 21/301) f:\\PRACA_MAGISTERSKA\\DATASETS\\PREDYKCJA\\videos\\taczka.mp4: 640x640 1 no_glasses, 2 no_glovess, 1 no_helmet, 1 no_vest, 41.7ms\n",
      "video 4/4 (frame 22/301) f:\\PRACA_MAGISTERSKA\\DATASETS\\PREDYKCJA\\videos\\taczka.mp4: 640x640 1 no_glasses, 2 no_glovess, 1 no_helmet, 1 no_vest, 41.7ms\n",
      "video 4/4 (frame 23/301) f:\\PRACA_MAGISTERSKA\\DATASETS\\PREDYKCJA\\videos\\taczka.mp4: 384x640 1 no_glasses, 2 no_glovess, 1 no_helmet, 2 no_vests, 18.6ms\n",
      "video 4/4 (frame 24/301) f:\\PRACA_MAGISTERSKA\\DATASETS\\PREDYKCJA\\videos\\taczka.mp4: 384x640 1 no_glasses, 2 no_glovess, 1 no_helmet, 2 no_vests, 18.6ms\n",
      "video 4/4 (frame 25/301) f:\\PRACA_MAGISTERSKA\\DATASETS\\PREDYKCJA\\videos\\taczka.mp4: 384x640 1 no_glasses, 2 no_glovess, 1 no_helmet, 2 no_vests, 18.6ms\n",
      "video 4/4 (frame 26/301) f:\\PRACA_MAGISTERSKA\\DATASETS\\PREDYKCJA\\videos\\taczka.mp4: 384x640 1 no_glasses, 2 no_glovess, 1 no_vest, 18.6ms\n",
      "video 4/4 (frame 27/301) f:\\PRACA_MAGISTERSKA\\DATASETS\\PREDYKCJA\\videos\\taczka.mp4: 384x640 1 no_glasses, 2 no_glovess, 2 no_vests, 18.6ms\n",
      "video 4/4 (frame 28/301) f:\\PRACA_MAGISTERSKA\\DATASETS\\PREDYKCJA\\videos\\taczka.mp4: 384x640 1 no_glasses, 2 no_glovess, 2 no_vests, 18.6ms\n",
      "video 4/4 (frame 29/301) f:\\PRACA_MAGISTERSKA\\DATASETS\\PREDYKCJA\\videos\\taczka.mp4: 384x640 1 no_glasses, 2 no_glovess, 2 no_vests, 18.6ms\n",
      "video 4/4 (frame 30/301) f:\\PRACA_MAGISTERSKA\\DATASETS\\PREDYKCJA\\videos\\taczka.mp4: 384x640 1 no_glasses, 1 no_gloves, 2 no_vests, 18.6ms\n",
      "video 4/4 (frame 31/301) f:\\PRACA_MAGISTERSKA\\DATASETS\\PREDYKCJA\\videos\\taczka.mp4: 384x640 1 no_glasses, 1 no_gloves, 1 no_vest, 18.6ms\n",
      "video 4/4 (frame 32/301) f:\\PRACA_MAGISTERSKA\\DATASETS\\PREDYKCJA\\videos\\taczka.mp4: 384x640 1 no_glasses, 2 no_glovess, 1 no_vest, 18.6ms\n",
      "video 4/4 (frame 33/301) f:\\PRACA_MAGISTERSKA\\DATASETS\\PREDYKCJA\\videos\\taczka.mp4: 384x640 1 no_glasses, 1 no_gloves, 1 no_helmet, 1 no_vest, 18.6ms\n",
      "video 4/4 (frame 34/301) f:\\PRACA_MAGISTERSKA\\DATASETS\\PREDYKCJA\\videos\\taczka.mp4: 384x640 1 no_glasses, 1 no_gloves, 1 no_helmet, 1 no_vest, 18.6ms\n",
      "video 4/4 (frame 35/301) f:\\PRACA_MAGISTERSKA\\DATASETS\\PREDYKCJA\\videos\\taczka.mp4: 384x640 1 no_glasses, 1 no_gloves, 1 no_helmet, 1 no_vest, 18.6ms\n",
      "video 4/4 (frame 36/301) f:\\PRACA_MAGISTERSKA\\DATASETS\\PREDYKCJA\\videos\\taczka.mp4: 384x640 1 no_glasses, 1 no_gloves, 1 no_helmet, 1 no_vest, 18.6ms\n",
      "video 4/4 (frame 37/301) f:\\PRACA_MAGISTERSKA\\DATASETS\\PREDYKCJA\\videos\\taczka.mp4: 384x640 1 no_glasses, 1 no_gloves, 1 no_helmet, 1 no_vest, 18.6ms\n",
      "video 4/4 (frame 38/301) f:\\PRACA_MAGISTERSKA\\DATASETS\\PREDYKCJA\\videos\\taczka.mp4: 384x640 1 no_glasses, 1 no_gloves, 1 no_helmet, 1 no_vest, 18.6ms\n",
      "video 4/4 (frame 39/301) f:\\PRACA_MAGISTERSKA\\DATASETS\\PREDYKCJA\\videos\\taczka.mp4: 384x640 1 no_glasses, 1 no_gloves, 1 no_helmet, 1 no_vest, 18.6ms\n",
      "video 4/4 (frame 40/301) f:\\PRACA_MAGISTERSKA\\DATASETS\\PREDYKCJA\\videos\\taczka.mp4: 384x640 1 no_gloves, 2 no_helmets, 1 no_vest, 18.6ms\n",
      "video 4/4 (frame 41/301) f:\\PRACA_MAGISTERSKA\\DATASETS\\PREDYKCJA\\videos\\taczka.mp4: 384x640 1 no_gloves, 1 no_helmet, 1 no_vest, 18.6ms\n",
      "video 4/4 (frame 42/301) f:\\PRACA_MAGISTERSKA\\DATASETS\\PREDYKCJA\\videos\\taczka.mp4: 384x640 1 no_helmet, 1 no_vest, 18.6ms\n",
      "video 4/4 (frame 43/301) f:\\PRACA_MAGISTERSKA\\DATASETS\\PREDYKCJA\\videos\\taczka.mp4: 384x640 1 no_gloves, 1 no_helmet, 1 no_vest, 18.6ms\n",
      "video 4/4 (frame 44/301) f:\\PRACA_MAGISTERSKA\\DATASETS\\PREDYKCJA\\videos\\taczka.mp4: 384x640 1 no_gloves, 1 no_helmet, 1 no_vest, 18.6ms\n",
      "video 4/4 (frame 45/301) f:\\PRACA_MAGISTERSKA\\DATASETS\\PREDYKCJA\\videos\\taczka.mp4: 384x640 1 no_helmet, 1 no_vest, 18.6ms\n",
      "video 4/4 (frame 46/301) f:\\PRACA_MAGISTERSKA\\DATASETS\\PREDYKCJA\\videos\\taczka.mp4: 384x640 1 no_helmet, 1 no_vest, 18.6ms\n",
      "video 4/4 (frame 47/301) f:\\PRACA_MAGISTERSKA\\DATASETS\\PREDYKCJA\\videos\\taczka.mp4: 384x640 1 no_helmet, 1 no_vest, 18.6ms\n",
      "video 4/4 (frame 48/301) f:\\PRACA_MAGISTERSKA\\DATASETS\\PREDYKCJA\\videos\\taczka.mp4: 384x640 1 no_helmet, 1 no_vest, 18.6ms\n",
      "video 4/4 (frame 49/301) f:\\PRACA_MAGISTERSKA\\DATASETS\\PREDYKCJA\\videos\\taczka.mp4: 384x640 1 no_helmet, 1 no_vest, 18.6ms\n",
      "video 4/4 (frame 50/301) f:\\PRACA_MAGISTERSKA\\DATASETS\\PREDYKCJA\\videos\\taczka.mp4: 384x640 1 no_helmet, 1 no_vest, 18.6ms\n",
      "video 4/4 (frame 51/301) f:\\PRACA_MAGISTERSKA\\DATASETS\\PREDYKCJA\\videos\\taczka.mp4: 384x640 1 no_helmet, 1 no_vest, 18.6ms\n",
      "video 4/4 (frame 52/301) f:\\PRACA_MAGISTERSKA\\DATASETS\\PREDYKCJA\\videos\\taczka.mp4: 384x640 1 no_helmet, 1 no_vest, 18.6ms\n",
      "video 4/4 (frame 53/301) f:\\PRACA_MAGISTERSKA\\DATASETS\\PREDYKCJA\\videos\\taczka.mp4: 384x640 1 no_helmet, 1 no_vest, 18.6ms\n",
      "video 4/4 (frame 54/301) f:\\PRACA_MAGISTERSKA\\DATASETS\\PREDYKCJA\\videos\\taczka.mp4: 384x640 1 no_helmet, 1 no_vest, 18.6ms\n",
      "video 4/4 (frame 55/301) f:\\PRACA_MAGISTERSKA\\DATASETS\\PREDYKCJA\\videos\\taczka.mp4: 384x640 1 no_helmet, 1 no_vest, 18.6ms\n",
      "video 4/4 (frame 56/301) f:\\PRACA_MAGISTERSKA\\DATASETS\\PREDYKCJA\\videos\\taczka.mp4: 384x640 1 no_gloves, 1 no_helmet, 1 no_vest, 18.6ms\n",
      "video 4/4 (frame 57/301) f:\\PRACA_MAGISTERSKA\\DATASETS\\PREDYKCJA\\videos\\taczka.mp4: 384x640 1 no_gloves, 1 no_helmet, 1 no_vest, 18.6ms\n",
      "video 4/4 (frame 58/301) f:\\PRACA_MAGISTERSKA\\DATASETS\\PREDYKCJA\\videos\\taczka.mp4: 384x640 1 no_gloves, 1 no_helmet, 1 no_vest, 18.6ms\n",
      "video 4/4 (frame 59/301) f:\\PRACA_MAGISTERSKA\\DATASETS\\PREDYKCJA\\videos\\taczka.mp4: 384x640 1 no_gloves, 1 no_vest, 18.6ms\n",
      "video 4/4 (frame 60/301) f:\\PRACA_MAGISTERSKA\\DATASETS\\PREDYKCJA\\videos\\taczka.mp4: 384x640 1 no_gloves, 1 no_vest, 18.6ms\n",
      "video 4/4 (frame 61/301) f:\\PRACA_MAGISTERSKA\\DATASETS\\PREDYKCJA\\videos\\taczka.mp4: 384x640 1 no_gloves, 1 no_vest, 18.6ms\n",
      "video 4/4 (frame 62/301) f:\\PRACA_MAGISTERSKA\\DATASETS\\PREDYKCJA\\videos\\taczka.mp4: 384x640 1 no_gloves, 1 no_helmet, 1 no_vest, 18.6ms\n",
      "video 4/4 (frame 63/301) f:\\PRACA_MAGISTERSKA\\DATASETS\\PREDYKCJA\\videos\\taczka.mp4: 384x640 1 no_gloves, 1 no_helmet, 1 no_vest, 18.6ms\n",
      "video 4/4 (frame 64/301) f:\\PRACA_MAGISTERSKA\\DATASETS\\PREDYKCJA\\videos\\taczka.mp4: 384x640 1 no_gloves, 1 no_helmet, 1 no_vest, 18.6ms\n",
      "video 4/4 (frame 65/301) f:\\PRACA_MAGISTERSKA\\DATASETS\\PREDYKCJA\\videos\\taczka.mp4: 384x640 1 no_gloves, 1 no_vest, 18.6ms\n",
      "video 4/4 (frame 66/301) f:\\PRACA_MAGISTERSKA\\DATASETS\\PREDYKCJA\\videos\\taczka.mp4: 384x640 1 no_gloves, 1 no_vest, 18.6ms\n",
      "video 4/4 (frame 67/301) f:\\PRACA_MAGISTERSKA\\DATASETS\\PREDYKCJA\\videos\\taczka.mp4: 384x640 1 no_gloves, 1 no_vest, 18.6ms\n",
      "video 4/4 (frame 68/301) f:\\PRACA_MAGISTERSKA\\DATASETS\\PREDYKCJA\\videos\\taczka.mp4: 384x640 1 no_gloves, 1 no_vest, 18.6ms\n",
      "video 4/4 (frame 69/301) f:\\PRACA_MAGISTERSKA\\DATASETS\\PREDYKCJA\\videos\\taczka.mp4: 384x640 1 no_gloves, 1 no_vest, 18.6ms\n",
      "video 4/4 (frame 70/301) f:\\PRACA_MAGISTERSKA\\DATASETS\\PREDYKCJA\\videos\\taczka.mp4: 384x640 1 no_gloves, 1 no_vest, 18.6ms\n",
      "video 4/4 (frame 71/301) f:\\PRACA_MAGISTERSKA\\DATASETS\\PREDYKCJA\\videos\\taczka.mp4: 384x640 1 no_gloves, 2 no_vests, 18.6ms\n",
      "video 4/4 (frame 72/301) f:\\PRACA_MAGISTERSKA\\DATASETS\\PREDYKCJA\\videos\\taczka.mp4: 384x640 2 no_vests, 18.6ms\n",
      "video 4/4 (frame 73/301) f:\\PRACA_MAGISTERSKA\\DATASETS\\PREDYKCJA\\videos\\taczka.mp4: 384x640 2 no_glovess, 2 no_vests, 18.6ms\n",
      "video 4/4 (frame 74/301) f:\\PRACA_MAGISTERSKA\\DATASETS\\PREDYKCJA\\videos\\taczka.mp4: 384x640 1 no_gloves, 2 no_vests, 18.6ms\n",
      "video 4/4 (frame 75/301) f:\\PRACA_MAGISTERSKA\\DATASETS\\PREDYKCJA\\videos\\taczka.mp4: 384x640 1 no_gloves, 2 no_vests, 18.6ms\n",
      "video 4/4 (frame 76/301) f:\\PRACA_MAGISTERSKA\\DATASETS\\PREDYKCJA\\videos\\taczka.mp4: 384x640 1 no_glasses, 2 no_glovess, 2 no_vests, 18.6ms\n",
      "video 4/4 (frame 77/301) f:\\PRACA_MAGISTERSKA\\DATASETS\\PREDYKCJA\\videos\\taczka.mp4: 384x640 1 no_glasses, 2 no_glovess, 2 no_vests, 18.6ms\n",
      "video 4/4 (frame 78/301) f:\\PRACA_MAGISTERSKA\\DATASETS\\PREDYKCJA\\videos\\taczka.mp4: 384x640 1 no_glasses, 1 no_gloves, 2 no_vests, 18.6ms\n",
      "video 4/4 (frame 79/301) f:\\PRACA_MAGISTERSKA\\DATASETS\\PREDYKCJA\\videos\\taczka.mp4: 384x640 1 no_glasses, 2 no_glovess, 2 no_vests, 18.6ms\n",
      "video 4/4 (frame 80/301) f:\\PRACA_MAGISTERSKA\\DATASETS\\PREDYKCJA\\videos\\taczka.mp4: 384x640 1 no_glasses, 2 no_glovess, 2 no_vests, 18.6ms\n",
      "video 4/4 (frame 81/301) f:\\PRACA_MAGISTERSKA\\DATASETS\\PREDYKCJA\\videos\\taczka.mp4: 384x640 2 no_glovess, 2 no_vests, 18.6ms\n",
      "video 4/4 (frame 82/301) f:\\PRACA_MAGISTERSKA\\DATASETS\\PREDYKCJA\\videos\\taczka.mp4: 384x640 1 no_gloves, 2 no_vests, 18.6ms\n",
      "video 4/4 (frame 83/301) f:\\PRACA_MAGISTERSKA\\DATASETS\\PREDYKCJA\\videos\\taczka.mp4: 384x640 1 no_gloves, 2 no_vests, 18.6ms\n",
      "video 4/4 (frame 84/301) f:\\PRACA_MAGISTERSKA\\DATASETS\\PREDYKCJA\\videos\\taczka.mp4: 384x640 1 no_gloves, 2 no_vests, 18.6ms\n",
      "video 4/4 (frame 85/301) f:\\PRACA_MAGISTERSKA\\DATASETS\\PREDYKCJA\\videos\\taczka.mp4: 384x640 1 no_glasses, 2 no_glovess, 2 no_vests, 18.6ms\n",
      "video 4/4 (frame 86/301) f:\\PRACA_MAGISTERSKA\\DATASETS\\PREDYKCJA\\videos\\taczka.mp4: 384x640 1 no_glasses, 2 no_glovess, 1 no_helmet, 2 no_vests, 18.6ms\n",
      "video 4/4 (frame 87/301) f:\\PRACA_MAGISTERSKA\\DATASETS\\PREDYKCJA\\videos\\taczka.mp4: 384x640 1 no_glasses, 2 no_glovess, 1 no_helmet, 2 no_vests, 18.5ms\n",
      "video 4/4 (frame 88/301) f:\\PRACA_MAGISTERSKA\\DATASETS\\PREDYKCJA\\videos\\taczka.mp4: 384x640 1 no_glasses, 1 no_gloves, 1 no_helmet, 2 no_vests, 18.5ms\n",
      "video 4/4 (frame 89/301) f:\\PRACA_MAGISTERSKA\\DATASETS\\PREDYKCJA\\videos\\taczka.mp4: 384x640 1 no_gloves, 1 no_helmet, 2 no_vests, 18.5ms\n",
      "video 4/4 (frame 90/301) f:\\PRACA_MAGISTERSKA\\DATASETS\\PREDYKCJA\\videos\\taczka.mp4: 384x640 1 no_glasses, 1 no_gloves, 2 no_helmets, 2 no_vests, 18.5ms\n",
      "video 4/4 (frame 91/301) f:\\PRACA_MAGISTERSKA\\DATASETS\\PREDYKCJA\\videos\\taczka.mp4: 384x640 1 no_gloves, 1 no_helmet, 2 no_vests, 18.5ms\n",
      "video 4/4 (frame 92/301) f:\\PRACA_MAGISTERSKA\\DATASETS\\PREDYKCJA\\videos\\taczka.mp4: 384x640 1 no_glasses, 1 no_gloves, 1 no_helmet, 2 no_vests, 18.5ms\n",
      "video 4/4 (frame 93/301) f:\\PRACA_MAGISTERSKA\\DATASETS\\PREDYKCJA\\videos\\taczka.mp4: 384x640 1 no_glasses, 1 no_helmet, 2 no_vests, 18.5ms\n",
      "video 4/4 (frame 94/301) f:\\PRACA_MAGISTERSKA\\DATASETS\\PREDYKCJA\\videos\\taczka.mp4: 384x640 1 no_glasses, 1 no_gloves, 1 no_helmet, 2 no_vests, 18.5ms\n",
      "video 4/4 (frame 95/301) f:\\PRACA_MAGISTERSKA\\DATASETS\\PREDYKCJA\\videos\\taczka.mp4: 384x640 1 no_glasses, 1 no_gloves, 1 no_helmet, 2 no_vests, 18.5ms\n",
      "video 4/4 (frame 96/301) f:\\PRACA_MAGISTERSKA\\DATASETS\\PREDYKCJA\\videos\\taczka.mp4: 384x640 1 no_glasses, 1 no_gloves, 1 no_helmet, 2 no_vests, 18.5ms\n",
      "video 4/4 (frame 97/301) f:\\PRACA_MAGISTERSKA\\DATASETS\\PREDYKCJA\\videos\\taczka.mp4: 384x640 1 no_glasses, 1 no_gloves, 1 no_helmet, 2 no_vests, 18.5ms\n",
      "video 4/4 (frame 98/301) f:\\PRACA_MAGISTERSKA\\DATASETS\\PREDYKCJA\\videos\\taczka.mp4: 384x640 1 no_glasses, 1 no_gloves, 1 no_helmet, 2 no_vests, 18.5ms\n",
      "video 4/4 (frame 99/301) f:\\PRACA_MAGISTERSKA\\DATASETS\\PREDYKCJA\\videos\\taczka.mp4: 384x640 1 no_glasses, 1 no_gloves, 1 no_helmet, 2 no_vests, 18.5ms\n",
      "video 4/4 (frame 100/301) f:\\PRACA_MAGISTERSKA\\DATASETS\\PREDYKCJA\\videos\\taczka.mp4: 384x640 1 no_glasses, 1 no_gloves, 1 no_helmet, 1 no_vest, 18.5ms\n",
      "video 4/4 (frame 101/301) f:\\PRACA_MAGISTERSKA\\DATASETS\\PREDYKCJA\\videos\\taczka.mp4: 384x640 1 no_glasses, 1 no_gloves, 1 no_helmet, 1 no_vest, 18.5ms\n",
      "video 4/4 (frame 102/301) f:\\PRACA_MAGISTERSKA\\DATASETS\\PREDYKCJA\\videos\\taczka.mp4: 384x640 1 no_glasses, 1 no_gloves, 1 no_helmet, 1 no_vest, 18.5ms\n",
      "video 4/4 (frame 103/301) f:\\PRACA_MAGISTERSKA\\DATASETS\\PREDYKCJA\\videos\\taczka.mp4: 384x640 1 no_glasses, 1 no_gloves, 1 no_helmet, 2 no_vests, 18.5ms\n",
      "video 4/4 (frame 104/301) f:\\PRACA_MAGISTERSKA\\DATASETS\\PREDYKCJA\\videos\\taczka.mp4: 384x640 1 no_glasses, 1 no_gloves, 1 no_helmet, 1 no_vest, 18.5ms\n",
      "video 4/4 (frame 105/301) f:\\PRACA_MAGISTERSKA\\DATASETS\\PREDYKCJA\\videos\\taczka.mp4: 384x640 1 no_glasses, 1 no_gloves, 1 no_helmet, 1 no_vest, 18.5ms\n",
      "video 4/4 (frame 106/301) f:\\PRACA_MAGISTERSKA\\DATASETS\\PREDYKCJA\\videos\\taczka.mp4: 384x640 1 no_glasses, 1 no_gloves, 1 no_helmet, 1 no_vest, 18.5ms\n",
      "video 4/4 (frame 107/301) f:\\PRACA_MAGISTERSKA\\DATASETS\\PREDYKCJA\\videos\\taczka.mp4: 384x640 1 no_glasses, 1 no_gloves, 1 no_helmet, 1 no_vest, 18.5ms\n",
      "video 4/4 (frame 108/301) f:\\PRACA_MAGISTERSKA\\DATASETS\\PREDYKCJA\\videos\\taczka.mp4: 384x640 1 no_gloves, 1 no_helmet, 2 no_vests, 18.5ms\n",
      "video 4/4 (frame 109/301) f:\\PRACA_MAGISTERSKA\\DATASETS\\PREDYKCJA\\videos\\taczka.mp4: 384x640 1 no_glasses, 1 no_gloves, 1 no_helmet, 2 no_vests, 18.5ms\n",
      "video 4/4 (frame 110/301) f:\\PRACA_MAGISTERSKA\\DATASETS\\PREDYKCJA\\videos\\taczka.mp4: 384x640 1 no_glasses, 2 no_glovess, 1 no_helmet, 2 no_vests, 18.5ms\n",
      "video 4/4 (frame 111/301) f:\\PRACA_MAGISTERSKA\\DATASETS\\PREDYKCJA\\videos\\taczka.mp4: 384x640 1 no_glasses, 2 no_glovess, 1 no_helmet, 1 no_vest, 18.5ms\n",
      "video 4/4 (frame 112/301) f:\\PRACA_MAGISTERSKA\\DATASETS\\PREDYKCJA\\videos\\taczka.mp4: 384x640 1 no_glasses, 2 no_glovess, 1 no_helmet, 1 no_vest, 18.5ms\n",
      "video 4/4 (frame 113/301) f:\\PRACA_MAGISTERSKA\\DATASETS\\PREDYKCJA\\videos\\taczka.mp4: 384x640 1 no_gloves, 1 no_helmet, 1 no_vest, 18.5ms\n",
      "video 4/4 (frame 114/301) f:\\PRACA_MAGISTERSKA\\DATASETS\\PREDYKCJA\\videos\\taczka.mp4: 384x640 1 no_glasses, 2 no_glovess, 1 no_helmet, 1 no_vest, 18.5ms\n",
      "video 4/4 (frame 115/301) f:\\PRACA_MAGISTERSKA\\DATASETS\\PREDYKCJA\\videos\\taczka.mp4: 384x640 1 no_glasses, 2 no_glovess, 1 no_helmet, 1 no_vest, 18.5ms\n",
      "video 4/4 (frame 116/301) f:\\PRACA_MAGISTERSKA\\DATASETS\\PREDYKCJA\\videos\\taczka.mp4: 384x640 1 no_glasses, 2 no_glovess, 1 no_helmet, 1 no_vest, 18.5ms\n",
      "video 4/4 (frame 117/301) f:\\PRACA_MAGISTERSKA\\DATASETS\\PREDYKCJA\\videos\\taczka.mp4: 384x640 1 no_glasses, 2 no_glovess, 2 no_helmets, 2 no_vests, 18.5ms\n",
      "video 4/4 (frame 118/301) f:\\PRACA_MAGISTERSKA\\DATASETS\\PREDYKCJA\\videos\\taczka.mp4: 384x640 1 no_glasses, 2 no_glovess, 1 no_helmet, 1 no_vest, 18.5ms\n",
      "video 4/4 (frame 119/301) f:\\PRACA_MAGISTERSKA\\DATASETS\\PREDYKCJA\\videos\\taczka.mp4: 384x640 1 no_glasses, 2 no_glovess, 1 no_helmet, 2 no_vests, 18.5ms\n",
      "video 4/4 (frame 120/301) f:\\PRACA_MAGISTERSKA\\DATASETS\\PREDYKCJA\\videos\\taczka.mp4: 384x640 1 no_glasses, 2 no_glovess, 1 no_helmet, 2 no_vests, 18.5ms\n",
      "video 4/4 (frame 121/301) f:\\PRACA_MAGISTERSKA\\DATASETS\\PREDYKCJA\\videos\\taczka.mp4: 384x640 1 no_glasses, 1 no_gloves, 1 no_helmet, 2 no_vests, 18.5ms\n",
      "video 4/4 (frame 122/301) f:\\PRACA_MAGISTERSKA\\DATASETS\\PREDYKCJA\\videos\\taczka.mp4: 384x640 1 no_glasses, 2 no_glovess, 1 no_helmet, 2 no_vests, 18.5ms\n",
      "video 4/4 (frame 123/301) f:\\PRACA_MAGISTERSKA\\DATASETS\\PREDYKCJA\\videos\\taczka.mp4: 384x640 1 no_glasses, 2 no_glovess, 2 no_vests, 18.5ms\n",
      "video 4/4 (frame 124/301) f:\\PRACA_MAGISTERSKA\\DATASETS\\PREDYKCJA\\videos\\taczka.mp4: 384x640 1 no_glasses, 2 no_vests, 18.5ms\n",
      "video 4/4 (frame 125/301) f:\\PRACA_MAGISTERSKA\\DATASETS\\PREDYKCJA\\videos\\taczka.mp4: 384x640 1 no_glasses, 2 no_vests, 18.5ms\n",
      "video 4/4 (frame 126/301) f:\\PRACA_MAGISTERSKA\\DATASETS\\PREDYKCJA\\videos\\taczka.mp4: 384x640 1 no_glasses, 1 no_gloves, 2 no_vests, 18.5ms\n",
      "video 4/4 (frame 127/301) f:\\PRACA_MAGISTERSKA\\DATASETS\\PREDYKCJA\\videos\\taczka.mp4: 384x640 1 no_glasses, 2 no_glovess, 2 no_vests, 18.5ms\n",
      "video 4/4 (frame 128/301) f:\\PRACA_MAGISTERSKA\\DATASETS\\PREDYKCJA\\videos\\taczka.mp4: 384x640 1 no_glasses, 2 no_glovess, 2 no_vests, 18.5ms\n",
      "video 4/4 (frame 129/301) f:\\PRACA_MAGISTERSKA\\DATASETS\\PREDYKCJA\\videos\\taczka.mp4: 384x640 1 no_glasses, 2 no_glovess, 2 no_vests, 18.5ms\n",
      "video 4/4 (frame 130/301) f:\\PRACA_MAGISTERSKA\\DATASETS\\PREDYKCJA\\videos\\taczka.mp4: 384x640 2 no_glovess, 2 no_vests, 18.5ms\n",
      "video 4/4 (frame 131/301) f:\\PRACA_MAGISTERSKA\\DATASETS\\PREDYKCJA\\videos\\taczka.mp4: 384x640 2 no_glovess, 2 no_vests, 18.5ms\n",
      "video 4/4 (frame 132/301) f:\\PRACA_MAGISTERSKA\\DATASETS\\PREDYKCJA\\videos\\taczka.mp4: 384x640 1 no_glasses, 2 no_glovess, 1 no_vest, 18.5ms\n",
      "video 4/4 (frame 133/301) f:\\PRACA_MAGISTERSKA\\DATASETS\\PREDYKCJA\\videos\\taczka.mp4: 384x640 2 no_glovess, 1 no_vest, 18.5ms\n",
      "video 4/4 (frame 134/301) f:\\PRACA_MAGISTERSKA\\DATASETS\\PREDYKCJA\\videos\\taczka.mp4: 384x640 3 no_glovess, 1 no_vest, 18.5ms\n",
      "video 4/4 (frame 135/301) f:\\PRACA_MAGISTERSKA\\DATASETS\\PREDYKCJA\\videos\\taczka.mp4: 384x640 1 no_gloves, 2 no_vests, 18.5ms\n",
      "video 4/4 (frame 136/301) f:\\PRACA_MAGISTERSKA\\DATASETS\\PREDYKCJA\\videos\\taczka.mp4: 384x640 1 no_gloves, 2 no_vests, 18.5ms\n",
      "video 4/4 (frame 137/301) f:\\PRACA_MAGISTERSKA\\DATASETS\\PREDYKCJA\\videos\\taczka.mp4: 384x640 1 no_gloves, 3 no_vests, 18.5ms\n",
      "video 4/4 (frame 138/301) f:\\PRACA_MAGISTERSKA\\DATASETS\\PREDYKCJA\\videos\\taczka.mp4: 384x640 1 no_gloves, 3 no_vests, 18.5ms\n",
      "video 4/4 (frame 139/301) f:\\PRACA_MAGISTERSKA\\DATASETS\\PREDYKCJA\\videos\\taczka.mp4: 384x640 1 no_gloves, 3 no_vests, 18.5ms\n",
      "video 4/4 (frame 140/301) f:\\PRACA_MAGISTERSKA\\DATASETS\\PREDYKCJA\\videos\\taczka.mp4: 384x640 1 no_gloves, 3 no_vests, 18.5ms\n",
      "video 4/4 (frame 141/301) f:\\PRACA_MAGISTERSKA\\DATASETS\\PREDYKCJA\\videos\\taczka.mp4: 384x640 1 no_gloves, 3 no_vests, 18.5ms\n",
      "video 4/4 (frame 142/301) f:\\PRACA_MAGISTERSKA\\DATASETS\\PREDYKCJA\\videos\\taczka.mp4: 384x640 1 no_gloves, 1 no_helmet, 3 no_vests, 18.5ms\n",
      "video 4/4 (frame 143/301) f:\\PRACA_MAGISTERSKA\\DATASETS\\PREDYKCJA\\videos\\taczka.mp4: 384x640 1 no_gloves, 1 no_helmet, 2 no_vests, 18.5ms\n",
      "video 4/4 (frame 144/301) f:\\PRACA_MAGISTERSKA\\DATASETS\\PREDYKCJA\\videos\\taczka.mp4: 384x640 1 no_gloves, 1 no_helmet, 2 no_vests, 18.5ms\n",
      "video 4/4 (frame 145/301) f:\\PRACA_MAGISTERSKA\\DATASETS\\PREDYKCJA\\videos\\taczka.mp4: 384x640 2 no_glovess, 1 no_helmet, 2 no_vests, 18.5ms\n",
      "video 4/4 (frame 146/301) f:\\PRACA_MAGISTERSKA\\DATASETS\\PREDYKCJA\\videos\\taczka.mp4: 384x640 1 no_gloves, 1 no_helmet, 2 no_vests, 18.5ms\n",
      "video 4/4 (frame 147/301) f:\\PRACA_MAGISTERSKA\\DATASETS\\PREDYKCJA\\videos\\taczka.mp4: 384x640 1 no_gloves, 1 no_helmet, 2 no_vests, 18.5ms\n",
      "video 4/4 (frame 148/301) f:\\PRACA_MAGISTERSKA\\DATASETS\\PREDYKCJA\\videos\\taczka.mp4: 384x640 1 no_gloves, 1 no_helmet, 2 no_vests, 18.5ms\n",
      "video 4/4 (frame 149/301) f:\\PRACA_MAGISTERSKA\\DATASETS\\PREDYKCJA\\videos\\taczka.mp4: 384x640 1 no_gloves, 1 no_helmet, 2 no_vests, 18.5ms\n",
      "video 4/4 (frame 150/301) f:\\PRACA_MAGISTERSKA\\DATASETS\\PREDYKCJA\\videos\\taczka.mp4: 384x640 1 no_glasses, 1 no_gloves, 1 no_helmet, 3 no_vests, 18.5ms\n",
      "video 4/4 (frame 151/301) f:\\PRACA_MAGISTERSKA\\DATASETS\\PREDYKCJA\\videos\\taczka.mp4: 384x640 1 no_gloves, 1 no_helmet, 2 no_vests, 18.6ms\n",
      "video 4/4 (frame 152/301) f:\\PRACA_MAGISTERSKA\\DATASETS\\PREDYKCJA\\videos\\taczka.mp4: 384x640 1 no_glasses, 1 no_gloves, 1 no_helmet, 2 no_vests, 18.6ms\n",
      "video 4/4 (frame 153/301) f:\\PRACA_MAGISTERSKA\\DATASETS\\PREDYKCJA\\videos\\taczka.mp4: 384x640 1 no_gloves, 1 no_helmet, 3 no_vests, 18.6ms\n",
      "video 4/4 (frame 154/301) f:\\PRACA_MAGISTERSKA\\DATASETS\\PREDYKCJA\\videos\\taczka.mp4: 384x640 1 no_gloves, 1 no_helmet, 3 no_vests, 18.6ms\n",
      "video 4/4 (frame 155/301) f:\\PRACA_MAGISTERSKA\\DATASETS\\PREDYKCJA\\videos\\taczka.mp4: 384x640 1 no_glasses, 1 no_gloves, 1 no_helmet, 2 no_vests, 18.6ms\n",
      "video 4/4 (frame 156/301) f:\\PRACA_MAGISTERSKA\\DATASETS\\PREDYKCJA\\videos\\taczka.mp4: 384x640 1 no_glasses, 1 no_gloves, 1 no_helmet, 3 no_vests, 18.6ms\n",
      "video 4/4 (frame 157/301) f:\\PRACA_MAGISTERSKA\\DATASETS\\PREDYKCJA\\videos\\taczka.mp4: 384x640 1 no_gloves, 1 no_helmet, 3 no_vests, 18.6ms\n",
      "video 4/4 (frame 158/301) f:\\PRACA_MAGISTERSKA\\DATASETS\\PREDYKCJA\\videos\\taczka.mp4: 384x640 1 no_glasses, 1 no_gloves, 1 no_helmet, 3 no_vests, 18.6ms\n",
      "video 4/4 (frame 159/301) f:\\PRACA_MAGISTERSKA\\DATASETS\\PREDYKCJA\\videos\\taczka.mp4: 384x640 1 no_glasses, 1 no_gloves, 1 no_helmet, 4 no_vests, 18.6ms\n",
      "video 4/4 (frame 160/301) f:\\PRACA_MAGISTERSKA\\DATASETS\\PREDYKCJA\\videos\\taczka.mp4: 384x640 1 no_glasses, 1 no_gloves, 1 no_helmet, 2 no_vests, 18.6ms\n",
      "video 4/4 (frame 161/301) f:\\PRACA_MAGISTERSKA\\DATASETS\\PREDYKCJA\\videos\\taczka.mp4: 384x640 1 no_gloves, 1 no_helmet, 2 no_vests, 18.6ms\n",
      "video 4/4 (frame 162/301) f:\\PRACA_MAGISTERSKA\\DATASETS\\PREDYKCJA\\videos\\taczka.mp4: 384x640 1 no_gloves, 1 no_helmet, 2 no_vests, 18.6ms\n",
      "video 4/4 (frame 163/301) f:\\PRACA_MAGISTERSKA\\DATASETS\\PREDYKCJA\\videos\\taczka.mp4: 384x640 1 no_gloves, 1 no_helmet, 2 no_vests, 18.6ms\n",
      "video 4/4 (frame 164/301) f:\\PRACA_MAGISTERSKA\\DATASETS\\PREDYKCJA\\videos\\taczka.mp4: 384x640 1 no_gloves, 1 no_helmet, 2 no_vests, 18.6ms\n",
      "video 4/4 (frame 165/301) f:\\PRACA_MAGISTERSKA\\DATASETS\\PREDYKCJA\\videos\\taczka.mp4: 384x640 2 no_glovess, 1 no_helmet, 2 no_vests, 18.6ms\n",
      "video 4/4 (frame 166/301) f:\\PRACA_MAGISTERSKA\\DATASETS\\PREDYKCJA\\videos\\taczka.mp4: 384x640 2 no_glovess, 1 no_helmet, 2 no_vests, 18.6ms\n",
      "video 4/4 (frame 167/301) f:\\PRACA_MAGISTERSKA\\DATASETS\\PREDYKCJA\\videos\\taczka.mp4: 384x640 2 no_glovess, 1 no_helmet, 2 no_vests, 18.6ms\n",
      "video 4/4 (frame 168/301) f:\\PRACA_MAGISTERSKA\\DATASETS\\PREDYKCJA\\videos\\taczka.mp4: 384x640 2 no_glovess, 1 no_helmet, 3 no_vests, 18.6ms\n",
      "video 4/4 (frame 169/301) f:\\PRACA_MAGISTERSKA\\DATASETS\\PREDYKCJA\\videos\\taczka.mp4: 384x640 2 no_glovess, 1 no_helmet, 3 no_vests, 18.6ms\n",
      "video 4/4 (frame 170/301) f:\\PRACA_MAGISTERSKA\\DATASETS\\PREDYKCJA\\videos\\taczka.mp4: 384x640 3 no_glovess, 1 no_helmet, 2 no_vests, 18.6ms\n",
      "video 4/4 (frame 171/301) f:\\PRACA_MAGISTERSKA\\DATASETS\\PREDYKCJA\\videos\\taczka.mp4: 384x640 3 no_glovess, 1 no_helmet, 2 no_vests, 18.6ms\n",
      "video 4/4 (frame 172/301) f:\\PRACA_MAGISTERSKA\\DATASETS\\PREDYKCJA\\videos\\taczka.mp4: 384x640 4 no_glovess, 1 no_helmet, 3 no_vests, 18.6ms\n",
      "video 4/4 (frame 173/301) f:\\PRACA_MAGISTERSKA\\DATASETS\\PREDYKCJA\\videos\\taczka.mp4: 384x640 3 no_glovess, 1 no_helmet, 3 no_vests, 18.6ms\n",
      "video 4/4 (frame 174/301) f:\\PRACA_MAGISTERSKA\\DATASETS\\PREDYKCJA\\videos\\taczka.mp4: 384x640 3 no_glovess, 1 no_helmet, 3 no_vests, 18.6ms\n",
      "video 4/4 (frame 175/301) f:\\PRACA_MAGISTERSKA\\DATASETS\\PREDYKCJA\\videos\\taczka.mp4: 384x640 3 no_glovess, 1 no_helmet, 2 no_vests, 18.6ms\n",
      "video 4/4 (frame 176/301) f:\\PRACA_MAGISTERSKA\\DATASETS\\PREDYKCJA\\videos\\taczka.mp4: 384x640 3 no_glovess, 1 no_helmet, 2 no_vests, 18.6ms\n",
      "video 4/4 (frame 177/301) f:\\PRACA_MAGISTERSKA\\DATASETS\\PREDYKCJA\\videos\\taczka.mp4: 384x640 2 no_glovess, 1 no_helmet, 2 no_vests, 18.6ms\n",
      "video 4/4 (frame 178/301) f:\\PRACA_MAGISTERSKA\\DATASETS\\PREDYKCJA\\videos\\taczka.mp4: 384x640 2 no_glovess, 1 no_helmet, 2 no_vests, 18.6ms\n",
      "video 4/4 (frame 179/301) f:\\PRACA_MAGISTERSKA\\DATASETS\\PREDYKCJA\\videos\\taczka.mp4: 384x640 2 no_glovess, 1 no_helmet, 2 no_vests, 18.6ms\n",
      "video 4/4 (frame 180/301) f:\\PRACA_MAGISTERSKA\\DATASETS\\PREDYKCJA\\videos\\taczka.mp4: 384x640 2 no_glovess, 1 no_helmet, 2 no_vests, 18.6ms\n",
      "video 4/4 (frame 181/301) f:\\PRACA_MAGISTERSKA\\DATASETS\\PREDYKCJA\\videos\\taczka.mp4: 384x640 2 no_glovess, 1 no_helmet, 2 no_vests, 18.6ms\n",
      "video 4/4 (frame 182/301) f:\\PRACA_MAGISTERSKA\\DATASETS\\PREDYKCJA\\videos\\taczka.mp4: 384x640 2 no_glovess, 1 no_helmet, 2 no_vests, 18.6ms\n",
      "video 4/4 (frame 183/301) f:\\PRACA_MAGISTERSKA\\DATASETS\\PREDYKCJA\\videos\\taczka.mp4: 384x640 2 no_glovess, 1 no_helmet, 2 no_vests, 18.6ms\n",
      "video 4/4 (frame 184/301) f:\\PRACA_MAGISTERSKA\\DATASETS\\PREDYKCJA\\videos\\taczka.mp4: 384x640 2 no_glovess, 1 no_helmet, 2 no_vests, 18.6ms\n",
      "video 4/4 (frame 185/301) f:\\PRACA_MAGISTERSKA\\DATASETS\\PREDYKCJA\\videos\\taczka.mp4: 384x640 2 no_glovess, 1 no_helmet, 2 no_vests, 18.6ms\n",
      "video 4/4 (frame 186/301) f:\\PRACA_MAGISTERSKA\\DATASETS\\PREDYKCJA\\videos\\taczka.mp4: 384x640 2 no_glovess, 1 no_helmet, 1 no_vest, 18.6ms\n",
      "video 4/4 (frame 187/301) f:\\PRACA_MAGISTERSKA\\DATASETS\\PREDYKCJA\\videos\\taczka.mp4: 384x640 2 no_glovess, 1 no_helmet, 2 no_vests, 18.6ms\n",
      "video 4/4 (frame 188/301) f:\\PRACA_MAGISTERSKA\\DATASETS\\PREDYKCJA\\videos\\taczka.mp4: 384x640 2 no_glovess, 1 no_helmet, 2 no_vests, 18.6ms\n",
      "video 4/4 (frame 189/301) f:\\PRACA_MAGISTERSKA\\DATASETS\\PREDYKCJA\\videos\\taczka.mp4: 384x640 2 no_glovess, 2 no_helmets, 2 no_vests, 18.6ms\n",
      "video 4/4 (frame 190/301) f:\\PRACA_MAGISTERSKA\\DATASETS\\PREDYKCJA\\videos\\taczka.mp4: 384x640 2 no_glovess, 1 no_helmet, 2 no_vests, 18.6ms\n",
      "video 4/4 (frame 191/301) f:\\PRACA_MAGISTERSKA\\DATASETS\\PREDYKCJA\\videos\\taczka.mp4: 384x640 2 no_glovess, 1 no_helmet, 2 no_vests, 18.6ms\n",
      "video 4/4 (frame 192/301) f:\\PRACA_MAGISTERSKA\\DATASETS\\PREDYKCJA\\videos\\taczka.mp4: 384x640 2 no_glovess, 1 no_helmet, 2 no_vests, 18.6ms\n",
      "video 4/4 (frame 193/301) f:\\PRACA_MAGISTERSKA\\DATASETS\\PREDYKCJA\\videos\\taczka.mp4: 384x640 2 no_glovess, 1 no_helmet, 2 no_vests, 18.6ms\n",
      "video 4/4 (frame 194/301) f:\\PRACA_MAGISTERSKA\\DATASETS\\PREDYKCJA\\videos\\taczka.mp4: 384x640 2 no_glovess, 2 no_helmets, 2 no_vests, 18.6ms\n",
      "video 4/4 (frame 195/301) f:\\PRACA_MAGISTERSKA\\DATASETS\\PREDYKCJA\\videos\\taczka.mp4: 384x640 2 no_glovess, 2 no_vests, 18.6ms\n",
      "video 4/4 (frame 196/301) f:\\PRACA_MAGISTERSKA\\DATASETS\\PREDYKCJA\\videos\\taczka.mp4: 384x640 2 no_glovess, 2 no_vests, 18.6ms\n",
      "video 4/4 (frame 197/301) f:\\PRACA_MAGISTERSKA\\DATASETS\\PREDYKCJA\\videos\\taczka.mp4: 384x640 2 no_glovess, 2 no_vests, 18.6ms\n",
      "video 4/4 (frame 198/301) f:\\PRACA_MAGISTERSKA\\DATASETS\\PREDYKCJA\\videos\\taczka.mp4: 384x640 2 no_glovess, 2 no_vests, 18.6ms\n",
      "video 4/4 (frame 199/301) f:\\PRACA_MAGISTERSKA\\DATASETS\\PREDYKCJA\\videos\\taczka.mp4: 384x640 2 no_glovess, 2 no_vests, 18.6ms\n",
      "video 4/4 (frame 200/301) f:\\PRACA_MAGISTERSKA\\DATASETS\\PREDYKCJA\\videos\\taczka.mp4: 384x640 2 no_glovess, 2 no_vests, 18.6ms\n",
      "video 4/4 (frame 201/301) f:\\PRACA_MAGISTERSKA\\DATASETS\\PREDYKCJA\\videos\\taczka.mp4: 384x640 2 no_glovess, 2 no_vests, 18.6ms\n",
      "video 4/4 (frame 202/301) f:\\PRACA_MAGISTERSKA\\DATASETS\\PREDYKCJA\\videos\\taczka.mp4: 384x640 2 no_glovess, 2 no_vests, 18.6ms\n",
      "video 4/4 (frame 203/301) f:\\PRACA_MAGISTERSKA\\DATASETS\\PREDYKCJA\\videos\\taczka.mp4: 384x640 2 no_glovess, 2 no_vests, 18.6ms\n",
      "video 4/4 (frame 204/301) f:\\PRACA_MAGISTERSKA\\DATASETS\\PREDYKCJA\\videos\\taczka.mp4: 384x640 2 no_glovess, 2 no_vests, 18.6ms\n",
      "video 4/4 (frame 205/301) f:\\PRACA_MAGISTERSKA\\DATASETS\\PREDYKCJA\\videos\\taczka.mp4: 384x640 2 no_glovess, 2 no_vests, 18.6ms\n",
      "video 4/4 (frame 206/301) f:\\PRACA_MAGISTERSKA\\DATASETS\\PREDYKCJA\\videos\\taczka.mp4: 384x640 2 no_glovess, 2 no_vests, 18.6ms\n",
      "video 4/4 (frame 207/301) f:\\PRACA_MAGISTERSKA\\DATASETS\\PREDYKCJA\\videos\\taczka.mp4: 384x640 2 no_glovess, 2 no_vests, 18.6ms\n",
      "video 4/4 (frame 208/301) f:\\PRACA_MAGISTERSKA\\DATASETS\\PREDYKCJA\\videos\\taczka.mp4: 384x640 2 no_glovess, 2 no_vests, 18.6ms\n",
      "video 4/4 (frame 209/301) f:\\PRACA_MAGISTERSKA\\DATASETS\\PREDYKCJA\\videos\\taczka.mp4: 384x640 2 no_glovess, 2 no_vests, 18.6ms\n",
      "video 4/4 (frame 210/301) f:\\PRACA_MAGISTERSKA\\DATASETS\\PREDYKCJA\\videos\\taczka.mp4: 384x640 1 no_gloves, 2 no_vests, 18.6ms\n",
      "video 4/4 (frame 211/301) f:\\PRACA_MAGISTERSKA\\DATASETS\\PREDYKCJA\\videos\\taczka.mp4: 384x640 2 no_glovess, 2 no_vests, 18.6ms\n",
      "video 4/4 (frame 212/301) f:\\PRACA_MAGISTERSKA\\DATASETS\\PREDYKCJA\\videos\\taczka.mp4: 384x640 2 no_glovess, 2 no_vests, 18.6ms\n",
      "video 4/4 (frame 213/301) f:\\PRACA_MAGISTERSKA\\DATASETS\\PREDYKCJA\\videos\\taczka.mp4: 384x640 2 no_glovess, 2 no_vests, 18.6ms\n",
      "video 4/4 (frame 214/301) f:\\PRACA_MAGISTERSKA\\DATASETS\\PREDYKCJA\\videos\\taczka.mp4: 384x640 2 no_glovess, 2 no_vests, 18.6ms\n",
      "video 4/4 (frame 215/301) f:\\PRACA_MAGISTERSKA\\DATASETS\\PREDYKCJA\\videos\\taczka.mp4: 384x640 2 no_glovess, 3 no_vests, 18.6ms\n",
      "video 4/4 (frame 216/301) f:\\PRACA_MAGISTERSKA\\DATASETS\\PREDYKCJA\\videos\\taczka.mp4: 384x640 2 no_glovess, 2 no_vests, 18.6ms\n",
      "video 4/4 (frame 217/301) f:\\PRACA_MAGISTERSKA\\DATASETS\\PREDYKCJA\\videos\\taczka.mp4: 384x640 2 no_glovess, 2 no_vests, 18.6ms\n",
      "video 4/4 (frame 218/301) f:\\PRACA_MAGISTERSKA\\DATASETS\\PREDYKCJA\\videos\\taczka.mp4: 384x640 2 no_glovess, 2 no_vests, 18.6ms\n",
      "video 4/4 (frame 219/301) f:\\PRACA_MAGISTERSKA\\DATASETS\\PREDYKCJA\\videos\\taczka.mp4: 384x640 2 no_glovess, 2 no_vests, 18.6ms\n",
      "video 4/4 (frame 220/301) f:\\PRACA_MAGISTERSKA\\DATASETS\\PREDYKCJA\\videos\\taczka.mp4: 384x640 2 no_glovess, 2 no_vests, 18.6ms\n",
      "video 4/4 (frame 221/301) f:\\PRACA_MAGISTERSKA\\DATASETS\\PREDYKCJA\\videos\\taczka.mp4: 384x640 2 no_glovess, 2 no_vests, 18.6ms\n",
      "video 4/4 (frame 222/301) f:\\PRACA_MAGISTERSKA\\DATASETS\\PREDYKCJA\\videos\\taczka.mp4: 384x640 2 no_glovess, 2 no_vests, 18.6ms\n",
      "video 4/4 (frame 223/301) f:\\PRACA_MAGISTERSKA\\DATASETS\\PREDYKCJA\\videos\\taczka.mp4: 384x640 4 no_glovess, 1 no_vest, 18.6ms\n",
      "video 4/4 (frame 224/301) f:\\PRACA_MAGISTERSKA\\DATASETS\\PREDYKCJA\\videos\\taczka.mp4: 384x640 2 no_glovess, 1 no_vest, 18.6ms\n",
      "video 4/4 (frame 225/301) f:\\PRACA_MAGISTERSKA\\DATASETS\\PREDYKCJA\\videos\\taczka.mp4: 384x640 2 no_glovess, 1 no_vest, 18.6ms\n",
      "video 4/4 (frame 226/301) f:\\PRACA_MAGISTERSKA\\DATASETS\\PREDYKCJA\\videos\\taczka.mp4: 384x640 2 no_glovess, 18.6ms\n",
      "video 4/4 (frame 227/301) f:\\PRACA_MAGISTERSKA\\DATASETS\\PREDYKCJA\\videos\\taczka.mp4: 384x640 2 no_glovess, 18.6ms\n",
      "video 4/4 (frame 228/301) f:\\PRACA_MAGISTERSKA\\DATASETS\\PREDYKCJA\\videos\\taczka.mp4: 384x640 2 no_glovess, 18.6ms\n",
      "video 4/4 (frame 229/301) f:\\PRACA_MAGISTERSKA\\DATASETS\\PREDYKCJA\\videos\\taczka.mp4: 384x640 2 no_glovess, 18.6ms\n",
      "video 4/4 (frame 230/301) f:\\PRACA_MAGISTERSKA\\DATASETS\\PREDYKCJA\\videos\\taczka.mp4: 384x640 2 no_glovess, 18.6ms\n",
      "video 4/4 (frame 231/301) f:\\PRACA_MAGISTERSKA\\DATASETS\\PREDYKCJA\\videos\\taczka.mp4: 384x640 2 no_glovess, 18.6ms\n",
      "video 4/4 (frame 232/301) f:\\PRACA_MAGISTERSKA\\DATASETS\\PREDYKCJA\\videos\\taczka.mp4: 384x640 2 no_glovess, 18.6ms\n",
      "video 4/4 (frame 233/301) f:\\PRACA_MAGISTERSKA\\DATASETS\\PREDYKCJA\\videos\\taczka.mp4: 384x640 2 no_glovess, 18.6ms\n",
      "video 4/4 (frame 234/301) f:\\PRACA_MAGISTERSKA\\DATASETS\\PREDYKCJA\\videos\\taczka.mp4: 384x640 2 no_glovess, 18.6ms\n",
      "video 4/4 (frame 235/301) f:\\PRACA_MAGISTERSKA\\DATASETS\\PREDYKCJA\\videos\\taczka.mp4: 384x640 2 no_glovess, 18.6ms\n",
      "video 4/4 (frame 236/301) f:\\PRACA_MAGISTERSKA\\DATASETS\\PREDYKCJA\\videos\\taczka.mp4: 384x640 3 no_glovess, 18.6ms\n",
      "video 4/4 (frame 237/301) f:\\PRACA_MAGISTERSKA\\DATASETS\\PREDYKCJA\\videos\\taczka.mp4: 384x640 2 no_glovess, 18.6ms\n",
      "video 4/4 (frame 238/301) f:\\PRACA_MAGISTERSKA\\DATASETS\\PREDYKCJA\\videos\\taczka.mp4: 384x640 2 no_glovess, 18.6ms\n",
      "video 4/4 (frame 239/301) f:\\PRACA_MAGISTERSKA\\DATASETS\\PREDYKCJA\\videos\\taczka.mp4: 384x640 2 no_glovess, 18.6ms\n",
      "video 4/4 (frame 240/301) f:\\PRACA_MAGISTERSKA\\DATASETS\\PREDYKCJA\\videos\\taczka.mp4: 384x640 3 no_glovess, 18.6ms\n",
      "video 4/4 (frame 241/301) f:\\PRACA_MAGISTERSKA\\DATASETS\\PREDYKCJA\\videos\\taczka.mp4: 384x640 4 no_glovess, 18.6ms\n",
      "video 4/4 (frame 242/301) f:\\PRACA_MAGISTERSKA\\DATASETS\\PREDYKCJA\\videos\\taczka.mp4: 384x640 3 no_glovess, 18.6ms\n",
      "video 4/4 (frame 243/301) f:\\PRACA_MAGISTERSKA\\DATASETS\\PREDYKCJA\\videos\\taczka.mp4: 384x640 3 no_glovess, 18.6ms\n",
      "video 4/4 (frame 244/301) f:\\PRACA_MAGISTERSKA\\DATASETS\\PREDYKCJA\\videos\\taczka.mp4: 384x640 3 no_glovess, 18.6ms\n",
      "video 4/4 (frame 245/301) f:\\PRACA_MAGISTERSKA\\DATASETS\\PREDYKCJA\\videos\\taczka.mp4: 384x640 3 no_glovess, 1 no_vest, 18.6ms\n",
      "video 4/4 (frame 246/301) f:\\PRACA_MAGISTERSKA\\DATASETS\\PREDYKCJA\\videos\\taczka.mp4: 384x640 2 no_glovess, 1 no_vest, 18.6ms\n",
      "video 4/4 (frame 247/301) f:\\PRACA_MAGISTERSKA\\DATASETS\\PREDYKCJA\\videos\\taczka.mp4: 384x640 3 no_glovess, 1 no_vest, 18.6ms\n",
      "video 4/4 (frame 248/301) f:\\PRACA_MAGISTERSKA\\DATASETS\\PREDYKCJA\\videos\\taczka.mp4: 384x640 4 no_glovess, 18.6ms\n",
      "video 4/4 (frame 249/301) f:\\PRACA_MAGISTERSKA\\DATASETS\\PREDYKCJA\\videos\\taczka.mp4: 384x640 3 no_glovess, 1 no_vest, 18.6ms\n",
      "video 4/4 (frame 250/301) f:\\PRACA_MAGISTERSKA\\DATASETS\\PREDYKCJA\\videos\\taczka.mp4: 384x640 3 no_glovess, 1 no_vest, 18.6ms\n",
      "video 4/4 (frame 251/301) f:\\PRACA_MAGISTERSKA\\DATASETS\\PREDYKCJA\\videos\\taczka.mp4: 384x640 3 no_glovess, 1 no_vest, 18.6ms\n",
      "video 4/4 (frame 252/301) f:\\PRACA_MAGISTERSKA\\DATASETS\\PREDYKCJA\\videos\\taczka.mp4: 384x640 4 no_glovess, 18.6ms\n",
      "video 4/4 (frame 253/301) f:\\PRACA_MAGISTERSKA\\DATASETS\\PREDYKCJA\\videos\\taczka.mp4: 384x640 3 no_glovess, 1 no_vest, 18.6ms\n",
      "video 4/4 (frame 254/301) f:\\PRACA_MAGISTERSKA\\DATASETS\\PREDYKCJA\\videos\\taczka.mp4: 384x640 4 no_glovess, 1 no_vest, 18.6ms\n",
      "video 4/4 (frame 255/301) f:\\PRACA_MAGISTERSKA\\DATASETS\\PREDYKCJA\\videos\\taczka.mp4: 384x640 4 no_glovess, 18.6ms\n",
      "video 4/4 (frame 256/301) f:\\PRACA_MAGISTERSKA\\DATASETS\\PREDYKCJA\\videos\\taczka.mp4: 384x640 4 no_glovess, 1 no_vest, 18.6ms\n",
      "video 4/4 (frame 257/301) f:\\PRACA_MAGISTERSKA\\DATASETS\\PREDYKCJA\\videos\\taczka.mp4: 384x640 4 no_glovess, 1 no_vest, 18.6ms\n",
      "video 4/4 (frame 258/301) f:\\PRACA_MAGISTERSKA\\DATASETS\\PREDYKCJA\\videos\\taczka.mp4: 384x640 4 no_glovess, 1 no_vest, 18.6ms\n",
      "video 4/4 (frame 259/301) f:\\PRACA_MAGISTERSKA\\DATASETS\\PREDYKCJA\\videos\\taczka.mp4: 384x640 4 no_glovess, 1 no_vest, 18.6ms\n",
      "video 4/4 (frame 260/301) f:\\PRACA_MAGISTERSKA\\DATASETS\\PREDYKCJA\\videos\\taczka.mp4: 384x640 4 no_glovess, 1 no_vest, 18.6ms\n",
      "video 4/4 (frame 261/301) f:\\PRACA_MAGISTERSKA\\DATASETS\\PREDYKCJA\\videos\\taczka.mp4: 384x640 4 no_glovess, 1 no_vest, 18.6ms\n",
      "video 4/4 (frame 262/301) f:\\PRACA_MAGISTERSKA\\DATASETS\\PREDYKCJA\\videos\\taczka.mp4: 384x640 4 no_glovess, 18.6ms\n",
      "video 4/4 (frame 263/301) f:\\PRACA_MAGISTERSKA\\DATASETS\\PREDYKCJA\\videos\\taczka.mp4: 384x640 4 no_glovess, 18.6ms\n",
      "video 4/4 (frame 264/301) f:\\PRACA_MAGISTERSKA\\DATASETS\\PREDYKCJA\\videos\\taczka.mp4: 384x640 5 no_glovess, 18.6ms\n",
      "video 4/4 (frame 265/301) f:\\PRACA_MAGISTERSKA\\DATASETS\\PREDYKCJA\\videos\\taczka.mp4: 384x640 4 no_glovess, 18.6ms\n",
      "video 4/4 (frame 266/301) f:\\PRACA_MAGISTERSKA\\DATASETS\\PREDYKCJA\\videos\\taczka.mp4: 384x640 4 no_glovess, 18.6ms\n",
      "video 4/4 (frame 267/301) f:\\PRACA_MAGISTERSKA\\DATASETS\\PREDYKCJA\\videos\\taczka.mp4: 384x640 4 no_glovess, 18.6ms\n",
      "video 4/4 (frame 268/301) f:\\PRACA_MAGISTERSKA\\DATASETS\\PREDYKCJA\\videos\\taczka.mp4: 384x640 4 no_glovess, 18.6ms\n",
      "video 4/4 (frame 269/301) f:\\PRACA_MAGISTERSKA\\DATASETS\\PREDYKCJA\\videos\\taczka.mp4: 384x640 5 no_glovess, 18.6ms\n",
      "video 4/4 (frame 270/301) f:\\PRACA_MAGISTERSKA\\DATASETS\\PREDYKCJA\\videos\\taczka.mp4: 384x640 4 no_glovess, 18.6ms\n",
      "video 4/4 (frame 271/301) f:\\PRACA_MAGISTERSKA\\DATASETS\\PREDYKCJA\\videos\\taczka.mp4: 384x640 4 no_glovess, 18.6ms\n",
      "video 4/4 (frame 272/301) f:\\PRACA_MAGISTERSKA\\DATASETS\\PREDYKCJA\\videos\\taczka.mp4: 384x640 4 no_glovess, 18.6ms\n",
      "video 4/4 (frame 273/301) f:\\PRACA_MAGISTERSKA\\DATASETS\\PREDYKCJA\\videos\\taczka.mp4: 384x640 3 no_glovess, 18.6ms\n",
      "video 4/4 (frame 274/301) f:\\PRACA_MAGISTERSKA\\DATASETS\\PREDYKCJA\\videos\\taczka.mp4: 384x640 3 no_glovess, 18.6ms\n",
      "video 4/4 (frame 275/301) f:\\PRACA_MAGISTERSKA\\DATASETS\\PREDYKCJA\\videos\\taczka.mp4: 384x640 3 no_glovess, 1 no_vest, 18.6ms\n",
      "video 4/4 (frame 276/301) f:\\PRACA_MAGISTERSKA\\DATASETS\\PREDYKCJA\\videos\\taczka.mp4: 384x640 3 no_glovess, 18.6ms\n",
      "video 4/4 (frame 277/301) f:\\PRACA_MAGISTERSKA\\DATASETS\\PREDYKCJA\\videos\\taczka.mp4: 384x640 3 no_glovess, 18.6ms\n",
      "video 4/4 (frame 278/301) f:\\PRACA_MAGISTERSKA\\DATASETS\\PREDYKCJA\\videos\\taczka.mp4: 384x640 3 no_glovess, 1 no_vest, 18.6ms\n",
      "video 4/4 (frame 279/301) f:\\PRACA_MAGISTERSKA\\DATASETS\\PREDYKCJA\\videos\\taczka.mp4: 384x640 3 no_glovess, 1 no_vest, 19.0ms\n",
      "video 4/4 (frame 280/301) f:\\PRACA_MAGISTERSKA\\DATASETS\\PREDYKCJA\\videos\\taczka.mp4: 384x640 3 no_glovess, 1 no_vest, 19.0ms\n",
      "video 4/4 (frame 281/301) f:\\PRACA_MAGISTERSKA\\DATASETS\\PREDYKCJA\\videos\\taczka.mp4: 384x640 2 no_glovess, 1 no_vest, 19.0ms\n",
      "video 4/4 (frame 282/301) f:\\PRACA_MAGISTERSKA\\DATASETS\\PREDYKCJA\\videos\\taczka.mp4: 384x640 2 no_glovess, 1 no_vest, 19.0ms\n",
      "video 4/4 (frame 283/301) f:\\PRACA_MAGISTERSKA\\DATASETS\\PREDYKCJA\\videos\\taczka.mp4: 384x640 3 no_glovess, 1 no_vest, 19.0ms\n",
      "video 4/4 (frame 284/301) f:\\PRACA_MAGISTERSKA\\DATASETS\\PREDYKCJA\\videos\\taczka.mp4: 384x640 2 no_glovess, 1 no_vest, 19.0ms\n",
      "video 4/4 (frame 285/301) f:\\PRACA_MAGISTERSKA\\DATASETS\\PREDYKCJA\\videos\\taczka.mp4: 384x640 2 no_glovess, 1 no_vest, 19.0ms\n",
      "video 4/4 (frame 286/301) f:\\PRACA_MAGISTERSKA\\DATASETS\\PREDYKCJA\\videos\\taczka.mp4: 384x640 2 no_glovess, 1 no_vest, 19.0ms\n",
      "video 4/4 (frame 287/301) f:\\PRACA_MAGISTERSKA\\DATASETS\\PREDYKCJA\\videos\\taczka.mp4: 384x640 2 no_glovess, 1 no_vest, 19.0ms\n",
      "video 4/4 (frame 288/301) f:\\PRACA_MAGISTERSKA\\DATASETS\\PREDYKCJA\\videos\\taczka.mp4: 384x640 2 no_glovess, 2 no_vests, 19.0ms\n",
      "video 4/4 (frame 289/301) f:\\PRACA_MAGISTERSKA\\DATASETS\\PREDYKCJA\\videos\\taczka.mp4: 384x640 2 no_glovess, 2 no_vests, 19.0ms\n",
      "video 4/4 (frame 290/301) f:\\PRACA_MAGISTERSKA\\DATASETS\\PREDYKCJA\\videos\\taczka.mp4: 384x640 3 no_glovess, 2 no_vests, 19.0ms\n",
      "video 4/4 (frame 291/301) f:\\PRACA_MAGISTERSKA\\DATASETS\\PREDYKCJA\\videos\\taczka.mp4: 384x640 2 no_glovess, 3 no_vests, 19.0ms\n",
      "video 4/4 (frame 292/301) f:\\PRACA_MAGISTERSKA\\DATASETS\\PREDYKCJA\\videos\\taczka.mp4: 384x640 2 no_glovess, 2 no_vests, 19.0ms\n",
      "video 4/4 (frame 293/301) f:\\PRACA_MAGISTERSKA\\DATASETS\\PREDYKCJA\\videos\\taczka.mp4: 384x640 2 no_glovess, 1 no_vest, 19.0ms\n",
      "video 4/4 (frame 294/301) f:\\PRACA_MAGISTERSKA\\DATASETS\\PREDYKCJA\\videos\\taczka.mp4: 384x640 2 no_glovess, 2 no_vests, 19.0ms\n",
      "video 4/4 (frame 295/301) f:\\PRACA_MAGISTERSKA\\DATASETS\\PREDYKCJA\\videos\\taczka.mp4: 384x640 2 no_glovess, 2 no_vests, 19.0ms\n",
      "video 4/4 (frame 296/301) f:\\PRACA_MAGISTERSKA\\DATASETS\\PREDYKCJA\\videos\\taczka.mp4: 384x640 2 no_glovess, 2 no_vests, 19.0ms\n",
      "video 4/4 (frame 297/301) f:\\PRACA_MAGISTERSKA\\DATASETS\\PREDYKCJA\\videos\\taczka.mp4: 384x640 2 no_glovess, 3 no_vests, 19.0ms\n",
      "video 4/4 (frame 298/301) f:\\PRACA_MAGISTERSKA\\DATASETS\\PREDYKCJA\\videos\\taczka.mp4: 384x640 2 no_glovess, 2 no_vests, 19.0ms\n",
      "video 4/4 (frame 299/301) f:\\PRACA_MAGISTERSKA\\DATASETS\\PREDYKCJA\\videos\\taczka.mp4: 384x640 2 no_glovess, 3 no_vests, 19.0ms\n",
      "video 4/4 (frame 300/301) f:\\PRACA_MAGISTERSKA\\DATASETS\\PREDYKCJA\\videos\\taczka.mp4: 384x640 2 no_glovess, 2 no_vests, 19.0ms\n",
      "Speed: 2.1ms preprocess, 20.8ms inference, 0.6ms postprocess per image at shape (64, 3, 384, 640)\n",
      "Results saved to \u001b[1mruns\\detect\\predict22\u001b[0m\n"
     ]
    }
   ],
   "source": [
    "model = YOLO('runs/detect/dataset-v2-finetune-1/weights/epoch70.pt')\n",
    "start_time = time.time()\n",
    "results = model.predict(source=\"/PRACA_MAGISTERSKA/DATASETS/PREDYKCJA/videos\", show=False, device=0, save=True, show_conf=False, show_labels=False, conf=0.334, batch=64)\n",
    "end_time = time.time()"
   ]
  },
  {
   "cell_type": "code",
   "execution_count": 5,
   "id": "5e824b8a-8fc1-42d5-9623-05634c5cec11",
   "metadata": {},
   "outputs": [],
   "source": [
    "frame_count=1432\n",
    "total_time = end_time - start_time\n",
    "avg_fps = frame_count / total_time if total_time > 0 else 0"
   ]
  },
  {
   "cell_type": "code",
   "execution_count": 6,
   "id": "002506ea-80ed-4b14-9d0a-ee0c59a47169",
   "metadata": {},
   "outputs": [
    {
     "data": {
      "text/plain": [
       "31.768912454596983"
      ]
     },
     "execution_count": 6,
     "metadata": {},
     "output_type": "execute_result"
    }
   ],
   "source": [
    "avg_fps"
   ]
  },
  {
   "cell_type": "code",
   "execution_count": 2,
   "id": "0c4086d8-a7dd-45c3-ae60-5f3dc8adb544",
   "metadata": {},
   "outputs": [
    {
     "name": "stdout",
     "output_type": "stream",
     "text": [
      "Ultralytics 8.3.82  Python-3.11.11 torch-2.5.1 CUDA:0 (NVIDIA GeForce RTX 3060, 12288MiB)\n",
      "YOLOv10x summary (fused): 215 layers, 31,591,784 parameters, 0 gradients, 169.8 GFLOPs\n"
     ]
    },
    {
     "name": "stderr",
     "output_type": "stream",
     "text": [
      "\u001b[34m\u001b[1mval: \u001b[0mScanning F:\\PRACA_MAGISTERSKA\\DATASETS\\MAGISTERKA-V2\\labels\\val.cache... 679 images, 154 backgrounds, 0 corrupt: 1\u001b[0m\n",
      "                 Class     Images  Instances      Box(P          R      mAP50  mAP50-95): 100%|██████████| 43/43 [00:20\n"
     ]
    },
    {
     "name": "stdout",
     "output_type": "stream",
     "text": [
      "                   all        679       3388      0.938      0.918       0.95      0.649\n",
      "            no_glasses        407        605      0.931      0.893      0.939      0.588\n",
      "             no_gloves        472       1207      0.923        0.9      0.932      0.628\n",
      "             no_helmet        449        760      0.944      0.936      0.961      0.646\n",
      "               no_vest        481        816      0.954      0.944      0.967      0.732\n",
      "Speed: 0.2ms preprocess, 24.2ms inference, 0.0ms loss, 0.2ms postprocess per image\n",
      "Results saved to \u001b[1mruns\\detect\\val9\u001b[0m\n"
     ]
    },
    {
     "data": {
      "text/plain": [
       "array([    0.58791,     0.62832,     0.64639,     0.73183])"
      ]
     },
     "execution_count": 2,
     "metadata": {},
     "output_type": "execute_result"
    }
   ],
   "source": [
    "# Load a model\n",
    "model = YOLO('runs/detect/dataset-v2-finetune-1/weights/epoch70.pt')\n",
    "\n",
    "# Validate a model\n",
    "metrics = model.val(iou=0.6, conf=0.334, device=0)   # no arguments needed, dataset and settings remembered\n",
    "metrics.box.map         # map50-95\n",
    "metrics.box.map50       # map50\n",
    "metrics.box.map75       # map75\n",
    "metrics.box.maps        # a list contains map50-95 of each category"
   ]
  },
  {
   "cell_type": "code",
   "execution_count": null,
   "id": "6839e24a-3bab-4fc1-b039-4c2403a8f0fb",
   "metadata": {},
   "outputs": [],
   "source": []
  }
 ],
 "metadata": {
  "kernelspec": {
   "display_name": "Python 3 (ipykernel)",
   "language": "python",
   "name": "python3"
  },
  "language_info": {
   "codemirror_mode": {
    "name": "ipython",
    "version": 3
   },
   "file_extension": ".py",
   "mimetype": "text/x-python",
   "name": "python",
   "nbconvert_exporter": "python",
   "pygments_lexer": "ipython3",
   "version": "3.11.11"
  }
 },
 "nbformat": 4,
 "nbformat_minor": 5
}
